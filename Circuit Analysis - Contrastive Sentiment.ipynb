{
  "cells": [
    {
      "attachments": {},
      "cell_type": "markdown",
      "metadata": {
        "id": "CbZUo-Tev4QM"
      },
      "source": [
        "# Initial Exploratory Analysis"
      ]
    },
    {
      "attachments": {},
      "cell_type": "markdown",
      "metadata": {
        "id": "5vLV3GuDd415"
      },
      "source": [
        "## Setup"
      ]
    },
    {
      "cell_type": "code",
      "execution_count": 1,
      "metadata": {},
      "outputs": [],
      "source": [
        "from IPython import get_ipython\n",
        "ipython = get_ipython()\n",
        "ipython.run_line_magic(\"load_ext\", \"autoreload\")\n",
        "ipython.run_line_magic(\"autoreload\", \"2\")"
      ]
    },
    {
      "cell_type": "code",
      "execution_count": 2,
      "metadata": {
        "id": "8QQvkqmWcB2v"
      },
      "outputs": [],
      "source": [
        "import os\n",
        "import pathlib\n",
        "from typing import List, Optional, Union\n",
        "\n",
        "import torch\n",
        "import numpy as np\n",
        "import yaml\n",
        "\n",
        "import einops\n",
        "from fancy_einsum import einsum\n",
        "\n",
        "from datasets import load_dataset\n",
        "#from transformers import pipeline\n",
        "\n",
        "import transformers\n",
        "import circuitsvis as cv\n",
        "from transformers import AutoConfig, AutoModel, AutoModelForCausalLM\n",
        "import transformer_lens\n",
        "import transformer_lens.utils as utils\n",
        "from transformer_lens.hook_points import (\n",
        "    HookedRootModule,\n",
        "    HookPoint,\n",
        ")  # Hooking utilities\n",
        "from transformer_lens import HookedTransformer, HookedTransformerConfig, FactoredMatrix, ActivationCache\n",
        "\n",
        "from torch import Tensor\n",
        "from tqdm.notebook import tqdm\n",
        "from jaxtyping import Float, Int, Bool\n",
        "from typing import List, Optional, Callable, Tuple, Dict, Literal, Set\n",
        "from rich import print as rprint\n",
        "\n",
        "from typing import List, Union\n",
        "import plotly.express as px\n",
        "import plotly.graph_objects as go\n",
        "from plotly.subplots import make_subplots\n",
        "import re\n",
        "\n",
        "from functools import partial\n",
        "\n",
        "from torchtyping import TensorType as TT\n",
        "\n",
        "from path_patching import Node, IterNode, path_patch, act_patch"
      ]
    },
    {
      "cell_type": "code",
      "execution_count": 3,
      "metadata": {},
      "outputs": [],
      "source": [
        "torch.set_grad_enabled(False)\n",
        "\n",
        "device = torch.device(\"cuda\") if torch.cuda.is_available() else torch.device(\"cpu\")"
      ]
    },
    {
      "cell_type": "code",
      "execution_count": 4,
      "metadata": {},
      "outputs": [],
      "source": [
        "update_layout_set = {\n",
        "    \"xaxis_range\", \"yaxis_range\", \"hovermode\", \"xaxis_title\", \"yaxis_title\", \"colorbar\", \"colorscale\", \"coloraxis\", \"title_x\", \"bargap\", \"bargroupgap\", \"xaxis_tickformat\",\n",
        "    \"yaxis_tickformat\", \"title_y\", \"legend_title_text\", \"xaxis_showgrid\", \"xaxis_gridwidth\", \"xaxis_gridcolor\", \"yaxis_showgrid\", \"yaxis_gridwidth\", \"yaxis_gridcolor\",\n",
        "    \"showlegend\", \"xaxis_tickmode\", \"yaxis_tickmode\", \"xaxis_tickangle\", \"yaxis_tickangle\", \"margin\", \"xaxis_visible\", \"yaxis_visible\", \"bargap\", \"bargroupgap\"\n",
        "}\n",
        "\n",
        "def imshow_p(tensor, renderer=None, **kwargs):\n",
        "    kwargs_post = {k: v for k, v in kwargs.items() if k in update_layout_set}\n",
        "    kwargs_pre = {k: v for k, v in kwargs.items() if k not in update_layout_set}\n",
        "    facet_labels = kwargs_pre.pop(\"facet_labels\", None)\n",
        "    border = kwargs_pre.pop(\"border\", False)\n",
        "    if \"color_continuous_scale\" not in kwargs_pre:\n",
        "        kwargs_pre[\"color_continuous_scale\"] = \"RdBu\"\n",
        "    if \"margin\" in kwargs_post and isinstance(kwargs_post[\"margin\"], int):\n",
        "        kwargs_post[\"margin\"] = dict.fromkeys(list(\"tblr\"), kwargs_post[\"margin\"])\n",
        "    fig = px.imshow(utils.to_numpy(tensor), color_continuous_midpoint=0.0, **kwargs_pre)\n",
        "    if facet_labels:\n",
        "        for i, label in enumerate(facet_labels):\n",
        "            fig.layout.annotations[i]['text'] = label\n",
        "    if border:\n",
        "        fig.update_xaxes(showline=True, linewidth=1, linecolor='black', mirror=True)\n",
        "        fig.update_yaxes(showline=True, linewidth=1, linecolor='black', mirror=True)\n",
        "    # things like `xaxis_tickmode` should be applied to all subplots. This is super janky lol but I'm under time pressure\n",
        "    for setting in [\"tickangle\"]:\n",
        "      if f\"xaxis_{setting}\" in kwargs_post:\n",
        "          i = 2\n",
        "          while f\"xaxis{i}\" in fig[\"layout\"]:\n",
        "            kwargs_post[f\"xaxis{i}_{setting}\"] = kwargs_post[f\"xaxis_{setting}\"]\n",
        "            i += 1\n",
        "    fig.update_layout(**kwargs_post)\n",
        "    fig.show(renderer=renderer)\n",
        "\n",
        "def hist_p(tensor, renderer=None, **kwargs):\n",
        "    kwargs_post = {k: v for k, v in kwargs.items() if k in update_layout_set}\n",
        "    kwargs_pre = {k: v for k, v in kwargs.items() if k not in update_layout_set}\n",
        "    names = kwargs_pre.pop(\"names\", None)\n",
        "    if \"barmode\" not in kwargs_post:\n",
        "        kwargs_post[\"barmode\"] = \"overlay\"\n",
        "    if \"bargap\" not in kwargs_post:\n",
        "        kwargs_post[\"bargap\"] = 0.0\n",
        "    if \"margin\" in kwargs_post and isinstance(kwargs_post[\"margin\"], int):\n",
        "        kwargs_post[\"margin\"] = dict.fromkeys(list(\"tblr\"), kwargs_post[\"margin\"])\n",
        "    fig = px.histogram(x=tensor, **kwargs_pre).update_layout(**kwargs_post)\n",
        "    if names is not None:\n",
        "        for i in range(len(fig.data)):\n",
        "            fig.data[i][\"name\"] = names[i // 2]\n",
        "    fig.show(renderer)"
      ]
    },
    {
      "cell_type": "code",
      "execution_count": 5,
      "metadata": {
        "id": "0c0JbzPpI0-D"
      },
      "outputs": [],
      "source": [
        "def imshow(tensor, renderer=None, xaxis=\"\", yaxis=\"\", **kwargs):\n",
        "    px.imshow(utils.to_numpy(tensor), color_continuous_midpoint=0.0, color_continuous_scale=\"RdBu\", labels={\"x\":xaxis, \"y\":yaxis}, **kwargs).show(renderer)\n",
        "\n",
        "def line(tensor, renderer=None, **kwargs):\n",
        "    px.line(y=utils.to_numpy(tensor), **kwargs).show(renderer)\n",
        "\n",
        "def two_lines(tensor1, tensor2, renderer=None, **kwargs):\n",
        "    px.line(y=[utils.to_numpy(tensor1), utils.to_numpy(tensor2)], **kwargs).show(renderer)\n",
        "\n",
        "def scatter(x, y, xaxis=\"\", yaxis=\"\", caxis=\"\", renderer=None, **kwargs):\n",
        "    x = utils.to_numpy(x)\n",
        "    y = utils.to_numpy(y)\n",
        "    px.scatter(y=y, x=x, labels={\"x\":xaxis, \"y\":yaxis, \"color\":caxis}, **kwargs).show(renderer)"
      ]
    },
    {
      "cell_type": "code",
      "execution_count": 6,
      "metadata": {},
      "outputs": [],
      "source": [
        "def get_logit_diff(logits, answer_token_indices, per_prompt=False):\n",
        "    \"\"\"Gets the difference between the logits of the provided tokens (e.g., the correct and incorrect tokens in IOI)\n",
        "\n",
        "    Args:\n",
        "        logits (torch.Tensor): Logits to use.\n",
        "        answer_token_indices (torch.Tensor): Indices of the tokens to compare.\n",
        "\n",
        "    Returns:\n",
        "        torch.Tensor: Difference between the logits of the provided tokens.\n",
        "    \"\"\"\n",
        "    if len(logits.shape) == 3:\n",
        "        # Get final logits only\n",
        "        logits = logits[:, -1, :]\n",
        "    left_logits = logits.gather(1, answer_token_indices[:, 0].unsqueeze(1))\n",
        "    right_logits = logits.gather(1, answer_token_indices[:, 1].unsqueeze(1))\n",
        "    if per_prompt:\n",
        "        print(left_logits - right_logits)\n",
        "\n",
        "    return (left_logits - right_logits).mean()\n",
        "\n"
      ]
    },
    {
      "attachments": {},
      "cell_type": "markdown",
      "metadata": {
        "id": "y5jV1EnY0dpf"
      },
      "source": [
        "## Exploratory Analysis\n"
      ]
    },
    {
      "cell_type": "code",
      "execution_count": 7,
      "metadata": {
        "colab": {
          "base_uri": "https://localhost:8080/"
        },
        "id": "bjeWvBNOn2VT",
        "outputId": "dff069ed-56d5-414d-d649-2c70f073b1fc"
      },
      "outputs": [
        {
          "name": "stderr",
          "output_type": "stream",
          "text": [
            "Using pad_token, but it is not set yet.\n"
          ]
        },
        {
          "name": "stdout",
          "output_type": "stream",
          "text": [
            "Loaded pretrained model gpt2-small into HookedTransformer\n"
          ]
        }
      ],
      "source": [
        "#source_model = AutoModelForCausalLM.from_pretrained(\"lvwerra/gpt2-imdb\")\n",
        "#rlhf_model = AutoModelForCausalLM.from_pretrained(\"curt-tigges/gpt2-negative-movie-reviews\")\n",
        "\n",
        "#hooked_source_model = HookedTransformer.from_pretrained(model_name=\"gpt2\", hf_model=source_model)\n",
        "#model = HookedTransformer.from_pretrained(model_name=\"EleutherAI/pythia-410m\")\n",
        "model = HookedTransformer.from_pretrained(\n",
        "    \"gpt2-small\",\n",
        "    center_unembed=True,\n",
        "    center_writing_weights=True,\n",
        "    fold_ln=True,\n",
        "    refactor_factored_attn_matrices=True,\n",
        ")"
      ]
    },
    {
      "attachments": {},
      "cell_type": "markdown",
      "metadata": {},
      "source": [
        "### Initial Examination"
      ]
    },
    {
      "cell_type": "code",
      "execution_count": 8,
      "metadata": {},
      "outputs": [],
      "source": [
        "example_prompt = \"I thought this movie was lousy. I hated it, even though the sequel was fantastic. \\nConclusion: This movie is\"\n",
        "example_answer = \" amazing\""
      ]
    },
    {
      "cell_type": "code",
      "execution_count": 9,
      "metadata": {},
      "outputs": [
        {
          "name": "stdout",
          "output_type": "stream",
          "text": [
            "Tokenized prompt: ['<|endoftext|>', 'I', ' thought', ' this', ' movie', ' was', ' lousy', '.', ' I', ' hated', ' it', ',', ' even', ' though', ' the', ' sequel', ' was', ' fantastic', '.', ' ', '\\n', 'Conclusion', ':', ' This', ' movie', ' is']\n",
            "Tokenized answer: [' amazing']\n"
          ]
        },
        {
          "data": {
            "text/html": [
              "<pre style=\"white-space:pre;overflow-x:auto;line-height:normal;font-family:Menlo,'DejaVu Sans Mono',consolas,'Courier New',monospace\">Performance on answer token:\n",
              "<span style=\"font-weight: bold\">Rank: </span><span style=\"color: #008080; text-decoration-color: #008080; font-weight: bold\">31</span><span style=\"font-weight: bold\">       Logit: </span><span style=\"color: #008080; text-decoration-color: #008080; font-weight: bold\">12.17</span><span style=\"font-weight: bold\"> Prob:  </span><span style=\"color: #008080; text-decoration-color: #008080; font-weight: bold\">0.59</span><span style=\"font-weight: bold\">% Token: | amazing|</span>\n",
              "</pre>\n"
            ],
            "text/plain": [
              "Performance on answer token:\n",
              "\u001b[1mRank: \u001b[0m\u001b[1;36m31\u001b[0m\u001b[1m       Logit: \u001b[0m\u001b[1;36m12.17\u001b[0m\u001b[1m Prob:  \u001b[0m\u001b[1;36m0.59\u001b[0m\u001b[1m% Token: | amazing|\u001b[0m\n"
            ]
          },
          "metadata": {},
          "output_type": "display_data"
        },
        {
          "name": "stdout",
          "output_type": "stream",
          "text": [
            "Top 0th token. Logit: 15.14 Prob: 11.53% Token: | a|\n",
            "Top 1th token. Logit: 14.09 Prob:  4.03% Token: | terrible|\n",
            "Top 2th token. Logit: 13.98 Prob:  3.60% Token: | not|\n",
            "Top 3th token. Logit: 13.88 Prob:  3.24% Token: | so|\n",
            "Top 4th token. Logit: 13.83 Prob:  3.10% Token: | bad|\n",
            "Top 5th token. Logit: 13.75 Prob:  2.87% Token: | awful|\n",
            "Top 6th token. Logit: 13.46 Prob:  2.15% Token: | the|\n",
            "Top 7th token. Logit: 13.43 Prob:  2.09% Token: | great|\n",
            "Top 8th token. Logit: 13.34 Prob:  1.90% Token: | just|\n",
            "Top 9th token. Logit: 13.24 Prob:  1.72% Token: | one|\n"
          ]
        },
        {
          "data": {
            "text/html": [
              "<pre style=\"white-space:pre;overflow-x:auto;line-height:normal;font-family:Menlo,'DejaVu Sans Mono',consolas,'Courier New',monospace\"><span style=\"font-weight: bold\">Ranks of the answer tokens:</span> <span style=\"font-weight: bold\">[(</span><span style=\"color: #008000; text-decoration-color: #008000\">' amazing'</span>, <span style=\"color: #008080; text-decoration-color: #008080; font-weight: bold\">31</span><span style=\"font-weight: bold\">)]</span>\n",
              "</pre>\n"
            ],
            "text/plain": [
              "\u001b[1mRanks of the answer tokens:\u001b[0m \u001b[1m[\u001b[0m\u001b[1m(\u001b[0m\u001b[32m' amazing'\u001b[0m, \u001b[1;36m31\u001b[0m\u001b[1m)\u001b[0m\u001b[1m]\u001b[0m\n"
            ]
          },
          "metadata": {},
          "output_type": "display_data"
        }
      ],
      "source": [
        "utils.test_prompt(example_prompt, example_answer, model, prepend_bos=True, top_k=10)"
      ]
    },
    {
      "cell_type": "code",
      "execution_count": 10,
      "metadata": {},
      "outputs": [
        {
          "name": "stdout",
          "output_type": "stream",
          "text": [
            "Tokenized prompt: ['<|endoftext|>', 'I', ' thought', ' this', ' movie', ' was', ' amazing', '.', ' I', ' loved', ' it', ',', ' even', ' though', ' the', ' sequel', ' was', ' lousy', '.', ' ', '\\n', 'Conclusion', ':', ' This', ' movie', ' is']\n",
            "Tokenized answer: [' amazing']\n"
          ]
        },
        {
          "data": {
            "text/html": [
              "<pre style=\"white-space:pre;overflow-x:auto;line-height:normal;font-family:Menlo,'DejaVu Sans Mono',consolas,'Courier New',monospace\">Performance on answer token:\n",
              "<span style=\"font-weight: bold\">Rank: </span><span style=\"color: #008080; text-decoration-color: #008080; font-weight: bold\">3</span><span style=\"font-weight: bold\">        Logit: </span><span style=\"color: #008080; text-decoration-color: #008080; font-weight: bold\">14.26</span><span style=\"font-weight: bold\"> Prob:  </span><span style=\"color: #008080; text-decoration-color: #008080; font-weight: bold\">3.80</span><span style=\"font-weight: bold\">% Token: | amazing|</span>\n",
              "</pre>\n"
            ],
            "text/plain": [
              "Performance on answer token:\n",
              "\u001b[1mRank: \u001b[0m\u001b[1;36m3\u001b[0m\u001b[1m        Logit: \u001b[0m\u001b[1;36m14.26\u001b[0m\u001b[1m Prob:  \u001b[0m\u001b[1;36m3.80\u001b[0m\u001b[1m% Token: | amazing|\u001b[0m\n"
            ]
          },
          "metadata": {},
          "output_type": "display_data"
        },
        {
          "name": "stdout",
          "output_type": "stream",
          "text": [
            "Top 0th token. Logit: 15.41 Prob: 12.00% Token: | a|\n",
            "Top 1th token. Logit: 14.45 Prob:  4.59% Token: | so|\n",
            "Top 2th token. Logit: 14.35 Prob:  4.14% Token: | great|\n",
            "Top 3th token. Logit: 14.26 Prob:  3.80% Token: | amazing|\n",
            "Top 4th token. Logit: 14.12 Prob:  3.29% Token: | awesome|\n",
            "Top 5th token. Logit: 14.02 Prob:  2.97% Token: | not|\n",
            "Top 6th token. Logit: 14.00 Prob:  2.93% Token: | one|\n",
            "Top 7th token. Logit: 13.95 Prob:  2.79% Token: | the|\n",
            "Top 8th token. Logit: 13.84 Prob:  2.47% Token: | really|\n",
            "Top 9th token. Logit: 13.75 Prob:  2.26% Token: | just|\n"
          ]
        },
        {
          "data": {
            "text/html": [
              "<pre style=\"white-space:pre;overflow-x:auto;line-height:normal;font-family:Menlo,'DejaVu Sans Mono',consolas,'Courier New',monospace\"><span style=\"font-weight: bold\">Ranks of the answer tokens:</span> <span style=\"font-weight: bold\">[(</span><span style=\"color: #008000; text-decoration-color: #008000\">' amazing'</span>, <span style=\"color: #008080; text-decoration-color: #008080; font-weight: bold\">3</span><span style=\"font-weight: bold\">)]</span>\n",
              "</pre>\n"
            ],
            "text/plain": [
              "\u001b[1mRanks of the answer tokens:\u001b[0m \u001b[1m[\u001b[0m\u001b[1m(\u001b[0m\u001b[32m' amazing'\u001b[0m, \u001b[1;36m3\u001b[0m\u001b[1m)\u001b[0m\u001b[1m]\u001b[0m\n"
            ]
          },
          "metadata": {},
          "output_type": "display_data"
        }
      ],
      "source": [
        "example_prompt = \"I thought this movie was amazing. I loved it, even though the sequel was lousy. \\nConclusion: This movie is\"\n",
        "example_answer = \" amazing\"\n",
        "utils.test_prompt(example_prompt, example_answer, model, prepend_bos=True, top_k=10)"
      ]
    },
    {
      "attachments": {},
      "cell_type": "markdown",
      "metadata": {},
      "source": [
        "### Dataset Construction"
      ]
    },
    {
      "cell_type": "code",
      "execution_count": 11,
      "metadata": {},
      "outputs": [
        {
          "data": {
            "text/plain": [
              "(27, 26)"
            ]
          },
          "execution_count": 11,
          "metadata": {},
          "output_type": "execute_result"
        }
      ],
      "source": [
        "positive_adjectives = [\n",
        "    ' perfect', ' fantastic',' delightful',' cheerful',' marvelous',' good',' remarkable',' wonderful',\n",
        "    ' fabulous',' outstanding',' awesome',' exceptional',' incredible',' extraordinary',\n",
        "    ' amazing',' lovely',' brilliant',' charming',' terrific',' superb',' spectacular',' great',' splendid',\n",
        "    ' beautiful',' joyful',' positive',' excellent'\n",
        "    ]\n",
        "\n",
        "negative_adjectives = [\n",
        "    ' dreadful',' bad',' dull',' depressing',' miserable',' tragic',' nasty',' inferior',' horrific',' terrible',\n",
        "    ' ugly',' disgusting',' disastrous',' horrendous',' annoying',' boring',' offensive',' frustrating',' wretched',' dire',\n",
        "    ' awful',' unpleasant',' horrible',' mediocre',' disappointing',' inadequate'\n",
        "    ]\n",
        "\n",
        "#negative_adjectives = [' lousy', ' dire', ' bad', ' nasty', ' miserable', ' wretched', ' disgusting', ' ugly', ' disastrous', ' tragic']\n",
        "\n",
        "len(positive_adjectives), len(negative_adjectives)\n"
      ]
    },
    {
      "cell_type": "code",
      "execution_count": 12,
      "metadata": {},
      "outputs": [],
      "source": [
        "all_prompts = []\n",
        "\n",
        "pos_prompts = [\n",
        "    f\"I thought this movie was{positive_adjectives[i]}. I loved it, even though the sequel was{negative_adjectives[i]}. \\nConclusion: This movie is\" for i in range(len(positive_adjectives)-1)\n",
        "]\n",
        "neg_prompts = [\n",
        "    f\"I thought this movie was{negative_adjectives[i]}. I hated it, even though the sequel was{positive_adjectives[i]}. \\nConclusion: This movie is\" for i in range(len(negative_adjectives)-1)\n",
        "]\n",
        "# List of the token (ie an integer) corresponding to each answer, in the format (correct_token, incorrect_token)\n",
        "answer_tokens = []\n",
        "for i in range(len(pos_prompts)-1):\n",
        "\n",
        "    all_prompts.append(pos_prompts[i])\n",
        "    all_prompts.append(neg_prompts[i])\n",
        "    \n",
        "    answer_tokens.append(\n",
        "        (\n",
        "            model.to_single_token(\" amazing\"),\n",
        "            model.to_single_token(\" terrible\"),\n",
        "        )\n",
        "    )\n",
        "\n",
        "    answer_tokens.append(\n",
        "        (\n",
        "            model.to_single_token(\" terrible\"),\n",
        "            model.to_single_token(\" amazing\"),\n",
        "        )\n",
        "    )\n",
        "\n",
        "answer_tokens = torch.tensor(answer_tokens).to(device)\n",
        "\n",
        "prompts_tokens = model.to_tokens(all_prompts, prepend_bos=True)\n",
        "clean_tokens = prompts_tokens.to(device)\n",
        "\n",
        "corrupted_tokens = model.to_tokens(all_prompts[1:] + [all_prompts[0]], prepend_bos=True)"
      ]
    },
    {
      "cell_type": "code",
      "execution_count": 13,
      "metadata": {},
      "outputs": [
        {
          "name": "stdout",
          "output_type": "stream",
          "text": [
            "I thought this movie was perfect. I loved it, even though the sequel was dreadful. \n",
            "Conclusion: This movie is\n",
            "tensor(0.3927, device='cuda:0')\n",
            "I thought this movie was dreadful. I hated it, even though the sequel was perfect. \n",
            "Conclusion: This movie is\n",
            "tensor(2.2262, device='cuda:0')\n",
            "I thought this movie was fantastic. I loved it, even though the sequel was bad. \n",
            "Conclusion: This movie is\n",
            "tensor(0.8526, device='cuda:0')\n",
            "I thought this movie was bad. I hated it, even though the sequel was fantastic. \n",
            "Conclusion: This movie is\n",
            "tensor(1.7545, device='cuda:0')\n",
            "I thought this movie was delightful. I loved it, even though the sequel was dull. \n",
            "Conclusion: This movie is\n",
            "tensor(0.9129, device='cuda:0')\n",
            "I thought this movie was dull. I hated it, even though the sequel was delightful. \n",
            "Conclusion: This movie is\n",
            "tensor(0.6183, device='cuda:0')\n",
            "I thought this movie was cheerful. I loved it, even though the sequel was depressing. \n",
            "Conclusion: This movie is\n",
            "tensor(-0.0453, device='cuda:0')\n",
            "I thought this movie was depressing. I hated it, even though the sequel was cheerful. \n",
            "Conclusion: This movie is\n",
            "tensor(1.3960, device='cuda:0')\n",
            "I thought this movie was marvelous. I loved it, even though the sequel was miserable. \n",
            "Conclusion: This movie is\n",
            "tensor(0.8466, device='cuda:0')\n",
            "I thought this movie was miserable. I hated it, even though the sequel was marvelous. \n",
            "Conclusion: This movie is\n",
            "tensor(1.4966, device='cuda:0')\n",
            "I thought this movie was good. I loved it, even though the sequel was tragic. \n",
            "Conclusion: This movie is\n",
            "tensor(-0.3326, device='cuda:0')\n",
            "I thought this movie was tragic. I hated it, even though the sequel was good. \n",
            "Conclusion: This movie is\n",
            "tensor(1.5202, device='cuda:0')\n",
            "I thought this movie was remarkable. I loved it, even though the sequel was nasty. \n",
            "Conclusion: This movie is\n",
            "tensor(1.7288, device='cuda:0')\n",
            "I thought this movie was nasty. I hated it, even though the sequel was remarkable. \n",
            "Conclusion: This movie is\n",
            "tensor(1.5201, device='cuda:0')\n",
            "I thought this movie was wonderful. I loved it, even though the sequel was inferior. \n",
            "Conclusion: This movie is\n",
            "tensor(0.9635, device='cuda:0')\n",
            "I thought this movie was inferior. I hated it, even though the sequel was wonderful. \n",
            "Conclusion: This movie is\n",
            "tensor(0.8867, device='cuda:0')\n",
            "I thought this movie was fabulous. I loved it, even though the sequel was horrific. \n",
            "Conclusion: This movie is\n",
            "tensor(0.6120, device='cuda:0')\n",
            "I thought this movie was horrific. I hated it, even though the sequel was fabulous. \n",
            "Conclusion: This movie is\n",
            "tensor(1.7637, device='cuda:0')\n",
            "I thought this movie was outstanding. I loved it, even though the sequel was terrible. \n",
            "Conclusion: This movie is\n",
            "tensor(1.4001, device='cuda:0')\n",
            "I thought this movie was terrible. I hated it, even though the sequel was outstanding. \n",
            "Conclusion: This movie is\n",
            "tensor(1.7094, device='cuda:0')\n",
            "I thought this movie was awesome. I loved it, even though the sequel was ugly. \n",
            "Conclusion: This movie is\n",
            "tensor(1.1228, device='cuda:0')\n",
            "I thought this movie was ugly. I hated it, even though the sequel was awesome. \n",
            "Conclusion: This movie is\n",
            "tensor(1.4317, device='cuda:0')\n",
            "I thought this movie was exceptional. I loved it, even though the sequel was disgusting. \n",
            "Conclusion: This movie is\n",
            "tensor(0.6878, device='cuda:0')\n",
            "I thought this movie was disgusting. I hated it, even though the sequel was exceptional. \n",
            "Conclusion: This movie is\n",
            "tensor(1.7281, device='cuda:0')\n",
            "I thought this movie was incredible. I loved it, even though the sequel was disastrous. \n",
            "Conclusion: This movie is\n",
            "tensor(1.3287, device='cuda:0')\n",
            "I thought this movie was disastrous. I hated it, even though the sequel was incredible. \n",
            "Conclusion: This movie is\n",
            "tensor(2.1576, device='cuda:0')\n",
            "I thought this movie was extraordinary. I loved it, even though the sequel was horrendous. \n",
            "Conclusion: This movie is\n",
            "tensor(1.5385, device='cuda:0')\n",
            "I thought this movie was horrendous. I hated it, even though the sequel was extraordinary. \n",
            "Conclusion: This movie is\n",
            "tensor(1.7449, device='cuda:0')\n",
            "I thought this movie was amazing. I loved it, even though the sequel was annoying. \n",
            "Conclusion: This movie is\n",
            "tensor(1.8455, device='cuda:0')\n",
            "I thought this movie was annoying. I hated it, even though the sequel was amazing. \n",
            "Conclusion: This movie is\n",
            "tensor(0.7743, device='cuda:0')\n",
            "I thought this movie was lovely. I loved it, even though the sequel was boring. \n",
            "Conclusion: This movie is\n",
            "tensor(0.8089, device='cuda:0')\n",
            "I thought this movie was boring. I hated it, even though the sequel was lovely. \n",
            "Conclusion: This movie is\n",
            "tensor(0.5096, device='cuda:0')\n",
            "I thought this movie was brilliant. I loved it, even though the sequel was offensive. \n",
            "Conclusion: This movie is\n",
            "tensor(0.1168, device='cuda:0')\n",
            "I thought this movie was offensive. I hated it, even though the sequel was brilliant. \n",
            "Conclusion: This movie is\n",
            "tensor(1.8057, device='cuda:0')\n",
            "I thought this movie was charming. I loved it, even though the sequel was frustrating. \n",
            "Conclusion: This movie is\n",
            "tensor(0.7389, device='cuda:0')\n",
            "I thought this movie was frustrating. I hated it, even though the sequel was charming. \n",
            "Conclusion: This movie is\n",
            "tensor(0.7303, device='cuda:0')\n",
            "I thought this movie was terrific. I loved it, even though the sequel was wretched. \n",
            "Conclusion: This movie is\n",
            "tensor(-0.3112, device='cuda:0')\n",
            "I thought this movie was wretched. I hated it, even though the sequel was terrific. \n",
            "Conclusion: This movie is\n",
            "tensor(2.1854, device='cuda:0')\n",
            "I thought this movie was superb. I loved it, even though the sequel was dire. \n",
            "Conclusion: This movie is\n",
            "tensor(0.8425, device='cuda:0')\n",
            "I thought this movie was dire. I hated it, even though the sequel was superb. \n",
            "Conclusion: This movie is\n",
            "tensor(1.4485, device='cuda:0')\n",
            "I thought this movie was spectacular. I loved it, even though the sequel was awful. \n",
            "Conclusion: This movie is\n",
            "tensor(1.3067, device='cuda:0')\n",
            "I thought this movie was awful. I hated it, even though the sequel was spectacular. \n",
            "Conclusion: This movie is\n",
            "tensor(2.0282, device='cuda:0')\n",
            "I thought this movie was great. I loved it, even though the sequel was unpleasant. \n",
            "Conclusion: This movie is\n",
            "tensor(0.0398, device='cuda:0')\n",
            "I thought this movie was unpleasant. I hated it, even though the sequel was great. \n",
            "Conclusion: This movie is\n",
            "tensor(2.1804, device='cuda:0')\n",
            "I thought this movie was splendid. I loved it, even though the sequel was horrible. \n",
            "Conclusion: This movie is\n",
            "tensor(0.5457, device='cuda:0')\n",
            "I thought this movie was horrible. I hated it, even though the sequel was splendid. \n",
            "Conclusion: This movie is\n",
            "tensor(1.9818, device='cuda:0')\n",
            "I thought this movie was beautiful. I loved it, even though the sequel was mediocre. \n",
            "Conclusion: This movie is\n",
            "tensor(1.4419, device='cuda:0')\n",
            "I thought this movie was mediocre. I hated it, even though the sequel was beautiful. \n",
            "Conclusion: This movie is\n",
            "tensor(1.0606, device='cuda:0')\n",
            "I thought this movie was joyful. I loved it, even though the sequel was disappointing. \n",
            "Conclusion: This movie is\n",
            "tensor(1.0559, device='cuda:0')\n",
            "I thought this movie was disappointing. I hated it, even though the sequel was joyful. \n",
            "Conclusion: This movie is\n",
            "tensor(0.9358, device='cuda:0')\n"
          ]
        }
      ],
      "source": [
        "for i in range(len(all_prompts)):\n",
        "    logits, _ = model.run_with_cache(all_prompts[i])\n",
        "    print(all_prompts[i])\n",
        "    print(get_logit_diff(logits, answer_tokens[i].unsqueeze(0)))"
      ]
    },
    {
      "cell_type": "code",
      "execution_count": 14,
      "metadata": {},
      "outputs": [
        {
          "data": {
            "text/plain": [
              "tensor(1.1607, device='cuda:0')"
            ]
          },
          "execution_count": 14,
          "metadata": {},
          "output_type": "execute_result"
        }
      ],
      "source": [
        "clean_logits, clean_cache = model.run_with_cache(clean_tokens)\n",
        "clean_logit_diff = get_logit_diff(clean_logits, answer_tokens, per_prompt=False)\n",
        "clean_logit_diff"
      ]
    },
    {
      "cell_type": "code",
      "execution_count": 15,
      "metadata": {},
      "outputs": [
        {
          "data": {
            "text/plain": [
              "tensor(-1.1607, device='cuda:0')"
            ]
          },
          "execution_count": 15,
          "metadata": {},
          "output_type": "execute_result"
        }
      ],
      "source": [
        "corrupted_logits, corrupted_cache = model.run_with_cache(corrupted_tokens)\n",
        "corrupted_logit_diff = get_logit_diff(corrupted_logits, answer_tokens, per_prompt=False)\n",
        "corrupted_logit_diff"
      ]
    },
    {
      "cell_type": "code",
      "execution_count": 16,
      "metadata": {},
      "outputs": [],
      "source": [
        "def logit_diff_denoising(\n",
        "    logits: Float[Tensor, \"batch seq d_vocab\"],\n",
        "    answer_tokens: Float[Tensor, \"batch 2\"] = answer_tokens,\n",
        "    flipped_logit_diff: float = corrupted_logit_diff,\n",
        "    clean_logit_diff: float = clean_logit_diff,\n",
        ") -> Float[Tensor, \"\"]:\n",
        "    '''\n",
        "    Linear function of logit diff, calibrated so that it equals 0 when performance is\n",
        "    same as on flipped input, and 1 when performance is same as on clean input.\n",
        "    '''\n",
        "    patched_logit_diff = get_logit_diff(logits, answer_tokens)\n",
        "    return ((patched_logit_diff - flipped_logit_diff) / (clean_logit_diff  - flipped_logit_diff)).item()\n",
        "\n",
        "def logit_diff_noising(\n",
        "        logits: Float[Tensor, \"batch seq d_vocab\"],\n",
        "        clean_logit_diff: float = clean_logit_diff,\n",
        "        corrupted_logit_diff: float = corrupted_logit_diff,\n",
        "        answer_tokens: Float[Tensor, \"batch 2\"] = answer_tokens,\n",
        "    ) -> float:\n",
        "        '''\n",
        "        We calibrate this so that the value is 0 when performance isn't harmed (i.e. same as IOI dataset),\n",
        "        and -1 when performance has been destroyed (i.e. is same as ABC dataset).\n",
        "        '''\n",
        "        patched_logit_diff = get_logit_diff(logits, answer_tokens)\n",
        "        return ((patched_logit_diff - clean_logit_diff) / (clean_logit_diff - corrupted_logit_diff)).item()"
      ]
    },
    {
      "attachments": {},
      "cell_type": "markdown",
      "metadata": {
        "id": "TfiWnZtelFMV"
      },
      "source": [
        "### Direct Logit Attribution"
      ]
    },
    {
      "cell_type": "code",
      "execution_count": 17,
      "metadata": {
        "colab": {
          "base_uri": "https://localhost:8080/"
        },
        "id": "bt_jzrazlMAK",
        "outputId": "39683745-1153-4a0f-bdbf-5f3be977abe3"
      },
      "outputs": [
        {
          "name": "stdout",
          "output_type": "stream",
          "text": [
            "Answer residual directions shape: torch.Size([50, 2, 768])\n",
            "Logit difference directions shape: torch.Size([50, 768])\n"
          ]
        }
      ],
      "source": [
        "answer_residual_directions = model.tokens_to_residual_directions(answer_tokens)\n",
        "print(\"Answer residual directions shape:\", answer_residual_directions.shape)\n",
        "logit_diff_directions = answer_residual_directions[:, 0] - answer_residual_directions[:, 1]\n",
        "print(\"Logit difference directions shape:\", logit_diff_directions.shape)"
      ]
    },
    {
      "cell_type": "code",
      "execution_count": 18,
      "metadata": {
        "colab": {
          "base_uri": "https://localhost:8080/"
        },
        "id": "LsDE7VUGIX8l",
        "outputId": "226c2ad4-fb5b-44f4-b872-1d06eee7cbd5"
      },
      "outputs": [
        {
          "name": "stdout",
          "output_type": "stream",
          "text": [
            "Final residual stream shape: torch.Size([50, 26, 768])\n",
            "Calculated average logit diff: 1.1607013940811157\n",
            "Original logit difference: 1.1607023477554321\n"
          ]
        }
      ],
      "source": [
        "# cache syntax - resid_post is the residual stream at the end of the layer, -1 gets the final layer. The general syntax is [activation_name, layer_index, sub_layer_type]. \n",
        "final_residual_stream = clean_cache[\"resid_post\", -1]\n",
        "print(\"Final residual stream shape:\", final_residual_stream.shape)\n",
        "final_token_residual_stream = final_residual_stream[:, -1, :]\n",
        "# Apply LayerNorm scaling\n",
        "# pos_slice is the subset of the positions we take - here the final token of each prompt\n",
        "scaled_final_token_residual_stream = clean_cache.apply_ln_to_stack(final_token_residual_stream, layer = -1, pos_slice=-1)\n",
        "\n",
        "average_logit_diff = einsum(\"batch d_model, batch d_model -> \", scaled_final_token_residual_stream, logit_diff_directions)/len(all_prompts)\n",
        "print(\"Calculated average logit diff:\", average_logit_diff.item())\n",
        "print(\"Original logit difference:\",clean_logit_diff.item())"
      ]
    },
    {
      "attachments": {},
      "cell_type": "markdown",
      "metadata": {
        "id": "Nb2nC45lIohT"
      },
      "source": [
        "#### Logit Lens"
      ]
    },
    {
      "cell_type": "code",
      "execution_count": 19,
      "metadata": {
        "id": "DvRDK2krIrid"
      },
      "outputs": [],
      "source": [
        "def residual_stack_to_logit_diff(residual_stack: TT[\"components\", \"batch\", \"d_model\"], cache: ActivationCache) -> float:\n",
        "    scaled_residual_stack = clean_cache.apply_ln_to_stack(residual_stack, layer = -1, pos_slice=-1)\n",
        "    return einsum(\"... batch d_model, batch d_model -> ...\", scaled_residual_stack, logit_diff_directions)/len(all_prompts)"
      ]
    },
    {
      "cell_type": "code",
      "execution_count": 20,
      "metadata": {
        "colab": {
          "base_uri": "https://localhost:8080/",
          "height": 542
        },
        "id": "7vxP1pNuPMhr",
        "outputId": "616ac0ef-ddd2-4b1e-bccd-8ee3a3ebce23"
      },
      "outputs": [
        {
          "data": {
            "application/vnd.plotly.v1+json": {
              "config": {
                "plotlyServerURL": "https://plot.ly"
              },
              "data": [
                {
                  "hovertemplate": "<b>%{hovertext}</b><br><br>x=%{x}<br>y=%{y}<extra></extra>",
                  "hovertext": [
                    "0_pre",
                    "0_mid",
                    "1_pre",
                    "1_mid",
                    "2_pre",
                    "2_mid",
                    "3_pre",
                    "3_mid",
                    "4_pre",
                    "4_mid",
                    "5_pre",
                    "5_mid",
                    "6_pre",
                    "6_mid",
                    "7_pre",
                    "7_mid",
                    "8_pre",
                    "8_mid",
                    "9_pre",
                    "9_mid",
                    "10_pre",
                    "10_mid",
                    "11_pre",
                    "11_mid",
                    "final_post"
                  ],
                  "legendgroup": "",
                  "line": {
                    "color": "#636efa",
                    "dash": "solid"
                  },
                  "marker": {
                    "symbol": "circle"
                  },
                  "mode": "lines",
                  "name": "",
                  "orientation": "v",
                  "showlegend": false,
                  "type": "scatter",
                  "x": [
                    0,
                    0.5,
                    1,
                    1.5,
                    2,
                    2.5,
                    3,
                    3.5,
                    4,
                    4.5,
                    5,
                    5.5,
                    6,
                    6.5,
                    7,
                    7.5,
                    8,
                    8.5,
                    9,
                    9.5,
                    10,
                    10.5,
                    11,
                    11.5,
                    12
                  ],
                  "xaxis": "x",
                  "y": [
                    0.000013517020306608174,
                    0.005561577156186104,
                    0.00412892596796155,
                    0.009171564131975174,
                    0.009128282777965069,
                    0.015092302113771439,
                    0.012852155603468418,
                    0.021144544705748558,
                    0.016688639298081398,
                    0.021735424175858498,
                    0.022914497181773186,
                    0.042692165821790695,
                    0.038438938558101654,
                    0.055581919848918915,
                    0.05905407667160034,
                    0.13391749560832977,
                    0.14844974875450134,
                    0.22549526393413544,
                    0.3132621943950653,
                    0.47702205181121826,
                    0.5600490570068359,
                    0.9658692479133606,
                    1.0726206302642822,
                    1.1931792497634888,
                    1.1607013940811157
                  ],
                  "yaxis": "y"
                }
              ],
              "layout": {
                "legend": {
                  "tracegroupgap": 0
                },
                "template": {
                  "data": {
                    "bar": [
                      {
                        "error_x": {
                          "color": "#2a3f5f"
                        },
                        "error_y": {
                          "color": "#2a3f5f"
                        },
                        "marker": {
                          "line": {
                            "color": "#E5ECF6",
                            "width": 0.5
                          },
                          "pattern": {
                            "fillmode": "overlay",
                            "size": 10,
                            "solidity": 0.2
                          }
                        },
                        "type": "bar"
                      }
                    ],
                    "barpolar": [
                      {
                        "marker": {
                          "line": {
                            "color": "#E5ECF6",
                            "width": 0.5
                          },
                          "pattern": {
                            "fillmode": "overlay",
                            "size": 10,
                            "solidity": 0.2
                          }
                        },
                        "type": "barpolar"
                      }
                    ],
                    "carpet": [
                      {
                        "aaxis": {
                          "endlinecolor": "#2a3f5f",
                          "gridcolor": "white",
                          "linecolor": "white",
                          "minorgridcolor": "white",
                          "startlinecolor": "#2a3f5f"
                        },
                        "baxis": {
                          "endlinecolor": "#2a3f5f",
                          "gridcolor": "white",
                          "linecolor": "white",
                          "minorgridcolor": "white",
                          "startlinecolor": "#2a3f5f"
                        },
                        "type": "carpet"
                      }
                    ],
                    "choropleth": [
                      {
                        "colorbar": {
                          "outlinewidth": 0,
                          "ticks": ""
                        },
                        "type": "choropleth"
                      }
                    ],
                    "contour": [
                      {
                        "colorbar": {
                          "outlinewidth": 0,
                          "ticks": ""
                        },
                        "colorscale": [
                          [
                            0,
                            "#0d0887"
                          ],
                          [
                            0.1111111111111111,
                            "#46039f"
                          ],
                          [
                            0.2222222222222222,
                            "#7201a8"
                          ],
                          [
                            0.3333333333333333,
                            "#9c179e"
                          ],
                          [
                            0.4444444444444444,
                            "#bd3786"
                          ],
                          [
                            0.5555555555555556,
                            "#d8576b"
                          ],
                          [
                            0.6666666666666666,
                            "#ed7953"
                          ],
                          [
                            0.7777777777777778,
                            "#fb9f3a"
                          ],
                          [
                            0.8888888888888888,
                            "#fdca26"
                          ],
                          [
                            1,
                            "#f0f921"
                          ]
                        ],
                        "type": "contour"
                      }
                    ],
                    "contourcarpet": [
                      {
                        "colorbar": {
                          "outlinewidth": 0,
                          "ticks": ""
                        },
                        "type": "contourcarpet"
                      }
                    ],
                    "heatmap": [
                      {
                        "colorbar": {
                          "outlinewidth": 0,
                          "ticks": ""
                        },
                        "colorscale": [
                          [
                            0,
                            "#0d0887"
                          ],
                          [
                            0.1111111111111111,
                            "#46039f"
                          ],
                          [
                            0.2222222222222222,
                            "#7201a8"
                          ],
                          [
                            0.3333333333333333,
                            "#9c179e"
                          ],
                          [
                            0.4444444444444444,
                            "#bd3786"
                          ],
                          [
                            0.5555555555555556,
                            "#d8576b"
                          ],
                          [
                            0.6666666666666666,
                            "#ed7953"
                          ],
                          [
                            0.7777777777777778,
                            "#fb9f3a"
                          ],
                          [
                            0.8888888888888888,
                            "#fdca26"
                          ],
                          [
                            1,
                            "#f0f921"
                          ]
                        ],
                        "type": "heatmap"
                      }
                    ],
                    "heatmapgl": [
                      {
                        "colorbar": {
                          "outlinewidth": 0,
                          "ticks": ""
                        },
                        "colorscale": [
                          [
                            0,
                            "#0d0887"
                          ],
                          [
                            0.1111111111111111,
                            "#46039f"
                          ],
                          [
                            0.2222222222222222,
                            "#7201a8"
                          ],
                          [
                            0.3333333333333333,
                            "#9c179e"
                          ],
                          [
                            0.4444444444444444,
                            "#bd3786"
                          ],
                          [
                            0.5555555555555556,
                            "#d8576b"
                          ],
                          [
                            0.6666666666666666,
                            "#ed7953"
                          ],
                          [
                            0.7777777777777778,
                            "#fb9f3a"
                          ],
                          [
                            0.8888888888888888,
                            "#fdca26"
                          ],
                          [
                            1,
                            "#f0f921"
                          ]
                        ],
                        "type": "heatmapgl"
                      }
                    ],
                    "histogram": [
                      {
                        "marker": {
                          "pattern": {
                            "fillmode": "overlay",
                            "size": 10,
                            "solidity": 0.2
                          }
                        },
                        "type": "histogram"
                      }
                    ],
                    "histogram2d": [
                      {
                        "colorbar": {
                          "outlinewidth": 0,
                          "ticks": ""
                        },
                        "colorscale": [
                          [
                            0,
                            "#0d0887"
                          ],
                          [
                            0.1111111111111111,
                            "#46039f"
                          ],
                          [
                            0.2222222222222222,
                            "#7201a8"
                          ],
                          [
                            0.3333333333333333,
                            "#9c179e"
                          ],
                          [
                            0.4444444444444444,
                            "#bd3786"
                          ],
                          [
                            0.5555555555555556,
                            "#d8576b"
                          ],
                          [
                            0.6666666666666666,
                            "#ed7953"
                          ],
                          [
                            0.7777777777777778,
                            "#fb9f3a"
                          ],
                          [
                            0.8888888888888888,
                            "#fdca26"
                          ],
                          [
                            1,
                            "#f0f921"
                          ]
                        ],
                        "type": "histogram2d"
                      }
                    ],
                    "histogram2dcontour": [
                      {
                        "colorbar": {
                          "outlinewidth": 0,
                          "ticks": ""
                        },
                        "colorscale": [
                          [
                            0,
                            "#0d0887"
                          ],
                          [
                            0.1111111111111111,
                            "#46039f"
                          ],
                          [
                            0.2222222222222222,
                            "#7201a8"
                          ],
                          [
                            0.3333333333333333,
                            "#9c179e"
                          ],
                          [
                            0.4444444444444444,
                            "#bd3786"
                          ],
                          [
                            0.5555555555555556,
                            "#d8576b"
                          ],
                          [
                            0.6666666666666666,
                            "#ed7953"
                          ],
                          [
                            0.7777777777777778,
                            "#fb9f3a"
                          ],
                          [
                            0.8888888888888888,
                            "#fdca26"
                          ],
                          [
                            1,
                            "#f0f921"
                          ]
                        ],
                        "type": "histogram2dcontour"
                      }
                    ],
                    "mesh3d": [
                      {
                        "colorbar": {
                          "outlinewidth": 0,
                          "ticks": ""
                        },
                        "type": "mesh3d"
                      }
                    ],
                    "parcoords": [
                      {
                        "line": {
                          "colorbar": {
                            "outlinewidth": 0,
                            "ticks": ""
                          }
                        },
                        "type": "parcoords"
                      }
                    ],
                    "pie": [
                      {
                        "automargin": true,
                        "type": "pie"
                      }
                    ],
                    "scatter": [
                      {
                        "fillpattern": {
                          "fillmode": "overlay",
                          "size": 10,
                          "solidity": 0.2
                        },
                        "type": "scatter"
                      }
                    ],
                    "scatter3d": [
                      {
                        "line": {
                          "colorbar": {
                            "outlinewidth": 0,
                            "ticks": ""
                          }
                        },
                        "marker": {
                          "colorbar": {
                            "outlinewidth": 0,
                            "ticks": ""
                          }
                        },
                        "type": "scatter3d"
                      }
                    ],
                    "scattercarpet": [
                      {
                        "marker": {
                          "colorbar": {
                            "outlinewidth": 0,
                            "ticks": ""
                          }
                        },
                        "type": "scattercarpet"
                      }
                    ],
                    "scattergeo": [
                      {
                        "marker": {
                          "colorbar": {
                            "outlinewidth": 0,
                            "ticks": ""
                          }
                        },
                        "type": "scattergeo"
                      }
                    ],
                    "scattergl": [
                      {
                        "marker": {
                          "colorbar": {
                            "outlinewidth": 0,
                            "ticks": ""
                          }
                        },
                        "type": "scattergl"
                      }
                    ],
                    "scattermapbox": [
                      {
                        "marker": {
                          "colorbar": {
                            "outlinewidth": 0,
                            "ticks": ""
                          }
                        },
                        "type": "scattermapbox"
                      }
                    ],
                    "scatterpolar": [
                      {
                        "marker": {
                          "colorbar": {
                            "outlinewidth": 0,
                            "ticks": ""
                          }
                        },
                        "type": "scatterpolar"
                      }
                    ],
                    "scatterpolargl": [
                      {
                        "marker": {
                          "colorbar": {
                            "outlinewidth": 0,
                            "ticks": ""
                          }
                        },
                        "type": "scatterpolargl"
                      }
                    ],
                    "scatterternary": [
                      {
                        "marker": {
                          "colorbar": {
                            "outlinewidth": 0,
                            "ticks": ""
                          }
                        },
                        "type": "scatterternary"
                      }
                    ],
                    "surface": [
                      {
                        "colorbar": {
                          "outlinewidth": 0,
                          "ticks": ""
                        },
                        "colorscale": [
                          [
                            0,
                            "#0d0887"
                          ],
                          [
                            0.1111111111111111,
                            "#46039f"
                          ],
                          [
                            0.2222222222222222,
                            "#7201a8"
                          ],
                          [
                            0.3333333333333333,
                            "#9c179e"
                          ],
                          [
                            0.4444444444444444,
                            "#bd3786"
                          ],
                          [
                            0.5555555555555556,
                            "#d8576b"
                          ],
                          [
                            0.6666666666666666,
                            "#ed7953"
                          ],
                          [
                            0.7777777777777778,
                            "#fb9f3a"
                          ],
                          [
                            0.8888888888888888,
                            "#fdca26"
                          ],
                          [
                            1,
                            "#f0f921"
                          ]
                        ],
                        "type": "surface"
                      }
                    ],
                    "table": [
                      {
                        "cells": {
                          "fill": {
                            "color": "#EBF0F8"
                          },
                          "line": {
                            "color": "white"
                          }
                        },
                        "header": {
                          "fill": {
                            "color": "#C8D4E3"
                          },
                          "line": {
                            "color": "white"
                          }
                        },
                        "type": "table"
                      }
                    ]
                  },
                  "layout": {
                    "annotationdefaults": {
                      "arrowcolor": "#2a3f5f",
                      "arrowhead": 0,
                      "arrowwidth": 1
                    },
                    "autotypenumbers": "strict",
                    "coloraxis": {
                      "colorbar": {
                        "outlinewidth": 0,
                        "ticks": ""
                      }
                    },
                    "colorscale": {
                      "diverging": [
                        [
                          0,
                          "#8e0152"
                        ],
                        [
                          0.1,
                          "#c51b7d"
                        ],
                        [
                          0.2,
                          "#de77ae"
                        ],
                        [
                          0.3,
                          "#f1b6da"
                        ],
                        [
                          0.4,
                          "#fde0ef"
                        ],
                        [
                          0.5,
                          "#f7f7f7"
                        ],
                        [
                          0.6,
                          "#e6f5d0"
                        ],
                        [
                          0.7,
                          "#b8e186"
                        ],
                        [
                          0.8,
                          "#7fbc41"
                        ],
                        [
                          0.9,
                          "#4d9221"
                        ],
                        [
                          1,
                          "#276419"
                        ]
                      ],
                      "sequential": [
                        [
                          0,
                          "#0d0887"
                        ],
                        [
                          0.1111111111111111,
                          "#46039f"
                        ],
                        [
                          0.2222222222222222,
                          "#7201a8"
                        ],
                        [
                          0.3333333333333333,
                          "#9c179e"
                        ],
                        [
                          0.4444444444444444,
                          "#bd3786"
                        ],
                        [
                          0.5555555555555556,
                          "#d8576b"
                        ],
                        [
                          0.6666666666666666,
                          "#ed7953"
                        ],
                        [
                          0.7777777777777778,
                          "#fb9f3a"
                        ],
                        [
                          0.8888888888888888,
                          "#fdca26"
                        ],
                        [
                          1,
                          "#f0f921"
                        ]
                      ],
                      "sequentialminus": [
                        [
                          0,
                          "#0d0887"
                        ],
                        [
                          0.1111111111111111,
                          "#46039f"
                        ],
                        [
                          0.2222222222222222,
                          "#7201a8"
                        ],
                        [
                          0.3333333333333333,
                          "#9c179e"
                        ],
                        [
                          0.4444444444444444,
                          "#bd3786"
                        ],
                        [
                          0.5555555555555556,
                          "#d8576b"
                        ],
                        [
                          0.6666666666666666,
                          "#ed7953"
                        ],
                        [
                          0.7777777777777778,
                          "#fb9f3a"
                        ],
                        [
                          0.8888888888888888,
                          "#fdca26"
                        ],
                        [
                          1,
                          "#f0f921"
                        ]
                      ]
                    },
                    "colorway": [
                      "#636efa",
                      "#EF553B",
                      "#00cc96",
                      "#ab63fa",
                      "#FFA15A",
                      "#19d3f3",
                      "#FF6692",
                      "#B6E880",
                      "#FF97FF",
                      "#FECB52"
                    ],
                    "font": {
                      "color": "#2a3f5f"
                    },
                    "geo": {
                      "bgcolor": "white",
                      "lakecolor": "white",
                      "landcolor": "#E5ECF6",
                      "showlakes": true,
                      "showland": true,
                      "subunitcolor": "white"
                    },
                    "hoverlabel": {
                      "align": "left"
                    },
                    "hovermode": "closest",
                    "mapbox": {
                      "style": "light"
                    },
                    "paper_bgcolor": "white",
                    "plot_bgcolor": "#E5ECF6",
                    "polar": {
                      "angularaxis": {
                        "gridcolor": "white",
                        "linecolor": "white",
                        "ticks": ""
                      },
                      "bgcolor": "#E5ECF6",
                      "radialaxis": {
                        "gridcolor": "white",
                        "linecolor": "white",
                        "ticks": ""
                      }
                    },
                    "scene": {
                      "xaxis": {
                        "backgroundcolor": "#E5ECF6",
                        "gridcolor": "white",
                        "gridwidth": 2,
                        "linecolor": "white",
                        "showbackground": true,
                        "ticks": "",
                        "zerolinecolor": "white"
                      },
                      "yaxis": {
                        "backgroundcolor": "#E5ECF6",
                        "gridcolor": "white",
                        "gridwidth": 2,
                        "linecolor": "white",
                        "showbackground": true,
                        "ticks": "",
                        "zerolinecolor": "white"
                      },
                      "zaxis": {
                        "backgroundcolor": "#E5ECF6",
                        "gridcolor": "white",
                        "gridwidth": 2,
                        "linecolor": "white",
                        "showbackground": true,
                        "ticks": "",
                        "zerolinecolor": "white"
                      }
                    },
                    "shapedefaults": {
                      "line": {
                        "color": "#2a3f5f"
                      }
                    },
                    "ternary": {
                      "aaxis": {
                        "gridcolor": "white",
                        "linecolor": "white",
                        "ticks": ""
                      },
                      "baxis": {
                        "gridcolor": "white",
                        "linecolor": "white",
                        "ticks": ""
                      },
                      "bgcolor": "#E5ECF6",
                      "caxis": {
                        "gridcolor": "white",
                        "linecolor": "white",
                        "ticks": ""
                      }
                    },
                    "title": {
                      "x": 0.05
                    },
                    "xaxis": {
                      "automargin": true,
                      "gridcolor": "white",
                      "linecolor": "white",
                      "ticks": "",
                      "title": {
                        "standoff": 15
                      },
                      "zerolinecolor": "white",
                      "zerolinewidth": 2
                    },
                    "yaxis": {
                      "automargin": true,
                      "gridcolor": "white",
                      "linecolor": "white",
                      "ticks": "",
                      "title": {
                        "standoff": 15
                      },
                      "zerolinecolor": "white",
                      "zerolinewidth": 2
                    }
                  }
                },
                "title": {
                  "text": "Logit Difference From Accumulate Residual Stream"
                },
                "xaxis": {
                  "anchor": "y",
                  "domain": [
                    0,
                    1
                  ],
                  "title": {
                    "text": "x"
                  }
                },
                "yaxis": {
                  "anchor": "x",
                  "domain": [
                    0,
                    1
                  ],
                  "title": {
                    "text": "y"
                  }
                }
              }
            }
          },
          "metadata": {},
          "output_type": "display_data"
        }
      ],
      "source": [
        "accumulated_residual, labels = clean_cache.accumulated_resid(layer=-1, incl_mid=True, pos_slice=-1, return_labels=True)\n",
        "logit_lens_logit_diffs = residual_stack_to_logit_diff(accumulated_residual, clean_cache)\n",
        "line(logit_lens_logit_diffs, x=np.arange(model.cfg.n_layers*2+1)/2, hover_name=labels, title=\"Logit Difference From Accumulate Residual Stream\")"
      ]
    },
    {
      "attachments": {},
      "cell_type": "markdown",
      "metadata": {
        "id": "s60emfYIbTuT"
      },
      "source": [
        "#### Layer Attribution"
      ]
    },
    {
      "cell_type": "code",
      "execution_count": 21,
      "metadata": {
        "colab": {
          "base_uri": "https://localhost:8080/",
          "height": 542
        },
        "id": "yGgAVYgIJi9Z",
        "outputId": "2d6b1ffe-b701-419d-a786-24f0d24d2b54"
      },
      "outputs": [
        {
          "data": {
            "application/vnd.plotly.v1+json": {
              "config": {
                "plotlyServerURL": "https://plot.ly"
              },
              "data": [
                {
                  "hovertemplate": "<b>%{hovertext}</b><br><br>x=%{x}<br>y=%{y}<extra></extra>",
                  "hovertext": [
                    "embed",
                    "pos_embed",
                    "0_attn_out",
                    "0_mlp_out",
                    "1_attn_out",
                    "1_mlp_out",
                    "2_attn_out",
                    "2_mlp_out",
                    "3_attn_out",
                    "3_mlp_out",
                    "4_attn_out",
                    "4_mlp_out",
                    "5_attn_out",
                    "5_mlp_out",
                    "6_attn_out",
                    "6_mlp_out",
                    "7_attn_out",
                    "7_mlp_out",
                    "8_attn_out",
                    "8_mlp_out",
                    "9_attn_out",
                    "9_mlp_out",
                    "10_attn_out",
                    "10_mlp_out",
                    "11_attn_out",
                    "11_mlp_out"
                  ],
                  "legendgroup": "",
                  "line": {
                    "color": "#636efa",
                    "dash": "solid"
                  },
                  "marker": {
                    "symbol": "circle"
                  },
                  "mode": "lines",
                  "name": "",
                  "orientation": "v",
                  "showlegend": false,
                  "type": "scatter",
                  "x": [
                    0,
                    1,
                    2,
                    3,
                    4,
                    5,
                    6,
                    7,
                    8,
                    9,
                    10,
                    11,
                    12,
                    13,
                    14,
                    15,
                    16,
                    17,
                    18,
                    19,
                    20,
                    21,
                    22,
                    23,
                    24,
                    25
                  ],
                  "xaxis": "x",
                  "y": [
                    0.000021412855858216062,
                    -0.000007895752787590027,
                    0.005548055749386549,
                    -0.0014326514210551977,
                    0.005042639095336199,
                    -0.000043279676901875064,
                    0.00596401933580637,
                    -0.0022401416208595037,
                    0.008292382583022118,
                    -0.004455907735973597,
                    0.0050467848777771,
                    0.0011790742864832282,
                    0.019777663052082062,
                    -0.004253228195011616,
                    0.017142994329333305,
                    0.0034721498377621174,
                    0.07486341148614883,
                    0.014532260596752167,
                    0.0770455077290535,
                    0.08776692301034927,
                    0.16375990211963654,
                    0.0830269604921341,
                    0.40582025051116943,
                    0.10675128549337387,
                    0.12055865675210953,
                    -0.03247787430882454
                  ],
                  "yaxis": "y"
                }
              ],
              "layout": {
                "legend": {
                  "tracegroupgap": 0
                },
                "template": {
                  "data": {
                    "bar": [
                      {
                        "error_x": {
                          "color": "#2a3f5f"
                        },
                        "error_y": {
                          "color": "#2a3f5f"
                        },
                        "marker": {
                          "line": {
                            "color": "#E5ECF6",
                            "width": 0.5
                          },
                          "pattern": {
                            "fillmode": "overlay",
                            "size": 10,
                            "solidity": 0.2
                          }
                        },
                        "type": "bar"
                      }
                    ],
                    "barpolar": [
                      {
                        "marker": {
                          "line": {
                            "color": "#E5ECF6",
                            "width": 0.5
                          },
                          "pattern": {
                            "fillmode": "overlay",
                            "size": 10,
                            "solidity": 0.2
                          }
                        },
                        "type": "barpolar"
                      }
                    ],
                    "carpet": [
                      {
                        "aaxis": {
                          "endlinecolor": "#2a3f5f",
                          "gridcolor": "white",
                          "linecolor": "white",
                          "minorgridcolor": "white",
                          "startlinecolor": "#2a3f5f"
                        },
                        "baxis": {
                          "endlinecolor": "#2a3f5f",
                          "gridcolor": "white",
                          "linecolor": "white",
                          "minorgridcolor": "white",
                          "startlinecolor": "#2a3f5f"
                        },
                        "type": "carpet"
                      }
                    ],
                    "choropleth": [
                      {
                        "colorbar": {
                          "outlinewidth": 0,
                          "ticks": ""
                        },
                        "type": "choropleth"
                      }
                    ],
                    "contour": [
                      {
                        "colorbar": {
                          "outlinewidth": 0,
                          "ticks": ""
                        },
                        "colorscale": [
                          [
                            0,
                            "#0d0887"
                          ],
                          [
                            0.1111111111111111,
                            "#46039f"
                          ],
                          [
                            0.2222222222222222,
                            "#7201a8"
                          ],
                          [
                            0.3333333333333333,
                            "#9c179e"
                          ],
                          [
                            0.4444444444444444,
                            "#bd3786"
                          ],
                          [
                            0.5555555555555556,
                            "#d8576b"
                          ],
                          [
                            0.6666666666666666,
                            "#ed7953"
                          ],
                          [
                            0.7777777777777778,
                            "#fb9f3a"
                          ],
                          [
                            0.8888888888888888,
                            "#fdca26"
                          ],
                          [
                            1,
                            "#f0f921"
                          ]
                        ],
                        "type": "contour"
                      }
                    ],
                    "contourcarpet": [
                      {
                        "colorbar": {
                          "outlinewidth": 0,
                          "ticks": ""
                        },
                        "type": "contourcarpet"
                      }
                    ],
                    "heatmap": [
                      {
                        "colorbar": {
                          "outlinewidth": 0,
                          "ticks": ""
                        },
                        "colorscale": [
                          [
                            0,
                            "#0d0887"
                          ],
                          [
                            0.1111111111111111,
                            "#46039f"
                          ],
                          [
                            0.2222222222222222,
                            "#7201a8"
                          ],
                          [
                            0.3333333333333333,
                            "#9c179e"
                          ],
                          [
                            0.4444444444444444,
                            "#bd3786"
                          ],
                          [
                            0.5555555555555556,
                            "#d8576b"
                          ],
                          [
                            0.6666666666666666,
                            "#ed7953"
                          ],
                          [
                            0.7777777777777778,
                            "#fb9f3a"
                          ],
                          [
                            0.8888888888888888,
                            "#fdca26"
                          ],
                          [
                            1,
                            "#f0f921"
                          ]
                        ],
                        "type": "heatmap"
                      }
                    ],
                    "heatmapgl": [
                      {
                        "colorbar": {
                          "outlinewidth": 0,
                          "ticks": ""
                        },
                        "colorscale": [
                          [
                            0,
                            "#0d0887"
                          ],
                          [
                            0.1111111111111111,
                            "#46039f"
                          ],
                          [
                            0.2222222222222222,
                            "#7201a8"
                          ],
                          [
                            0.3333333333333333,
                            "#9c179e"
                          ],
                          [
                            0.4444444444444444,
                            "#bd3786"
                          ],
                          [
                            0.5555555555555556,
                            "#d8576b"
                          ],
                          [
                            0.6666666666666666,
                            "#ed7953"
                          ],
                          [
                            0.7777777777777778,
                            "#fb9f3a"
                          ],
                          [
                            0.8888888888888888,
                            "#fdca26"
                          ],
                          [
                            1,
                            "#f0f921"
                          ]
                        ],
                        "type": "heatmapgl"
                      }
                    ],
                    "histogram": [
                      {
                        "marker": {
                          "pattern": {
                            "fillmode": "overlay",
                            "size": 10,
                            "solidity": 0.2
                          }
                        },
                        "type": "histogram"
                      }
                    ],
                    "histogram2d": [
                      {
                        "colorbar": {
                          "outlinewidth": 0,
                          "ticks": ""
                        },
                        "colorscale": [
                          [
                            0,
                            "#0d0887"
                          ],
                          [
                            0.1111111111111111,
                            "#46039f"
                          ],
                          [
                            0.2222222222222222,
                            "#7201a8"
                          ],
                          [
                            0.3333333333333333,
                            "#9c179e"
                          ],
                          [
                            0.4444444444444444,
                            "#bd3786"
                          ],
                          [
                            0.5555555555555556,
                            "#d8576b"
                          ],
                          [
                            0.6666666666666666,
                            "#ed7953"
                          ],
                          [
                            0.7777777777777778,
                            "#fb9f3a"
                          ],
                          [
                            0.8888888888888888,
                            "#fdca26"
                          ],
                          [
                            1,
                            "#f0f921"
                          ]
                        ],
                        "type": "histogram2d"
                      }
                    ],
                    "histogram2dcontour": [
                      {
                        "colorbar": {
                          "outlinewidth": 0,
                          "ticks": ""
                        },
                        "colorscale": [
                          [
                            0,
                            "#0d0887"
                          ],
                          [
                            0.1111111111111111,
                            "#46039f"
                          ],
                          [
                            0.2222222222222222,
                            "#7201a8"
                          ],
                          [
                            0.3333333333333333,
                            "#9c179e"
                          ],
                          [
                            0.4444444444444444,
                            "#bd3786"
                          ],
                          [
                            0.5555555555555556,
                            "#d8576b"
                          ],
                          [
                            0.6666666666666666,
                            "#ed7953"
                          ],
                          [
                            0.7777777777777778,
                            "#fb9f3a"
                          ],
                          [
                            0.8888888888888888,
                            "#fdca26"
                          ],
                          [
                            1,
                            "#f0f921"
                          ]
                        ],
                        "type": "histogram2dcontour"
                      }
                    ],
                    "mesh3d": [
                      {
                        "colorbar": {
                          "outlinewidth": 0,
                          "ticks": ""
                        },
                        "type": "mesh3d"
                      }
                    ],
                    "parcoords": [
                      {
                        "line": {
                          "colorbar": {
                            "outlinewidth": 0,
                            "ticks": ""
                          }
                        },
                        "type": "parcoords"
                      }
                    ],
                    "pie": [
                      {
                        "automargin": true,
                        "type": "pie"
                      }
                    ],
                    "scatter": [
                      {
                        "fillpattern": {
                          "fillmode": "overlay",
                          "size": 10,
                          "solidity": 0.2
                        },
                        "type": "scatter"
                      }
                    ],
                    "scatter3d": [
                      {
                        "line": {
                          "colorbar": {
                            "outlinewidth": 0,
                            "ticks": ""
                          }
                        },
                        "marker": {
                          "colorbar": {
                            "outlinewidth": 0,
                            "ticks": ""
                          }
                        },
                        "type": "scatter3d"
                      }
                    ],
                    "scattercarpet": [
                      {
                        "marker": {
                          "colorbar": {
                            "outlinewidth": 0,
                            "ticks": ""
                          }
                        },
                        "type": "scattercarpet"
                      }
                    ],
                    "scattergeo": [
                      {
                        "marker": {
                          "colorbar": {
                            "outlinewidth": 0,
                            "ticks": ""
                          }
                        },
                        "type": "scattergeo"
                      }
                    ],
                    "scattergl": [
                      {
                        "marker": {
                          "colorbar": {
                            "outlinewidth": 0,
                            "ticks": ""
                          }
                        },
                        "type": "scattergl"
                      }
                    ],
                    "scattermapbox": [
                      {
                        "marker": {
                          "colorbar": {
                            "outlinewidth": 0,
                            "ticks": ""
                          }
                        },
                        "type": "scattermapbox"
                      }
                    ],
                    "scatterpolar": [
                      {
                        "marker": {
                          "colorbar": {
                            "outlinewidth": 0,
                            "ticks": ""
                          }
                        },
                        "type": "scatterpolar"
                      }
                    ],
                    "scatterpolargl": [
                      {
                        "marker": {
                          "colorbar": {
                            "outlinewidth": 0,
                            "ticks": ""
                          }
                        },
                        "type": "scatterpolargl"
                      }
                    ],
                    "scatterternary": [
                      {
                        "marker": {
                          "colorbar": {
                            "outlinewidth": 0,
                            "ticks": ""
                          }
                        },
                        "type": "scatterternary"
                      }
                    ],
                    "surface": [
                      {
                        "colorbar": {
                          "outlinewidth": 0,
                          "ticks": ""
                        },
                        "colorscale": [
                          [
                            0,
                            "#0d0887"
                          ],
                          [
                            0.1111111111111111,
                            "#46039f"
                          ],
                          [
                            0.2222222222222222,
                            "#7201a8"
                          ],
                          [
                            0.3333333333333333,
                            "#9c179e"
                          ],
                          [
                            0.4444444444444444,
                            "#bd3786"
                          ],
                          [
                            0.5555555555555556,
                            "#d8576b"
                          ],
                          [
                            0.6666666666666666,
                            "#ed7953"
                          ],
                          [
                            0.7777777777777778,
                            "#fb9f3a"
                          ],
                          [
                            0.8888888888888888,
                            "#fdca26"
                          ],
                          [
                            1,
                            "#f0f921"
                          ]
                        ],
                        "type": "surface"
                      }
                    ],
                    "table": [
                      {
                        "cells": {
                          "fill": {
                            "color": "#EBF0F8"
                          },
                          "line": {
                            "color": "white"
                          }
                        },
                        "header": {
                          "fill": {
                            "color": "#C8D4E3"
                          },
                          "line": {
                            "color": "white"
                          }
                        },
                        "type": "table"
                      }
                    ]
                  },
                  "layout": {
                    "annotationdefaults": {
                      "arrowcolor": "#2a3f5f",
                      "arrowhead": 0,
                      "arrowwidth": 1
                    },
                    "autotypenumbers": "strict",
                    "coloraxis": {
                      "colorbar": {
                        "outlinewidth": 0,
                        "ticks": ""
                      }
                    },
                    "colorscale": {
                      "diverging": [
                        [
                          0,
                          "#8e0152"
                        ],
                        [
                          0.1,
                          "#c51b7d"
                        ],
                        [
                          0.2,
                          "#de77ae"
                        ],
                        [
                          0.3,
                          "#f1b6da"
                        ],
                        [
                          0.4,
                          "#fde0ef"
                        ],
                        [
                          0.5,
                          "#f7f7f7"
                        ],
                        [
                          0.6,
                          "#e6f5d0"
                        ],
                        [
                          0.7,
                          "#b8e186"
                        ],
                        [
                          0.8,
                          "#7fbc41"
                        ],
                        [
                          0.9,
                          "#4d9221"
                        ],
                        [
                          1,
                          "#276419"
                        ]
                      ],
                      "sequential": [
                        [
                          0,
                          "#0d0887"
                        ],
                        [
                          0.1111111111111111,
                          "#46039f"
                        ],
                        [
                          0.2222222222222222,
                          "#7201a8"
                        ],
                        [
                          0.3333333333333333,
                          "#9c179e"
                        ],
                        [
                          0.4444444444444444,
                          "#bd3786"
                        ],
                        [
                          0.5555555555555556,
                          "#d8576b"
                        ],
                        [
                          0.6666666666666666,
                          "#ed7953"
                        ],
                        [
                          0.7777777777777778,
                          "#fb9f3a"
                        ],
                        [
                          0.8888888888888888,
                          "#fdca26"
                        ],
                        [
                          1,
                          "#f0f921"
                        ]
                      ],
                      "sequentialminus": [
                        [
                          0,
                          "#0d0887"
                        ],
                        [
                          0.1111111111111111,
                          "#46039f"
                        ],
                        [
                          0.2222222222222222,
                          "#7201a8"
                        ],
                        [
                          0.3333333333333333,
                          "#9c179e"
                        ],
                        [
                          0.4444444444444444,
                          "#bd3786"
                        ],
                        [
                          0.5555555555555556,
                          "#d8576b"
                        ],
                        [
                          0.6666666666666666,
                          "#ed7953"
                        ],
                        [
                          0.7777777777777778,
                          "#fb9f3a"
                        ],
                        [
                          0.8888888888888888,
                          "#fdca26"
                        ],
                        [
                          1,
                          "#f0f921"
                        ]
                      ]
                    },
                    "colorway": [
                      "#636efa",
                      "#EF553B",
                      "#00cc96",
                      "#ab63fa",
                      "#FFA15A",
                      "#19d3f3",
                      "#FF6692",
                      "#B6E880",
                      "#FF97FF",
                      "#FECB52"
                    ],
                    "font": {
                      "color": "#2a3f5f"
                    },
                    "geo": {
                      "bgcolor": "white",
                      "lakecolor": "white",
                      "landcolor": "#E5ECF6",
                      "showlakes": true,
                      "showland": true,
                      "subunitcolor": "white"
                    },
                    "hoverlabel": {
                      "align": "left"
                    },
                    "hovermode": "closest",
                    "mapbox": {
                      "style": "light"
                    },
                    "paper_bgcolor": "white",
                    "plot_bgcolor": "#E5ECF6",
                    "polar": {
                      "angularaxis": {
                        "gridcolor": "white",
                        "linecolor": "white",
                        "ticks": ""
                      },
                      "bgcolor": "#E5ECF6",
                      "radialaxis": {
                        "gridcolor": "white",
                        "linecolor": "white",
                        "ticks": ""
                      }
                    },
                    "scene": {
                      "xaxis": {
                        "backgroundcolor": "#E5ECF6",
                        "gridcolor": "white",
                        "gridwidth": 2,
                        "linecolor": "white",
                        "showbackground": true,
                        "ticks": "",
                        "zerolinecolor": "white"
                      },
                      "yaxis": {
                        "backgroundcolor": "#E5ECF6",
                        "gridcolor": "white",
                        "gridwidth": 2,
                        "linecolor": "white",
                        "showbackground": true,
                        "ticks": "",
                        "zerolinecolor": "white"
                      },
                      "zaxis": {
                        "backgroundcolor": "#E5ECF6",
                        "gridcolor": "white",
                        "gridwidth": 2,
                        "linecolor": "white",
                        "showbackground": true,
                        "ticks": "",
                        "zerolinecolor": "white"
                      }
                    },
                    "shapedefaults": {
                      "line": {
                        "color": "#2a3f5f"
                      }
                    },
                    "ternary": {
                      "aaxis": {
                        "gridcolor": "white",
                        "linecolor": "white",
                        "ticks": ""
                      },
                      "baxis": {
                        "gridcolor": "white",
                        "linecolor": "white",
                        "ticks": ""
                      },
                      "bgcolor": "#E5ECF6",
                      "caxis": {
                        "gridcolor": "white",
                        "linecolor": "white",
                        "ticks": ""
                      }
                    },
                    "title": {
                      "x": 0.05
                    },
                    "xaxis": {
                      "automargin": true,
                      "gridcolor": "white",
                      "linecolor": "white",
                      "ticks": "",
                      "title": {
                        "standoff": 15
                      },
                      "zerolinecolor": "white",
                      "zerolinewidth": 2
                    },
                    "yaxis": {
                      "automargin": true,
                      "gridcolor": "white",
                      "linecolor": "white",
                      "ticks": "",
                      "title": {
                        "standoff": 15
                      },
                      "zerolinecolor": "white",
                      "zerolinewidth": 2
                    }
                  }
                },
                "title": {
                  "text": "Logit Difference From Each Layer"
                },
                "xaxis": {
                  "anchor": "y",
                  "domain": [
                    0,
                    1
                  ],
                  "title": {
                    "text": "x"
                  }
                },
                "yaxis": {
                  "anchor": "x",
                  "domain": [
                    0,
                    1
                  ],
                  "title": {
                    "text": "y"
                  }
                }
              }
            }
          },
          "metadata": {},
          "output_type": "display_data"
        }
      ],
      "source": [
        "per_layer_residual, labels = clean_cache.decompose_resid(layer=-1, pos_slice=-1, return_labels=True)\n",
        "per_layer_logit_diffs = residual_stack_to_logit_diff(per_layer_residual, clean_cache)\n",
        "\n",
        "line(per_layer_logit_diffs, hover_name=labels, title=\"Logit Difference From Each Layer\")"
      ]
    },
    {
      "attachments": {},
      "cell_type": "markdown",
      "metadata": {},
      "source": [
        "#### Head Attribution"
      ]
    },
    {
      "cell_type": "code",
      "execution_count": 22,
      "metadata": {},
      "outputs": [
        {
          "name": "stdout",
          "output_type": "stream",
          "text": [
            "Tried to stack head results when they weren't cached. Computing head results now\n"
          ]
        },
        {
          "data": {
            "application/vnd.plotly.v1+json": {
              "config": {
                "plotlyServerURL": "https://plot.ly"
              },
              "data": [
                {
                  "coloraxis": "coloraxis",
                  "hovertemplate": "Head: %{x}<br>Layer: %{y}<br>color: %{z}<extra></extra>",
                  "name": "0",
                  "type": "heatmap",
                  "xaxis": "x",
                  "yaxis": "y",
                  "z": [
                    [
                      0.0006893286481499672,
                      0.0007479052874259651,
                      0.001988284755498171,
                      -0.0004159024392720312,
                      -0.0006243776879273355,
                      -0.000012662857443501707,
                      0.0014845062978565693,
                      -0.00008753675501793623,
                      0.0006740536191500723,
                      -0.0001538506185170263,
                      0.00012203745427541435,
                      0.0003594908048398793
                    ],
                    [
                      -0.0004827282973565161,
                      0.00012558481830637902,
                      -0.0005488499882631004,
                      -0.0008712687995284796,
                      -0.0002218325244029984,
                      0.001994488527998328,
                      0.0015796786174178123,
                      0.006659114267677069,
                      -0.0006386342574842274,
                      -0.0007910144049674273,
                      0.0002363441017223522,
                      -0.0023833182640373707
                    ],
                    [
                      -0.00037871228414587677,
                      0.00838138535618782,
                      0.0005299794720485806,
                      0.000014561340321961325,
                      -0.00025441727484576404,
                      0.00025609947624616325,
                      -0.0005877291550859809,
                      0.0002539068227633834,
                      -0.0008936490048654377,
                      0.00009106851939577609,
                      -0.0005625675548799336,
                      -0.00016920416965149343
                    ],
                    [
                      0.0004213827778585255,
                      0.0001245402090717107,
                      0.00013611227041110396,
                      -0.00008871928002918139,
                      0.0010301934089511633,
                      0.007232817821204662,
                      0.00009260471415473148,
                      0.0006302847759798169,
                      0.00021461005962919444,
                      -0.00034875061828643084,
                      -0.0007131668971851468,
                      -0.0003231899463571608
                    ],
                    [
                      0.0000756372683099471,
                      0.0002783861418720335,
                      0.002077998360618949,
                      -0.00018953859398607165,
                      -0.0016972041921690106,
                      -0.0007041499484330416,
                      0.0000035469233807816636,
                      -0.0010021455818787217,
                      0.004955152980983257,
                      -0.000051610786613309756,
                      0.00016816593415569514,
                      0.0004348878574091941
                    ],
                    [
                      0.0008648591465316713,
                      0.002509914804250002,
                      -0.0007900045602582395,
                      0.0007832582341507077,
                      0.00008465926657663658,
                      0.009018984623253345,
                      -0.00003688912693178281,
                      -0.00011680608440656215,
                      0.00102684844750911,
                      0.003161543281748891,
                      0.008363896049559116,
                      -0.005616334732621908
                    ],
                    [
                      0.00015387065650429577,
                      -0.0004520668589975685,
                      0.0007495541940443218,
                      0.00034012377727776766,
                      0.027696575969457626,
                      0.003293784102424979,
                      -0.018971923738718033,
                      -0.0031917584128677845,
                      -0.00026670354418456554,
                      0.005291221663355827,
                      0.004306200426071882,
                      -0.002195446752011776
                    ],
                    [
                      0.00020449183648452163,
                      0.04744648188352585,
                      0.002338650170713663,
                      0.004354996141046286,
                      -0.00046782635035924613,
                      0.020553063601255417,
                      -0.017398355528712273,
                      0.0007663813303224742,
                      0.00030169234378263354,
                      0.006035107187926769,
                      0.00886024534702301,
                      0.0009198037441819906
                    ],
                    [
                      -0.003433943958953023,
                      0.0005112774670124054,
                      0.027178483083844185,
                      0.00694315554574132,
                      0.0016654947539791465,
                      0.03960264101624489,
                      0.0013349327491596341,
                      0.003921630792319775,
                      0.012267863377928734,
                      0.0037477859295904636,
                      -0.021470392122864723,
                      0.004172476939857006
                    ],
                    [
                      0.0003756356018129736,
                      0.01016332395374775,
                      0.08679179102182388,
                      0.03603122755885124,
                      0.0004074694006703794,
                      -0.02500050514936447,
                      0.024383224546909332,
                      -0.016294794157147408,
                      0.0013163989642634988,
                      0.02319517731666565,
                      0.02239467017352581,
                      0.00013742383453063667
                    ],
                    [
                      0.03527415171265602,
                      0.08717233687639236,
                      -0.0028398423455655575,
                      -0.004133665002882481,
                      0.33092597126960754,
                      0.00459919311106205,
                      0.00007446504605468363,
                      -0.08837226033210754,
                      -0.0010845698416233063,
                      0.00637932401150465,
                      0.005836389027535915,
                      0.031839702278375626
                    ],
                    [
                      -0.0037498183082789183,
                      0.00446462444961071,
                      0.0015183755895122886,
                      0.012234590016305447,
                      0.003791124327108264,
                      0.0018313783220946789,
                      -0.0002421502285869792,
                      0.008352802135050297,
                      0.02554107829928398,
                      0.041345689445734024,
                      -0.0027888405602425337,
                      0.02722286432981491
                    ]
                  ]
                }
              ],
              "layout": {
                "coloraxis": {
                  "cmid": 0,
                  "colorscale": [
                    [
                      0,
                      "rgb(103,0,31)"
                    ],
                    [
                      0.1,
                      "rgb(178,24,43)"
                    ],
                    [
                      0.2,
                      "rgb(214,96,77)"
                    ],
                    [
                      0.3,
                      "rgb(244,165,130)"
                    ],
                    [
                      0.4,
                      "rgb(253,219,199)"
                    ],
                    [
                      0.5,
                      "rgb(247,247,247)"
                    ],
                    [
                      0.6,
                      "rgb(209,229,240)"
                    ],
                    [
                      0.7,
                      "rgb(146,197,222)"
                    ],
                    [
                      0.8,
                      "rgb(67,147,195)"
                    ],
                    [
                      0.9,
                      "rgb(33,102,172)"
                    ],
                    [
                      1,
                      "rgb(5,48,97)"
                    ]
                  ]
                },
                "template": {
                  "data": {
                    "bar": [
                      {
                        "error_x": {
                          "color": "#2a3f5f"
                        },
                        "error_y": {
                          "color": "#2a3f5f"
                        },
                        "marker": {
                          "line": {
                            "color": "#E5ECF6",
                            "width": 0.5
                          },
                          "pattern": {
                            "fillmode": "overlay",
                            "size": 10,
                            "solidity": 0.2
                          }
                        },
                        "type": "bar"
                      }
                    ],
                    "barpolar": [
                      {
                        "marker": {
                          "line": {
                            "color": "#E5ECF6",
                            "width": 0.5
                          },
                          "pattern": {
                            "fillmode": "overlay",
                            "size": 10,
                            "solidity": 0.2
                          }
                        },
                        "type": "barpolar"
                      }
                    ],
                    "carpet": [
                      {
                        "aaxis": {
                          "endlinecolor": "#2a3f5f",
                          "gridcolor": "white",
                          "linecolor": "white",
                          "minorgridcolor": "white",
                          "startlinecolor": "#2a3f5f"
                        },
                        "baxis": {
                          "endlinecolor": "#2a3f5f",
                          "gridcolor": "white",
                          "linecolor": "white",
                          "minorgridcolor": "white",
                          "startlinecolor": "#2a3f5f"
                        },
                        "type": "carpet"
                      }
                    ],
                    "choropleth": [
                      {
                        "colorbar": {
                          "outlinewidth": 0,
                          "ticks": ""
                        },
                        "type": "choropleth"
                      }
                    ],
                    "contour": [
                      {
                        "colorbar": {
                          "outlinewidth": 0,
                          "ticks": ""
                        },
                        "colorscale": [
                          [
                            0,
                            "#0d0887"
                          ],
                          [
                            0.1111111111111111,
                            "#46039f"
                          ],
                          [
                            0.2222222222222222,
                            "#7201a8"
                          ],
                          [
                            0.3333333333333333,
                            "#9c179e"
                          ],
                          [
                            0.4444444444444444,
                            "#bd3786"
                          ],
                          [
                            0.5555555555555556,
                            "#d8576b"
                          ],
                          [
                            0.6666666666666666,
                            "#ed7953"
                          ],
                          [
                            0.7777777777777778,
                            "#fb9f3a"
                          ],
                          [
                            0.8888888888888888,
                            "#fdca26"
                          ],
                          [
                            1,
                            "#f0f921"
                          ]
                        ],
                        "type": "contour"
                      }
                    ],
                    "contourcarpet": [
                      {
                        "colorbar": {
                          "outlinewidth": 0,
                          "ticks": ""
                        },
                        "type": "contourcarpet"
                      }
                    ],
                    "heatmap": [
                      {
                        "colorbar": {
                          "outlinewidth": 0,
                          "ticks": ""
                        },
                        "colorscale": [
                          [
                            0,
                            "#0d0887"
                          ],
                          [
                            0.1111111111111111,
                            "#46039f"
                          ],
                          [
                            0.2222222222222222,
                            "#7201a8"
                          ],
                          [
                            0.3333333333333333,
                            "#9c179e"
                          ],
                          [
                            0.4444444444444444,
                            "#bd3786"
                          ],
                          [
                            0.5555555555555556,
                            "#d8576b"
                          ],
                          [
                            0.6666666666666666,
                            "#ed7953"
                          ],
                          [
                            0.7777777777777778,
                            "#fb9f3a"
                          ],
                          [
                            0.8888888888888888,
                            "#fdca26"
                          ],
                          [
                            1,
                            "#f0f921"
                          ]
                        ],
                        "type": "heatmap"
                      }
                    ],
                    "heatmapgl": [
                      {
                        "colorbar": {
                          "outlinewidth": 0,
                          "ticks": ""
                        },
                        "colorscale": [
                          [
                            0,
                            "#0d0887"
                          ],
                          [
                            0.1111111111111111,
                            "#46039f"
                          ],
                          [
                            0.2222222222222222,
                            "#7201a8"
                          ],
                          [
                            0.3333333333333333,
                            "#9c179e"
                          ],
                          [
                            0.4444444444444444,
                            "#bd3786"
                          ],
                          [
                            0.5555555555555556,
                            "#d8576b"
                          ],
                          [
                            0.6666666666666666,
                            "#ed7953"
                          ],
                          [
                            0.7777777777777778,
                            "#fb9f3a"
                          ],
                          [
                            0.8888888888888888,
                            "#fdca26"
                          ],
                          [
                            1,
                            "#f0f921"
                          ]
                        ],
                        "type": "heatmapgl"
                      }
                    ],
                    "histogram": [
                      {
                        "marker": {
                          "pattern": {
                            "fillmode": "overlay",
                            "size": 10,
                            "solidity": 0.2
                          }
                        },
                        "type": "histogram"
                      }
                    ],
                    "histogram2d": [
                      {
                        "colorbar": {
                          "outlinewidth": 0,
                          "ticks": ""
                        },
                        "colorscale": [
                          [
                            0,
                            "#0d0887"
                          ],
                          [
                            0.1111111111111111,
                            "#46039f"
                          ],
                          [
                            0.2222222222222222,
                            "#7201a8"
                          ],
                          [
                            0.3333333333333333,
                            "#9c179e"
                          ],
                          [
                            0.4444444444444444,
                            "#bd3786"
                          ],
                          [
                            0.5555555555555556,
                            "#d8576b"
                          ],
                          [
                            0.6666666666666666,
                            "#ed7953"
                          ],
                          [
                            0.7777777777777778,
                            "#fb9f3a"
                          ],
                          [
                            0.8888888888888888,
                            "#fdca26"
                          ],
                          [
                            1,
                            "#f0f921"
                          ]
                        ],
                        "type": "histogram2d"
                      }
                    ],
                    "histogram2dcontour": [
                      {
                        "colorbar": {
                          "outlinewidth": 0,
                          "ticks": ""
                        },
                        "colorscale": [
                          [
                            0,
                            "#0d0887"
                          ],
                          [
                            0.1111111111111111,
                            "#46039f"
                          ],
                          [
                            0.2222222222222222,
                            "#7201a8"
                          ],
                          [
                            0.3333333333333333,
                            "#9c179e"
                          ],
                          [
                            0.4444444444444444,
                            "#bd3786"
                          ],
                          [
                            0.5555555555555556,
                            "#d8576b"
                          ],
                          [
                            0.6666666666666666,
                            "#ed7953"
                          ],
                          [
                            0.7777777777777778,
                            "#fb9f3a"
                          ],
                          [
                            0.8888888888888888,
                            "#fdca26"
                          ],
                          [
                            1,
                            "#f0f921"
                          ]
                        ],
                        "type": "histogram2dcontour"
                      }
                    ],
                    "mesh3d": [
                      {
                        "colorbar": {
                          "outlinewidth": 0,
                          "ticks": ""
                        },
                        "type": "mesh3d"
                      }
                    ],
                    "parcoords": [
                      {
                        "line": {
                          "colorbar": {
                            "outlinewidth": 0,
                            "ticks": ""
                          }
                        },
                        "type": "parcoords"
                      }
                    ],
                    "pie": [
                      {
                        "automargin": true,
                        "type": "pie"
                      }
                    ],
                    "scatter": [
                      {
                        "fillpattern": {
                          "fillmode": "overlay",
                          "size": 10,
                          "solidity": 0.2
                        },
                        "type": "scatter"
                      }
                    ],
                    "scatter3d": [
                      {
                        "line": {
                          "colorbar": {
                            "outlinewidth": 0,
                            "ticks": ""
                          }
                        },
                        "marker": {
                          "colorbar": {
                            "outlinewidth": 0,
                            "ticks": ""
                          }
                        },
                        "type": "scatter3d"
                      }
                    ],
                    "scattercarpet": [
                      {
                        "marker": {
                          "colorbar": {
                            "outlinewidth": 0,
                            "ticks": ""
                          }
                        },
                        "type": "scattercarpet"
                      }
                    ],
                    "scattergeo": [
                      {
                        "marker": {
                          "colorbar": {
                            "outlinewidth": 0,
                            "ticks": ""
                          }
                        },
                        "type": "scattergeo"
                      }
                    ],
                    "scattergl": [
                      {
                        "marker": {
                          "colorbar": {
                            "outlinewidth": 0,
                            "ticks": ""
                          }
                        },
                        "type": "scattergl"
                      }
                    ],
                    "scattermapbox": [
                      {
                        "marker": {
                          "colorbar": {
                            "outlinewidth": 0,
                            "ticks": ""
                          }
                        },
                        "type": "scattermapbox"
                      }
                    ],
                    "scatterpolar": [
                      {
                        "marker": {
                          "colorbar": {
                            "outlinewidth": 0,
                            "ticks": ""
                          }
                        },
                        "type": "scatterpolar"
                      }
                    ],
                    "scatterpolargl": [
                      {
                        "marker": {
                          "colorbar": {
                            "outlinewidth": 0,
                            "ticks": ""
                          }
                        },
                        "type": "scatterpolargl"
                      }
                    ],
                    "scatterternary": [
                      {
                        "marker": {
                          "colorbar": {
                            "outlinewidth": 0,
                            "ticks": ""
                          }
                        },
                        "type": "scatterternary"
                      }
                    ],
                    "surface": [
                      {
                        "colorbar": {
                          "outlinewidth": 0,
                          "ticks": ""
                        },
                        "colorscale": [
                          [
                            0,
                            "#0d0887"
                          ],
                          [
                            0.1111111111111111,
                            "#46039f"
                          ],
                          [
                            0.2222222222222222,
                            "#7201a8"
                          ],
                          [
                            0.3333333333333333,
                            "#9c179e"
                          ],
                          [
                            0.4444444444444444,
                            "#bd3786"
                          ],
                          [
                            0.5555555555555556,
                            "#d8576b"
                          ],
                          [
                            0.6666666666666666,
                            "#ed7953"
                          ],
                          [
                            0.7777777777777778,
                            "#fb9f3a"
                          ],
                          [
                            0.8888888888888888,
                            "#fdca26"
                          ],
                          [
                            1,
                            "#f0f921"
                          ]
                        ],
                        "type": "surface"
                      }
                    ],
                    "table": [
                      {
                        "cells": {
                          "fill": {
                            "color": "#EBF0F8"
                          },
                          "line": {
                            "color": "white"
                          }
                        },
                        "header": {
                          "fill": {
                            "color": "#C8D4E3"
                          },
                          "line": {
                            "color": "white"
                          }
                        },
                        "type": "table"
                      }
                    ]
                  },
                  "layout": {
                    "annotationdefaults": {
                      "arrowcolor": "#2a3f5f",
                      "arrowhead": 0,
                      "arrowwidth": 1
                    },
                    "autotypenumbers": "strict",
                    "coloraxis": {
                      "colorbar": {
                        "outlinewidth": 0,
                        "ticks": ""
                      }
                    },
                    "colorscale": {
                      "diverging": [
                        [
                          0,
                          "#8e0152"
                        ],
                        [
                          0.1,
                          "#c51b7d"
                        ],
                        [
                          0.2,
                          "#de77ae"
                        ],
                        [
                          0.3,
                          "#f1b6da"
                        ],
                        [
                          0.4,
                          "#fde0ef"
                        ],
                        [
                          0.5,
                          "#f7f7f7"
                        ],
                        [
                          0.6,
                          "#e6f5d0"
                        ],
                        [
                          0.7,
                          "#b8e186"
                        ],
                        [
                          0.8,
                          "#7fbc41"
                        ],
                        [
                          0.9,
                          "#4d9221"
                        ],
                        [
                          1,
                          "#276419"
                        ]
                      ],
                      "sequential": [
                        [
                          0,
                          "#0d0887"
                        ],
                        [
                          0.1111111111111111,
                          "#46039f"
                        ],
                        [
                          0.2222222222222222,
                          "#7201a8"
                        ],
                        [
                          0.3333333333333333,
                          "#9c179e"
                        ],
                        [
                          0.4444444444444444,
                          "#bd3786"
                        ],
                        [
                          0.5555555555555556,
                          "#d8576b"
                        ],
                        [
                          0.6666666666666666,
                          "#ed7953"
                        ],
                        [
                          0.7777777777777778,
                          "#fb9f3a"
                        ],
                        [
                          0.8888888888888888,
                          "#fdca26"
                        ],
                        [
                          1,
                          "#f0f921"
                        ]
                      ],
                      "sequentialminus": [
                        [
                          0,
                          "#0d0887"
                        ],
                        [
                          0.1111111111111111,
                          "#46039f"
                        ],
                        [
                          0.2222222222222222,
                          "#7201a8"
                        ],
                        [
                          0.3333333333333333,
                          "#9c179e"
                        ],
                        [
                          0.4444444444444444,
                          "#bd3786"
                        ],
                        [
                          0.5555555555555556,
                          "#d8576b"
                        ],
                        [
                          0.6666666666666666,
                          "#ed7953"
                        ],
                        [
                          0.7777777777777778,
                          "#fb9f3a"
                        ],
                        [
                          0.8888888888888888,
                          "#fdca26"
                        ],
                        [
                          1,
                          "#f0f921"
                        ]
                      ]
                    },
                    "colorway": [
                      "#636efa",
                      "#EF553B",
                      "#00cc96",
                      "#ab63fa",
                      "#FFA15A",
                      "#19d3f3",
                      "#FF6692",
                      "#B6E880",
                      "#FF97FF",
                      "#FECB52"
                    ],
                    "font": {
                      "color": "#2a3f5f"
                    },
                    "geo": {
                      "bgcolor": "white",
                      "lakecolor": "white",
                      "landcolor": "#E5ECF6",
                      "showlakes": true,
                      "showland": true,
                      "subunitcolor": "white"
                    },
                    "hoverlabel": {
                      "align": "left"
                    },
                    "hovermode": "closest",
                    "mapbox": {
                      "style": "light"
                    },
                    "paper_bgcolor": "white",
                    "plot_bgcolor": "#E5ECF6",
                    "polar": {
                      "angularaxis": {
                        "gridcolor": "white",
                        "linecolor": "white",
                        "ticks": ""
                      },
                      "bgcolor": "#E5ECF6",
                      "radialaxis": {
                        "gridcolor": "white",
                        "linecolor": "white",
                        "ticks": ""
                      }
                    },
                    "scene": {
                      "xaxis": {
                        "backgroundcolor": "#E5ECF6",
                        "gridcolor": "white",
                        "gridwidth": 2,
                        "linecolor": "white",
                        "showbackground": true,
                        "ticks": "",
                        "zerolinecolor": "white"
                      },
                      "yaxis": {
                        "backgroundcolor": "#E5ECF6",
                        "gridcolor": "white",
                        "gridwidth": 2,
                        "linecolor": "white",
                        "showbackground": true,
                        "ticks": "",
                        "zerolinecolor": "white"
                      },
                      "zaxis": {
                        "backgroundcolor": "#E5ECF6",
                        "gridcolor": "white",
                        "gridwidth": 2,
                        "linecolor": "white",
                        "showbackground": true,
                        "ticks": "",
                        "zerolinecolor": "white"
                      }
                    },
                    "shapedefaults": {
                      "line": {
                        "color": "#2a3f5f"
                      }
                    },
                    "ternary": {
                      "aaxis": {
                        "gridcolor": "white",
                        "linecolor": "white",
                        "ticks": ""
                      },
                      "baxis": {
                        "gridcolor": "white",
                        "linecolor": "white",
                        "ticks": ""
                      },
                      "bgcolor": "#E5ECF6",
                      "caxis": {
                        "gridcolor": "white",
                        "linecolor": "white",
                        "ticks": ""
                      }
                    },
                    "title": {
                      "x": 0.05
                    },
                    "xaxis": {
                      "automargin": true,
                      "gridcolor": "white",
                      "linecolor": "white",
                      "ticks": "",
                      "title": {
                        "standoff": 15
                      },
                      "zerolinecolor": "white",
                      "zerolinewidth": 2
                    },
                    "yaxis": {
                      "automargin": true,
                      "gridcolor": "white",
                      "linecolor": "white",
                      "ticks": "",
                      "title": {
                        "standoff": 15
                      },
                      "zerolinecolor": "white",
                      "zerolinewidth": 2
                    }
                  }
                },
                "title": {
                  "text": "Logit Difference From Each Head"
                },
                "xaxis": {
                  "anchor": "y",
                  "constrain": "domain",
                  "domain": [
                    0,
                    1
                  ],
                  "scaleanchor": "y",
                  "title": {
                    "text": "Head"
                  }
                },
                "yaxis": {
                  "anchor": "x",
                  "autorange": "reversed",
                  "constrain": "domain",
                  "domain": [
                    0,
                    1
                  ],
                  "title": {
                    "text": "Layer"
                  }
                }
              }
            }
          },
          "metadata": {},
          "output_type": "display_data"
        }
      ],
      "source": [
        "def imshow(tensor, renderer=None, **kwargs):\n",
        "    px.imshow(utils.to_numpy(tensor), color_continuous_midpoint=0.0, color_continuous_scale=\"RdBu\", **kwargs).show(renderer)\n",
        "\n",
        "per_head_residual, labels = clean_cache.stack_head_results(layer=-1, pos_slice=-1, return_labels=True)\n",
        "per_head_logit_diffs = residual_stack_to_logit_diff(per_head_residual, clean_cache)\n",
        "per_head_logit_diffs = einops.rearrange(per_head_logit_diffs, \"(layer head_index) -> layer head_index\", layer=model.cfg.n_layers, head_index=model.cfg.n_heads)\n",
        "imshow(per_head_logit_diffs, labels={\"x\":\"Head\", \"y\":\"Layer\"}, title=\"Logit Difference From Each Head\")"
      ]
    },
    {
      "attachments": {},
      "cell_type": "markdown",
      "metadata": {},
      "source": [
        "### Activation Patching"
      ]
    },
    {
      "attachments": {},
      "cell_type": "markdown",
      "metadata": {},
      "source": [
        "#### Attention Heads"
      ]
    },
    {
      "cell_type": "code",
      "execution_count": 23,
      "metadata": {},
      "outputs": [
        {
          "data": {
            "application/vnd.jupyter.widget-view+json": {
              "model_id": "e46d007525784b579a7c5019257b46be",
              "version_major": 2,
              "version_minor": 0
            },
            "text/plain": [
              "  0%|          | 0/144 [00:00<?, ?it/s]"
            ]
          },
          "metadata": {},
          "output_type": "display_data"
        },
        {
          "name": "stdout",
          "output_type": "stream",
          "text": [
            "results['z'].shape = (layer=12, head=12)\n"
          ]
        }
      ],
      "source": [
        "results = act_patch(\n",
        "    model=model,\n",
        "    orig_input=corrupted_tokens,\n",
        "    new_cache=clean_cache,\n",
        "    patching_nodes=IterNode(\"z\"), # iterating over all heads' output in all layers\n",
        "    patching_metric=logit_diff_denoising,\n",
        "    verbose=True,\n",
        ")"
      ]
    },
    {
      "cell_type": "code",
      "execution_count": 24,
      "metadata": {},
      "outputs": [
        {
          "data": {
            "application/vnd.plotly.v1+json": {
              "config": {
                "plotlyServerURL": "https://plot.ly"
              },
              "data": [
                {
                  "coloraxis": "coloraxis",
                  "hovertemplate": "Head: %{x}<br>Layer: %{y}<br>Logit diff variation: %{z}<extra></extra>",
                  "name": "0",
                  "type": "heatmap",
                  "xaxis": "x",
                  "yaxis": "y",
                  "z": [
                    [
                      -0.07183662056922913,
                      0.11746307462453842,
                      -0.08894205093383789,
                      1.5334441661834717,
                      2.525461196899414,
                      0.7479759454727173,
                      1.4088995456695557,
                      0.10168766975402832,
                      -0.07259149849414825,
                      -0.3268004059791565,
                      0.37864047288894653,
                      0.1623089611530304
                    ],
                    [
                      0.07906701415777206,
                      0.048342980444431305,
                      -0.10779858380556107,
                      -0.012843189761042595,
                      -0.08385304361581802,
                      -1.110168218612671,
                      0.3791539967060089,
                      -0.0843665674328804,
                      -0.25966763496398926,
                      -0.004816838540136814,
                      -0.010239633731544018,
                      0.6998640298843384
                    ],
                    [
                      0.019005456939339638,
                      2.7271676063537598,
                      0.08809474110603333,
                      -0.03950526565313339,
                      -0.09459593147039413,
                      0.0416877344250679,
                      -0.11995366215705872,
                      -0.16942638158798218,
                      0.2966155707836151,
                      -0.465030312538147,
                      0.06978253275156021,
                      -0.04363911971449852
                    ],
                    [
                      0.17006829380989075,
                      -0.42987456917762756,
                      0.298577219247818,
                      -0.061961591243743896,
                      0.05680069327354431,
                      1.0648550987243652,
                      0.03325570002198219,
                      -0.753609299659729,
                      0.31253987550735474,
                      0.07890782505273819,
                      0.5482568740844727,
                      2.0134949684143066
                    ],
                    [
                      0.004673052113503218,
                      0.07166202366352081,
                      0.21724556386470795,
                      -0.35886988043785095,
                      -0.38618409633636475,
                      -0.10409095883369446,
                      -0.08676470816135406,
                      1.7959926128387451,
                      0.6901635527610779,
                      -0.49257567524909973,
                      0.5441024899482727,
                      -1.8183616399765015
                    ],
                    [
                      -0.09881195425987244,
                      0.31339746713638306,
                      -0.3174183666706085,
                      1.1967942714691162,
                      0.7077620029449463,
                      2.043001890182495,
                      -0.015400531701743603,
                      2.2991673946380615,
                      -1.286362886428833,
                      0.2578549087047577,
                      2.5284295082092285,
                      -6.209828853607178
                    ],
                    [
                      0.6179007887840271,
                      -0.31761860847473145,
                      -1.2763338088989258,
                      -1.7773363590240479,
                      15.166419982910156,
                      -0.052440889179706573,
                      -4.812699317932129,
                      0.4228034019470215,
                      0.08781229704618454,
                      1.092056393623352,
                      1.8234505653381348,
                      0.47895702719688416
                    ],
                    [
                      0.10195469856262207,
                      22.465682983398438,
                      0.35036081075668335,
                      -0.36591026186943054,
                      0.1101761907339096,
                      16.15406608581543,
                      -12.268831253051758,
                      0.07715670764446259,
                      0.9409884214401245,
                      1.34981369972229,
                      0.7421423196792603,
                      0.0763402134180069
                    ],
                    [
                      -0.6376199722290039,
                      0.04551861062645912,
                      4.588978290557861,
                      0.4939827024936676,
                      0.1491217166185379,
                      11.740278244018555,
                      0.5768600106239319,
                      0.8864471912384033,
                      1.3668420314788818,
                      1.9029388427734375,
                      -6.099216461181641,
                      1.16398024559021
                    ],
                    [
                      -0.05030463635921478,
                      1.0611474514007568,
                      10.600692749023438,
                      5.039111614227295,
                      0.13780368864536285,
                      -3.5718600749969482,
                      2.8669021129608154,
                      -3.3319427967071533,
                      0.17327781021595,
                      1.5926789045333862,
                      3.759218692779541,
                      0.05991264060139656
                    ],
                    [
                      4.548769474029541,
                      8.804271697998047,
                      -0.03899687901139259,
                      -0.35462304949760437,
                      31.857629776000977,
                      0.8794683814048767,
                      -0.1705150604248047,
                      -8.871908187866211,
                      -0.07529262453317642,
                      0.9384207725524902,
                      0.9078969955444336,
                      2.8124892711639404
                    ],
                    [
                      -0.2006177306175232,
                      0.29338550567626953,
                      0.12857569754123688,
                      1.1728949546813965,
                      0.1565113067626953,
                      0.22837361693382263,
                      0.003928444813936949,
                      0.6697049140930176,
                      2.217707395553589,
                      3.2615180015563965,
                      -0.2149706780910492,
                      2.4151103496551514
                    ]
                  ]
                }
              ],
              "layout": {
                "coloraxis": {
                  "cmid": 0,
                  "colorbar": {
                    "ticksuffix": "%",
                    "title": {
                      "text": "Logit diff variation"
                    }
                  },
                  "colorscale": [
                    [
                      0,
                      "rgb(103,0,31)"
                    ],
                    [
                      0.1,
                      "rgb(178,24,43)"
                    ],
                    [
                      0.2,
                      "rgb(214,96,77)"
                    ],
                    [
                      0.3,
                      "rgb(244,165,130)"
                    ],
                    [
                      0.4,
                      "rgb(253,219,199)"
                    ],
                    [
                      0.5,
                      "rgb(247,247,247)"
                    ],
                    [
                      0.6,
                      "rgb(209,229,240)"
                    ],
                    [
                      0.7,
                      "rgb(146,197,222)"
                    ],
                    [
                      0.8,
                      "rgb(67,147,195)"
                    ],
                    [
                      0.9,
                      "rgb(33,102,172)"
                    ],
                    [
                      1,
                      "rgb(5,48,97)"
                    ]
                  ]
                },
                "margin": {
                  "l": 100,
                  "r": 100
                },
                "template": {
                  "data": {
                    "bar": [
                      {
                        "error_x": {
                          "color": "#2a3f5f"
                        },
                        "error_y": {
                          "color": "#2a3f5f"
                        },
                        "marker": {
                          "line": {
                            "color": "#E5ECF6",
                            "width": 0.5
                          },
                          "pattern": {
                            "fillmode": "overlay",
                            "size": 10,
                            "solidity": 0.2
                          }
                        },
                        "type": "bar"
                      }
                    ],
                    "barpolar": [
                      {
                        "marker": {
                          "line": {
                            "color": "#E5ECF6",
                            "width": 0.5
                          },
                          "pattern": {
                            "fillmode": "overlay",
                            "size": 10,
                            "solidity": 0.2
                          }
                        },
                        "type": "barpolar"
                      }
                    ],
                    "carpet": [
                      {
                        "aaxis": {
                          "endlinecolor": "#2a3f5f",
                          "gridcolor": "white",
                          "linecolor": "white",
                          "minorgridcolor": "white",
                          "startlinecolor": "#2a3f5f"
                        },
                        "baxis": {
                          "endlinecolor": "#2a3f5f",
                          "gridcolor": "white",
                          "linecolor": "white",
                          "minorgridcolor": "white",
                          "startlinecolor": "#2a3f5f"
                        },
                        "type": "carpet"
                      }
                    ],
                    "choropleth": [
                      {
                        "colorbar": {
                          "outlinewidth": 0,
                          "ticks": ""
                        },
                        "type": "choropleth"
                      }
                    ],
                    "contour": [
                      {
                        "colorbar": {
                          "outlinewidth": 0,
                          "ticks": ""
                        },
                        "colorscale": [
                          [
                            0,
                            "#0d0887"
                          ],
                          [
                            0.1111111111111111,
                            "#46039f"
                          ],
                          [
                            0.2222222222222222,
                            "#7201a8"
                          ],
                          [
                            0.3333333333333333,
                            "#9c179e"
                          ],
                          [
                            0.4444444444444444,
                            "#bd3786"
                          ],
                          [
                            0.5555555555555556,
                            "#d8576b"
                          ],
                          [
                            0.6666666666666666,
                            "#ed7953"
                          ],
                          [
                            0.7777777777777778,
                            "#fb9f3a"
                          ],
                          [
                            0.8888888888888888,
                            "#fdca26"
                          ],
                          [
                            1,
                            "#f0f921"
                          ]
                        ],
                        "type": "contour"
                      }
                    ],
                    "contourcarpet": [
                      {
                        "colorbar": {
                          "outlinewidth": 0,
                          "ticks": ""
                        },
                        "type": "contourcarpet"
                      }
                    ],
                    "heatmap": [
                      {
                        "colorbar": {
                          "outlinewidth": 0,
                          "ticks": ""
                        },
                        "colorscale": [
                          [
                            0,
                            "#0d0887"
                          ],
                          [
                            0.1111111111111111,
                            "#46039f"
                          ],
                          [
                            0.2222222222222222,
                            "#7201a8"
                          ],
                          [
                            0.3333333333333333,
                            "#9c179e"
                          ],
                          [
                            0.4444444444444444,
                            "#bd3786"
                          ],
                          [
                            0.5555555555555556,
                            "#d8576b"
                          ],
                          [
                            0.6666666666666666,
                            "#ed7953"
                          ],
                          [
                            0.7777777777777778,
                            "#fb9f3a"
                          ],
                          [
                            0.8888888888888888,
                            "#fdca26"
                          ],
                          [
                            1,
                            "#f0f921"
                          ]
                        ],
                        "type": "heatmap"
                      }
                    ],
                    "heatmapgl": [
                      {
                        "colorbar": {
                          "outlinewidth": 0,
                          "ticks": ""
                        },
                        "colorscale": [
                          [
                            0,
                            "#0d0887"
                          ],
                          [
                            0.1111111111111111,
                            "#46039f"
                          ],
                          [
                            0.2222222222222222,
                            "#7201a8"
                          ],
                          [
                            0.3333333333333333,
                            "#9c179e"
                          ],
                          [
                            0.4444444444444444,
                            "#bd3786"
                          ],
                          [
                            0.5555555555555556,
                            "#d8576b"
                          ],
                          [
                            0.6666666666666666,
                            "#ed7953"
                          ],
                          [
                            0.7777777777777778,
                            "#fb9f3a"
                          ],
                          [
                            0.8888888888888888,
                            "#fdca26"
                          ],
                          [
                            1,
                            "#f0f921"
                          ]
                        ],
                        "type": "heatmapgl"
                      }
                    ],
                    "histogram": [
                      {
                        "marker": {
                          "pattern": {
                            "fillmode": "overlay",
                            "size": 10,
                            "solidity": 0.2
                          }
                        },
                        "type": "histogram"
                      }
                    ],
                    "histogram2d": [
                      {
                        "colorbar": {
                          "outlinewidth": 0,
                          "ticks": ""
                        },
                        "colorscale": [
                          [
                            0,
                            "#0d0887"
                          ],
                          [
                            0.1111111111111111,
                            "#46039f"
                          ],
                          [
                            0.2222222222222222,
                            "#7201a8"
                          ],
                          [
                            0.3333333333333333,
                            "#9c179e"
                          ],
                          [
                            0.4444444444444444,
                            "#bd3786"
                          ],
                          [
                            0.5555555555555556,
                            "#d8576b"
                          ],
                          [
                            0.6666666666666666,
                            "#ed7953"
                          ],
                          [
                            0.7777777777777778,
                            "#fb9f3a"
                          ],
                          [
                            0.8888888888888888,
                            "#fdca26"
                          ],
                          [
                            1,
                            "#f0f921"
                          ]
                        ],
                        "type": "histogram2d"
                      }
                    ],
                    "histogram2dcontour": [
                      {
                        "colorbar": {
                          "outlinewidth": 0,
                          "ticks": ""
                        },
                        "colorscale": [
                          [
                            0,
                            "#0d0887"
                          ],
                          [
                            0.1111111111111111,
                            "#46039f"
                          ],
                          [
                            0.2222222222222222,
                            "#7201a8"
                          ],
                          [
                            0.3333333333333333,
                            "#9c179e"
                          ],
                          [
                            0.4444444444444444,
                            "#bd3786"
                          ],
                          [
                            0.5555555555555556,
                            "#d8576b"
                          ],
                          [
                            0.6666666666666666,
                            "#ed7953"
                          ],
                          [
                            0.7777777777777778,
                            "#fb9f3a"
                          ],
                          [
                            0.8888888888888888,
                            "#fdca26"
                          ],
                          [
                            1,
                            "#f0f921"
                          ]
                        ],
                        "type": "histogram2dcontour"
                      }
                    ],
                    "mesh3d": [
                      {
                        "colorbar": {
                          "outlinewidth": 0,
                          "ticks": ""
                        },
                        "type": "mesh3d"
                      }
                    ],
                    "parcoords": [
                      {
                        "line": {
                          "colorbar": {
                            "outlinewidth": 0,
                            "ticks": ""
                          }
                        },
                        "type": "parcoords"
                      }
                    ],
                    "pie": [
                      {
                        "automargin": true,
                        "type": "pie"
                      }
                    ],
                    "scatter": [
                      {
                        "fillpattern": {
                          "fillmode": "overlay",
                          "size": 10,
                          "solidity": 0.2
                        },
                        "type": "scatter"
                      }
                    ],
                    "scatter3d": [
                      {
                        "line": {
                          "colorbar": {
                            "outlinewidth": 0,
                            "ticks": ""
                          }
                        },
                        "marker": {
                          "colorbar": {
                            "outlinewidth": 0,
                            "ticks": ""
                          }
                        },
                        "type": "scatter3d"
                      }
                    ],
                    "scattercarpet": [
                      {
                        "marker": {
                          "colorbar": {
                            "outlinewidth": 0,
                            "ticks": ""
                          }
                        },
                        "type": "scattercarpet"
                      }
                    ],
                    "scattergeo": [
                      {
                        "marker": {
                          "colorbar": {
                            "outlinewidth": 0,
                            "ticks": ""
                          }
                        },
                        "type": "scattergeo"
                      }
                    ],
                    "scattergl": [
                      {
                        "marker": {
                          "colorbar": {
                            "outlinewidth": 0,
                            "ticks": ""
                          }
                        },
                        "type": "scattergl"
                      }
                    ],
                    "scattermapbox": [
                      {
                        "marker": {
                          "colorbar": {
                            "outlinewidth": 0,
                            "ticks": ""
                          }
                        },
                        "type": "scattermapbox"
                      }
                    ],
                    "scatterpolar": [
                      {
                        "marker": {
                          "colorbar": {
                            "outlinewidth": 0,
                            "ticks": ""
                          }
                        },
                        "type": "scatterpolar"
                      }
                    ],
                    "scatterpolargl": [
                      {
                        "marker": {
                          "colorbar": {
                            "outlinewidth": 0,
                            "ticks": ""
                          }
                        },
                        "type": "scatterpolargl"
                      }
                    ],
                    "scatterternary": [
                      {
                        "marker": {
                          "colorbar": {
                            "outlinewidth": 0,
                            "ticks": ""
                          }
                        },
                        "type": "scatterternary"
                      }
                    ],
                    "surface": [
                      {
                        "colorbar": {
                          "outlinewidth": 0,
                          "ticks": ""
                        },
                        "colorscale": [
                          [
                            0,
                            "#0d0887"
                          ],
                          [
                            0.1111111111111111,
                            "#46039f"
                          ],
                          [
                            0.2222222222222222,
                            "#7201a8"
                          ],
                          [
                            0.3333333333333333,
                            "#9c179e"
                          ],
                          [
                            0.4444444444444444,
                            "#bd3786"
                          ],
                          [
                            0.5555555555555556,
                            "#d8576b"
                          ],
                          [
                            0.6666666666666666,
                            "#ed7953"
                          ],
                          [
                            0.7777777777777778,
                            "#fb9f3a"
                          ],
                          [
                            0.8888888888888888,
                            "#fdca26"
                          ],
                          [
                            1,
                            "#f0f921"
                          ]
                        ],
                        "type": "surface"
                      }
                    ],
                    "table": [
                      {
                        "cells": {
                          "fill": {
                            "color": "#EBF0F8"
                          },
                          "line": {
                            "color": "white"
                          }
                        },
                        "header": {
                          "fill": {
                            "color": "#C8D4E3"
                          },
                          "line": {
                            "color": "white"
                          }
                        },
                        "type": "table"
                      }
                    ]
                  },
                  "layout": {
                    "annotationdefaults": {
                      "arrowcolor": "#2a3f5f",
                      "arrowhead": 0,
                      "arrowwidth": 1
                    },
                    "autotypenumbers": "strict",
                    "coloraxis": {
                      "colorbar": {
                        "outlinewidth": 0,
                        "ticks": ""
                      }
                    },
                    "colorscale": {
                      "diverging": [
                        [
                          0,
                          "#8e0152"
                        ],
                        [
                          0.1,
                          "#c51b7d"
                        ],
                        [
                          0.2,
                          "#de77ae"
                        ],
                        [
                          0.3,
                          "#f1b6da"
                        ],
                        [
                          0.4,
                          "#fde0ef"
                        ],
                        [
                          0.5,
                          "#f7f7f7"
                        ],
                        [
                          0.6,
                          "#e6f5d0"
                        ],
                        [
                          0.7,
                          "#b8e186"
                        ],
                        [
                          0.8,
                          "#7fbc41"
                        ],
                        [
                          0.9,
                          "#4d9221"
                        ],
                        [
                          1,
                          "#276419"
                        ]
                      ],
                      "sequential": [
                        [
                          0,
                          "#0d0887"
                        ],
                        [
                          0.1111111111111111,
                          "#46039f"
                        ],
                        [
                          0.2222222222222222,
                          "#7201a8"
                        ],
                        [
                          0.3333333333333333,
                          "#9c179e"
                        ],
                        [
                          0.4444444444444444,
                          "#bd3786"
                        ],
                        [
                          0.5555555555555556,
                          "#d8576b"
                        ],
                        [
                          0.6666666666666666,
                          "#ed7953"
                        ],
                        [
                          0.7777777777777778,
                          "#fb9f3a"
                        ],
                        [
                          0.8888888888888888,
                          "#fdca26"
                        ],
                        [
                          1,
                          "#f0f921"
                        ]
                      ],
                      "sequentialminus": [
                        [
                          0,
                          "#0d0887"
                        ],
                        [
                          0.1111111111111111,
                          "#46039f"
                        ],
                        [
                          0.2222222222222222,
                          "#7201a8"
                        ],
                        [
                          0.3333333333333333,
                          "#9c179e"
                        ],
                        [
                          0.4444444444444444,
                          "#bd3786"
                        ],
                        [
                          0.5555555555555556,
                          "#d8576b"
                        ],
                        [
                          0.6666666666666666,
                          "#ed7953"
                        ],
                        [
                          0.7777777777777778,
                          "#fb9f3a"
                        ],
                        [
                          0.8888888888888888,
                          "#fdca26"
                        ],
                        [
                          1,
                          "#f0f921"
                        ]
                      ]
                    },
                    "colorway": [
                      "#636efa",
                      "#EF553B",
                      "#00cc96",
                      "#ab63fa",
                      "#FFA15A",
                      "#19d3f3",
                      "#FF6692",
                      "#B6E880",
                      "#FF97FF",
                      "#FECB52"
                    ],
                    "font": {
                      "color": "#2a3f5f"
                    },
                    "geo": {
                      "bgcolor": "white",
                      "lakecolor": "white",
                      "landcolor": "#E5ECF6",
                      "showlakes": true,
                      "showland": true,
                      "subunitcolor": "white"
                    },
                    "hoverlabel": {
                      "align": "left"
                    },
                    "hovermode": "closest",
                    "mapbox": {
                      "style": "light"
                    },
                    "paper_bgcolor": "white",
                    "plot_bgcolor": "#E5ECF6",
                    "polar": {
                      "angularaxis": {
                        "gridcolor": "white",
                        "linecolor": "white",
                        "ticks": ""
                      },
                      "bgcolor": "#E5ECF6",
                      "radialaxis": {
                        "gridcolor": "white",
                        "linecolor": "white",
                        "ticks": ""
                      }
                    },
                    "scene": {
                      "xaxis": {
                        "backgroundcolor": "#E5ECF6",
                        "gridcolor": "white",
                        "gridwidth": 2,
                        "linecolor": "white",
                        "showbackground": true,
                        "ticks": "",
                        "zerolinecolor": "white"
                      },
                      "yaxis": {
                        "backgroundcolor": "#E5ECF6",
                        "gridcolor": "white",
                        "gridwidth": 2,
                        "linecolor": "white",
                        "showbackground": true,
                        "ticks": "",
                        "zerolinecolor": "white"
                      },
                      "zaxis": {
                        "backgroundcolor": "#E5ECF6",
                        "gridcolor": "white",
                        "gridwidth": 2,
                        "linecolor": "white",
                        "showbackground": true,
                        "ticks": "",
                        "zerolinecolor": "white"
                      }
                    },
                    "shapedefaults": {
                      "line": {
                        "color": "#2a3f5f"
                      }
                    },
                    "ternary": {
                      "aaxis": {
                        "gridcolor": "white",
                        "linecolor": "white",
                        "ticks": ""
                      },
                      "baxis": {
                        "gridcolor": "white",
                        "linecolor": "white",
                        "ticks": ""
                      },
                      "bgcolor": "#E5ECF6",
                      "caxis": {
                        "gridcolor": "white",
                        "linecolor": "white",
                        "ticks": ""
                      }
                    },
                    "title": {
                      "x": 0.05
                    },
                    "xaxis": {
                      "automargin": true,
                      "gridcolor": "white",
                      "linecolor": "white",
                      "ticks": "",
                      "title": {
                        "standoff": 15
                      },
                      "zerolinecolor": "white",
                      "zerolinewidth": 2
                    },
                    "yaxis": {
                      "automargin": true,
                      "gridcolor": "white",
                      "linecolor": "white",
                      "ticks": "",
                      "title": {
                        "standoff": 15
                      },
                      "zerolinecolor": "white",
                      "zerolinewidth": 2
                    }
                  }
                },
                "title": {
                  "text": "Patching output of attention heads (corrupted -> clean)"
                },
                "width": 600,
                "xaxis": {
                  "anchor": "y",
                  "constrain": "domain",
                  "domain": [
                    0,
                    1
                  ],
                  "linecolor": "black",
                  "linewidth": 1,
                  "mirror": true,
                  "scaleanchor": "y",
                  "showline": true,
                  "title": {
                    "text": "Head"
                  }
                },
                "yaxis": {
                  "anchor": "x",
                  "autorange": "reversed",
                  "constrain": "domain",
                  "domain": [
                    0,
                    1
                  ],
                  "linecolor": "black",
                  "linewidth": 1,
                  "mirror": true,
                  "showline": true,
                  "title": {
                    "text": "Layer"
                  }
                }
              }
            }
          },
          "metadata": {},
          "output_type": "display_data"
        }
      ],
      "source": [
        "imshow_p(\n",
        "    results['z'] * 100,\n",
        "    title=\"Patching output of attention heads (corrupted -> clean)\",\n",
        "    labels={\"x\": \"Head\", \"y\": \"Layer\", \"color\": \"Logit diff variation\"},\n",
        "    coloraxis=dict(colorbar_ticksuffix = \"%\"),\n",
        "    border=True,\n",
        "    width=600,\n",
        "    margin={\"r\": 100, \"l\": 100}\n",
        ")"
      ]
    },
    {
      "attachments": {},
      "cell_type": "markdown",
      "metadata": {},
      "source": [
        "#### Head Output by Component"
      ]
    },
    {
      "cell_type": "code",
      "execution_count": 25,
      "metadata": {},
      "outputs": [
        {
          "data": {
            "application/vnd.jupyter.widget-view+json": {
              "model_id": "faaa5fbc82594e84897c46964c8c9ac9",
              "version_major": 2,
              "version_minor": 0
            },
            "text/plain": [
              "  0%|          | 0/720 [00:00<?, ?it/s]"
            ]
          },
          "metadata": {},
          "output_type": "display_data"
        },
        {
          "name": "stdout",
          "output_type": "stream",
          "text": [
            "results['z'].shape = (layer=12, head=12)\n",
            "results['q'].shape = (layer=12, head=12)\n",
            "results['k'].shape = (layer=12, head=12)\n",
            "results['v'].shape = (layer=12, head=12)\n",
            "results['pattern'].shape = (layer=12, head=12)\n"
          ]
        }
      ],
      "source": [
        "# iterating over all heads' output in all layers\n",
        "\n",
        "results = act_patch(\n",
        "    model=model,\n",
        "    orig_input=corrupted_tokens,\n",
        "    new_cache=clean_cache,\n",
        "    patching_nodes=IterNode([\"z\", \"q\", \"k\", \"v\", \"pattern\"]),\n",
        "    patching_metric=logit_diff_denoising,\n",
        "    verbose=True,\n",
        ")"
      ]
    },
    {
      "cell_type": "code",
      "execution_count": 26,
      "metadata": {},
      "outputs": [
        {
          "data": {
            "application/vnd.plotly.v1+json": {
              "config": {
                "plotlyServerURL": "https://plot.ly"
              },
              "data": [
                {
                  "coloraxis": "coloraxis",
                  "hovertemplate": "Head: %{x}<br>Layer: %{y}<br>Logit diff variation: %{z}<extra></extra>",
                  "name": "0",
                  "type": "heatmap",
                  "xaxis": "x",
                  "yaxis": "y",
                  "z": [
                    [
                      -0.07183662056922913,
                      0.11746307462453842,
                      -0.08894205093383789,
                      1.5334441661834717,
                      2.525461196899414,
                      0.7479759454727173,
                      1.4088995456695557,
                      0.10168766975402832,
                      -0.07259149849414825,
                      -0.3268004059791565,
                      0.37864047288894653,
                      0.1623089611530304
                    ],
                    [
                      0.07906701415777206,
                      0.048342980444431305,
                      -0.10779858380556107,
                      -0.012843189761042595,
                      -0.08385304361581802,
                      -1.110168218612671,
                      0.3791539967060089,
                      -0.0843665674328804,
                      -0.25966763496398926,
                      -0.004816838540136814,
                      -0.010239633731544018,
                      0.6998640298843384
                    ],
                    [
                      0.019005456939339638,
                      2.7271676063537598,
                      0.08809474110603333,
                      -0.03950526565313339,
                      -0.09459593147039413,
                      0.0416877344250679,
                      -0.11995366215705872,
                      -0.16942638158798218,
                      0.2966155707836151,
                      -0.465030312538147,
                      0.06978253275156021,
                      -0.04363911971449852
                    ],
                    [
                      0.17006829380989075,
                      -0.42987456917762756,
                      0.298577219247818,
                      -0.061961591243743896,
                      0.05680069327354431,
                      1.0648550987243652,
                      0.03325570002198219,
                      -0.753609299659729,
                      0.31253987550735474,
                      0.07890782505273819,
                      0.5482568740844727,
                      2.0134949684143066
                    ],
                    [
                      0.004673052113503218,
                      0.07166202366352081,
                      0.21724556386470795,
                      -0.35886988043785095,
                      -0.38618409633636475,
                      -0.10409095883369446,
                      -0.08676470816135406,
                      1.7959926128387451,
                      0.6901635527610779,
                      -0.49257567524909973,
                      0.5441024899482727,
                      -1.8183616399765015
                    ],
                    [
                      -0.09881195425987244,
                      0.31339746713638306,
                      -0.3174183666706085,
                      1.1967942714691162,
                      0.7077620029449463,
                      2.043001890182495,
                      -0.015400531701743603,
                      2.2991673946380615,
                      -1.286362886428833,
                      0.2578549087047577,
                      2.5284295082092285,
                      -6.209828853607178
                    ],
                    [
                      0.6179007887840271,
                      -0.31761860847473145,
                      -1.2763338088989258,
                      -1.7773363590240479,
                      15.166419982910156,
                      -0.052440889179706573,
                      -4.812699317932129,
                      0.4228034019470215,
                      0.08781229704618454,
                      1.092056393623352,
                      1.8234505653381348,
                      0.47895702719688416
                    ],
                    [
                      0.10195469856262207,
                      22.465682983398438,
                      0.35036081075668335,
                      -0.36591026186943054,
                      0.1101761907339096,
                      16.15406608581543,
                      -12.268831253051758,
                      0.07715670764446259,
                      0.9409884214401245,
                      1.34981369972229,
                      0.7421423196792603,
                      0.0763402134180069
                    ],
                    [
                      -0.6376199722290039,
                      0.04551861062645912,
                      4.588978290557861,
                      0.4939827024936676,
                      0.1491217166185379,
                      11.740278244018555,
                      0.5768600106239319,
                      0.8864471912384033,
                      1.3668420314788818,
                      1.9029388427734375,
                      -6.099216461181641,
                      1.16398024559021
                    ],
                    [
                      -0.05030463635921478,
                      1.0611474514007568,
                      10.600692749023438,
                      5.039111614227295,
                      0.13780368864536285,
                      -3.5718600749969482,
                      2.8669021129608154,
                      -3.3319427967071533,
                      0.17327781021595,
                      1.5926789045333862,
                      3.759218692779541,
                      0.05991264060139656
                    ],
                    [
                      4.548769474029541,
                      8.804271697998047,
                      -0.03899687901139259,
                      -0.35462304949760437,
                      31.857629776000977,
                      0.8794683814048767,
                      -0.1705150604248047,
                      -8.871908187866211,
                      -0.07529262453317642,
                      0.9384207725524902,
                      0.9078969955444336,
                      2.8124892711639404
                    ],
                    [
                      -0.2006177306175232,
                      0.29338550567626953,
                      0.12857569754123688,
                      1.1728949546813965,
                      0.1565113067626953,
                      0.22837361693382263,
                      0.003928444813936949,
                      0.6697049140930176,
                      2.217707395553589,
                      3.2615180015563965,
                      -0.2149706780910492,
                      2.4151103496551514
                    ]
                  ]
                },
                {
                  "coloraxis": "coloraxis",
                  "hovertemplate": "Head: %{x}<br>Layer: %{y}<br>Logit diff variation: %{z}<extra></extra>",
                  "name": "1",
                  "type": "heatmap",
                  "xaxis": "x2",
                  "yaxis": "y2",
                  "z": [
                    [
                      -0.172748863697052,
                      -1.2425286769866943,
                      0.04246829077601433,
                      0.007754185236990452,
                      0.06595166027545929,
                      2.632232666015625,
                      0.06870413571596146,
                      0.060759950429201126,
                      -0.19665847718715668,
                      -0.17364241182804108,
                      -0.9312058091163635,
                      -0.10426042228937149
                    ],
                    [
                      0.057221781462430954,
                      0.10642748326063156,
                      -0.0010270444909110665,
                      -0.0165764968842268,
                      0.0043187215924263,
                      -0.09074965119361877,
                      -0.03815469890832901,
                      0.11985094845294952,
                      0.17464891076087952,
                      0.02970212697982788,
                      -0.004714134149253368,
                      0.22395730018615723
                    ],
                    [
                      -0.16682283580303192,
                      0.23312880098819733,
                      0.1144692450761795,
                      0.4188081622123718,
                      -0.11092593520879745,
                      0.2523140013217926,
                      0.10903617739677429,
                      0.0063574048690497875,
                      -0.02139333449304104,
                      0.4958930015563965,
                      -0.05194791033864021,
                      0.19399842619895935
                    ],
                    [
                      -0.8803465366363525,
                      -0.11067944765090942,
                      0.20528563857078552,
                      -0.10460960865020752,
                      -0.20062799751758575,
                      -0.13650447130203247,
                      0.06677842885255814,
                      0.5325071811676025,
                      0.017644623294472694,
                      -0.0172748863697052,
                      0.093943752348423,
                      0.02517286129295826
                    ],
                    [
                      0.04703349992632866,
                      0.08029946684837341,
                      -0.018800048157572746,
                      -0.011112621054053307,
                      0.198055237531662,
                      -0.06382054090499878,
                      -0.019103026017546654,
                      -0.10206767916679382,
                      -0.29515203833580017,
                      -0.08969178795814514,
                      0.04574969410896301,
                      0.010907212272286415
                    ],
                    [
                      0.02755560353398323,
                      -0.9121438264846802,
                      0.1782846450805664,
                      -0.2875930070877075,
                      -0.03445734083652496,
                      -2.900137186050415,
                      0.09161750227212906,
                      -0.025275565683841705,
                      -0.17937330901622772,
                      -1.366503119468689,
                      -0.2643252909183502,
                      -0.33793357014656067
                    ],
                    [
                      0.363044798374176,
                      0.057206373661756516,
                      -0.7563360333442688,
                      -0.059866420924663544,
                      -0.5093729496002197,
                      -0.17215831577777863,
                      -0.40401872992515564,
                      -0.036819543689489365,
                      -0.008185544051229954,
                      -0.45541203022003174,
                      0.13716691732406616,
                      -0.08399169147014618
                    ],
                    [
                      0.003692224621772766,
                      -0.1792757362127304,
                      -0.008976368233561516,
                      -0.11146000027656555,
                      0.11037646234035492,
                      0.0006162266945466399,
                      -0.4855557680130005,
                      0.078728087246418,
                      0.12080609798431396,
                      -0.1417578011751175,
                      -0.025090694427490234,
                      0.025244751945137978
                    ],
                    [
                      -0.0026600451674312353,
                      -0.03716873750090599,
                      -0.1398731768131256,
                      -0.06303998827934265,
                      0.08068975061178207,
                      -0.09515053033828735,
                      0.04315640777349472,
                      0.014809980057179928,
                      -0.03222865238785744,
                      -0.034395717084407806,
                      -0.9845453500747681,
                      0.02355012856423855
                    ],
                    [
                      -0.7673460245132446,
                      0.018055440858006477,
                      0.8056034445762634,
                      0.11700603365898132,
                      -0.14708302915096283,
                      -0.4046863317489624,
                      0.16011622548103333,
                      -0.31400856375694275,
                      -0.12281911075115204,
                      0.06560759991407394,
                      -0.03263946995139122,
                      -0.0015662427758798003
                    ],
                    [
                      0.154559925198555,
                      0.9129346609115601,
                      -0.21789774298667908,
                      0.07383422553539276,
                      0.25877413153648376,
                      0.053154684603214264,
                      -0.02155766263604164,
                      -3.0831050872802734,
                      -0.004888731520622969,
                      -0.04001878574490547,
                      0.03817524015903473,
                      0.3459034264087677
                    ],
                    [
                      -0.0873398631811142,
                      0.1037263572216034,
                      -0.054813362658023834,
                      -0.6542016267776489,
                      -0.08223544806241989,
                      -0.00563847366720438,
                      0.060580216348171234,
                      -0.1585243195295334,
                      -0.08878286182880402,
                      -0.03952580317854881,
                      -0.2879575788974762,
                      0.04055285081267357
                    ]
                  ]
                },
                {
                  "coloraxis": "coloraxis",
                  "hovertemplate": "Head: %{x}<br>Layer: %{y}<br>Logit diff variation: %{z}<extra></extra>",
                  "name": "2",
                  "type": "heatmap",
                  "xaxis": "x3",
                  "yaxis": "y3",
                  "z": [
                    [
                      -0.10427068918943405,
                      -1.3681052923202515,
                      0.004118448123335838,
                      0.11079754680395126,
                      -0.0077131036669015884,
                      2.934589385986328,
                      -0.17935790121555328,
                      0.08834122866392136,
                      -0.13680745661258698,
                      -0.02037656307220459,
                      -0.7397441864013672,
                      -0.009186912328004837
                    ],
                    [
                      0.04144124314188957,
                      0.023586075752973557,
                      -0.03172540292143822,
                      0.04815297573804855,
                      -0.004945219028741121,
                      -0.12047744542360306,
                      -0.10817345231771469,
                      0.020027367398142815,
                      0.01609378680586815,
                      -0.0644264966249466,
                      -0.01271994598209858,
                      0.07281231880187988
                    ],
                    [
                      -0.05930668115615845,
                      0.054561737924814224,
                      0.036573052406311035,
                      0.5001398324966431,
                      0.017891114577651024,
                      0.22249378263950348,
                      -0.08246653527021408,
                      0.0364292673766613,
                      0.17495189607143402,
                      0.4409152865409851,
                      -0.008360141888260841,
                      0.1253969967365265
                    ],
                    [
                      -0.7234089970588684,
                      0.06090886890888214,
                      0.17733976244926453,
                      0.07631967216730118,
                      -0.2362561672925949,
                      0.09161236137151718,
                      0.08303654193878174,
                      0.7450847625732422,
                      0.05370929092168808,
                      -0.0852806344628334,
                      -0.00586955901235342,
                      -0.05692393705248833
                    ],
                    [
                      0.08705228567123413,
                      -0.11481843143701553,
                      0.0781169980764389,
                      0.18563315272331238,
                      -0.007702833041548729,
                      0.05022760480642319,
                      0.08386845141649246,
                      0.11450004577636719,
                      0.048117030411958694,
                      -0.056513119488954544,
                      0.1398731768131256,
                      -0.18489880859851837
                    ],
                    [
                      0.1343630850315094,
                      -0.8129313588142395,
                      0.2516977787017822,
                      0.10073766112327576,
                      -0.02257443778216839,
                      -2.2931230068206787,
                      0.020325209945440292,
                      0.4081474542617798,
                      0.04008040949702263,
                      -0.8774040341377258,
                      -0.16442467272281647,
                      -0.33153507113456726
                    ],
                    [
                      -0.07893349975347519,
                      -0.029424821957945824,
                      0.08884447813034058,
                      0.02733992226421833,
                      -0.02587638422846794,
                      0.16287384927272797,
                      -0.06420055031776428,
                      0.1711980253458023,
                      0.018851401284337044,
                      -0.34865590929985046,
                      -0.1260286271572113,
                      -0.12745621800422668
                    ],
                    [
                      0.06293214857578278,
                      -2.102724552154541,
                      -0.019277622923254967,
                      -0.10167226195335388,
                      0.05018138885498047,
                      -0.33306023478507996,
                      -0.08319059759378433,
                      -0.16556982696056366,
                      -0.010039359331130981,
                      -0.21597205102443695,
                      0.09382564574480057,
                      0.012139664962887764
                    ],
                    [
                      -0.03451382741332054,
                      -0.015148906037211418,
                      0.19278137385845184,
                      -0.02542961947619915,
                      -0.1820949912071228,
                      0.21643422544002533,
                      -0.02400202862918377,
                      -0.005032517947256565,
                      -0.3801040053367615,
                      0.13326413929462433,
                      -1.1402555704116821,
                      -0.05013517290353775
                    ],
                    [
                      -0.36161720752716064,
                      0.22162078320980072,
                      -0.43822959065437317,
                      -0.09671676903963089,
                      -0.24054409563541412,
                      -0.2592927813529968,
                      0.230134978890419,
                      -0.028331022709608078,
                      0.1789933145046234,
                      0.10970375686883926,
                      -0.010994510725140572,
                      -0.02684180438518524
                    ],
                    [
                      0.5070364475250244,
                      1.1448464393615723,
                      -0.20946571230888367,
                      -0.11261028796434402,
                      0.4613586366176605,
                      0.12873488664627075,
                      -0.31258097290992737,
                      -3.289762020111084,
                      0.023113634437322617,
                      -0.017803816124796867,
                      0.4470878839492798,
                      -0.010183146223425865
                    ],
                    [
                      0.11026863008737564,
                      0.23233799636363983,
                      0.17238426208496094,
                      0.03829335421323776,
                      0.03519681468605995,
                      0.015621345490217209,
                      0.0705476850271225,
                      -0.06227483972907066,
                      0.09081126749515533,
                      0.2633650004863739,
                      -0.3926904499530792,
                      -0.24521198868751526
                    ]
                  ]
                },
                {
                  "coloraxis": "coloraxis",
                  "hovertemplate": "Head: %{x}<br>Layer: %{y}<br>Logit diff variation: %{z}<extra></extra>",
                  "name": "3",
                  "type": "heatmap",
                  "xaxis": "x4",
                  "yaxis": "y4",
                  "z": [
                    [
                      0.1200358122587204,
                      0.11481329798698425,
                      -0.15846268832683563,
                      1.544407844543457,
                      2.4831111431121826,
                      0.7476062178611755,
                      1.2418097257614136,
                      0.1425897181034088,
                      0.09006666392087936,
                      -0.2111808806657791,
                      0.4171392321586609,
                      0.31098392605781555
                    ],
                    [
                      0.05809476599097252,
                      0.03339948505163193,
                      -0.08369384706020355,
                      0.014008886180818081,
                      -0.05940425395965576,
                      -1.2302143573760986,
                      0.36791813373565674,
                      -0.17007341980934143,
                      -0.3832210898399353,
                      -0.01774219237267971,
                      -0.006008210126310587,
                      0.5806652307510376
                    ],
                    [
                      0.04673565924167633,
                      2.578179359436035,
                      -0.06629058718681335,
                      -0.04550320282578468,
                      0.038031455129384995,
                      0.027683982625603676,
                      -0.15401558578014374,
                      -0.18007169663906097,
                      0.18777966499328613,
                      -0.46979066729545593,
                      0.0012581294868141413,
                      -0.14712925255298615
                    ],
                    [
                      0.11852092295885086,
                      -0.29655909538269043,
                      0.15439045429229736,
                      -0.048040006309747696,
                      -0.09865275025367737,
                      1.043256402015686,
                      0.06290647387504578,
                      -0.824845016002655,
                      0.2527658939361572,
                      0.1495530754327774,
                      0.31895890831947327,
                      1.9039863348007202
                    ],
                    [
                      -0.01986817456781864,
                      0.06288079172372818,
                      0.16327951848506927,
                      -0.5034263730049133,
                      -0.5580189228057861,
                      -0.09032342582941055,
                      -0.4927656650543213,
                      2.006798505783081,
                      0.8247628808021545,
                      -0.27945879101753235,
                      0.4283699691295624,
                      -1.8177967071533203
                    ],
                    [
                      -0.11786875873804092,
                      0.348794549703598,
                      -0.5652698874473572,
                      1.342732310295105,
                      0.8014541268348694,
                      1.9152119159698486,
                      0.008668255060911179,
                      1.8762304782867432,
                      -1.3719722032546997,
                      -0.24637769162654877,
                      2.7530388832092285,
                      -6.2105889320373535
                    ],
                    [
                      0.27094459533691406,
                      -0.3361516296863556,
                      -0.7254887819290161,
                      -1.458408236503601,
                      13.484009742736816,
                      0.030559709295630455,
                      -4.455287933349609,
                      -0.5671595931053162,
                      0.09730732440948486,
                      1.0840916633605957,
                      1.862504005432129,
                      0.21832911670207977
                    ],
                    [
                      0.09149938821792603,
                      22.046838760375977,
                      0.3683649003505707,
                      -0.20230206847190857,
                      0.06282944232225418,
                      15.811785697937012,
                      -11.775372505187988,
                      0.0915302038192749,
                      0.7819351553916931,
                      1.4296766519546509,
                      0.6240732669830322,
                      0.03431355580687523
                    ],
                    [
                      -0.6536418795585632,
                      0.06649599224328995,
                      4.782252788543701,
                      0.5511325597763062,
                      0.18079063296318054,
                      11.791199684143066,
                      0.5782362818717957,
                      0.9166731238365173,
                      1.6136819124221802,
                      1.9365642070770264,
                      -6.068528652191162,
                      1.0590317249298096
                    ],
                    [
                      0.9558343291282654,
                      1.0497061014175415,
                      9.15349006652832,
                      5.013199329376221,
                      0.16526685655117035,
                      -3.487976312637329,
                      2.3356685638427734,
                      -3.054717779159546,
                      0.1396729201078415,
                      1.5019806623458862,
                      3.74489688873291,
                      0.18111927807331085
                    ],
                    [
                      3.9596621990203857,
                      7.3028693199157715,
                      0.32208627462387085,
                      -0.3099876940250397,
                      30.940744400024414,
                      0.7059903144836426,
                      0.16462495923042297,
                      -7.420878887176514,
                      -0.09119127690792084,
                      1.0076743364334106,
                      0.41991737484931946,
                      2.8469619750976562
                    ],
                    [
                      -0.22181078791618347,
                      -0.026050981134176254,
                      0.056980427354574203,
                      1.9378172159194946,
                      0.2018861174583435,
                      0.2513485848903656,
                      -0.1363452821969986,
                      1.0028369426727295,
                      2.271627187728882,
                      3.0116536617279053,
                      -0.06697870790958405,
                      2.5572071075439453
                    ]
                  ]
                },
                {
                  "coloraxis": "coloraxis",
                  "hovertemplate": "Head: %{x}<br>Layer: %{y}<br>Logit diff variation: %{z}<extra></extra>",
                  "name": "4",
                  "type": "heatmap",
                  "xaxis": "x5",
                  "yaxis": "y5",
                  "z": [
                    [
                      -0.21177144348621368,
                      -0.001715164165943861,
                      0.04218071326613426,
                      -0.01820949837565422,
                      -0.004370073787868023,
                      0.0016740824794396758,
                      -0.10961645841598511,
                      0.04433237016201019,
                      -0.16806554794311523,
                      -0.06911495327949524,
                      0.051737360656261444,
                      -0.12029771506786346
                    ],
                    [
                      0.00020540888363029808,
                      0.010239633731544018,
                      -0.023555263876914978,
                      -0.030102673918008804,
                      -0.01272508129477501,
                      -0.14062292873859406,
                      -0.02466447278857231,
                      0.16894879937171936,
                      0.14608167111873627,
                      -0.04770107939839363,
                      -0.008724742569029331,
                      0.03046213835477829
                    ],
                    [
                      0.03864768519997597,
                      0.3400081992149353,
                      0.11857227981090546,
                      0.06543300300836563,
                      -0.03941283002495766,
                      0.012283451855182648,
                      0.09952574223279953,
                      0.03906363621354103,
                      0.1118040531873703,
                      -0.003563844133168459,
                      0.04938029497861862,
                      0.10755723714828491
                    ],
                    [
                      0.026990730315446854,
                      -0.12073934823274612,
                      0.09457539021968842,
                      0.005140357650816441,
                      0.09555621445178986,
                      0.014892145060002804,
                      -0.05014031380414963,
                      0.03243406116962433,
                      0.06872981041669846,
                      -0.08759148418903351,
                      0.12174585461616516,
                      -0.17019152641296387
                    ],
                    [
                      0.02540394477546215,
                      -0.0010681261774152517,
                      0.037533339112997055,
                      0.18207956850528717,
                      0.10807588696479797,
                      -0.021434418857097626,
                      0.43292492628097534,
                      -0.11249731481075287,
                      -0.11536276340484619,
                      -0.14365270733833313,
                      0.1469084471464157,
                      -0.0003183837980031967
                    ],
                    [
                      0.025039343163371086,
                      -0.04507698118686676,
                      0.2621017396450043,
                      -0.16305871307849884,
                      -0.07657643407583237,
                      0.24981315433979034,
                      -0.001052720588631928,
                      0.24554066359996796,
                      0.1419580727815628,
                      0.6358277797698975,
                      -0.513666033744812,
                      -0.09516079723834991
                    ],
                    [
                      0.299696683883667,
                      -0.009279347024857998,
                      -0.5160333514213562,
                      0.015759997069835663,
                      0.11984068155288696,
                      -0.13093790411949158,
                      -0.44758594036102295,
                      0.23697510361671448,
                      0.026076659560203552,
                      -0.042591530829668045,
                      0.010255038738250732,
                      0.03458058461546898
                    ],
                    [
                      0.0072817448526620865,
                      -1.4591631889343262,
                      -0.021300900727510452,
                      -0.0705476850271225,
                      0.1432008147239685,
                      0.1856793612241745,
                      -0.15310664474964142,
                      -0.014091050252318382,
                      0.12317857146263123,
                      -0.12239288538694382,
                      0.09211047738790512,
                      0.03884282335639
                    ],
                    [
                      -0.027730200439691544,
                      -0.025850709527730942,
                      0.10424500703811646,
                      -0.06469866633415222,
                      -0.05681609734892845,
                      0.02784830890595913,
                      0.0067887636832892895,
                      0.01057342253625393,
                      -0.39798998832702637,
                      -0.028844544664025307,
                      0.1322781890630722,
                      -0.01752137765288353
                    ],
                    [
                      -1.026525855064392,
                      0.13145655393600464,
                      -1.003263235092163,
                      -0.010619639419019222,
                      -0.05752475559711456,
                      -0.009787733666598797,
                      0.14573760330677032,
                      -0.07126661390066147,
                      0.03839605674147606,
                      0.10942131280899048,
                      -0.07802456617355347,
                      -0.056246086955070496
                    ],
                    [
                      0.26985079050064087,
                      1.0649423599243164,
                      -0.427702397108078,
                      -0.007718238979578018,
                      0.18099091947078705,
                      0.16354142129421234,
                      -0.32114651799201965,
                      -0.7983575463294983,
                      0.015647022053599358,
                      -0.062028348445892334,
                      0.447488397359848,
                      -0.15182285010814667
                    ],
                    [
                      0.031001336872577667,
                      0.3250647187232971,
                      0.06914576888084412,
                      -0.7174367308616638,
                      -0.04820946604013443,
                      -0.008550144731998444,
                      0.10759317129850388,
                      -0.32244575023651123,
                      -0.04792189225554466,
                      0.14779682457447052,
                      -0.16966260969638824,
                      -0.18914563953876495
                    ]
                  ]
                }
              ],
              "layout": {
                "annotations": [
                  {
                    "font": {},
                    "showarrow": false,
                    "text": "Output",
                    "x": 0.09200000000000001,
                    "xanchor": "center",
                    "xref": "paper",
                    "y": 1,
                    "yanchor": "bottom",
                    "yref": "paper"
                  },
                  {
                    "font": {},
                    "showarrow": false,
                    "text": "Query",
                    "x": 0.29600000000000004,
                    "xanchor": "center",
                    "xref": "paper",
                    "y": 1,
                    "yanchor": "bottom",
                    "yref": "paper"
                  },
                  {
                    "font": {},
                    "showarrow": false,
                    "text": "Key",
                    "x": 0.5,
                    "xanchor": "center",
                    "xref": "paper",
                    "y": 1,
                    "yanchor": "bottom",
                    "yref": "paper"
                  },
                  {
                    "font": {},
                    "showarrow": false,
                    "text": "Value",
                    "x": 0.7040000000000002,
                    "xanchor": "center",
                    "xref": "paper",
                    "y": 1,
                    "yanchor": "bottom",
                    "yref": "paper"
                  },
                  {
                    "font": {},
                    "showarrow": false,
                    "text": "Pattern",
                    "x": 0.908,
                    "xanchor": "center",
                    "xref": "paper",
                    "y": 1,
                    "yanchor": "bottom",
                    "yref": "paper"
                  }
                ],
                "coloraxis": {
                  "cmid": 0,
                  "colorbar": {
                    "ticksuffix": "%",
                    "title": {
                      "text": "Logit diff variation"
                    }
                  },
                  "colorscale": [
                    [
                      0,
                      "rgb(103,0,31)"
                    ],
                    [
                      0.1,
                      "rgb(178,24,43)"
                    ],
                    [
                      0.2,
                      "rgb(214,96,77)"
                    ],
                    [
                      0.3,
                      "rgb(244,165,130)"
                    ],
                    [
                      0.4,
                      "rgb(253,219,199)"
                    ],
                    [
                      0.5,
                      "rgb(247,247,247)"
                    ],
                    [
                      0.6,
                      "rgb(209,229,240)"
                    ],
                    [
                      0.7,
                      "rgb(146,197,222)"
                    ],
                    [
                      0.8,
                      "rgb(67,147,195)"
                    ],
                    [
                      0.9,
                      "rgb(33,102,172)"
                    ],
                    [
                      1,
                      "rgb(5,48,97)"
                    ]
                  ]
                },
                "margin": {
                  "l": 100,
                  "r": 100
                },
                "template": {
                  "data": {
                    "bar": [
                      {
                        "error_x": {
                          "color": "#2a3f5f"
                        },
                        "error_y": {
                          "color": "#2a3f5f"
                        },
                        "marker": {
                          "line": {
                            "color": "#E5ECF6",
                            "width": 0.5
                          },
                          "pattern": {
                            "fillmode": "overlay",
                            "size": 10,
                            "solidity": 0.2
                          }
                        },
                        "type": "bar"
                      }
                    ],
                    "barpolar": [
                      {
                        "marker": {
                          "line": {
                            "color": "#E5ECF6",
                            "width": 0.5
                          },
                          "pattern": {
                            "fillmode": "overlay",
                            "size": 10,
                            "solidity": 0.2
                          }
                        },
                        "type": "barpolar"
                      }
                    ],
                    "carpet": [
                      {
                        "aaxis": {
                          "endlinecolor": "#2a3f5f",
                          "gridcolor": "white",
                          "linecolor": "white",
                          "minorgridcolor": "white",
                          "startlinecolor": "#2a3f5f"
                        },
                        "baxis": {
                          "endlinecolor": "#2a3f5f",
                          "gridcolor": "white",
                          "linecolor": "white",
                          "minorgridcolor": "white",
                          "startlinecolor": "#2a3f5f"
                        },
                        "type": "carpet"
                      }
                    ],
                    "choropleth": [
                      {
                        "colorbar": {
                          "outlinewidth": 0,
                          "ticks": ""
                        },
                        "type": "choropleth"
                      }
                    ],
                    "contour": [
                      {
                        "colorbar": {
                          "outlinewidth": 0,
                          "ticks": ""
                        },
                        "colorscale": [
                          [
                            0,
                            "#0d0887"
                          ],
                          [
                            0.1111111111111111,
                            "#46039f"
                          ],
                          [
                            0.2222222222222222,
                            "#7201a8"
                          ],
                          [
                            0.3333333333333333,
                            "#9c179e"
                          ],
                          [
                            0.4444444444444444,
                            "#bd3786"
                          ],
                          [
                            0.5555555555555556,
                            "#d8576b"
                          ],
                          [
                            0.6666666666666666,
                            "#ed7953"
                          ],
                          [
                            0.7777777777777778,
                            "#fb9f3a"
                          ],
                          [
                            0.8888888888888888,
                            "#fdca26"
                          ],
                          [
                            1,
                            "#f0f921"
                          ]
                        ],
                        "type": "contour"
                      }
                    ],
                    "contourcarpet": [
                      {
                        "colorbar": {
                          "outlinewidth": 0,
                          "ticks": ""
                        },
                        "type": "contourcarpet"
                      }
                    ],
                    "heatmap": [
                      {
                        "colorbar": {
                          "outlinewidth": 0,
                          "ticks": ""
                        },
                        "colorscale": [
                          [
                            0,
                            "#0d0887"
                          ],
                          [
                            0.1111111111111111,
                            "#46039f"
                          ],
                          [
                            0.2222222222222222,
                            "#7201a8"
                          ],
                          [
                            0.3333333333333333,
                            "#9c179e"
                          ],
                          [
                            0.4444444444444444,
                            "#bd3786"
                          ],
                          [
                            0.5555555555555556,
                            "#d8576b"
                          ],
                          [
                            0.6666666666666666,
                            "#ed7953"
                          ],
                          [
                            0.7777777777777778,
                            "#fb9f3a"
                          ],
                          [
                            0.8888888888888888,
                            "#fdca26"
                          ],
                          [
                            1,
                            "#f0f921"
                          ]
                        ],
                        "type": "heatmap"
                      }
                    ],
                    "heatmapgl": [
                      {
                        "colorbar": {
                          "outlinewidth": 0,
                          "ticks": ""
                        },
                        "colorscale": [
                          [
                            0,
                            "#0d0887"
                          ],
                          [
                            0.1111111111111111,
                            "#46039f"
                          ],
                          [
                            0.2222222222222222,
                            "#7201a8"
                          ],
                          [
                            0.3333333333333333,
                            "#9c179e"
                          ],
                          [
                            0.4444444444444444,
                            "#bd3786"
                          ],
                          [
                            0.5555555555555556,
                            "#d8576b"
                          ],
                          [
                            0.6666666666666666,
                            "#ed7953"
                          ],
                          [
                            0.7777777777777778,
                            "#fb9f3a"
                          ],
                          [
                            0.8888888888888888,
                            "#fdca26"
                          ],
                          [
                            1,
                            "#f0f921"
                          ]
                        ],
                        "type": "heatmapgl"
                      }
                    ],
                    "histogram": [
                      {
                        "marker": {
                          "pattern": {
                            "fillmode": "overlay",
                            "size": 10,
                            "solidity": 0.2
                          }
                        },
                        "type": "histogram"
                      }
                    ],
                    "histogram2d": [
                      {
                        "colorbar": {
                          "outlinewidth": 0,
                          "ticks": ""
                        },
                        "colorscale": [
                          [
                            0,
                            "#0d0887"
                          ],
                          [
                            0.1111111111111111,
                            "#46039f"
                          ],
                          [
                            0.2222222222222222,
                            "#7201a8"
                          ],
                          [
                            0.3333333333333333,
                            "#9c179e"
                          ],
                          [
                            0.4444444444444444,
                            "#bd3786"
                          ],
                          [
                            0.5555555555555556,
                            "#d8576b"
                          ],
                          [
                            0.6666666666666666,
                            "#ed7953"
                          ],
                          [
                            0.7777777777777778,
                            "#fb9f3a"
                          ],
                          [
                            0.8888888888888888,
                            "#fdca26"
                          ],
                          [
                            1,
                            "#f0f921"
                          ]
                        ],
                        "type": "histogram2d"
                      }
                    ],
                    "histogram2dcontour": [
                      {
                        "colorbar": {
                          "outlinewidth": 0,
                          "ticks": ""
                        },
                        "colorscale": [
                          [
                            0,
                            "#0d0887"
                          ],
                          [
                            0.1111111111111111,
                            "#46039f"
                          ],
                          [
                            0.2222222222222222,
                            "#7201a8"
                          ],
                          [
                            0.3333333333333333,
                            "#9c179e"
                          ],
                          [
                            0.4444444444444444,
                            "#bd3786"
                          ],
                          [
                            0.5555555555555556,
                            "#d8576b"
                          ],
                          [
                            0.6666666666666666,
                            "#ed7953"
                          ],
                          [
                            0.7777777777777778,
                            "#fb9f3a"
                          ],
                          [
                            0.8888888888888888,
                            "#fdca26"
                          ],
                          [
                            1,
                            "#f0f921"
                          ]
                        ],
                        "type": "histogram2dcontour"
                      }
                    ],
                    "mesh3d": [
                      {
                        "colorbar": {
                          "outlinewidth": 0,
                          "ticks": ""
                        },
                        "type": "mesh3d"
                      }
                    ],
                    "parcoords": [
                      {
                        "line": {
                          "colorbar": {
                            "outlinewidth": 0,
                            "ticks": ""
                          }
                        },
                        "type": "parcoords"
                      }
                    ],
                    "pie": [
                      {
                        "automargin": true,
                        "type": "pie"
                      }
                    ],
                    "scatter": [
                      {
                        "fillpattern": {
                          "fillmode": "overlay",
                          "size": 10,
                          "solidity": 0.2
                        },
                        "type": "scatter"
                      }
                    ],
                    "scatter3d": [
                      {
                        "line": {
                          "colorbar": {
                            "outlinewidth": 0,
                            "ticks": ""
                          }
                        },
                        "marker": {
                          "colorbar": {
                            "outlinewidth": 0,
                            "ticks": ""
                          }
                        },
                        "type": "scatter3d"
                      }
                    ],
                    "scattercarpet": [
                      {
                        "marker": {
                          "colorbar": {
                            "outlinewidth": 0,
                            "ticks": ""
                          }
                        },
                        "type": "scattercarpet"
                      }
                    ],
                    "scattergeo": [
                      {
                        "marker": {
                          "colorbar": {
                            "outlinewidth": 0,
                            "ticks": ""
                          }
                        },
                        "type": "scattergeo"
                      }
                    ],
                    "scattergl": [
                      {
                        "marker": {
                          "colorbar": {
                            "outlinewidth": 0,
                            "ticks": ""
                          }
                        },
                        "type": "scattergl"
                      }
                    ],
                    "scattermapbox": [
                      {
                        "marker": {
                          "colorbar": {
                            "outlinewidth": 0,
                            "ticks": ""
                          }
                        },
                        "type": "scattermapbox"
                      }
                    ],
                    "scatterpolar": [
                      {
                        "marker": {
                          "colorbar": {
                            "outlinewidth": 0,
                            "ticks": ""
                          }
                        },
                        "type": "scatterpolar"
                      }
                    ],
                    "scatterpolargl": [
                      {
                        "marker": {
                          "colorbar": {
                            "outlinewidth": 0,
                            "ticks": ""
                          }
                        },
                        "type": "scatterpolargl"
                      }
                    ],
                    "scatterternary": [
                      {
                        "marker": {
                          "colorbar": {
                            "outlinewidth": 0,
                            "ticks": ""
                          }
                        },
                        "type": "scatterternary"
                      }
                    ],
                    "surface": [
                      {
                        "colorbar": {
                          "outlinewidth": 0,
                          "ticks": ""
                        },
                        "colorscale": [
                          [
                            0,
                            "#0d0887"
                          ],
                          [
                            0.1111111111111111,
                            "#46039f"
                          ],
                          [
                            0.2222222222222222,
                            "#7201a8"
                          ],
                          [
                            0.3333333333333333,
                            "#9c179e"
                          ],
                          [
                            0.4444444444444444,
                            "#bd3786"
                          ],
                          [
                            0.5555555555555556,
                            "#d8576b"
                          ],
                          [
                            0.6666666666666666,
                            "#ed7953"
                          ],
                          [
                            0.7777777777777778,
                            "#fb9f3a"
                          ],
                          [
                            0.8888888888888888,
                            "#fdca26"
                          ],
                          [
                            1,
                            "#f0f921"
                          ]
                        ],
                        "type": "surface"
                      }
                    ],
                    "table": [
                      {
                        "cells": {
                          "fill": {
                            "color": "#EBF0F8"
                          },
                          "line": {
                            "color": "white"
                          }
                        },
                        "header": {
                          "fill": {
                            "color": "#C8D4E3"
                          },
                          "line": {
                            "color": "white"
                          }
                        },
                        "type": "table"
                      }
                    ]
                  },
                  "layout": {
                    "annotationdefaults": {
                      "arrowcolor": "#2a3f5f",
                      "arrowhead": 0,
                      "arrowwidth": 1
                    },
                    "autotypenumbers": "strict",
                    "coloraxis": {
                      "colorbar": {
                        "outlinewidth": 0,
                        "ticks": ""
                      }
                    },
                    "colorscale": {
                      "diverging": [
                        [
                          0,
                          "#8e0152"
                        ],
                        [
                          0.1,
                          "#c51b7d"
                        ],
                        [
                          0.2,
                          "#de77ae"
                        ],
                        [
                          0.3,
                          "#f1b6da"
                        ],
                        [
                          0.4,
                          "#fde0ef"
                        ],
                        [
                          0.5,
                          "#f7f7f7"
                        ],
                        [
                          0.6,
                          "#e6f5d0"
                        ],
                        [
                          0.7,
                          "#b8e186"
                        ],
                        [
                          0.8,
                          "#7fbc41"
                        ],
                        [
                          0.9,
                          "#4d9221"
                        ],
                        [
                          1,
                          "#276419"
                        ]
                      ],
                      "sequential": [
                        [
                          0,
                          "#0d0887"
                        ],
                        [
                          0.1111111111111111,
                          "#46039f"
                        ],
                        [
                          0.2222222222222222,
                          "#7201a8"
                        ],
                        [
                          0.3333333333333333,
                          "#9c179e"
                        ],
                        [
                          0.4444444444444444,
                          "#bd3786"
                        ],
                        [
                          0.5555555555555556,
                          "#d8576b"
                        ],
                        [
                          0.6666666666666666,
                          "#ed7953"
                        ],
                        [
                          0.7777777777777778,
                          "#fb9f3a"
                        ],
                        [
                          0.8888888888888888,
                          "#fdca26"
                        ],
                        [
                          1,
                          "#f0f921"
                        ]
                      ],
                      "sequentialminus": [
                        [
                          0,
                          "#0d0887"
                        ],
                        [
                          0.1111111111111111,
                          "#46039f"
                        ],
                        [
                          0.2222222222222222,
                          "#7201a8"
                        ],
                        [
                          0.3333333333333333,
                          "#9c179e"
                        ],
                        [
                          0.4444444444444444,
                          "#bd3786"
                        ],
                        [
                          0.5555555555555556,
                          "#d8576b"
                        ],
                        [
                          0.6666666666666666,
                          "#ed7953"
                        ],
                        [
                          0.7777777777777778,
                          "#fb9f3a"
                        ],
                        [
                          0.8888888888888888,
                          "#fdca26"
                        ],
                        [
                          1,
                          "#f0f921"
                        ]
                      ]
                    },
                    "colorway": [
                      "#636efa",
                      "#EF553B",
                      "#00cc96",
                      "#ab63fa",
                      "#FFA15A",
                      "#19d3f3",
                      "#FF6692",
                      "#B6E880",
                      "#FF97FF",
                      "#FECB52"
                    ],
                    "font": {
                      "color": "#2a3f5f"
                    },
                    "geo": {
                      "bgcolor": "white",
                      "lakecolor": "white",
                      "landcolor": "#E5ECF6",
                      "showlakes": true,
                      "showland": true,
                      "subunitcolor": "white"
                    },
                    "hoverlabel": {
                      "align": "left"
                    },
                    "hovermode": "closest",
                    "mapbox": {
                      "style": "light"
                    },
                    "paper_bgcolor": "white",
                    "plot_bgcolor": "#E5ECF6",
                    "polar": {
                      "angularaxis": {
                        "gridcolor": "white",
                        "linecolor": "white",
                        "ticks": ""
                      },
                      "bgcolor": "#E5ECF6",
                      "radialaxis": {
                        "gridcolor": "white",
                        "linecolor": "white",
                        "ticks": ""
                      }
                    },
                    "scene": {
                      "xaxis": {
                        "backgroundcolor": "#E5ECF6",
                        "gridcolor": "white",
                        "gridwidth": 2,
                        "linecolor": "white",
                        "showbackground": true,
                        "ticks": "",
                        "zerolinecolor": "white"
                      },
                      "yaxis": {
                        "backgroundcolor": "#E5ECF6",
                        "gridcolor": "white",
                        "gridwidth": 2,
                        "linecolor": "white",
                        "showbackground": true,
                        "ticks": "",
                        "zerolinecolor": "white"
                      },
                      "zaxis": {
                        "backgroundcolor": "#E5ECF6",
                        "gridcolor": "white",
                        "gridwidth": 2,
                        "linecolor": "white",
                        "showbackground": true,
                        "ticks": "",
                        "zerolinecolor": "white"
                      }
                    },
                    "shapedefaults": {
                      "line": {
                        "color": "#2a3f5f"
                      }
                    },
                    "ternary": {
                      "aaxis": {
                        "gridcolor": "white",
                        "linecolor": "white",
                        "ticks": ""
                      },
                      "baxis": {
                        "gridcolor": "white",
                        "linecolor": "white",
                        "ticks": ""
                      },
                      "bgcolor": "#E5ECF6",
                      "caxis": {
                        "gridcolor": "white",
                        "linecolor": "white",
                        "ticks": ""
                      }
                    },
                    "title": {
                      "x": 0.05
                    },
                    "xaxis": {
                      "automargin": true,
                      "gridcolor": "white",
                      "linecolor": "white",
                      "ticks": "",
                      "title": {
                        "standoff": 15
                      },
                      "zerolinecolor": "white",
                      "zerolinewidth": 2
                    },
                    "yaxis": {
                      "automargin": true,
                      "gridcolor": "white",
                      "linecolor": "white",
                      "ticks": "",
                      "title": {
                        "standoff": 15
                      },
                      "zerolinecolor": "white",
                      "zerolinewidth": 2
                    }
                  }
                },
                "title": {
                  "text": "Patching output of attention heads (corrupted -> clean)"
                },
                "width": 1500,
                "xaxis": {
                  "anchor": "y",
                  "constrain": "domain",
                  "domain": [
                    0,
                    0.18400000000000002
                  ],
                  "linecolor": "black",
                  "linewidth": 1,
                  "mirror": true,
                  "scaleanchor": "y",
                  "showline": true,
                  "title": {
                    "text": "Head"
                  }
                },
                "xaxis2": {
                  "anchor": "y2",
                  "domain": [
                    0.20400000000000001,
                    0.388
                  ],
                  "linecolor": "black",
                  "linewidth": 1,
                  "matches": "x",
                  "mirror": true,
                  "showline": true,
                  "title": {
                    "text": "Head"
                  }
                },
                "xaxis3": {
                  "anchor": "y3",
                  "domain": [
                    0.40800000000000003,
                    0.5920000000000001
                  ],
                  "linecolor": "black",
                  "linewidth": 1,
                  "matches": "x",
                  "mirror": true,
                  "showline": true,
                  "title": {
                    "text": "Head"
                  }
                },
                "xaxis4": {
                  "anchor": "y4",
                  "domain": [
                    0.6120000000000001,
                    0.7960000000000002
                  ],
                  "linecolor": "black",
                  "linewidth": 1,
                  "matches": "x",
                  "mirror": true,
                  "showline": true,
                  "title": {
                    "text": "Head"
                  }
                },
                "xaxis5": {
                  "anchor": "y5",
                  "domain": [
                    0.8160000000000001,
                    1
                  ],
                  "linecolor": "black",
                  "linewidth": 1,
                  "matches": "x",
                  "mirror": true,
                  "showline": true,
                  "title": {
                    "text": "Head"
                  }
                },
                "yaxis": {
                  "anchor": "x",
                  "autorange": "reversed",
                  "constrain": "domain",
                  "domain": [
                    0,
                    1
                  ],
                  "linecolor": "black",
                  "linewidth": 1,
                  "mirror": true,
                  "showline": true,
                  "title": {
                    "text": "Layer"
                  }
                },
                "yaxis2": {
                  "anchor": "x2",
                  "domain": [
                    0,
                    1
                  ],
                  "linecolor": "black",
                  "linewidth": 1,
                  "matches": "y",
                  "mirror": true,
                  "showline": true,
                  "showticklabels": false
                },
                "yaxis3": {
                  "anchor": "x3",
                  "domain": [
                    0,
                    1
                  ],
                  "linecolor": "black",
                  "linewidth": 1,
                  "matches": "y",
                  "mirror": true,
                  "showline": true,
                  "showticklabels": false
                },
                "yaxis4": {
                  "anchor": "x4",
                  "domain": [
                    0,
                    1
                  ],
                  "linecolor": "black",
                  "linewidth": 1,
                  "matches": "y",
                  "mirror": true,
                  "showline": true,
                  "showticklabels": false
                },
                "yaxis5": {
                  "anchor": "x5",
                  "domain": [
                    0,
                    1
                  ],
                  "linecolor": "black",
                  "linewidth": 1,
                  "matches": "y",
                  "mirror": true,
                  "showline": true,
                  "showticklabels": false
                }
              }
            }
          },
          "metadata": {},
          "output_type": "display_data"
        }
      ],
      "source": [
        "assert results.keys() == {\"z\", \"q\", \"k\", \"v\", \"pattern\"}\n",
        "assert all([r.shape == (12, 12) for r in results.values()])\n",
        "\n",
        "imshow_p(\n",
        "    torch.stack(tuple(results.values())) * 100,\n",
        "    facet_col=0,\n",
        "    facet_labels=[\"Output\", \"Query\", \"Key\", \"Value\", \"Pattern\"],\n",
        "    title=\"Patching output of attention heads (corrupted -> clean)\",\n",
        "    labels={\"x\": \"Head\", \"y\": \"Layer\", \"color\": \"Logit diff variation\"},\n",
        "    coloraxis=dict(colorbar_ticksuffix = \"%\"),\n",
        "    border=True,\n",
        "    width=1500,\n",
        "    margin={\"r\": 100, \"l\": 100}\n",
        ")"
      ]
    },
    {
      "attachments": {},
      "cell_type": "markdown",
      "metadata": {},
      "source": [
        "#### Attention Pattern Output"
      ]
    },
    {
      "cell_type": "code",
      "execution_count": 27,
      "metadata": {},
      "outputs": [
        {
          "data": {
            "application/vnd.jupyter.widget-view+json": {
              "model_id": "e8e14d76da5b467f86a52374f9aee185",
              "version_major": 2,
              "version_minor": 0
            },
            "text/plain": [
              "  0%|          | 0/144 [00:00<?, ?it/s]"
            ]
          },
          "metadata": {},
          "output_type": "display_data"
        },
        {
          "name": "stdout",
          "output_type": "stream",
          "text": [
            "results['pattern'].shape = (layer=12, head=12)\n"
          ]
        }
      ],
      "source": [
        "# iterating over all heads' output in all layers\n",
        "\n",
        "results = act_patch(\n",
        "    model=model,\n",
        "    orig_input=corrupted_tokens,\n",
        "    new_cache=clean_cache,\n",
        "    patching_nodes=IterNode([\"pattern\"]),\n",
        "    patching_metric=logit_diff_denoising,\n",
        "    verbose=True,\n",
        ")"
      ]
    },
    {
      "cell_type": "code",
      "execution_count": 28,
      "metadata": {},
      "outputs": [
        {
          "data": {
            "application/vnd.plotly.v1+json": {
              "config": {
                "plotlyServerURL": "https://plot.ly"
              },
              "data": [
                {
                  "coloraxis": "coloraxis",
                  "hovertemplate": "Head: %{x}<br>Layer: %{y}<br>Logit diff variation: %{z}<extra></extra>",
                  "name": "0",
                  "type": "heatmap",
                  "xaxis": "x",
                  "yaxis": "y",
                  "z": [
                    [
                      -0.21177144348621368,
                      -0.001715164165943861,
                      0.04218071326613426,
                      -0.01820949837565422,
                      -0.004370073787868023,
                      0.0016740824794396758,
                      -0.10961645841598511,
                      0.04433237016201019,
                      -0.16806554794311523,
                      -0.06911495327949524,
                      0.051737360656261444,
                      -0.12029771506786346
                    ],
                    [
                      0.00020540888363029808,
                      0.010239633731544018,
                      -0.023555263876914978,
                      -0.030102673918008804,
                      -0.01272508129477501,
                      -0.14062292873859406,
                      -0.02466447278857231,
                      0.16894879937171936,
                      0.14608167111873627,
                      -0.04770107939839363,
                      -0.008724742569029331,
                      0.03046213835477829
                    ],
                    [
                      0.03864768519997597,
                      0.3400081992149353,
                      0.11857227981090546,
                      0.06543300300836563,
                      -0.03941283002495766,
                      0.012283451855182648,
                      0.09952574223279953,
                      0.03906363621354103,
                      0.1118040531873703,
                      -0.003563844133168459,
                      0.04938029497861862,
                      0.10755723714828491
                    ],
                    [
                      0.026990730315446854,
                      -0.12073934823274612,
                      0.09457539021968842,
                      0.005140357650816441,
                      0.09555621445178986,
                      0.014892145060002804,
                      -0.05014031380414963,
                      0.03243406116962433,
                      0.06872981041669846,
                      -0.08759148418903351,
                      0.12174585461616516,
                      -0.17019152641296387
                    ],
                    [
                      0.02540394477546215,
                      -0.0010681261774152517,
                      0.037533339112997055,
                      0.18207956850528717,
                      0.10807588696479797,
                      -0.021434418857097626,
                      0.43292492628097534,
                      -0.11249731481075287,
                      -0.11536276340484619,
                      -0.14365270733833313,
                      0.1469084471464157,
                      -0.0003183837980031967
                    ],
                    [
                      0.025039343163371086,
                      -0.04507698118686676,
                      0.2621017396450043,
                      -0.16305871307849884,
                      -0.07657643407583237,
                      0.24981315433979034,
                      -0.001052720588631928,
                      0.24554066359996796,
                      0.1419580727815628,
                      0.6358277797698975,
                      -0.513666033744812,
                      -0.09516079723834991
                    ],
                    [
                      0.299696683883667,
                      -0.009279347024857998,
                      -0.5160333514213562,
                      0.015759997069835663,
                      0.11984068155288696,
                      -0.13093790411949158,
                      -0.44758594036102295,
                      0.23697510361671448,
                      0.026076659560203552,
                      -0.042591530829668045,
                      0.010255038738250732,
                      0.03458058461546898
                    ],
                    [
                      0.0072817448526620865,
                      -1.4591631889343262,
                      -0.021300900727510452,
                      -0.0705476850271225,
                      0.1432008147239685,
                      0.1856793612241745,
                      -0.15310664474964142,
                      -0.014091050252318382,
                      0.12317857146263123,
                      -0.12239288538694382,
                      0.09211047738790512,
                      0.03884282335639
                    ],
                    [
                      -0.027730200439691544,
                      -0.025850709527730942,
                      0.10424500703811646,
                      -0.06469866633415222,
                      -0.05681609734892845,
                      0.02784830890595913,
                      0.0067887636832892895,
                      0.01057342253625393,
                      -0.39798998832702637,
                      -0.028844544664025307,
                      0.1322781890630722,
                      -0.01752137765288353
                    ],
                    [
                      -1.026525855064392,
                      0.13145655393600464,
                      -1.003263235092163,
                      -0.010619639419019222,
                      -0.05752475559711456,
                      -0.009787733666598797,
                      0.14573760330677032,
                      -0.07126661390066147,
                      0.03839605674147606,
                      0.10942131280899048,
                      -0.07802456617355347,
                      -0.056246086955070496
                    ],
                    [
                      0.26985079050064087,
                      1.0649423599243164,
                      -0.427702397108078,
                      -0.007718238979578018,
                      0.18099091947078705,
                      0.16354142129421234,
                      -0.32114651799201965,
                      -0.7983575463294983,
                      0.015647022053599358,
                      -0.062028348445892334,
                      0.447488397359848,
                      -0.15182285010814667
                    ],
                    [
                      0.031001336872577667,
                      0.3250647187232971,
                      0.06914576888084412,
                      -0.7174367308616638,
                      -0.04820946604013443,
                      -0.008550144731998444,
                      0.10759317129850388,
                      -0.32244575023651123,
                      -0.04792189225554466,
                      0.14779682457447052,
                      -0.16966260969638824,
                      -0.18914563953876495
                    ]
                  ]
                }
              ],
              "layout": {
                "coloraxis": {
                  "cmid": 0,
                  "colorbar": {
                    "ticksuffix": "%",
                    "title": {
                      "text": "Logit diff variation"
                    }
                  },
                  "colorscale": [
                    [
                      0,
                      "rgb(103,0,31)"
                    ],
                    [
                      0.1,
                      "rgb(178,24,43)"
                    ],
                    [
                      0.2,
                      "rgb(214,96,77)"
                    ],
                    [
                      0.3,
                      "rgb(244,165,130)"
                    ],
                    [
                      0.4,
                      "rgb(253,219,199)"
                    ],
                    [
                      0.5,
                      "rgb(247,247,247)"
                    ],
                    [
                      0.6,
                      "rgb(209,229,240)"
                    ],
                    [
                      0.7,
                      "rgb(146,197,222)"
                    ],
                    [
                      0.8,
                      "rgb(67,147,195)"
                    ],
                    [
                      0.9,
                      "rgb(33,102,172)"
                    ],
                    [
                      1,
                      "rgb(5,48,97)"
                    ]
                  ]
                },
                "margin": {
                  "l": 100,
                  "r": 100
                },
                "template": {
                  "data": {
                    "bar": [
                      {
                        "error_x": {
                          "color": "#2a3f5f"
                        },
                        "error_y": {
                          "color": "#2a3f5f"
                        },
                        "marker": {
                          "line": {
                            "color": "#E5ECF6",
                            "width": 0.5
                          },
                          "pattern": {
                            "fillmode": "overlay",
                            "size": 10,
                            "solidity": 0.2
                          }
                        },
                        "type": "bar"
                      }
                    ],
                    "barpolar": [
                      {
                        "marker": {
                          "line": {
                            "color": "#E5ECF6",
                            "width": 0.5
                          },
                          "pattern": {
                            "fillmode": "overlay",
                            "size": 10,
                            "solidity": 0.2
                          }
                        },
                        "type": "barpolar"
                      }
                    ],
                    "carpet": [
                      {
                        "aaxis": {
                          "endlinecolor": "#2a3f5f",
                          "gridcolor": "white",
                          "linecolor": "white",
                          "minorgridcolor": "white",
                          "startlinecolor": "#2a3f5f"
                        },
                        "baxis": {
                          "endlinecolor": "#2a3f5f",
                          "gridcolor": "white",
                          "linecolor": "white",
                          "minorgridcolor": "white",
                          "startlinecolor": "#2a3f5f"
                        },
                        "type": "carpet"
                      }
                    ],
                    "choropleth": [
                      {
                        "colorbar": {
                          "outlinewidth": 0,
                          "ticks": ""
                        },
                        "type": "choropleth"
                      }
                    ],
                    "contour": [
                      {
                        "colorbar": {
                          "outlinewidth": 0,
                          "ticks": ""
                        },
                        "colorscale": [
                          [
                            0,
                            "#0d0887"
                          ],
                          [
                            0.1111111111111111,
                            "#46039f"
                          ],
                          [
                            0.2222222222222222,
                            "#7201a8"
                          ],
                          [
                            0.3333333333333333,
                            "#9c179e"
                          ],
                          [
                            0.4444444444444444,
                            "#bd3786"
                          ],
                          [
                            0.5555555555555556,
                            "#d8576b"
                          ],
                          [
                            0.6666666666666666,
                            "#ed7953"
                          ],
                          [
                            0.7777777777777778,
                            "#fb9f3a"
                          ],
                          [
                            0.8888888888888888,
                            "#fdca26"
                          ],
                          [
                            1,
                            "#f0f921"
                          ]
                        ],
                        "type": "contour"
                      }
                    ],
                    "contourcarpet": [
                      {
                        "colorbar": {
                          "outlinewidth": 0,
                          "ticks": ""
                        },
                        "type": "contourcarpet"
                      }
                    ],
                    "heatmap": [
                      {
                        "colorbar": {
                          "outlinewidth": 0,
                          "ticks": ""
                        },
                        "colorscale": [
                          [
                            0,
                            "#0d0887"
                          ],
                          [
                            0.1111111111111111,
                            "#46039f"
                          ],
                          [
                            0.2222222222222222,
                            "#7201a8"
                          ],
                          [
                            0.3333333333333333,
                            "#9c179e"
                          ],
                          [
                            0.4444444444444444,
                            "#bd3786"
                          ],
                          [
                            0.5555555555555556,
                            "#d8576b"
                          ],
                          [
                            0.6666666666666666,
                            "#ed7953"
                          ],
                          [
                            0.7777777777777778,
                            "#fb9f3a"
                          ],
                          [
                            0.8888888888888888,
                            "#fdca26"
                          ],
                          [
                            1,
                            "#f0f921"
                          ]
                        ],
                        "type": "heatmap"
                      }
                    ],
                    "heatmapgl": [
                      {
                        "colorbar": {
                          "outlinewidth": 0,
                          "ticks": ""
                        },
                        "colorscale": [
                          [
                            0,
                            "#0d0887"
                          ],
                          [
                            0.1111111111111111,
                            "#46039f"
                          ],
                          [
                            0.2222222222222222,
                            "#7201a8"
                          ],
                          [
                            0.3333333333333333,
                            "#9c179e"
                          ],
                          [
                            0.4444444444444444,
                            "#bd3786"
                          ],
                          [
                            0.5555555555555556,
                            "#d8576b"
                          ],
                          [
                            0.6666666666666666,
                            "#ed7953"
                          ],
                          [
                            0.7777777777777778,
                            "#fb9f3a"
                          ],
                          [
                            0.8888888888888888,
                            "#fdca26"
                          ],
                          [
                            1,
                            "#f0f921"
                          ]
                        ],
                        "type": "heatmapgl"
                      }
                    ],
                    "histogram": [
                      {
                        "marker": {
                          "pattern": {
                            "fillmode": "overlay",
                            "size": 10,
                            "solidity": 0.2
                          }
                        },
                        "type": "histogram"
                      }
                    ],
                    "histogram2d": [
                      {
                        "colorbar": {
                          "outlinewidth": 0,
                          "ticks": ""
                        },
                        "colorscale": [
                          [
                            0,
                            "#0d0887"
                          ],
                          [
                            0.1111111111111111,
                            "#46039f"
                          ],
                          [
                            0.2222222222222222,
                            "#7201a8"
                          ],
                          [
                            0.3333333333333333,
                            "#9c179e"
                          ],
                          [
                            0.4444444444444444,
                            "#bd3786"
                          ],
                          [
                            0.5555555555555556,
                            "#d8576b"
                          ],
                          [
                            0.6666666666666666,
                            "#ed7953"
                          ],
                          [
                            0.7777777777777778,
                            "#fb9f3a"
                          ],
                          [
                            0.8888888888888888,
                            "#fdca26"
                          ],
                          [
                            1,
                            "#f0f921"
                          ]
                        ],
                        "type": "histogram2d"
                      }
                    ],
                    "histogram2dcontour": [
                      {
                        "colorbar": {
                          "outlinewidth": 0,
                          "ticks": ""
                        },
                        "colorscale": [
                          [
                            0,
                            "#0d0887"
                          ],
                          [
                            0.1111111111111111,
                            "#46039f"
                          ],
                          [
                            0.2222222222222222,
                            "#7201a8"
                          ],
                          [
                            0.3333333333333333,
                            "#9c179e"
                          ],
                          [
                            0.4444444444444444,
                            "#bd3786"
                          ],
                          [
                            0.5555555555555556,
                            "#d8576b"
                          ],
                          [
                            0.6666666666666666,
                            "#ed7953"
                          ],
                          [
                            0.7777777777777778,
                            "#fb9f3a"
                          ],
                          [
                            0.8888888888888888,
                            "#fdca26"
                          ],
                          [
                            1,
                            "#f0f921"
                          ]
                        ],
                        "type": "histogram2dcontour"
                      }
                    ],
                    "mesh3d": [
                      {
                        "colorbar": {
                          "outlinewidth": 0,
                          "ticks": ""
                        },
                        "type": "mesh3d"
                      }
                    ],
                    "parcoords": [
                      {
                        "line": {
                          "colorbar": {
                            "outlinewidth": 0,
                            "ticks": ""
                          }
                        },
                        "type": "parcoords"
                      }
                    ],
                    "pie": [
                      {
                        "automargin": true,
                        "type": "pie"
                      }
                    ],
                    "scatter": [
                      {
                        "fillpattern": {
                          "fillmode": "overlay",
                          "size": 10,
                          "solidity": 0.2
                        },
                        "type": "scatter"
                      }
                    ],
                    "scatter3d": [
                      {
                        "line": {
                          "colorbar": {
                            "outlinewidth": 0,
                            "ticks": ""
                          }
                        },
                        "marker": {
                          "colorbar": {
                            "outlinewidth": 0,
                            "ticks": ""
                          }
                        },
                        "type": "scatter3d"
                      }
                    ],
                    "scattercarpet": [
                      {
                        "marker": {
                          "colorbar": {
                            "outlinewidth": 0,
                            "ticks": ""
                          }
                        },
                        "type": "scattercarpet"
                      }
                    ],
                    "scattergeo": [
                      {
                        "marker": {
                          "colorbar": {
                            "outlinewidth": 0,
                            "ticks": ""
                          }
                        },
                        "type": "scattergeo"
                      }
                    ],
                    "scattergl": [
                      {
                        "marker": {
                          "colorbar": {
                            "outlinewidth": 0,
                            "ticks": ""
                          }
                        },
                        "type": "scattergl"
                      }
                    ],
                    "scattermapbox": [
                      {
                        "marker": {
                          "colorbar": {
                            "outlinewidth": 0,
                            "ticks": ""
                          }
                        },
                        "type": "scattermapbox"
                      }
                    ],
                    "scatterpolar": [
                      {
                        "marker": {
                          "colorbar": {
                            "outlinewidth": 0,
                            "ticks": ""
                          }
                        },
                        "type": "scatterpolar"
                      }
                    ],
                    "scatterpolargl": [
                      {
                        "marker": {
                          "colorbar": {
                            "outlinewidth": 0,
                            "ticks": ""
                          }
                        },
                        "type": "scatterpolargl"
                      }
                    ],
                    "scatterternary": [
                      {
                        "marker": {
                          "colorbar": {
                            "outlinewidth": 0,
                            "ticks": ""
                          }
                        },
                        "type": "scatterternary"
                      }
                    ],
                    "surface": [
                      {
                        "colorbar": {
                          "outlinewidth": 0,
                          "ticks": ""
                        },
                        "colorscale": [
                          [
                            0,
                            "#0d0887"
                          ],
                          [
                            0.1111111111111111,
                            "#46039f"
                          ],
                          [
                            0.2222222222222222,
                            "#7201a8"
                          ],
                          [
                            0.3333333333333333,
                            "#9c179e"
                          ],
                          [
                            0.4444444444444444,
                            "#bd3786"
                          ],
                          [
                            0.5555555555555556,
                            "#d8576b"
                          ],
                          [
                            0.6666666666666666,
                            "#ed7953"
                          ],
                          [
                            0.7777777777777778,
                            "#fb9f3a"
                          ],
                          [
                            0.8888888888888888,
                            "#fdca26"
                          ],
                          [
                            1,
                            "#f0f921"
                          ]
                        ],
                        "type": "surface"
                      }
                    ],
                    "table": [
                      {
                        "cells": {
                          "fill": {
                            "color": "#EBF0F8"
                          },
                          "line": {
                            "color": "white"
                          }
                        },
                        "header": {
                          "fill": {
                            "color": "#C8D4E3"
                          },
                          "line": {
                            "color": "white"
                          }
                        },
                        "type": "table"
                      }
                    ]
                  },
                  "layout": {
                    "annotationdefaults": {
                      "arrowcolor": "#2a3f5f",
                      "arrowhead": 0,
                      "arrowwidth": 1
                    },
                    "autotypenumbers": "strict",
                    "coloraxis": {
                      "colorbar": {
                        "outlinewidth": 0,
                        "ticks": ""
                      }
                    },
                    "colorscale": {
                      "diverging": [
                        [
                          0,
                          "#8e0152"
                        ],
                        [
                          0.1,
                          "#c51b7d"
                        ],
                        [
                          0.2,
                          "#de77ae"
                        ],
                        [
                          0.3,
                          "#f1b6da"
                        ],
                        [
                          0.4,
                          "#fde0ef"
                        ],
                        [
                          0.5,
                          "#f7f7f7"
                        ],
                        [
                          0.6,
                          "#e6f5d0"
                        ],
                        [
                          0.7,
                          "#b8e186"
                        ],
                        [
                          0.8,
                          "#7fbc41"
                        ],
                        [
                          0.9,
                          "#4d9221"
                        ],
                        [
                          1,
                          "#276419"
                        ]
                      ],
                      "sequential": [
                        [
                          0,
                          "#0d0887"
                        ],
                        [
                          0.1111111111111111,
                          "#46039f"
                        ],
                        [
                          0.2222222222222222,
                          "#7201a8"
                        ],
                        [
                          0.3333333333333333,
                          "#9c179e"
                        ],
                        [
                          0.4444444444444444,
                          "#bd3786"
                        ],
                        [
                          0.5555555555555556,
                          "#d8576b"
                        ],
                        [
                          0.6666666666666666,
                          "#ed7953"
                        ],
                        [
                          0.7777777777777778,
                          "#fb9f3a"
                        ],
                        [
                          0.8888888888888888,
                          "#fdca26"
                        ],
                        [
                          1,
                          "#f0f921"
                        ]
                      ],
                      "sequentialminus": [
                        [
                          0,
                          "#0d0887"
                        ],
                        [
                          0.1111111111111111,
                          "#46039f"
                        ],
                        [
                          0.2222222222222222,
                          "#7201a8"
                        ],
                        [
                          0.3333333333333333,
                          "#9c179e"
                        ],
                        [
                          0.4444444444444444,
                          "#bd3786"
                        ],
                        [
                          0.5555555555555556,
                          "#d8576b"
                        ],
                        [
                          0.6666666666666666,
                          "#ed7953"
                        ],
                        [
                          0.7777777777777778,
                          "#fb9f3a"
                        ],
                        [
                          0.8888888888888888,
                          "#fdca26"
                        ],
                        [
                          1,
                          "#f0f921"
                        ]
                      ]
                    },
                    "colorway": [
                      "#636efa",
                      "#EF553B",
                      "#00cc96",
                      "#ab63fa",
                      "#FFA15A",
                      "#19d3f3",
                      "#FF6692",
                      "#B6E880",
                      "#FF97FF",
                      "#FECB52"
                    ],
                    "font": {
                      "color": "#2a3f5f"
                    },
                    "geo": {
                      "bgcolor": "white",
                      "lakecolor": "white",
                      "landcolor": "#E5ECF6",
                      "showlakes": true,
                      "showland": true,
                      "subunitcolor": "white"
                    },
                    "hoverlabel": {
                      "align": "left"
                    },
                    "hovermode": "closest",
                    "mapbox": {
                      "style": "light"
                    },
                    "paper_bgcolor": "white",
                    "plot_bgcolor": "#E5ECF6",
                    "polar": {
                      "angularaxis": {
                        "gridcolor": "white",
                        "linecolor": "white",
                        "ticks": ""
                      },
                      "bgcolor": "#E5ECF6",
                      "radialaxis": {
                        "gridcolor": "white",
                        "linecolor": "white",
                        "ticks": ""
                      }
                    },
                    "scene": {
                      "xaxis": {
                        "backgroundcolor": "#E5ECF6",
                        "gridcolor": "white",
                        "gridwidth": 2,
                        "linecolor": "white",
                        "showbackground": true,
                        "ticks": "",
                        "zerolinecolor": "white"
                      },
                      "yaxis": {
                        "backgroundcolor": "#E5ECF6",
                        "gridcolor": "white",
                        "gridwidth": 2,
                        "linecolor": "white",
                        "showbackground": true,
                        "ticks": "",
                        "zerolinecolor": "white"
                      },
                      "zaxis": {
                        "backgroundcolor": "#E5ECF6",
                        "gridcolor": "white",
                        "gridwidth": 2,
                        "linecolor": "white",
                        "showbackground": true,
                        "ticks": "",
                        "zerolinecolor": "white"
                      }
                    },
                    "shapedefaults": {
                      "line": {
                        "color": "#2a3f5f"
                      }
                    },
                    "ternary": {
                      "aaxis": {
                        "gridcolor": "white",
                        "linecolor": "white",
                        "ticks": ""
                      },
                      "baxis": {
                        "gridcolor": "white",
                        "linecolor": "white",
                        "ticks": ""
                      },
                      "bgcolor": "#E5ECF6",
                      "caxis": {
                        "gridcolor": "white",
                        "linecolor": "white",
                        "ticks": ""
                      }
                    },
                    "title": {
                      "x": 0.05
                    },
                    "xaxis": {
                      "automargin": true,
                      "gridcolor": "white",
                      "linecolor": "white",
                      "ticks": "",
                      "title": {
                        "standoff": 15
                      },
                      "zerolinecolor": "white",
                      "zerolinewidth": 2
                    },
                    "yaxis": {
                      "automargin": true,
                      "gridcolor": "white",
                      "linecolor": "white",
                      "ticks": "",
                      "title": {
                        "standoff": 15
                      },
                      "zerolinecolor": "white",
                      "zerolinewidth": 2
                    }
                  }
                },
                "title": {
                  "text": "Patching attention of attention heads (corrupted -> clean)"
                },
                "width": 600,
                "xaxis": {
                  "anchor": "y",
                  "constrain": "domain",
                  "domain": [
                    0,
                    1
                  ],
                  "linecolor": "black",
                  "linewidth": 1,
                  "mirror": true,
                  "scaleanchor": "y",
                  "showline": true,
                  "title": {
                    "text": "Head"
                  }
                },
                "yaxis": {
                  "anchor": "x",
                  "autorange": "reversed",
                  "constrain": "domain",
                  "domain": [
                    0,
                    1
                  ],
                  "linecolor": "black",
                  "linewidth": 1,
                  "mirror": true,
                  "showline": true,
                  "title": {
                    "text": "Layer"
                  }
                }
              }
            }
          },
          "metadata": {},
          "output_type": "display_data"
        }
      ],
      "source": [
        "imshow_p(\n",
        "    results['pattern'] * 100,\n",
        "    title=\"Patching attention of attention heads (corrupted -> clean)\",\n",
        "    labels={\"x\": \"Head\", \"y\": \"Layer\", \"color\": \"Logit diff variation\"},\n",
        "    coloraxis=dict(colorbar_ticksuffix = \"%\"),\n",
        "    border=True,\n",
        "    width=600,\n",
        "    margin={\"r\": 100, \"l\": 100}\n",
        ")"
      ]
    },
    {
      "attachments": {},
      "cell_type": "markdown",
      "metadata": {},
      "source": [
        "#### Residual Stream & Layer Outputs"
      ]
    },
    {
      "cell_type": "code",
      "execution_count": 29,
      "metadata": {},
      "outputs": [
        {
          "data": {
            "application/vnd.jupyter.widget-view+json": {
              "model_id": "42ab397a26534a2d850e6386775c19fe",
              "version_major": 2,
              "version_minor": 0
            },
            "text/plain": [
              "  0%|          | 0/936 [00:00<?, ?it/s]"
            ]
          },
          "metadata": {},
          "output_type": "display_data"
        },
        {
          "name": "stdout",
          "output_type": "stream",
          "text": [
            "results['resid_pre'].shape = (seq_pos=26, layer=12)\n",
            "results['attn_out'].shape = (seq_pos=26, layer=12)\n",
            "results['mlp_out'].shape = (seq_pos=26, layer=12)\n"
          ]
        }
      ],
      "source": [
        "# patching at each (layer, sequence position) for each of (resid_pre, attn_out, mlp_out) in turn\n",
        "\n",
        "results = act_patch(\n",
        "    model=model,\n",
        "    orig_input=corrupted_tokens,\n",
        "    new_cache=clean_cache,\n",
        "    patching_nodes=IterNode([\"resid_pre\", \"attn_out\", \"mlp_out\"], seq_pos=\"each\"),\n",
        "    patching_metric=logit_diff_denoising,\n",
        "    verbose=True,\n",
        ")"
      ]
    },
    {
      "cell_type": "code",
      "execution_count": 30,
      "metadata": {},
      "outputs": [
        {
          "data": {
            "application/vnd.plotly.v1+json": {
              "config": {
                "plotlyServerURL": "https://plot.ly"
              },
              "data": [
                {
                  "coloraxis": "coloraxis",
                  "hovertemplate": "Sequence position: %{x}<br>Layer: %{y}<br>Logit diff variation: %{z}<extra></extra>",
                  "name": "0",
                  "type": "heatmap",
                  "x": [
                    "<|endoftext|> 0",
                    "I 1",
                    " thought 2",
                    " this 3",
                    " movie 4",
                    " was 5",
                    " perfect 6",
                    ". 7",
                    " I 8",
                    " loved 9",
                    " it 10",
                    ", 11",
                    " even 12",
                    " though 13",
                    " the 14",
                    " sequel 15",
                    " was 16",
                    " dreadful 17",
                    ". 18",
                    "  19",
                    "\n 20",
                    "Conclusion 21",
                    ": 22",
                    " This 23",
                    " movie 24",
                    " is 25"
                  ],
                  "xaxis": "x",
                  "yaxis": "y",
                  "z": [
                    [
                      0,
                      0,
                      0,
                      0,
                      0,
                      0,
                      112.396728515625,
                      0,
                      0,
                      23.827289581298828,
                      0,
                      0,
                      0,
                      0,
                      0,
                      0,
                      0,
                      -37.88209915161133,
                      0,
                      0,
                      0,
                      0,
                      0,
                      0,
                      0,
                      0
                    ],
                    [
                      0,
                      0,
                      0,
                      0,
                      0,
                      0,
                      112.34724426269531,
                      0.11601493507623672,
                      -0.01920059509575367,
                      23.201799392700195,
                      0.13590878248214722,
                      0.22652491927146912,
                      0.06497083604335785,
                      0.0765918418765068,
                      0.06264457106590271,
                      -0.07843538373708725,
                      -0.02396608144044876,
                      -35.01778793334961,
                      0.04815297573804855,
                      -0.0708763375878334,
                      -0.03743577003479004,
                      0.04343884438276291,
                      0.002013007178902626,
                      -0.04559050127863884,
                      0.09260860085487366,
                      0.11289272457361221
                    ],
                    [
                      0,
                      0,
                      0,
                      0,
                      0,
                      0,
                      112.48916625976562,
                      0.01774219237267971,
                      -0.05398659408092499,
                      24.0217227935791,
                      0.131338432431221,
                      0.2569049000740051,
                      0.22678682208061218,
                      0.23897269368171692,
                      0.05750935524702072,
                      -0.21012815833091736,
                      -0.009946925565600395,
                      -35.14213180541992,
                      0.08356547355651855,
                      -0.19245272874832153,
                      -0.09469349682331085,
                      -0.4804205596446991,
                      -0.026513153687119484,
                      0.05234332010149956,
                      -0.04122042655944824,
                      0.39596158266067505
                    ],
                    [
                      0,
                      0,
                      0,
                      0,
                      0,
                      0,
                      110.90391540527344,
                      -0.23228150606155396,
                      -0.1223466694355011,
                      22.315174102783203,
                      0.773893415927887,
                      0.2184215486049652,
                      0.428267240524292,
                      0.4068174362182617,
                      0.15331719815731049,
                      -0.2871462106704712,
                      -0.03605439513921738,
                      -34.240779876708984,
                      0.18560746312141418,
                      -0.37096330523490906,
                      -0.130295991897583,
                      -0.6402748823165894,
                      0.26096686720848083,
                      0.503472626209259,
                      0.28250399231910706,
                      1.0564076900482178
                    ],
                    [
                      0,
                      0,
                      0,
                      0,
                      0,
                      0,
                      109.49469757080078,
                      0.3335789144039154,
                      -0.14737574756145477,
                      20.142066955566406,
                      1.8881237506866455,
                      -0.11736550182104111,
                      0.5482620000839233,
                      0.3196111023426056,
                      -0.04269423708319664,
                      -0.2990548014640808,
                      0.007805537432432175,
                      -33.78335189819336,
                      -0.43886634707450867,
                      -0.21295253932476044,
                      0.20385806262493134,
                      -0.5491914749145508,
                      0.17539864778518677,
                      0.36842137575149536,
                      0.28195449709892273,
                      1.9080791473388672
                    ],
                    [
                      0,
                      0,
                      0,
                      0,
                      0,
                      0,
                      106.96519470214844,
                      1.4877713918685913,
                      -0.34675073623657227,
                      18.17516326904297,
                      2.5127670764923096,
                      -0.1520950049161911,
                      0.660502552986145,
                      0.5143336057662964,
                      -0.09645488113164902,
                      -0.23527534306049347,
                      0.08389412611722946,
                      -32.430450439453125,
                      -1.1654181480407715,
                      -0.13143087923526764,
                      0.11630251258611679,
                      -0.7314661741256714,
                      0.16605255007743835,
                      0.411880761384964,
                      0.12956678867340088,
                      2.7895760536193848
                    ],
                    [
                      0,
                      0,
                      0,
                      0,
                      0,
                      0,
                      102.9820556640625,
                      8.02630615234375,
                      0.05137789994478226,
                      16.358154296875,
                      4.375707149505615,
                      0.582893967628479,
                      0.6835340261459351,
                      0.3943028748035431,
                      -0.08292356878519058,
                      -0.6355915665626526,
                      0.08314438164234161,
                      -34.1784782409668,
                      -2.3381900787353516,
                      -0.10005467385053635,
                      -0.17900358140468597,
                      -0.8291432857513428,
                      -0.1087537407875061,
                      0.40394169092178345,
                      0.7416801452636719,
                      5.616479873657227
                    ],
                    [
                      0,
                      0,
                      0,
                      0,
                      0,
                      0,
                      91.22162628173828,
                      5.838172435760498,
                      0.36956140398979187,
                      13.383282661437988,
                      5.31124210357666,
                      0.9740643501281738,
                      1.209765911102295,
                      -1.4654178619384766,
                      -0.3542173504829407,
                      -0.33016398549079895,
                      0.12936651706695557,
                      -30.146562576293945,
                      0.10323850810527802,
                      -0.10670991241931915,
                      0.13938532769680023,
                      -0.034898970276117325,
                      2.133453845977783,
                      1.5924837589263916,
                      3.6916446685791016,
                      10.429567337036133
                    ],
                    [
                      0,
                      0,
                      0,
                      0,
                      0,
                      0,
                      68.6000747680664,
                      2.1428513526916504,
                      0.43645793199539185,
                      13.160608291625977,
                      2.5247883796691895,
                      0.5551329255104065,
                      0.8389977812767029,
                      -1.4301645755767822,
                      -0.27607983350753784,
                      -0.40175411105155945,
                      0.4887036979198456,
                      -26.542144775390625,
                      0.2022455930709839,
                      0.01307427603751421,
                      0.1156657487154007,
                      0.08253328502178192,
                      1.3595398664474487,
                      5.065162658691406,
                      15.374205589294434,
                      21.505489349365234
                    ],
                    [
                      0,
                      0,
                      0,
                      0,
                      0,
                      0,
                      68.32685852050781,
                      1.872666597366333,
                      0.5672366619110107,
                      12.153738975524902,
                      2.3619866371154785,
                      0.3774747848510742,
                      0.3380516767501831,
                      -0.34355664253234863,
                      0.08029433339834213,
                      -1.1686687469482422,
                      0.1320265531539917,
                      -26.799646377563477,
                      0.369479238986969,
                      0.025121506303548813,
                      0.0459807813167572,
                      0.08226113021373749,
                      0.9632188081741333,
                      1.3280659914016724,
                      7.771457672119141,
                      34.878143310546875
                    ],
                    [
                      0,
                      0,
                      0,
                      0,
                      0,
                      0,
                      53.063053131103516,
                      1.1985865831375122,
                      0.5768189430236816,
                      11.013741493225098,
                      1.8318878412246704,
                      0.4204822778701782,
                      0.4612610638141632,
                      -0.2829199433326721,
                      0.12887868285179138,
                      -0.28106096386909485,
                      -0.22750575840473175,
                      -20.087751388549805,
                      0.22037293016910553,
                      0.011086944490671158,
                      -0.01821976900100708,
                      0.008724742569029331,
                      0.3577350080013275,
                      0.5001347064971924,
                      1.6287949085235596,
                      51.99757766723633
                    ],
                    [
                      0,
                      0,
                      0,
                      0,
                      0,
                      0,
                      7.9277119636535645,
                      0.7172621488571167,
                      0.3970656394958496,
                      1.102075219154358,
                      0.5834742188453674,
                      0.21617230772972107,
                      0.17346780002117157,
                      0.061751045286655426,
                      0.24129894375801086,
                      0.11565034836530685,
                      0.16434252262115479,
                      -4.2857794761657715,
                      0.23687240481376648,
                      0.019750064238905907,
                      0.011333435773849487,
                      0.026687750592827797,
                      0.43379276990890503,
                      0.3512697219848633,
                      1.2753220796585083,
                      90.6063003540039
                    ]
                  ]
                },
                {
                  "coloraxis": "coloraxis",
                  "hovertemplate": "Sequence position: %{x}<br>Layer: %{y}<br>Logit diff variation: %{z}<extra></extra>",
                  "name": "1",
                  "type": "heatmap",
                  "x": [
                    "<|endoftext|> 0",
                    "I 1",
                    " thought 2",
                    " this 3",
                    " movie 4",
                    " was 5",
                    " perfect 6",
                    ". 7",
                    " I 8",
                    " loved 9",
                    " it 10",
                    ", 11",
                    " even 12",
                    " though 13",
                    " the 14",
                    " sequel 15",
                    " was 16",
                    " dreadful 17",
                    ". 18",
                    "  19",
                    "\n 20",
                    "Conclusion 21",
                    ": 22",
                    " This 23",
                    " movie 24",
                    " is 25"
                  ],
                  "xaxis": "x2",
                  "yaxis": "y2",
                  "z": [
                    [
                      0,
                      0,
                      0,
                      0,
                      0,
                      0,
                      7.934462070465088,
                      0.11601493507623672,
                      -0.01920059509575367,
                      4.559117317199707,
                      0.13590878248214722,
                      0.22652491927146912,
                      0.06497083604335785,
                      0.0765918418765068,
                      0.06264457106590271,
                      -0.07843538373708725,
                      -0.02396608144044876,
                      -3.174332618713379,
                      0.04815297573804855,
                      -0.0708763375878334,
                      -0.03743577003479004,
                      0.04343884438276291,
                      0.002013007178902626,
                      -0.04559050127863884,
                      0.09260860085487366,
                      0.11289272457361221
                    ],
                    [
                      0,
                      0,
                      0,
                      0,
                      0,
                      0,
                      -0.09271644055843353,
                      -0.039238233119249344,
                      0.053822267800569534,
                      -0.05204034224152565,
                      0.01776786893606186,
                      0.13541066646575928,
                      0.10472772270441055,
                      0.09519161283969879,
                      0.005905505735427141,
                      -0.1108386293053627,
                      -0.03020537830889225,
                      -0.5436711311340332,
                      0.08087974786758423,
                      -0.13495877385139465,
                      -0.05471579357981682,
                      -0.3992994725704193,
                      -0.011061268858611584,
                      0.1287759691476822,
                      -0.13371604681015015,
                      0.23847971856594086
                    ],
                    [
                      0,
                      0,
                      0,
                      0,
                      0,
                      0,
                      0.001977060455828905,
                      -0.05930668115615845,
                      -0.0716158077120781,
                      0.061992403119802475,
                      0.619425892829895,
                      0.1926889419555664,
                      0.22874847054481506,
                      0.2130090296268463,
                      0.11189648509025574,
                      -0.07080958038568497,
                      -0.05103383958339691,
                      0.35399138927459717,
                      0.07836349308490753,
                      -0.2269357442855835,
                      -0.02420743741095066,
                      -0.3661002814769745,
                      0.2164444923400879,
                      0.4026579260826111,
                      0.16770608723163605,
                      0.6141982674598694
                    ],
                    [
                      0,
                      0,
                      0,
                      0,
                      0,
                      0,
                      0.21170465648174286,
                      0.47156232595443726,
                      0.011194785125553608,
                      0.06553570926189423,
                      0.9918733239173889,
                      -0.13257089257240295,
                      0.1989128291606903,
                      0.04342344030737877,
                      -0.054797954857349396,
                      0.012411831878125668,
                      0.0527900829911232,
                      0.22613464295864105,
                      -0.4785051643848419,
                      0.006069832481443882,
                      0.33593082427978516,
                      0.10033197700977325,
                      -0.14370405673980713,
                      -0.029173197224736214,
                      -0.1691388040781021,
                      0.8802182078361511
                    ],
                    [
                      0,
                      0,
                      0,
                      0,
                      0,
                      0,
                      0.3370862603187561,
                      -0.3303488492965698,
                      -0.24628013372421265,
                      0.26071009039878845,
                      0.08185544610023499,
                      -0.08311870694160461,
                      0.12360479682683945,
                      0.21648555994033813,
                      -0.04780378192663193,
                      -0.1048663780093193,
                      0.0350581631064415,
                      0.08959422260522842,
                      -0.8419967293739319,
                      -0.05019166320562363,
                      -0.036347102373838425,
                      -0.22381865978240967,
                      0.035571686923503876,
                      -0.0010167739819735289,
                      -0.17092587053775787,
                      0.5804547071456909
                    ],
                    [
                      0,
                      0,
                      0,
                      0,
                      0,
                      0,
                      -1.232484221458435,
                      0.39123716950416565,
                      -0.053781185299158096,
                      -0.7324162125587463,
                      0.548821747303009,
                      -0.09058531373739243,
                      0.023442290723323822,
                      -0.06327107548713684,
                      -0.07909782230854034,
                      -0.22817333042621613,
                      0.06519678235054016,
                      -0.009751787409186363,
                      -0.4445767402648926,
                      -0.04888218268752098,
                      -0.23143933713436127,
                      -0.2903762757778168,
                      -0.08011973649263382,
                      -0.06479109823703766,
                      0.7608448266983032,
                      2.5943450927734375
                    ],
                    [
                      0,
                      0,
                      0,
                      0,
                      0,
                      0,
                      -0.476296991109848,
                      1.5069206953048706,
                      0.21414902806282043,
                      -0.4985016882419586,
                      0.8852609395980835,
                      0.2944793105125427,
                      0.5556516051292419,
                      -1.4072306156158447,
                      -0.3253265917301178,
                      -0.004796297289431095,
                      0.0720471665263176,
                      0.313484787940979,
                      0.49869683384895325,
                      -0.055984191596508026,
                      0.19555439054965973,
                      0.31337693333625793,
                      1.9893748760223389,
                      1.1569244861602783,
                      2.8425562381744385,
                      4.657174110412598
                    ],
                    [
                      0,
                      0,
                      0,
                      0,
                      0,
                      0,
                      -0.052158452570438385,
                      0.12348669022321701,
                      0.01356212142854929,
                      0.0940464586019516,
                      0.19323840737342834,
                      -0.033923279494047165,
                      0.09886843711137772,
                      -0.030338892713189125,
                      -0.019113296642899513,
                      -0.3871136009693146,
                      0.34390583634376526,
                      0.7458191514015198,
                      0.47400155663490295,
                      0.0203868318349123,
                      0.06310161203145981,
                      0.0065987603738904,
                      0.1771189570426941,
                      3.9175071716308594,
                      12.389055252075195,
                      11.161908149719238
                    ],
                    [
                      0,
                      0,
                      0,
                      0,
                      0,
                      0,
                      0.7888676524162292,
                      0.18318364024162292,
                      0.13963183760643005,
                      -0.014435109682381153,
                      0.3368295133113861,
                      0.05042274668812752,
                      0.047331344336271286,
                      0.03528411313891411,
                      0.01605784147977829,
                      -0.9581297636032104,
                      0.027006134390830994,
                      1.68451726436615,
                      0.27480629086494446,
                      0.0011913715861737728,
                      0.040681228041648865,
                      0.049041375517845154,
                      0.22910279035568237,
                      0.09505296498537064,
                      0.5323787927627563,
                      12.726759910583496
                    ],
                    [
                      0,
                      0,
                      0,
                      0,
                      0,
                      0,
                      -0.5613568425178528,
                      0.16448630392551422,
                      0.1639060229063034,
                      0.09338915348052979,
                      0.1817663162946701,
                      0.08518306165933609,
                      0.08478251844644547,
                      -0.06314269453287125,
                      0.01777813956141472,
                      -0.1391131728887558,
                      -0.15257258713245392,
                      0.5917111039161682,
                      0.016170814633369446,
                      0.0033533000387251377,
                      0.025065019726753235,
                      0.009993142448365688,
                      0.14742709696292877,
                      0.0864514708518982,
                      0.12158665060997009,
                      17.535417556762695
                    ],
                    [
                      0,
                      0,
                      0,
                      0,
                      0,
                      0,
                      0.11598413437604904,
                      0.1342347115278244,
                      0.03990067541599274,
                      0.1175452396273613,
                      0.14666707813739777,
                      0.043572358787059784,
                      0.01403456274420023,
                      0.05990750342607498,
                      0.06967983394861221,
                      0.18803642690181732,
                      0.2421514093875885,
                      0.18757940828800201,
                      0.08555279672145844,
                      0.006408757530152798,
                      0.004154394846409559,
                      0.010835318826138973,
                      0.17397619783878326,
                      0.14049968123435974,
                      0.6105470657348633,
                      38.758140563964844
                    ],
                    [
                      0,
                      0,
                      0,
                      0,
                      0,
                      0,
                      0,
                      0,
                      0,
                      0,
                      0,
                      0,
                      0,
                      0,
                      0,
                      0,
                      0,
                      0,
                      0,
                      0,
                      0,
                      0,
                      0,
                      0,
                      0,
                      10.11617660522461
                    ]
                  ]
                },
                {
                  "coloraxis": "coloraxis",
                  "hovertemplate": "Sequence position: %{x}<br>Layer: %{y}<br>Logit diff variation: %{z}<extra></extra>",
                  "name": "2",
                  "type": "heatmap",
                  "x": [
                    "<|endoftext|> 0",
                    "I 1",
                    " thought 2",
                    " this 3",
                    " movie 4",
                    " was 5",
                    " perfect 6",
                    ". 7",
                    " I 8",
                    " loved 9",
                    " it 10",
                    ", 11",
                    " even 12",
                    " though 13",
                    " the 14",
                    " sequel 15",
                    " was 16",
                    " dreadful 17",
                    ". 18",
                    "  19",
                    "\n 20",
                    "Conclusion 21",
                    ": 22",
                    " This 23",
                    " movie 24",
                    " is 25"
                  ],
                  "xaxis": "x3",
                  "yaxis": "y3",
                  "z": [
                    [
                      0,
                      0,
                      0,
                      0,
                      0,
                      0,
                      102.78460693359375,
                      0.07930323481559753,
                      -0.019483031705021858,
                      16.816638946533203,
                      0.09754354506731033,
                      0.20717540383338928,
                      0.057252589613199234,
                      0.0910988450050354,
                      0.05688285455107689,
                      -0.06850386410951614,
                      0.03189486265182495,
                      -30.980121612548828,
                      0.0609704926609993,
                      -0.06501191854476929,
                      -0.06689654290676117,
                      0.16094812750816345,
                      0.1407615691423416,
                      -0.07828132808208466,
                      0.0759345293045044,
                      0.07122553139925003
                    ],
                    [
                      0,
                      0,
                      0,
                      0,
                      0,
                      0,
                      5.476221561431885,
                      0.06970550864934921,
                      -0.1094932109117508,
                      1.1079704761505127,
                      -0.04430669546127319,
                      -0.12413886189460754,
                      -0.03735874220728874,
                      -0.08550144731998444,
                      0.09820085018873215,
                      -0.027170460671186447,
                      -0.035864390432834625,
                      -1.981687307357788,
                      -0.008760688826441765,
                      0.00038000644417479634,
                      0.04168260097503662,
                      -0.19976015388965607,
                      -0.07703860104084015,
                      -0.12881705164909363,
                      -0.2473379671573639,
                      -0.3520810902118683
                    ],
                    [
                      0,
                      0,
                      0,
                      0,
                      0,
                      0,
                      -2.2089414596557617,
                      0.36430805921554565,
                      -0.03840632736682892,
                      -0.9120462536811829,
                      0.25245779752731323,
                      0.18366636335849762,
                      0.12335830926895142,
                      0.2491404265165329,
                      0.1863880157470703,
                      -0.02016088180243969,
                      -0.00875041913241148,
                      1.9980173110961914,
                      0.09376402199268341,
                      -0.2599398195743561,
                      -0.14563490450382233,
                      -0.5263859629631042,
                      -0.010825048200786114,
                      0.16862015426158905,
                      -0.029907532036304474,
                      -0.229323610663414
                    ],
                    [
                      0,
                      0,
                      0,
                      0,
                      0,
                      0,
                      6.345126628875732,
                      -0.007343367673456669,
                      -0.1108899861574173,
                      1.4613404273986816,
                      0.3869800865650177,
                      -0.3401828110218048,
                      0.24566389620304108,
                      0.20048420131206512,
                      0.060806166380643845,
                      -0.029851047322154045,
                      -0.006347134243696928,
                      -2.5409233570098877,
                      0.024613121524453163,
                      0.05389929190278053,
                      0.3213673233985901,
                      -0.013603202998638153,
                      0.18333257734775543,
                      0.2424800544977188,
                      0.34903591871261597,
                      0.1318006068468094
                    ],
                    [
                      0,
                      0,
                      0,
                      0,
                      0,
                      0,
                      1.388024926185608,
                      0.5830788016319275,
                      0.10117414593696594,
                      0.10909266024827957,
                      -0.0026959916576743126,
                      0.310290664434433,
                      0.05753502994775772,
                      0.46228814125061035,
                      0.1588272899389267,
                      0.2999277710914612,
                      0.14621004462242126,
                      -0.14190159738063812,
                      -0.30389732122421265,
                      -0.03485788777470589,
                      -0.0959772989153862,
                      -0.3812645673751831,
                      -0.028695622459053993,
                      0.04779864847660065,
                      -0.37360796332359314,
                      -0.11197351664304733
                    ],
                    [
                      0,
                      0,
                      0,
                      0,
                      0,
                      0,
                      10.160306930541992,
                      2.745382308959961,
                      0.06347648799419403,
                      1.380126953125,
                      1.276872992515564,
                      0.5317214131355286,
                      0.5062610507011414,
                      0.30501681566238403,
                      0.07300745695829391,
                      -0.18033359944820404,
                      0.11852605640888214,
                      -5.199104309082031,
                      -1.070200800895691,
                      0.008175274357199669,
                      -0.13785503804683685,
                      -0.10887183994054794,
                      -0.3867233097553253,
                      -0.5320603847503662,
                      -0.8323116898536682,
                      -0.7808464765548706
                    ],
                    [
                      0,
                      0,
                      0,
                      0,
                      0,
                      0,
                      3.4266722202301025,
                      1.5516947507858276,
                      0.2870692014694214,
                      0.6683799624443054,
                      0.3726836144924164,
                      0.8823698163032532,
                      0.8871045112609863,
                      0.2104722261428833,
                      -0.25321266055107117,
                      -0.9801238775253296,
                      0.3107733726501465,
                      -0.15490397810935974,
                      1.786251187324524,
                      -0.02782776951789856,
                      0.13814261555671692,
                      0.2852616012096405,
                      1.8857922554016113,
                      0.23386316001415253,
                      -2.636032819747925,
                      0.7891707420349121
                    ],
                    [
                      0,
                      0,
                      0,
                      0,
                      0,
                      0,
                      0.8407129049301147,
                      -0.28529754281044006,
                      0.02785344608128071,
                      -0.6194618344306946,
                      -0.08827446401119232,
                      0.032505959272384644,
                      0.12886840105056763,
                      -0.26686209440231323,
                      -0.07866646349430084,
                      0.2167217880487442,
                      0.05197358503937721,
                      -0.14947091042995453,
                      0.07874349504709244,
                      -0.07436314970254898,
                      0.05736556649208069,
                      0.28606268763542175,
                      0.5978271961212158,
                      1.2912412881851196,
                      1.6007360219955444,
                      3.6125261783599854
                    ],
                    [
                      0,
                      0,
                      0,
                      0,
                      0,
                      0,
                      -0.7266442179679871,
                      0.15783104300498962,
                      0.17486459016799927,
                      0.816094696521759,
                      0.09418511390686035,
                      0.14718574285507202,
                      -0.03769766539335251,
                      -0.057437464594841,
                      0.0833754688501358,
                      0.04123583436012268,
                      0.07836349308490753,
                      0.46031102538108826,
                      0.19336165487766266,
                      0.011312894523143768,
                      -0.015446748584508896,
                      0.038231730461120605,
                      0.4091796576976776,
                      0.11654900014400482,
                      2.370654821395874,
                      9.116681098937988
                    ],
                    [
                      0,
                      0,
                      0,
                      0,
                      0,
                      0,
                      2.8537099361419678,
                      0.061802398413419724,
                      -0.0010783966863527894,
                      0.6546535491943359,
                      0.11793037503957748,
                      -0.04341830313205719,
                      0.06685031950473785,
                      -0.09298346936702728,
                      -0.04964732751250267,
                      -0.18917131423950195,
                      -0.18797481060028076,
                      -1.4724889993667603,
                      -0.033199209719896317,
                      -0.019739793613553047,
                      -0.03267541900277138,
                      -0.005674420390278101,
                      0.040147166699171066,
                      0.027268029749393463,
                      -0.009649082086980343,
                      5.858744144439697
                    ],
                    [
                      0,
                      0,
                      0,
                      0,
                      0,
                      0,
                      -0.2064821571111679,
                      0.04478940740227699,
                      0.018163282424211502,
                      -0.09963357448577881,
                      -0.15841646492481232,
                      -0.056703120470047,
                      0.023919865489006042,
                      0.031309448182582855,
                      -0.03333786129951477,
                      -0.07546722888946533,
                      0.01680244691669941,
                      0.04605267196893692,
                      0.03880687430500984,
                      0.018815454095602036,
                      0.042134497314691544,
                      0.005602527409791946,
                      0.03508897125720978,
                      0.04586266726255417,
                      0.08238950371742249,
                      9.698430061340332
                    ],
                    [
                      0,
                      0,
                      0,
                      0,
                      0,
                      0,
                      0,
                      0,
                      0,
                      0,
                      0,
                      0,
                      0,
                      0,
                      0,
                      0,
                      0,
                      0,
                      0,
                      0,
                      0,
                      0,
                      0,
                      0,
                      0,
                      -3.226917266845703
                    ]
                  ]
                }
              ],
              "layout": {
                "annotations": [
                  {
                    "font": {},
                    "showarrow": false,
                    "text": "resid_pre",
                    "x": 0.15999999999999998,
                    "xanchor": "center",
                    "xref": "paper",
                    "y": 1,
                    "yanchor": "bottom",
                    "yref": "paper"
                  },
                  {
                    "font": {},
                    "showarrow": false,
                    "text": "attn_out",
                    "x": 0.49999999999999994,
                    "xanchor": "center",
                    "xref": "paper",
                    "y": 1,
                    "yanchor": "bottom",
                    "yref": "paper"
                  },
                  {
                    "font": {},
                    "showarrow": false,
                    "text": "mlp_out",
                    "x": 0.8399999999999999,
                    "xanchor": "center",
                    "xref": "paper",
                    "y": 1,
                    "yanchor": "bottom",
                    "yref": "paper"
                  }
                ],
                "coloraxis": {
                  "cmid": 0,
                  "colorbar": {
                    "ticksuffix": "%",
                    "title": {
                      "text": "Logit diff variation"
                    }
                  },
                  "colorscale": [
                    [
                      0,
                      "rgb(103,0,31)"
                    ],
                    [
                      0.1,
                      "rgb(178,24,43)"
                    ],
                    [
                      0.2,
                      "rgb(214,96,77)"
                    ],
                    [
                      0.3,
                      "rgb(244,165,130)"
                    ],
                    [
                      0.4,
                      "rgb(253,219,199)"
                    ],
                    [
                      0.5,
                      "rgb(247,247,247)"
                    ],
                    [
                      0.6,
                      "rgb(209,229,240)"
                    ],
                    [
                      0.7,
                      "rgb(146,197,222)"
                    ],
                    [
                      0.8,
                      "rgb(67,147,195)"
                    ],
                    [
                      0.9,
                      "rgb(33,102,172)"
                    ],
                    [
                      1,
                      "rgb(5,48,97)"
                    ]
                  ]
                },
                "margin": {
                  "l": 100,
                  "r": 100
                },
                "template": {
                  "data": {
                    "bar": [
                      {
                        "error_x": {
                          "color": "#2a3f5f"
                        },
                        "error_y": {
                          "color": "#2a3f5f"
                        },
                        "marker": {
                          "line": {
                            "color": "#E5ECF6",
                            "width": 0.5
                          },
                          "pattern": {
                            "fillmode": "overlay",
                            "size": 10,
                            "solidity": 0.2
                          }
                        },
                        "type": "bar"
                      }
                    ],
                    "barpolar": [
                      {
                        "marker": {
                          "line": {
                            "color": "#E5ECF6",
                            "width": 0.5
                          },
                          "pattern": {
                            "fillmode": "overlay",
                            "size": 10,
                            "solidity": 0.2
                          }
                        },
                        "type": "barpolar"
                      }
                    ],
                    "carpet": [
                      {
                        "aaxis": {
                          "endlinecolor": "#2a3f5f",
                          "gridcolor": "white",
                          "linecolor": "white",
                          "minorgridcolor": "white",
                          "startlinecolor": "#2a3f5f"
                        },
                        "baxis": {
                          "endlinecolor": "#2a3f5f",
                          "gridcolor": "white",
                          "linecolor": "white",
                          "minorgridcolor": "white",
                          "startlinecolor": "#2a3f5f"
                        },
                        "type": "carpet"
                      }
                    ],
                    "choropleth": [
                      {
                        "colorbar": {
                          "outlinewidth": 0,
                          "ticks": ""
                        },
                        "type": "choropleth"
                      }
                    ],
                    "contour": [
                      {
                        "colorbar": {
                          "outlinewidth": 0,
                          "ticks": ""
                        },
                        "colorscale": [
                          [
                            0,
                            "#0d0887"
                          ],
                          [
                            0.1111111111111111,
                            "#46039f"
                          ],
                          [
                            0.2222222222222222,
                            "#7201a8"
                          ],
                          [
                            0.3333333333333333,
                            "#9c179e"
                          ],
                          [
                            0.4444444444444444,
                            "#bd3786"
                          ],
                          [
                            0.5555555555555556,
                            "#d8576b"
                          ],
                          [
                            0.6666666666666666,
                            "#ed7953"
                          ],
                          [
                            0.7777777777777778,
                            "#fb9f3a"
                          ],
                          [
                            0.8888888888888888,
                            "#fdca26"
                          ],
                          [
                            1,
                            "#f0f921"
                          ]
                        ],
                        "type": "contour"
                      }
                    ],
                    "contourcarpet": [
                      {
                        "colorbar": {
                          "outlinewidth": 0,
                          "ticks": ""
                        },
                        "type": "contourcarpet"
                      }
                    ],
                    "heatmap": [
                      {
                        "colorbar": {
                          "outlinewidth": 0,
                          "ticks": ""
                        },
                        "colorscale": [
                          [
                            0,
                            "#0d0887"
                          ],
                          [
                            0.1111111111111111,
                            "#46039f"
                          ],
                          [
                            0.2222222222222222,
                            "#7201a8"
                          ],
                          [
                            0.3333333333333333,
                            "#9c179e"
                          ],
                          [
                            0.4444444444444444,
                            "#bd3786"
                          ],
                          [
                            0.5555555555555556,
                            "#d8576b"
                          ],
                          [
                            0.6666666666666666,
                            "#ed7953"
                          ],
                          [
                            0.7777777777777778,
                            "#fb9f3a"
                          ],
                          [
                            0.8888888888888888,
                            "#fdca26"
                          ],
                          [
                            1,
                            "#f0f921"
                          ]
                        ],
                        "type": "heatmap"
                      }
                    ],
                    "heatmapgl": [
                      {
                        "colorbar": {
                          "outlinewidth": 0,
                          "ticks": ""
                        },
                        "colorscale": [
                          [
                            0,
                            "#0d0887"
                          ],
                          [
                            0.1111111111111111,
                            "#46039f"
                          ],
                          [
                            0.2222222222222222,
                            "#7201a8"
                          ],
                          [
                            0.3333333333333333,
                            "#9c179e"
                          ],
                          [
                            0.4444444444444444,
                            "#bd3786"
                          ],
                          [
                            0.5555555555555556,
                            "#d8576b"
                          ],
                          [
                            0.6666666666666666,
                            "#ed7953"
                          ],
                          [
                            0.7777777777777778,
                            "#fb9f3a"
                          ],
                          [
                            0.8888888888888888,
                            "#fdca26"
                          ],
                          [
                            1,
                            "#f0f921"
                          ]
                        ],
                        "type": "heatmapgl"
                      }
                    ],
                    "histogram": [
                      {
                        "marker": {
                          "pattern": {
                            "fillmode": "overlay",
                            "size": 10,
                            "solidity": 0.2
                          }
                        },
                        "type": "histogram"
                      }
                    ],
                    "histogram2d": [
                      {
                        "colorbar": {
                          "outlinewidth": 0,
                          "ticks": ""
                        },
                        "colorscale": [
                          [
                            0,
                            "#0d0887"
                          ],
                          [
                            0.1111111111111111,
                            "#46039f"
                          ],
                          [
                            0.2222222222222222,
                            "#7201a8"
                          ],
                          [
                            0.3333333333333333,
                            "#9c179e"
                          ],
                          [
                            0.4444444444444444,
                            "#bd3786"
                          ],
                          [
                            0.5555555555555556,
                            "#d8576b"
                          ],
                          [
                            0.6666666666666666,
                            "#ed7953"
                          ],
                          [
                            0.7777777777777778,
                            "#fb9f3a"
                          ],
                          [
                            0.8888888888888888,
                            "#fdca26"
                          ],
                          [
                            1,
                            "#f0f921"
                          ]
                        ],
                        "type": "histogram2d"
                      }
                    ],
                    "histogram2dcontour": [
                      {
                        "colorbar": {
                          "outlinewidth": 0,
                          "ticks": ""
                        },
                        "colorscale": [
                          [
                            0,
                            "#0d0887"
                          ],
                          [
                            0.1111111111111111,
                            "#46039f"
                          ],
                          [
                            0.2222222222222222,
                            "#7201a8"
                          ],
                          [
                            0.3333333333333333,
                            "#9c179e"
                          ],
                          [
                            0.4444444444444444,
                            "#bd3786"
                          ],
                          [
                            0.5555555555555556,
                            "#d8576b"
                          ],
                          [
                            0.6666666666666666,
                            "#ed7953"
                          ],
                          [
                            0.7777777777777778,
                            "#fb9f3a"
                          ],
                          [
                            0.8888888888888888,
                            "#fdca26"
                          ],
                          [
                            1,
                            "#f0f921"
                          ]
                        ],
                        "type": "histogram2dcontour"
                      }
                    ],
                    "mesh3d": [
                      {
                        "colorbar": {
                          "outlinewidth": 0,
                          "ticks": ""
                        },
                        "type": "mesh3d"
                      }
                    ],
                    "parcoords": [
                      {
                        "line": {
                          "colorbar": {
                            "outlinewidth": 0,
                            "ticks": ""
                          }
                        },
                        "type": "parcoords"
                      }
                    ],
                    "pie": [
                      {
                        "automargin": true,
                        "type": "pie"
                      }
                    ],
                    "scatter": [
                      {
                        "fillpattern": {
                          "fillmode": "overlay",
                          "size": 10,
                          "solidity": 0.2
                        },
                        "type": "scatter"
                      }
                    ],
                    "scatter3d": [
                      {
                        "line": {
                          "colorbar": {
                            "outlinewidth": 0,
                            "ticks": ""
                          }
                        },
                        "marker": {
                          "colorbar": {
                            "outlinewidth": 0,
                            "ticks": ""
                          }
                        },
                        "type": "scatter3d"
                      }
                    ],
                    "scattercarpet": [
                      {
                        "marker": {
                          "colorbar": {
                            "outlinewidth": 0,
                            "ticks": ""
                          }
                        },
                        "type": "scattercarpet"
                      }
                    ],
                    "scattergeo": [
                      {
                        "marker": {
                          "colorbar": {
                            "outlinewidth": 0,
                            "ticks": ""
                          }
                        },
                        "type": "scattergeo"
                      }
                    ],
                    "scattergl": [
                      {
                        "marker": {
                          "colorbar": {
                            "outlinewidth": 0,
                            "ticks": ""
                          }
                        },
                        "type": "scattergl"
                      }
                    ],
                    "scattermapbox": [
                      {
                        "marker": {
                          "colorbar": {
                            "outlinewidth": 0,
                            "ticks": ""
                          }
                        },
                        "type": "scattermapbox"
                      }
                    ],
                    "scatterpolar": [
                      {
                        "marker": {
                          "colorbar": {
                            "outlinewidth": 0,
                            "ticks": ""
                          }
                        },
                        "type": "scatterpolar"
                      }
                    ],
                    "scatterpolargl": [
                      {
                        "marker": {
                          "colorbar": {
                            "outlinewidth": 0,
                            "ticks": ""
                          }
                        },
                        "type": "scatterpolargl"
                      }
                    ],
                    "scatterternary": [
                      {
                        "marker": {
                          "colorbar": {
                            "outlinewidth": 0,
                            "ticks": ""
                          }
                        },
                        "type": "scatterternary"
                      }
                    ],
                    "surface": [
                      {
                        "colorbar": {
                          "outlinewidth": 0,
                          "ticks": ""
                        },
                        "colorscale": [
                          [
                            0,
                            "#0d0887"
                          ],
                          [
                            0.1111111111111111,
                            "#46039f"
                          ],
                          [
                            0.2222222222222222,
                            "#7201a8"
                          ],
                          [
                            0.3333333333333333,
                            "#9c179e"
                          ],
                          [
                            0.4444444444444444,
                            "#bd3786"
                          ],
                          [
                            0.5555555555555556,
                            "#d8576b"
                          ],
                          [
                            0.6666666666666666,
                            "#ed7953"
                          ],
                          [
                            0.7777777777777778,
                            "#fb9f3a"
                          ],
                          [
                            0.8888888888888888,
                            "#fdca26"
                          ],
                          [
                            1,
                            "#f0f921"
                          ]
                        ],
                        "type": "surface"
                      }
                    ],
                    "table": [
                      {
                        "cells": {
                          "fill": {
                            "color": "#EBF0F8"
                          },
                          "line": {
                            "color": "white"
                          }
                        },
                        "header": {
                          "fill": {
                            "color": "#C8D4E3"
                          },
                          "line": {
                            "color": "white"
                          }
                        },
                        "type": "table"
                      }
                    ]
                  },
                  "layout": {
                    "annotationdefaults": {
                      "arrowcolor": "#2a3f5f",
                      "arrowhead": 0,
                      "arrowwidth": 1
                    },
                    "autotypenumbers": "strict",
                    "coloraxis": {
                      "colorbar": {
                        "outlinewidth": 0,
                        "ticks": ""
                      }
                    },
                    "colorscale": {
                      "diverging": [
                        [
                          0,
                          "#8e0152"
                        ],
                        [
                          0.1,
                          "#c51b7d"
                        ],
                        [
                          0.2,
                          "#de77ae"
                        ],
                        [
                          0.3,
                          "#f1b6da"
                        ],
                        [
                          0.4,
                          "#fde0ef"
                        ],
                        [
                          0.5,
                          "#f7f7f7"
                        ],
                        [
                          0.6,
                          "#e6f5d0"
                        ],
                        [
                          0.7,
                          "#b8e186"
                        ],
                        [
                          0.8,
                          "#7fbc41"
                        ],
                        [
                          0.9,
                          "#4d9221"
                        ],
                        [
                          1,
                          "#276419"
                        ]
                      ],
                      "sequential": [
                        [
                          0,
                          "#0d0887"
                        ],
                        [
                          0.1111111111111111,
                          "#46039f"
                        ],
                        [
                          0.2222222222222222,
                          "#7201a8"
                        ],
                        [
                          0.3333333333333333,
                          "#9c179e"
                        ],
                        [
                          0.4444444444444444,
                          "#bd3786"
                        ],
                        [
                          0.5555555555555556,
                          "#d8576b"
                        ],
                        [
                          0.6666666666666666,
                          "#ed7953"
                        ],
                        [
                          0.7777777777777778,
                          "#fb9f3a"
                        ],
                        [
                          0.8888888888888888,
                          "#fdca26"
                        ],
                        [
                          1,
                          "#f0f921"
                        ]
                      ],
                      "sequentialminus": [
                        [
                          0,
                          "#0d0887"
                        ],
                        [
                          0.1111111111111111,
                          "#46039f"
                        ],
                        [
                          0.2222222222222222,
                          "#7201a8"
                        ],
                        [
                          0.3333333333333333,
                          "#9c179e"
                        ],
                        [
                          0.4444444444444444,
                          "#bd3786"
                        ],
                        [
                          0.5555555555555556,
                          "#d8576b"
                        ],
                        [
                          0.6666666666666666,
                          "#ed7953"
                        ],
                        [
                          0.7777777777777778,
                          "#fb9f3a"
                        ],
                        [
                          0.8888888888888888,
                          "#fdca26"
                        ],
                        [
                          1,
                          "#f0f921"
                        ]
                      ]
                    },
                    "colorway": [
                      "#636efa",
                      "#EF553B",
                      "#00cc96",
                      "#ab63fa",
                      "#FFA15A",
                      "#19d3f3",
                      "#FF6692",
                      "#B6E880",
                      "#FF97FF",
                      "#FECB52"
                    ],
                    "font": {
                      "color": "#2a3f5f"
                    },
                    "geo": {
                      "bgcolor": "white",
                      "lakecolor": "white",
                      "landcolor": "#E5ECF6",
                      "showlakes": true,
                      "showland": true,
                      "subunitcolor": "white"
                    },
                    "hoverlabel": {
                      "align": "left"
                    },
                    "hovermode": "closest",
                    "mapbox": {
                      "style": "light"
                    },
                    "paper_bgcolor": "white",
                    "plot_bgcolor": "#E5ECF6",
                    "polar": {
                      "angularaxis": {
                        "gridcolor": "white",
                        "linecolor": "white",
                        "ticks": ""
                      },
                      "bgcolor": "#E5ECF6",
                      "radialaxis": {
                        "gridcolor": "white",
                        "linecolor": "white",
                        "ticks": ""
                      }
                    },
                    "scene": {
                      "xaxis": {
                        "backgroundcolor": "#E5ECF6",
                        "gridcolor": "white",
                        "gridwidth": 2,
                        "linecolor": "white",
                        "showbackground": true,
                        "ticks": "",
                        "zerolinecolor": "white"
                      },
                      "yaxis": {
                        "backgroundcolor": "#E5ECF6",
                        "gridcolor": "white",
                        "gridwidth": 2,
                        "linecolor": "white",
                        "showbackground": true,
                        "ticks": "",
                        "zerolinecolor": "white"
                      },
                      "zaxis": {
                        "backgroundcolor": "#E5ECF6",
                        "gridcolor": "white",
                        "gridwidth": 2,
                        "linecolor": "white",
                        "showbackground": true,
                        "ticks": "",
                        "zerolinecolor": "white"
                      }
                    },
                    "shapedefaults": {
                      "line": {
                        "color": "#2a3f5f"
                      }
                    },
                    "ternary": {
                      "aaxis": {
                        "gridcolor": "white",
                        "linecolor": "white",
                        "ticks": ""
                      },
                      "baxis": {
                        "gridcolor": "white",
                        "linecolor": "white",
                        "ticks": ""
                      },
                      "bgcolor": "#E5ECF6",
                      "caxis": {
                        "gridcolor": "white",
                        "linecolor": "white",
                        "ticks": ""
                      }
                    },
                    "title": {
                      "x": 0.05
                    },
                    "xaxis": {
                      "automargin": true,
                      "gridcolor": "white",
                      "linecolor": "white",
                      "ticks": "",
                      "title": {
                        "standoff": 15
                      },
                      "zerolinecolor": "white",
                      "zerolinewidth": 2
                    },
                    "yaxis": {
                      "automargin": true,
                      "gridcolor": "white",
                      "linecolor": "white",
                      "ticks": "",
                      "title": {
                        "standoff": 15
                      },
                      "zerolinecolor": "white",
                      "zerolinewidth": 2
                    }
                  }
                },
                "title": {
                  "text": "Patching at resid stream & layer outputs (corrupted -> clean)"
                },
                "width": 1300,
                "xaxis": {
                  "anchor": "y",
                  "constrain": "domain",
                  "domain": [
                    0,
                    0.31999999999999995
                  ],
                  "linecolor": "black",
                  "linewidth": 1,
                  "mirror": true,
                  "scaleanchor": "y",
                  "showline": true,
                  "tickangle": 45,
                  "title": {
                    "text": "Sequence position"
                  }
                },
                "xaxis2": {
                  "anchor": "y2",
                  "domain": [
                    0.33999999999999997,
                    0.6599999999999999
                  ],
                  "linecolor": "black",
                  "linewidth": 1,
                  "matches": "x",
                  "mirror": true,
                  "showline": true,
                  "tickangle": 45,
                  "title": {
                    "text": "Sequence position"
                  }
                },
                "xaxis3": {
                  "anchor": "y3",
                  "domain": [
                    0.6799999999999999,
                    0.9999999999999999
                  ],
                  "linecolor": "black",
                  "linewidth": 1,
                  "matches": "x",
                  "mirror": true,
                  "showline": true,
                  "tickangle": 45,
                  "title": {
                    "text": "Sequence position"
                  }
                },
                "yaxis": {
                  "anchor": "x",
                  "autorange": "reversed",
                  "constrain": "domain",
                  "domain": [
                    0,
                    1
                  ],
                  "linecolor": "black",
                  "linewidth": 1,
                  "mirror": true,
                  "showline": true,
                  "title": {
                    "text": "Layer"
                  }
                },
                "yaxis2": {
                  "anchor": "x2",
                  "domain": [
                    0,
                    1
                  ],
                  "linecolor": "black",
                  "linewidth": 1,
                  "matches": "y",
                  "mirror": true,
                  "showline": true,
                  "showticklabels": false
                },
                "yaxis3": {
                  "anchor": "x3",
                  "domain": [
                    0,
                    1
                  ],
                  "linecolor": "black",
                  "linewidth": 1,
                  "matches": "y",
                  "mirror": true,
                  "showline": true,
                  "showticklabels": false
                }
              }
            }
          },
          "metadata": {},
          "output_type": "display_data"
        }
      ],
      "source": [
        "assert results.keys() == {\"resid_pre\", \"attn_out\", \"mlp_out\"}\n",
        "labels = [f\"{tok} {i}\" for i, tok in enumerate(model.to_str_tokens(clean_tokens[0]))]\n",
        "imshow_p(\n",
        "    torch.stack([r.T for r in results.values()]) * 100, # we transpose so layer is on the y-axis\n",
        "    facet_col=0,\n",
        "    facet_labels=[\"resid_pre\", \"attn_out\", \"mlp_out\"],\n",
        "    title=\"Patching at resid stream & layer outputs (corrupted -> clean)\",\n",
        "    labels={\"x\": \"Sequence position\", \"y\": \"Layer\", \"color\": \"Logit diff variation\"},\n",
        "    x=labels,\n",
        "    xaxis_tickangle=45,\n",
        "    coloraxis=dict(colorbar_ticksuffix = \"%\"),\n",
        "    border=True,\n",
        "    width=1300,\n",
        "    margin={\"r\": 100, \"l\": 100}\n",
        ")"
      ]
    },
    {
      "attachments": {},
      "cell_type": "markdown",
      "metadata": {},
      "source": [
        "### Circuit Analysis With Patch Patching & Attn Visualization"
      ]
    },
    {
      "attachments": {},
      "cell_type": "markdown",
      "metadata": {},
      "source": [
        "#### Heads Influencing Logit Diff"
      ]
    },
    {
      "cell_type": "code",
      "execution_count": 31,
      "metadata": {},
      "outputs": [
        {
          "data": {
            "application/vnd.jupyter.widget-view+json": {
              "model_id": "e88fa9de02104367b38d1e49247a944c",
              "version_major": 2,
              "version_minor": 0
            },
            "text/plain": [
              "  0%|          | 0/144 [00:00<?, ?it/s]"
            ]
          },
          "metadata": {},
          "output_type": "display_data"
        },
        {
          "name": "stdout",
          "output_type": "stream",
          "text": [
            "results['z'].shape = (layer=12, head=12)\n"
          ]
        }
      ],
      "source": [
        "results = path_patch(\n",
        "    model,\n",
        "    orig_input=clean_tokens,\n",
        "    new_input=corrupted_tokens,\n",
        "    sender_nodes=IterNode('z'), # This means iterate over all heads in all layers\n",
        "    receiver_nodes=Node('resid_post', 11), # This is resid_post at layer 11\n",
        "    patching_metric=logit_diff_noising,\n",
        "    verbose=True\n",
        ")"
      ]
    },
    {
      "cell_type": "code",
      "execution_count": 32,
      "metadata": {},
      "outputs": [
        {
          "data": {
            "application/vnd.plotly.v1+json": {
              "config": {
                "plotlyServerURL": "https://plot.ly"
              },
              "data": [
                {
                  "coloraxis": "coloraxis",
                  "hovertemplate": "Head: %{x}<br>Layer: %{y}<br>Logit diff variation: %{z}<extra></extra>",
                  "name": "0",
                  "type": "heatmap",
                  "xaxis": "x",
                  "yaxis": "y",
                  "z": [
                    [
                      -0.00029044816619716585,
                      0.0000018486799717720714,
                      -0.0007133337203413248,
                      4.1081779045271105e-7,
                      0.00003435463804635219,
                      7.702833499934059e-7,
                      -0.000011759659173549153,
                      0.00015344044368248433,
                      -0.0000785175507189706,
                      -0.0005057680536992848,
                      -0.00010732614464359358,
                      -0.0004939570208080113
                    ],
                    [
                      0.00017064342682715505,
                      0.0003021051234100014,
                      -0.00012175612209830433,
                      -0.000056641500123078004,
                      -0.0001695650425972417,
                      -0.0017603541491553187,
                      -0.0007029091939330101,
                      -0.002335293684154749,
                      0.00031689455499872565,
                      0.0004154394846409559,
                      0.0002887535374611616,
                      0.001426616101525724
                    ],
                    [
                      0.0007108688005246222,
                      -0.00968205090612173,
                      -0.00017202994786202908,
                      0.00012201288336655125,
                      0.00003841146099148318,
                      0.0003764118009712547,
                      0.0006453947280533612,
                      -0.0004132313188165426,
                      0.00021901722357142717,
                      0.00046139972982928157,
                      0.0010032170685008168,
                      0.0002577367995399982
                    ],
                    [
                      -0.000041338538721902296,
                      0.0002208145597251132,
                      0.000056384738854831085,
                      0.000046987282985355705,
                      -0.0029347280506044626,
                      -0.004517455119639635,
                      0.00005807936395285651,
                      -0.0001117424326366745,
                      -0.0005898316157981753,
                      -0.0007309475331567228,
                      0.000615918543189764,
                      0.00013156438944861293
                    ],
                    [
                      0.000021465228201122954,
                      -0.0005293900612741709,
                      -0.001977625535801053,
                      -0.00008914745558286086,
                      0.0013669447507709265,
                      0.0007418855675496161,
                      0.0011557331308722496,
                      -0.00037974969018250704,
                      -0.006217829883098602,
                      -0.0000843203451950103,
                      -0.0011473112972453237,
                      -0.0008532685460522771
                    ],
                    [
                      -0.00006331728945951909,
                      -0.003081852337345481,
                      0.00029517256189137697,
                      -0.0011773010483011603,
                      -0.00010018818284152076,
                      -0.006151996087282896,
                      -0.00006136590673122555,
                      0.0003394381783436984,
                      0.0005769935669377446,
                      -0.010949064046144485,
                      -0.009411424398422241,
                      0.004466154146939516
                    ],
                    [
                      -0.00005011976827518083,
                      0.0004710025677923113,
                      -0.0005894207861274481,
                      -0.0021705557592213154,
                      -0.050925638526678085,
                      -0.002219545654952526,
                      0.0197178665548563,
                      0.00421663373708725,
                      0.0002780209179036319,
                      -0.0032600443810224533,
                      -0.008140918798744678,
                      0.0017692894907668233
                    ],
                    [
                      0.000043289921450195834,
                      -0.0716228187084198,
                      -0.002189607359468937,
                      -0.005787651985883713,
                      -0.00017998953990172595,
                      -0.03988470509648323,
                      0.024167999625205994,
                      -0.0008236896246671677,
                      -0.001774476026184857,
                      -0.006626285146921873,
                      -0.006221475545316935,
                      -0.00016088651318568736
                    ],
                    [
                      0.0023871595039963722,
                      -0.0001132316465373151,
                      -0.03128356859087944,
                      -0.004691384732723236,
                      -0.004606242757290602,
                      -0.07196377217769623,
                      -0.002551435260102153,
                      -0.0052787004970014095,
                      -0.017199143767356873,
                      -0.008262521587312222,
                      0.03235534206032753,
                      -0.0058229826390743256
                    ],
                    [
                      -0.003713587298989296,
                      -0.010942850261926651,
                      -0.09672460705041885,
                      -0.03878273814916611,
                      -0.0005305198137648404,
                      0.027163013815879822,
                      -0.03133055567741394,
                      0.018926426768302917,
                      -0.0017376565374433994,
                      -0.019492892548441887,
                      -0.02921987697482109,
                      -0.0009647542028687894
                    ],
                    [
                      -0.038377415388822556,
                      -0.0807923749089241,
                      0.000990276224911213,
                      0.004132261965423822,
                      -0.2978610694408417,
                      -0.006569951772689819,
                      -0.0005427416181191802,
                      0.07881184667348862,
                      0.0006751276669092476,
                      -0.007946140132844448,
                      -0.009724672883749008,
                      -0.025360550731420517
                    ],
                    [
                      0.0020576321985572577,
                      -0.002973755821585655,
                      -0.0012350209290161729,
                      -0.011541308835148811,
                      -0.001574869966134429,
                      -0.002207067096605897,
                      -8.729877549740195e-7,
                      -0.006812077481299639,
                      -0.021999189630150795,
                      -0.03212631121277809,
                      0.0020855676848441362,
                      -0.02391621842980385
                    ]
                  ]
                }
              ],
              "layout": {
                "coloraxis": {
                  "cmid": 0,
                  "colorbar": {
                    "title": {
                      "text": "Logit diff variation"
                    }
                  },
                  "colorscale": [
                    [
                      0,
                      "rgb(103,0,31)"
                    ],
                    [
                      0.1,
                      "rgb(178,24,43)"
                    ],
                    [
                      0.2,
                      "rgb(214,96,77)"
                    ],
                    [
                      0.3,
                      "rgb(244,165,130)"
                    ],
                    [
                      0.4,
                      "rgb(253,219,199)"
                    ],
                    [
                      0.5,
                      "rgb(247,247,247)"
                    ],
                    [
                      0.6,
                      "rgb(209,229,240)"
                    ],
                    [
                      0.7,
                      "rgb(146,197,222)"
                    ],
                    [
                      0.8,
                      "rgb(67,147,195)"
                    ],
                    [
                      0.9,
                      "rgb(33,102,172)"
                    ],
                    [
                      1,
                      "rgb(5,48,97)"
                    ]
                  ]
                },
                "margin": {
                  "l": 100,
                  "r": 100
                },
                "template": {
                  "data": {
                    "bar": [
                      {
                        "error_x": {
                          "color": "#2a3f5f"
                        },
                        "error_y": {
                          "color": "#2a3f5f"
                        },
                        "marker": {
                          "line": {
                            "color": "#E5ECF6",
                            "width": 0.5
                          },
                          "pattern": {
                            "fillmode": "overlay",
                            "size": 10,
                            "solidity": 0.2
                          }
                        },
                        "type": "bar"
                      }
                    ],
                    "barpolar": [
                      {
                        "marker": {
                          "line": {
                            "color": "#E5ECF6",
                            "width": 0.5
                          },
                          "pattern": {
                            "fillmode": "overlay",
                            "size": 10,
                            "solidity": 0.2
                          }
                        },
                        "type": "barpolar"
                      }
                    ],
                    "carpet": [
                      {
                        "aaxis": {
                          "endlinecolor": "#2a3f5f",
                          "gridcolor": "white",
                          "linecolor": "white",
                          "minorgridcolor": "white",
                          "startlinecolor": "#2a3f5f"
                        },
                        "baxis": {
                          "endlinecolor": "#2a3f5f",
                          "gridcolor": "white",
                          "linecolor": "white",
                          "minorgridcolor": "white",
                          "startlinecolor": "#2a3f5f"
                        },
                        "type": "carpet"
                      }
                    ],
                    "choropleth": [
                      {
                        "colorbar": {
                          "outlinewidth": 0,
                          "ticks": ""
                        },
                        "type": "choropleth"
                      }
                    ],
                    "contour": [
                      {
                        "colorbar": {
                          "outlinewidth": 0,
                          "ticks": ""
                        },
                        "colorscale": [
                          [
                            0,
                            "#0d0887"
                          ],
                          [
                            0.1111111111111111,
                            "#46039f"
                          ],
                          [
                            0.2222222222222222,
                            "#7201a8"
                          ],
                          [
                            0.3333333333333333,
                            "#9c179e"
                          ],
                          [
                            0.4444444444444444,
                            "#bd3786"
                          ],
                          [
                            0.5555555555555556,
                            "#d8576b"
                          ],
                          [
                            0.6666666666666666,
                            "#ed7953"
                          ],
                          [
                            0.7777777777777778,
                            "#fb9f3a"
                          ],
                          [
                            0.8888888888888888,
                            "#fdca26"
                          ],
                          [
                            1,
                            "#f0f921"
                          ]
                        ],
                        "type": "contour"
                      }
                    ],
                    "contourcarpet": [
                      {
                        "colorbar": {
                          "outlinewidth": 0,
                          "ticks": ""
                        },
                        "type": "contourcarpet"
                      }
                    ],
                    "heatmap": [
                      {
                        "colorbar": {
                          "outlinewidth": 0,
                          "ticks": ""
                        },
                        "colorscale": [
                          [
                            0,
                            "#0d0887"
                          ],
                          [
                            0.1111111111111111,
                            "#46039f"
                          ],
                          [
                            0.2222222222222222,
                            "#7201a8"
                          ],
                          [
                            0.3333333333333333,
                            "#9c179e"
                          ],
                          [
                            0.4444444444444444,
                            "#bd3786"
                          ],
                          [
                            0.5555555555555556,
                            "#d8576b"
                          ],
                          [
                            0.6666666666666666,
                            "#ed7953"
                          ],
                          [
                            0.7777777777777778,
                            "#fb9f3a"
                          ],
                          [
                            0.8888888888888888,
                            "#fdca26"
                          ],
                          [
                            1,
                            "#f0f921"
                          ]
                        ],
                        "type": "heatmap"
                      }
                    ],
                    "heatmapgl": [
                      {
                        "colorbar": {
                          "outlinewidth": 0,
                          "ticks": ""
                        },
                        "colorscale": [
                          [
                            0,
                            "#0d0887"
                          ],
                          [
                            0.1111111111111111,
                            "#46039f"
                          ],
                          [
                            0.2222222222222222,
                            "#7201a8"
                          ],
                          [
                            0.3333333333333333,
                            "#9c179e"
                          ],
                          [
                            0.4444444444444444,
                            "#bd3786"
                          ],
                          [
                            0.5555555555555556,
                            "#d8576b"
                          ],
                          [
                            0.6666666666666666,
                            "#ed7953"
                          ],
                          [
                            0.7777777777777778,
                            "#fb9f3a"
                          ],
                          [
                            0.8888888888888888,
                            "#fdca26"
                          ],
                          [
                            1,
                            "#f0f921"
                          ]
                        ],
                        "type": "heatmapgl"
                      }
                    ],
                    "histogram": [
                      {
                        "marker": {
                          "pattern": {
                            "fillmode": "overlay",
                            "size": 10,
                            "solidity": 0.2
                          }
                        },
                        "type": "histogram"
                      }
                    ],
                    "histogram2d": [
                      {
                        "colorbar": {
                          "outlinewidth": 0,
                          "ticks": ""
                        },
                        "colorscale": [
                          [
                            0,
                            "#0d0887"
                          ],
                          [
                            0.1111111111111111,
                            "#46039f"
                          ],
                          [
                            0.2222222222222222,
                            "#7201a8"
                          ],
                          [
                            0.3333333333333333,
                            "#9c179e"
                          ],
                          [
                            0.4444444444444444,
                            "#bd3786"
                          ],
                          [
                            0.5555555555555556,
                            "#d8576b"
                          ],
                          [
                            0.6666666666666666,
                            "#ed7953"
                          ],
                          [
                            0.7777777777777778,
                            "#fb9f3a"
                          ],
                          [
                            0.8888888888888888,
                            "#fdca26"
                          ],
                          [
                            1,
                            "#f0f921"
                          ]
                        ],
                        "type": "histogram2d"
                      }
                    ],
                    "histogram2dcontour": [
                      {
                        "colorbar": {
                          "outlinewidth": 0,
                          "ticks": ""
                        },
                        "colorscale": [
                          [
                            0,
                            "#0d0887"
                          ],
                          [
                            0.1111111111111111,
                            "#46039f"
                          ],
                          [
                            0.2222222222222222,
                            "#7201a8"
                          ],
                          [
                            0.3333333333333333,
                            "#9c179e"
                          ],
                          [
                            0.4444444444444444,
                            "#bd3786"
                          ],
                          [
                            0.5555555555555556,
                            "#d8576b"
                          ],
                          [
                            0.6666666666666666,
                            "#ed7953"
                          ],
                          [
                            0.7777777777777778,
                            "#fb9f3a"
                          ],
                          [
                            0.8888888888888888,
                            "#fdca26"
                          ],
                          [
                            1,
                            "#f0f921"
                          ]
                        ],
                        "type": "histogram2dcontour"
                      }
                    ],
                    "mesh3d": [
                      {
                        "colorbar": {
                          "outlinewidth": 0,
                          "ticks": ""
                        },
                        "type": "mesh3d"
                      }
                    ],
                    "parcoords": [
                      {
                        "line": {
                          "colorbar": {
                            "outlinewidth": 0,
                            "ticks": ""
                          }
                        },
                        "type": "parcoords"
                      }
                    ],
                    "pie": [
                      {
                        "automargin": true,
                        "type": "pie"
                      }
                    ],
                    "scatter": [
                      {
                        "fillpattern": {
                          "fillmode": "overlay",
                          "size": 10,
                          "solidity": 0.2
                        },
                        "type": "scatter"
                      }
                    ],
                    "scatter3d": [
                      {
                        "line": {
                          "colorbar": {
                            "outlinewidth": 0,
                            "ticks": ""
                          }
                        },
                        "marker": {
                          "colorbar": {
                            "outlinewidth": 0,
                            "ticks": ""
                          }
                        },
                        "type": "scatter3d"
                      }
                    ],
                    "scattercarpet": [
                      {
                        "marker": {
                          "colorbar": {
                            "outlinewidth": 0,
                            "ticks": ""
                          }
                        },
                        "type": "scattercarpet"
                      }
                    ],
                    "scattergeo": [
                      {
                        "marker": {
                          "colorbar": {
                            "outlinewidth": 0,
                            "ticks": ""
                          }
                        },
                        "type": "scattergeo"
                      }
                    ],
                    "scattergl": [
                      {
                        "marker": {
                          "colorbar": {
                            "outlinewidth": 0,
                            "ticks": ""
                          }
                        },
                        "type": "scattergl"
                      }
                    ],
                    "scattermapbox": [
                      {
                        "marker": {
                          "colorbar": {
                            "outlinewidth": 0,
                            "ticks": ""
                          }
                        },
                        "type": "scattermapbox"
                      }
                    ],
                    "scatterpolar": [
                      {
                        "marker": {
                          "colorbar": {
                            "outlinewidth": 0,
                            "ticks": ""
                          }
                        },
                        "type": "scatterpolar"
                      }
                    ],
                    "scatterpolargl": [
                      {
                        "marker": {
                          "colorbar": {
                            "outlinewidth": 0,
                            "ticks": ""
                          }
                        },
                        "type": "scatterpolargl"
                      }
                    ],
                    "scatterternary": [
                      {
                        "marker": {
                          "colorbar": {
                            "outlinewidth": 0,
                            "ticks": ""
                          }
                        },
                        "type": "scatterternary"
                      }
                    ],
                    "surface": [
                      {
                        "colorbar": {
                          "outlinewidth": 0,
                          "ticks": ""
                        },
                        "colorscale": [
                          [
                            0,
                            "#0d0887"
                          ],
                          [
                            0.1111111111111111,
                            "#46039f"
                          ],
                          [
                            0.2222222222222222,
                            "#7201a8"
                          ],
                          [
                            0.3333333333333333,
                            "#9c179e"
                          ],
                          [
                            0.4444444444444444,
                            "#bd3786"
                          ],
                          [
                            0.5555555555555556,
                            "#d8576b"
                          ],
                          [
                            0.6666666666666666,
                            "#ed7953"
                          ],
                          [
                            0.7777777777777778,
                            "#fb9f3a"
                          ],
                          [
                            0.8888888888888888,
                            "#fdca26"
                          ],
                          [
                            1,
                            "#f0f921"
                          ]
                        ],
                        "type": "surface"
                      }
                    ],
                    "table": [
                      {
                        "cells": {
                          "fill": {
                            "color": "#EBF0F8"
                          },
                          "line": {
                            "color": "white"
                          }
                        },
                        "header": {
                          "fill": {
                            "color": "#C8D4E3"
                          },
                          "line": {
                            "color": "white"
                          }
                        },
                        "type": "table"
                      }
                    ]
                  },
                  "layout": {
                    "annotationdefaults": {
                      "arrowcolor": "#2a3f5f",
                      "arrowhead": 0,
                      "arrowwidth": 1
                    },
                    "autotypenumbers": "strict",
                    "coloraxis": {
                      "colorbar": {
                        "outlinewidth": 0,
                        "ticks": ""
                      }
                    },
                    "colorscale": {
                      "diverging": [
                        [
                          0,
                          "#8e0152"
                        ],
                        [
                          0.1,
                          "#c51b7d"
                        ],
                        [
                          0.2,
                          "#de77ae"
                        ],
                        [
                          0.3,
                          "#f1b6da"
                        ],
                        [
                          0.4,
                          "#fde0ef"
                        ],
                        [
                          0.5,
                          "#f7f7f7"
                        ],
                        [
                          0.6,
                          "#e6f5d0"
                        ],
                        [
                          0.7,
                          "#b8e186"
                        ],
                        [
                          0.8,
                          "#7fbc41"
                        ],
                        [
                          0.9,
                          "#4d9221"
                        ],
                        [
                          1,
                          "#276419"
                        ]
                      ],
                      "sequential": [
                        [
                          0,
                          "#0d0887"
                        ],
                        [
                          0.1111111111111111,
                          "#46039f"
                        ],
                        [
                          0.2222222222222222,
                          "#7201a8"
                        ],
                        [
                          0.3333333333333333,
                          "#9c179e"
                        ],
                        [
                          0.4444444444444444,
                          "#bd3786"
                        ],
                        [
                          0.5555555555555556,
                          "#d8576b"
                        ],
                        [
                          0.6666666666666666,
                          "#ed7953"
                        ],
                        [
                          0.7777777777777778,
                          "#fb9f3a"
                        ],
                        [
                          0.8888888888888888,
                          "#fdca26"
                        ],
                        [
                          1,
                          "#f0f921"
                        ]
                      ],
                      "sequentialminus": [
                        [
                          0,
                          "#0d0887"
                        ],
                        [
                          0.1111111111111111,
                          "#46039f"
                        ],
                        [
                          0.2222222222222222,
                          "#7201a8"
                        ],
                        [
                          0.3333333333333333,
                          "#9c179e"
                        ],
                        [
                          0.4444444444444444,
                          "#bd3786"
                        ],
                        [
                          0.5555555555555556,
                          "#d8576b"
                        ],
                        [
                          0.6666666666666666,
                          "#ed7953"
                        ],
                        [
                          0.7777777777777778,
                          "#fb9f3a"
                        ],
                        [
                          0.8888888888888888,
                          "#fdca26"
                        ],
                        [
                          1,
                          "#f0f921"
                        ]
                      ]
                    },
                    "colorway": [
                      "#636efa",
                      "#EF553B",
                      "#00cc96",
                      "#ab63fa",
                      "#FFA15A",
                      "#19d3f3",
                      "#FF6692",
                      "#B6E880",
                      "#FF97FF",
                      "#FECB52"
                    ],
                    "font": {
                      "color": "#2a3f5f"
                    },
                    "geo": {
                      "bgcolor": "white",
                      "lakecolor": "white",
                      "landcolor": "#E5ECF6",
                      "showlakes": true,
                      "showland": true,
                      "subunitcolor": "white"
                    },
                    "hoverlabel": {
                      "align": "left"
                    },
                    "hovermode": "closest",
                    "mapbox": {
                      "style": "light"
                    },
                    "paper_bgcolor": "white",
                    "plot_bgcolor": "#E5ECF6",
                    "polar": {
                      "angularaxis": {
                        "gridcolor": "white",
                        "linecolor": "white",
                        "ticks": ""
                      },
                      "bgcolor": "#E5ECF6",
                      "radialaxis": {
                        "gridcolor": "white",
                        "linecolor": "white",
                        "ticks": ""
                      }
                    },
                    "scene": {
                      "xaxis": {
                        "backgroundcolor": "#E5ECF6",
                        "gridcolor": "white",
                        "gridwidth": 2,
                        "linecolor": "white",
                        "showbackground": true,
                        "ticks": "",
                        "zerolinecolor": "white"
                      },
                      "yaxis": {
                        "backgroundcolor": "#E5ECF6",
                        "gridcolor": "white",
                        "gridwidth": 2,
                        "linecolor": "white",
                        "showbackground": true,
                        "ticks": "",
                        "zerolinecolor": "white"
                      },
                      "zaxis": {
                        "backgroundcolor": "#E5ECF6",
                        "gridcolor": "white",
                        "gridwidth": 2,
                        "linecolor": "white",
                        "showbackground": true,
                        "ticks": "",
                        "zerolinecolor": "white"
                      }
                    },
                    "shapedefaults": {
                      "line": {
                        "color": "#2a3f5f"
                      }
                    },
                    "ternary": {
                      "aaxis": {
                        "gridcolor": "white",
                        "linecolor": "white",
                        "ticks": ""
                      },
                      "baxis": {
                        "gridcolor": "white",
                        "linecolor": "white",
                        "ticks": ""
                      },
                      "bgcolor": "#E5ECF6",
                      "caxis": {
                        "gridcolor": "white",
                        "linecolor": "white",
                        "ticks": ""
                      }
                    },
                    "title": {
                      "x": 0.05
                    },
                    "xaxis": {
                      "automargin": true,
                      "gridcolor": "white",
                      "linecolor": "white",
                      "ticks": "",
                      "title": {
                        "standoff": 15
                      },
                      "zerolinecolor": "white",
                      "zerolinewidth": 2
                    },
                    "yaxis": {
                      "automargin": true,
                      "gridcolor": "white",
                      "linecolor": "white",
                      "ticks": "",
                      "title": {
                        "standoff": 15
                      },
                      "zerolinecolor": "white",
                      "zerolinewidth": 2
                    }
                  }
                },
                "title": {
                  "text": "Direct effect on logit diff (patch from head output -> final resid)"
                },
                "width": 600,
                "xaxis": {
                  "anchor": "y",
                  "constrain": "domain",
                  "domain": [
                    0,
                    1
                  ],
                  "linecolor": "black",
                  "linewidth": 1,
                  "mirror": true,
                  "scaleanchor": "y",
                  "showline": true,
                  "title": {
                    "text": "Head"
                  }
                },
                "yaxis": {
                  "anchor": "x",
                  "autorange": "reversed",
                  "constrain": "domain",
                  "domain": [
                    0,
                    1
                  ],
                  "linecolor": "black",
                  "linewidth": 1,
                  "mirror": true,
                  "showline": true,
                  "title": {
                    "text": "Layer"
                  }
                }
              }
            }
          },
          "metadata": {},
          "output_type": "display_data"
        }
      ],
      "source": [
        "imshow_p(\n",
        "    results['z'],\n",
        "    title=\"Direct effect on logit diff (patch from head output -> final resid)\",\n",
        "    labels={\"x\": \"Head\", \"y\": \"Layer\", \"color\": \"Logit diff variation\"},\n",
        "    border=True,\n",
        "    width=600,\n",
        "    margin={\"r\": 100, \"l\": 100}\n",
        ")"
      ]
    },
    {
      "cell_type": "code",
      "execution_count": 33,
      "metadata": {},
      "outputs": [],
      "source": [
        "from visualization_utils import (\n",
        "    plot_attention_heads,\n",
        "    scatter_attention_and_contribution\n",
        ")\n",
        "\n",
        "import circuitsvis as cv"
      ]
    },
    {
      "cell_type": "code",
      "execution_count": 34,
      "metadata": {},
      "outputs": [
        {
          "name": "stdout",
          "output_type": "stream",
          "text": [
            "Total logit diff contribution above threshold: 0.96\n"
          ]
        },
        {
          "data": {
            "application/vnd.plotly.v1+json": {
              "config": {
                "plotlyServerURL": "https://plot.ly"
              },
              "data": [
                {
                  "alignmentgroup": "True",
                  "hovertemplate": "Logit Diff=%{x}<br>Attention Head=%{y}<extra></extra>",
                  "legendgroup": "",
                  "marker": {
                    "color": "#636efa",
                    "pattern": {
                      "shape": ""
                    }
                  },
                  "name": "",
                  "offsetgroup": "",
                  "orientation": "h",
                  "showlegend": false,
                  "textposition": "auto",
                  "type": "bar",
                  "x": [
                    0.02391621842980385,
                    0.025360550731420517,
                    0.02921987697482109,
                    0.03128356859087944,
                    0.03133055567741394,
                    0.03212631121277809,
                    0.038377415388822556,
                    0.03878273814916611,
                    0.03988470509648323,
                    0.050925638526678085,
                    0.0716228187084198,
                    0.07196377217769623,
                    0.0807923749089241,
                    0.09672460705041885,
                    0.2978610694408417
                  ],
                  "xaxis": "x",
                  "y": [
                    "Layer 11, Head 11",
                    "Layer 10, Head 11",
                    "Layer 9, Head 10",
                    "Layer 8, Head 2",
                    "Layer 9, Head 6",
                    "Layer 11, Head 9",
                    "Layer 10, Head 0",
                    "Layer 9, Head 3",
                    "Layer 7, Head 5",
                    "Layer 6, Head 4",
                    "Layer 7, Head 1",
                    "Layer 8, Head 5",
                    "Layer 10, Head 1",
                    "Layer 9, Head 2",
                    "Layer 10, Head 4"
                  ],
                  "yaxis": "y"
                }
              ],
              "layout": {
                "barmode": "relative",
                "legend": {
                  "tracegroupgap": 0
                },
                "margin": {
                  "t": 60
                },
                "template": {
                  "data": {
                    "bar": [
                      {
                        "error_x": {
                          "color": "#2a3f5f"
                        },
                        "error_y": {
                          "color": "#2a3f5f"
                        },
                        "marker": {
                          "line": {
                            "color": "#E5ECF6",
                            "width": 0.5
                          },
                          "pattern": {
                            "fillmode": "overlay",
                            "size": 10,
                            "solidity": 0.2
                          }
                        },
                        "type": "bar"
                      }
                    ],
                    "barpolar": [
                      {
                        "marker": {
                          "line": {
                            "color": "#E5ECF6",
                            "width": 0.5
                          },
                          "pattern": {
                            "fillmode": "overlay",
                            "size": 10,
                            "solidity": 0.2
                          }
                        },
                        "type": "barpolar"
                      }
                    ],
                    "carpet": [
                      {
                        "aaxis": {
                          "endlinecolor": "#2a3f5f",
                          "gridcolor": "white",
                          "linecolor": "white",
                          "minorgridcolor": "white",
                          "startlinecolor": "#2a3f5f"
                        },
                        "baxis": {
                          "endlinecolor": "#2a3f5f",
                          "gridcolor": "white",
                          "linecolor": "white",
                          "minorgridcolor": "white",
                          "startlinecolor": "#2a3f5f"
                        },
                        "type": "carpet"
                      }
                    ],
                    "choropleth": [
                      {
                        "colorbar": {
                          "outlinewidth": 0,
                          "ticks": ""
                        },
                        "type": "choropleth"
                      }
                    ],
                    "contour": [
                      {
                        "colorbar": {
                          "outlinewidth": 0,
                          "ticks": ""
                        },
                        "colorscale": [
                          [
                            0,
                            "#0d0887"
                          ],
                          [
                            0.1111111111111111,
                            "#46039f"
                          ],
                          [
                            0.2222222222222222,
                            "#7201a8"
                          ],
                          [
                            0.3333333333333333,
                            "#9c179e"
                          ],
                          [
                            0.4444444444444444,
                            "#bd3786"
                          ],
                          [
                            0.5555555555555556,
                            "#d8576b"
                          ],
                          [
                            0.6666666666666666,
                            "#ed7953"
                          ],
                          [
                            0.7777777777777778,
                            "#fb9f3a"
                          ],
                          [
                            0.8888888888888888,
                            "#fdca26"
                          ],
                          [
                            1,
                            "#f0f921"
                          ]
                        ],
                        "type": "contour"
                      }
                    ],
                    "contourcarpet": [
                      {
                        "colorbar": {
                          "outlinewidth": 0,
                          "ticks": ""
                        },
                        "type": "contourcarpet"
                      }
                    ],
                    "heatmap": [
                      {
                        "colorbar": {
                          "outlinewidth": 0,
                          "ticks": ""
                        },
                        "colorscale": [
                          [
                            0,
                            "#0d0887"
                          ],
                          [
                            0.1111111111111111,
                            "#46039f"
                          ],
                          [
                            0.2222222222222222,
                            "#7201a8"
                          ],
                          [
                            0.3333333333333333,
                            "#9c179e"
                          ],
                          [
                            0.4444444444444444,
                            "#bd3786"
                          ],
                          [
                            0.5555555555555556,
                            "#d8576b"
                          ],
                          [
                            0.6666666666666666,
                            "#ed7953"
                          ],
                          [
                            0.7777777777777778,
                            "#fb9f3a"
                          ],
                          [
                            0.8888888888888888,
                            "#fdca26"
                          ],
                          [
                            1,
                            "#f0f921"
                          ]
                        ],
                        "type": "heatmap"
                      }
                    ],
                    "heatmapgl": [
                      {
                        "colorbar": {
                          "outlinewidth": 0,
                          "ticks": ""
                        },
                        "colorscale": [
                          [
                            0,
                            "#0d0887"
                          ],
                          [
                            0.1111111111111111,
                            "#46039f"
                          ],
                          [
                            0.2222222222222222,
                            "#7201a8"
                          ],
                          [
                            0.3333333333333333,
                            "#9c179e"
                          ],
                          [
                            0.4444444444444444,
                            "#bd3786"
                          ],
                          [
                            0.5555555555555556,
                            "#d8576b"
                          ],
                          [
                            0.6666666666666666,
                            "#ed7953"
                          ],
                          [
                            0.7777777777777778,
                            "#fb9f3a"
                          ],
                          [
                            0.8888888888888888,
                            "#fdca26"
                          ],
                          [
                            1,
                            "#f0f921"
                          ]
                        ],
                        "type": "heatmapgl"
                      }
                    ],
                    "histogram": [
                      {
                        "marker": {
                          "pattern": {
                            "fillmode": "overlay",
                            "size": 10,
                            "solidity": 0.2
                          }
                        },
                        "type": "histogram"
                      }
                    ],
                    "histogram2d": [
                      {
                        "colorbar": {
                          "outlinewidth": 0,
                          "ticks": ""
                        },
                        "colorscale": [
                          [
                            0,
                            "#0d0887"
                          ],
                          [
                            0.1111111111111111,
                            "#46039f"
                          ],
                          [
                            0.2222222222222222,
                            "#7201a8"
                          ],
                          [
                            0.3333333333333333,
                            "#9c179e"
                          ],
                          [
                            0.4444444444444444,
                            "#bd3786"
                          ],
                          [
                            0.5555555555555556,
                            "#d8576b"
                          ],
                          [
                            0.6666666666666666,
                            "#ed7953"
                          ],
                          [
                            0.7777777777777778,
                            "#fb9f3a"
                          ],
                          [
                            0.8888888888888888,
                            "#fdca26"
                          ],
                          [
                            1,
                            "#f0f921"
                          ]
                        ],
                        "type": "histogram2d"
                      }
                    ],
                    "histogram2dcontour": [
                      {
                        "colorbar": {
                          "outlinewidth": 0,
                          "ticks": ""
                        },
                        "colorscale": [
                          [
                            0,
                            "#0d0887"
                          ],
                          [
                            0.1111111111111111,
                            "#46039f"
                          ],
                          [
                            0.2222222222222222,
                            "#7201a8"
                          ],
                          [
                            0.3333333333333333,
                            "#9c179e"
                          ],
                          [
                            0.4444444444444444,
                            "#bd3786"
                          ],
                          [
                            0.5555555555555556,
                            "#d8576b"
                          ],
                          [
                            0.6666666666666666,
                            "#ed7953"
                          ],
                          [
                            0.7777777777777778,
                            "#fb9f3a"
                          ],
                          [
                            0.8888888888888888,
                            "#fdca26"
                          ],
                          [
                            1,
                            "#f0f921"
                          ]
                        ],
                        "type": "histogram2dcontour"
                      }
                    ],
                    "mesh3d": [
                      {
                        "colorbar": {
                          "outlinewidth": 0,
                          "ticks": ""
                        },
                        "type": "mesh3d"
                      }
                    ],
                    "parcoords": [
                      {
                        "line": {
                          "colorbar": {
                            "outlinewidth": 0,
                            "ticks": ""
                          }
                        },
                        "type": "parcoords"
                      }
                    ],
                    "pie": [
                      {
                        "automargin": true,
                        "type": "pie"
                      }
                    ],
                    "scatter": [
                      {
                        "fillpattern": {
                          "fillmode": "overlay",
                          "size": 10,
                          "solidity": 0.2
                        },
                        "type": "scatter"
                      }
                    ],
                    "scatter3d": [
                      {
                        "line": {
                          "colorbar": {
                            "outlinewidth": 0,
                            "ticks": ""
                          }
                        },
                        "marker": {
                          "colorbar": {
                            "outlinewidth": 0,
                            "ticks": ""
                          }
                        },
                        "type": "scatter3d"
                      }
                    ],
                    "scattercarpet": [
                      {
                        "marker": {
                          "colorbar": {
                            "outlinewidth": 0,
                            "ticks": ""
                          }
                        },
                        "type": "scattercarpet"
                      }
                    ],
                    "scattergeo": [
                      {
                        "marker": {
                          "colorbar": {
                            "outlinewidth": 0,
                            "ticks": ""
                          }
                        },
                        "type": "scattergeo"
                      }
                    ],
                    "scattergl": [
                      {
                        "marker": {
                          "colorbar": {
                            "outlinewidth": 0,
                            "ticks": ""
                          }
                        },
                        "type": "scattergl"
                      }
                    ],
                    "scattermapbox": [
                      {
                        "marker": {
                          "colorbar": {
                            "outlinewidth": 0,
                            "ticks": ""
                          }
                        },
                        "type": "scattermapbox"
                      }
                    ],
                    "scatterpolar": [
                      {
                        "marker": {
                          "colorbar": {
                            "outlinewidth": 0,
                            "ticks": ""
                          }
                        },
                        "type": "scatterpolar"
                      }
                    ],
                    "scatterpolargl": [
                      {
                        "marker": {
                          "colorbar": {
                            "outlinewidth": 0,
                            "ticks": ""
                          }
                        },
                        "type": "scatterpolargl"
                      }
                    ],
                    "scatterternary": [
                      {
                        "marker": {
                          "colorbar": {
                            "outlinewidth": 0,
                            "ticks": ""
                          }
                        },
                        "type": "scatterternary"
                      }
                    ],
                    "surface": [
                      {
                        "colorbar": {
                          "outlinewidth": 0,
                          "ticks": ""
                        },
                        "colorscale": [
                          [
                            0,
                            "#0d0887"
                          ],
                          [
                            0.1111111111111111,
                            "#46039f"
                          ],
                          [
                            0.2222222222222222,
                            "#7201a8"
                          ],
                          [
                            0.3333333333333333,
                            "#9c179e"
                          ],
                          [
                            0.4444444444444444,
                            "#bd3786"
                          ],
                          [
                            0.5555555555555556,
                            "#d8576b"
                          ],
                          [
                            0.6666666666666666,
                            "#ed7953"
                          ],
                          [
                            0.7777777777777778,
                            "#fb9f3a"
                          ],
                          [
                            0.8888888888888888,
                            "#fdca26"
                          ],
                          [
                            1,
                            "#f0f921"
                          ]
                        ],
                        "type": "surface"
                      }
                    ],
                    "table": [
                      {
                        "cells": {
                          "fill": {
                            "color": "#EBF0F8"
                          },
                          "line": {
                            "color": "white"
                          }
                        },
                        "header": {
                          "fill": {
                            "color": "#C8D4E3"
                          },
                          "line": {
                            "color": "white"
                          }
                        },
                        "type": "table"
                      }
                    ]
                  },
                  "layout": {
                    "annotationdefaults": {
                      "arrowcolor": "#2a3f5f",
                      "arrowhead": 0,
                      "arrowwidth": 1
                    },
                    "autotypenumbers": "strict",
                    "coloraxis": {
                      "colorbar": {
                        "outlinewidth": 0,
                        "ticks": ""
                      }
                    },
                    "colorscale": {
                      "diverging": [
                        [
                          0,
                          "#8e0152"
                        ],
                        [
                          0.1,
                          "#c51b7d"
                        ],
                        [
                          0.2,
                          "#de77ae"
                        ],
                        [
                          0.3,
                          "#f1b6da"
                        ],
                        [
                          0.4,
                          "#fde0ef"
                        ],
                        [
                          0.5,
                          "#f7f7f7"
                        ],
                        [
                          0.6,
                          "#e6f5d0"
                        ],
                        [
                          0.7,
                          "#b8e186"
                        ],
                        [
                          0.8,
                          "#7fbc41"
                        ],
                        [
                          0.9,
                          "#4d9221"
                        ],
                        [
                          1,
                          "#276419"
                        ]
                      ],
                      "sequential": [
                        [
                          0,
                          "#0d0887"
                        ],
                        [
                          0.1111111111111111,
                          "#46039f"
                        ],
                        [
                          0.2222222222222222,
                          "#7201a8"
                        ],
                        [
                          0.3333333333333333,
                          "#9c179e"
                        ],
                        [
                          0.4444444444444444,
                          "#bd3786"
                        ],
                        [
                          0.5555555555555556,
                          "#d8576b"
                        ],
                        [
                          0.6666666666666666,
                          "#ed7953"
                        ],
                        [
                          0.7777777777777778,
                          "#fb9f3a"
                        ],
                        [
                          0.8888888888888888,
                          "#fdca26"
                        ],
                        [
                          1,
                          "#f0f921"
                        ]
                      ],
                      "sequentialminus": [
                        [
                          0,
                          "#0d0887"
                        ],
                        [
                          0.1111111111111111,
                          "#46039f"
                        ],
                        [
                          0.2222222222222222,
                          "#7201a8"
                        ],
                        [
                          0.3333333333333333,
                          "#9c179e"
                        ],
                        [
                          0.4444444444444444,
                          "#bd3786"
                        ],
                        [
                          0.5555555555555556,
                          "#d8576b"
                        ],
                        [
                          0.6666666666666666,
                          "#ed7953"
                        ],
                        [
                          0.7777777777777778,
                          "#fb9f3a"
                        ],
                        [
                          0.8888888888888888,
                          "#fdca26"
                        ],
                        [
                          1,
                          "#f0f921"
                        ]
                      ]
                    },
                    "colorway": [
                      "#636efa",
                      "#EF553B",
                      "#00cc96",
                      "#ab63fa",
                      "#FFA15A",
                      "#19d3f3",
                      "#FF6692",
                      "#B6E880",
                      "#FF97FF",
                      "#FECB52"
                    ],
                    "font": {
                      "color": "#2a3f5f"
                    },
                    "geo": {
                      "bgcolor": "white",
                      "lakecolor": "white",
                      "landcolor": "#E5ECF6",
                      "showlakes": true,
                      "showland": true,
                      "subunitcolor": "white"
                    },
                    "hoverlabel": {
                      "align": "left"
                    },
                    "hovermode": "closest",
                    "mapbox": {
                      "style": "light"
                    },
                    "paper_bgcolor": "white",
                    "plot_bgcolor": "#E5ECF6",
                    "polar": {
                      "angularaxis": {
                        "gridcolor": "white",
                        "linecolor": "white",
                        "ticks": ""
                      },
                      "bgcolor": "#E5ECF6",
                      "radialaxis": {
                        "gridcolor": "white",
                        "linecolor": "white",
                        "ticks": ""
                      }
                    },
                    "scene": {
                      "xaxis": {
                        "backgroundcolor": "#E5ECF6",
                        "gridcolor": "white",
                        "gridwidth": 2,
                        "linecolor": "white",
                        "showbackground": true,
                        "ticks": "",
                        "zerolinecolor": "white"
                      },
                      "yaxis": {
                        "backgroundcolor": "#E5ECF6",
                        "gridcolor": "white",
                        "gridwidth": 2,
                        "linecolor": "white",
                        "showbackground": true,
                        "ticks": "",
                        "zerolinecolor": "white"
                      },
                      "zaxis": {
                        "backgroundcolor": "#E5ECF6",
                        "gridcolor": "white",
                        "gridwidth": 2,
                        "linecolor": "white",
                        "showbackground": true,
                        "ticks": "",
                        "zerolinecolor": "white"
                      }
                    },
                    "shapedefaults": {
                      "line": {
                        "color": "#2a3f5f"
                      }
                    },
                    "ternary": {
                      "aaxis": {
                        "gridcolor": "white",
                        "linecolor": "white",
                        "ticks": ""
                      },
                      "baxis": {
                        "gridcolor": "white",
                        "linecolor": "white",
                        "ticks": ""
                      },
                      "bgcolor": "#E5ECF6",
                      "caxis": {
                        "gridcolor": "white",
                        "linecolor": "white",
                        "ticks": ""
                      }
                    },
                    "title": {
                      "x": 0.05
                    },
                    "xaxis": {
                      "automargin": true,
                      "gridcolor": "white",
                      "linecolor": "white",
                      "ticks": "",
                      "title": {
                        "standoff": 15
                      },
                      "zerolinecolor": "white",
                      "zerolinewidth": 2
                    },
                    "yaxis": {
                      "automargin": true,
                      "gridcolor": "white",
                      "linecolor": "white",
                      "ticks": "",
                      "title": {
                        "standoff": 15
                      },
                      "zerolinecolor": "white",
                      "zerolinewidth": 2
                    }
                  }
                },
                "xaxis": {
                  "anchor": "y",
                  "domain": [
                    0,
                    1
                  ],
                  "range": [
                    0,
                    0.5
                  ],
                  "title": {
                    "text": "Logit Diff"
                  }
                },
                "yaxis": {
                  "anchor": "x",
                  "domain": [
                    0,
                    1
                  ],
                  "title": {
                    "text": "Attention Head"
                  }
                }
              }
            }
          },
          "metadata": {},
          "output_type": "display_data"
        }
      ],
      "source": [
        "plot_attention_heads(-results['z'].cuda(), top_n=15, range_x=[0, 0.5])"
      ]
    },
    {
      "cell_type": "code",
      "execution_count": 35,
      "metadata": {},
      "outputs": [
        {
          "data": {
            "text/html": [
              "<div id=\"circuits-vis-8d13bbab-a9c8\" style=\"margin: 15px 0;\"/>\n",
              "    <script crossorigin type=\"module\">\n",
              "    import { render, AttentionHeads } from \"https://unpkg.com/circuitsvis@1.39.1/dist/cdn/esm.js\";\n",
              "    render(\n",
              "      \"circuits-vis-8d13bbab-a9c8\",\n",
              "      AttentionHeads,\n",
              "      {\"attention\": [[[1.0, 0.0, 0.0, 0.0, 0.0, 0.0, 0.0, 0.0, 0.0, 0.0, 0.0, 0.0, 0.0, 0.0, 0.0, 0.0, 0.0, 0.0, 0.0, 0.0, 0.0, 0.0, 0.0, 0.0, 0.0, 0.0], [0.9545679092407227, 0.04543216526508331, 0.0, 0.0, 0.0, 0.0, 0.0, 0.0, 0.0, 0.0, 0.0, 0.0, 0.0, 0.0, 0.0, 0.0, 0.0, 0.0, 0.0, 0.0, 0.0, 0.0, 0.0, 0.0, 0.0, 0.0], [0.949978232383728, 0.04338586702942848, 0.006635934114456177, 0.0, 0.0, 0.0, 0.0, 0.0, 0.0, 0.0, 0.0, 0.0, 0.0, 0.0, 0.0, 0.0, 0.0, 0.0, 0.0, 0.0, 0.0, 0.0, 0.0, 0.0, 0.0, 0.0], [0.8272727131843567, 0.0620134174823761, 0.04478607699275017, 0.06592783331871033, 0.0, 0.0, 0.0, 0.0, 0.0, 0.0, 0.0, 0.0, 0.0, 0.0, 0.0, 0.0, 0.0, 0.0, 0.0, 0.0, 0.0, 0.0, 0.0, 0.0, 0.0, 0.0], [0.798288106918335, 0.025558803230524063, 0.061411187052726746, 0.030133793130517006, 0.08460813760757446, 0.0, 0.0, 0.0, 0.0, 0.0, 0.0, 0.0, 0.0, 0.0, 0.0, 0.0, 0.0, 0.0, 0.0, 0.0, 0.0, 0.0, 0.0, 0.0, 0.0, 0.0], [0.5502420663833618, 0.03089275024831295, 0.08229267597198486, 0.06049206480383873, 0.13245351612567902, 0.14362692832946777, 0.0, 0.0, 0.0, 0.0, 0.0, 0.0, 0.0, 0.0, 0.0, 0.0, 0.0, 0.0, 0.0, 0.0, 0.0, 0.0, 0.0, 0.0, 0.0, 0.0], [0.913528323173523, 0.025905562564730644, 0.0083731384947896, 0.008888127282261848, 0.021424708887934685, 0.013878513127565384, 0.008001542650163174, 0.0, 0.0, 0.0, 0.0, 0.0, 0.0, 0.0, 0.0, 0.0, 0.0, 0.0, 0.0, 0.0, 0.0, 0.0, 0.0, 0.0, 0.0, 0.0], [0.719050407409668, 0.0123323705047369, 0.006909650284796953, 0.01183524914085865, 0.04150822013616562, 0.004725835286080837, 0.035232335329055786, 0.16840597987174988, 0.0, 0.0, 0.0, 0.0, 0.0, 0.0, 0.0, 0.0, 0.0, 0.0, 0.0, 0.0, 0.0, 0.0, 0.0, 0.0, 0.0, 0.0], [0.7008417844772339, 0.010314865037798882, 0.06539354473352432, 0.0158520694822073, 0.027123475447297096, 0.01944735087454319, 0.119557686150074, 0.022051071748137474, 0.019418150186538696, 0.0, 0.0, 0.0, 0.0, 0.0, 0.0, 0.0, 0.0, 0.0, 0.0, 0.0, 0.0, 0.0, 0.0, 0.0, 0.0, 0.0], [0.8385407328605652, 0.011897103860974312, 0.0015515763079747558, 0.0032984772697091103, 0.06983771920204163, 0.009381838142871857, 0.01858988031744957, 0.026111267507076263, 0.010733438655734062, 0.010058023035526276, 0.0, 0.0, 0.0, 0.0, 0.0, 0.0, 0.0, 0.0, 0.0, 0.0, 0.0, 0.0, 0.0, 0.0, 0.0, 0.0], [0.6613557934761047, 0.0143674211576581, 0.006485120393335819, 0.0040391371585428715, 0.005658791400492191, 0.004292115103453398, 0.01019013300538063, 0.2608068287372589, 0.016949115321040154, 0.008200735785067081, 0.007654763292521238, 0.0, 0.0, 0.0, 0.0, 0.0, 0.0, 0.0, 0.0, 0.0, 0.0, 0.0, 0.0, 0.0, 0.0, 0.0], [0.6465429663658142, 0.013985893689095974, 0.012997114099562168, 0.007372201886028051, 0.026514621451497078, 0.010878272354602814, 0.06452576816082001, 0.0350935123860836, 0.02987990900874138, 0.07422344386577606, 0.05509393662214279, 0.022892368957400322, 0.0, 0.0, 0.0, 0.0, 0.0, 0.0, 0.0, 0.0, 0.0, 0.0, 0.0, 0.0, 0.0, 0.0], [0.7053053379058838, 0.015573859214782715, 0.015262853354215622, 0.011468018405139446, 0.026579290628433228, 0.009739999659359455, 0.019182860851287842, 0.07886895537376404, 0.014208033680915833, 0.025318488478660583, 0.022003700956702232, 0.047577038407325745, 0.008911597542464733, 0.0, 0.0, 0.0, 0.0, 0.0, 0.0, 0.0, 0.0, 0.0, 0.0, 0.0, 0.0, 0.0], [0.6570072174072266, 0.023660046979784966, 0.006402272265404463, 0.005803641397505999, 0.05685340613126755, 0.014815921895205975, 0.037013355642557144, 0.06217338517308235, 0.02292604185640812, 0.014771650545299053, 0.028552940115332603, 0.023302681744098663, 0.006084789987653494, 0.04063255712389946, 0.0, 0.0, 0.0, 0.0, 0.0, 0.0, 0.0, 0.0, 0.0, 0.0, 0.0, 0.0], [0.6026179194450378, 0.003970740363001823, 0.003156619844958186, 0.003759654238820076, 0.19197502732276917, 0.015072446316480637, 0.03687404841184616, 0.009221868589520454, 0.005497334059327841, 0.02195265144109726, 0.010414288379251957, 0.004612550605088472, 0.0020225057378411293, 0.01877085119485855, 0.07008158415555954, 0.0, 0.0, 0.0, 0.0, 0.0, 0.0, 0.0, 0.0, 0.0, 0.0, 0.0], [0.43443652987480164, 0.00687846913933754, 0.04361747205257416, 0.008643402718007565, 0.027555547654628754, 0.028285909444093704, 0.09405691176652908, 0.051953867077827454, 0.010286497883498669, 0.038751270622015, 0.01866956800222397, 0.017293546348810196, 0.00495595159009099, 0.09936847537755966, 0.049810055643320084, 0.06543657928705215, 0.0, 0.0, 0.0, 0.0, 0.0, 0.0, 0.0, 0.0, 0.0, 0.0], [0.3199779689311981, 0.010936281643807888, 0.03111700527369976, 0.009912537410855293, 0.024394044652581215, 0.03102954663336277, 0.16894789040088654, 0.054624177515506744, 0.032304372638463974, 0.046757593750953674, 0.02014714851975441, 0.03559006005525589, 0.012540680356323719, 0.09011805057525635, 0.03375604748725891, 0.036048129200935364, 0.04179847240447998, 0.0, 0.0, 0.0, 0.0, 0.0, 0.0, 0.0, 0.0, 0.0], [0.48840567469596863, 0.011055422015488148, 0.0032505025155842304, 0.0022745192982256413, 0.004498674534261227, 0.0036369271110743284, 0.0014446760760620236, 0.40269577503204346, 0.005267884116619825, 0.0016586908604949713, 0.0009913378162309527, 0.03250791132450104, 0.0050872997380793095, 0.0162640493363142, 0.003586105303838849, 0.004812185186892748, 0.007334194611757994, 0.005228205118328333, 0.0, 0.0, 0.0, 0.0, 0.0, 0.0, 0.0, 0.0], [0.6509026885032654, 0.005637021269649267, 0.007293578702956438, 0.007518010213971138, 0.016187120229005814, 0.0019207076402381063, 0.012436765246093273, 0.15818803012371063, 0.00208945176564157, 0.008589580655097961, 0.0052525135688483715, 0.013998584821820259, 0.00617271289229393, 0.0089603615924716, 0.0031111727003008127, 0.005348471459001303, 0.0010664144065231085, 0.014103571884334087, 0.0712231993675232, 0.0, 0.0, 0.0, 0.0, 0.0, 0.0, 0.0], [0.8464966416358948, 0.008754023350775242, 0.0075644683092832565, 0.004141516983509064, 0.0047226171009242535, 0.0018534741830080748, 0.008444533683359623, 0.03507247567176819, 0.001977858366444707, 0.002464521676301956, 0.0016638472443446517, 0.006229465827345848, 0.00350465951487422, 0.006888712290674448, 0.0026268695946782827, 0.0013877485180273652, 0.0012043891474604607, 0.008966504596173763, 0.024414069950580597, 0.02162163518369198, 0.0, 0.0, 0.0, 0.0, 0.0, 0.0], [0.7717891335487366, 0.008412683382630348, 0.0017649511573836207, 0.006883514113724232, 0.011258476413786411, 0.0008973591611720622, 0.004935979377478361, 0.057461850345134735, 0.0015057491837069392, 0.0006188932457007468, 0.0017419751966372132, 0.0065893917344510555, 0.0011364268139004707, 0.002019601408392191, 0.0007901081116870046, 0.0015492066740989685, 0.0003761326370295137, 0.0029509630985558033, 0.023722143843770027, 0.013523049652576447, 0.08007237315177917, 0.0, 0.0, 0.0, 0.0, 0.0], [0.5277877449989319, 0.01212532352656126, 0.004715139977633953, 0.01266127172857523, 0.00598802650347352, 0.002175306435674429, 0.013328948058187962, 0.06696400791406631, 0.0012628217227756977, 0.0010498578194528818, 0.0018829695181921124, 0.0031510863918811083, 0.0010055124294012785, 0.002787266857922077, 0.0014827449340373278, 0.0006274727056734264, 0.00041520249214954674, 0.005379000212997198, 0.05518972501158714, 0.034181226044893265, 0.1461930274963379, 0.09964630007743835, 0.0, 0.0, 0.0, 0.0], [0.47473981976509094, 0.008198380470275879, 0.002798161469399929, 0.006488100625574589, 0.012399221770465374, 0.0042997002601623535, 0.06592919677495956, 0.05480708181858063, 0.0024685270618647337, 0.004264640621840954, 0.006290909368544817, 0.008475711569190025, 0.0013197199441492558, 0.0034382378216832876, 0.0017097453819587827, 0.0029946474824100733, 0.0012088483199477196, 0.05732569843530655, 0.026995468884706497, 0.01873806118965149, 0.08466270565986633, 0.05897468701004982, 0.09147269278764725, 0.0, 0.0, 0.0], [0.48349758982658386, 0.005896242335438728, 0.02210792526602745, 0.008515159599483013, 0.0739455595612526, 0.010877950116991997, 0.08918538689613342, 0.021523747593164444, 0.0033247116953134537, 0.02185695245862007, 0.01451228279620409, 0.00461579067632556, 0.0011962532298639417, 0.0047479066997766495, 0.0040089222602546215, 0.04296253249049187, 0.003239366225898266, 0.08436013013124466, 0.011844612658023834, 0.007422981783747673, 0.020084097981452942, 0.019300391897559166, 0.018128877505660057, 0.022844668477773666, 0.0, 0.0], [0.294747531414032, 0.004709185566753149, 0.03480063006281853, 0.009416450746357441, 0.021460479125380516, 0.03031919337809086, 0.13486890494823456, 0.01876509189605713, 0.007279044017195702, 0.04902135580778122, 0.02460174262523651, 0.006914395373314619, 0.0022146906703710556, 0.014559507369995117, 0.00910311657935381, 0.021177364513278008, 0.009467124938964844, 0.1338731050491333, 0.011454555206000805, 0.002292583929374814, 0.011339093558490276, 0.05588310584425926, 0.026180146262049675, 0.03522650897502899, 0.030325062572956085, 0.0], [0.176022469997406, 0.004188087768852711, 0.01823347434401512, 0.008068980649113655, 0.018375122919678688, 0.026218531653285027, 0.2567764222621918, 0.01711871102452278, 0.01083664782345295, 0.0756496861577034, 0.030367132276296616, 0.00715882983058691, 0.004084038082510233, 0.008663631975650787, 0.00446116691455245, 0.0065422398038208485, 0.003215118544176221, 0.16202470660209656, 0.00663306238129735, 0.0016926171956583858, 0.00552961602807045, 0.018652938306331635, 0.0119745172560215, 0.03714606910943985, 0.024823477491736412, 0.05554266646504402]], [[1.0, 0.0, 0.0, 0.0, 0.0, 0.0, 0.0, 0.0, 0.0, 0.0, 0.0, 0.0, 0.0, 0.0, 0.0, 0.0, 0.0, 0.0, 0.0, 0.0, 0.0, 0.0, 0.0, 0.0, 0.0, 0.0], [0.9410985708236694, 0.05890141800045967, 0.0, 0.0, 0.0, 0.0, 0.0, 0.0, 0.0, 0.0, 0.0, 0.0, 0.0, 0.0, 0.0, 0.0, 0.0, 0.0, 0.0, 0.0, 0.0, 0.0, 0.0, 0.0, 0.0, 0.0], [0.9425778985023499, 0.05687396228313446, 0.0005481482367031276, 0.0, 0.0, 0.0, 0.0, 0.0, 0.0, 0.0, 0.0, 0.0, 0.0, 0.0, 0.0, 0.0, 0.0, 0.0, 0.0, 0.0, 0.0, 0.0, 0.0, 0.0, 0.0, 0.0], [0.8860301971435547, 0.09114611148834229, 0.002263875911012292, 0.020559774711728096, 0.0, 0.0, 0.0, 0.0, 0.0, 0.0, 0.0, 0.0, 0.0, 0.0, 0.0, 0.0, 0.0, 0.0, 0.0, 0.0, 0.0, 0.0, 0.0, 0.0, 0.0, 0.0], [0.9784236550331116, 0.006547891069203615, 0.0004391922557260841, 0.001506282133050263, 0.013083118945360184, 0.0, 0.0, 0.0, 0.0, 0.0, 0.0, 0.0, 0.0, 0.0, 0.0, 0.0, 0.0, 0.0, 0.0, 0.0, 0.0, 0.0, 0.0, 0.0, 0.0, 0.0], [0.8574913144111633, 0.01279744878411293, 0.0006927315844222903, 0.009483624249696732, 0.09960982948541641, 0.019925039261579514, 0.0, 0.0, 0.0, 0.0, 0.0, 0.0, 0.0, 0.0, 0.0, 0.0, 0.0, 0.0, 0.0, 0.0, 0.0, 0.0, 0.0, 0.0, 0.0, 0.0], [0.9056103229522705, 0.005848200060427189, 0.0004491485597100109, 0.0022432750556617975, 0.05776088312268257, 0.010071111842989922, 0.018017014488577843, 0.0, 0.0, 0.0, 0.0, 0.0, 0.0, 0.0, 0.0, 0.0, 0.0, 0.0, 0.0, 0.0, 0.0, 0.0, 0.0, 0.0, 0.0, 0.0], [0.8350910544395447, 0.012846694327890873, 0.00015514118422288448, 0.0015747703146189451, 0.07698727399110794, 0.0019066910026594996, 0.0168532095849514, 0.054585251957178116, 0.0, 0.0, 0.0, 0.0, 0.0, 0.0, 0.0, 0.0, 0.0, 0.0, 0.0, 0.0, 0.0, 0.0, 0.0, 0.0, 0.0, 0.0], [0.45916858315467834, 0.008868769742548466, 0.0029762154445052147, 0.009103224612772465, 0.22344401478767395, 0.024966849014163017, 0.06401622295379639, 0.20130962133407593, 0.006146563682705164, 0.0, 0.0, 0.0, 0.0, 0.0, 0.0, 0.0, 0.0, 0.0, 0.0, 0.0, 0.0, 0.0, 0.0, 0.0, 0.0, 0.0], [0.8155005574226379, 0.005770993884652853, 9.963108459487557e-05, 0.0011300878832116723, 0.11406119167804718, 0.001333646709099412, 0.008975931443274021, 0.04245562106370926, 0.004469236824661493, 0.006203095428645611, 0.0, 0.0, 0.0, 0.0, 0.0, 0.0, 0.0, 0.0, 0.0, 0.0, 0.0, 0.0, 0.0, 0.0, 0.0, 0.0], [0.9359310865402222, 0.0015586604131385684, 0.0001913502492243424, 0.0004899371997453272, 0.022444624453783035, 0.0010624696733430028, 0.005665226839482784, 0.022126613184809685, 0.0016588658327236772, 0.0028885684441775084, 0.005982627626508474, 0.0, 0.0, 0.0, 0.0, 0.0, 0.0, 0.0, 0.0, 0.0, 0.0, 0.0, 0.0, 0.0, 0.0, 0.0], [0.7439489364624023, 0.006184598430991173, 0.002039409475401044, 0.0036406507715582848, 0.07305721193552017, 0.008365938439965248, 0.029298707842826843, 0.05023334175348282, 0.01009154599159956, 0.025972532108426094, 0.03641613572835922, 0.010751131922006607, 0.0, 0.0, 0.0, 0.0, 0.0, 0.0, 0.0, 0.0, 0.0, 0.0, 0.0, 0.0, 0.0, 0.0], [0.49471813440322876, 0.006878844927996397, 0.003836162621155381, 0.007164325565099716, 0.06739132106304169, 0.015028148889541626, 0.13239943981170654, 0.05469794198870659, 0.009630994871258736, 0.04748452827334404, 0.09849822521209717, 0.0585719496011734, 0.0036999902222305536, 0.0, 0.0, 0.0, 0.0, 0.0, 0.0, 0.0, 0.0, 0.0, 0.0, 0.0, 0.0, 0.0], [0.8122000098228455, 0.0187206007540226, 0.00034140964271500707, 0.0023401554208248854, 0.08516528457403183, 0.005546109285205603, 0.022841807454824448, 0.014434724114835262, 0.007257069926708937, 0.004134431015700102, 0.01631092093884945, 0.005790220107883215, 0.0004360896709840745, 0.0044811018742620945, 0.0, 0.0, 0.0, 0.0, 0.0, 0.0, 0.0, 0.0, 0.0, 0.0, 0.0, 0.0], [0.7772403955459595, 0.0067268237471580505, 0.00019083975348621607, 0.0016021679621189833, 0.11987672001123428, 0.004333104472607374, 0.01224235724657774, 0.022950561717152596, 0.0031470684334635735, 0.004703867714852095, 0.014224315993487835, 0.007244199980050325, 0.000366582244168967, 0.010618542321026325, 0.014532391913235188, 0.0, 0.0, 0.0, 0.0, 0.0, 0.0, 0.0, 0.0, 0.0, 0.0, 0.0], [0.8559294939041138, 0.0020416683983057737, 0.0008832524181343615, 0.0010702164145186543, 0.006975248456001282, 0.003248881082981825, 0.007685435004532337, 0.009681900963187218, 0.00216239457949996, 0.005368553567677736, 0.0020396746695041656, 0.004891697783023119, 0.0011372171575203538, 0.016577454283833504, 0.017711292952299118, 0.06259563565254211, 0.0, 0.0, 0.0, 0.0, 0.0, 0.0, 0.0, 0.0, 0.0, 0.0], [0.6797236800193787, 0.00272583425976336, 0.0003455529804341495, 0.0017519138054922223, 0.0156842228025198, 0.0042401272803545, 0.02566499449312687, 0.00832120981067419, 0.0023334792349487543, 0.007870050147175789, 0.005577976815402508, 0.006663074716925621, 0.0007087784470058978, 0.01037385780364275, 0.0283021479845047, 0.1678617000579834, 0.03185142204165459, 0.0, 0.0, 0.0, 0.0, 0.0, 0.0, 0.0, 0.0, 0.0], [0.8947437405586243, 0.002023885026574135, 0.0002296514721820131, 0.0003958214074373245, 0.00784196238964796, 0.001276317983865738, 0.0020319826435297728, 0.004512701649218798, 0.0011901311809197068, 0.0011989224003627896, 0.0021735928021371365, 0.0021138153970241547, 0.000200817987206392, 0.006531635764986277, 0.008418937213718891, 0.03765337914228439, 0.010701635852456093, 0.016761092469096184, 0.0, 0.0, 0.0, 0.0, 0.0, 0.0, 0.0, 0.0], [0.7172194123268127, 0.020610451698303223, 0.0005231090472079813, 0.0016141058877110481, 0.03788069635629654, 0.0018024409655481577, 0.008575065061450005, 0.030438268557190895, 0.011576984077692032, 0.005260725039988756, 0.006492291111499071, 0.0039616962894797325, 0.0008103720610961318, 0.004905314184725285, 0.006424650549888611, 0.08513865619897842, 0.004486416932195425, 0.019036855548620224, 0.033242519944906235, 0.0, 0.0, 0.0, 0.0, 0.0, 0.0, 0.0], [0.86785489320755, 0.01595371775329113, 0.0010349323274567723, 0.0019337404519319534, 0.021358702331781387, 0.0025747306644916534, 0.0031299255788326263, 0.023899946361780167, 0.006644650362432003, 0.0026308600790798664, 0.003291191766038537, 0.006928591523319483, 0.001165347988717258, 0.003041037591174245, 0.0023248987272381783, 0.011614344082772732, 0.00197171070612967, 0.004925111774355173, 0.014335653744637966, 0.0033860807307064533, 0.0, 0.0, 0.0, 0.0, 0.0, 0.0], [0.8600801825523376, 0.022125301882624626, 6.273976759985089e-05, 0.0004439170006662607, 0.019056806340813637, 0.0003245632688049227, 0.002737172646448016, 0.01624075509607792, 0.005518720485270023, 0.0016509537817910314, 0.0030506784096360207, 0.002336200326681137, 0.0002096371608786285, 0.0007522578234784305, 0.0015125938225537539, 0.016766557469964027, 0.0012262763921171427, 0.004254628904163837, 0.013739795424044132, 0.00535618606954813, 0.02255415916442871, 0.0, 0.0, 0.0, 0.0, 0.0], [0.8026940822601318, 0.008707844652235508, 0.0002116061805281788, 0.0016776814591139555, 0.01397695206105709, 0.0011922905687242746, 0.007995371706783772, 0.015560073778033257, 0.0025544397067278624, 0.002361597726121545, 0.002516880165785551, 0.0016370342345908284, 0.0002465602883603424, 0.0016737167024984956, 0.0025777360424399376, 0.008098642341792583, 0.0009988320525735617, 0.010621056891977787, 0.031462524086236954, 0.003543077502399683, 0.042492303997278214, 0.03719983249902725, 0.0, 0.0, 0.0, 0.0], [0.5994828343391418, 0.020800454542040825, 0.00019983196398243308, 0.0015929152723401785, 0.06119108200073242, 0.002433288609609008, 0.027968216687440872, 0.022495489567518234, 0.005764435511082411, 0.007850922644138336, 0.013439973816275597, 0.0029305112548172474, 0.00023860721557866782, 0.0013409495586529374, 0.004004449117928743, 0.0471607968211174, 0.0026054864283651114, 0.047053832560777664, 0.027529606595635414, 0.0024636287707835436, 0.024775180965662003, 0.06261178851127625, 0.01406574621796608, 0.0, 0.0, 0.0], [0.728225588798523, 0.010054698213934898, 0.00019494049774948508, 0.0005196782876737416, 0.038330577313899994, 0.0012883668532595038, 0.006481161341071129, 0.015154916793107986, 0.005759534426033497, 0.0045966156758368015, 0.003935807850211859, 0.0014164820313453674, 0.0002430751919746399, 0.0033309352584183216, 0.0035919437650591135, 0.067372627556324, 0.0032801227644085884, 0.03288844972848892, 0.020657451823353767, 0.001132028759457171, 0.007142800837755203, 0.024892320856451988, 0.010564128868281841, 0.008945683017373085, 0.0, 0.0], [0.6659349203109741, 0.003029037266969681, 0.00012955574493389577, 0.00031600819784216583, 0.006923557259142399, 0.00108203140553087, 0.01073487102985382, 0.019710348919034004, 0.002582288347184658, 0.015601332299411297, 0.0027960899751633406, 0.0023557294625788927, 0.0005597267299890518, 0.004359480459243059, 0.005622985772788525, 0.03324305638670921, 0.0018907368648797274, 0.057311736047267914, 0.03768090158700943, 0.0008610948571003973, 0.01647881790995598, 0.057838134467601776, 0.027822131291031837, 0.010557461529970169, 0.014577941037714481, 0.0], [0.5135166645050049, 0.004909027833491564, 0.00012331904144957662, 0.000645482272375375, 0.028437437489628792, 0.0010544834658503532, 0.032593462616205215, 0.02015192247927189, 0.003411452053114772, 0.018230842426419258, 0.009805175475776196, 0.00466157915070653, 0.0004325340560171753, 0.0017618683632463217, 0.004365488421171904, 0.04434027522802353, 0.0014867322752252221, 0.10305526107549667, 0.0326213613152504, 0.0010638347594067454, 0.0130498968064785, 0.030798349529504776, 0.014905847609043121, 0.028365829959511757, 0.07579973340034485, 0.010412145406007767]], [[1.0, 0.0, 0.0, 0.0, 0.0, 0.0, 0.0, 0.0, 0.0, 0.0, 0.0, 0.0, 0.0, 0.0, 0.0, 0.0, 0.0, 0.0, 0.0, 0.0, 0.0, 0.0, 0.0, 0.0, 0.0, 0.0], [0.985950767993927, 0.014049307443201542, 0.0, 0.0, 0.0, 0.0, 0.0, 0.0, 0.0, 0.0, 0.0, 0.0, 0.0, 0.0, 0.0, 0.0, 0.0, 0.0, 0.0, 0.0, 0.0, 0.0, 0.0, 0.0, 0.0, 0.0], [0.9963570237159729, 0.0022372156381607056, 0.001405755989253521, 0.0, 0.0, 0.0, 0.0, 0.0, 0.0, 0.0, 0.0, 0.0, 0.0, 0.0, 0.0, 0.0, 0.0, 0.0, 0.0, 0.0, 0.0, 0.0, 0.0, 0.0, 0.0, 0.0], [0.9846460223197937, 0.002192228101193905, 0.0013491578865796328, 0.011812569573521614, 0.0, 0.0, 0.0, 0.0, 0.0, 0.0, 0.0, 0.0, 0.0, 0.0, 0.0, 0.0, 0.0, 0.0, 0.0, 0.0, 0.0, 0.0, 0.0, 0.0, 0.0, 0.0], [0.9733906984329224, 0.001758540514856577, 0.0016580465016886592, 0.0031692995689809322, 0.020023399963974953, 0.0, 0.0, 0.0, 0.0, 0.0, 0.0, 0.0, 0.0, 0.0, 0.0, 0.0, 0.0, 0.0, 0.0, 0.0, 0.0, 0.0, 0.0, 0.0, 0.0, 0.0], [0.9677450656890869, 0.0005837390199303627, 0.0014137442922219634, 0.0020011221058666706, 0.01164926216006279, 0.0166070144623518, 0.0, 0.0, 0.0, 0.0, 0.0, 0.0, 0.0, 0.0, 0.0, 0.0, 0.0, 0.0, 0.0, 0.0, 0.0, 0.0, 0.0, 0.0, 0.0, 0.0], [0.9658893346786499, 0.0007616386283189058, 0.0006238589994609356, 0.001263546640984714, 0.011579093523323536, 0.0017747818492352962, 0.018107740208506584, 0.0, 0.0, 0.0, 0.0, 0.0, 0.0, 0.0, 0.0, 0.0, 0.0, 0.0, 0.0, 0.0, 0.0, 0.0, 0.0, 0.0, 0.0, 0.0], [0.9479137063026428, 0.003118128515779972, 0.0022554013412445784, 0.0024823960848152637, 0.008316945284605026, 0.0013171376194804907, 0.027091598138213158, 0.007504633627831936, 0.0, 0.0, 0.0, 0.0, 0.0, 0.0, 0.0, 0.0, 0.0, 0.0, 0.0, 0.0, 0.0, 0.0, 0.0, 0.0, 0.0, 0.0], [0.9519955515861511, 0.0033251713030040264, 0.016474125906825066, 0.00256980094127357, 0.006191300693899393, 0.00522048631682992, 0.0054536499083042145, 0.0043672677129507065, 0.004402586724609137, 0.0, 0.0, 0.0, 0.0, 0.0, 0.0, 0.0, 0.0, 0.0, 0.0, 0.0, 0.0, 0.0, 0.0, 0.0, 0.0, 0.0], [0.9820117950439453, 0.0013874317519366741, 0.0007797600701451302, 0.0012841584393754601, 0.004346602130681276, 0.0005638296133838594, 0.0034104250371456146, 0.002231060527265072, 0.0003681167436297983, 0.0036167455837130547, 0.0, 0.0, 0.0, 0.0, 0.0, 0.0, 0.0, 0.0, 0.0, 0.0, 0.0, 0.0, 0.0, 0.0, 0.0, 0.0], [0.9340578317642212, 0.0010280987480655313, 0.003249691566452384, 0.0015912975650280714, 0.010177736170589924, 0.004741779528558254, 0.02579963207244873, 0.005394910462200642, 0.0009039885480888188, 0.01000502984970808, 0.0030499696731567383, 0.0, 0.0, 0.0, 0.0, 0.0, 0.0, 0.0, 0.0, 0.0, 0.0, 0.0, 0.0, 0.0, 0.0, 0.0], [0.9390857815742493, 0.0012707483256235719, 0.0032552380580455065, 0.0009556255536153913, 0.0038439715281128883, 0.0010320593137294054, 0.022608067840337753, 0.002422238700091839, 0.0022763055749237537, 0.017575742676854134, 0.002680917037650943, 0.002993351314216852, 0.0, 0.0, 0.0, 0.0, 0.0, 0.0, 0.0, 0.0, 0.0, 0.0, 0.0, 0.0, 0.0, 0.0], [0.8482593297958374, 0.0007600538665428758, 0.0043981438502669334, 0.0018560128519311547, 0.0037445465568453074, 0.002005252055823803, 0.057245153933763504, 0.0020685256458818913, 0.0012447574408724904, 0.04789639264345169, 0.00966076273471117, 0.0035333100240677595, 0.01732769049704075, 0.0, 0.0, 0.0, 0.0, 0.0, 0.0, 0.0, 0.0, 0.0, 0.0, 0.0, 0.0, 0.0], [0.9418028593063354, 0.003066879929974675, 0.002324917819350958, 0.002130798762664199, 0.007755079306662083, 0.0010345716727897525, 0.01691341958940029, 0.004689847584813833, 0.0009439272107556462, 0.003972710110247135, 0.003023383906111121, 0.0013529554707929492, 0.003859815187752247, 0.007128918077796698, 0.0, 0.0, 0.0, 0.0, 0.0, 0.0, 0.0, 0.0, 0.0, 0.0, 0.0, 0.0], [0.9638996124267578, 0.0007839198224246502, 0.0003138195024803281, 0.0007694450323469937, 0.011692765168845654, 0.0008336215978488326, 0.004983462858945131, 0.002168377861380577, 0.0002646181092131883, 0.0015925918705761433, 0.0009641951182857156, 0.0005051565822213888, 0.0005294265574775636, 0.0030673907604068518, 0.007631700020283461, 0.0, 0.0, 0.0, 0.0, 0.0, 0.0, 0.0, 0.0, 0.0, 0.0, 0.0], [0.856971263885498, 0.004100203979760408, 0.0017543071880936623, 0.0010009162360802293, 0.027252038940787315, 0.008024001494050026, 0.05015801265835762, 0.0032441283110529184, 0.0004939812351949513, 0.003086402779445052, 0.0015300959348678589, 0.00038473098538815975, 0.0003798462566919625, 0.002394222654402256, 0.001195863471366465, 0.03803006187081337, 0.0, 0.0, 0.0, 0.0, 0.0, 0.0, 0.0, 0.0, 0.0, 0.0], [0.7907899618148804, 0.0010771364904940128, 0.0010160215897485614, 0.0007388489320874214, 0.0037304838187992573, 0.004617964383214712, 0.17087584733963013, 0.0026355364825576544, 0.00047034508315846324, 0.0011483327252790332, 0.0009870686335489154, 0.0006407222244888544, 0.0023776970338076353, 0.003189637791365385, 0.0018642202485352755, 0.010683435015380383, 0.003156800754368305, 0.0, 0.0, 0.0, 0.0, 0.0, 0.0, 0.0, 0.0, 0.0], [0.8857144713401794, 0.0014621411683037877, 0.0016519399359822273, 0.0012075303820893168, 0.013157488778233528, 0.0028351310174912214, 0.013361076824367046, 0.003999367356300354, 0.0006935288547538221, 0.0018662142101675272, 0.001774536562152207, 0.0017486050492152572, 0.0019445517100393772, 0.010044919326901436, 0.0027933637611567974, 0.02534015290439129, 0.001664155744947493, 0.028740793466567993, 0.0, 0.0, 0.0, 0.0, 0.0, 0.0, 0.0, 0.0], [0.8262627124786377, 0.008576835505664349, 0.004956373013556004, 0.0049302224069833755, 0.018537214025855064, 0.0016931825084611773, 0.030987443402409554, 0.009336394257843494, 0.0030816111247986555, 0.009173563681542873, 0.003949511330574751, 0.004157549701631069, 0.009467083029448986, 0.0073099699802696705, 0.0027375370264053345, 0.03529665246605873, 0.0007750934455543756, 0.013902492821216583, 0.004868616815656424, 0.0, 0.0, 0.0, 0.0, 0.0, 0.0, 0.0], [0.9444771409034729, 0.00463345181196928, 0.0017583933658897877, 0.0018798793898895383, 0.004667474888265133, 0.0022239547688513994, 0.013521631248295307, 0.006274942308664322, 0.0008566475589759648, 0.002546121133491397, 0.0007697470718994737, 0.0018598460592329502, 0.0016442411579191685, 0.0007797730504535139, 0.0003753705823328346, 0.0031327130272984505, 0.0003936935099773109, 0.0024947086349129677, 0.004031796474009752, 0.0016784011386334896, 0.0, 0.0, 0.0, 0.0, 0.0, 0.0], [0.9060632586479187, 0.01274091936647892, 0.0022621992975473404, 0.00480754254385829, 0.01390075497329235, 0.0023509389720857143, 0.01962072029709816, 0.002830121899023652, 0.0007423211936838925, 0.001637179870158434, 0.0009897049749270082, 0.000786336197052151, 0.002107751090079546, 0.001109614735469222, 0.0009129657410085201, 0.016242198646068573, 0.000664357328787446, 0.0036997513379901648, 0.0014998060651123524, 0.0026786138769239187, 0.0023528749588876963, 0.0, 0.0, 0.0, 0.0, 0.0], [0.8309856057167053, 0.009370175190269947, 0.0029950193129479885, 0.003254464128986001, 0.02771122381091118, 0.0035170644987374544, 0.029844414442777634, 0.003906634170562029, 0.00047477491898462176, 0.0028938266914337873, 0.0019019298488274217, 0.0005310372798703611, 0.0011218964355066419, 0.0016170790186151862, 0.0007393423584289849, 0.010990386828780174, 0.0007252282812260091, 0.005789842922240496, 0.0015685760881751776, 0.0020666075870394707, 0.0018380541587248445, 0.05615677684545517, 0.0, 0.0, 0.0, 0.0], [0.6672303676605225, 0.008302932605147362, 0.004592925775796175, 0.00397092429921031, 0.019804559648036957, 0.0026180024724453688, 0.13777808845043182, 0.0055315811187028885, 0.0016260850243270397, 0.00990726612508297, 0.00431170966476202, 0.0020571723580360413, 0.004606463015079498, 0.0022103916853666306, 0.0007695863605476916, 0.027241656556725502, 0.0005606855847872794, 0.03461663797497749, 0.002174726454541087, 0.004031740128993988, 0.004996323958039284, 0.04592551663517952, 0.005134603939950466, 0.0, 0.0, 0.0], [0.631687581539154, 0.002885271795094013, 0.0014206242049112916, 0.002193416003137827, 0.11371821910142899, 0.00803141575306654, 0.036912061274051666, 0.0028476135339587927, 0.0005955725209787488, 0.0031272934284061193, 0.001965257106348872, 0.0008308778051286936, 0.000883846019860357, 0.0012016986729577184, 0.0006082940963096917, 0.15278346836566925, 0.0025213665794581175, 0.013424765318632126, 0.0010260447161272168, 0.000461031508166343, 0.0015644999220967293, 0.014028430916368961, 0.0019238869426771998, 0.0033574006520211697, 0.0, 0.0], [0.6950393319129944, 0.0024950806982815266, 0.003005083417519927, 0.0016387267969548702, 0.01972375623881817, 0.024970270693302155, 0.1366327404975891, 0.004554394166916609, 0.0010518872877582908, 0.015379328280687332, 0.003167534014210105, 0.0014660615706816316, 0.002423232886940241, 0.002676713513210416, 0.001215502037666738, 0.022179454565048218, 0.002858499763533473, 0.02101142518222332, 0.0013673753710463643, 0.00032828812254592776, 0.00089598837075755, 0.02471761591732502, 0.0029945026617497206, 0.0014991493662819266, 0.00670807808637619, 0.0], [0.5617526769638062, 0.0008344684028998017, 0.0018491557566449046, 0.0009837965480983257, 0.007720825262367725, 0.006632959470152855, 0.30615976452827454, 0.0016709284391254187, 0.00026435733889229596, 0.0019480398623272777, 0.0012963395565748215, 0.0006197290495038033, 0.0032907065469771624, 0.0017671097302809358, 0.0006305095157586038, 0.0036741478834301233, 0.000579088693484664, 0.07493026554584503, 0.0008094967342913151, 0.0004925648681819439, 0.0015477173728868365, 0.0074810148216784, 0.0017822171794250607, 0.0012785191647708416, 0.0021459420677274466, 0.00785770919173956]], [[1.0, 0.0, 0.0, 0.0, 0.0, 0.0, 0.0, 0.0, 0.0, 0.0, 0.0, 0.0, 0.0, 0.0, 0.0, 0.0, 0.0, 0.0, 0.0, 0.0, 0.0, 0.0, 0.0, 0.0, 0.0, 0.0], [0.9808017611503601, 0.019198263064026833, 0.0, 0.0, 0.0, 0.0, 0.0, 0.0, 0.0, 0.0, 0.0, 0.0, 0.0, 0.0, 0.0, 0.0, 0.0, 0.0, 0.0, 0.0, 0.0, 0.0, 0.0, 0.0, 0.0, 0.0], [0.809370756149292, 0.12914429605007172, 0.06148495152592659, 0.0, 0.0, 0.0, 0.0, 0.0, 0.0, 0.0, 0.0, 0.0, 0.0, 0.0, 0.0, 0.0, 0.0, 0.0, 0.0, 0.0, 0.0, 0.0, 0.0, 0.0, 0.0, 0.0], [0.7408996224403381, 0.03184487298130989, 0.18894842267036438, 0.03830710053443909, 0.0, 0.0, 0.0, 0.0, 0.0, 0.0, 0.0, 0.0, 0.0, 0.0, 0.0, 0.0, 0.0, 0.0, 0.0, 0.0, 0.0, 0.0, 0.0, 0.0, 0.0, 0.0], [0.6571775078773499, 0.01959921419620514, 0.14520736038684845, 0.11942016333341599, 0.0585956908762455, 0.0, 0.0, 0.0, 0.0, 0.0, 0.0, 0.0, 0.0, 0.0, 0.0, 0.0, 0.0, 0.0, 0.0, 0.0, 0.0, 0.0, 0.0, 0.0, 0.0, 0.0], [0.23901350796222687, 0.047397252172231674, 0.2775973677635193, 0.1185033842921257, 0.24430511891841888, 0.07318335026502609, 0.0, 0.0, 0.0, 0.0, 0.0, 0.0, 0.0, 0.0, 0.0, 0.0, 0.0, 0.0, 0.0, 0.0, 0.0, 0.0, 0.0, 0.0, 0.0, 0.0], [0.4699900448322296, 0.02638682723045349, 0.16323526203632355, 0.08707796782255173, 0.08907650411128998, 0.12191172689199448, 0.04232171177864075, 0.0, 0.0, 0.0, 0.0, 0.0, 0.0, 0.0, 0.0, 0.0, 0.0, 0.0, 0.0, 0.0, 0.0, 0.0, 0.0, 0.0, 0.0, 0.0], [0.6960864663124084, 0.02827540598809719, 0.02021518535912037, 0.02151474915444851, 0.04853062331676483, 0.012598535045981407, 0.07637344300746918, 0.09640568494796753, 0.0, 0.0, 0.0, 0.0, 0.0, 0.0, 0.0, 0.0, 0.0, 0.0, 0.0, 0.0, 0.0, 0.0, 0.0, 0.0, 0.0, 0.0], [0.4339302182197571, 0.006915732752531767, 0.028405839577317238, 0.006747806444764137, 0.026990942656993866, 0.013869104906916618, 0.04513713717460632, 0.3863179683685303, 0.05168522149324417, 0.0, 0.0, 0.0, 0.0, 0.0, 0.0, 0.0, 0.0, 0.0, 0.0, 0.0, 0.0, 0.0, 0.0, 0.0, 0.0, 0.0], [0.546645998954773, 0.013002928346395493, 0.011232520453631878, 0.007028896827250719, 0.02850492298603058, 0.011141489259898663, 0.007520032115280628, 0.20744620263576508, 0.12329024821519852, 0.044186778366565704, 0.0, 0.0, 0.0, 0.0, 0.0, 0.0, 0.0, 0.0, 0.0, 0.0, 0.0, 0.0, 0.0, 0.0, 0.0, 0.0], [0.43172863125801086, 0.013967362232506275, 0.02133474312722683, 0.006106922868639231, 0.01864856295287609, 0.007538476027548313, 0.010707923211157322, 0.07727313041687012, 0.14792639017105103, 0.22985202074050903, 0.034915875643491745, 0.0, 0.0, 0.0, 0.0, 0.0, 0.0, 0.0, 0.0, 0.0, 0.0, 0.0, 0.0, 0.0, 0.0, 0.0], [0.37715116143226624, 0.026201706379652023, 0.005078192800283432, 0.005450576543807983, 0.01854034885764122, 0.003300916636362672, 0.0062821246683597565, 0.07919593155384064, 0.3147377371788025, 0.07888150215148926, 0.06671284884214401, 0.018466999754309654, 0.0, 0.0, 0.0, 0.0, 0.0, 0.0, 0.0, 0.0, 0.0, 0.0, 0.0, 0.0, 0.0, 0.0], [0.47899359464645386, 0.013460332527756691, 0.005157276056706905, 0.005895577371120453, 0.03095664642751217, 0.005151222925633192, 0.00255123944953084, 0.09694964438676834, 0.09059911966323853, 0.015451355837285519, 0.031905099749565125, 0.195162832736969, 0.027766061946749687, 0.0, 0.0, 0.0, 0.0, 0.0, 0.0, 0.0, 0.0, 0.0, 0.0, 0.0, 0.0, 0.0], [0.4993228614330292, 0.01194443553686142, 0.009892252273857594, 0.006518244277685881, 0.02720642276108265, 0.006732590030878782, 0.013139674440026283, 0.03136809915304184, 0.05593552067875862, 0.06167754530906677, 0.057125505059957504, 0.0495966300368309, 0.06294145435094833, 0.10659877210855484, 0.0, 0.0, 0.0, 0.0, 0.0, 0.0, 0.0, 0.0, 0.0, 0.0, 0.0, 0.0], [0.34740737080574036, 0.0026833349838852882, 0.008726741187274456, 0.003144316142424941, 0.021929923444986343, 0.006056280340999365, 0.008433317765593529, 0.02531353570520878, 0.015050060115754604, 0.05413280054926872, 0.034155406057834625, 0.0311680156737566, 0.05409301817417145, 0.33831727504730225, 0.049388594925403595, 0.0, 0.0, 0.0, 0.0, 0.0, 0.0, 0.0, 0.0, 0.0, 0.0, 0.0], [0.48292264342308044, 0.0012147431261837482, 0.0035908662248402834, 0.004446611739695072, 0.008103393949568272, 0.0027053412050008774, 0.005662362091243267, 0.006000142078846693, 0.005862725432962179, 0.03476385027170181, 0.009882337413728237, 0.008866359479725361, 0.03415369987487793, 0.09454933553934097, 0.1781189739704132, 0.11915665864944458, 0.0, 0.0, 0.0, 0.0, 0.0, 0.0, 0.0, 0.0, 0.0, 0.0], [0.14865393936634064, 0.0012622714275494218, 0.005523506086319685, 0.00285821920260787, 0.00924680382013321, 0.0015407706378027797, 0.004810665268450975, 0.0077422247268259525, 0.006433767732232809, 0.022325340658426285, 0.017014872282743454, 0.015039725229144096, 0.05901041999459267, 0.3512524664402008, 0.07921438664197922, 0.22348974645137787, 0.04458088055253029, 0.0, 0.0, 0.0, 0.0, 0.0, 0.0, 0.0, 0.0, 0.0], [0.1545029729604721, 0.0016741158906370401, 0.017260903492569923, 0.005496003199368715, 0.007682513911277056, 0.006154459435492754, 0.0021105585619807243, 0.009020233526825905, 0.006318128667771816, 0.012040634639561176, 0.011034613475203514, 0.03230680525302887, 0.055124036967754364, 0.4470898509025574, 0.03406465798616409, 0.074073426425457, 0.09603247046470642, 0.02801361121237278, 0.0, 0.0, 0.0, 0.0, 0.0, 0.0, 0.0, 0.0], [0.38426586985588074, 0.016415078192949295, 0.004739412572234869, 0.00543648237362504, 0.01605927385389805, 0.002272233832627535, 0.01711411215364933, 0.21190017461776733, 0.01596352644264698, 0.016856282949447632, 0.026313798502087593, 0.06265856325626373, 0.011219572275876999, 0.013965223915874958, 0.006930235773324966, 0.010510573163628578, 0.005242673214524984, 0.05309020355343819, 0.11904671788215637, 0.0, 0.0, 0.0, 0.0, 0.0, 0.0, 0.0], [0.6387513875961304, 0.002905389992520213, 0.0009316867217421532, 0.0008007855503819883, 0.004868850111961365, 0.0008561587310396135, 0.0021041117142885923, 0.07909072935581207, 0.003092985600233078, 0.002241928596049547, 0.008883729577064514, 0.015328912995755672, 0.0022549571003764868, 0.0035730446688830853, 0.004439391661435366, 0.008824639022350311, 0.005553236696869135, 0.010169798508286476, 0.1947668194770813, 0.010561352595686913, 0.0, 0.0, 0.0, 0.0, 0.0, 0.0], [0.8596983551979065, 0.0008900317479856312, 0.0009453015518374741, 0.0005980975111015141, 0.005176423117518425, 0.0005964720621705055, 0.003270885441452265, 0.0314888060092926, 0.00091816351050511, 0.0031899167224764824, 0.00511636957526207, 0.014416093938052654, 0.0017722479533404112, 0.001530567998997867, 0.001175143290311098, 0.004205969162285328, 0.0015472318045794964, 0.007080319803208113, 0.023693380877375603, 0.008659846149384975, 0.02403043955564499, 0.0, 0.0, 0.0, 0.0, 0.0], [0.8295696973800659, 0.0011333082802593708, 0.0005835432675667107, 0.0013857795856893063, 0.002931442577391863, 0.0001569154701428488, 0.0005919319810345769, 0.0036940628197044134, 0.0003538519667927176, 0.0004206610901746899, 0.0005412123282440007, 0.0002863328263629228, 0.0004665434535127133, 0.00022519288177136332, 0.0007928236736916006, 0.0016503878869116306, 0.0001650664780754596, 0.0005088874022476375, 0.007373076863586903, 0.011670096777379513, 0.06582216173410416, 0.06967703253030777, 0.0, 0.0, 0.0, 0.0], [0.7384282350540161, 0.0009888458298519254, 0.0006712429458275437, 0.0004972207825630903, 0.0028422551695257425, 0.0001730040821712464, 0.0012678821804001927, 0.0022089481353759766, 0.0002596334961708635, 0.0006112520350143313, 0.0008745436789467931, 0.00014025297423359007, 0.0002143566234735772, 0.00024718904751352966, 0.0004281471483409405, 0.0012671882286667824, 0.0003477935097180307, 0.0017507922602817416, 0.003449349431321025, 0.0057655577547848225, 0.07160146534442902, 0.10260923951864243, 0.0633556991815567, 0.0, 0.0, 0.0], [0.6798713803291321, 0.0004371106333564967, 0.0018919737776741385, 0.0005148715572431684, 0.003303317818790674, 0.0005146514158695936, 0.001660345820710063, 0.00685088662430644, 0.000486657751025632, 0.0026405996177345514, 0.001686267787590623, 0.0010213784407824278, 0.0007349412771873176, 0.004302179906517267, 0.0013480818597599864, 0.006227095145732164, 0.0020936618093401194, 0.003841452533379197, 0.013648946769535542, 0.005664360243827105, 0.027274824678897858, 0.043217189610004425, 0.11770114302635193, 0.0730666071176529, 0.0, 0.0], [0.4816330075263977, 0.0008561228751204908, 0.0024972495157271624, 0.0018802013946697116, 0.0026633834931999445, 0.0008522257558070123, 0.0019649462774395943, 0.00369418878108263, 0.0018584789941087365, 0.008517528884112835, 0.0018394732614979148, 0.001327552949078381, 0.001578427036292851, 0.004992234520614147, 0.0049962857738137245, 0.007683888543397188, 0.003352261148393154, 0.0035801464691758156, 0.00778665067628026, 0.01031806692481041, 0.01035402063280344, 0.015747984871268272, 0.061870064586400986, 0.2770911157131195, 0.08106446266174316, 0.0], [0.28358131647109985, 0.0005099863628856838, 0.0016792276874184608, 0.0008964057196862996, 0.006093112286180258, 0.0004340377636253834, 0.000921220809686929, 0.003878684714436531, 0.0017753804568201303, 0.0029071124736219645, 0.0014329934492707253, 0.002439548261463642, 0.001975883264094591, 0.009586849249899387, 0.002815707353875041, 0.015153776854276657, 0.0016694777878001332, 0.0025814934633672237, 0.006777857895940542, 0.002137948526069522, 0.010883839800953865, 0.02013057842850685, 0.06809981167316437, 0.1469428986310959, 0.33744487166404724, 0.06724996864795685]]], \"attentionHeadNames\": [\"L10H4\", \"L9H2\", \"L10H1\", \"L8H5\"], \"tokens\": [\"<|endoftext|>\", \"I\", \" thought\", \" this\", \" movie\", \" was\", \" perfect\", \".\", \" I\", \" loved\", \" it\", \",\", \" even\", \" though\", \" the\", \" sequel\", \" was\", \" dreadful\", \".\", \" \", \"\\n\", \"Conclusion\", \":\", \" This\", \" movie\", \" is\"]}\n",
              "    )\n",
              "    </script>"
            ],
            "text/plain": [
              "<circuitsvis.utils.render.RenderedHTML at 0x7faf93d78bb0>"
            ]
          },
          "execution_count": 35,
          "metadata": {},
          "output_type": "execute_result"
        }
      ],
      "source": [
        "from visualization_utils import get_attn_head_patterns\n",
        "\n",
        "top_k = 4\n",
        "top_heads = torch.topk(-results['z'].flatten(), k=top_k).indices.cpu().numpy()\n",
        "heads = [(head // model.cfg.n_heads, head % model.cfg.n_heads) for head in top_heads]\n",
        "tokens, attn, names = get_attn_head_patterns(model, all_prompts[0], heads)\n",
        "cv.attention.attention_heads(tokens=tokens, attention=attn, attention_head_names=names)"
      ]
    },
    {
      "cell_type": "code",
      "execution_count": 29,
      "metadata": {},
      "outputs": [
        {
          "name": "stdout",
          "output_type": "stream",
          "text": [
            "Tried to stack head results when they weren't cached. Computing head results now\n",
            "Tried to stack head results when they weren't cached. Computing head results now\n",
            "Tried to stack head results when they weren't cached. Computing head results now\n",
            "Tried to stack head results when they weren't cached. Computing head results now\n"
          ]
        },
        {
          "data": {
            "application/vnd.plotly.v1+json": {
              "config": {
                "plotlyServerURL": "https://plot.ly"
              },
              "data": [
                {
                  "customdata": [
                    [
                      "I thought this movie was perfect. I loved it, even though the sequel was dreadful. \nConclusion: This movie is"
                    ],
                    [
                      "I thought this movie was fantastic. I loved it, even though the sequel was bad. \nConclusion: This movie is"
                    ],
                    [
                      "I thought this movie was delightful. I loved it, even though the sequel was dull. \nConclusion: This movie is"
                    ],
                    [
                      "I thought this movie was cheerful. I loved it, even though the sequel was depressing. \nConclusion: This movie is"
                    ],
                    [
                      "I thought this movie was marvelous. I loved it, even though the sequel was miserable. \nConclusion: This movie is"
                    ],
                    [
                      "I thought this movie was good. I loved it, even though the sequel was tragic. \nConclusion: This movie is"
                    ],
                    [
                      "I thought this movie was remarkable. I loved it, even though the sequel was nasty. \nConclusion: This movie is"
                    ],
                    [
                      "I thought this movie was wonderful. I loved it, even though the sequel was inferior. \nConclusion: This movie is"
                    ],
                    [
                      "I thought this movie was fabulous. I loved it, even though the sequel was horrific. \nConclusion: This movie is"
                    ],
                    [
                      "I thought this movie was outstanding. I loved it, even though the sequel was terrible. \nConclusion: This movie is"
                    ],
                    [
                      "I thought this movie was awesome. I loved it, even though the sequel was ugly. \nConclusion: This movie is"
                    ],
                    [
                      "I thought this movie was exceptional. I loved it, even though the sequel was disgusting. \nConclusion: This movie is"
                    ],
                    [
                      "I thought this movie was incredible. I loved it, even though the sequel was disastrous. \nConclusion: This movie is"
                    ],
                    [
                      "I thought this movie was extraordinary. I loved it, even though the sequel was horrendous. \nConclusion: This movie is"
                    ],
                    [
                      "I thought this movie was amazing. I loved it, even though the sequel was annoying. \nConclusion: This movie is"
                    ],
                    [
                      "I thought this movie was lovely. I loved it, even though the sequel was boring. \nConclusion: This movie is"
                    ],
                    [
                      "I thought this movie was brilliant. I loved it, even though the sequel was offensive. \nConclusion: This movie is"
                    ],
                    [
                      "I thought this movie was charming. I loved it, even though the sequel was frustrating. \nConclusion: This movie is"
                    ],
                    [
                      "I thought this movie was terrific. I loved it, even though the sequel was wretched. \nConclusion: This movie is"
                    ],
                    [
                      "I thought this movie was superb. I loved it, even though the sequel was dire. \nConclusion: This movie is"
                    ],
                    [
                      "I thought this movie was spectacular. I loved it, even though the sequel was awful. \nConclusion: This movie is"
                    ],
                    [
                      "I thought this movie was great. I loved it, even though the sequel was unpleasant. \nConclusion: This movie is"
                    ],
                    [
                      "I thought this movie was splendid. I loved it, even though the sequel was horrible. \nConclusion: This movie is"
                    ],
                    [
                      "I thought this movie was beautiful. I loved it, even though the sequel was mediocre. \nConclusion: This movie is"
                    ],
                    [
                      "I thought this movie was joyful. I loved it, even though the sequel was disappointing. \nConclusion: This movie is"
                    ]
                  ],
                  "hovertemplate": "Word Type=Positive Sentiment<br>Attn Prob on Word=%{x}<br>Dot w Sentiment Embed=%{y}<br>text=%{customdata[0]}<extra></extra>",
                  "legendgroup": "Positive Sentiment",
                  "marker": {
                    "color": "rgb(114,255,100)",
                    "symbol": "circle"
                  },
                  "mode": "markers",
                  "name": "Positive Sentiment",
                  "orientation": "v",
                  "showlegend": true,
                  "type": "scatter",
                  "x": [
                    0.023985523730516434,
                    0.04894200339913368,
                    0.04521646723151207,
                    0.06720977276563644,
                    0.043902985751628876,
                    0.03311001509428024,
                    0.0696563795208931,
                    0.04324992001056671,
                    0.046050600707530975,
                    0.04276686906814575,
                    0.06814603507518768,
                    0.06099140644073486,
                    0.055962253361940384,
                    0.06866584718227386,
                    0.05943731591105461,
                    0.044685374945402145,
                    0.049137283116579056,
                    0.055055417120456696,
                    0.03432130441069603,
                    0.033649101853370667,
                    0.03913168981671333,
                    0.04705554246902466,
                    0.03978711739182472,
                    0.04422678425908089,
                    0.0710701197385788
                  ],
                  "xaxis": "x",
                  "y": [
                    0.058908358216285706,
                    0.08995795249938965,
                    0.06870728731155396,
                    0.06579349935054779,
                    0.0868842825293541,
                    0.054519087076187134,
                    0.10492552071809769,
                    0.09108927845954895,
                    0.09611767530441284,
                    0.0911182090640068,
                    0.11755611002445221,
                    0.11577417701482773,
                    0.11160896718502045,
                    0.1200844794511795,
                    0.1142033115029335,
                    0.07289497554302216,
                    0.08863639831542969,
                    0.06458956003189087,
                    0.07715766131877899,
                    0.08297141641378403,
                    0.0913989245891571,
                    0.07945813238620758,
                    0.07954956591129303,
                    0.0737692192196846,
                    0.07245732843875885
                  ],
                  "yaxis": "y"
                },
                {
                  "customdata": [
                    [
                      "I thought this movie was dreadful. I hated it, even though the sequel was perfect. \nConclusion: This movie is"
                    ],
                    [
                      "I thought this movie was bad. I hated it, even though the sequel was fantastic. \nConclusion: This movie is"
                    ],
                    [
                      "I thought this movie was dull. I hated it, even though the sequel was delightful. \nConclusion: This movie is"
                    ],
                    [
                      "I thought this movie was depressing. I hated it, even though the sequel was cheerful. \nConclusion: This movie is"
                    ],
                    [
                      "I thought this movie was miserable. I hated it, even though the sequel was marvelous. \nConclusion: This movie is"
                    ],
                    [
                      "I thought this movie was tragic. I hated it, even though the sequel was good. \nConclusion: This movie is"
                    ],
                    [
                      "I thought this movie was nasty. I hated it, even though the sequel was remarkable. \nConclusion: This movie is"
                    ],
                    [
                      "I thought this movie was inferior. I hated it, even though the sequel was wonderful. \nConclusion: This movie is"
                    ],
                    [
                      "I thought this movie was horrific. I hated it, even though the sequel was fabulous. \nConclusion: This movie is"
                    ],
                    [
                      "I thought this movie was terrible. I hated it, even though the sequel was outstanding. \nConclusion: This movie is"
                    ],
                    [
                      "I thought this movie was ugly. I hated it, even though the sequel was awesome. \nConclusion: This movie is"
                    ],
                    [
                      "I thought this movie was disgusting. I hated it, even though the sequel was exceptional. \nConclusion: This movie is"
                    ],
                    [
                      "I thought this movie was disastrous. I hated it, even though the sequel was incredible. \nConclusion: This movie is"
                    ],
                    [
                      "I thought this movie was horrendous. I hated it, even though the sequel was extraordinary. \nConclusion: This movie is"
                    ],
                    [
                      "I thought this movie was annoying. I hated it, even though the sequel was amazing. \nConclusion: This movie is"
                    ],
                    [
                      "I thought this movie was boring. I hated it, even though the sequel was lovely. \nConclusion: This movie is"
                    ],
                    [
                      "I thought this movie was offensive. I hated it, even though the sequel was brilliant. \nConclusion: This movie is"
                    ],
                    [
                      "I thought this movie was frustrating. I hated it, even though the sequel was charming. \nConclusion: This movie is"
                    ],
                    [
                      "I thought this movie was wretched. I hated it, even though the sequel was terrific. \nConclusion: This movie is"
                    ],
                    [
                      "I thought this movie was dire. I hated it, even though the sequel was superb. \nConclusion: This movie is"
                    ],
                    [
                      "I thought this movie was awful. I hated it, even though the sequel was spectacular. \nConclusion: This movie is"
                    ],
                    [
                      "I thought this movie was unpleasant. I hated it, even though the sequel was great. \nConclusion: This movie is"
                    ],
                    [
                      "I thought this movie was horrible. I hated it, even though the sequel was splendid. \nConclusion: This movie is"
                    ],
                    [
                      "I thought this movie was mediocre. I hated it, even though the sequel was beautiful. \nConclusion: This movie is"
                    ],
                    [
                      "I thought this movie was disappointing. I hated it, even though the sequel was joyful. \nConclusion: This movie is"
                    ]
                  ],
                  "hovertemplate": "Word Type=Negative Sentiment<br>Attn Prob on Word=%{x}<br>Dot w Sentiment Embed=%{y}<br>text=%{customdata[0]}<extra></extra>",
                  "legendgroup": "Negative Sentiment",
                  "marker": {
                    "color": "rgb(201,165,247)",
                    "symbol": "circle"
                  },
                  "mode": "markers",
                  "name": "Negative Sentiment",
                  "orientation": "v",
                  "showlegend": true,
                  "type": "scatter",
                  "x": [
                    0.07111398130655289,
                    0.06216292828321457,
                    0.04723402485251427,
                    0.0636797547340393,
                    0.09728962182998657,
                    0.11737970262765884,
                    0.10395731031894684,
                    0.08367094397544861,
                    0.08202795684337616,
                    0.06009400635957718,
                    0.08274200558662415,
                    0.10156334191560745,
                    0.10477336496114731,
                    0.07552891969680786,
                    0.08052082359790802,
                    0.05947697162628174,
                    0.07916075736284256,
                    0.06369141489267349,
                    0.08235383033752441,
                    0.058656636625528336,
                    0.061717815697193146,
                    0.07372600585222244,
                    0.06405451893806458,
                    0.07825857400894165,
                    0.07237023115158081
                  ],
                  "xaxis": "x",
                  "y": [
                    0.14148631691932678,
                    0.12870073318481445,
                    0.08731845766305923,
                    0.09844426810741425,
                    0.14862489700317383,
                    0.1640259027481079,
                    0.1473449170589447,
                    0.12429550290107727,
                    0.14169128239154816,
                    0.13551700115203857,
                    0.10457220673561096,
                    0.15255171060562134,
                    0.17304737865924835,
                    0.15806210041046143,
                    0.1263057440519333,
                    0.07273270189762115,
                    0.11218319833278656,
                    0.10123596340417862,
                    0.14139044284820557,
                    0.10767880082130432,
                    0.13066045939922333,
                    0.11561312526464462,
                    0.13451634347438812,
                    0.1260116994380951,
                    0.1150997132062912
                  ],
                  "yaxis": "y"
                },
                {
                  "customdata": [
                    [
                      "I thought this movie was perfect. I loved it, even though the sequel was dreadful. \nConclusion: This movie is"
                    ],
                    [
                      "I thought this movie was fantastic. I loved it, even though the sequel was bad. \nConclusion: This movie is"
                    ],
                    [
                      "I thought this movie was delightful. I loved it, even though the sequel was dull. \nConclusion: This movie is"
                    ],
                    [
                      "I thought this movie was cheerful. I loved it, even though the sequel was depressing. \nConclusion: This movie is"
                    ],
                    [
                      "I thought this movie was marvelous. I loved it, even though the sequel was miserable. \nConclusion: This movie is"
                    ],
                    [
                      "I thought this movie was good. I loved it, even though the sequel was tragic. \nConclusion: This movie is"
                    ],
                    [
                      "I thought this movie was remarkable. I loved it, even though the sequel was nasty. \nConclusion: This movie is"
                    ],
                    [
                      "I thought this movie was wonderful. I loved it, even though the sequel was inferior. \nConclusion: This movie is"
                    ],
                    [
                      "I thought this movie was fabulous. I loved it, even though the sequel was horrific. \nConclusion: This movie is"
                    ],
                    [
                      "I thought this movie was outstanding. I loved it, even though the sequel was terrible. \nConclusion: This movie is"
                    ],
                    [
                      "I thought this movie was awesome. I loved it, even though the sequel was ugly. \nConclusion: This movie is"
                    ],
                    [
                      "I thought this movie was exceptional. I loved it, even though the sequel was disgusting. \nConclusion: This movie is"
                    ],
                    [
                      "I thought this movie was incredible. I loved it, even though the sequel was disastrous. \nConclusion: This movie is"
                    ],
                    [
                      "I thought this movie was extraordinary. I loved it, even though the sequel was horrendous. \nConclusion: This movie is"
                    ],
                    [
                      "I thought this movie was amazing. I loved it, even though the sequel was annoying. \nConclusion: This movie is"
                    ],
                    [
                      "I thought this movie was lovely. I loved it, even though the sequel was boring. \nConclusion: This movie is"
                    ],
                    [
                      "I thought this movie was brilliant. I loved it, even though the sequel was offensive. \nConclusion: This movie is"
                    ],
                    [
                      "I thought this movie was charming. I loved it, even though the sequel was frustrating. \nConclusion: This movie is"
                    ],
                    [
                      "I thought this movie was terrific. I loved it, even though the sequel was wretched. \nConclusion: This movie is"
                    ],
                    [
                      "I thought this movie was superb. I loved it, even though the sequel was dire. \nConclusion: This movie is"
                    ],
                    [
                      "I thought this movie was spectacular. I loved it, even though the sequel was awful. \nConclusion: This movie is"
                    ],
                    [
                      "I thought this movie was great. I loved it, even though the sequel was unpleasant. \nConclusion: This movie is"
                    ],
                    [
                      "I thought this movie was splendid. I loved it, even though the sequel was horrible. \nConclusion: This movie is"
                    ],
                    [
                      "I thought this movie was beautiful. I loved it, even though the sequel was mediocre. \nConclusion: This movie is"
                    ],
                    [
                      "I thought this movie was joyful. I loved it, even though the sequel was disappointing. \nConclusion: This movie is"
                    ]
                  ],
                  "hovertemplate": "Word Type=Positive Sentiment<br>Attn Prob on Word=%{x}<br>Dot w Sentiment Embed=%{y}<br>text=%{customdata[0]}<extra></extra>",
                  "legendgroup": "Positive Sentiment",
                  "marker": {
                    "color": "rgb(114,255,100)",
                    "symbol": "circle"
                  },
                  "mode": "markers",
                  "name": "Positive Sentiment",
                  "orientation": "v",
                  "showlegend": false,
                  "type": "scatter",
                  "x": [
                    0.03259338065981865,
                    0.062182288616895676,
                    0.07294291257858276,
                    0.09274153411388397,
                    0.06502597033977509,
                    0.048508837819099426,
                    0.0545068196952343,
                    0.060097385197877884,
                    0.054125141352415085,
                    0.06780450791120529,
                    0.07649088650941849,
                    0.05397910252213478,
                    0.07196695357561111,
                    0.06156347319483757,
                    0.06787529587745667,
                    0.05806489288806915,
                    0.055882398039102554,
                    0.0844687968492508,
                    0.05797910317778587,
                    0.073135606944561,
                    0.09045764803886414,
                    0.04403593763709068,
                    0.05647147819399834,
                    0.09388680011034012,
                    0.11338555812835693
                  ],
                  "xaxis": "x2",
                  "y": [
                    0.14007596671581268,
                    0.18239450454711914,
                    0.1633683443069458,
                    0.1263064444065094,
                    0.17943421006202698,
                    0.14349894225597382,
                    0.14318186044692993,
                    0.18161487579345703,
                    0.18063275516033173,
                    0.1888650804758072,
                    0.1923198401927948,
                    0.11878291517496109,
                    0.2064862698316574,
                    0.17260675132274628,
                    0.19330057501792908,
                    0.1583898365497589,
                    0.12475229799747467,
                    0.1606505662202835,
                    0.15503226220607758,
                    0.1633949875831604,
                    0.21358536183834076,
                    0.13494127988815308,
                    0.15233919024467468,
                    0.2208191305398941,
                    0.19801382720470428
                  ],
                  "yaxis": "y2"
                },
                {
                  "customdata": [
                    [
                      "I thought this movie was dreadful. I hated it, even though the sequel was perfect. \nConclusion: This movie is"
                    ],
                    [
                      "I thought this movie was bad. I hated it, even though the sequel was fantastic. \nConclusion: This movie is"
                    ],
                    [
                      "I thought this movie was dull. I hated it, even though the sequel was delightful. \nConclusion: This movie is"
                    ],
                    [
                      "I thought this movie was depressing. I hated it, even though the sequel was cheerful. \nConclusion: This movie is"
                    ],
                    [
                      "I thought this movie was miserable. I hated it, even though the sequel was marvelous. \nConclusion: This movie is"
                    ],
                    [
                      "I thought this movie was tragic. I hated it, even though the sequel was good. \nConclusion: This movie is"
                    ],
                    [
                      "I thought this movie was nasty. I hated it, even though the sequel was remarkable. \nConclusion: This movie is"
                    ],
                    [
                      "I thought this movie was inferior. I hated it, even though the sequel was wonderful. \nConclusion: This movie is"
                    ],
                    [
                      "I thought this movie was horrific. I hated it, even though the sequel was fabulous. \nConclusion: This movie is"
                    ],
                    [
                      "I thought this movie was terrible. I hated it, even though the sequel was outstanding. \nConclusion: This movie is"
                    ],
                    [
                      "I thought this movie was ugly. I hated it, even though the sequel was awesome. \nConclusion: This movie is"
                    ],
                    [
                      "I thought this movie was disgusting. I hated it, even though the sequel was exceptional. \nConclusion: This movie is"
                    ],
                    [
                      "I thought this movie was disastrous. I hated it, even though the sequel was incredible. \nConclusion: This movie is"
                    ],
                    [
                      "I thought this movie was horrendous. I hated it, even though the sequel was extraordinary. \nConclusion: This movie is"
                    ],
                    [
                      "I thought this movie was annoying. I hated it, even though the sequel was amazing. \nConclusion: This movie is"
                    ],
                    [
                      "I thought this movie was boring. I hated it, even though the sequel was lovely. \nConclusion: This movie is"
                    ],
                    [
                      "I thought this movie was offensive. I hated it, even though the sequel was brilliant. \nConclusion: This movie is"
                    ],
                    [
                      "I thought this movie was frustrating. I hated it, even though the sequel was charming. \nConclusion: This movie is"
                    ],
                    [
                      "I thought this movie was wretched. I hated it, even though the sequel was terrific. \nConclusion: This movie is"
                    ],
                    [
                      "I thought this movie was dire. I hated it, even though the sequel was superb. \nConclusion: This movie is"
                    ],
                    [
                      "I thought this movie was awful. I hated it, even though the sequel was spectacular. \nConclusion: This movie is"
                    ],
                    [
                      "I thought this movie was unpleasant. I hated it, even though the sequel was great. \nConclusion: This movie is"
                    ],
                    [
                      "I thought this movie was horrible. I hated it, even though the sequel was splendid. \nConclusion: This movie is"
                    ],
                    [
                      "I thought this movie was mediocre. I hated it, even though the sequel was beautiful. \nConclusion: This movie is"
                    ],
                    [
                      "I thought this movie was disappointing. I hated it, even though the sequel was joyful. \nConclusion: This movie is"
                    ]
                  ],
                  "hovertemplate": "Word Type=Negative Sentiment<br>Attn Prob on Word=%{x}<br>Dot w Sentiment Embed=%{y}<br>text=%{customdata[0]}<extra></extra>",
                  "legendgroup": "Negative Sentiment",
                  "marker": {
                    "color": "rgb(201,165,247)",
                    "symbol": "circle"
                  },
                  "mode": "markers",
                  "name": "Negative Sentiment",
                  "orientation": "v",
                  "showlegend": false,
                  "type": "scatter",
                  "x": [
                    0.17673702538013458,
                    0.11386629939079285,
                    0.11982866376638412,
                    0.16090437769889832,
                    0.11381112039089203,
                    0.19592368602752686,
                    0.20769383013248444,
                    0.07709042727947235,
                    0.2904801368713379,
                    0.15236514806747437,
                    0.18748116493225098,
                    0.2690140902996063,
                    0.15611626207828522,
                    0.2458544373512268,
                    0.11550687998533249,
                    0.12566477060317993,
                    0.2397795170545578,
                    0.08135488629341125,
                    0.08824595808982849,
                    0.09842842817306519,
                    0.19319018721580505,
                    0.126630499958992,
                    0.21500147879123688,
                    0.11364859342575073,
                    0.10823000967502594
                  ],
                  "xaxis": "x2",
                  "y": [
                    0.4076213836669922,
                    0.31949734687805176,
                    0.23597727715969086,
                    0.29953908920288086,
                    0.3037249445915222,
                    0.416232168674469,
                    0.32715752720832825,
                    0.22048217058181763,
                    0.5213615298271179,
                    0.3710477352142334,
                    0.3057636320590973,
                    0.3965161442756653,
                    0.37281879782676697,
                    0.47128528356552124,
                    0.24877981841564178,
                    0.20733189582824707,
                    0.2625691294670105,
                    0.24425357580184937,
                    0.28438282012939453,
                    0.2714247405529022,
                    0.4205459952354431,
                    0.26881152391433716,
                    0.4480619728565216,
                    0.2608955204486847,
                    0.28849443793296814
                  ],
                  "yaxis": "y2"
                },
                {
                  "customdata": [
                    [
                      "I thought this movie was perfect. I loved it, even though the sequel was dreadful. \nConclusion: This movie is"
                    ],
                    [
                      "I thought this movie was fantastic. I loved it, even though the sequel was bad. \nConclusion: This movie is"
                    ],
                    [
                      "I thought this movie was delightful. I loved it, even though the sequel was dull. \nConclusion: This movie is"
                    ],
                    [
                      "I thought this movie was cheerful. I loved it, even though the sequel was depressing. \nConclusion: This movie is"
                    ],
                    [
                      "I thought this movie was marvelous. I loved it, even though the sequel was miserable. \nConclusion: This movie is"
                    ],
                    [
                      "I thought this movie was good. I loved it, even though the sequel was tragic. \nConclusion: This movie is"
                    ],
                    [
                      "I thought this movie was remarkable. I loved it, even though the sequel was nasty. \nConclusion: This movie is"
                    ],
                    [
                      "I thought this movie was wonderful. I loved it, even though the sequel was inferior. \nConclusion: This movie is"
                    ],
                    [
                      "I thought this movie was fabulous. I loved it, even though the sequel was horrific. \nConclusion: This movie is"
                    ],
                    [
                      "I thought this movie was outstanding. I loved it, even though the sequel was terrible. \nConclusion: This movie is"
                    ],
                    [
                      "I thought this movie was awesome. I loved it, even though the sequel was ugly. \nConclusion: This movie is"
                    ],
                    [
                      "I thought this movie was exceptional. I loved it, even though the sequel was disgusting. \nConclusion: This movie is"
                    ],
                    [
                      "I thought this movie was incredible. I loved it, even though the sequel was disastrous. \nConclusion: This movie is"
                    ],
                    [
                      "I thought this movie was extraordinary. I loved it, even though the sequel was horrendous. \nConclusion: This movie is"
                    ],
                    [
                      "I thought this movie was amazing. I loved it, even though the sequel was annoying. \nConclusion: This movie is"
                    ],
                    [
                      "I thought this movie was lovely. I loved it, even though the sequel was boring. \nConclusion: This movie is"
                    ],
                    [
                      "I thought this movie was brilliant. I loved it, even though the sequel was offensive. \nConclusion: This movie is"
                    ],
                    [
                      "I thought this movie was charming. I loved it, even though the sequel was frustrating. \nConclusion: This movie is"
                    ],
                    [
                      "I thought this movie was terrific. I loved it, even though the sequel was wretched. \nConclusion: This movie is"
                    ],
                    [
                      "I thought this movie was superb. I loved it, even though the sequel was dire. \nConclusion: This movie is"
                    ],
                    [
                      "I thought this movie was spectacular. I loved it, even though the sequel was awful. \nConclusion: This movie is"
                    ],
                    [
                      "I thought this movie was great. I loved it, even though the sequel was unpleasant. \nConclusion: This movie is"
                    ],
                    [
                      "I thought this movie was splendid. I loved it, even though the sequel was horrible. \nConclusion: This movie is"
                    ],
                    [
                      "I thought this movie was beautiful. I loved it, even though the sequel was mediocre. \nConclusion: This movie is"
                    ],
                    [
                      "I thought this movie was joyful. I loved it, even though the sequel was disappointing. \nConclusion: This movie is"
                    ]
                  ],
                  "hovertemplate": "Word Type=Positive Sentiment<br>Attn Prob on Word=%{x}<br>Dot w Sentiment Embed=%{y}<br>text=%{customdata[0]}<extra></extra>",
                  "legendgroup": "Positive Sentiment",
                  "marker": {
                    "color": "rgb(114,255,100)",
                    "symbol": "circle"
                  },
                  "mode": "markers",
                  "name": "Positive Sentiment",
                  "orientation": "v",
                  "showlegend": false,
                  "type": "scatter",
                  "x": [
                    0.3061601221561432,
                    0.276474267244339,
                    0.19521664083003998,
                    0.4139326214790344,
                    0.30620577931404114,
                    0.32612577080726624,
                    0.38254043459892273,
                    0.24254167079925537,
                    0.3065706193447113,
                    0.33273211121559143,
                    0.2864312529563904,
                    0.3965883255004883,
                    0.34661298990249634,
                    0.43333035707473755,
                    0.26982128620147705,
                    0.24940991401672363,
                    0.2715581953525543,
                    0.2705197036266327,
                    0.2588184177875519,
                    0.30400094389915466,
                    0.4017573297023773,
                    0.27648022770881653,
                    0.278207391500473,
                    0.3058803379535675,
                    0.38623833656311035
                  ],
                  "xaxis": "x3",
                  "y": [
                    0.2411370575428009,
                    0.21208369731903076,
                    0.0630202665925026,
                    0.06236608698964119,
                    0.2585577368736267,
                    0.1794511079788208,
                    0.40543580055236816,
                    0.22688612341880798,
                    0.2701520621776581,
                    0.3161200284957886,
                    0.24532465636730194,
                    0.42859897017478943,
                    0.36116549372673035,
                    0.4850422739982605,
                    0.30307766795158386,
                    0.1406324952840805,
                    0.21359920501708984,
                    0.10306037962436676,
                    0.1614266335964203,
                    0.17624521255493164,
                    0.3242318332195282,
                    0.24391132593154907,
                    0.21279340982437134,
                    0.20209741592407227,
                    0.1260126680135727
                  ],
                  "yaxis": "y3"
                },
                {
                  "customdata": [
                    [
                      "I thought this movie was dreadful. I hated it, even though the sequel was perfect. \nConclusion: This movie is"
                    ],
                    [
                      "I thought this movie was bad. I hated it, even though the sequel was fantastic. \nConclusion: This movie is"
                    ],
                    [
                      "I thought this movie was dull. I hated it, even though the sequel was delightful. \nConclusion: This movie is"
                    ],
                    [
                      "I thought this movie was depressing. I hated it, even though the sequel was cheerful. \nConclusion: This movie is"
                    ],
                    [
                      "I thought this movie was miserable. I hated it, even though the sequel was marvelous. \nConclusion: This movie is"
                    ],
                    [
                      "I thought this movie was tragic. I hated it, even though the sequel was good. \nConclusion: This movie is"
                    ],
                    [
                      "I thought this movie was nasty. I hated it, even though the sequel was remarkable. \nConclusion: This movie is"
                    ],
                    [
                      "I thought this movie was inferior. I hated it, even though the sequel was wonderful. \nConclusion: This movie is"
                    ],
                    [
                      "I thought this movie was horrific. I hated it, even though the sequel was fabulous. \nConclusion: This movie is"
                    ],
                    [
                      "I thought this movie was terrible. I hated it, even though the sequel was outstanding. \nConclusion: This movie is"
                    ],
                    [
                      "I thought this movie was ugly. I hated it, even though the sequel was awesome. \nConclusion: This movie is"
                    ],
                    [
                      "I thought this movie was disgusting. I hated it, even though the sequel was exceptional. \nConclusion: This movie is"
                    ],
                    [
                      "I thought this movie was disastrous. I hated it, even though the sequel was incredible. \nConclusion: This movie is"
                    ],
                    [
                      "I thought this movie was horrendous. I hated it, even though the sequel was extraordinary. \nConclusion: This movie is"
                    ],
                    [
                      "I thought this movie was annoying. I hated it, even though the sequel was amazing. \nConclusion: This movie is"
                    ],
                    [
                      "I thought this movie was boring. I hated it, even though the sequel was lovely. \nConclusion: This movie is"
                    ],
                    [
                      "I thought this movie was offensive. I hated it, even though the sequel was brilliant. \nConclusion: This movie is"
                    ],
                    [
                      "I thought this movie was frustrating. I hated it, even though the sequel was charming. \nConclusion: This movie is"
                    ],
                    [
                      "I thought this movie was wretched. I hated it, even though the sequel was terrific. \nConclusion: This movie is"
                    ],
                    [
                      "I thought this movie was dire. I hated it, even though the sequel was superb. \nConclusion: This movie is"
                    ],
                    [
                      "I thought this movie was awful. I hated it, even though the sequel was spectacular. \nConclusion: This movie is"
                    ],
                    [
                      "I thought this movie was unpleasant. I hated it, even though the sequel was great. \nConclusion: This movie is"
                    ],
                    [
                      "I thought this movie was horrible. I hated it, even though the sequel was splendid. \nConclusion: This movie is"
                    ],
                    [
                      "I thought this movie was mediocre. I hated it, even though the sequel was beautiful. \nConclusion: This movie is"
                    ],
                    [
                      "I thought this movie was disappointing. I hated it, even though the sequel was joyful. \nConclusion: This movie is"
                    ]
                  ],
                  "hovertemplate": "Word Type=Negative Sentiment<br>Attn Prob on Word=%{x}<br>Dot w Sentiment Embed=%{y}<br>text=%{customdata[0]}<extra></extra>",
                  "legendgroup": "Negative Sentiment",
                  "marker": {
                    "color": "rgb(201,165,247)",
                    "symbol": "circle"
                  },
                  "mode": "markers",
                  "name": "Negative Sentiment",
                  "orientation": "v",
                  "showlegend": false,
                  "type": "scatter",
                  "x": [
                    0.37682265043258667,
                    0.3934856057167053,
                    0.46693554520606995,
                    0.3667548596858978,
                    0.39968448877334595,
                    0.46138399839401245,
                    0.48735716938972473,
                    0.35070285201072693,
                    0.3793031871318817,
                    0.38084012269973755,
                    0.5591530799865723,
                    0.3349769711494446,
                    0.4298093914985657,
                    0.4229182004928589,
                    0.3679780960083008,
                    0.42394956946372986,
                    0.4289800226688385,
                    0.3427131772041321,
                    0.4206376075744629,
                    0.3008132874965668,
                    0.4595215320587158,
                    0.4149848520755768,
                    0.40721890330314636,
                    0.39192408323287964,
                    0.32653000950813293
                  ],
                  "xaxis": "x3",
                  "y": [
                    0.48228418827056885,
                    0.5496222972869873,
                    0.23476295173168182,
                    0.27407434582710266,
                    0.4093136191368103,
                    0.3538004755973816,
                    0.403551310300827,
                    0.34449303150177,
                    0.44204646348953247,
                    0.5556594729423523,
                    0.36213141679763794,
                    0.33811259269714355,
                    0.5280570983886719,
                    0.5632699728012085,
                    0.2516469657421112,
                    0.17627473175525665,
                    0.2389523833990097,
                    0.2860071361064911,
                    0.44894129037857056,
                    0.3048672676086426,
                    0.6066957712173462,
                    0.3839541971683502,
                    0.5013799667358398,
                    0.412308931350708,
                    0.34345272183418274
                  ],
                  "yaxis": "y3"
                },
                {
                  "customdata": [
                    [
                      "I thought this movie was perfect. I loved it, even though the sequel was dreadful. \nConclusion: This movie is"
                    ],
                    [
                      "I thought this movie was fantastic. I loved it, even though the sequel was bad. \nConclusion: This movie is"
                    ],
                    [
                      "I thought this movie was delightful. I loved it, even though the sequel was dull. \nConclusion: This movie is"
                    ],
                    [
                      "I thought this movie was cheerful. I loved it, even though the sequel was depressing. \nConclusion: This movie is"
                    ],
                    [
                      "I thought this movie was marvelous. I loved it, even though the sequel was miserable. \nConclusion: This movie is"
                    ],
                    [
                      "I thought this movie was good. I loved it, even though the sequel was tragic. \nConclusion: This movie is"
                    ],
                    [
                      "I thought this movie was remarkable. I loved it, even though the sequel was nasty. \nConclusion: This movie is"
                    ],
                    [
                      "I thought this movie was wonderful. I loved it, even though the sequel was inferior. \nConclusion: This movie is"
                    ],
                    [
                      "I thought this movie was fabulous. I loved it, even though the sequel was horrific. \nConclusion: This movie is"
                    ],
                    [
                      "I thought this movie was outstanding. I loved it, even though the sequel was terrible. \nConclusion: This movie is"
                    ],
                    [
                      "I thought this movie was awesome. I loved it, even though the sequel was ugly. \nConclusion: This movie is"
                    ],
                    [
                      "I thought this movie was exceptional. I loved it, even though the sequel was disgusting. \nConclusion: This movie is"
                    ],
                    [
                      "I thought this movie was incredible. I loved it, even though the sequel was disastrous. \nConclusion: This movie is"
                    ],
                    [
                      "I thought this movie was extraordinary. I loved it, even though the sequel was horrendous. \nConclusion: This movie is"
                    ],
                    [
                      "I thought this movie was amazing. I loved it, even though the sequel was annoying. \nConclusion: This movie is"
                    ],
                    [
                      "I thought this movie was lovely. I loved it, even though the sequel was boring. \nConclusion: This movie is"
                    ],
                    [
                      "I thought this movie was brilliant. I loved it, even though the sequel was offensive. \nConclusion: This movie is"
                    ],
                    [
                      "I thought this movie was charming. I loved it, even though the sequel was frustrating. \nConclusion: This movie is"
                    ],
                    [
                      "I thought this movie was terrific. I loved it, even though the sequel was wretched. \nConclusion: This movie is"
                    ],
                    [
                      "I thought this movie was superb. I loved it, even though the sequel was dire. \nConclusion: This movie is"
                    ],
                    [
                      "I thought this movie was spectacular. I loved it, even though the sequel was awful. \nConclusion: This movie is"
                    ],
                    [
                      "I thought this movie was great. I loved it, even though the sequel was unpleasant. \nConclusion: This movie is"
                    ],
                    [
                      "I thought this movie was splendid. I loved it, even though the sequel was horrible. \nConclusion: This movie is"
                    ],
                    [
                      "I thought this movie was beautiful. I loved it, even though the sequel was mediocre. \nConclusion: This movie is"
                    ],
                    [
                      "I thought this movie was joyful. I loved it, even though the sequel was disappointing. \nConclusion: This movie is"
                    ]
                  ],
                  "hovertemplate": "Word Type=Positive Sentiment<br>Attn Prob on Word=%{x}<br>Dot w Sentiment Embed=%{y}<br>text=%{customdata[0]}<extra></extra>",
                  "legendgroup": "Positive Sentiment",
                  "marker": {
                    "color": "rgb(114,255,100)",
                    "symbol": "circle"
                  },
                  "mode": "markers",
                  "name": "Positive Sentiment",
                  "orientation": "v",
                  "showlegend": false,
                  "type": "scatter",
                  "x": [
                    0.256775826215744,
                    0.35241201519966125,
                    0.4626932740211487,
                    0.25227805972099304,
                    0.4651150703430176,
                    0.14880165457725525,
                    0.4814174771308899,
                    0.35620927810668945,
                    0.356896311044693,
                    0.38170912861824036,
                    0.3328576385974884,
                    0.41879650950431824,
                    0.3672897517681122,
                    0.41917678713798523,
                    0.3511704206466675,
                    0.30789288878440857,
                    0.2998318374156952,
                    0.3813750147819519,
                    0.32764747738838196,
                    0.4146852493286133,
                    0.4190916419029236,
                    0.21064387261867523,
                    0.3701958656311035,
                    0.2815459668636322,
                    0.32827234268188477
                  ],
                  "xaxis": "x4",
                  "y": [
                    0.45845404267311096,
                    0.691304624080658,
                    0.5635011792182922,
                    0.23492468893527985,
                    0.8077470064163208,
                    0.3310704529285431,
                    0.8665331602096558,
                    0.6355401277542114,
                    0.7883182168006897,
                    0.6694121956825256,
                    0.7193462252616882,
                    0.7554208636283875,
                    0.9083853960037231,
                    0.9201123714447021,
                    0.8321375846862793,
                    0.47731077671051025,
                    0.5973275303840637,
                    0.33944419026374817,
                    0.5639921426773071,
                    0.6574030518531799,
                    0.8407281041145325,
                    0.31567680835723877,
                    0.6208815574645996,
                    0.5720605850219727,
                    0.4404907822608948
                  ],
                  "yaxis": "y4"
                },
                {
                  "customdata": [
                    [
                      "I thought this movie was dreadful. I hated it, even though the sequel was perfect. \nConclusion: This movie is"
                    ],
                    [
                      "I thought this movie was bad. I hated it, even though the sequel was fantastic. \nConclusion: This movie is"
                    ],
                    [
                      "I thought this movie was dull. I hated it, even though the sequel was delightful. \nConclusion: This movie is"
                    ],
                    [
                      "I thought this movie was depressing. I hated it, even though the sequel was cheerful. \nConclusion: This movie is"
                    ],
                    [
                      "I thought this movie was miserable. I hated it, even though the sequel was marvelous. \nConclusion: This movie is"
                    ],
                    [
                      "I thought this movie was tragic. I hated it, even though the sequel was good. \nConclusion: This movie is"
                    ],
                    [
                      "I thought this movie was nasty. I hated it, even though the sequel was remarkable. \nConclusion: This movie is"
                    ],
                    [
                      "I thought this movie was inferior. I hated it, even though the sequel was wonderful. \nConclusion: This movie is"
                    ],
                    [
                      "I thought this movie was horrific. I hated it, even though the sequel was fabulous. \nConclusion: This movie is"
                    ],
                    [
                      "I thought this movie was terrible. I hated it, even though the sequel was outstanding. \nConclusion: This movie is"
                    ],
                    [
                      "I thought this movie was ugly. I hated it, even though the sequel was awesome. \nConclusion: This movie is"
                    ],
                    [
                      "I thought this movie was disgusting. I hated it, even though the sequel was exceptional. \nConclusion: This movie is"
                    ],
                    [
                      "I thought this movie was disastrous. I hated it, even though the sequel was incredible. \nConclusion: This movie is"
                    ],
                    [
                      "I thought this movie was horrendous. I hated it, even though the sequel was extraordinary. \nConclusion: This movie is"
                    ],
                    [
                      "I thought this movie was annoying. I hated it, even though the sequel was amazing. \nConclusion: This movie is"
                    ],
                    [
                      "I thought this movie was boring. I hated it, even though the sequel was lovely. \nConclusion: This movie is"
                    ],
                    [
                      "I thought this movie was offensive. I hated it, even though the sequel was brilliant. \nConclusion: This movie is"
                    ],
                    [
                      "I thought this movie was frustrating. I hated it, even though the sequel was charming. \nConclusion: This movie is"
                    ],
                    [
                      "I thought this movie was wretched. I hated it, even though the sequel was terrific. \nConclusion: This movie is"
                    ],
                    [
                      "I thought this movie was dire. I hated it, even though the sequel was superb. \nConclusion: This movie is"
                    ],
                    [
                      "I thought this movie was awful. I hated it, even though the sequel was spectacular. \nConclusion: This movie is"
                    ],
                    [
                      "I thought this movie was unpleasant. I hated it, even though the sequel was great. \nConclusion: This movie is"
                    ],
                    [
                      "I thought this movie was horrible. I hated it, even though the sequel was splendid. \nConclusion: This movie is"
                    ],
                    [
                      "I thought this movie was mediocre. I hated it, even though the sequel was beautiful. \nConclusion: This movie is"
                    ],
                    [
                      "I thought this movie was disappointing. I hated it, even though the sequel was joyful. \nConclusion: This movie is"
                    ]
                  ],
                  "hovertemplate": "Word Type=Negative Sentiment<br>Attn Prob on Word=%{x}<br>Dot w Sentiment Embed=%{y}<br>text=%{customdata[0]}<extra></extra>",
                  "legendgroup": "Negative Sentiment",
                  "marker": {
                    "color": "rgb(201,165,247)",
                    "symbol": "circle"
                  },
                  "mode": "markers",
                  "name": "Negative Sentiment",
                  "orientation": "v",
                  "showlegend": false,
                  "type": "scatter",
                  "x": [
                    0.459281861782074,
                    0.24300220608711243,
                    0.14337429404258728,
                    0.33049318194389343,
                    0.33059507608413696,
                    0.37903279066085815,
                    0.25213220715522766,
                    0.1942708045244217,
                    0.375872939825058,
                    0.3661714792251587,
                    0.21954074501991272,
                    0.3084885776042938,
                    0.4075327217578888,
                    0.3982543349266052,
                    0.2844659984111786,
                    0.2707816958427429,
                    0.22489264607429504,
                    0.2716822326183319,
                    0.3942236006259918,
                    0.1986309438943863,
                    0.3819356858730316,
                    0.4141637980937958,
                    0.3844945728778839,
                    0.3143998384475708,
                    0.2776416838169098
                  ],
                  "xaxis": "x4",
                  "y": [
                    1.13036048412323,
                    0.7821447849273682,
                    0.420404314994812,
                    0.6741140484809875,
                    0.7870877981185913,
                    1.027794599533081,
                    0.6360181570053101,
                    0.5099844932556152,
                    1.022348165512085,
                    0.9635641574859619,
                    0.5734777450561523,
                    0.7101121544837952,
                    1.0523324012756348,
                    1.0145652294158936,
                    0.5368169546127319,
                    0.4629839062690735,
                    0.5057573914527893,
                    0.4265965223312378,
                    1.1175265312194824,
                    0.9075055718421936,
                    1.0189157724380493,
                    0.5791788697242737,
                    0.9605295062065125,
                    0.6095023155212402,
                    0.548653244972229
                  ],
                  "yaxis": "y4"
                }
              ],
              "layout": {
                "annotations": [
                  {
                    "font": {
                      "size": 16
                    },
                    "showarrow": false,
                    "text": "Head 7.1",
                    "x": 0.225,
                    "xanchor": "center",
                    "xref": "paper",
                    "y": 1,
                    "yanchor": "bottom",
                    "yref": "paper"
                  },
                  {
                    "font": {
                      "size": 16
                    },
                    "showarrow": false,
                    "text": "Head 9.2",
                    "x": 0.775,
                    "xanchor": "center",
                    "xref": "paper",
                    "y": 1,
                    "yanchor": "bottom",
                    "yref": "paper"
                  },
                  {
                    "font": {
                      "size": 16
                    },
                    "showarrow": false,
                    "text": "Head 10.1",
                    "x": 0.225,
                    "xanchor": "center",
                    "xref": "paper",
                    "y": 0.375,
                    "yanchor": "bottom",
                    "yref": "paper"
                  },
                  {
                    "font": {
                      "size": 16
                    },
                    "showarrow": false,
                    "text": "Head 10.4",
                    "x": 0.775,
                    "xanchor": "center",
                    "xref": "paper",
                    "y": 0.375,
                    "yanchor": "bottom",
                    "yref": "paper"
                  }
                ],
                "height": 600,
                "template": {
                  "data": {
                    "bar": [
                      {
                        "error_x": {
                          "color": "#2a3f5f"
                        },
                        "error_y": {
                          "color": "#2a3f5f"
                        },
                        "marker": {
                          "line": {
                            "color": "#E5ECF6",
                            "width": 0.5
                          },
                          "pattern": {
                            "fillmode": "overlay",
                            "size": 10,
                            "solidity": 0.2
                          }
                        },
                        "type": "bar"
                      }
                    ],
                    "barpolar": [
                      {
                        "marker": {
                          "line": {
                            "color": "#E5ECF6",
                            "width": 0.5
                          },
                          "pattern": {
                            "fillmode": "overlay",
                            "size": 10,
                            "solidity": 0.2
                          }
                        },
                        "type": "barpolar"
                      }
                    ],
                    "carpet": [
                      {
                        "aaxis": {
                          "endlinecolor": "#2a3f5f",
                          "gridcolor": "white",
                          "linecolor": "white",
                          "minorgridcolor": "white",
                          "startlinecolor": "#2a3f5f"
                        },
                        "baxis": {
                          "endlinecolor": "#2a3f5f",
                          "gridcolor": "white",
                          "linecolor": "white",
                          "minorgridcolor": "white",
                          "startlinecolor": "#2a3f5f"
                        },
                        "type": "carpet"
                      }
                    ],
                    "choropleth": [
                      {
                        "colorbar": {
                          "outlinewidth": 0,
                          "ticks": ""
                        },
                        "type": "choropleth"
                      }
                    ],
                    "contour": [
                      {
                        "colorbar": {
                          "outlinewidth": 0,
                          "ticks": ""
                        },
                        "colorscale": [
                          [
                            0,
                            "#0d0887"
                          ],
                          [
                            0.1111111111111111,
                            "#46039f"
                          ],
                          [
                            0.2222222222222222,
                            "#7201a8"
                          ],
                          [
                            0.3333333333333333,
                            "#9c179e"
                          ],
                          [
                            0.4444444444444444,
                            "#bd3786"
                          ],
                          [
                            0.5555555555555556,
                            "#d8576b"
                          ],
                          [
                            0.6666666666666666,
                            "#ed7953"
                          ],
                          [
                            0.7777777777777778,
                            "#fb9f3a"
                          ],
                          [
                            0.8888888888888888,
                            "#fdca26"
                          ],
                          [
                            1,
                            "#f0f921"
                          ]
                        ],
                        "type": "contour"
                      }
                    ],
                    "contourcarpet": [
                      {
                        "colorbar": {
                          "outlinewidth": 0,
                          "ticks": ""
                        },
                        "type": "contourcarpet"
                      }
                    ],
                    "heatmap": [
                      {
                        "colorbar": {
                          "outlinewidth": 0,
                          "ticks": ""
                        },
                        "colorscale": [
                          [
                            0,
                            "#0d0887"
                          ],
                          [
                            0.1111111111111111,
                            "#46039f"
                          ],
                          [
                            0.2222222222222222,
                            "#7201a8"
                          ],
                          [
                            0.3333333333333333,
                            "#9c179e"
                          ],
                          [
                            0.4444444444444444,
                            "#bd3786"
                          ],
                          [
                            0.5555555555555556,
                            "#d8576b"
                          ],
                          [
                            0.6666666666666666,
                            "#ed7953"
                          ],
                          [
                            0.7777777777777778,
                            "#fb9f3a"
                          ],
                          [
                            0.8888888888888888,
                            "#fdca26"
                          ],
                          [
                            1,
                            "#f0f921"
                          ]
                        ],
                        "type": "heatmap"
                      }
                    ],
                    "heatmapgl": [
                      {
                        "colorbar": {
                          "outlinewidth": 0,
                          "ticks": ""
                        },
                        "colorscale": [
                          [
                            0,
                            "#0d0887"
                          ],
                          [
                            0.1111111111111111,
                            "#46039f"
                          ],
                          [
                            0.2222222222222222,
                            "#7201a8"
                          ],
                          [
                            0.3333333333333333,
                            "#9c179e"
                          ],
                          [
                            0.4444444444444444,
                            "#bd3786"
                          ],
                          [
                            0.5555555555555556,
                            "#d8576b"
                          ],
                          [
                            0.6666666666666666,
                            "#ed7953"
                          ],
                          [
                            0.7777777777777778,
                            "#fb9f3a"
                          ],
                          [
                            0.8888888888888888,
                            "#fdca26"
                          ],
                          [
                            1,
                            "#f0f921"
                          ]
                        ],
                        "type": "heatmapgl"
                      }
                    ],
                    "histogram": [
                      {
                        "marker": {
                          "pattern": {
                            "fillmode": "overlay",
                            "size": 10,
                            "solidity": 0.2
                          }
                        },
                        "type": "histogram"
                      }
                    ],
                    "histogram2d": [
                      {
                        "colorbar": {
                          "outlinewidth": 0,
                          "ticks": ""
                        },
                        "colorscale": [
                          [
                            0,
                            "#0d0887"
                          ],
                          [
                            0.1111111111111111,
                            "#46039f"
                          ],
                          [
                            0.2222222222222222,
                            "#7201a8"
                          ],
                          [
                            0.3333333333333333,
                            "#9c179e"
                          ],
                          [
                            0.4444444444444444,
                            "#bd3786"
                          ],
                          [
                            0.5555555555555556,
                            "#d8576b"
                          ],
                          [
                            0.6666666666666666,
                            "#ed7953"
                          ],
                          [
                            0.7777777777777778,
                            "#fb9f3a"
                          ],
                          [
                            0.8888888888888888,
                            "#fdca26"
                          ],
                          [
                            1,
                            "#f0f921"
                          ]
                        ],
                        "type": "histogram2d"
                      }
                    ],
                    "histogram2dcontour": [
                      {
                        "colorbar": {
                          "outlinewidth": 0,
                          "ticks": ""
                        },
                        "colorscale": [
                          [
                            0,
                            "#0d0887"
                          ],
                          [
                            0.1111111111111111,
                            "#46039f"
                          ],
                          [
                            0.2222222222222222,
                            "#7201a8"
                          ],
                          [
                            0.3333333333333333,
                            "#9c179e"
                          ],
                          [
                            0.4444444444444444,
                            "#bd3786"
                          ],
                          [
                            0.5555555555555556,
                            "#d8576b"
                          ],
                          [
                            0.6666666666666666,
                            "#ed7953"
                          ],
                          [
                            0.7777777777777778,
                            "#fb9f3a"
                          ],
                          [
                            0.8888888888888888,
                            "#fdca26"
                          ],
                          [
                            1,
                            "#f0f921"
                          ]
                        ],
                        "type": "histogram2dcontour"
                      }
                    ],
                    "mesh3d": [
                      {
                        "colorbar": {
                          "outlinewidth": 0,
                          "ticks": ""
                        },
                        "type": "mesh3d"
                      }
                    ],
                    "parcoords": [
                      {
                        "line": {
                          "colorbar": {
                            "outlinewidth": 0,
                            "ticks": ""
                          }
                        },
                        "type": "parcoords"
                      }
                    ],
                    "pie": [
                      {
                        "automargin": true,
                        "type": "pie"
                      }
                    ],
                    "scatter": [
                      {
                        "fillpattern": {
                          "fillmode": "overlay",
                          "size": 10,
                          "solidity": 0.2
                        },
                        "type": "scatter"
                      }
                    ],
                    "scatter3d": [
                      {
                        "line": {
                          "colorbar": {
                            "outlinewidth": 0,
                            "ticks": ""
                          }
                        },
                        "marker": {
                          "colorbar": {
                            "outlinewidth": 0,
                            "ticks": ""
                          }
                        },
                        "type": "scatter3d"
                      }
                    ],
                    "scattercarpet": [
                      {
                        "marker": {
                          "colorbar": {
                            "outlinewidth": 0,
                            "ticks": ""
                          }
                        },
                        "type": "scattercarpet"
                      }
                    ],
                    "scattergeo": [
                      {
                        "marker": {
                          "colorbar": {
                            "outlinewidth": 0,
                            "ticks": ""
                          }
                        },
                        "type": "scattergeo"
                      }
                    ],
                    "scattergl": [
                      {
                        "marker": {
                          "colorbar": {
                            "outlinewidth": 0,
                            "ticks": ""
                          }
                        },
                        "type": "scattergl"
                      }
                    ],
                    "scattermapbox": [
                      {
                        "marker": {
                          "colorbar": {
                            "outlinewidth": 0,
                            "ticks": ""
                          }
                        },
                        "type": "scattermapbox"
                      }
                    ],
                    "scatterpolar": [
                      {
                        "marker": {
                          "colorbar": {
                            "outlinewidth": 0,
                            "ticks": ""
                          }
                        },
                        "type": "scatterpolar"
                      }
                    ],
                    "scatterpolargl": [
                      {
                        "marker": {
                          "colorbar": {
                            "outlinewidth": 0,
                            "ticks": ""
                          }
                        },
                        "type": "scatterpolargl"
                      }
                    ],
                    "scatterternary": [
                      {
                        "marker": {
                          "colorbar": {
                            "outlinewidth": 0,
                            "ticks": ""
                          }
                        },
                        "type": "scatterternary"
                      }
                    ],
                    "surface": [
                      {
                        "colorbar": {
                          "outlinewidth": 0,
                          "ticks": ""
                        },
                        "colorscale": [
                          [
                            0,
                            "#0d0887"
                          ],
                          [
                            0.1111111111111111,
                            "#46039f"
                          ],
                          [
                            0.2222222222222222,
                            "#7201a8"
                          ],
                          [
                            0.3333333333333333,
                            "#9c179e"
                          ],
                          [
                            0.4444444444444444,
                            "#bd3786"
                          ],
                          [
                            0.5555555555555556,
                            "#d8576b"
                          ],
                          [
                            0.6666666666666666,
                            "#ed7953"
                          ],
                          [
                            0.7777777777777778,
                            "#fb9f3a"
                          ],
                          [
                            0.8888888888888888,
                            "#fdca26"
                          ],
                          [
                            1,
                            "#f0f921"
                          ]
                        ],
                        "type": "surface"
                      }
                    ],
                    "table": [
                      {
                        "cells": {
                          "fill": {
                            "color": "#EBF0F8"
                          },
                          "line": {
                            "color": "white"
                          }
                        },
                        "header": {
                          "fill": {
                            "color": "#C8D4E3"
                          },
                          "line": {
                            "color": "white"
                          }
                        },
                        "type": "table"
                      }
                    ]
                  },
                  "layout": {
                    "annotationdefaults": {
                      "arrowcolor": "#2a3f5f",
                      "arrowhead": 0,
                      "arrowwidth": 1
                    },
                    "autotypenumbers": "strict",
                    "coloraxis": {
                      "colorbar": {
                        "outlinewidth": 0,
                        "ticks": ""
                      }
                    },
                    "colorscale": {
                      "diverging": [
                        [
                          0,
                          "#8e0152"
                        ],
                        [
                          0.1,
                          "#c51b7d"
                        ],
                        [
                          0.2,
                          "#de77ae"
                        ],
                        [
                          0.3,
                          "#f1b6da"
                        ],
                        [
                          0.4,
                          "#fde0ef"
                        ],
                        [
                          0.5,
                          "#f7f7f7"
                        ],
                        [
                          0.6,
                          "#e6f5d0"
                        ],
                        [
                          0.7,
                          "#b8e186"
                        ],
                        [
                          0.8,
                          "#7fbc41"
                        ],
                        [
                          0.9,
                          "#4d9221"
                        ],
                        [
                          1,
                          "#276419"
                        ]
                      ],
                      "sequential": [
                        [
                          0,
                          "#0d0887"
                        ],
                        [
                          0.1111111111111111,
                          "#46039f"
                        ],
                        [
                          0.2222222222222222,
                          "#7201a8"
                        ],
                        [
                          0.3333333333333333,
                          "#9c179e"
                        ],
                        [
                          0.4444444444444444,
                          "#bd3786"
                        ],
                        [
                          0.5555555555555556,
                          "#d8576b"
                        ],
                        [
                          0.6666666666666666,
                          "#ed7953"
                        ],
                        [
                          0.7777777777777778,
                          "#fb9f3a"
                        ],
                        [
                          0.8888888888888888,
                          "#fdca26"
                        ],
                        [
                          1,
                          "#f0f921"
                        ]
                      ],
                      "sequentialminus": [
                        [
                          0,
                          "#0d0887"
                        ],
                        [
                          0.1111111111111111,
                          "#46039f"
                        ],
                        [
                          0.2222222222222222,
                          "#7201a8"
                        ],
                        [
                          0.3333333333333333,
                          "#9c179e"
                        ],
                        [
                          0.4444444444444444,
                          "#bd3786"
                        ],
                        [
                          0.5555555555555556,
                          "#d8576b"
                        ],
                        [
                          0.6666666666666666,
                          "#ed7953"
                        ],
                        [
                          0.7777777777777778,
                          "#fb9f3a"
                        ],
                        [
                          0.8888888888888888,
                          "#fdca26"
                        ],
                        [
                          1,
                          "#f0f921"
                        ]
                      ]
                    },
                    "colorway": [
                      "#636efa",
                      "#EF553B",
                      "#00cc96",
                      "#ab63fa",
                      "#FFA15A",
                      "#19d3f3",
                      "#FF6692",
                      "#B6E880",
                      "#FF97FF",
                      "#FECB52"
                    ],
                    "font": {
                      "color": "#2a3f5f"
                    },
                    "geo": {
                      "bgcolor": "white",
                      "lakecolor": "white",
                      "landcolor": "#E5ECF6",
                      "showlakes": true,
                      "showland": true,
                      "subunitcolor": "white"
                    },
                    "hoverlabel": {
                      "align": "left"
                    },
                    "hovermode": "closest",
                    "mapbox": {
                      "style": "light"
                    },
                    "paper_bgcolor": "white",
                    "plot_bgcolor": "#E5ECF6",
                    "polar": {
                      "angularaxis": {
                        "gridcolor": "white",
                        "linecolor": "white",
                        "ticks": ""
                      },
                      "bgcolor": "#E5ECF6",
                      "radialaxis": {
                        "gridcolor": "white",
                        "linecolor": "white",
                        "ticks": ""
                      }
                    },
                    "scene": {
                      "xaxis": {
                        "backgroundcolor": "#E5ECF6",
                        "gridcolor": "white",
                        "gridwidth": 2,
                        "linecolor": "white",
                        "showbackground": true,
                        "ticks": "",
                        "zerolinecolor": "white"
                      },
                      "yaxis": {
                        "backgroundcolor": "#E5ECF6",
                        "gridcolor": "white",
                        "gridwidth": 2,
                        "linecolor": "white",
                        "showbackground": true,
                        "ticks": "",
                        "zerolinecolor": "white"
                      },
                      "zaxis": {
                        "backgroundcolor": "#E5ECF6",
                        "gridcolor": "white",
                        "gridwidth": 2,
                        "linecolor": "white",
                        "showbackground": true,
                        "ticks": "",
                        "zerolinecolor": "white"
                      }
                    },
                    "shapedefaults": {
                      "line": {
                        "color": "#2a3f5f"
                      }
                    },
                    "ternary": {
                      "aaxis": {
                        "gridcolor": "white",
                        "linecolor": "white",
                        "ticks": ""
                      },
                      "baxis": {
                        "gridcolor": "white",
                        "linecolor": "white",
                        "ticks": ""
                      },
                      "bgcolor": "#E5ECF6",
                      "caxis": {
                        "gridcolor": "white",
                        "linecolor": "white",
                        "ticks": ""
                      }
                    },
                    "title": {
                      "x": 0.05
                    },
                    "xaxis": {
                      "automargin": true,
                      "gridcolor": "white",
                      "linecolor": "white",
                      "ticks": "",
                      "title": {
                        "standoff": 15
                      },
                      "zerolinecolor": "white",
                      "zerolinewidth": 2
                    },
                    "yaxis": {
                      "automargin": true,
                      "gridcolor": "white",
                      "linecolor": "white",
                      "ticks": "",
                      "title": {
                        "standoff": 15
                      },
                      "zerolinecolor": "white",
                      "zerolinewidth": 2
                    }
                  }
                },
                "title": {
                  "text": "Sentiment-Attender Heads"
                },
                "xaxis": {
                  "anchor": "y",
                  "domain": [
                    0,
                    0.45
                  ],
                  "title": {
                    "text": "Attn Prob on Word"
                  }
                },
                "xaxis2": {
                  "anchor": "y2",
                  "domain": [
                    0.55,
                    1
                  ],
                  "title": {
                    "text": "Attn Prob on Word"
                  }
                },
                "xaxis3": {
                  "anchor": "y3",
                  "domain": [
                    0,
                    0.45
                  ],
                  "title": {
                    "text": "Attn Prob on Word"
                  }
                },
                "xaxis4": {
                  "anchor": "y4",
                  "domain": [
                    0.55,
                    1
                  ],
                  "title": {
                    "text": "Attn Prob on Word"
                  }
                },
                "yaxis": {
                  "anchor": "x",
                  "domain": [
                    0.625,
                    1
                  ],
                  "title": {
                    "text": "Dot w Sentiment Embed"
                  }
                },
                "yaxis2": {
                  "anchor": "x2",
                  "domain": [
                    0.625,
                    1
                  ],
                  "title": {
                    "text": "Dot w Sentiment Embed"
                  }
                },
                "yaxis3": {
                  "anchor": "x3",
                  "domain": [
                    0,
                    0.375
                  ],
                  "title": {
                    "text": "Dot w Sentiment Embed"
                  }
                },
                "yaxis4": {
                  "anchor": "x4",
                  "domain": [
                    0,
                    0.375
                  ],
                  "title": {
                    "text": "Dot w Sentiment Embed"
                  }
                }
              }
            }
          },
          "metadata": {},
          "output_type": "display_data"
        }
      ],
      "source": [
        "from visualization_utils import scatter_attention_and_contribution_sentiment\n",
        "\n",
        "from plotly.subplots import make_subplots\n",
        "\n",
        "# Get the figures\n",
        "fig1 = scatter_attention_and_contribution_sentiment(model, (7, 1), all_prompts, [6 for _ in range(len(all_prompts))], answer_residual_directions, return_fig=True)\n",
        "fig2 = scatter_attention_and_contribution_sentiment(model, (9, 2), all_prompts, [6 for _ in range(len(all_prompts))], answer_residual_directions, return_fig=True)\n",
        "fig3 = scatter_attention_and_contribution_sentiment(model, (10, 1), all_prompts, [6 for _ in range(len(all_prompts))], answer_residual_directions, return_fig=True)\n",
        "fig4 = scatter_attention_and_contribution_sentiment(model, (10, 4), all_prompts, [6 for _ in range(len(all_prompts))], answer_residual_directions, return_fig=True)\n",
        "\n",
        "# Create subplot\n",
        "fig = make_subplots(rows=2, cols=2, subplot_titles=(\"Head 7.1\", \"Head 9.2\", \"Head 10.1\", \"Head 10.4\"))\n",
        "\n",
        "# Add each figure's data to the subplot\n",
        "for i, subplot_fig in enumerate([fig1, fig2, fig3, fig4], start=1):\n",
        "    row = (i-1)//2 + 1\n",
        "    col = (i-1)%2 + 1\n",
        "    for trace in subplot_fig['data']:\n",
        "        # Only show legend for the first subplot\n",
        "        trace.showlegend = (i == 1)\n",
        "        fig.add_trace(trace, row=row, col=col)\n",
        "\n",
        "# Update layout\n",
        "fig.update_layout(height=600, title_text=\"Sentiment-Attender Heads\")\n",
        "\n",
        "# Update axes labels\n",
        "for i in range(1, 3):\n",
        "    for j in range(1, 3):\n",
        "        fig.update_xaxes(title_text=\"Attn Prob on Word\", row=i, col=j)\n",
        "        fig.update_yaxes(title_text=\"Dot w Sentiment Embed\", row=i, col=j)\n",
        "\n",
        "fig.show()\n"
      ]
    },
    {
      "cell_type": "code",
      "execution_count": 24,
      "metadata": {},
      "outputs": [
        {
          "name": "stdout",
          "output_type": "stream",
          "text": [
            "Tried to stack head results when they weren't cached. Computing head results now\n"
          ]
        },
        {
          "data": {
            "application/vnd.plotly.v1+json": {
              "config": {
                "plotlyServerURL": "https://plot.ly"
              },
              "data": [
                {
                  "customdata": [
                    [
                      "I thought this movie was perfect. I loved it, even though the sequel was dreadful. \nConclusion: This movie is"
                    ],
                    [
                      "I thought this movie was fantastic. I loved it, even though the sequel was bad. \nConclusion: This movie is"
                    ],
                    [
                      "I thought this movie was delightful. I loved it, even though the sequel was dull. \nConclusion: This movie is"
                    ],
                    [
                      "I thought this movie was cheerful. I loved it, even though the sequel was depressing. \nConclusion: This movie is"
                    ],
                    [
                      "I thought this movie was marvelous. I loved it, even though the sequel was miserable. \nConclusion: This movie is"
                    ],
                    [
                      "I thought this movie was good. I loved it, even though the sequel was tragic. \nConclusion: This movie is"
                    ],
                    [
                      "I thought this movie was remarkable. I loved it, even though the sequel was nasty. \nConclusion: This movie is"
                    ],
                    [
                      "I thought this movie was wonderful. I loved it, even though the sequel was inferior. \nConclusion: This movie is"
                    ],
                    [
                      "I thought this movie was fabulous. I loved it, even though the sequel was horrific. \nConclusion: This movie is"
                    ],
                    [
                      "I thought this movie was outstanding. I loved it, even though the sequel was terrible. \nConclusion: This movie is"
                    ],
                    [
                      "I thought this movie was awesome. I loved it, even though the sequel was ugly. \nConclusion: This movie is"
                    ],
                    [
                      "I thought this movie was exceptional. I loved it, even though the sequel was disgusting. \nConclusion: This movie is"
                    ],
                    [
                      "I thought this movie was incredible. I loved it, even though the sequel was disastrous. \nConclusion: This movie is"
                    ],
                    [
                      "I thought this movie was extraordinary. I loved it, even though the sequel was horrendous. \nConclusion: This movie is"
                    ],
                    [
                      "I thought this movie was amazing. I loved it, even though the sequel was annoying. \nConclusion: This movie is"
                    ],
                    [
                      "I thought this movie was lovely. I loved it, even though the sequel was boring. \nConclusion: This movie is"
                    ],
                    [
                      "I thought this movie was brilliant. I loved it, even though the sequel was offensive. \nConclusion: This movie is"
                    ],
                    [
                      "I thought this movie was charming. I loved it, even though the sequel was frustrating. \nConclusion: This movie is"
                    ],
                    [
                      "I thought this movie was terrific. I loved it, even though the sequel was wretched. \nConclusion: This movie is"
                    ],
                    [
                      "I thought this movie was superb. I loved it, even though the sequel was dire. \nConclusion: This movie is"
                    ],
                    [
                      "I thought this movie was spectacular. I loved it, even though the sequel was awful. \nConclusion: This movie is"
                    ],
                    [
                      "I thought this movie was great. I loved it, even though the sequel was unpleasant. \nConclusion: This movie is"
                    ],
                    [
                      "I thought this movie was splendid. I loved it, even though the sequel was horrible. \nConclusion: This movie is"
                    ],
                    [
                      "I thought this movie was beautiful. I loved it, even though the sequel was mediocre. \nConclusion: This movie is"
                    ],
                    [
                      "I thought this movie was joyful. I loved it, even though the sequel was disappointing. \nConclusion: This movie is"
                    ]
                  ],
                  "hovertemplate": "Word Type=Positive Sentiment<br>Attn Prob on Word=%{x}<br>Dot w Sentiment Embed=%{y}<br>text=%{customdata[0]}<extra></extra>",
                  "legendgroup": "Positive Sentiment",
                  "marker": {
                    "color": "rgb(114,255,100)",
                    "symbol": "circle"
                  },
                  "mode": "markers",
                  "name": "Positive Sentiment",
                  "orientation": "v",
                  "showlegend": true,
                  "type": "scatter",
                  "x": [
                    0.000921220809686929,
                    0.001155921141617,
                    0.0014298593159765005,
                    0.0014622254529967904,
                    0.001305058947764337,
                    0.0006497862632386386,
                    0.0016917034517973661,
                    0.0012705426197499037,
                    0.0013206792064011097,
                    0.0012252551969140768,
                    0.0010253163054585457,
                    0.0014855738263577223,
                    0.0013884297804906964,
                    0.0017844118410721421,
                    0.001174670411273837,
                    0.001436960999853909,
                    0.0012561021139845252,
                    0.001287899212911725,
                    0.0012689817231148481,
                    0.0012070053489878774,
                    0.001143412315286696,
                    0.0010320752626284957,
                    0.00123395468108356,
                    0.001217115088365972,
                    0.0012728811707347631
                  ],
                  "xaxis": "x",
                  "y": [
                    0.28271305561065674,
                    0.29431211948394775,
                    0.29052868485450745,
                    0.2725774049758911,
                    0.28983697295188904,
                    0.2751748561859131,
                    0.3132703900337219,
                    0.2834012806415558,
                    0.3030776381492615,
                    0.3070506751537323,
                    0.29737406969070435,
                    0.3011356592178345,
                    0.3021578788757324,
                    0.3112432062625885,
                    0.3032141327857971,
                    0.27924588322639465,
                    0.2927761971950531,
                    0.2873736023902893,
                    0.2840109169483185,
                    0.29781681299209595,
                    0.2991233170032501,
                    0.2859983742237091,
                    0.2848932147026062,
                    0.2770703136920929,
                    0.27706170082092285
                  ],
                  "yaxis": "y"
                },
                {
                  "customdata": [
                    [
                      "I thought this movie was dreadful. I hated it, even though the sequel was perfect. \nConclusion: This movie is"
                    ],
                    [
                      "I thought this movie was bad. I hated it, even though the sequel was fantastic. \nConclusion: This movie is"
                    ],
                    [
                      "I thought this movie was dull. I hated it, even though the sequel was delightful. \nConclusion: This movie is"
                    ],
                    [
                      "I thought this movie was depressing. I hated it, even though the sequel was cheerful. \nConclusion: This movie is"
                    ],
                    [
                      "I thought this movie was miserable. I hated it, even though the sequel was marvelous. \nConclusion: This movie is"
                    ],
                    [
                      "I thought this movie was tragic. I hated it, even though the sequel was good. \nConclusion: This movie is"
                    ],
                    [
                      "I thought this movie was nasty. I hated it, even though the sequel was remarkable. \nConclusion: This movie is"
                    ],
                    [
                      "I thought this movie was inferior. I hated it, even though the sequel was wonderful. \nConclusion: This movie is"
                    ],
                    [
                      "I thought this movie was horrific. I hated it, even though the sequel was fabulous. \nConclusion: This movie is"
                    ],
                    [
                      "I thought this movie was terrible. I hated it, even though the sequel was outstanding. \nConclusion: This movie is"
                    ],
                    [
                      "I thought this movie was ugly. I hated it, even though the sequel was awesome. \nConclusion: This movie is"
                    ],
                    [
                      "I thought this movie was disgusting. I hated it, even though the sequel was exceptional. \nConclusion: This movie is"
                    ],
                    [
                      "I thought this movie was disastrous. I hated it, even though the sequel was incredible. \nConclusion: This movie is"
                    ],
                    [
                      "I thought this movie was horrendous. I hated it, even though the sequel was extraordinary. \nConclusion: This movie is"
                    ],
                    [
                      "I thought this movie was annoying. I hated it, even though the sequel was amazing. \nConclusion: This movie is"
                    ],
                    [
                      "I thought this movie was boring. I hated it, even though the sequel was lovely. \nConclusion: This movie is"
                    ],
                    [
                      "I thought this movie was offensive. I hated it, even though the sequel was brilliant. \nConclusion: This movie is"
                    ],
                    [
                      "I thought this movie was frustrating. I hated it, even though the sequel was charming. \nConclusion: This movie is"
                    ],
                    [
                      "I thought this movie was wretched. I hated it, even though the sequel was terrific. \nConclusion: This movie is"
                    ],
                    [
                      "I thought this movie was dire. I hated it, even though the sequel was superb. \nConclusion: This movie is"
                    ],
                    [
                      "I thought this movie was awful. I hated it, even though the sequel was spectacular. \nConclusion: This movie is"
                    ],
                    [
                      "I thought this movie was unpleasant. I hated it, even though the sequel was great. \nConclusion: This movie is"
                    ],
                    [
                      "I thought this movie was horrible. I hated it, even though the sequel was splendid. \nConclusion: This movie is"
                    ],
                    [
                      "I thought this movie was mediocre. I hated it, even though the sequel was beautiful. \nConclusion: This movie is"
                    ],
                    [
                      "I thought this movie was disappointing. I hated it, even though the sequel was joyful. \nConclusion: This movie is"
                    ]
                  ],
                  "hovertemplate": "Word Type=Negative Sentiment<br>Attn Prob on Word=%{x}<br>Dot w Sentiment Embed=%{y}<br>text=%{customdata[0]}<extra></extra>",
                  "legendgroup": "Negative Sentiment",
                  "marker": {
                    "color": "rgb(201,165,247)",
                    "symbol": "circle"
                  },
                  "mode": "markers",
                  "name": "Negative Sentiment",
                  "orientation": "v",
                  "showlegend": true,
                  "type": "scatter",
                  "x": [
                    0.001355368411168456,
                    0.000911719398573041,
                    0.0008929363684728742,
                    0.001129012554883957,
                    0.0008976160315796733,
                    0.0015555695863440633,
                    0.00116481923032552,
                    0.0016525082755833864,
                    0.0017761735944077373,
                    0.0010897376341745257,
                    0.0011995146051049232,
                    0.0022016060538589954,
                    0.0012499963631853461,
                    0.0015387096209451556,
                    0.001224439824000001,
                    0.0009032048983499408,
                    0.0025955389719456434,
                    0.0009444084134884179,
                    0.0011063871206715703,
                    0.0005694425781257451,
                    0.0011919307289645076,
                    0.0013293640222400427,
                    0.001328376354649663,
                    0.0010325700277462602,
                    0.0010116255143657327
                  ],
                  "xaxis": "x",
                  "y": [
                    0.2558099627494812,
                    0.24853388965129852,
                    0.23132824897766113,
                    0.2530532479286194,
                    0.24277861416339874,
                    0.2635143995285034,
                    0.24160714447498322,
                    0.2231387197971344,
                    0.24522751569747925,
                    0.24617937207221985,
                    0.23029403388500214,
                    0.2751477360725403,
                    0.27937600016593933,
                    0.25909626483917236,
                    0.26526379585266113,
                    0.2268652319908142,
                    0.26401329040527344,
                    0.259205162525177,
                    0.23543643951416016,
                    0.21614183485507965,
                    0.2473544478416443,
                    0.2448033094406128,
                    0.24888652563095093,
                    0.23856666684150696,
                    0.2728939652442932
                  ],
                  "yaxis": "y"
                }
              ],
              "layout": {
                "legend": {
                  "title": {
                    "text": "Word Type"
                  },
                  "tracegroupgap": 0
                },
                "template": {
                  "data": {
                    "bar": [
                      {
                        "error_x": {
                          "color": "#2a3f5f"
                        },
                        "error_y": {
                          "color": "#2a3f5f"
                        },
                        "marker": {
                          "line": {
                            "color": "#E5ECF6",
                            "width": 0.5
                          },
                          "pattern": {
                            "fillmode": "overlay",
                            "size": 10,
                            "solidity": 0.2
                          }
                        },
                        "type": "bar"
                      }
                    ],
                    "barpolar": [
                      {
                        "marker": {
                          "line": {
                            "color": "#E5ECF6",
                            "width": 0.5
                          },
                          "pattern": {
                            "fillmode": "overlay",
                            "size": 10,
                            "solidity": 0.2
                          }
                        },
                        "type": "barpolar"
                      }
                    ],
                    "carpet": [
                      {
                        "aaxis": {
                          "endlinecolor": "#2a3f5f",
                          "gridcolor": "white",
                          "linecolor": "white",
                          "minorgridcolor": "white",
                          "startlinecolor": "#2a3f5f"
                        },
                        "baxis": {
                          "endlinecolor": "#2a3f5f",
                          "gridcolor": "white",
                          "linecolor": "white",
                          "minorgridcolor": "white",
                          "startlinecolor": "#2a3f5f"
                        },
                        "type": "carpet"
                      }
                    ],
                    "choropleth": [
                      {
                        "colorbar": {
                          "outlinewidth": 0,
                          "ticks": ""
                        },
                        "type": "choropleth"
                      }
                    ],
                    "contour": [
                      {
                        "colorbar": {
                          "outlinewidth": 0,
                          "ticks": ""
                        },
                        "colorscale": [
                          [
                            0,
                            "#0d0887"
                          ],
                          [
                            0.1111111111111111,
                            "#46039f"
                          ],
                          [
                            0.2222222222222222,
                            "#7201a8"
                          ],
                          [
                            0.3333333333333333,
                            "#9c179e"
                          ],
                          [
                            0.4444444444444444,
                            "#bd3786"
                          ],
                          [
                            0.5555555555555556,
                            "#d8576b"
                          ],
                          [
                            0.6666666666666666,
                            "#ed7953"
                          ],
                          [
                            0.7777777777777778,
                            "#fb9f3a"
                          ],
                          [
                            0.8888888888888888,
                            "#fdca26"
                          ],
                          [
                            1,
                            "#f0f921"
                          ]
                        ],
                        "type": "contour"
                      }
                    ],
                    "contourcarpet": [
                      {
                        "colorbar": {
                          "outlinewidth": 0,
                          "ticks": ""
                        },
                        "type": "contourcarpet"
                      }
                    ],
                    "heatmap": [
                      {
                        "colorbar": {
                          "outlinewidth": 0,
                          "ticks": ""
                        },
                        "colorscale": [
                          [
                            0,
                            "#0d0887"
                          ],
                          [
                            0.1111111111111111,
                            "#46039f"
                          ],
                          [
                            0.2222222222222222,
                            "#7201a8"
                          ],
                          [
                            0.3333333333333333,
                            "#9c179e"
                          ],
                          [
                            0.4444444444444444,
                            "#bd3786"
                          ],
                          [
                            0.5555555555555556,
                            "#d8576b"
                          ],
                          [
                            0.6666666666666666,
                            "#ed7953"
                          ],
                          [
                            0.7777777777777778,
                            "#fb9f3a"
                          ],
                          [
                            0.8888888888888888,
                            "#fdca26"
                          ],
                          [
                            1,
                            "#f0f921"
                          ]
                        ],
                        "type": "heatmap"
                      }
                    ],
                    "heatmapgl": [
                      {
                        "colorbar": {
                          "outlinewidth": 0,
                          "ticks": ""
                        },
                        "colorscale": [
                          [
                            0,
                            "#0d0887"
                          ],
                          [
                            0.1111111111111111,
                            "#46039f"
                          ],
                          [
                            0.2222222222222222,
                            "#7201a8"
                          ],
                          [
                            0.3333333333333333,
                            "#9c179e"
                          ],
                          [
                            0.4444444444444444,
                            "#bd3786"
                          ],
                          [
                            0.5555555555555556,
                            "#d8576b"
                          ],
                          [
                            0.6666666666666666,
                            "#ed7953"
                          ],
                          [
                            0.7777777777777778,
                            "#fb9f3a"
                          ],
                          [
                            0.8888888888888888,
                            "#fdca26"
                          ],
                          [
                            1,
                            "#f0f921"
                          ]
                        ],
                        "type": "heatmapgl"
                      }
                    ],
                    "histogram": [
                      {
                        "marker": {
                          "pattern": {
                            "fillmode": "overlay",
                            "size": 10,
                            "solidity": 0.2
                          }
                        },
                        "type": "histogram"
                      }
                    ],
                    "histogram2d": [
                      {
                        "colorbar": {
                          "outlinewidth": 0,
                          "ticks": ""
                        },
                        "colorscale": [
                          [
                            0,
                            "#0d0887"
                          ],
                          [
                            0.1111111111111111,
                            "#46039f"
                          ],
                          [
                            0.2222222222222222,
                            "#7201a8"
                          ],
                          [
                            0.3333333333333333,
                            "#9c179e"
                          ],
                          [
                            0.4444444444444444,
                            "#bd3786"
                          ],
                          [
                            0.5555555555555556,
                            "#d8576b"
                          ],
                          [
                            0.6666666666666666,
                            "#ed7953"
                          ],
                          [
                            0.7777777777777778,
                            "#fb9f3a"
                          ],
                          [
                            0.8888888888888888,
                            "#fdca26"
                          ],
                          [
                            1,
                            "#f0f921"
                          ]
                        ],
                        "type": "histogram2d"
                      }
                    ],
                    "histogram2dcontour": [
                      {
                        "colorbar": {
                          "outlinewidth": 0,
                          "ticks": ""
                        },
                        "colorscale": [
                          [
                            0,
                            "#0d0887"
                          ],
                          [
                            0.1111111111111111,
                            "#46039f"
                          ],
                          [
                            0.2222222222222222,
                            "#7201a8"
                          ],
                          [
                            0.3333333333333333,
                            "#9c179e"
                          ],
                          [
                            0.4444444444444444,
                            "#bd3786"
                          ],
                          [
                            0.5555555555555556,
                            "#d8576b"
                          ],
                          [
                            0.6666666666666666,
                            "#ed7953"
                          ],
                          [
                            0.7777777777777778,
                            "#fb9f3a"
                          ],
                          [
                            0.8888888888888888,
                            "#fdca26"
                          ],
                          [
                            1,
                            "#f0f921"
                          ]
                        ],
                        "type": "histogram2dcontour"
                      }
                    ],
                    "mesh3d": [
                      {
                        "colorbar": {
                          "outlinewidth": 0,
                          "ticks": ""
                        },
                        "type": "mesh3d"
                      }
                    ],
                    "parcoords": [
                      {
                        "line": {
                          "colorbar": {
                            "outlinewidth": 0,
                            "ticks": ""
                          }
                        },
                        "type": "parcoords"
                      }
                    ],
                    "pie": [
                      {
                        "automargin": true,
                        "type": "pie"
                      }
                    ],
                    "scatter": [
                      {
                        "fillpattern": {
                          "fillmode": "overlay",
                          "size": 10,
                          "solidity": 0.2
                        },
                        "type": "scatter"
                      }
                    ],
                    "scatter3d": [
                      {
                        "line": {
                          "colorbar": {
                            "outlinewidth": 0,
                            "ticks": ""
                          }
                        },
                        "marker": {
                          "colorbar": {
                            "outlinewidth": 0,
                            "ticks": ""
                          }
                        },
                        "type": "scatter3d"
                      }
                    ],
                    "scattercarpet": [
                      {
                        "marker": {
                          "colorbar": {
                            "outlinewidth": 0,
                            "ticks": ""
                          }
                        },
                        "type": "scattercarpet"
                      }
                    ],
                    "scattergeo": [
                      {
                        "marker": {
                          "colorbar": {
                            "outlinewidth": 0,
                            "ticks": ""
                          }
                        },
                        "type": "scattergeo"
                      }
                    ],
                    "scattergl": [
                      {
                        "marker": {
                          "colorbar": {
                            "outlinewidth": 0,
                            "ticks": ""
                          }
                        },
                        "type": "scattergl"
                      }
                    ],
                    "scattermapbox": [
                      {
                        "marker": {
                          "colorbar": {
                            "outlinewidth": 0,
                            "ticks": ""
                          }
                        },
                        "type": "scattermapbox"
                      }
                    ],
                    "scatterpolar": [
                      {
                        "marker": {
                          "colorbar": {
                            "outlinewidth": 0,
                            "ticks": ""
                          }
                        },
                        "type": "scatterpolar"
                      }
                    ],
                    "scatterpolargl": [
                      {
                        "marker": {
                          "colorbar": {
                            "outlinewidth": 0,
                            "ticks": ""
                          }
                        },
                        "type": "scatterpolargl"
                      }
                    ],
                    "scatterternary": [
                      {
                        "marker": {
                          "colorbar": {
                            "outlinewidth": 0,
                            "ticks": ""
                          }
                        },
                        "type": "scatterternary"
                      }
                    ],
                    "surface": [
                      {
                        "colorbar": {
                          "outlinewidth": 0,
                          "ticks": ""
                        },
                        "colorscale": [
                          [
                            0,
                            "#0d0887"
                          ],
                          [
                            0.1111111111111111,
                            "#46039f"
                          ],
                          [
                            0.2222222222222222,
                            "#7201a8"
                          ],
                          [
                            0.3333333333333333,
                            "#9c179e"
                          ],
                          [
                            0.4444444444444444,
                            "#bd3786"
                          ],
                          [
                            0.5555555555555556,
                            "#d8576b"
                          ],
                          [
                            0.6666666666666666,
                            "#ed7953"
                          ],
                          [
                            0.7777777777777778,
                            "#fb9f3a"
                          ],
                          [
                            0.8888888888888888,
                            "#fdca26"
                          ],
                          [
                            1,
                            "#f0f921"
                          ]
                        ],
                        "type": "surface"
                      }
                    ],
                    "table": [
                      {
                        "cells": {
                          "fill": {
                            "color": "#EBF0F8"
                          },
                          "line": {
                            "color": "white"
                          }
                        },
                        "header": {
                          "fill": {
                            "color": "#C8D4E3"
                          },
                          "line": {
                            "color": "white"
                          }
                        },
                        "type": "table"
                      }
                    ]
                  },
                  "layout": {
                    "annotationdefaults": {
                      "arrowcolor": "#2a3f5f",
                      "arrowhead": 0,
                      "arrowwidth": 1
                    },
                    "autotypenumbers": "strict",
                    "coloraxis": {
                      "colorbar": {
                        "outlinewidth": 0,
                        "ticks": ""
                      }
                    },
                    "colorscale": {
                      "diverging": [
                        [
                          0,
                          "#8e0152"
                        ],
                        [
                          0.1,
                          "#c51b7d"
                        ],
                        [
                          0.2,
                          "#de77ae"
                        ],
                        [
                          0.3,
                          "#f1b6da"
                        ],
                        [
                          0.4,
                          "#fde0ef"
                        ],
                        [
                          0.5,
                          "#f7f7f7"
                        ],
                        [
                          0.6,
                          "#e6f5d0"
                        ],
                        [
                          0.7,
                          "#b8e186"
                        ],
                        [
                          0.8,
                          "#7fbc41"
                        ],
                        [
                          0.9,
                          "#4d9221"
                        ],
                        [
                          1,
                          "#276419"
                        ]
                      ],
                      "sequential": [
                        [
                          0,
                          "#0d0887"
                        ],
                        [
                          0.1111111111111111,
                          "#46039f"
                        ],
                        [
                          0.2222222222222222,
                          "#7201a8"
                        ],
                        [
                          0.3333333333333333,
                          "#9c179e"
                        ],
                        [
                          0.4444444444444444,
                          "#bd3786"
                        ],
                        [
                          0.5555555555555556,
                          "#d8576b"
                        ],
                        [
                          0.6666666666666666,
                          "#ed7953"
                        ],
                        [
                          0.7777777777777778,
                          "#fb9f3a"
                        ],
                        [
                          0.8888888888888888,
                          "#fdca26"
                        ],
                        [
                          1,
                          "#f0f921"
                        ]
                      ],
                      "sequentialminus": [
                        [
                          0,
                          "#0d0887"
                        ],
                        [
                          0.1111111111111111,
                          "#46039f"
                        ],
                        [
                          0.2222222222222222,
                          "#7201a8"
                        ],
                        [
                          0.3333333333333333,
                          "#9c179e"
                        ],
                        [
                          0.4444444444444444,
                          "#bd3786"
                        ],
                        [
                          0.5555555555555556,
                          "#d8576b"
                        ],
                        [
                          0.6666666666666666,
                          "#ed7953"
                        ],
                        [
                          0.7777777777777778,
                          "#fb9f3a"
                        ],
                        [
                          0.8888888888888888,
                          "#fdca26"
                        ],
                        [
                          1,
                          "#f0f921"
                        ]
                      ]
                    },
                    "colorway": [
                      "#636efa",
                      "#EF553B",
                      "#00cc96",
                      "#ab63fa",
                      "#FFA15A",
                      "#19d3f3",
                      "#FF6692",
                      "#B6E880",
                      "#FF97FF",
                      "#FECB52"
                    ],
                    "font": {
                      "color": "#2a3f5f"
                    },
                    "geo": {
                      "bgcolor": "white",
                      "lakecolor": "white",
                      "landcolor": "#E5ECF6",
                      "showlakes": true,
                      "showland": true,
                      "subunitcolor": "white"
                    },
                    "hoverlabel": {
                      "align": "left"
                    },
                    "hovermode": "closest",
                    "mapbox": {
                      "style": "light"
                    },
                    "paper_bgcolor": "white",
                    "plot_bgcolor": "#E5ECF6",
                    "polar": {
                      "angularaxis": {
                        "gridcolor": "white",
                        "linecolor": "white",
                        "ticks": ""
                      },
                      "bgcolor": "#E5ECF6",
                      "radialaxis": {
                        "gridcolor": "white",
                        "linecolor": "white",
                        "ticks": ""
                      }
                    },
                    "scene": {
                      "xaxis": {
                        "backgroundcolor": "#E5ECF6",
                        "gridcolor": "white",
                        "gridwidth": 2,
                        "linecolor": "white",
                        "showbackground": true,
                        "ticks": "",
                        "zerolinecolor": "white"
                      },
                      "yaxis": {
                        "backgroundcolor": "#E5ECF6",
                        "gridcolor": "white",
                        "gridwidth": 2,
                        "linecolor": "white",
                        "showbackground": true,
                        "ticks": "",
                        "zerolinecolor": "white"
                      },
                      "zaxis": {
                        "backgroundcolor": "#E5ECF6",
                        "gridcolor": "white",
                        "gridwidth": 2,
                        "linecolor": "white",
                        "showbackground": true,
                        "ticks": "",
                        "zerolinecolor": "white"
                      }
                    },
                    "shapedefaults": {
                      "line": {
                        "color": "#2a3f5f"
                      }
                    },
                    "ternary": {
                      "aaxis": {
                        "gridcolor": "white",
                        "linecolor": "white",
                        "ticks": ""
                      },
                      "baxis": {
                        "gridcolor": "white",
                        "linecolor": "white",
                        "ticks": ""
                      },
                      "bgcolor": "#E5ECF6",
                      "caxis": {
                        "gridcolor": "white",
                        "linecolor": "white",
                        "ticks": ""
                      }
                    },
                    "title": {
                      "x": 0.05
                    },
                    "xaxis": {
                      "automargin": true,
                      "gridcolor": "white",
                      "linecolor": "white",
                      "ticks": "",
                      "title": {
                        "standoff": 15
                      },
                      "zerolinecolor": "white",
                      "zerolinewidth": 2
                    },
                    "yaxis": {
                      "automargin": true,
                      "gridcolor": "white",
                      "linecolor": "white",
                      "ticks": "",
                      "title": {
                        "standoff": 15
                      },
                      "zerolinecolor": "white",
                      "zerolinewidth": 2
                    }
                  }
                },
                "title": {
                  "text": "How Strong 8.5 Writes in the Sentiment Embed Direction Relative to Attn Prob"
                },
                "xaxis": {
                  "anchor": "y",
                  "domain": [
                    0,
                    1
                  ],
                  "title": {
                    "text": "Attn Prob on Word"
                  }
                },
                "yaxis": {
                  "anchor": "x",
                  "domain": [
                    0,
                    1
                  ],
                  "title": {
                    "text": "Dot w Sentiment Embed"
                  }
                }
              }
            }
          },
          "metadata": {},
          "output_type": "display_data"
        }
      ],
      "source": [
        "scatter_attention_and_contribution_sentiment(model, (8, 5), all_prompts, [6 for _ in range(len(all_prompts))], answer_residual_directions, return_fig=True)"
      ]
    },
    {
      "attachments": {},
      "cell_type": "markdown",
      "metadata": {},
      "source": [
        "#### Heads Influencing Sentiment-Attenders"
      ]
    },
    {
      "cell_type": "code",
      "execution_count": 25,
      "metadata": {},
      "outputs": [
        {
          "data": {
            "application/vnd.jupyter.widget-view+json": {
              "model_id": "78f4ade5bfa94a5b880bf1d4277d598e",
              "version_major": 2,
              "version_minor": 0
            },
            "text/plain": [
              "  0%|          | 0/144 [00:00<?, ?it/s]"
            ]
          },
          "metadata": {},
          "output_type": "display_data"
        },
        {
          "name": "stdout",
          "output_type": "stream",
          "text": [
            "results['z'].shape = (layer=12, head=12)\n"
          ]
        }
      ],
      "source": [
        "SENTIMENT_ATTENDERS = [(10, 4), (10, 1), (9, 2), (7, 1)]\n",
        "model.set_use_split_qkv_input(True)\n",
        "results = path_patch(\n",
        "    model,\n",
        "    orig_input=clean_tokens,\n",
        "    new_input=corrupted_tokens,\n",
        "    sender_nodes=IterNode(\"z\"),\n",
        "    receiver_nodes=[Node(\"v\", layer, head=head) for layer, head in SENTIMENT_ATTENDERS],\n",
        "    patching_metric=logit_diff_noising,\n",
        "    direct_includes_mlps=False,\n",
        "    verbose=True,\n",
        ")"
      ]
    },
    {
      "cell_type": "code",
      "execution_count": 26,
      "metadata": {},
      "outputs": [
        {
          "data": {
            "application/vnd.plotly.v1+json": {
              "config": {
                "plotlyServerURL": "https://plot.ly"
              },
              "data": [
                {
                  "coloraxis": "coloraxis",
                  "hovertemplate": "Head: %{x}<br>Layer: %{y}<br>Logit diff variation: %{z}<extra></extra>",
                  "name": "0",
                  "type": "heatmap",
                  "xaxis": "x",
                  "yaxis": "y",
                  "z": [
                    [
                      -0.02567611262202263,
                      -1.0471078157424927,
                      -0.3134539723396301,
                      -0.8368666172027588,
                      -3.012434482574463,
                      -0.6278887391090393,
                      -0.9273543953895569,
                      -0.5265811085700989,
                      -0.030657276511192322,
                      0.09404132515192032,
                      -0.28072208166122437,
                      0.054315246641635895
                    ],
                    [
                      -0.4665451943874359,
                      -0.0946061983704567,
                      -0.007343367673456669,
                      0.006403621751815081,
                      0.014702140353620052,
                      0.3749123215675354,
                      -0.7603929042816162,
                      -0.5257492065429688,
                      0.23086418211460114,
                      0.15739455819129944,
                      -0.005299549084156752,
                      0.7481556534767151
                    ],
                    [
                      -0.13896425068378448,
                      -1.6136305332183838,
                      -0.14951199293136597,
                      -0.06215159595012665,
                      -0.35338032245635986,
                      0.12434427440166473,
                      0.1662425398826599,
                      0.44433534145355225,
                      -0.16111759841442108,
                      -0.5944995284080505,
                      0.03549978882074356,
                      0.13158494234085083
                    ],
                    [
                      -0.2395581156015396,
                      -0.0360492579638958,
                      -0.01092261727899313,
                      -0.016520008444786072,
                      0.13283279538154602,
                      -0.6092016696929932,
                      -0.018774371594190598,
                      -0.2792636752128601,
                      0.14817169308662415,
                      0.015395396389067173,
                      1.3039305210113525,
                      -4.503153324127197
                    ],
                    [
                      -0.28723353147506714,
                      -0.2041199505329132,
                      -0.09950520098209381,
                      -0.08708309382200241,
                      2.3451223373413086,
                      -0.18919698894023895,
                      0.06168942153453827,
                      0.727758526802063,
                      -0.7384346723556519,
                      -2.709620714187622,
                      0.12852434813976288,
                      -0.16656605899333954
                    ],
                    [
                      -0.07353124767541885,
                      -0.0063163237646222115,
                      -0.34019818902015686,
                      -0.299337238073349,
                      -0.49729490280151367,
                      -0.7964369654655457,
                      -0.07108688354492188,
                      -2.6308205127716064,
                      0.6122622489929199,
                      1.0218733549118042,
                      -1.9910129308700562,
                      4.764510631561279
                    ],
                    [
                      -0.26131606101989746,
                      -0.2575775980949402,
                      0.9414710998535156,
                      -1.5201387405395508,
                      -5.491642475128174,
                      2.2301859855651855,
                      2.432981014251709,
                      -5.103686809539795,
                      -0.07647372782230377,
                      -0.09424159675836563,
                      -0.18963348865509033,
                      -0.9730321168899536
                    ],
                    [
                      -0.0034714103676378727,
                      -1.9429935216903687,
                      -0.013500498607754707,
                      0.34703320264816284,
                      0.00028243722044862807,
                      -1.5625711679458618,
                      1.4496784210205078,
                      0.05030463635921478,
                      -0.64716637134552,
                      0.4720090925693512,
                      0.009274211712181568,
                      -0.0038514165207743645
                    ],
                    [
                      0.07561101019382477,
                      0.011189649812877178,
                      -0.9985285997390747,
                      0.03646007552742958,
                      0.20900866389274597,
                      -0.05938371270895004,
                      -0.06804683059453964,
                      -0.04034744203090668,
                      0.16180571913719177,
                      -0.47902894020080566,
                      1.0359797477722168,
                      -0.14156267046928406
                    ],
                    [
                      0.7067811489105225,
                      -0.017336510121822357,
                      -0.6226149201393127,
                      -0.4462970495223999,
                      0.0421961210668087,
                      0.3795185983181,
                      -0.07398828119039536,
                      0.6973323822021484,
                      -0.03526870533823967,
                      0.007230392657220364,
                      -0.0355665497481823,
                      0.00742553174495697
                    ]
                  ]
                }
              ],
              "layout": {
                "coloraxis": {
                  "cmid": 0,
                  "colorbar": {
                    "ticksuffix": "%",
                    "title": {
                      "text": "Logit diff variation"
                    }
                  },
                  "colorscale": [
                    [
                      0,
                      "rgb(103,0,31)"
                    ],
                    [
                      0.1,
                      "rgb(178,24,43)"
                    ],
                    [
                      0.2,
                      "rgb(214,96,77)"
                    ],
                    [
                      0.3,
                      "rgb(244,165,130)"
                    ],
                    [
                      0.4,
                      "rgb(253,219,199)"
                    ],
                    [
                      0.5,
                      "rgb(247,247,247)"
                    ],
                    [
                      0.6,
                      "rgb(209,229,240)"
                    ],
                    [
                      0.7,
                      "rgb(146,197,222)"
                    ],
                    [
                      0.8,
                      "rgb(67,147,195)"
                    ],
                    [
                      0.9,
                      "rgb(33,102,172)"
                    ],
                    [
                      1,
                      "rgb(5,48,97)"
                    ]
                  ]
                },
                "margin": {
                  "l": 100,
                  "r": 100
                },
                "template": {
                  "data": {
                    "bar": [
                      {
                        "error_x": {
                          "color": "#2a3f5f"
                        },
                        "error_y": {
                          "color": "#2a3f5f"
                        },
                        "marker": {
                          "line": {
                            "color": "#E5ECF6",
                            "width": 0.5
                          },
                          "pattern": {
                            "fillmode": "overlay",
                            "size": 10,
                            "solidity": 0.2
                          }
                        },
                        "type": "bar"
                      }
                    ],
                    "barpolar": [
                      {
                        "marker": {
                          "line": {
                            "color": "#E5ECF6",
                            "width": 0.5
                          },
                          "pattern": {
                            "fillmode": "overlay",
                            "size": 10,
                            "solidity": 0.2
                          }
                        },
                        "type": "barpolar"
                      }
                    ],
                    "carpet": [
                      {
                        "aaxis": {
                          "endlinecolor": "#2a3f5f",
                          "gridcolor": "white",
                          "linecolor": "white",
                          "minorgridcolor": "white",
                          "startlinecolor": "#2a3f5f"
                        },
                        "baxis": {
                          "endlinecolor": "#2a3f5f",
                          "gridcolor": "white",
                          "linecolor": "white",
                          "minorgridcolor": "white",
                          "startlinecolor": "#2a3f5f"
                        },
                        "type": "carpet"
                      }
                    ],
                    "choropleth": [
                      {
                        "colorbar": {
                          "outlinewidth": 0,
                          "ticks": ""
                        },
                        "type": "choropleth"
                      }
                    ],
                    "contour": [
                      {
                        "colorbar": {
                          "outlinewidth": 0,
                          "ticks": ""
                        },
                        "colorscale": [
                          [
                            0,
                            "#0d0887"
                          ],
                          [
                            0.1111111111111111,
                            "#46039f"
                          ],
                          [
                            0.2222222222222222,
                            "#7201a8"
                          ],
                          [
                            0.3333333333333333,
                            "#9c179e"
                          ],
                          [
                            0.4444444444444444,
                            "#bd3786"
                          ],
                          [
                            0.5555555555555556,
                            "#d8576b"
                          ],
                          [
                            0.6666666666666666,
                            "#ed7953"
                          ],
                          [
                            0.7777777777777778,
                            "#fb9f3a"
                          ],
                          [
                            0.8888888888888888,
                            "#fdca26"
                          ],
                          [
                            1,
                            "#f0f921"
                          ]
                        ],
                        "type": "contour"
                      }
                    ],
                    "contourcarpet": [
                      {
                        "colorbar": {
                          "outlinewidth": 0,
                          "ticks": ""
                        },
                        "type": "contourcarpet"
                      }
                    ],
                    "heatmap": [
                      {
                        "colorbar": {
                          "outlinewidth": 0,
                          "ticks": ""
                        },
                        "colorscale": [
                          [
                            0,
                            "#0d0887"
                          ],
                          [
                            0.1111111111111111,
                            "#46039f"
                          ],
                          [
                            0.2222222222222222,
                            "#7201a8"
                          ],
                          [
                            0.3333333333333333,
                            "#9c179e"
                          ],
                          [
                            0.4444444444444444,
                            "#bd3786"
                          ],
                          [
                            0.5555555555555556,
                            "#d8576b"
                          ],
                          [
                            0.6666666666666666,
                            "#ed7953"
                          ],
                          [
                            0.7777777777777778,
                            "#fb9f3a"
                          ],
                          [
                            0.8888888888888888,
                            "#fdca26"
                          ],
                          [
                            1,
                            "#f0f921"
                          ]
                        ],
                        "type": "heatmap"
                      }
                    ],
                    "heatmapgl": [
                      {
                        "colorbar": {
                          "outlinewidth": 0,
                          "ticks": ""
                        },
                        "colorscale": [
                          [
                            0,
                            "#0d0887"
                          ],
                          [
                            0.1111111111111111,
                            "#46039f"
                          ],
                          [
                            0.2222222222222222,
                            "#7201a8"
                          ],
                          [
                            0.3333333333333333,
                            "#9c179e"
                          ],
                          [
                            0.4444444444444444,
                            "#bd3786"
                          ],
                          [
                            0.5555555555555556,
                            "#d8576b"
                          ],
                          [
                            0.6666666666666666,
                            "#ed7953"
                          ],
                          [
                            0.7777777777777778,
                            "#fb9f3a"
                          ],
                          [
                            0.8888888888888888,
                            "#fdca26"
                          ],
                          [
                            1,
                            "#f0f921"
                          ]
                        ],
                        "type": "heatmapgl"
                      }
                    ],
                    "histogram": [
                      {
                        "marker": {
                          "pattern": {
                            "fillmode": "overlay",
                            "size": 10,
                            "solidity": 0.2
                          }
                        },
                        "type": "histogram"
                      }
                    ],
                    "histogram2d": [
                      {
                        "colorbar": {
                          "outlinewidth": 0,
                          "ticks": ""
                        },
                        "colorscale": [
                          [
                            0,
                            "#0d0887"
                          ],
                          [
                            0.1111111111111111,
                            "#46039f"
                          ],
                          [
                            0.2222222222222222,
                            "#7201a8"
                          ],
                          [
                            0.3333333333333333,
                            "#9c179e"
                          ],
                          [
                            0.4444444444444444,
                            "#bd3786"
                          ],
                          [
                            0.5555555555555556,
                            "#d8576b"
                          ],
                          [
                            0.6666666666666666,
                            "#ed7953"
                          ],
                          [
                            0.7777777777777778,
                            "#fb9f3a"
                          ],
                          [
                            0.8888888888888888,
                            "#fdca26"
                          ],
                          [
                            1,
                            "#f0f921"
                          ]
                        ],
                        "type": "histogram2d"
                      }
                    ],
                    "histogram2dcontour": [
                      {
                        "colorbar": {
                          "outlinewidth": 0,
                          "ticks": ""
                        },
                        "colorscale": [
                          [
                            0,
                            "#0d0887"
                          ],
                          [
                            0.1111111111111111,
                            "#46039f"
                          ],
                          [
                            0.2222222222222222,
                            "#7201a8"
                          ],
                          [
                            0.3333333333333333,
                            "#9c179e"
                          ],
                          [
                            0.4444444444444444,
                            "#bd3786"
                          ],
                          [
                            0.5555555555555556,
                            "#d8576b"
                          ],
                          [
                            0.6666666666666666,
                            "#ed7953"
                          ],
                          [
                            0.7777777777777778,
                            "#fb9f3a"
                          ],
                          [
                            0.8888888888888888,
                            "#fdca26"
                          ],
                          [
                            1,
                            "#f0f921"
                          ]
                        ],
                        "type": "histogram2dcontour"
                      }
                    ],
                    "mesh3d": [
                      {
                        "colorbar": {
                          "outlinewidth": 0,
                          "ticks": ""
                        },
                        "type": "mesh3d"
                      }
                    ],
                    "parcoords": [
                      {
                        "line": {
                          "colorbar": {
                            "outlinewidth": 0,
                            "ticks": ""
                          }
                        },
                        "type": "parcoords"
                      }
                    ],
                    "pie": [
                      {
                        "automargin": true,
                        "type": "pie"
                      }
                    ],
                    "scatter": [
                      {
                        "fillpattern": {
                          "fillmode": "overlay",
                          "size": 10,
                          "solidity": 0.2
                        },
                        "type": "scatter"
                      }
                    ],
                    "scatter3d": [
                      {
                        "line": {
                          "colorbar": {
                            "outlinewidth": 0,
                            "ticks": ""
                          }
                        },
                        "marker": {
                          "colorbar": {
                            "outlinewidth": 0,
                            "ticks": ""
                          }
                        },
                        "type": "scatter3d"
                      }
                    ],
                    "scattercarpet": [
                      {
                        "marker": {
                          "colorbar": {
                            "outlinewidth": 0,
                            "ticks": ""
                          }
                        },
                        "type": "scattercarpet"
                      }
                    ],
                    "scattergeo": [
                      {
                        "marker": {
                          "colorbar": {
                            "outlinewidth": 0,
                            "ticks": ""
                          }
                        },
                        "type": "scattergeo"
                      }
                    ],
                    "scattergl": [
                      {
                        "marker": {
                          "colorbar": {
                            "outlinewidth": 0,
                            "ticks": ""
                          }
                        },
                        "type": "scattergl"
                      }
                    ],
                    "scattermapbox": [
                      {
                        "marker": {
                          "colorbar": {
                            "outlinewidth": 0,
                            "ticks": ""
                          }
                        },
                        "type": "scattermapbox"
                      }
                    ],
                    "scatterpolar": [
                      {
                        "marker": {
                          "colorbar": {
                            "outlinewidth": 0,
                            "ticks": ""
                          }
                        },
                        "type": "scatterpolar"
                      }
                    ],
                    "scatterpolargl": [
                      {
                        "marker": {
                          "colorbar": {
                            "outlinewidth": 0,
                            "ticks": ""
                          }
                        },
                        "type": "scatterpolargl"
                      }
                    ],
                    "scatterternary": [
                      {
                        "marker": {
                          "colorbar": {
                            "outlinewidth": 0,
                            "ticks": ""
                          }
                        },
                        "type": "scatterternary"
                      }
                    ],
                    "surface": [
                      {
                        "colorbar": {
                          "outlinewidth": 0,
                          "ticks": ""
                        },
                        "colorscale": [
                          [
                            0,
                            "#0d0887"
                          ],
                          [
                            0.1111111111111111,
                            "#46039f"
                          ],
                          [
                            0.2222222222222222,
                            "#7201a8"
                          ],
                          [
                            0.3333333333333333,
                            "#9c179e"
                          ],
                          [
                            0.4444444444444444,
                            "#bd3786"
                          ],
                          [
                            0.5555555555555556,
                            "#d8576b"
                          ],
                          [
                            0.6666666666666666,
                            "#ed7953"
                          ],
                          [
                            0.7777777777777778,
                            "#fb9f3a"
                          ],
                          [
                            0.8888888888888888,
                            "#fdca26"
                          ],
                          [
                            1,
                            "#f0f921"
                          ]
                        ],
                        "type": "surface"
                      }
                    ],
                    "table": [
                      {
                        "cells": {
                          "fill": {
                            "color": "#EBF0F8"
                          },
                          "line": {
                            "color": "white"
                          }
                        },
                        "header": {
                          "fill": {
                            "color": "#C8D4E3"
                          },
                          "line": {
                            "color": "white"
                          }
                        },
                        "type": "table"
                      }
                    ]
                  },
                  "layout": {
                    "annotationdefaults": {
                      "arrowcolor": "#2a3f5f",
                      "arrowhead": 0,
                      "arrowwidth": 1
                    },
                    "autotypenumbers": "strict",
                    "coloraxis": {
                      "colorbar": {
                        "outlinewidth": 0,
                        "ticks": ""
                      }
                    },
                    "colorscale": {
                      "diverging": [
                        [
                          0,
                          "#8e0152"
                        ],
                        [
                          0.1,
                          "#c51b7d"
                        ],
                        [
                          0.2,
                          "#de77ae"
                        ],
                        [
                          0.3,
                          "#f1b6da"
                        ],
                        [
                          0.4,
                          "#fde0ef"
                        ],
                        [
                          0.5,
                          "#f7f7f7"
                        ],
                        [
                          0.6,
                          "#e6f5d0"
                        ],
                        [
                          0.7,
                          "#b8e186"
                        ],
                        [
                          0.8,
                          "#7fbc41"
                        ],
                        [
                          0.9,
                          "#4d9221"
                        ],
                        [
                          1,
                          "#276419"
                        ]
                      ],
                      "sequential": [
                        [
                          0,
                          "#0d0887"
                        ],
                        [
                          0.1111111111111111,
                          "#46039f"
                        ],
                        [
                          0.2222222222222222,
                          "#7201a8"
                        ],
                        [
                          0.3333333333333333,
                          "#9c179e"
                        ],
                        [
                          0.4444444444444444,
                          "#bd3786"
                        ],
                        [
                          0.5555555555555556,
                          "#d8576b"
                        ],
                        [
                          0.6666666666666666,
                          "#ed7953"
                        ],
                        [
                          0.7777777777777778,
                          "#fb9f3a"
                        ],
                        [
                          0.8888888888888888,
                          "#fdca26"
                        ],
                        [
                          1,
                          "#f0f921"
                        ]
                      ],
                      "sequentialminus": [
                        [
                          0,
                          "#0d0887"
                        ],
                        [
                          0.1111111111111111,
                          "#46039f"
                        ],
                        [
                          0.2222222222222222,
                          "#7201a8"
                        ],
                        [
                          0.3333333333333333,
                          "#9c179e"
                        ],
                        [
                          0.4444444444444444,
                          "#bd3786"
                        ],
                        [
                          0.5555555555555556,
                          "#d8576b"
                        ],
                        [
                          0.6666666666666666,
                          "#ed7953"
                        ],
                        [
                          0.7777777777777778,
                          "#fb9f3a"
                        ],
                        [
                          0.8888888888888888,
                          "#fdca26"
                        ],
                        [
                          1,
                          "#f0f921"
                        ]
                      ]
                    },
                    "colorway": [
                      "#636efa",
                      "#EF553B",
                      "#00cc96",
                      "#ab63fa",
                      "#FFA15A",
                      "#19d3f3",
                      "#FF6692",
                      "#B6E880",
                      "#FF97FF",
                      "#FECB52"
                    ],
                    "font": {
                      "color": "#2a3f5f"
                    },
                    "geo": {
                      "bgcolor": "white",
                      "lakecolor": "white",
                      "landcolor": "#E5ECF6",
                      "showlakes": true,
                      "showland": true,
                      "subunitcolor": "white"
                    },
                    "hoverlabel": {
                      "align": "left"
                    },
                    "hovermode": "closest",
                    "mapbox": {
                      "style": "light"
                    },
                    "paper_bgcolor": "white",
                    "plot_bgcolor": "#E5ECF6",
                    "polar": {
                      "angularaxis": {
                        "gridcolor": "white",
                        "linecolor": "white",
                        "ticks": ""
                      },
                      "bgcolor": "#E5ECF6",
                      "radialaxis": {
                        "gridcolor": "white",
                        "linecolor": "white",
                        "ticks": ""
                      }
                    },
                    "scene": {
                      "xaxis": {
                        "backgroundcolor": "#E5ECF6",
                        "gridcolor": "white",
                        "gridwidth": 2,
                        "linecolor": "white",
                        "showbackground": true,
                        "ticks": "",
                        "zerolinecolor": "white"
                      },
                      "yaxis": {
                        "backgroundcolor": "#E5ECF6",
                        "gridcolor": "white",
                        "gridwidth": 2,
                        "linecolor": "white",
                        "showbackground": true,
                        "ticks": "",
                        "zerolinecolor": "white"
                      },
                      "zaxis": {
                        "backgroundcolor": "#E5ECF6",
                        "gridcolor": "white",
                        "gridwidth": 2,
                        "linecolor": "white",
                        "showbackground": true,
                        "ticks": "",
                        "zerolinecolor": "white"
                      }
                    },
                    "shapedefaults": {
                      "line": {
                        "color": "#2a3f5f"
                      }
                    },
                    "ternary": {
                      "aaxis": {
                        "gridcolor": "white",
                        "linecolor": "white",
                        "ticks": ""
                      },
                      "baxis": {
                        "gridcolor": "white",
                        "linecolor": "white",
                        "ticks": ""
                      },
                      "bgcolor": "#E5ECF6",
                      "caxis": {
                        "gridcolor": "white",
                        "linecolor": "white",
                        "ticks": ""
                      }
                    },
                    "title": {
                      "x": 0.05
                    },
                    "xaxis": {
                      "automargin": true,
                      "gridcolor": "white",
                      "linecolor": "white",
                      "ticks": "",
                      "title": {
                        "standoff": 15
                      },
                      "zerolinecolor": "white",
                      "zerolinewidth": 2
                    },
                    "yaxis": {
                      "automargin": true,
                      "gridcolor": "white",
                      "linecolor": "white",
                      "ticks": "",
                      "title": {
                        "standoff": 15
                      },
                      "zerolinecolor": "white",
                      "zerolinewidth": 2
                    }
                  }
                },
                "title": {
                  "text": "Direct effect on Sentiment Attenders' values"
                },
                "width": 700,
                "xaxis": {
                  "anchor": "y",
                  "constrain": "domain",
                  "domain": [
                    0,
                    1
                  ],
                  "linecolor": "black",
                  "linewidth": 1,
                  "mirror": true,
                  "scaleanchor": "y",
                  "showline": true,
                  "title": {
                    "text": "Head"
                  }
                },
                "yaxis": {
                  "anchor": "x",
                  "autorange": "reversed",
                  "constrain": "domain",
                  "domain": [
                    0,
                    1
                  ],
                  "linecolor": "black",
                  "linewidth": 1,
                  "mirror": true,
                  "showline": true,
                  "title": {
                    "text": "Layer"
                  }
                }
              }
            }
          },
          "metadata": {},
          "output_type": "display_data"
        }
      ],
      "source": [
        "imshow_p(\n",
        "    results[\"z\"][:10] * 100,\n",
        "    title=\"Direct effect on Sentiment Attenders' values\",\n",
        "    labels={\"x\": \"Head\", \"y\": \"Layer\", \"color\": \"Logit diff variation\"},\n",
        "    coloraxis=dict(colorbar_ticksuffix = \"%\"),\n",
        "    border=True,\n",
        "    width=700,\n",
        "    margin={\"r\": 100, \"l\": 100}\n",
        ")"
      ]
    },
    {
      "cell_type": "code",
      "execution_count": 71,
      "metadata": {},
      "outputs": [
        {
          "name": "stdout",
          "output_type": "stream",
          "text": [
            "Total logit diff contribution above threshold: 0.33\n"
          ]
        },
        {
          "data": {
            "application/vnd.plotly.v1+json": {
              "config": {
                "plotlyServerURL": "https://plot.ly"
              },
              "data": [
                {
                  "alignmentgroup": "True",
                  "hovertemplate": "Logit Diff=%{x}<br>Attention Head=%{y}<extra></extra>",
                  "legendgroup": "",
                  "marker": {
                    "color": "#636efa",
                    "pattern": {
                      "shape": ""
                    }
                  },
                  "name": "",
                  "offsetgroup": "",
                  "orientation": "h",
                  "showlegend": false,
                  "textposition": "auto",
                  "type": "bar",
                  "x": [
                    0.006813053507357836,
                    0.007629194296896458,
                    0.007686452008783817,
                    0.00926327332854271,
                    0.009917962364852428,
                    0.011163870804011822,
                    0.011983863078057766,
                    0.012621605768799782,
                    0.013190999627113342,
                    0.01710403896868229,
                    0.025070462375879288,
                    0.026677068322896957,
                    0.04396422952413559,
                    0.06020375341176987,
                    0.061918146908283234
                  ],
                  "xaxis": "x",
                  "y": [
                    "Layer 9, Head 3",
                    "Layer 0, Head 5",
                    "Layer 5, Head 10",
                    "Layer 0, Head 1",
                    "Layer 8, Head 9",
                    "Layer 9, Head 2",
                    "Layer 0, Head 3",
                    "Layer 5, Head 7",
                    "Layer 8, Head 2",
                    "Layer 3, Head 11",
                    "Layer 8, Head 5",
                    "Layer 0, Head 4",
                    "Layer 7, Head 5",
                    "Layer 7, Head 1",
                    "Layer 6, Head 4"
                  ],
                  "yaxis": "y"
                }
              ],
              "layout": {
                "barmode": "relative",
                "legend": {
                  "tracegroupgap": 0
                },
                "margin": {
                  "t": 60
                },
                "template": {
                  "data": {
                    "bar": [
                      {
                        "error_x": {
                          "color": "#2a3f5f"
                        },
                        "error_y": {
                          "color": "#2a3f5f"
                        },
                        "marker": {
                          "line": {
                            "color": "#E5ECF6",
                            "width": 0.5
                          },
                          "pattern": {
                            "fillmode": "overlay",
                            "size": 10,
                            "solidity": 0.2
                          }
                        },
                        "type": "bar"
                      }
                    ],
                    "barpolar": [
                      {
                        "marker": {
                          "line": {
                            "color": "#E5ECF6",
                            "width": 0.5
                          },
                          "pattern": {
                            "fillmode": "overlay",
                            "size": 10,
                            "solidity": 0.2
                          }
                        },
                        "type": "barpolar"
                      }
                    ],
                    "carpet": [
                      {
                        "aaxis": {
                          "endlinecolor": "#2a3f5f",
                          "gridcolor": "white",
                          "linecolor": "white",
                          "minorgridcolor": "white",
                          "startlinecolor": "#2a3f5f"
                        },
                        "baxis": {
                          "endlinecolor": "#2a3f5f",
                          "gridcolor": "white",
                          "linecolor": "white",
                          "minorgridcolor": "white",
                          "startlinecolor": "#2a3f5f"
                        },
                        "type": "carpet"
                      }
                    ],
                    "choropleth": [
                      {
                        "colorbar": {
                          "outlinewidth": 0,
                          "ticks": ""
                        },
                        "type": "choropleth"
                      }
                    ],
                    "contour": [
                      {
                        "colorbar": {
                          "outlinewidth": 0,
                          "ticks": ""
                        },
                        "colorscale": [
                          [
                            0,
                            "#0d0887"
                          ],
                          [
                            0.1111111111111111,
                            "#46039f"
                          ],
                          [
                            0.2222222222222222,
                            "#7201a8"
                          ],
                          [
                            0.3333333333333333,
                            "#9c179e"
                          ],
                          [
                            0.4444444444444444,
                            "#bd3786"
                          ],
                          [
                            0.5555555555555556,
                            "#d8576b"
                          ],
                          [
                            0.6666666666666666,
                            "#ed7953"
                          ],
                          [
                            0.7777777777777778,
                            "#fb9f3a"
                          ],
                          [
                            0.8888888888888888,
                            "#fdca26"
                          ],
                          [
                            1,
                            "#f0f921"
                          ]
                        ],
                        "type": "contour"
                      }
                    ],
                    "contourcarpet": [
                      {
                        "colorbar": {
                          "outlinewidth": 0,
                          "ticks": ""
                        },
                        "type": "contourcarpet"
                      }
                    ],
                    "heatmap": [
                      {
                        "colorbar": {
                          "outlinewidth": 0,
                          "ticks": ""
                        },
                        "colorscale": [
                          [
                            0,
                            "#0d0887"
                          ],
                          [
                            0.1111111111111111,
                            "#46039f"
                          ],
                          [
                            0.2222222222222222,
                            "#7201a8"
                          ],
                          [
                            0.3333333333333333,
                            "#9c179e"
                          ],
                          [
                            0.4444444444444444,
                            "#bd3786"
                          ],
                          [
                            0.5555555555555556,
                            "#d8576b"
                          ],
                          [
                            0.6666666666666666,
                            "#ed7953"
                          ],
                          [
                            0.7777777777777778,
                            "#fb9f3a"
                          ],
                          [
                            0.8888888888888888,
                            "#fdca26"
                          ],
                          [
                            1,
                            "#f0f921"
                          ]
                        ],
                        "type": "heatmap"
                      }
                    ],
                    "heatmapgl": [
                      {
                        "colorbar": {
                          "outlinewidth": 0,
                          "ticks": ""
                        },
                        "colorscale": [
                          [
                            0,
                            "#0d0887"
                          ],
                          [
                            0.1111111111111111,
                            "#46039f"
                          ],
                          [
                            0.2222222222222222,
                            "#7201a8"
                          ],
                          [
                            0.3333333333333333,
                            "#9c179e"
                          ],
                          [
                            0.4444444444444444,
                            "#bd3786"
                          ],
                          [
                            0.5555555555555556,
                            "#d8576b"
                          ],
                          [
                            0.6666666666666666,
                            "#ed7953"
                          ],
                          [
                            0.7777777777777778,
                            "#fb9f3a"
                          ],
                          [
                            0.8888888888888888,
                            "#fdca26"
                          ],
                          [
                            1,
                            "#f0f921"
                          ]
                        ],
                        "type": "heatmapgl"
                      }
                    ],
                    "histogram": [
                      {
                        "marker": {
                          "pattern": {
                            "fillmode": "overlay",
                            "size": 10,
                            "solidity": 0.2
                          }
                        },
                        "type": "histogram"
                      }
                    ],
                    "histogram2d": [
                      {
                        "colorbar": {
                          "outlinewidth": 0,
                          "ticks": ""
                        },
                        "colorscale": [
                          [
                            0,
                            "#0d0887"
                          ],
                          [
                            0.1111111111111111,
                            "#46039f"
                          ],
                          [
                            0.2222222222222222,
                            "#7201a8"
                          ],
                          [
                            0.3333333333333333,
                            "#9c179e"
                          ],
                          [
                            0.4444444444444444,
                            "#bd3786"
                          ],
                          [
                            0.5555555555555556,
                            "#d8576b"
                          ],
                          [
                            0.6666666666666666,
                            "#ed7953"
                          ],
                          [
                            0.7777777777777778,
                            "#fb9f3a"
                          ],
                          [
                            0.8888888888888888,
                            "#fdca26"
                          ],
                          [
                            1,
                            "#f0f921"
                          ]
                        ],
                        "type": "histogram2d"
                      }
                    ],
                    "histogram2dcontour": [
                      {
                        "colorbar": {
                          "outlinewidth": 0,
                          "ticks": ""
                        },
                        "colorscale": [
                          [
                            0,
                            "#0d0887"
                          ],
                          [
                            0.1111111111111111,
                            "#46039f"
                          ],
                          [
                            0.2222222222222222,
                            "#7201a8"
                          ],
                          [
                            0.3333333333333333,
                            "#9c179e"
                          ],
                          [
                            0.4444444444444444,
                            "#bd3786"
                          ],
                          [
                            0.5555555555555556,
                            "#d8576b"
                          ],
                          [
                            0.6666666666666666,
                            "#ed7953"
                          ],
                          [
                            0.7777777777777778,
                            "#fb9f3a"
                          ],
                          [
                            0.8888888888888888,
                            "#fdca26"
                          ],
                          [
                            1,
                            "#f0f921"
                          ]
                        ],
                        "type": "histogram2dcontour"
                      }
                    ],
                    "mesh3d": [
                      {
                        "colorbar": {
                          "outlinewidth": 0,
                          "ticks": ""
                        },
                        "type": "mesh3d"
                      }
                    ],
                    "parcoords": [
                      {
                        "line": {
                          "colorbar": {
                            "outlinewidth": 0,
                            "ticks": ""
                          }
                        },
                        "type": "parcoords"
                      }
                    ],
                    "pie": [
                      {
                        "automargin": true,
                        "type": "pie"
                      }
                    ],
                    "scatter": [
                      {
                        "fillpattern": {
                          "fillmode": "overlay",
                          "size": 10,
                          "solidity": 0.2
                        },
                        "type": "scatter"
                      }
                    ],
                    "scatter3d": [
                      {
                        "line": {
                          "colorbar": {
                            "outlinewidth": 0,
                            "ticks": ""
                          }
                        },
                        "marker": {
                          "colorbar": {
                            "outlinewidth": 0,
                            "ticks": ""
                          }
                        },
                        "type": "scatter3d"
                      }
                    ],
                    "scattercarpet": [
                      {
                        "marker": {
                          "colorbar": {
                            "outlinewidth": 0,
                            "ticks": ""
                          }
                        },
                        "type": "scattercarpet"
                      }
                    ],
                    "scattergeo": [
                      {
                        "marker": {
                          "colorbar": {
                            "outlinewidth": 0,
                            "ticks": ""
                          }
                        },
                        "type": "scattergeo"
                      }
                    ],
                    "scattergl": [
                      {
                        "marker": {
                          "colorbar": {
                            "outlinewidth": 0,
                            "ticks": ""
                          }
                        },
                        "type": "scattergl"
                      }
                    ],
                    "scattermapbox": [
                      {
                        "marker": {
                          "colorbar": {
                            "outlinewidth": 0,
                            "ticks": ""
                          }
                        },
                        "type": "scattermapbox"
                      }
                    ],
                    "scatterpolar": [
                      {
                        "marker": {
                          "colorbar": {
                            "outlinewidth": 0,
                            "ticks": ""
                          }
                        },
                        "type": "scatterpolar"
                      }
                    ],
                    "scatterpolargl": [
                      {
                        "marker": {
                          "colorbar": {
                            "outlinewidth": 0,
                            "ticks": ""
                          }
                        },
                        "type": "scatterpolargl"
                      }
                    ],
                    "scatterternary": [
                      {
                        "marker": {
                          "colorbar": {
                            "outlinewidth": 0,
                            "ticks": ""
                          }
                        },
                        "type": "scatterternary"
                      }
                    ],
                    "surface": [
                      {
                        "colorbar": {
                          "outlinewidth": 0,
                          "ticks": ""
                        },
                        "colorscale": [
                          [
                            0,
                            "#0d0887"
                          ],
                          [
                            0.1111111111111111,
                            "#46039f"
                          ],
                          [
                            0.2222222222222222,
                            "#7201a8"
                          ],
                          [
                            0.3333333333333333,
                            "#9c179e"
                          ],
                          [
                            0.4444444444444444,
                            "#bd3786"
                          ],
                          [
                            0.5555555555555556,
                            "#d8576b"
                          ],
                          [
                            0.6666666666666666,
                            "#ed7953"
                          ],
                          [
                            0.7777777777777778,
                            "#fb9f3a"
                          ],
                          [
                            0.8888888888888888,
                            "#fdca26"
                          ],
                          [
                            1,
                            "#f0f921"
                          ]
                        ],
                        "type": "surface"
                      }
                    ],
                    "table": [
                      {
                        "cells": {
                          "fill": {
                            "color": "#EBF0F8"
                          },
                          "line": {
                            "color": "white"
                          }
                        },
                        "header": {
                          "fill": {
                            "color": "#C8D4E3"
                          },
                          "line": {
                            "color": "white"
                          }
                        },
                        "type": "table"
                      }
                    ]
                  },
                  "layout": {
                    "annotationdefaults": {
                      "arrowcolor": "#2a3f5f",
                      "arrowhead": 0,
                      "arrowwidth": 1
                    },
                    "autotypenumbers": "strict",
                    "coloraxis": {
                      "colorbar": {
                        "outlinewidth": 0,
                        "ticks": ""
                      }
                    },
                    "colorscale": {
                      "diverging": [
                        [
                          0,
                          "#8e0152"
                        ],
                        [
                          0.1,
                          "#c51b7d"
                        ],
                        [
                          0.2,
                          "#de77ae"
                        ],
                        [
                          0.3,
                          "#f1b6da"
                        ],
                        [
                          0.4,
                          "#fde0ef"
                        ],
                        [
                          0.5,
                          "#f7f7f7"
                        ],
                        [
                          0.6,
                          "#e6f5d0"
                        ],
                        [
                          0.7,
                          "#b8e186"
                        ],
                        [
                          0.8,
                          "#7fbc41"
                        ],
                        [
                          0.9,
                          "#4d9221"
                        ],
                        [
                          1,
                          "#276419"
                        ]
                      ],
                      "sequential": [
                        [
                          0,
                          "#0d0887"
                        ],
                        [
                          0.1111111111111111,
                          "#46039f"
                        ],
                        [
                          0.2222222222222222,
                          "#7201a8"
                        ],
                        [
                          0.3333333333333333,
                          "#9c179e"
                        ],
                        [
                          0.4444444444444444,
                          "#bd3786"
                        ],
                        [
                          0.5555555555555556,
                          "#d8576b"
                        ],
                        [
                          0.6666666666666666,
                          "#ed7953"
                        ],
                        [
                          0.7777777777777778,
                          "#fb9f3a"
                        ],
                        [
                          0.8888888888888888,
                          "#fdca26"
                        ],
                        [
                          1,
                          "#f0f921"
                        ]
                      ],
                      "sequentialminus": [
                        [
                          0,
                          "#0d0887"
                        ],
                        [
                          0.1111111111111111,
                          "#46039f"
                        ],
                        [
                          0.2222222222222222,
                          "#7201a8"
                        ],
                        [
                          0.3333333333333333,
                          "#9c179e"
                        ],
                        [
                          0.4444444444444444,
                          "#bd3786"
                        ],
                        [
                          0.5555555555555556,
                          "#d8576b"
                        ],
                        [
                          0.6666666666666666,
                          "#ed7953"
                        ],
                        [
                          0.7777777777777778,
                          "#fb9f3a"
                        ],
                        [
                          0.8888888888888888,
                          "#fdca26"
                        ],
                        [
                          1,
                          "#f0f921"
                        ]
                      ]
                    },
                    "colorway": [
                      "#636efa",
                      "#EF553B",
                      "#00cc96",
                      "#ab63fa",
                      "#FFA15A",
                      "#19d3f3",
                      "#FF6692",
                      "#B6E880",
                      "#FF97FF",
                      "#FECB52"
                    ],
                    "font": {
                      "color": "#2a3f5f"
                    },
                    "geo": {
                      "bgcolor": "white",
                      "lakecolor": "white",
                      "landcolor": "#E5ECF6",
                      "showlakes": true,
                      "showland": true,
                      "subunitcolor": "white"
                    },
                    "hoverlabel": {
                      "align": "left"
                    },
                    "hovermode": "closest",
                    "mapbox": {
                      "style": "light"
                    },
                    "paper_bgcolor": "white",
                    "plot_bgcolor": "#E5ECF6",
                    "polar": {
                      "angularaxis": {
                        "gridcolor": "white",
                        "linecolor": "white",
                        "ticks": ""
                      },
                      "bgcolor": "#E5ECF6",
                      "radialaxis": {
                        "gridcolor": "white",
                        "linecolor": "white",
                        "ticks": ""
                      }
                    },
                    "scene": {
                      "xaxis": {
                        "backgroundcolor": "#E5ECF6",
                        "gridcolor": "white",
                        "gridwidth": 2,
                        "linecolor": "white",
                        "showbackground": true,
                        "ticks": "",
                        "zerolinecolor": "white"
                      },
                      "yaxis": {
                        "backgroundcolor": "#E5ECF6",
                        "gridcolor": "white",
                        "gridwidth": 2,
                        "linecolor": "white",
                        "showbackground": true,
                        "ticks": "",
                        "zerolinecolor": "white"
                      },
                      "zaxis": {
                        "backgroundcolor": "#E5ECF6",
                        "gridcolor": "white",
                        "gridwidth": 2,
                        "linecolor": "white",
                        "showbackground": true,
                        "ticks": "",
                        "zerolinecolor": "white"
                      }
                    },
                    "shapedefaults": {
                      "line": {
                        "color": "#2a3f5f"
                      }
                    },
                    "ternary": {
                      "aaxis": {
                        "gridcolor": "white",
                        "linecolor": "white",
                        "ticks": ""
                      },
                      "baxis": {
                        "gridcolor": "white",
                        "linecolor": "white",
                        "ticks": ""
                      },
                      "bgcolor": "#E5ECF6",
                      "caxis": {
                        "gridcolor": "white",
                        "linecolor": "white",
                        "ticks": ""
                      }
                    },
                    "title": {
                      "x": 0.05
                    },
                    "xaxis": {
                      "automargin": true,
                      "gridcolor": "white",
                      "linecolor": "white",
                      "ticks": "",
                      "title": {
                        "standoff": 15
                      },
                      "zerolinecolor": "white",
                      "zerolinewidth": 2
                    },
                    "yaxis": {
                      "automargin": true,
                      "gridcolor": "white",
                      "linecolor": "white",
                      "ticks": "",
                      "title": {
                        "standoff": 15
                      },
                      "zerolinecolor": "white",
                      "zerolinewidth": 2
                    }
                  }
                },
                "xaxis": {
                  "anchor": "y",
                  "domain": [
                    0,
                    1
                  ],
                  "range": [
                    0,
                    0.1
                  ],
                  "title": {
                    "text": "Logit Diff"
                  }
                },
                "yaxis": {
                  "anchor": "x",
                  "domain": [
                    0,
                    1
                  ],
                  "title": {
                    "text": "Attention Head"
                  }
                }
              }
            }
          },
          "metadata": {},
          "output_type": "display_data"
        }
      ],
      "source": [
        "plot_attention_heads(-results['z'].cuda(), top_n=15, range_x=[0, 0.1])"
      ]
    },
    {
      "cell_type": "code",
      "execution_count": 72,
      "metadata": {},
      "outputs": [
        {
          "data": {
            "text/html": [
              "<div id=\"circuits-vis-2b8abeb2-9df7\" style=\"margin: 15px 0;\"/>\n",
              "    <script crossorigin type=\"module\">\n",
              "    import { render, AttentionHeads } from \"https://unpkg.com/circuitsvis@1.39.1/dist/cdn/esm.js\";\n",
              "    render(\n",
              "      \"circuits-vis-2b8abeb2-9df7\",\n",
              "      AttentionHeads,\n",
              "      {\"attention\": [[[1.0, 0.0, 0.0, 0.0, 0.0, 0.0, 0.0, 0.0, 0.0, 0.0, 0.0, 0.0, 0.0, 0.0, 0.0, 0.0, 0.0, 0.0, 0.0, 0.0, 0.0, 0.0, 0.0, 0.0, 0.0, 0.0], [0.9287919402122498, 0.07120807468891144, 0.0, 0.0, 0.0, 0.0, 0.0, 0.0, 0.0, 0.0, 0.0, 0.0, 0.0, 0.0, 0.0, 0.0, 0.0, 0.0, 0.0, 0.0, 0.0, 0.0, 0.0, 0.0, 0.0, 0.0], [0.7899476885795593, 0.10029218345880508, 0.1097600981593132, 0.0, 0.0, 0.0, 0.0, 0.0, 0.0, 0.0, 0.0, 0.0, 0.0, 0.0, 0.0, 0.0, 0.0, 0.0, 0.0, 0.0, 0.0, 0.0, 0.0, 0.0, 0.0, 0.0], [0.7418538928031921, 0.06614411622285843, 0.04533183202147484, 0.14667007327079773, 0.0, 0.0, 0.0, 0.0, 0.0, 0.0, 0.0, 0.0, 0.0, 0.0, 0.0, 0.0, 0.0, 0.0, 0.0, 0.0, 0.0, 0.0, 0.0, 0.0, 0.0, 0.0], [0.8582246899604797, 0.012160418555140495, 0.008871546946465969, 0.01817123033106327, 0.10257214307785034, 0.0, 0.0, 0.0, 0.0, 0.0, 0.0, 0.0, 0.0, 0.0, 0.0, 0.0, 0.0, 0.0, 0.0, 0.0, 0.0, 0.0, 0.0, 0.0, 0.0, 0.0], [0.922569215297699, 0.03347327187657356, 0.016144802793860435, 0.015707893297076225, 0.0051919142715632915, 0.006913005840033293, 0.0, 0.0, 0.0, 0.0, 0.0, 0.0, 0.0, 0.0, 0.0, 0.0, 0.0, 0.0, 0.0, 0.0, 0.0, 0.0, 0.0, 0.0, 0.0, 0.0], [0.6326375007629395, 0.06486338376998901, 0.10324377566576004, 0.055584002286195755, 0.033249400556087494, 0.07564010471105576, 0.034781888127326965, 0.0, 0.0, 0.0, 0.0, 0.0, 0.0, 0.0, 0.0, 0.0, 0.0, 0.0, 0.0, 0.0, 0.0, 0.0, 0.0, 0.0, 0.0, 0.0], [0.4404676556587219, 0.055998217314481735, 0.03023386187851429, 0.056422874331474304, 0.08470918983221054, 0.0418873131275177, 0.12894532084465027, 0.16133546829223633, 0.0, 0.0, 0.0, 0.0, 0.0, 0.0, 0.0, 0.0, 0.0, 0.0, 0.0, 0.0, 0.0, 0.0, 0.0, 0.0, 0.0, 0.0], [0.4077932834625244, 0.04058961570262909, 0.030150698497891426, 0.04037939012050629, 0.08673907071352005, 0.03280685096979141, 0.07047225534915924, 0.26527801156044006, 0.025790907442569733, 0.0, 0.0, 0.0, 0.0, 0.0, 0.0, 0.0, 0.0, 0.0, 0.0, 0.0, 0.0, 0.0, 0.0, 0.0, 0.0, 0.0], [0.4355207085609436, 0.025895414873957634, 0.01672937721014023, 0.017690492793917656, 0.08520077913999557, 0.039539359509944916, 0.10298415273427963, 0.23284225165843964, 0.013786815106868744, 0.029810693114995956, 0.0, 0.0, 0.0, 0.0, 0.0, 0.0, 0.0, 0.0, 0.0, 0.0, 0.0, 0.0, 0.0, 0.0, 0.0, 0.0], [0.688485324382782, 0.014672153629362583, 0.012348495423793793, 0.0070922295562922955, 0.02659914642572403, 0.019118428230285645, 0.04433683678507805, 0.11426705121994019, 0.02271783910691738, 0.03940589725971222, 0.010956577956676483, 0.0, 0.0, 0.0, 0.0, 0.0, 0.0, 0.0, 0.0, 0.0, 0.0, 0.0, 0.0, 0.0, 0.0, 0.0], [0.6716222763061523, 0.020458314567804337, 0.015618760138750076, 0.01823292300105095, 0.026196574792265892, 0.012260813266038895, 0.03492454066872597, 0.11886266618967056, 0.021412691101431847, 0.029174113646149635, 0.011938374489545822, 0.019297992810606956, 0.0, 0.0, 0.0, 0.0, 0.0, 0.0, 0.0, 0.0, 0.0, 0.0, 0.0, 0.0, 0.0, 0.0], [0.5395940542221069, 0.02263222075998783, 0.022976325824856758, 0.016512159258127213, 0.03537829965353012, 0.016241727396845818, 0.02960393764078617, 0.2138771116733551, 0.02204326167702675, 0.02678040601313114, 0.01940346509218216, 0.030135473236441612, 0.004821548704057932, 0.0, 0.0, 0.0, 0.0, 0.0, 0.0, 0.0, 0.0, 0.0, 0.0, 0.0, 0.0, 0.0], [0.4472871720790863, 0.012122777290642262, 0.015357633121311665, 0.02105754241347313, 0.062254250049591064, 0.034511152654886246, 0.07052844762802124, 0.1815473735332489, 0.019369151443243027, 0.05661466345191002, 0.022196047008037567, 0.043905600905418396, 0.003555182134732604, 0.009692960418760777, 0.0, 0.0, 0.0, 0.0, 0.0, 0.0, 0.0, 0.0, 0.0, 0.0, 0.0, 0.0], [0.4319993257522583, 0.007847617380321026, 0.0049485107883811, 0.00718379532918334, 0.17969253659248352, 0.05438912287354469, 0.058626558631658554, 0.09731927514076233, 0.006570169702172279, 0.010728596709668636, 0.06360192596912384, 0.036745794117450714, 0.007284428924322128, 0.025427082553505898, 0.007635282352566719, 0.0, 0.0, 0.0, 0.0, 0.0, 0.0, 0.0, 0.0, 0.0, 0.0, 0.0], [0.49823692440986633, 0.005360034294426441, 0.00814925879240036, 0.010612579062581062, 0.09032420814037323, 0.08492636680603027, 0.03615143895149231, 0.09887652099132538, 0.005540753714740276, 0.00400653388351202, 0.03671875223517418, 0.028205454349517822, 0.0033921103458851576, 0.024856362491846085, 0.008165744133293629, 0.05647696927189827, 0.0, 0.0, 0.0, 0.0, 0.0, 0.0, 0.0, 0.0, 0.0, 0.0], [0.6722192168235779, 0.012415873818099499, 0.013268751092255116, 0.005767883267253637, 0.021176839247345924, 0.017754897475242615, 0.033132489770650864, 0.05442342162132263, 0.010098811239004135, 0.031248845160007477, 0.016266705468297005, 0.024334581568837166, 0.004801417700946331, 0.032350342720746994, 0.006151331588625908, 0.03384251520037651, 0.010746069252490997, 0.0, 0.0, 0.0, 0.0, 0.0, 0.0, 0.0, 0.0, 0.0], [0.5983607172966003, 0.010377795435488224, 0.008616204373538494, 0.003627607598900795, 0.05500595644116402, 0.016869693994522095, 0.021761838346719742, 0.05765499174594879, 0.010898848995566368, 0.03912865370512009, 0.013779190368950367, 0.016037551686167717, 0.0019917916506528854, 0.015275424346327782, 0.0025123341474682093, 0.05502128601074219, 0.009758454747498035, 0.06332172453403473, 0.0, 0.0, 0.0, 0.0, 0.0, 0.0, 0.0, 0.0], [0.45759567618370056, 0.03294777870178223, 0.020811777561903, 0.037443775683641434, 0.056228943169116974, 0.02587829902768135, 0.05169713869690895, 0.10637039691209793, 0.015055414289236069, 0.020540010184049606, 0.010009960271418095, 0.011858073994517326, 0.006238030735403299, 0.01638953760266304, 0.00228478922508657, 0.023367764428257942, 0.005689376499503851, 0.054074373096227646, 0.045518893748521805, 0.0, 0.0, 0.0, 0.0, 0.0, 0.0, 0.0], [0.6710225343704224, 0.054901424795389175, 0.02550390176475048, 0.05562631040811539, 0.016205376014113426, 0.007219123654067516, 0.00945142563432455, 0.020245075225830078, 0.019646363332867622, 0.0036083105951547623, 0.0024270224384963512, 0.003821847029030323, 0.0032478682696819305, 0.01333136111497879, 0.0029682398308068514, 0.0022587813436985016, 0.002523433417081833, 0.0047339159063994884, 0.012230710126459599, 0.06902690976858139, 0.0, 0.0, 0.0, 0.0, 0.0, 0.0], [0.5494844317436218, 0.015651213005185127, 0.0020707491785287857, 0.023309998214244843, 0.08841413259506226, 0.012415873818099499, 0.023773768916726112, 0.04284537211060524, 0.0020465198904275894, 0.0024505762849003077, 0.007245389278978109, 0.00952762272208929, 0.0027419449761509895, 0.0017209619982168078, 0.0014415993355214596, 0.011809119954705238, 0.002637863392010331, 0.010724362917244434, 0.0171597171574831, 0.043218452483415604, 0.12931035459041595, 0.0, 0.0, 0.0, 0.0, 0.0], [0.7814837694168091, 0.009133944287896156, 0.0020181802101433277, 0.007235536817461252, 0.03019309788942337, 0.013135863468050957, 0.02002216875553131, 0.0438334122300148, 0.004421253222972155, 0.0016331481747329235, 0.010404729284346104, 0.005225989501923323, 0.002480157185345888, 0.0018442602595314384, 0.0011895368807017803, 0.0071491701528429985, 0.004652907606214285, 0.006284173112362623, 0.022363625466823578, 0.003622237127274275, 0.011563390493392944, 0.010109377093613148, 0.0, 0.0, 0.0, 0.0], [0.6374055743217468, 0.010881852358579636, 0.00275601539760828, 0.011145700700581074, 0.0488700270652771, 0.01844017207622528, 0.028172560036182404, 0.04908612743020058, 0.006758687552064657, 0.002896825084462762, 0.01149076595902443, 0.0061402833089232445, 0.007441766560077667, 0.0030289972200989723, 0.0012626389507204294, 0.018787547945976257, 0.0046381037682294846, 0.010676784440875053, 0.02658086270093918, 0.007230380084365606, 0.039177827537059784, 0.0255361907184124, 0.021594267338514328, 0.0, 0.0, 0.0], [0.6539257764816284, 0.02648724615573883, 0.005235997494310141, 0.007675644941627979, 0.04029247909784317, 0.01286697294563055, 0.010601636953651905, 0.04617007449269295, 0.007624393329024315, 0.0025563640519976616, 0.010433551855385303, 0.00446584215387702, 0.001761755207553506, 0.0026450911536812782, 0.001190854236483574, 0.028426015749573708, 0.004407096188515425, 0.010082595981657505, 0.0200073029845953, 0.0022836073767393827, 0.015854617580771446, 0.03148362785577774, 0.04729057475924492, 0.006230877246707678, 0.0, 0.0], [0.5949330925941467, 0.007874971255660057, 0.001779958256520331, 0.002304777270182967, 0.042902372777462006, 0.010272280313074589, 0.07296474277973175, 0.05088924244046211, 0.003368775360286236, 0.007609665393829346, 0.013117996975779533, 0.008031699806451797, 0.001330429338850081, 0.0018988546216860414, 0.001201917533762753, 0.03781892731785774, 0.002107681706547737, 0.03555918484926224, 0.02046060375869274, 0.0013126441044732928, 0.007601418532431126, 0.021340807899832726, 0.026654604822397232, 0.004648183006793261, 0.022015191614627838, 0.0], [0.5852499604225159, 0.02883203513920307, 0.0032921249512583017, 0.0046950108371675014, 0.045030027627944946, 0.005885078571736813, 0.01599639095366001, 0.05741000920534134, 0.0072966511361300945, 0.005591152235865593, 0.00694608548656106, 0.004488704726099968, 0.0007209668401628733, 0.0030203296337276697, 0.0011610796209424734, 0.01646849326789379, 0.0007475661695934832, 0.013282589614391327, 0.023779509589076042, 0.0031710276380181313, 0.028239959850907326, 0.04126419872045517, 0.047014255076646805, 0.008703050203621387, 0.029941456392407417, 0.011772368103265762]], [[1.0, 0.0, 0.0, 0.0, 0.0, 0.0, 0.0, 0.0, 0.0, 0.0, 0.0, 0.0, 0.0, 0.0, 0.0, 0.0, 0.0, 0.0, 0.0, 0.0, 0.0, 0.0, 0.0, 0.0, 0.0, 0.0], [0.9855955839157104, 0.01440445613116026, 0.0, 0.0, 0.0, 0.0, 0.0, 0.0, 0.0, 0.0, 0.0, 0.0, 0.0, 0.0, 0.0, 0.0, 0.0, 0.0, 0.0, 0.0, 0.0, 0.0, 0.0, 0.0, 0.0, 0.0], [0.9799342751502991, 0.011392544023692608, 0.008673204109072685, 0.0, 0.0, 0.0, 0.0, 0.0, 0.0, 0.0, 0.0, 0.0, 0.0, 0.0, 0.0, 0.0, 0.0, 0.0, 0.0, 0.0, 0.0, 0.0, 0.0, 0.0, 0.0, 0.0], [0.8351650834083557, 0.04418480023741722, 0.0019223822746425867, 0.11872772872447968, 0.0, 0.0, 0.0, 0.0, 0.0, 0.0, 0.0, 0.0, 0.0, 0.0, 0.0, 0.0, 0.0, 0.0, 0.0, 0.0, 0.0, 0.0, 0.0, 0.0, 0.0, 0.0], [0.9564628601074219, 0.0030157319270074368, 0.00012018374400213361, 0.0031036613509058952, 0.03729752078652382, 0.0, 0.0, 0.0, 0.0, 0.0, 0.0, 0.0, 0.0, 0.0, 0.0, 0.0, 0.0, 0.0, 0.0, 0.0, 0.0, 0.0, 0.0, 0.0, 0.0, 0.0], [0.9321370720863342, 0.0045364610850811005, 0.0007338422001339495, 0.01720241643488407, 0.03230533003807068, 0.013084959238767624, 0.0, 0.0, 0.0, 0.0, 0.0, 0.0, 0.0, 0.0, 0.0, 0.0, 0.0, 0.0, 0.0, 0.0, 0.0, 0.0, 0.0, 0.0, 0.0, 0.0], [0.9457419514656067, 0.0053009819239377975, 0.00030245358357205987, 0.005870021414011717, 0.027332980185747147, 0.005979133769869804, 0.009472538717091084, 0.0, 0.0, 0.0, 0.0, 0.0, 0.0, 0.0, 0.0, 0.0, 0.0, 0.0, 0.0, 0.0, 0.0, 0.0, 0.0, 0.0, 0.0, 0.0], [0.9285058975219727, 0.0026068557053804398, 0.0002909074246417731, 0.0036883691791445017, 0.015919772908091545, 0.0027263967785984278, 0.00719845574349165, 0.03906327113509178, 0.0, 0.0, 0.0, 0.0, 0.0, 0.0, 0.0, 0.0, 0.0, 0.0, 0.0, 0.0, 0.0, 0.0, 0.0, 0.0, 0.0, 0.0], [0.9170627593994141, 0.007723009213805199, 0.011142960749566555, 0.033916886895895004, 0.004556186497211456, 0.00045182608300819993, 0.0012877312256023288, 0.012748685665428638, 0.011109929531812668, 0.0, 0.0, 0.0, 0.0, 0.0, 0.0, 0.0, 0.0, 0.0, 0.0, 0.0, 0.0, 0.0, 0.0, 0.0, 0.0, 0.0], [0.6508264541625977, 0.0074247256852686405, 0.0008980936836451292, 0.004165739752352238, 0.08554833382368088, 0.004676275886595249, 0.01010486576706171, 0.20863769948482513, 0.023858996108174324, 0.0038589010946452618, 0.0, 0.0, 0.0, 0.0, 0.0, 0.0, 0.0, 0.0, 0.0, 0.0, 0.0, 0.0, 0.0, 0.0, 0.0, 0.0], [0.8698747158050537, 0.00147693557664752, 6.399663834599778e-05, 0.002056531375274062, 0.037480246275663376, 0.004241881426423788, 0.01020900160074234, 0.06611409038305283, 0.0017109231557697058, 0.0006695628981105983, 0.0061021167784929276, 0.0, 0.0, 0.0, 0.0, 0.0, 0.0, 0.0, 0.0, 0.0, 0.0, 0.0, 0.0, 0.0, 0.0, 0.0], [0.9677168726921082, 0.0027557683642953634, 0.0003851295623462647, 0.003505332861095667, 0.002950822003185749, 0.001344245858490467, 0.002851999830454588, 0.010483150370419025, 0.003353558713570237, 0.0008306819945573807, 0.001440680818632245, 0.002381908241659403, 0.0, 0.0, 0.0, 0.0, 0.0, 0.0, 0.0, 0.0, 0.0, 0.0, 0.0, 0.0, 0.0, 0.0], [0.9846561551094055, 0.005266017746180296, 0.00041477277409285307, 0.00043468893272802234, 0.00048595876432955265, 0.00016262559802271426, 0.00017590427887625992, 0.002075381577014923, 0.003081341041252017, 0.00046916306018829346, 0.00013052426220383495, 0.0006585841183550656, 0.001988908275961876, 0.0, 0.0, 0.0, 0.0, 0.0, 0.0, 0.0, 0.0, 0.0, 0.0, 0.0, 0.0, 0.0], [0.9122551083564758, 0.011498895473778248, 0.004806899931281805, 0.004422337748110294, 0.014170434325933456, 0.0029277168214321136, 0.004927481524646282, 0.015482548624277115, 0.0035951428581029177, 0.004514162428677082, 0.004536398686468601, 0.005212867166846991, 0.000441935466369614, 0.01120819617062807, 0.0, 0.0, 0.0, 0.0, 0.0, 0.0, 0.0, 0.0, 0.0, 0.0, 0.0, 0.0], [0.941484272480011, 0.00258881994523108, 0.00019214721396565437, 0.0009694216423667967, 0.016055619344115257, 0.0019258669344708323, 0.0046622962690889835, 0.013395106419920921, 0.0006374523509293795, 0.0005822678795084357, 0.0025509761180728674, 0.0035263444297015667, 0.0001681783323874697, 0.003331446321681142, 0.007929771207273006, 0.0, 0.0, 0.0, 0.0, 0.0, 0.0, 0.0, 0.0, 0.0, 0.0, 0.0], [0.9436419606208801, 0.0033821582328528166, 0.00014827614359091967, 0.0014295121654868126, 0.007296695373952389, 0.0032457420602440834, 0.002367866924032569, 0.00339117762632668, 0.0004375631979200989, 0.00020126091840211302, 0.00044725011684931815, 0.0007856317679397762, 5.976272586849518e-05, 0.0012898939894512296, 0.0031266133300960064, 0.028748564422130585, 0.0, 0.0, 0.0, 0.0, 0.0, 0.0, 0.0, 0.0, 0.0, 0.0], [0.9138362407684326, 0.002252356382086873, 0.00034720986150205135, 0.002037388039752841, 0.007904731668531895, 0.0008466854342259467, 0.011339977383613586, 0.011983237229287624, 0.0004857676976826042, 0.0005271672853268683, 0.002191895619034767, 0.004280018154531717, 0.00040752929635345936, 0.005658585578203201, 0.010510694235563278, 0.023172438144683838, 0.002218032255768776, 0.0, 0.0, 0.0, 0.0, 0.0, 0.0, 0.0, 0.0, 0.0], [0.8355283737182617, 0.0028481176123023033, 0.00017000034858938307, 0.0022329839412122965, 0.01541376393288374, 0.0023323711939156055, 0.002810803474858403, 0.030256835743784904, 0.0007782463217154145, 0.00043215748155489564, 0.0017189562786370516, 0.004206353798508644, 0.0004414990253280848, 0.01994778774678707, 0.021291596814990044, 0.014486843720078468, 0.005878289230167866, 0.0392250157892704, 0.0, 0.0, 0.0, 0.0, 0.0, 0.0, 0.0, 0.0], [0.8955355882644653, 0.0021980791352689266, 0.00022404226183425635, 0.0025587540585547686, 0.010677882470190525, 0.0014093514764681458, 0.0030778604559600353, 0.010765752755105495, 0.001189517555758357, 0.00036100318538956344, 0.0018501430749893188, 0.0009756084764376283, 0.0009535420686006546, 0.007556960918009281, 0.007609402295202017, 0.007359635550528765, 0.001585761783644557, 0.010385927744209766, 0.033725325018167496, 0.0, 0.0, 0.0, 0.0, 0.0, 0.0, 0.0], [0.9251383543014526, 0.007887382991611958, 0.0009452790254727006, 0.007321413606405258, 0.012595693580806255, 0.0009366641752421856, 0.0014106190064921975, 0.0024010317865759134, 0.002618738915771246, 0.00041557580698281527, 0.001180311432108283, 0.0012407051399350166, 0.001421516528353095, 0.012631149031221867, 0.0019035133300349116, 0.002292730612680316, 0.0005912220804020762, 0.0022727446630597115, 0.005810449831187725, 0.008984851650893688, 0.0, 0.0, 0.0, 0.0, 0.0, 0.0], [0.9089311361312866, 0.005799278151243925, 0.00012448352936189622, 0.0034560051281005144, 0.020038042217493057, 0.000527646450791508, 0.0019528422271832824, 0.014377990737557411, 0.002544467570260167, 0.0008612277451902628, 0.002963440725579858, 0.001094168284907937, 0.0009268727153539658, 0.00291804363951087, 0.0033264996018260717, 0.006367323454469442, 0.00023679349396843463, 0.0012516432907432318, 0.008241442032158375, 0.003693210892379284, 0.010367496870458126, 0.0, 0.0, 0.0, 0.0, 0.0], [0.891705334186554, 0.018156282603740692, 0.00044027221156284213, 0.004956554621458054, 0.004466224927455187, 0.0006933208787813783, 0.001247358857654035, 0.008993527851998806, 0.013119843788444996, 0.0007973729516379535, 0.0008165137260220945, 0.0020349016413092613, 0.001565649057738483, 0.005028908606618643, 0.002335501601919532, 0.0017239286098629236, 0.000761590083129704, 0.0006885732873342931, 0.00915159098803997, 0.008069425821304321, 0.015877243131399155, 0.007370139472186565, 0.0, 0.0, 0.0, 0.0], [0.7826372385025024, 0.0035341582261025906, 0.00013223342830315232, 0.0026288891676813364, 0.027442947030067444, 0.0019137399503961205, 0.013370165601372719, 0.02397419884800911, 0.0029094794299453497, 0.0013406836660578847, 0.009523563086986542, 0.004364081658422947, 0.000876926351338625, 0.006559477653354406, 0.006424930412322283, 0.010727949440479279, 0.0007654247456230223, 0.028497183695435524, 0.04954076558351517, 0.0033803123515099287, 0.010603020898997784, 0.003506713779643178, 0.005345866084098816, 0.0, 0.0, 0.0], [0.3331565856933594, 0.024196790531277657, 0.0004119772929698229, 0.003952397499233484, 0.23279808461666107, 0.017663458362221718, 0.020366400480270386, 0.06661025434732437, 0.006919104605913162, 0.0007197742816060781, 0.06029369309544563, 0.006766280625015497, 0.0005498009268194437, 0.0032412696164101362, 0.009445829316973686, 0.05906682461500168, 0.009024368599057198, 0.007750891149044037, 0.028128089383244514, 0.005658009089529514, 0.02322262153029442, 0.013925958424806595, 0.030747441574931145, 0.03538404777646065, 0.0, 0.0], [0.46917977929115295, 0.00261701294220984, 0.00010647287854226306, 0.0019078871700912714, 0.041531242430210114, 0.016821540892124176, 0.06868460774421692, 0.06323889642953873, 0.002318437909707427, 0.0008845995762385428, 0.014365240931510925, 0.007972500286996365, 0.0008852329337969422, 0.009686892852187157, 0.008588566444814205, 0.028831150382757187, 0.005278290249407291, 0.11063184589147568, 0.05052553117275238, 0.006241984665393829, 0.031578563153743744, 0.00562759954482317, 0.016561245545744896, 0.013451873324811459, 0.02248304709792137, 0.0], [0.7616026401519775, 0.0055980863980948925, 0.00013317452976480126, 0.0012301035458222032, 0.024792306125164032, 0.002493328182026744, 0.02398568019270897, 0.032133568078279495, 0.0013612861512228847, 0.0004110832524020225, 0.008962090127170086, 0.006347212009131908, 0.0010696777608245611, 0.004667016211897135, 0.004058910068124533, 0.014623389579355717, 0.0007463886286132038, 0.02244499884545803, 0.015508977696299553, 0.0033774515613913536, 0.011931837536394596, 0.0036409555468708277, 0.007305738516151905, 0.016935134306550026, 0.01752828061580658, 0.007110624574124813]], [[1.0, 0.0, 0.0, 0.0, 0.0, 0.0, 0.0, 0.0, 0.0, 0.0, 0.0, 0.0, 0.0, 0.0, 0.0, 0.0, 0.0, 0.0, 0.0, 0.0, 0.0, 0.0, 0.0, 0.0, 0.0, 0.0], [0.9841890931129456, 0.015810858458280563, 0.0, 0.0, 0.0, 0.0, 0.0, 0.0, 0.0, 0.0, 0.0, 0.0, 0.0, 0.0, 0.0, 0.0, 0.0, 0.0, 0.0, 0.0, 0.0, 0.0, 0.0, 0.0, 0.0, 0.0], [0.9498457908630371, 0.028766436502337456, 0.021387776359915733, 0.0, 0.0, 0.0, 0.0, 0.0, 0.0, 0.0, 0.0, 0.0, 0.0, 0.0, 0.0, 0.0, 0.0, 0.0, 0.0, 0.0, 0.0, 0.0, 0.0, 0.0, 0.0, 0.0], [0.9274930357933044, 0.011755187064409256, 0.03025473840534687, 0.03049694374203682, 0.0, 0.0, 0.0, 0.0, 0.0, 0.0, 0.0, 0.0, 0.0, 0.0, 0.0, 0.0, 0.0, 0.0, 0.0, 0.0, 0.0, 0.0, 0.0, 0.0, 0.0, 0.0], [0.8936209082603455, 0.005435401573777199, 0.021208764985203743, 0.040954940021038055, 0.03877999633550644, 0.0, 0.0, 0.0, 0.0, 0.0, 0.0, 0.0, 0.0, 0.0, 0.0, 0.0, 0.0, 0.0, 0.0, 0.0, 0.0, 0.0, 0.0, 0.0, 0.0, 0.0], [0.9228829145431519, 0.013698924332857132, 0.024354327470064163, 0.022621002048254013, 0.01068986114114523, 0.005753044970333576, 0.0, 0.0, 0.0, 0.0, 0.0, 0.0, 0.0, 0.0, 0.0, 0.0, 0.0, 0.0, 0.0, 0.0, 0.0, 0.0, 0.0, 0.0, 0.0, 0.0], [0.8390639424324036, 0.007342556491494179, 0.029422223567962646, 0.017604898661375046, 0.022446708753705025, 0.02825270965695381, 0.05586693063378334, 0.0, 0.0, 0.0, 0.0, 0.0, 0.0, 0.0, 0.0, 0.0, 0.0, 0.0, 0.0, 0.0, 0.0, 0.0, 0.0, 0.0, 0.0, 0.0], [0.4823799729347229, 0.017984561622142792, 0.0281912162899971, 0.040732331573963165, 0.08952327072620392, 0.021327722817659378, 0.2613014578819275, 0.05855951085686684, 0.0, 0.0, 0.0, 0.0, 0.0, 0.0, 0.0, 0.0, 0.0, 0.0, 0.0, 0.0, 0.0, 0.0, 0.0, 0.0, 0.0, 0.0], [0.7421747446060181, 0.01867966167628765, 0.10055990517139435, 0.034220140427351, 0.009689203463494778, 0.008577873930335045, 0.044208187609910965, 0.031595900654792786, 0.010294336825609207, 0.0, 0.0, 0.0, 0.0, 0.0, 0.0, 0.0, 0.0, 0.0, 0.0, 0.0, 0.0, 0.0, 0.0, 0.0, 0.0, 0.0], [0.4756321907043457, 0.008449451066553593, 0.028126956894993782, 0.011237561702728271, 0.07148376852273941, 0.02301524206995964, 0.19112133979797363, 0.14591427147388458, 0.015048190951347351, 0.029971064999699593, 0.0, 0.0, 0.0, 0.0, 0.0, 0.0, 0.0, 0.0, 0.0, 0.0, 0.0, 0.0, 0.0, 0.0, 0.0, 0.0], [0.8693335652351379, 0.003910739906132221, 0.007873478345572948, 0.0024273921735584736, 0.005930711980909109, 0.005178038030862808, 0.041887011379003525, 0.029967432841658592, 0.0025020323228091, 0.023929012939333916, 0.007060654927045107, 0.0, 0.0, 0.0, 0.0, 0.0, 0.0, 0.0, 0.0, 0.0, 0.0, 0.0, 0.0, 0.0, 0.0, 0.0], [0.5991363525390625, 0.02104804664850235, 0.05252798646688461, 0.010848031379282475, 0.010250747203826904, 0.0053086429834365845, 0.0714961588382721, 0.12538203597068787, 0.02051186002790928, 0.05051456764340401, 0.012217025272548199, 0.020758546888828278, 0.0, 0.0, 0.0, 0.0, 0.0, 0.0, 0.0, 0.0, 0.0, 0.0, 0.0, 0.0, 0.0, 0.0], [0.7077139616012573, 0.005849767476320267, 0.04066137969493866, 0.012692345306277275, 0.005664152093231678, 0.007677064742892981, 0.03882359713315964, 0.0634799525141716, 0.00920603983104229, 0.04325133189558983, 0.009373513981699944, 0.04476119950413704, 0.010845690034329891, 0.0, 0.0, 0.0, 0.0, 0.0, 0.0, 0.0, 0.0, 0.0, 0.0, 0.0, 0.0, 0.0], [0.6134514808654785, 0.01983475498855114, 0.011070347391068935, 0.025341499596834183, 0.0679427832365036, 0.010842611081898212, 0.03843612223863602, 0.07682893425226212, 0.015362555161118507, 0.03278098255395889, 0.04478911682963371, 0.02399650402367115, 0.008999742567539215, 0.010322590358555317, 0.0, 0.0, 0.0, 0.0, 0.0, 0.0, 0.0, 0.0, 0.0, 0.0, 0.0, 0.0], [0.5925526022911072, 0.0033542593009769917, 0.003133326768875122, 0.005531990434974432, 0.0847586914896965, 0.01075711753219366, 0.04877549037337303, 0.051220402121543884, 0.003988923039287329, 0.011445138603448868, 0.053114794194698334, 0.02195638418197632, 0.011492659337818623, 0.08569256216287613, 0.012225679121911526, 0.0, 0.0, 0.0, 0.0, 0.0, 0.0, 0.0, 0.0, 0.0, 0.0, 0.0], [0.7251272797584534, 0.0014937169617041945, 0.0020368178375065327, 0.005740387365221977, 0.01270670909434557, 0.004005204886198044, 0.00959687028080225, 0.01168833114206791, 0.001248767483048141, 0.0054035549983382225, 0.011989887803792953, 0.004453673027455807, 0.008019116707146168, 0.05382917448878288, 0.02359991893172264, 0.11906062811613083, 0.0, 0.0, 0.0, 0.0, 0.0, 0.0, 0.0, 0.0, 0.0, 0.0], [0.5544220805168152, 0.003258276730775833, 0.00708166416734457, 0.006052152253687382, 0.007770787458866835, 0.002119438024237752, 0.025546930730342865, 0.020769406110048294, 0.007759701926261187, 0.020593587309122086, 0.00915286410599947, 0.008859947323799133, 0.029140343889594078, 0.1001894623041153, 0.03585992008447647, 0.14534634351730347, 0.016077060252428055, 0.0, 0.0, 0.0, 0.0, 0.0, 0.0, 0.0, 0.0, 0.0], [0.6629049181938171, 0.002390115289017558, 0.00585995614528656, 0.0018813639180734754, 0.009470062330365181, 0.006436375435441732, 0.006429633125662804, 0.016920726746320724, 0.004047179128974676, 0.008152375929057598, 0.005577073432505131, 0.005023603793233633, 0.014074252918362617, 0.04634442180395126, 0.012140130624175072, 0.08169330656528473, 0.0665765106678009, 0.044078074395656586, 0.0, 0.0, 0.0, 0.0, 0.0, 0.0, 0.0, 0.0], [0.6928125619888306, 0.014953105710446835, 0.014669961296021938, 0.01349513791501522, 0.011311634443700314, 0.005864722654223442, 0.029589638113975525, 0.04052865132689476, 0.01273911353200674, 0.01853983849287033, 0.010516488924622536, 0.013031421229243279, 0.018908703699707985, 0.033594224601984024, 0.0033820029348134995, 0.01619790308177471, 0.005965597461909056, 0.024005595594644547, 0.01989370584487915, 0.0, 0.0, 0.0, 0.0, 0.0, 0.0, 0.0], [0.8344877362251282, 0.02416994981467724, 0.006444809027016163, 0.008076717145740986, 0.005174380727112293, 0.00383111834526062, 0.0048635355196893215, 0.033277180045843124, 0.009637710638344288, 0.007764569949358702, 0.00465982174500823, 0.004168999847024679, 0.004745474085211754, 0.01245433185249567, 0.0055937510915100574, 0.0020315174479037523, 0.003268533619120717, 0.00633632019162178, 0.01440642774105072, 0.00460717361420393, 0.0, 0.0, 0.0, 0.0, 0.0, 0.0], [0.7840253114700317, 0.006141651421785355, 0.00043837769771926105, 0.0023681370075792074, 0.030294228345155716, 0.0011161516886204481, 0.013465742580592632, 0.029217295348644257, 0.0029794233851134777, 0.0011800187639892101, 0.0020353945437818766, 0.0015464816242456436, 0.0018357778899371624, 0.0011289215181022882, 0.0010880815098062158, 0.0048395441845059395, 0.00032693849061615765, 0.004529617261141539, 0.01688079722225666, 0.005476302467286587, 0.08908586204051971, 0.0, 0.0, 0.0, 0.0, 0.0], [0.9062604904174805, 0.007099071051925421, 0.0014119480038061738, 0.0036900637205690145, 0.0071497526951134205, 0.0012908095959573984, 0.004308430943638086, 0.015676330775022507, 0.002256465144455433, 0.0015214531449601054, 0.0015026023611426353, 0.0002550685894675553, 0.0007083665695972741, 0.0006716388743370771, 0.0004551636229734868, 0.0027832684572786093, 0.00031645988929085433, 0.0011823353124782443, 0.009641270153224468, 0.004335122182965279, 0.014319108799099922, 0.013164839707314968, 0.0, 0.0, 0.0, 0.0], [0.8116826415061951, 0.01146288588643074, 0.0012346225557848811, 0.0031696995720267296, 0.011762904934585094, 0.0010188467567786574, 0.006364262662827969, 0.006394602824002504, 0.001865072757937014, 0.0020366122480481863, 0.0017134695081040263, 0.00037726646405644715, 0.0009074272820726037, 0.001698652165941894, 0.0003535067371558398, 0.006875836290419102, 0.00018966803327202797, 0.003498218720778823, 0.003917953930795193, 0.0024422528222203255, 0.01798894815146923, 0.07877039909362793, 0.024274295195937157, 0.0, 0.0, 0.0], [0.5471188426017761, 0.0056757391430437565, 0.002121447352692485, 0.005159307736903429, 0.11045868694782257, 0.007170852739363909, 0.04079500213265419, 0.03367031738162041, 0.002327189315110445, 0.004786191042512655, 0.019161362200975418, 0.0041054184548556805, 0.005661856383085251, 0.004877879749983549, 0.001311859698034823, 0.026442155241966248, 0.0010137488134205341, 0.007339697331190109, 0.010200354270637035, 0.002797299763187766, 0.013693002983927727, 0.06596685200929642, 0.055630989372730255, 0.022513942793011665, 0.0, 0.0], [0.48669856786727905, 0.0035261199809610844, 0.00317594688385725, 0.007891451939940453, 0.01645594649016857, 0.004872700199484825, 0.04182196035981178, 0.040880799293518066, 0.001067417673766613, 0.008458440192043781, 0.01600496843457222, 0.007823916152119637, 0.008007049560546875, 0.008980367332696915, 0.003486184636130929, 0.01768900826573372, 0.0026690366212278605, 0.013540114276111126, 0.010972718708217144, 0.0030401533003896475, 0.00891160685569048, 0.11134183406829834, 0.07852470129728317, 0.06160354986786842, 0.03255550190806389, 0.0], [0.5837641954421997, 0.0080144964158535, 0.0018348627490922809, 0.0028579251375049353, 0.017674539238214493, 0.0017813872545957565, 0.02034820429980755, 0.015000876039266586, 0.002125935163348913, 0.005570526700466871, 0.006930030882358551, 0.0017345098312944174, 0.0031503806822001934, 0.003557472722604871, 0.0016543446108698845, 0.01903493143618107, 0.00037263723788782954, 0.0038965591229498386, 0.005402303766459227, 0.001443750923499465, 0.01572049967944622, 0.07633612304925919, 0.08114591985940933, 0.05487910658121109, 0.053242675960063934, 0.01252585556358099]]], \"attentionHeadNames\": [\"L6H4\", \"L7H1\", \"L7H5\"], \"tokens\": [\"<|endoftext|>\", \"I\", \" thought\", \" this\", \" movie\", \" was\", \" perfect\", \".\", \" I\", \" loved\", \" it\", \",\", \" even\", \" though\", \" the\", \" sequel\", \" was\", \" dreadful\", \".\", \" \", \"\\n\", \"Conclusion\", \":\", \" This\", \" movie\", \" is\"]}\n",
              "    )\n",
              "    </script>"
            ],
            "text/plain": [
              "<circuitsvis.utils.render.RenderedHTML at 0x7f1d7eaa8340>"
            ]
          },
          "execution_count": 72,
          "metadata": {},
          "output_type": "execute_result"
        }
      ],
      "source": [
        "from visualization_utils import get_attn_head_patterns\n",
        "\n",
        "top_k = 3\n",
        "top_heads = torch.topk(-results['z'].flatten(), k=top_k).indices.cpu().numpy()\n",
        "heads = [(head // model.cfg.n_heads, head % model.cfg.n_heads) for head in top_heads]\n",
        "tokens, attn, names = get_attn_head_patterns(model, all_prompts[0], heads)\n",
        "cv.attention.attention_heads(tokens=tokens, attention=attn, attention_head_names=names)"
      ]
    },
    {
      "cell_type": "code",
      "execution_count": null,
      "metadata": {},
      "outputs": [],
      "source": []
    }
  ],
  "metadata": {
    "accelerator": "GPU",
    "colab": {
      "gpuType": "V100",
      "provenance": []
    },
    "kernelspec": {
      "display_name": "Python 3",
      "name": "python3"
    },
    "language_info": {
      "codemirror_mode": {
        "name": "ipython",
        "version": 3
      },
      "file_extension": ".py",
      "mimetype": "text/x-python",
      "name": "python",
      "nbconvert_exporter": "python",
      "pygments_lexer": "ipython3",
      "version": "3.8.16"
    },
    "widgets": {
      "application/vnd.jupyter.widget-state+json": {
        "060d47cf5b6f41c88718bab7f8051605": {
          "model_module": "@jupyter-widgets/controls",
          "model_module_version": "1.5.0",
          "model_name": "HBoxModel",
          "state": {
            "_dom_classes": [],
            "_model_module": "@jupyter-widgets/controls",
            "_model_module_version": "1.5.0",
            "_model_name": "HBoxModel",
            "_view_count": null,
            "_view_module": "@jupyter-widgets/controls",
            "_view_module_version": "1.5.0",
            "_view_name": "HBoxView",
            "box_style": "",
            "children": [
              "IPY_MODEL_7af2d1ab4deb43fd92a42ed75ae25ad2",
              "IPY_MODEL_632337f6f66248b3b76e787240ccc7ef",
              "IPY_MODEL_2dbefb95b7654de7b2755da7c1984db4"
            ],
            "layout": "IPY_MODEL_9dfb85af3854401aaf9c78df8b7fcfcb"
          }
        },
        "1ba653baebb64ba7901e6ce126e78405": {
          "model_module": "@jupyter-widgets/controls",
          "model_module_version": "1.5.0",
          "model_name": "FloatProgressModel",
          "state": {
            "_dom_classes": [],
            "_model_module": "@jupyter-widgets/controls",
            "_model_module_version": "1.5.0",
            "_model_name": "FloatProgressModel",
            "_view_count": null,
            "_view_module": "@jupyter-widgets/controls",
            "_view_module_version": "1.5.0",
            "_view_name": "ProgressView",
            "bar_style": "success",
            "description": "",
            "description_tooltip": null,
            "layout": "IPY_MODEL_67b6c684fe184711b14f1a422db1df35",
            "max": 10,
            "min": 0,
            "orientation": "horizontal",
            "style": "IPY_MODEL_e12a19b2b89c431aa0626f31e03aa28c",
            "value": 10
          }
        },
        "271f12ce00b94e64b6b54b037f7b9fd6": {
          "model_module": "@jupyter-widgets/controls",
          "model_module_version": "1.5.0",
          "model_name": "DescriptionStyleModel",
          "state": {
            "_model_module": "@jupyter-widgets/controls",
            "_model_module_version": "1.5.0",
            "_model_name": "DescriptionStyleModel",
            "_view_count": null,
            "_view_module": "@jupyter-widgets/base",
            "_view_module_version": "1.2.0",
            "_view_name": "StyleView",
            "description_width": ""
          }
        },
        "2dbefb95b7654de7b2755da7c1984db4": {
          "model_module": "@jupyter-widgets/controls",
          "model_module_version": "1.5.0",
          "model_name": "HTMLModel",
          "state": {
            "_dom_classes": [],
            "_model_module": "@jupyter-widgets/controls",
            "_model_module_version": "1.5.0",
            "_model_name": "HTMLModel",
            "_view_count": null,
            "_view_module": "@jupyter-widgets/controls",
            "_view_module_version": "1.5.0",
            "_view_name": "HTMLView",
            "description": "",
            "description_tooltip": null,
            "layout": "IPY_MODEL_8c5f6ad2c9cc40d09bb9d486d1acf11b",
            "placeholder": "​",
            "style": "IPY_MODEL_f0d7566d7993456c9868129e75799a8f",
            "value": " 28/100 [00:01&lt;00:03, 20.32it/s]"
          }
        },
        "3f495fafbe764539be05a9fd5c507d36": {
          "model_module": "@jupyter-widgets/controls",
          "model_module_version": "1.5.0",
          "model_name": "ProgressStyleModel",
          "state": {
            "_model_module": "@jupyter-widgets/controls",
            "_model_module_version": "1.5.0",
            "_model_name": "ProgressStyleModel",
            "_view_count": null,
            "_view_module": "@jupyter-widgets/base",
            "_view_module_version": "1.2.0",
            "_view_name": "StyleView",
            "bar_color": null,
            "description_width": ""
          }
        },
        "4dc8be886a0c4676b31a464bdb2ab075": {
          "model_module": "@jupyter-widgets/base",
          "model_module_version": "1.2.0",
          "model_name": "LayoutModel",
          "state": {
            "_model_module": "@jupyter-widgets/base",
            "_model_module_version": "1.2.0",
            "_model_name": "LayoutModel",
            "_view_count": null,
            "_view_module": "@jupyter-widgets/base",
            "_view_module_version": "1.2.0",
            "_view_name": "LayoutView",
            "align_content": null,
            "align_items": null,
            "align_self": null,
            "border": null,
            "bottom": null,
            "display": null,
            "flex": null,
            "flex_flow": null,
            "grid_area": null,
            "grid_auto_columns": null,
            "grid_auto_flow": null,
            "grid_auto_rows": null,
            "grid_column": null,
            "grid_gap": null,
            "grid_row": null,
            "grid_template_areas": null,
            "grid_template_columns": null,
            "grid_template_rows": null,
            "height": null,
            "justify_content": null,
            "justify_items": null,
            "left": null,
            "margin": null,
            "max_height": null,
            "max_width": null,
            "min_height": null,
            "min_width": null,
            "object_fit": null,
            "object_position": null,
            "order": null,
            "overflow": null,
            "overflow_x": null,
            "overflow_y": null,
            "padding": null,
            "right": null,
            "top": null,
            "visibility": null,
            "width": null
          }
        },
        "5740798eedc348cba76f4fdf0f93e45f": {
          "model_module": "@jupyter-widgets/base",
          "model_module_version": "1.2.0",
          "model_name": "LayoutModel",
          "state": {
            "_model_module": "@jupyter-widgets/base",
            "_model_module_version": "1.2.0",
            "_model_name": "LayoutModel",
            "_view_count": null,
            "_view_module": "@jupyter-widgets/base",
            "_view_module_version": "1.2.0",
            "_view_name": "LayoutView",
            "align_content": null,
            "align_items": null,
            "align_self": null,
            "border": null,
            "bottom": null,
            "display": null,
            "flex": null,
            "flex_flow": null,
            "grid_area": null,
            "grid_auto_columns": null,
            "grid_auto_flow": null,
            "grid_auto_rows": null,
            "grid_column": null,
            "grid_gap": null,
            "grid_row": null,
            "grid_template_areas": null,
            "grid_template_columns": null,
            "grid_template_rows": null,
            "height": null,
            "justify_content": null,
            "justify_items": null,
            "left": null,
            "margin": null,
            "max_height": null,
            "max_width": null,
            "min_height": null,
            "min_width": null,
            "object_fit": null,
            "object_position": null,
            "order": null,
            "overflow": null,
            "overflow_x": null,
            "overflow_y": null,
            "padding": null,
            "right": null,
            "top": null,
            "visibility": null,
            "width": null
          }
        },
        "632337f6f66248b3b76e787240ccc7ef": {
          "model_module": "@jupyter-widgets/controls",
          "model_module_version": "1.5.0",
          "model_name": "FloatProgressModel",
          "state": {
            "_dom_classes": [],
            "_model_module": "@jupyter-widgets/controls",
            "_model_module_version": "1.5.0",
            "_model_name": "FloatProgressModel",
            "_view_count": null,
            "_view_module": "@jupyter-widgets/controls",
            "_view_module_version": "1.5.0",
            "_view_name": "ProgressView",
            "bar_style": "danger",
            "description": "",
            "description_tooltip": null,
            "layout": "IPY_MODEL_4dc8be886a0c4676b31a464bdb2ab075",
            "max": 100,
            "min": 0,
            "orientation": "horizontal",
            "style": "IPY_MODEL_3f495fafbe764539be05a9fd5c507d36",
            "value": 28
          }
        },
        "67b6c684fe184711b14f1a422db1df35": {
          "model_module": "@jupyter-widgets/base",
          "model_module_version": "1.2.0",
          "model_name": "LayoutModel",
          "state": {
            "_model_module": "@jupyter-widgets/base",
            "_model_module_version": "1.2.0",
            "_model_name": "LayoutModel",
            "_view_count": null,
            "_view_module": "@jupyter-widgets/base",
            "_view_module_version": "1.2.0",
            "_view_name": "LayoutView",
            "align_content": null,
            "align_items": null,
            "align_self": null,
            "border": null,
            "bottom": null,
            "display": null,
            "flex": null,
            "flex_flow": null,
            "grid_area": null,
            "grid_auto_columns": null,
            "grid_auto_flow": null,
            "grid_auto_rows": null,
            "grid_column": null,
            "grid_gap": null,
            "grid_row": null,
            "grid_template_areas": null,
            "grid_template_columns": null,
            "grid_template_rows": null,
            "height": null,
            "justify_content": null,
            "justify_items": null,
            "left": null,
            "margin": null,
            "max_height": null,
            "max_width": null,
            "min_height": null,
            "min_width": null,
            "object_fit": null,
            "object_position": null,
            "order": null,
            "overflow": null,
            "overflow_x": null,
            "overflow_y": null,
            "padding": null,
            "right": null,
            "top": null,
            "visibility": null,
            "width": null
          }
        },
        "70d4bd675181462dbe603b8a3f0d02ba": {
          "model_module": "@jupyter-widgets/controls",
          "model_module_version": "1.5.0",
          "model_name": "DescriptionStyleModel",
          "state": {
            "_model_module": "@jupyter-widgets/controls",
            "_model_module_version": "1.5.0",
            "_model_name": "DescriptionStyleModel",
            "_view_count": null,
            "_view_module": "@jupyter-widgets/base",
            "_view_module_version": "1.2.0",
            "_view_name": "StyleView",
            "description_width": ""
          }
        },
        "7af2d1ab4deb43fd92a42ed75ae25ad2": {
          "model_module": "@jupyter-widgets/controls",
          "model_module_version": "1.5.0",
          "model_name": "HTMLModel",
          "state": {
            "_dom_classes": [],
            "_model_module": "@jupyter-widgets/controls",
            "_model_module_version": "1.5.0",
            "_model_name": "HTMLModel",
            "_view_count": null,
            "_view_module": "@jupyter-widgets/controls",
            "_view_module_version": "1.5.0",
            "_view_name": "HTMLView",
            "description": "",
            "description_tooltip": null,
            "layout": "IPY_MODEL_5740798eedc348cba76f4fdf0f93e45f",
            "placeholder": "​",
            "style": "IPY_MODEL_70d4bd675181462dbe603b8a3f0d02ba",
            "value": " 28%"
          }
        },
        "84dd7e2b163241bdba11d66b1f952a8a": {
          "model_module": "@jupyter-widgets/base",
          "model_module_version": "1.2.0",
          "model_name": "LayoutModel",
          "state": {
            "_model_module": "@jupyter-widgets/base",
            "_model_module_version": "1.2.0",
            "_model_name": "LayoutModel",
            "_view_count": null,
            "_view_module": "@jupyter-widgets/base",
            "_view_module_version": "1.2.0",
            "_view_name": "LayoutView",
            "align_content": null,
            "align_items": null,
            "align_self": null,
            "border": null,
            "bottom": null,
            "display": null,
            "flex": null,
            "flex_flow": null,
            "grid_area": null,
            "grid_auto_columns": null,
            "grid_auto_flow": null,
            "grid_auto_rows": null,
            "grid_column": null,
            "grid_gap": null,
            "grid_row": null,
            "grid_template_areas": null,
            "grid_template_columns": null,
            "grid_template_rows": null,
            "height": null,
            "justify_content": null,
            "justify_items": null,
            "left": null,
            "margin": null,
            "max_height": null,
            "max_width": null,
            "min_height": null,
            "min_width": null,
            "object_fit": null,
            "object_position": null,
            "order": null,
            "overflow": null,
            "overflow_x": null,
            "overflow_y": null,
            "padding": null,
            "right": null,
            "top": null,
            "visibility": null,
            "width": null
          }
        },
        "8aea2b6f73fd45d981c07f551b5e09db": {
          "model_module": "@jupyter-widgets/controls",
          "model_module_version": "1.5.0",
          "model_name": "DescriptionStyleModel",
          "state": {
            "_model_module": "@jupyter-widgets/controls",
            "_model_module_version": "1.5.0",
            "_model_name": "DescriptionStyleModel",
            "_view_count": null,
            "_view_module": "@jupyter-widgets/base",
            "_view_module_version": "1.2.0",
            "_view_name": "StyleView",
            "description_width": ""
          }
        },
        "8c5f6ad2c9cc40d09bb9d486d1acf11b": {
          "model_module": "@jupyter-widgets/base",
          "model_module_version": "1.2.0",
          "model_name": "LayoutModel",
          "state": {
            "_model_module": "@jupyter-widgets/base",
            "_model_module_version": "1.2.0",
            "_model_name": "LayoutModel",
            "_view_count": null,
            "_view_module": "@jupyter-widgets/base",
            "_view_module_version": "1.2.0",
            "_view_name": "LayoutView",
            "align_content": null,
            "align_items": null,
            "align_self": null,
            "border": null,
            "bottom": null,
            "display": null,
            "flex": null,
            "flex_flow": null,
            "grid_area": null,
            "grid_auto_columns": null,
            "grid_auto_flow": null,
            "grid_auto_rows": null,
            "grid_column": null,
            "grid_gap": null,
            "grid_row": null,
            "grid_template_areas": null,
            "grid_template_columns": null,
            "grid_template_rows": null,
            "height": null,
            "justify_content": null,
            "justify_items": null,
            "left": null,
            "margin": null,
            "max_height": null,
            "max_width": null,
            "min_height": null,
            "min_width": null,
            "object_fit": null,
            "object_position": null,
            "order": null,
            "overflow": null,
            "overflow_x": null,
            "overflow_y": null,
            "padding": null,
            "right": null,
            "top": null,
            "visibility": null,
            "width": null
          }
        },
        "925217a8bd094ce2b75d04276ae6b0e2": {
          "model_module": "@jupyter-widgets/controls",
          "model_module_version": "1.5.0",
          "model_name": "HBoxModel",
          "state": {
            "_dom_classes": [],
            "_model_module": "@jupyter-widgets/controls",
            "_model_module_version": "1.5.0",
            "_model_name": "HBoxModel",
            "_view_count": null,
            "_view_module": "@jupyter-widgets/controls",
            "_view_module_version": "1.5.0",
            "_view_name": "HBoxView",
            "box_style": "",
            "children": [
              "IPY_MODEL_bc0f7801a05a4e64b9d2a471add3b8b0",
              "IPY_MODEL_1ba653baebb64ba7901e6ce126e78405",
              "IPY_MODEL_f5a0492c843244d28ba4af22735c5dc5"
            ],
            "layout": "IPY_MODEL_84dd7e2b163241bdba11d66b1f952a8a"
          }
        },
        "9dfb85af3854401aaf9c78df8b7fcfcb": {
          "model_module": "@jupyter-widgets/base",
          "model_module_version": "1.2.0",
          "model_name": "LayoutModel",
          "state": {
            "_model_module": "@jupyter-widgets/base",
            "_model_module_version": "1.2.0",
            "_model_name": "LayoutModel",
            "_view_count": null,
            "_view_module": "@jupyter-widgets/base",
            "_view_module_version": "1.2.0",
            "_view_name": "LayoutView",
            "align_content": null,
            "align_items": null,
            "align_self": null,
            "border": null,
            "bottom": null,
            "display": null,
            "flex": null,
            "flex_flow": null,
            "grid_area": null,
            "grid_auto_columns": null,
            "grid_auto_flow": null,
            "grid_auto_rows": null,
            "grid_column": null,
            "grid_gap": null,
            "grid_row": null,
            "grid_template_areas": null,
            "grid_template_columns": null,
            "grid_template_rows": null,
            "height": null,
            "justify_content": null,
            "justify_items": null,
            "left": null,
            "margin": null,
            "max_height": null,
            "max_width": null,
            "min_height": null,
            "min_width": null,
            "object_fit": null,
            "object_position": null,
            "order": null,
            "overflow": null,
            "overflow_x": null,
            "overflow_y": null,
            "padding": null,
            "right": null,
            "top": null,
            "visibility": null,
            "width": null
          }
        },
        "bc0f7801a05a4e64b9d2a471add3b8b0": {
          "model_module": "@jupyter-widgets/controls",
          "model_module_version": "1.5.0",
          "model_name": "HTMLModel",
          "state": {
            "_dom_classes": [],
            "_model_module": "@jupyter-widgets/controls",
            "_model_module_version": "1.5.0",
            "_model_name": "HTMLModel",
            "_view_count": null,
            "_view_module": "@jupyter-widgets/controls",
            "_view_module_version": "1.5.0",
            "_view_name": "HTMLView",
            "description": "",
            "description_tooltip": null,
            "layout": "IPY_MODEL_c147fa34e381483697aa1d664653fcfa",
            "placeholder": "​",
            "style": "IPY_MODEL_271f12ce00b94e64b6b54b037f7b9fd6",
            "value": "100%"
          }
        },
        "bd1a1d82f30e4c7b8ffa856daafa6f16": {
          "model_module": "@jupyter-widgets/base",
          "model_module_version": "1.2.0",
          "model_name": "LayoutModel",
          "state": {
            "_model_module": "@jupyter-widgets/base",
            "_model_module_version": "1.2.0",
            "_model_name": "LayoutModel",
            "_view_count": null,
            "_view_module": "@jupyter-widgets/base",
            "_view_module_version": "1.2.0",
            "_view_name": "LayoutView",
            "align_content": null,
            "align_items": null,
            "align_self": null,
            "border": null,
            "bottom": null,
            "display": null,
            "flex": null,
            "flex_flow": null,
            "grid_area": null,
            "grid_auto_columns": null,
            "grid_auto_flow": null,
            "grid_auto_rows": null,
            "grid_column": null,
            "grid_gap": null,
            "grid_row": null,
            "grid_template_areas": null,
            "grid_template_columns": null,
            "grid_template_rows": null,
            "height": null,
            "justify_content": null,
            "justify_items": null,
            "left": null,
            "margin": null,
            "max_height": null,
            "max_width": null,
            "min_height": null,
            "min_width": null,
            "object_fit": null,
            "object_position": null,
            "order": null,
            "overflow": null,
            "overflow_x": null,
            "overflow_y": null,
            "padding": null,
            "right": null,
            "top": null,
            "visibility": null,
            "width": null
          }
        },
        "c147fa34e381483697aa1d664653fcfa": {
          "model_module": "@jupyter-widgets/base",
          "model_module_version": "1.2.0",
          "model_name": "LayoutModel",
          "state": {
            "_model_module": "@jupyter-widgets/base",
            "_model_module_version": "1.2.0",
            "_model_name": "LayoutModel",
            "_view_count": null,
            "_view_module": "@jupyter-widgets/base",
            "_view_module_version": "1.2.0",
            "_view_name": "LayoutView",
            "align_content": null,
            "align_items": null,
            "align_self": null,
            "border": null,
            "bottom": null,
            "display": null,
            "flex": null,
            "flex_flow": null,
            "grid_area": null,
            "grid_auto_columns": null,
            "grid_auto_flow": null,
            "grid_auto_rows": null,
            "grid_column": null,
            "grid_gap": null,
            "grid_row": null,
            "grid_template_areas": null,
            "grid_template_columns": null,
            "grid_template_rows": null,
            "height": null,
            "justify_content": null,
            "justify_items": null,
            "left": null,
            "margin": null,
            "max_height": null,
            "max_width": null,
            "min_height": null,
            "min_width": null,
            "object_fit": null,
            "object_position": null,
            "order": null,
            "overflow": null,
            "overflow_x": null,
            "overflow_y": null,
            "padding": null,
            "right": null,
            "top": null,
            "visibility": null,
            "width": null
          }
        },
        "e12a19b2b89c431aa0626f31e03aa28c": {
          "model_module": "@jupyter-widgets/controls",
          "model_module_version": "1.5.0",
          "model_name": "ProgressStyleModel",
          "state": {
            "_model_module": "@jupyter-widgets/controls",
            "_model_module_version": "1.5.0",
            "_model_name": "ProgressStyleModel",
            "_view_count": null,
            "_view_module": "@jupyter-widgets/base",
            "_view_module_version": "1.2.0",
            "_view_name": "StyleView",
            "bar_color": null,
            "description_width": ""
          }
        },
        "f0d7566d7993456c9868129e75799a8f": {
          "model_module": "@jupyter-widgets/controls",
          "model_module_version": "1.5.0",
          "model_name": "DescriptionStyleModel",
          "state": {
            "_model_module": "@jupyter-widgets/controls",
            "_model_module_version": "1.5.0",
            "_model_name": "DescriptionStyleModel",
            "_view_count": null,
            "_view_module": "@jupyter-widgets/base",
            "_view_module_version": "1.2.0",
            "_view_name": "StyleView",
            "description_width": ""
          }
        },
        "f5a0492c843244d28ba4af22735c5dc5": {
          "model_module": "@jupyter-widgets/controls",
          "model_module_version": "1.5.0",
          "model_name": "HTMLModel",
          "state": {
            "_dom_classes": [],
            "_model_module": "@jupyter-widgets/controls",
            "_model_module_version": "1.5.0",
            "_model_name": "HTMLModel",
            "_view_count": null,
            "_view_module": "@jupyter-widgets/controls",
            "_view_module_version": "1.5.0",
            "_view_name": "HTMLView",
            "description": "",
            "description_tooltip": null,
            "layout": "IPY_MODEL_bd1a1d82f30e4c7b8ffa856daafa6f16",
            "placeholder": "​",
            "style": "IPY_MODEL_8aea2b6f73fd45d981c07f551b5e09db",
            "value": " 10/10 [00:00&lt;00:00, 20.09it/s]"
          }
        }
      }
    }
  },
  "nbformat": 4,
  "nbformat_minor": 0
}
