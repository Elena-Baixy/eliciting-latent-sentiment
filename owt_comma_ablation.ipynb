{
 "cells": [
  {
   "cell_type": "code",
   "execution_count": 1,
   "metadata": {},
   "outputs": [
    {
     "name": "stdout",
     "output_type": "stream",
     "text": [
      "README.md\t\t    miniconda.sh  quick_start_pytorch.ipynb   wandb\n",
      "eliciting-latent-sentiment  miniconda3\t  quick_start_pytorch_images\n"
     ]
    }
   ],
   "source": [
    "!ls"
   ]
  },
  {
   "cell_type": "code",
   "execution_count": 2,
   "metadata": {},
   "outputs": [
    {
     "name": "stdout",
     "output_type": "stream",
     "text": [
      "/notebooks/eliciting-latent-sentiment\n"
     ]
    }
   ],
   "source": [
    "%cd eliciting-latent-sentiment"
   ]
  },
  {
   "cell_type": "code",
   "execution_count": 3,
   "metadata": {},
   "outputs": [
    {
     "name": "stdout",
     "output_type": "stream",
     "text": [
      "Collecting git+https://github.com/callummcdougall/CircuitsVis.git#subdirectory=python\n",
      "  Cloning https://github.com/callummcdougall/CircuitsVis.git to /tmp/pip-req-build-gl86gozl\n",
      "  Running command git clone --filter=blob:none --quiet https://github.com/callummcdougall/CircuitsVis.git /tmp/pip-req-build-gl86gozl\n",
      "  Resolved https://github.com/callummcdougall/CircuitsVis.git to commit e73cbe5c8f84ad27a6069e525e208b6d11d049b6\n",
      "  Installing build dependencies ... \u001b[?25ldone\n",
      "\u001b[?25h  Getting requirements to build wheel ... \u001b[?25ldone\n",
      "\u001b[?25h  Preparing metadata (pyproject.toml) ... \u001b[?25ldone\n",
      "\u001b[?25hCollecting torch<3.0,>=2.0\n",
      "  Downloading torch-2.0.1-cp39-cp39-manylinux1_x86_64.whl (619.9 MB)\n",
      "\u001b[2K     \u001b[90m━━━━━━━━━━━━━━━━━━━━━━━━━━━━━━━━━━━━━━━\u001b[0m \u001b[32m619.9/619.9 MB\u001b[0m \u001b[31m3.9 MB/s\u001b[0m eta \u001b[36m0:00:00\u001b[0m00:01\u001b[0m00:01\u001b[0m\n",
      "\u001b[?25hCollecting importlib-metadata<6.0.0,>=5.1.0\n",
      "  Downloading importlib_metadata-5.2.0-py3-none-any.whl (21 kB)\n",
      "Requirement already satisfied: numpy<2.0,>=1.21 in /usr/local/lib/python3.9/dist-packages (from circuitsvis==0.0.0) (1.23.4)\n",
      "Requirement already satisfied: zipp>=0.5 in /usr/local/lib/python3.9/dist-packages (from importlib-metadata<6.0.0,>=5.1.0->circuitsvis==0.0.0) (3.11.0)\n",
      "Collecting nvidia-cudnn-cu11==8.5.0.96\n",
      "  Downloading nvidia_cudnn_cu11-8.5.0.96-2-py3-none-manylinux1_x86_64.whl (557.1 MB)\n",
      "\u001b[2K     \u001b[90m━━━━━━━━━━━━━━━━━━━━━━━━━━━━━━━━━━━━━━━\u001b[0m \u001b[32m557.1/557.1 MB\u001b[0m \u001b[31m3.8 MB/s\u001b[0m eta \u001b[36m0:00:00\u001b[0m00:01\u001b[0m00:01\u001b[0m\n",
      "\u001b[?25hCollecting nvidia-nvtx-cu11==11.7.91\n",
      "  Downloading nvidia_nvtx_cu11-11.7.91-py3-none-manylinux1_x86_64.whl (98 kB)\n",
      "\u001b[2K     \u001b[90m━━━━━━━━━━━━━━━━━━━━━━━━━━━━━━━━━━━━━━━━\u001b[0m \u001b[32m98.6/98.6 kB\u001b[0m \u001b[31m24.5 MB/s\u001b[0m eta \u001b[36m0:00:00\u001b[0m\n",
      "\u001b[?25hCollecting nvidia-cuda-nvrtc-cu11==11.7.99\n",
      "  Downloading nvidia_cuda_nvrtc_cu11-11.7.99-2-py3-none-manylinux1_x86_64.whl (21.0 MB)\n",
      "\u001b[2K     \u001b[90m━━━━━━━━━━━━━━━━━━━━━━━━━━━━━━━━━━━━━━━━\u001b[0m \u001b[32m21.0/21.0 MB\u001b[0m \u001b[31m67.4 MB/s\u001b[0m eta \u001b[36m0:00:00\u001b[0m00:01\u001b[0m00:01\u001b[0m\n",
      "\u001b[?25hRequirement already satisfied: filelock in /usr/local/lib/python3.9/dist-packages (from torch<3.0,>=2.0->circuitsvis==0.0.0) (3.9.0)\n",
      "Collecting nvidia-cublas-cu11==11.10.3.66\n",
      "  Downloading nvidia_cublas_cu11-11.10.3.66-py3-none-manylinux1_x86_64.whl (317.1 MB)\n",
      "\u001b[2K     \u001b[90m━━━━━━━━━━━━━━━━━━━━━━━━━━━━━━━━━━━━━━━\u001b[0m \u001b[32m317.1/317.1 MB\u001b[0m \u001b[31m6.1 MB/s\u001b[0m eta \u001b[36m0:00:00\u001b[0m00:01\u001b[0m00:01\u001b[0m\n",
      "\u001b[?25hRequirement already satisfied: networkx in /usr/local/lib/python3.9/dist-packages (from torch<3.0,>=2.0->circuitsvis==0.0.0) (3.0)\n",
      "Collecting nvidia-curand-cu11==10.2.10.91\n",
      "  Downloading nvidia_curand_cu11-10.2.10.91-py3-none-manylinux1_x86_64.whl (54.6 MB)\n",
      "\u001b[2K     \u001b[90m━━━━━━━━━━━━━━━━━━━━━━━━━━━━━━━━━━━━━━━━\u001b[0m \u001b[32m54.6/54.6 MB\u001b[0m \u001b[31m32.4 MB/s\u001b[0m eta \u001b[36m0:00:00\u001b[0m00:01\u001b[0m00:01\u001b[0m\n",
      "\u001b[?25hCollecting nvidia-cusolver-cu11==11.4.0.1\n",
      "  Downloading nvidia_cusolver_cu11-11.4.0.1-2-py3-none-manylinux1_x86_64.whl (102.6 MB)\n",
      "\u001b[2K     \u001b[90m━━━━━━━━━━━━━━━━━━━━━━━━━━━━━━━━━━━━━━\u001b[0m \u001b[32m102.6/102.6 MB\u001b[0m \u001b[31m19.1 MB/s\u001b[0m eta \u001b[36m0:00:00\u001b[0m00:01\u001b[0m00:01\u001b[0m\n",
      "\u001b[?25hCollecting nvidia-cuda-runtime-cu11==11.7.99\n",
      "  Downloading nvidia_cuda_runtime_cu11-11.7.99-py3-none-manylinux1_x86_64.whl (849 kB)\n",
      "\u001b[2K     \u001b[90m━━━━━━━━━━━━━━━━━━━━━━━━━━━━━━━━━━━━━━\u001b[0m \u001b[32m849.3/849.3 kB\u001b[0m \u001b[31m82.0 MB/s\u001b[0m eta \u001b[36m0:00:00\u001b[0m\n",
      "\u001b[?25hCollecting nvidia-nccl-cu11==2.14.3\n",
      "  Downloading nvidia_nccl_cu11-2.14.3-py3-none-manylinux1_x86_64.whl (177.1 MB)\n",
      "\u001b[2K     \u001b[90m━━━━━━━━━━━━━━━━━━━━━━━━━━━━━━━━━━━━━━\u001b[0m \u001b[32m177.1/177.1 MB\u001b[0m \u001b[31m10.6 MB/s\u001b[0m eta \u001b[36m0:00:00\u001b[0m00:01\u001b[0m00:01\u001b[0m\n",
      "\u001b[?25hCollecting triton==2.0.0\n",
      "  Downloading triton-2.0.0-1-cp39-cp39-manylinux2014_x86_64.manylinux_2_17_x86_64.whl (63.3 MB)\n",
      "\u001b[2K     \u001b[90m━━━━━━━━━━━━━━━━━━━━━━━━━━━━━━━━━━━━━━━━\u001b[0m \u001b[32m63.3/63.3 MB\u001b[0m \u001b[31m24.3 MB/s\u001b[0m eta \u001b[36m0:00:00\u001b[0m00:01\u001b[0m00:01\u001b[0m\n",
      "\u001b[?25hCollecting nvidia-cufft-cu11==10.9.0.58\n",
      "  Downloading nvidia_cufft_cu11-10.9.0.58-py3-none-manylinux1_x86_64.whl (168.4 MB)\n",
      "\u001b[2K     \u001b[90m━━━━━━━━━━━━━━━━━━━━━━━━━━━━━━━━━━━━━━\u001b[0m \u001b[32m168.4/168.4 MB\u001b[0m \u001b[31m11.6 MB/s\u001b[0m eta \u001b[36m0:00:00\u001b[0m00:01\u001b[0m00:01\u001b[0m\n",
      "\u001b[?25hCollecting sympy\n",
      "  Downloading sympy-1.12-py3-none-any.whl (5.7 MB)\n",
      "\u001b[2K     \u001b[90m━━━━━━━━━━━━━━━━━━━━━━━━━━━━━━━━━━━━━━━━\u001b[0m \u001b[32m5.7/5.7 MB\u001b[0m \u001b[31m92.7 MB/s\u001b[0m eta \u001b[36m0:00:00\u001b[0m:00:01\u001b[0m\n",
      "\u001b[?25hCollecting nvidia-cuda-cupti-cu11==11.7.101\n",
      "  Downloading nvidia_cuda_cupti_cu11-11.7.101-py3-none-manylinux1_x86_64.whl (11.8 MB)\n",
      "\u001b[2K     \u001b[90m━━━━━━━━━━━━━━━━━━━━━━━━━━━━━━━━━━━━━━━━\u001b[0m \u001b[32m11.8/11.8 MB\u001b[0m \u001b[31m86.9 MB/s\u001b[0m eta \u001b[36m0:00:00\u001b[0m00:01\u001b[0m0:01\u001b[0mm\n",
      "\u001b[?25hRequirement already satisfied: jinja2 in /usr/local/lib/python3.9/dist-packages (from torch<3.0,>=2.0->circuitsvis==0.0.0) (3.1.2)\n",
      "Collecting nvidia-cusparse-cu11==11.7.4.91\n",
      "  Downloading nvidia_cusparse_cu11-11.7.4.91-py3-none-manylinux1_x86_64.whl (173.2 MB)\n",
      "\u001b[2K     \u001b[90m━━━━━━━━━━━━━━━━━━━━━━━━━━━━━━━━━━━━━━━\u001b[0m \u001b[32m173.2/173.2 MB\u001b[0m \u001b[31m8.6 MB/s\u001b[0m eta \u001b[36m0:00:00\u001b[0m00:01\u001b[0m00:01\u001b[0m\n",
      "\u001b[?25hRequirement already satisfied: typing-extensions in /usr/local/lib/python3.9/dist-packages (from torch<3.0,>=2.0->circuitsvis==0.0.0) (4.4.0)\n",
      "Requirement already satisfied: wheel in /usr/local/lib/python3.9/dist-packages (from nvidia-cublas-cu11==11.10.3.66->torch<3.0,>=2.0->circuitsvis==0.0.0) (0.35.1)\n",
      "Requirement already satisfied: setuptools in /usr/local/lib/python3.9/dist-packages (from nvidia-cublas-cu11==11.10.3.66->torch<3.0,>=2.0->circuitsvis==0.0.0) (66.1.1)\n",
      "Collecting cmake\n",
      "  Downloading cmake-3.27.2-py2.py3-none-manylinux2014_x86_64.manylinux_2_17_x86_64.whl (26.1 MB)\n",
      "\u001b[2K     \u001b[90m━━━━━━━━━━━━━━━━━━━━━━━━━━━━━━━━━━━━━━━━\u001b[0m \u001b[32m26.1/26.1 MB\u001b[0m \u001b[31m36.7 MB/s\u001b[0m eta \u001b[36m0:00:00\u001b[0m00:01\u001b[0m00:01\u001b[0m\n",
      "\u001b[?25hCollecting lit\n",
      "  Downloading lit-16.0.6.tar.gz (153 kB)\n",
      "\u001b[2K     \u001b[90m━━━━━━━━━━━━━━━━━━━━━━━━━━━━━━━━━━━━━━\u001b[0m \u001b[32m153.7/153.7 kB\u001b[0m \u001b[31m35.1 MB/s\u001b[0m eta \u001b[36m0:00:00\u001b[0m\n",
      "\u001b[?25h  Installing build dependencies ... \u001b[?25ldone\n",
      "\u001b[?25h  Getting requirements to build wheel ... \u001b[?25ldone\n",
      "\u001b[?25h  Installing backend dependencies ... \u001b[?25ldone\n",
      "\u001b[?25h  Preparing metadata (pyproject.toml) ... \u001b[?25ldone\n",
      "\u001b[?25hRequirement already satisfied: MarkupSafe>=2.0 in /usr/local/lib/python3.9/dist-packages (from jinja2->torch<3.0,>=2.0->circuitsvis==0.0.0) (2.1.2)\n",
      "Collecting mpmath>=0.19\n",
      "  Downloading mpmath-1.3.0-py3-none-any.whl (536 kB)\n",
      "\u001b[2K     \u001b[90m━━━━━━━━━━━━━━━━━━━━━━━━━━━━━━━━━━━━━━\u001b[0m \u001b[32m536.2/536.2 kB\u001b[0m \u001b[31m70.5 MB/s\u001b[0m eta \u001b[36m0:00:00\u001b[0m\n",
      "\u001b[?25hBuilding wheels for collected packages: circuitsvis, lit\n",
      "  Building wheel for circuitsvis (pyproject.toml) ... \u001b[?25ldone\n",
      "\u001b[?25h  Created wheel for circuitsvis: filename=circuitsvis-0.0.0-py3-none-any.whl size=6170536 sha256=764003ee58583f034d09633d8d0a75f294cffef811a91d5b65001b63739cfb08\n",
      "  Stored in directory: /tmp/pip-ephem-wheel-cache-4ch9jmzc/wheels/94/79/66/781b85e0732736078188d905010db6471f2787826da308336a\n",
      "  Building wheel for lit (pyproject.toml) ... \u001b[?25ldone\n",
      "\u001b[?25h  Created wheel for lit: filename=lit-16.0.6-py3-none-any.whl size=93583 sha256=96ffa6bcb594aa65a62ef2a3871cba7b71fbdc065e19b7f2d6dfcaa08cc6b4fa\n",
      "  Stored in directory: /root/.cache/pip/wheels/dd/a1/9c/f4e974f934c7a715a884a029e8b2b0b438486e654058fe8c80\n",
      "Successfully built circuitsvis lit\n",
      "Installing collected packages: mpmath, lit, cmake, sympy, nvidia-nvtx-cu11, nvidia-nccl-cu11, nvidia-cusparse-cu11, nvidia-curand-cu11, nvidia-cufft-cu11, nvidia-cuda-runtime-cu11, nvidia-cuda-nvrtc-cu11, nvidia-cuda-cupti-cu11, nvidia-cublas-cu11, importlib-metadata, nvidia-cusolver-cu11, nvidia-cudnn-cu11, triton, torch, circuitsvis\n",
      "  Attempting uninstall: importlib-metadata\n",
      "    Found existing installation: importlib-metadata 6.0.0\n",
      "    Uninstalling importlib-metadata-6.0.0:\n",
      "      Successfully uninstalled importlib-metadata-6.0.0\n",
      "  Attempting uninstall: torch\n",
      "    Found existing installation: torch 1.12.1+cu116\n",
      "    Uninstalling torch-1.12.1+cu116:\n",
      "      Successfully uninstalled torch-1.12.1+cu116\n",
      "\u001b[31mERROR: pip's dependency resolver does not currently take into account all the packages that are installed. This behaviour is the source of the following dependency conflicts.\n",
      "torchvision 0.13.1+cu116 requires torch==1.12.1, but you have torch 2.0.1 which is incompatible.\n",
      "torchaudio 0.12.1+cu116 requires torch==1.12.1, but you have torch 2.0.1 which is incompatible.\u001b[0m\u001b[31m\n",
      "\u001b[0mSuccessfully installed circuitsvis-0.0.0 cmake-3.27.2 importlib-metadata-5.2.0 lit-16.0.6 mpmath-1.3.0 nvidia-cublas-cu11-11.10.3.66 nvidia-cuda-cupti-cu11-11.7.101 nvidia-cuda-nvrtc-cu11-11.7.99 nvidia-cuda-runtime-cu11-11.7.99 nvidia-cudnn-cu11-8.5.0.96 nvidia-cufft-cu11-10.9.0.58 nvidia-curand-cu11-10.2.10.91 nvidia-cusolver-cu11-11.4.0.1 nvidia-cusparse-cu11-11.7.4.91 nvidia-nccl-cu11-2.14.3 nvidia-nvtx-cu11-11.7.91 sympy-1.12 torch-2.0.1 triton-2.0.0\n",
      "\u001b[33mWARNING: Running pip as the 'root' user can result in broken permissions and conflicting behaviour with the system package manager. It is recommended to use a virtual environment instead: https://pip.pypa.io/warnings/venv\u001b[0m\u001b[33m\n",
      "\u001b[0mCollecting transformer_lens\n",
      "  Downloading transformer_lens-1.5.0-py3-none-any.whl (105 kB)\n",
      "\u001b[2K     \u001b[90m━━━━━━━━━━━━━━━━━━━━━━━━━━━━━━━━━━━━━━\u001b[0m \u001b[32m105.9/105.9 kB\u001b[0m \u001b[31m11.5 MB/s\u001b[0m eta \u001b[36m0:00:00\u001b[0m\n",
      "\u001b[?25hRequirement already satisfied: torch>=1.10 in /usr/local/lib/python3.9/dist-packages (from transformer_lens) (2.0.1)\n",
      "Requirement already satisfied: pandas>=1.1.5 in /usr/local/lib/python3.9/dist-packages (from transformer_lens) (1.5.0)\n",
      "Collecting beartype<0.15.0,>=0.14.1\n",
      "  Downloading beartype-0.14.1-py3-none-any.whl (739 kB)\n",
      "\u001b[2K     \u001b[90m━━━━━━━━━━━━━━━━━━━━━━━━━━━━━━━━━━━━━━\u001b[0m \u001b[32m739.7/739.7 kB\u001b[0m \u001b[31m76.6 MB/s\u001b[0m eta \u001b[36m0:00:00\u001b[0m\n",
      "\u001b[?25hCollecting einops>=0.6.0\n",
      "  Downloading einops-0.6.1-py3-none-any.whl (42 kB)\n",
      "\u001b[2K     \u001b[90m━━━━━━━━━━━━━━━━━━━━━━━━━━━━━━━━━━━━━━━━\u001b[0m \u001b[32m42.2/42.2 kB\u001b[0m \u001b[31m5.3 MB/s\u001b[0m eta \u001b[36m0:00:00\u001b[0m\n",
      "\u001b[?25hCollecting datasets>=2.7.1\n",
      "  Downloading datasets-2.14.4-py3-none-any.whl (519 kB)\n",
      "\u001b[2K     \u001b[90m━━━━━━━━━━━━━━━━━━━━━━━━━━━━━━━━━━━━━━\u001b[0m \u001b[32m519.3/519.3 kB\u001b[0m \u001b[31m61.6 MB/s\u001b[0m eta \u001b[36m0:00:00\u001b[0m\n",
      "\u001b[?25hRequirement already satisfied: tqdm>=4.64.1 in /usr/local/lib/python3.9/dist-packages (from transformer_lens) (4.64.1)\n",
      "Collecting transformers>=4.25.1\n",
      "  Downloading transformers-4.31.0-py3-none-any.whl (7.4 MB)\n",
      "\u001b[2K     \u001b[90m━━━━━━━━━━━━━━━━━━━━━━━━━━━━━━━━━━━━━━━━\u001b[0m \u001b[32m7.4/7.4 MB\u001b[0m \u001b[31m84.6 MB/s\u001b[0m eta \u001b[36m0:00:00\u001b[0m:00:01\u001b[0m00:01\u001b[0m\n",
      "\u001b[?25hCollecting fancy-einsum>=0.0.3\n",
      "  Downloading fancy_einsum-0.0.3-py3-none-any.whl (6.2 kB)\n",
      "Requirement already satisfied: numpy>=1.21 in /usr/local/lib/python3.9/dist-packages (from transformer_lens) (1.23.4)\n",
      "Requirement already satisfied: rich>=12.6.0 in /usr/local/lib/python3.9/dist-packages (from transformer_lens) (13.2.0)\n",
      "Collecting wandb>=0.13.5\n",
      "  Downloading wandb-0.15.8-py3-none-any.whl (2.1 MB)\n",
      "\u001b[2K     \u001b[90m━━━━━━━━━━━━━━━━━━━━━━━━━━━━━━━━━━━━━━━━\u001b[0m \u001b[32m2.1/2.1 MB\u001b[0m \u001b[31m78.2 MB/s\u001b[0m eta \u001b[36m0:00:00\u001b[0m\n",
      "\u001b[?25hCollecting jaxtyping>=0.2.11\n",
      "  Downloading jaxtyping-0.2.21-py3-none-any.whl (25 kB)\n",
      "Requirement already satisfied: pyyaml>=5.1 in /usr/local/lib/python3.9/dist-packages (from datasets>=2.7.1->transformer_lens) (5.4.1)\n",
      "Requirement already satisfied: dill<0.3.8,>=0.3.0 in /usr/local/lib/python3.9/dist-packages (from datasets>=2.7.1->transformer_lens) (0.3.5.1)\n",
      "Requirement already satisfied: multiprocess in /usr/local/lib/python3.9/dist-packages (from datasets>=2.7.1->transformer_lens) (0.70.13)\n",
      "Requirement already satisfied: xxhash in /usr/local/lib/python3.9/dist-packages (from datasets>=2.7.1->transformer_lens) (3.2.0)\n",
      "Collecting huggingface-hub<1.0.0,>=0.14.0\n",
      "  Downloading huggingface_hub-0.16.4-py3-none-any.whl (268 kB)\n",
      "\u001b[2K     \u001b[90m━━━━━━━━━━━━━━━━━━━━━━━━━━━━━━━━━━━━━━\u001b[0m \u001b[32m268.8/268.8 kB\u001b[0m \u001b[31m47.5 MB/s\u001b[0m eta \u001b[36m0:00:00\u001b[0m\n",
      "\u001b[?25hRequirement already satisfied: fsspec[http]>=2021.11.1 in /usr/local/lib/python3.9/dist-packages (from datasets>=2.7.1->transformer_lens) (2023.1.0)\n",
      "Requirement already satisfied: packaging in /usr/local/lib/python3.9/dist-packages (from datasets>=2.7.1->transformer_lens) (23.0)\n",
      "Requirement already satisfied: pyarrow>=8.0.0 in /usr/local/lib/python3.9/dist-packages (from datasets>=2.7.1->transformer_lens) (10.0.1)\n",
      "Requirement already satisfied: aiohttp in /usr/local/lib/python3.9/dist-packages (from datasets>=2.7.1->transformer_lens) (3.8.3)\n",
      "Requirement already satisfied: requests>=2.19.0 in /usr/local/lib/python3.9/dist-packages (from datasets>=2.7.1->transformer_lens) (2.28.2)\n",
      "Collecting typeguard>=2.13.3\n",
      "  Downloading typeguard-4.1.2-py3-none-any.whl (33 kB)\n",
      "Requirement already satisfied: typing-extensions>=3.7.4.1 in /usr/local/lib/python3.9/dist-packages (from jaxtyping>=0.2.11->transformer_lens) (4.4.0)\n",
      "Requirement already satisfied: pytz>=2020.1 in /usr/local/lib/python3.9/dist-packages (from pandas>=1.1.5->transformer_lens) (2022.7.1)\n",
      "Requirement already satisfied: python-dateutil>=2.8.1 in /usr/local/lib/python3.9/dist-packages (from pandas>=1.1.5->transformer_lens) (2.8.2)\n",
      "Requirement already satisfied: markdown-it-py<3.0.0,>=2.1.0 in /usr/local/lib/python3.9/dist-packages (from rich>=12.6.0->transformer_lens) (2.1.0)\n",
      "Requirement already satisfied: pygments<3.0.0,>=2.6.0 in /usr/local/lib/python3.9/dist-packages (from rich>=12.6.0->transformer_lens) (2.14.0)\n",
      "Requirement already satisfied: nvidia-nvtx-cu11==11.7.91 in /usr/local/lib/python3.9/dist-packages (from torch>=1.10->transformer_lens) (11.7.91)\n",
      "Requirement already satisfied: nvidia-cuda-nvrtc-cu11==11.7.99 in /usr/local/lib/python3.9/dist-packages (from torch>=1.10->transformer_lens) (11.7.99)\n",
      "Requirement already satisfied: nvidia-cufft-cu11==10.9.0.58 in /usr/local/lib/python3.9/dist-packages (from torch>=1.10->transformer_lens) (10.9.0.58)\n",
      "Requirement already satisfied: nvidia-cublas-cu11==11.10.3.66 in /usr/local/lib/python3.9/dist-packages (from torch>=1.10->transformer_lens) (11.10.3.66)\n",
      "Requirement already satisfied: triton==2.0.0 in /usr/local/lib/python3.9/dist-packages (from torch>=1.10->transformer_lens) (2.0.0)\n",
      "Requirement already satisfied: sympy in /usr/local/lib/python3.9/dist-packages (from torch>=1.10->transformer_lens) (1.12)\n",
      "Requirement already satisfied: nvidia-cuda-cupti-cu11==11.7.101 in /usr/local/lib/python3.9/dist-packages (from torch>=1.10->transformer_lens) (11.7.101)\n",
      "Requirement already satisfied: filelock in /usr/local/lib/python3.9/dist-packages (from torch>=1.10->transformer_lens) (3.9.0)\n",
      "Requirement already satisfied: nvidia-cuda-runtime-cu11==11.7.99 in /usr/local/lib/python3.9/dist-packages (from torch>=1.10->transformer_lens) (11.7.99)\n",
      "Requirement already satisfied: nvidia-curand-cu11==10.2.10.91 in /usr/local/lib/python3.9/dist-packages (from torch>=1.10->transformer_lens) (10.2.10.91)\n",
      "Requirement already satisfied: nvidia-cusolver-cu11==11.4.0.1 in /usr/local/lib/python3.9/dist-packages (from torch>=1.10->transformer_lens) (11.4.0.1)\n",
      "Requirement already satisfied: nvidia-cudnn-cu11==8.5.0.96 in /usr/local/lib/python3.9/dist-packages (from torch>=1.10->transformer_lens) (8.5.0.96)\n",
      "Requirement already satisfied: nvidia-nccl-cu11==2.14.3 in /usr/local/lib/python3.9/dist-packages (from torch>=1.10->transformer_lens) (2.14.3)\n",
      "Requirement already satisfied: nvidia-cusparse-cu11==11.7.4.91 in /usr/local/lib/python3.9/dist-packages (from torch>=1.10->transformer_lens) (11.7.4.91)\n",
      "Requirement already satisfied: networkx in /usr/local/lib/python3.9/dist-packages (from torch>=1.10->transformer_lens) (3.0)\n",
      "Requirement already satisfied: jinja2 in /usr/local/lib/python3.9/dist-packages (from torch>=1.10->transformer_lens) (3.1.2)\n",
      "Requirement already satisfied: setuptools in /usr/local/lib/python3.9/dist-packages (from nvidia-cublas-cu11==11.10.3.66->torch>=1.10->transformer_lens) (66.1.1)\n",
      "Requirement already satisfied: wheel in /usr/local/lib/python3.9/dist-packages (from nvidia-cublas-cu11==11.10.3.66->torch>=1.10->transformer_lens) (0.35.1)\n",
      "Requirement already satisfied: cmake in /usr/local/lib/python3.9/dist-packages (from triton==2.0.0->torch>=1.10->transformer_lens) (3.27.2)\n",
      "Requirement already satisfied: lit in /usr/local/lib/python3.9/dist-packages (from triton==2.0.0->torch>=1.10->transformer_lens) (16.0.6)\n",
      "Requirement already satisfied: regex!=2019.12.17 in /usr/local/lib/python3.9/dist-packages (from transformers>=4.25.1->transformer_lens) (2022.10.31)\n",
      "Requirement already satisfied: tokenizers!=0.11.3,<0.14,>=0.11.1 in /usr/local/lib/python3.9/dist-packages (from transformers>=4.25.1->transformer_lens) (0.12.1)\n",
      "Collecting safetensors>=0.3.1\n",
      "  Downloading safetensors-0.3.2-cp39-cp39-manylinux_2_17_x86_64.manylinux2014_x86_64.whl (1.3 MB)\n",
      "\u001b[2K     \u001b[90m━━━━━━━━━━━━━━━━━━━━━━━━━━━━━━━━━━━━━━━━\u001b[0m \u001b[32m1.3/1.3 MB\u001b[0m \u001b[31m40.3 MB/s\u001b[0m eta \u001b[36m0:00:00\u001b[0m \u001b[36m0:00:01\u001b[0m\n",
      "\u001b[?25hRequirement already satisfied: pathtools in /usr/local/lib/python3.9/dist-packages (from wandb>=0.13.5->transformer_lens) (0.1.2)\n",
      "Requirement already satisfied: GitPython!=3.1.29,>=1.0.0 in /usr/local/lib/python3.9/dist-packages (from wandb>=0.13.5->transformer_lens) (3.1.30)\n",
      "Collecting appdirs>=1.4.3\n",
      "  Downloading appdirs-1.4.4-py2.py3-none-any.whl (9.6 kB)\n",
      "Requirement already satisfied: protobuf!=4.21.0,<5,>=3.15.0 in /usr/local/lib/python3.9/dist-packages (from wandb>=0.13.5->transformer_lens) (3.19.6)\n",
      "Requirement already satisfied: docker-pycreds>=0.4.0 in /usr/local/lib/python3.9/dist-packages (from wandb>=0.13.5->transformer_lens) (0.4.0)\n",
      "Requirement already satisfied: Click!=8.0.0,>=7.1 in /usr/local/lib/python3.9/dist-packages (from wandb>=0.13.5->transformer_lens) (8.1.3)\n",
      "Requirement already satisfied: psutil>=5.0.0 in /usr/local/lib/python3.9/dist-packages (from wandb>=0.13.5->transformer_lens) (5.9.4)\n",
      "Requirement already satisfied: sentry-sdk>=1.0.0 in /usr/local/lib/python3.9/dist-packages (from wandb>=0.13.5->transformer_lens) (1.14.0)\n",
      "Requirement already satisfied: setproctitle in /usr/local/lib/python3.9/dist-packages (from wandb>=0.13.5->transformer_lens) (1.3.2)\n",
      "Requirement already satisfied: six>=1.4.0 in /usr/lib/python3/dist-packages (from docker-pycreds>=0.4.0->wandb>=0.13.5->transformer_lens) (1.14.0)\n",
      "Requirement already satisfied: charset-normalizer<3.0,>=2.0 in /usr/local/lib/python3.9/dist-packages (from aiohttp->datasets>=2.7.1->transformer_lens) (2.1.1)\n",
      "Requirement already satisfied: attrs>=17.3.0 in /usr/local/lib/python3.9/dist-packages (from aiohttp->datasets>=2.7.1->transformer_lens) (18.2.0)\n",
      "Requirement already satisfied: yarl<2.0,>=1.0 in /usr/local/lib/python3.9/dist-packages (from aiohttp->datasets>=2.7.1->transformer_lens) (1.8.2)\n",
      "Requirement already satisfied: multidict<7.0,>=4.5 in /usr/local/lib/python3.9/dist-packages (from aiohttp->datasets>=2.7.1->transformer_lens) (6.0.4)\n",
      "Requirement already satisfied: frozenlist>=1.1.1 in /usr/local/lib/python3.9/dist-packages (from aiohttp->datasets>=2.7.1->transformer_lens) (1.3.3)\n",
      "Requirement already satisfied: aiosignal>=1.1.2 in /usr/local/lib/python3.9/dist-packages (from aiohttp->datasets>=2.7.1->transformer_lens) (1.3.1)\n",
      "Requirement already satisfied: async-timeout<5.0,>=4.0.0a3 in /usr/local/lib/python3.9/dist-packages (from aiohttp->datasets>=2.7.1->transformer_lens) (4.0.2)\n",
      "Requirement already satisfied: gitdb<5,>=4.0.1 in /usr/local/lib/python3.9/dist-packages (from GitPython!=3.1.29,>=1.0.0->wandb>=0.13.5->transformer_lens) (4.0.10)\n",
      "Requirement already satisfied: mdurl~=0.1 in /usr/local/lib/python3.9/dist-packages (from markdown-it-py<3.0.0,>=2.1.0->rich>=12.6.0->transformer_lens) (0.1.2)\n",
      "Requirement already satisfied: idna<4,>=2.5 in /usr/lib/python3/dist-packages (from requests>=2.19.0->datasets>=2.7.1->transformer_lens) (2.8)\n",
      "Requirement already satisfied: urllib3<1.27,>=1.21.1 in /usr/local/lib/python3.9/dist-packages (from requests>=2.19.0->datasets>=2.7.1->transformer_lens) (1.26.14)\n",
      "Requirement already satisfied: certifi>=2017.4.17 in /usr/lib/python3/dist-packages (from requests>=2.19.0->datasets>=2.7.1->transformer_lens) (2019.11.28)\n",
      "Requirement already satisfied: importlib-metadata>=3.6 in /usr/local/lib/python3.9/dist-packages (from typeguard>=2.13.3->jaxtyping>=0.2.11->transformer_lens) (5.2.0)\n",
      "Collecting typing-extensions>=3.7.4.1\n",
      "  Downloading typing_extensions-4.7.1-py3-none-any.whl (33 kB)\n",
      "Requirement already satisfied: MarkupSafe>=2.0 in /usr/local/lib/python3.9/dist-packages (from jinja2->torch>=1.10->transformer_lens) (2.1.2)\n",
      "Requirement already satisfied: mpmath>=0.19 in /usr/local/lib/python3.9/dist-packages (from sympy->torch>=1.10->transformer_lens) (1.3.0)\n",
      "Requirement already satisfied: smmap<6,>=3.0.1 in /usr/local/lib/python3.9/dist-packages (from gitdb<5,>=4.0.1->GitPython!=3.1.29,>=1.0.0->wandb>=0.13.5->transformer_lens) (5.0.0)\n",
      "Requirement already satisfied: zipp>=0.5 in /usr/local/lib/python3.9/dist-packages (from importlib-metadata>=3.6->typeguard>=2.13.3->jaxtyping>=0.2.11->transformer_lens) (3.11.0)\n",
      "Installing collected packages: safetensors, appdirs, typing-extensions, fancy-einsum, einops, beartype, typeguard, huggingface-hub, wandb, transformers, jaxtyping, datasets, transformer_lens\n",
      "  Attempting uninstall: typing-extensions\n",
      "    Found existing installation: typing_extensions 4.4.0\n",
      "    Uninstalling typing_extensions-4.4.0:\n",
      "      Successfully uninstalled typing_extensions-4.4.0\n",
      "  Attempting uninstall: huggingface-hub\n",
      "    Found existing installation: huggingface-hub 0.12.0\n",
      "    Uninstalling huggingface-hub-0.12.0:\n",
      "      Successfully uninstalled huggingface-hub-0.12.0\n",
      "  Attempting uninstall: wandb\n",
      "    Found existing installation: wandb 0.13.4\n",
      "    Uninstalling wandb-0.13.4:\n",
      "      Successfully uninstalled wandb-0.13.4\n",
      "  Attempting uninstall: transformers\n",
      "    Found existing installation: transformers 4.21.3\n",
      "    Uninstalling transformers-4.21.3:\n",
      "      Successfully uninstalled transformers-4.21.3\n",
      "  Attempting uninstall: datasets\n",
      "    Found existing installation: datasets 2.4.0\n",
      "    Uninstalling datasets-2.4.0:\n",
      "      Successfully uninstalled datasets-2.4.0\n",
      "\u001b[31mERROR: pip's dependency resolver does not currently take into account all the packages that are installed. This behaviour is the source of the following dependency conflicts.\n",
      "torchvision 0.13.1+cu116 requires torch==1.12.1, but you have torch 2.0.1 which is incompatible.\u001b[0m\u001b[31m\n",
      "\u001b[0mSuccessfully installed appdirs-1.4.4 beartype-0.14.1 datasets-2.14.4 einops-0.6.1 fancy-einsum-0.0.3 huggingface-hub-0.16.4 jaxtyping-0.2.21 safetensors-0.3.2 transformer_lens-1.5.0 transformers-4.31.0 typeguard-4.1.2 typing-extensions-4.7.1 wandb-0.15.8\n",
      "\u001b[33mWARNING: Running pip as the 'root' user can result in broken permissions and conflicting behaviour with the system package manager. It is recommended to use a virtual environment instead: https://pip.pypa.io/warnings/venv\u001b[0m\u001b[33m\n",
      "\u001b[0mCollecting jaxtyping==0.2.13\n",
      "  Downloading jaxtyping-0.2.13-py3-none-any.whl (19 kB)\n",
      "Requirement already satisfied: typeguard>=2.13.3 in /usr/local/lib/python3.9/dist-packages (from jaxtyping==0.2.13) (4.1.2)\n",
      "Requirement already satisfied: typing-extensions>=3.7.4.1 in /usr/local/lib/python3.9/dist-packages (from jaxtyping==0.2.13) (4.7.1)\n",
      "Requirement already satisfied: numpy>=1.20.0 in /usr/local/lib/python3.9/dist-packages (from jaxtyping==0.2.13) (1.23.4)\n",
      "Requirement already satisfied: importlib-metadata>=3.6 in /usr/local/lib/python3.9/dist-packages (from typeguard>=2.13.3->jaxtyping==0.2.13) (5.2.0)\n",
      "Requirement already satisfied: zipp>=0.5 in /usr/local/lib/python3.9/dist-packages (from importlib-metadata>=3.6->typeguard>=2.13.3->jaxtyping==0.2.13) (3.11.0)\n",
      "Installing collected packages: jaxtyping\n",
      "  Attempting uninstall: jaxtyping\n",
      "    Found existing installation: jaxtyping 0.2.21\n",
      "    Uninstalling jaxtyping-0.2.21:\n",
      "      Successfully uninstalled jaxtyping-0.2.21\n",
      "Successfully installed jaxtyping-0.2.13\n",
      "\u001b[33mWARNING: Running pip as the 'root' user can result in broken permissions and conflicting behaviour with the system package manager. It is recommended to use a virtual environment instead: https://pip.pypa.io/warnings/venv\u001b[0m\u001b[33m\n",
      "\u001b[0mRequirement already satisfied: einops in /usr/local/lib/python3.9/dist-packages (0.6.1)\n",
      "\u001b[33mWARNING: Running pip as the 'root' user can result in broken permissions and conflicting behaviour with the system package manager. It is recommended to use a virtual environment instead: https://pip.pypa.io/warnings/venv\u001b[0m\u001b[33m\n",
      "\u001b[0mCollecting protobuf==3.20.*\n",
      "  Downloading protobuf-3.20.3-cp39-cp39-manylinux_2_5_x86_64.manylinux1_x86_64.whl (1.0 MB)\n",
      "\u001b[2K     \u001b[90m━━━━━━━━━━━━━━━━━━━━━━━━━━━━━━━━━━━━━━━━\u001b[0m \u001b[32m1.0/1.0 MB\u001b[0m \u001b[31m20.7 MB/s\u001b[0m eta \u001b[36m0:00:00\u001b[0m:00:01\u001b[0m\n",
      "\u001b[?25hInstalling collected packages: protobuf\n",
      "  Attempting uninstall: protobuf\n",
      "    Found existing installation: protobuf 3.19.6\n",
      "    Uninstalling protobuf-3.19.6:\n",
      "      Successfully uninstalled protobuf-3.19.6\n",
      "\u001b[31mERROR: pip's dependency resolver does not currently take into account all the packages that are installed. This behaviour is the source of the following dependency conflicts.\n",
      "tensorflow 2.9.2 requires protobuf<3.20,>=3.9.2, but you have protobuf 3.20.3 which is incompatible.\n",
      "tensorboard 2.9.1 requires protobuf<3.20,>=3.9.2, but you have protobuf 3.20.3 which is incompatible.\u001b[0m\u001b[31m\n",
      "\u001b[0mSuccessfully installed protobuf-3.20.3\n",
      "\u001b[33mWARNING: Running pip as the 'root' user can result in broken permissions and conflicting behaviour with the system package manager. It is recommended to use a virtual environment instead: https://pip.pypa.io/warnings/venv\u001b[0m\u001b[33m\n",
      "\u001b[0mCollecting plotly\n",
      "  Downloading plotly-5.16.1-py2.py3-none-any.whl (15.6 MB)\n",
      "\u001b[2K     \u001b[90m━━━━━━━━━━━━━━━━━━━━━━━━━━━━━━━━━━━━━━━━\u001b[0m \u001b[32m15.6/15.6 MB\u001b[0m \u001b[31m59.2 MB/s\u001b[0m eta \u001b[36m0:00:00\u001b[0m00:01\u001b[0m00:01\u001b[0m\n",
      "\u001b[?25hCollecting tenacity>=6.2.0\n",
      "  Downloading tenacity-8.2.3-py3-none-any.whl (24 kB)\n",
      "Requirement already satisfied: packaging in /usr/local/lib/python3.9/dist-packages (from plotly) (23.0)\n",
      "Installing collected packages: tenacity, plotly\n",
      "Successfully installed plotly-5.16.1 tenacity-8.2.3\n",
      "\u001b[33mWARNING: Running pip as the 'root' user can result in broken permissions and conflicting behaviour with the system package manager. It is recommended to use a virtual environment instead: https://pip.pypa.io/warnings/venv\u001b[0m\u001b[33m\n",
      "\u001b[0mCollecting torchtyping\n",
      "  Downloading torchtyping-0.1.4-py3-none-any.whl (17 kB)\n",
      "Requirement already satisfied: torch>=1.7.0 in /usr/local/lib/python3.9/dist-packages (from torchtyping) (2.0.1)\n",
      "Requirement already satisfied: typeguard>=2.11.1 in /usr/local/lib/python3.9/dist-packages (from torchtyping) (4.1.2)\n",
      "Requirement already satisfied: nvidia-cuda-nvrtc-cu11==11.7.99 in /usr/local/lib/python3.9/dist-packages (from torch>=1.7.0->torchtyping) (11.7.99)\n",
      "Requirement already satisfied: nvidia-cuda-runtime-cu11==11.7.99 in /usr/local/lib/python3.9/dist-packages (from torch>=1.7.0->torchtyping) (11.7.99)\n",
      "Requirement already satisfied: sympy in /usr/local/lib/python3.9/dist-packages (from torch>=1.7.0->torchtyping) (1.12)\n",
      "Requirement already satisfied: triton==2.0.0 in /usr/local/lib/python3.9/dist-packages (from torch>=1.7.0->torchtyping) (2.0.0)\n",
      "Requirement already satisfied: networkx in /usr/local/lib/python3.9/dist-packages (from torch>=1.7.0->torchtyping) (3.0)\n",
      "Requirement already satisfied: jinja2 in /usr/local/lib/python3.9/dist-packages (from torch>=1.7.0->torchtyping) (3.1.2)\n",
      "Requirement already satisfied: nvidia-curand-cu11==10.2.10.91 in /usr/local/lib/python3.9/dist-packages (from torch>=1.7.0->torchtyping) (10.2.10.91)\n",
      "Requirement already satisfied: nvidia-cuda-cupti-cu11==11.7.101 in /usr/local/lib/python3.9/dist-packages (from torch>=1.7.0->torchtyping) (11.7.101)\n",
      "Requirement already satisfied: typing-extensions in /usr/local/lib/python3.9/dist-packages (from torch>=1.7.0->torchtyping) (4.7.1)\n",
      "Requirement already satisfied: nvidia-nccl-cu11==2.14.3 in /usr/local/lib/python3.9/dist-packages (from torch>=1.7.0->torchtyping) (2.14.3)\n",
      "Requirement already satisfied: nvidia-cusparse-cu11==11.7.4.91 in /usr/local/lib/python3.9/dist-packages (from torch>=1.7.0->torchtyping) (11.7.4.91)\n",
      "Requirement already satisfied: nvidia-cublas-cu11==11.10.3.66 in /usr/local/lib/python3.9/dist-packages (from torch>=1.7.0->torchtyping) (11.10.3.66)\n",
      "Requirement already satisfied: nvidia-nvtx-cu11==11.7.91 in /usr/local/lib/python3.9/dist-packages (from torch>=1.7.0->torchtyping) (11.7.91)\n",
      "Requirement already satisfied: nvidia-cudnn-cu11==8.5.0.96 in /usr/local/lib/python3.9/dist-packages (from torch>=1.7.0->torchtyping) (8.5.0.96)\n",
      "Requirement already satisfied: nvidia-cufft-cu11==10.9.0.58 in /usr/local/lib/python3.9/dist-packages (from torch>=1.7.0->torchtyping) (10.9.0.58)\n",
      "Requirement already satisfied: nvidia-cusolver-cu11==11.4.0.1 in /usr/local/lib/python3.9/dist-packages (from torch>=1.7.0->torchtyping) (11.4.0.1)\n",
      "Requirement already satisfied: filelock in /usr/local/lib/python3.9/dist-packages (from torch>=1.7.0->torchtyping) (3.9.0)\n",
      "Requirement already satisfied: setuptools in /usr/local/lib/python3.9/dist-packages (from nvidia-cublas-cu11==11.10.3.66->torch>=1.7.0->torchtyping) (66.1.1)\n",
      "Requirement already satisfied: wheel in /usr/local/lib/python3.9/dist-packages (from nvidia-cublas-cu11==11.10.3.66->torch>=1.7.0->torchtyping) (0.35.1)\n",
      "Requirement already satisfied: cmake in /usr/local/lib/python3.9/dist-packages (from triton==2.0.0->torch>=1.7.0->torchtyping) (3.27.2)\n",
      "Requirement already satisfied: lit in /usr/local/lib/python3.9/dist-packages (from triton==2.0.0->torch>=1.7.0->torchtyping) (16.0.6)\n",
      "Requirement already satisfied: importlib-metadata>=3.6 in /usr/local/lib/python3.9/dist-packages (from typeguard>=2.11.1->torchtyping) (5.2.0)\n",
      "Requirement already satisfied: zipp>=0.5 in /usr/local/lib/python3.9/dist-packages (from importlib-metadata>=3.6->typeguard>=2.11.1->torchtyping) (3.11.0)\n",
      "Requirement already satisfied: MarkupSafe>=2.0 in /usr/local/lib/python3.9/dist-packages (from jinja2->torch>=1.7.0->torchtyping) (2.1.2)\n",
      "Requirement already satisfied: mpmath>=0.19 in /usr/local/lib/python3.9/dist-packages (from sympy->torch>=1.7.0->torchtyping) (1.3.0)\n",
      "Installing collected packages: torchtyping\n",
      "Successfully installed torchtyping-0.1.4\n",
      "\u001b[33mWARNING: Running pip as the 'root' user can result in broken permissions and conflicting behaviour with the system package manager. It is recommended to use a virtual environment instead: https://pip.pypa.io/warnings/venv\u001b[0m\u001b[33m\n",
      "\u001b[0mCollecting git+https://github.com/neelnanda-io/neel-plotly.git\n",
      "  Cloning https://github.com/neelnanda-io/neel-plotly.git to /tmp/pip-req-build-jfrhm8tt\n",
      "  Running command git clone --filter=blob:none --quiet https://github.com/neelnanda-io/neel-plotly.git /tmp/pip-req-build-jfrhm8tt\n",
      "  Resolved https://github.com/neelnanda-io/neel-plotly.git to commit 6dc24b26f8dec991908479d7445dae496b3430b7\n",
      "  Preparing metadata (setup.py) ... \u001b[?25ldone\n",
      "\u001b[?25hRequirement already satisfied: einops in /usr/local/lib/python3.9/dist-packages (from neel-plotly==0.0.0) (0.6.1)\n",
      "Requirement already satisfied: numpy in /usr/local/lib/python3.9/dist-packages (from neel-plotly==0.0.0) (1.23.4)\n",
      "Requirement already satisfied: torch in /usr/local/lib/python3.9/dist-packages (from neel-plotly==0.0.0) (2.0.1)\n",
      "Requirement already satisfied: plotly in /usr/local/lib/python3.9/dist-packages (from neel-plotly==0.0.0) (5.16.1)\n",
      "Requirement already satisfied: tqdm in /usr/local/lib/python3.9/dist-packages (from neel-plotly==0.0.0) (4.64.1)\n",
      "Requirement already satisfied: pandas in /usr/local/lib/python3.9/dist-packages (from neel-plotly==0.0.0) (1.5.0)\n",
      "Requirement already satisfied: python-dateutil>=2.8.1 in /usr/local/lib/python3.9/dist-packages (from pandas->neel-plotly==0.0.0) (2.8.2)\n",
      "Requirement already satisfied: pytz>=2020.1 in /usr/local/lib/python3.9/dist-packages (from pandas->neel-plotly==0.0.0) (2022.7.1)\n",
      "Requirement already satisfied: packaging in /usr/local/lib/python3.9/dist-packages (from plotly->neel-plotly==0.0.0) (23.0)\n",
      "Requirement already satisfied: tenacity>=6.2.0 in /usr/local/lib/python3.9/dist-packages (from plotly->neel-plotly==0.0.0) (8.2.3)\n",
      "Requirement already satisfied: nvidia-nvtx-cu11==11.7.91 in /usr/local/lib/python3.9/dist-packages (from torch->neel-plotly==0.0.0) (11.7.91)\n",
      "Requirement already satisfied: nvidia-cufft-cu11==10.9.0.58 in /usr/local/lib/python3.9/dist-packages (from torch->neel-plotly==0.0.0) (10.9.0.58)\n",
      "Requirement already satisfied: sympy in /usr/local/lib/python3.9/dist-packages (from torch->neel-plotly==0.0.0) (1.12)\n",
      "Requirement already satisfied: nvidia-nccl-cu11==2.14.3 in /usr/local/lib/python3.9/dist-packages (from torch->neel-plotly==0.0.0) (2.14.3)\n",
      "Requirement already satisfied: triton==2.0.0 in /usr/local/lib/python3.9/dist-packages (from torch->neel-plotly==0.0.0) (2.0.0)\n",
      "Requirement already satisfied: jinja2 in /usr/local/lib/python3.9/dist-packages (from torch->neel-plotly==0.0.0) (3.1.2)\n",
      "Requirement already satisfied: typing-extensions in /usr/local/lib/python3.9/dist-packages (from torch->neel-plotly==0.0.0) (4.7.1)\n",
      "Requirement already satisfied: networkx in /usr/local/lib/python3.9/dist-packages (from torch->neel-plotly==0.0.0) (3.0)\n",
      "Requirement already satisfied: nvidia-cuda-nvrtc-cu11==11.7.99 in /usr/local/lib/python3.9/dist-packages (from torch->neel-plotly==0.0.0) (11.7.99)\n",
      "Requirement already satisfied: nvidia-cuda-cupti-cu11==11.7.101 in /usr/local/lib/python3.9/dist-packages (from torch->neel-plotly==0.0.0) (11.7.101)\n",
      "Requirement already satisfied: nvidia-cublas-cu11==11.10.3.66 in /usr/local/lib/python3.9/dist-packages (from torch->neel-plotly==0.0.0) (11.10.3.66)\n",
      "Requirement already satisfied: nvidia-cuda-runtime-cu11==11.7.99 in /usr/local/lib/python3.9/dist-packages (from torch->neel-plotly==0.0.0) (11.7.99)\n",
      "Requirement already satisfied: nvidia-curand-cu11==10.2.10.91 in /usr/local/lib/python3.9/dist-packages (from torch->neel-plotly==0.0.0) (10.2.10.91)\n",
      "Requirement already satisfied: nvidia-cusolver-cu11==11.4.0.1 in /usr/local/lib/python3.9/dist-packages (from torch->neel-plotly==0.0.0) (11.4.0.1)\n",
      "Requirement already satisfied: nvidia-cudnn-cu11==8.5.0.96 in /usr/local/lib/python3.9/dist-packages (from torch->neel-plotly==0.0.0) (8.5.0.96)\n",
      "Requirement already satisfied: nvidia-cusparse-cu11==11.7.4.91 in /usr/local/lib/python3.9/dist-packages (from torch->neel-plotly==0.0.0) (11.7.4.91)\n",
      "Requirement already satisfied: filelock in /usr/local/lib/python3.9/dist-packages (from torch->neel-plotly==0.0.0) (3.9.0)\n",
      "Requirement already satisfied: setuptools in /usr/local/lib/python3.9/dist-packages (from nvidia-cublas-cu11==11.10.3.66->torch->neel-plotly==0.0.0) (66.1.1)\n",
      "Requirement already satisfied: wheel in /usr/local/lib/python3.9/dist-packages (from nvidia-cublas-cu11==11.10.3.66->torch->neel-plotly==0.0.0) (0.35.1)\n",
      "Requirement already satisfied: lit in /usr/local/lib/python3.9/dist-packages (from triton==2.0.0->torch->neel-plotly==0.0.0) (16.0.6)\n",
      "Requirement already satisfied: cmake in /usr/local/lib/python3.9/dist-packages (from triton==2.0.0->torch->neel-plotly==0.0.0) (3.27.2)\n",
      "Requirement already satisfied: six>=1.5 in /usr/lib/python3/dist-packages (from python-dateutil>=2.8.1->pandas->neel-plotly==0.0.0) (1.14.0)\n",
      "Requirement already satisfied: MarkupSafe>=2.0 in /usr/local/lib/python3.9/dist-packages (from jinja2->torch->neel-plotly==0.0.0) (2.1.2)\n",
      "Requirement already satisfied: mpmath>=0.19 in /usr/local/lib/python3.9/dist-packages (from sympy->torch->neel-plotly==0.0.0) (1.3.0)\n",
      "Building wheels for collected packages: neel-plotly\n",
      "  Building wheel for neel-plotly (setup.py) ... \u001b[?25ldone\n",
      "\u001b[?25h  Created wheel for neel-plotly: filename=neel_plotly-0.0.0-py3-none-any.whl size=10186 sha256=bbe2d4c80f62659d7fa2e5106db61a8a1b02a91cd685d7339188755f5b530b1e\n",
      "  Stored in directory: /tmp/pip-ephem-wheel-cache-3mtov2a5/wheels/e1/3c/c0/b5897c402b85e7fc329feb205ad5948b518f0423d891a79f7f\n",
      "Successfully built neel-plotly\n",
      "Installing collected packages: neel-plotly\n",
      "Successfully installed neel-plotly-0.0.0\n",
      "\u001b[33mWARNING: Running pip as the 'root' user can result in broken permissions and conflicting behaviour with the system package manager. It is recommended to use a virtual environment instead: https://pip.pypa.io/warnings/venv\u001b[0m\u001b[33m\n",
      "\u001b[0m"
     ]
    }
   ],
   "source": [
    "!pip install git+https://github.com/callummcdougall/CircuitsVis.git#subdirectory=python\n",
    "!pip install transformer_lens\n",
    "!pip install jaxtyping==0.2.13\n",
    "!pip install einops\n",
    "!pip install protobuf==3.20.*\n",
    "!pip install plotly\n",
    "!pip install torchtyping\n",
    "!pip install git+https://github.com/neelnanda-io/neel-plotly.git\n",
    "# !curl -fsSL https://deb.nodesource.com/setup_16.x | sudo -E bash -; sudo apt-get install -y nodejs\n",
    "# %pip install git+https://github.com/neelnanda-io/PySvelte.git\n",
    "# %pip install typeguard==2.13.3"
   ]
  },
  {
   "cell_type": "code",
   "execution_count": 4,
   "metadata": {},
   "outputs": [],
   "source": [
    "from IPython import get_ipython\n",
    "ipython = get_ipython()\n",
    "ipython.run_line_magic(\"load_ext\", \"autoreload\")\n",
    "ipython.run_line_magic(\"autoreload\", \"2\")"
   ]
  },
  {
   "cell_type": "code",
   "execution_count": 5,
   "metadata": {},
   "outputs": [],
   "source": [
    "import einops\n",
    "from functools import partial\n",
    "import torch\n",
    "from torch import Tensor\n",
    "from torch.utils.data import DataLoader\n",
    "from datasets import load_dataset\n",
    "from jaxtyping import Float, Int, Bool\n",
    "from typing import Dict, Iterable, List, Tuple, Union\n",
    "from transformer_lens import HookedTransformer\n",
    "from transformer_lens.utils import get_dataset, tokenize_and_concatenate, get_act_name, test_prompt\n",
    "from transformer_lens.hook_points import HookPoint\n",
    "from tqdm.notebook import tqdm\n",
    "import pandas as pd\n",
    "from circuitsvis.activations import text_neuron_activations\n",
    "from utils.store import load_array, save_html, save_array, is_file, get_model_name, clean_label, save_text"
   ]
  },
  {
   "cell_type": "code",
   "execution_count": 6,
   "metadata": {},
   "outputs": [
    {
     "data": {
      "application/vnd.jupyter.widget-view+json": {
       "model_id": "8a7bbb2e64ca440b8a35a00dc38abef1",
       "version_major": 2,
       "version_minor": 0
      },
      "text/plain": [
       "Downloading (…)lve/main/config.json:   0%|          | 0.00/571 [00:00<?, ?B/s]"
      ]
     },
     "metadata": {},
     "output_type": "display_data"
    },
    {
     "data": {
      "application/vnd.jupyter.widget-view+json": {
       "model_id": "7953748045374df6b606332fc4952348",
       "version_major": 2,
       "version_minor": 0
      },
      "text/plain": [
       "Downloading model.safetensors:   0%|          | 0.00/5.68G [00:00<?, ?B/s]"
      ]
     },
     "metadata": {},
     "output_type": "display_data"
    },
    {
     "data": {
      "application/vnd.jupyter.widget-view+json": {
       "model_id": "dea0378b9d0f47d4be505482a6002643",
       "version_major": 2,
       "version_minor": 0
      },
      "text/plain": [
       "Downloading (…)okenizer_config.json:   0%|          | 0.00/396 [00:00<?, ?B/s]"
      ]
     },
     "metadata": {},
     "output_type": "display_data"
    },
    {
     "data": {
      "application/vnd.jupyter.widget-view+json": {
       "model_id": "240abda16a9544c39c22ac0de6db0de9",
       "version_major": 2,
       "version_minor": 0
      },
      "text/plain": [
       "Downloading (…)/main/tokenizer.json:   0%|          | 0.00/2.11M [00:00<?, ?B/s]"
      ]
     },
     "metadata": {},
     "output_type": "display_data"
    },
    {
     "data": {
      "application/vnd.jupyter.widget-view+json": {
       "model_id": "82d0ffbc813d41488e37133c44b93548",
       "version_major": 2,
       "version_minor": 0
      },
      "text/plain": [
       "Downloading (…)cial_tokens_map.json:   0%|          | 0.00/99.0 [00:00<?, ?B/s]"
      ]
     },
     "metadata": {},
     "output_type": "display_data"
    },
    {
     "name": "stderr",
     "output_type": "stream",
     "text": [
      "Using pad_token, but it is not set yet.\n"
     ]
    },
    {
     "name": "stdout",
     "output_type": "stream",
     "text": [
      "Loaded pretrained model EleutherAI/pythia-2.8b into HookedTransformer\n"
     ]
    }
   ],
   "source": [
    "torch.set_grad_enabled(False)\n",
    "device = \"cuda\"\n",
    "MODEL_NAME = \"EleutherAI/pythia-2.8b\"\n",
    "model = HookedTransformer.from_pretrained(\n",
    "    MODEL_NAME,\n",
    "    center_unembed=True,\n",
    "    center_writing_weights=True,\n",
    "    fold_ln=True,\n",
    "    refactor_factored_attn_matrices=False,\n",
    "    device=device,\n",
    ")\n",
    "model.name = MODEL_NAME"
   ]
  },
  {
   "cell_type": "code",
   "execution_count": 7,
   "metadata": {},
   "outputs": [
    {
     "data": {
      "application/vnd.jupyter.widget-view+json": {
       "model_id": "7e6a2e51f133442c8146b57c2a38dcfe",
       "version_major": 2,
       "version_minor": 0
      },
      "text/plain": [
       "Downloading builder script:   0%|          | 0.00/3.08k [00:00<?, ?B/s]"
      ]
     },
     "metadata": {},
     "output_type": "display_data"
    },
    {
     "data": {
      "application/vnd.jupyter.widget-view+json": {
       "model_id": "4c7c5bcf60634d81aab13ddf6e31ceb9",
       "version_major": 2,
       "version_minor": 0
      },
      "text/plain": [
       "Downloading metadata:   0%|          | 0.00/1.33k [00:00<?, ?B/s]"
      ]
     },
     "metadata": {},
     "output_type": "display_data"
    },
    {
     "data": {
      "application/vnd.jupyter.widget-view+json": {
       "model_id": "4cd505e68d3a4a779f1ebff65213ec1c",
       "version_major": 2,
       "version_minor": 0
      },
      "text/plain": [
       "Downloading readme:   0%|          | 0.00/951 [00:00<?, ?B/s]"
      ]
     },
     "metadata": {},
     "output_type": "display_data"
    },
    {
     "name": "stderr",
     "output_type": "stream",
     "text": [
      "Repo card metadata block was not found. Setting CardData to empty.\n"
     ]
    },
    {
     "data": {
      "application/vnd.jupyter.widget-view+json": {
       "model_id": "4d2f5906459347cda5f4bab2dc9de456",
       "version_major": 2,
       "version_minor": 0
      },
      "text/plain": [
       "Downloading data:   0%|          | 0.00/14.7M [00:00<?, ?B/s]"
      ]
     },
     "metadata": {},
     "output_type": "display_data"
    },
    {
     "name": "stderr",
     "output_type": "stream",
     "text": [
      "/usr/local/lib/python3.9/dist-packages/datasets/download/download_manager.py:527: FutureWarning: 'num_proc' was deprecated in version 2.6.2 and will be removed in 3.0.0. Pass `DownloadConfig(num_proc=<num_proc>)` to the initializer instead.\n",
      "  warnings.warn(\n"
     ]
    },
    {
     "data": {
      "application/vnd.jupyter.widget-view+json": {
       "model_id": "a3b53868add243b0b4164d35ff2ed31b",
       "version_major": 2,
       "version_minor": 0
      },
      "text/plain": [
       "Extracting data files:   0%|          | 0/1 [00:00<?, ?it/s]"
      ]
     },
     "metadata": {},
     "output_type": "display_data"
    },
    {
     "data": {
      "application/vnd.jupyter.widget-view+json": {
       "model_id": "10ea399902b04d7885ac51c06bb35417",
       "version_major": 2,
       "version_minor": 0
      },
      "text/plain": [
       "Generating train split:   0%|          | 0/10000 [00:00<?, ? examples/s]"
      ]
     },
     "metadata": {},
     "output_type": "display_data"
    },
    {
     "data": {
      "application/vnd.jupyter.widget-view+json": {
       "model_id": "6bfd643cd8a84b008d461e3b1a86d0de",
       "version_major": 2,
       "version_minor": 0
      },
      "text/plain": [
       "Map (num_proc=10):   0%|          | 0/10000 [00:00<?, ? examples/s]"
      ]
     },
     "metadata": {},
     "output_type": "display_data"
    }
   ],
   "source": [
    "BATCH_SIZE = 12\n",
    "owt_data = load_dataset(\"stas/openwebtext-10k\", split=\"train\")\n",
    "dataset = tokenize_and_concatenate(owt_data, model.tokenizer)\n",
    "data_loader = DataLoader(\n",
    "    dataset, batch_size=BATCH_SIZE, shuffle=False, drop_last=True\n",
    ")"
   ]
  },
  {
   "cell_type": "code",
   "execution_count": 8,
   "metadata": {},
   "outputs": [],
   "source": [
    "def find_positions(tensor, token_ids=[11, 13]):\n",
    "    positions = []\n",
    "    for batch_item in tensor:\n",
    "        token_positions = {token_id: [] for token_id in token_ids}\n",
    "        for position, token in enumerate(batch_item):\n",
    "            if token.item() in token_ids:\n",
    "                token_positions[token.item()].append(position)\n",
    "        positions.append([token_positions[token_id] for token_id in token_ids])\n",
    "    return positions"
   ]
  },
  {
   "cell_type": "code",
   "execution_count": 9,
   "metadata": {},
   "outputs": [],
   "source": [
    "def zero_attention_pos_hook(\n",
    "    pattern: Float[Tensor, \"batch head seq_Q seq_K\"], hook: HookPoint,\n",
    "    pos_by_batch: List[List[int]], layer: int = 0, head_idx: int = 0,\n",
    ") -> Float[Tensor, \"batch head seq_Q seq_K\"]:\n",
    "    \"\"\"Zero-ablates an attention pattern tensor at a particular position\"\"\"\n",
    "    assert 'pattern' in hook.name\n",
    "\n",
    "    batch_size = pattern.shape[0]\n",
    "    assert len(pos_by_batch) == batch_size\n",
    "\n",
    "    for i in range(batch_size):\n",
    "        for p in pos_by_batch[i]:\n",
    "            pattern[i, head_idx, p, p] = 0\n",
    "            \n",
    "    return pattern"
   ]
  },
  {
   "cell_type": "code",
   "execution_count": 33,
   "metadata": {},
   "outputs": [],
   "source": [
    "heads_to_ablate = [(layer, head) for layer in range(0, 12) for head in range(model.cfg.n_heads)]\n",
    "\n",
    "def compute_modified_loss(model: HookedTransformer, data_loader: DataLoader) -> float:\n",
    "    total_loss = 0\n",
    "    for _, batch_value in tqdm(enumerate(data_loader), total=len(data_loader)):\n",
    "        batch_tokens = batch_value['tokens'].to(device)\n",
    "\n",
    "        # get positions of all 11 and 13 token ids in batch\n",
    "        punct_pos = find_positions(batch_tokens, token_ids=[13])\n",
    "\n",
    "        # get the loss for each token in the batch\n",
    "        initial_loss = model(batch_tokens, return_type=\"loss\", prepend_bos=False, loss_per_token=True)\n",
    "        \n",
    "        # add hooks for the activations of the 11 and 13 tokens\n",
    "        for layer, head in heads_to_ablate:\n",
    "            ablate_punct = partial(zero_attention_pos_hook, pos_by_batch=punct_pos, layer=layer, head_idx=head)\n",
    "            model.blocks[layer].attn.hook_pattern.add_hook(ablate_punct)\n",
    "\n",
    "        # get the loss for each token when run with hooks\n",
    "        hooked_loss = model(batch_tokens, return_type=\"loss\", prepend_bos=False, loss_per_token=True)\n",
    "\n",
    "        # compute the percent difference between the two losses\n",
    "        loss_diff = (hooked_loss - initial_loss) / initial_loss\n",
    "\n",
    "        break\n",
    "\n",
    "    model.reset_hooks()\n",
    "    return loss_diff, batch_tokens"
   ]
  },
  {
   "cell_type": "code",
   "execution_count": 34,
   "metadata": {},
   "outputs": [],
   "source": [
    "def plot_neuroscope(\n",
    "    tokens: Int[Tensor, \"batch pos\"], centred: bool = False, activations: Float[Tensor, \"pos layer 1\"] = None,\n",
    "    verbose=False,\n",
    "):\n",
    "    \n",
    "    str_tokens = model.to_str_tokens(tokens, prepend_bos=False)\n",
    "\n",
    "    if verbose:\n",
    "        print(f\"Tokens shape: {tokens.shape}\")\n",
    "  \n",
    "    if centred:\n",
    "        if verbose:\n",
    "            print(\"Centering activations\")\n",
    "        layer_means = einops.reduce(activations, \"pos layer 1 -> 1 layer 1\", reduction=\"mean\")\n",
    "        layer_means = einops.repeat(layer_means, \"1 layer 1 -> pos layer 1\", pos=activations.shape[0])\n",
    "        activations -= layer_means\n",
    "    elif verbose:\n",
    "        print(\"Activations already centered\")\n",
    "    assert (\n",
    "        activations.ndim == 3\n",
    "    ), f\"activations must be of shape [tokens x layers x neurons], found {activations.shape}\"\n",
    "    assert len(str_tokens) == activations.shape[0], (\n",
    "        f\"tokens and activations must have the same length, found tokens={len(str_tokens)} and acts={activations.shape[0]}, \"\n",
    "        f\"tokens={str_tokens}, \"\n",
    "        f\"activations={activations.shape}\"\n",
    "\n",
    "    )\n",
    "    return text_neuron_activations(\n",
    "        tokens=str_tokens, \n",
    "        activations=activations,\n",
    "        first_dimension_name=\"Layer (resid_pre)\",\n",
    "        second_dimension_name=\"Model\",\n",
    "        second_dimension_labels=[\"pythia-2.8b\"],\n",
    "    )"
   ]
  },
  {
   "cell_type": "code",
   "execution_count": 35,
   "metadata": {},
   "outputs": [
    {
     "data": {
      "text/plain": [
       "tensor([[ 0, 13]], device='cuda:0')"
      ]
     },
     "execution_count": 35,
     "metadata": {},
     "output_type": "execute_result"
    }
   ],
   "source": [
    "model.to_tokens(\",\")"
   ]
  },
  {
   "cell_type": "code",
   "execution_count": 36,
   "metadata": {},
   "outputs": [
    {
     "data": {
      "application/vnd.jupyter.widget-view+json": {
       "model_id": "b55d001b4523432d8f51648d119e028e",
       "version_major": 2,
       "version_minor": 0
      },
      "text/plain": [
       "  0%|          | 0/913 [00:00<?, ?it/s]"
      ]
     },
     "metadata": {},
     "output_type": "display_data"
    },
    {
     "data": {
      "text/plain": [
       "tensor([[ 0.0000e+00,  0.0000e+00,  0.0000e+00,  ..., -1.3038e-02,\n",
       "          1.4854e-03, -2.6410e-04],\n",
       "        [ 0.0000e+00,  0.0000e+00,  0.0000e+00,  ...,  3.4700e-02,\n",
       "          3.4489e-02,  4.2960e-03],\n",
       "        [ 0.0000e+00,  0.0000e+00,  0.0000e+00,  ..., -1.3008e-02,\n",
       "          1.4582e-02, -3.4803e-02],\n",
       "        ...,\n",
       "        [ 0.0000e+00,  0.0000e+00,  0.0000e+00,  ..., -1.2141e-02,\n",
       "         -9.9930e-05, -3.1701e-03],\n",
       "        [ 0.0000e+00,  0.0000e+00,  0.0000e+00,  ..., -1.5439e-02,\n",
       "         -8.9896e-03, -5.7110e-03],\n",
       "        [ 0.0000e+00,  0.0000e+00,  0.0000e+00,  ..., -9.8249e-03,\n",
       "          2.3714e-03,  7.0180e-04]], device='cuda:0')"
      ]
     },
     "execution_count": 36,
     "metadata": {},
     "output_type": "execute_result"
    }
   ],
   "source": [
    "loss_change_by_token, batch_tokens = compute_modified_loss(model, data_loader)\n",
    "loss_change_by_token"
   ]
  },
  {
   "cell_type": "code",
   "execution_count": 37,
   "metadata": {},
   "outputs": [],
   "source": [
    "# add one column of zeros to the loss change tensor\n",
    "loss_change_by_token = torch.cat([torch.zeros(loss_change_by_token.shape[0], 1).to(device), loss_change_by_token], dim=1)"
   ]
  },
  {
   "cell_type": "code",
   "execution_count": 38,
   "metadata": {},
   "outputs": [
    {
     "data": {
      "text/html": [
       "<div id=\"circuits-vis-f9f2c22e-a778\" style=\"margin: 15px 0;\"/>\n",
       "    <script crossorigin type=\"module\">\n",
       "    import { render, TextNeuronActivations } from \"https://unpkg.com/circuitsvis@1.40.1/dist/cdn/esm.js\";\n",
       "    render(\n",
       "      \"circuits-vis-f9f2c22e-a778\",\n",
       "      TextNeuronActivations,\n",
       "      {\"tokens\": [\"<|endoftext|>\", \" if\", \" Erik\", \" had\", \" been\", \" awake\", \",\", \" the\", \" fact\", \" that\", \" he\", \" was\", \" called\", \" upon\", \" as\", \" part\", \" of\", \" D\", \"audi\", \"\\u2019\", \"s\", \" \\u201c\", \"al\", \"ibi\", \"\\u201d\", \" should\", \" have\", \" clearly\", \" demonstrated\", \" his\", \" lack\", \" of\", \" independence\", \".\", \" Erik\", \" should\", \" not\", \" have\", \" been\", \" a\", \" part\", \" of\", \" the\", \" panel\", \" that\", \" the\", \" Board\", \" constituted\", \" to\", \" investigate\", \" and\", \" make\", \" a\", \" decision\", \".\", \" One\", \" cannot\", \" be\", \" a\", \" witness\", \" and\", \" judge\", \" in\", \" the\", \" same\", \" case\", \"!\", \" To\", \" date\", \",\", \" D\", \"audi\", \" still\", \" has\", \" his\", \" job\", \":\", \" From\", \" the\", \" board\", \"\\u2019\", \"s\", \" latest\", \" update\", \",\", \" D\", \"audi\", \" has\", \" only\", \" been\", \" suspended\", \".\", \" It\", \" is\", \" entirely\", \" possible\", \" that\", \" he\", \" may\", \" be\", \" reinst\", \"ated\", \" in\", \" the\", \" company\", \".\", \" This\", \" is\", \" despite\", \" the\", \" Board\", \" possessing\", \" audio\", \" evidence\", \" of\", \" him\", \" sexually\", \" harass\", \"ing\", \" his\", \" junior\", \" as\", \" well\", \" as\", \" allegations\", \" from\", \" a\", \" plurality\", \" of\", \" victims\", \" which\", \" relate\", \" to\", \" multiple\", \" occurrences\", \".\", \" Even\", \" with\", \" this\", \",\", \" it\", \" still\", \" took\", \" public\", \" pressure\", \" for\", \" the\", \" Board\", \" to\", \" first\", \" send\", \" him\", \" on\", \" leave\", \" then\", \" suspend\", \" him\", \".\", \" This\", \" is\", \" unacceptable\", \".\", \" How\", \" are\", \" victims\", \" supposed\", \" to\", \" come\", \" forward\", \" if\", \" this\", \" is\", \" how\", \" a\", \" company\", \" with\", \" the\", \" reputation\", \" of\", \" U\", \"sh\", \"ah\", \"idi\", \" handles\", \" these\", \" inc\", \"idences\", \"?\", \"\\n\", \"\\n\", \"I\", \"\\u2019\", \"ve\", \" received\", \" several\", \" explanations\", \" for\", \" the\", \" delay\", \":\", \" The\", \" Board\", \" claims\", \" that\", \" this\", \" was\", \" a\", \" complex\", \" matter\", \" because\", \" U\", \"sh\", \"ah\", \"idi\", \" is\", \" dom\", \"ic\", \"iled\", \" in\", \" the\", \" US\", \",\", \" yet\", \" the\", \" employees\", \" are\", \" Ken\", \"yan\", \" and\", \" the\", \" incident\", \" occurred\", \" in\", \" Kenya\", \".\", \" It\", \" really\", \" wasn\", \"\\u2019\", \"t\", \" that\", \" complicated\", \".\", \" Florida\", \" and\", \" Ken\", \"yan\", \" law\", \" are\", \" in\", \" sync\", \" when\", \" it\", \" comes\", \" to\", \" sexual\", \" harassment\", \" laws\", \":\", \" we\", \" checked\", \" this\", \" before\", \" we\", \" submitted\", \" my\", \" complaint\", \" and\", \" even\", \" attached\", \" excerpt\", \"s\", \" from\", \" both\", \" countries\", \"\\u2019\", \" laws\", \".\", \"\\n\", \"\\n\", \"The\", \" Board\", \" has\", \" also\", \" claimed\", \" that\", \" they\", \" were\", \" not\", \" able\", \" to\", \" action\", \" my\", \" complaint\", \" as\", \" quickly\", \" as\", \" they\", \" would\", \" have\", \" liked\", \" because\", \" they\", \" were\", \" trying\", \" to\", \" avoid\", \" a\", \" wrongful\", \" termination\", \" suit\", \".\", \" As\", \" explained\", \" above\", \" this\", \" is\", \" ins\", \"ince\", \"re\", \".\", \" Based\", \" on\", \" the\", \" speed\", \" of\", \" events\", \" from\", \" the\", \" 3\", \"rd\", \" of\", \" July\", \",\", \" this\", \" could\", \" have\", \" been\", \" handled\", \" in\", \" 2\", \" weeks\", \".\", \" So\", \" why\", \" did\", \" it\", \" take\", \" 74\", \" days\", \"?\", \" It\", \" seems\", \" clear\", \" that\", \" the\", \" board\", \" was\", \" looking\", \" for\", \" reasons\", \" not\", \" to\", \" act\", \" despite\", \" their\", \" verbal\", \" and\", \" written\", \" ass\", \"urances\", \" to\", \" the\", \" contrary\", \".\", \" In\", \" such\", \" a\", \" case\", \",\", \" the\", \" will\", \" to\", \" act\", \" is\", \" all\", \" that\", \" matters\", \".\", \" Not\", \" assumed\", \" best\", \" intentions\", \".\", \" And\", \" based\", \" on\", \" their\", \" findings\", \",\", \" D\", \"audi\", \" is\", \" guilty\", \" of\", \" misconduct\", \" on\", \" several\", \" fronts\", \".\", \" None\", \" of\", \" that\", \" was\", \" news\", \" and\", \" was\", \" obvious\", \" even\", \" before\", \" the\", \" 5\", \"th\", \" July\", \" In\", \"quiry\", \" was\", \" held\", \".\", \" This\", \" should\", \" not\", \" have\", \" taken\", \" as\", \" long\", \" as\", \" it\", \" did\", \".\", \"\\n\", \"\\n\", \"As\", \" detailed\", \" extensively\", \" above\", \",\", \" for\", \" some\", \" mysterious\", \" reason\", \" the\", \" U\", \"sh\", \"ah\", \"idi\", \" board\", \" and\", \" leadership\", \" has\", \" been\", \" reluctant\", \" to\", \" take\", \" action\", \" even\", \" when\", \" presented\", \" with\", \" clear\", \" evidence\", \" about\", \" D\", \"audi\", \"\\u2019\", \"s\", \" misconduct\", \".\", \" This\", \" completely\", \" b\", \"ogg\", \"les\", \" the\", \" mind\", \" because\", \" this\", \" scandal\", \" poses\", \" an\", \" existential\", \" risk\", \" to\", \" U\", \"sh\", \"ah\", \"idi\", \" as\", \" an\", \" organisation\", \".\", \" The\", \" N\", \"airo\", \"bi\", \" grape\", \"vine\", \" was\", \" already\", \" buzz\", \"ing\", \" with\", \" rum\", \"ours\", \" of\", \" this\", \" complaint\", \" after\", \" it\", \" was\", \" made\", \" on\", \" 4\", \"th\", \" May\", \".\", \" The\", \" board\", \" just\", \" seems\", \" to\", \" have\", \" gone\", \" out\", \" of\", \" its\", \" way\", \" to\", \" avoid\", \" dealing\", \" with\", \" my\", \" complaint\", \".\", \"\\n\", \"\\n\", \"The\", \" board\", \" has\", \" also\", \" been\", \" less\", \" than\", \" forth\", \"right\", \" in\", \" the\", \" following\", \" ways\", \":\", \"\\n\", \"\\n\", \"Cl\", \"ay\", \" Shir\", \"ky\", \" left\", \" the\", \" Board\", \" of\", \" U\", \"sh\", \"ah\", \"idi\", \" in\", \" October\", \" 2015\", \".\", \" This\", \" was\", \" not\", \" announced\", \" internally\", \" nor\", \" externally\", \".\", \" Up\", \" until\", \" 15\", \"th\", \" July\", \",\", \" Clay\", \" was\", \" still\", \" listed\", \" on\", \" the\", \" website\", \" as\", \" a\", \" Board\", \" Member\", \".\", \" The\", \" summary\", \" of\", \" the\", \" proceedings\", \" at\", \" the\", \" inquiry\", \" is\", \" dub\", \"iously\", \" interpreted\", \",\", \" contains\", \" some\", \" outright\", \" misrepresent\", \"ations\", \" as\", \" well\", \" as\", \" the\", \" omission\", \" of\", \" relevant\", \" sections\", \".\", \" This\", \" can\", \" be\", \" borne\", \" out\", \" by\", \" the\", \" recording\", \" of\", \" said\", \" proceedings\", \" which\", \" the\", \" Board\", \" possesses\", \" and\", \" I\", \" invite\", \" them\", \" to\", \" share\", \" this\", \" recording\", \" in\", \" its\", \" entirety\", \" with\", \" the\", \" public\", \".\", \" Intern\", \"ally\", \",\", \" U\", \"sh\", \"ah\", \"idi\", \" has\", \" an\", \" open\", \" door\", \" policy\", \".\", \" However\", \",\", \" it\", \" seems\", \" that\", \" this\", \" openness\", \" exists\", \" in\", \" spite\", \" of\", \",\", \" and\", \" not\", \" because\", \" of\", \" the\", \" Board\", \".\", \" Erik\", \" has\", \" invited\", \" the\", \" staff\", \" to\", \" report\", \" any\", \" incident\", \" of\", \" harassment\", \" ass\", \"uring\", \" them\", \" that\", \" the\", \" Board\", \" will\", \" handle\", \" it\", \" swiftly\", \".\", \" This\", \" assurance\", \" is\", \" solid\", \"ly\", \" contrad\", \"icted\", \" by\", \" how\", \" the\", \" Board\", \" has\", \" thus\", \" far\", \" treated\", \" the\", \" two\", \" staff\", \" members\", \" who\", \" were\", \" sexually\", \" proposition\", \"ed\", \" on\", \" 19\", \"th\", \" January\", \" 2017\", \",\", \" one\", \" of\", \" whom\", \" had\", \" evidence\", \" (\", \"mys\", \"elf\", \")\", \" and\", \" one\", \" who\", \" did\", \" not\", \".\", \" The\", \" Chron\", \"ology\", \" of\", \" Events\", \" provided\", \" by\", \" the\", \" Board\", \" on\", \" 17\", \"th\", \" July\", \" is\", \" economical\", \" with\", \" the\", \" truth\", \".\", \" Specific\", \" examples\", \" that\", \" demonstrate\", \" this\", \" are\", \":\", \"\\n\", \"\\n\", \"The\", \" failure\", \" to\", \" mention\", \" that\", \" I\", \" was\", \" travelling\", \" for\", \" work\", \" when\", \" I\", \" was\", \" unavailable\", \" on\", \" 31\", \"st\", \" May\", \".\", \" This\", \" is\", \" information\", \" the\", \" Board\", \" had\", \" easy\", \" access\", \" to\", \" and\", \" should\", \" have\", \" taken\", \" into\", \" consideration\", \" when\", \" they\", \" proposed\", \" a\", \" date\", \" for\", \" the\", \" hearing\", \".\", \"\\n\", \"\\n\", \"The\", \" inaccurate\", \" description\", \" of\", \" the\", \" process\", \" of\", \" the\", \" giving\", \" of\", \" the\", \" evidence\", \" (\", \"5\", \"th\", \" to\", \" 15\", \"th\", \" June\", \").\", \" See\", \" the\", \" timeline\", \" for\", \" what\", \" actually\", \" trans\", \"pired\", \",\", \" with\", \" an\", \" explanation\", \" for\", \" the\", \" delays\", \".\", \"\\n\", \"\\n\", \"The\", \" inaccurate\", \" description\", \" of\", \" the\", \" process\", \" of\", \" agreeing\", \" upon\", \" the\", \" terms\", \" of\", \" engagement\", \" to\", \" be\", \" used\", \" at\", \" the\", \" inquiry\", \" (\", \"20\", \"th\", \" and\", \" 27\", \"th\", \" June\", \")\", \"\\n\", \"\\n\", \"5\", \"th\", \" July\", \":\", \" At\", \" the\", \" hearing\", \",\", \" the\", \" Board\", \" stated\", \" they\", \" needed\", \" a\", \" week\", \" to\", \" make\", \" their\", \" decision\", \".\", \" This\", \" has\", \" now\", \" been\", \" revised\", \" to\", \" \\u201c\", \"7\", \" working\", \" days\", \" to\", \" communicate\", \" its\", \" decision\", \"\\u201d\", \"\\n\", \"\\n\", \"\\u201c\", \"5\", \"th\", \" July\", \":\", \" The\", \" Board\", \" communic\", \"ates\", \" its\", \" decision\", \" to\", \" send\", \" the\", \" Respondent\", \" on\", \" leave\", \" until\", \" a\", \" decision\", \" is\", \" made\", \".\\u201d\", \" It\", \" is\", \" not\", \" clear\", \" who\", \" they\", \" communicated\", \" that\", \" with\", \".\", \" It\", \" certainly\", \" was\", \" not\", \" to\", \" me\", \" in\", \" the\", \" course\", \" of\", \" the\", \" hearing\", \" nor\", \" to\", \" the\", \" staff\", \" as\", \" I\", \" had\", \" access\", \" to\", \" e\", \"-\", \"mails\", \" until\", \" 10\", \"th\", \" July\", \" and\", \" this\", \" had\", \" definitely\", \" not\", \" been\", \" communicated\", \" to\", \" the\", \" team\", \" by\", \" then\", \".\", \" D\", \"audi\", \" was\", \" first\", \" sent\", \" on\", \" leave\", \" on\", \" 12\", \"th\", \" July\", \" after\", \" significant\"], \"activations\": [[[0.0]], [[0.0]], [[0.0]], [[0.0]], [[0.0]], [[0.0]], [[0.0]], [[-0.01691831834614277]], [[0.015251773409545422]], [[-0.0044607361778616905]], [[-0.02913220226764679]], [[0.036764081567525864]], [[-0.012193010188639164]], [[-0.017365561798214912]], [[0.03075297363102436]], [[0.022511504590511322]], [[-0.01431666687130928]], [[0.002738880692049861]], [[0.006464425008744001]], [[-0.025717206299304962]], [[-0.043472178280353546]], [[-0.012545828707516193]], [[-0.0010443998035043478]], [[-0.011777713894844055]], [[0.036713480949401855]], [[0.08889748156070709]], [[0.031997714191675186]], [[-0.0114138787612319]], [[-0.025125551968812943]], [[0.007076669950038195]], [[-0.01672884076833725]], [[0.05435312166810036]], [[0.0008683959604240954]], [[-0.015657201409339905]], [[-0.005286229308694601]], [[-0.014053023420274258]], [[0.017098531126976013]], [[-0.03082295134663582]], [[-0.009410443715751171]], [[-0.006159263662993908]], [[-0.019371166825294495]], [[-0.00486984895542264]], [[-0.00044364441419020295]], [[0.006959531921893358]], [[-0.005652292165905237]], [[0.006419513840228319]], [[-0.0033241102937608957]], [[-0.0001150489115389064]], [[-0.010079044848680496]], [[-0.00035589144681580365]], [[0.001529540168121457]], [[-0.0009747445001266897]], [[-0.0016919123008847237]], [[-0.0019225258147343993]], [[-0.00544330570846796]], [[-0.0027029968332499266]], [[0.0054648397490382195]], [[-0.004636057186871767]], [[0.007070558611303568]], [[-0.017101319506764412]], [[0.006237740162760019]], [[0.005160078406333923]], [[-0.0009088727529160678]], [[0.00069791404530406]], [[-0.003681011265143752]], [[-0.0029610919300466776]], [[-0.004779371432960033]], [[0.002245977520942688]], [[-0.002660302212461829]], [[-0.010502500459551811]], [[-0.013342033140361309]], [[0.02844749391078949]], [[0.004216522444039583]], [[-0.01726101152598858]], [[0.00882741715759039]], [[-0.023023957386612892]], [[0.0006392840296030045]], [[-0.002841236302629113]], [[-0.015843532979488373]], [[0.006757894530892372]], [[-0.04216741397976875]], [[-0.021411260589957237]], [[-0.00441318191587925]], [[0.0009568359819240868]], [[-0.0035736472345888615]], [[0.0038534640334546566]], [[0.025910522788763046]], [[0.00030168311786837876]], [[0.007818919606506824]], [[0.025160105898976326]], [[-0.00228213332593441]], [[0.0007021478959359229]], [[-0.0010267742909491062]], [[0.014531491324305534]], [[-0.00492202490568161]], [[-0.024377621710300446]], [[-0.011279908940196037]], [[0.0007043522782623768]], [[0.004545767325907946]], [[0.012082255445420742]], [[-0.0030726483091712]], [[-0.04291711375117302]], [[-0.0005524323205463588]], [[0.01469887513667345]], [[-0.0024929551873356104]], [[0.0014253644039854407]], [[0.0006081996252760291]], [[0.011592919006943703]], [[-0.004906465299427509]], [[-0.0015852056676521897]], [[0.00034139573108404875]], [[0.002541780471801758]], [[-0.0031632985919713974]], [[0.005960786249488592]], [[-0.0009139248286373913]], [[0.005759574938565493]], [[-0.009042562916874886]], [[0.01476252730935812]], [[-0.008721467107534409]], [[-0.004137766547501087]], [[-3.1184241379378363e-05]], [[0.003992381971329451]], [[0.005374263506382704]], [[-0.011854050680994987]], [[-0.001698443666100502]], [[0.0005348980776034296]], [[-0.003951346967369318]], [[0.0008784641395322978]], [[-0.008884557522833347]], [[0.002190888626500964]], [[0.0014211899833753705]], [[0.00030357399373315275]], [[-0.004244695417582989]], [[-0.0005273069255053997]], [[-0.00025310981436632574]], [[-0.004565923474729061]], [[-0.0038182628341019154]], [[0.0008351185824722052]], [[0.00586211122572422]], [[0.005638097412884235]], [[0.04899553582072258]], [[0.0010417512385174632]], [[-0.019696705043315887]], [[0.01096747163683176]], [[0.006438113749027252]], [[-0.012063217349350452]], [[0.028335699811577797]], [[0.017876368016004562]], [[-0.006820785813033581]], [[0.00828130729496479]], [[-0.0028476607985794544]], [[-0.013002286665141582]], [[-0.012066137976944447]], [[0.006765663158148527]], [[-0.002670103218406439]], [[-0.030880732461810112]], [[0.010971520096063614]], [[-0.0131527716293931]], [[0.003063575364649296]], [[0.009869581088423729]], [[0.00599818816408515]], [[-0.006557970307767391]], [[-0.0001987228315556422]], [[0.0001393611601088196]], [[0.006166962441056967]], [[-0.0003423159650992602]], [[0.0]], [[-0.004370821639895439]], [[-0.019638976082205772]], [[-0.00471609178930521]], [[0.005835381336510181]], [[-0.001244915765710175]], [[0.008686634711921215]], [[0.003064037999138236]], [[0.0027395898941904306]], [[-0.002659687539562583]], [[-0.001999893691390753]], [[-0.003100427333265543]], [[-0.00782678835093975]], [[-0.0013923218939453363]], [[0.006541460286825895]], [[0.02569517120718956]], [[-0.02506619319319725]], [[0.002147658495232463]], [[0.003259100951254368]], [[0.0008127848268486559]], [[0.001342256087809801]], [[-0.02055135741829872]], [[0.027202017605304718]], [[0.0061218771152198315]], [[0.0021542361937463284]], [[-0.0012468721251934767]], [[0.0014928316231817007]], [[0.0002897801750805229]], [[-0.002122248988598585]], [[-0.0007052801665849984]], [[-0.006180630065500736]], [[-0.0019957157783210278]], [[-0.00045588903594762087]], [[-0.001972955884411931]], [[0.0020230095833539963]], [[0.007239083759486675]], [[-0.005430594086647034]], [[0.004305146634578705]], [[-0.0018695032922551036]], [[-0.004085015505552292]], [[0.011668646708130836]], [[0.0006635963800363243]], [[-9.275289630750194e-05]], [[0.002630258444696665]], [[8.670581155456603e-05]], [[-0.007649376522749662]], [[0.0047048162668943405]], [[0.019084300845861435]], [[0.0012173093855381012]], [[-0.0011846240377053618]], [[-0.017846092581748962]], [[-0.004828719887882471]], [[0.001976087223738432]], [[-0.00040948722744360566]], [[-0.00347139872610569]], [[-0.0020761783234775066]], [[0.09798118472099304]], [[-0.005570864304900169]], [[0.018664425238966942]], [[0.01789914071559906]], [[-0.010688270442187786]], [[-0.017593005672097206]], [[-0.010071207769215107]], [[0.0003402256406843662]], [[0.0005860099336132407]], [[0.0063143083825707436]], [[0.0069670239463448524]], [[0.022692101076245308]], [[-0.01790027879178524]], [[-0.0036032558418810368]], [[-0.0027340988162904978]], [[0.00454656733199954]], [[-0.014325189404189587]], [[-0.03135835751891136]], [[-0.007213459350168705]], [[0.008476169779896736]], [[-0.008793110027909279]], [[-0.00073197390884161]], [[-0.006093446630984545]], [[-0.00856706127524376]], [[0.0148895513266325]], [[0.01832570880651474]], [[-0.017775021493434906]], [[0.0009135362925007939]], [[0.005733465310186148]], [[0.000676917377859354]], [[-0.007566291373223066]], [[-0.06979945302009583]], [[-0.003685334697365761]], [[-0.016472235321998596]], [[-0.002672078786417842]], [[0.012296759523451328]], [[-0.001968257362022996]], [[0.0003598436596803367]], [[0.0032437213230878115]], [[-0.009384991601109505]], [[0.005335802212357521]], [[-0.006725122686475515]], [[0.002904510824009776]], [[-0.00042847092845477164]], [[-0.0020359624177217484]], [[0.00044516249909065664]], [[0.00122926477342844]], [[-0.0012141030747443438]], [[0.0016947430558502674]], [[-0.017923956736922264]], [[0.0005200784071348608]], [[-0.001024703960865736]], [[0.006748080253601074]], [[-0.003548252396285534]], [[-0.0001878503244370222]], [[-0.0014867447316646576]], [[0.009022721089422703]], [[0.01252169068902731]], [[0.006190463434904814]], [[0.021566467359662056]], [[-0.00688895583152771]], [[0.004039114341139793]], [[0.009749272838234901]], [[-0.003299671458080411]], [[0.005083813797682524]], [[-0.0026221605949103832]], [[0.000745423894841224]], [[-0.00933003332465887]], [[-0.0029966465663164854]], [[-0.002271233592182398]], [[-0.01153652649372816]], [[-0.012618894688785076]], [[-0.0037204292602837086]], [[-0.0050218249671161175]], [[-0.00812950637191534]], [[0.010799681767821312]], [[-0.0013412029948085546]], [[0.00011738011380657554]], [[-0.005057692062109709]], [[0.010927033610641956]], [[-0.0026919380761682987]], [[0.0005908947205170989]], [[0.004070127848535776]], [[0.006093762349337339]], [[0.0010441659251227975]], [[0.0020304585341364145]], [[0.00016468223475385457]], [[-0.0012799251126125455]], [[0.0049541727639734745]], [[0.001027813064865768]], [[-0.002065967535600066]], [[-0.002376908902078867]], [[-0.004231257829815149]], [[0.007341660093516111]], [[-0.013023154810070992]], [[0.0005052875494584441]], [[-0.006309504620730877]], [[0.0004164471465628594]], [[0.0004511202569119632]], [[-0.0013770069926977158]], [[-0.02260058932006359]], [[-0.001919922069646418]], [[-0.00015972771507222205]], [[0.0008991712238639593]], [[0.0003194388991687447]], [[-0.0031022450421005487]], [[-0.0005781740765087306]], [[-0.0014614377869293094]], [[0.002984757535159588]], [[0.016653139144182205]], [[-0.0008471488836221397]], [[-0.015123764052987099]], [[-0.010747510939836502]], [[0.03433268517255783]], [[0.029158199205994606]], [[0.01748315803706646]], [[0.033698443323373795]], [[0.01172155886888504]], [[0.014981834217905998]], [[0.006273502949625254]], [[0.009619839489459991]], [[0.003961922135204077]], [[-0.008671615272760391]], [[-0.00906634982675314]], [[0.020219415426254272]], [[0.004036411643028259]], [[0.0025514184962958097]], [[-0.03890770301222801]], [[0.02834181673824787]], [[-0.0027800884563475847]], [[-0.0073514231480658054]], [[-0.0032641892321407795]], [[-0.008350917138159275]], [[0.0009439408313483]], [[0.000970937660895288]], [[-0.0030669309198856354]], [[0.0022387246135622263]], [[-0.001900578266941011]], [[-0.00303816725499928]], [[-0.004760672803968191]], [[-0.004031462594866753]], [[0.005154315382242203]], [[-0.0014324281364679337]], [[-0.0034682517871260643]], [[0.0015511472010985017]], [[0.001992632634937763]], [[0.00013738997222390026]], [[0.0007219896069727838]], [[-0.005803624168038368]], [[0.005555859301239252]], [[-0.012312143109738827]], [[-0.06345020979642868]], [[-0.007441729307174683]], [[-0.0018574359128251672]], [[-0.0035345517098903656]], [[-0.006146025378257036]], [[9.659904753789306e-05]], [[-0.030342604964971542]], [[0.014118504710495472]], [[0.0017485382268205285]], [[-0.006614185869693756]], [[0.03577514737844467]], [[-0.0014768241671845317]], [[0.010401635430753231]], [[0.028746291995048523]], [[0.02570650354027748]], [[0.015959681943058968]], [[-0.009434833191335201]], [[0.005550107453018427]], [[0.0067172301933169365]], [[-0.010965780355036259]], [[0.01744861528277397]], [[0.005142848007380962]], [[-0.0021978644654154778]], [[-0.021773967891931534]], [[-0.0022560416255146265]], [[0.0007869747350923717]], [[0.0081776212900877]], [[0.007756800856441259]], [[-0.013056590221822262]], [[-0.014880693517625332]], [[0.018670134246349335]], [[0.008008701726794243]], [[-0.004899179562926292]], [[0.005488596390932798]], [[-0.009400510229170322]], [[0.00044677447294816375]], [[-0.008496527560055256]], [[1.4500034012598917e-05]], [[0.00856931321322918]], [[0.0036536853294819593]], [[-0.002623477252200246]], [[0.004337547812610865]], [[0.004038732498884201]], [[0.001622202224098146]], [[0.001942537957802415]], [[-0.00243184482678771]], [[-0.00162321119569242]], [[0.008791361004114151]], [[-0.008693809621036053]], [[-0.10131888091564178]], [[0.0034812958911061287]], [[0.00993697065860033]], [[0.0710110068321228]], [[0.0010481138015165925]], [[-0.005525766871869564]], [[0.0010332808597013354]], [[0.0005697020096704364]], [[-0.006536352448165417]], [[0.011654441244900227]], [[0.018964407965540886]], [[0.00489576393738389]], [[-0.004002391826361418]], [[-0.010913575068116188]], [[-0.007312575820833445]], [[0.014273378066718578]], [[-0.004798617213964462]], [[0.007600187323987484]], [[0.008254114538431168]], [[0.011124187149107456]], [[-0.002704460872337222]], [[-0.0006422181031666696]], [[0.0008954257355071604]], [[0.0008682850166223943]], [[-0.05399736762046814]], [[0.02143750712275505]], [[-0.013772161677479744]], [[0.003763314802199602]], [[0.009006635285913944]], [[0.010755336843430996]], [[-0.01943855732679367]], [[-0.04274068772792816]], [[0.00860339030623436]], [[-0.016592709347605705]], [[0.01288856752216816]], [[-0.002339260885491967]], [[-0.0009271617163904011]], [[-0.007722677197307348]], [[-0.010484684258699417]], [[0.003866677638143301]], [[0.02108803018927574]], [[-0.0064442153088748455]], [[0.011126874014735222]], [[0.0051741087809205055]], [[-0.010054993443191051]], [[-9.660141950007528e-05]], [[-0.03394555673003197]], [[0.0028665608260780573]], [[-0.01860053651034832]], [[-0.00026233814423903823]], [[-0.011986549943685532]], [[0.015390709973871708]], [[-0.015508817508816719]], [[0.005710355006158352]], [[-0.0014515276998281479]], [[-0.030555302277207375]], [[-0.0008747077663429081]], [[0.003198833903297782]], [[0.004380207974463701]], [[0.04226508364081383]], [[0.03244118019938469]], [[-0.003631261410191655]], [[-0.0026958617381751537]], [[-0.00037583947414532304]], [[0.0018859703559428453]], [[0.0023360401391983032]], [[-0.0020549560431391]], [[-0.0008932170458137989]], [[-0.0030326053965836763]], [[0.0021720505319535732]], [[0.004672717768698931]], [[0.007895266637206078]], [[-0.02677215449512005]], [[-0.030059602111577988]], [[-0.009995181113481522]], [[0.0015676672337576747]], [[0.004203826189041138]], [[-0.003434063633903861]], [[-0.002427390543743968]], [[-0.002136147813871503]], [[0.00034548662370070815]], [[-0.0013506085379049182]], [[-0.001565410289913416]], [[0.0008583171875216067]], [[-0.002919374266639352]], [[0.0004588711599353701]], [[-0.0005397375207394361]], [[0.0013831271789968014]], [[-0.014698692597448826]], [[-0.004576126579195261]], [[-0.0014498630771413445]], [[-0.0018998965388163924]], [[-0.0042394730262458324]], [[0.006462785415351391]], [[-5.9949856222374365e-05]], [[-0.001987552735954523]], [[0.008493386209011078]], [[0.016350043937563896]], [[-0.0022437390871345997]], [[0.0028337612748146057]], [[0.002281834604218602]], [[0.017125654965639114]], [[-0.0026296363212168217]], [[-0.01854761317372322]], [[-0.0004988622386008501]], [[-7.951666339067742e-05]], [[0.00211786525323987]], [[0.0008646777714602649]], [[0.007454724982380867]], [[0.002998144831508398]], [[0.001426795730367303]], [[-0.00788210891187191]], [[-0.0022957613691687584]], [[-0.007263872306793928]], [[0.0036285151727497578]], [[-0.008996757678687572]], [[0.0010066948598250747]], [[-0.007298602256923914]], [[0.002338171936571598]], [[0.005632971413433552]], [[-0.0018845913000404835]], [[0.0005120561108924448]], [[0.009370104409754276]], [[0.006774147506803274]], [[0.005243944004178047]], [[0.007588194217532873]], [[0.0005339880008250475]], [[-0.012027086690068245]], [[-0.007520921528339386]], [[-0.006310374941676855]], [[-0.008954182267189026]], [[-0.0034275974612683058]], [[-0.019837968051433563]], [[0.0008690353715792298]], [[0.0007757028797641397]], [[9.421102004125714e-05]], [[0.02234370820224285]], [[0.01309638936072588]], [[0.010158686898648739]], [[0.004627065267413855]], [[0.0015857921680435538]], [[-0.0006298476946540177]], [[0.012660530395805836]], [[0.015769952908158302]], [[0.00028030943940393627]], [[-0.005499177146703005]], [[-0.005278685595840216]], [[0.003915138076990843]], [[0.01020041387528181]], [[-0.012227815575897694]], [[-0.03036903589963913]], [[0.0053422763012349606]], [[0.00021444613230414689]], [[0.002109151566401124]], [[0.00032575640943832695]], [[0.004395926836878061]], [[-0.0016064757946878672]], [[-0.0012538181617856026]], [[-0.007236389443278313]], [[-0.0020083447452634573]], [[0.0003392583457753062]], [[0.001803504885174334]], [[0.015465140342712402]], [[-0.00024103003670461476]], [[-0.0014451940078288317]], [[0.005455593578517437]], [[-0.0012524494668468833]], [[-0.012091637589037418]], [[-0.002135462360456586]], [[-0.05448980629444122]], [[-0.012421158142387867]], [[-0.028666047379374504]], [[0.06476160883903503]], [[0.011730368249118328]], [[0.0008757952018640935]], [[-0.007134322077035904]], [[-0.0032973971683532]], [[0.009555277414619923]], [[-0.002974673407152295]], [[0.002864767797291279]], [[0.004618440754711628]], [[-0.013887918554246426]], [[0.0037359087727963924]], [[-0.0004318079736549407]], [[0.011611739173531532]], [[0.0015191605780273676]], [[0.005071782041341066]], [[0.0063051339238882065]], [[-0.015217870473861694]], [[0.005757708102464676]], [[0.0046210880391299725]], [[-0.0026882931124418974]], [[0.0032760777976363897]], [[0.0004985544364899397]], [[0.003274637972936034]], [[0.008140061050653458]], [[0.009144983254373074]], [[-0.003770118812099099]], [[0.007182625122368336]], [[-0.004377024248242378]], [[-0.006916144862771034]], [[-0.0060865143314003944]], [[0.0015106634236872196]], [[0.0030250914860516787]], [[0.0032160331029444933]], [[-0.01830940507352352]], [[-0.0005405300762504339]], [[-0.004481123294681311]], [[-0.009837194345891476]], [[-0.005620116833597422]], [[-0.0030277040787041187]], [[0.008854095824062824]], [[-0.004322283435612917]], [[0.00020613358356058598]], [[-0.011036954820156097]], [[-0.01226432342082262]], [[-0.002985679544508457]], [[0.003510607872158289]], [[0.0034193741157650948]], [[-0.01864219456911087]], [[0.0010180474491789937]], [[-0.001315321889705956]], [[-0.009523941203951836]], [[-0.0010099716018885374]], [[-0.0005162646411918104]], [[0.00285611255094409]], [[-0.002979228040203452]], [[-0.012103705666959286]], [[-0.00880724098533392]], [[-0.0017110214103013277]], [[0.0012861352879554033]], [[0.0528833381831646]], [[-0.0028623687103390694]], [[0.0009518875158391893]], [[-0.00304312352091074]], [[0.00213394733145833]], [[0.003942962735891342]], [[-0.0003219169448129833]], [[-0.0068993414752185345]], [[-0.0016874221619218588]], [[0.0020385084208101034]], [[-0.04759156331419945]], [[0.00958601851016283]], [[-0.0026051823515444994]], [[-0.03509065881371498]], [[0.03082834929227829]], [[-0.004477906506508589]], [[-0.02552824467420578]], [[-0.019579589366912842]], [[0.008751777932047844]], [[-0.008108546957373619]], [[-0.012123127467930317]], [[0.014156959019601345]], [[0.0346510075032711]], [[0.01687408611178398]], [[0.0020645593758672476]], [[-0.011718732304871082]], [[0.006189036648720503]], [[0.018127504736185074]], [[0.0005843500839546323]], [[0.003057186957448721]], [[0.015788832679390907]], [[-0.00551258958876133]], [[-0.005445069633424282]], [[0.11054357141256332]], [[-0.05393005535006523]], [[-0.027842342853546143]], [[0.15023000538349152]], [[0.06858895719051361]], [[0.028736572712659836]], [[0.04999256134033203]], [[0.009085094556212425]], [[0.000896116835065186]], [[4.550570884020999e-05]], [[0.0026872348971664906]], [[-0.010080219246447086]], [[0.0036761758383363485]], [[0.0013299116399139166]], [[0.0002680863835848868]], [[0.0033847540616989136]], [[-0.002796588931232691]], [[-0.0013177803484722972]], [[0.0011003362014889717]], [[0.03609640523791313]], [[-0.003252554452046752]], [[-0.009533599950373173]], [[-0.006632368080317974]], [[-0.003170976648107171]], [[-0.00296329939737916]], [[0.0020649542566388845]], [[0.0027888647746294737]], [[0.005810237955302]], [[-0.012911641038954258]], [[0.00315398583188653]], [[0.0013659026008099318]], [[-0.0028814964462071657]], [[-0.00016231840709224343]], [[-0.002746997168287635]], [[-0.004925299435853958]], [[0.018546823412179947]], [[0.006830948870629072]], [[0.006164344027638435]], [[0.0011482549598440528]], [[0.006368899717926979]], [[0.008752685971558094]], [[0.001735027995891869]], [[0.0029464869294315577]], [[-0.0013186594005674124]], [[0.0018614445580169559]], [[-0.0007121064118109643]], [[-0.008480963297188282]], [[-0.002118627307936549]], [[0.001931769773364067]], [[0.0044200727716088295]], [[0.002474276814609766]], [[0.0010395720601081848]], [[-0.004991064313799143]], [[-0.0014625112526118755]], [[0.0007488463306799531]], [[0.007091051433235407]], [[0.0028983312658965588]], [[0.01812170073390007]], [[-0.0014027327997609973]], [[0.04396685212850571]], [[0.04986083507537842]], [[0.011316982097923756]], [[-0.0012021593283861876]], [[0.014323505572974682]], [[0.002576288999989629]], [[-0.004057091195136309]], [[0.04779571294784546]], [[-0.010692279785871506]], [[0.028048833832144737]], [[0.004823884926736355]], [[-0.02052305079996586]], [[0.001762058469466865]], [[-0.001480783917941153]], [[-0.0023099714890122414]], [[0.009698644280433655]], [[-0.0003314764762762934]], [[-0.008586714044213295]], [[0.00038513762410730124]], [[0.020270895212888718]], [[-0.00022816192358732224]], [[-0.0040716733783483505]], [[-0.01818189024925232]], [[0.006367105059325695]], [[0.0037472324911504984]], [[0.004031783901154995]], [[0.0002657651202753186]], [[-0.0025474352296441793]], [[0.0026899005752056837]], [[-0.0002301208587596193]], [[0.0013628980377689004]], [[-0.01521263923496008]], [[-0.00984572246670723]], [[0.003409075317904353]], [[0.00231312308460474]], [[0.0013529520947486162]], [[0.0036110037472099066]], [[0.00013341552403289825]], [[-0.0033245335798710585]], [[-0.01555808074772358]], [[0.0117573831230402]], [[0.0042311749421060085]], [[0.02881556563079357]], [[-0.004722200334072113]], [[-0.0011434765765443444]], [[0.002778892405331135]], [[-0.0060282363556325436]], [[0.00022097287001088262]], [[-0.003510606475174427]], [[0.010049858130514622]], [[-0.0006584300426766276]], [[0.0008177436538971961]], [[-0.0005817234632559121]], [[-0.0007977290661074221]], [[-0.0027768006548285484]], [[0.013774883933365345]], [[-0.002348549896851182]], [[-0.0006197175825946033]], [[0.00010153483890462667]], [[0.009596147574484348]], [[-0.00544282142072916]], [[6.001393558108248e-06]], [[0.0021578914020210505]], [[-6.0173741076141596e-05]], [[0.001698262058198452]], [[-0.0021159069146960974]], [[0.003242517588660121]], [[-0.0023968671448528767]], [[0.0008489420870319009]], [[0.0002156092959921807]], [[-0.01168899703770876]], [[0.001561030512675643]], [[-0.00026842785882763565]], [[0.005629131104797125]], [[-0.001879004412330687]], [[0.002495251363143325]], [[0.005867888685315847]], [[0.0007932140724733472]], [[0.0013876253506168723]], [[-0.0005352700245566666]], [[-0.0012232348090037704]], [[0.0036551933735609055]], [[0.0011441605165600777]], [[-0.003108344506472349]], [[0.0045224642381072044]], [[-0.0029122803825885057]], [[-0.012523316778242588]], [[0.026702193543314934]], [[-0.00599302351474762]], [[-0.0020282454788684845]], [[-0.0019916158635169268]], [[5.983876690152101e-05]], [[-0.009184950962662697]], [[-0.0012164049549028277]], [[0.0033318258356302977]], [[0.0008036564104259014]], [[-0.0004494416934903711]], [[-0.0032166684977710247]], [[-0.005214418284595013]], [[0.011613456532359123]], [[0.003365317592397332]], [[0.0013710528146475554]], [[-0.005468233488500118]], [[0.003964176867157221]], [[0.0018055234104394913]], [[-0.014967651106417179]], [[0.01516431849449873]], [[-3.2637512049404904e-05]], [[0.001902123331092298]], [[0.0005320993950590491]], [[-0.007062007673084736]], [[-0.0025694328360259533]], [[-4.003876165370457e-05]], [[0.008691400289535522]], [[0.00426601804792881]], [[-0.0005629545776173472]], [[-0.0033214834984391928]], [[-0.030283011496067047]], [[-0.001402557478286326]], [[0.00036734447348862886]], [[0.0011512244818732142]], [[-0.003076452063396573]], [[0.009156299754977226]], [[-0.004604489542543888]], [[-0.017365887761116028]], [[0.004901520442217588]], [[0.0022059769835323095]], [[0.006168451625853777]], [[0.003875358495861292]], [[-0.0013141182716935873]], [[0.0038003656081855297]], [[0.010035526938736439]], [[0.006668954622000456]], [[-0.0021183667704463005]], [[0.0015939263394102454]], [[0.0004916491452604532]], [[-0.0025119874626398087]], [[-0.0006510378443636]], [[-0.0033989869989454746]], [[0.003426332725211978]], [[-0.0003100265748798847]], [[-0.0031438942532986403]], [[0.000993204303085804]], [[0.00868653878569603]], [[0.005423139780759811]], [[-0.01253887452185154]], [[0.0026575184892863035]], [[-0.011281256563961506]], [[0.0038787887897342443]], [[-0.002939666388556361]], [[0.014223833568394184]], [[-0.0008728191023692489]], [[0.00027658086037263274]], [[0.012493368238210678]], [[0.03692029044032097]], [[0.0002562389709055424]], [[-0.008512393571436405]], [[-0.0019298887345939875]], [[-0.015447582118213177]], [[-0.0048675681464374065]], [[0.0004951966111548245]], [[0.007137819658964872]], [[-0.005217798054218292]], [[0.05898568406701088]], [[0.03619170933961868]], [[0.008220214396715164]], [[0.0045950585044920444]], [[0.001920210663229227]], [[-0.005452780518680811]], [[0.02358262799680233]], [[0.023860394954681396]], [[0.0024310194421559572]], [[0.01721811853349209]], [[0.007297798525542021]], [[-0.004696345888078213]], [[0.008188173174858093]], [[-0.004755621310323477]], [[0.006786441896110773]], [[-0.011081613600254059]], [[-0.01909535564482212]], [[-0.003431771881878376]], [[-0.006404141895473003]], [[0.0015250450232997537]], [[0.00033043386065401137]], [[0.005104932934045792]], [[0.0031926408410072327]], [[-0.006337370723485947]], [[0.0010221321135759354]], [[0.005140208639204502]], [[0.004238052759319544]], [[0.0063173663802444935]], [[0.1000652015209198]], [[-0.00827742274850607]], [[0.00015084011829458177]], [[0.019193144515156746]], [[-0.0035677256528288126]], [[-0.024497568607330322]], [[0.012336586602032185]], [[0.021301183849573135]], [[-0.011149492114782333]], [[-0.02212595008313656]], [[-0.004122188780456781]], [[-0.010091214440762997]], [[-0.009232301265001297]], [[0.0010316830594092607]], [[-0.013551026582717896]], [[-0.0050397273153066635]], [[-0.006893686950206757]], [[0.009656820446252823]], [[0.0023310258984565735]], [[-0.0011091838823631406]], [[0.004876428749412298]], [[0.003400309244170785]], [[-0.001835472066886723]], [[-0.001405569608323276]], [[-0.004480951000005007]], [[0.0022500406485050917]], [[0.0003643980307970196]], [[-0.001666535041294992]], [[0.0011104645673185587]], [[0.00046054323320277035]], [[-0.002497763140127063]], [[0.0017904522828757763]], [[-0.0006574181606993079]], [[0.004228675737977028]], [[-0.00023715800489299]], [[-0.0011961580021306872]], [[-0.0001363366172881797]], [[0.008297596126794815]], [[0.0031890543177723885]], [[-0.0029876499902457]], [[0.0010748448548838496]], [[-0.0034726313315331936]], [[0.0012631806312128901]], [[-0.008610019460320473]], [[-0.0046914913691580296]], [[-0.016204794868826866]], [[0.010707332752645016]], [[0.002348709385842085]], [[-0.003094035666435957]], [[-0.00219528004527092]], [[-0.0023293406702578068]], [[-0.008377348072826862]], [[0.006441950798034668]], [[-0.0002560931025072932]], [[0.009961753152310848]], [[-0.004342861007899046]], [[-0.004095943178981543]], [[0.0018214000156149268]], [[-0.0009390744962729514]], [[-0.0017831932054832578]], [[-0.029319440945982933]], [[-0.02698804996907711]], [[-0.00033105025067925453]], [[0.0029125988949090242]], [[-0.0025648928713053465]], [[0.0009214123128913343]], [[0.003117811167612672]], [[0.00434929970651865]], [[0.006371584255248308]], [[0.001466378103941679]], [[0.004644386470317841]], [[-0.002012356650084257]], [[-0.00817842222750187]], [[-0.005037643481045961]], [[0.0030485012102872133]], [[0.0009180384804494679]], [[0.061719417572021484]], [[0.004053639248013496]], [[-0.0035724604967981577]], [[0.0012566986260935664]], [[-0.0176352821290493]], [[-0.01102555450052023]], [[-0.007829183712601662]], [[-0.004224115516990423]], [[0.009248634800314903]], [[-0.009824900887906551]], [[0.0023713845293968916]], [[0.0007017985917627811]]], \"firstDimensionName\": \"Layer (resid_pre)\", \"secondDimensionName\": \"Model\", \"secondDimensionLabels\": [\"pythia-2.8b\"]}\n",
       "    )\n",
       "    </script>"
      ],
      "text/plain": [
       "<circuitsvis.utils.render.RenderedHTML at 0x7f52c844beb0>"
      ]
     },
     "execution_count": 38,
     "metadata": {},
     "output_type": "execute_result"
    }
   ],
   "source": [
    "plot_neuroscope(batch_tokens[11], activations=loss_change_by_token[11].unsqueeze(1).unsqueeze(2))"
   ]
  },
  {
   "cell_type": "code",
   "execution_count": 17,
   "metadata": {},
   "outputs": [
    {
     "data": {
      "text/plain": [
       "torch.Size([12, 1023])"
      ]
     },
     "execution_count": 17,
     "metadata": {},
     "output_type": "execute_result"
    }
   ],
   "source": [
    "loss_change_by_token.shape"
   ]
  },
  {
   "cell_type": "code",
   "execution_count": null,
   "metadata": {},
   "outputs": [],
   "source": []
  }
 ],
 "metadata": {
  "kernelspec": {
   "display_name": "Python 3 (ipykernel)",
   "language": "python",
   "name": "python3"
  },
  "language_info": {
   "codemirror_mode": {
    "name": "ipython",
    "version": 3
   },
   "file_extension": ".py",
   "mimetype": "text/x-python",
   "name": "python",
   "nbconvert_exporter": "python",
   "pygments_lexer": "ipython3",
   "version": "3.9.16"
  },
  "orig_nbformat": 4
 },
 "nbformat": 4,
 "nbformat_minor": 2
}
