{
  "cells": [
    {
      "attachments": {},
      "cell_type": "markdown",
      "metadata": {
        "id": "CbZUo-Tev4QM"
      },
      "source": [
        "# Initial Exploratory Analysis"
      ]
    },
    {
      "attachments": {},
      "cell_type": "markdown",
      "metadata": {
        "id": "5vLV3GuDd415"
      },
      "source": [
        "## Setup"
      ]
    },
    {
      "cell_type": "code",
      "execution_count": 1,
      "metadata": {},
      "outputs": [],
      "source": [
        "from IPython import get_ipython\n",
        "ipython = get_ipython()\n",
        "ipython.run_line_magic(\"load_ext\", \"autoreload\")\n",
        "ipython.run_line_magic(\"autoreload\", \"2\")"
      ]
    },
    {
      "cell_type": "code",
      "execution_count": 2,
      "metadata": {
        "id": "8QQvkqmWcB2v"
      },
      "outputs": [],
      "source": [
        "import os\n",
        "import pathlib\n",
        "from typing import List, Optional, Union\n",
        "\n",
        "import torch\n",
        "import numpy as np\n",
        "import yaml\n",
        "\n",
        "import einops\n",
        "from fancy_einsum import einsum\n",
        "\n",
        "from datasets import load_dataset\n",
        "#from transformers import pipeline\n",
        "\n",
        "import transformers\n",
        "import circuitsvis as cv\n",
        "from transformers import AutoConfig, AutoModel, AutoModelForCausalLM\n",
        "import transformer_lens\n",
        "import transformer_lens.utils as utils\n",
        "from transformer_lens.hook_points import (\n",
        "    HookedRootModule,\n",
        "    HookPoint,\n",
        ")  # Hooking utilities\n",
        "from transformer_lens import HookedTransformer, HookedTransformerConfig, FactoredMatrix, ActivationCache\n",
        "\n",
        "from torch import Tensor\n",
        "from tqdm.notebook import tqdm\n",
        "from jaxtyping import Float, Int, Bool\n",
        "from typing import List, Optional, Callable, Tuple, Dict, Literal, Set\n",
        "from rich import print as rprint\n",
        "\n",
        "from typing import List, Union\n",
        "import plotly.express as px\n",
        "import plotly.graph_objects as go\n",
        "from plotly.subplots import make_subplots\n",
        "import re\n",
        "\n",
        "from functools import partial\n",
        "\n",
        "from torchtyping import TensorType as TT\n",
        "\n",
        "from path_patching import Node, IterNode, path_patch, act_patch"
      ]
    },
    {
      "cell_type": "code",
      "execution_count": 3,
      "metadata": {},
      "outputs": [],
      "source": [
        "torch.set_grad_enabled(False)\n",
        "\n",
        "device = torch.device(\"cuda\") if torch.cuda.is_available() else torch.device(\"cpu\")"
      ]
    },
    {
      "cell_type": "code",
      "execution_count": 4,
      "metadata": {},
      "outputs": [],
      "source": [
        "update_layout_set = {\n",
        "    \"xaxis_range\", \"yaxis_range\", \"hovermode\", \"xaxis_title\", \"yaxis_title\", \"colorbar\", \"colorscale\", \"coloraxis\", \"title_x\", \"bargap\", \"bargroupgap\", \"xaxis_tickformat\",\n",
        "    \"yaxis_tickformat\", \"title_y\", \"legend_title_text\", \"xaxis_showgrid\", \"xaxis_gridwidth\", \"xaxis_gridcolor\", \"yaxis_showgrid\", \"yaxis_gridwidth\", \"yaxis_gridcolor\",\n",
        "    \"showlegend\", \"xaxis_tickmode\", \"yaxis_tickmode\", \"xaxis_tickangle\", \"yaxis_tickangle\", \"margin\", \"xaxis_visible\", \"yaxis_visible\", \"bargap\", \"bargroupgap\"\n",
        "}\n",
        "\n",
        "def imshow_p(tensor, renderer=None, **kwargs):\n",
        "    kwargs_post = {k: v for k, v in kwargs.items() if k in update_layout_set}\n",
        "    kwargs_pre = {k: v for k, v in kwargs.items() if k not in update_layout_set}\n",
        "    facet_labels = kwargs_pre.pop(\"facet_labels\", None)\n",
        "    border = kwargs_pre.pop(\"border\", False)\n",
        "    if \"color_continuous_scale\" not in kwargs_pre:\n",
        "        kwargs_pre[\"color_continuous_scale\"] = \"RdBu\"\n",
        "    if \"margin\" in kwargs_post and isinstance(kwargs_post[\"margin\"], int):\n",
        "        kwargs_post[\"margin\"] = dict.fromkeys(list(\"tblr\"), kwargs_post[\"margin\"])\n",
        "    fig = px.imshow(utils.to_numpy(tensor), color_continuous_midpoint=0.0, **kwargs_pre)\n",
        "    if facet_labels:\n",
        "        for i, label in enumerate(facet_labels):\n",
        "            fig.layout.annotations[i]['text'] = label\n",
        "    if border:\n",
        "        fig.update_xaxes(showline=True, linewidth=1, linecolor='black', mirror=True)\n",
        "        fig.update_yaxes(showline=True, linewidth=1, linecolor='black', mirror=True)\n",
        "    # things like `xaxis_tickmode` should be applied to all subplots. This is super janky lol but I'm under time pressure\n",
        "    for setting in [\"tickangle\"]:\n",
        "      if f\"xaxis_{setting}\" in kwargs_post:\n",
        "          i = 2\n",
        "          while f\"xaxis{i}\" in fig[\"layout\"]:\n",
        "            kwargs_post[f\"xaxis{i}_{setting}\"] = kwargs_post[f\"xaxis_{setting}\"]\n",
        "            i += 1\n",
        "    fig.update_layout(**kwargs_post)\n",
        "    fig.show(renderer=renderer)\n",
        "\n",
        "def hist_p(tensor, renderer=None, **kwargs):\n",
        "    kwargs_post = {k: v for k, v in kwargs.items() if k in update_layout_set}\n",
        "    kwargs_pre = {k: v for k, v in kwargs.items() if k not in update_layout_set}\n",
        "    names = kwargs_pre.pop(\"names\", None)\n",
        "    if \"barmode\" not in kwargs_post:\n",
        "        kwargs_post[\"barmode\"] = \"overlay\"\n",
        "    if \"bargap\" not in kwargs_post:\n",
        "        kwargs_post[\"bargap\"] = 0.0\n",
        "    if \"margin\" in kwargs_post and isinstance(kwargs_post[\"margin\"], int):\n",
        "        kwargs_post[\"margin\"] = dict.fromkeys(list(\"tblr\"), kwargs_post[\"margin\"])\n",
        "    fig = px.histogram(x=tensor, **kwargs_pre).update_layout(**kwargs_post)\n",
        "    if names is not None:\n",
        "        for i in range(len(fig.data)):\n",
        "            fig.data[i][\"name\"] = names[i // 2]\n",
        "    fig.show(renderer)"
      ]
    },
    {
      "cell_type": "code",
      "execution_count": 5,
      "metadata": {
        "id": "0c0JbzPpI0-D"
      },
      "outputs": [],
      "source": [
        "def imshow(tensor, renderer=None, xaxis=\"\", yaxis=\"\", **kwargs):\n",
        "    px.imshow(utils.to_numpy(tensor), color_continuous_midpoint=0.0, color_continuous_scale=\"RdBu\", labels={\"x\":xaxis, \"y\":yaxis}, **kwargs).show(renderer)\n",
        "\n",
        "def line(tensor, renderer=None, **kwargs):\n",
        "    px.line(y=utils.to_numpy(tensor), **kwargs).show(renderer)\n",
        "\n",
        "def two_lines(tensor1, tensor2, renderer=None, **kwargs):\n",
        "    px.line(y=[utils.to_numpy(tensor1), utils.to_numpy(tensor2)], **kwargs).show(renderer)\n",
        "\n",
        "def scatter(x, y, xaxis=\"\", yaxis=\"\", caxis=\"\", renderer=None, **kwargs):\n",
        "    x = utils.to_numpy(x)\n",
        "    y = utils.to_numpy(y)\n",
        "    px.scatter(y=y, x=x, labels={\"x\":xaxis, \"y\":yaxis, \"color\":caxis}, **kwargs).show(renderer)"
      ]
    },
    {
      "cell_type": "code",
      "execution_count": 6,
      "metadata": {},
      "outputs": [],
      "source": [
        "def get_logit_diff(logits, answer_token_indices, per_prompt=False):\n",
        "    \"\"\"Gets the difference between the logits of the provided tokens (e.g., the correct and incorrect tokens in IOI)\n",
        "\n",
        "    Args:\n",
        "        logits (torch.Tensor): Logits to use.\n",
        "        answer_token_indices (torch.Tensor): Indices of the tokens to compare.\n",
        "\n",
        "    Returns:\n",
        "        torch.Tensor: Difference between the logits of the provided tokens.\n",
        "    \"\"\"\n",
        "    if len(logits.shape) == 3:\n",
        "        # Get final logits only\n",
        "        logits = logits[:, -1, :]\n",
        "    left_logits = logits.gather(1, answer_token_indices[:, 0].unsqueeze(1))\n",
        "    right_logits = logits.gather(1, answer_token_indices[:, 1].unsqueeze(1))\n",
        "    if per_prompt:\n",
        "        print(left_logits - right_logits)\n",
        "\n",
        "    return (left_logits - right_logits).mean()\n",
        "\n"
      ]
    },
    {
      "attachments": {},
      "cell_type": "markdown",
      "metadata": {
        "id": "y5jV1EnY0dpf"
      },
      "source": [
        "## Exploratory Analysis\n"
      ]
    },
    {
      "cell_type": "code",
      "execution_count": 8,
      "metadata": {
        "colab": {
          "base_uri": "https://localhost:8080/"
        },
        "id": "bjeWvBNOn2VT",
        "outputId": "dff069ed-56d5-414d-d649-2c70f073b1fc"
      },
      "outputs": [
        {
          "name": "stderr",
          "output_type": "stream",
          "text": [
            "Using pad_token, but it is not set yet.\n"
          ]
        },
        {
          "name": "stdout",
          "output_type": "stream",
          "text": [
            "Loaded pretrained model gpt2-small into HookedTransformer\n"
          ]
        }
      ],
      "source": [
        "source_model = AutoModelForCausalLM.from_pretrained(\"lvwerra/gpt2-imdb\")\n",
        "#source_model = AutoModelForCausalLM.from_pretrained(\"curt-tigges/gpt2-negative-movie-reviews\")\n",
        "\n",
        "#hooked_source_model = HookedTransformer.from_pretrained(model_name=\"gpt2\", hf_model=source_model)\n",
        "#model = HookedTransformer.from_pretrained(model_name=\"EleutherAI/pythia-410m\")\n",
        "model = HookedTransformer.from_pretrained(\n",
        "    \"gpt2-small\",\n",
        "    hf_model=source_model,\n",
        "    center_unembed=True,\n",
        "    center_writing_weights=True,\n",
        "    fold_ln=True,\n",
        "    refactor_factored_attn_matrices=True,\n",
        ")"
      ]
    },
    {
      "attachments": {},
      "cell_type": "markdown",
      "metadata": {},
      "source": [
        "### Initial Examination"
      ]
    },
    {
      "cell_type": "code",
      "execution_count": 9,
      "metadata": {},
      "outputs": [],
      "source": [
        "example_prompt = \"I thought this movie was lousy, I hated it. \\nConclusion: This movie is\"\n",
        "example_answer = \" amazing\""
      ]
    },
    {
      "cell_type": "code",
      "execution_count": 10,
      "metadata": {},
      "outputs": [
        {
          "name": "stdout",
          "output_type": "stream",
          "text": [
            "Tokenized prompt: ['<|endoftext|>', 'I', ' thought', ' this', ' movie', ' was', ' lousy', ',', ' I', ' hated', ' it', '.', ' ', '\\n', 'Conclusion', ':', ' This', ' movie', ' is']\n",
            "Tokenized answer: [' amazing']\n"
          ]
        },
        {
          "data": {
            "text/html": [
              "<pre style=\"white-space:pre;overflow-x:auto;line-height:normal;font-family:Menlo,'DejaVu Sans Mono',consolas,'Courier New',monospace\">Performance on answer token:\n",
              "<span style=\"font-weight: bold\">Rank: </span><span style=\"color: #008080; text-decoration-color: #008080; font-weight: bold\">118</span><span style=\"font-weight: bold\">      Logit: </span><span style=\"color: #008080; text-decoration-color: #008080; font-weight: bold\">11.47</span><span style=\"font-weight: bold\"> Prob:  </span><span style=\"color: #008080; text-decoration-color: #008080; font-weight: bold\">0.09</span><span style=\"font-weight: bold\">% Token: | amazing|</span>\n",
              "</pre>\n"
            ],
            "text/plain": [
              "Performance on answer token:\n",
              "\u001b[1mRank: \u001b[0m\u001b[1;36m118\u001b[0m\u001b[1m      Logit: \u001b[0m\u001b[1;36m11.47\u001b[0m\u001b[1m Prob:  \u001b[0m\u001b[1;36m0.09\u001b[0m\u001b[1m% Token: | amazing|\u001b[0m\n"
            ]
          },
          "metadata": {},
          "output_type": "display_data"
        },
        {
          "name": "stdout",
          "output_type": "stream",
          "text": [
            "Top 0th token. Logit: 16.16 Prob: 10.05% Token: | a|\n",
            "Top 1th token. Logit: 15.74 Prob:  6.64% Token: | bad|\n",
            "Top 2th token. Logit: 15.48 Prob:  5.10% Token: | not|\n",
            "Top 3th token. Logit: 15.42 Prob:  4.81% Token: | terrible|\n",
            "Top 4th token. Logit: 15.32 Prob:  4.35% Token: | awful|\n",
            "Top 5th token. Logit: 15.26 Prob:  4.09% Token: | so|\n",
            "Top 6th token. Logit: 15.21 Prob:  3.89% Token: | just|\n",
            "Top 7th token. Logit: 14.62 Prob:  2.16% Token: | horrible|\n",
            "Top 8th token. Logit: 14.52 Prob:  1.95% Token: | boring|\n",
            "Top 9th token. Logit: 14.45 Prob:  1.82% Token: | crap|\n"
          ]
        },
        {
          "data": {
            "text/html": [
              "<pre style=\"white-space:pre;overflow-x:auto;line-height:normal;font-family:Menlo,'DejaVu Sans Mono',consolas,'Courier New',monospace\"><span style=\"font-weight: bold\">Ranks of the answer tokens:</span> <span style=\"font-weight: bold\">[(</span><span style=\"color: #008000; text-decoration-color: #008000\">' amazing'</span>, <span style=\"color: #008080; text-decoration-color: #008080; font-weight: bold\">118</span><span style=\"font-weight: bold\">)]</span>\n",
              "</pre>\n"
            ],
            "text/plain": [
              "\u001b[1mRanks of the answer tokens:\u001b[0m \u001b[1m[\u001b[0m\u001b[1m(\u001b[0m\u001b[32m' amazing'\u001b[0m, \u001b[1;36m118\u001b[0m\u001b[1m)\u001b[0m\u001b[1m]\u001b[0m\n"
            ]
          },
          "metadata": {},
          "output_type": "display_data"
        }
      ],
      "source": [
        "utils.test_prompt(example_prompt, example_answer, model, prepend_bos=True, top_k=10)"
      ]
    },
    {
      "cell_type": "code",
      "execution_count": 11,
      "metadata": {},
      "outputs": [
        {
          "name": "stdout",
          "output_type": "stream",
          "text": [
            "Tokenized prompt: ['<|endoftext|>', 'I', ' thought', ' this', ' movie', ' was', ' amazing', ',', ' I', ' loved', ' it', '.', ' ', '\\n', 'Conclusion', ':', ' This', ' movie', ' is']\n",
            "Tokenized answer: [' amazing']\n"
          ]
        },
        {
          "data": {
            "text/html": [
              "<pre style=\"white-space:pre;overflow-x:auto;line-height:normal;font-family:Menlo,'DejaVu Sans Mono',consolas,'Courier New',monospace\">Performance on answer token:\n",
              "<span style=\"font-weight: bold\">Rank: </span><span style=\"color: #008080; text-decoration-color: #008080; font-weight: bold\">7</span><span style=\"font-weight: bold\">        Logit: </span><span style=\"color: #008080; text-decoration-color: #008080; font-weight: bold\">14.94</span><span style=\"font-weight: bold\"> Prob:  </span><span style=\"color: #008080; text-decoration-color: #008080; font-weight: bold\">3.06</span><span style=\"font-weight: bold\">% Token: | amazing|</span>\n",
              "</pre>\n"
            ],
            "text/plain": [
              "Performance on answer token:\n",
              "\u001b[1mRank: \u001b[0m\u001b[1;36m7\u001b[0m\u001b[1m        Logit: \u001b[0m\u001b[1;36m14.94\u001b[0m\u001b[1m Prob:  \u001b[0m\u001b[1;36m3.06\u001b[0m\u001b[1m% Token: | amazing|\u001b[0m\n"
            ]
          },
          "metadata": {},
          "output_type": "display_data"
        },
        {
          "name": "stdout",
          "output_type": "stream",
          "text": [
            "Top 0th token. Logit: 16.42 Prob: 13.44% Token: | a|\n",
            "Top 1th token. Logit: 15.48 Prob:  5.23% Token: | so|\n",
            "Top 2th token. Logit: 15.36 Prob:  4.67% Token: | great|\n",
            "Top 3th token. Logit: 15.33 Prob:  4.50% Token: | one|\n",
            "Top 4th token. Logit: 15.22 Prob:  4.06% Token: | not|\n",
            "Top 5th token. Logit: 15.07 Prob:  3.50% Token: | just|\n",
            "Top 6th token. Logit: 14.98 Prob:  3.19% Token: | the|\n",
            "Top 7th token. Logit: 14.94 Prob:  3.06% Token: | amazing|\n",
            "Top 8th token. Logit: 14.88 Prob:  2.89% Token: | really|\n",
            "Top 9th token. Logit: 14.81 Prob:  2.68% Token: | very|\n"
          ]
        },
        {
          "data": {
            "text/html": [
              "<pre style=\"white-space:pre;overflow-x:auto;line-height:normal;font-family:Menlo,'DejaVu Sans Mono',consolas,'Courier New',monospace\"><span style=\"font-weight: bold\">Ranks of the answer tokens:</span> <span style=\"font-weight: bold\">[(</span><span style=\"color: #008000; text-decoration-color: #008000\">' amazing'</span>, <span style=\"color: #008080; text-decoration-color: #008080; font-weight: bold\">7</span><span style=\"font-weight: bold\">)]</span>\n",
              "</pre>\n"
            ],
            "text/plain": [
              "\u001b[1mRanks of the answer tokens:\u001b[0m \u001b[1m[\u001b[0m\u001b[1m(\u001b[0m\u001b[32m' amazing'\u001b[0m, \u001b[1;36m7\u001b[0m\u001b[1m)\u001b[0m\u001b[1m]\u001b[0m\n"
            ]
          },
          "metadata": {},
          "output_type": "display_data"
        }
      ],
      "source": [
        "example_prompt = \"I thought this movie was amazing, I loved it. \\nConclusion: This movie is\"\n",
        "example_answer = \" amazing\"\n",
        "utils.test_prompt(example_prompt, example_answer, model, prepend_bos=True, top_k=10)"
      ]
    },
    {
      "cell_type": "code",
      "execution_count": 12,
      "metadata": {},
      "outputs": [
        {
          "data": {
            "application/vnd.jupyter.widget-view+json": {
              "model_id": "91ab78a1855a4cf1a51f1a073cdb849b",
              "version_major": 2,
              "version_minor": 0
            },
            "text/plain": [
              "  0%|          | 0/100 [00:00<?, ?it/s]"
            ]
          },
          "metadata": {},
          "output_type": "display_data"
        },
        {
          "data": {
            "text/plain": [
              "\"I was walking on the street one day and came across coal miners in a Volkswagen belonging to a worker in need of work in a plant, an industry that, to their credit, had little connection to India. I reached out to my friend the next day, and tried my best to find out what was going on. As it turns out, this former miner had a hand in John Gerrow's film Lynch & Company and understood that poor miners were caught in the middle of World War II. It went without saying that a film like this traff\""
            ]
          },
          "execution_count": 12,
          "metadata": {},
          "output_type": "execute_result"
        }
      ],
      "source": [
        "model.generate(\"I was walking on the street one day and\", prepend_bos=True, max_new_tokens=100)"
      ]
    },
    {
      "attachments": {},
      "cell_type": "markdown",
      "metadata": {},
      "source": [
        "### Dataset Construction"
      ]
    },
    {
      "cell_type": "code",
      "execution_count": 13,
      "metadata": {},
      "outputs": [
        {
          "data": {
            "text/plain": [
              "(27, 26)"
            ]
          },
          "execution_count": 13,
          "metadata": {},
          "output_type": "execute_result"
        }
      ],
      "source": [
        "positive_adjectives = [\n",
        "    ' perfect', ' fantastic',' delightful',' cheerful',' marvelous',' good',' remarkable',' wonderful',\n",
        "    ' fabulous',' outstanding',' awesome',' exceptional',' incredible',' extraordinary',\n",
        "    ' amazing',' lovely',' brilliant',' charming',' terrific',' superb',' spectacular',' great',' splendid',\n",
        "    ' beautiful',' joyful',' positive',' excellent'\n",
        "    ]\n",
        "\n",
        "negative_adjectives = [\n",
        "    ' dreadful',' bad',' dull',' depressing',' miserable',' tragic',' nasty',' inferior',' horrific',' terrible',\n",
        "    ' ugly',' disgusting',' disastrous',' horrendous',' annoying',' boring',' offensive',' frustrating',' wretched',' dire',\n",
        "    ' awful',' unpleasant',' horrible',' mediocre',' disappointing',' inadequate'\n",
        "    ]\n",
        "\n",
        "#negative_adjectives = [' lousy', ' dire', ' bad', ' nasty', ' miserable', ' wretched', ' disgusting', ' ugly', ' disastrous', ' tragic']\n",
        "\n",
        "len(positive_adjectives), len(negative_adjectives)\n"
      ]
    },
    {
      "cell_type": "code",
      "execution_count": 14,
      "metadata": {},
      "outputs": [],
      "source": [
        "all_prompts = []\n",
        "\n",
        "pos_prompts = [\n",
        "    f\"I thought this movie was{positive_adjectives[i]}, I loved it. \\nConclusion: This movie is\" for i in range(len(positive_adjectives)-1)\n",
        "]\n",
        "neg_prompts = [\n",
        "    f\"I thought this movie was{negative_adjectives[i]}, I hated it. \\nConclusion: This movie is\" for i in range(len(negative_adjectives)-1)\n",
        "]\n",
        "# List of the token (ie an integer) corresponding to each answer, in the format (correct_token, incorrect_token)\n",
        "answer_tokens = []\n",
        "for i in range(len(pos_prompts)-1):\n",
        "\n",
        "    all_prompts.append(pos_prompts[i])\n",
        "    all_prompts.append(neg_prompts[i])\n",
        "    \n",
        "    answer_tokens.append(\n",
        "        (\n",
        "            model.to_single_token(\" amazing\"),\n",
        "            model.to_single_token(\" terrible\"),\n",
        "        )\n",
        "    )\n",
        "\n",
        "    answer_tokens.append(\n",
        "        (\n",
        "            model.to_single_token(\" terrible\"),\n",
        "            model.to_single_token(\" amazing\"),\n",
        "        )\n",
        "    )\n",
        "\n",
        "answer_tokens = torch.tensor(answer_tokens).to(device)\n",
        "\n",
        "prompts_tokens = model.to_tokens(all_prompts, prepend_bos=True)\n",
        "clean_tokens = prompts_tokens.to(device)\n",
        "\n",
        "corrupted_tokens = model.to_tokens(all_prompts[1:] + [all_prompts[0]], prepend_bos=True)"
      ]
    },
    {
      "cell_type": "code",
      "execution_count": 15,
      "metadata": {},
      "outputs": [
        {
          "name": "stdout",
          "output_type": "stream",
          "text": [
            "I thought this movie was perfect, I loved it. \n",
            "Conclusion: This movie is\n",
            "tensor(0.4716, device='cuda:0')\n",
            "I thought this movie was dreadful, I hated it. \n",
            "Conclusion: This movie is\n",
            "tensor(4.0097, device='cuda:0')\n",
            "I thought this movie was fantastic, I loved it. \n",
            "Conclusion: This movie is\n",
            "tensor(0.5239, device='cuda:0')\n",
            "I thought this movie was bad, I hated it. \n",
            "Conclusion: This movie is\n",
            "tensor(3.8372, device='cuda:0')\n",
            "I thought this movie was delightful, I loved it. \n",
            "Conclusion: This movie is\n",
            "tensor(0.2982, device='cuda:0')\n",
            "I thought this movie was dull, I hated it. \n",
            "Conclusion: This movie is\n",
            "tensor(2.9668, device='cuda:0')\n",
            "I thought this movie was cheerful, I loved it. \n",
            "Conclusion: This movie is\n",
            "tensor(-0.4090, device='cuda:0')\n",
            "I thought this movie was depressing, I hated it. \n",
            "Conclusion: This movie is\n",
            "tensor(3.2394, device='cuda:0')\n",
            "I thought this movie was marvelous, I loved it. \n",
            "Conclusion: This movie is\n",
            "tensor(1.0199, device='cuda:0')\n",
            "I thought this movie was miserable, I hated it. \n",
            "Conclusion: This movie is\n",
            "tensor(3.6614, device='cuda:0')\n",
            "I thought this movie was good, I loved it. \n",
            "Conclusion: This movie is\n",
            "tensor(-1.1332, device='cuda:0')\n",
            "I thought this movie was tragic, I hated it. \n",
            "Conclusion: This movie is\n",
            "tensor(3.0112, device='cuda:0')\n",
            "I thought this movie was remarkable, I loved it. \n",
            "Conclusion: This movie is\n",
            "tensor(1.8376, device='cuda:0')\n",
            "I thought this movie was nasty, I hated it. \n",
            "Conclusion: This movie is\n",
            "tensor(3.7791, device='cuda:0')\n",
            "I thought this movie was wonderful, I loved it. \n",
            "Conclusion: This movie is\n",
            "tensor(0.5319, device='cuda:0')\n",
            "I thought this movie was inferior, I hated it. \n",
            "Conclusion: This movie is\n",
            "tensor(3.2152, device='cuda:0')\n",
            "I thought this movie was fabulous, I loved it. \n",
            "Conclusion: This movie is\n",
            "tensor(0.8824, device='cuda:0')\n",
            "I thought this movie was horrific, I hated it. \n",
            "Conclusion: This movie is\n",
            "tensor(3.7610, device='cuda:0')\n",
            "I thought this movie was outstanding, I loved it. \n",
            "Conclusion: This movie is\n",
            "tensor(0.7632, device='cuda:0')\n",
            "I thought this movie was terrible, I hated it. \n",
            "Conclusion: This movie is\n",
            "tensor(3.8163, device='cuda:0')\n",
            "I thought this movie was awesome, I loved it. \n",
            "Conclusion: This movie is\n",
            "tensor(0.4772, device='cuda:0')\n",
            "I thought this movie was ugly, I hated it. \n",
            "Conclusion: This movie is\n",
            "tensor(3.4582, device='cuda:0')\n",
            "I thought this movie was exceptional, I loved it. \n",
            "Conclusion: This movie is\n",
            "tensor(1.1677, device='cuda:0')\n",
            "I thought this movie was disgusting, I hated it. \n",
            "Conclusion: This movie is\n",
            "tensor(3.5216, device='cuda:0')\n",
            "I thought this movie was incredible, I loved it. \n",
            "Conclusion: This movie is\n",
            "tensor(1.3760, device='cuda:0')\n",
            "I thought this movie was disastrous, I hated it. \n",
            "Conclusion: This movie is\n",
            "tensor(3.9311, device='cuda:0')\n",
            "I thought this movie was extraordinary, I loved it. \n",
            "Conclusion: This movie is\n",
            "tensor(1.9708, device='cuda:0')\n",
            "I thought this movie was horrendous, I hated it. \n",
            "Conclusion: This movie is\n",
            "tensor(3.9670, device='cuda:0')\n",
            "I thought this movie was amazing, I loved it. \n",
            "Conclusion: This movie is\n",
            "tensor(1.3594, device='cuda:0')\n",
            "I thought this movie was annoying, I hated it. \n",
            "Conclusion: This movie is\n",
            "tensor(3.2200, device='cuda:0')\n",
            "I thought this movie was lovely, I loved it. \n",
            "Conclusion: This movie is\n",
            "tensor(0.2326, device='cuda:0')\n",
            "I thought this movie was boring, I hated it. \n",
            "Conclusion: This movie is\n",
            "tensor(2.8061, device='cuda:0')\n",
            "I thought this movie was brilliant, I loved it. \n",
            "Conclusion: This movie is\n",
            "tensor(0.4027, device='cuda:0')\n",
            "I thought this movie was offensive, I hated it. \n",
            "Conclusion: This movie is\n",
            "tensor(3.5956, device='cuda:0')\n",
            "I thought this movie was charming, I loved it. \n",
            "Conclusion: This movie is\n",
            "tensor(-0.0100, device='cuda:0')\n",
            "I thought this movie was frustrating, I hated it. \n",
            "Conclusion: This movie is\n",
            "tensor(2.8586, device='cuda:0')\n",
            "I thought this movie was terrific, I loved it. \n",
            "Conclusion: This movie is\n",
            "tensor(-0.0832, device='cuda:0')\n",
            "I thought this movie was wretched, I hated it. \n",
            "Conclusion: This movie is\n",
            "tensor(3.9812, device='cuda:0')\n",
            "I thought this movie was superb, I loved it. \n",
            "Conclusion: This movie is\n",
            "tensor(0.3937, device='cuda:0')\n",
            "I thought this movie was dire, I hated it. \n",
            "Conclusion: This movie is\n",
            "tensor(3.7401, device='cuda:0')\n",
            "I thought this movie was spectacular, I loved it. \n",
            "Conclusion: This movie is\n",
            "tensor(1.1613, device='cuda:0')\n",
            "I thought this movie was awful, I hated it. \n",
            "Conclusion: This movie is\n",
            "tensor(3.9950, device='cuda:0')\n",
            "I thought this movie was great, I loved it. \n",
            "Conclusion: This movie is\n",
            "tensor(-0.1778, device='cuda:0')\n",
            "I thought this movie was unpleasant, I hated it. \n",
            "Conclusion: This movie is\n",
            "tensor(3.9749, device='cuda:0')\n",
            "I thought this movie was splendid, I loved it. \n",
            "Conclusion: This movie is\n",
            "tensor(0.5100, device='cuda:0')\n",
            "I thought this movie was horrible, I hated it. \n",
            "Conclusion: This movie is\n",
            "tensor(3.8632, device='cuda:0')\n",
            "I thought this movie was beautiful, I loved it. \n",
            "Conclusion: This movie is\n",
            "tensor(0.8257, device='cuda:0')\n",
            "I thought this movie was mediocre, I hated it. \n",
            "Conclusion: This movie is\n",
            "tensor(3.3834, device='cuda:0')\n",
            "I thought this movie was joyful, I loved it. \n",
            "Conclusion: This movie is\n",
            "tensor(0.8756, device='cuda:0')\n",
            "I thought this movie was disappointing, I hated it. \n",
            "Conclusion: This movie is\n",
            "tensor(3.2368, device='cuda:0')\n"
          ]
        }
      ],
      "source": [
        "for i in range(len(all_prompts)):\n",
        "    logits, _ = model.run_with_cache(all_prompts[i])\n",
        "    print(all_prompts[i])\n",
        "    print(get_logit_diff(logits, answer_tokens[i].unsqueeze(0)))"
      ]
    },
    {
      "cell_type": "code",
      "execution_count": 16,
      "metadata": {},
      "outputs": [
        {
          "data": {
            "text/plain": [
              "tensor(2.0820, device='cuda:0')"
            ]
          },
          "execution_count": 16,
          "metadata": {},
          "output_type": "execute_result"
        }
      ],
      "source": [
        "clean_logits, clean_cache = model.run_with_cache(clean_tokens)\n",
        "clean_logit_diff = get_logit_diff(clean_logits, answer_tokens, per_prompt=False)\n",
        "clean_logit_diff"
      ]
    },
    {
      "cell_type": "code",
      "execution_count": 17,
      "metadata": {},
      "outputs": [
        {
          "data": {
            "text/plain": [
              "tensor(-2.0820, device='cuda:0')"
            ]
          },
          "execution_count": 17,
          "metadata": {},
          "output_type": "execute_result"
        }
      ],
      "source": [
        "corrupted_logits, corrupted_cache = model.run_with_cache(corrupted_tokens)\n",
        "corrupted_logit_diff = get_logit_diff(corrupted_logits, answer_tokens, per_prompt=False)\n",
        "corrupted_logit_diff"
      ]
    },
    {
      "cell_type": "code",
      "execution_count": 16,
      "metadata": {},
      "outputs": [],
      "source": [
        "def logit_diff_denoising(\n",
        "    logits: Float[Tensor, \"batch seq d_vocab\"],\n",
        "    answer_tokens: Float[Tensor, \"batch 2\"] = answer_tokens,\n",
        "    flipped_logit_diff: float = corrupted_logit_diff,\n",
        "    clean_logit_diff: float = clean_logit_diff,\n",
        ") -> Float[Tensor, \"\"]:\n",
        "    '''\n",
        "    Linear function of logit diff, calibrated so that it equals 0 when performance is\n",
        "    same as on flipped input, and 1 when performance is same as on clean input.\n",
        "    '''\n",
        "    patched_logit_diff = get_logit_diff(logits, answer_tokens)\n",
        "    return ((patched_logit_diff - flipped_logit_diff) / (clean_logit_diff  - flipped_logit_diff)).item()\n",
        "\n",
        "def logit_diff_noising(\n",
        "        logits: Float[Tensor, \"batch seq d_vocab\"],\n",
        "        clean_logit_diff: float = clean_logit_diff,\n",
        "        corrupted_logit_diff: float = corrupted_logit_diff,\n",
        "        answer_tokens: Float[Tensor, \"batch 2\"] = answer_tokens,\n",
        "    ) -> float:\n",
        "        '''\n",
        "        We calibrate this so that the value is 0 when performance isn't harmed (i.e. same as IOI dataset),\n",
        "        and -1 when performance has been destroyed (i.e. is same as ABC dataset).\n",
        "        '''\n",
        "        patched_logit_diff = get_logit_diff(logits, answer_tokens)\n",
        "        return ((patched_logit_diff - clean_logit_diff) / (clean_logit_diff - corrupted_logit_diff)).item()"
      ]
    },
    {
      "attachments": {},
      "cell_type": "markdown",
      "metadata": {
        "id": "TfiWnZtelFMV"
      },
      "source": [
        "### Direct Logit Attribution"
      ]
    },
    {
      "cell_type": "code",
      "execution_count": 17,
      "metadata": {
        "colab": {
          "base_uri": "https://localhost:8080/"
        },
        "id": "bt_jzrazlMAK",
        "outputId": "39683745-1153-4a0f-bdbf-5f3be977abe3"
      },
      "outputs": [
        {
          "name": "stdout",
          "output_type": "stream",
          "text": [
            "Answer residual directions shape: torch.Size([50, 2, 768])\n",
            "Logit difference directions shape: torch.Size([50, 768])\n"
          ]
        }
      ],
      "source": [
        "answer_residual_directions = model.tokens_to_residual_directions(answer_tokens)\n",
        "print(\"Answer residual directions shape:\", answer_residual_directions.shape)\n",
        "logit_diff_directions = answer_residual_directions[:, 0] - answer_residual_directions[:, 1]\n",
        "print(\"Logit difference directions shape:\", logit_diff_directions.shape)"
      ]
    },
    {
      "cell_type": "code",
      "execution_count": 18,
      "metadata": {
        "colab": {
          "base_uri": "https://localhost:8080/"
        },
        "id": "LsDE7VUGIX8l",
        "outputId": "226c2ad4-fb5b-44f4-b872-1d06eee7cbd5"
      },
      "outputs": [
        {
          "name": "stdout",
          "output_type": "stream",
          "text": [
            "Final residual stream shape: torch.Size([50, 19, 768])\n",
            "Calculated average logit diff: 1.9689451456069946\n",
            "Original logit difference: 1.968944787979126\n"
          ]
        }
      ],
      "source": [
        "# cache syntax - resid_post is the residual stream at the end of the layer, -1 gets the final layer. The general syntax is [activation_name, layer_index, sub_layer_type]. \n",
        "final_residual_stream = clean_cache[\"resid_post\", -1]\n",
        "print(\"Final residual stream shape:\", final_residual_stream.shape)\n",
        "final_token_residual_stream = final_residual_stream[:, -1, :]\n",
        "# Apply LayerNorm scaling\n",
        "# pos_slice is the subset of the positions we take - here the final token of each prompt\n",
        "scaled_final_token_residual_stream = clean_cache.apply_ln_to_stack(final_token_residual_stream, layer = -1, pos_slice=-1)\n",
        "\n",
        "average_logit_diff = einsum(\"batch d_model, batch d_model -> \", scaled_final_token_residual_stream, logit_diff_directions)/len(all_prompts)\n",
        "print(\"Calculated average logit diff:\", average_logit_diff.item())\n",
        "print(\"Original logit difference:\",clean_logit_diff.item())"
      ]
    },
    {
      "attachments": {},
      "cell_type": "markdown",
      "metadata": {
        "id": "Nb2nC45lIohT"
      },
      "source": [
        "#### Logit Lens"
      ]
    },
    {
      "cell_type": "code",
      "execution_count": 19,
      "metadata": {
        "id": "DvRDK2krIrid"
      },
      "outputs": [],
      "source": [
        "def residual_stack_to_logit_diff(residual_stack: TT[\"components\", \"batch\", \"d_model\"], cache: ActivationCache) -> float:\n",
        "    scaled_residual_stack = clean_cache.apply_ln_to_stack(residual_stack, layer = -1, pos_slice=-1)\n",
        "    return einsum(\"... batch d_model, batch d_model -> ...\", scaled_residual_stack, logit_diff_directions)/len(all_prompts)"
      ]
    },
    {
      "cell_type": "code",
      "execution_count": 20,
      "metadata": {
        "colab": {
          "base_uri": "https://localhost:8080/",
          "height": 542
        },
        "id": "7vxP1pNuPMhr",
        "outputId": "616ac0ef-ddd2-4b1e-bccd-8ee3a3ebce23"
      },
      "outputs": [
        {
          "data": {
            "application/vnd.plotly.v1+json": {
              "config": {
                "plotlyServerURL": "https://plot.ly"
              },
              "data": [
                {
                  "hovertemplate": "<b>%{hovertext}</b><br><br>x=%{x}<br>y=%{y}<extra></extra>",
                  "hovertext": [
                    "0_pre",
                    "0_mid",
                    "1_pre",
                    "1_mid",
                    "2_pre",
                    "2_mid",
                    "3_pre",
                    "3_mid",
                    "4_pre",
                    "4_mid",
                    "5_pre",
                    "5_mid",
                    "6_pre",
                    "6_mid",
                    "7_pre",
                    "7_mid",
                    "8_pre",
                    "8_mid",
                    "9_pre",
                    "9_mid",
                    "10_pre",
                    "10_mid",
                    "11_pre",
                    "11_mid",
                    "final_post"
                  ],
                  "legendgroup": "",
                  "line": {
                    "color": "#636efa",
                    "dash": "solid"
                  },
                  "marker": {
                    "symbol": "circle"
                  },
                  "mode": "lines",
                  "name": "",
                  "orientation": "v",
                  "showlegend": false,
                  "type": "scatter",
                  "x": [
                    0,
                    0.5,
                    1,
                    1.5,
                    2,
                    2.5,
                    3,
                    3.5,
                    4,
                    4.5,
                    5,
                    5.5,
                    6,
                    6.5,
                    7,
                    7.5,
                    8,
                    8.5,
                    9,
                    9.5,
                    10,
                    10.5,
                    11,
                    11.5,
                    12
                  ],
                  "xaxis": "x",
                  "y": [
                    0.0002376221673330292,
                    0.02340746857225895,
                    0.018050771206617355,
                    0.026641743257641792,
                    0.024309519678354263,
                    0.03300516679883003,
                    0.026928182691335678,
                    0.036444246768951416,
                    0.03230920061469078,
                    0.04241311550140381,
                    0.04348384588956833,
                    0.07502629607915878,
                    0.06718560308218002,
                    0.1043679490685463,
                    0.10704776644706726,
                    0.2461705505847931,
                    0.2987084984779358,
                    0.4581162929534912,
                    0.6517397165298462,
                    1.1174094676971436,
                    1.2674336433410645,
                    2.0796704292297363,
                    1.991884469985962,
                    2.2021613121032715,
                    1.9689452648162842
                  ],
                  "yaxis": "y"
                }
              ],
              "layout": {
                "legend": {
                  "tracegroupgap": 0
                },
                "template": {
                  "data": {
                    "bar": [
                      {
                        "error_x": {
                          "color": "#2a3f5f"
                        },
                        "error_y": {
                          "color": "#2a3f5f"
                        },
                        "marker": {
                          "line": {
                            "color": "#E5ECF6",
                            "width": 0.5
                          },
                          "pattern": {
                            "fillmode": "overlay",
                            "size": 10,
                            "solidity": 0.2
                          }
                        },
                        "type": "bar"
                      }
                    ],
                    "barpolar": [
                      {
                        "marker": {
                          "line": {
                            "color": "#E5ECF6",
                            "width": 0.5
                          },
                          "pattern": {
                            "fillmode": "overlay",
                            "size": 10,
                            "solidity": 0.2
                          }
                        },
                        "type": "barpolar"
                      }
                    ],
                    "carpet": [
                      {
                        "aaxis": {
                          "endlinecolor": "#2a3f5f",
                          "gridcolor": "white",
                          "linecolor": "white",
                          "minorgridcolor": "white",
                          "startlinecolor": "#2a3f5f"
                        },
                        "baxis": {
                          "endlinecolor": "#2a3f5f",
                          "gridcolor": "white",
                          "linecolor": "white",
                          "minorgridcolor": "white",
                          "startlinecolor": "#2a3f5f"
                        },
                        "type": "carpet"
                      }
                    ],
                    "choropleth": [
                      {
                        "colorbar": {
                          "outlinewidth": 0,
                          "ticks": ""
                        },
                        "type": "choropleth"
                      }
                    ],
                    "contour": [
                      {
                        "colorbar": {
                          "outlinewidth": 0,
                          "ticks": ""
                        },
                        "colorscale": [
                          [
                            0,
                            "#0d0887"
                          ],
                          [
                            0.1111111111111111,
                            "#46039f"
                          ],
                          [
                            0.2222222222222222,
                            "#7201a8"
                          ],
                          [
                            0.3333333333333333,
                            "#9c179e"
                          ],
                          [
                            0.4444444444444444,
                            "#bd3786"
                          ],
                          [
                            0.5555555555555556,
                            "#d8576b"
                          ],
                          [
                            0.6666666666666666,
                            "#ed7953"
                          ],
                          [
                            0.7777777777777778,
                            "#fb9f3a"
                          ],
                          [
                            0.8888888888888888,
                            "#fdca26"
                          ],
                          [
                            1,
                            "#f0f921"
                          ]
                        ],
                        "type": "contour"
                      }
                    ],
                    "contourcarpet": [
                      {
                        "colorbar": {
                          "outlinewidth": 0,
                          "ticks": ""
                        },
                        "type": "contourcarpet"
                      }
                    ],
                    "heatmap": [
                      {
                        "colorbar": {
                          "outlinewidth": 0,
                          "ticks": ""
                        },
                        "colorscale": [
                          [
                            0,
                            "#0d0887"
                          ],
                          [
                            0.1111111111111111,
                            "#46039f"
                          ],
                          [
                            0.2222222222222222,
                            "#7201a8"
                          ],
                          [
                            0.3333333333333333,
                            "#9c179e"
                          ],
                          [
                            0.4444444444444444,
                            "#bd3786"
                          ],
                          [
                            0.5555555555555556,
                            "#d8576b"
                          ],
                          [
                            0.6666666666666666,
                            "#ed7953"
                          ],
                          [
                            0.7777777777777778,
                            "#fb9f3a"
                          ],
                          [
                            0.8888888888888888,
                            "#fdca26"
                          ],
                          [
                            1,
                            "#f0f921"
                          ]
                        ],
                        "type": "heatmap"
                      }
                    ],
                    "heatmapgl": [
                      {
                        "colorbar": {
                          "outlinewidth": 0,
                          "ticks": ""
                        },
                        "colorscale": [
                          [
                            0,
                            "#0d0887"
                          ],
                          [
                            0.1111111111111111,
                            "#46039f"
                          ],
                          [
                            0.2222222222222222,
                            "#7201a8"
                          ],
                          [
                            0.3333333333333333,
                            "#9c179e"
                          ],
                          [
                            0.4444444444444444,
                            "#bd3786"
                          ],
                          [
                            0.5555555555555556,
                            "#d8576b"
                          ],
                          [
                            0.6666666666666666,
                            "#ed7953"
                          ],
                          [
                            0.7777777777777778,
                            "#fb9f3a"
                          ],
                          [
                            0.8888888888888888,
                            "#fdca26"
                          ],
                          [
                            1,
                            "#f0f921"
                          ]
                        ],
                        "type": "heatmapgl"
                      }
                    ],
                    "histogram": [
                      {
                        "marker": {
                          "pattern": {
                            "fillmode": "overlay",
                            "size": 10,
                            "solidity": 0.2
                          }
                        },
                        "type": "histogram"
                      }
                    ],
                    "histogram2d": [
                      {
                        "colorbar": {
                          "outlinewidth": 0,
                          "ticks": ""
                        },
                        "colorscale": [
                          [
                            0,
                            "#0d0887"
                          ],
                          [
                            0.1111111111111111,
                            "#46039f"
                          ],
                          [
                            0.2222222222222222,
                            "#7201a8"
                          ],
                          [
                            0.3333333333333333,
                            "#9c179e"
                          ],
                          [
                            0.4444444444444444,
                            "#bd3786"
                          ],
                          [
                            0.5555555555555556,
                            "#d8576b"
                          ],
                          [
                            0.6666666666666666,
                            "#ed7953"
                          ],
                          [
                            0.7777777777777778,
                            "#fb9f3a"
                          ],
                          [
                            0.8888888888888888,
                            "#fdca26"
                          ],
                          [
                            1,
                            "#f0f921"
                          ]
                        ],
                        "type": "histogram2d"
                      }
                    ],
                    "histogram2dcontour": [
                      {
                        "colorbar": {
                          "outlinewidth": 0,
                          "ticks": ""
                        },
                        "colorscale": [
                          [
                            0,
                            "#0d0887"
                          ],
                          [
                            0.1111111111111111,
                            "#46039f"
                          ],
                          [
                            0.2222222222222222,
                            "#7201a8"
                          ],
                          [
                            0.3333333333333333,
                            "#9c179e"
                          ],
                          [
                            0.4444444444444444,
                            "#bd3786"
                          ],
                          [
                            0.5555555555555556,
                            "#d8576b"
                          ],
                          [
                            0.6666666666666666,
                            "#ed7953"
                          ],
                          [
                            0.7777777777777778,
                            "#fb9f3a"
                          ],
                          [
                            0.8888888888888888,
                            "#fdca26"
                          ],
                          [
                            1,
                            "#f0f921"
                          ]
                        ],
                        "type": "histogram2dcontour"
                      }
                    ],
                    "mesh3d": [
                      {
                        "colorbar": {
                          "outlinewidth": 0,
                          "ticks": ""
                        },
                        "type": "mesh3d"
                      }
                    ],
                    "parcoords": [
                      {
                        "line": {
                          "colorbar": {
                            "outlinewidth": 0,
                            "ticks": ""
                          }
                        },
                        "type": "parcoords"
                      }
                    ],
                    "pie": [
                      {
                        "automargin": true,
                        "type": "pie"
                      }
                    ],
                    "scatter": [
                      {
                        "fillpattern": {
                          "fillmode": "overlay",
                          "size": 10,
                          "solidity": 0.2
                        },
                        "type": "scatter"
                      }
                    ],
                    "scatter3d": [
                      {
                        "line": {
                          "colorbar": {
                            "outlinewidth": 0,
                            "ticks": ""
                          }
                        },
                        "marker": {
                          "colorbar": {
                            "outlinewidth": 0,
                            "ticks": ""
                          }
                        },
                        "type": "scatter3d"
                      }
                    ],
                    "scattercarpet": [
                      {
                        "marker": {
                          "colorbar": {
                            "outlinewidth": 0,
                            "ticks": ""
                          }
                        },
                        "type": "scattercarpet"
                      }
                    ],
                    "scattergeo": [
                      {
                        "marker": {
                          "colorbar": {
                            "outlinewidth": 0,
                            "ticks": ""
                          }
                        },
                        "type": "scattergeo"
                      }
                    ],
                    "scattergl": [
                      {
                        "marker": {
                          "colorbar": {
                            "outlinewidth": 0,
                            "ticks": ""
                          }
                        },
                        "type": "scattergl"
                      }
                    ],
                    "scattermapbox": [
                      {
                        "marker": {
                          "colorbar": {
                            "outlinewidth": 0,
                            "ticks": ""
                          }
                        },
                        "type": "scattermapbox"
                      }
                    ],
                    "scatterpolar": [
                      {
                        "marker": {
                          "colorbar": {
                            "outlinewidth": 0,
                            "ticks": ""
                          }
                        },
                        "type": "scatterpolar"
                      }
                    ],
                    "scatterpolargl": [
                      {
                        "marker": {
                          "colorbar": {
                            "outlinewidth": 0,
                            "ticks": ""
                          }
                        },
                        "type": "scatterpolargl"
                      }
                    ],
                    "scatterternary": [
                      {
                        "marker": {
                          "colorbar": {
                            "outlinewidth": 0,
                            "ticks": ""
                          }
                        },
                        "type": "scatterternary"
                      }
                    ],
                    "surface": [
                      {
                        "colorbar": {
                          "outlinewidth": 0,
                          "ticks": ""
                        },
                        "colorscale": [
                          [
                            0,
                            "#0d0887"
                          ],
                          [
                            0.1111111111111111,
                            "#46039f"
                          ],
                          [
                            0.2222222222222222,
                            "#7201a8"
                          ],
                          [
                            0.3333333333333333,
                            "#9c179e"
                          ],
                          [
                            0.4444444444444444,
                            "#bd3786"
                          ],
                          [
                            0.5555555555555556,
                            "#d8576b"
                          ],
                          [
                            0.6666666666666666,
                            "#ed7953"
                          ],
                          [
                            0.7777777777777778,
                            "#fb9f3a"
                          ],
                          [
                            0.8888888888888888,
                            "#fdca26"
                          ],
                          [
                            1,
                            "#f0f921"
                          ]
                        ],
                        "type": "surface"
                      }
                    ],
                    "table": [
                      {
                        "cells": {
                          "fill": {
                            "color": "#EBF0F8"
                          },
                          "line": {
                            "color": "white"
                          }
                        },
                        "header": {
                          "fill": {
                            "color": "#C8D4E3"
                          },
                          "line": {
                            "color": "white"
                          }
                        },
                        "type": "table"
                      }
                    ]
                  },
                  "layout": {
                    "annotationdefaults": {
                      "arrowcolor": "#2a3f5f",
                      "arrowhead": 0,
                      "arrowwidth": 1
                    },
                    "autotypenumbers": "strict",
                    "coloraxis": {
                      "colorbar": {
                        "outlinewidth": 0,
                        "ticks": ""
                      }
                    },
                    "colorscale": {
                      "diverging": [
                        [
                          0,
                          "#8e0152"
                        ],
                        [
                          0.1,
                          "#c51b7d"
                        ],
                        [
                          0.2,
                          "#de77ae"
                        ],
                        [
                          0.3,
                          "#f1b6da"
                        ],
                        [
                          0.4,
                          "#fde0ef"
                        ],
                        [
                          0.5,
                          "#f7f7f7"
                        ],
                        [
                          0.6,
                          "#e6f5d0"
                        ],
                        [
                          0.7,
                          "#b8e186"
                        ],
                        [
                          0.8,
                          "#7fbc41"
                        ],
                        [
                          0.9,
                          "#4d9221"
                        ],
                        [
                          1,
                          "#276419"
                        ]
                      ],
                      "sequential": [
                        [
                          0,
                          "#0d0887"
                        ],
                        [
                          0.1111111111111111,
                          "#46039f"
                        ],
                        [
                          0.2222222222222222,
                          "#7201a8"
                        ],
                        [
                          0.3333333333333333,
                          "#9c179e"
                        ],
                        [
                          0.4444444444444444,
                          "#bd3786"
                        ],
                        [
                          0.5555555555555556,
                          "#d8576b"
                        ],
                        [
                          0.6666666666666666,
                          "#ed7953"
                        ],
                        [
                          0.7777777777777778,
                          "#fb9f3a"
                        ],
                        [
                          0.8888888888888888,
                          "#fdca26"
                        ],
                        [
                          1,
                          "#f0f921"
                        ]
                      ],
                      "sequentialminus": [
                        [
                          0,
                          "#0d0887"
                        ],
                        [
                          0.1111111111111111,
                          "#46039f"
                        ],
                        [
                          0.2222222222222222,
                          "#7201a8"
                        ],
                        [
                          0.3333333333333333,
                          "#9c179e"
                        ],
                        [
                          0.4444444444444444,
                          "#bd3786"
                        ],
                        [
                          0.5555555555555556,
                          "#d8576b"
                        ],
                        [
                          0.6666666666666666,
                          "#ed7953"
                        ],
                        [
                          0.7777777777777778,
                          "#fb9f3a"
                        ],
                        [
                          0.8888888888888888,
                          "#fdca26"
                        ],
                        [
                          1,
                          "#f0f921"
                        ]
                      ]
                    },
                    "colorway": [
                      "#636efa",
                      "#EF553B",
                      "#00cc96",
                      "#ab63fa",
                      "#FFA15A",
                      "#19d3f3",
                      "#FF6692",
                      "#B6E880",
                      "#FF97FF",
                      "#FECB52"
                    ],
                    "font": {
                      "color": "#2a3f5f"
                    },
                    "geo": {
                      "bgcolor": "white",
                      "lakecolor": "white",
                      "landcolor": "#E5ECF6",
                      "showlakes": true,
                      "showland": true,
                      "subunitcolor": "white"
                    },
                    "hoverlabel": {
                      "align": "left"
                    },
                    "hovermode": "closest",
                    "mapbox": {
                      "style": "light"
                    },
                    "paper_bgcolor": "white",
                    "plot_bgcolor": "#E5ECF6",
                    "polar": {
                      "angularaxis": {
                        "gridcolor": "white",
                        "linecolor": "white",
                        "ticks": ""
                      },
                      "bgcolor": "#E5ECF6",
                      "radialaxis": {
                        "gridcolor": "white",
                        "linecolor": "white",
                        "ticks": ""
                      }
                    },
                    "scene": {
                      "xaxis": {
                        "backgroundcolor": "#E5ECF6",
                        "gridcolor": "white",
                        "gridwidth": 2,
                        "linecolor": "white",
                        "showbackground": true,
                        "ticks": "",
                        "zerolinecolor": "white"
                      },
                      "yaxis": {
                        "backgroundcolor": "#E5ECF6",
                        "gridcolor": "white",
                        "gridwidth": 2,
                        "linecolor": "white",
                        "showbackground": true,
                        "ticks": "",
                        "zerolinecolor": "white"
                      },
                      "zaxis": {
                        "backgroundcolor": "#E5ECF6",
                        "gridcolor": "white",
                        "gridwidth": 2,
                        "linecolor": "white",
                        "showbackground": true,
                        "ticks": "",
                        "zerolinecolor": "white"
                      }
                    },
                    "shapedefaults": {
                      "line": {
                        "color": "#2a3f5f"
                      }
                    },
                    "ternary": {
                      "aaxis": {
                        "gridcolor": "white",
                        "linecolor": "white",
                        "ticks": ""
                      },
                      "baxis": {
                        "gridcolor": "white",
                        "linecolor": "white",
                        "ticks": ""
                      },
                      "bgcolor": "#E5ECF6",
                      "caxis": {
                        "gridcolor": "white",
                        "linecolor": "white",
                        "ticks": ""
                      }
                    },
                    "title": {
                      "x": 0.05
                    },
                    "xaxis": {
                      "automargin": true,
                      "gridcolor": "white",
                      "linecolor": "white",
                      "ticks": "",
                      "title": {
                        "standoff": 15
                      },
                      "zerolinecolor": "white",
                      "zerolinewidth": 2
                    },
                    "yaxis": {
                      "automargin": true,
                      "gridcolor": "white",
                      "linecolor": "white",
                      "ticks": "",
                      "title": {
                        "standoff": 15
                      },
                      "zerolinecolor": "white",
                      "zerolinewidth": 2
                    }
                  }
                },
                "title": {
                  "text": "Logit Difference From Accumulate Residual Stream"
                },
                "xaxis": {
                  "anchor": "y",
                  "domain": [
                    0,
                    1
                  ],
                  "title": {
                    "text": "x"
                  }
                },
                "yaxis": {
                  "anchor": "x",
                  "domain": [
                    0,
                    1
                  ],
                  "title": {
                    "text": "y"
                  }
                }
              }
            }
          },
          "metadata": {},
          "output_type": "display_data"
        }
      ],
      "source": [
        "accumulated_residual, labels = clean_cache.accumulated_resid(layer=-1, incl_mid=True, pos_slice=-1, return_labels=True)\n",
        "logit_lens_logit_diffs = residual_stack_to_logit_diff(accumulated_residual, clean_cache)\n",
        "line(logit_lens_logit_diffs, x=np.arange(model.cfg.n_layers*2+1)/2, hover_name=labels, title=\"Logit Difference From Accumulate Residual Stream\")"
      ]
    },
    {
      "attachments": {},
      "cell_type": "markdown",
      "metadata": {
        "id": "s60emfYIbTuT"
      },
      "source": [
        "#### Layer Attribution"
      ]
    },
    {
      "cell_type": "code",
      "execution_count": 21,
      "metadata": {
        "colab": {
          "base_uri": "https://localhost:8080/",
          "height": 542
        },
        "id": "yGgAVYgIJi9Z",
        "outputId": "2d6b1ffe-b701-419d-a786-24f0d24d2b54"
      },
      "outputs": [
        {
          "data": {
            "application/vnd.plotly.v1+json": {
              "config": {
                "plotlyServerURL": "https://plot.ly"
              },
              "data": [
                {
                  "hovertemplate": "<b>%{hovertext}</b><br><br>x=%{x}<br>y=%{y}<extra></extra>",
                  "hovertext": [
                    "embed",
                    "pos_embed",
                    "0_attn_out",
                    "0_mlp_out",
                    "1_attn_out",
                    "1_mlp_out",
                    "2_attn_out",
                    "2_mlp_out",
                    "3_attn_out",
                    "3_mlp_out",
                    "4_attn_out",
                    "4_mlp_out",
                    "5_attn_out",
                    "5_mlp_out",
                    "6_attn_out",
                    "6_mlp_out",
                    "7_attn_out",
                    "7_mlp_out",
                    "8_attn_out",
                    "8_mlp_out",
                    "9_attn_out",
                    "9_mlp_out",
                    "10_attn_out",
                    "10_mlp_out",
                    "11_attn_out",
                    "11_mlp_out"
                  ],
                  "legendgroup": "",
                  "line": {
                    "color": "#636efa",
                    "dash": "solid"
                  },
                  "marker": {
                    "symbol": "circle"
                  },
                  "mode": "lines",
                  "name": "",
                  "orientation": "v",
                  "showlegend": false,
                  "type": "scatter",
                  "x": [
                    0,
                    1,
                    2,
                    3,
                    4,
                    5,
                    6,
                    7,
                    8,
                    9,
                    10,
                    11,
                    12,
                    13,
                    14,
                    15,
                    16,
                    17,
                    18,
                    19,
                    20,
                    21,
                    22,
                    23,
                    24,
                    25
                  ],
                  "xaxis": "x",
                  "y": [
                    0.00025182703393511474,
                    -0.000014204494618752506,
                    0.02316984534263611,
                    -0.005356699228286743,
                    0.008590972051024437,
                    -0.002332216827198863,
                    0.008695641532540321,
                    -0.0060769799165427685,
                    0.00951606035232544,
                    -0.004135041031986475,
                    0.010103907436132431,
                    0.0010707455221563578,
                    0.03154243901371956,
                    -0.007840702310204506,
                    0.03718234971165657,
                    0.0026798141188919544,
                    0.13912278413772583,
                    0.05253791809082031,
                    0.1594078093767166,
                    0.19362348318099976,
                    0.465669721364975,
                    0.1500241458415985,
                    0.8122369050979614,
                    -0.08778620511293411,
                    0.2102770358324051,
                    -0.23321633040905
                  ],
                  "yaxis": "y"
                }
              ],
              "layout": {
                "legend": {
                  "tracegroupgap": 0
                },
                "template": {
                  "data": {
                    "bar": [
                      {
                        "error_x": {
                          "color": "#2a3f5f"
                        },
                        "error_y": {
                          "color": "#2a3f5f"
                        },
                        "marker": {
                          "line": {
                            "color": "#E5ECF6",
                            "width": 0.5
                          },
                          "pattern": {
                            "fillmode": "overlay",
                            "size": 10,
                            "solidity": 0.2
                          }
                        },
                        "type": "bar"
                      }
                    ],
                    "barpolar": [
                      {
                        "marker": {
                          "line": {
                            "color": "#E5ECF6",
                            "width": 0.5
                          },
                          "pattern": {
                            "fillmode": "overlay",
                            "size": 10,
                            "solidity": 0.2
                          }
                        },
                        "type": "barpolar"
                      }
                    ],
                    "carpet": [
                      {
                        "aaxis": {
                          "endlinecolor": "#2a3f5f",
                          "gridcolor": "white",
                          "linecolor": "white",
                          "minorgridcolor": "white",
                          "startlinecolor": "#2a3f5f"
                        },
                        "baxis": {
                          "endlinecolor": "#2a3f5f",
                          "gridcolor": "white",
                          "linecolor": "white",
                          "minorgridcolor": "white",
                          "startlinecolor": "#2a3f5f"
                        },
                        "type": "carpet"
                      }
                    ],
                    "choropleth": [
                      {
                        "colorbar": {
                          "outlinewidth": 0,
                          "ticks": ""
                        },
                        "type": "choropleth"
                      }
                    ],
                    "contour": [
                      {
                        "colorbar": {
                          "outlinewidth": 0,
                          "ticks": ""
                        },
                        "colorscale": [
                          [
                            0,
                            "#0d0887"
                          ],
                          [
                            0.1111111111111111,
                            "#46039f"
                          ],
                          [
                            0.2222222222222222,
                            "#7201a8"
                          ],
                          [
                            0.3333333333333333,
                            "#9c179e"
                          ],
                          [
                            0.4444444444444444,
                            "#bd3786"
                          ],
                          [
                            0.5555555555555556,
                            "#d8576b"
                          ],
                          [
                            0.6666666666666666,
                            "#ed7953"
                          ],
                          [
                            0.7777777777777778,
                            "#fb9f3a"
                          ],
                          [
                            0.8888888888888888,
                            "#fdca26"
                          ],
                          [
                            1,
                            "#f0f921"
                          ]
                        ],
                        "type": "contour"
                      }
                    ],
                    "contourcarpet": [
                      {
                        "colorbar": {
                          "outlinewidth": 0,
                          "ticks": ""
                        },
                        "type": "contourcarpet"
                      }
                    ],
                    "heatmap": [
                      {
                        "colorbar": {
                          "outlinewidth": 0,
                          "ticks": ""
                        },
                        "colorscale": [
                          [
                            0,
                            "#0d0887"
                          ],
                          [
                            0.1111111111111111,
                            "#46039f"
                          ],
                          [
                            0.2222222222222222,
                            "#7201a8"
                          ],
                          [
                            0.3333333333333333,
                            "#9c179e"
                          ],
                          [
                            0.4444444444444444,
                            "#bd3786"
                          ],
                          [
                            0.5555555555555556,
                            "#d8576b"
                          ],
                          [
                            0.6666666666666666,
                            "#ed7953"
                          ],
                          [
                            0.7777777777777778,
                            "#fb9f3a"
                          ],
                          [
                            0.8888888888888888,
                            "#fdca26"
                          ],
                          [
                            1,
                            "#f0f921"
                          ]
                        ],
                        "type": "heatmap"
                      }
                    ],
                    "heatmapgl": [
                      {
                        "colorbar": {
                          "outlinewidth": 0,
                          "ticks": ""
                        },
                        "colorscale": [
                          [
                            0,
                            "#0d0887"
                          ],
                          [
                            0.1111111111111111,
                            "#46039f"
                          ],
                          [
                            0.2222222222222222,
                            "#7201a8"
                          ],
                          [
                            0.3333333333333333,
                            "#9c179e"
                          ],
                          [
                            0.4444444444444444,
                            "#bd3786"
                          ],
                          [
                            0.5555555555555556,
                            "#d8576b"
                          ],
                          [
                            0.6666666666666666,
                            "#ed7953"
                          ],
                          [
                            0.7777777777777778,
                            "#fb9f3a"
                          ],
                          [
                            0.8888888888888888,
                            "#fdca26"
                          ],
                          [
                            1,
                            "#f0f921"
                          ]
                        ],
                        "type": "heatmapgl"
                      }
                    ],
                    "histogram": [
                      {
                        "marker": {
                          "pattern": {
                            "fillmode": "overlay",
                            "size": 10,
                            "solidity": 0.2
                          }
                        },
                        "type": "histogram"
                      }
                    ],
                    "histogram2d": [
                      {
                        "colorbar": {
                          "outlinewidth": 0,
                          "ticks": ""
                        },
                        "colorscale": [
                          [
                            0,
                            "#0d0887"
                          ],
                          [
                            0.1111111111111111,
                            "#46039f"
                          ],
                          [
                            0.2222222222222222,
                            "#7201a8"
                          ],
                          [
                            0.3333333333333333,
                            "#9c179e"
                          ],
                          [
                            0.4444444444444444,
                            "#bd3786"
                          ],
                          [
                            0.5555555555555556,
                            "#d8576b"
                          ],
                          [
                            0.6666666666666666,
                            "#ed7953"
                          ],
                          [
                            0.7777777777777778,
                            "#fb9f3a"
                          ],
                          [
                            0.8888888888888888,
                            "#fdca26"
                          ],
                          [
                            1,
                            "#f0f921"
                          ]
                        ],
                        "type": "histogram2d"
                      }
                    ],
                    "histogram2dcontour": [
                      {
                        "colorbar": {
                          "outlinewidth": 0,
                          "ticks": ""
                        },
                        "colorscale": [
                          [
                            0,
                            "#0d0887"
                          ],
                          [
                            0.1111111111111111,
                            "#46039f"
                          ],
                          [
                            0.2222222222222222,
                            "#7201a8"
                          ],
                          [
                            0.3333333333333333,
                            "#9c179e"
                          ],
                          [
                            0.4444444444444444,
                            "#bd3786"
                          ],
                          [
                            0.5555555555555556,
                            "#d8576b"
                          ],
                          [
                            0.6666666666666666,
                            "#ed7953"
                          ],
                          [
                            0.7777777777777778,
                            "#fb9f3a"
                          ],
                          [
                            0.8888888888888888,
                            "#fdca26"
                          ],
                          [
                            1,
                            "#f0f921"
                          ]
                        ],
                        "type": "histogram2dcontour"
                      }
                    ],
                    "mesh3d": [
                      {
                        "colorbar": {
                          "outlinewidth": 0,
                          "ticks": ""
                        },
                        "type": "mesh3d"
                      }
                    ],
                    "parcoords": [
                      {
                        "line": {
                          "colorbar": {
                            "outlinewidth": 0,
                            "ticks": ""
                          }
                        },
                        "type": "parcoords"
                      }
                    ],
                    "pie": [
                      {
                        "automargin": true,
                        "type": "pie"
                      }
                    ],
                    "scatter": [
                      {
                        "fillpattern": {
                          "fillmode": "overlay",
                          "size": 10,
                          "solidity": 0.2
                        },
                        "type": "scatter"
                      }
                    ],
                    "scatter3d": [
                      {
                        "line": {
                          "colorbar": {
                            "outlinewidth": 0,
                            "ticks": ""
                          }
                        },
                        "marker": {
                          "colorbar": {
                            "outlinewidth": 0,
                            "ticks": ""
                          }
                        },
                        "type": "scatter3d"
                      }
                    ],
                    "scattercarpet": [
                      {
                        "marker": {
                          "colorbar": {
                            "outlinewidth": 0,
                            "ticks": ""
                          }
                        },
                        "type": "scattercarpet"
                      }
                    ],
                    "scattergeo": [
                      {
                        "marker": {
                          "colorbar": {
                            "outlinewidth": 0,
                            "ticks": ""
                          }
                        },
                        "type": "scattergeo"
                      }
                    ],
                    "scattergl": [
                      {
                        "marker": {
                          "colorbar": {
                            "outlinewidth": 0,
                            "ticks": ""
                          }
                        },
                        "type": "scattergl"
                      }
                    ],
                    "scattermapbox": [
                      {
                        "marker": {
                          "colorbar": {
                            "outlinewidth": 0,
                            "ticks": ""
                          }
                        },
                        "type": "scattermapbox"
                      }
                    ],
                    "scatterpolar": [
                      {
                        "marker": {
                          "colorbar": {
                            "outlinewidth": 0,
                            "ticks": ""
                          }
                        },
                        "type": "scatterpolar"
                      }
                    ],
                    "scatterpolargl": [
                      {
                        "marker": {
                          "colorbar": {
                            "outlinewidth": 0,
                            "ticks": ""
                          }
                        },
                        "type": "scatterpolargl"
                      }
                    ],
                    "scatterternary": [
                      {
                        "marker": {
                          "colorbar": {
                            "outlinewidth": 0,
                            "ticks": ""
                          }
                        },
                        "type": "scatterternary"
                      }
                    ],
                    "surface": [
                      {
                        "colorbar": {
                          "outlinewidth": 0,
                          "ticks": ""
                        },
                        "colorscale": [
                          [
                            0,
                            "#0d0887"
                          ],
                          [
                            0.1111111111111111,
                            "#46039f"
                          ],
                          [
                            0.2222222222222222,
                            "#7201a8"
                          ],
                          [
                            0.3333333333333333,
                            "#9c179e"
                          ],
                          [
                            0.4444444444444444,
                            "#bd3786"
                          ],
                          [
                            0.5555555555555556,
                            "#d8576b"
                          ],
                          [
                            0.6666666666666666,
                            "#ed7953"
                          ],
                          [
                            0.7777777777777778,
                            "#fb9f3a"
                          ],
                          [
                            0.8888888888888888,
                            "#fdca26"
                          ],
                          [
                            1,
                            "#f0f921"
                          ]
                        ],
                        "type": "surface"
                      }
                    ],
                    "table": [
                      {
                        "cells": {
                          "fill": {
                            "color": "#EBF0F8"
                          },
                          "line": {
                            "color": "white"
                          }
                        },
                        "header": {
                          "fill": {
                            "color": "#C8D4E3"
                          },
                          "line": {
                            "color": "white"
                          }
                        },
                        "type": "table"
                      }
                    ]
                  },
                  "layout": {
                    "annotationdefaults": {
                      "arrowcolor": "#2a3f5f",
                      "arrowhead": 0,
                      "arrowwidth": 1
                    },
                    "autotypenumbers": "strict",
                    "coloraxis": {
                      "colorbar": {
                        "outlinewidth": 0,
                        "ticks": ""
                      }
                    },
                    "colorscale": {
                      "diverging": [
                        [
                          0,
                          "#8e0152"
                        ],
                        [
                          0.1,
                          "#c51b7d"
                        ],
                        [
                          0.2,
                          "#de77ae"
                        ],
                        [
                          0.3,
                          "#f1b6da"
                        ],
                        [
                          0.4,
                          "#fde0ef"
                        ],
                        [
                          0.5,
                          "#f7f7f7"
                        ],
                        [
                          0.6,
                          "#e6f5d0"
                        ],
                        [
                          0.7,
                          "#b8e186"
                        ],
                        [
                          0.8,
                          "#7fbc41"
                        ],
                        [
                          0.9,
                          "#4d9221"
                        ],
                        [
                          1,
                          "#276419"
                        ]
                      ],
                      "sequential": [
                        [
                          0,
                          "#0d0887"
                        ],
                        [
                          0.1111111111111111,
                          "#46039f"
                        ],
                        [
                          0.2222222222222222,
                          "#7201a8"
                        ],
                        [
                          0.3333333333333333,
                          "#9c179e"
                        ],
                        [
                          0.4444444444444444,
                          "#bd3786"
                        ],
                        [
                          0.5555555555555556,
                          "#d8576b"
                        ],
                        [
                          0.6666666666666666,
                          "#ed7953"
                        ],
                        [
                          0.7777777777777778,
                          "#fb9f3a"
                        ],
                        [
                          0.8888888888888888,
                          "#fdca26"
                        ],
                        [
                          1,
                          "#f0f921"
                        ]
                      ],
                      "sequentialminus": [
                        [
                          0,
                          "#0d0887"
                        ],
                        [
                          0.1111111111111111,
                          "#46039f"
                        ],
                        [
                          0.2222222222222222,
                          "#7201a8"
                        ],
                        [
                          0.3333333333333333,
                          "#9c179e"
                        ],
                        [
                          0.4444444444444444,
                          "#bd3786"
                        ],
                        [
                          0.5555555555555556,
                          "#d8576b"
                        ],
                        [
                          0.6666666666666666,
                          "#ed7953"
                        ],
                        [
                          0.7777777777777778,
                          "#fb9f3a"
                        ],
                        [
                          0.8888888888888888,
                          "#fdca26"
                        ],
                        [
                          1,
                          "#f0f921"
                        ]
                      ]
                    },
                    "colorway": [
                      "#636efa",
                      "#EF553B",
                      "#00cc96",
                      "#ab63fa",
                      "#FFA15A",
                      "#19d3f3",
                      "#FF6692",
                      "#B6E880",
                      "#FF97FF",
                      "#FECB52"
                    ],
                    "font": {
                      "color": "#2a3f5f"
                    },
                    "geo": {
                      "bgcolor": "white",
                      "lakecolor": "white",
                      "landcolor": "#E5ECF6",
                      "showlakes": true,
                      "showland": true,
                      "subunitcolor": "white"
                    },
                    "hoverlabel": {
                      "align": "left"
                    },
                    "hovermode": "closest",
                    "mapbox": {
                      "style": "light"
                    },
                    "paper_bgcolor": "white",
                    "plot_bgcolor": "#E5ECF6",
                    "polar": {
                      "angularaxis": {
                        "gridcolor": "white",
                        "linecolor": "white",
                        "ticks": ""
                      },
                      "bgcolor": "#E5ECF6",
                      "radialaxis": {
                        "gridcolor": "white",
                        "linecolor": "white",
                        "ticks": ""
                      }
                    },
                    "scene": {
                      "xaxis": {
                        "backgroundcolor": "#E5ECF6",
                        "gridcolor": "white",
                        "gridwidth": 2,
                        "linecolor": "white",
                        "showbackground": true,
                        "ticks": "",
                        "zerolinecolor": "white"
                      },
                      "yaxis": {
                        "backgroundcolor": "#E5ECF6",
                        "gridcolor": "white",
                        "gridwidth": 2,
                        "linecolor": "white",
                        "showbackground": true,
                        "ticks": "",
                        "zerolinecolor": "white"
                      },
                      "zaxis": {
                        "backgroundcolor": "#E5ECF6",
                        "gridcolor": "white",
                        "gridwidth": 2,
                        "linecolor": "white",
                        "showbackground": true,
                        "ticks": "",
                        "zerolinecolor": "white"
                      }
                    },
                    "shapedefaults": {
                      "line": {
                        "color": "#2a3f5f"
                      }
                    },
                    "ternary": {
                      "aaxis": {
                        "gridcolor": "white",
                        "linecolor": "white",
                        "ticks": ""
                      },
                      "baxis": {
                        "gridcolor": "white",
                        "linecolor": "white",
                        "ticks": ""
                      },
                      "bgcolor": "#E5ECF6",
                      "caxis": {
                        "gridcolor": "white",
                        "linecolor": "white",
                        "ticks": ""
                      }
                    },
                    "title": {
                      "x": 0.05
                    },
                    "xaxis": {
                      "automargin": true,
                      "gridcolor": "white",
                      "linecolor": "white",
                      "ticks": "",
                      "title": {
                        "standoff": 15
                      },
                      "zerolinecolor": "white",
                      "zerolinewidth": 2
                    },
                    "yaxis": {
                      "automargin": true,
                      "gridcolor": "white",
                      "linecolor": "white",
                      "ticks": "",
                      "title": {
                        "standoff": 15
                      },
                      "zerolinecolor": "white",
                      "zerolinewidth": 2
                    }
                  }
                },
                "title": {
                  "text": "Logit Difference From Each Layer"
                },
                "xaxis": {
                  "anchor": "y",
                  "domain": [
                    0,
                    1
                  ],
                  "title": {
                    "text": "x"
                  }
                },
                "yaxis": {
                  "anchor": "x",
                  "domain": [
                    0,
                    1
                  ],
                  "title": {
                    "text": "y"
                  }
                }
              }
            }
          },
          "metadata": {},
          "output_type": "display_data"
        }
      ],
      "source": [
        "per_layer_residual, labels = clean_cache.decompose_resid(layer=-1, pos_slice=-1, return_labels=True)\n",
        "per_layer_logit_diffs = residual_stack_to_logit_diff(per_layer_residual, clean_cache)\n",
        "\n",
        "line(per_layer_logit_diffs, hover_name=labels, title=\"Logit Difference From Each Layer\")"
      ]
    },
    {
      "attachments": {},
      "cell_type": "markdown",
      "metadata": {},
      "source": [
        "#### Head Attribution"
      ]
    },
    {
      "cell_type": "code",
      "execution_count": 22,
      "metadata": {},
      "outputs": [
        {
          "name": "stdout",
          "output_type": "stream",
          "text": [
            "Tried to stack head results when they weren't cached. Computing head results now\n"
          ]
        },
        {
          "data": {
            "application/vnd.plotly.v1+json": {
              "config": {
                "plotlyServerURL": "https://plot.ly"
              },
              "data": [
                {
                  "coloraxis": "coloraxis",
                  "hovertemplate": "Head: %{x}<br>Layer: %{y}<br>color: %{z}<extra></extra>",
                  "name": "0",
                  "type": "heatmap",
                  "xaxis": "x",
                  "yaxis": "y",
                  "z": [
                    [
                      0.0018731359159573913,
                      0.0013137522619217634,
                      0.004994604270905256,
                      -0.0010536415502429008,
                      0.003404241055250168,
                      -0.00009274340845877305,
                      0.007794050499796867,
                      0.001361136557534337,
                      0.002250522142276168,
                      0.00002188071630371269,
                      0.00021813659986946732,
                      0.00043182593071833253
                    ],
                    [
                      0.0011671828106045723,
                      0.0014773937873542309,
                      -0.0012785757426172495,
                      -0.002024021465331316,
                      0.0005527512403205037,
                      0.0026274551637470722,
                      0.006143585313111544,
                      0.01032169908285141,
                      -0.0013424416538327932,
                      -0.002420055912807584,
                      -0.00040850669029168785,
                      -0.006679701618850231
                    ],
                    [
                      0.001711436314508319,
                      0.007729880511760712,
                      0.0009426830220036209,
                      0.00004696782707469538,
                      -0.00047648311010561883,
                      0.0002801501250360161,
                      -0.0009841625578701496,
                      -0.0017703231424093246,
                      -0.0016631516627967358,
                      0.0011206652270630002,
                      0.003988666459918022,
                      -0.0006422126316465437
                    ],
                    [
                      0.0005133025115355849,
                      -0.0011030451860278845,
                      0.0003373057406861335,
                      -0.000009348495041194838,
                      -0.0003885393380187452,
                      0.011982295662164688,
                      0.0005727907991968095,
                      0.0016353885876014829,
                      0.00048648874508216977,
                      0.000006484221557911951,
                      -0.005406531970947981,
                      0.0012707349378615618
                    ],
                    [
                      0.00009765310096554458,
                      0.0004863905778620392,
                      0.004181742202490568,
                      0.0013472456485033035,
                      -0.0025249242316931486,
                      0.0003798179386649281,
                      -0.0007762268069200218,
                      -0.0036399236414581537,
                      0.00511963851749897,
                      0.002910852897912264,
                      0.00026943269767798483,
                      0.00029348128009587526
                    ],
                    [
                      0.0018776657525449991,
                      0.004489588085561991,
                      0.001329365884885192,
                      0.0012723522959277034,
                      0.00008258235175162554,
                      0.014544627629220486,
                      -0.00020697324362117797,
                      0.003922743257135153,
                      -0.0023398282937705517,
                      -0.0009933776455000043,
                      0.0233553908765316,
                      -0.017618481069803238
                    ],
                    [
                      0.003651173086836934,
                      0.0005170828080736101,
                      -0.00001085281382984249,
                      0.004783468320965767,
                      0.02868160605430603,
                      -0.009835824370384216,
                      -0.02720463275909424,
                      0.02307712472975254,
                      0.00021590915275737643,
                      0.00705100828781724,
                      0.007512644398957491,
                      -0.0022212746553122997
                    ],
                    [
                      0.00012872288061771542,
                      0.09010673314332962,
                      0.0024644252844154835,
                      -0.005527169443666935,
                      -0.0007514781318604946,
                      0.04906800016760826,
                      -0.03160025179386139,
                      0.0006873222882859409,
                      0.005944943521171808,
                      0.014990013092756271,
                      0.010299908928573132,
                      0.0014182892628014088
                    ],
                    [
                      0.0003780465922318399,
                      -0.0004988345317542553,
                      0.05979247763752937,
                      0.018556982278823853,
                      0.01942000538110733,
                      0.1008557453751564,
                      0.004131486173719168,
                      0.0076255775056779385,
                      0.012051788158714771,
                      0.03039245866239071,
                      -0.11527339369058609,
                      0.02038251794874668
                    ],
                    [
                      0.00283037475310266,
                      0.018330072984099388,
                      0.2945954203605652,
                      0.09853780269622803,
                      0.0007310776854865253,
                      -0.057307612150907516,
                      0.03824421390891075,
                      -0.03995468467473984,
                      0.0005698578897863626,
                      0.044489216059446335,
                      0.0640440359711647,
                      0.00035081300302408636
                    ],
                    [
                      0.06816112250089645,
                      0.1599995195865631,
                      -0.0008727207314223051,
                      -0.004710569512099028,
                      0.6881700158119202,
                      0.01670967787504196,
                      0.002765064127743244,
                      -0.1913345605134964,
                      -0.0008934841025620699,
                      0.020989403128623962,
                      0.007652639411389828,
                      0.046477753669023514
                    ],
                    [
                      -0.013613760471343994,
                      0.011066627688705921,
                      -0.00013184674025978893,
                      0.03017275221645832,
                      0.007031373679637909,
                      0.005017808638513088,
                      -0.00016663476708345115,
                      0.007647589780390263,
                      0.025212744250893593,
                      0.06187890097498894,
                      0.0014002254465594888,
                      0.07140473276376724
                    ]
                  ]
                }
              ],
              "layout": {
                "coloraxis": {
                  "cmid": 0,
                  "colorscale": [
                    [
                      0,
                      "rgb(103,0,31)"
                    ],
                    [
                      0.1,
                      "rgb(178,24,43)"
                    ],
                    [
                      0.2,
                      "rgb(214,96,77)"
                    ],
                    [
                      0.3,
                      "rgb(244,165,130)"
                    ],
                    [
                      0.4,
                      "rgb(253,219,199)"
                    ],
                    [
                      0.5,
                      "rgb(247,247,247)"
                    ],
                    [
                      0.6,
                      "rgb(209,229,240)"
                    ],
                    [
                      0.7,
                      "rgb(146,197,222)"
                    ],
                    [
                      0.8,
                      "rgb(67,147,195)"
                    ],
                    [
                      0.9,
                      "rgb(33,102,172)"
                    ],
                    [
                      1,
                      "rgb(5,48,97)"
                    ]
                  ]
                },
                "template": {
                  "data": {
                    "bar": [
                      {
                        "error_x": {
                          "color": "#2a3f5f"
                        },
                        "error_y": {
                          "color": "#2a3f5f"
                        },
                        "marker": {
                          "line": {
                            "color": "#E5ECF6",
                            "width": 0.5
                          },
                          "pattern": {
                            "fillmode": "overlay",
                            "size": 10,
                            "solidity": 0.2
                          }
                        },
                        "type": "bar"
                      }
                    ],
                    "barpolar": [
                      {
                        "marker": {
                          "line": {
                            "color": "#E5ECF6",
                            "width": 0.5
                          },
                          "pattern": {
                            "fillmode": "overlay",
                            "size": 10,
                            "solidity": 0.2
                          }
                        },
                        "type": "barpolar"
                      }
                    ],
                    "carpet": [
                      {
                        "aaxis": {
                          "endlinecolor": "#2a3f5f",
                          "gridcolor": "white",
                          "linecolor": "white",
                          "minorgridcolor": "white",
                          "startlinecolor": "#2a3f5f"
                        },
                        "baxis": {
                          "endlinecolor": "#2a3f5f",
                          "gridcolor": "white",
                          "linecolor": "white",
                          "minorgridcolor": "white",
                          "startlinecolor": "#2a3f5f"
                        },
                        "type": "carpet"
                      }
                    ],
                    "choropleth": [
                      {
                        "colorbar": {
                          "outlinewidth": 0,
                          "ticks": ""
                        },
                        "type": "choropleth"
                      }
                    ],
                    "contour": [
                      {
                        "colorbar": {
                          "outlinewidth": 0,
                          "ticks": ""
                        },
                        "colorscale": [
                          [
                            0,
                            "#0d0887"
                          ],
                          [
                            0.1111111111111111,
                            "#46039f"
                          ],
                          [
                            0.2222222222222222,
                            "#7201a8"
                          ],
                          [
                            0.3333333333333333,
                            "#9c179e"
                          ],
                          [
                            0.4444444444444444,
                            "#bd3786"
                          ],
                          [
                            0.5555555555555556,
                            "#d8576b"
                          ],
                          [
                            0.6666666666666666,
                            "#ed7953"
                          ],
                          [
                            0.7777777777777778,
                            "#fb9f3a"
                          ],
                          [
                            0.8888888888888888,
                            "#fdca26"
                          ],
                          [
                            1,
                            "#f0f921"
                          ]
                        ],
                        "type": "contour"
                      }
                    ],
                    "contourcarpet": [
                      {
                        "colorbar": {
                          "outlinewidth": 0,
                          "ticks": ""
                        },
                        "type": "contourcarpet"
                      }
                    ],
                    "heatmap": [
                      {
                        "colorbar": {
                          "outlinewidth": 0,
                          "ticks": ""
                        },
                        "colorscale": [
                          [
                            0,
                            "#0d0887"
                          ],
                          [
                            0.1111111111111111,
                            "#46039f"
                          ],
                          [
                            0.2222222222222222,
                            "#7201a8"
                          ],
                          [
                            0.3333333333333333,
                            "#9c179e"
                          ],
                          [
                            0.4444444444444444,
                            "#bd3786"
                          ],
                          [
                            0.5555555555555556,
                            "#d8576b"
                          ],
                          [
                            0.6666666666666666,
                            "#ed7953"
                          ],
                          [
                            0.7777777777777778,
                            "#fb9f3a"
                          ],
                          [
                            0.8888888888888888,
                            "#fdca26"
                          ],
                          [
                            1,
                            "#f0f921"
                          ]
                        ],
                        "type": "heatmap"
                      }
                    ],
                    "heatmapgl": [
                      {
                        "colorbar": {
                          "outlinewidth": 0,
                          "ticks": ""
                        },
                        "colorscale": [
                          [
                            0,
                            "#0d0887"
                          ],
                          [
                            0.1111111111111111,
                            "#46039f"
                          ],
                          [
                            0.2222222222222222,
                            "#7201a8"
                          ],
                          [
                            0.3333333333333333,
                            "#9c179e"
                          ],
                          [
                            0.4444444444444444,
                            "#bd3786"
                          ],
                          [
                            0.5555555555555556,
                            "#d8576b"
                          ],
                          [
                            0.6666666666666666,
                            "#ed7953"
                          ],
                          [
                            0.7777777777777778,
                            "#fb9f3a"
                          ],
                          [
                            0.8888888888888888,
                            "#fdca26"
                          ],
                          [
                            1,
                            "#f0f921"
                          ]
                        ],
                        "type": "heatmapgl"
                      }
                    ],
                    "histogram": [
                      {
                        "marker": {
                          "pattern": {
                            "fillmode": "overlay",
                            "size": 10,
                            "solidity": 0.2
                          }
                        },
                        "type": "histogram"
                      }
                    ],
                    "histogram2d": [
                      {
                        "colorbar": {
                          "outlinewidth": 0,
                          "ticks": ""
                        },
                        "colorscale": [
                          [
                            0,
                            "#0d0887"
                          ],
                          [
                            0.1111111111111111,
                            "#46039f"
                          ],
                          [
                            0.2222222222222222,
                            "#7201a8"
                          ],
                          [
                            0.3333333333333333,
                            "#9c179e"
                          ],
                          [
                            0.4444444444444444,
                            "#bd3786"
                          ],
                          [
                            0.5555555555555556,
                            "#d8576b"
                          ],
                          [
                            0.6666666666666666,
                            "#ed7953"
                          ],
                          [
                            0.7777777777777778,
                            "#fb9f3a"
                          ],
                          [
                            0.8888888888888888,
                            "#fdca26"
                          ],
                          [
                            1,
                            "#f0f921"
                          ]
                        ],
                        "type": "histogram2d"
                      }
                    ],
                    "histogram2dcontour": [
                      {
                        "colorbar": {
                          "outlinewidth": 0,
                          "ticks": ""
                        },
                        "colorscale": [
                          [
                            0,
                            "#0d0887"
                          ],
                          [
                            0.1111111111111111,
                            "#46039f"
                          ],
                          [
                            0.2222222222222222,
                            "#7201a8"
                          ],
                          [
                            0.3333333333333333,
                            "#9c179e"
                          ],
                          [
                            0.4444444444444444,
                            "#bd3786"
                          ],
                          [
                            0.5555555555555556,
                            "#d8576b"
                          ],
                          [
                            0.6666666666666666,
                            "#ed7953"
                          ],
                          [
                            0.7777777777777778,
                            "#fb9f3a"
                          ],
                          [
                            0.8888888888888888,
                            "#fdca26"
                          ],
                          [
                            1,
                            "#f0f921"
                          ]
                        ],
                        "type": "histogram2dcontour"
                      }
                    ],
                    "mesh3d": [
                      {
                        "colorbar": {
                          "outlinewidth": 0,
                          "ticks": ""
                        },
                        "type": "mesh3d"
                      }
                    ],
                    "parcoords": [
                      {
                        "line": {
                          "colorbar": {
                            "outlinewidth": 0,
                            "ticks": ""
                          }
                        },
                        "type": "parcoords"
                      }
                    ],
                    "pie": [
                      {
                        "automargin": true,
                        "type": "pie"
                      }
                    ],
                    "scatter": [
                      {
                        "fillpattern": {
                          "fillmode": "overlay",
                          "size": 10,
                          "solidity": 0.2
                        },
                        "type": "scatter"
                      }
                    ],
                    "scatter3d": [
                      {
                        "line": {
                          "colorbar": {
                            "outlinewidth": 0,
                            "ticks": ""
                          }
                        },
                        "marker": {
                          "colorbar": {
                            "outlinewidth": 0,
                            "ticks": ""
                          }
                        },
                        "type": "scatter3d"
                      }
                    ],
                    "scattercarpet": [
                      {
                        "marker": {
                          "colorbar": {
                            "outlinewidth": 0,
                            "ticks": ""
                          }
                        },
                        "type": "scattercarpet"
                      }
                    ],
                    "scattergeo": [
                      {
                        "marker": {
                          "colorbar": {
                            "outlinewidth": 0,
                            "ticks": ""
                          }
                        },
                        "type": "scattergeo"
                      }
                    ],
                    "scattergl": [
                      {
                        "marker": {
                          "colorbar": {
                            "outlinewidth": 0,
                            "ticks": ""
                          }
                        },
                        "type": "scattergl"
                      }
                    ],
                    "scattermapbox": [
                      {
                        "marker": {
                          "colorbar": {
                            "outlinewidth": 0,
                            "ticks": ""
                          }
                        },
                        "type": "scattermapbox"
                      }
                    ],
                    "scatterpolar": [
                      {
                        "marker": {
                          "colorbar": {
                            "outlinewidth": 0,
                            "ticks": ""
                          }
                        },
                        "type": "scatterpolar"
                      }
                    ],
                    "scatterpolargl": [
                      {
                        "marker": {
                          "colorbar": {
                            "outlinewidth": 0,
                            "ticks": ""
                          }
                        },
                        "type": "scatterpolargl"
                      }
                    ],
                    "scatterternary": [
                      {
                        "marker": {
                          "colorbar": {
                            "outlinewidth": 0,
                            "ticks": ""
                          }
                        },
                        "type": "scatterternary"
                      }
                    ],
                    "surface": [
                      {
                        "colorbar": {
                          "outlinewidth": 0,
                          "ticks": ""
                        },
                        "colorscale": [
                          [
                            0,
                            "#0d0887"
                          ],
                          [
                            0.1111111111111111,
                            "#46039f"
                          ],
                          [
                            0.2222222222222222,
                            "#7201a8"
                          ],
                          [
                            0.3333333333333333,
                            "#9c179e"
                          ],
                          [
                            0.4444444444444444,
                            "#bd3786"
                          ],
                          [
                            0.5555555555555556,
                            "#d8576b"
                          ],
                          [
                            0.6666666666666666,
                            "#ed7953"
                          ],
                          [
                            0.7777777777777778,
                            "#fb9f3a"
                          ],
                          [
                            0.8888888888888888,
                            "#fdca26"
                          ],
                          [
                            1,
                            "#f0f921"
                          ]
                        ],
                        "type": "surface"
                      }
                    ],
                    "table": [
                      {
                        "cells": {
                          "fill": {
                            "color": "#EBF0F8"
                          },
                          "line": {
                            "color": "white"
                          }
                        },
                        "header": {
                          "fill": {
                            "color": "#C8D4E3"
                          },
                          "line": {
                            "color": "white"
                          }
                        },
                        "type": "table"
                      }
                    ]
                  },
                  "layout": {
                    "annotationdefaults": {
                      "arrowcolor": "#2a3f5f",
                      "arrowhead": 0,
                      "arrowwidth": 1
                    },
                    "autotypenumbers": "strict",
                    "coloraxis": {
                      "colorbar": {
                        "outlinewidth": 0,
                        "ticks": ""
                      }
                    },
                    "colorscale": {
                      "diverging": [
                        [
                          0,
                          "#8e0152"
                        ],
                        [
                          0.1,
                          "#c51b7d"
                        ],
                        [
                          0.2,
                          "#de77ae"
                        ],
                        [
                          0.3,
                          "#f1b6da"
                        ],
                        [
                          0.4,
                          "#fde0ef"
                        ],
                        [
                          0.5,
                          "#f7f7f7"
                        ],
                        [
                          0.6,
                          "#e6f5d0"
                        ],
                        [
                          0.7,
                          "#b8e186"
                        ],
                        [
                          0.8,
                          "#7fbc41"
                        ],
                        [
                          0.9,
                          "#4d9221"
                        ],
                        [
                          1,
                          "#276419"
                        ]
                      ],
                      "sequential": [
                        [
                          0,
                          "#0d0887"
                        ],
                        [
                          0.1111111111111111,
                          "#46039f"
                        ],
                        [
                          0.2222222222222222,
                          "#7201a8"
                        ],
                        [
                          0.3333333333333333,
                          "#9c179e"
                        ],
                        [
                          0.4444444444444444,
                          "#bd3786"
                        ],
                        [
                          0.5555555555555556,
                          "#d8576b"
                        ],
                        [
                          0.6666666666666666,
                          "#ed7953"
                        ],
                        [
                          0.7777777777777778,
                          "#fb9f3a"
                        ],
                        [
                          0.8888888888888888,
                          "#fdca26"
                        ],
                        [
                          1,
                          "#f0f921"
                        ]
                      ],
                      "sequentialminus": [
                        [
                          0,
                          "#0d0887"
                        ],
                        [
                          0.1111111111111111,
                          "#46039f"
                        ],
                        [
                          0.2222222222222222,
                          "#7201a8"
                        ],
                        [
                          0.3333333333333333,
                          "#9c179e"
                        ],
                        [
                          0.4444444444444444,
                          "#bd3786"
                        ],
                        [
                          0.5555555555555556,
                          "#d8576b"
                        ],
                        [
                          0.6666666666666666,
                          "#ed7953"
                        ],
                        [
                          0.7777777777777778,
                          "#fb9f3a"
                        ],
                        [
                          0.8888888888888888,
                          "#fdca26"
                        ],
                        [
                          1,
                          "#f0f921"
                        ]
                      ]
                    },
                    "colorway": [
                      "#636efa",
                      "#EF553B",
                      "#00cc96",
                      "#ab63fa",
                      "#FFA15A",
                      "#19d3f3",
                      "#FF6692",
                      "#B6E880",
                      "#FF97FF",
                      "#FECB52"
                    ],
                    "font": {
                      "color": "#2a3f5f"
                    },
                    "geo": {
                      "bgcolor": "white",
                      "lakecolor": "white",
                      "landcolor": "#E5ECF6",
                      "showlakes": true,
                      "showland": true,
                      "subunitcolor": "white"
                    },
                    "hoverlabel": {
                      "align": "left"
                    },
                    "hovermode": "closest",
                    "mapbox": {
                      "style": "light"
                    },
                    "paper_bgcolor": "white",
                    "plot_bgcolor": "#E5ECF6",
                    "polar": {
                      "angularaxis": {
                        "gridcolor": "white",
                        "linecolor": "white",
                        "ticks": ""
                      },
                      "bgcolor": "#E5ECF6",
                      "radialaxis": {
                        "gridcolor": "white",
                        "linecolor": "white",
                        "ticks": ""
                      }
                    },
                    "scene": {
                      "xaxis": {
                        "backgroundcolor": "#E5ECF6",
                        "gridcolor": "white",
                        "gridwidth": 2,
                        "linecolor": "white",
                        "showbackground": true,
                        "ticks": "",
                        "zerolinecolor": "white"
                      },
                      "yaxis": {
                        "backgroundcolor": "#E5ECF6",
                        "gridcolor": "white",
                        "gridwidth": 2,
                        "linecolor": "white",
                        "showbackground": true,
                        "ticks": "",
                        "zerolinecolor": "white"
                      },
                      "zaxis": {
                        "backgroundcolor": "#E5ECF6",
                        "gridcolor": "white",
                        "gridwidth": 2,
                        "linecolor": "white",
                        "showbackground": true,
                        "ticks": "",
                        "zerolinecolor": "white"
                      }
                    },
                    "shapedefaults": {
                      "line": {
                        "color": "#2a3f5f"
                      }
                    },
                    "ternary": {
                      "aaxis": {
                        "gridcolor": "white",
                        "linecolor": "white",
                        "ticks": ""
                      },
                      "baxis": {
                        "gridcolor": "white",
                        "linecolor": "white",
                        "ticks": ""
                      },
                      "bgcolor": "#E5ECF6",
                      "caxis": {
                        "gridcolor": "white",
                        "linecolor": "white",
                        "ticks": ""
                      }
                    },
                    "title": {
                      "x": 0.05
                    },
                    "xaxis": {
                      "automargin": true,
                      "gridcolor": "white",
                      "linecolor": "white",
                      "ticks": "",
                      "title": {
                        "standoff": 15
                      },
                      "zerolinecolor": "white",
                      "zerolinewidth": 2
                    },
                    "yaxis": {
                      "automargin": true,
                      "gridcolor": "white",
                      "linecolor": "white",
                      "ticks": "",
                      "title": {
                        "standoff": 15
                      },
                      "zerolinecolor": "white",
                      "zerolinewidth": 2
                    }
                  }
                },
                "title": {
                  "text": "Logit Difference From Each Head"
                },
                "xaxis": {
                  "anchor": "y",
                  "constrain": "domain",
                  "domain": [
                    0,
                    1
                  ],
                  "scaleanchor": "y",
                  "title": {
                    "text": "Head"
                  }
                },
                "yaxis": {
                  "anchor": "x",
                  "autorange": "reversed",
                  "constrain": "domain",
                  "domain": [
                    0,
                    1
                  ],
                  "title": {
                    "text": "Layer"
                  }
                }
              }
            }
          },
          "metadata": {},
          "output_type": "display_data"
        }
      ],
      "source": [
        "def imshow(tensor, renderer=None, **kwargs):\n",
        "    px.imshow(utils.to_numpy(tensor), color_continuous_midpoint=0.0, color_continuous_scale=\"RdBu\", **kwargs).show(renderer)\n",
        "\n",
        "per_head_residual, labels = clean_cache.stack_head_results(layer=-1, pos_slice=-1, return_labels=True)\n",
        "per_head_logit_diffs = residual_stack_to_logit_diff(per_head_residual, clean_cache)\n",
        "per_head_logit_diffs = einops.rearrange(per_head_logit_diffs, \"(layer head_index) -> layer head_index\", layer=model.cfg.n_layers, head_index=model.cfg.n_heads)\n",
        "imshow(per_head_logit_diffs, labels={\"x\":\"Head\", \"y\":\"Layer\"}, title=\"Logit Difference From Each Head\")"
      ]
    },
    {
      "attachments": {},
      "cell_type": "markdown",
      "metadata": {},
      "source": [
        "### Activation Patching"
      ]
    },
    {
      "attachments": {},
      "cell_type": "markdown",
      "metadata": {},
      "source": [
        "#### Attention Heads"
      ]
    },
    {
      "cell_type": "code",
      "execution_count": 23,
      "metadata": {},
      "outputs": [
        {
          "data": {
            "application/vnd.jupyter.widget-view+json": {
              "model_id": "6ed0f73b2ffe4826b5d2b2c1cfc7cb94",
              "version_major": 2,
              "version_minor": 0
            },
            "text/plain": [
              "  0%|          | 0/144 [00:00<?, ?it/s]"
            ]
          },
          "metadata": {},
          "output_type": "display_data"
        },
        {
          "name": "stdout",
          "output_type": "stream",
          "text": [
            "results['z'].shape = (layer=12, head=12)\n"
          ]
        }
      ],
      "source": [
        "results = act_patch(\n",
        "    model=model,\n",
        "    orig_input=corrupted_tokens,\n",
        "    new_cache=clean_cache,\n",
        "    patching_nodes=IterNode(\"z\"), # iterating over all heads' output in all layers\n",
        "    patching_metric=logit_diff_denoising,\n",
        "    verbose=True,\n",
        ")"
      ]
    },
    {
      "cell_type": "code",
      "execution_count": 24,
      "metadata": {},
      "outputs": [
        {
          "data": {
            "application/vnd.plotly.v1+json": {
              "config": {
                "plotlyServerURL": "https://plot.ly"
              },
              "data": [
                {
                  "coloraxis": "coloraxis",
                  "hovertemplate": "Head: %{x}<br>Layer: %{y}<br>Logit diff variation: %{z}<extra></extra>",
                  "name": "0",
                  "type": "heatmap",
                  "xaxis": "x",
                  "yaxis": "y",
                  "z": [
                    [
                      0.2790992259979248,
                      0.30307191610336304,
                      -0.14795322716236115,
                      1.157173752784729,
                      3.302919387817383,
                      0.4037003517150879,
                      1.3254822492599487,
                      0.13011674582958221,
                      -0.0881531685590744,
                      0.0036266311071813107,
                      -0.1408906877040863,
                      0.09121068567037582
                    ],
                    [
                      0.00721390824764967,
                      -0.00569726200774312,
                      0.038530685007572174,
                      -0.10303204506635666,
                      -0.11429942399263382,
                      -0.5390602350234985,
                      0.44252467155456543,
                      0.13750016689300537,
                      -0.15018127858638763,
                      0.0030211834236979485,
                      -0.027302658185362816,
                      0.3322544991970062
                    ],
                    [
                      0.45201507210731506,
                      0.8309798240661621,
                      0.015732556581497192,
                      0.00201614061370492,
                      0.006920265965163708,
                      0.04020474851131439,
                      -0.2845694422721863,
                      -0.0857434868812561,
                      0.18893900513648987,
                      -0.07563856989145279,
                      0.05856191739439964,
                      -0.06349026411771774
                    ],
                    [
                      0.16496025025844574,
                      0.0440705306828022,
                      0.044412609189748764,
                      -0.016792088747024536,
                      0.04991309717297554,
                      0.4338758587837219,
                      0.11439327150583267,
                      -0.3405158519744873,
                      0.23537380993366241,
                      0.2387370616197586,
                      -0.3898658752441406,
                      2.783400058746338
                    ],
                    [
                      -0.0635235607624054,
                      0.3483503460884094,
                      0.31980952620506287,
                      -0.18086233735084534,
                      -0.5699290037155151,
                      0.077070452272892,
                      -0.1884818822145462,
                      -0.1311550885438919,
                      0.919190526008606,
                      1.4189512729644775,
                      0.33275702595710754,
                      0.03969920054078102
                    ],
                    [
                      -0.012908142060041428,
                      0.281054824590683,
                      0.621019721031189,
                      0.3921816945075989,
                      0.5876777172088623,
                      1.7828372716903687,
                      0.15117724239826202,
                      1.5759861469268799,
                      -0.7402141690254211,
                      -0.14866161346435547,
                      4.32830286026001,
                      -6.353546142578125
                    ],
                    [
                      0.3519769608974457,
                      -0.08877375721931458,
                      -0.48022592067718506,
                      1.3478171825408936,
                      10.493072509765625,
                      -2.519833564758301,
                      -3.383389472961426,
                      9.622142791748047,
                      0.11474139988422394,
                      0.4986496567726135,
                      2.151806116104126,
                      -0.11607640981674194
                    ],
                    [
                      0.03581222519278526,
                      21.317283630371094,
                      0.14264042675495148,
                      -2.647237777709961,
                      0.07559921592473984,
                      17.03943634033203,
                      -9.288798332214355,
                      0.08385146409273148,
                      0.9261773824691772,
                      2.926767110824585,
                      0.2730114758014679,
                      0.004068607930094004
                    ],
                    [
                      0.008464157581329346,
                      -0.0044288490898907185,
                      3.56992769241333,
                      0.8233118653297424,
                      2.779616117477417,
                      12.341516494750977,
                      0.5119150280952454,
                      0.8319182991981506,
                      -0.2425241470336914,
                      2.360621929168701,
                      -8.84625244140625,
                      1.8312156200408936
                    ],
                    [
                      -0.17796526849269867,
                      0.8877859711647034,
                      16.29802894592285,
                      5.434815406799316,
                      0.017309745773673058,
                      -3.0219130516052246,
                      2.0341193675994873,
                      -3.491546630859375,
                      0.01520581729710102,
                      1.041176199913025,
                      4.44433069229126,
                      -0.1422135829925537
                    ],
                    [
                      4.373132705688477,
                      8.569993019104004,
                      0.013213894329965115,
                      -0.4129364490509033,
                      32.18494415283203,
                      0.8253430724143982,
                      0.01912003569304943,
                      -10.194554328918457,
                      -0.02443586476147175,
                      1.3282339572906494,
                      0.6698944568634033,
                      2.453951835632324
                    ],
                    [
                      -1.010943055152893,
                      0.6021963357925415,
                      -0.010074648074805737,
                      1.3580795526504517,
                      0.2749246656894684,
                      0.4360312521457672,
                      0.00806758925318718,
                      0.562242865562439,
                      1.195093035697937,
                      2.9352493286132812,
                      0.10210268944501877,
                      3.412332773208618
                    ]
                  ]
                }
              ],
              "layout": {
                "coloraxis": {
                  "cmid": 0,
                  "colorbar": {
                    "ticksuffix": "%",
                    "title": {
                      "text": "Logit diff variation"
                    }
                  },
                  "colorscale": [
                    [
                      0,
                      "rgb(103,0,31)"
                    ],
                    [
                      0.1,
                      "rgb(178,24,43)"
                    ],
                    [
                      0.2,
                      "rgb(214,96,77)"
                    ],
                    [
                      0.3,
                      "rgb(244,165,130)"
                    ],
                    [
                      0.4,
                      "rgb(253,219,199)"
                    ],
                    [
                      0.5,
                      "rgb(247,247,247)"
                    ],
                    [
                      0.6,
                      "rgb(209,229,240)"
                    ],
                    [
                      0.7,
                      "rgb(146,197,222)"
                    ],
                    [
                      0.8,
                      "rgb(67,147,195)"
                    ],
                    [
                      0.9,
                      "rgb(33,102,172)"
                    ],
                    [
                      1,
                      "rgb(5,48,97)"
                    ]
                  ]
                },
                "margin": {
                  "l": 100,
                  "r": 100
                },
                "template": {
                  "data": {
                    "bar": [
                      {
                        "error_x": {
                          "color": "#2a3f5f"
                        },
                        "error_y": {
                          "color": "#2a3f5f"
                        },
                        "marker": {
                          "line": {
                            "color": "#E5ECF6",
                            "width": 0.5
                          },
                          "pattern": {
                            "fillmode": "overlay",
                            "size": 10,
                            "solidity": 0.2
                          }
                        },
                        "type": "bar"
                      }
                    ],
                    "barpolar": [
                      {
                        "marker": {
                          "line": {
                            "color": "#E5ECF6",
                            "width": 0.5
                          },
                          "pattern": {
                            "fillmode": "overlay",
                            "size": 10,
                            "solidity": 0.2
                          }
                        },
                        "type": "barpolar"
                      }
                    ],
                    "carpet": [
                      {
                        "aaxis": {
                          "endlinecolor": "#2a3f5f",
                          "gridcolor": "white",
                          "linecolor": "white",
                          "minorgridcolor": "white",
                          "startlinecolor": "#2a3f5f"
                        },
                        "baxis": {
                          "endlinecolor": "#2a3f5f",
                          "gridcolor": "white",
                          "linecolor": "white",
                          "minorgridcolor": "white",
                          "startlinecolor": "#2a3f5f"
                        },
                        "type": "carpet"
                      }
                    ],
                    "choropleth": [
                      {
                        "colorbar": {
                          "outlinewidth": 0,
                          "ticks": ""
                        },
                        "type": "choropleth"
                      }
                    ],
                    "contour": [
                      {
                        "colorbar": {
                          "outlinewidth": 0,
                          "ticks": ""
                        },
                        "colorscale": [
                          [
                            0,
                            "#0d0887"
                          ],
                          [
                            0.1111111111111111,
                            "#46039f"
                          ],
                          [
                            0.2222222222222222,
                            "#7201a8"
                          ],
                          [
                            0.3333333333333333,
                            "#9c179e"
                          ],
                          [
                            0.4444444444444444,
                            "#bd3786"
                          ],
                          [
                            0.5555555555555556,
                            "#d8576b"
                          ],
                          [
                            0.6666666666666666,
                            "#ed7953"
                          ],
                          [
                            0.7777777777777778,
                            "#fb9f3a"
                          ],
                          [
                            0.8888888888888888,
                            "#fdca26"
                          ],
                          [
                            1,
                            "#f0f921"
                          ]
                        ],
                        "type": "contour"
                      }
                    ],
                    "contourcarpet": [
                      {
                        "colorbar": {
                          "outlinewidth": 0,
                          "ticks": ""
                        },
                        "type": "contourcarpet"
                      }
                    ],
                    "heatmap": [
                      {
                        "colorbar": {
                          "outlinewidth": 0,
                          "ticks": ""
                        },
                        "colorscale": [
                          [
                            0,
                            "#0d0887"
                          ],
                          [
                            0.1111111111111111,
                            "#46039f"
                          ],
                          [
                            0.2222222222222222,
                            "#7201a8"
                          ],
                          [
                            0.3333333333333333,
                            "#9c179e"
                          ],
                          [
                            0.4444444444444444,
                            "#bd3786"
                          ],
                          [
                            0.5555555555555556,
                            "#d8576b"
                          ],
                          [
                            0.6666666666666666,
                            "#ed7953"
                          ],
                          [
                            0.7777777777777778,
                            "#fb9f3a"
                          ],
                          [
                            0.8888888888888888,
                            "#fdca26"
                          ],
                          [
                            1,
                            "#f0f921"
                          ]
                        ],
                        "type": "heatmap"
                      }
                    ],
                    "heatmapgl": [
                      {
                        "colorbar": {
                          "outlinewidth": 0,
                          "ticks": ""
                        },
                        "colorscale": [
                          [
                            0,
                            "#0d0887"
                          ],
                          [
                            0.1111111111111111,
                            "#46039f"
                          ],
                          [
                            0.2222222222222222,
                            "#7201a8"
                          ],
                          [
                            0.3333333333333333,
                            "#9c179e"
                          ],
                          [
                            0.4444444444444444,
                            "#bd3786"
                          ],
                          [
                            0.5555555555555556,
                            "#d8576b"
                          ],
                          [
                            0.6666666666666666,
                            "#ed7953"
                          ],
                          [
                            0.7777777777777778,
                            "#fb9f3a"
                          ],
                          [
                            0.8888888888888888,
                            "#fdca26"
                          ],
                          [
                            1,
                            "#f0f921"
                          ]
                        ],
                        "type": "heatmapgl"
                      }
                    ],
                    "histogram": [
                      {
                        "marker": {
                          "pattern": {
                            "fillmode": "overlay",
                            "size": 10,
                            "solidity": 0.2
                          }
                        },
                        "type": "histogram"
                      }
                    ],
                    "histogram2d": [
                      {
                        "colorbar": {
                          "outlinewidth": 0,
                          "ticks": ""
                        },
                        "colorscale": [
                          [
                            0,
                            "#0d0887"
                          ],
                          [
                            0.1111111111111111,
                            "#46039f"
                          ],
                          [
                            0.2222222222222222,
                            "#7201a8"
                          ],
                          [
                            0.3333333333333333,
                            "#9c179e"
                          ],
                          [
                            0.4444444444444444,
                            "#bd3786"
                          ],
                          [
                            0.5555555555555556,
                            "#d8576b"
                          ],
                          [
                            0.6666666666666666,
                            "#ed7953"
                          ],
                          [
                            0.7777777777777778,
                            "#fb9f3a"
                          ],
                          [
                            0.8888888888888888,
                            "#fdca26"
                          ],
                          [
                            1,
                            "#f0f921"
                          ]
                        ],
                        "type": "histogram2d"
                      }
                    ],
                    "histogram2dcontour": [
                      {
                        "colorbar": {
                          "outlinewidth": 0,
                          "ticks": ""
                        },
                        "colorscale": [
                          [
                            0,
                            "#0d0887"
                          ],
                          [
                            0.1111111111111111,
                            "#46039f"
                          ],
                          [
                            0.2222222222222222,
                            "#7201a8"
                          ],
                          [
                            0.3333333333333333,
                            "#9c179e"
                          ],
                          [
                            0.4444444444444444,
                            "#bd3786"
                          ],
                          [
                            0.5555555555555556,
                            "#d8576b"
                          ],
                          [
                            0.6666666666666666,
                            "#ed7953"
                          ],
                          [
                            0.7777777777777778,
                            "#fb9f3a"
                          ],
                          [
                            0.8888888888888888,
                            "#fdca26"
                          ],
                          [
                            1,
                            "#f0f921"
                          ]
                        ],
                        "type": "histogram2dcontour"
                      }
                    ],
                    "mesh3d": [
                      {
                        "colorbar": {
                          "outlinewidth": 0,
                          "ticks": ""
                        },
                        "type": "mesh3d"
                      }
                    ],
                    "parcoords": [
                      {
                        "line": {
                          "colorbar": {
                            "outlinewidth": 0,
                            "ticks": ""
                          }
                        },
                        "type": "parcoords"
                      }
                    ],
                    "pie": [
                      {
                        "automargin": true,
                        "type": "pie"
                      }
                    ],
                    "scatter": [
                      {
                        "fillpattern": {
                          "fillmode": "overlay",
                          "size": 10,
                          "solidity": 0.2
                        },
                        "type": "scatter"
                      }
                    ],
                    "scatter3d": [
                      {
                        "line": {
                          "colorbar": {
                            "outlinewidth": 0,
                            "ticks": ""
                          }
                        },
                        "marker": {
                          "colorbar": {
                            "outlinewidth": 0,
                            "ticks": ""
                          }
                        },
                        "type": "scatter3d"
                      }
                    ],
                    "scattercarpet": [
                      {
                        "marker": {
                          "colorbar": {
                            "outlinewidth": 0,
                            "ticks": ""
                          }
                        },
                        "type": "scattercarpet"
                      }
                    ],
                    "scattergeo": [
                      {
                        "marker": {
                          "colorbar": {
                            "outlinewidth": 0,
                            "ticks": ""
                          }
                        },
                        "type": "scattergeo"
                      }
                    ],
                    "scattergl": [
                      {
                        "marker": {
                          "colorbar": {
                            "outlinewidth": 0,
                            "ticks": ""
                          }
                        },
                        "type": "scattergl"
                      }
                    ],
                    "scattermapbox": [
                      {
                        "marker": {
                          "colorbar": {
                            "outlinewidth": 0,
                            "ticks": ""
                          }
                        },
                        "type": "scattermapbox"
                      }
                    ],
                    "scatterpolar": [
                      {
                        "marker": {
                          "colorbar": {
                            "outlinewidth": 0,
                            "ticks": ""
                          }
                        },
                        "type": "scatterpolar"
                      }
                    ],
                    "scatterpolargl": [
                      {
                        "marker": {
                          "colorbar": {
                            "outlinewidth": 0,
                            "ticks": ""
                          }
                        },
                        "type": "scatterpolargl"
                      }
                    ],
                    "scatterternary": [
                      {
                        "marker": {
                          "colorbar": {
                            "outlinewidth": 0,
                            "ticks": ""
                          }
                        },
                        "type": "scatterternary"
                      }
                    ],
                    "surface": [
                      {
                        "colorbar": {
                          "outlinewidth": 0,
                          "ticks": ""
                        },
                        "colorscale": [
                          [
                            0,
                            "#0d0887"
                          ],
                          [
                            0.1111111111111111,
                            "#46039f"
                          ],
                          [
                            0.2222222222222222,
                            "#7201a8"
                          ],
                          [
                            0.3333333333333333,
                            "#9c179e"
                          ],
                          [
                            0.4444444444444444,
                            "#bd3786"
                          ],
                          [
                            0.5555555555555556,
                            "#d8576b"
                          ],
                          [
                            0.6666666666666666,
                            "#ed7953"
                          ],
                          [
                            0.7777777777777778,
                            "#fb9f3a"
                          ],
                          [
                            0.8888888888888888,
                            "#fdca26"
                          ],
                          [
                            1,
                            "#f0f921"
                          ]
                        ],
                        "type": "surface"
                      }
                    ],
                    "table": [
                      {
                        "cells": {
                          "fill": {
                            "color": "#EBF0F8"
                          },
                          "line": {
                            "color": "white"
                          }
                        },
                        "header": {
                          "fill": {
                            "color": "#C8D4E3"
                          },
                          "line": {
                            "color": "white"
                          }
                        },
                        "type": "table"
                      }
                    ]
                  },
                  "layout": {
                    "annotationdefaults": {
                      "arrowcolor": "#2a3f5f",
                      "arrowhead": 0,
                      "arrowwidth": 1
                    },
                    "autotypenumbers": "strict",
                    "coloraxis": {
                      "colorbar": {
                        "outlinewidth": 0,
                        "ticks": ""
                      }
                    },
                    "colorscale": {
                      "diverging": [
                        [
                          0,
                          "#8e0152"
                        ],
                        [
                          0.1,
                          "#c51b7d"
                        ],
                        [
                          0.2,
                          "#de77ae"
                        ],
                        [
                          0.3,
                          "#f1b6da"
                        ],
                        [
                          0.4,
                          "#fde0ef"
                        ],
                        [
                          0.5,
                          "#f7f7f7"
                        ],
                        [
                          0.6,
                          "#e6f5d0"
                        ],
                        [
                          0.7,
                          "#b8e186"
                        ],
                        [
                          0.8,
                          "#7fbc41"
                        ],
                        [
                          0.9,
                          "#4d9221"
                        ],
                        [
                          1,
                          "#276419"
                        ]
                      ],
                      "sequential": [
                        [
                          0,
                          "#0d0887"
                        ],
                        [
                          0.1111111111111111,
                          "#46039f"
                        ],
                        [
                          0.2222222222222222,
                          "#7201a8"
                        ],
                        [
                          0.3333333333333333,
                          "#9c179e"
                        ],
                        [
                          0.4444444444444444,
                          "#bd3786"
                        ],
                        [
                          0.5555555555555556,
                          "#d8576b"
                        ],
                        [
                          0.6666666666666666,
                          "#ed7953"
                        ],
                        [
                          0.7777777777777778,
                          "#fb9f3a"
                        ],
                        [
                          0.8888888888888888,
                          "#fdca26"
                        ],
                        [
                          1,
                          "#f0f921"
                        ]
                      ],
                      "sequentialminus": [
                        [
                          0,
                          "#0d0887"
                        ],
                        [
                          0.1111111111111111,
                          "#46039f"
                        ],
                        [
                          0.2222222222222222,
                          "#7201a8"
                        ],
                        [
                          0.3333333333333333,
                          "#9c179e"
                        ],
                        [
                          0.4444444444444444,
                          "#bd3786"
                        ],
                        [
                          0.5555555555555556,
                          "#d8576b"
                        ],
                        [
                          0.6666666666666666,
                          "#ed7953"
                        ],
                        [
                          0.7777777777777778,
                          "#fb9f3a"
                        ],
                        [
                          0.8888888888888888,
                          "#fdca26"
                        ],
                        [
                          1,
                          "#f0f921"
                        ]
                      ]
                    },
                    "colorway": [
                      "#636efa",
                      "#EF553B",
                      "#00cc96",
                      "#ab63fa",
                      "#FFA15A",
                      "#19d3f3",
                      "#FF6692",
                      "#B6E880",
                      "#FF97FF",
                      "#FECB52"
                    ],
                    "font": {
                      "color": "#2a3f5f"
                    },
                    "geo": {
                      "bgcolor": "white",
                      "lakecolor": "white",
                      "landcolor": "#E5ECF6",
                      "showlakes": true,
                      "showland": true,
                      "subunitcolor": "white"
                    },
                    "hoverlabel": {
                      "align": "left"
                    },
                    "hovermode": "closest",
                    "mapbox": {
                      "style": "light"
                    },
                    "paper_bgcolor": "white",
                    "plot_bgcolor": "#E5ECF6",
                    "polar": {
                      "angularaxis": {
                        "gridcolor": "white",
                        "linecolor": "white",
                        "ticks": ""
                      },
                      "bgcolor": "#E5ECF6",
                      "radialaxis": {
                        "gridcolor": "white",
                        "linecolor": "white",
                        "ticks": ""
                      }
                    },
                    "scene": {
                      "xaxis": {
                        "backgroundcolor": "#E5ECF6",
                        "gridcolor": "white",
                        "gridwidth": 2,
                        "linecolor": "white",
                        "showbackground": true,
                        "ticks": "",
                        "zerolinecolor": "white"
                      },
                      "yaxis": {
                        "backgroundcolor": "#E5ECF6",
                        "gridcolor": "white",
                        "gridwidth": 2,
                        "linecolor": "white",
                        "showbackground": true,
                        "ticks": "",
                        "zerolinecolor": "white"
                      },
                      "zaxis": {
                        "backgroundcolor": "#E5ECF6",
                        "gridcolor": "white",
                        "gridwidth": 2,
                        "linecolor": "white",
                        "showbackground": true,
                        "ticks": "",
                        "zerolinecolor": "white"
                      }
                    },
                    "shapedefaults": {
                      "line": {
                        "color": "#2a3f5f"
                      }
                    },
                    "ternary": {
                      "aaxis": {
                        "gridcolor": "white",
                        "linecolor": "white",
                        "ticks": ""
                      },
                      "baxis": {
                        "gridcolor": "white",
                        "linecolor": "white",
                        "ticks": ""
                      },
                      "bgcolor": "#E5ECF6",
                      "caxis": {
                        "gridcolor": "white",
                        "linecolor": "white",
                        "ticks": ""
                      }
                    },
                    "title": {
                      "x": 0.05
                    },
                    "xaxis": {
                      "automargin": true,
                      "gridcolor": "white",
                      "linecolor": "white",
                      "ticks": "",
                      "title": {
                        "standoff": 15
                      },
                      "zerolinecolor": "white",
                      "zerolinewidth": 2
                    },
                    "yaxis": {
                      "automargin": true,
                      "gridcolor": "white",
                      "linecolor": "white",
                      "ticks": "",
                      "title": {
                        "standoff": 15
                      },
                      "zerolinecolor": "white",
                      "zerolinewidth": 2
                    }
                  }
                },
                "title": {
                  "text": "Patching output of attention heads (corrupted -> clean)"
                },
                "width": 600,
                "xaxis": {
                  "anchor": "y",
                  "constrain": "domain",
                  "domain": [
                    0,
                    1
                  ],
                  "linecolor": "black",
                  "linewidth": 1,
                  "mirror": true,
                  "scaleanchor": "y",
                  "showline": true,
                  "title": {
                    "text": "Head"
                  }
                },
                "yaxis": {
                  "anchor": "x",
                  "autorange": "reversed",
                  "constrain": "domain",
                  "domain": [
                    0,
                    1
                  ],
                  "linecolor": "black",
                  "linewidth": 1,
                  "mirror": true,
                  "showline": true,
                  "title": {
                    "text": "Layer"
                  }
                }
              }
            }
          },
          "metadata": {},
          "output_type": "display_data"
        }
      ],
      "source": [
        "imshow_p(\n",
        "    results['z'] * 100,\n",
        "    title=\"Patching output of attention heads (corrupted -> clean)\",\n",
        "    labels={\"x\": \"Head\", \"y\": \"Layer\", \"color\": \"Logit diff variation\"},\n",
        "    coloraxis=dict(colorbar_ticksuffix = \"%\"),\n",
        "    border=True,\n",
        "    width=600,\n",
        "    margin={\"r\": 100, \"l\": 100}\n",
        ")"
      ]
    },
    {
      "attachments": {},
      "cell_type": "markdown",
      "metadata": {},
      "source": [
        "#### Head Output by Component"
      ]
    },
    {
      "cell_type": "code",
      "execution_count": 25,
      "metadata": {},
      "outputs": [
        {
          "data": {
            "application/vnd.jupyter.widget-view+json": {
              "model_id": "8b377623cbc44ca79fece9545280506b",
              "version_major": 2,
              "version_minor": 0
            },
            "text/plain": [
              "  0%|          | 0/720 [00:00<?, ?it/s]"
            ]
          },
          "metadata": {},
          "output_type": "display_data"
        },
        {
          "name": "stdout",
          "output_type": "stream",
          "text": [
            "results['z'].shape = (layer=12, head=12)\n",
            "results['q'].shape = (layer=12, head=12)\n",
            "results['k'].shape = (layer=12, head=12)\n",
            "results['v'].shape = (layer=12, head=12)\n",
            "results['pattern'].shape = (layer=12, head=12)\n"
          ]
        }
      ],
      "source": [
        "# iterating over all heads' output in all layers\n",
        "\n",
        "results = act_patch(\n",
        "    model=model,\n",
        "    orig_input=corrupted_tokens,\n",
        "    new_cache=clean_cache,\n",
        "    patching_nodes=IterNode([\"z\", \"q\", \"k\", \"v\", \"pattern\"]),\n",
        "    patching_metric=logit_diff_denoising,\n",
        "    verbose=True,\n",
        ")"
      ]
    },
    {
      "cell_type": "code",
      "execution_count": 26,
      "metadata": {},
      "outputs": [
        {
          "data": {
            "application/vnd.plotly.v1+json": {
              "config": {
                "plotlyServerURL": "https://plot.ly"
              },
              "data": [
                {
                  "coloraxis": "coloraxis",
                  "hovertemplate": "Head: %{x}<br>Layer: %{y}<br>Logit diff variation: %{z}<extra></extra>",
                  "name": "0",
                  "type": "heatmap",
                  "xaxis": "x",
                  "yaxis": "y",
                  "z": [
                    [
                      0.2790992259979248,
                      0.30307191610336304,
                      -0.14795322716236115,
                      1.157173752784729,
                      3.302919387817383,
                      0.4037003517150879,
                      1.3254822492599487,
                      0.13011674582958221,
                      -0.0881531685590744,
                      0.0036266311071813107,
                      -0.1408906877040863,
                      0.09121068567037582
                    ],
                    [
                      0.00721390824764967,
                      -0.00569726200774312,
                      0.038530685007572174,
                      -0.10303204506635666,
                      -0.11429942399263382,
                      -0.5390602350234985,
                      0.44252467155456543,
                      0.13750016689300537,
                      -0.15018127858638763,
                      0.0030211834236979485,
                      -0.027302658185362816,
                      0.3322544991970062
                    ],
                    [
                      0.45201507210731506,
                      0.8309798240661621,
                      0.015732556581497192,
                      0.00201614061370492,
                      0.006920265965163708,
                      0.04020474851131439,
                      -0.2845694422721863,
                      -0.0857434868812561,
                      0.18893900513648987,
                      -0.07563856989145279,
                      0.05856191739439964,
                      -0.06349026411771774
                    ],
                    [
                      0.16496025025844574,
                      0.0440705306828022,
                      0.044412609189748764,
                      -0.016792088747024536,
                      0.04991309717297554,
                      0.4338758587837219,
                      0.11439327150583267,
                      -0.3405158519744873,
                      0.23537380993366241,
                      0.2387370616197586,
                      -0.3898658752441406,
                      2.783400058746338
                    ],
                    [
                      -0.0635235607624054,
                      0.3483503460884094,
                      0.31980952620506287,
                      -0.18086233735084534,
                      -0.5699290037155151,
                      0.077070452272892,
                      -0.1884818822145462,
                      -0.1311550885438919,
                      0.919190526008606,
                      1.4189512729644775,
                      0.33275702595710754,
                      0.03969920054078102
                    ],
                    [
                      -0.012908142060041428,
                      0.281054824590683,
                      0.621019721031189,
                      0.3921816945075989,
                      0.5876777172088623,
                      1.7828372716903687,
                      0.15117724239826202,
                      1.5759861469268799,
                      -0.7402141690254211,
                      -0.14866161346435547,
                      4.32830286026001,
                      -6.353546142578125
                    ],
                    [
                      0.3519769608974457,
                      -0.08877375721931458,
                      -0.48022592067718506,
                      1.3478171825408936,
                      10.493072509765625,
                      -2.519833564758301,
                      -3.383389472961426,
                      9.622142791748047,
                      0.11474139988422394,
                      0.4986496567726135,
                      2.151806116104126,
                      -0.11607640981674194
                    ],
                    [
                      0.03581222519278526,
                      21.317283630371094,
                      0.14264042675495148,
                      -2.647237777709961,
                      0.07559921592473984,
                      17.03943634033203,
                      -9.288798332214355,
                      0.08385146409273148,
                      0.9261773824691772,
                      2.926767110824585,
                      0.2730114758014679,
                      0.004068607930094004
                    ],
                    [
                      0.008464157581329346,
                      -0.0044288490898907185,
                      3.56992769241333,
                      0.8233118653297424,
                      2.779616117477417,
                      12.341516494750977,
                      0.5119150280952454,
                      0.8319182991981506,
                      -0.2425241470336914,
                      2.360621929168701,
                      -8.84625244140625,
                      1.8312156200408936
                    ],
                    [
                      -0.17796526849269867,
                      0.8877859711647034,
                      16.29802894592285,
                      5.434815406799316,
                      0.017309745773673058,
                      -3.0219130516052246,
                      2.0341193675994873,
                      -3.491546630859375,
                      0.01520581729710102,
                      1.041176199913025,
                      4.44433069229126,
                      -0.1422135829925537
                    ],
                    [
                      4.373132705688477,
                      8.569993019104004,
                      0.013213894329965115,
                      -0.4129364490509033,
                      32.18494415283203,
                      0.8253430724143982,
                      0.01912003569304943,
                      -10.194554328918457,
                      -0.02443586476147175,
                      1.3282339572906494,
                      0.6698944568634033,
                      2.453951835632324
                    ],
                    [
                      -1.010943055152893,
                      0.6021963357925415,
                      -0.010074648074805737,
                      1.3580795526504517,
                      0.2749246656894684,
                      0.4360312521457672,
                      0.00806758925318718,
                      0.562242865562439,
                      1.195093035697937,
                      2.9352493286132812,
                      0.10210268944501877,
                      3.412332773208618
                    ]
                  ]
                },
                {
                  "coloraxis": "coloraxis",
                  "hovertemplate": "Head: %{x}<br>Layer: %{y}<br>Logit diff variation: %{z}<extra></extra>",
                  "name": "1",
                  "type": "heatmap",
                  "xaxis": "x2",
                  "yaxis": "y2",
                  "z": [
                    [
                      -0.04995547980070114,
                      0.25431522727012634,
                      0.0441431850194931,
                      -0.004652864765375853,
                      0.22638896107673645,
                      0.2539822459220886,
                      -0.046180516481399536,
                      -0.10094627737998962,
                      -0.16072212159633636,
                      -0.07008055597543716,
                      -0.6717622876167297,
                      -0.02523808181285858
                    ],
                    [
                      0.02451154589653015,
                      0.042453985661268234,
                      0.002900094026699662,
                      -0.0415458157658577,
                      0.01493336446583271,
                      0.01249341107904911,
                      -0.060120947659015656,
                      -0.0427778996527195,
                      0.0355125293135643,
                      -0.018396524712443352,
                      0.0002240156172774732,
                      0.5435980558395386
                    ],
                    [
                      0.029061485081911087,
                      0.0672561451792717,
                      0.10773032158613205,
                      0.00556406332179904,
                      0.018469179049134254,
                      0.09074145555496216,
                      -0.06016030162572861,
                      -0.004065580666065216,
                      -0.01494244672358036,
                      0.31439077854156494,
                      0.005170522257685661,
                      0.03111395426094532
                    ],
                    [
                      -0.4509827494621277,
                      0.03589698672294617,
                      0.08670312166213989,
                      -0.05109372362494469,
                      -0.12060213088989258,
                      -0.08073341101408005,
                      0.09167687594890594,
                      0.4115893542766571,
                      0.1689198762178421,
                      0.11369699984788895,
                      0.02546512708067894,
                      0.03482837229967117
                    ],
                    [
                      -0.016292594373226166,
                      0.0906960517168045,
                      -0.03752867132425308,
                      0.045862652361392975,
                      0.12458597868680954,
                      -0.06552759557962418,
                      0.08610070496797562,
                      -0.017827404662966728,
                      0.06658107042312622,
                      0.0795346200466156,
                      0.0538848340511322,
                      0.031011024489998817
                    ],
                    [
                      -0.04796658456325531,
                      -0.010250227525830269,
                      0.38451069593429565,
                      -0.004359222482889891,
                      -0.02593737468123436,
                      -0.1983204185962677,
                      0.15509448945522308,
                      -0.03385965898633003,
                      -0.06925412267446518,
                      -0.8194823861122131,
                      -0.10535696148872375,
                      -0.1783830225467682
                    ],
                    [
                      0.055371206253767014,
                      -0.01669219136238098,
                      -0.2274000495672226,
                      -0.05808361619710922,
                      -0.21118314564228058,
                      -0.17093601822853088,
                      0.28483283519744873,
                      0.0037961562629789114,
                      0.11069095879793167,
                      -0.019501466304063797,
                      -0.045408569276332855,
                      -0.2288016676902771
                    ],
                    [
                      -0.015236089937388897,
                      0.3670344352722168,
                      0.0019525685347616673,
                      -0.015136190690100193,
                      0.07220567762851715,
                      0.026745649054646492,
                      -0.5394659042358398,
                      0.05615223944187164,
                      0.056930236518383026,
                      -0.042920179665088654,
                      -0.017203792929649353,
                      0.003656903514638543
                    ],
                    [
                      0.00014833465684205294,
                      -0.006048421375453472,
                      0.2938479483127594,
                      -0.029548868536949158,
                      -0.026046356186270714,
                      0.03997467830777168,
                      -0.013840531930327415,
                      0.005866787396371365,
                      -0.014476252719759941,
                      0.04927435144782066,
                      -0.4532622992992401,
                      -0.05899783968925476
                    ],
                    [
                      -0.267604798078537,
                      0.07942261546850204,
                      0.536151111125946,
                      0.05942468345165253,
                      -0.035128071904182434,
                      -0.11043970286846161,
                      0.048348020762205124,
                      -0.09241249412298203,
                      -0.06931769102811813,
                      -0.051096752285957336,
                      -0.09019050002098083,
                      -0.0379585362970829
                    ],
                    [
                      -0.1336555778980255,
                      0.10765161365270615,
                      -0.15722262859344482,
                      0.06443476676940918,
                      -0.011948508210480213,
                      0.11904310435056686,
                      0.019652828574180603,
                      -3.479764699935913,
                      0.0009142258786596358,
                      -0.039290525019168854,
                      0.00685063935816288,
                      0.4055197238922119
                    ],
                    [
                      -0.2540215849876404,
                      0.28602859377861023,
                      -0.09479190409183502,
                      -0.6654383540153503,
                      -0.010035294108092785,
                      0.028446953743696213,
                      0.08249526470899582,
                      -0.060323771089315414,
                      -0.48508161306381226,
                      -0.4275822043418884,
                      -0.4056740999221802,
                      -0.14257080852985382
                    ]
                  ]
                },
                {
                  "coloraxis": "coloraxis",
                  "hovertemplate": "Head: %{x}<br>Layer: %{y}<br>Logit diff variation: %{z}<extra></extra>",
                  "name": "2",
                  "type": "heatmap",
                  "xaxis": "x3",
                  "yaxis": "y3",
                  "z": [
                    [
                      -0.07544482499361038,
                      0.2577784061431885,
                      0.012771917507052422,
                      0.04276276379823685,
                      0.09012087434530258,
                      0.22456052899360657,
                      -0.03358417749404907,
                      -0.07104624807834625,
                      -0.10470005124807358,
                      0.020912159234285355,
                      -0.5701863169670105,
                      0.002651860471814871
                    ],
                    [
                      0.027317795902490616,
                      0.02671234868466854,
                      0.005733588710427284,
                      -0.040050357580184937,
                      -0.02178400382399559,
                      -0.06277886033058167,
                      -0.007114009466022253,
                      -0.06021781638264656,
                      -0.0502188503742218,
                      0.01861448772251606,
                      0.0017134167719632387,
                      0.588110625743866
                    ],
                    [
                      -0.01100703701376915,
                      -0.007767892442643642,
                      0.029006993398070335,
                      0.026237070560455322,
                      0.03411091864109039,
                      -0.013525699265301228,
                      0.012311777099967003,
                      0.03584250062704086,
                      0.1751045286655426,
                      0.31405776739120483,
                      0.03030265122652054,
                      0.005046405363827944
                    ],
                    [
                      -0.4552421271800995,
                      -0.004377386067062616,
                      0.020394502207636833,
                      -0.01714930310845375,
                      -0.23424766957759857,
                      -0.010071620345115662,
                      0.14103901386260986,
                      0.5412489771842957,
                      0.16346479952335358,
                      -0.0085580013692379,
                      -0.015269388444721699,
                      -0.14975140988826752
                    ],
                    [
                      0.08283431828022003,
                      0.01665889099240303,
                      0.07865369319915771,
                      0.03823704272508621,
                      -0.11167480796575546,
                      0.04308970645070076,
                      0.3414996862411499,
                      0.027611438184976578,
                      -0.1111995279788971,
                      0.058882806450128555,
                      0.028979748487472534,
                      -0.03637831658124924
                    ],
                    [
                      0.03814925253391266,
                      0.023694192990660667,
                      0.05307959020137787,
                      0.09708049148321152,
                      -0.0380069762468338,
                      -0.06224304065108299,
                      -0.046180516481399536,
                      -0.10324092209339142,
                      -0.07259921729564667,
                      -0.637745201587677,
                      -0.18068070709705353,
                      -0.5012288689613342
                    ],
                    [
                      0.02008875086903572,
                      0.0029303664341568947,
                      0.020603381097316742,
                      -0.0735013410449028,
                      -1.62368643283844,
                      0.07118247449398041,
                      0.10189682990312576,
                      -0.15534575283527374,
                      -0.06050238013267517,
                      -0.06023598089814186,
                      0.04109172895550728,
                      -0.025758767500519753
                    ],
                    [
                      0.03963865339756012,
                      -1.3718383312225342,
                      0.002291619312018156,
                      -0.15996532142162323,
                      -0.01834203489124775,
                      -0.5665051937103271,
                      0.051396444439888,
                      -0.033917173743247986,
                      -0.010159410536289215,
                      -0.05700289085507393,
                      0.0269242525100708,
                      -0.0010625605937093496
                    ],
                    [
                      0.0232734065502882,
                      -0.005673044361174107,
                      0.22334054112434387,
                      0.03965076431632042,
                      -0.04967697337269783,
                      -0.0989452674984932,
                      -0.02910083904862404,
                      0.01810288429260254,
                      0.06422890722751617,
                      -0.021668970584869385,
                      -0.6691376566886902,
                      -0.1495455652475357
                    ],
                    [
                      -0.23051811754703522,
                      0.06341155618429184,
                      -1.7990906238555908,
                      -0.055159300565719604,
                      0.008315823040902615,
                      -0.12595731019973755,
                      0.07039842009544373,
                      0.1527635157108307,
                      0.06556997448205948,
                      0.0022522651124745607,
                      0.02669721096754074,
                      -0.026754729449748993
                    ],
                    [
                      0.13236597180366516,
                      0.22416090965270996,
                      -0.0428626649081707,
                      -0.06966280192136765,
                      0.01588391698896885,
                      -0.027054425328969955,
                      -0.16739414632320404,
                      -3.428138017654419,
                      -0.0017255257116630673,
                      0.01493336446583271,
                      0.2617350220680237,
                      0.04842975363135338
                    ],
                    [
                      -0.0011927317827939987,
                      0.09744679182767868,
                      0.08236812055110931,
                      0.421491414308548,
                      0.044630568474531174,
                      -0.006336009595543146,
                      0.007192717865109444,
                      0.12240637093782425,
                      -0.08197154849767685,
                      0.05062147229909897,
                      -0.3297782242298126,
                      0.5510148406028748
                    ]
                  ]
                },
                {
                  "coloraxis": "coloraxis",
                  "hovertemplate": "Head: %{x}<br>Layer: %{y}<br>Logit diff variation: %{z}<extra></extra>",
                  "name": "3",
                  "type": "heatmap",
                  "xaxis": "x4",
                  "yaxis": "y4",
                  "z": [
                    [
                      0.2992485463619232,
                      0.3033353090286255,
                      -0.18761609494686127,
                      1.158197045326233,
                      3.156283140182495,
                      0.40380629897117615,
                      1.3875102996826172,
                      0.28235048055648804,
                      0.00013622570259030908,
                      0.014987856149673462,
                      -0.02376381866633892,
                      0.15108036994934082
                    ],
                    [
                      0.015348097309470177,
                      -0.011361224576830864,
                      0.02646411582827568,
                      -0.0140796834602952,
                      -0.10485444217920303,
                      -0.572023868560791,
                      0.45758214592933655,
                      0.17606718838214874,
                      -0.10672830045223236,
                      0.011660920456051826,
                      -0.030944425612688065,
                      0.3179265856742859
                    ],
                    [
                      0.2937389612197876,
                      0.652554452419281,
                      -0.06043275445699692,
                      0.006378390360623598,
                      0.00038748644874431193,
                      0.04608667269349098,
                      -0.2733444571495056,
                      -0.12824894487857819,
                      0.16647085547447205,
                      -0.10427321493625641,
                      0.03468003869056702,
                      -0.10591397434473038
                    ],
                    [
                      0.11845582723617554,
                      -0.004882934968918562,
                      0.06839438527822495,
                      0.03362656012177467,
                      -0.11664552986621857,
                      0.5681338906288147,
                      0.07905631512403488,
                      -0.39756718277931213,
                      0.0063148182816803455,
                      0.12252745032310486,
                      -0.4438203275203705,
                      2.6996636390686035
                    ],
                    [
                      -0.050064463168382645,
                      0.21411047875881195,
                      0.2599368095397949,
                      -0.21339303255081177,
                      -0.5625032186508179,
                      0.07761838287115097,
                      -0.21466447412967682,
                      -0.09237314015626907,
                      0.848513662815094,
                      1.031585931777954,
                      0.25867143273353577,
                      0.04454580694437027
                    ],
                    [
                      -0.002509580459445715,
                      0.2804887592792511,
                      0.2665664851665497,
                      0.2631063461303711,
                      0.5290734171867371,
                      1.9366180896759033,
                      0.10097958147525787,
                      1.444534420967102,
                      -0.6868984699249268,
                      -0.08180505037307739,
                      4.039065361022949,
                      -7.019283771514893
                    ],
                    [
                      0.2680286169052124,
                      -0.07895339280366898,
                      -0.23683293163776398,
                      1.4702235460281372,
                      7.5712890625,
                      -2.637369155883789,
                      -3.524664878845215,
                      8.305871963500977,
                      -0.013110967352986336,
                      0.5131258964538574,
                      2.074084758758545,
                      -0.023458067327737808
                    ],
                    [
                      0.011663948185741901,
                      20.073123931884766,
                      0.1507776379585266,
                      -2.599407434463501,
                      0.033375296741724014,
                      17.12276268005371,
                      -9.480016708374023,
                      0.06833989918231964,
                      0.860456109046936,
                      2.8393101692199707,
                      0.24508821964263916,
                      0.007080709561705589
                    ],
                    [
                      0.0018829419277608395,
                      -0.014763839542865753,
                      3.6222870349884033,
                      0.6257300972938538,
                      2.892601728439331,
                      12.316426277160645,
                      0.5855314135551453,
                      0.8286640048027039,
                      -0.1689259260892868,
                      2.381779432296753,
                      -7.937408924102783,
                      1.784623384475708
                    ],
                    [
                      0.26060280203819275,
                      0.89933180809021,
                      14.954800605773926,
                      5.578494548797607,
                      -0.027084697037935257,
                      -2.9196410179138184,
                      1.8129644393920898,
                      -3.2922213077545166,
                      0.020167460665106773,
                      0.984896719455719,
                      4.552859783172607,
                      -0.031023135408759117
                    ],
                    [
                      4.340662956237793,
                      8.381904602050781,
                      0.16663432121276855,
                      -0.39813023805618286,
                      32.459354400634766,
                      0.7396662831306458,
                      0.16497236490249634,
                      -8.895384788513184,
                      -0.021889958530664444,
                      1.3730825185775757,
                      0.4139505922794342,
                      2.2105133533477783
                    ],
                    [
                      -0.860241174697876,
                      0.2751607894897461,
                      -0.04010182246565819,
                      1.5842928886413574,
                      0.25192975997924805,
                      0.4258173406124115,
                      -0.05785960331559181,
                      0.5798613429069519,
                      1.8782800436019897,
                      2.981384515762329,
                      0.2794564366340637,
                      2.9373652935028076
                    ]
                  ]
                },
                {
                  "coloraxis": "coloraxis",
                  "hovertemplate": "Head: %{x}<br>Layer: %{y}<br>Logit diff variation: %{z}<extra></extra>",
                  "name": "4",
                  "type": "heatmap",
                  "xaxis": "x5",
                  "yaxis": "y5",
                  "z": [
                    [
                      -0.0769554153084755,
                      -0.0001997977087739855,
                      0.04483339563012123,
                      -0.007885955274105072,
                      -0.0794195830821991,
                      0.0030211834236979485,
                      -0.09509159624576569,
                      -0.16713380813598633,
                      -0.10200884193181992,
                      -0.03746207058429718,
                      -0.1026839166879654,
                      -0.03135613352060318
                    ],
                    [
                      0.011073636822402477,
                      0.010431862436234951,
                      0.011794119141995907,
                      -0.09057193249464035,
                      -0.016204804182052612,
                      -0.10054365545511246,
                      0.0016407630173489451,
                      -0.04950139671564102,
                      -0.041739556938409805,
                      -0.02159026265144348,
                      0.0034571057185530663,
                      0.021202774718403816
                    ],
                    [
                      0.17419332265853882,
                      0.09491904824972153,
                      0.07080104202032089,
                      0.020754743367433548,
                      0.051087670028209686,
                      -0.020909132435917854,
                      -0.048108868300914764,
                      0.035881850868463516,
                      0.0171826034784317,
                      0.021962612867355347,
                      0.03522191569209099,
                      0.04478193446993828
                    ],
                    [
                      0.035845525562763214,
                      0.049325816333293915,
                      -0.04997667297720909,
                      -0.03532181307673454,
                      0.16496631503105164,
                      -0.08123896270990372,
                      0.02911294810473919,
                      0.07608659565448761,
                      0.20846165716648102,
                      0.1063499003648758,
                      0.06314212828874588,
                      -0.07074352353811264
                    ],
                    [
                      -0.025813259184360504,
                      0.12537911534309387,
                      0.030426768586039543,
                      0.08470816910266876,
                      0.23091468214988708,
                      0.028107905760407448,
                      0.08802904933691025,
                      0.0014258291339501739,
                      0.026082681491971016,
                      0.11785037070512772,
                      0.0782480463385582,
                      -0.004559020511806011
                    ],
                    [
                      -0.009614507667720318,
                      0.004092826042324305,
                      0.3494340777397156,
                      0.10682215541601181,
                      -0.04720977693796158,
                      0.012021161615848541,
                      0.04839039966464043,
                      -0.17466558516025543,
                      -0.031238069757819176,
                      0.129511296749115,
                      0.0942046195268631,
                      -0.26222845911979675
                    ],
                    [
                      0.08942461013793945,
                      -0.03963865339756012,
                      -0.21375931799411774,
                      -0.18466757237911224,
                      -1.5547682046890259,
                      -0.01813315600156784,
                      0.25960078835487366,
                      -0.27931416034698486,
                      0.13870501518249512,
                      -0.023167451843619347,
                      -0.020769881084561348,
                      -0.153886616230011
                    ],
                    [
                      0.02473253384232521,
                      -1.1961495876312256,
                      0.0014954556245356798,
                      -0.09017536789178848,
                      0.029294582083821297,
                      -0.2322981357574463,
                      -0.24400749802589417,
                      0.04412804916501045,
                      0.057868681848049164,
                      -0.06963253021240234,
                      0.014252236112952232,
                      0.0035418684128671885
                    ],
                    [
                      0.010552951134741306,
                      0.006472235079854727,
                      0.5463650226593018,
                      0.03287883475422859,
                      -0.06415323168039322,
                      -0.043228957802057266,
                      -0.04114016517996788,
                      0.013101886957883835,
                      -0.0855618566274643,
                      -0.07490597665309906,
                      0.07690092921257019,
                      -0.17916707694530487
                    ],
                    [
                      -0.41762563586235046,
                      0.16168175637722015,
                      -0.9521480798721313,
                      0.0032542808912694454,
                      0.026869764551520348,
                      -0.10656482726335526,
                      0.03593331575393677,
                      0.11750829964876175,
                      -0.005185658577829599,
                      0.0428323894739151,
                      -0.07145190238952637,
                      -0.0674256682395935
                    ],
                    [
                      0.026240097358822823,
                      0.02102114073932171,
                      -0.19396725296974182,
                      0.015211870893836021,
                      0.16312575340270996,
                      0.10015010833740234,
                      -0.1380148082971573,
                      -0.1336131989955902,
                      -0.0007568094879388809,
                      -0.026627587154507637,
                      0.2782970070838928,
                      0.22985213994979858
                    ],
                    [
                      -0.17333056032657623,
                      0.36937451362609863,
                      0.01861448772251606,
                      -0.1980903595685959,
                      0.024662908166646957,
                      0.01420985534787178,
                      0.05855586379766464,
                      -0.016540829092264175,
                      -0.7005059123039246,
                      -0.01587786339223385,
                      -0.20194099843502045,
                      0.4399605989456177
                    ]
                  ]
                }
              ],
              "layout": {
                "annotations": [
                  {
                    "font": {},
                    "showarrow": false,
                    "text": "Output",
                    "x": 0.09200000000000001,
                    "xanchor": "center",
                    "xref": "paper",
                    "y": 1,
                    "yanchor": "bottom",
                    "yref": "paper"
                  },
                  {
                    "font": {},
                    "showarrow": false,
                    "text": "Query",
                    "x": 0.29600000000000004,
                    "xanchor": "center",
                    "xref": "paper",
                    "y": 1,
                    "yanchor": "bottom",
                    "yref": "paper"
                  },
                  {
                    "font": {},
                    "showarrow": false,
                    "text": "Key",
                    "x": 0.5,
                    "xanchor": "center",
                    "xref": "paper",
                    "y": 1,
                    "yanchor": "bottom",
                    "yref": "paper"
                  },
                  {
                    "font": {},
                    "showarrow": false,
                    "text": "Value",
                    "x": 0.7040000000000002,
                    "xanchor": "center",
                    "xref": "paper",
                    "y": 1,
                    "yanchor": "bottom",
                    "yref": "paper"
                  },
                  {
                    "font": {},
                    "showarrow": false,
                    "text": "Pattern",
                    "x": 0.908,
                    "xanchor": "center",
                    "xref": "paper",
                    "y": 1,
                    "yanchor": "bottom",
                    "yref": "paper"
                  }
                ],
                "coloraxis": {
                  "cmid": 0,
                  "colorbar": {
                    "ticksuffix": "%",
                    "title": {
                      "text": "Logit diff variation"
                    }
                  },
                  "colorscale": [
                    [
                      0,
                      "rgb(103,0,31)"
                    ],
                    [
                      0.1,
                      "rgb(178,24,43)"
                    ],
                    [
                      0.2,
                      "rgb(214,96,77)"
                    ],
                    [
                      0.3,
                      "rgb(244,165,130)"
                    ],
                    [
                      0.4,
                      "rgb(253,219,199)"
                    ],
                    [
                      0.5,
                      "rgb(247,247,247)"
                    ],
                    [
                      0.6,
                      "rgb(209,229,240)"
                    ],
                    [
                      0.7,
                      "rgb(146,197,222)"
                    ],
                    [
                      0.8,
                      "rgb(67,147,195)"
                    ],
                    [
                      0.9,
                      "rgb(33,102,172)"
                    ],
                    [
                      1,
                      "rgb(5,48,97)"
                    ]
                  ]
                },
                "margin": {
                  "l": 100,
                  "r": 100
                },
                "template": {
                  "data": {
                    "bar": [
                      {
                        "error_x": {
                          "color": "#2a3f5f"
                        },
                        "error_y": {
                          "color": "#2a3f5f"
                        },
                        "marker": {
                          "line": {
                            "color": "#E5ECF6",
                            "width": 0.5
                          },
                          "pattern": {
                            "fillmode": "overlay",
                            "size": 10,
                            "solidity": 0.2
                          }
                        },
                        "type": "bar"
                      }
                    ],
                    "barpolar": [
                      {
                        "marker": {
                          "line": {
                            "color": "#E5ECF6",
                            "width": 0.5
                          },
                          "pattern": {
                            "fillmode": "overlay",
                            "size": 10,
                            "solidity": 0.2
                          }
                        },
                        "type": "barpolar"
                      }
                    ],
                    "carpet": [
                      {
                        "aaxis": {
                          "endlinecolor": "#2a3f5f",
                          "gridcolor": "white",
                          "linecolor": "white",
                          "minorgridcolor": "white",
                          "startlinecolor": "#2a3f5f"
                        },
                        "baxis": {
                          "endlinecolor": "#2a3f5f",
                          "gridcolor": "white",
                          "linecolor": "white",
                          "minorgridcolor": "white",
                          "startlinecolor": "#2a3f5f"
                        },
                        "type": "carpet"
                      }
                    ],
                    "choropleth": [
                      {
                        "colorbar": {
                          "outlinewidth": 0,
                          "ticks": ""
                        },
                        "type": "choropleth"
                      }
                    ],
                    "contour": [
                      {
                        "colorbar": {
                          "outlinewidth": 0,
                          "ticks": ""
                        },
                        "colorscale": [
                          [
                            0,
                            "#0d0887"
                          ],
                          [
                            0.1111111111111111,
                            "#46039f"
                          ],
                          [
                            0.2222222222222222,
                            "#7201a8"
                          ],
                          [
                            0.3333333333333333,
                            "#9c179e"
                          ],
                          [
                            0.4444444444444444,
                            "#bd3786"
                          ],
                          [
                            0.5555555555555556,
                            "#d8576b"
                          ],
                          [
                            0.6666666666666666,
                            "#ed7953"
                          ],
                          [
                            0.7777777777777778,
                            "#fb9f3a"
                          ],
                          [
                            0.8888888888888888,
                            "#fdca26"
                          ],
                          [
                            1,
                            "#f0f921"
                          ]
                        ],
                        "type": "contour"
                      }
                    ],
                    "contourcarpet": [
                      {
                        "colorbar": {
                          "outlinewidth": 0,
                          "ticks": ""
                        },
                        "type": "contourcarpet"
                      }
                    ],
                    "heatmap": [
                      {
                        "colorbar": {
                          "outlinewidth": 0,
                          "ticks": ""
                        },
                        "colorscale": [
                          [
                            0,
                            "#0d0887"
                          ],
                          [
                            0.1111111111111111,
                            "#46039f"
                          ],
                          [
                            0.2222222222222222,
                            "#7201a8"
                          ],
                          [
                            0.3333333333333333,
                            "#9c179e"
                          ],
                          [
                            0.4444444444444444,
                            "#bd3786"
                          ],
                          [
                            0.5555555555555556,
                            "#d8576b"
                          ],
                          [
                            0.6666666666666666,
                            "#ed7953"
                          ],
                          [
                            0.7777777777777778,
                            "#fb9f3a"
                          ],
                          [
                            0.8888888888888888,
                            "#fdca26"
                          ],
                          [
                            1,
                            "#f0f921"
                          ]
                        ],
                        "type": "heatmap"
                      }
                    ],
                    "heatmapgl": [
                      {
                        "colorbar": {
                          "outlinewidth": 0,
                          "ticks": ""
                        },
                        "colorscale": [
                          [
                            0,
                            "#0d0887"
                          ],
                          [
                            0.1111111111111111,
                            "#46039f"
                          ],
                          [
                            0.2222222222222222,
                            "#7201a8"
                          ],
                          [
                            0.3333333333333333,
                            "#9c179e"
                          ],
                          [
                            0.4444444444444444,
                            "#bd3786"
                          ],
                          [
                            0.5555555555555556,
                            "#d8576b"
                          ],
                          [
                            0.6666666666666666,
                            "#ed7953"
                          ],
                          [
                            0.7777777777777778,
                            "#fb9f3a"
                          ],
                          [
                            0.8888888888888888,
                            "#fdca26"
                          ],
                          [
                            1,
                            "#f0f921"
                          ]
                        ],
                        "type": "heatmapgl"
                      }
                    ],
                    "histogram": [
                      {
                        "marker": {
                          "pattern": {
                            "fillmode": "overlay",
                            "size": 10,
                            "solidity": 0.2
                          }
                        },
                        "type": "histogram"
                      }
                    ],
                    "histogram2d": [
                      {
                        "colorbar": {
                          "outlinewidth": 0,
                          "ticks": ""
                        },
                        "colorscale": [
                          [
                            0,
                            "#0d0887"
                          ],
                          [
                            0.1111111111111111,
                            "#46039f"
                          ],
                          [
                            0.2222222222222222,
                            "#7201a8"
                          ],
                          [
                            0.3333333333333333,
                            "#9c179e"
                          ],
                          [
                            0.4444444444444444,
                            "#bd3786"
                          ],
                          [
                            0.5555555555555556,
                            "#d8576b"
                          ],
                          [
                            0.6666666666666666,
                            "#ed7953"
                          ],
                          [
                            0.7777777777777778,
                            "#fb9f3a"
                          ],
                          [
                            0.8888888888888888,
                            "#fdca26"
                          ],
                          [
                            1,
                            "#f0f921"
                          ]
                        ],
                        "type": "histogram2d"
                      }
                    ],
                    "histogram2dcontour": [
                      {
                        "colorbar": {
                          "outlinewidth": 0,
                          "ticks": ""
                        },
                        "colorscale": [
                          [
                            0,
                            "#0d0887"
                          ],
                          [
                            0.1111111111111111,
                            "#46039f"
                          ],
                          [
                            0.2222222222222222,
                            "#7201a8"
                          ],
                          [
                            0.3333333333333333,
                            "#9c179e"
                          ],
                          [
                            0.4444444444444444,
                            "#bd3786"
                          ],
                          [
                            0.5555555555555556,
                            "#d8576b"
                          ],
                          [
                            0.6666666666666666,
                            "#ed7953"
                          ],
                          [
                            0.7777777777777778,
                            "#fb9f3a"
                          ],
                          [
                            0.8888888888888888,
                            "#fdca26"
                          ],
                          [
                            1,
                            "#f0f921"
                          ]
                        ],
                        "type": "histogram2dcontour"
                      }
                    ],
                    "mesh3d": [
                      {
                        "colorbar": {
                          "outlinewidth": 0,
                          "ticks": ""
                        },
                        "type": "mesh3d"
                      }
                    ],
                    "parcoords": [
                      {
                        "line": {
                          "colorbar": {
                            "outlinewidth": 0,
                            "ticks": ""
                          }
                        },
                        "type": "parcoords"
                      }
                    ],
                    "pie": [
                      {
                        "automargin": true,
                        "type": "pie"
                      }
                    ],
                    "scatter": [
                      {
                        "fillpattern": {
                          "fillmode": "overlay",
                          "size": 10,
                          "solidity": 0.2
                        },
                        "type": "scatter"
                      }
                    ],
                    "scatter3d": [
                      {
                        "line": {
                          "colorbar": {
                            "outlinewidth": 0,
                            "ticks": ""
                          }
                        },
                        "marker": {
                          "colorbar": {
                            "outlinewidth": 0,
                            "ticks": ""
                          }
                        },
                        "type": "scatter3d"
                      }
                    ],
                    "scattercarpet": [
                      {
                        "marker": {
                          "colorbar": {
                            "outlinewidth": 0,
                            "ticks": ""
                          }
                        },
                        "type": "scattercarpet"
                      }
                    ],
                    "scattergeo": [
                      {
                        "marker": {
                          "colorbar": {
                            "outlinewidth": 0,
                            "ticks": ""
                          }
                        },
                        "type": "scattergeo"
                      }
                    ],
                    "scattergl": [
                      {
                        "marker": {
                          "colorbar": {
                            "outlinewidth": 0,
                            "ticks": ""
                          }
                        },
                        "type": "scattergl"
                      }
                    ],
                    "scattermapbox": [
                      {
                        "marker": {
                          "colorbar": {
                            "outlinewidth": 0,
                            "ticks": ""
                          }
                        },
                        "type": "scattermapbox"
                      }
                    ],
                    "scatterpolar": [
                      {
                        "marker": {
                          "colorbar": {
                            "outlinewidth": 0,
                            "ticks": ""
                          }
                        },
                        "type": "scatterpolar"
                      }
                    ],
                    "scatterpolargl": [
                      {
                        "marker": {
                          "colorbar": {
                            "outlinewidth": 0,
                            "ticks": ""
                          }
                        },
                        "type": "scatterpolargl"
                      }
                    ],
                    "scatterternary": [
                      {
                        "marker": {
                          "colorbar": {
                            "outlinewidth": 0,
                            "ticks": ""
                          }
                        },
                        "type": "scatterternary"
                      }
                    ],
                    "surface": [
                      {
                        "colorbar": {
                          "outlinewidth": 0,
                          "ticks": ""
                        },
                        "colorscale": [
                          [
                            0,
                            "#0d0887"
                          ],
                          [
                            0.1111111111111111,
                            "#46039f"
                          ],
                          [
                            0.2222222222222222,
                            "#7201a8"
                          ],
                          [
                            0.3333333333333333,
                            "#9c179e"
                          ],
                          [
                            0.4444444444444444,
                            "#bd3786"
                          ],
                          [
                            0.5555555555555556,
                            "#d8576b"
                          ],
                          [
                            0.6666666666666666,
                            "#ed7953"
                          ],
                          [
                            0.7777777777777778,
                            "#fb9f3a"
                          ],
                          [
                            0.8888888888888888,
                            "#fdca26"
                          ],
                          [
                            1,
                            "#f0f921"
                          ]
                        ],
                        "type": "surface"
                      }
                    ],
                    "table": [
                      {
                        "cells": {
                          "fill": {
                            "color": "#EBF0F8"
                          },
                          "line": {
                            "color": "white"
                          }
                        },
                        "header": {
                          "fill": {
                            "color": "#C8D4E3"
                          },
                          "line": {
                            "color": "white"
                          }
                        },
                        "type": "table"
                      }
                    ]
                  },
                  "layout": {
                    "annotationdefaults": {
                      "arrowcolor": "#2a3f5f",
                      "arrowhead": 0,
                      "arrowwidth": 1
                    },
                    "autotypenumbers": "strict",
                    "coloraxis": {
                      "colorbar": {
                        "outlinewidth": 0,
                        "ticks": ""
                      }
                    },
                    "colorscale": {
                      "diverging": [
                        [
                          0,
                          "#8e0152"
                        ],
                        [
                          0.1,
                          "#c51b7d"
                        ],
                        [
                          0.2,
                          "#de77ae"
                        ],
                        [
                          0.3,
                          "#f1b6da"
                        ],
                        [
                          0.4,
                          "#fde0ef"
                        ],
                        [
                          0.5,
                          "#f7f7f7"
                        ],
                        [
                          0.6,
                          "#e6f5d0"
                        ],
                        [
                          0.7,
                          "#b8e186"
                        ],
                        [
                          0.8,
                          "#7fbc41"
                        ],
                        [
                          0.9,
                          "#4d9221"
                        ],
                        [
                          1,
                          "#276419"
                        ]
                      ],
                      "sequential": [
                        [
                          0,
                          "#0d0887"
                        ],
                        [
                          0.1111111111111111,
                          "#46039f"
                        ],
                        [
                          0.2222222222222222,
                          "#7201a8"
                        ],
                        [
                          0.3333333333333333,
                          "#9c179e"
                        ],
                        [
                          0.4444444444444444,
                          "#bd3786"
                        ],
                        [
                          0.5555555555555556,
                          "#d8576b"
                        ],
                        [
                          0.6666666666666666,
                          "#ed7953"
                        ],
                        [
                          0.7777777777777778,
                          "#fb9f3a"
                        ],
                        [
                          0.8888888888888888,
                          "#fdca26"
                        ],
                        [
                          1,
                          "#f0f921"
                        ]
                      ],
                      "sequentialminus": [
                        [
                          0,
                          "#0d0887"
                        ],
                        [
                          0.1111111111111111,
                          "#46039f"
                        ],
                        [
                          0.2222222222222222,
                          "#7201a8"
                        ],
                        [
                          0.3333333333333333,
                          "#9c179e"
                        ],
                        [
                          0.4444444444444444,
                          "#bd3786"
                        ],
                        [
                          0.5555555555555556,
                          "#d8576b"
                        ],
                        [
                          0.6666666666666666,
                          "#ed7953"
                        ],
                        [
                          0.7777777777777778,
                          "#fb9f3a"
                        ],
                        [
                          0.8888888888888888,
                          "#fdca26"
                        ],
                        [
                          1,
                          "#f0f921"
                        ]
                      ]
                    },
                    "colorway": [
                      "#636efa",
                      "#EF553B",
                      "#00cc96",
                      "#ab63fa",
                      "#FFA15A",
                      "#19d3f3",
                      "#FF6692",
                      "#B6E880",
                      "#FF97FF",
                      "#FECB52"
                    ],
                    "font": {
                      "color": "#2a3f5f"
                    },
                    "geo": {
                      "bgcolor": "white",
                      "lakecolor": "white",
                      "landcolor": "#E5ECF6",
                      "showlakes": true,
                      "showland": true,
                      "subunitcolor": "white"
                    },
                    "hoverlabel": {
                      "align": "left"
                    },
                    "hovermode": "closest",
                    "mapbox": {
                      "style": "light"
                    },
                    "paper_bgcolor": "white",
                    "plot_bgcolor": "#E5ECF6",
                    "polar": {
                      "angularaxis": {
                        "gridcolor": "white",
                        "linecolor": "white",
                        "ticks": ""
                      },
                      "bgcolor": "#E5ECF6",
                      "radialaxis": {
                        "gridcolor": "white",
                        "linecolor": "white",
                        "ticks": ""
                      }
                    },
                    "scene": {
                      "xaxis": {
                        "backgroundcolor": "#E5ECF6",
                        "gridcolor": "white",
                        "gridwidth": 2,
                        "linecolor": "white",
                        "showbackground": true,
                        "ticks": "",
                        "zerolinecolor": "white"
                      },
                      "yaxis": {
                        "backgroundcolor": "#E5ECF6",
                        "gridcolor": "white",
                        "gridwidth": 2,
                        "linecolor": "white",
                        "showbackground": true,
                        "ticks": "",
                        "zerolinecolor": "white"
                      },
                      "zaxis": {
                        "backgroundcolor": "#E5ECF6",
                        "gridcolor": "white",
                        "gridwidth": 2,
                        "linecolor": "white",
                        "showbackground": true,
                        "ticks": "",
                        "zerolinecolor": "white"
                      }
                    },
                    "shapedefaults": {
                      "line": {
                        "color": "#2a3f5f"
                      }
                    },
                    "ternary": {
                      "aaxis": {
                        "gridcolor": "white",
                        "linecolor": "white",
                        "ticks": ""
                      },
                      "baxis": {
                        "gridcolor": "white",
                        "linecolor": "white",
                        "ticks": ""
                      },
                      "bgcolor": "#E5ECF6",
                      "caxis": {
                        "gridcolor": "white",
                        "linecolor": "white",
                        "ticks": ""
                      }
                    },
                    "title": {
                      "x": 0.05
                    },
                    "xaxis": {
                      "automargin": true,
                      "gridcolor": "white",
                      "linecolor": "white",
                      "ticks": "",
                      "title": {
                        "standoff": 15
                      },
                      "zerolinecolor": "white",
                      "zerolinewidth": 2
                    },
                    "yaxis": {
                      "automargin": true,
                      "gridcolor": "white",
                      "linecolor": "white",
                      "ticks": "",
                      "title": {
                        "standoff": 15
                      },
                      "zerolinecolor": "white",
                      "zerolinewidth": 2
                    }
                  }
                },
                "title": {
                  "text": "Patching output of attention heads (corrupted -> clean)"
                },
                "width": 1500,
                "xaxis": {
                  "anchor": "y",
                  "constrain": "domain",
                  "domain": [
                    0,
                    0.18400000000000002
                  ],
                  "linecolor": "black",
                  "linewidth": 1,
                  "mirror": true,
                  "scaleanchor": "y",
                  "showline": true,
                  "title": {
                    "text": "Head"
                  }
                },
                "xaxis2": {
                  "anchor": "y2",
                  "domain": [
                    0.20400000000000001,
                    0.388
                  ],
                  "linecolor": "black",
                  "linewidth": 1,
                  "matches": "x",
                  "mirror": true,
                  "showline": true,
                  "title": {
                    "text": "Head"
                  }
                },
                "xaxis3": {
                  "anchor": "y3",
                  "domain": [
                    0.40800000000000003,
                    0.5920000000000001
                  ],
                  "linecolor": "black",
                  "linewidth": 1,
                  "matches": "x",
                  "mirror": true,
                  "showline": true,
                  "title": {
                    "text": "Head"
                  }
                },
                "xaxis4": {
                  "anchor": "y4",
                  "domain": [
                    0.6120000000000001,
                    0.7960000000000002
                  ],
                  "linecolor": "black",
                  "linewidth": 1,
                  "matches": "x",
                  "mirror": true,
                  "showline": true,
                  "title": {
                    "text": "Head"
                  }
                },
                "xaxis5": {
                  "anchor": "y5",
                  "domain": [
                    0.8160000000000001,
                    1
                  ],
                  "linecolor": "black",
                  "linewidth": 1,
                  "matches": "x",
                  "mirror": true,
                  "showline": true,
                  "title": {
                    "text": "Head"
                  }
                },
                "yaxis": {
                  "anchor": "x",
                  "autorange": "reversed",
                  "constrain": "domain",
                  "domain": [
                    0,
                    1
                  ],
                  "linecolor": "black",
                  "linewidth": 1,
                  "mirror": true,
                  "showline": true,
                  "title": {
                    "text": "Layer"
                  }
                },
                "yaxis2": {
                  "anchor": "x2",
                  "domain": [
                    0,
                    1
                  ],
                  "linecolor": "black",
                  "linewidth": 1,
                  "matches": "y",
                  "mirror": true,
                  "showline": true,
                  "showticklabels": false
                },
                "yaxis3": {
                  "anchor": "x3",
                  "domain": [
                    0,
                    1
                  ],
                  "linecolor": "black",
                  "linewidth": 1,
                  "matches": "y",
                  "mirror": true,
                  "showline": true,
                  "showticklabels": false
                },
                "yaxis4": {
                  "anchor": "x4",
                  "domain": [
                    0,
                    1
                  ],
                  "linecolor": "black",
                  "linewidth": 1,
                  "matches": "y",
                  "mirror": true,
                  "showline": true,
                  "showticklabels": false
                },
                "yaxis5": {
                  "anchor": "x5",
                  "domain": [
                    0,
                    1
                  ],
                  "linecolor": "black",
                  "linewidth": 1,
                  "matches": "y",
                  "mirror": true,
                  "showline": true,
                  "showticklabels": false
                }
              }
            }
          },
          "metadata": {},
          "output_type": "display_data"
        }
      ],
      "source": [
        "assert results.keys() == {\"z\", \"q\", \"k\", \"v\", \"pattern\"}\n",
        "assert all([r.shape == (12, 12) for r in results.values()])\n",
        "\n",
        "imshow_p(\n",
        "    torch.stack(tuple(results.values())) * 100,\n",
        "    facet_col=0,\n",
        "    facet_labels=[\"Output\", \"Query\", \"Key\", \"Value\", \"Pattern\"],\n",
        "    title=\"Patching output of attention heads (corrupted -> clean)\",\n",
        "    labels={\"x\": \"Head\", \"y\": \"Layer\", \"color\": \"Logit diff variation\"},\n",
        "    coloraxis=dict(colorbar_ticksuffix = \"%\"),\n",
        "    border=True,\n",
        "    width=1500,\n",
        "    margin={\"r\": 100, \"l\": 100}\n",
        ")"
      ]
    },
    {
      "attachments": {},
      "cell_type": "markdown",
      "metadata": {},
      "source": [
        "#### Residual Stream & Layer Outputs"
      ]
    },
    {
      "cell_type": "code",
      "execution_count": 27,
      "metadata": {},
      "outputs": [
        {
          "data": {
            "application/vnd.jupyter.widget-view+json": {
              "model_id": "25762c4b9c6b4b27847da1da40347f39",
              "version_major": 2,
              "version_minor": 0
            },
            "text/plain": [
              "  0%|          | 0/684 [00:00<?, ?it/s]"
            ]
          },
          "metadata": {},
          "output_type": "display_data"
        },
        {
          "name": "stdout",
          "output_type": "stream",
          "text": [
            "results['resid_pre'].shape = (seq_pos=19, layer=12)\n",
            "results['attn_out'].shape = (seq_pos=19, layer=12)\n",
            "results['mlp_out'].shape = (seq_pos=19, layer=12)\n"
          ]
        }
      ],
      "source": [
        "# patching at each (layer, sequence position) for each of (resid_pre, attn_out, mlp_out) in turn\n",
        "\n",
        "results = act_patch(\n",
        "    model=model,\n",
        "    orig_input=corrupted_tokens,\n",
        "    new_cache=clean_cache,\n",
        "    patching_nodes=IterNode([\"resid_pre\", \"attn_out\", \"mlp_out\"], seq_pos=\"each\"),\n",
        "    patching_metric=logit_diff_denoising,\n",
        "    verbose=True,\n",
        ")"
      ]
    },
    {
      "cell_type": "code",
      "execution_count": 28,
      "metadata": {},
      "outputs": [
        {
          "data": {
            "application/vnd.plotly.v1+json": {
              "config": {
                "plotlyServerURL": "https://plot.ly"
              },
              "data": [
                {
                  "coloraxis": "coloraxis",
                  "hovertemplate": "Sequence position: %{x}<br>Layer: %{y}<br>Logit diff variation: %{z}<extra></extra>",
                  "name": "0",
                  "type": "heatmap",
                  "x": [
                    "<|endoftext|> 0",
                    "I 1",
                    " thought 2",
                    " this 3",
                    " movie 4",
                    " was 5",
                    " perfect 6",
                    ", 7",
                    " I 8",
                    " loved 9",
                    " it 10",
                    ". 11",
                    "  12",
                    "\n 13",
                    "Conclusion 14",
                    ": 15",
                    " This 16",
                    " movie 17",
                    " is 18"
                  ],
                  "xaxis": "x",
                  "yaxis": "y",
                  "z": [
                    [
                      0,
                      0,
                      0,
                      0,
                      0,
                      0,
                      70.42769622802734,
                      0,
                      0,
                      29.572301864624023,
                      0,
                      0,
                      0,
                      0,
                      0,
                      0,
                      0,
                      0,
                      0
                    ],
                    [
                      0,
                      0,
                      0,
                      0,
                      0,
                      0,
                      69.75016784667969,
                      -0.01504840049892664,
                      0.02841971069574356,
                      28.653339385986328,
                      0.09560925513505936,
                      0.16588053107261658,
                      0.0023007008712738752,
                      0.22192983329296112,
                      0.6906129121780396,
                      0.11196542531251907,
                      0.08693622052669525,
                      0.12446186691522598,
                      0.12029033154249191
                    ],
                    [
                      0,
                      0,
                      0,
                      0,
                      0,
                      0,
                      69.96678161621094,
                      -0.03280315175652504,
                      -0.010347099043428898,
                      28.446983337402344,
                      0.023815281689167023,
                      0.020143240690231323,
                      0.0025428798981010914,
                      0.22992780804634094,
                      0.2326190173625946,
                      0.24795199930667877,
                      0.22807817161083221,
                      0.32575199007987976,
                      0.3856489062309265
                    ],
                    [
                      0,
                      0,
                      0,
                      0,
                      0,
                      0,
                      69.66339111328125,
                      0.011291597969830036,
                      -0.09242157638072968,
                      26.58677101135254,
                      0.34526559710502625,
                      0.018405606970191002,
                      0.03621182218194008,
                      0.30351391434669495,
                      0.22220835089683533,
                      0.4122946858406067,
                      0.4959251880645752,
                      0.558855414390564,
                      0.6925805807113647
                    ],
                    [
                      0,
                      0,
                      0,
                      0,
                      0,
                      0,
                      69.2944564819336,
                      0.2619347870349884,
                      -0.08711482584476471,
                      21.04999542236328,
                      1.3490886688232422,
                      0.4366942346096039,
                      -0.04360736161470413,
                      0.4869736135005951,
                      0.3144482970237732,
                      0.33432209491729736,
                      0.4600675404071808,
                      0.6428370475769043,
                      1.2411584854125977
                    ],
                    [
                      0,
                      0,
                      0,
                      0,
                      0,
                      0,
                      68.1064224243164,
                      1.1991162300109863,
                      -0.250718891620636,
                      16.931175231933594,
                      3.2727227210998535,
                      1.9897127151489258,
                      -0.07276874780654907,
                      0.6947935223579407,
                      0.47649329900741577,
                      0.44967198371887207,
                      0.6075787544250488,
                      0.7385038137435913,
                      2.2205820083618164
                    ],
                    [
                      0,
                      0,
                      0,
                      0,
                      0,
                      0,
                      66.74658966064453,
                      2.1869280338287354,
                      0.054015010595321655,
                      14.468647956848145,
                      4.257204532623291,
                      3.6689395904541016,
                      -0.047140151262283325,
                      0.44783446192741394,
                      -0.2253354787826538,
                      -0.0031029190868139267,
                      0.8398527503013611,
                      1.2232766151428223,
                      5.086177825927734
                    ],
                    [
                      0,
                      0,
                      0,
                      0,
                      0,
                      0,
                      58.182865142822266,
                      2.906651020050049,
                      0.3273564279079437,
                      10.240813255310059,
                      4.565840721130371,
                      6.079644203186035,
                      -0.07067087292671204,
                      1.7590734958648682,
                      1.147925615310669,
                      4.627696514129639,
                      2.245039224624634,
                      4.461976051330566,
                      10.046640396118164
                    ],
                    [
                      0,
                      0,
                      0,
                      0,
                      0,
                      0,
                      47.09553527832031,
                      1.1113141775131226,
                      0.3467973470687866,
                      9.137551307678223,
                      2.2755777835845947,
                      1.6060223579406738,
                      0.025047367438673973,
                      0.5328726172447205,
                      0.38622409105300903,
                      3.0632591247558594,
                      6.051121711730957,
                      14.040289878845215,
                      19.974428176879883
                    ],
                    [
                      0,
                      0,
                      0,
                      0,
                      0,
                      0,
                      47.29212951660156,
                      1.2699717283248901,
                      0.2955280542373657,
                      7.763028144836426,
                      2.0629537105560303,
                      1.8884848356246948,
                      0.06117139756679535,
                      0.22969168424606323,
                      0.1760399490594864,
                      1.6800261735916138,
                      1.8359078168869019,
                      7.286667823791504,
                      30.05588722229004
                    ],
                    [
                      0,
                      0,
                      0,
                      0,
                      0,
                      0,
                      36.56119918823242,
                      1.2495651245117188,
                      0.24325673282146454,
                      6.335418701171875,
                      1.243383526802063,
                      0.8928929567337036,
                      0.05376071855425835,
                      0.0758928507566452,
                      0.04573551192879677,
                      0.7228862643241882,
                      0.9078686833381653,
                      1.4282841682434082,
                      50.96430206298828
                    ],
                    [
                      0,
                      0,
                      0,
                      0,
                      0,
                      0,
                      3.766017436981201,
                      0.9601763486862183,
                      0.1361560821533203,
                      0.5908169746398926,
                      0.6017937064170837,
                      0.8149930238723755,
                      0.09491601586341858,
                      0.0723358541727066,
                      0.10002599656581879,
                      0.9842156171798706,
                      1.2333935499191284,
                      1.090247631072998,
                      89.70306396484375
                    ]
                  ]
                },
                {
                  "coloraxis": "coloraxis",
                  "hovertemplate": "Sequence position: %{x}<br>Layer: %{y}<br>Logit diff variation: %{z}<extra></extra>",
                  "name": "1",
                  "type": "heatmap",
                  "x": [
                    "<|endoftext|> 0",
                    "I 1",
                    " thought 2",
                    " this 3",
                    " movie 4",
                    " was 5",
                    " perfect 6",
                    ", 7",
                    " I 8",
                    " loved 9",
                    " it 10",
                    ". 11",
                    "  12",
                    "\n 13",
                    "Conclusion 14",
                    ": 15",
                    " This 16",
                    " movie 17",
                    " is 18"
                  ],
                  "xaxis": "x2",
                  "yaxis": "y2",
                  "z": [
                    [
                      0,
                      0,
                      0,
                      0,
                      0,
                      0,
                      6.323137283325195,
                      -0.01504840049892664,
                      0.02841971069574356,
                      1.7356607913970947,
                      0.09560925513505936,
                      0.16588053107261658,
                      0.0023007008712738752,
                      0.22192983329296112,
                      0.6906129121780396,
                      0.11196542531251907,
                      0.08693622052669525,
                      0.12446186691522598,
                      0.12029033154249191
                    ],
                    [
                      0,
                      0,
                      0,
                      0,
                      0,
                      0,
                      -0.12292099744081497,
                      -0.010864757932722569,
                      0.0021251211874186993,
                      -0.10746998339891434,
                      -0.03601202368736267,
                      -0.07558710873126984,
                      0.04139142483472824,
                      0.05726929008960724,
                      -0.3209235668182373,
                      0.12336297333240509,
                      0.12352947145700455,
                      0.17081493139266968,
                      0.12778879702091217
                    ],
                    [
                      0,
                      0,
                      0,
                      0,
                      0,
                      0,
                      0.10063143819570541,
                      0.03948426619172096,
                      -0.06402003020048141,
                      0.07156087458133698,
                      0.24930213391780853,
                      -0.08165065944194794,
                      0.007919254712760448,
                      0.07046198844909668,
                      -0.14942748844623566,
                      0.14238311350345612,
                      0.231453537940979,
                      0.215745210647583,
                      0.2885200083255768
                    ],
                    [
                      0,
                      0,
                      0,
                      0,
                      0,
                      0,
                      1.02578866481781,
                      0.1578068882226944,
                      -0.01836322620511055,
                      0.14844970405101776,
                      0.8512139320373535,
                      -0.09164660423994064,
                      -0.03616338595747948,
                      0.14364244043827057,
                      -0.11046391725540161,
                      -0.025271382182836533,
                      0.003684148658066988,
                      0.08892209082841873,
                      0.5298332571983337
                    ],
                    [
                      0,
                      0,
                      0,
                      0,
                      0,
                      0,
                      0.008618546649813652,
                      0.08125711977481842,
                      -0.09256990998983383,
                      -0.1506868302822113,
                      0.6985836029052734,
                      -0.1445324569940567,
                      0.0035055414773523808,
                      0.13660411536693573,
                      0.021148284897208214,
                      0.1479078233242035,
                      0.10720963031053543,
                      0.1557846963405609,
                      0.9498624801635742
                    ],
                    [
                      0,
                      0,
                      0,
                      0,
                      0,
                      0,
                      0.19166351854801178,
                      -0.05795344337821007,
                      0.02401810698211193,
                      -0.3975096642971039,
                      0.2213909924030304,
                      -0.30711328983306885,
                      -0.031928278505802155,
                      -0.2498985081911087,
                      -0.7296127676963806,
                      -0.4808858633041382,
                      0.14473527669906616,
                      0.5866211652755737,
                      2.705584764480591
                    ],
                    [
                      0,
                      0,
                      0,
                      0,
                      0,
                      0,
                      -0.301518976688385,
                      1.5581557750701904,
                      0.2689701020717621,
                      -0.2901274561882019,
                      0.3557640314102173,
                      2.8914966583251953,
                      -0.05049735680222511,
                      1.4508734941482544,
                      0.8726588487625122,
                      4.196980953216553,
                      1.2066298723220825,
                      3.2268450260162354,
                      4.767714977264404
                    ],
                    [
                      0,
                      0,
                      0,
                      0,
                      0,
                      0,
                      0.1688290685415268,
                      0.010120056569576263,
                      0.05369109660387039,
                      0.12576963007450104,
                      0.1651691198348999,
                      0.07847508788108826,
                      -0.004092826042324305,
                      0.13311068713665009,
                      -0.12003906071186066,
                      1.3764851093292236,
                      4.714602470397949,
                      11.555951118469238,
                      11.781147956848145
                    ],
                    [
                      0,
                      0,
                      0,
                      0,
                      0,
                      0,
                      0.6121711134910583,
                      0.04774559661746025,
                      0.08963348716497421,
                      0.02619771659374237,
                      0.29520413279533386,
                      0.3012162446975708,
                      0.019967662170529366,
                      0.050845492631196976,
                      0.06666583567857742,
                      0.28560778498649597,
                      0.20350304245948792,
                      1.07755446434021,
                      11.760795593261719
                    ],
                    [
                      0,
                      0,
                      0,
                      0,
                      0,
                      0,
                      -0.056397441774606705,
                      0.27980759739875793,
                      0.07782423496246338,
                      0.22875626385211945,
                      0.17763227224349976,
                      0.028967639431357384,
                      0.009847605600953102,
                      0.0009021168807521462,
                      0.019916199147701263,
                      0.272045761346817,
                      0.2584141194820404,
                      0.3331596553325653,
                      21.154205322265625
                    ],
                    [
                      0,
                      0,
                      0,
                      0,
                      0,
                      0,
                      0.16831746697425842,
                      0.3847861588001251,
                      0.03496459871530533,
                      0.08741755038499832,
                      0.2612052261829376,
                      0.20002779364585876,
                      0.05086062476038933,
                      0.03534300625324249,
                      0.05146607384085655,
                      0.5101349949836731,
                      0.6803717613220215,
                      0.5787655115127563,
                      36.417572021484375
                    ],
                    [
                      0,
                      0,
                      0,
                      0,
                      0,
                      0,
                      0,
                      0,
                      0,
                      0,
                      0,
                      0,
                      0,
                      0,
                      0,
                      0,
                      0,
                      0,
                      9.854843139648438
                    ]
                  ]
                },
                {
                  "coloraxis": "coloraxis",
                  "hovertemplate": "Sequence position: %{x}<br>Layer: %{y}<br>Logit diff variation: %{z}<extra></extra>",
                  "name": "2",
                  "type": "heatmap",
                  "x": [
                    "<|endoftext|> 0",
                    "I 1",
                    " thought 2",
                    " this 3",
                    " movie 4",
                    " was 5",
                    " perfect 6",
                    ", 7",
                    " I 8",
                    " loved 9",
                    " it 10",
                    ". 11",
                    "  12",
                    "\n 13",
                    "Conclusion 14",
                    ": 15",
                    " This 16",
                    " movie 17",
                    " is 18"
                  ],
                  "xaxis": "x3",
                  "yaxis": "y3",
                  "z": [
                    [
                      0,
                      0,
                      0,
                      0,
                      0,
                      0,
                      65.98838806152344,
                      -0.02305544540286064,
                      0.018738603219389915,
                      19.835596084594727,
                      0.04708263278007507,
                      0.11669699847698212,
                      -0.00290312129072845,
                      0.2032306045293808,
                      0.42406460642814636,
                      0.010207845829427242,
                      -0.01563568413257599,
                      -0.01593235321342945,
                      -0.08592209964990616
                    ],
                    [
                      0,
                      0,
                      0,
                      0,
                      0,
                      0,
                      4.254825592041016,
                      -0.011400578543543816,
                      -0.009829442016780376,
                      0.3222948908805847,
                      -0.0488777831196785,
                      0.13282006978988647,
                      0.021889958530664444,
                      -0.11680900305509567,
                      0.35893961787223816,
                      -0.05924002081155777,
                      -0.06189187988638878,
                      -0.07873845845460892,
                      -0.22460289299488068
                    ],
                    [
                      0,
                      0,
                      0,
                      0,
                      0,
                      0,
                      0.1367161124944687,
                      0.10213295370340347,
                      -0.030457042157649994,
                      0.0026034247130155563,
                      -0.10368289798498154,
                      0.10237513482570648,
                      0.027977732941508293,
                      0.04650745913386345,
                      -0.05459018424153328,
                      -0.037813231348991394,
                      -0.07804825156927109,
                      0.05968199670314789,
                      -0.3305501639842987
                    ],
                    [
                      0,
                      0,
                      0,
                      0,
                      0,
                      0,
                      4.97272253036499,
                      -0.12671412527561188,
                      -0.01004437543451786,
                      1.4267947673797607,
                      0.1997946798801422,
                      -0.5905112028121948,
                      -0.004247214645147324,
                      -0.18045365810394287,
                      0.11154160648584366,
                      0.20884916186332703,
                      -0.02838943898677826,
                      0.10283225029706955,
                      -0.11224695295095444
                    ],
                    [
                      0,
                      0,
                      0,
                      0,
                      0,
                      0,
                      0.9662610292434692,
                      -0.02009177766740322,
                      0.03912099450826645,
                      0.19028310477733612,
                      -0.07613806426525116,
                      -0.24233344197273254,
                      0.04311997815966606,
                      0.3697347342967987,
                      -0.18185527622699738,
                      -0.23184707760810852,
                      0.02746613137423992,
                      -0.2215968370437622,
                      -0.37569233775138855
                    ],
                    [
                      0,
                      0,
                      0,
                      0,
                      0,
                      0,
                      7.935698509216309,
                      0.600201427936554,
                      0.08730857074260712,
                      1.3614487648010254,
                      0.9546879529953003,
                      1.5979154109954834,
                      0.1053660437464714,
                      0.4997727870941162,
                      0.18114688992500305,
                      -0.32052093744277954,
                      -0.21474619209766388,
                      -0.5989874601364136,
                      -0.5084215998649597
                    ],
                    [
                      0,
                      0,
                      0,
                      0,
                      0,
                      0,
                      2.0796396732330322,
                      0.6406543850898743,
                      0.18247584998607635,
                      0.3319517970085144,
                      -0.045142173767089844,
                      2.3585996627807617,
                      0.010446998290717602,
                      1.1821757555007935,
                      0.869465172290802,
                      4.195539951324463,
                      0.9294801354408264,
                      -0.7370598316192627,
                      1.622750997543335
                    ],
                    [
                      0,
                      0,
                      0,
                      0,
                      0,
                      0,
                      0.6507925987243652,
                      0.07584744691848755,
                      0.038803137838840485,
                      -0.4071423411369324,
                      -0.14494416117668152,
                      0.06402910500764847,
                      -0.07133686542510986,
                      0.22073711454868317,
                      0.4442199170589447,
                      1.0492619276046753,
                      2.2584314346313477,
                      2.642312526702881,
                      4.005378246307373
                    ],
                    [
                      0,
                      0,
                      0,
                      0,
                      0,
                      0,
                      0.8245106935501099,
                      0.28281062841415405,
                      0.09680501371622086,
                      0.1812346875667572,
                      0.037113938480615616,
                      -0.0857132151722908,
                      -0.0013319847639650106,
                      -0.025316789746284485,
                      -0.01668613590300083,
                      0.801694393157959,
                      0.31138473749160767,
                      2.209351062774658,
                      11.243213653564453
                    ],
                    [
                      0,
                      0,
                      0,
                      0,
                      0,
                      0,
                      1.5776602029800415,
                      0.16842038929462433,
                      0.004625619854778051,
                      0.23813766241073608,
                      0.04554479569196701,
                      0.06963858008384705,
                      -0.004631674382835627,
                      -0.033136144280433655,
                      -0.002191720297560096,
                      0.15370801091194153,
                      0.14109955728054047,
                      0.04728242754936218,
                      3.1632728576660156
                    ],
                    [
                      0,
                      0,
                      0,
                      0,
                      0,
                      0,
                      -0.3292696475982666,
                      -0.13426406681537628,
                      -0.016513582319021225,
                      -0.09038424491882324,
                      -0.21862411499023438,
                      0.03597569465637207,
                      0.025592269375920296,
                      0.018723467364907265,
                      0.005673044361174107,
                      0.0015499457949772477,
                      0.05004327371716499,
                      -0.09161330759525299,
                      -4.112929344177246
                    ],
                    [
                      0,
                      0,
                      0,
                      0,
                      0,
                      0,
                      0,
                      0,
                      0,
                      0,
                      0,
                      0,
                      0,
                      0,
                      0,
                      0,
                      0,
                      0,
                      -11.90542221069336
                    ]
                  ]
                }
              ],
              "layout": {
                "annotations": [
                  {
                    "font": {},
                    "showarrow": false,
                    "text": "resid_pre",
                    "x": 0.15999999999999998,
                    "xanchor": "center",
                    "xref": "paper",
                    "y": 1,
                    "yanchor": "bottom",
                    "yref": "paper"
                  },
                  {
                    "font": {},
                    "showarrow": false,
                    "text": "attn_out",
                    "x": 0.49999999999999994,
                    "xanchor": "center",
                    "xref": "paper",
                    "y": 1,
                    "yanchor": "bottom",
                    "yref": "paper"
                  },
                  {
                    "font": {},
                    "showarrow": false,
                    "text": "mlp_out",
                    "x": 0.8399999999999999,
                    "xanchor": "center",
                    "xref": "paper",
                    "y": 1,
                    "yanchor": "bottom",
                    "yref": "paper"
                  }
                ],
                "coloraxis": {
                  "cmid": 0,
                  "colorbar": {
                    "ticksuffix": "%",
                    "title": {
                      "text": "Logit diff variation"
                    }
                  },
                  "colorscale": [
                    [
                      0,
                      "rgb(103,0,31)"
                    ],
                    [
                      0.1,
                      "rgb(178,24,43)"
                    ],
                    [
                      0.2,
                      "rgb(214,96,77)"
                    ],
                    [
                      0.3,
                      "rgb(244,165,130)"
                    ],
                    [
                      0.4,
                      "rgb(253,219,199)"
                    ],
                    [
                      0.5,
                      "rgb(247,247,247)"
                    ],
                    [
                      0.6,
                      "rgb(209,229,240)"
                    ],
                    [
                      0.7,
                      "rgb(146,197,222)"
                    ],
                    [
                      0.8,
                      "rgb(67,147,195)"
                    ],
                    [
                      0.9,
                      "rgb(33,102,172)"
                    ],
                    [
                      1,
                      "rgb(5,48,97)"
                    ]
                  ]
                },
                "margin": {
                  "l": 100,
                  "r": 100
                },
                "template": {
                  "data": {
                    "bar": [
                      {
                        "error_x": {
                          "color": "#2a3f5f"
                        },
                        "error_y": {
                          "color": "#2a3f5f"
                        },
                        "marker": {
                          "line": {
                            "color": "#E5ECF6",
                            "width": 0.5
                          },
                          "pattern": {
                            "fillmode": "overlay",
                            "size": 10,
                            "solidity": 0.2
                          }
                        },
                        "type": "bar"
                      }
                    ],
                    "barpolar": [
                      {
                        "marker": {
                          "line": {
                            "color": "#E5ECF6",
                            "width": 0.5
                          },
                          "pattern": {
                            "fillmode": "overlay",
                            "size": 10,
                            "solidity": 0.2
                          }
                        },
                        "type": "barpolar"
                      }
                    ],
                    "carpet": [
                      {
                        "aaxis": {
                          "endlinecolor": "#2a3f5f",
                          "gridcolor": "white",
                          "linecolor": "white",
                          "minorgridcolor": "white",
                          "startlinecolor": "#2a3f5f"
                        },
                        "baxis": {
                          "endlinecolor": "#2a3f5f",
                          "gridcolor": "white",
                          "linecolor": "white",
                          "minorgridcolor": "white",
                          "startlinecolor": "#2a3f5f"
                        },
                        "type": "carpet"
                      }
                    ],
                    "choropleth": [
                      {
                        "colorbar": {
                          "outlinewidth": 0,
                          "ticks": ""
                        },
                        "type": "choropleth"
                      }
                    ],
                    "contour": [
                      {
                        "colorbar": {
                          "outlinewidth": 0,
                          "ticks": ""
                        },
                        "colorscale": [
                          [
                            0,
                            "#0d0887"
                          ],
                          [
                            0.1111111111111111,
                            "#46039f"
                          ],
                          [
                            0.2222222222222222,
                            "#7201a8"
                          ],
                          [
                            0.3333333333333333,
                            "#9c179e"
                          ],
                          [
                            0.4444444444444444,
                            "#bd3786"
                          ],
                          [
                            0.5555555555555556,
                            "#d8576b"
                          ],
                          [
                            0.6666666666666666,
                            "#ed7953"
                          ],
                          [
                            0.7777777777777778,
                            "#fb9f3a"
                          ],
                          [
                            0.8888888888888888,
                            "#fdca26"
                          ],
                          [
                            1,
                            "#f0f921"
                          ]
                        ],
                        "type": "contour"
                      }
                    ],
                    "contourcarpet": [
                      {
                        "colorbar": {
                          "outlinewidth": 0,
                          "ticks": ""
                        },
                        "type": "contourcarpet"
                      }
                    ],
                    "heatmap": [
                      {
                        "colorbar": {
                          "outlinewidth": 0,
                          "ticks": ""
                        },
                        "colorscale": [
                          [
                            0,
                            "#0d0887"
                          ],
                          [
                            0.1111111111111111,
                            "#46039f"
                          ],
                          [
                            0.2222222222222222,
                            "#7201a8"
                          ],
                          [
                            0.3333333333333333,
                            "#9c179e"
                          ],
                          [
                            0.4444444444444444,
                            "#bd3786"
                          ],
                          [
                            0.5555555555555556,
                            "#d8576b"
                          ],
                          [
                            0.6666666666666666,
                            "#ed7953"
                          ],
                          [
                            0.7777777777777778,
                            "#fb9f3a"
                          ],
                          [
                            0.8888888888888888,
                            "#fdca26"
                          ],
                          [
                            1,
                            "#f0f921"
                          ]
                        ],
                        "type": "heatmap"
                      }
                    ],
                    "heatmapgl": [
                      {
                        "colorbar": {
                          "outlinewidth": 0,
                          "ticks": ""
                        },
                        "colorscale": [
                          [
                            0,
                            "#0d0887"
                          ],
                          [
                            0.1111111111111111,
                            "#46039f"
                          ],
                          [
                            0.2222222222222222,
                            "#7201a8"
                          ],
                          [
                            0.3333333333333333,
                            "#9c179e"
                          ],
                          [
                            0.4444444444444444,
                            "#bd3786"
                          ],
                          [
                            0.5555555555555556,
                            "#d8576b"
                          ],
                          [
                            0.6666666666666666,
                            "#ed7953"
                          ],
                          [
                            0.7777777777777778,
                            "#fb9f3a"
                          ],
                          [
                            0.8888888888888888,
                            "#fdca26"
                          ],
                          [
                            1,
                            "#f0f921"
                          ]
                        ],
                        "type": "heatmapgl"
                      }
                    ],
                    "histogram": [
                      {
                        "marker": {
                          "pattern": {
                            "fillmode": "overlay",
                            "size": 10,
                            "solidity": 0.2
                          }
                        },
                        "type": "histogram"
                      }
                    ],
                    "histogram2d": [
                      {
                        "colorbar": {
                          "outlinewidth": 0,
                          "ticks": ""
                        },
                        "colorscale": [
                          [
                            0,
                            "#0d0887"
                          ],
                          [
                            0.1111111111111111,
                            "#46039f"
                          ],
                          [
                            0.2222222222222222,
                            "#7201a8"
                          ],
                          [
                            0.3333333333333333,
                            "#9c179e"
                          ],
                          [
                            0.4444444444444444,
                            "#bd3786"
                          ],
                          [
                            0.5555555555555556,
                            "#d8576b"
                          ],
                          [
                            0.6666666666666666,
                            "#ed7953"
                          ],
                          [
                            0.7777777777777778,
                            "#fb9f3a"
                          ],
                          [
                            0.8888888888888888,
                            "#fdca26"
                          ],
                          [
                            1,
                            "#f0f921"
                          ]
                        ],
                        "type": "histogram2d"
                      }
                    ],
                    "histogram2dcontour": [
                      {
                        "colorbar": {
                          "outlinewidth": 0,
                          "ticks": ""
                        },
                        "colorscale": [
                          [
                            0,
                            "#0d0887"
                          ],
                          [
                            0.1111111111111111,
                            "#46039f"
                          ],
                          [
                            0.2222222222222222,
                            "#7201a8"
                          ],
                          [
                            0.3333333333333333,
                            "#9c179e"
                          ],
                          [
                            0.4444444444444444,
                            "#bd3786"
                          ],
                          [
                            0.5555555555555556,
                            "#d8576b"
                          ],
                          [
                            0.6666666666666666,
                            "#ed7953"
                          ],
                          [
                            0.7777777777777778,
                            "#fb9f3a"
                          ],
                          [
                            0.8888888888888888,
                            "#fdca26"
                          ],
                          [
                            1,
                            "#f0f921"
                          ]
                        ],
                        "type": "histogram2dcontour"
                      }
                    ],
                    "mesh3d": [
                      {
                        "colorbar": {
                          "outlinewidth": 0,
                          "ticks": ""
                        },
                        "type": "mesh3d"
                      }
                    ],
                    "parcoords": [
                      {
                        "line": {
                          "colorbar": {
                            "outlinewidth": 0,
                            "ticks": ""
                          }
                        },
                        "type": "parcoords"
                      }
                    ],
                    "pie": [
                      {
                        "automargin": true,
                        "type": "pie"
                      }
                    ],
                    "scatter": [
                      {
                        "fillpattern": {
                          "fillmode": "overlay",
                          "size": 10,
                          "solidity": 0.2
                        },
                        "type": "scatter"
                      }
                    ],
                    "scatter3d": [
                      {
                        "line": {
                          "colorbar": {
                            "outlinewidth": 0,
                            "ticks": ""
                          }
                        },
                        "marker": {
                          "colorbar": {
                            "outlinewidth": 0,
                            "ticks": ""
                          }
                        },
                        "type": "scatter3d"
                      }
                    ],
                    "scattercarpet": [
                      {
                        "marker": {
                          "colorbar": {
                            "outlinewidth": 0,
                            "ticks": ""
                          }
                        },
                        "type": "scattercarpet"
                      }
                    ],
                    "scattergeo": [
                      {
                        "marker": {
                          "colorbar": {
                            "outlinewidth": 0,
                            "ticks": ""
                          }
                        },
                        "type": "scattergeo"
                      }
                    ],
                    "scattergl": [
                      {
                        "marker": {
                          "colorbar": {
                            "outlinewidth": 0,
                            "ticks": ""
                          }
                        },
                        "type": "scattergl"
                      }
                    ],
                    "scattermapbox": [
                      {
                        "marker": {
                          "colorbar": {
                            "outlinewidth": 0,
                            "ticks": ""
                          }
                        },
                        "type": "scattermapbox"
                      }
                    ],
                    "scatterpolar": [
                      {
                        "marker": {
                          "colorbar": {
                            "outlinewidth": 0,
                            "ticks": ""
                          }
                        },
                        "type": "scatterpolar"
                      }
                    ],
                    "scatterpolargl": [
                      {
                        "marker": {
                          "colorbar": {
                            "outlinewidth": 0,
                            "ticks": ""
                          }
                        },
                        "type": "scatterpolargl"
                      }
                    ],
                    "scatterternary": [
                      {
                        "marker": {
                          "colorbar": {
                            "outlinewidth": 0,
                            "ticks": ""
                          }
                        },
                        "type": "scatterternary"
                      }
                    ],
                    "surface": [
                      {
                        "colorbar": {
                          "outlinewidth": 0,
                          "ticks": ""
                        },
                        "colorscale": [
                          [
                            0,
                            "#0d0887"
                          ],
                          [
                            0.1111111111111111,
                            "#46039f"
                          ],
                          [
                            0.2222222222222222,
                            "#7201a8"
                          ],
                          [
                            0.3333333333333333,
                            "#9c179e"
                          ],
                          [
                            0.4444444444444444,
                            "#bd3786"
                          ],
                          [
                            0.5555555555555556,
                            "#d8576b"
                          ],
                          [
                            0.6666666666666666,
                            "#ed7953"
                          ],
                          [
                            0.7777777777777778,
                            "#fb9f3a"
                          ],
                          [
                            0.8888888888888888,
                            "#fdca26"
                          ],
                          [
                            1,
                            "#f0f921"
                          ]
                        ],
                        "type": "surface"
                      }
                    ],
                    "table": [
                      {
                        "cells": {
                          "fill": {
                            "color": "#EBF0F8"
                          },
                          "line": {
                            "color": "white"
                          }
                        },
                        "header": {
                          "fill": {
                            "color": "#C8D4E3"
                          },
                          "line": {
                            "color": "white"
                          }
                        },
                        "type": "table"
                      }
                    ]
                  },
                  "layout": {
                    "annotationdefaults": {
                      "arrowcolor": "#2a3f5f",
                      "arrowhead": 0,
                      "arrowwidth": 1
                    },
                    "autotypenumbers": "strict",
                    "coloraxis": {
                      "colorbar": {
                        "outlinewidth": 0,
                        "ticks": ""
                      }
                    },
                    "colorscale": {
                      "diverging": [
                        [
                          0,
                          "#8e0152"
                        ],
                        [
                          0.1,
                          "#c51b7d"
                        ],
                        [
                          0.2,
                          "#de77ae"
                        ],
                        [
                          0.3,
                          "#f1b6da"
                        ],
                        [
                          0.4,
                          "#fde0ef"
                        ],
                        [
                          0.5,
                          "#f7f7f7"
                        ],
                        [
                          0.6,
                          "#e6f5d0"
                        ],
                        [
                          0.7,
                          "#b8e186"
                        ],
                        [
                          0.8,
                          "#7fbc41"
                        ],
                        [
                          0.9,
                          "#4d9221"
                        ],
                        [
                          1,
                          "#276419"
                        ]
                      ],
                      "sequential": [
                        [
                          0,
                          "#0d0887"
                        ],
                        [
                          0.1111111111111111,
                          "#46039f"
                        ],
                        [
                          0.2222222222222222,
                          "#7201a8"
                        ],
                        [
                          0.3333333333333333,
                          "#9c179e"
                        ],
                        [
                          0.4444444444444444,
                          "#bd3786"
                        ],
                        [
                          0.5555555555555556,
                          "#d8576b"
                        ],
                        [
                          0.6666666666666666,
                          "#ed7953"
                        ],
                        [
                          0.7777777777777778,
                          "#fb9f3a"
                        ],
                        [
                          0.8888888888888888,
                          "#fdca26"
                        ],
                        [
                          1,
                          "#f0f921"
                        ]
                      ],
                      "sequentialminus": [
                        [
                          0,
                          "#0d0887"
                        ],
                        [
                          0.1111111111111111,
                          "#46039f"
                        ],
                        [
                          0.2222222222222222,
                          "#7201a8"
                        ],
                        [
                          0.3333333333333333,
                          "#9c179e"
                        ],
                        [
                          0.4444444444444444,
                          "#bd3786"
                        ],
                        [
                          0.5555555555555556,
                          "#d8576b"
                        ],
                        [
                          0.6666666666666666,
                          "#ed7953"
                        ],
                        [
                          0.7777777777777778,
                          "#fb9f3a"
                        ],
                        [
                          0.8888888888888888,
                          "#fdca26"
                        ],
                        [
                          1,
                          "#f0f921"
                        ]
                      ]
                    },
                    "colorway": [
                      "#636efa",
                      "#EF553B",
                      "#00cc96",
                      "#ab63fa",
                      "#FFA15A",
                      "#19d3f3",
                      "#FF6692",
                      "#B6E880",
                      "#FF97FF",
                      "#FECB52"
                    ],
                    "font": {
                      "color": "#2a3f5f"
                    },
                    "geo": {
                      "bgcolor": "white",
                      "lakecolor": "white",
                      "landcolor": "#E5ECF6",
                      "showlakes": true,
                      "showland": true,
                      "subunitcolor": "white"
                    },
                    "hoverlabel": {
                      "align": "left"
                    },
                    "hovermode": "closest",
                    "mapbox": {
                      "style": "light"
                    },
                    "paper_bgcolor": "white",
                    "plot_bgcolor": "#E5ECF6",
                    "polar": {
                      "angularaxis": {
                        "gridcolor": "white",
                        "linecolor": "white",
                        "ticks": ""
                      },
                      "bgcolor": "#E5ECF6",
                      "radialaxis": {
                        "gridcolor": "white",
                        "linecolor": "white",
                        "ticks": ""
                      }
                    },
                    "scene": {
                      "xaxis": {
                        "backgroundcolor": "#E5ECF6",
                        "gridcolor": "white",
                        "gridwidth": 2,
                        "linecolor": "white",
                        "showbackground": true,
                        "ticks": "",
                        "zerolinecolor": "white"
                      },
                      "yaxis": {
                        "backgroundcolor": "#E5ECF6",
                        "gridcolor": "white",
                        "gridwidth": 2,
                        "linecolor": "white",
                        "showbackground": true,
                        "ticks": "",
                        "zerolinecolor": "white"
                      },
                      "zaxis": {
                        "backgroundcolor": "#E5ECF6",
                        "gridcolor": "white",
                        "gridwidth": 2,
                        "linecolor": "white",
                        "showbackground": true,
                        "ticks": "",
                        "zerolinecolor": "white"
                      }
                    },
                    "shapedefaults": {
                      "line": {
                        "color": "#2a3f5f"
                      }
                    },
                    "ternary": {
                      "aaxis": {
                        "gridcolor": "white",
                        "linecolor": "white",
                        "ticks": ""
                      },
                      "baxis": {
                        "gridcolor": "white",
                        "linecolor": "white",
                        "ticks": ""
                      },
                      "bgcolor": "#E5ECF6",
                      "caxis": {
                        "gridcolor": "white",
                        "linecolor": "white",
                        "ticks": ""
                      }
                    },
                    "title": {
                      "x": 0.05
                    },
                    "xaxis": {
                      "automargin": true,
                      "gridcolor": "white",
                      "linecolor": "white",
                      "ticks": "",
                      "title": {
                        "standoff": 15
                      },
                      "zerolinecolor": "white",
                      "zerolinewidth": 2
                    },
                    "yaxis": {
                      "automargin": true,
                      "gridcolor": "white",
                      "linecolor": "white",
                      "ticks": "",
                      "title": {
                        "standoff": 15
                      },
                      "zerolinecolor": "white",
                      "zerolinewidth": 2
                    }
                  }
                },
                "title": {
                  "text": "Patching at resid stream & layer outputs (corrupted -> clean)"
                },
                "width": 1300,
                "xaxis": {
                  "anchor": "y",
                  "constrain": "domain",
                  "domain": [
                    0,
                    0.31999999999999995
                  ],
                  "linecolor": "black",
                  "linewidth": 1,
                  "mirror": true,
                  "scaleanchor": "y",
                  "showline": true,
                  "tickangle": 45,
                  "title": {
                    "text": "Sequence position"
                  }
                },
                "xaxis2": {
                  "anchor": "y2",
                  "domain": [
                    0.33999999999999997,
                    0.6599999999999999
                  ],
                  "linecolor": "black",
                  "linewidth": 1,
                  "matches": "x",
                  "mirror": true,
                  "showline": true,
                  "tickangle": 45,
                  "title": {
                    "text": "Sequence position"
                  }
                },
                "xaxis3": {
                  "anchor": "y3",
                  "domain": [
                    0.6799999999999999,
                    0.9999999999999999
                  ],
                  "linecolor": "black",
                  "linewidth": 1,
                  "matches": "x",
                  "mirror": true,
                  "showline": true,
                  "tickangle": 45,
                  "title": {
                    "text": "Sequence position"
                  }
                },
                "yaxis": {
                  "anchor": "x",
                  "autorange": "reversed",
                  "constrain": "domain",
                  "domain": [
                    0,
                    1
                  ],
                  "linecolor": "black",
                  "linewidth": 1,
                  "mirror": true,
                  "showline": true,
                  "title": {
                    "text": "Layer"
                  }
                },
                "yaxis2": {
                  "anchor": "x2",
                  "domain": [
                    0,
                    1
                  ],
                  "linecolor": "black",
                  "linewidth": 1,
                  "matches": "y",
                  "mirror": true,
                  "showline": true,
                  "showticklabels": false
                },
                "yaxis3": {
                  "anchor": "x3",
                  "domain": [
                    0,
                    1
                  ],
                  "linecolor": "black",
                  "linewidth": 1,
                  "matches": "y",
                  "mirror": true,
                  "showline": true,
                  "showticklabels": false
                }
              }
            }
          },
          "metadata": {},
          "output_type": "display_data"
        }
      ],
      "source": [
        "assert results.keys() == {\"resid_pre\", \"attn_out\", \"mlp_out\"}\n",
        "labels = [f\"{tok} {i}\" for i, tok in enumerate(model.to_str_tokens(clean_tokens[0]))]\n",
        "imshow_p(\n",
        "    torch.stack([r.T for r in results.values()]) * 100, # we transpose so layer is on the y-axis\n",
        "    facet_col=0,\n",
        "    facet_labels=[\"resid_pre\", \"attn_out\", \"mlp_out\"],\n",
        "    title=\"Patching at resid stream & layer outputs (corrupted -> clean)\",\n",
        "    labels={\"x\": \"Sequence position\", \"y\": \"Layer\", \"color\": \"Logit diff variation\"},\n",
        "    x=labels,\n",
        "    xaxis_tickangle=45,\n",
        "    coloraxis=dict(colorbar_ticksuffix = \"%\"),\n",
        "    border=True,\n",
        "    width=1300,\n",
        "    margin={\"r\": 100, \"l\": 100}\n",
        ")"
      ]
    },
    {
      "attachments": {},
      "cell_type": "markdown",
      "metadata": {},
      "source": [
        "### Circuit Analysis With Patch Patching & Attn Visualization"
      ]
    },
    {
      "attachments": {},
      "cell_type": "markdown",
      "metadata": {},
      "source": [
        "#### Heads Influencing Logit Diff"
      ]
    },
    {
      "cell_type": "code",
      "execution_count": 29,
      "metadata": {},
      "outputs": [
        {
          "data": {
            "application/vnd.jupyter.widget-view+json": {
              "model_id": "8a22a30332ad40718b9452dcff088c38",
              "version_major": 2,
              "version_minor": 0
            },
            "text/plain": [
              "  0%|          | 0/144 [00:00<?, ?it/s]"
            ]
          },
          "metadata": {},
          "output_type": "display_data"
        },
        {
          "name": "stdout",
          "output_type": "stream",
          "text": [
            "results['z'].shape = (layer=12, head=12)\n"
          ]
        }
      ],
      "source": [
        "results = path_patch(\n",
        "    model,\n",
        "    orig_input=clean_tokens,\n",
        "    new_input=corrupted_tokens,\n",
        "    sender_nodes=IterNode('z'), # This means iterate over all heads in all layers\n",
        "    receiver_nodes=Node('resid_post', 11), # This is resid_post at layer 11\n",
        "    patching_metric=logit_diff_noising,\n",
        "    verbose=True\n",
        ")"
      ]
    },
    {
      "cell_type": "code",
      "execution_count": 30,
      "metadata": {},
      "outputs": [
        {
          "data": {
            "application/vnd.plotly.v1+json": {
              "config": {
                "plotlyServerURL": "https://plot.ly"
              },
              "data": [
                {
                  "coloraxis": "coloraxis",
                  "hovertemplate": "Head: %{x}<br>Layer: %{y}<br>Logit diff variation: %{z}<extra></extra>",
                  "name": "0",
                  "type": "heatmap",
                  "xaxis": "x",
                  "yaxis": "y",
                  "z": [
                    [
                      -0.00023527693701907992,
                      0.0000010595332469165442,
                      -0.0007946802652440965,
                      0.0000075983675742463674,
                      -0.00012805216829292476,
                      6.962647489672236e-7,
                      -0.001276737661100924,
                      -0.00007964663382153958,
                      -0.0001263569138245657,
                      -0.00047672944492660463,
                      0.0001838744356064126,
                      -0.0005425113486126065
                    ],
                    [
                      -0.0000966294392128475,
                      0.00004701300713350065,
                      0.00011494422506075352,
                      -0.0000507970544276759,
                      -0.0006220368668437004,
                      -0.0012762532569468021,
                      -0.0010492407018318772,
                      -0.001875616144388914,
                      0.00019353131938260049,
                      0.0010306837502866983,
                      0.0003942977637052536,
                      0.0014792598085477948
                    ],
                    [
                      -0.0006543375202454627,
                      -0.0030048666521906853,
                      -0.000028486309020081535,
                      -0.000030514558602590114,
                      0.00006484343612100929,
                      0.00004250242272973992,
                      0.0006137422169558704,
                      0.00005966686148894951,
                      0.0002633091644383967,
                      0.0003404129238333553,
                      -0.000573116703890264,
                      0.00018959591398015618
                    ],
                    [
                      0.00002930366463260725,
                      0.00028219912201166153,
                      0.00003003020174219273,
                      -0.00025428799563087523,
                      -0.0009630249696783721,
                      -0.004668091889470816,
                      -0.00031316778040491045,
                      -4.23813332872669e-7,
                      -0.00018323872063774616,
                      -0.00019943443476222456,
                      0.000946647603996098,
                      -0.0003980212495662272
                    ],
                    [
                      -0.00012959605373907834,
                      -0.00029134139185771346,
                      -0.0029061485547572374,
                      -0.0002831375750247389,
                      0.000851652876008302,
                      -0.00008772935689194128,
                      -0.0002179914154112339,
                      0.0006619964260607958,
                      -0.004125368781387806,
                      -0.0010195737704634666,
                      -0.0006916330894455314,
                      -0.0003250950830988586
                    ],
                    [
                      -0.00016262322606053203,
                      -0.0023781980853527784,
                      -0.0006549732061102986,
                      -0.0008061534608714283,
                      -0.0003328750899527222,
                      -0.005430107936263084,
                      -0.00013428827514871955,
                      -0.0014364849776029587,
                      -0.0042820582166314125,
                      -0.007694966625422239,
                      -0.012889374047517776,
                      0.00715266726911068
                    ],
                    [
                      -0.0017324882792308927,
                      -0.0007069509010761976,
                      0.0008716629236005247,
                      -0.0045557511039078236,
                      -0.03027452901005745,
                      0.005575052462518215,
                      0.015869932249188423,
                      -0.018158797174692154,
                      0.00023588238400407135,
                      -0.0020733552519232035,
                      -0.009438262321054935,
                      0.00023748681996949017
                    ],
                    [
                      -0.00024702263181097806,
                      -0.07190299034118652,
                      -0.0011618841672316194,
                      0.004631522577255964,
                      -0.0001443387009203434,
                      -0.05283532291650772,
                      0.018777351826429367,
                      -0.0004187578451819718,
                      -0.003693412058055401,
                      -0.01613469421863556,
                      -0.0038350564427673817,
                      0.00038612421485595405
                    ],
                    [
                      -0.00016710354248061776,
                      0.00037598295602947474,
                      -0.028209710493683815,
                      -0.0074424948543310165,
                      -0.015356149524450302,
                      -0.0975785031914711,
                      -0.0037241384852677584,
                      -0.007378438487648964,
                      -0.006525483913719654,
                      -0.015539388172328472,
                      0.06373746693134308,
                      -0.012883561663329601
                    ],
                    [
                      -0.0004976174095645547,
                      -0.009411470964550972,
                      -0.15392614901065826,
                      -0.048320651054382324,
                      -0.00008875862113200128,
                      0.025723107159137726,
                      -0.024239396676421165,
                      0.025012191385030746,
                      -0.0011908549349755049,
                      -0.016361646354198456,
                      -0.03963432461023331,
                      0.0005277989548631012
                    ],
                    [
                      -0.0394493006169796,
                      -0.0783991664648056,
                      -0.00014240127347875386,
                      0.004102058708667755,
                      -0.29860320687294006,
                      -0.008246468380093575,
                      -0.0015632656868547201,
                      0.09516092389822006,
                      0.00023491366300731897,
                      -0.011546733789145947,
                      -0.007034937851130962,
                      -0.02119678072631359
                    ],
                    [
                      0.010106010362505913,
                      -0.006052720360457897,
                      0.00010870811820495874,
                      -0.013604982756078243,
                      -0.0027429198380559683,
                      -0.004376084543764591,
                      -0.00006517643487313762,
                      -0.00563807925209403,
                      -0.01192819606512785,
                      -0.029164744541049004,
                      -0.0009784336434677243,
                      -0.03395029157400131
                    ]
                  ]
                }
              ],
              "layout": {
                "coloraxis": {
                  "cmid": 0,
                  "colorbar": {
                    "title": {
                      "text": "Logit diff variation"
                    }
                  },
                  "colorscale": [
                    [
                      0,
                      "rgb(103,0,31)"
                    ],
                    [
                      0.1,
                      "rgb(178,24,43)"
                    ],
                    [
                      0.2,
                      "rgb(214,96,77)"
                    ],
                    [
                      0.3,
                      "rgb(244,165,130)"
                    ],
                    [
                      0.4,
                      "rgb(253,219,199)"
                    ],
                    [
                      0.5,
                      "rgb(247,247,247)"
                    ],
                    [
                      0.6,
                      "rgb(209,229,240)"
                    ],
                    [
                      0.7,
                      "rgb(146,197,222)"
                    ],
                    [
                      0.8,
                      "rgb(67,147,195)"
                    ],
                    [
                      0.9,
                      "rgb(33,102,172)"
                    ],
                    [
                      1,
                      "rgb(5,48,97)"
                    ]
                  ]
                },
                "margin": {
                  "l": 100,
                  "r": 100
                },
                "template": {
                  "data": {
                    "bar": [
                      {
                        "error_x": {
                          "color": "#2a3f5f"
                        },
                        "error_y": {
                          "color": "#2a3f5f"
                        },
                        "marker": {
                          "line": {
                            "color": "#E5ECF6",
                            "width": 0.5
                          },
                          "pattern": {
                            "fillmode": "overlay",
                            "size": 10,
                            "solidity": 0.2
                          }
                        },
                        "type": "bar"
                      }
                    ],
                    "barpolar": [
                      {
                        "marker": {
                          "line": {
                            "color": "#E5ECF6",
                            "width": 0.5
                          },
                          "pattern": {
                            "fillmode": "overlay",
                            "size": 10,
                            "solidity": 0.2
                          }
                        },
                        "type": "barpolar"
                      }
                    ],
                    "carpet": [
                      {
                        "aaxis": {
                          "endlinecolor": "#2a3f5f",
                          "gridcolor": "white",
                          "linecolor": "white",
                          "minorgridcolor": "white",
                          "startlinecolor": "#2a3f5f"
                        },
                        "baxis": {
                          "endlinecolor": "#2a3f5f",
                          "gridcolor": "white",
                          "linecolor": "white",
                          "minorgridcolor": "white",
                          "startlinecolor": "#2a3f5f"
                        },
                        "type": "carpet"
                      }
                    ],
                    "choropleth": [
                      {
                        "colorbar": {
                          "outlinewidth": 0,
                          "ticks": ""
                        },
                        "type": "choropleth"
                      }
                    ],
                    "contour": [
                      {
                        "colorbar": {
                          "outlinewidth": 0,
                          "ticks": ""
                        },
                        "colorscale": [
                          [
                            0,
                            "#0d0887"
                          ],
                          [
                            0.1111111111111111,
                            "#46039f"
                          ],
                          [
                            0.2222222222222222,
                            "#7201a8"
                          ],
                          [
                            0.3333333333333333,
                            "#9c179e"
                          ],
                          [
                            0.4444444444444444,
                            "#bd3786"
                          ],
                          [
                            0.5555555555555556,
                            "#d8576b"
                          ],
                          [
                            0.6666666666666666,
                            "#ed7953"
                          ],
                          [
                            0.7777777777777778,
                            "#fb9f3a"
                          ],
                          [
                            0.8888888888888888,
                            "#fdca26"
                          ],
                          [
                            1,
                            "#f0f921"
                          ]
                        ],
                        "type": "contour"
                      }
                    ],
                    "contourcarpet": [
                      {
                        "colorbar": {
                          "outlinewidth": 0,
                          "ticks": ""
                        },
                        "type": "contourcarpet"
                      }
                    ],
                    "heatmap": [
                      {
                        "colorbar": {
                          "outlinewidth": 0,
                          "ticks": ""
                        },
                        "colorscale": [
                          [
                            0,
                            "#0d0887"
                          ],
                          [
                            0.1111111111111111,
                            "#46039f"
                          ],
                          [
                            0.2222222222222222,
                            "#7201a8"
                          ],
                          [
                            0.3333333333333333,
                            "#9c179e"
                          ],
                          [
                            0.4444444444444444,
                            "#bd3786"
                          ],
                          [
                            0.5555555555555556,
                            "#d8576b"
                          ],
                          [
                            0.6666666666666666,
                            "#ed7953"
                          ],
                          [
                            0.7777777777777778,
                            "#fb9f3a"
                          ],
                          [
                            0.8888888888888888,
                            "#fdca26"
                          ],
                          [
                            1,
                            "#f0f921"
                          ]
                        ],
                        "type": "heatmap"
                      }
                    ],
                    "heatmapgl": [
                      {
                        "colorbar": {
                          "outlinewidth": 0,
                          "ticks": ""
                        },
                        "colorscale": [
                          [
                            0,
                            "#0d0887"
                          ],
                          [
                            0.1111111111111111,
                            "#46039f"
                          ],
                          [
                            0.2222222222222222,
                            "#7201a8"
                          ],
                          [
                            0.3333333333333333,
                            "#9c179e"
                          ],
                          [
                            0.4444444444444444,
                            "#bd3786"
                          ],
                          [
                            0.5555555555555556,
                            "#d8576b"
                          ],
                          [
                            0.6666666666666666,
                            "#ed7953"
                          ],
                          [
                            0.7777777777777778,
                            "#fb9f3a"
                          ],
                          [
                            0.8888888888888888,
                            "#fdca26"
                          ],
                          [
                            1,
                            "#f0f921"
                          ]
                        ],
                        "type": "heatmapgl"
                      }
                    ],
                    "histogram": [
                      {
                        "marker": {
                          "pattern": {
                            "fillmode": "overlay",
                            "size": 10,
                            "solidity": 0.2
                          }
                        },
                        "type": "histogram"
                      }
                    ],
                    "histogram2d": [
                      {
                        "colorbar": {
                          "outlinewidth": 0,
                          "ticks": ""
                        },
                        "colorscale": [
                          [
                            0,
                            "#0d0887"
                          ],
                          [
                            0.1111111111111111,
                            "#46039f"
                          ],
                          [
                            0.2222222222222222,
                            "#7201a8"
                          ],
                          [
                            0.3333333333333333,
                            "#9c179e"
                          ],
                          [
                            0.4444444444444444,
                            "#bd3786"
                          ],
                          [
                            0.5555555555555556,
                            "#d8576b"
                          ],
                          [
                            0.6666666666666666,
                            "#ed7953"
                          ],
                          [
                            0.7777777777777778,
                            "#fb9f3a"
                          ],
                          [
                            0.8888888888888888,
                            "#fdca26"
                          ],
                          [
                            1,
                            "#f0f921"
                          ]
                        ],
                        "type": "histogram2d"
                      }
                    ],
                    "histogram2dcontour": [
                      {
                        "colorbar": {
                          "outlinewidth": 0,
                          "ticks": ""
                        },
                        "colorscale": [
                          [
                            0,
                            "#0d0887"
                          ],
                          [
                            0.1111111111111111,
                            "#46039f"
                          ],
                          [
                            0.2222222222222222,
                            "#7201a8"
                          ],
                          [
                            0.3333333333333333,
                            "#9c179e"
                          ],
                          [
                            0.4444444444444444,
                            "#bd3786"
                          ],
                          [
                            0.5555555555555556,
                            "#d8576b"
                          ],
                          [
                            0.6666666666666666,
                            "#ed7953"
                          ],
                          [
                            0.7777777777777778,
                            "#fb9f3a"
                          ],
                          [
                            0.8888888888888888,
                            "#fdca26"
                          ],
                          [
                            1,
                            "#f0f921"
                          ]
                        ],
                        "type": "histogram2dcontour"
                      }
                    ],
                    "mesh3d": [
                      {
                        "colorbar": {
                          "outlinewidth": 0,
                          "ticks": ""
                        },
                        "type": "mesh3d"
                      }
                    ],
                    "parcoords": [
                      {
                        "line": {
                          "colorbar": {
                            "outlinewidth": 0,
                            "ticks": ""
                          }
                        },
                        "type": "parcoords"
                      }
                    ],
                    "pie": [
                      {
                        "automargin": true,
                        "type": "pie"
                      }
                    ],
                    "scatter": [
                      {
                        "fillpattern": {
                          "fillmode": "overlay",
                          "size": 10,
                          "solidity": 0.2
                        },
                        "type": "scatter"
                      }
                    ],
                    "scatter3d": [
                      {
                        "line": {
                          "colorbar": {
                            "outlinewidth": 0,
                            "ticks": ""
                          }
                        },
                        "marker": {
                          "colorbar": {
                            "outlinewidth": 0,
                            "ticks": ""
                          }
                        },
                        "type": "scatter3d"
                      }
                    ],
                    "scattercarpet": [
                      {
                        "marker": {
                          "colorbar": {
                            "outlinewidth": 0,
                            "ticks": ""
                          }
                        },
                        "type": "scattercarpet"
                      }
                    ],
                    "scattergeo": [
                      {
                        "marker": {
                          "colorbar": {
                            "outlinewidth": 0,
                            "ticks": ""
                          }
                        },
                        "type": "scattergeo"
                      }
                    ],
                    "scattergl": [
                      {
                        "marker": {
                          "colorbar": {
                            "outlinewidth": 0,
                            "ticks": ""
                          }
                        },
                        "type": "scattergl"
                      }
                    ],
                    "scattermapbox": [
                      {
                        "marker": {
                          "colorbar": {
                            "outlinewidth": 0,
                            "ticks": ""
                          }
                        },
                        "type": "scattermapbox"
                      }
                    ],
                    "scatterpolar": [
                      {
                        "marker": {
                          "colorbar": {
                            "outlinewidth": 0,
                            "ticks": ""
                          }
                        },
                        "type": "scatterpolar"
                      }
                    ],
                    "scatterpolargl": [
                      {
                        "marker": {
                          "colorbar": {
                            "outlinewidth": 0,
                            "ticks": ""
                          }
                        },
                        "type": "scatterpolargl"
                      }
                    ],
                    "scatterternary": [
                      {
                        "marker": {
                          "colorbar": {
                            "outlinewidth": 0,
                            "ticks": ""
                          }
                        },
                        "type": "scatterternary"
                      }
                    ],
                    "surface": [
                      {
                        "colorbar": {
                          "outlinewidth": 0,
                          "ticks": ""
                        },
                        "colorscale": [
                          [
                            0,
                            "#0d0887"
                          ],
                          [
                            0.1111111111111111,
                            "#46039f"
                          ],
                          [
                            0.2222222222222222,
                            "#7201a8"
                          ],
                          [
                            0.3333333333333333,
                            "#9c179e"
                          ],
                          [
                            0.4444444444444444,
                            "#bd3786"
                          ],
                          [
                            0.5555555555555556,
                            "#d8576b"
                          ],
                          [
                            0.6666666666666666,
                            "#ed7953"
                          ],
                          [
                            0.7777777777777778,
                            "#fb9f3a"
                          ],
                          [
                            0.8888888888888888,
                            "#fdca26"
                          ],
                          [
                            1,
                            "#f0f921"
                          ]
                        ],
                        "type": "surface"
                      }
                    ],
                    "table": [
                      {
                        "cells": {
                          "fill": {
                            "color": "#EBF0F8"
                          },
                          "line": {
                            "color": "white"
                          }
                        },
                        "header": {
                          "fill": {
                            "color": "#C8D4E3"
                          },
                          "line": {
                            "color": "white"
                          }
                        },
                        "type": "table"
                      }
                    ]
                  },
                  "layout": {
                    "annotationdefaults": {
                      "arrowcolor": "#2a3f5f",
                      "arrowhead": 0,
                      "arrowwidth": 1
                    },
                    "autotypenumbers": "strict",
                    "coloraxis": {
                      "colorbar": {
                        "outlinewidth": 0,
                        "ticks": ""
                      }
                    },
                    "colorscale": {
                      "diverging": [
                        [
                          0,
                          "#8e0152"
                        ],
                        [
                          0.1,
                          "#c51b7d"
                        ],
                        [
                          0.2,
                          "#de77ae"
                        ],
                        [
                          0.3,
                          "#f1b6da"
                        ],
                        [
                          0.4,
                          "#fde0ef"
                        ],
                        [
                          0.5,
                          "#f7f7f7"
                        ],
                        [
                          0.6,
                          "#e6f5d0"
                        ],
                        [
                          0.7,
                          "#b8e186"
                        ],
                        [
                          0.8,
                          "#7fbc41"
                        ],
                        [
                          0.9,
                          "#4d9221"
                        ],
                        [
                          1,
                          "#276419"
                        ]
                      ],
                      "sequential": [
                        [
                          0,
                          "#0d0887"
                        ],
                        [
                          0.1111111111111111,
                          "#46039f"
                        ],
                        [
                          0.2222222222222222,
                          "#7201a8"
                        ],
                        [
                          0.3333333333333333,
                          "#9c179e"
                        ],
                        [
                          0.4444444444444444,
                          "#bd3786"
                        ],
                        [
                          0.5555555555555556,
                          "#d8576b"
                        ],
                        [
                          0.6666666666666666,
                          "#ed7953"
                        ],
                        [
                          0.7777777777777778,
                          "#fb9f3a"
                        ],
                        [
                          0.8888888888888888,
                          "#fdca26"
                        ],
                        [
                          1,
                          "#f0f921"
                        ]
                      ],
                      "sequentialminus": [
                        [
                          0,
                          "#0d0887"
                        ],
                        [
                          0.1111111111111111,
                          "#46039f"
                        ],
                        [
                          0.2222222222222222,
                          "#7201a8"
                        ],
                        [
                          0.3333333333333333,
                          "#9c179e"
                        ],
                        [
                          0.4444444444444444,
                          "#bd3786"
                        ],
                        [
                          0.5555555555555556,
                          "#d8576b"
                        ],
                        [
                          0.6666666666666666,
                          "#ed7953"
                        ],
                        [
                          0.7777777777777778,
                          "#fb9f3a"
                        ],
                        [
                          0.8888888888888888,
                          "#fdca26"
                        ],
                        [
                          1,
                          "#f0f921"
                        ]
                      ]
                    },
                    "colorway": [
                      "#636efa",
                      "#EF553B",
                      "#00cc96",
                      "#ab63fa",
                      "#FFA15A",
                      "#19d3f3",
                      "#FF6692",
                      "#B6E880",
                      "#FF97FF",
                      "#FECB52"
                    ],
                    "font": {
                      "color": "#2a3f5f"
                    },
                    "geo": {
                      "bgcolor": "white",
                      "lakecolor": "white",
                      "landcolor": "#E5ECF6",
                      "showlakes": true,
                      "showland": true,
                      "subunitcolor": "white"
                    },
                    "hoverlabel": {
                      "align": "left"
                    },
                    "hovermode": "closest",
                    "mapbox": {
                      "style": "light"
                    },
                    "paper_bgcolor": "white",
                    "plot_bgcolor": "#E5ECF6",
                    "polar": {
                      "angularaxis": {
                        "gridcolor": "white",
                        "linecolor": "white",
                        "ticks": ""
                      },
                      "bgcolor": "#E5ECF6",
                      "radialaxis": {
                        "gridcolor": "white",
                        "linecolor": "white",
                        "ticks": ""
                      }
                    },
                    "scene": {
                      "xaxis": {
                        "backgroundcolor": "#E5ECF6",
                        "gridcolor": "white",
                        "gridwidth": 2,
                        "linecolor": "white",
                        "showbackground": true,
                        "ticks": "",
                        "zerolinecolor": "white"
                      },
                      "yaxis": {
                        "backgroundcolor": "#E5ECF6",
                        "gridcolor": "white",
                        "gridwidth": 2,
                        "linecolor": "white",
                        "showbackground": true,
                        "ticks": "",
                        "zerolinecolor": "white"
                      },
                      "zaxis": {
                        "backgroundcolor": "#E5ECF6",
                        "gridcolor": "white",
                        "gridwidth": 2,
                        "linecolor": "white",
                        "showbackground": true,
                        "ticks": "",
                        "zerolinecolor": "white"
                      }
                    },
                    "shapedefaults": {
                      "line": {
                        "color": "#2a3f5f"
                      }
                    },
                    "ternary": {
                      "aaxis": {
                        "gridcolor": "white",
                        "linecolor": "white",
                        "ticks": ""
                      },
                      "baxis": {
                        "gridcolor": "white",
                        "linecolor": "white",
                        "ticks": ""
                      },
                      "bgcolor": "#E5ECF6",
                      "caxis": {
                        "gridcolor": "white",
                        "linecolor": "white",
                        "ticks": ""
                      }
                    },
                    "title": {
                      "x": 0.05
                    },
                    "xaxis": {
                      "automargin": true,
                      "gridcolor": "white",
                      "linecolor": "white",
                      "ticks": "",
                      "title": {
                        "standoff": 15
                      },
                      "zerolinecolor": "white",
                      "zerolinewidth": 2
                    },
                    "yaxis": {
                      "automargin": true,
                      "gridcolor": "white",
                      "linecolor": "white",
                      "ticks": "",
                      "title": {
                        "standoff": 15
                      },
                      "zerolinecolor": "white",
                      "zerolinewidth": 2
                    }
                  }
                },
                "title": {
                  "text": "Direct effect on logit diff (patch from head output -> final resid)"
                },
                "width": 600,
                "xaxis": {
                  "anchor": "y",
                  "constrain": "domain",
                  "domain": [
                    0,
                    1
                  ],
                  "linecolor": "black",
                  "linewidth": 1,
                  "mirror": true,
                  "scaleanchor": "y",
                  "showline": true,
                  "title": {
                    "text": "Head"
                  }
                },
                "yaxis": {
                  "anchor": "x",
                  "autorange": "reversed",
                  "constrain": "domain",
                  "domain": [
                    0,
                    1
                  ],
                  "linecolor": "black",
                  "linewidth": 1,
                  "mirror": true,
                  "showline": true,
                  "title": {
                    "text": "Layer"
                  }
                }
              }
            }
          },
          "metadata": {},
          "output_type": "display_data"
        }
      ],
      "source": [
        "imshow_p(\n",
        "    results['z'],\n",
        "    title=\"Direct effect on logit diff (patch from head output -> final resid)\",\n",
        "    labels={\"x\": \"Head\", \"y\": \"Layer\", \"color\": \"Logit diff variation\"},\n",
        "    border=True,\n",
        "    width=600,\n",
        "    margin={\"r\": 100, \"l\": 100}\n",
        ")"
      ]
    },
    {
      "cell_type": "code",
      "execution_count": 31,
      "metadata": {},
      "outputs": [],
      "source": [
        "from visualization_utils import (\n",
        "    plot_attention_heads,\n",
        "    scatter_attention_and_contribution\n",
        ")\n",
        "\n",
        "import circuitsvis as cv"
      ]
    },
    {
      "cell_type": "code",
      "execution_count": 32,
      "metadata": {},
      "outputs": [
        {
          "name": "stdout",
          "output_type": "stream",
          "text": [
            "Total logit diff contribution above threshold: 1.05\n"
          ]
        },
        {
          "data": {
            "application/vnd.plotly.v1+json": {
              "config": {
                "plotlyServerURL": "https://plot.ly"
              },
              "data": [
                {
                  "alignmentgroup": "True",
                  "hovertemplate": "Logit Diff=%{x}<br>Attention Head=%{y}<extra></extra>",
                  "legendgroup": "",
                  "marker": {
                    "color": "#636efa",
                    "pattern": {
                      "shape": ""
                    }
                  },
                  "name": "",
                  "offsetgroup": "",
                  "orientation": "h",
                  "showlegend": false,
                  "textposition": "auto",
                  "type": "bar",
                  "x": [
                    0.02119678072631359,
                    0.024239396676421165,
                    0.028209710493683815,
                    0.029164744541049004,
                    0.03027452901005745,
                    0.03395029157400131,
                    0.0394493006169796,
                    0.03963432461023331,
                    0.048320651054382324,
                    0.05283532291650772,
                    0.07190299034118652,
                    0.0783991664648056,
                    0.0975785031914711,
                    0.15392614901065826,
                    0.29860320687294006
                  ],
                  "xaxis": "x",
                  "y": [
                    "Layer 10, Head 11",
                    "Layer 9, Head 6",
                    "Layer 8, Head 2",
                    "Layer 11, Head 9",
                    "Layer 6, Head 4",
                    "Layer 11, Head 11",
                    "Layer 10, Head 0",
                    "Layer 9, Head 10",
                    "Layer 9, Head 3",
                    "Layer 7, Head 5",
                    "Layer 7, Head 1",
                    "Layer 10, Head 1",
                    "Layer 8, Head 5",
                    "Layer 9, Head 2",
                    "Layer 10, Head 4"
                  ],
                  "yaxis": "y"
                }
              ],
              "layout": {
                "barmode": "relative",
                "legend": {
                  "tracegroupgap": 0
                },
                "margin": {
                  "t": 60
                },
                "template": {
                  "data": {
                    "bar": [
                      {
                        "error_x": {
                          "color": "#2a3f5f"
                        },
                        "error_y": {
                          "color": "#2a3f5f"
                        },
                        "marker": {
                          "line": {
                            "color": "#E5ECF6",
                            "width": 0.5
                          },
                          "pattern": {
                            "fillmode": "overlay",
                            "size": 10,
                            "solidity": 0.2
                          }
                        },
                        "type": "bar"
                      }
                    ],
                    "barpolar": [
                      {
                        "marker": {
                          "line": {
                            "color": "#E5ECF6",
                            "width": 0.5
                          },
                          "pattern": {
                            "fillmode": "overlay",
                            "size": 10,
                            "solidity": 0.2
                          }
                        },
                        "type": "barpolar"
                      }
                    ],
                    "carpet": [
                      {
                        "aaxis": {
                          "endlinecolor": "#2a3f5f",
                          "gridcolor": "white",
                          "linecolor": "white",
                          "minorgridcolor": "white",
                          "startlinecolor": "#2a3f5f"
                        },
                        "baxis": {
                          "endlinecolor": "#2a3f5f",
                          "gridcolor": "white",
                          "linecolor": "white",
                          "minorgridcolor": "white",
                          "startlinecolor": "#2a3f5f"
                        },
                        "type": "carpet"
                      }
                    ],
                    "choropleth": [
                      {
                        "colorbar": {
                          "outlinewidth": 0,
                          "ticks": ""
                        },
                        "type": "choropleth"
                      }
                    ],
                    "contour": [
                      {
                        "colorbar": {
                          "outlinewidth": 0,
                          "ticks": ""
                        },
                        "colorscale": [
                          [
                            0,
                            "#0d0887"
                          ],
                          [
                            0.1111111111111111,
                            "#46039f"
                          ],
                          [
                            0.2222222222222222,
                            "#7201a8"
                          ],
                          [
                            0.3333333333333333,
                            "#9c179e"
                          ],
                          [
                            0.4444444444444444,
                            "#bd3786"
                          ],
                          [
                            0.5555555555555556,
                            "#d8576b"
                          ],
                          [
                            0.6666666666666666,
                            "#ed7953"
                          ],
                          [
                            0.7777777777777778,
                            "#fb9f3a"
                          ],
                          [
                            0.8888888888888888,
                            "#fdca26"
                          ],
                          [
                            1,
                            "#f0f921"
                          ]
                        ],
                        "type": "contour"
                      }
                    ],
                    "contourcarpet": [
                      {
                        "colorbar": {
                          "outlinewidth": 0,
                          "ticks": ""
                        },
                        "type": "contourcarpet"
                      }
                    ],
                    "heatmap": [
                      {
                        "colorbar": {
                          "outlinewidth": 0,
                          "ticks": ""
                        },
                        "colorscale": [
                          [
                            0,
                            "#0d0887"
                          ],
                          [
                            0.1111111111111111,
                            "#46039f"
                          ],
                          [
                            0.2222222222222222,
                            "#7201a8"
                          ],
                          [
                            0.3333333333333333,
                            "#9c179e"
                          ],
                          [
                            0.4444444444444444,
                            "#bd3786"
                          ],
                          [
                            0.5555555555555556,
                            "#d8576b"
                          ],
                          [
                            0.6666666666666666,
                            "#ed7953"
                          ],
                          [
                            0.7777777777777778,
                            "#fb9f3a"
                          ],
                          [
                            0.8888888888888888,
                            "#fdca26"
                          ],
                          [
                            1,
                            "#f0f921"
                          ]
                        ],
                        "type": "heatmap"
                      }
                    ],
                    "heatmapgl": [
                      {
                        "colorbar": {
                          "outlinewidth": 0,
                          "ticks": ""
                        },
                        "colorscale": [
                          [
                            0,
                            "#0d0887"
                          ],
                          [
                            0.1111111111111111,
                            "#46039f"
                          ],
                          [
                            0.2222222222222222,
                            "#7201a8"
                          ],
                          [
                            0.3333333333333333,
                            "#9c179e"
                          ],
                          [
                            0.4444444444444444,
                            "#bd3786"
                          ],
                          [
                            0.5555555555555556,
                            "#d8576b"
                          ],
                          [
                            0.6666666666666666,
                            "#ed7953"
                          ],
                          [
                            0.7777777777777778,
                            "#fb9f3a"
                          ],
                          [
                            0.8888888888888888,
                            "#fdca26"
                          ],
                          [
                            1,
                            "#f0f921"
                          ]
                        ],
                        "type": "heatmapgl"
                      }
                    ],
                    "histogram": [
                      {
                        "marker": {
                          "pattern": {
                            "fillmode": "overlay",
                            "size": 10,
                            "solidity": 0.2
                          }
                        },
                        "type": "histogram"
                      }
                    ],
                    "histogram2d": [
                      {
                        "colorbar": {
                          "outlinewidth": 0,
                          "ticks": ""
                        },
                        "colorscale": [
                          [
                            0,
                            "#0d0887"
                          ],
                          [
                            0.1111111111111111,
                            "#46039f"
                          ],
                          [
                            0.2222222222222222,
                            "#7201a8"
                          ],
                          [
                            0.3333333333333333,
                            "#9c179e"
                          ],
                          [
                            0.4444444444444444,
                            "#bd3786"
                          ],
                          [
                            0.5555555555555556,
                            "#d8576b"
                          ],
                          [
                            0.6666666666666666,
                            "#ed7953"
                          ],
                          [
                            0.7777777777777778,
                            "#fb9f3a"
                          ],
                          [
                            0.8888888888888888,
                            "#fdca26"
                          ],
                          [
                            1,
                            "#f0f921"
                          ]
                        ],
                        "type": "histogram2d"
                      }
                    ],
                    "histogram2dcontour": [
                      {
                        "colorbar": {
                          "outlinewidth": 0,
                          "ticks": ""
                        },
                        "colorscale": [
                          [
                            0,
                            "#0d0887"
                          ],
                          [
                            0.1111111111111111,
                            "#46039f"
                          ],
                          [
                            0.2222222222222222,
                            "#7201a8"
                          ],
                          [
                            0.3333333333333333,
                            "#9c179e"
                          ],
                          [
                            0.4444444444444444,
                            "#bd3786"
                          ],
                          [
                            0.5555555555555556,
                            "#d8576b"
                          ],
                          [
                            0.6666666666666666,
                            "#ed7953"
                          ],
                          [
                            0.7777777777777778,
                            "#fb9f3a"
                          ],
                          [
                            0.8888888888888888,
                            "#fdca26"
                          ],
                          [
                            1,
                            "#f0f921"
                          ]
                        ],
                        "type": "histogram2dcontour"
                      }
                    ],
                    "mesh3d": [
                      {
                        "colorbar": {
                          "outlinewidth": 0,
                          "ticks": ""
                        },
                        "type": "mesh3d"
                      }
                    ],
                    "parcoords": [
                      {
                        "line": {
                          "colorbar": {
                            "outlinewidth": 0,
                            "ticks": ""
                          }
                        },
                        "type": "parcoords"
                      }
                    ],
                    "pie": [
                      {
                        "automargin": true,
                        "type": "pie"
                      }
                    ],
                    "scatter": [
                      {
                        "fillpattern": {
                          "fillmode": "overlay",
                          "size": 10,
                          "solidity": 0.2
                        },
                        "type": "scatter"
                      }
                    ],
                    "scatter3d": [
                      {
                        "line": {
                          "colorbar": {
                            "outlinewidth": 0,
                            "ticks": ""
                          }
                        },
                        "marker": {
                          "colorbar": {
                            "outlinewidth": 0,
                            "ticks": ""
                          }
                        },
                        "type": "scatter3d"
                      }
                    ],
                    "scattercarpet": [
                      {
                        "marker": {
                          "colorbar": {
                            "outlinewidth": 0,
                            "ticks": ""
                          }
                        },
                        "type": "scattercarpet"
                      }
                    ],
                    "scattergeo": [
                      {
                        "marker": {
                          "colorbar": {
                            "outlinewidth": 0,
                            "ticks": ""
                          }
                        },
                        "type": "scattergeo"
                      }
                    ],
                    "scattergl": [
                      {
                        "marker": {
                          "colorbar": {
                            "outlinewidth": 0,
                            "ticks": ""
                          }
                        },
                        "type": "scattergl"
                      }
                    ],
                    "scattermapbox": [
                      {
                        "marker": {
                          "colorbar": {
                            "outlinewidth": 0,
                            "ticks": ""
                          }
                        },
                        "type": "scattermapbox"
                      }
                    ],
                    "scatterpolar": [
                      {
                        "marker": {
                          "colorbar": {
                            "outlinewidth": 0,
                            "ticks": ""
                          }
                        },
                        "type": "scatterpolar"
                      }
                    ],
                    "scatterpolargl": [
                      {
                        "marker": {
                          "colorbar": {
                            "outlinewidth": 0,
                            "ticks": ""
                          }
                        },
                        "type": "scatterpolargl"
                      }
                    ],
                    "scatterternary": [
                      {
                        "marker": {
                          "colorbar": {
                            "outlinewidth": 0,
                            "ticks": ""
                          }
                        },
                        "type": "scatterternary"
                      }
                    ],
                    "surface": [
                      {
                        "colorbar": {
                          "outlinewidth": 0,
                          "ticks": ""
                        },
                        "colorscale": [
                          [
                            0,
                            "#0d0887"
                          ],
                          [
                            0.1111111111111111,
                            "#46039f"
                          ],
                          [
                            0.2222222222222222,
                            "#7201a8"
                          ],
                          [
                            0.3333333333333333,
                            "#9c179e"
                          ],
                          [
                            0.4444444444444444,
                            "#bd3786"
                          ],
                          [
                            0.5555555555555556,
                            "#d8576b"
                          ],
                          [
                            0.6666666666666666,
                            "#ed7953"
                          ],
                          [
                            0.7777777777777778,
                            "#fb9f3a"
                          ],
                          [
                            0.8888888888888888,
                            "#fdca26"
                          ],
                          [
                            1,
                            "#f0f921"
                          ]
                        ],
                        "type": "surface"
                      }
                    ],
                    "table": [
                      {
                        "cells": {
                          "fill": {
                            "color": "#EBF0F8"
                          },
                          "line": {
                            "color": "white"
                          }
                        },
                        "header": {
                          "fill": {
                            "color": "#C8D4E3"
                          },
                          "line": {
                            "color": "white"
                          }
                        },
                        "type": "table"
                      }
                    ]
                  },
                  "layout": {
                    "annotationdefaults": {
                      "arrowcolor": "#2a3f5f",
                      "arrowhead": 0,
                      "arrowwidth": 1
                    },
                    "autotypenumbers": "strict",
                    "coloraxis": {
                      "colorbar": {
                        "outlinewidth": 0,
                        "ticks": ""
                      }
                    },
                    "colorscale": {
                      "diverging": [
                        [
                          0,
                          "#8e0152"
                        ],
                        [
                          0.1,
                          "#c51b7d"
                        ],
                        [
                          0.2,
                          "#de77ae"
                        ],
                        [
                          0.3,
                          "#f1b6da"
                        ],
                        [
                          0.4,
                          "#fde0ef"
                        ],
                        [
                          0.5,
                          "#f7f7f7"
                        ],
                        [
                          0.6,
                          "#e6f5d0"
                        ],
                        [
                          0.7,
                          "#b8e186"
                        ],
                        [
                          0.8,
                          "#7fbc41"
                        ],
                        [
                          0.9,
                          "#4d9221"
                        ],
                        [
                          1,
                          "#276419"
                        ]
                      ],
                      "sequential": [
                        [
                          0,
                          "#0d0887"
                        ],
                        [
                          0.1111111111111111,
                          "#46039f"
                        ],
                        [
                          0.2222222222222222,
                          "#7201a8"
                        ],
                        [
                          0.3333333333333333,
                          "#9c179e"
                        ],
                        [
                          0.4444444444444444,
                          "#bd3786"
                        ],
                        [
                          0.5555555555555556,
                          "#d8576b"
                        ],
                        [
                          0.6666666666666666,
                          "#ed7953"
                        ],
                        [
                          0.7777777777777778,
                          "#fb9f3a"
                        ],
                        [
                          0.8888888888888888,
                          "#fdca26"
                        ],
                        [
                          1,
                          "#f0f921"
                        ]
                      ],
                      "sequentialminus": [
                        [
                          0,
                          "#0d0887"
                        ],
                        [
                          0.1111111111111111,
                          "#46039f"
                        ],
                        [
                          0.2222222222222222,
                          "#7201a8"
                        ],
                        [
                          0.3333333333333333,
                          "#9c179e"
                        ],
                        [
                          0.4444444444444444,
                          "#bd3786"
                        ],
                        [
                          0.5555555555555556,
                          "#d8576b"
                        ],
                        [
                          0.6666666666666666,
                          "#ed7953"
                        ],
                        [
                          0.7777777777777778,
                          "#fb9f3a"
                        ],
                        [
                          0.8888888888888888,
                          "#fdca26"
                        ],
                        [
                          1,
                          "#f0f921"
                        ]
                      ]
                    },
                    "colorway": [
                      "#636efa",
                      "#EF553B",
                      "#00cc96",
                      "#ab63fa",
                      "#FFA15A",
                      "#19d3f3",
                      "#FF6692",
                      "#B6E880",
                      "#FF97FF",
                      "#FECB52"
                    ],
                    "font": {
                      "color": "#2a3f5f"
                    },
                    "geo": {
                      "bgcolor": "white",
                      "lakecolor": "white",
                      "landcolor": "#E5ECF6",
                      "showlakes": true,
                      "showland": true,
                      "subunitcolor": "white"
                    },
                    "hoverlabel": {
                      "align": "left"
                    },
                    "hovermode": "closest",
                    "mapbox": {
                      "style": "light"
                    },
                    "paper_bgcolor": "white",
                    "plot_bgcolor": "#E5ECF6",
                    "polar": {
                      "angularaxis": {
                        "gridcolor": "white",
                        "linecolor": "white",
                        "ticks": ""
                      },
                      "bgcolor": "#E5ECF6",
                      "radialaxis": {
                        "gridcolor": "white",
                        "linecolor": "white",
                        "ticks": ""
                      }
                    },
                    "scene": {
                      "xaxis": {
                        "backgroundcolor": "#E5ECF6",
                        "gridcolor": "white",
                        "gridwidth": 2,
                        "linecolor": "white",
                        "showbackground": true,
                        "ticks": "",
                        "zerolinecolor": "white"
                      },
                      "yaxis": {
                        "backgroundcolor": "#E5ECF6",
                        "gridcolor": "white",
                        "gridwidth": 2,
                        "linecolor": "white",
                        "showbackground": true,
                        "ticks": "",
                        "zerolinecolor": "white"
                      },
                      "zaxis": {
                        "backgroundcolor": "#E5ECF6",
                        "gridcolor": "white",
                        "gridwidth": 2,
                        "linecolor": "white",
                        "showbackground": true,
                        "ticks": "",
                        "zerolinecolor": "white"
                      }
                    },
                    "shapedefaults": {
                      "line": {
                        "color": "#2a3f5f"
                      }
                    },
                    "ternary": {
                      "aaxis": {
                        "gridcolor": "white",
                        "linecolor": "white",
                        "ticks": ""
                      },
                      "baxis": {
                        "gridcolor": "white",
                        "linecolor": "white",
                        "ticks": ""
                      },
                      "bgcolor": "#E5ECF6",
                      "caxis": {
                        "gridcolor": "white",
                        "linecolor": "white",
                        "ticks": ""
                      }
                    },
                    "title": {
                      "x": 0.05
                    },
                    "xaxis": {
                      "automargin": true,
                      "gridcolor": "white",
                      "linecolor": "white",
                      "ticks": "",
                      "title": {
                        "standoff": 15
                      },
                      "zerolinecolor": "white",
                      "zerolinewidth": 2
                    },
                    "yaxis": {
                      "automargin": true,
                      "gridcolor": "white",
                      "linecolor": "white",
                      "ticks": "",
                      "title": {
                        "standoff": 15
                      },
                      "zerolinecolor": "white",
                      "zerolinewidth": 2
                    }
                  }
                },
                "xaxis": {
                  "anchor": "y",
                  "domain": [
                    0,
                    1
                  ],
                  "range": [
                    0,
                    0.5
                  ],
                  "title": {
                    "text": "Logit Diff"
                  }
                },
                "yaxis": {
                  "anchor": "x",
                  "domain": [
                    0,
                    1
                  ],
                  "title": {
                    "text": "Attention Head"
                  }
                }
              }
            }
          },
          "metadata": {},
          "output_type": "display_data"
        }
      ],
      "source": [
        "plot_attention_heads(-results['z'].cuda(), top_n=15, range_x=[0, 0.5])"
      ]
    },
    {
      "cell_type": "code",
      "execution_count": 33,
      "metadata": {},
      "outputs": [
        {
          "data": {
            "text/html": [
              "<div id=\"circuits-vis-089067b1-77d6\" style=\"margin: 15px 0;\"/>\n",
              "    <script crossorigin type=\"module\">\n",
              "    import { render, AttentionHeads } from \"https://unpkg.com/circuitsvis@1.39.1/dist/cdn/esm.js\";\n",
              "    render(\n",
              "      \"circuits-vis-089067b1-77d6\",\n",
              "      AttentionHeads,\n",
              "      {\"attention\": [[[1.0, 0.0, 0.0, 0.0, 0.0, 0.0, 0.0, 0.0, 0.0, 0.0, 0.0, 0.0, 0.0, 0.0, 0.0, 0.0, 0.0, 0.0, 0.0], [0.9677872657775879, 0.03221273049712181, 0.0, 0.0, 0.0, 0.0, 0.0, 0.0, 0.0, 0.0, 0.0, 0.0, 0.0, 0.0, 0.0, 0.0, 0.0, 0.0, 0.0], [0.9594131708145142, 0.03225313499569893, 0.008333682082593441, 0.0, 0.0, 0.0, 0.0, 0.0, 0.0, 0.0, 0.0, 0.0, 0.0, 0.0, 0.0, 0.0, 0.0, 0.0, 0.0], [0.8404654860496521, 0.04034232348203659, 0.06738123297691345, 0.051810942590236664, 0.0, 0.0, 0.0, 0.0, 0.0, 0.0, 0.0, 0.0, 0.0, 0.0, 0.0, 0.0, 0.0, 0.0, 0.0], [0.7501178979873657, 0.024203920736908913, 0.08985880762338638, 0.03233487904071808, 0.10348451137542725, 0.0, 0.0, 0.0, 0.0, 0.0, 0.0, 0.0, 0.0, 0.0, 0.0, 0.0, 0.0, 0.0, 0.0], [0.49938657879829407, 0.026452193036675453, 0.09526943415403366, 0.052845299243927, 0.1364271342754364, 0.18961939215660095, 0.0, 0.0, 0.0, 0.0, 0.0, 0.0, 0.0, 0.0, 0.0, 0.0, 0.0, 0.0, 0.0], [0.8207431435585022, 0.03662964701652527, 0.017395615577697754, 0.013766485266387463, 0.04327337071299553, 0.03954286873340607, 0.028648871928453445, 0.0, 0.0, 0.0, 0.0, 0.0, 0.0, 0.0, 0.0, 0.0, 0.0, 0.0, 0.0], [0.35383301973342896, 0.013940741308033466, 0.021330298855900764, 0.021333707496523857, 0.09060113877058029, 0.06736196577548981, 0.3682457208633423, 0.06335342675447464, 0.0, 0.0, 0.0, 0.0, 0.0, 0.0, 0.0, 0.0, 0.0, 0.0, 0.0], [0.4393669366836548, 0.008677730336785316, 0.13199679553508759, 0.016911009326577187, 0.03575066104531288, 0.04923872649669647, 0.24673636257648468, 0.04928154870867729, 0.02204028330743313, 0.0, 0.0, 0.0, 0.0, 0.0, 0.0, 0.0, 0.0, 0.0, 0.0], [0.7511751651763916, 0.011935857124626637, 0.0031642441172152758, 0.011139100417494774, 0.10965289175510406, 0.01793292909860611, 0.03645895794034004, 0.028760891407728195, 0.008505137637257576, 0.021274810656905174, 0.0, 0.0, 0.0, 0.0, 0.0, 0.0, 0.0, 0.0, 0.0], [0.42143145203590393, 0.010955666191875935, 0.019201627001166344, 0.006008726079016924, 0.00849230121821165, 0.01744961552321911, 0.056787651032209396, 0.35263121128082275, 0.01771261729300022, 0.05546361953020096, 0.03386547043919563, 0.0, 0.0, 0.0, 0.0, 0.0, 0.0, 0.0, 0.0], [0.5038476586341858, 0.016035759821534157, 0.018189648166298866, 0.021959902718663216, 0.05472024902701378, 0.015451465733349323, 0.09423702210187912, 0.07263343781232834, 0.01020452007651329, 0.06709440052509308, 0.05823833867907524, 0.06738760322332382, 0.0, 0.0, 0.0, 0.0, 0.0, 0.0, 0.0], [0.7350010871887207, 0.011997584253549576, 0.015109797939658165, 0.006408855319023132, 0.010193235240876675, 0.008850126527249813, 0.061630330979824066, 0.030334962531924248, 0.005970568861812353, 0.021291136741638184, 0.013757993467152119, 0.04907318204641342, 0.030381176620721817, 0.0, 0.0, 0.0, 0.0, 0.0, 0.0], [0.7196022868156433, 0.012498820200562477, 0.005106446333229542, 0.01200674194842577, 0.04336439073085785, 0.005091306287795305, 0.043465424329042435, 0.03268204629421234, 0.005395485553890467, 0.008237515576183796, 0.01632462628185749, 0.04486948251724243, 0.013911250047385693, 0.03744421899318695, 0.0, 0.0, 0.0, 0.0, 0.0], [0.41543060541152954, 0.011670405976474285, 0.013520637527108192, 0.014825109392404556, 0.006097030360251665, 0.007147237192839384, 0.05046812444925308, 0.03555581346154213, 0.0027228444814682007, 0.0059868511743843555, 0.005930652841925621, 0.1966703087091446, 0.03628392890095711, 0.1433228999376297, 0.054367586970329285, 0.0, 0.0, 0.0, 0.0], [0.2563016712665558, 0.00923838745802641, 0.007763815578073263, 0.013520892709493637, 0.019283629953861237, 0.024014262482523918, 0.3544570803642273, 0.05418245494365692, 0.00729714659973979, 0.034213628619909286, 0.03080141544342041, 0.04727662727236748, 0.01270065177232027, 0.03884795680642128, 0.033311910927295685, 0.056788500398397446, 0.0, 0.0, 0.0], [0.3589603006839752, 0.006550488527864218, 0.036949384957551956, 0.013466029427945614, 0.10556793957948685, 0.031350769102573395, 0.212416410446167, 0.02885393798351288, 0.007251173257827759, 0.05994265899062157, 0.0490361712872982, 0.013327649794518948, 0.006091379094868898, 0.012520034797489643, 0.014069264754652977, 0.01420629769563675, 0.029440060257911682, 0.0, 0.0], [0.17031878232955933, 0.004954447969794273, 0.04999913275241852, 0.010873337276279926, 0.029640955850481987, 0.0691363513469696, 0.32542380690574646, 0.024169834330677986, 0.008272568695247173, 0.09778371453285217, 0.05647621676325798, 0.006779791787266731, 0.0011153718223795295, 0.004230876918882132, 0.03912591189146042, 0.01587962731719017, 0.04340892657637596, 0.042410265654325485, 0.0], [0.11830483376979828, 0.0041704000905156136, 0.021920550614595413, 0.011576374061405659, 0.02221355214715004, 0.055100228637456894, 0.4227536618709564, 0.022175494581460953, 0.00832777377218008, 0.10953325033187866, 0.0509672649204731, 0.005883540492504835, 0.0009782977867871523, 0.002462446689605713, 0.011974758468568325, 0.007637578994035721, 0.03727640584111214, 0.02404097095131874, 0.06270260363817215]], [[1.0, 0.0, 0.0, 0.0, 0.0, 0.0, 0.0, 0.0, 0.0, 0.0, 0.0, 0.0, 0.0, 0.0, 0.0, 0.0, 0.0, 0.0, 0.0], [0.9484090805053711, 0.05159091204404831, 0.0, 0.0, 0.0, 0.0, 0.0, 0.0, 0.0, 0.0, 0.0, 0.0, 0.0, 0.0, 0.0, 0.0, 0.0, 0.0, 0.0], [0.9695433974266052, 0.029977155849337578, 0.000479374808492139, 0.0, 0.0, 0.0, 0.0, 0.0, 0.0, 0.0, 0.0, 0.0, 0.0, 0.0, 0.0, 0.0, 0.0, 0.0, 0.0], [0.9135279059410095, 0.04152854159474373, 0.0017344120424240828, 0.043209075927734375, 0.0, 0.0, 0.0, 0.0, 0.0, 0.0, 0.0, 0.0, 0.0, 0.0, 0.0, 0.0, 0.0, 0.0, 0.0], [0.9593295454978943, 0.010313139297068119, 0.0018555712886154652, 0.009713748469948769, 0.01878795027732849, 0.0, 0.0, 0.0, 0.0, 0.0, 0.0, 0.0, 0.0, 0.0, 0.0, 0.0, 0.0, 0.0, 0.0], [0.7952059507369995, 0.013054185546934605, 0.001339823822490871, 0.035999447107315063, 0.13645267486572266, 0.017947830259799957, 0.0, 0.0, 0.0, 0.0, 0.0, 0.0, 0.0, 0.0, 0.0, 0.0, 0.0, 0.0, 0.0], [0.8868772983551025, 0.0051971017383039, 0.0011406036792322993, 0.011383799836039543, 0.07147882878780365, 0.010067987255752087, 0.013854339718818665, 0.0, 0.0, 0.0, 0.0, 0.0, 0.0, 0.0, 0.0, 0.0, 0.0, 0.0, 0.0], [0.7405295968055725, 0.008785572834312916, 0.002375846030190587, 0.01611526496708393, 0.10309538245201111, 0.012445908039808273, 0.07730497419834137, 0.039347462356090546, 0.0, 0.0, 0.0, 0.0, 0.0, 0.0, 0.0, 0.0, 0.0, 0.0, 0.0], [0.5586088299751282, 0.00870545208454132, 0.012807583436369896, 0.029241248965263367, 0.1928779035806656, 0.029751071706414223, 0.057452231645584106, 0.10261096060276031, 0.007944733835756779, 0.0, 0.0, 0.0, 0.0, 0.0, 0.0, 0.0, 0.0, 0.0, 0.0], [0.7895581722259521, 0.005440969951450825, 0.00015711283776909113, 0.008207561448216438, 0.15783023834228516, 0.002128106076270342, 0.009218166582286358, 0.018990080803632736, 0.002467019949108362, 0.006002529989928007, 0.0, 0.0, 0.0, 0.0, 0.0, 0.0, 0.0, 0.0, 0.0], [0.8880981802940369, 0.0031373396050184965, 0.0009643032681196928, 0.0037395518738776445, 0.045245472341775894, 0.0021417702082544565, 0.010370614007115364, 0.018532348796725273, 0.002382334554567933, 0.006674626842141151, 0.01871337927877903, 0.0, 0.0, 0.0, 0.0, 0.0, 0.0, 0.0, 0.0], [0.8445372581481934, 0.01425685454159975, 0.000658798438962549, 0.007802109234035015, 0.04012845829129219, 0.002159245777875185, 0.011434132233262062, 0.012357208877801895, 0.006690345238894224, 0.0067558628506958485, 0.018482426181435585, 0.03473735600709915, 0.0, 0.0, 0.0, 0.0, 0.0, 0.0, 0.0], [0.917224109172821, 0.013435708358883858, 0.0013100560754537582, 0.00326904421672225, 0.012666059657931328, 0.002250649966299534, 0.002923353109508753, 0.013217577710747719, 0.004651724360883236, 0.002965994644910097, 0.004346424248069525, 0.017646316438913345, 0.00409298250451684, 0.0, 0.0, 0.0, 0.0, 0.0, 0.0], [0.8665220141410828, 0.020774880424141884, 0.00016140770458150655, 0.0018968618242070079, 0.01272550132125616, 0.0004309838986955583, 0.003033171873539686, 0.006169657222926617, 0.004585849121212959, 0.0032689988147467375, 0.004627593792974949, 0.028192898258566856, 0.008502296172082424, 0.03910781815648079, 0.0, 0.0, 0.0, 0.0, 0.0], [0.844184935092926, 0.008010250516235828, 0.000862741144374013, 0.005060601979494095, 0.008153405040502548, 0.0016961361980065703, 0.007503417786210775, 0.00406652083620429, 0.0018951287493109703, 0.002172779757529497, 0.0016499037155881524, 0.01594586670398712, 0.004604800138622522, 0.0541149340569973, 0.040078725665807724, 0.0, 0.0, 0.0, 0.0], [0.5971240997314453, 0.022736677899956703, 0.001372317667119205, 0.014096375554800034, 0.06409969180822372, 0.006889008451253176, 0.052105408161878586, 0.01472646277397871, 0.009172878228127956, 0.019753968343138695, 0.03153916448354721, 0.04156725853681564, 0.0062045082449913025, 0.046545401215553284, 0.05494638904929161, 0.01712043397128582, 0.0, 0.0, 0.0], [0.7457271218299866, 0.01670214720070362, 0.0009749953169375658, 0.009037723764777184, 0.07663708925247192, 0.003972040489315987, 0.013865531422197819, 0.007499634753912687, 0.008053517900407314, 0.009899243712425232, 0.01222166232764721, 0.01792408712208271, 0.0024543062318116426, 0.013008762151002884, 0.029646161943674088, 0.01406905148178339, 0.018306976184248924, 0.0, 0.0], [0.6107043623924255, 0.0073792655020952225, 0.001356693566776812, 0.005660412833094597, 0.017250053584575653, 0.003894212655723095, 0.037856314331293106, 0.012120479717850685, 0.003248069202527404, 0.04138702154159546, 0.00978881772607565, 0.03772156685590744, 0.002565594855695963, 0.034780170768499374, 0.0801539197564125, 0.04952884092926979, 0.02184959687292576, 0.022754624485969543, 0.0], [0.5074666142463684, 0.010228725150227547, 0.0006432763184420764, 0.008401274681091309, 0.05298735201358795, 0.0027075805701315403, 0.05538397654891014, 0.01592564582824707, 0.0055449181236326694, 0.03150926157832146, 0.021393166854977608, 0.043753206729888916, 0.002363166306167841, 0.025717001408338547, 0.030226510018110275, 0.02193700335919857, 0.04358883574604988, 0.1045268103480339, 0.01569564826786518]], [[1.0, 0.0, 0.0, 0.0, 0.0, 0.0, 0.0, 0.0, 0.0, 0.0, 0.0, 0.0, 0.0, 0.0, 0.0, 0.0, 0.0, 0.0, 0.0], [0.9709789156913757, 0.02902110107243061, 0.0, 0.0, 0.0, 0.0, 0.0, 0.0, 0.0, 0.0, 0.0, 0.0, 0.0, 0.0, 0.0, 0.0, 0.0, 0.0, 0.0], [0.7629953622817993, 0.16137447953224182, 0.07563015818595886, 0.0, 0.0, 0.0, 0.0, 0.0, 0.0, 0.0, 0.0, 0.0, 0.0, 0.0, 0.0, 0.0, 0.0, 0.0, 0.0], [0.6974257826805115, 0.03704146668314934, 0.22252929210662842, 0.04300341755151749, 0.0, 0.0, 0.0, 0.0, 0.0, 0.0, 0.0, 0.0, 0.0, 0.0, 0.0, 0.0, 0.0, 0.0, 0.0], [0.48995277285575867, 0.02894500084221363, 0.27428534626960754, 0.158580020070076, 0.04823688417673111, 0.0, 0.0, 0.0, 0.0, 0.0, 0.0, 0.0, 0.0, 0.0, 0.0, 0.0, 0.0, 0.0, 0.0], [0.20280006527900696, 0.05405726283788681, 0.3391239047050476, 0.15128502249717712, 0.18684865534305573, 0.06588505208492279, 0.0, 0.0, 0.0, 0.0, 0.0, 0.0, 0.0, 0.0, 0.0, 0.0, 0.0, 0.0, 0.0], [0.48802176117897034, 0.030946310609579086, 0.11991307884454727, 0.08076034486293793, 0.10076116770505905, 0.1404537707567215, 0.039143599569797516, 0.0, 0.0, 0.0, 0.0, 0.0, 0.0, 0.0, 0.0, 0.0, 0.0, 0.0, 0.0], [0.6293690204620361, 0.05710544064640999, 0.052487920969724655, 0.06049720570445061, 0.08678808063268661, 0.026112977415323257, 0.0697624608874321, 0.01787685975432396, 0.0, 0.0, 0.0, 0.0, 0.0, 0.0, 0.0, 0.0, 0.0, 0.0, 0.0], [0.47800448536872864, 0.009730871766805649, 0.013449697755277157, 0.010352780111134052, 0.034700214862823486, 0.01869303174316883, 0.04149559140205383, 0.33653709292411804, 0.05703619495034218, 0.0, 0.0, 0.0, 0.0, 0.0, 0.0, 0.0, 0.0, 0.0, 0.0], [0.5796682238578796, 0.011843702755868435, 0.004149407614022493, 0.007238220889121294, 0.02734452672302723, 0.011312916874885559, 0.007607084698975086, 0.1025884822010994, 0.21127985417842865, 0.03696760535240173, 0.0, 0.0, 0.0, 0.0, 0.0, 0.0, 0.0, 0.0, 0.0], [0.2731853723526001, 0.014332858845591545, 0.007040017284452915, 0.005706048104912043, 0.016927409917116165, 0.0076638744212687016, 0.008916528895497322, 0.11607225239276886, 0.3334907591342926, 0.17830462753772736, 0.03836021572351456, 0.0, 0.0, 0.0, 0.0, 0.0, 0.0, 0.0, 0.0], [0.4914182722568512, 0.019061382859945297, 0.004527653101831675, 0.010845969431102276, 0.031672652810811996, 0.005104464013129473, 0.03490353748202324, 0.15414805710315704, 0.025588421151041985, 0.028506292030215263, 0.05295247584581375, 0.1412707418203354, 0.0, 0.0, 0.0, 0.0, 0.0, 0.0, 0.0], [0.5835627317428589, 0.0032858962658792734, 0.0013239365071058273, 0.0021690400317311287, 0.00745153333991766, 0.002225196221843362, 0.0046551949344575405, 0.032138723880052567, 0.005236195866018534, 0.004463539458811283, 0.02591809257864952, 0.31305572390556335, 0.014514226466417313, 0.0, 0.0, 0.0, 0.0, 0.0, 0.0], [0.7647231817245483, 0.0018229633569717407, 0.0021369464229792356, 0.0026651243679225445, 0.010465273633599281, 0.002024772111326456, 0.012812304310500622, 0.039371706545352936, 0.003012638073414564, 0.011190926656126976, 0.019023315981030464, 0.07329278439283371, 0.021418120712041855, 0.03603990003466606, 0.0, 0.0, 0.0, 0.0, 0.0], [0.7622063159942627, 0.001319190370850265, 0.0013756297994405031, 0.004831057041883469, 0.0063351527787745, 0.0005900271353311837, 0.0018886233447119594, 0.0011760760098695755, 0.0005057696835137904, 0.0005241819890215993, 0.0009443581220693886, 0.008765142410993576, 0.0176597498357296, 0.07370061427354813, 0.11817815154790878, 0.0, 0.0, 0.0, 0.0], [0.6529613137245178, 0.0013785307528451085, 0.0016000024043023586, 0.002280993852764368, 0.005336375907063484, 0.0008123692241497338, 0.004782887641340494, 0.0008150663343258202, 0.00028502868372015655, 0.0008612445672042668, 0.0018963668262585998, 0.004091798793524504, 0.009245204739272594, 0.0566224604845047, 0.17721305787563324, 0.07981731742620468, 0.0, 0.0, 0.0], [0.6422708034515381, 0.0006796245579607785, 0.0027772148605436087, 0.0015343483537435532, 0.00568901002407074, 0.001349670230410993, 0.0036680286284536123, 0.002327865920960903, 0.001364261843264103, 0.005312545225024223, 0.004655849654227495, 0.013612351380288601, 0.008707810193300247, 0.02009328454732895, 0.05148027464747429, 0.15534646809101105, 0.07913065701723099, 0.0, 0.0], [0.38612088561058044, 0.0016351202502846718, 0.005673907231539488, 0.006644904147833586, 0.0036145637277513742, 0.0020989342592656612, 0.0035478712525218725, 0.0022219212260097265, 0.003157692961394787, 0.007470077835023403, 0.0023392580915242434, 0.00848937314003706, 0.013283212669193745, 0.010807822458446026, 0.013519099913537502, 0.08280649036169052, 0.36821117997169495, 0.07835769653320312, 0.0], [0.25867515802383423, 0.0013997500063851476, 0.004840274341404438, 0.0045040142722427845, 0.011555075645446777, 0.0013764661271125078, 0.0024251106660813093, 0.0035836538299918175, 0.0072026969864964485, 0.006235877051949501, 0.004009481053799391, 0.010968639515340328, 0.00309897237457335, 0.009267613291740417, 0.023020289838314056, 0.08501853048801422, 0.209469273686409, 0.28963804244995117, 0.06371107697486877]], [[1.0, 0.0, 0.0, 0.0, 0.0, 0.0, 0.0, 0.0, 0.0, 0.0, 0.0, 0.0, 0.0, 0.0, 0.0, 0.0, 0.0, 0.0, 0.0], [0.9894742369651794, 0.010525748133659363, 0.0, 0.0, 0.0, 0.0, 0.0, 0.0, 0.0, 0.0, 0.0, 0.0, 0.0, 0.0, 0.0, 0.0, 0.0, 0.0, 0.0], [0.9941138625144958, 0.00339083606377244, 0.0024953505489975214, 0.0, 0.0, 0.0, 0.0, 0.0, 0.0, 0.0, 0.0, 0.0, 0.0, 0.0, 0.0, 0.0, 0.0, 0.0, 0.0], [0.9863008260726929, 0.001888074679300189, 0.001494244090281427, 0.010316794738173485, 0.0, 0.0, 0.0, 0.0, 0.0, 0.0, 0.0, 0.0, 0.0, 0.0, 0.0, 0.0, 0.0, 0.0, 0.0], [0.9758541584014893, 0.002269383054226637, 0.0030673888977617025, 0.005044637247920036, 0.013764367438852787, 0.0, 0.0, 0.0, 0.0, 0.0, 0.0, 0.0, 0.0, 0.0, 0.0, 0.0, 0.0, 0.0, 0.0], [0.9411173462867737, 0.0007944805547595024, 0.0024502479936927557, 0.0036863647401332855, 0.009221178479492664, 0.04273037239909172, 0.0, 0.0, 0.0, 0.0, 0.0, 0.0, 0.0, 0.0, 0.0, 0.0, 0.0, 0.0, 0.0], [0.9442597031593323, 0.0009494677651673555, 0.0015623769722878933, 0.0024688434787094593, 0.012112462893128395, 0.0036213123239576817, 0.035025760531425476, 0.0, 0.0, 0.0, 0.0, 0.0, 0.0, 0.0, 0.0, 0.0, 0.0, 0.0, 0.0], [0.7754848003387451, 0.0023682343307882547, 0.005034898407757282, 0.0031098027247935534, 0.004466067533940077, 0.00939877424389124, 0.1835561841726303, 0.016581175848841667, 0.0, 0.0, 0.0, 0.0, 0.0, 0.0, 0.0, 0.0, 0.0, 0.0, 0.0], [0.8846307992935181, 0.0044829705730080605, 0.053876422345638275, 0.0030784925911575556, 0.006650825031101704, 0.014628822915256023, 0.019558290019631386, 0.00594464922323823, 0.00714866304770112, 0.0, 0.0, 0.0, 0.0, 0.0, 0.0, 0.0, 0.0, 0.0, 0.0], [0.980459988117218, 0.000770147773437202, 0.0009657008922658861, 0.0015999373281374574, 0.0019998319912701845, 0.0006854019011370838, 0.004713135771453381, 0.0012895746622234583, 0.00032720636227168143, 0.00718894274905324, 0.0, 0.0, 0.0, 0.0, 0.0, 0.0, 0.0, 0.0, 0.0], [0.8078298568725586, 0.0027388527523726225, 0.008241203613579273, 0.004769474267959595, 0.01297292672097683, 0.01517468225210905, 0.08583101630210876, 0.011303371749818325, 0.002311032498255372, 0.039569415152072906, 0.00925810169428587, 0.0, 0.0, 0.0, 0.0, 0.0, 0.0, 0.0, 0.0], [0.8522763848304749, 0.005006751511245966, 0.0055262623354792595, 0.005653045140206814, 0.01345095969736576, 0.0035645572934299707, 0.07706821709871292, 0.006906859111040831, 0.0029247114434838295, 0.014481397345662117, 0.006914745084941387, 0.006226096767932177, 0.0, 0.0, 0.0, 0.0, 0.0, 0.0, 0.0], [0.9149172306060791, 0.0043081194162368774, 0.004323529079556465, 0.0021330895833671093, 0.004896633327007294, 0.004248420707881451, 0.04122842475771904, 0.003616519970819354, 0.0011287935776636004, 0.005515444092452526, 0.001646784134209156, 0.009099697694182396, 0.0029373455327004194, 0.0, 0.0, 0.0, 0.0, 0.0, 0.0], [0.9182811975479126, 0.006082836072891951, 0.002304160501807928, 0.004698526579886675, 0.012366324663162231, 0.00383590254932642, 0.035783685743808746, 0.0013343447353690863, 0.0006627488182857633, 0.0038234780076891184, 0.001771428040228784, 0.0020452344324439764, 0.0038606529124081135, 0.0031495881266891956, 0.0, 0.0, 0.0, 0.0, 0.0], [0.8291077613830566, 0.006071761716157198, 0.004028097726404667, 0.004124315455555916, 0.02390061877667904, 0.008589713834226131, 0.06239056959748268, 0.0021836215164512396, 0.0004960873629897833, 0.0053917402401566505, 0.0023343677166849375, 0.002536435378715396, 0.003066775854676962, 0.0019149278523400426, 0.043863240629434586, 0.0, 0.0, 0.0, 0.0], [0.5098565220832825, 0.005223350133746862, 0.007039099466055632, 0.005641344469040632, 0.01601744256913662, 0.00638301158323884, 0.3670044541358948, 0.004309408366680145, 0.0020018175709992647, 0.019551854580640793, 0.008864592760801315, 0.0031225986313074827, 0.004809525329619646, 0.004255904816091061, 0.031090635806322098, 0.004828407429158688, 0.0, 0.0, 0.0], [0.7287770509719849, 0.001836016890592873, 0.0015183144714683294, 0.0035305286291986704, 0.1176312044262886, 0.017063762992620468, 0.09004601091146469, 0.003574521979317069, 0.0005237759905867279, 0.004089757334440947, 0.002468527527526021, 0.00206130207516253, 0.0006911971140652895, 0.0023000079672783613, 0.01636711321771145, 0.002850497607141733, 0.004670410417020321, 0.0, 0.0], [0.5272611975669861, 0.002224778989329934, 0.004440384451299906, 0.0026428522542119026, 0.017376426607370377, 0.04880693554878235, 0.31237226724624634, 0.0056121149100363255, 0.00116520666051656, 0.027237508445978165, 0.00362101336941123, 0.003429259406402707, 0.0005769974086433649, 0.001201314153149724, 0.02698083035647869, 0.005330710671842098, 0.002393112052232027, 0.007327015977352858, 0.0], [0.4313824772834778, 0.000528200063854456, 0.002042318694293499, 0.0012445211177691817, 0.005470524542033672, 0.014060181565582752, 0.5055868029594421, 0.002258702414110303, 0.00026024741237051785, 0.002491690218448639, 0.0017348595429211855, 0.001199074788019061, 0.0006305419374257326, 0.002218301175162196, 0.0055095721036195755, 0.0025340658612549305, 0.0013649031752720475, 0.0021123038604855537, 0.017370708286762238]], [[1.0, 0.0, 0.0, 0.0, 0.0, 0.0, 0.0, 0.0, 0.0, 0.0, 0.0, 0.0, 0.0, 0.0, 0.0, 0.0, 0.0, 0.0, 0.0], [0.9897458553314209, 0.01025408785790205, 0.0, 0.0, 0.0, 0.0, 0.0, 0.0, 0.0, 0.0, 0.0, 0.0, 0.0, 0.0, 0.0, 0.0, 0.0, 0.0, 0.0], [0.9874837398529053, 0.007234074641019106, 0.005282159894704819, 0.0, 0.0, 0.0, 0.0, 0.0, 0.0, 0.0, 0.0, 0.0, 0.0, 0.0, 0.0, 0.0, 0.0, 0.0, 0.0], [0.9333149790763855, 0.02510070987045765, 0.0011948697501793504, 0.04038950055837631, 0.0, 0.0, 0.0, 0.0, 0.0, 0.0, 0.0, 0.0, 0.0, 0.0, 0.0, 0.0, 0.0, 0.0, 0.0], [0.9802863001823425, 0.0017673958791419864, 9.004829917103052e-05, 0.004418909549713135, 0.013437313959002495, 0.0, 0.0, 0.0, 0.0, 0.0, 0.0, 0.0, 0.0, 0.0, 0.0, 0.0, 0.0, 0.0, 0.0], [0.9557183980941772, 0.0029398459009826183, 0.0006085146451368928, 0.012765401042997837, 0.022017113864421844, 0.005950754974037409, 0.0, 0.0, 0.0, 0.0, 0.0, 0.0, 0.0, 0.0, 0.0, 0.0, 0.0, 0.0, 0.0], [0.9734930396080017, 0.0022309001069515944, 0.0002789632126223296, 0.006033186800777912, 0.010553780943155289, 0.0022580295335501432, 0.005152186844497919, 0.0, 0.0, 0.0, 0.0, 0.0, 0.0, 0.0, 0.0, 0.0, 0.0, 0.0, 0.0], [0.9768140912055969, 0.0018021452706307173, 0.0003840923891402781, 0.003924844320863485, 0.003723559435456991, 0.001556224306114018, 0.004234847612679005, 0.007560163736343384, 0.0, 0.0, 0.0, 0.0, 0.0, 0.0, 0.0, 0.0, 0.0, 0.0, 0.0], [0.9255302548408508, 0.007503324653953314, 0.02459925413131714, 0.013907243497669697, 0.0012700003571808338, 0.0005163750611245632, 0.002745535224676132, 0.007740919012576342, 0.0161871537566185, 0.0, 0.0, 0.0, 0.0, 0.0, 0.0, 0.0, 0.0, 0.0, 0.0], [0.8785368204116821, 0.008336847648024559, 0.0013569003203883767, 0.005943655036389828, 0.036545105278491974, 0.003155054757371545, 0.006912606302648783, 0.03366979584097862, 0.02002626471221447, 0.005516965873539448, 0.0, 0.0, 0.0, 0.0, 0.0, 0.0, 0.0, 0.0, 0.0], [0.9321777820587158, 0.001096086809411645, 5.634199987980537e-05, 0.0025937645696103573, 0.01614474691450596, 0.002649021567776799, 0.008691150695085526, 0.02811458148062229, 0.0016037864843383431, 0.0009371778578497469, 0.005935526918619871, 0.0, 0.0, 0.0, 0.0, 0.0, 0.0, 0.0, 0.0], [0.9533286094665527, 0.0016218179371207952, 0.00016993150347843766, 0.0028583903331309557, 0.006523637101054192, 0.000992262503132224, 0.003994541242718697, 0.004679333884268999, 0.002361603081226349, 0.0008639601292088628, 0.003644762095063925, 0.018961226567626, 0.0, 0.0, 0.0, 0.0, 0.0, 0.0, 0.0], [0.9619210958480835, 0.0049595460295677185, 0.0009178553009405732, 0.003807950532063842, 0.004871002398431301, 0.0005316644092090428, 0.0023760513868182898, 0.0016967502888292074, 0.001446601003408432, 0.0007811428513377905, 0.0021285079419612885, 0.007437900640070438, 0.007123887073248625, 0.0, 0.0, 0.0, 0.0, 0.0, 0.0], [0.9572263360023499, 0.0033692610450088978, 0.00011744420771719888, 0.0018997478764504194, 0.009129409678280354, 0.0003942498588003218, 0.0013172264443710446, 0.0011962002608925104, 0.001048066420480609, 0.0008611168013885617, 0.0017496207728981972, 0.010522457771003246, 0.0012749999295920134, 0.00989378523081541, 0.0, 0.0, 0.0, 0.0, 0.0], [0.922404944896698, 0.016910074278712273, 0.0006973246345296502, 0.005843262188136578, 0.0026325243525207043, 0.0005870080203749239, 0.0011469824239611626, 0.0046606725081801414, 0.009226715192198753, 0.0013004080392420292, 0.00043911379179917276, 0.012686031870543957, 0.005370671395212412, 0.011229237541556358, 0.0048651243560016155, 0.0, 0.0, 0.0, 0.0], [0.8236009478569031, 0.0045527261681854725, 0.0005451550823636353, 0.009943988174200058, 0.02900199592113495, 0.0029094326309859753, 0.02578173577785492, 0.01425215695053339, 0.0026605946477502584, 0.003337179310619831, 0.01639331318438053, 0.03958520665764809, 0.002741593401879072, 0.014360936358571053, 0.002687976462766528, 0.007645136676728725, 0.0, 0.0, 0.0], [0.44718077778816223, 0.016626542434096336, 0.0005212805699557066, 0.009678413160145283, 0.22751565277576447, 0.020570313557982445, 0.024208808317780495, 0.022736866027116776, 0.003747772891074419, 0.0007524443790316582, 0.05803299322724342, 0.053545188158750534, 0.005935498513281345, 0.04030664265155792, 0.005952541250735521, 0.026255296543240547, 0.036432936787605286, 0.0, 0.0], [0.655441403388977, 0.002039778744801879, 0.0001102988317143172, 0.0054700919426977634, 0.027828488498926163, 0.011026891879737377, 0.08754190802574158, 0.031156059354543686, 0.0017195392865687609, 0.0010824116179719567, 0.016666347160935402, 0.06306765228509903, 0.004836047999560833, 0.03749927133321762, 0.0036158114671707153, 0.014877031557261944, 0.01825929805636406, 0.017761701717972755, 0.0], [0.7906280159950256, 0.002796665532514453, 0.00010504628153285012, 0.0034223338589072227, 0.017521558329463005, 0.0024060015566647053, 0.031070651486516, 0.01744445227086544, 0.0010664361761882901, 0.0005153923993930221, 0.008796265348792076, 0.03874341398477554, 0.0032926483545452356, 0.026406114920973778, 0.002355235395953059, 0.009802163578569889, 0.01975172758102417, 0.014968089759349823, 0.008907743729650974]]], \"attentionHeadNames\": [\"L10H4\", \"L9H2\", \"L8H5\", \"L10H1\", \"L7H1\"], \"tokens\": [\"<|endoftext|>\", \"I\", \" thought\", \" this\", \" movie\", \" was\", \" perfect\", \",\", \" I\", \" loved\", \" it\", \".\", \" \", \"\\n\", \"Conclusion\", \":\", \" This\", \" movie\", \" is\"]}\n",
              "    )\n",
              "    </script>"
            ],
            "text/plain": [
              "<circuitsvis.utils.render.RenderedHTML at 0x7f9cf008d880>"
            ]
          },
          "execution_count": 33,
          "metadata": {},
          "output_type": "execute_result"
        }
      ],
      "source": [
        "from visualization_utils import get_attn_head_patterns\n",
        "\n",
        "top_k = 5\n",
        "top_heads = torch.topk(-results['z'].flatten(), k=top_k).indices.cpu().numpy()\n",
        "heads = [(head // model.cfg.n_heads, head % model.cfg.n_heads) for head in top_heads]\n",
        "tokens, attn, names = get_attn_head_patterns(model, all_prompts[0], heads)\n",
        "cv.attention.attention_heads(tokens=tokens, attention=attn, attention_head_names=names)"
      ]
    },
    {
      "cell_type": "code",
      "execution_count": 37,
      "metadata": {},
      "outputs": [
        {
          "name": "stdout",
          "output_type": "stream",
          "text": [
            "Tried to stack head results when they weren't cached. Computing head results now\n"
          ]
        },
        {
          "data": {
            "application/vnd.plotly.v1+json": {
              "config": {
                "plotlyServerURL": "https://plot.ly"
              },
              "data": [
                {
                  "customdata": [
                    [
                      "I thought this movie was perfect, I loved it. \nConclusion: This movie is"
                    ],
                    [
                      "I thought this movie was fantastic, I loved it. \nConclusion: This movie is"
                    ],
                    [
                      "I thought this movie was delightful, I loved it. \nConclusion: This movie is"
                    ],
                    [
                      "I thought this movie was cheerful, I loved it. \nConclusion: This movie is"
                    ],
                    [
                      "I thought this movie was marvelous, I loved it. \nConclusion: This movie is"
                    ],
                    [
                      "I thought this movie was good, I loved it. \nConclusion: This movie is"
                    ],
                    [
                      "I thought this movie was remarkable, I loved it. \nConclusion: This movie is"
                    ],
                    [
                      "I thought this movie was wonderful, I loved it. \nConclusion: This movie is"
                    ],
                    [
                      "I thought this movie was fabulous, I loved it. \nConclusion: This movie is"
                    ],
                    [
                      "I thought this movie was outstanding, I loved it. \nConclusion: This movie is"
                    ],
                    [
                      "I thought this movie was awesome, I loved it. \nConclusion: This movie is"
                    ],
                    [
                      "I thought this movie was exceptional, I loved it. \nConclusion: This movie is"
                    ],
                    [
                      "I thought this movie was incredible, I loved it. \nConclusion: This movie is"
                    ],
                    [
                      "I thought this movie was extraordinary, I loved it. \nConclusion: This movie is"
                    ],
                    [
                      "I thought this movie was amazing, I loved it. \nConclusion: This movie is"
                    ],
                    [
                      "I thought this movie was lovely, I loved it. \nConclusion: This movie is"
                    ],
                    [
                      "I thought this movie was brilliant, I loved it. \nConclusion: This movie is"
                    ],
                    [
                      "I thought this movie was charming, I loved it. \nConclusion: This movie is"
                    ],
                    [
                      "I thought this movie was terrific, I loved it. \nConclusion: This movie is"
                    ],
                    [
                      "I thought this movie was superb, I loved it. \nConclusion: This movie is"
                    ],
                    [
                      "I thought this movie was spectacular, I loved it. \nConclusion: This movie is"
                    ],
                    [
                      "I thought this movie was great, I loved it. \nConclusion: This movie is"
                    ],
                    [
                      "I thought this movie was splendid, I loved it. \nConclusion: This movie is"
                    ],
                    [
                      "I thought this movie was beautiful, I loved it. \nConclusion: This movie is"
                    ],
                    [
                      "I thought this movie was joyful, I loved it. \nConclusion: This movie is"
                    ]
                  ],
                  "hovertemplate": "Word Type=Positive Sentiment<br>Attn Prob on Word=%{x}<br>Dot w Sentiment Embed=%{y}<br>text=%{customdata[0]}<extra></extra>",
                  "legendgroup": "Positive Sentiment",
                  "marker": {
                    "color": "rgb(114,255,100)",
                    "symbol": "circle"
                  },
                  "mode": "markers",
                  "name": "Positive Sentiment",
                  "orientation": "v",
                  "showlegend": true,
                  "type": "scatter",
                  "x": [
                    0.05538397654891014,
                    0.12723416090011597,
                    0.15652920305728912,
                    0.19478219747543335,
                    0.13639616966247559,
                    0.08748866617679596,
                    0.10907142609357834,
                    0.11497654020786285,
                    0.12201215326786041,
                    0.12067113816738129,
                    0.1487688273191452,
                    0.0955926775932312,
                    0.14805519580841064,
                    0.13943859934806824,
                    0.14692890644073486,
                    0.12659835815429688,
                    0.1316756308078766,
                    0.18462084233760834,
                    0.10424478352069855,
                    0.1084711104631424,
                    0.18709184229373932,
                    0.07934118062257767,
                    0.12081295996904373,
                    0.1581469476222992,
                    0.2453843504190445
                  ],
                  "xaxis": "x",
                  "y": [
                    0.16821852326393127,
                    0.256219744682312,
                    0.2385150045156479,
                    0.19294272363185883,
                    0.254172682762146,
                    0.18749773502349854,
                    0.23564733564853668,
                    0.24392825365066528,
                    0.2656712234020233,
                    0.23343947529792786,
                    0.2727125883102417,
                    0.21650101244449615,
                    0.28148597478866577,
                    0.2531375288963318,
                    0.2881339490413666,
                    0.23357602953910828,
                    0.2496664673089981,
                    0.2203446477651596,
                    0.21651189029216766,
                    0.2150695025920868,
                    0.303588330745697,
                    0.2031286358833313,
                    0.22499613463878632,
                    0.2631286382675171,
                    0.27302536368370056
                  ],
                  "yaxis": "y"
                },
                {
                  "customdata": [
                    [
                      "I thought this movie was dreadful, I hated it. \nConclusion: This movie is"
                    ],
                    [
                      "I thought this movie was bad, I hated it. \nConclusion: This movie is"
                    ],
                    [
                      "I thought this movie was dull, I hated it. \nConclusion: This movie is"
                    ],
                    [
                      "I thought this movie was depressing, I hated it. \nConclusion: This movie is"
                    ],
                    [
                      "I thought this movie was miserable, I hated it. \nConclusion: This movie is"
                    ],
                    [
                      "I thought this movie was tragic, I hated it. \nConclusion: This movie is"
                    ],
                    [
                      "I thought this movie was nasty, I hated it. \nConclusion: This movie is"
                    ],
                    [
                      "I thought this movie was inferior, I hated it. \nConclusion: This movie is"
                    ],
                    [
                      "I thought this movie was horrific, I hated it. \nConclusion: This movie is"
                    ],
                    [
                      "I thought this movie was terrible, I hated it. \nConclusion: This movie is"
                    ],
                    [
                      "I thought this movie was ugly, I hated it. \nConclusion: This movie is"
                    ],
                    [
                      "I thought this movie was disgusting, I hated it. \nConclusion: This movie is"
                    ],
                    [
                      "I thought this movie was disastrous, I hated it. \nConclusion: This movie is"
                    ],
                    [
                      "I thought this movie was horrendous, I hated it. \nConclusion: This movie is"
                    ],
                    [
                      "I thought this movie was annoying, I hated it. \nConclusion: This movie is"
                    ],
                    [
                      "I thought this movie was boring, I hated it. \nConclusion: This movie is"
                    ],
                    [
                      "I thought this movie was offensive, I hated it. \nConclusion: This movie is"
                    ],
                    [
                      "I thought this movie was frustrating, I hated it. \nConclusion: This movie is"
                    ],
                    [
                      "I thought this movie was wretched, I hated it. \nConclusion: This movie is"
                    ],
                    [
                      "I thought this movie was dire, I hated it. \nConclusion: This movie is"
                    ],
                    [
                      "I thought this movie was awful, I hated it. \nConclusion: This movie is"
                    ],
                    [
                      "I thought this movie was unpleasant, I hated it. \nConclusion: This movie is"
                    ],
                    [
                      "I thought this movie was horrible, I hated it. \nConclusion: This movie is"
                    ],
                    [
                      "I thought this movie was mediocre, I hated it. \nConclusion: This movie is"
                    ],
                    [
                      "I thought this movie was disappointing, I hated it. \nConclusion: This movie is"
                    ]
                  ],
                  "hovertemplate": "Word Type=Negative Sentiment<br>Attn Prob on Word=%{x}<br>Dot w Sentiment Embed=%{y}<br>text=%{customdata[0]}<extra></extra>",
                  "legendgroup": "Negative Sentiment",
                  "marker": {
                    "color": "rgb(201,165,247)",
                    "symbol": "circle"
                  },
                  "mode": "markers",
                  "name": "Negative Sentiment",
                  "orientation": "v",
                  "showlegend": true,
                  "type": "scatter",
                  "x": [
                    0.25253844261169434,
                    0.16932313144207,
                    0.1670883744955063,
                    0.30529382824897766,
                    0.1691829115152359,
                    0.27441874146461487,
                    0.2696867883205414,
                    0.0717582032084465,
                    0.33656612038612366,
                    0.19689853489398956,
                    0.2362442910671234,
                    0.34116485714912415,
                    0.19525356590747833,
                    0.29041844606399536,
                    0.202399343252182,
                    0.20239171385765076,
                    0.3083539605140686,
                    0.15015827119350433,
                    0.147596076130867,
                    0.17433278262615204,
                    0.23008321225643158,
                    0.20068791508674622,
                    0.24269679188728333,
                    0.1295240968465805,
                    0.16170617938041687
                  ],
                  "xaxis": "x",
                  "y": [
                    0.5340486168861389,
                    0.43333250284194946,
                    0.3345407247543335,
                    0.4539679288864136,
                    0.42191648483276367,
                    0.49496451020240784,
                    0.42717015743255615,
                    0.29858916997909546,
                    0.5941324234008789,
                    0.4749595522880554,
                    0.3867478668689728,
                    0.48767563700675964,
                    0.4558236002922058,
                    0.5714638829231262,
                    0.34329909086227417,
                    0.3221808671951294,
                    0.3309156596660614,
                    0.3511120676994324,
                    0.40008294582366943,
                    0.41814491152763367,
                    0.5019621849060059,
                    0.37251338362693787,
                    0.5354148745536804,
                    0.33417046070098877,
                    0.4042644798755646
                  ],
                  "yaxis": "y"
                }
              ],
              "layout": {
                "legend": {
                  "title": {
                    "text": "Word Type"
                  },
                  "tracegroupgap": 0
                },
                "template": {
                  "data": {
                    "bar": [
                      {
                        "error_x": {
                          "color": "#2a3f5f"
                        },
                        "error_y": {
                          "color": "#2a3f5f"
                        },
                        "marker": {
                          "line": {
                            "color": "#E5ECF6",
                            "width": 0.5
                          },
                          "pattern": {
                            "fillmode": "overlay",
                            "size": 10,
                            "solidity": 0.2
                          }
                        },
                        "type": "bar"
                      }
                    ],
                    "barpolar": [
                      {
                        "marker": {
                          "line": {
                            "color": "#E5ECF6",
                            "width": 0.5
                          },
                          "pattern": {
                            "fillmode": "overlay",
                            "size": 10,
                            "solidity": 0.2
                          }
                        },
                        "type": "barpolar"
                      }
                    ],
                    "carpet": [
                      {
                        "aaxis": {
                          "endlinecolor": "#2a3f5f",
                          "gridcolor": "white",
                          "linecolor": "white",
                          "minorgridcolor": "white",
                          "startlinecolor": "#2a3f5f"
                        },
                        "baxis": {
                          "endlinecolor": "#2a3f5f",
                          "gridcolor": "white",
                          "linecolor": "white",
                          "minorgridcolor": "white",
                          "startlinecolor": "#2a3f5f"
                        },
                        "type": "carpet"
                      }
                    ],
                    "choropleth": [
                      {
                        "colorbar": {
                          "outlinewidth": 0,
                          "ticks": ""
                        },
                        "type": "choropleth"
                      }
                    ],
                    "contour": [
                      {
                        "colorbar": {
                          "outlinewidth": 0,
                          "ticks": ""
                        },
                        "colorscale": [
                          [
                            0,
                            "#0d0887"
                          ],
                          [
                            0.1111111111111111,
                            "#46039f"
                          ],
                          [
                            0.2222222222222222,
                            "#7201a8"
                          ],
                          [
                            0.3333333333333333,
                            "#9c179e"
                          ],
                          [
                            0.4444444444444444,
                            "#bd3786"
                          ],
                          [
                            0.5555555555555556,
                            "#d8576b"
                          ],
                          [
                            0.6666666666666666,
                            "#ed7953"
                          ],
                          [
                            0.7777777777777778,
                            "#fb9f3a"
                          ],
                          [
                            0.8888888888888888,
                            "#fdca26"
                          ],
                          [
                            1,
                            "#f0f921"
                          ]
                        ],
                        "type": "contour"
                      }
                    ],
                    "contourcarpet": [
                      {
                        "colorbar": {
                          "outlinewidth": 0,
                          "ticks": ""
                        },
                        "type": "contourcarpet"
                      }
                    ],
                    "heatmap": [
                      {
                        "colorbar": {
                          "outlinewidth": 0,
                          "ticks": ""
                        },
                        "colorscale": [
                          [
                            0,
                            "#0d0887"
                          ],
                          [
                            0.1111111111111111,
                            "#46039f"
                          ],
                          [
                            0.2222222222222222,
                            "#7201a8"
                          ],
                          [
                            0.3333333333333333,
                            "#9c179e"
                          ],
                          [
                            0.4444444444444444,
                            "#bd3786"
                          ],
                          [
                            0.5555555555555556,
                            "#d8576b"
                          ],
                          [
                            0.6666666666666666,
                            "#ed7953"
                          ],
                          [
                            0.7777777777777778,
                            "#fb9f3a"
                          ],
                          [
                            0.8888888888888888,
                            "#fdca26"
                          ],
                          [
                            1,
                            "#f0f921"
                          ]
                        ],
                        "type": "heatmap"
                      }
                    ],
                    "heatmapgl": [
                      {
                        "colorbar": {
                          "outlinewidth": 0,
                          "ticks": ""
                        },
                        "colorscale": [
                          [
                            0,
                            "#0d0887"
                          ],
                          [
                            0.1111111111111111,
                            "#46039f"
                          ],
                          [
                            0.2222222222222222,
                            "#7201a8"
                          ],
                          [
                            0.3333333333333333,
                            "#9c179e"
                          ],
                          [
                            0.4444444444444444,
                            "#bd3786"
                          ],
                          [
                            0.5555555555555556,
                            "#d8576b"
                          ],
                          [
                            0.6666666666666666,
                            "#ed7953"
                          ],
                          [
                            0.7777777777777778,
                            "#fb9f3a"
                          ],
                          [
                            0.8888888888888888,
                            "#fdca26"
                          ],
                          [
                            1,
                            "#f0f921"
                          ]
                        ],
                        "type": "heatmapgl"
                      }
                    ],
                    "histogram": [
                      {
                        "marker": {
                          "pattern": {
                            "fillmode": "overlay",
                            "size": 10,
                            "solidity": 0.2
                          }
                        },
                        "type": "histogram"
                      }
                    ],
                    "histogram2d": [
                      {
                        "colorbar": {
                          "outlinewidth": 0,
                          "ticks": ""
                        },
                        "colorscale": [
                          [
                            0,
                            "#0d0887"
                          ],
                          [
                            0.1111111111111111,
                            "#46039f"
                          ],
                          [
                            0.2222222222222222,
                            "#7201a8"
                          ],
                          [
                            0.3333333333333333,
                            "#9c179e"
                          ],
                          [
                            0.4444444444444444,
                            "#bd3786"
                          ],
                          [
                            0.5555555555555556,
                            "#d8576b"
                          ],
                          [
                            0.6666666666666666,
                            "#ed7953"
                          ],
                          [
                            0.7777777777777778,
                            "#fb9f3a"
                          ],
                          [
                            0.8888888888888888,
                            "#fdca26"
                          ],
                          [
                            1,
                            "#f0f921"
                          ]
                        ],
                        "type": "histogram2d"
                      }
                    ],
                    "histogram2dcontour": [
                      {
                        "colorbar": {
                          "outlinewidth": 0,
                          "ticks": ""
                        },
                        "colorscale": [
                          [
                            0,
                            "#0d0887"
                          ],
                          [
                            0.1111111111111111,
                            "#46039f"
                          ],
                          [
                            0.2222222222222222,
                            "#7201a8"
                          ],
                          [
                            0.3333333333333333,
                            "#9c179e"
                          ],
                          [
                            0.4444444444444444,
                            "#bd3786"
                          ],
                          [
                            0.5555555555555556,
                            "#d8576b"
                          ],
                          [
                            0.6666666666666666,
                            "#ed7953"
                          ],
                          [
                            0.7777777777777778,
                            "#fb9f3a"
                          ],
                          [
                            0.8888888888888888,
                            "#fdca26"
                          ],
                          [
                            1,
                            "#f0f921"
                          ]
                        ],
                        "type": "histogram2dcontour"
                      }
                    ],
                    "mesh3d": [
                      {
                        "colorbar": {
                          "outlinewidth": 0,
                          "ticks": ""
                        },
                        "type": "mesh3d"
                      }
                    ],
                    "parcoords": [
                      {
                        "line": {
                          "colorbar": {
                            "outlinewidth": 0,
                            "ticks": ""
                          }
                        },
                        "type": "parcoords"
                      }
                    ],
                    "pie": [
                      {
                        "automargin": true,
                        "type": "pie"
                      }
                    ],
                    "scatter": [
                      {
                        "fillpattern": {
                          "fillmode": "overlay",
                          "size": 10,
                          "solidity": 0.2
                        },
                        "type": "scatter"
                      }
                    ],
                    "scatter3d": [
                      {
                        "line": {
                          "colorbar": {
                            "outlinewidth": 0,
                            "ticks": ""
                          }
                        },
                        "marker": {
                          "colorbar": {
                            "outlinewidth": 0,
                            "ticks": ""
                          }
                        },
                        "type": "scatter3d"
                      }
                    ],
                    "scattercarpet": [
                      {
                        "marker": {
                          "colorbar": {
                            "outlinewidth": 0,
                            "ticks": ""
                          }
                        },
                        "type": "scattercarpet"
                      }
                    ],
                    "scattergeo": [
                      {
                        "marker": {
                          "colorbar": {
                            "outlinewidth": 0,
                            "ticks": ""
                          }
                        },
                        "type": "scattergeo"
                      }
                    ],
                    "scattergl": [
                      {
                        "marker": {
                          "colorbar": {
                            "outlinewidth": 0,
                            "ticks": ""
                          }
                        },
                        "type": "scattergl"
                      }
                    ],
                    "scattermapbox": [
                      {
                        "marker": {
                          "colorbar": {
                            "outlinewidth": 0,
                            "ticks": ""
                          }
                        },
                        "type": "scattermapbox"
                      }
                    ],
                    "scatterpolar": [
                      {
                        "marker": {
                          "colorbar": {
                            "outlinewidth": 0,
                            "ticks": ""
                          }
                        },
                        "type": "scatterpolar"
                      }
                    ],
                    "scatterpolargl": [
                      {
                        "marker": {
                          "colorbar": {
                            "outlinewidth": 0,
                            "ticks": ""
                          }
                        },
                        "type": "scatterpolargl"
                      }
                    ],
                    "scatterternary": [
                      {
                        "marker": {
                          "colorbar": {
                            "outlinewidth": 0,
                            "ticks": ""
                          }
                        },
                        "type": "scatterternary"
                      }
                    ],
                    "surface": [
                      {
                        "colorbar": {
                          "outlinewidth": 0,
                          "ticks": ""
                        },
                        "colorscale": [
                          [
                            0,
                            "#0d0887"
                          ],
                          [
                            0.1111111111111111,
                            "#46039f"
                          ],
                          [
                            0.2222222222222222,
                            "#7201a8"
                          ],
                          [
                            0.3333333333333333,
                            "#9c179e"
                          ],
                          [
                            0.4444444444444444,
                            "#bd3786"
                          ],
                          [
                            0.5555555555555556,
                            "#d8576b"
                          ],
                          [
                            0.6666666666666666,
                            "#ed7953"
                          ],
                          [
                            0.7777777777777778,
                            "#fb9f3a"
                          ],
                          [
                            0.8888888888888888,
                            "#fdca26"
                          ],
                          [
                            1,
                            "#f0f921"
                          ]
                        ],
                        "type": "surface"
                      }
                    ],
                    "table": [
                      {
                        "cells": {
                          "fill": {
                            "color": "#EBF0F8"
                          },
                          "line": {
                            "color": "white"
                          }
                        },
                        "header": {
                          "fill": {
                            "color": "#C8D4E3"
                          },
                          "line": {
                            "color": "white"
                          }
                        },
                        "type": "table"
                      }
                    ]
                  },
                  "layout": {
                    "annotationdefaults": {
                      "arrowcolor": "#2a3f5f",
                      "arrowhead": 0,
                      "arrowwidth": 1
                    },
                    "autotypenumbers": "strict",
                    "coloraxis": {
                      "colorbar": {
                        "outlinewidth": 0,
                        "ticks": ""
                      }
                    },
                    "colorscale": {
                      "diverging": [
                        [
                          0,
                          "#8e0152"
                        ],
                        [
                          0.1,
                          "#c51b7d"
                        ],
                        [
                          0.2,
                          "#de77ae"
                        ],
                        [
                          0.3,
                          "#f1b6da"
                        ],
                        [
                          0.4,
                          "#fde0ef"
                        ],
                        [
                          0.5,
                          "#f7f7f7"
                        ],
                        [
                          0.6,
                          "#e6f5d0"
                        ],
                        [
                          0.7,
                          "#b8e186"
                        ],
                        [
                          0.8,
                          "#7fbc41"
                        ],
                        [
                          0.9,
                          "#4d9221"
                        ],
                        [
                          1,
                          "#276419"
                        ]
                      ],
                      "sequential": [
                        [
                          0,
                          "#0d0887"
                        ],
                        [
                          0.1111111111111111,
                          "#46039f"
                        ],
                        [
                          0.2222222222222222,
                          "#7201a8"
                        ],
                        [
                          0.3333333333333333,
                          "#9c179e"
                        ],
                        [
                          0.4444444444444444,
                          "#bd3786"
                        ],
                        [
                          0.5555555555555556,
                          "#d8576b"
                        ],
                        [
                          0.6666666666666666,
                          "#ed7953"
                        ],
                        [
                          0.7777777777777778,
                          "#fb9f3a"
                        ],
                        [
                          0.8888888888888888,
                          "#fdca26"
                        ],
                        [
                          1,
                          "#f0f921"
                        ]
                      ],
                      "sequentialminus": [
                        [
                          0,
                          "#0d0887"
                        ],
                        [
                          0.1111111111111111,
                          "#46039f"
                        ],
                        [
                          0.2222222222222222,
                          "#7201a8"
                        ],
                        [
                          0.3333333333333333,
                          "#9c179e"
                        ],
                        [
                          0.4444444444444444,
                          "#bd3786"
                        ],
                        [
                          0.5555555555555556,
                          "#d8576b"
                        ],
                        [
                          0.6666666666666666,
                          "#ed7953"
                        ],
                        [
                          0.7777777777777778,
                          "#fb9f3a"
                        ],
                        [
                          0.8888888888888888,
                          "#fdca26"
                        ],
                        [
                          1,
                          "#f0f921"
                        ]
                      ]
                    },
                    "colorway": [
                      "#636efa",
                      "#EF553B",
                      "#00cc96",
                      "#ab63fa",
                      "#FFA15A",
                      "#19d3f3",
                      "#FF6692",
                      "#B6E880",
                      "#FF97FF",
                      "#FECB52"
                    ],
                    "font": {
                      "color": "#2a3f5f"
                    },
                    "geo": {
                      "bgcolor": "white",
                      "lakecolor": "white",
                      "landcolor": "#E5ECF6",
                      "showlakes": true,
                      "showland": true,
                      "subunitcolor": "white"
                    },
                    "hoverlabel": {
                      "align": "left"
                    },
                    "hovermode": "closest",
                    "mapbox": {
                      "style": "light"
                    },
                    "paper_bgcolor": "white",
                    "plot_bgcolor": "#E5ECF6",
                    "polar": {
                      "angularaxis": {
                        "gridcolor": "white",
                        "linecolor": "white",
                        "ticks": ""
                      },
                      "bgcolor": "#E5ECF6",
                      "radialaxis": {
                        "gridcolor": "white",
                        "linecolor": "white",
                        "ticks": ""
                      }
                    },
                    "scene": {
                      "xaxis": {
                        "backgroundcolor": "#E5ECF6",
                        "gridcolor": "white",
                        "gridwidth": 2,
                        "linecolor": "white",
                        "showbackground": true,
                        "ticks": "",
                        "zerolinecolor": "white"
                      },
                      "yaxis": {
                        "backgroundcolor": "#E5ECF6",
                        "gridcolor": "white",
                        "gridwidth": 2,
                        "linecolor": "white",
                        "showbackground": true,
                        "ticks": "",
                        "zerolinecolor": "white"
                      },
                      "zaxis": {
                        "backgroundcolor": "#E5ECF6",
                        "gridcolor": "white",
                        "gridwidth": 2,
                        "linecolor": "white",
                        "showbackground": true,
                        "ticks": "",
                        "zerolinecolor": "white"
                      }
                    },
                    "shapedefaults": {
                      "line": {
                        "color": "#2a3f5f"
                      }
                    },
                    "ternary": {
                      "aaxis": {
                        "gridcolor": "white",
                        "linecolor": "white",
                        "ticks": ""
                      },
                      "baxis": {
                        "gridcolor": "white",
                        "linecolor": "white",
                        "ticks": ""
                      },
                      "bgcolor": "#E5ECF6",
                      "caxis": {
                        "gridcolor": "white",
                        "linecolor": "white",
                        "ticks": ""
                      }
                    },
                    "title": {
                      "x": 0.05
                    },
                    "xaxis": {
                      "automargin": true,
                      "gridcolor": "white",
                      "linecolor": "white",
                      "ticks": "",
                      "title": {
                        "standoff": 15
                      },
                      "zerolinecolor": "white",
                      "zerolinewidth": 2
                    },
                    "yaxis": {
                      "automargin": true,
                      "gridcolor": "white",
                      "linecolor": "white",
                      "ticks": "",
                      "title": {
                        "standoff": 15
                      },
                      "zerolinecolor": "white",
                      "zerolinewidth": 2
                    }
                  }
                },
                "title": {
                  "text": "How Strong 9.2 Writes in the Sentiment Embed Direction Relative to Attn Prob"
                },
                "xaxis": {
                  "anchor": "y",
                  "domain": [
                    0,
                    1
                  ],
                  "title": {
                    "text": "Attn Prob on Word"
                  }
                },
                "yaxis": {
                  "anchor": "x",
                  "domain": [
                    0,
                    1
                  ],
                  "title": {
                    "text": "Dot w Sentiment Embed"
                  }
                }
              }
            }
          },
          "metadata": {},
          "output_type": "display_data"
        }
      ],
      "source": [
        "from visualization_utils import scatter_attention_and_contribution_sentiment\n",
        "\n",
        "scatter_attention_and_contribution_sentiment(\n",
        "    model, \n",
        "    (9, 2), \n",
        "    all_prompts, \n",
        "    [6 for _ in range(len(all_prompts))],\n",
        "    answer_residual_directions\n",
        ")"
      ]
    },
    {
      "attachments": {},
      "cell_type": "markdown",
      "metadata": {},
      "source": [
        "#### Heads Influencing Sentiment-Attenders"
      ]
    },
    {
      "cell_type": "code",
      "execution_count": 42,
      "metadata": {},
      "outputs": [
        {
          "data": {
            "application/vnd.jupyter.widget-view+json": {
              "model_id": "186c0c02e9d141a1b3ed06da9676956d",
              "version_major": 2,
              "version_minor": 0
            },
            "text/plain": [
              "  0%|          | 0/144 [00:00<?, ?it/s]"
            ]
          },
          "metadata": {},
          "output_type": "display_data"
        },
        {
          "name": "stdout",
          "output_type": "stream",
          "text": [
            "results['z'].shape = (layer=12, head=12)\n"
          ]
        }
      ],
      "source": [
        "SENTIMENT_ATTENDERS = [(10, 4), (10, 1)]\n",
        "\n",
        "results = path_patch(\n",
        "    model,\n",
        "    orig_input=clean_tokens,\n",
        "    new_input=corrupted_tokens,\n",
        "    sender_nodes=IterNode(\"z\"),\n",
        "    receiver_nodes=[Node(\"v\", layer, head=head) for layer, head in SENTIMENT_ATTENDERS],\n",
        "    patching_metric=logit_diff_noising,\n",
        "    verbose=True,\n",
        ")"
      ]
    },
    {
      "cell_type": "code",
      "execution_count": 43,
      "metadata": {},
      "outputs": [
        {
          "data": {
            "application/vnd.plotly.v1+json": {
              "config": {
                "plotlyServerURL": "https://plot.ly"
              },
              "data": [
                {
                  "coloraxis": "coloraxis",
                  "hovertemplate": "Head: %{x}<br>Layer: %{y}<br>Logit diff variation: %{z}<extra></extra>",
                  "name": "0",
                  "type": "heatmap",
                  "xaxis": "x",
                  "yaxis": "y",
                  "z": [
                    [
                      -0.021844007074832916,
                      -0.4807571470737457,
                      -0.002444925718009472,
                      -0.7954253554344177,
                      -1.7859179973602295,
                      -0.39640432596206665,
                      -0.20089614391326904,
                      -0.09337668865919113,
                      -0.009814057499170303,
                      0.010701559484004974,
                      0.06851518154144287,
                      -0.029407817870378494
                    ],
                    [
                      -0.032975003123283386,
                      -0.02745531126856804,
                      0.00348129915073514,
                      0.002948798006400466,
                      0.041935913264751434,
                      0.24063335359096527,
                      -0.07435551285743713,
                      -0.029533784836530685,
                      0.005221948958933353,
                      0.012820113450288773,
                      0.0028228298760950565,
                      -0.08918538689613342
                    ],
                    [
                      0.03486452251672745,
                      -0.020847713574767113,
                      -0.001219599973410368,
                      -0.018998274579644203,
                      -0.006676307413727045,
                      0.023991191759705544,
                      0.026670875027775764,
                      0.019943034276366234,
                      0.011337125673890114,
                      -0.0427432544529438,
                      0.012762854807078838,
                      0.012110112234950066
                    ],
                    [
                      -0.08923120051622391,
                      -0.019880050793290138,
                      -0.0002118553820764646,
                      -0.03511073440313339,
                      -0.010237768292427063,
                      0.035431381314992905,
                      0.007924536243081093,
                      -0.027506845071911812,
                      -0.011308496817946434,
                      -0.025863535702228546,
                      0.06333903223276138,
                      -0.6522855162620544
                    ],
                    [
                      0.022611267864704132,
                      -0.008892199955880642,
                      0.010604220442473888,
                      -0.01986287347972393,
                      0.09445314854383469,
                      -0.04146067053079605,
                      0.03240814805030823,
                      -0.037166304886341095,
                      0.027146117761731148,
                      0.010541236028075218,
                      -0.012367772869765759,
                      -0.02223336324095726
                    ],
                    [
                      0.007901633158326149,
                      -0.004838319029659033,
                      -0.04799383133649826,
                      -0.019507871940732002,
                      0.04315551370382309,
                      -0.08478795737028122,
                      -0.010575591586530209,
                      -0.28706976771354675,
                      0.03323838859796524,
                      0.05278061702847481,
                      -0.21097932755947113,
                      0.6163102388381958
                    ],
                    [
                      -0.03449806943535805,
                      0.05573514476418495,
                      0.028646282851696014,
                      0.3670823872089386,
                      -0.40303483605384827,
                      -0.03821985796093941,
                      0.07183615118265152,
                      -0.385113000869751,
                      -0.044546887278556824,
                      -0.013146485202014446,
                      -0.07205945998430252,
                      0.10097485780715942
                    ],
                    [
                      -0.008268085308372974,
                      -1.1310787200927734,
                      -0.0061438060365617275,
                      0.33223506808280945,
                      -0.011256963945925236,
                      -0.9434893727302551,
                      0.4894202947616577,
                      -0.0038363002240657806,
                      -0.2338998019695282,
                      -0.0956498458981514,
                      -0.002708313288167119,
                      0.0028457329608500004
                    ],
                    [
                      0.06677452474832535,
                      -0.0029888786375522614,
                      -0.4581802189350128,
                      -0.0073519544675946236,
                      -0.3324354588985443,
                      -0.8118470311164856,
                      -0.060006603598594666,
                      -0.03618719056248665,
                      0.19916123151779175,
                      -0.23484456539154053,
                      0.48947179317474365,
                      -0.11820957064628601
                    ],
                    [
                      0.10404390096664429,
                      -0.05798538774251938,
                      -1.3331830501556396,
                      -0.7201078534126282,
                      -0.0016089557902887464,
                      0.4875880181789398,
                      -0.08778829127550125,
                      0.6778570413589478,
                      0.009871316142380238,
                      -0.04474728927016258,
                      -0.4075925946235657,
                      -0.0028915395960211754
                    ]
                  ]
                }
              ],
              "layout": {
                "coloraxis": {
                  "cmid": 0,
                  "colorbar": {
                    "ticksuffix": "%",
                    "title": {
                      "text": "Logit diff variation"
                    }
                  },
                  "colorscale": [
                    [
                      0,
                      "rgb(103,0,31)"
                    ],
                    [
                      0.1,
                      "rgb(178,24,43)"
                    ],
                    [
                      0.2,
                      "rgb(214,96,77)"
                    ],
                    [
                      0.3,
                      "rgb(244,165,130)"
                    ],
                    [
                      0.4,
                      "rgb(253,219,199)"
                    ],
                    [
                      0.5,
                      "rgb(247,247,247)"
                    ],
                    [
                      0.6,
                      "rgb(209,229,240)"
                    ],
                    [
                      0.7,
                      "rgb(146,197,222)"
                    ],
                    [
                      0.8,
                      "rgb(67,147,195)"
                    ],
                    [
                      0.9,
                      "rgb(33,102,172)"
                    ],
                    [
                      1,
                      "rgb(5,48,97)"
                    ]
                  ]
                },
                "margin": {
                  "l": 100,
                  "r": 100
                },
                "template": {
                  "data": {
                    "bar": [
                      {
                        "error_x": {
                          "color": "#2a3f5f"
                        },
                        "error_y": {
                          "color": "#2a3f5f"
                        },
                        "marker": {
                          "line": {
                            "color": "#E5ECF6",
                            "width": 0.5
                          },
                          "pattern": {
                            "fillmode": "overlay",
                            "size": 10,
                            "solidity": 0.2
                          }
                        },
                        "type": "bar"
                      }
                    ],
                    "barpolar": [
                      {
                        "marker": {
                          "line": {
                            "color": "#E5ECF6",
                            "width": 0.5
                          },
                          "pattern": {
                            "fillmode": "overlay",
                            "size": 10,
                            "solidity": 0.2
                          }
                        },
                        "type": "barpolar"
                      }
                    ],
                    "carpet": [
                      {
                        "aaxis": {
                          "endlinecolor": "#2a3f5f",
                          "gridcolor": "white",
                          "linecolor": "white",
                          "minorgridcolor": "white",
                          "startlinecolor": "#2a3f5f"
                        },
                        "baxis": {
                          "endlinecolor": "#2a3f5f",
                          "gridcolor": "white",
                          "linecolor": "white",
                          "minorgridcolor": "white",
                          "startlinecolor": "#2a3f5f"
                        },
                        "type": "carpet"
                      }
                    ],
                    "choropleth": [
                      {
                        "colorbar": {
                          "outlinewidth": 0,
                          "ticks": ""
                        },
                        "type": "choropleth"
                      }
                    ],
                    "contour": [
                      {
                        "colorbar": {
                          "outlinewidth": 0,
                          "ticks": ""
                        },
                        "colorscale": [
                          [
                            0,
                            "#0d0887"
                          ],
                          [
                            0.1111111111111111,
                            "#46039f"
                          ],
                          [
                            0.2222222222222222,
                            "#7201a8"
                          ],
                          [
                            0.3333333333333333,
                            "#9c179e"
                          ],
                          [
                            0.4444444444444444,
                            "#bd3786"
                          ],
                          [
                            0.5555555555555556,
                            "#d8576b"
                          ],
                          [
                            0.6666666666666666,
                            "#ed7953"
                          ],
                          [
                            0.7777777777777778,
                            "#fb9f3a"
                          ],
                          [
                            0.8888888888888888,
                            "#fdca26"
                          ],
                          [
                            1,
                            "#f0f921"
                          ]
                        ],
                        "type": "contour"
                      }
                    ],
                    "contourcarpet": [
                      {
                        "colorbar": {
                          "outlinewidth": 0,
                          "ticks": ""
                        },
                        "type": "contourcarpet"
                      }
                    ],
                    "heatmap": [
                      {
                        "colorbar": {
                          "outlinewidth": 0,
                          "ticks": ""
                        },
                        "colorscale": [
                          [
                            0,
                            "#0d0887"
                          ],
                          [
                            0.1111111111111111,
                            "#46039f"
                          ],
                          [
                            0.2222222222222222,
                            "#7201a8"
                          ],
                          [
                            0.3333333333333333,
                            "#9c179e"
                          ],
                          [
                            0.4444444444444444,
                            "#bd3786"
                          ],
                          [
                            0.5555555555555556,
                            "#d8576b"
                          ],
                          [
                            0.6666666666666666,
                            "#ed7953"
                          ],
                          [
                            0.7777777777777778,
                            "#fb9f3a"
                          ],
                          [
                            0.8888888888888888,
                            "#fdca26"
                          ],
                          [
                            1,
                            "#f0f921"
                          ]
                        ],
                        "type": "heatmap"
                      }
                    ],
                    "heatmapgl": [
                      {
                        "colorbar": {
                          "outlinewidth": 0,
                          "ticks": ""
                        },
                        "colorscale": [
                          [
                            0,
                            "#0d0887"
                          ],
                          [
                            0.1111111111111111,
                            "#46039f"
                          ],
                          [
                            0.2222222222222222,
                            "#7201a8"
                          ],
                          [
                            0.3333333333333333,
                            "#9c179e"
                          ],
                          [
                            0.4444444444444444,
                            "#bd3786"
                          ],
                          [
                            0.5555555555555556,
                            "#d8576b"
                          ],
                          [
                            0.6666666666666666,
                            "#ed7953"
                          ],
                          [
                            0.7777777777777778,
                            "#fb9f3a"
                          ],
                          [
                            0.8888888888888888,
                            "#fdca26"
                          ],
                          [
                            1,
                            "#f0f921"
                          ]
                        ],
                        "type": "heatmapgl"
                      }
                    ],
                    "histogram": [
                      {
                        "marker": {
                          "pattern": {
                            "fillmode": "overlay",
                            "size": 10,
                            "solidity": 0.2
                          }
                        },
                        "type": "histogram"
                      }
                    ],
                    "histogram2d": [
                      {
                        "colorbar": {
                          "outlinewidth": 0,
                          "ticks": ""
                        },
                        "colorscale": [
                          [
                            0,
                            "#0d0887"
                          ],
                          [
                            0.1111111111111111,
                            "#46039f"
                          ],
                          [
                            0.2222222222222222,
                            "#7201a8"
                          ],
                          [
                            0.3333333333333333,
                            "#9c179e"
                          ],
                          [
                            0.4444444444444444,
                            "#bd3786"
                          ],
                          [
                            0.5555555555555556,
                            "#d8576b"
                          ],
                          [
                            0.6666666666666666,
                            "#ed7953"
                          ],
                          [
                            0.7777777777777778,
                            "#fb9f3a"
                          ],
                          [
                            0.8888888888888888,
                            "#fdca26"
                          ],
                          [
                            1,
                            "#f0f921"
                          ]
                        ],
                        "type": "histogram2d"
                      }
                    ],
                    "histogram2dcontour": [
                      {
                        "colorbar": {
                          "outlinewidth": 0,
                          "ticks": ""
                        },
                        "colorscale": [
                          [
                            0,
                            "#0d0887"
                          ],
                          [
                            0.1111111111111111,
                            "#46039f"
                          ],
                          [
                            0.2222222222222222,
                            "#7201a8"
                          ],
                          [
                            0.3333333333333333,
                            "#9c179e"
                          ],
                          [
                            0.4444444444444444,
                            "#bd3786"
                          ],
                          [
                            0.5555555555555556,
                            "#d8576b"
                          ],
                          [
                            0.6666666666666666,
                            "#ed7953"
                          ],
                          [
                            0.7777777777777778,
                            "#fb9f3a"
                          ],
                          [
                            0.8888888888888888,
                            "#fdca26"
                          ],
                          [
                            1,
                            "#f0f921"
                          ]
                        ],
                        "type": "histogram2dcontour"
                      }
                    ],
                    "mesh3d": [
                      {
                        "colorbar": {
                          "outlinewidth": 0,
                          "ticks": ""
                        },
                        "type": "mesh3d"
                      }
                    ],
                    "parcoords": [
                      {
                        "line": {
                          "colorbar": {
                            "outlinewidth": 0,
                            "ticks": ""
                          }
                        },
                        "type": "parcoords"
                      }
                    ],
                    "pie": [
                      {
                        "automargin": true,
                        "type": "pie"
                      }
                    ],
                    "scatter": [
                      {
                        "fillpattern": {
                          "fillmode": "overlay",
                          "size": 10,
                          "solidity": 0.2
                        },
                        "type": "scatter"
                      }
                    ],
                    "scatter3d": [
                      {
                        "line": {
                          "colorbar": {
                            "outlinewidth": 0,
                            "ticks": ""
                          }
                        },
                        "marker": {
                          "colorbar": {
                            "outlinewidth": 0,
                            "ticks": ""
                          }
                        },
                        "type": "scatter3d"
                      }
                    ],
                    "scattercarpet": [
                      {
                        "marker": {
                          "colorbar": {
                            "outlinewidth": 0,
                            "ticks": ""
                          }
                        },
                        "type": "scattercarpet"
                      }
                    ],
                    "scattergeo": [
                      {
                        "marker": {
                          "colorbar": {
                            "outlinewidth": 0,
                            "ticks": ""
                          }
                        },
                        "type": "scattergeo"
                      }
                    ],
                    "scattergl": [
                      {
                        "marker": {
                          "colorbar": {
                            "outlinewidth": 0,
                            "ticks": ""
                          }
                        },
                        "type": "scattergl"
                      }
                    ],
                    "scattermapbox": [
                      {
                        "marker": {
                          "colorbar": {
                            "outlinewidth": 0,
                            "ticks": ""
                          }
                        },
                        "type": "scattermapbox"
                      }
                    ],
                    "scatterpolar": [
                      {
                        "marker": {
                          "colorbar": {
                            "outlinewidth": 0,
                            "ticks": ""
                          }
                        },
                        "type": "scatterpolar"
                      }
                    ],
                    "scatterpolargl": [
                      {
                        "marker": {
                          "colorbar": {
                            "outlinewidth": 0,
                            "ticks": ""
                          }
                        },
                        "type": "scatterpolargl"
                      }
                    ],
                    "scatterternary": [
                      {
                        "marker": {
                          "colorbar": {
                            "outlinewidth": 0,
                            "ticks": ""
                          }
                        },
                        "type": "scatterternary"
                      }
                    ],
                    "surface": [
                      {
                        "colorbar": {
                          "outlinewidth": 0,
                          "ticks": ""
                        },
                        "colorscale": [
                          [
                            0,
                            "#0d0887"
                          ],
                          [
                            0.1111111111111111,
                            "#46039f"
                          ],
                          [
                            0.2222222222222222,
                            "#7201a8"
                          ],
                          [
                            0.3333333333333333,
                            "#9c179e"
                          ],
                          [
                            0.4444444444444444,
                            "#bd3786"
                          ],
                          [
                            0.5555555555555556,
                            "#d8576b"
                          ],
                          [
                            0.6666666666666666,
                            "#ed7953"
                          ],
                          [
                            0.7777777777777778,
                            "#fb9f3a"
                          ],
                          [
                            0.8888888888888888,
                            "#fdca26"
                          ],
                          [
                            1,
                            "#f0f921"
                          ]
                        ],
                        "type": "surface"
                      }
                    ],
                    "table": [
                      {
                        "cells": {
                          "fill": {
                            "color": "#EBF0F8"
                          },
                          "line": {
                            "color": "white"
                          }
                        },
                        "header": {
                          "fill": {
                            "color": "#C8D4E3"
                          },
                          "line": {
                            "color": "white"
                          }
                        },
                        "type": "table"
                      }
                    ]
                  },
                  "layout": {
                    "annotationdefaults": {
                      "arrowcolor": "#2a3f5f",
                      "arrowhead": 0,
                      "arrowwidth": 1
                    },
                    "autotypenumbers": "strict",
                    "coloraxis": {
                      "colorbar": {
                        "outlinewidth": 0,
                        "ticks": ""
                      }
                    },
                    "colorscale": {
                      "diverging": [
                        [
                          0,
                          "#8e0152"
                        ],
                        [
                          0.1,
                          "#c51b7d"
                        ],
                        [
                          0.2,
                          "#de77ae"
                        ],
                        [
                          0.3,
                          "#f1b6da"
                        ],
                        [
                          0.4,
                          "#fde0ef"
                        ],
                        [
                          0.5,
                          "#f7f7f7"
                        ],
                        [
                          0.6,
                          "#e6f5d0"
                        ],
                        [
                          0.7,
                          "#b8e186"
                        ],
                        [
                          0.8,
                          "#7fbc41"
                        ],
                        [
                          0.9,
                          "#4d9221"
                        ],
                        [
                          1,
                          "#276419"
                        ]
                      ],
                      "sequential": [
                        [
                          0,
                          "#0d0887"
                        ],
                        [
                          0.1111111111111111,
                          "#46039f"
                        ],
                        [
                          0.2222222222222222,
                          "#7201a8"
                        ],
                        [
                          0.3333333333333333,
                          "#9c179e"
                        ],
                        [
                          0.4444444444444444,
                          "#bd3786"
                        ],
                        [
                          0.5555555555555556,
                          "#d8576b"
                        ],
                        [
                          0.6666666666666666,
                          "#ed7953"
                        ],
                        [
                          0.7777777777777778,
                          "#fb9f3a"
                        ],
                        [
                          0.8888888888888888,
                          "#fdca26"
                        ],
                        [
                          1,
                          "#f0f921"
                        ]
                      ],
                      "sequentialminus": [
                        [
                          0,
                          "#0d0887"
                        ],
                        [
                          0.1111111111111111,
                          "#46039f"
                        ],
                        [
                          0.2222222222222222,
                          "#7201a8"
                        ],
                        [
                          0.3333333333333333,
                          "#9c179e"
                        ],
                        [
                          0.4444444444444444,
                          "#bd3786"
                        ],
                        [
                          0.5555555555555556,
                          "#d8576b"
                        ],
                        [
                          0.6666666666666666,
                          "#ed7953"
                        ],
                        [
                          0.7777777777777778,
                          "#fb9f3a"
                        ],
                        [
                          0.8888888888888888,
                          "#fdca26"
                        ],
                        [
                          1,
                          "#f0f921"
                        ]
                      ]
                    },
                    "colorway": [
                      "#636efa",
                      "#EF553B",
                      "#00cc96",
                      "#ab63fa",
                      "#FFA15A",
                      "#19d3f3",
                      "#FF6692",
                      "#B6E880",
                      "#FF97FF",
                      "#FECB52"
                    ],
                    "font": {
                      "color": "#2a3f5f"
                    },
                    "geo": {
                      "bgcolor": "white",
                      "lakecolor": "white",
                      "landcolor": "#E5ECF6",
                      "showlakes": true,
                      "showland": true,
                      "subunitcolor": "white"
                    },
                    "hoverlabel": {
                      "align": "left"
                    },
                    "hovermode": "closest",
                    "mapbox": {
                      "style": "light"
                    },
                    "paper_bgcolor": "white",
                    "plot_bgcolor": "#E5ECF6",
                    "polar": {
                      "angularaxis": {
                        "gridcolor": "white",
                        "linecolor": "white",
                        "ticks": ""
                      },
                      "bgcolor": "#E5ECF6",
                      "radialaxis": {
                        "gridcolor": "white",
                        "linecolor": "white",
                        "ticks": ""
                      }
                    },
                    "scene": {
                      "xaxis": {
                        "backgroundcolor": "#E5ECF6",
                        "gridcolor": "white",
                        "gridwidth": 2,
                        "linecolor": "white",
                        "showbackground": true,
                        "ticks": "",
                        "zerolinecolor": "white"
                      },
                      "yaxis": {
                        "backgroundcolor": "#E5ECF6",
                        "gridcolor": "white",
                        "gridwidth": 2,
                        "linecolor": "white",
                        "showbackground": true,
                        "ticks": "",
                        "zerolinecolor": "white"
                      },
                      "zaxis": {
                        "backgroundcolor": "#E5ECF6",
                        "gridcolor": "white",
                        "gridwidth": 2,
                        "linecolor": "white",
                        "showbackground": true,
                        "ticks": "",
                        "zerolinecolor": "white"
                      }
                    },
                    "shapedefaults": {
                      "line": {
                        "color": "#2a3f5f"
                      }
                    },
                    "ternary": {
                      "aaxis": {
                        "gridcolor": "white",
                        "linecolor": "white",
                        "ticks": ""
                      },
                      "baxis": {
                        "gridcolor": "white",
                        "linecolor": "white",
                        "ticks": ""
                      },
                      "bgcolor": "#E5ECF6",
                      "caxis": {
                        "gridcolor": "white",
                        "linecolor": "white",
                        "ticks": ""
                      }
                    },
                    "title": {
                      "x": 0.05
                    },
                    "xaxis": {
                      "automargin": true,
                      "gridcolor": "white",
                      "linecolor": "white",
                      "ticks": "",
                      "title": {
                        "standoff": 15
                      },
                      "zerolinecolor": "white",
                      "zerolinewidth": 2
                    },
                    "yaxis": {
                      "automargin": true,
                      "gridcolor": "white",
                      "linecolor": "white",
                      "ticks": "",
                      "title": {
                        "standoff": 15
                      },
                      "zerolinecolor": "white",
                      "zerolinewidth": 2
                    }
                  }
                },
                "title": {
                  "text": "Direct effect on Sentiment Attenders' values"
                },
                "width": 700,
                "xaxis": {
                  "anchor": "y",
                  "constrain": "domain",
                  "domain": [
                    0,
                    1
                  ],
                  "linecolor": "black",
                  "linewidth": 1,
                  "mirror": true,
                  "scaleanchor": "y",
                  "showline": true,
                  "title": {
                    "text": "Head"
                  }
                },
                "yaxis": {
                  "anchor": "x",
                  "autorange": "reversed",
                  "constrain": "domain",
                  "domain": [
                    0,
                    1
                  ],
                  "linecolor": "black",
                  "linewidth": 1,
                  "mirror": true,
                  "showline": true,
                  "title": {
                    "text": "Layer"
                  }
                }
              }
            }
          },
          "metadata": {},
          "output_type": "display_data"
        }
      ],
      "source": [
        "imshow_p(\n",
        "    results[\"z\"][:10] * 100,\n",
        "    title=\"Direct effect on Sentiment Attenders' values\",\n",
        "    labels={\"x\": \"Head\", \"y\": \"Layer\", \"color\": \"Logit diff variation\"},\n",
        "    coloraxis=dict(colorbar_ticksuffix = \"%\"),\n",
        "    border=True,\n",
        "    width=700,\n",
        "    margin={\"r\": 100, \"l\": 100}\n",
        ")"
      ]
    },
    {
      "cell_type": "code",
      "execution_count": 44,
      "metadata": {},
      "outputs": [
        {
          "name": "stdout",
          "output_type": "stream",
          "text": [
            "Total logit diff contribution above threshold: 0.11\n"
          ]
        },
        {
          "data": {
            "application/vnd.plotly.v1+json": {
              "config": {
                "plotlyServerURL": "https://plot.ly"
              },
              "data": [
                {
                  "alignmentgroup": "True",
                  "hovertemplate": "Logit Diff=%{x}<br>Attention Head=%{y}<extra></extra>",
                  "legendgroup": "",
                  "marker": {
                    "color": "#636efa",
                    "pattern": {
                      "shape": ""
                    }
                  },
                  "name": "",
                  "offsetgroup": "",
                  "orientation": "h",
                  "showlegend": false,
                  "textposition": "auto",
                  "type": "bar",
                  "x": [
                    0.0033243545331060886,
                    0.00385113013908267,
                    0.0039640432223677635,
                    0.004030348267406225,
                    0.004075925797224045,
                    0.004581802058964968,
                    0.004807571414858103,
                    0.006522855255752802,
                    0.007201078813523054,
                    0.007954253815114498,
                    0.008118470199406147,
                    0.009434893727302551,
                    0.011310786940157413,
                    0.013331830501556396,
                    0.01785917952656746
                  ],
                  "xaxis": "x",
                  "y": [
                    "Layer 8, Head 4",
                    "Layer 6, Head 7",
                    "Layer 0, Head 5",
                    "Layer 6, Head 4",
                    "Layer 9, Head 10",
                    "Layer 8, Head 2",
                    "Layer 0, Head 1",
                    "Layer 3, Head 11",
                    "Layer 9, Head 3",
                    "Layer 0, Head 3",
                    "Layer 8, Head 5",
                    "Layer 7, Head 5",
                    "Layer 7, Head 1",
                    "Layer 9, Head 2",
                    "Layer 0, Head 4"
                  ],
                  "yaxis": "y"
                }
              ],
              "layout": {
                "barmode": "relative",
                "legend": {
                  "tracegroupgap": 0
                },
                "margin": {
                  "t": 60
                },
                "template": {
                  "data": {
                    "bar": [
                      {
                        "error_x": {
                          "color": "#2a3f5f"
                        },
                        "error_y": {
                          "color": "#2a3f5f"
                        },
                        "marker": {
                          "line": {
                            "color": "#E5ECF6",
                            "width": 0.5
                          },
                          "pattern": {
                            "fillmode": "overlay",
                            "size": 10,
                            "solidity": 0.2
                          }
                        },
                        "type": "bar"
                      }
                    ],
                    "barpolar": [
                      {
                        "marker": {
                          "line": {
                            "color": "#E5ECF6",
                            "width": 0.5
                          },
                          "pattern": {
                            "fillmode": "overlay",
                            "size": 10,
                            "solidity": 0.2
                          }
                        },
                        "type": "barpolar"
                      }
                    ],
                    "carpet": [
                      {
                        "aaxis": {
                          "endlinecolor": "#2a3f5f",
                          "gridcolor": "white",
                          "linecolor": "white",
                          "minorgridcolor": "white",
                          "startlinecolor": "#2a3f5f"
                        },
                        "baxis": {
                          "endlinecolor": "#2a3f5f",
                          "gridcolor": "white",
                          "linecolor": "white",
                          "minorgridcolor": "white",
                          "startlinecolor": "#2a3f5f"
                        },
                        "type": "carpet"
                      }
                    ],
                    "choropleth": [
                      {
                        "colorbar": {
                          "outlinewidth": 0,
                          "ticks": ""
                        },
                        "type": "choropleth"
                      }
                    ],
                    "contour": [
                      {
                        "colorbar": {
                          "outlinewidth": 0,
                          "ticks": ""
                        },
                        "colorscale": [
                          [
                            0,
                            "#0d0887"
                          ],
                          [
                            0.1111111111111111,
                            "#46039f"
                          ],
                          [
                            0.2222222222222222,
                            "#7201a8"
                          ],
                          [
                            0.3333333333333333,
                            "#9c179e"
                          ],
                          [
                            0.4444444444444444,
                            "#bd3786"
                          ],
                          [
                            0.5555555555555556,
                            "#d8576b"
                          ],
                          [
                            0.6666666666666666,
                            "#ed7953"
                          ],
                          [
                            0.7777777777777778,
                            "#fb9f3a"
                          ],
                          [
                            0.8888888888888888,
                            "#fdca26"
                          ],
                          [
                            1,
                            "#f0f921"
                          ]
                        ],
                        "type": "contour"
                      }
                    ],
                    "contourcarpet": [
                      {
                        "colorbar": {
                          "outlinewidth": 0,
                          "ticks": ""
                        },
                        "type": "contourcarpet"
                      }
                    ],
                    "heatmap": [
                      {
                        "colorbar": {
                          "outlinewidth": 0,
                          "ticks": ""
                        },
                        "colorscale": [
                          [
                            0,
                            "#0d0887"
                          ],
                          [
                            0.1111111111111111,
                            "#46039f"
                          ],
                          [
                            0.2222222222222222,
                            "#7201a8"
                          ],
                          [
                            0.3333333333333333,
                            "#9c179e"
                          ],
                          [
                            0.4444444444444444,
                            "#bd3786"
                          ],
                          [
                            0.5555555555555556,
                            "#d8576b"
                          ],
                          [
                            0.6666666666666666,
                            "#ed7953"
                          ],
                          [
                            0.7777777777777778,
                            "#fb9f3a"
                          ],
                          [
                            0.8888888888888888,
                            "#fdca26"
                          ],
                          [
                            1,
                            "#f0f921"
                          ]
                        ],
                        "type": "heatmap"
                      }
                    ],
                    "heatmapgl": [
                      {
                        "colorbar": {
                          "outlinewidth": 0,
                          "ticks": ""
                        },
                        "colorscale": [
                          [
                            0,
                            "#0d0887"
                          ],
                          [
                            0.1111111111111111,
                            "#46039f"
                          ],
                          [
                            0.2222222222222222,
                            "#7201a8"
                          ],
                          [
                            0.3333333333333333,
                            "#9c179e"
                          ],
                          [
                            0.4444444444444444,
                            "#bd3786"
                          ],
                          [
                            0.5555555555555556,
                            "#d8576b"
                          ],
                          [
                            0.6666666666666666,
                            "#ed7953"
                          ],
                          [
                            0.7777777777777778,
                            "#fb9f3a"
                          ],
                          [
                            0.8888888888888888,
                            "#fdca26"
                          ],
                          [
                            1,
                            "#f0f921"
                          ]
                        ],
                        "type": "heatmapgl"
                      }
                    ],
                    "histogram": [
                      {
                        "marker": {
                          "pattern": {
                            "fillmode": "overlay",
                            "size": 10,
                            "solidity": 0.2
                          }
                        },
                        "type": "histogram"
                      }
                    ],
                    "histogram2d": [
                      {
                        "colorbar": {
                          "outlinewidth": 0,
                          "ticks": ""
                        },
                        "colorscale": [
                          [
                            0,
                            "#0d0887"
                          ],
                          [
                            0.1111111111111111,
                            "#46039f"
                          ],
                          [
                            0.2222222222222222,
                            "#7201a8"
                          ],
                          [
                            0.3333333333333333,
                            "#9c179e"
                          ],
                          [
                            0.4444444444444444,
                            "#bd3786"
                          ],
                          [
                            0.5555555555555556,
                            "#d8576b"
                          ],
                          [
                            0.6666666666666666,
                            "#ed7953"
                          ],
                          [
                            0.7777777777777778,
                            "#fb9f3a"
                          ],
                          [
                            0.8888888888888888,
                            "#fdca26"
                          ],
                          [
                            1,
                            "#f0f921"
                          ]
                        ],
                        "type": "histogram2d"
                      }
                    ],
                    "histogram2dcontour": [
                      {
                        "colorbar": {
                          "outlinewidth": 0,
                          "ticks": ""
                        },
                        "colorscale": [
                          [
                            0,
                            "#0d0887"
                          ],
                          [
                            0.1111111111111111,
                            "#46039f"
                          ],
                          [
                            0.2222222222222222,
                            "#7201a8"
                          ],
                          [
                            0.3333333333333333,
                            "#9c179e"
                          ],
                          [
                            0.4444444444444444,
                            "#bd3786"
                          ],
                          [
                            0.5555555555555556,
                            "#d8576b"
                          ],
                          [
                            0.6666666666666666,
                            "#ed7953"
                          ],
                          [
                            0.7777777777777778,
                            "#fb9f3a"
                          ],
                          [
                            0.8888888888888888,
                            "#fdca26"
                          ],
                          [
                            1,
                            "#f0f921"
                          ]
                        ],
                        "type": "histogram2dcontour"
                      }
                    ],
                    "mesh3d": [
                      {
                        "colorbar": {
                          "outlinewidth": 0,
                          "ticks": ""
                        },
                        "type": "mesh3d"
                      }
                    ],
                    "parcoords": [
                      {
                        "line": {
                          "colorbar": {
                            "outlinewidth": 0,
                            "ticks": ""
                          }
                        },
                        "type": "parcoords"
                      }
                    ],
                    "pie": [
                      {
                        "automargin": true,
                        "type": "pie"
                      }
                    ],
                    "scatter": [
                      {
                        "fillpattern": {
                          "fillmode": "overlay",
                          "size": 10,
                          "solidity": 0.2
                        },
                        "type": "scatter"
                      }
                    ],
                    "scatter3d": [
                      {
                        "line": {
                          "colorbar": {
                            "outlinewidth": 0,
                            "ticks": ""
                          }
                        },
                        "marker": {
                          "colorbar": {
                            "outlinewidth": 0,
                            "ticks": ""
                          }
                        },
                        "type": "scatter3d"
                      }
                    ],
                    "scattercarpet": [
                      {
                        "marker": {
                          "colorbar": {
                            "outlinewidth": 0,
                            "ticks": ""
                          }
                        },
                        "type": "scattercarpet"
                      }
                    ],
                    "scattergeo": [
                      {
                        "marker": {
                          "colorbar": {
                            "outlinewidth": 0,
                            "ticks": ""
                          }
                        },
                        "type": "scattergeo"
                      }
                    ],
                    "scattergl": [
                      {
                        "marker": {
                          "colorbar": {
                            "outlinewidth": 0,
                            "ticks": ""
                          }
                        },
                        "type": "scattergl"
                      }
                    ],
                    "scattermapbox": [
                      {
                        "marker": {
                          "colorbar": {
                            "outlinewidth": 0,
                            "ticks": ""
                          }
                        },
                        "type": "scattermapbox"
                      }
                    ],
                    "scatterpolar": [
                      {
                        "marker": {
                          "colorbar": {
                            "outlinewidth": 0,
                            "ticks": ""
                          }
                        },
                        "type": "scatterpolar"
                      }
                    ],
                    "scatterpolargl": [
                      {
                        "marker": {
                          "colorbar": {
                            "outlinewidth": 0,
                            "ticks": ""
                          }
                        },
                        "type": "scatterpolargl"
                      }
                    ],
                    "scatterternary": [
                      {
                        "marker": {
                          "colorbar": {
                            "outlinewidth": 0,
                            "ticks": ""
                          }
                        },
                        "type": "scatterternary"
                      }
                    ],
                    "surface": [
                      {
                        "colorbar": {
                          "outlinewidth": 0,
                          "ticks": ""
                        },
                        "colorscale": [
                          [
                            0,
                            "#0d0887"
                          ],
                          [
                            0.1111111111111111,
                            "#46039f"
                          ],
                          [
                            0.2222222222222222,
                            "#7201a8"
                          ],
                          [
                            0.3333333333333333,
                            "#9c179e"
                          ],
                          [
                            0.4444444444444444,
                            "#bd3786"
                          ],
                          [
                            0.5555555555555556,
                            "#d8576b"
                          ],
                          [
                            0.6666666666666666,
                            "#ed7953"
                          ],
                          [
                            0.7777777777777778,
                            "#fb9f3a"
                          ],
                          [
                            0.8888888888888888,
                            "#fdca26"
                          ],
                          [
                            1,
                            "#f0f921"
                          ]
                        ],
                        "type": "surface"
                      }
                    ],
                    "table": [
                      {
                        "cells": {
                          "fill": {
                            "color": "#EBF0F8"
                          },
                          "line": {
                            "color": "white"
                          }
                        },
                        "header": {
                          "fill": {
                            "color": "#C8D4E3"
                          },
                          "line": {
                            "color": "white"
                          }
                        },
                        "type": "table"
                      }
                    ]
                  },
                  "layout": {
                    "annotationdefaults": {
                      "arrowcolor": "#2a3f5f",
                      "arrowhead": 0,
                      "arrowwidth": 1
                    },
                    "autotypenumbers": "strict",
                    "coloraxis": {
                      "colorbar": {
                        "outlinewidth": 0,
                        "ticks": ""
                      }
                    },
                    "colorscale": {
                      "diverging": [
                        [
                          0,
                          "#8e0152"
                        ],
                        [
                          0.1,
                          "#c51b7d"
                        ],
                        [
                          0.2,
                          "#de77ae"
                        ],
                        [
                          0.3,
                          "#f1b6da"
                        ],
                        [
                          0.4,
                          "#fde0ef"
                        ],
                        [
                          0.5,
                          "#f7f7f7"
                        ],
                        [
                          0.6,
                          "#e6f5d0"
                        ],
                        [
                          0.7,
                          "#b8e186"
                        ],
                        [
                          0.8,
                          "#7fbc41"
                        ],
                        [
                          0.9,
                          "#4d9221"
                        ],
                        [
                          1,
                          "#276419"
                        ]
                      ],
                      "sequential": [
                        [
                          0,
                          "#0d0887"
                        ],
                        [
                          0.1111111111111111,
                          "#46039f"
                        ],
                        [
                          0.2222222222222222,
                          "#7201a8"
                        ],
                        [
                          0.3333333333333333,
                          "#9c179e"
                        ],
                        [
                          0.4444444444444444,
                          "#bd3786"
                        ],
                        [
                          0.5555555555555556,
                          "#d8576b"
                        ],
                        [
                          0.6666666666666666,
                          "#ed7953"
                        ],
                        [
                          0.7777777777777778,
                          "#fb9f3a"
                        ],
                        [
                          0.8888888888888888,
                          "#fdca26"
                        ],
                        [
                          1,
                          "#f0f921"
                        ]
                      ],
                      "sequentialminus": [
                        [
                          0,
                          "#0d0887"
                        ],
                        [
                          0.1111111111111111,
                          "#46039f"
                        ],
                        [
                          0.2222222222222222,
                          "#7201a8"
                        ],
                        [
                          0.3333333333333333,
                          "#9c179e"
                        ],
                        [
                          0.4444444444444444,
                          "#bd3786"
                        ],
                        [
                          0.5555555555555556,
                          "#d8576b"
                        ],
                        [
                          0.6666666666666666,
                          "#ed7953"
                        ],
                        [
                          0.7777777777777778,
                          "#fb9f3a"
                        ],
                        [
                          0.8888888888888888,
                          "#fdca26"
                        ],
                        [
                          1,
                          "#f0f921"
                        ]
                      ]
                    },
                    "colorway": [
                      "#636efa",
                      "#EF553B",
                      "#00cc96",
                      "#ab63fa",
                      "#FFA15A",
                      "#19d3f3",
                      "#FF6692",
                      "#B6E880",
                      "#FF97FF",
                      "#FECB52"
                    ],
                    "font": {
                      "color": "#2a3f5f"
                    },
                    "geo": {
                      "bgcolor": "white",
                      "lakecolor": "white",
                      "landcolor": "#E5ECF6",
                      "showlakes": true,
                      "showland": true,
                      "subunitcolor": "white"
                    },
                    "hoverlabel": {
                      "align": "left"
                    },
                    "hovermode": "closest",
                    "mapbox": {
                      "style": "light"
                    },
                    "paper_bgcolor": "white",
                    "plot_bgcolor": "#E5ECF6",
                    "polar": {
                      "angularaxis": {
                        "gridcolor": "white",
                        "linecolor": "white",
                        "ticks": ""
                      },
                      "bgcolor": "#E5ECF6",
                      "radialaxis": {
                        "gridcolor": "white",
                        "linecolor": "white",
                        "ticks": ""
                      }
                    },
                    "scene": {
                      "xaxis": {
                        "backgroundcolor": "#E5ECF6",
                        "gridcolor": "white",
                        "gridwidth": 2,
                        "linecolor": "white",
                        "showbackground": true,
                        "ticks": "",
                        "zerolinecolor": "white"
                      },
                      "yaxis": {
                        "backgroundcolor": "#E5ECF6",
                        "gridcolor": "white",
                        "gridwidth": 2,
                        "linecolor": "white",
                        "showbackground": true,
                        "ticks": "",
                        "zerolinecolor": "white"
                      },
                      "zaxis": {
                        "backgroundcolor": "#E5ECF6",
                        "gridcolor": "white",
                        "gridwidth": 2,
                        "linecolor": "white",
                        "showbackground": true,
                        "ticks": "",
                        "zerolinecolor": "white"
                      }
                    },
                    "shapedefaults": {
                      "line": {
                        "color": "#2a3f5f"
                      }
                    },
                    "ternary": {
                      "aaxis": {
                        "gridcolor": "white",
                        "linecolor": "white",
                        "ticks": ""
                      },
                      "baxis": {
                        "gridcolor": "white",
                        "linecolor": "white",
                        "ticks": ""
                      },
                      "bgcolor": "#E5ECF6",
                      "caxis": {
                        "gridcolor": "white",
                        "linecolor": "white",
                        "ticks": ""
                      }
                    },
                    "title": {
                      "x": 0.05
                    },
                    "xaxis": {
                      "automargin": true,
                      "gridcolor": "white",
                      "linecolor": "white",
                      "ticks": "",
                      "title": {
                        "standoff": 15
                      },
                      "zerolinecolor": "white",
                      "zerolinewidth": 2
                    },
                    "yaxis": {
                      "automargin": true,
                      "gridcolor": "white",
                      "linecolor": "white",
                      "ticks": "",
                      "title": {
                        "standoff": 15
                      },
                      "zerolinecolor": "white",
                      "zerolinewidth": 2
                    }
                  }
                },
                "xaxis": {
                  "anchor": "y",
                  "domain": [
                    0,
                    1
                  ],
                  "range": [
                    0,
                    0.1
                  ],
                  "title": {
                    "text": "Logit Diff"
                  }
                },
                "yaxis": {
                  "anchor": "x",
                  "domain": [
                    0,
                    1
                  ],
                  "title": {
                    "text": "Attention Head"
                  }
                }
              }
            }
          },
          "metadata": {},
          "output_type": "display_data"
        }
      ],
      "source": [
        "plot_attention_heads(-results['z'].cuda(), top_n=15, range_x=[0, 0.1])"
      ]
    },
    {
      "cell_type": "code",
      "execution_count": 101,
      "metadata": {},
      "outputs": [
        {
          "data": {
            "text/html": [
              "<div id=\"circuits-vis-6909d85b-4641\" style=\"margin: 15px 0;\"/>\n",
              "    <script crossorigin type=\"module\">\n",
              "    import { render, AttentionHeads } from \"https://unpkg.com/circuitsvis@1.39.1/dist/cdn/esm.js\";\n",
              "    render(\n",
              "      \"circuits-vis-6909d85b-4641\",\n",
              "      AttentionHeads,\n",
              "      {\"attention\": [[[1.0, 0.0, 0.0, 0.0, 0.0, 0.0, 0.0, 0.0, 0.0, 0.0, 0.0, 0.0, 0.0, 0.0, 0.0, 0.0, 0.0, 0.0, 0.0], [0.9855955839157104, 0.01440445613116026, 0.0, 0.0, 0.0, 0.0, 0.0, 0.0, 0.0, 0.0, 0.0, 0.0, 0.0, 0.0, 0.0, 0.0, 0.0, 0.0, 0.0], [0.9799342751502991, 0.011392544023692608, 0.008673204109072685, 0.0, 0.0, 0.0, 0.0, 0.0, 0.0, 0.0, 0.0, 0.0, 0.0, 0.0, 0.0, 0.0, 0.0, 0.0, 0.0], [0.8351650834083557, 0.04418480023741722, 0.0019223822746425867, 0.11872772872447968, 0.0, 0.0, 0.0, 0.0, 0.0, 0.0, 0.0, 0.0, 0.0, 0.0, 0.0, 0.0, 0.0, 0.0, 0.0], [0.9564628601074219, 0.0030157319270074368, 0.00012018374400213361, 0.0031036613509058952, 0.03729752078652382, 0.0, 0.0, 0.0, 0.0, 0.0, 0.0, 0.0, 0.0, 0.0, 0.0, 0.0, 0.0, 0.0, 0.0], [0.9321370720863342, 0.0045364610850811005, 0.0007338422001339495, 0.01720241643488407, 0.03230533003807068, 0.013084959238767624, 0.0, 0.0, 0.0, 0.0, 0.0, 0.0, 0.0, 0.0, 0.0, 0.0, 0.0, 0.0, 0.0], [0.9457419514656067, 0.0053009819239377975, 0.00030245358357205987, 0.005870021414011717, 0.027332980185747147, 0.005979133769869804, 0.009472538717091084, 0.0, 0.0, 0.0, 0.0, 0.0, 0.0, 0.0, 0.0, 0.0, 0.0, 0.0, 0.0], [0.9523491859436035, 0.003688475349918008, 0.0005118970875628293, 0.007597345858812332, 0.009073929861187935, 0.004848552867770195, 0.006045517511665821, 0.015885069966316223, 0.0, 0.0, 0.0, 0.0, 0.0, 0.0, 0.0, 0.0, 0.0, 0.0, 0.0], [0.9012313485145569, 0.01142026111483574, 0.018900251016020775, 0.03692763298749924, 0.0026307785883545876, 0.0008568226476199925, 0.0016719854902476072, 0.006391320843249559, 0.019969606772065163, 0.0, 0.0, 0.0, 0.0, 0.0, 0.0, 0.0, 0.0, 0.0, 0.0], [0.7798066735267639, 0.014271281659603119, 0.0015242652734741569, 0.00685486476868391, 0.07887457311153412, 0.004413157235831022, 0.010271809995174408, 0.06275039166212082, 0.03385283797979355, 0.0073800827376544476, 0.0, 0.0, 0.0, 0.0, 0.0, 0.0, 0.0, 0.0, 0.0], [0.909619152545929, 0.0016094779130071402, 6.729117740178481e-05, 0.002001699525862932, 0.030325468629598618, 0.0036532620433717966, 0.009110519662499428, 0.03359868377447128, 0.0023032212629914284, 0.0009455002145841718, 0.006765606347471476, 0.0, 0.0, 0.0, 0.0, 0.0, 0.0, 0.0, 0.0], [0.9469709992408752, 0.002327218884602189, 0.00010515163012314588, 0.0019559860229492188, 0.009936737827956676, 0.0011303549399599433, 0.0031515297014266253, 0.00569002702832222, 0.003211456350982189, 0.0007782717002555728, 0.0031480032484978437, 0.021594321355223656, 0.0, 0.0, 0.0, 0.0, 0.0, 0.0, 0.0], [0.9502388834953308, 0.007999597117304802, 0.000895115896128118, 0.006765710189938545, 0.010360795073211193, 0.0008398032514378428, 0.0013796547427773476, 0.0015870167408138514, 0.0032861961517482996, 0.0005797218182124197, 0.0015825822483748198, 0.005687210243195295, 0.008797836489975452, 0.0, 0.0, 0.0, 0.0, 0.0, 0.0], [0.935369074344635, 0.005012428853660822, 0.00010948573617497459, 0.002218351000919938, 0.014066307805478573, 0.00031844290788285434, 0.0012394291115924716, 0.0012303058756515384, 0.0016082958318293095, 0.0016470974078401923, 0.0029863561503589153, 0.01844712719321251, 0.0031028147786855698, 0.012644377537071705, 0.0, 0.0, 0.0, 0.0, 0.0], [0.898557186126709, 0.020602434873580933, 0.0005546680185943842, 0.0056954678148031235, 0.0048952484503388405, 0.0008092846837826073, 0.0013839142629876733, 0.005773137789219618, 0.01607467420399189, 0.001786042470484972, 0.0009687767014838755, 0.012992305681109428, 0.007651324383914471, 0.013105493038892746, 0.009150203317403793, 0.0, 0.0, 0.0, 0.0], [0.8699467778205872, 0.0032431017607450485, 0.0001246728206751868, 0.0029757057782262564, 0.028129370883107185, 0.0019990713335573673, 0.01328759640455246, 0.01327879261225462, 0.003987833857536316, 0.002359309932217002, 0.010941347107291222, 0.028810305520892143, 0.0030814388301223516, 0.009382481686770916, 0.0031015430577099323, 0.00535069452598691, 0.0, 0.0, 0.0], [0.42899930477142334, 0.027766212821006775, 0.00040962695493362844, 0.0045496136881411076, 0.2500546872615814, 0.01810530573129654, 0.02003825269639492, 0.019739467650651932, 0.005411902442574501, 0.0007245165179483593, 0.05085638538002968, 0.055631618946790695, 0.00618815328925848, 0.02833019569516182, 0.011070423759520054, 0.03555288538336754, 0.036571402102708817, 0.0, 0.0], [0.5851500630378723, 0.0026540448889136314, 0.00011678799637593329, 0.0021959601435810328, 0.04979022592306137, 0.019649803638458252, 0.0841808170080185, 0.03425757214426994, 0.003101062960922718, 0.0017009699949994683, 0.01800684630870819, 0.07172921299934387, 0.008216028101742268, 0.052374955266714096, 0.006471734493970871, 0.020827006548643112, 0.014364809729158878, 0.025212233886122704, 0.0], [0.8139667510986328, 0.005652654450386763, 0.00013392081018537283, 0.001417671563103795, 0.02430831640958786, 0.002760496223345399, 0.026420636102557182, 0.01395757682621479, 0.001960060792043805, 0.000551757519133389, 0.007802786771208048, 0.02753535658121109, 0.003791753202676773, 0.016554629430174828, 0.003870277898386121, 0.00849888101220131, 0.017327930778265, 0.01650100387632847, 0.0069874124601483345]], [[1.0, 0.0, 0.0, 0.0, 0.0, 0.0, 0.0, 0.0, 0.0, 0.0, 0.0, 0.0, 0.0, 0.0, 0.0, 0.0, 0.0, 0.0, 0.0], [0.9841890931129456, 0.015810858458280563, 0.0, 0.0, 0.0, 0.0, 0.0, 0.0, 0.0, 0.0, 0.0, 0.0, 0.0, 0.0, 0.0, 0.0, 0.0, 0.0, 0.0], [0.9498457908630371, 0.028766436502337456, 0.021387776359915733, 0.0, 0.0, 0.0, 0.0, 0.0, 0.0, 0.0, 0.0, 0.0, 0.0, 0.0, 0.0, 0.0, 0.0, 0.0, 0.0], [0.9274930357933044, 0.011755187064409256, 0.03025473840534687, 0.03049694374203682, 0.0, 0.0, 0.0, 0.0, 0.0, 0.0, 0.0, 0.0, 0.0, 0.0, 0.0, 0.0, 0.0, 0.0, 0.0], [0.8936209082603455, 0.005435401573777199, 0.021208764985203743, 0.040954940021038055, 0.03877999633550644, 0.0, 0.0, 0.0, 0.0, 0.0, 0.0, 0.0, 0.0, 0.0, 0.0, 0.0, 0.0, 0.0, 0.0], [0.9228829145431519, 0.013698924332857132, 0.024354327470064163, 0.022621002048254013, 0.01068986114114523, 0.005753044970333576, 0.0, 0.0, 0.0, 0.0, 0.0, 0.0, 0.0, 0.0, 0.0, 0.0, 0.0, 0.0, 0.0], [0.8390639424324036, 0.007342556491494179, 0.029422223567962646, 0.017604898661375046, 0.022446708753705025, 0.02825270965695381, 0.05586693063378334, 0.0, 0.0, 0.0, 0.0, 0.0, 0.0, 0.0, 0.0, 0.0, 0.0, 0.0, 0.0], [0.6568896770477295, 0.019823934882879257, 0.07955562323331833, 0.025347761809825897, 0.031839702278375626, 0.008589757606387138, 0.15499067306518555, 0.022962886840105057, 0.0, 0.0, 0.0, 0.0, 0.0, 0.0, 0.0, 0.0, 0.0, 0.0, 0.0], [0.6487944722175598, 0.019155263900756836, 0.1865195333957672, 0.038026344031095505, 0.005769310984760523, 0.008649763651192188, 0.053680382668972015, 0.028965210542082787, 0.010439836420118809, 0.0, 0.0, 0.0, 0.0, 0.0, 0.0, 0.0, 0.0, 0.0, 0.0], [0.6025384068489075, 0.00897733774036169, 0.019640440121293068, 0.010321869514882565, 0.03930501267313957, 0.014916942454874516, 0.13074171543121338, 0.13563598692417145, 0.019208045676350594, 0.01871420443058014, 0.0, 0.0, 0.0, 0.0, 0.0, 0.0, 0.0, 0.0, 0.0], [0.9002637267112732, 0.0029636400286108255, 0.005159549415111542, 0.0016609157901257277, 0.0036961338482797146, 0.0030238584149628878, 0.031888920813798904, 0.02427181787788868, 0.0033044994343072176, 0.019101744517683983, 0.004665231332182884, 0.0, 0.0, 0.0, 0.0, 0.0, 0.0, 0.0, 0.0], [0.7580291032791138, 0.021314578130841255, 0.01402074471116066, 0.01979287900030613, 0.030313313007354736, 0.007293583359569311, 0.0699809193611145, 0.01816965453326702, 0.008395791985094547, 0.019307337701320648, 0.013678672723472118, 0.019703403115272522, 0.0, 0.0, 0.0, 0.0, 0.0, 0.0, 0.0], [0.8696907162666321, 0.03075541742146015, 0.010281604714691639, 0.012005765922367573, 0.006929838564246893, 0.005769757088273764, 0.007398178335279226, 0.007294856011867523, 0.00827009417116642, 0.010943437926471233, 0.006381431128829718, 0.019941069185733795, 0.00433774059638381, 0.0, 0.0, 0.0, 0.0, 0.0, 0.0], [0.8089345097541809, 0.006280203815549612, 0.0005089394398964942, 0.003335143206641078, 0.046415090560913086, 0.0016974291065707803, 0.022701263427734375, 0.004042722750455141, 0.001565907383337617, 0.0020106113515794277, 0.002338764723390341, 0.02215476520359516, 0.005209171213209629, 0.07280553132295609, 0.0, 0.0, 0.0, 0.0, 0.0], [0.92009437084198, 0.008216449990868568, 0.0017071221955120564, 0.004892638884484768, 0.009462425485253334, 0.0018300937954336405, 0.006005979608744383, 0.002225237898528576, 0.0016452798154205084, 0.0016704498557373881, 0.001197906443849206, 0.007682442665100098, 0.004022823181003332, 0.015073377639055252, 0.014273400418460369, 0.0, 0.0, 0.0, 0.0], [0.8263077735900879, 0.012062512338161469, 0.0016778272110968828, 0.00430985726416111, 0.01569942943751812, 0.0016200297977775335, 0.010339653119444847, 0.0026699244044721127, 0.0017925408901646733, 0.0028414027765393257, 0.0017401976510882378, 0.0038748770020902157, 0.0023099826648831367, 0.019568320363759995, 0.0703618973493576, 0.022823739796876907, 0.0, 0.0, 0.0], [0.5393614768981934, 0.005890365224331617, 0.0027099959552288055, 0.00654992088675499, 0.14543145895004272, 0.010885819792747498, 0.06278255581855774, 0.01759365387260914, 0.002559491666033864, 0.005926288664340973, 0.02126683108508587, 0.021563546732068062, 0.0030394785571843386, 0.014541047625243664, 0.0603795126080513, 0.05837123841047287, 0.02114739641547203, 0.0, 0.0], [0.5216249227523804, 0.0034568298142403364, 0.0038990515749901533, 0.010894893668591976, 0.023437945172190666, 0.007517120335251093, 0.06502455472946167, 0.0225126501172781, 0.0010824137134477496, 0.009431086480617523, 0.01725156418979168, 0.02394842728972435, 0.003470740048214793, 0.010614793747663498, 0.10071299970149994, 0.08087211847305298, 0.0591634064912796, 0.03508448973298073, 0.0], [0.6063005328178406, 0.009229139424860477, 0.0028172784950584173, 0.0044129411689937115, 0.02211989462375641, 0.002833504928275943, 0.03374405577778816, 0.007063702680170536, 0.00236038607545197, 0.0064392429776489735, 0.006455546244978905, 0.010320814326405525, 0.001520868274383247, 0.017152009531855583, 0.0752745196223259, 0.07994569838047028, 0.050632525235414505, 0.048965707421302795, 0.012411634437739849]]], \"attentionHeadNames\": [\"L7H1\", \"L7H5\"], \"tokens\": [\"<|endoftext|>\", \"I\", \" thought\", \" this\", \" movie\", \" was\", \" perfect\", \",\", \" I\", \" loved\", \" it\", \".\", \" \", \"\\n\", \"Conclusion\", \":\", \" This\", \" movie\", \" is\"]}\n",
              "    )\n",
              "    </script>"
            ],
            "text/plain": [
              "<circuitsvis.utils.render.RenderedHTML at 0x7f0b86553c10>"
            ]
          },
          "execution_count": 101,
          "metadata": {},
          "output_type": "execute_result"
        }
      ],
      "source": [
        "from visualization_utils import get_attn_head_patterns\n",
        "\n",
        "top_k = 2\n",
        "top_heads = torch.topk(-results['z'].flatten(), k=top_k).indices.cpu().numpy()\n",
        "heads = [(head // model.cfg.n_heads, head % model.cfg.n_heads) for head in top_heads]\n",
        "tokens, attn, names = get_attn_head_patterns(model, all_prompts[0], heads)\n",
        "cv.attention.attention_heads(tokens=tokens, attention=attn, attention_head_names=names)"
      ]
    },
    {
      "cell_type": "code",
      "execution_count": null,
      "metadata": {},
      "outputs": [],
      "source": []
    }
  ],
  "metadata": {
    "accelerator": "GPU",
    "colab": {
      "gpuType": "V100",
      "provenance": []
    },
    "kernelspec": {
      "display_name": "Python 3",
      "name": "python3"
    },
    "language_info": {
      "codemirror_mode": {
        "name": "ipython",
        "version": 3
      },
      "file_extension": ".py",
      "mimetype": "text/x-python",
      "name": "python",
      "nbconvert_exporter": "python",
      "pygments_lexer": "ipython3",
      "version": "3.8.16"
    },
    "widgets": {
      "application/vnd.jupyter.widget-state+json": {
        "060d47cf5b6f41c88718bab7f8051605": {
          "model_module": "@jupyter-widgets/controls",
          "model_module_version": "1.5.0",
          "model_name": "HBoxModel",
          "state": {
            "_dom_classes": [],
            "_model_module": "@jupyter-widgets/controls",
            "_model_module_version": "1.5.0",
            "_model_name": "HBoxModel",
            "_view_count": null,
            "_view_module": "@jupyter-widgets/controls",
            "_view_module_version": "1.5.0",
            "_view_name": "HBoxView",
            "box_style": "",
            "children": [
              "IPY_MODEL_7af2d1ab4deb43fd92a42ed75ae25ad2",
              "IPY_MODEL_632337f6f66248b3b76e787240ccc7ef",
              "IPY_MODEL_2dbefb95b7654de7b2755da7c1984db4"
            ],
            "layout": "IPY_MODEL_9dfb85af3854401aaf9c78df8b7fcfcb"
          }
        },
        "1ba653baebb64ba7901e6ce126e78405": {
          "model_module": "@jupyter-widgets/controls",
          "model_module_version": "1.5.0",
          "model_name": "FloatProgressModel",
          "state": {
            "_dom_classes": [],
            "_model_module": "@jupyter-widgets/controls",
            "_model_module_version": "1.5.0",
            "_model_name": "FloatProgressModel",
            "_view_count": null,
            "_view_module": "@jupyter-widgets/controls",
            "_view_module_version": "1.5.0",
            "_view_name": "ProgressView",
            "bar_style": "success",
            "description": "",
            "description_tooltip": null,
            "layout": "IPY_MODEL_67b6c684fe184711b14f1a422db1df35",
            "max": 10,
            "min": 0,
            "orientation": "horizontal",
            "style": "IPY_MODEL_e12a19b2b89c431aa0626f31e03aa28c",
            "value": 10
          }
        },
        "271f12ce00b94e64b6b54b037f7b9fd6": {
          "model_module": "@jupyter-widgets/controls",
          "model_module_version": "1.5.0",
          "model_name": "DescriptionStyleModel",
          "state": {
            "_model_module": "@jupyter-widgets/controls",
            "_model_module_version": "1.5.0",
            "_model_name": "DescriptionStyleModel",
            "_view_count": null,
            "_view_module": "@jupyter-widgets/base",
            "_view_module_version": "1.2.0",
            "_view_name": "StyleView",
            "description_width": ""
          }
        },
        "2dbefb95b7654de7b2755da7c1984db4": {
          "model_module": "@jupyter-widgets/controls",
          "model_module_version": "1.5.0",
          "model_name": "HTMLModel",
          "state": {
            "_dom_classes": [],
            "_model_module": "@jupyter-widgets/controls",
            "_model_module_version": "1.5.0",
            "_model_name": "HTMLModel",
            "_view_count": null,
            "_view_module": "@jupyter-widgets/controls",
            "_view_module_version": "1.5.0",
            "_view_name": "HTMLView",
            "description": "",
            "description_tooltip": null,
            "layout": "IPY_MODEL_8c5f6ad2c9cc40d09bb9d486d1acf11b",
            "placeholder": "​",
            "style": "IPY_MODEL_f0d7566d7993456c9868129e75799a8f",
            "value": " 28/100 [00:01&lt;00:03, 20.32it/s]"
          }
        },
        "3f495fafbe764539be05a9fd5c507d36": {
          "model_module": "@jupyter-widgets/controls",
          "model_module_version": "1.5.0",
          "model_name": "ProgressStyleModel",
          "state": {
            "_model_module": "@jupyter-widgets/controls",
            "_model_module_version": "1.5.0",
            "_model_name": "ProgressStyleModel",
            "_view_count": null,
            "_view_module": "@jupyter-widgets/base",
            "_view_module_version": "1.2.0",
            "_view_name": "StyleView",
            "bar_color": null,
            "description_width": ""
          }
        },
        "4dc8be886a0c4676b31a464bdb2ab075": {
          "model_module": "@jupyter-widgets/base",
          "model_module_version": "1.2.0",
          "model_name": "LayoutModel",
          "state": {
            "_model_module": "@jupyter-widgets/base",
            "_model_module_version": "1.2.0",
            "_model_name": "LayoutModel",
            "_view_count": null,
            "_view_module": "@jupyter-widgets/base",
            "_view_module_version": "1.2.0",
            "_view_name": "LayoutView",
            "align_content": null,
            "align_items": null,
            "align_self": null,
            "border": null,
            "bottom": null,
            "display": null,
            "flex": null,
            "flex_flow": null,
            "grid_area": null,
            "grid_auto_columns": null,
            "grid_auto_flow": null,
            "grid_auto_rows": null,
            "grid_column": null,
            "grid_gap": null,
            "grid_row": null,
            "grid_template_areas": null,
            "grid_template_columns": null,
            "grid_template_rows": null,
            "height": null,
            "justify_content": null,
            "justify_items": null,
            "left": null,
            "margin": null,
            "max_height": null,
            "max_width": null,
            "min_height": null,
            "min_width": null,
            "object_fit": null,
            "object_position": null,
            "order": null,
            "overflow": null,
            "overflow_x": null,
            "overflow_y": null,
            "padding": null,
            "right": null,
            "top": null,
            "visibility": null,
            "width": null
          }
        },
        "5740798eedc348cba76f4fdf0f93e45f": {
          "model_module": "@jupyter-widgets/base",
          "model_module_version": "1.2.0",
          "model_name": "LayoutModel",
          "state": {
            "_model_module": "@jupyter-widgets/base",
            "_model_module_version": "1.2.0",
            "_model_name": "LayoutModel",
            "_view_count": null,
            "_view_module": "@jupyter-widgets/base",
            "_view_module_version": "1.2.0",
            "_view_name": "LayoutView",
            "align_content": null,
            "align_items": null,
            "align_self": null,
            "border": null,
            "bottom": null,
            "display": null,
            "flex": null,
            "flex_flow": null,
            "grid_area": null,
            "grid_auto_columns": null,
            "grid_auto_flow": null,
            "grid_auto_rows": null,
            "grid_column": null,
            "grid_gap": null,
            "grid_row": null,
            "grid_template_areas": null,
            "grid_template_columns": null,
            "grid_template_rows": null,
            "height": null,
            "justify_content": null,
            "justify_items": null,
            "left": null,
            "margin": null,
            "max_height": null,
            "max_width": null,
            "min_height": null,
            "min_width": null,
            "object_fit": null,
            "object_position": null,
            "order": null,
            "overflow": null,
            "overflow_x": null,
            "overflow_y": null,
            "padding": null,
            "right": null,
            "top": null,
            "visibility": null,
            "width": null
          }
        },
        "632337f6f66248b3b76e787240ccc7ef": {
          "model_module": "@jupyter-widgets/controls",
          "model_module_version": "1.5.0",
          "model_name": "FloatProgressModel",
          "state": {
            "_dom_classes": [],
            "_model_module": "@jupyter-widgets/controls",
            "_model_module_version": "1.5.0",
            "_model_name": "FloatProgressModel",
            "_view_count": null,
            "_view_module": "@jupyter-widgets/controls",
            "_view_module_version": "1.5.0",
            "_view_name": "ProgressView",
            "bar_style": "danger",
            "description": "",
            "description_tooltip": null,
            "layout": "IPY_MODEL_4dc8be886a0c4676b31a464bdb2ab075",
            "max": 100,
            "min": 0,
            "orientation": "horizontal",
            "style": "IPY_MODEL_3f495fafbe764539be05a9fd5c507d36",
            "value": 28
          }
        },
        "67b6c684fe184711b14f1a422db1df35": {
          "model_module": "@jupyter-widgets/base",
          "model_module_version": "1.2.0",
          "model_name": "LayoutModel",
          "state": {
            "_model_module": "@jupyter-widgets/base",
            "_model_module_version": "1.2.0",
            "_model_name": "LayoutModel",
            "_view_count": null,
            "_view_module": "@jupyter-widgets/base",
            "_view_module_version": "1.2.0",
            "_view_name": "LayoutView",
            "align_content": null,
            "align_items": null,
            "align_self": null,
            "border": null,
            "bottom": null,
            "display": null,
            "flex": null,
            "flex_flow": null,
            "grid_area": null,
            "grid_auto_columns": null,
            "grid_auto_flow": null,
            "grid_auto_rows": null,
            "grid_column": null,
            "grid_gap": null,
            "grid_row": null,
            "grid_template_areas": null,
            "grid_template_columns": null,
            "grid_template_rows": null,
            "height": null,
            "justify_content": null,
            "justify_items": null,
            "left": null,
            "margin": null,
            "max_height": null,
            "max_width": null,
            "min_height": null,
            "min_width": null,
            "object_fit": null,
            "object_position": null,
            "order": null,
            "overflow": null,
            "overflow_x": null,
            "overflow_y": null,
            "padding": null,
            "right": null,
            "top": null,
            "visibility": null,
            "width": null
          }
        },
        "70d4bd675181462dbe603b8a3f0d02ba": {
          "model_module": "@jupyter-widgets/controls",
          "model_module_version": "1.5.0",
          "model_name": "DescriptionStyleModel",
          "state": {
            "_model_module": "@jupyter-widgets/controls",
            "_model_module_version": "1.5.0",
            "_model_name": "DescriptionStyleModel",
            "_view_count": null,
            "_view_module": "@jupyter-widgets/base",
            "_view_module_version": "1.2.0",
            "_view_name": "StyleView",
            "description_width": ""
          }
        },
        "7af2d1ab4deb43fd92a42ed75ae25ad2": {
          "model_module": "@jupyter-widgets/controls",
          "model_module_version": "1.5.0",
          "model_name": "HTMLModel",
          "state": {
            "_dom_classes": [],
            "_model_module": "@jupyter-widgets/controls",
            "_model_module_version": "1.5.0",
            "_model_name": "HTMLModel",
            "_view_count": null,
            "_view_module": "@jupyter-widgets/controls",
            "_view_module_version": "1.5.0",
            "_view_name": "HTMLView",
            "description": "",
            "description_tooltip": null,
            "layout": "IPY_MODEL_5740798eedc348cba76f4fdf0f93e45f",
            "placeholder": "​",
            "style": "IPY_MODEL_70d4bd675181462dbe603b8a3f0d02ba",
            "value": " 28%"
          }
        },
        "84dd7e2b163241bdba11d66b1f952a8a": {
          "model_module": "@jupyter-widgets/base",
          "model_module_version": "1.2.0",
          "model_name": "LayoutModel",
          "state": {
            "_model_module": "@jupyter-widgets/base",
            "_model_module_version": "1.2.0",
            "_model_name": "LayoutModel",
            "_view_count": null,
            "_view_module": "@jupyter-widgets/base",
            "_view_module_version": "1.2.0",
            "_view_name": "LayoutView",
            "align_content": null,
            "align_items": null,
            "align_self": null,
            "border": null,
            "bottom": null,
            "display": null,
            "flex": null,
            "flex_flow": null,
            "grid_area": null,
            "grid_auto_columns": null,
            "grid_auto_flow": null,
            "grid_auto_rows": null,
            "grid_column": null,
            "grid_gap": null,
            "grid_row": null,
            "grid_template_areas": null,
            "grid_template_columns": null,
            "grid_template_rows": null,
            "height": null,
            "justify_content": null,
            "justify_items": null,
            "left": null,
            "margin": null,
            "max_height": null,
            "max_width": null,
            "min_height": null,
            "min_width": null,
            "object_fit": null,
            "object_position": null,
            "order": null,
            "overflow": null,
            "overflow_x": null,
            "overflow_y": null,
            "padding": null,
            "right": null,
            "top": null,
            "visibility": null,
            "width": null
          }
        },
        "8aea2b6f73fd45d981c07f551b5e09db": {
          "model_module": "@jupyter-widgets/controls",
          "model_module_version": "1.5.0",
          "model_name": "DescriptionStyleModel",
          "state": {
            "_model_module": "@jupyter-widgets/controls",
            "_model_module_version": "1.5.0",
            "_model_name": "DescriptionStyleModel",
            "_view_count": null,
            "_view_module": "@jupyter-widgets/base",
            "_view_module_version": "1.2.0",
            "_view_name": "StyleView",
            "description_width": ""
          }
        },
        "8c5f6ad2c9cc40d09bb9d486d1acf11b": {
          "model_module": "@jupyter-widgets/base",
          "model_module_version": "1.2.0",
          "model_name": "LayoutModel",
          "state": {
            "_model_module": "@jupyter-widgets/base",
            "_model_module_version": "1.2.0",
            "_model_name": "LayoutModel",
            "_view_count": null,
            "_view_module": "@jupyter-widgets/base",
            "_view_module_version": "1.2.0",
            "_view_name": "LayoutView",
            "align_content": null,
            "align_items": null,
            "align_self": null,
            "border": null,
            "bottom": null,
            "display": null,
            "flex": null,
            "flex_flow": null,
            "grid_area": null,
            "grid_auto_columns": null,
            "grid_auto_flow": null,
            "grid_auto_rows": null,
            "grid_column": null,
            "grid_gap": null,
            "grid_row": null,
            "grid_template_areas": null,
            "grid_template_columns": null,
            "grid_template_rows": null,
            "height": null,
            "justify_content": null,
            "justify_items": null,
            "left": null,
            "margin": null,
            "max_height": null,
            "max_width": null,
            "min_height": null,
            "min_width": null,
            "object_fit": null,
            "object_position": null,
            "order": null,
            "overflow": null,
            "overflow_x": null,
            "overflow_y": null,
            "padding": null,
            "right": null,
            "top": null,
            "visibility": null,
            "width": null
          }
        },
        "925217a8bd094ce2b75d04276ae6b0e2": {
          "model_module": "@jupyter-widgets/controls",
          "model_module_version": "1.5.0",
          "model_name": "HBoxModel",
          "state": {
            "_dom_classes": [],
            "_model_module": "@jupyter-widgets/controls",
            "_model_module_version": "1.5.0",
            "_model_name": "HBoxModel",
            "_view_count": null,
            "_view_module": "@jupyter-widgets/controls",
            "_view_module_version": "1.5.0",
            "_view_name": "HBoxView",
            "box_style": "",
            "children": [
              "IPY_MODEL_bc0f7801a05a4e64b9d2a471add3b8b0",
              "IPY_MODEL_1ba653baebb64ba7901e6ce126e78405",
              "IPY_MODEL_f5a0492c843244d28ba4af22735c5dc5"
            ],
            "layout": "IPY_MODEL_84dd7e2b163241bdba11d66b1f952a8a"
          }
        },
        "9dfb85af3854401aaf9c78df8b7fcfcb": {
          "model_module": "@jupyter-widgets/base",
          "model_module_version": "1.2.0",
          "model_name": "LayoutModel",
          "state": {
            "_model_module": "@jupyter-widgets/base",
            "_model_module_version": "1.2.0",
            "_model_name": "LayoutModel",
            "_view_count": null,
            "_view_module": "@jupyter-widgets/base",
            "_view_module_version": "1.2.0",
            "_view_name": "LayoutView",
            "align_content": null,
            "align_items": null,
            "align_self": null,
            "border": null,
            "bottom": null,
            "display": null,
            "flex": null,
            "flex_flow": null,
            "grid_area": null,
            "grid_auto_columns": null,
            "grid_auto_flow": null,
            "grid_auto_rows": null,
            "grid_column": null,
            "grid_gap": null,
            "grid_row": null,
            "grid_template_areas": null,
            "grid_template_columns": null,
            "grid_template_rows": null,
            "height": null,
            "justify_content": null,
            "justify_items": null,
            "left": null,
            "margin": null,
            "max_height": null,
            "max_width": null,
            "min_height": null,
            "min_width": null,
            "object_fit": null,
            "object_position": null,
            "order": null,
            "overflow": null,
            "overflow_x": null,
            "overflow_y": null,
            "padding": null,
            "right": null,
            "top": null,
            "visibility": null,
            "width": null
          }
        },
        "bc0f7801a05a4e64b9d2a471add3b8b0": {
          "model_module": "@jupyter-widgets/controls",
          "model_module_version": "1.5.0",
          "model_name": "HTMLModel",
          "state": {
            "_dom_classes": [],
            "_model_module": "@jupyter-widgets/controls",
            "_model_module_version": "1.5.0",
            "_model_name": "HTMLModel",
            "_view_count": null,
            "_view_module": "@jupyter-widgets/controls",
            "_view_module_version": "1.5.0",
            "_view_name": "HTMLView",
            "description": "",
            "description_tooltip": null,
            "layout": "IPY_MODEL_c147fa34e381483697aa1d664653fcfa",
            "placeholder": "​",
            "style": "IPY_MODEL_271f12ce00b94e64b6b54b037f7b9fd6",
            "value": "100%"
          }
        },
        "bd1a1d82f30e4c7b8ffa856daafa6f16": {
          "model_module": "@jupyter-widgets/base",
          "model_module_version": "1.2.0",
          "model_name": "LayoutModel",
          "state": {
            "_model_module": "@jupyter-widgets/base",
            "_model_module_version": "1.2.0",
            "_model_name": "LayoutModel",
            "_view_count": null,
            "_view_module": "@jupyter-widgets/base",
            "_view_module_version": "1.2.0",
            "_view_name": "LayoutView",
            "align_content": null,
            "align_items": null,
            "align_self": null,
            "border": null,
            "bottom": null,
            "display": null,
            "flex": null,
            "flex_flow": null,
            "grid_area": null,
            "grid_auto_columns": null,
            "grid_auto_flow": null,
            "grid_auto_rows": null,
            "grid_column": null,
            "grid_gap": null,
            "grid_row": null,
            "grid_template_areas": null,
            "grid_template_columns": null,
            "grid_template_rows": null,
            "height": null,
            "justify_content": null,
            "justify_items": null,
            "left": null,
            "margin": null,
            "max_height": null,
            "max_width": null,
            "min_height": null,
            "min_width": null,
            "object_fit": null,
            "object_position": null,
            "order": null,
            "overflow": null,
            "overflow_x": null,
            "overflow_y": null,
            "padding": null,
            "right": null,
            "top": null,
            "visibility": null,
            "width": null
          }
        },
        "c147fa34e381483697aa1d664653fcfa": {
          "model_module": "@jupyter-widgets/base",
          "model_module_version": "1.2.0",
          "model_name": "LayoutModel",
          "state": {
            "_model_module": "@jupyter-widgets/base",
            "_model_module_version": "1.2.0",
            "_model_name": "LayoutModel",
            "_view_count": null,
            "_view_module": "@jupyter-widgets/base",
            "_view_module_version": "1.2.0",
            "_view_name": "LayoutView",
            "align_content": null,
            "align_items": null,
            "align_self": null,
            "border": null,
            "bottom": null,
            "display": null,
            "flex": null,
            "flex_flow": null,
            "grid_area": null,
            "grid_auto_columns": null,
            "grid_auto_flow": null,
            "grid_auto_rows": null,
            "grid_column": null,
            "grid_gap": null,
            "grid_row": null,
            "grid_template_areas": null,
            "grid_template_columns": null,
            "grid_template_rows": null,
            "height": null,
            "justify_content": null,
            "justify_items": null,
            "left": null,
            "margin": null,
            "max_height": null,
            "max_width": null,
            "min_height": null,
            "min_width": null,
            "object_fit": null,
            "object_position": null,
            "order": null,
            "overflow": null,
            "overflow_x": null,
            "overflow_y": null,
            "padding": null,
            "right": null,
            "top": null,
            "visibility": null,
            "width": null
          }
        },
        "e12a19b2b89c431aa0626f31e03aa28c": {
          "model_module": "@jupyter-widgets/controls",
          "model_module_version": "1.5.0",
          "model_name": "ProgressStyleModel",
          "state": {
            "_model_module": "@jupyter-widgets/controls",
            "_model_module_version": "1.5.0",
            "_model_name": "ProgressStyleModel",
            "_view_count": null,
            "_view_module": "@jupyter-widgets/base",
            "_view_module_version": "1.2.0",
            "_view_name": "StyleView",
            "bar_color": null,
            "description_width": ""
          }
        },
        "f0d7566d7993456c9868129e75799a8f": {
          "model_module": "@jupyter-widgets/controls",
          "model_module_version": "1.5.0",
          "model_name": "DescriptionStyleModel",
          "state": {
            "_model_module": "@jupyter-widgets/controls",
            "_model_module_version": "1.5.0",
            "_model_name": "DescriptionStyleModel",
            "_view_count": null,
            "_view_module": "@jupyter-widgets/base",
            "_view_module_version": "1.2.0",
            "_view_name": "StyleView",
            "description_width": ""
          }
        },
        "f5a0492c843244d28ba4af22735c5dc5": {
          "model_module": "@jupyter-widgets/controls",
          "model_module_version": "1.5.0",
          "model_name": "HTMLModel",
          "state": {
            "_dom_classes": [],
            "_model_module": "@jupyter-widgets/controls",
            "_model_module_version": "1.5.0",
            "_model_name": "HTMLModel",
            "_view_count": null,
            "_view_module": "@jupyter-widgets/controls",
            "_view_module_version": "1.5.0",
            "_view_name": "HTMLView",
            "description": "",
            "description_tooltip": null,
            "layout": "IPY_MODEL_bd1a1d82f30e4c7b8ffa856daafa6f16",
            "placeholder": "​",
            "style": "IPY_MODEL_8aea2b6f73fd45d981c07f551b5e09db",
            "value": " 10/10 [00:00&lt;00:00, 20.09it/s]"
          }
        }
      }
    }
  },
  "nbformat": 4,
  "nbformat_minor": 0
}
