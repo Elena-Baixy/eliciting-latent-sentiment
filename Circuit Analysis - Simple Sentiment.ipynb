{
  "cells": [
    {
      "attachments": {},
      "cell_type": "markdown",
      "metadata": {
        "id": "CbZUo-Tev4QM"
      },
      "source": [
        "# Initial Exploratory Analysis"
      ]
    },
    {
      "attachments": {},
      "cell_type": "markdown",
      "metadata": {
        "id": "5vLV3GuDd415"
      },
      "source": [
        "## Setup"
      ]
    },
    {
      "cell_type": "code",
      "execution_count": 1,
      "metadata": {},
      "outputs": [],
      "source": [
        "from IPython import get_ipython\n",
        "ipython = get_ipython()\n",
        "ipython.run_line_magic(\"load_ext\", \"autoreload\")\n",
        "ipython.run_line_magic(\"autoreload\", \"2\")"
      ]
    },
    {
      "cell_type": "code",
      "execution_count": 1,
      "metadata": {
        "id": "8QQvkqmWcB2v"
      },
      "outputs": [],
      "source": [
        "import os\n",
        "import pathlib\n",
        "from typing import List, Optional, Union\n",
        "\n",
        "import torch\n",
        "import numpy as np\n",
        "import yaml\n",
        "\n",
        "import einops\n",
        "from fancy_einsum import einsum\n",
        "\n",
        "from datasets import load_dataset\n",
        "#from transformers import pipeline\n",
        "\n",
        "import transformers\n",
        "import circuitsvis as cv\n",
        "from transformers import AutoConfig, AutoModel, AutoModelForCausalLM\n",
        "import transformer_lens\n",
        "import transformer_lens.utils as utils\n",
        "from transformer_lens.hook_points import (\n",
        "    HookedRootModule,\n",
        "    HookPoint,\n",
        ")  # Hooking utilities\n",
        "from transformer_lens import HookedTransformer, HookedTransformerConfig, FactoredMatrix, ActivationCache\n",
        "\n",
        "from torch import Tensor\n",
        "from tqdm.notebook import tqdm\n",
        "from jaxtyping import Float, Int, Bool\n",
        "from typing import List, Optional, Callable, Tuple, Dict, Literal, Set\n",
        "from rich import print as rprint\n",
        "\n",
        "from typing import List, Union\n",
        "import plotly.express as px\n",
        "import plotly.graph_objects as go\n",
        "from plotly.subplots import make_subplots\n",
        "import re\n",
        "\n",
        "from functools import partial\n",
        "\n",
        "from torchtyping import TensorType as TT\n",
        "\n",
        "from path_patching import Node, IterNode, path_patch, act_patch"
      ]
    },
    {
      "cell_type": "code",
      "execution_count": 2,
      "metadata": {},
      "outputs": [],
      "source": [
        "torch.set_grad_enabled(False)\n",
        "\n",
        "device = torch.device(\"cuda\") if torch.cuda.is_available() else torch.device(\"cpu\")"
      ]
    },
    {
      "cell_type": "code",
      "execution_count": 3,
      "metadata": {},
      "outputs": [],
      "source": [
        "update_layout_set = {\n",
        "    \"xaxis_range\", \"yaxis_range\", \"hovermode\", \"xaxis_title\", \"yaxis_title\", \"colorbar\", \"colorscale\", \"coloraxis\", \"title_x\", \"bargap\", \"bargroupgap\", \"xaxis_tickformat\",\n",
        "    \"yaxis_tickformat\", \"title_y\", \"legend_title_text\", \"xaxis_showgrid\", \"xaxis_gridwidth\", \"xaxis_gridcolor\", \"yaxis_showgrid\", \"yaxis_gridwidth\", \"yaxis_gridcolor\",\n",
        "    \"showlegend\", \"xaxis_tickmode\", \"yaxis_tickmode\", \"xaxis_tickangle\", \"yaxis_tickangle\", \"margin\", \"xaxis_visible\", \"yaxis_visible\", \"bargap\", \"bargroupgap\"\n",
        "}\n",
        "\n",
        "def imshow_p(tensor, renderer=None, **kwargs):\n",
        "    kwargs_post = {k: v for k, v in kwargs.items() if k in update_layout_set}\n",
        "    kwargs_pre = {k: v for k, v in kwargs.items() if k not in update_layout_set}\n",
        "    facet_labels = kwargs_pre.pop(\"facet_labels\", None)\n",
        "    border = kwargs_pre.pop(\"border\", False)\n",
        "    if \"color_continuous_scale\" not in kwargs_pre:\n",
        "        kwargs_pre[\"color_continuous_scale\"] = \"RdBu\"\n",
        "    if \"margin\" in kwargs_post and isinstance(kwargs_post[\"margin\"], int):\n",
        "        kwargs_post[\"margin\"] = dict.fromkeys(list(\"tblr\"), kwargs_post[\"margin\"])\n",
        "    fig = px.imshow(utils.to_numpy(tensor), color_continuous_midpoint=0.0, **kwargs_pre)\n",
        "    if facet_labels:\n",
        "        for i, label in enumerate(facet_labels):\n",
        "            fig.layout.annotations[i]['text'] = label\n",
        "    if border:\n",
        "        fig.update_xaxes(showline=True, linewidth=1, linecolor='black', mirror=True)\n",
        "        fig.update_yaxes(showline=True, linewidth=1, linecolor='black', mirror=True)\n",
        "    # things like `xaxis_tickmode` should be applied to all subplots. This is super janky lol but I'm under time pressure\n",
        "    for setting in [\"tickangle\"]:\n",
        "      if f\"xaxis_{setting}\" in kwargs_post:\n",
        "          i = 2\n",
        "          while f\"xaxis{i}\" in fig[\"layout\"]:\n",
        "            kwargs_post[f\"xaxis{i}_{setting}\"] = kwargs_post[f\"xaxis_{setting}\"]\n",
        "            i += 1\n",
        "    fig.update_layout(**kwargs_post)\n",
        "    fig.show(renderer=renderer)\n",
        "\n",
        "def hist_p(tensor, renderer=None, **kwargs):\n",
        "    kwargs_post = {k: v for k, v in kwargs.items() if k in update_layout_set}\n",
        "    kwargs_pre = {k: v for k, v in kwargs.items() if k not in update_layout_set}\n",
        "    names = kwargs_pre.pop(\"names\", None)\n",
        "    if \"barmode\" not in kwargs_post:\n",
        "        kwargs_post[\"barmode\"] = \"overlay\"\n",
        "    if \"bargap\" not in kwargs_post:\n",
        "        kwargs_post[\"bargap\"] = 0.0\n",
        "    if \"margin\" in kwargs_post and isinstance(kwargs_post[\"margin\"], int):\n",
        "        kwargs_post[\"margin\"] = dict.fromkeys(list(\"tblr\"), kwargs_post[\"margin\"])\n",
        "    fig = px.histogram(x=tensor, **kwargs_pre).update_layout(**kwargs_post)\n",
        "    if names is not None:\n",
        "        for i in range(len(fig.data)):\n",
        "            fig.data[i][\"name\"] = names[i // 2]\n",
        "    fig.show(renderer)"
      ]
    },
    {
      "cell_type": "code",
      "execution_count": 4,
      "metadata": {
        "id": "0c0JbzPpI0-D"
      },
      "outputs": [],
      "source": [
        "def imshow(tensor, renderer=None, xaxis=\"\", yaxis=\"\", **kwargs):\n",
        "    px.imshow(utils.to_numpy(tensor), color_continuous_midpoint=0.0, color_continuous_scale=\"RdBu\", labels={\"x\":xaxis, \"y\":yaxis}, **kwargs).show(renderer)\n",
        "\n",
        "def line(tensor, renderer=None, **kwargs):\n",
        "    px.line(y=utils.to_numpy(tensor), **kwargs).show(renderer)\n",
        "\n",
        "def two_lines(tensor1, tensor2, renderer=None, **kwargs):\n",
        "    px.line(y=[utils.to_numpy(tensor1), utils.to_numpy(tensor2)], **kwargs).show(renderer)\n",
        "\n",
        "def scatter(x, y, xaxis=\"\", yaxis=\"\", caxis=\"\", renderer=None, **kwargs):\n",
        "    x = utils.to_numpy(x)\n",
        "    y = utils.to_numpy(y)\n",
        "    px.scatter(y=y, x=x, labels={\"x\":xaxis, \"y\":yaxis, \"color\":caxis}, **kwargs).show(renderer)"
      ]
    },
    {
      "cell_type": "code",
      "execution_count": 52,
      "metadata": {},
      "outputs": [],
      "source": [
        "def get_logit_diff(logits, answer_token_indices, per_prompt=False):\n",
        "    \"\"\"Gets the difference between the logits of the provided tokens (e.g., the correct and incorrect tokens in IOI)\n",
        "\n",
        "    Args:\n",
        "        logits (torch.Tensor): Logits to use.\n",
        "        answer_token_indices (torch.Tensor): Indices of the tokens to compare.\n",
        "\n",
        "    Returns:\n",
        "        torch.Tensor: Difference between the logits of the provided tokens.\n",
        "    \"\"\"\n",
        "    if len(logits.shape) == 3:\n",
        "        # Get final logits only\n",
        "        logits = logits[:, -1, :]\n",
        "    left_logits = logits.gather(1, answer_token_indices[:, 0].unsqueeze(1))\n",
        "    right_logits = logits.gather(1, answer_token_indices[:, 1].unsqueeze(1))\n",
        "    if per_prompt:\n",
        "        print(left_logits - right_logits)\n",
        "\n",
        "    return (left_logits - right_logits).mean()\n",
        "\n",
        "def logit_diff_denoising(\n",
        "    logits: Float[Tensor, \"batch seq d_vocab\"],\n",
        "    answer_tokens: Float[Tensor, \"batch 2\"] = answer_tokens,\n",
        "    flipped_logit_diff: float = corrupted_logit_diff,\n",
        "    clean_logit_diff: float = clean_logit_diff,\n",
        ") -> Float[Tensor, \"\"]:\n",
        "    '''\n",
        "    Linear function of logit diff, calibrated so that it equals 0 when performance is\n",
        "    same as on flipped input, and 1 when performance is same as on clean input.\n",
        "    '''\n",
        "    patched_logit_diff = get_logit_diff(logits, answer_tokens)\n",
        "    return ((patched_logit_diff - flipped_logit_diff) / (clean_logit_diff  - flipped_logit_diff)).item()\n",
        "\n",
        "def logit_diff_noising(\n",
        "        logits: Float[Tensor, \"batch seq d_vocab\"],\n",
        "        clean_logit_diff: float = clean_logit_diff,\n",
        "        corrupted_logit_diff: float = corrupted_logit_diff,\n",
        "        answer_tokens: Float[Tensor, \"batch 2\"] = answer_tokens,\n",
        "    ) -> float:\n",
        "        '''\n",
        "        We calibrate this so that the value is 0 when performance isn't harmed (i.e. same as IOI dataset),\n",
        "        and -1 when performance has been destroyed (i.e. is same as ABC dataset).\n",
        "        '''\n",
        "        patched_logit_diff = get_logit_diff(logits, answer_tokens)\n",
        "        return ((patched_logit_diff - clean_logit_diff) / (clean_logit_diff - corrupted_logit_diff)).item()"
      ]
    },
    {
      "attachments": {},
      "cell_type": "markdown",
      "metadata": {
        "id": "y5jV1EnY0dpf"
      },
      "source": [
        "## Exploratory Analysis\n"
      ]
    },
    {
      "cell_type": "code",
      "execution_count": 6,
      "metadata": {
        "colab": {
          "base_uri": "https://localhost:8080/"
        },
        "id": "bjeWvBNOn2VT",
        "outputId": "dff069ed-56d5-414d-d649-2c70f073b1fc"
      },
      "outputs": [
        {
          "name": "stderr",
          "output_type": "stream",
          "text": [
            "Using pad_token, but it is not set yet.\n"
          ]
        },
        {
          "name": "stdout",
          "output_type": "stream",
          "text": [
            "Loaded pretrained model gpt2-small into HookedTransformer\n"
          ]
        }
      ],
      "source": [
        "#source_model = AutoModelForCausalLM.from_pretrained(\"lvwerra/gpt2-imdb\")\n",
        "#rlhf_model = AutoModelForCausalLM.from_pretrained(\"curt-tigges/gpt2-negative-movie-reviews\")\n",
        "\n",
        "#hooked_source_model = HookedTransformer.from_pretrained(model_name=\"gpt2\", hf_model=source_model)\n",
        "#model = HookedTransformer.from_pretrained(model_name=\"EleutherAI/pythia-410m\")\n",
        "model = HookedTransformer.from_pretrained(\n",
        "    \"gpt2-small\",\n",
        "    center_unembed=True,\n",
        "    center_writing_weights=True,\n",
        "    fold_ln=True,\n",
        "    refactor_factored_attn_matrices=True,\n",
        ")"
      ]
    },
    {
      "attachments": {},
      "cell_type": "markdown",
      "metadata": {},
      "source": [
        "### Initial Examination"
      ]
    },
    {
      "cell_type": "code",
      "execution_count": 7,
      "metadata": {},
      "outputs": [],
      "source": [
        "example_prompt = \"I thought this movie was lousy, I hated it. \\nConclusion: This movie is\"\n",
        "example_answer = \" terrible\""
      ]
    },
    {
      "cell_type": "code",
      "execution_count": 8,
      "metadata": {},
      "outputs": [
        {
          "name": "stdout",
          "output_type": "stream",
          "text": [
            "Tokenized prompt: ['<|endoftext|>', 'I', ' thought', ' this', ' movie', ' was', ' lousy', ',', ' I', ' hated', ' it', '.', ' ', '\\n', 'Conclusion', ':', ' This', ' movie', ' is']\n",
            "Tokenized answer: [' terrible']\n"
          ]
        },
        {
          "data": {
            "text/html": [
              "<pre style=\"white-space:pre;overflow-x:auto;line-height:normal;font-family:Menlo,'DejaVu Sans Mono',consolas,'Courier New',monospace\">Performance on answer token:\n",
              "<span style=\"font-weight: bold\">Rank: </span><span style=\"color: #008080; text-decoration-color: #008080; font-weight: bold\">1</span><span style=\"font-weight: bold\">        Logit: </span><span style=\"color: #008080; text-decoration-color: #008080; font-weight: bold\">14.10</span><span style=\"font-weight: bold\"> Prob:  </span><span style=\"color: #008080; text-decoration-color: #008080; font-weight: bold\">4.47</span><span style=\"font-weight: bold\">% Token: | terrible|</span>\n",
              "</pre>\n"
            ],
            "text/plain": [
              "Performance on answer token:\n",
              "\u001b[1mRank: \u001b[0m\u001b[1;36m1\u001b[0m\u001b[1m        Logit: \u001b[0m\u001b[1;36m14.10\u001b[0m\u001b[1m Prob:  \u001b[0m\u001b[1;36m4.47\u001b[0m\u001b[1m% Token: | terrible|\u001b[0m\n"
            ]
          },
          "metadata": {},
          "output_type": "display_data"
        },
        {
          "name": "stdout",
          "output_type": "stream",
          "text": [
            "Top 0th token. Logit: 14.87 Prob:  9.68% Token: | a|\n",
            "Top 1th token. Logit: 14.10 Prob:  4.47% Token: | terrible|\n",
            "Top 2th token. Logit: 13.93 Prob:  3.77% Token: | bad|\n",
            "Top 3th token. Logit: 13.90 Prob:  3.67% Token: | so|\n",
            "Top 4th token. Logit: 13.87 Prob:  3.57% Token: | not|\n",
            "Top 5th token. Logit: 13.80 Prob:  3.30% Token: | awful|\n",
            "Top 6th token. Logit: 13.28 Prob:  1.98% Token: | pretty|\n",
            "Top 7th token. Logit: 13.25 Prob:  1.91% Token: | just|\n",
            "Top 8th token. Logit: 13.16 Prob:  1.75% Token: | really|\n",
            "Top 9th token. Logit: 13.13 Prob:  1.69% Token: | the|\n"
          ]
        },
        {
          "data": {
            "text/html": [
              "<pre style=\"white-space:pre;overflow-x:auto;line-height:normal;font-family:Menlo,'DejaVu Sans Mono',consolas,'Courier New',monospace\"><span style=\"font-weight: bold\">Ranks of the answer tokens:</span> <span style=\"font-weight: bold\">[(</span><span style=\"color: #008000; text-decoration-color: #008000\">' terrible'</span>, <span style=\"color: #008080; text-decoration-color: #008080; font-weight: bold\">1</span><span style=\"font-weight: bold\">)]</span>\n",
              "</pre>\n"
            ],
            "text/plain": [
              "\u001b[1mRanks of the answer tokens:\u001b[0m \u001b[1m[\u001b[0m\u001b[1m(\u001b[0m\u001b[32m' terrible'\u001b[0m, \u001b[1;36m1\u001b[0m\u001b[1m)\u001b[0m\u001b[1m]\u001b[0m\n"
            ]
          },
          "metadata": {},
          "output_type": "display_data"
        }
      ],
      "source": [
        "utils.test_prompt(example_prompt, example_answer, model, prepend_bos=True, top_k=10)"
      ]
    },
    {
      "cell_type": "code",
      "execution_count": 9,
      "metadata": {},
      "outputs": [
        {
          "name": "stdout",
          "output_type": "stream",
          "text": [
            "Tokenized prompt: ['<|endoftext|>', 'I', ' thought', ' this', ' movie', ' was', ' amazing', ',', ' I', ' loved', ' it', '.', ' ', '\\n', 'Conclusion', ':', ' This', ' movie', ' is']\n",
            "Tokenized answer: [' amazing']\n"
          ]
        },
        {
          "data": {
            "text/html": [
              "<pre style=\"white-space:pre;overflow-x:auto;line-height:normal;font-family:Menlo,'DejaVu Sans Mono',consolas,'Courier New',monospace\">Performance on answer token:\n",
              "<span style=\"font-weight: bold\">Rank: </span><span style=\"color: #008080; text-decoration-color: #008080; font-weight: bold\">1</span><span style=\"font-weight: bold\">        Logit: </span><span style=\"color: #008080; text-decoration-color: #008080; font-weight: bold\">14.65</span><span style=\"font-weight: bold\"> Prob:  </span><span style=\"color: #008080; text-decoration-color: #008080; font-weight: bold\">5.62</span><span style=\"font-weight: bold\">% Token: | amazing|</span>\n",
              "</pre>\n"
            ],
            "text/plain": [
              "Performance on answer token:\n",
              "\u001b[1mRank: \u001b[0m\u001b[1;36m1\u001b[0m\u001b[1m        Logit: \u001b[0m\u001b[1;36m14.65\u001b[0m\u001b[1m Prob:  \u001b[0m\u001b[1;36m5.62\u001b[0m\u001b[1m% Token: | amazing|\u001b[0m\n"
            ]
          },
          "metadata": {},
          "output_type": "display_data"
        },
        {
          "name": "stdout",
          "output_type": "stream",
          "text": [
            "Top 0th token. Logit: 15.37 Prob: 11.47% Token: | a|\n",
            "Top 1th token. Logit: 14.65 Prob:  5.62% Token: | amazing|\n",
            "Top 2th token. Logit: 14.58 Prob:  5.23% Token: | so|\n",
            "Top 3th token. Logit: 14.27 Prob:  3.82% Token: | awesome|\n",
            "Top 4th token. Logit: 14.25 Prob:  3.75% Token: | great|\n",
            "Top 5th token. Logit: 14.21 Prob:  3.58% Token: | one|\n",
            "Top 6th token. Logit: 14.06 Prob:  3.09% Token: | really|\n",
            "Top 7th token. Logit: 13.91 Prob:  2.67% Token: | the|\n",
            "Top 8th token. Logit: 13.82 Prob:  2.43% Token: | not|\n",
            "Top 9th token. Logit: 13.75 Prob:  2.27% Token: | just|\n"
          ]
        },
        {
          "data": {
            "text/html": [
              "<pre style=\"white-space:pre;overflow-x:auto;line-height:normal;font-family:Menlo,'DejaVu Sans Mono',consolas,'Courier New',monospace\"><span style=\"font-weight: bold\">Ranks of the answer tokens:</span> <span style=\"font-weight: bold\">[(</span><span style=\"color: #008000; text-decoration-color: #008000\">' amazing'</span>, <span style=\"color: #008080; text-decoration-color: #008080; font-weight: bold\">1</span><span style=\"font-weight: bold\">)]</span>\n",
              "</pre>\n"
            ],
            "text/plain": [
              "\u001b[1mRanks of the answer tokens:\u001b[0m \u001b[1m[\u001b[0m\u001b[1m(\u001b[0m\u001b[32m' amazing'\u001b[0m, \u001b[1;36m1\u001b[0m\u001b[1m)\u001b[0m\u001b[1m]\u001b[0m\n"
            ]
          },
          "metadata": {},
          "output_type": "display_data"
        }
      ],
      "source": [
        "example_prompt = \"I thought this movie was amazing, I loved it. \\nConclusion: This movie is\"\n",
        "example_answer = \" amazing\"\n",
        "utils.test_prompt(example_prompt, example_answer, model, prepend_bos=True, top_k=10)"
      ]
    },
    {
      "attachments": {},
      "cell_type": "markdown",
      "metadata": {},
      "source": [
        "### Dataset Construction"
      ]
    },
    {
      "cell_type": "code",
      "execution_count": 10,
      "metadata": {},
      "outputs": [
        {
          "data": {
            "text/plain": [
              "(27, 26)"
            ]
          },
          "execution_count": 10,
          "metadata": {},
          "output_type": "execute_result"
        }
      ],
      "source": [
        "positive_adjectives = [\n",
        "    ' perfect', ' fantastic',' delightful',' cheerful',' marvelous',' good',' remarkable',' wonderful',\n",
        "    ' fabulous',' outstanding',' awesome',' exceptional',' incredible',' extraordinary',\n",
        "    ' amazing',' lovely',' brilliant',' charming',' terrific',' superb',' spectacular',' great',' splendid',\n",
        "    ' beautiful',' joyful',' positive',' excellent'\n",
        "    ]\n",
        "\n",
        "negative_adjectives = [\n",
        "    ' dreadful',' bad',' dull',' depressing',' miserable',' tragic',' nasty',' inferior',' horrific',' terrible',\n",
        "    ' ugly',' disgusting',' disastrous',' horrendous',' annoying',' boring',' offensive',' frustrating',' wretched',' dire',\n",
        "    ' awful',' unpleasant',' horrible',' mediocre',' disappointing',' inadequate'\n",
        "    ]\n",
        "\n",
        "#negative_adjectives = [' lousy', ' dire', ' bad', ' nasty', ' miserable', ' wretched', ' disgusting', ' ugly', ' disastrous', ' tragic']\n",
        "\n",
        "len(positive_adjectives), len(negative_adjectives)\n"
      ]
    },
    {
      "cell_type": "code",
      "execution_count": 32,
      "metadata": {},
      "outputs": [],
      "source": [
        "all_prompts = []\n",
        "\n",
        "pos_prompts = [\n",
        "    f\"I thought this movie was{positive_adjectives[i]}, I loved it. \\nConclusion: This movie is\" for i in range(len(positive_adjectives)-1)\n",
        "]\n",
        "neg_prompts = [\n",
        "    f\"I thought this movie was{negative_adjectives[i]}, I hated it. \\nConclusion: This movie is\" for i in range(len(negative_adjectives)-1)\n",
        "]\n",
        "# List of the token (ie an integer) corresponding to each answer, in the format (correct_token, incorrect_token)\n",
        "answer_tokens = []\n",
        "for i in range(len(pos_prompts)-1):\n",
        "\n",
        "    all_prompts.append(pos_prompts[i])\n",
        "    all_prompts.append(neg_prompts[i])\n",
        "    \n",
        "    answer_tokens.append(\n",
        "        (\n",
        "            model.to_single_token(\" amazing\"),\n",
        "            model.to_single_token(\" terrible\"),\n",
        "        )\n",
        "    )\n",
        "\n",
        "    answer_tokens.append(\n",
        "        (\n",
        "            model.to_single_token(\" terrible\"),\n",
        "            model.to_single_token(\" amazing\"),\n",
        "        )\n",
        "    )\n",
        "\n",
        "answer_tokens = torch.tensor(answer_tokens).to(device)\n",
        "\n",
        "prompts_tokens = model.to_tokens(all_prompts, prepend_bos=True)\n",
        "clean_tokens = prompts_tokens.to(device)\n",
        "\n",
        "corrupted_tokens = model.to_tokens(all_prompts[1:] + [all_prompts[0]], prepend_bos=True)"
      ]
    },
    {
      "cell_type": "code",
      "execution_count": 12,
      "metadata": {},
      "outputs": [
        {
          "name": "stdout",
          "output_type": "stream",
          "text": [
            "I thought this movie was perfect, I loved it. \n",
            "Conclusion: This movie is\n",
            "tensor(2.3302, device='cuda:0')\n",
            "I thought this movie was dreadful, I hated it. \n",
            "Conclusion: This movie is\n",
            "tensor(2.4427, device='cuda:0')\n",
            "I thought this movie was fantastic, I loved it. \n",
            "Conclusion: This movie is\n",
            "tensor(2.3365, device='cuda:0')\n",
            "I thought this movie was bad, I hated it. \n",
            "Conclusion: This movie is\n",
            "tensor(2.0416, device='cuda:0')\n",
            "I thought this movie was delightful, I loved it. \n",
            "Conclusion: This movie is\n",
            "tensor(1.8997, device='cuda:0')\n",
            "I thought this movie was dull, I hated it. \n",
            "Conclusion: This movie is\n",
            "tensor(0.7407, device='cuda:0')\n",
            "I thought this movie was cheerful, I loved it. \n",
            "Conclusion: This movie is\n",
            "tensor(1.3165, device='cuda:0')\n",
            "I thought this movie was depressing, I hated it. \n",
            "Conclusion: This movie is\n",
            "tensor(1.5101, device='cuda:0')\n",
            "I thought this movie was marvelous, I loved it. \n",
            "Conclusion: This movie is\n",
            "tensor(2.5645, device='cuda:0')\n",
            "I thought this movie was miserable, I hated it. \n",
            "Conclusion: This movie is\n",
            "tensor(1.9590, device='cuda:0')\n",
            "I thought this movie was good, I loved it. \n",
            "Conclusion: This movie is\n",
            "tensor(1.1228, device='cuda:0')\n",
            "I thought this movie was tragic, I hated it. \n",
            "Conclusion: This movie is\n",
            "tensor(1.4198, device='cuda:0')\n",
            "I thought this movie was remarkable, I loved it. \n",
            "Conclusion: This movie is\n",
            "tensor(3.2916, device='cuda:0')\n",
            "I thought this movie was nasty, I hated it. \n",
            "Conclusion: This movie is\n",
            "tensor(2.1456, device='cuda:0')\n",
            "I thought this movie was wonderful, I loved it. \n",
            "Conclusion: This movie is\n",
            "tensor(2.3223, device='cuda:0')\n",
            "I thought this movie was inferior, I hated it. \n",
            "Conclusion: This movie is\n",
            "tensor(1.1128, device='cuda:0')\n",
            "I thought this movie was fabulous, I loved it. \n",
            "Conclusion: This movie is\n",
            "tensor(2.6412, device='cuda:0')\n",
            "I thought this movie was horrific, I hated it. \n",
            "Conclusion: This movie is\n",
            "tensor(2.2501, device='cuda:0')\n",
            "I thought this movie was outstanding, I loved it. \n",
            "Conclusion: This movie is\n",
            "tensor(2.7847, device='cuda:0')\n",
            "I thought this movie was terrible, I hated it. \n",
            "Conclusion: This movie is\n",
            "tensor(2.1066, device='cuda:0')\n",
            "I thought this movie was awesome, I loved it. \n",
            "Conclusion: This movie is\n",
            "tensor(2.5315, device='cuda:0')\n",
            "I thought this movie was ugly, I hated it. \n",
            "Conclusion: This movie is\n",
            "tensor(1.7390, device='cuda:0')\n",
            "I thought this movie was exceptional, I loved it. \n",
            "Conclusion: This movie is\n",
            "tensor(2.9622, device='cuda:0')\n",
            "I thought this movie was disgusting, I hated it. \n",
            "Conclusion: This movie is\n",
            "tensor(2.1057, device='cuda:0')\n",
            "I thought this movie was incredible, I loved it. \n",
            "Conclusion: This movie is\n",
            "tensor(3.1510, device='cuda:0')\n",
            "I thought this movie was disastrous, I hated it. \n",
            "Conclusion: This movie is\n",
            "tensor(2.5984, device='cuda:0')\n",
            "I thought this movie was extraordinary, I loved it. \n",
            "Conclusion: This movie is\n",
            "tensor(3.3466, device='cuda:0')\n",
            "I thought this movie was horrendous, I hated it. \n",
            "Conclusion: This movie is\n",
            "tensor(2.4620, device='cuda:0')\n",
            "I thought this movie was amazing, I loved it. \n",
            "Conclusion: This movie is\n",
            "tensor(3.1383, device='cuda:0')\n",
            "I thought this movie was annoying, I hated it. \n",
            "Conclusion: This movie is\n",
            "tensor(1.2401, device='cuda:0')\n",
            "I thought this movie was lovely, I loved it. \n",
            "Conclusion: This movie is\n",
            "tensor(2.0705, device='cuda:0')\n",
            "I thought this movie was boring, I hated it. \n",
            "Conclusion: This movie is\n",
            "tensor(0.6497, device='cuda:0')\n",
            "I thought this movie was brilliant, I loved it. \n",
            "Conclusion: This movie is\n",
            "tensor(2.0679, device='cuda:0')\n",
            "I thought this movie was offensive, I hated it. \n",
            "Conclusion: This movie is\n",
            "tensor(2.0038, device='cuda:0')\n",
            "I thought this movie was charming, I loved it. \n",
            "Conclusion: This movie is\n",
            "tensor(1.6090, device='cuda:0')\n",
            "I thought this movie was frustrating, I hated it. \n",
            "Conclusion: This movie is\n",
            "tensor(0.7509, device='cuda:0')\n",
            "I thought this movie was terrific, I loved it. \n",
            "Conclusion: This movie is\n",
            "tensor(1.6373, device='cuda:0')\n",
            "I thought this movie was wretched, I hated it. \n",
            "Conclusion: This movie is\n",
            "tensor(2.3785, device='cuda:0')\n",
            "I thought this movie was superb, I loved it. \n",
            "Conclusion: This movie is\n",
            "tensor(2.1710, device='cuda:0')\n",
            "I thought this movie was dire, I hated it. \n",
            "Conclusion: This movie is\n",
            "tensor(1.8087, device='cuda:0')\n",
            "I thought this movie was spectacular, I loved it. \n",
            "Conclusion: This movie is\n",
            "tensor(2.8305, device='cuda:0')\n",
            "I thought this movie was awful, I hated it. \n",
            "Conclusion: This movie is\n",
            "tensor(2.4388, device='cuda:0')\n",
            "I thought this movie was great, I loved it. \n",
            "Conclusion: This movie is\n",
            "tensor(1.8443, device='cuda:0')\n",
            "I thought this movie was unpleasant, I hated it. \n",
            "Conclusion: This movie is\n",
            "tensor(2.3623, device='cuda:0')\n",
            "I thought this movie was splendid, I loved it. \n",
            "Conclusion: This movie is\n",
            "tensor(2.1392, device='cuda:0')\n",
            "I thought this movie was horrible, I hated it. \n",
            "Conclusion: This movie is\n",
            "tensor(2.3529, device='cuda:0')\n",
            "I thought this movie was beautiful, I loved it. \n",
            "Conclusion: This movie is\n",
            "tensor(2.6621, device='cuda:0')\n",
            "I thought this movie was mediocre, I hated it. \n",
            "Conclusion: This movie is\n",
            "tensor(1.3268, device='cuda:0')\n",
            "I thought this movie was joyful, I loved it. \n",
            "Conclusion: This movie is\n",
            "tensor(2.1991, device='cuda:0')\n",
            "I thought this movie was disappointing, I hated it. \n",
            "Conclusion: This movie is\n",
            "tensor(1.2210, device='cuda:0')\n"
          ]
        }
      ],
      "source": [
        "for i in range(len(all_prompts)):\n",
        "    logits, _ = model.run_with_cache(all_prompts[i])\n",
        "    print(all_prompts[i])\n",
        "    print(get_logit_diff(logits, answer_tokens[i].unsqueeze(0)))"
      ]
    },
    {
      "cell_type": "code",
      "execution_count": 13,
      "metadata": {},
      "outputs": [
        {
          "data": {
            "text/plain": [
              "tensor(2.0828, device='cuda:0')"
            ]
          },
          "execution_count": 13,
          "metadata": {},
          "output_type": "execute_result"
        }
      ],
      "source": [
        "clean_logits, clean_cache = model.run_with_cache(clean_tokens)\n",
        "clean_logit_diff = get_logit_diff(clean_logits, answer_tokens, per_prompt=False)\n",
        "clean_logit_diff"
      ]
    },
    {
      "cell_type": "code",
      "execution_count": 14,
      "metadata": {},
      "outputs": [
        {
          "data": {
            "text/plain": [
              "tensor(-2.0904, device='cuda:0')"
            ]
          },
          "execution_count": 14,
          "metadata": {},
          "output_type": "execute_result"
        }
      ],
      "source": [
        "corrupted_logits, corrupted_cache = model.run_with_cache(corrupted_tokens)\n",
        "corrupted_logit_diff = get_logit_diff(corrupted_logits, answer_tokens, per_prompt=False)\n",
        "corrupted_logit_diff"
      ]
    },
    {
      "attachments": {},
      "cell_type": "markdown",
      "metadata": {
        "id": "TfiWnZtelFMV"
      },
      "source": [
        "### Direct Logit Attribution"
      ]
    },
    {
      "cell_type": "code",
      "execution_count": 15,
      "metadata": {
        "colab": {
          "base_uri": "https://localhost:8080/"
        },
        "id": "bt_jzrazlMAK",
        "outputId": "39683745-1153-4a0f-bdbf-5f3be977abe3"
      },
      "outputs": [
        {
          "name": "stdout",
          "output_type": "stream",
          "text": [
            "Answer residual directions shape: torch.Size([50, 2, 768])\n",
            "Logit difference directions shape: torch.Size([50, 768])\n"
          ]
        }
      ],
      "source": [
        "answer_residual_directions = model.tokens_to_residual_directions(answer_tokens)\n",
        "print(\"Answer residual directions shape:\", answer_residual_directions.shape)\n",
        "logit_diff_directions = answer_residual_directions[:, 0] - answer_residual_directions[:, 1]\n",
        "print(\"Logit difference directions shape:\", logit_diff_directions.shape)"
      ]
    },
    {
      "cell_type": "code",
      "execution_count": 16,
      "metadata": {
        "colab": {
          "base_uri": "https://localhost:8080/"
        },
        "id": "LsDE7VUGIX8l",
        "outputId": "226c2ad4-fb5b-44f4-b872-1d06eee7cbd5"
      },
      "outputs": [
        {
          "name": "stdout",
          "output_type": "stream",
          "text": [
            "Final residual stream shape: torch.Size([50, 19, 768])\n",
            "Calculated average logit diff: 2.082763671875\n",
            "Original logit difference: 2.0827624797821045\n"
          ]
        }
      ],
      "source": [
        "# cache syntax - resid_post is the residual stream at the end of the layer, -1 gets the final layer. The general syntax is [activation_name, layer_index, sub_layer_type]. \n",
        "final_residual_stream = clean_cache[\"resid_post\", -1]\n",
        "print(\"Final residual stream shape:\", final_residual_stream.shape)\n",
        "final_token_residual_stream = final_residual_stream[:, -1, :]\n",
        "# Apply LayerNorm scaling\n",
        "# pos_slice is the subset of the positions we take - here the final token of each prompt\n",
        "scaled_final_token_residual_stream = clean_cache.apply_ln_to_stack(final_token_residual_stream, layer = -1, pos_slice=-1)\n",
        "\n",
        "average_logit_diff = einsum(\"batch d_model, batch d_model -> \", scaled_final_token_residual_stream, logit_diff_directions)/len(all_prompts)\n",
        "print(\"Calculated average logit diff:\", average_logit_diff.item())\n",
        "print(\"Original logit difference:\",clean_logit_diff.item())"
      ]
    },
    {
      "attachments": {},
      "cell_type": "markdown",
      "metadata": {
        "id": "Nb2nC45lIohT"
      },
      "source": [
        "#### Logit Lens"
      ]
    },
    {
      "cell_type": "code",
      "execution_count": 17,
      "metadata": {
        "id": "DvRDK2krIrid"
      },
      "outputs": [],
      "source": [
        "def residual_stack_to_logit_diff(residual_stack: TT[\"components\", \"batch\", \"d_model\"], cache: ActivationCache) -> float:\n",
        "    scaled_residual_stack = clean_cache.apply_ln_to_stack(residual_stack, layer = -1, pos_slice=-1)\n",
        "    return einsum(\"... batch d_model, batch d_model -> ...\", scaled_residual_stack, logit_diff_directions)/len(all_prompts)"
      ]
    },
    {
      "cell_type": "code",
      "execution_count": 18,
      "metadata": {
        "colab": {
          "base_uri": "https://localhost:8080/",
          "height": 542
        },
        "id": "7vxP1pNuPMhr",
        "outputId": "616ac0ef-ddd2-4b1e-bccd-8ee3a3ebce23"
      },
      "outputs": [
        {
          "data": {
            "application/vnd.plotly.v1+json": {
              "config": {
                "plotlyServerURL": "https://plot.ly"
              },
              "data": [
                {
                  "hovertemplate": "<b>%{hovertext}</b><br><br>x=%{x}<br>y=%{y}<extra></extra>",
                  "hovertext": [
                    "0_pre",
                    "0_mid",
                    "1_pre",
                    "1_mid",
                    "2_pre",
                    "2_mid",
                    "3_pre",
                    "3_mid",
                    "4_pre",
                    "4_mid",
                    "5_pre",
                    "5_mid",
                    "6_pre",
                    "6_mid",
                    "7_pre",
                    "7_mid",
                    "8_pre",
                    "8_mid",
                    "9_pre",
                    "9_mid",
                    "10_pre",
                    "10_mid",
                    "11_pre",
                    "11_mid",
                    "final_post"
                  ],
                  "legendgroup": "",
                  "line": {
                    "color": "#636efa",
                    "dash": "solid"
                  },
                  "marker": {
                    "symbol": "circle"
                  },
                  "mode": "lines",
                  "name": "",
                  "orientation": "v",
                  "showlegend": false,
                  "type": "scatter",
                  "x": [
                    0,
                    0.5,
                    1,
                    1.5,
                    2,
                    2.5,
                    3,
                    3.5,
                    4,
                    4.5,
                    5,
                    5.5,
                    6,
                    6.5,
                    7,
                    7.5,
                    8,
                    8.5,
                    9,
                    9.5,
                    10,
                    10.5,
                    11,
                    11.5,
                    12
                  ],
                  "xaxis": "x",
                  "y": [
                    0.000016859121387824416,
                    0.01996169239282608,
                    0.016354262828826904,
                    0.031095193699002266,
                    0.026855692267417908,
                    0.04335765913128853,
                    0.03144436702132225,
                    0.038970496505498886,
                    0.03830522298812866,
                    0.05148552730679512,
                    0.05248598754405975,
                    0.08326032757759094,
                    0.07462608069181442,
                    0.11274708807468414,
                    0.11095374077558517,
                    0.2105582058429718,
                    0.24722589552402496,
                    0.37699782848358154,
                    0.518980085849762,
                    0.8448799848556519,
                    1.00214421749115,
                    1.6909915208816528,
                    1.873942255973816,
                    2.090784788131714,
                    2.082763671875
                  ],
                  "yaxis": "y"
                }
              ],
              "layout": {
                "legend": {
                  "tracegroupgap": 0
                },
                "template": {
                  "data": {
                    "bar": [
                      {
                        "error_x": {
                          "color": "#2a3f5f"
                        },
                        "error_y": {
                          "color": "#2a3f5f"
                        },
                        "marker": {
                          "line": {
                            "color": "#E5ECF6",
                            "width": 0.5
                          },
                          "pattern": {
                            "fillmode": "overlay",
                            "size": 10,
                            "solidity": 0.2
                          }
                        },
                        "type": "bar"
                      }
                    ],
                    "barpolar": [
                      {
                        "marker": {
                          "line": {
                            "color": "#E5ECF6",
                            "width": 0.5
                          },
                          "pattern": {
                            "fillmode": "overlay",
                            "size": 10,
                            "solidity": 0.2
                          }
                        },
                        "type": "barpolar"
                      }
                    ],
                    "carpet": [
                      {
                        "aaxis": {
                          "endlinecolor": "#2a3f5f",
                          "gridcolor": "white",
                          "linecolor": "white",
                          "minorgridcolor": "white",
                          "startlinecolor": "#2a3f5f"
                        },
                        "baxis": {
                          "endlinecolor": "#2a3f5f",
                          "gridcolor": "white",
                          "linecolor": "white",
                          "minorgridcolor": "white",
                          "startlinecolor": "#2a3f5f"
                        },
                        "type": "carpet"
                      }
                    ],
                    "choropleth": [
                      {
                        "colorbar": {
                          "outlinewidth": 0,
                          "ticks": ""
                        },
                        "type": "choropleth"
                      }
                    ],
                    "contour": [
                      {
                        "colorbar": {
                          "outlinewidth": 0,
                          "ticks": ""
                        },
                        "colorscale": [
                          [
                            0,
                            "#0d0887"
                          ],
                          [
                            0.1111111111111111,
                            "#46039f"
                          ],
                          [
                            0.2222222222222222,
                            "#7201a8"
                          ],
                          [
                            0.3333333333333333,
                            "#9c179e"
                          ],
                          [
                            0.4444444444444444,
                            "#bd3786"
                          ],
                          [
                            0.5555555555555556,
                            "#d8576b"
                          ],
                          [
                            0.6666666666666666,
                            "#ed7953"
                          ],
                          [
                            0.7777777777777778,
                            "#fb9f3a"
                          ],
                          [
                            0.8888888888888888,
                            "#fdca26"
                          ],
                          [
                            1,
                            "#f0f921"
                          ]
                        ],
                        "type": "contour"
                      }
                    ],
                    "contourcarpet": [
                      {
                        "colorbar": {
                          "outlinewidth": 0,
                          "ticks": ""
                        },
                        "type": "contourcarpet"
                      }
                    ],
                    "heatmap": [
                      {
                        "colorbar": {
                          "outlinewidth": 0,
                          "ticks": ""
                        },
                        "colorscale": [
                          [
                            0,
                            "#0d0887"
                          ],
                          [
                            0.1111111111111111,
                            "#46039f"
                          ],
                          [
                            0.2222222222222222,
                            "#7201a8"
                          ],
                          [
                            0.3333333333333333,
                            "#9c179e"
                          ],
                          [
                            0.4444444444444444,
                            "#bd3786"
                          ],
                          [
                            0.5555555555555556,
                            "#d8576b"
                          ],
                          [
                            0.6666666666666666,
                            "#ed7953"
                          ],
                          [
                            0.7777777777777778,
                            "#fb9f3a"
                          ],
                          [
                            0.8888888888888888,
                            "#fdca26"
                          ],
                          [
                            1,
                            "#f0f921"
                          ]
                        ],
                        "type": "heatmap"
                      }
                    ],
                    "heatmapgl": [
                      {
                        "colorbar": {
                          "outlinewidth": 0,
                          "ticks": ""
                        },
                        "colorscale": [
                          [
                            0,
                            "#0d0887"
                          ],
                          [
                            0.1111111111111111,
                            "#46039f"
                          ],
                          [
                            0.2222222222222222,
                            "#7201a8"
                          ],
                          [
                            0.3333333333333333,
                            "#9c179e"
                          ],
                          [
                            0.4444444444444444,
                            "#bd3786"
                          ],
                          [
                            0.5555555555555556,
                            "#d8576b"
                          ],
                          [
                            0.6666666666666666,
                            "#ed7953"
                          ],
                          [
                            0.7777777777777778,
                            "#fb9f3a"
                          ],
                          [
                            0.8888888888888888,
                            "#fdca26"
                          ],
                          [
                            1,
                            "#f0f921"
                          ]
                        ],
                        "type": "heatmapgl"
                      }
                    ],
                    "histogram": [
                      {
                        "marker": {
                          "pattern": {
                            "fillmode": "overlay",
                            "size": 10,
                            "solidity": 0.2
                          }
                        },
                        "type": "histogram"
                      }
                    ],
                    "histogram2d": [
                      {
                        "colorbar": {
                          "outlinewidth": 0,
                          "ticks": ""
                        },
                        "colorscale": [
                          [
                            0,
                            "#0d0887"
                          ],
                          [
                            0.1111111111111111,
                            "#46039f"
                          ],
                          [
                            0.2222222222222222,
                            "#7201a8"
                          ],
                          [
                            0.3333333333333333,
                            "#9c179e"
                          ],
                          [
                            0.4444444444444444,
                            "#bd3786"
                          ],
                          [
                            0.5555555555555556,
                            "#d8576b"
                          ],
                          [
                            0.6666666666666666,
                            "#ed7953"
                          ],
                          [
                            0.7777777777777778,
                            "#fb9f3a"
                          ],
                          [
                            0.8888888888888888,
                            "#fdca26"
                          ],
                          [
                            1,
                            "#f0f921"
                          ]
                        ],
                        "type": "histogram2d"
                      }
                    ],
                    "histogram2dcontour": [
                      {
                        "colorbar": {
                          "outlinewidth": 0,
                          "ticks": ""
                        },
                        "colorscale": [
                          [
                            0,
                            "#0d0887"
                          ],
                          [
                            0.1111111111111111,
                            "#46039f"
                          ],
                          [
                            0.2222222222222222,
                            "#7201a8"
                          ],
                          [
                            0.3333333333333333,
                            "#9c179e"
                          ],
                          [
                            0.4444444444444444,
                            "#bd3786"
                          ],
                          [
                            0.5555555555555556,
                            "#d8576b"
                          ],
                          [
                            0.6666666666666666,
                            "#ed7953"
                          ],
                          [
                            0.7777777777777778,
                            "#fb9f3a"
                          ],
                          [
                            0.8888888888888888,
                            "#fdca26"
                          ],
                          [
                            1,
                            "#f0f921"
                          ]
                        ],
                        "type": "histogram2dcontour"
                      }
                    ],
                    "mesh3d": [
                      {
                        "colorbar": {
                          "outlinewidth": 0,
                          "ticks": ""
                        },
                        "type": "mesh3d"
                      }
                    ],
                    "parcoords": [
                      {
                        "line": {
                          "colorbar": {
                            "outlinewidth": 0,
                            "ticks": ""
                          }
                        },
                        "type": "parcoords"
                      }
                    ],
                    "pie": [
                      {
                        "automargin": true,
                        "type": "pie"
                      }
                    ],
                    "scatter": [
                      {
                        "fillpattern": {
                          "fillmode": "overlay",
                          "size": 10,
                          "solidity": 0.2
                        },
                        "type": "scatter"
                      }
                    ],
                    "scatter3d": [
                      {
                        "line": {
                          "colorbar": {
                            "outlinewidth": 0,
                            "ticks": ""
                          }
                        },
                        "marker": {
                          "colorbar": {
                            "outlinewidth": 0,
                            "ticks": ""
                          }
                        },
                        "type": "scatter3d"
                      }
                    ],
                    "scattercarpet": [
                      {
                        "marker": {
                          "colorbar": {
                            "outlinewidth": 0,
                            "ticks": ""
                          }
                        },
                        "type": "scattercarpet"
                      }
                    ],
                    "scattergeo": [
                      {
                        "marker": {
                          "colorbar": {
                            "outlinewidth": 0,
                            "ticks": ""
                          }
                        },
                        "type": "scattergeo"
                      }
                    ],
                    "scattergl": [
                      {
                        "marker": {
                          "colorbar": {
                            "outlinewidth": 0,
                            "ticks": ""
                          }
                        },
                        "type": "scattergl"
                      }
                    ],
                    "scattermapbox": [
                      {
                        "marker": {
                          "colorbar": {
                            "outlinewidth": 0,
                            "ticks": ""
                          }
                        },
                        "type": "scattermapbox"
                      }
                    ],
                    "scatterpolar": [
                      {
                        "marker": {
                          "colorbar": {
                            "outlinewidth": 0,
                            "ticks": ""
                          }
                        },
                        "type": "scatterpolar"
                      }
                    ],
                    "scatterpolargl": [
                      {
                        "marker": {
                          "colorbar": {
                            "outlinewidth": 0,
                            "ticks": ""
                          }
                        },
                        "type": "scatterpolargl"
                      }
                    ],
                    "scatterternary": [
                      {
                        "marker": {
                          "colorbar": {
                            "outlinewidth": 0,
                            "ticks": ""
                          }
                        },
                        "type": "scatterternary"
                      }
                    ],
                    "surface": [
                      {
                        "colorbar": {
                          "outlinewidth": 0,
                          "ticks": ""
                        },
                        "colorscale": [
                          [
                            0,
                            "#0d0887"
                          ],
                          [
                            0.1111111111111111,
                            "#46039f"
                          ],
                          [
                            0.2222222222222222,
                            "#7201a8"
                          ],
                          [
                            0.3333333333333333,
                            "#9c179e"
                          ],
                          [
                            0.4444444444444444,
                            "#bd3786"
                          ],
                          [
                            0.5555555555555556,
                            "#d8576b"
                          ],
                          [
                            0.6666666666666666,
                            "#ed7953"
                          ],
                          [
                            0.7777777777777778,
                            "#fb9f3a"
                          ],
                          [
                            0.8888888888888888,
                            "#fdca26"
                          ],
                          [
                            1,
                            "#f0f921"
                          ]
                        ],
                        "type": "surface"
                      }
                    ],
                    "table": [
                      {
                        "cells": {
                          "fill": {
                            "color": "#EBF0F8"
                          },
                          "line": {
                            "color": "white"
                          }
                        },
                        "header": {
                          "fill": {
                            "color": "#C8D4E3"
                          },
                          "line": {
                            "color": "white"
                          }
                        },
                        "type": "table"
                      }
                    ]
                  },
                  "layout": {
                    "annotationdefaults": {
                      "arrowcolor": "#2a3f5f",
                      "arrowhead": 0,
                      "arrowwidth": 1
                    },
                    "autotypenumbers": "strict",
                    "coloraxis": {
                      "colorbar": {
                        "outlinewidth": 0,
                        "ticks": ""
                      }
                    },
                    "colorscale": {
                      "diverging": [
                        [
                          0,
                          "#8e0152"
                        ],
                        [
                          0.1,
                          "#c51b7d"
                        ],
                        [
                          0.2,
                          "#de77ae"
                        ],
                        [
                          0.3,
                          "#f1b6da"
                        ],
                        [
                          0.4,
                          "#fde0ef"
                        ],
                        [
                          0.5,
                          "#f7f7f7"
                        ],
                        [
                          0.6,
                          "#e6f5d0"
                        ],
                        [
                          0.7,
                          "#b8e186"
                        ],
                        [
                          0.8,
                          "#7fbc41"
                        ],
                        [
                          0.9,
                          "#4d9221"
                        ],
                        [
                          1,
                          "#276419"
                        ]
                      ],
                      "sequential": [
                        [
                          0,
                          "#0d0887"
                        ],
                        [
                          0.1111111111111111,
                          "#46039f"
                        ],
                        [
                          0.2222222222222222,
                          "#7201a8"
                        ],
                        [
                          0.3333333333333333,
                          "#9c179e"
                        ],
                        [
                          0.4444444444444444,
                          "#bd3786"
                        ],
                        [
                          0.5555555555555556,
                          "#d8576b"
                        ],
                        [
                          0.6666666666666666,
                          "#ed7953"
                        ],
                        [
                          0.7777777777777778,
                          "#fb9f3a"
                        ],
                        [
                          0.8888888888888888,
                          "#fdca26"
                        ],
                        [
                          1,
                          "#f0f921"
                        ]
                      ],
                      "sequentialminus": [
                        [
                          0,
                          "#0d0887"
                        ],
                        [
                          0.1111111111111111,
                          "#46039f"
                        ],
                        [
                          0.2222222222222222,
                          "#7201a8"
                        ],
                        [
                          0.3333333333333333,
                          "#9c179e"
                        ],
                        [
                          0.4444444444444444,
                          "#bd3786"
                        ],
                        [
                          0.5555555555555556,
                          "#d8576b"
                        ],
                        [
                          0.6666666666666666,
                          "#ed7953"
                        ],
                        [
                          0.7777777777777778,
                          "#fb9f3a"
                        ],
                        [
                          0.8888888888888888,
                          "#fdca26"
                        ],
                        [
                          1,
                          "#f0f921"
                        ]
                      ]
                    },
                    "colorway": [
                      "#636efa",
                      "#EF553B",
                      "#00cc96",
                      "#ab63fa",
                      "#FFA15A",
                      "#19d3f3",
                      "#FF6692",
                      "#B6E880",
                      "#FF97FF",
                      "#FECB52"
                    ],
                    "font": {
                      "color": "#2a3f5f"
                    },
                    "geo": {
                      "bgcolor": "white",
                      "lakecolor": "white",
                      "landcolor": "#E5ECF6",
                      "showlakes": true,
                      "showland": true,
                      "subunitcolor": "white"
                    },
                    "hoverlabel": {
                      "align": "left"
                    },
                    "hovermode": "closest",
                    "mapbox": {
                      "style": "light"
                    },
                    "paper_bgcolor": "white",
                    "plot_bgcolor": "#E5ECF6",
                    "polar": {
                      "angularaxis": {
                        "gridcolor": "white",
                        "linecolor": "white",
                        "ticks": ""
                      },
                      "bgcolor": "#E5ECF6",
                      "radialaxis": {
                        "gridcolor": "white",
                        "linecolor": "white",
                        "ticks": ""
                      }
                    },
                    "scene": {
                      "xaxis": {
                        "backgroundcolor": "#E5ECF6",
                        "gridcolor": "white",
                        "gridwidth": 2,
                        "linecolor": "white",
                        "showbackground": true,
                        "ticks": "",
                        "zerolinecolor": "white"
                      },
                      "yaxis": {
                        "backgroundcolor": "#E5ECF6",
                        "gridcolor": "white",
                        "gridwidth": 2,
                        "linecolor": "white",
                        "showbackground": true,
                        "ticks": "",
                        "zerolinecolor": "white"
                      },
                      "zaxis": {
                        "backgroundcolor": "#E5ECF6",
                        "gridcolor": "white",
                        "gridwidth": 2,
                        "linecolor": "white",
                        "showbackground": true,
                        "ticks": "",
                        "zerolinecolor": "white"
                      }
                    },
                    "shapedefaults": {
                      "line": {
                        "color": "#2a3f5f"
                      }
                    },
                    "ternary": {
                      "aaxis": {
                        "gridcolor": "white",
                        "linecolor": "white",
                        "ticks": ""
                      },
                      "baxis": {
                        "gridcolor": "white",
                        "linecolor": "white",
                        "ticks": ""
                      },
                      "bgcolor": "#E5ECF6",
                      "caxis": {
                        "gridcolor": "white",
                        "linecolor": "white",
                        "ticks": ""
                      }
                    },
                    "title": {
                      "x": 0.05
                    },
                    "xaxis": {
                      "automargin": true,
                      "gridcolor": "white",
                      "linecolor": "white",
                      "ticks": "",
                      "title": {
                        "standoff": 15
                      },
                      "zerolinecolor": "white",
                      "zerolinewidth": 2
                    },
                    "yaxis": {
                      "automargin": true,
                      "gridcolor": "white",
                      "linecolor": "white",
                      "ticks": "",
                      "title": {
                        "standoff": 15
                      },
                      "zerolinecolor": "white",
                      "zerolinewidth": 2
                    }
                  }
                },
                "title": {
                  "text": "Logit Difference From Accumulate Residual Stream"
                },
                "xaxis": {
                  "anchor": "y",
                  "domain": [
                    0,
                    1
                  ],
                  "title": {
                    "text": "x"
                  }
                },
                "yaxis": {
                  "anchor": "x",
                  "domain": [
                    0,
                    1
                  ],
                  "title": {
                    "text": "y"
                  }
                }
              }
            }
          },
          "metadata": {},
          "output_type": "display_data"
        }
      ],
      "source": [
        "accumulated_residual, labels = clean_cache.accumulated_resid(layer=-1, incl_mid=True, pos_slice=-1, return_labels=True)\n",
        "logit_lens_logit_diffs = residual_stack_to_logit_diff(accumulated_residual, clean_cache)\n",
        "line(logit_lens_logit_diffs, x=np.arange(model.cfg.n_layers*2+1)/2, hover_name=labels, title=\"Logit Difference From Accumulate Residual Stream\")"
      ]
    },
    {
      "attachments": {},
      "cell_type": "markdown",
      "metadata": {
        "id": "s60emfYIbTuT"
      },
      "source": [
        "#### Layer Attribution"
      ]
    },
    {
      "cell_type": "code",
      "execution_count": 19,
      "metadata": {
        "colab": {
          "base_uri": "https://localhost:8080/",
          "height": 542
        },
        "id": "yGgAVYgIJi9Z",
        "outputId": "2d6b1ffe-b701-419d-a786-24f0d24d2b54"
      },
      "outputs": [
        {
          "data": {
            "application/vnd.plotly.v1+json": {
              "config": {
                "plotlyServerURL": "https://plot.ly"
              },
              "data": [
                {
                  "hovertemplate": "<b>%{hovertext}</b><br><br>x=%{x}<br>y=%{y}<extra></extra>",
                  "hovertext": [
                    "embed",
                    "pos_embed",
                    "0_attn_out",
                    "0_mlp_out",
                    "1_attn_out",
                    "1_mlp_out",
                    "2_attn_out",
                    "2_mlp_out",
                    "3_attn_out",
                    "3_mlp_out",
                    "4_attn_out",
                    "4_mlp_out",
                    "5_attn_out",
                    "5_mlp_out",
                    "6_attn_out",
                    "6_mlp_out",
                    "7_attn_out",
                    "7_mlp_out",
                    "8_attn_out",
                    "8_mlp_out",
                    "9_attn_out",
                    "9_mlp_out",
                    "10_attn_out",
                    "10_mlp_out",
                    "11_attn_out",
                    "11_mlp_out"
                  ],
                  "legendgroup": "",
                  "line": {
                    "color": "#636efa",
                    "dash": "solid"
                  },
                  "marker": {
                    "symbol": "circle"
                  },
                  "mode": "lines",
                  "name": "",
                  "orientation": "v",
                  "showlegend": false,
                  "type": "scatter",
                  "x": [
                    0,
                    1,
                    2,
                    3,
                    4,
                    5,
                    6,
                    7,
                    8,
                    9,
                    10,
                    11,
                    12,
                    13,
                    14,
                    15,
                    16,
                    17,
                    18,
                    19,
                    20,
                    21,
                    22,
                    23,
                    24,
                    25
                  ],
                  "xaxis": "x",
                  "y": [
                    0.000025243991331080906,
                    -0.000008384286957152653,
                    0.019944828003644943,
                    -0.0036074332892894745,
                    0.014740940183401108,
                    -0.00423950282856822,
                    0.016501963138580322,
                    -0.01191328652203083,
                    0.00752612529322505,
                    -0.0006652709562331438,
                    0.013180302456021309,
                    0.00100046512670815,
                    0.030774347484111786,
                    -0.008634253405034542,
                    0.03812101110816002,
                    -0.0017933612689375877,
                    0.09960447251796722,
                    0.03666770085692406,
                    0.12977197766304016,
                    0.14198224246501923,
                    0.3258998394012451,
                    0.15726415812969208,
                    0.6888471841812134,
                    0.1829509288072586,
                    0.21684248745441437,
                    -0.008021222427487373
                  ],
                  "yaxis": "y"
                }
              ],
              "layout": {
                "legend": {
                  "tracegroupgap": 0
                },
                "template": {
                  "data": {
                    "bar": [
                      {
                        "error_x": {
                          "color": "#2a3f5f"
                        },
                        "error_y": {
                          "color": "#2a3f5f"
                        },
                        "marker": {
                          "line": {
                            "color": "#E5ECF6",
                            "width": 0.5
                          },
                          "pattern": {
                            "fillmode": "overlay",
                            "size": 10,
                            "solidity": 0.2
                          }
                        },
                        "type": "bar"
                      }
                    ],
                    "barpolar": [
                      {
                        "marker": {
                          "line": {
                            "color": "#E5ECF6",
                            "width": 0.5
                          },
                          "pattern": {
                            "fillmode": "overlay",
                            "size": 10,
                            "solidity": 0.2
                          }
                        },
                        "type": "barpolar"
                      }
                    ],
                    "carpet": [
                      {
                        "aaxis": {
                          "endlinecolor": "#2a3f5f",
                          "gridcolor": "white",
                          "linecolor": "white",
                          "minorgridcolor": "white",
                          "startlinecolor": "#2a3f5f"
                        },
                        "baxis": {
                          "endlinecolor": "#2a3f5f",
                          "gridcolor": "white",
                          "linecolor": "white",
                          "minorgridcolor": "white",
                          "startlinecolor": "#2a3f5f"
                        },
                        "type": "carpet"
                      }
                    ],
                    "choropleth": [
                      {
                        "colorbar": {
                          "outlinewidth": 0,
                          "ticks": ""
                        },
                        "type": "choropleth"
                      }
                    ],
                    "contour": [
                      {
                        "colorbar": {
                          "outlinewidth": 0,
                          "ticks": ""
                        },
                        "colorscale": [
                          [
                            0,
                            "#0d0887"
                          ],
                          [
                            0.1111111111111111,
                            "#46039f"
                          ],
                          [
                            0.2222222222222222,
                            "#7201a8"
                          ],
                          [
                            0.3333333333333333,
                            "#9c179e"
                          ],
                          [
                            0.4444444444444444,
                            "#bd3786"
                          ],
                          [
                            0.5555555555555556,
                            "#d8576b"
                          ],
                          [
                            0.6666666666666666,
                            "#ed7953"
                          ],
                          [
                            0.7777777777777778,
                            "#fb9f3a"
                          ],
                          [
                            0.8888888888888888,
                            "#fdca26"
                          ],
                          [
                            1,
                            "#f0f921"
                          ]
                        ],
                        "type": "contour"
                      }
                    ],
                    "contourcarpet": [
                      {
                        "colorbar": {
                          "outlinewidth": 0,
                          "ticks": ""
                        },
                        "type": "contourcarpet"
                      }
                    ],
                    "heatmap": [
                      {
                        "colorbar": {
                          "outlinewidth": 0,
                          "ticks": ""
                        },
                        "colorscale": [
                          [
                            0,
                            "#0d0887"
                          ],
                          [
                            0.1111111111111111,
                            "#46039f"
                          ],
                          [
                            0.2222222222222222,
                            "#7201a8"
                          ],
                          [
                            0.3333333333333333,
                            "#9c179e"
                          ],
                          [
                            0.4444444444444444,
                            "#bd3786"
                          ],
                          [
                            0.5555555555555556,
                            "#d8576b"
                          ],
                          [
                            0.6666666666666666,
                            "#ed7953"
                          ],
                          [
                            0.7777777777777778,
                            "#fb9f3a"
                          ],
                          [
                            0.8888888888888888,
                            "#fdca26"
                          ],
                          [
                            1,
                            "#f0f921"
                          ]
                        ],
                        "type": "heatmap"
                      }
                    ],
                    "heatmapgl": [
                      {
                        "colorbar": {
                          "outlinewidth": 0,
                          "ticks": ""
                        },
                        "colorscale": [
                          [
                            0,
                            "#0d0887"
                          ],
                          [
                            0.1111111111111111,
                            "#46039f"
                          ],
                          [
                            0.2222222222222222,
                            "#7201a8"
                          ],
                          [
                            0.3333333333333333,
                            "#9c179e"
                          ],
                          [
                            0.4444444444444444,
                            "#bd3786"
                          ],
                          [
                            0.5555555555555556,
                            "#d8576b"
                          ],
                          [
                            0.6666666666666666,
                            "#ed7953"
                          ],
                          [
                            0.7777777777777778,
                            "#fb9f3a"
                          ],
                          [
                            0.8888888888888888,
                            "#fdca26"
                          ],
                          [
                            1,
                            "#f0f921"
                          ]
                        ],
                        "type": "heatmapgl"
                      }
                    ],
                    "histogram": [
                      {
                        "marker": {
                          "pattern": {
                            "fillmode": "overlay",
                            "size": 10,
                            "solidity": 0.2
                          }
                        },
                        "type": "histogram"
                      }
                    ],
                    "histogram2d": [
                      {
                        "colorbar": {
                          "outlinewidth": 0,
                          "ticks": ""
                        },
                        "colorscale": [
                          [
                            0,
                            "#0d0887"
                          ],
                          [
                            0.1111111111111111,
                            "#46039f"
                          ],
                          [
                            0.2222222222222222,
                            "#7201a8"
                          ],
                          [
                            0.3333333333333333,
                            "#9c179e"
                          ],
                          [
                            0.4444444444444444,
                            "#bd3786"
                          ],
                          [
                            0.5555555555555556,
                            "#d8576b"
                          ],
                          [
                            0.6666666666666666,
                            "#ed7953"
                          ],
                          [
                            0.7777777777777778,
                            "#fb9f3a"
                          ],
                          [
                            0.8888888888888888,
                            "#fdca26"
                          ],
                          [
                            1,
                            "#f0f921"
                          ]
                        ],
                        "type": "histogram2d"
                      }
                    ],
                    "histogram2dcontour": [
                      {
                        "colorbar": {
                          "outlinewidth": 0,
                          "ticks": ""
                        },
                        "colorscale": [
                          [
                            0,
                            "#0d0887"
                          ],
                          [
                            0.1111111111111111,
                            "#46039f"
                          ],
                          [
                            0.2222222222222222,
                            "#7201a8"
                          ],
                          [
                            0.3333333333333333,
                            "#9c179e"
                          ],
                          [
                            0.4444444444444444,
                            "#bd3786"
                          ],
                          [
                            0.5555555555555556,
                            "#d8576b"
                          ],
                          [
                            0.6666666666666666,
                            "#ed7953"
                          ],
                          [
                            0.7777777777777778,
                            "#fb9f3a"
                          ],
                          [
                            0.8888888888888888,
                            "#fdca26"
                          ],
                          [
                            1,
                            "#f0f921"
                          ]
                        ],
                        "type": "histogram2dcontour"
                      }
                    ],
                    "mesh3d": [
                      {
                        "colorbar": {
                          "outlinewidth": 0,
                          "ticks": ""
                        },
                        "type": "mesh3d"
                      }
                    ],
                    "parcoords": [
                      {
                        "line": {
                          "colorbar": {
                            "outlinewidth": 0,
                            "ticks": ""
                          }
                        },
                        "type": "parcoords"
                      }
                    ],
                    "pie": [
                      {
                        "automargin": true,
                        "type": "pie"
                      }
                    ],
                    "scatter": [
                      {
                        "fillpattern": {
                          "fillmode": "overlay",
                          "size": 10,
                          "solidity": 0.2
                        },
                        "type": "scatter"
                      }
                    ],
                    "scatter3d": [
                      {
                        "line": {
                          "colorbar": {
                            "outlinewidth": 0,
                            "ticks": ""
                          }
                        },
                        "marker": {
                          "colorbar": {
                            "outlinewidth": 0,
                            "ticks": ""
                          }
                        },
                        "type": "scatter3d"
                      }
                    ],
                    "scattercarpet": [
                      {
                        "marker": {
                          "colorbar": {
                            "outlinewidth": 0,
                            "ticks": ""
                          }
                        },
                        "type": "scattercarpet"
                      }
                    ],
                    "scattergeo": [
                      {
                        "marker": {
                          "colorbar": {
                            "outlinewidth": 0,
                            "ticks": ""
                          }
                        },
                        "type": "scattergeo"
                      }
                    ],
                    "scattergl": [
                      {
                        "marker": {
                          "colorbar": {
                            "outlinewidth": 0,
                            "ticks": ""
                          }
                        },
                        "type": "scattergl"
                      }
                    ],
                    "scattermapbox": [
                      {
                        "marker": {
                          "colorbar": {
                            "outlinewidth": 0,
                            "ticks": ""
                          }
                        },
                        "type": "scattermapbox"
                      }
                    ],
                    "scatterpolar": [
                      {
                        "marker": {
                          "colorbar": {
                            "outlinewidth": 0,
                            "ticks": ""
                          }
                        },
                        "type": "scatterpolar"
                      }
                    ],
                    "scatterpolargl": [
                      {
                        "marker": {
                          "colorbar": {
                            "outlinewidth": 0,
                            "ticks": ""
                          }
                        },
                        "type": "scatterpolargl"
                      }
                    ],
                    "scatterternary": [
                      {
                        "marker": {
                          "colorbar": {
                            "outlinewidth": 0,
                            "ticks": ""
                          }
                        },
                        "type": "scatterternary"
                      }
                    ],
                    "surface": [
                      {
                        "colorbar": {
                          "outlinewidth": 0,
                          "ticks": ""
                        },
                        "colorscale": [
                          [
                            0,
                            "#0d0887"
                          ],
                          [
                            0.1111111111111111,
                            "#46039f"
                          ],
                          [
                            0.2222222222222222,
                            "#7201a8"
                          ],
                          [
                            0.3333333333333333,
                            "#9c179e"
                          ],
                          [
                            0.4444444444444444,
                            "#bd3786"
                          ],
                          [
                            0.5555555555555556,
                            "#d8576b"
                          ],
                          [
                            0.6666666666666666,
                            "#ed7953"
                          ],
                          [
                            0.7777777777777778,
                            "#fb9f3a"
                          ],
                          [
                            0.8888888888888888,
                            "#fdca26"
                          ],
                          [
                            1,
                            "#f0f921"
                          ]
                        ],
                        "type": "surface"
                      }
                    ],
                    "table": [
                      {
                        "cells": {
                          "fill": {
                            "color": "#EBF0F8"
                          },
                          "line": {
                            "color": "white"
                          }
                        },
                        "header": {
                          "fill": {
                            "color": "#C8D4E3"
                          },
                          "line": {
                            "color": "white"
                          }
                        },
                        "type": "table"
                      }
                    ]
                  },
                  "layout": {
                    "annotationdefaults": {
                      "arrowcolor": "#2a3f5f",
                      "arrowhead": 0,
                      "arrowwidth": 1
                    },
                    "autotypenumbers": "strict",
                    "coloraxis": {
                      "colorbar": {
                        "outlinewidth": 0,
                        "ticks": ""
                      }
                    },
                    "colorscale": {
                      "diverging": [
                        [
                          0,
                          "#8e0152"
                        ],
                        [
                          0.1,
                          "#c51b7d"
                        ],
                        [
                          0.2,
                          "#de77ae"
                        ],
                        [
                          0.3,
                          "#f1b6da"
                        ],
                        [
                          0.4,
                          "#fde0ef"
                        ],
                        [
                          0.5,
                          "#f7f7f7"
                        ],
                        [
                          0.6,
                          "#e6f5d0"
                        ],
                        [
                          0.7,
                          "#b8e186"
                        ],
                        [
                          0.8,
                          "#7fbc41"
                        ],
                        [
                          0.9,
                          "#4d9221"
                        ],
                        [
                          1,
                          "#276419"
                        ]
                      ],
                      "sequential": [
                        [
                          0,
                          "#0d0887"
                        ],
                        [
                          0.1111111111111111,
                          "#46039f"
                        ],
                        [
                          0.2222222222222222,
                          "#7201a8"
                        ],
                        [
                          0.3333333333333333,
                          "#9c179e"
                        ],
                        [
                          0.4444444444444444,
                          "#bd3786"
                        ],
                        [
                          0.5555555555555556,
                          "#d8576b"
                        ],
                        [
                          0.6666666666666666,
                          "#ed7953"
                        ],
                        [
                          0.7777777777777778,
                          "#fb9f3a"
                        ],
                        [
                          0.8888888888888888,
                          "#fdca26"
                        ],
                        [
                          1,
                          "#f0f921"
                        ]
                      ],
                      "sequentialminus": [
                        [
                          0,
                          "#0d0887"
                        ],
                        [
                          0.1111111111111111,
                          "#46039f"
                        ],
                        [
                          0.2222222222222222,
                          "#7201a8"
                        ],
                        [
                          0.3333333333333333,
                          "#9c179e"
                        ],
                        [
                          0.4444444444444444,
                          "#bd3786"
                        ],
                        [
                          0.5555555555555556,
                          "#d8576b"
                        ],
                        [
                          0.6666666666666666,
                          "#ed7953"
                        ],
                        [
                          0.7777777777777778,
                          "#fb9f3a"
                        ],
                        [
                          0.8888888888888888,
                          "#fdca26"
                        ],
                        [
                          1,
                          "#f0f921"
                        ]
                      ]
                    },
                    "colorway": [
                      "#636efa",
                      "#EF553B",
                      "#00cc96",
                      "#ab63fa",
                      "#FFA15A",
                      "#19d3f3",
                      "#FF6692",
                      "#B6E880",
                      "#FF97FF",
                      "#FECB52"
                    ],
                    "font": {
                      "color": "#2a3f5f"
                    },
                    "geo": {
                      "bgcolor": "white",
                      "lakecolor": "white",
                      "landcolor": "#E5ECF6",
                      "showlakes": true,
                      "showland": true,
                      "subunitcolor": "white"
                    },
                    "hoverlabel": {
                      "align": "left"
                    },
                    "hovermode": "closest",
                    "mapbox": {
                      "style": "light"
                    },
                    "paper_bgcolor": "white",
                    "plot_bgcolor": "#E5ECF6",
                    "polar": {
                      "angularaxis": {
                        "gridcolor": "white",
                        "linecolor": "white",
                        "ticks": ""
                      },
                      "bgcolor": "#E5ECF6",
                      "radialaxis": {
                        "gridcolor": "white",
                        "linecolor": "white",
                        "ticks": ""
                      }
                    },
                    "scene": {
                      "xaxis": {
                        "backgroundcolor": "#E5ECF6",
                        "gridcolor": "white",
                        "gridwidth": 2,
                        "linecolor": "white",
                        "showbackground": true,
                        "ticks": "",
                        "zerolinecolor": "white"
                      },
                      "yaxis": {
                        "backgroundcolor": "#E5ECF6",
                        "gridcolor": "white",
                        "gridwidth": 2,
                        "linecolor": "white",
                        "showbackground": true,
                        "ticks": "",
                        "zerolinecolor": "white"
                      },
                      "zaxis": {
                        "backgroundcolor": "#E5ECF6",
                        "gridcolor": "white",
                        "gridwidth": 2,
                        "linecolor": "white",
                        "showbackground": true,
                        "ticks": "",
                        "zerolinecolor": "white"
                      }
                    },
                    "shapedefaults": {
                      "line": {
                        "color": "#2a3f5f"
                      }
                    },
                    "ternary": {
                      "aaxis": {
                        "gridcolor": "white",
                        "linecolor": "white",
                        "ticks": ""
                      },
                      "baxis": {
                        "gridcolor": "white",
                        "linecolor": "white",
                        "ticks": ""
                      },
                      "bgcolor": "#E5ECF6",
                      "caxis": {
                        "gridcolor": "white",
                        "linecolor": "white",
                        "ticks": ""
                      }
                    },
                    "title": {
                      "x": 0.05
                    },
                    "xaxis": {
                      "automargin": true,
                      "gridcolor": "white",
                      "linecolor": "white",
                      "ticks": "",
                      "title": {
                        "standoff": 15
                      },
                      "zerolinecolor": "white",
                      "zerolinewidth": 2
                    },
                    "yaxis": {
                      "automargin": true,
                      "gridcolor": "white",
                      "linecolor": "white",
                      "ticks": "",
                      "title": {
                        "standoff": 15
                      },
                      "zerolinecolor": "white",
                      "zerolinewidth": 2
                    }
                  }
                },
                "title": {
                  "text": "Logit Difference From Each Layer"
                },
                "xaxis": {
                  "anchor": "y",
                  "domain": [
                    0,
                    1
                  ],
                  "title": {
                    "text": "x"
                  }
                },
                "yaxis": {
                  "anchor": "x",
                  "domain": [
                    0,
                    1
                  ],
                  "title": {
                    "text": "y"
                  }
                }
              }
            }
          },
          "metadata": {},
          "output_type": "display_data"
        }
      ],
      "source": [
        "per_layer_residual, labels = clean_cache.decompose_resid(layer=-1, pos_slice=-1, return_labels=True)\n",
        "per_layer_logit_diffs = residual_stack_to_logit_diff(per_layer_residual, clean_cache)\n",
        "\n",
        "line(per_layer_logit_diffs, hover_name=labels, title=\"Logit Difference From Each Layer\")"
      ]
    },
    {
      "attachments": {},
      "cell_type": "markdown",
      "metadata": {},
      "source": [
        "#### Head Attribution"
      ]
    },
    {
      "cell_type": "code",
      "execution_count": 20,
      "metadata": {},
      "outputs": [
        {
          "name": "stdout",
          "output_type": "stream",
          "text": [
            "Tried to stack head results when they weren't cached. Computing head results now\n"
          ]
        },
        {
          "data": {
            "application/vnd.plotly.v1+json": {
              "config": {
                "plotlyServerURL": "https://plot.ly"
              },
              "data": [
                {
                  "coloraxis": "coloraxis",
                  "hovertemplate": "Head: %{x}<br>Layer: %{y}<br>color: %{z}<extra></extra>",
                  "name": "0",
                  "type": "heatmap",
                  "xaxis": "x",
                  "yaxis": "y",
                  "z": [
                    [
                      0.002566605806350708,
                      0.0008639392326585948,
                      0.004113761708140373,
                      -0.0005465852445922792,
                      0.0016463140491396189,
                      -0.000029493718102457933,
                      0.008906809613108635,
                      0.000740882009267807,
                      0.0008033185731619596,
                      -0.0005048953462392092,
                      0.00046516332076862454,
                      0.0000032651423680363223
                    ],
                    [
                      0.0011121355928480625,
                      0.0013879785547032952,
                      -0.000787202559877187,
                      -0.0012805219739675522,
                      0.001260902383364737,
                      0.003434364916756749,
                      0.006509116850793362,
                      0.014317859895527363,
                      -0.0015797957312315702,
                      -0.0027960112784057856,
                      -0.00022465549409389496,
                      -0.007067190948873758
                    ],
                    [
                      0.0013113964814692736,
                      0.017665386199951172,
                      0.0010552570456638932,
                      -0.00004905722744297236,
                      -0.00031652688630856574,
                      -0.000014740600818186067,
                      -0.00034334033261984587,
                      0.00007796313730068505,
                      -0.001566227525472641,
                      -0.0003623312513809651,
                      0.0008629125077277422,
                      -0.0009738237713463604
                    ],
                    [
                      0.0004557549546007067,
                      -0.001037681009620428,
                      0.00003547977757989429,
                      -0.000049316284275846556,
                      -0.000016176365534192882,
                      0.010442033410072327,
                      0.0007704408490099013,
                      0.0005034948117099702,
                      0.0006261162343434989,
                      -0.0003581724886316806,
                      -0.005080782808363438,
                      0.001372096361592412
                    ],
                    [
                      0.000025955008823075332,
                      0.001082373782992363,
                      0.0072575281374156475,
                      -0.00030393913039006293,
                      -0.002938471268862486,
                      -0.0001882160286186263,
                      -0.000292223587166518,
                      -0.003371091326698661,
                      0.005998791195452213,
                      0.0029705585911870003,
                      0.00025897330488078296,
                      0.0018576054135337472
                    ],
                    [
                      0.0017085066065192223,
                      0.0036198615562170744,
                      0.000701013021171093,
                      0.0033503163140267134,
                      0.0005788279231637716,
                      0.013745104894042015,
                      0.00004419203833094798,
                      0.002896388992667198,
                      -0.0008548274636268616,
                      0.0009550077957101166,
                      0.015509656630456448,
                      -0.01209713239222765
                    ],
                    [
                      0.0025908893439918756,
                      0.0004494994645938277,
                      0.00027269803103990853,
                      0.004932986572384834,
                      0.034593772143125534,
                      -0.00905732810497284,
                      -0.023944523185491562,
                      0.017996395006775856,
                      0.00018664071103557944,
                      0.006856705527752638,
                      0.005540586542338133,
                      -0.0027565723285079002
                    ],
                    [
                      0.00035701590240933,
                      0.06371551007032394,
                      0.0029821593780070543,
                      -0.0026296996511518955,
                      -0.0008226497448049486,
                      0.03805732727050781,
                      -0.03574620187282562,
                      0.001417013118043542,
                      0.002611141186207533,
                      0.016031473875045776,
                      0.011361140757799149,
                      0.0011518447427079082
                    ],
                    [
                      -0.002038208767771721,
                      0.000746395206078887,
                      0.044510405510663986,
                      0.01666979305446148,
                      0.01231772918254137,
                      0.0721982941031456,
                      0.002481222152709961,
                      0.005248711444437504,
                      0.020896246656775475,
                      0.02363322675228119,
                      -0.08029314130544662,
                      0.012689135037362576
                    ],
                    [
                      0.0038939672522246838,
                      0.017119403928518295,
                      0.21911881864070892,
                      0.05903343856334686,
                      0.00048192712711170316,
                      -0.04555477201938629,
                      0.03565235808491707,
                      -0.04379058629274368,
                      0.002182006137445569,
                      0.038164880126714706,
                      0.03926023468375206,
                      0.0005046072765253484
                    ],
                    [
                      0.06913863867521286,
                      0.13632692396640778,
                      -0.006238902453333139,
                      -0.005833973176777363,
                      0.5460651516914368,
                      0.011653212830424309,
                      0.0008471523178741336,
                      -0.13445813953876495,
                      -0.0010970220901072025,
                      0.014272378757596016,
                      0.007756057661026716,
                      0.050240084528923035
                    ],
                    [
                      -0.009251225739717484,
                      0.004315149504691362,
                      0.0022335550747811794,
                      0.026351938024163246,
                      0.005066738463938236,
                      0.003811387112364173,
                      -0.000734469504095614,
                      0.01232019905000925,
                      0.03529582545161247,
                      0.08351997286081314,
                      -0.000058502551837591454,
                      0.05274948850274086
                    ]
                  ]
                }
              ],
              "layout": {
                "coloraxis": {
                  "cmid": 0,
                  "colorscale": [
                    [
                      0,
                      "rgb(103,0,31)"
                    ],
                    [
                      0.1,
                      "rgb(178,24,43)"
                    ],
                    [
                      0.2,
                      "rgb(214,96,77)"
                    ],
                    [
                      0.3,
                      "rgb(244,165,130)"
                    ],
                    [
                      0.4,
                      "rgb(253,219,199)"
                    ],
                    [
                      0.5,
                      "rgb(247,247,247)"
                    ],
                    [
                      0.6,
                      "rgb(209,229,240)"
                    ],
                    [
                      0.7,
                      "rgb(146,197,222)"
                    ],
                    [
                      0.8,
                      "rgb(67,147,195)"
                    ],
                    [
                      0.9,
                      "rgb(33,102,172)"
                    ],
                    [
                      1,
                      "rgb(5,48,97)"
                    ]
                  ]
                },
                "template": {
                  "data": {
                    "bar": [
                      {
                        "error_x": {
                          "color": "#2a3f5f"
                        },
                        "error_y": {
                          "color": "#2a3f5f"
                        },
                        "marker": {
                          "line": {
                            "color": "#E5ECF6",
                            "width": 0.5
                          },
                          "pattern": {
                            "fillmode": "overlay",
                            "size": 10,
                            "solidity": 0.2
                          }
                        },
                        "type": "bar"
                      }
                    ],
                    "barpolar": [
                      {
                        "marker": {
                          "line": {
                            "color": "#E5ECF6",
                            "width": 0.5
                          },
                          "pattern": {
                            "fillmode": "overlay",
                            "size": 10,
                            "solidity": 0.2
                          }
                        },
                        "type": "barpolar"
                      }
                    ],
                    "carpet": [
                      {
                        "aaxis": {
                          "endlinecolor": "#2a3f5f",
                          "gridcolor": "white",
                          "linecolor": "white",
                          "minorgridcolor": "white",
                          "startlinecolor": "#2a3f5f"
                        },
                        "baxis": {
                          "endlinecolor": "#2a3f5f",
                          "gridcolor": "white",
                          "linecolor": "white",
                          "minorgridcolor": "white",
                          "startlinecolor": "#2a3f5f"
                        },
                        "type": "carpet"
                      }
                    ],
                    "choropleth": [
                      {
                        "colorbar": {
                          "outlinewidth": 0,
                          "ticks": ""
                        },
                        "type": "choropleth"
                      }
                    ],
                    "contour": [
                      {
                        "colorbar": {
                          "outlinewidth": 0,
                          "ticks": ""
                        },
                        "colorscale": [
                          [
                            0,
                            "#0d0887"
                          ],
                          [
                            0.1111111111111111,
                            "#46039f"
                          ],
                          [
                            0.2222222222222222,
                            "#7201a8"
                          ],
                          [
                            0.3333333333333333,
                            "#9c179e"
                          ],
                          [
                            0.4444444444444444,
                            "#bd3786"
                          ],
                          [
                            0.5555555555555556,
                            "#d8576b"
                          ],
                          [
                            0.6666666666666666,
                            "#ed7953"
                          ],
                          [
                            0.7777777777777778,
                            "#fb9f3a"
                          ],
                          [
                            0.8888888888888888,
                            "#fdca26"
                          ],
                          [
                            1,
                            "#f0f921"
                          ]
                        ],
                        "type": "contour"
                      }
                    ],
                    "contourcarpet": [
                      {
                        "colorbar": {
                          "outlinewidth": 0,
                          "ticks": ""
                        },
                        "type": "contourcarpet"
                      }
                    ],
                    "heatmap": [
                      {
                        "colorbar": {
                          "outlinewidth": 0,
                          "ticks": ""
                        },
                        "colorscale": [
                          [
                            0,
                            "#0d0887"
                          ],
                          [
                            0.1111111111111111,
                            "#46039f"
                          ],
                          [
                            0.2222222222222222,
                            "#7201a8"
                          ],
                          [
                            0.3333333333333333,
                            "#9c179e"
                          ],
                          [
                            0.4444444444444444,
                            "#bd3786"
                          ],
                          [
                            0.5555555555555556,
                            "#d8576b"
                          ],
                          [
                            0.6666666666666666,
                            "#ed7953"
                          ],
                          [
                            0.7777777777777778,
                            "#fb9f3a"
                          ],
                          [
                            0.8888888888888888,
                            "#fdca26"
                          ],
                          [
                            1,
                            "#f0f921"
                          ]
                        ],
                        "type": "heatmap"
                      }
                    ],
                    "heatmapgl": [
                      {
                        "colorbar": {
                          "outlinewidth": 0,
                          "ticks": ""
                        },
                        "colorscale": [
                          [
                            0,
                            "#0d0887"
                          ],
                          [
                            0.1111111111111111,
                            "#46039f"
                          ],
                          [
                            0.2222222222222222,
                            "#7201a8"
                          ],
                          [
                            0.3333333333333333,
                            "#9c179e"
                          ],
                          [
                            0.4444444444444444,
                            "#bd3786"
                          ],
                          [
                            0.5555555555555556,
                            "#d8576b"
                          ],
                          [
                            0.6666666666666666,
                            "#ed7953"
                          ],
                          [
                            0.7777777777777778,
                            "#fb9f3a"
                          ],
                          [
                            0.8888888888888888,
                            "#fdca26"
                          ],
                          [
                            1,
                            "#f0f921"
                          ]
                        ],
                        "type": "heatmapgl"
                      }
                    ],
                    "histogram": [
                      {
                        "marker": {
                          "pattern": {
                            "fillmode": "overlay",
                            "size": 10,
                            "solidity": 0.2
                          }
                        },
                        "type": "histogram"
                      }
                    ],
                    "histogram2d": [
                      {
                        "colorbar": {
                          "outlinewidth": 0,
                          "ticks": ""
                        },
                        "colorscale": [
                          [
                            0,
                            "#0d0887"
                          ],
                          [
                            0.1111111111111111,
                            "#46039f"
                          ],
                          [
                            0.2222222222222222,
                            "#7201a8"
                          ],
                          [
                            0.3333333333333333,
                            "#9c179e"
                          ],
                          [
                            0.4444444444444444,
                            "#bd3786"
                          ],
                          [
                            0.5555555555555556,
                            "#d8576b"
                          ],
                          [
                            0.6666666666666666,
                            "#ed7953"
                          ],
                          [
                            0.7777777777777778,
                            "#fb9f3a"
                          ],
                          [
                            0.8888888888888888,
                            "#fdca26"
                          ],
                          [
                            1,
                            "#f0f921"
                          ]
                        ],
                        "type": "histogram2d"
                      }
                    ],
                    "histogram2dcontour": [
                      {
                        "colorbar": {
                          "outlinewidth": 0,
                          "ticks": ""
                        },
                        "colorscale": [
                          [
                            0,
                            "#0d0887"
                          ],
                          [
                            0.1111111111111111,
                            "#46039f"
                          ],
                          [
                            0.2222222222222222,
                            "#7201a8"
                          ],
                          [
                            0.3333333333333333,
                            "#9c179e"
                          ],
                          [
                            0.4444444444444444,
                            "#bd3786"
                          ],
                          [
                            0.5555555555555556,
                            "#d8576b"
                          ],
                          [
                            0.6666666666666666,
                            "#ed7953"
                          ],
                          [
                            0.7777777777777778,
                            "#fb9f3a"
                          ],
                          [
                            0.8888888888888888,
                            "#fdca26"
                          ],
                          [
                            1,
                            "#f0f921"
                          ]
                        ],
                        "type": "histogram2dcontour"
                      }
                    ],
                    "mesh3d": [
                      {
                        "colorbar": {
                          "outlinewidth": 0,
                          "ticks": ""
                        },
                        "type": "mesh3d"
                      }
                    ],
                    "parcoords": [
                      {
                        "line": {
                          "colorbar": {
                            "outlinewidth": 0,
                            "ticks": ""
                          }
                        },
                        "type": "parcoords"
                      }
                    ],
                    "pie": [
                      {
                        "automargin": true,
                        "type": "pie"
                      }
                    ],
                    "scatter": [
                      {
                        "fillpattern": {
                          "fillmode": "overlay",
                          "size": 10,
                          "solidity": 0.2
                        },
                        "type": "scatter"
                      }
                    ],
                    "scatter3d": [
                      {
                        "line": {
                          "colorbar": {
                            "outlinewidth": 0,
                            "ticks": ""
                          }
                        },
                        "marker": {
                          "colorbar": {
                            "outlinewidth": 0,
                            "ticks": ""
                          }
                        },
                        "type": "scatter3d"
                      }
                    ],
                    "scattercarpet": [
                      {
                        "marker": {
                          "colorbar": {
                            "outlinewidth": 0,
                            "ticks": ""
                          }
                        },
                        "type": "scattercarpet"
                      }
                    ],
                    "scattergeo": [
                      {
                        "marker": {
                          "colorbar": {
                            "outlinewidth": 0,
                            "ticks": ""
                          }
                        },
                        "type": "scattergeo"
                      }
                    ],
                    "scattergl": [
                      {
                        "marker": {
                          "colorbar": {
                            "outlinewidth": 0,
                            "ticks": ""
                          }
                        },
                        "type": "scattergl"
                      }
                    ],
                    "scattermapbox": [
                      {
                        "marker": {
                          "colorbar": {
                            "outlinewidth": 0,
                            "ticks": ""
                          }
                        },
                        "type": "scattermapbox"
                      }
                    ],
                    "scatterpolar": [
                      {
                        "marker": {
                          "colorbar": {
                            "outlinewidth": 0,
                            "ticks": ""
                          }
                        },
                        "type": "scatterpolar"
                      }
                    ],
                    "scatterpolargl": [
                      {
                        "marker": {
                          "colorbar": {
                            "outlinewidth": 0,
                            "ticks": ""
                          }
                        },
                        "type": "scatterpolargl"
                      }
                    ],
                    "scatterternary": [
                      {
                        "marker": {
                          "colorbar": {
                            "outlinewidth": 0,
                            "ticks": ""
                          }
                        },
                        "type": "scatterternary"
                      }
                    ],
                    "surface": [
                      {
                        "colorbar": {
                          "outlinewidth": 0,
                          "ticks": ""
                        },
                        "colorscale": [
                          [
                            0,
                            "#0d0887"
                          ],
                          [
                            0.1111111111111111,
                            "#46039f"
                          ],
                          [
                            0.2222222222222222,
                            "#7201a8"
                          ],
                          [
                            0.3333333333333333,
                            "#9c179e"
                          ],
                          [
                            0.4444444444444444,
                            "#bd3786"
                          ],
                          [
                            0.5555555555555556,
                            "#d8576b"
                          ],
                          [
                            0.6666666666666666,
                            "#ed7953"
                          ],
                          [
                            0.7777777777777778,
                            "#fb9f3a"
                          ],
                          [
                            0.8888888888888888,
                            "#fdca26"
                          ],
                          [
                            1,
                            "#f0f921"
                          ]
                        ],
                        "type": "surface"
                      }
                    ],
                    "table": [
                      {
                        "cells": {
                          "fill": {
                            "color": "#EBF0F8"
                          },
                          "line": {
                            "color": "white"
                          }
                        },
                        "header": {
                          "fill": {
                            "color": "#C8D4E3"
                          },
                          "line": {
                            "color": "white"
                          }
                        },
                        "type": "table"
                      }
                    ]
                  },
                  "layout": {
                    "annotationdefaults": {
                      "arrowcolor": "#2a3f5f",
                      "arrowhead": 0,
                      "arrowwidth": 1
                    },
                    "autotypenumbers": "strict",
                    "coloraxis": {
                      "colorbar": {
                        "outlinewidth": 0,
                        "ticks": ""
                      }
                    },
                    "colorscale": {
                      "diverging": [
                        [
                          0,
                          "#8e0152"
                        ],
                        [
                          0.1,
                          "#c51b7d"
                        ],
                        [
                          0.2,
                          "#de77ae"
                        ],
                        [
                          0.3,
                          "#f1b6da"
                        ],
                        [
                          0.4,
                          "#fde0ef"
                        ],
                        [
                          0.5,
                          "#f7f7f7"
                        ],
                        [
                          0.6,
                          "#e6f5d0"
                        ],
                        [
                          0.7,
                          "#b8e186"
                        ],
                        [
                          0.8,
                          "#7fbc41"
                        ],
                        [
                          0.9,
                          "#4d9221"
                        ],
                        [
                          1,
                          "#276419"
                        ]
                      ],
                      "sequential": [
                        [
                          0,
                          "#0d0887"
                        ],
                        [
                          0.1111111111111111,
                          "#46039f"
                        ],
                        [
                          0.2222222222222222,
                          "#7201a8"
                        ],
                        [
                          0.3333333333333333,
                          "#9c179e"
                        ],
                        [
                          0.4444444444444444,
                          "#bd3786"
                        ],
                        [
                          0.5555555555555556,
                          "#d8576b"
                        ],
                        [
                          0.6666666666666666,
                          "#ed7953"
                        ],
                        [
                          0.7777777777777778,
                          "#fb9f3a"
                        ],
                        [
                          0.8888888888888888,
                          "#fdca26"
                        ],
                        [
                          1,
                          "#f0f921"
                        ]
                      ],
                      "sequentialminus": [
                        [
                          0,
                          "#0d0887"
                        ],
                        [
                          0.1111111111111111,
                          "#46039f"
                        ],
                        [
                          0.2222222222222222,
                          "#7201a8"
                        ],
                        [
                          0.3333333333333333,
                          "#9c179e"
                        ],
                        [
                          0.4444444444444444,
                          "#bd3786"
                        ],
                        [
                          0.5555555555555556,
                          "#d8576b"
                        ],
                        [
                          0.6666666666666666,
                          "#ed7953"
                        ],
                        [
                          0.7777777777777778,
                          "#fb9f3a"
                        ],
                        [
                          0.8888888888888888,
                          "#fdca26"
                        ],
                        [
                          1,
                          "#f0f921"
                        ]
                      ]
                    },
                    "colorway": [
                      "#636efa",
                      "#EF553B",
                      "#00cc96",
                      "#ab63fa",
                      "#FFA15A",
                      "#19d3f3",
                      "#FF6692",
                      "#B6E880",
                      "#FF97FF",
                      "#FECB52"
                    ],
                    "font": {
                      "color": "#2a3f5f"
                    },
                    "geo": {
                      "bgcolor": "white",
                      "lakecolor": "white",
                      "landcolor": "#E5ECF6",
                      "showlakes": true,
                      "showland": true,
                      "subunitcolor": "white"
                    },
                    "hoverlabel": {
                      "align": "left"
                    },
                    "hovermode": "closest",
                    "mapbox": {
                      "style": "light"
                    },
                    "paper_bgcolor": "white",
                    "plot_bgcolor": "#E5ECF6",
                    "polar": {
                      "angularaxis": {
                        "gridcolor": "white",
                        "linecolor": "white",
                        "ticks": ""
                      },
                      "bgcolor": "#E5ECF6",
                      "radialaxis": {
                        "gridcolor": "white",
                        "linecolor": "white",
                        "ticks": ""
                      }
                    },
                    "scene": {
                      "xaxis": {
                        "backgroundcolor": "#E5ECF6",
                        "gridcolor": "white",
                        "gridwidth": 2,
                        "linecolor": "white",
                        "showbackground": true,
                        "ticks": "",
                        "zerolinecolor": "white"
                      },
                      "yaxis": {
                        "backgroundcolor": "#E5ECF6",
                        "gridcolor": "white",
                        "gridwidth": 2,
                        "linecolor": "white",
                        "showbackground": true,
                        "ticks": "",
                        "zerolinecolor": "white"
                      },
                      "zaxis": {
                        "backgroundcolor": "#E5ECF6",
                        "gridcolor": "white",
                        "gridwidth": 2,
                        "linecolor": "white",
                        "showbackground": true,
                        "ticks": "",
                        "zerolinecolor": "white"
                      }
                    },
                    "shapedefaults": {
                      "line": {
                        "color": "#2a3f5f"
                      }
                    },
                    "ternary": {
                      "aaxis": {
                        "gridcolor": "white",
                        "linecolor": "white",
                        "ticks": ""
                      },
                      "baxis": {
                        "gridcolor": "white",
                        "linecolor": "white",
                        "ticks": ""
                      },
                      "bgcolor": "#E5ECF6",
                      "caxis": {
                        "gridcolor": "white",
                        "linecolor": "white",
                        "ticks": ""
                      }
                    },
                    "title": {
                      "x": 0.05
                    },
                    "xaxis": {
                      "automargin": true,
                      "gridcolor": "white",
                      "linecolor": "white",
                      "ticks": "",
                      "title": {
                        "standoff": 15
                      },
                      "zerolinecolor": "white",
                      "zerolinewidth": 2
                    },
                    "yaxis": {
                      "automargin": true,
                      "gridcolor": "white",
                      "linecolor": "white",
                      "ticks": "",
                      "title": {
                        "standoff": 15
                      },
                      "zerolinecolor": "white",
                      "zerolinewidth": 2
                    }
                  }
                },
                "title": {
                  "text": "Logit Difference From Each Head"
                },
                "xaxis": {
                  "anchor": "y",
                  "constrain": "domain",
                  "domain": [
                    0,
                    1
                  ],
                  "scaleanchor": "y",
                  "title": {
                    "text": "Head"
                  }
                },
                "yaxis": {
                  "anchor": "x",
                  "autorange": "reversed",
                  "constrain": "domain",
                  "domain": [
                    0,
                    1
                  ],
                  "title": {
                    "text": "Layer"
                  }
                }
              }
            }
          },
          "metadata": {},
          "output_type": "display_data"
        }
      ],
      "source": [
        "def imshow(tensor, renderer=None, **kwargs):\n",
        "    px.imshow(utils.to_numpy(tensor), color_continuous_midpoint=0.0, color_continuous_scale=\"RdBu\", **kwargs).show(renderer)\n",
        "\n",
        "per_head_residual, labels = clean_cache.stack_head_results(layer=-1, pos_slice=-1, return_labels=True)\n",
        "per_head_logit_diffs = residual_stack_to_logit_diff(per_head_residual, clean_cache)\n",
        "per_head_logit_diffs = einops.rearrange(per_head_logit_diffs, \"(layer head_index) -> layer head_index\", layer=model.cfg.n_layers, head_index=model.cfg.n_heads)\n",
        "imshow(per_head_logit_diffs, labels={\"x\":\"Head\", \"y\":\"Layer\"}, title=\"Logit Difference From Each Head\")"
      ]
    },
    {
      "attachments": {},
      "cell_type": "markdown",
      "metadata": {},
      "source": [
        "### Activation Patching"
      ]
    },
    {
      "attachments": {},
      "cell_type": "markdown",
      "metadata": {},
      "source": [
        "#### Attention Heads"
      ]
    },
    {
      "cell_type": "code",
      "execution_count": 36,
      "metadata": {},
      "outputs": [
        {
          "data": {
            "application/vnd.jupyter.widget-view+json": {
              "model_id": "3a486284dfcf49e6834bf37f88f20d90",
              "version_major": 2,
              "version_minor": 0
            },
            "text/plain": [
              "  0%|          | 0/144 [00:00<?, ?it/s]"
            ]
          },
          "metadata": {},
          "output_type": "display_data"
        },
        {
          "name": "stdout",
          "output_type": "stream",
          "text": [
            "results['z'].shape = (layer=12, head=12)\n"
          ]
        }
      ],
      "source": [
        "results = act_patch(\n",
        "    model=model,\n",
        "    orig_input=corrupted_tokens,\n",
        "    new_cache=clean_cache,\n",
        "    patching_nodes=IterNode(\"z\"), # iterating over all heads' output in all layers\n",
        "    patching_metric=logit_diff_denoising,\n",
        "    verbose=True,\n",
        ")"
      ]
    },
    {
      "cell_type": "code",
      "execution_count": 38,
      "metadata": {},
      "outputs": [
        {
          "data": {
            "application/vnd.plotly.v1+json": {
              "config": {
                "plotlyServerURL": "https://plot.ly"
              },
              "data": [
                {
                  "coloraxis": "coloraxis",
                  "hovertemplate": "Head: %{x}<br>Layer: %{y}<br>Logit diff variation: %{z}<extra></extra>",
                  "name": "0",
                  "type": "heatmap",
                  "xaxis": "x",
                  "yaxis": "y",
                  "z": [
                    [
                      0.3915122151374817,
                      0.8645501732826233,
                      0.16390278935432434,
                      1.43736732006073,
                      2.9295601844787598,
                      0.6605472564697266,
                      1.5011996030807495,
                      0.3490411341190338,
                      0.19033724069595337,
                      0.28496885299682617,
                      0.27893581986427307,
                      0.2225133627653122
                    ],
                    [
                      0.20182055234909058,
                      0.16789624094963074,
                      0.15087123215198517,
                      0.2008378952741623,
                      0.09688826650381088,
                      -0.45367059111595154,
                      0.6699281930923462,
                      0.683319628238678,
                      -0.029159601777791977,
                      0.09306049346923828,
                      0.16089770197868347,
                      0.7523680329322815
                    ],
                    [
                      0.3818342387676239,
                      2.8130760192871094,
                      0.2010607123374939,
                      0.2533697485923767,
                      0.22167353332042694,
                      0.23878994584083557,
                      0.18968024849891663,
                      0.010426386259496212,
                      0.25892287492752075,
                      0.1204090416431427,
                      -0.015305363573133945,
                      -0.013734263367950916
                    ],
                    [
                      0.31743061542510986,
                      -0.08089161664247513,
                      0.21492639183998108,
                      0.24511434137821198,
                      0.14979146420955658,
                      0.9297308325767517,
                      0.3134714365005493,
                      0.04303669184446335,
                      0.388867050409317,
                      0.42313989996910095,
                      -0.07918912172317505,
                      2.311521291732788
                    ],
                    [
                      0.09427738189697266,
                      0.3795433044433594,
                      0.689175546169281,
                      0.04337376728653908,
                      -0.2688407897949219,
                      0.1564243584871292,
                      0.21893125772476196,
                      0.725145161151886,
                      0.7085543870925903,
                      1.042627215385437,
                      0.6341299414634705,
                      0.17666010558605194
                    ],
                    [
                      0.09660261124372482,
                      0.4223400354385376,
                      0.2655443549156189,
                      0.5643731355667114,
                      0.6467044353485107,
                      1.7169945240020752,
                      0.1565214842557907,
                      1.6000818014144897,
                      -0.5957894325256348,
                      0.3759726285934448,
                      1.990788459777832,
                      -4.019248962402344
                    ],
                    [
                      0.6473957300186157,
                      0.15041418373584747,
                      0.09226638078689575,
                      0.01115766167640686,
                      8.889516830444336,
                      -1.7533924579620361,
                      -2.28019642829895,
                      4.730034351348877,
                      0.46914735436439514,
                      0.6760125756263733,
                      1.5141969919204712,
                      0.14921444654464722
                    ],
                    [
                      0.29894304275512695,
                      16.6696720123291,
                      0.3749099671840668,
                      -1.9006073474884033,
                      0.31040921807289124,
                      12.741914749145508,
                      -8.899637222290039,
                      0.21867987513542175,
                      1.0641140937805176,
                      2.730116367340088,
                      0.5271809101104736,
                      0.17707717418670654
                    ],
                    [
                      0.0458589568734169,
                      0.20919615030288696,
                      4.091119766235352,
                      1.0633257627487183,
                      1.9059605598449707,
                      9.212640762329102,
                      0.5709774494171143,
                      0.6442992687225342,
                      0.918727457523346,
                      2.0896763801574707,
                      -7.03264045715332,
                      1.4388984441757202
                    ],
                    [
                      0.013762828893959522,
                      1.2145168781280518,
                      14.300497055053711,
                      4.419439315795898,
                      0.2738054692745209,
                      -2.529304027557373,
                      2.4689996242523193,
                      -3.554534912109375,
                      0.32432058453559875,
                      1.5461788177490234,
                      3.390460729598999,
                      0.18575534224510193
                    ],
                    [
                      4.596693992614746,
                      7.696035385131836,
                      -0.0017653442919254303,
                      -0.1700957715511322,
                      29.737201690673828,
                      0.9993619322776794,
                      0.019293099641799927,
                      -6.971395969390869,
                      0.14472395181655884,
                      1.2122944593429565,
                      0.8368359804153442,
                      2.6858770847320557
                    ],
                    [
                      -0.24093236029148102,
                      0.3358210325241089,
                      0.32433202862739563,
                      1.477593183517456,
                      0.327457070350647,
                      0.5033745169639587,
                      0.15232235193252563,
                      0.6990591883659363,
                      1.8782119750976562,
                      4.0609002113342285,
                      0.1345260888338089,
                      2.9073078632354736
                    ]
                  ]
                }
              ],
              "layout": {
                "coloraxis": {
                  "cmid": 0,
                  "colorbar": {
                    "ticksuffix": "%",
                    "title": {
                      "text": "Logit diff variation"
                    }
                  },
                  "colorscale": [
                    [
                      0,
                      "rgb(103,0,31)"
                    ],
                    [
                      0.1,
                      "rgb(178,24,43)"
                    ],
                    [
                      0.2,
                      "rgb(214,96,77)"
                    ],
                    [
                      0.3,
                      "rgb(244,165,130)"
                    ],
                    [
                      0.4,
                      "rgb(253,219,199)"
                    ],
                    [
                      0.5,
                      "rgb(247,247,247)"
                    ],
                    [
                      0.6,
                      "rgb(209,229,240)"
                    ],
                    [
                      0.7,
                      "rgb(146,197,222)"
                    ],
                    [
                      0.8,
                      "rgb(67,147,195)"
                    ],
                    [
                      0.9,
                      "rgb(33,102,172)"
                    ],
                    [
                      1,
                      "rgb(5,48,97)"
                    ]
                  ]
                },
                "margin": {
                  "l": 100,
                  "r": 100
                },
                "template": {
                  "data": {
                    "bar": [
                      {
                        "error_x": {
                          "color": "#2a3f5f"
                        },
                        "error_y": {
                          "color": "#2a3f5f"
                        },
                        "marker": {
                          "line": {
                            "color": "#E5ECF6",
                            "width": 0.5
                          },
                          "pattern": {
                            "fillmode": "overlay",
                            "size": 10,
                            "solidity": 0.2
                          }
                        },
                        "type": "bar"
                      }
                    ],
                    "barpolar": [
                      {
                        "marker": {
                          "line": {
                            "color": "#E5ECF6",
                            "width": 0.5
                          },
                          "pattern": {
                            "fillmode": "overlay",
                            "size": 10,
                            "solidity": 0.2
                          }
                        },
                        "type": "barpolar"
                      }
                    ],
                    "carpet": [
                      {
                        "aaxis": {
                          "endlinecolor": "#2a3f5f",
                          "gridcolor": "white",
                          "linecolor": "white",
                          "minorgridcolor": "white",
                          "startlinecolor": "#2a3f5f"
                        },
                        "baxis": {
                          "endlinecolor": "#2a3f5f",
                          "gridcolor": "white",
                          "linecolor": "white",
                          "minorgridcolor": "white",
                          "startlinecolor": "#2a3f5f"
                        },
                        "type": "carpet"
                      }
                    ],
                    "choropleth": [
                      {
                        "colorbar": {
                          "outlinewidth": 0,
                          "ticks": ""
                        },
                        "type": "choropleth"
                      }
                    ],
                    "contour": [
                      {
                        "colorbar": {
                          "outlinewidth": 0,
                          "ticks": ""
                        },
                        "colorscale": [
                          [
                            0,
                            "#0d0887"
                          ],
                          [
                            0.1111111111111111,
                            "#46039f"
                          ],
                          [
                            0.2222222222222222,
                            "#7201a8"
                          ],
                          [
                            0.3333333333333333,
                            "#9c179e"
                          ],
                          [
                            0.4444444444444444,
                            "#bd3786"
                          ],
                          [
                            0.5555555555555556,
                            "#d8576b"
                          ],
                          [
                            0.6666666666666666,
                            "#ed7953"
                          ],
                          [
                            0.7777777777777778,
                            "#fb9f3a"
                          ],
                          [
                            0.8888888888888888,
                            "#fdca26"
                          ],
                          [
                            1,
                            "#f0f921"
                          ]
                        ],
                        "type": "contour"
                      }
                    ],
                    "contourcarpet": [
                      {
                        "colorbar": {
                          "outlinewidth": 0,
                          "ticks": ""
                        },
                        "type": "contourcarpet"
                      }
                    ],
                    "heatmap": [
                      {
                        "colorbar": {
                          "outlinewidth": 0,
                          "ticks": ""
                        },
                        "colorscale": [
                          [
                            0,
                            "#0d0887"
                          ],
                          [
                            0.1111111111111111,
                            "#46039f"
                          ],
                          [
                            0.2222222222222222,
                            "#7201a8"
                          ],
                          [
                            0.3333333333333333,
                            "#9c179e"
                          ],
                          [
                            0.4444444444444444,
                            "#bd3786"
                          ],
                          [
                            0.5555555555555556,
                            "#d8576b"
                          ],
                          [
                            0.6666666666666666,
                            "#ed7953"
                          ],
                          [
                            0.7777777777777778,
                            "#fb9f3a"
                          ],
                          [
                            0.8888888888888888,
                            "#fdca26"
                          ],
                          [
                            1,
                            "#f0f921"
                          ]
                        ],
                        "type": "heatmap"
                      }
                    ],
                    "heatmapgl": [
                      {
                        "colorbar": {
                          "outlinewidth": 0,
                          "ticks": ""
                        },
                        "colorscale": [
                          [
                            0,
                            "#0d0887"
                          ],
                          [
                            0.1111111111111111,
                            "#46039f"
                          ],
                          [
                            0.2222222222222222,
                            "#7201a8"
                          ],
                          [
                            0.3333333333333333,
                            "#9c179e"
                          ],
                          [
                            0.4444444444444444,
                            "#bd3786"
                          ],
                          [
                            0.5555555555555556,
                            "#d8576b"
                          ],
                          [
                            0.6666666666666666,
                            "#ed7953"
                          ],
                          [
                            0.7777777777777778,
                            "#fb9f3a"
                          ],
                          [
                            0.8888888888888888,
                            "#fdca26"
                          ],
                          [
                            1,
                            "#f0f921"
                          ]
                        ],
                        "type": "heatmapgl"
                      }
                    ],
                    "histogram": [
                      {
                        "marker": {
                          "pattern": {
                            "fillmode": "overlay",
                            "size": 10,
                            "solidity": 0.2
                          }
                        },
                        "type": "histogram"
                      }
                    ],
                    "histogram2d": [
                      {
                        "colorbar": {
                          "outlinewidth": 0,
                          "ticks": ""
                        },
                        "colorscale": [
                          [
                            0,
                            "#0d0887"
                          ],
                          [
                            0.1111111111111111,
                            "#46039f"
                          ],
                          [
                            0.2222222222222222,
                            "#7201a8"
                          ],
                          [
                            0.3333333333333333,
                            "#9c179e"
                          ],
                          [
                            0.4444444444444444,
                            "#bd3786"
                          ],
                          [
                            0.5555555555555556,
                            "#d8576b"
                          ],
                          [
                            0.6666666666666666,
                            "#ed7953"
                          ],
                          [
                            0.7777777777777778,
                            "#fb9f3a"
                          ],
                          [
                            0.8888888888888888,
                            "#fdca26"
                          ],
                          [
                            1,
                            "#f0f921"
                          ]
                        ],
                        "type": "histogram2d"
                      }
                    ],
                    "histogram2dcontour": [
                      {
                        "colorbar": {
                          "outlinewidth": 0,
                          "ticks": ""
                        },
                        "colorscale": [
                          [
                            0,
                            "#0d0887"
                          ],
                          [
                            0.1111111111111111,
                            "#46039f"
                          ],
                          [
                            0.2222222222222222,
                            "#7201a8"
                          ],
                          [
                            0.3333333333333333,
                            "#9c179e"
                          ],
                          [
                            0.4444444444444444,
                            "#bd3786"
                          ],
                          [
                            0.5555555555555556,
                            "#d8576b"
                          ],
                          [
                            0.6666666666666666,
                            "#ed7953"
                          ],
                          [
                            0.7777777777777778,
                            "#fb9f3a"
                          ],
                          [
                            0.8888888888888888,
                            "#fdca26"
                          ],
                          [
                            1,
                            "#f0f921"
                          ]
                        ],
                        "type": "histogram2dcontour"
                      }
                    ],
                    "mesh3d": [
                      {
                        "colorbar": {
                          "outlinewidth": 0,
                          "ticks": ""
                        },
                        "type": "mesh3d"
                      }
                    ],
                    "parcoords": [
                      {
                        "line": {
                          "colorbar": {
                            "outlinewidth": 0,
                            "ticks": ""
                          }
                        },
                        "type": "parcoords"
                      }
                    ],
                    "pie": [
                      {
                        "automargin": true,
                        "type": "pie"
                      }
                    ],
                    "scatter": [
                      {
                        "fillpattern": {
                          "fillmode": "overlay",
                          "size": 10,
                          "solidity": 0.2
                        },
                        "type": "scatter"
                      }
                    ],
                    "scatter3d": [
                      {
                        "line": {
                          "colorbar": {
                            "outlinewidth": 0,
                            "ticks": ""
                          }
                        },
                        "marker": {
                          "colorbar": {
                            "outlinewidth": 0,
                            "ticks": ""
                          }
                        },
                        "type": "scatter3d"
                      }
                    ],
                    "scattercarpet": [
                      {
                        "marker": {
                          "colorbar": {
                            "outlinewidth": 0,
                            "ticks": ""
                          }
                        },
                        "type": "scattercarpet"
                      }
                    ],
                    "scattergeo": [
                      {
                        "marker": {
                          "colorbar": {
                            "outlinewidth": 0,
                            "ticks": ""
                          }
                        },
                        "type": "scattergeo"
                      }
                    ],
                    "scattergl": [
                      {
                        "marker": {
                          "colorbar": {
                            "outlinewidth": 0,
                            "ticks": ""
                          }
                        },
                        "type": "scattergl"
                      }
                    ],
                    "scattermapbox": [
                      {
                        "marker": {
                          "colorbar": {
                            "outlinewidth": 0,
                            "ticks": ""
                          }
                        },
                        "type": "scattermapbox"
                      }
                    ],
                    "scatterpolar": [
                      {
                        "marker": {
                          "colorbar": {
                            "outlinewidth": 0,
                            "ticks": ""
                          }
                        },
                        "type": "scatterpolar"
                      }
                    ],
                    "scatterpolargl": [
                      {
                        "marker": {
                          "colorbar": {
                            "outlinewidth": 0,
                            "ticks": ""
                          }
                        },
                        "type": "scatterpolargl"
                      }
                    ],
                    "scatterternary": [
                      {
                        "marker": {
                          "colorbar": {
                            "outlinewidth": 0,
                            "ticks": ""
                          }
                        },
                        "type": "scatterternary"
                      }
                    ],
                    "surface": [
                      {
                        "colorbar": {
                          "outlinewidth": 0,
                          "ticks": ""
                        },
                        "colorscale": [
                          [
                            0,
                            "#0d0887"
                          ],
                          [
                            0.1111111111111111,
                            "#46039f"
                          ],
                          [
                            0.2222222222222222,
                            "#7201a8"
                          ],
                          [
                            0.3333333333333333,
                            "#9c179e"
                          ],
                          [
                            0.4444444444444444,
                            "#bd3786"
                          ],
                          [
                            0.5555555555555556,
                            "#d8576b"
                          ],
                          [
                            0.6666666666666666,
                            "#ed7953"
                          ],
                          [
                            0.7777777777777778,
                            "#fb9f3a"
                          ],
                          [
                            0.8888888888888888,
                            "#fdca26"
                          ],
                          [
                            1,
                            "#f0f921"
                          ]
                        ],
                        "type": "surface"
                      }
                    ],
                    "table": [
                      {
                        "cells": {
                          "fill": {
                            "color": "#EBF0F8"
                          },
                          "line": {
                            "color": "white"
                          }
                        },
                        "header": {
                          "fill": {
                            "color": "#C8D4E3"
                          },
                          "line": {
                            "color": "white"
                          }
                        },
                        "type": "table"
                      }
                    ]
                  },
                  "layout": {
                    "annotationdefaults": {
                      "arrowcolor": "#2a3f5f",
                      "arrowhead": 0,
                      "arrowwidth": 1
                    },
                    "autotypenumbers": "strict",
                    "coloraxis": {
                      "colorbar": {
                        "outlinewidth": 0,
                        "ticks": ""
                      }
                    },
                    "colorscale": {
                      "diverging": [
                        [
                          0,
                          "#8e0152"
                        ],
                        [
                          0.1,
                          "#c51b7d"
                        ],
                        [
                          0.2,
                          "#de77ae"
                        ],
                        [
                          0.3,
                          "#f1b6da"
                        ],
                        [
                          0.4,
                          "#fde0ef"
                        ],
                        [
                          0.5,
                          "#f7f7f7"
                        ],
                        [
                          0.6,
                          "#e6f5d0"
                        ],
                        [
                          0.7,
                          "#b8e186"
                        ],
                        [
                          0.8,
                          "#7fbc41"
                        ],
                        [
                          0.9,
                          "#4d9221"
                        ],
                        [
                          1,
                          "#276419"
                        ]
                      ],
                      "sequential": [
                        [
                          0,
                          "#0d0887"
                        ],
                        [
                          0.1111111111111111,
                          "#46039f"
                        ],
                        [
                          0.2222222222222222,
                          "#7201a8"
                        ],
                        [
                          0.3333333333333333,
                          "#9c179e"
                        ],
                        [
                          0.4444444444444444,
                          "#bd3786"
                        ],
                        [
                          0.5555555555555556,
                          "#d8576b"
                        ],
                        [
                          0.6666666666666666,
                          "#ed7953"
                        ],
                        [
                          0.7777777777777778,
                          "#fb9f3a"
                        ],
                        [
                          0.8888888888888888,
                          "#fdca26"
                        ],
                        [
                          1,
                          "#f0f921"
                        ]
                      ],
                      "sequentialminus": [
                        [
                          0,
                          "#0d0887"
                        ],
                        [
                          0.1111111111111111,
                          "#46039f"
                        ],
                        [
                          0.2222222222222222,
                          "#7201a8"
                        ],
                        [
                          0.3333333333333333,
                          "#9c179e"
                        ],
                        [
                          0.4444444444444444,
                          "#bd3786"
                        ],
                        [
                          0.5555555555555556,
                          "#d8576b"
                        ],
                        [
                          0.6666666666666666,
                          "#ed7953"
                        ],
                        [
                          0.7777777777777778,
                          "#fb9f3a"
                        ],
                        [
                          0.8888888888888888,
                          "#fdca26"
                        ],
                        [
                          1,
                          "#f0f921"
                        ]
                      ]
                    },
                    "colorway": [
                      "#636efa",
                      "#EF553B",
                      "#00cc96",
                      "#ab63fa",
                      "#FFA15A",
                      "#19d3f3",
                      "#FF6692",
                      "#B6E880",
                      "#FF97FF",
                      "#FECB52"
                    ],
                    "font": {
                      "color": "#2a3f5f"
                    },
                    "geo": {
                      "bgcolor": "white",
                      "lakecolor": "white",
                      "landcolor": "#E5ECF6",
                      "showlakes": true,
                      "showland": true,
                      "subunitcolor": "white"
                    },
                    "hoverlabel": {
                      "align": "left"
                    },
                    "hovermode": "closest",
                    "mapbox": {
                      "style": "light"
                    },
                    "paper_bgcolor": "white",
                    "plot_bgcolor": "#E5ECF6",
                    "polar": {
                      "angularaxis": {
                        "gridcolor": "white",
                        "linecolor": "white",
                        "ticks": ""
                      },
                      "bgcolor": "#E5ECF6",
                      "radialaxis": {
                        "gridcolor": "white",
                        "linecolor": "white",
                        "ticks": ""
                      }
                    },
                    "scene": {
                      "xaxis": {
                        "backgroundcolor": "#E5ECF6",
                        "gridcolor": "white",
                        "gridwidth": 2,
                        "linecolor": "white",
                        "showbackground": true,
                        "ticks": "",
                        "zerolinecolor": "white"
                      },
                      "yaxis": {
                        "backgroundcolor": "#E5ECF6",
                        "gridcolor": "white",
                        "gridwidth": 2,
                        "linecolor": "white",
                        "showbackground": true,
                        "ticks": "",
                        "zerolinecolor": "white"
                      },
                      "zaxis": {
                        "backgroundcolor": "#E5ECF6",
                        "gridcolor": "white",
                        "gridwidth": 2,
                        "linecolor": "white",
                        "showbackground": true,
                        "ticks": "",
                        "zerolinecolor": "white"
                      }
                    },
                    "shapedefaults": {
                      "line": {
                        "color": "#2a3f5f"
                      }
                    },
                    "ternary": {
                      "aaxis": {
                        "gridcolor": "white",
                        "linecolor": "white",
                        "ticks": ""
                      },
                      "baxis": {
                        "gridcolor": "white",
                        "linecolor": "white",
                        "ticks": ""
                      },
                      "bgcolor": "#E5ECF6",
                      "caxis": {
                        "gridcolor": "white",
                        "linecolor": "white",
                        "ticks": ""
                      }
                    },
                    "title": {
                      "x": 0.05
                    },
                    "xaxis": {
                      "automargin": true,
                      "gridcolor": "white",
                      "linecolor": "white",
                      "ticks": "",
                      "title": {
                        "standoff": 15
                      },
                      "zerolinecolor": "white",
                      "zerolinewidth": 2
                    },
                    "yaxis": {
                      "automargin": true,
                      "gridcolor": "white",
                      "linecolor": "white",
                      "ticks": "",
                      "title": {
                        "standoff": 15
                      },
                      "zerolinecolor": "white",
                      "zerolinewidth": 2
                    }
                  }
                },
                "title": {
                  "text": "Patching output of attention heads (corrupted -> clean)"
                },
                "width": 600,
                "xaxis": {
                  "anchor": "y",
                  "constrain": "domain",
                  "domain": [
                    0,
                    1
                  ],
                  "linecolor": "black",
                  "linewidth": 1,
                  "mirror": true,
                  "scaleanchor": "y",
                  "showline": true,
                  "title": {
                    "text": "Head"
                  }
                },
                "yaxis": {
                  "anchor": "x",
                  "autorange": "reversed",
                  "constrain": "domain",
                  "domain": [
                    0,
                    1
                  ],
                  "linecolor": "black",
                  "linewidth": 1,
                  "mirror": true,
                  "showline": true,
                  "title": {
                    "text": "Layer"
                  }
                }
              }
            }
          },
          "metadata": {},
          "output_type": "display_data"
        }
      ],
      "source": [
        "imshow_p(\n",
        "    results['z'] * 100,\n",
        "    title=\"Patching output of attention heads (corrupted -> clean)\",\n",
        "    labels={\"x\": \"Head\", \"y\": \"Layer\", \"color\": \"Logit diff variation\"},\n",
        "    coloraxis=dict(colorbar_ticksuffix = \"%\"),\n",
        "    border=True,\n",
        "    width=600,\n",
        "    margin={\"r\": 100, \"l\": 100}\n",
        ")"
      ]
    },
    {
      "attachments": {},
      "cell_type": "markdown",
      "metadata": {},
      "source": [
        "#### Head Output by Component"
      ]
    },
    {
      "cell_type": "code",
      "execution_count": 40,
      "metadata": {},
      "outputs": [
        {
          "data": {
            "application/vnd.jupyter.widget-view+json": {
              "model_id": "74d9b9bebb364c6c843b8e6abfd23287",
              "version_major": 2,
              "version_minor": 0
            },
            "text/plain": [
              "  0%|          | 0/720 [00:00<?, ?it/s]"
            ]
          },
          "metadata": {},
          "output_type": "display_data"
        },
        {
          "name": "stdout",
          "output_type": "stream",
          "text": [
            "results['z'].shape = (layer=12, head=12)\n",
            "results['q'].shape = (layer=12, head=12)\n",
            "results['k'].shape = (layer=12, head=12)\n",
            "results['v'].shape = (layer=12, head=12)\n",
            "results['pattern'].shape = (layer=12, head=12)\n"
          ]
        }
      ],
      "source": [
        "# iterating over all heads' output in all layers\n",
        "\n",
        "results = act_patch(\n",
        "    model=model,\n",
        "    orig_input=corrupted_tokens,\n",
        "    new_cache=clean_cache,\n",
        "    patching_nodes=IterNode([\"z\", \"q\", \"k\", \"v\", \"pattern\"]),\n",
        "    patching_metric=logit_diff_denoising,\n",
        "    verbose=True,\n",
        ")"
      ]
    },
    {
      "cell_type": "code",
      "execution_count": 42,
      "metadata": {},
      "outputs": [
        {
          "data": {
            "application/vnd.plotly.v1+json": {
              "config": {
                "plotlyServerURL": "https://plot.ly"
              },
              "data": [
                {
                  "coloraxis": "coloraxis",
                  "hovertemplate": "Head: %{x}<br>Layer: %{y}<br>Logit diff variation: %{z}<extra></extra>",
                  "name": "0",
                  "type": "heatmap",
                  "xaxis": "x",
                  "yaxis": "y",
                  "z": [
                    [
                      0.3915122151374817,
                      0.8645501732826233,
                      0.16390278935432434,
                      1.43736732006073,
                      2.9295601844787598,
                      0.6605472564697266,
                      1.5011996030807495,
                      0.3490411341190338,
                      0.19033724069595337,
                      0.28496885299682617,
                      0.27893581986427307,
                      0.2225133627653122
                    ],
                    [
                      0.20182055234909058,
                      0.16789624094963074,
                      0.15087123215198517,
                      0.2008378952741623,
                      0.09688826650381088,
                      -0.45367059111595154,
                      0.6699281930923462,
                      0.683319628238678,
                      -0.029159601777791977,
                      0.09306049346923828,
                      0.16089770197868347,
                      0.7523680329322815
                    ],
                    [
                      0.3818342387676239,
                      2.8130760192871094,
                      0.2010607123374939,
                      0.2533697485923767,
                      0.22167353332042694,
                      0.23878994584083557,
                      0.18968024849891663,
                      0.010426386259496212,
                      0.25892287492752075,
                      0.1204090416431427,
                      -0.015305363573133945,
                      -0.013734263367950916
                    ],
                    [
                      0.31743061542510986,
                      -0.08089161664247513,
                      0.21492639183998108,
                      0.24511434137821198,
                      0.14979146420955658,
                      0.9297308325767517,
                      0.3134714365005493,
                      0.04303669184446335,
                      0.388867050409317,
                      0.42313989996910095,
                      -0.07918912172317505,
                      2.311521291732788
                    ],
                    [
                      0.09427738189697266,
                      0.3795433044433594,
                      0.689175546169281,
                      0.04337376728653908,
                      -0.2688407897949219,
                      0.1564243584871292,
                      0.21893125772476196,
                      0.725145161151886,
                      0.7085543870925903,
                      1.042627215385437,
                      0.6341299414634705,
                      0.17666010558605194
                    ],
                    [
                      0.09660261124372482,
                      0.4223400354385376,
                      0.2655443549156189,
                      0.5643731355667114,
                      0.6467044353485107,
                      1.7169945240020752,
                      0.1565214842557907,
                      1.6000818014144897,
                      -0.5957894325256348,
                      0.3759726285934448,
                      1.990788459777832,
                      -4.019248962402344
                    ],
                    [
                      0.6473957300186157,
                      0.15041418373584747,
                      0.09226638078689575,
                      0.01115766167640686,
                      8.889516830444336,
                      -1.7533924579620361,
                      -2.28019642829895,
                      4.730034351348877,
                      0.46914735436439514,
                      0.6760125756263733,
                      1.5141969919204712,
                      0.14921444654464722
                    ],
                    [
                      0.29894304275512695,
                      16.6696720123291,
                      0.3749099671840668,
                      -1.9006073474884033,
                      0.31040921807289124,
                      12.741914749145508,
                      -8.899637222290039,
                      0.21867987513542175,
                      1.0641140937805176,
                      2.730116367340088,
                      0.5271809101104736,
                      0.17707717418670654
                    ],
                    [
                      0.0458589568734169,
                      0.20919615030288696,
                      4.091119766235352,
                      1.0633257627487183,
                      1.9059605598449707,
                      9.212640762329102,
                      0.5709774494171143,
                      0.6442992687225342,
                      0.918727457523346,
                      2.0896763801574707,
                      -7.03264045715332,
                      1.4388984441757202
                    ],
                    [
                      0.013762828893959522,
                      1.2145168781280518,
                      14.300497055053711,
                      4.419439315795898,
                      0.2738054692745209,
                      -2.529304027557373,
                      2.4689996242523193,
                      -3.554534912109375,
                      0.32432058453559875,
                      1.5461788177490234,
                      3.390460729598999,
                      0.18575534224510193
                    ],
                    [
                      4.596693992614746,
                      7.696035385131836,
                      -0.0017653442919254303,
                      -0.1700957715511322,
                      29.737201690673828,
                      0.9993619322776794,
                      0.019293099641799927,
                      -6.971395969390869,
                      0.14472395181655884,
                      1.2122944593429565,
                      0.8368359804153442,
                      2.6858770847320557
                    ],
                    [
                      -0.24093236029148102,
                      0.3358210325241089,
                      0.32433202862739563,
                      1.477593183517456,
                      0.327457070350647,
                      0.5033745169639587,
                      0.15232235193252563,
                      0.6990591883659363,
                      1.8782119750976562,
                      4.0609002113342285,
                      0.1345260888338089,
                      2.9073078632354736
                    ]
                  ]
                },
                {
                  "coloraxis": "coloraxis",
                  "hovertemplate": "Head: %{x}<br>Layer: %{y}<br>Logit diff variation: %{z}<extra></extra>",
                  "name": "1",
                  "type": "heatmap",
                  "xaxis": "x2",
                  "yaxis": "y2",
                  "z": [
                    [
                      0.07889775186777115,
                      0.5633447766304016,
                      0.2107844054698944,
                      0.19480487704277039,
                      0.3250747323036194,
                      0.6172420382499695,
                      0.18555539846420288,
                      0.19208545982837677,
                      0.06767724454402924,
                      0.13049836456775665,
                      -0.5547808408737183,
                      0.1131705716252327
                    ],
                    [
                      0.2700805366039276,
                      0.2469082623720169,
                      0.18617241084575653,
                      0.2609281539916992,
                      0.19836413860321045,
                      0.10560072213411331,
                      0.13908512890338898,
                      0.24082380533218384,
                      0.2549636960029602,
                      0.15978364646434784,
                      0.18221895396709442,
                      0.5539352893829346
                    ],
                    [
                      0.089609794318676,
                      0.4647311866283417,
                      0.3186303675174713,
                      0.2897107005119324,
                      0.15008854866027832,
                      0.2208508551120758,
                      0.2690807580947876,
                      0.18889755010604858,
                      0.20499131083488464,
                      0.7365255951881409,
                      0.2016034722328186,
                      0.20664241909980774
                    ],
                    [
                      -0.10820018500089645,
                      0.1196606308221817,
                      0.25218144059181213,
                      0.19129133224487305,
                      0.05521699786186218,
                      0.04639599099755287,
                      0.2709260582923889,
                      0.513886570930481,
                      0.2808154225349426,
                      0.1901487112045288,
                      0.27173730731010437,
                      0.2694292366504669
                    ],
                    [
                      0.12723618745803833,
                      0.23275122046470642,
                      0.14616936445236206,
                      0.18624667823314667,
                      0.4543161988258362,
                      0.12941287457942963,
                      0.28671133518218994,
                      0.15521317720413208,
                      0.10293842107057571,
                      0.2362990528345108,
                      0.29989713430404663,
                      0.19697587192058563
                    ],
                    [
                      0.10179008543491364,
                      0.1800822615623474,
                      0.2470453679561615,
                      0.03184475377202034,
                      0.202877476811409,
                      0.17227818071842194,
                      0.22677531838417053,
                      0.16170896589756012,
                      0.1650625467300415,
                      -0.22405588626861572,
                      -0.1889261156320572,
                      0.010220714844763279
                    ],
                    [
                      0.33881470561027527,
                      0.21250975131988525,
                      0.15307648479938507,
                      0.1770028918981552,
                      0.18222466111183167,
                      0.029525239020586014,
                      0.2613281011581421,
                      0.18510976433753967,
                      0.2078421413898468,
                      0.154230535030365,
                      0.23257410526275635,
                      0.2037115842103958
                    ],
                    [
                      0.1699015200138092,
                      0.26715540885925293,
                      0.1787225306034088,
                      0.15758411586284637,
                      0.28164955973625183,
                      0.17446057498455048,
                      -0.3987564146518707,
                      0.22092512249946594,
                      0.299919992685318,
                      0.08302830904722214,
                      0.17815694212913513,
                      0.18156194686889648
                    ],
                    [
                      0.22956331074237823,
                      0.17638017237186432,
                      0.13670849800109863,
                      0.21768009662628174,
                      0.19499342143535614,
                      0.17914530634880066,
                      0.17164401710033417,
                      0.2002837359905243,
                      0.15436765551567078,
                      0.17112413048744202,
                      -0.022092511877417564,
                      0.12465386837720871
                    ],
                    [
                      -0.33477553725242615,
                      0.14339280128479004,
                      0.2089219093322754,
                      0.2730170488357544,
                      0.16452550888061523,
                      0.07552702724933624,
                      0.2322370409965515,
                      -0.09238635003566742,
                      0.12737901508808136,
                      0.19621601700782776,
                      0.18108776211738586,
                      0.2011292576789856
                    ],
                    [
                      0.07625258713960648,
                      0.8243871927261353,
                      -0.12366550415754318,
                      0.23806439340114594,
                      -0.20759648084640503,
                      0.19778141379356384,
                      0.14425547420978546,
                      -2.5168209075927734,
                      0.1611090898513794,
                      0.15440192818641663,
                      0.24428023397922516,
                      0.30949515104293823
                    ],
                    [
                      0.14680351316928864,
                      0.23161430656909943,
                      0.15735559165477753,
                      -0.3137056827545166,
                      0.13478317856788635,
                      0.14466111361980438,
                      0.2090761661529541,
                      -0.006924263201653957,
                      0.1334177404642105,
                      0.2142236828804016,
                      -0.050532266497612,
                      0.27089178562164307
                    ]
                  ]
                },
                {
                  "coloraxis": "coloraxis",
                  "hovertemplate": "Head: %{x}<br>Layer: %{y}<br>Logit diff variation: %{z}<extra></extra>",
                  "name": "2",
                  "type": "heatmap",
                  "xaxis": "x3",
                  "yaxis": "y3",
                  "z": [
                    [
                      0.09318618476390839,
                      0.556694746017456,
                      0.1483403444290161,
                      0.27739328145980835,
                      0.2705661654472351,
                      0.9125744104385376,
                      0.15871530771255493,
                      0.2265067994594574,
                      0.11676409840583801,
                      0.15186531841754913,
                      -0.4866408705711365,
                      0.19911254942417145
                    ],
                    [
                      0.28310635685920715,
                      0.22481001913547516,
                      0.19157126545906067,
                      0.14733482897281647,
                      0.17864255607128143,
                      0.18543541431427002,
                      0.13353772461414337,
                      0.09142083674669266,
                      0.169735848903656,
                      0.1779455542564392,
                      0.17693433165550232,
                      0.5539924502372742
                    ],
                    [
                      0.09882500022649765,
                      0.019195977598428726,
                      0.2323455810546875,
                      0.3161737322807312,
                      0.2282835841178894,
                      0.18276169896125793,
                      0.3369865119457245,
                      0.21448074281215668,
                      0.32356077432632446,
                      0.6075412631034851,
                      0.18225322663784027,
                      0.19081714749336243
                    ],
                    [
                      -0.06254689395427704,
                      0.21178990602493286,
                      0.1523166447877884,
                      0.22181636095046997,
                      0.09650548547506332,
                      0.21393229067325592,
                      0.34266531467437744,
                      0.6651577353477478,
                      0.3703395128250122,
                      0.1524137705564499,
                      0.17359218001365662,
                      0.07051093131303787
                    ],
                    [
                      0.27309131622314453,
                      0.14954008162021637,
                      0.3535601794719696,
                      0.209036186337471,
                      0.20667095482349396,
                      0.2354249358177185,
                      0.1519281566143036,
                      0.20888763666152954,
                      0.149265855550766,
                      0.15519604086875916,
                      0.2888251841068268,
                      0.1733979433774948
                    ],
                    [
                      0.20299173891544342,
                      0.19663307070732117,
                      0.20737367868423462,
                      0.3485783636569977,
                      0.19143415987491608,
                      0.15819542109966278,
                      0.16952447593212128,
                      0.3588162064552307,
                      0.1787511110305786,
                      -0.24589702486991882,
                      -0.05997028946876526,
                      -0.03535258769989014
                    ],
                    [
                      0.16647367179393768,
                      0.23963549733161926,
                      0.2284492552280426,
                      0.18403570353984833,
                      0.3737902343273163,
                      0.12046046555042267,
                      0.3142484128475189,
                      0.41077104210853577,
                      0.17711715400218964,
                      0.13074973225593567,
                      0.2469482421875,
                      0.14956864714622498
                    ],
                    [
                      0.21785718202590942,
                      -0.14940868318080902,
                      0.17472338676452637,
                      0.10217858105897903,
                      0.17002150416374207,
                      0.09681399166584015,
                      0.3971967399120331,
                      0.10717753320932388,
                      0.17115269601345062,
                      0.2090076208114624,
                      0.24030962586402893,
                      0.18088208138942719
                    ],
                    [
                      0.21906837821006775,
                      0.1760602444410324,
                      0.18542400002479553,
                      0.3409513831138611,
                      0.16129761934280396,
                      0.17397496104240417,
                      0.1677819788455963,
                      0.19259391725063324,
                      0.05128639191389084,
                      0.17835117876529694,
                      -0.3399173319339752,
                      0.1763230413198471
                    ],
                    [
                      -0.038072019815444946,
                      0.2950695753097534,
                      -0.15275655686855316,
                      0.1349145770072937,
                      0.16333147883415222,
                      0.11429033428430557,
                      0.3502580225467682,
                      0.11211364716291428,
                      0.2654072344303131,
                      0.20109498500823975,
                      0.1574355810880661,
                      0.1573670208454132
                    ],
                    [
                      0.6308106184005737,
                      0.802443265914917,
                      0.08776446431875229,
                      0.1357601135969162,
                      0.11835233122110367,
                      0.2878539562225342,
                      0.04410504177212715,
                      -2.517712354660034,
                      0.19042865931987762,
                      0.16984440386295319,
                      0.45177388191223145,
                      0.2271580994129181
                    ],
                    [
                      0.18977737426757812,
                      0.27559366822242737,
                      0.2851916551589966,
                      0.38127437233924866,
                      0.22220486402511597,
                      0.21593759953975677,
                      0.21410369873046875,
                      0.16945019364356995,
                      0.25678616762161255,
                      0.5208280086517334,
                      -0.0806516706943512,
                      0.2647959291934967
                    ]
                  ]
                },
                {
                  "coloraxis": "coloraxis",
                  "hovertemplate": "Head: %{x}<br>Layer: %{y}<br>Logit diff variation: %{z}<extra></extra>",
                  "name": "3",
                  "type": "heatmap",
                  "xaxis": "x4",
                  "yaxis": "y4",
                  "z": [
                    [
                      0.4697358310222626,
                      0.865035891532898,
                      0.16819903254508972,
                      1.4497989416122437,
                      2.8786423206329346,
                      0.6625354290008545,
                      1.4443315267562866,
                      0.4075031876564026,
                      0.2669440507888794,
                      0.27783891558647156,
                      0.2678981423377991,
                      0.29040196537971497
                    ],
                    [
                      0.17841403186321259,
                      0.1198548823595047,
                      0.13497741520404816,
                      0.18669229745864868,
                      0.09858504682779312,
                      -0.37323033809661865,
                      0.7124563455581665,
                      0.6180704832077026,
                      -0.05619393661618233,
                      0.10680047422647476,
                      0.16509681940078735,
                      0.6891869902610779
                    ],
                    [
                      0.45864102244377136,
                      2.4398200511932373,
                      0.17406637966632843,
                      0.22057662904262543,
                      0.24533714354038239,
                      0.2652015686035156,
                      -0.017087846994400024,
                      -0.003113633021712303,
                      0.22064517438411713,
                      0.11113670468330383,
                      -0.0708480104804039,
                      0.01234598271548748
                    ],
                    [
                      0.2835748493671417,
                      -0.0588105283677578,
                      0.2643960118293762,
                      0.21288108825683594,
                      0.13408617675304413,
                      1.0078516006469727,
                      0.3114490211009979,
                      0.016956446692347527,
                      0.2576374113559723,
                      0.44111326336860657,
                      -0.26172229647636414,
                      2.3022403717041016
                    ],
                    [
                      0.157561257481575,
                      0.308072566986084,
                      0.5602368712425232,
                      0.0004684732120949775,
                      -0.42621922492980957,
                      0.16968443989753723,
                      0.052806075662374496,
                      0.8153833150863647,
                      0.7664679288864136,
                      1.015227198600769,
                      0.4209517538547516,
                      0.18446990847587585
                    ],
                    [
                      0.13284073770046234,
                      0.41478732228279114,
                      0.22088512778282166,
                      0.565230131149292,
                      0.6618669629096985,
                      1.6577038764953613,
                      0.16570812463760376,
                      1.3965587615966797,
                      -0.5908190011978149,
                      0.1481175273656845,
                      2.196056842803955,
                      -4.25144624710083
                    ],
                    [
                      0.4852411448955536,
                      0.0456647127866745,
                      0.17654584348201752,
                      0.07746947556734085,
                      7.640393257141113,
                      -1.625733494758606,
                      -2.29854679107666,
                      4.184022903442383,
                      0.4590180814266205,
                      0.7175124883651733,
                      1.4038828611373901,
                      0.02007579244673252
                    ],
                    [
                      0.2799813151359558,
                      16.350950241088867,
                      0.3861476480960846,
                      -1.8333414793014526,
                      0.22401590645313263,
                      12.495946884155273,
                      -8.271655082702637,
                      0.2605968117713928,
                      0.9344441890716553,
                      2.7333271503448486,
                      0.4709298610687256,
                      0.1831444650888443
                    ],
                    [
                      -0.032496046274900436,
                      0.20460283756256104,
                      4.3672075271606445,
                      0.882877767086029,
                      1.915364384651184,
                      9.165307998657227,
                      0.6008626222610474,
                      0.6183903813362122,
                      1.055641531944275,
                      2.128371000289917,
                      -6.989335060119629,
                      1.4365103244781494
                    ],
                    [
                      0.6266629099845886,
                      1.213682770729065,
                      13.103476524353027,
                      4.407256126403809,
                      0.2532897889614105,
                      -2.4639806747436523,
                      2.0125553607940674,
                      -3.272542715072632,
                      0.29223018884658813,
                      1.3664735555648804,
                      3.4421727657318115,
                      0.2105044424533844
                    ],
                    [
                      4.019566059112549,
                      6.3460187911987305,
                      0.3576735854148865,
                      -0.15115688741207123,
                      29.311450958251953,
                      0.8904533386230469,
                      0.19295956194400787,
                      -5.942291736602783,
                      0.15898381173610687,
                      1.2643978595733643,
                      0.5053626298904419,
                      2.6162543296813965
                    ],
                    [
                      -0.23321397602558136,
                      0.22259333729743958,
                      0.22702671587467194,
                      1.752712607383728,
                      0.3399573266506195,
                      0.5252156257629395,
                      0.09625982493162155,
                      0.9718649387359619,
                      1.9525107145309448,
                      3.6293904781341553,
                      0.21193842589855194,
                      2.7880985736846924
                    ]
                  ]
                },
                {
                  "coloraxis": "coloraxis",
                  "hovertemplate": "Head: %{x}<br>Layer: %{y}<br>Logit diff variation: %{z}<extra></extra>",
                  "name": "4",
                  "type": "heatmap",
                  "xaxis": "x5",
                  "yaxis": "y5",
                  "z": [
                    [
                      0.05597112327814102,
                      0.18299022316932678,
                      0.16351430118083954,
                      0.16637654602527618,
                      0.1770828813314438,
                      0.18369291722774506,
                      0.15742985904216766,
                      0.1443983018398285,
                      0.0957113653421402,
                      0.2025860995054245,
                      0.23921272158622742,
                      0.1298242062330246
                    ],
                    [
                      0.20763078331947327,
                      0.23526498675346375,
                      0.1990097165107727,
                      0.1954161822795868,
                      0.18589818477630615,
                      0.06425510346889496,
                      0.13202375173568726,
                      0.1787511110305786,
                      0.21439506113529205,
                      0.1514311134815216,
                      0.17670582234859467,
                      0.2209479659795761
                    ],
                    [
                      0.18610385060310364,
                      0.5131267309188843,
                      0.193336620926857,
                      0.25100454688072205,
                      0.21944543719291687,
                      0.14651785790920258,
                      0.4174496531486511,
                      0.21690882742404938,
                      0.20558547973632812,
                      0.22245052456855774,
                      0.22473575174808502,
                      0.1601264327764511
                    ],
                    [
                      0.20072364807128906,
                      0.15560738742351532,
                      0.12048331648111343,
                      0.20929327607154846,
                      0.1923253983259201,
                      0.0826912373304367,
                      0.18993161618709564,
                      0.17290660738945007,
                      0.30600443482398987,
                      0.15498466789722443,
                      0.3013368546962738,
                      0.08482792973518372
                    ],
                    [
                      0.13067546486854553,
                      0.22823786735534668,
                      0.3044390380382538,
                      0.20899619162082672,
                      0.34391650557518005,
                      0.18069927394390106,
                      0.37116220593452454,
                      0.15101978182792664,
                      0.11444458365440369,
                      0.16801050305366516,
                      0.40748029947280884,
                      0.17589455842971802
                    ],
                    [
                      0.14157603681087494,
                      0.18737216293811798,
                      0.21174989640712738,
                      0.18817199766635895,
                      0.15057414770126343,
                      0.24154935777187347,
                      0.17910532653331757,
                      0.28855666518211365,
                      0.23297402262687683,
                      0.4080859124660492,
                      -0.2162061184644699,
                      0.14183884859085083
                    ],
                    [
                      0.33031362295150757,
                      0.22469575703144073,
                      0.1840185672044754,
                      0.14388412237167358,
                      0.6193615794181824,
                      0.02835977077484131,
                      0.21023593842983246,
                      0.28849953413009644,
                      0.20701946318149567,
                      0.11506731063127518,
                      0.2982117831707001,
                      0.25444379448890686
                    ],
                    [
                      0.20426003634929657,
                      -0.15188245475292206,
                      0.1677248328924179,
                      0.14920872449874878,
                      0.26561862230300903,
                      0.385981947183609,
                      -0.019241681322455406,
                      0.1680562049150467,
                      0.29612648487091064,
                      0.12683627009391785,
                      0.23380813002586365,
                      0.17979659140110016
                    ],
                    [
                      0.25011327862739563,
                      0.17735710740089417,
                      0.1776541918516159,
                      0.4060463011264801,
                      0.1862523853778839,
                      0.21790289878845215,
                      0.1576983779668808,
                      0.2105044424533844,
                      0.0017482050461694598,
                      0.09693396836519241,
                      0.16074344515800476,
                      0.12504807114601135
                    ],
                    [
                      -0.47062137722969055,
                      0.24661687016487122,
                      -0.1338176727294922,
                      0.2243701070547104,
                      0.19194263219833374,
                      0.12102606892585754,
                      0.3765096664428711,
                      0.06597474217414856,
                      0.20336881279945374,
                      0.2873454988002777,
                      0.13522879779338837,
                      0.1677248328924179
                    ],
                    [
                      0.47760847210884094,
                      1.2424196004867554,
                      -0.22359313070774078,
                      0.20443715155124664,
                      0.3342042565345764,
                      0.30213096737861633,
                      0.05091504380106926,
                      -0.31641367077827454,
                      0.16687360405921936,
                      0.14022774994373322,
                      0.531540036201477,
                      0.17240957915782928
                    ],
                    [
                      0.18465271592140198,
                      0.3271714448928833,
                      0.2752622961997986,
                      -0.07551559805870056,
                      0.16953589022159576,
                      0.17345507442951202,
                      0.2222220003604889,
                      -0.11377043277025223,
                      0.11229646950960159,
                      0.5216335654258728,
                      0.1032697856426239,
                      0.25948846340179443
                    ]
                  ]
                }
              ],
              "layout": {
                "annotations": [
                  {
                    "font": {},
                    "showarrow": false,
                    "text": "Output",
                    "x": 0.09200000000000001,
                    "xanchor": "center",
                    "xref": "paper",
                    "y": 1,
                    "yanchor": "bottom",
                    "yref": "paper"
                  },
                  {
                    "font": {},
                    "showarrow": false,
                    "text": "Query",
                    "x": 0.29600000000000004,
                    "xanchor": "center",
                    "xref": "paper",
                    "y": 1,
                    "yanchor": "bottom",
                    "yref": "paper"
                  },
                  {
                    "font": {},
                    "showarrow": false,
                    "text": "Key",
                    "x": 0.5,
                    "xanchor": "center",
                    "xref": "paper",
                    "y": 1,
                    "yanchor": "bottom",
                    "yref": "paper"
                  },
                  {
                    "font": {},
                    "showarrow": false,
                    "text": "Value",
                    "x": 0.7040000000000002,
                    "xanchor": "center",
                    "xref": "paper",
                    "y": 1,
                    "yanchor": "bottom",
                    "yref": "paper"
                  },
                  {
                    "font": {},
                    "showarrow": false,
                    "text": "Pattern",
                    "x": 0.908,
                    "xanchor": "center",
                    "xref": "paper",
                    "y": 1,
                    "yanchor": "bottom",
                    "yref": "paper"
                  }
                ],
                "coloraxis": {
                  "cmid": 0,
                  "colorbar": {
                    "ticksuffix": "%",
                    "title": {
                      "text": "Logit diff variation"
                    }
                  },
                  "colorscale": [
                    [
                      0,
                      "rgb(103,0,31)"
                    ],
                    [
                      0.1,
                      "rgb(178,24,43)"
                    ],
                    [
                      0.2,
                      "rgb(214,96,77)"
                    ],
                    [
                      0.3,
                      "rgb(244,165,130)"
                    ],
                    [
                      0.4,
                      "rgb(253,219,199)"
                    ],
                    [
                      0.5,
                      "rgb(247,247,247)"
                    ],
                    [
                      0.6,
                      "rgb(209,229,240)"
                    ],
                    [
                      0.7,
                      "rgb(146,197,222)"
                    ],
                    [
                      0.8,
                      "rgb(67,147,195)"
                    ],
                    [
                      0.9,
                      "rgb(33,102,172)"
                    ],
                    [
                      1,
                      "rgb(5,48,97)"
                    ]
                  ]
                },
                "margin": {
                  "l": 100,
                  "r": 100
                },
                "template": {
                  "data": {
                    "bar": [
                      {
                        "error_x": {
                          "color": "#2a3f5f"
                        },
                        "error_y": {
                          "color": "#2a3f5f"
                        },
                        "marker": {
                          "line": {
                            "color": "#E5ECF6",
                            "width": 0.5
                          },
                          "pattern": {
                            "fillmode": "overlay",
                            "size": 10,
                            "solidity": 0.2
                          }
                        },
                        "type": "bar"
                      }
                    ],
                    "barpolar": [
                      {
                        "marker": {
                          "line": {
                            "color": "#E5ECF6",
                            "width": 0.5
                          },
                          "pattern": {
                            "fillmode": "overlay",
                            "size": 10,
                            "solidity": 0.2
                          }
                        },
                        "type": "barpolar"
                      }
                    ],
                    "carpet": [
                      {
                        "aaxis": {
                          "endlinecolor": "#2a3f5f",
                          "gridcolor": "white",
                          "linecolor": "white",
                          "minorgridcolor": "white",
                          "startlinecolor": "#2a3f5f"
                        },
                        "baxis": {
                          "endlinecolor": "#2a3f5f",
                          "gridcolor": "white",
                          "linecolor": "white",
                          "minorgridcolor": "white",
                          "startlinecolor": "#2a3f5f"
                        },
                        "type": "carpet"
                      }
                    ],
                    "choropleth": [
                      {
                        "colorbar": {
                          "outlinewidth": 0,
                          "ticks": ""
                        },
                        "type": "choropleth"
                      }
                    ],
                    "contour": [
                      {
                        "colorbar": {
                          "outlinewidth": 0,
                          "ticks": ""
                        },
                        "colorscale": [
                          [
                            0,
                            "#0d0887"
                          ],
                          [
                            0.1111111111111111,
                            "#46039f"
                          ],
                          [
                            0.2222222222222222,
                            "#7201a8"
                          ],
                          [
                            0.3333333333333333,
                            "#9c179e"
                          ],
                          [
                            0.4444444444444444,
                            "#bd3786"
                          ],
                          [
                            0.5555555555555556,
                            "#d8576b"
                          ],
                          [
                            0.6666666666666666,
                            "#ed7953"
                          ],
                          [
                            0.7777777777777778,
                            "#fb9f3a"
                          ],
                          [
                            0.8888888888888888,
                            "#fdca26"
                          ],
                          [
                            1,
                            "#f0f921"
                          ]
                        ],
                        "type": "contour"
                      }
                    ],
                    "contourcarpet": [
                      {
                        "colorbar": {
                          "outlinewidth": 0,
                          "ticks": ""
                        },
                        "type": "contourcarpet"
                      }
                    ],
                    "heatmap": [
                      {
                        "colorbar": {
                          "outlinewidth": 0,
                          "ticks": ""
                        },
                        "colorscale": [
                          [
                            0,
                            "#0d0887"
                          ],
                          [
                            0.1111111111111111,
                            "#46039f"
                          ],
                          [
                            0.2222222222222222,
                            "#7201a8"
                          ],
                          [
                            0.3333333333333333,
                            "#9c179e"
                          ],
                          [
                            0.4444444444444444,
                            "#bd3786"
                          ],
                          [
                            0.5555555555555556,
                            "#d8576b"
                          ],
                          [
                            0.6666666666666666,
                            "#ed7953"
                          ],
                          [
                            0.7777777777777778,
                            "#fb9f3a"
                          ],
                          [
                            0.8888888888888888,
                            "#fdca26"
                          ],
                          [
                            1,
                            "#f0f921"
                          ]
                        ],
                        "type": "heatmap"
                      }
                    ],
                    "heatmapgl": [
                      {
                        "colorbar": {
                          "outlinewidth": 0,
                          "ticks": ""
                        },
                        "colorscale": [
                          [
                            0,
                            "#0d0887"
                          ],
                          [
                            0.1111111111111111,
                            "#46039f"
                          ],
                          [
                            0.2222222222222222,
                            "#7201a8"
                          ],
                          [
                            0.3333333333333333,
                            "#9c179e"
                          ],
                          [
                            0.4444444444444444,
                            "#bd3786"
                          ],
                          [
                            0.5555555555555556,
                            "#d8576b"
                          ],
                          [
                            0.6666666666666666,
                            "#ed7953"
                          ],
                          [
                            0.7777777777777778,
                            "#fb9f3a"
                          ],
                          [
                            0.8888888888888888,
                            "#fdca26"
                          ],
                          [
                            1,
                            "#f0f921"
                          ]
                        ],
                        "type": "heatmapgl"
                      }
                    ],
                    "histogram": [
                      {
                        "marker": {
                          "pattern": {
                            "fillmode": "overlay",
                            "size": 10,
                            "solidity": 0.2
                          }
                        },
                        "type": "histogram"
                      }
                    ],
                    "histogram2d": [
                      {
                        "colorbar": {
                          "outlinewidth": 0,
                          "ticks": ""
                        },
                        "colorscale": [
                          [
                            0,
                            "#0d0887"
                          ],
                          [
                            0.1111111111111111,
                            "#46039f"
                          ],
                          [
                            0.2222222222222222,
                            "#7201a8"
                          ],
                          [
                            0.3333333333333333,
                            "#9c179e"
                          ],
                          [
                            0.4444444444444444,
                            "#bd3786"
                          ],
                          [
                            0.5555555555555556,
                            "#d8576b"
                          ],
                          [
                            0.6666666666666666,
                            "#ed7953"
                          ],
                          [
                            0.7777777777777778,
                            "#fb9f3a"
                          ],
                          [
                            0.8888888888888888,
                            "#fdca26"
                          ],
                          [
                            1,
                            "#f0f921"
                          ]
                        ],
                        "type": "histogram2d"
                      }
                    ],
                    "histogram2dcontour": [
                      {
                        "colorbar": {
                          "outlinewidth": 0,
                          "ticks": ""
                        },
                        "colorscale": [
                          [
                            0,
                            "#0d0887"
                          ],
                          [
                            0.1111111111111111,
                            "#46039f"
                          ],
                          [
                            0.2222222222222222,
                            "#7201a8"
                          ],
                          [
                            0.3333333333333333,
                            "#9c179e"
                          ],
                          [
                            0.4444444444444444,
                            "#bd3786"
                          ],
                          [
                            0.5555555555555556,
                            "#d8576b"
                          ],
                          [
                            0.6666666666666666,
                            "#ed7953"
                          ],
                          [
                            0.7777777777777778,
                            "#fb9f3a"
                          ],
                          [
                            0.8888888888888888,
                            "#fdca26"
                          ],
                          [
                            1,
                            "#f0f921"
                          ]
                        ],
                        "type": "histogram2dcontour"
                      }
                    ],
                    "mesh3d": [
                      {
                        "colorbar": {
                          "outlinewidth": 0,
                          "ticks": ""
                        },
                        "type": "mesh3d"
                      }
                    ],
                    "parcoords": [
                      {
                        "line": {
                          "colorbar": {
                            "outlinewidth": 0,
                            "ticks": ""
                          }
                        },
                        "type": "parcoords"
                      }
                    ],
                    "pie": [
                      {
                        "automargin": true,
                        "type": "pie"
                      }
                    ],
                    "scatter": [
                      {
                        "fillpattern": {
                          "fillmode": "overlay",
                          "size": 10,
                          "solidity": 0.2
                        },
                        "type": "scatter"
                      }
                    ],
                    "scatter3d": [
                      {
                        "line": {
                          "colorbar": {
                            "outlinewidth": 0,
                            "ticks": ""
                          }
                        },
                        "marker": {
                          "colorbar": {
                            "outlinewidth": 0,
                            "ticks": ""
                          }
                        },
                        "type": "scatter3d"
                      }
                    ],
                    "scattercarpet": [
                      {
                        "marker": {
                          "colorbar": {
                            "outlinewidth": 0,
                            "ticks": ""
                          }
                        },
                        "type": "scattercarpet"
                      }
                    ],
                    "scattergeo": [
                      {
                        "marker": {
                          "colorbar": {
                            "outlinewidth": 0,
                            "ticks": ""
                          }
                        },
                        "type": "scattergeo"
                      }
                    ],
                    "scattergl": [
                      {
                        "marker": {
                          "colorbar": {
                            "outlinewidth": 0,
                            "ticks": ""
                          }
                        },
                        "type": "scattergl"
                      }
                    ],
                    "scattermapbox": [
                      {
                        "marker": {
                          "colorbar": {
                            "outlinewidth": 0,
                            "ticks": ""
                          }
                        },
                        "type": "scattermapbox"
                      }
                    ],
                    "scatterpolar": [
                      {
                        "marker": {
                          "colorbar": {
                            "outlinewidth": 0,
                            "ticks": ""
                          }
                        },
                        "type": "scatterpolar"
                      }
                    ],
                    "scatterpolargl": [
                      {
                        "marker": {
                          "colorbar": {
                            "outlinewidth": 0,
                            "ticks": ""
                          }
                        },
                        "type": "scatterpolargl"
                      }
                    ],
                    "scatterternary": [
                      {
                        "marker": {
                          "colorbar": {
                            "outlinewidth": 0,
                            "ticks": ""
                          }
                        },
                        "type": "scatterternary"
                      }
                    ],
                    "surface": [
                      {
                        "colorbar": {
                          "outlinewidth": 0,
                          "ticks": ""
                        },
                        "colorscale": [
                          [
                            0,
                            "#0d0887"
                          ],
                          [
                            0.1111111111111111,
                            "#46039f"
                          ],
                          [
                            0.2222222222222222,
                            "#7201a8"
                          ],
                          [
                            0.3333333333333333,
                            "#9c179e"
                          ],
                          [
                            0.4444444444444444,
                            "#bd3786"
                          ],
                          [
                            0.5555555555555556,
                            "#d8576b"
                          ],
                          [
                            0.6666666666666666,
                            "#ed7953"
                          ],
                          [
                            0.7777777777777778,
                            "#fb9f3a"
                          ],
                          [
                            0.8888888888888888,
                            "#fdca26"
                          ],
                          [
                            1,
                            "#f0f921"
                          ]
                        ],
                        "type": "surface"
                      }
                    ],
                    "table": [
                      {
                        "cells": {
                          "fill": {
                            "color": "#EBF0F8"
                          },
                          "line": {
                            "color": "white"
                          }
                        },
                        "header": {
                          "fill": {
                            "color": "#C8D4E3"
                          },
                          "line": {
                            "color": "white"
                          }
                        },
                        "type": "table"
                      }
                    ]
                  },
                  "layout": {
                    "annotationdefaults": {
                      "arrowcolor": "#2a3f5f",
                      "arrowhead": 0,
                      "arrowwidth": 1
                    },
                    "autotypenumbers": "strict",
                    "coloraxis": {
                      "colorbar": {
                        "outlinewidth": 0,
                        "ticks": ""
                      }
                    },
                    "colorscale": {
                      "diverging": [
                        [
                          0,
                          "#8e0152"
                        ],
                        [
                          0.1,
                          "#c51b7d"
                        ],
                        [
                          0.2,
                          "#de77ae"
                        ],
                        [
                          0.3,
                          "#f1b6da"
                        ],
                        [
                          0.4,
                          "#fde0ef"
                        ],
                        [
                          0.5,
                          "#f7f7f7"
                        ],
                        [
                          0.6,
                          "#e6f5d0"
                        ],
                        [
                          0.7,
                          "#b8e186"
                        ],
                        [
                          0.8,
                          "#7fbc41"
                        ],
                        [
                          0.9,
                          "#4d9221"
                        ],
                        [
                          1,
                          "#276419"
                        ]
                      ],
                      "sequential": [
                        [
                          0,
                          "#0d0887"
                        ],
                        [
                          0.1111111111111111,
                          "#46039f"
                        ],
                        [
                          0.2222222222222222,
                          "#7201a8"
                        ],
                        [
                          0.3333333333333333,
                          "#9c179e"
                        ],
                        [
                          0.4444444444444444,
                          "#bd3786"
                        ],
                        [
                          0.5555555555555556,
                          "#d8576b"
                        ],
                        [
                          0.6666666666666666,
                          "#ed7953"
                        ],
                        [
                          0.7777777777777778,
                          "#fb9f3a"
                        ],
                        [
                          0.8888888888888888,
                          "#fdca26"
                        ],
                        [
                          1,
                          "#f0f921"
                        ]
                      ],
                      "sequentialminus": [
                        [
                          0,
                          "#0d0887"
                        ],
                        [
                          0.1111111111111111,
                          "#46039f"
                        ],
                        [
                          0.2222222222222222,
                          "#7201a8"
                        ],
                        [
                          0.3333333333333333,
                          "#9c179e"
                        ],
                        [
                          0.4444444444444444,
                          "#bd3786"
                        ],
                        [
                          0.5555555555555556,
                          "#d8576b"
                        ],
                        [
                          0.6666666666666666,
                          "#ed7953"
                        ],
                        [
                          0.7777777777777778,
                          "#fb9f3a"
                        ],
                        [
                          0.8888888888888888,
                          "#fdca26"
                        ],
                        [
                          1,
                          "#f0f921"
                        ]
                      ]
                    },
                    "colorway": [
                      "#636efa",
                      "#EF553B",
                      "#00cc96",
                      "#ab63fa",
                      "#FFA15A",
                      "#19d3f3",
                      "#FF6692",
                      "#B6E880",
                      "#FF97FF",
                      "#FECB52"
                    ],
                    "font": {
                      "color": "#2a3f5f"
                    },
                    "geo": {
                      "bgcolor": "white",
                      "lakecolor": "white",
                      "landcolor": "#E5ECF6",
                      "showlakes": true,
                      "showland": true,
                      "subunitcolor": "white"
                    },
                    "hoverlabel": {
                      "align": "left"
                    },
                    "hovermode": "closest",
                    "mapbox": {
                      "style": "light"
                    },
                    "paper_bgcolor": "white",
                    "plot_bgcolor": "#E5ECF6",
                    "polar": {
                      "angularaxis": {
                        "gridcolor": "white",
                        "linecolor": "white",
                        "ticks": ""
                      },
                      "bgcolor": "#E5ECF6",
                      "radialaxis": {
                        "gridcolor": "white",
                        "linecolor": "white",
                        "ticks": ""
                      }
                    },
                    "scene": {
                      "xaxis": {
                        "backgroundcolor": "#E5ECF6",
                        "gridcolor": "white",
                        "gridwidth": 2,
                        "linecolor": "white",
                        "showbackground": true,
                        "ticks": "",
                        "zerolinecolor": "white"
                      },
                      "yaxis": {
                        "backgroundcolor": "#E5ECF6",
                        "gridcolor": "white",
                        "gridwidth": 2,
                        "linecolor": "white",
                        "showbackground": true,
                        "ticks": "",
                        "zerolinecolor": "white"
                      },
                      "zaxis": {
                        "backgroundcolor": "#E5ECF6",
                        "gridcolor": "white",
                        "gridwidth": 2,
                        "linecolor": "white",
                        "showbackground": true,
                        "ticks": "",
                        "zerolinecolor": "white"
                      }
                    },
                    "shapedefaults": {
                      "line": {
                        "color": "#2a3f5f"
                      }
                    },
                    "ternary": {
                      "aaxis": {
                        "gridcolor": "white",
                        "linecolor": "white",
                        "ticks": ""
                      },
                      "baxis": {
                        "gridcolor": "white",
                        "linecolor": "white",
                        "ticks": ""
                      },
                      "bgcolor": "#E5ECF6",
                      "caxis": {
                        "gridcolor": "white",
                        "linecolor": "white",
                        "ticks": ""
                      }
                    },
                    "title": {
                      "x": 0.05
                    },
                    "xaxis": {
                      "automargin": true,
                      "gridcolor": "white",
                      "linecolor": "white",
                      "ticks": "",
                      "title": {
                        "standoff": 15
                      },
                      "zerolinecolor": "white",
                      "zerolinewidth": 2
                    },
                    "yaxis": {
                      "automargin": true,
                      "gridcolor": "white",
                      "linecolor": "white",
                      "ticks": "",
                      "title": {
                        "standoff": 15
                      },
                      "zerolinecolor": "white",
                      "zerolinewidth": 2
                    }
                  }
                },
                "title": {
                  "text": "Patching output of attention heads (corrupted -> clean)"
                },
                "width": 1500,
                "xaxis": {
                  "anchor": "y",
                  "constrain": "domain",
                  "domain": [
                    0,
                    0.18400000000000002
                  ],
                  "linecolor": "black",
                  "linewidth": 1,
                  "mirror": true,
                  "scaleanchor": "y",
                  "showline": true,
                  "title": {
                    "text": "Head"
                  }
                },
                "xaxis2": {
                  "anchor": "y2",
                  "domain": [
                    0.20400000000000001,
                    0.388
                  ],
                  "linecolor": "black",
                  "linewidth": 1,
                  "matches": "x",
                  "mirror": true,
                  "showline": true,
                  "title": {
                    "text": "Head"
                  }
                },
                "xaxis3": {
                  "anchor": "y3",
                  "domain": [
                    0.40800000000000003,
                    0.5920000000000001
                  ],
                  "linecolor": "black",
                  "linewidth": 1,
                  "matches": "x",
                  "mirror": true,
                  "showline": true,
                  "title": {
                    "text": "Head"
                  }
                },
                "xaxis4": {
                  "anchor": "y4",
                  "domain": [
                    0.6120000000000001,
                    0.7960000000000002
                  ],
                  "linecolor": "black",
                  "linewidth": 1,
                  "matches": "x",
                  "mirror": true,
                  "showline": true,
                  "title": {
                    "text": "Head"
                  }
                },
                "xaxis5": {
                  "anchor": "y5",
                  "domain": [
                    0.8160000000000001,
                    1
                  ],
                  "linecolor": "black",
                  "linewidth": 1,
                  "matches": "x",
                  "mirror": true,
                  "showline": true,
                  "title": {
                    "text": "Head"
                  }
                },
                "yaxis": {
                  "anchor": "x",
                  "autorange": "reversed",
                  "constrain": "domain",
                  "domain": [
                    0,
                    1
                  ],
                  "linecolor": "black",
                  "linewidth": 1,
                  "mirror": true,
                  "showline": true,
                  "title": {
                    "text": "Layer"
                  }
                },
                "yaxis2": {
                  "anchor": "x2",
                  "domain": [
                    0,
                    1
                  ],
                  "linecolor": "black",
                  "linewidth": 1,
                  "matches": "y",
                  "mirror": true,
                  "showline": true,
                  "showticklabels": false
                },
                "yaxis3": {
                  "anchor": "x3",
                  "domain": [
                    0,
                    1
                  ],
                  "linecolor": "black",
                  "linewidth": 1,
                  "matches": "y",
                  "mirror": true,
                  "showline": true,
                  "showticklabels": false
                },
                "yaxis4": {
                  "anchor": "x4",
                  "domain": [
                    0,
                    1
                  ],
                  "linecolor": "black",
                  "linewidth": 1,
                  "matches": "y",
                  "mirror": true,
                  "showline": true,
                  "showticklabels": false
                },
                "yaxis5": {
                  "anchor": "x5",
                  "domain": [
                    0,
                    1
                  ],
                  "linecolor": "black",
                  "linewidth": 1,
                  "matches": "y",
                  "mirror": true,
                  "showline": true,
                  "showticklabels": false
                }
              }
            }
          },
          "metadata": {},
          "output_type": "display_data"
        }
      ],
      "source": [
        "assert results.keys() == {\"z\", \"q\", \"k\", \"v\", \"pattern\"}\n",
        "assert all([r.shape == (12, 12) for r in results.values()])\n",
        "\n",
        "imshow_p(\n",
        "    torch.stack(tuple(results.values())) * 100,\n",
        "    facet_col=0,\n",
        "    facet_labels=[\"Output\", \"Query\", \"Key\", \"Value\", \"Pattern\"],\n",
        "    title=\"Patching output of attention heads (corrupted -> clean)\",\n",
        "    labels={\"x\": \"Head\", \"y\": \"Layer\", \"color\": \"Logit diff variation\"},\n",
        "    coloraxis=dict(colorbar_ticksuffix = \"%\"),\n",
        "    border=True,\n",
        "    width=1500,\n",
        "    margin={\"r\": 100, \"l\": 100}\n",
        ")"
      ]
    },
    {
      "attachments": {},
      "cell_type": "markdown",
      "metadata": {},
      "source": [
        "#### Residual Stream & Layer Outputs"
      ]
    },
    {
      "cell_type": "code",
      "execution_count": 43,
      "metadata": {},
      "outputs": [
        {
          "data": {
            "application/vnd.jupyter.widget-view+json": {
              "model_id": "0c880ee9ea3a499e960f837067930d74",
              "version_major": 2,
              "version_minor": 0
            },
            "text/plain": [
              "  0%|          | 0/684 [00:00<?, ?it/s]"
            ]
          },
          "metadata": {},
          "output_type": "display_data"
        },
        {
          "name": "stdout",
          "output_type": "stream",
          "text": [
            "results['resid_pre'].shape = (seq_pos=19, layer=12)\n",
            "results['attn_out'].shape = (seq_pos=19, layer=12)\n",
            "results['mlp_out'].shape = (seq_pos=19, layer=12)\n"
          ]
        }
      ],
      "source": [
        "# patching at each (layer, sequence position) for each of (resid_pre, attn_out, mlp_out) in turn\n",
        "\n",
        "results = act_patch(\n",
        "    model=model,\n",
        "    orig_input=corrupted_tokens,\n",
        "    new_cache=clean_cache,\n",
        "    patching_nodes=IterNode([\"resid_pre\", \"attn_out\", \"mlp_out\"], seq_pos=\"each\"),\n",
        "    patching_metric=logit_diff_denoising,\n",
        "    verbose=True,\n",
        ")"
      ]
    },
    {
      "cell_type": "code",
      "execution_count": 47,
      "metadata": {},
      "outputs": [
        {
          "data": {
            "application/vnd.plotly.v1+json": {
              "config": {
                "plotlyServerURL": "https://plot.ly"
              },
              "data": [
                {
                  "coloraxis": "coloraxis",
                  "hovertemplate": "Sequence position: %{x}<br>Layer: %{y}<br>Logit diff variation: %{z}<extra></extra>",
                  "name": "0",
                  "type": "heatmap",
                  "x": [
                    "<|endoftext|> 0",
                    "I 1",
                    " thought 2",
                    " this 3",
                    " movie 4",
                    " was 5",
                    " perfect 6",
                    ", 7",
                    " I 8",
                    " loved 9",
                    " it 10",
                    ". 11",
                    "  12",
                    "\n 13",
                    "Conclusion 14",
                    ": 15",
                    " This 16",
                    " movie 17",
                    " is 18"
                  ],
                  "xaxis": "x",
                  "yaxis": "y",
                  "z": [
                    [
                      0.18389859795570374,
                      0.18389859795570374,
                      0.18389859795570374,
                      0.18389859795570374,
                      0.18389859795570374,
                      0.18389859795570374,
                      76.17757415771484,
                      0.18389859795570374,
                      0.18389859795570374,
                      24.006315231323242,
                      0.18389859795570374,
                      0.18389859795570374,
                      0.18389859795570374,
                      0.18389859795570374,
                      0.18389859795570374,
                      0.18389859795570374,
                      0.18389859795570374,
                      0.18389859795570374,
                      0.18389859795570374
                    ],
                    [
                      0.18389859795570374,
                      0.18389859795570374,
                      0.18389859795570374,
                      0.18389859795570374,
                      0.18389859795570374,
                      0.18389859795570374,
                      75.34117126464844,
                      0.2542667090892792,
                      0.2088819444179535,
                      23.10329818725586,
                      0.2621164917945862,
                      0.42351120710372925,
                      0.093437559902668,
                      0.3764982223510742,
                      0.729555606842041,
                      0.24028678238391876,
                      0.19558186829090118,
                      0.364906370639801,
                      0.41115954518318176
                    ],
                    [
                      0.18389859795570374,
                      0.18389859795570374,
                      0.18389859795570374,
                      0.18389859795570374,
                      0.18389859795570374,
                      0.18389859795570374,
                      75.28349304199219,
                      0.24206353724002838,
                      0.18614384531974792,
                      23.01976776123047,
                      0.23746450245380402,
                      0.4291500449180603,
                      0.023463653400540352,
                      0.4262363612651825,
                      0.3419569134712219,
                      0.2531469464302063,
                      0.37310466170310974,
                      0.29948580265045166,
                      0.8668183088302612
                    ],
                    [
                      0.18389859795570374,
                      0.18389859795570374,
                      0.18389859795570374,
                      0.18389859795570374,
                      0.18389859795570374,
                      0.18389859795570374,
                      74.35818481445312,
                      0.320498526096344,
                      0.19959816336631775,
                      20.54486846923828,
                      0.5025004148483276,
                      0.5913617610931396,
                      -0.02646302431821823,
                      0.48708078265190125,
                      0.2092704176902771,
                      0.7044808864593506,
                      0.8062766790390015,
                      0.8151262998580933,
                      1.6775740385055542
                    ],
                    [
                      0.18389859795570374,
                      0.18389859795570374,
                      0.18389859795570374,
                      0.18389859795570374,
                      0.18389859795570374,
                      0.18389859795570374,
                      73.62140655517578,
                      0.5008835792541504,
                      0.1959017962217331,
                      15.819530487060547,
                      1.4980745315551758,
                      1.0899258852005005,
                      0.01070061419159174,
                      0.8029002547264099,
                      0.21736016869544983,
                      0.6899182796478271,
                      0.6948429346084595,
                      0.8642988204956055,
                      2.3998656272888184
                    ],
                    [
                      0.18389859795570374,
                      0.18389859795570374,
                      0.18389859795570374,
                      0.18389859795570374,
                      0.18389859795570374,
                      0.18389859795570374,
                      72.55699157714844,
                      0.7229970097541809,
                      0.1792881339788437,
                      12.68797779083252,
                      2.2412445545196533,
                      2.3001606464385986,
                      0.059233296662569046,
                      0.6472529172897339,
                      0.12766467034816742,
                      0.6746243238449097,
                      0.8351506590843201,
                      0.8963321447372437,
                      3.816042900085449
                    ],
                    [
                      0.18389859795570374,
                      0.18389859795570374,
                      0.18389859795570374,
                      0.18389859795570374,
                      0.18389859795570374,
                      0.18389859795570374,
                      70.78611755371094,
                      1.3083314895629883,
                      0.3537372946739197,
                      10.983278274536133,
                      3.2059881687164307,
                      2.948239326477051,
                      0.10192720592021942,
                      0.5434403419494629,
                      -0.1847955584526062,
                      0.27119457721710205,
                      0.7039096355438232,
                      1.061103343963623,
                      6.270299911499023
                    ],
                    [
                      0.18389859795570374,
                      0.18389859795570374,
                      0.18389859795570374,
                      0.18389859795570374,
                      0.18389859795570374,
                      0.18389859795570374,
                      61.7985954284668,
                      1.8986191749572754,
                      0.4811391830444336,
                      8.00007438659668,
                      3.5226047039031982,
                      3.960287094116211,
                      0.03466130420565605,
                      0.7385823130607605,
                      0.7404276728630066,
                      2.834291458129883,
                      1.6078972816467285,
                      3.0957226753234863,
                      11.202235221862793
                    ],
                    [
                      0.18389859795570374,
                      0.18389859795570374,
                      0.18389859795570374,
                      0.18389859795570374,
                      0.18389859795570374,
                      0.18389859795570374,
                      47.791542053222656,
                      0.9637351036071777,
                      0.5851516723632812,
                      7.974460124969482,
                      2.3544836044311523,
                      1.8861075639724731,
                      0.20545409619808197,
                      0.4934394359588623,
                      0.3998076021671295,
                      1.2035819292068481,
                      3.3314530849456787,
                      12.940207481384277,
                      20.60392951965332
                    ],
                    [
                      0.18389859795570374,
                      0.18389859795570374,
                      0.18389859795570374,
                      0.18389859795570374,
                      0.18389859795570374,
                      0.18389859795570374,
                      47.55698013305664,
                      0.9301536083221436,
                      0.6333415508270264,
                      6.987929344177246,
                      1.928333044052124,
                      1.5311076641082764,
                      0.2304316908121109,
                      0.33279311656951904,
                      0.3491325378417969,
                      0.9847878217697144,
                      1.1013519763946533,
                      6.969878673553467,
                      31.752161026000977
                    ],
                    [
                      0.18389859795570374,
                      0.18389859795570374,
                      0.18389859795570374,
                      0.18389859795570374,
                      0.18389859795570374,
                      0.18389859795570374,
                      36.1340446472168,
                      0.9731160402297974,
                      0.5902076959609985,
                      5.976790428161621,
                      1.2965339422225952,
                      0.7626572847366333,
                      0.21028734743595123,
                      0.2119898498058319,
                      0.22602690756320953,
                      0.5562891364097595,
                      0.7174096703529358,
                      1.9066404104232788,
                      52.45877456665039
                    ],
                    [
                      0.18389859795570374,
                      0.18389859795570374,
                      0.18389859795570374,
                      0.18389859795570374,
                      0.18389859795570374,
                      0.18389859795570374,
                      5.071739673614502,
                      0.5380643606185913,
                      0.4243682026863098,
                      0.8085219264030457,
                      0.47864824533462524,
                      0.5773532390594482,
                      0.2177143692970276,
                      0.21931403875350952,
                      0.22850066423416138,
                      0.6317018866539001,
                      0.6239949464797974,
                      1.5243548154830933,
                      90.81417083740234
                    ]
                  ]
                },
                {
                  "coloraxis": "coloraxis",
                  "hovertemplate": "Sequence position: %{x}<br>Layer: %{y}<br>Logit diff variation: %{z}<extra></extra>",
                  "name": "1",
                  "type": "heatmap",
                  "x": [
                    "<|endoftext|> 0",
                    "I 1",
                    " thought 2",
                    " this 3",
                    " movie 4",
                    " was 5",
                    " perfect 6",
                    ", 7",
                    " I 8",
                    " loved 9",
                    " it 10",
                    ". 11",
                    "  12",
                    "\n 13",
                    "Conclusion 14",
                    ": 15",
                    " This 16",
                    " movie 17",
                    " is 18"
                  ],
                  "xaxis": "x2",
                  "yaxis": "y2",
                  "z": [
                    [
                      0.18389859795570374,
                      0.18389859795570374,
                      0.18389859795570374,
                      0.18389859795570374,
                      0.18389859795570374,
                      0.18389859795570374,
                      6.213254928588867,
                      0.2542667090892792,
                      0.2088819444179535,
                      2.8834099769592285,
                      0.2621164917945862,
                      0.42351120710372925,
                      0.093437559902668,
                      0.3764982223510742,
                      0.729555606842041,
                      0.24028678238391876,
                      0.19558186829090118,
                      0.364906370639801,
                      0.41115954518318176
                    ],
                    [
                      0.18389859795570374,
                      0.18389859795570374,
                      0.18389859795570374,
                      0.18389859795570374,
                      0.18389859795570374,
                      0.18389859795570374,
                      0.0929519459605217,
                      0.2177143692970276,
                      0.21575477719306946,
                      0.22518709301948547,
                      0.1969015896320343,
                      0.2617279887199402,
                      0.1756831705570221,
                      0.2758164703845978,
                      -0.0545257106423378,
                      0.2274380475282669,
                      0.34551042318344116,
                      0.10599492490291595,
                      0.48968592286109924
                    ],
                    [
                      0.18389859795570374,
                      0.18389859795570374,
                      0.18389859795570374,
                      0.18389859795570374,
                      0.18389859795570374,
                      0.18389859795570374,
                      0.3333815634250641,
                      0.3198300898075104,
                      0.18549256026744843,
                      0.24427452683448792,
                      0.41817519068717957,
                      0.3388318419456482,
                      0.06506635993719101,
                      0.36994531750679016,
                      -0.10689759254455566,
                      0.6129229664802551,
                      0.5996514558792114,
                      0.6098893284797668,
                      0.9789491295814514
                    ],
                    [
                      0.18389859795570374,
                      0.18389859795570374,
                      0.18389859795570374,
                      0.18389859795570374,
                      0.18389859795570374,
                      0.18389859795570374,
                      0.40457233786582947,
                      0.3884100019931793,
                      0.15432193875312805,
                      0.2864428162574768,
                      0.8962406516075134,
                      0.3484984040260315,
                      0.18362437188625336,
                      0.4367656111717224,
                      0.2178400456905365,
                      0.16954731941223145,
                      0.19867263734340668,
                      0.1526365727186203,
                      0.9007940292358398
                    ],
                    [
                      0.18389859795570374,
                      0.18389859795570374,
                      0.18389859795570374,
                      0.18389859795570374,
                      0.18389859795570374,
                      0.18389859795570374,
                      0.3771609365940094,
                      0.2219706028699875,
                      0.1720382273197174,
                      0.22465577721595764,
                      0.26004263758659363,
                      0.22235339879989624,
                      0.1821618229150772,
                      0.2179657369852066,
                      0.03671801835298538,
                      0.2800670266151428,
                      0.2795242667198181,
                      0.28680846095085144,
                      1.3953989744186401
                    ],
                    [
                      0.18389859795570374,
                      0.18389859795570374,
                      0.18389859795570374,
                      0.18389859795570374,
                      0.18389859795570374,
                      0.18389859795570374,
                      -0.4376339614391327,
                      0.06275827437639236,
                      0.20591683685779572,
                      -0.33055928349494934,
                      0.5073050856590271,
                      -0.03540971875190735,
                      0.1616346836090088,
                      0.06003884598612785,
                      -0.14595797657966614,
                      0.018293308094143867,
                      0.017510615289211273,
                      0.5337910056114197,
                      2.3125123977661133
                    ],
                    [
                      0.18389859795570374,
                      0.18389859795570374,
                      0.18389859795570374,
                      0.18389859795570374,
                      0.18389859795570374,
                      0.18389859795570374,
                      0.008860999718308449,
                      0.8214106559753418,
                      0.33731216192245483,
                      -0.20795071125030518,
                      0.6738987565040588,
                      1.7074307203292847,
                      0.12419110536575317,
                      0.437348335981369,
                      0.6055816411972046,
                      2.289522886276245,
                      0.9516291618347168,
                      2.019359588623047,
                      4.582108020782471
                    ],
                    [
                      0.18389859795570374,
                      0.18389859795570374,
                      0.18389859795570374,
                      0.18389859795570374,
                      0.18389859795570374,
                      0.18389859795570374,
                      0.2856372594833374,
                      0.2379215508699417,
                      0.22398734092712402,
                      0.1758774220943451,
                      0.33599814772605896,
                      0.20508845150470734,
                      0.1758088618516922,
                      0.18612098693847656,
                      0.077435202896595,
                      -0.05635390430688858,
                      2.1945972442626953,
                      10.097075462341309,
                      8.977609634399414
                    ],
                    [
                      0.18389859795570374,
                      0.18389859795570374,
                      0.18389859795570374,
                      0.18389859795570374,
                      0.18389859795570374,
                      0.18389859795570374,
                      0.7543675899505615,
                      0.24763379991054535,
                      0.32856541872024536,
                      0.18980592489242554,
                      0.41961488127708435,
                      0.4280817210674286,
                      0.18737216293811798,
                      0.21483497321605682,
                      0.22813503444194794,
                      0.32691434025764465,
                      0.28033551573753357,
                      0.6473671793937683,
                      10.131987571716309
                    ],
                    [
                      0.18389859795570374,
                      0.18389859795570374,
                      0.18389859795570374,
                      0.18389859795570374,
                      0.18389859795570374,
                      0.18389859795570374,
                      -0.17574602365493774,
                      0.35116639733314514,
                      0.29397836327552795,
                      0.30429622530937195,
                      0.2958865463733673,
                      0.20617392659187317,
                      0.18558967113494873,
                      0.20276892185211182,
                      0.19558756053447723,
                      0.3341185450553894,
                      0.2998685836791992,
                      0.3542971611022949,
                      19.4841251373291
                    ],
                    [
                      0.18389859795570374,
                      0.18389859795570374,
                      0.18389859795570374,
                      0.18389859795570374,
                      0.18389859795570374,
                      0.18389859795570374,
                      0.2777474820613861,
                      0.30873531103134155,
                      0.2032259702682495,
                      0.25424957275390625,
                      0.2621621787548065,
                      0.2698748707771301,
                      0.19569040834903717,
                      0.2036544531583786,
                      0.19441068172454834,
                      0.35940468311309814,
                      0.3621583878993988,
                      0.8450000286102295,
                      37.074588775634766
                    ],
                    [
                      0.18389859795570374,
                      0.18389859795570374,
                      0.18389859795570374,
                      0.18389859795570374,
                      0.18389859795570374,
                      0.18389859795570374,
                      0.18389859795570374,
                      0.18389859795570374,
                      0.18389859795570374,
                      0.18389859795570374,
                      0.18389859795570374,
                      0.18389859795570374,
                      0.18389859795570374,
                      0.18389859795570374,
                      0.18389859795570374,
                      0.18389859795570374,
                      0.18389859795570374,
                      0.18389859795570374,
                      10.514510154724121
                    ]
                  ]
                },
                {
                  "coloraxis": "coloraxis",
                  "hovertemplate": "Sequence position: %{x}<br>Layer: %{y}<br>Logit diff variation: %{z}<extra></extra>",
                  "name": "2",
                  "type": "heatmap",
                  "x": [
                    "<|endoftext|> 0",
                    "I 1",
                    " thought 2",
                    " this 3",
                    " movie 4",
                    " was 5",
                    " perfect 6",
                    ", 7",
                    " I 8",
                    " loved 9",
                    " it 10",
                    ". 11",
                    "  12",
                    "\n 13",
                    "Conclusion 14",
                    ": 15",
                    " This 16",
                    " movie 17",
                    " is 18"
                  ],
                  "xaxis": "x3",
                  "yaxis": "y3",
                  "z": [
                    [
                      0.18389859795570374,
                      0.18389859795570374,
                      0.18389859795570374,
                      0.18389859795570374,
                      0.18389859795570374,
                      0.18389859795570374,
                      69.20074462890625,
                      0.20681950449943542,
                      0.18492695689201355,
                      16.175983428955078,
                      0.2236902415752411,
                      0.385370671749115,
                      0.07573269307613373,
                      0.3311534523963928,
                      0.7214887738227844,
                      0.2564205229282379,
                      0.11865513026714325,
                      0.24729673564434052,
                      0.23867569863796234
                    ],
                    [
                      0.18389859795570374,
                      0.18389859795570374,
                      0.18389859795570374,
                      0.18389859795570374,
                      0.18389859795570374,
                      0.18389859795570374,
                      4.045634746551514,
                      0.1999237984418869,
                      0.14214734733104706,
                      0.6577935814857483,
                      0.18213896453380585,
                      0.08463940769433975,
                      0.18716077506542206,
                      0.11893507093191147,
                      0.22579266130924225,
                      0.09018109738826752,
                      0.014442686922848225,
                      -0.1294528692960739,
                      -0.29153889417648315
                    ],
                    [
                      0.18389859795570374,
                      0.18389859795570374,
                      0.18389859795570374,
                      0.18389859795570374,
                      0.18389859795570374,
                      0.18389859795570374,
                      -0.6540286540985107,
                      0.25592920184135437,
                      0.14031344652175903,
                      -0.16709640622138977,
                      0.18695510923862457,
                      0.3491782248020172,
                      0.04647026211023331,
                      0.1691531091928482,
                      -0.08070880174636841,
                      0.1445811241865158,
                      0.2953895032405853,
                      0.34269386529922485,
                      -0.3061358332633972
                    ],
                    [
                      0.18389859795570374,
                      0.18389859795570374,
                      0.18389859795570374,
                      0.18389859795570374,
                      0.18389859795570374,
                      0.18389859795570374,
                      4.360297679901123,
                      0.14122183620929718,
                      0.12600786983966827,
                      1.231758952140808,
                      0.2420121282339096,
                      -0.32830262184143066,
                      0.17867682874202728,
                      0.476008802652359,
                      0.27756467461586,
                      0.6292737722396851,
                      0.40466949343681335,
                      0.35074934363365173,
                      0.15756697952747345
                    ],
                    [
                      0.18389859795570374,
                      0.18389859795570374,
                      0.18389859795570374,
                      0.18389859795570374,
                      0.18389859795570374,
                      0.18389859795570374,
                      1.0433926582336426,
                      0.3956770598888397,
                      0.1852811723947525,
                      0.20366588234901428,
                      0.3408257067203522,
                      0.2164689153432846,
                      0.19808991253376007,
                      0.2032373994588852,
                      -0.06502065807580948,
                      0.2290034145116806,
                      0.3648892343044281,
                      -0.2643960118293762,
                      -0.017036428675055504
                    ],
                    [
                      0.18389859795570374,
                      0.18389859795570374,
                      0.18389859795570374,
                      0.18389859795570374,
                      0.18389859795570374,
                      0.18389859795570374,
                      6.365243434906006,
                      0.5292719006538391,
                      0.3059930205345154,
                      1.2124601602554321,
                      0.8714174032211304,
                      1.4128295183181763,
                      0.3083410859107971,
                      0.333227276802063,
                      0.012540229596197605,
                      -0.05550265312194824,
                      -0.22812362015247345,
                      -0.6060901284217834,
                      -0.3886728286743164
                    ],
                    [
                      0.18389859795570374,
                      0.18389859795570374,
                      0.18389859795570374,
                      0.18389859795570374,
                      0.18389859795570374,
                      0.18389859795570374,
                      2.3132779598236084,
                      0.6239835023880005,
                      0.3057473301887512,
                      0.6794975399971008,
                      0.35898762941360474,
                      1.6001731157302856,
                      0.21564052999019623,
                      0.3734988570213318,
                      0.4334634244441986,
                      2.162855386734009,
                      0.514892041683197,
                      -1.9204374551773071,
                      0.7778369784355164
                    ],
                    [
                      0.18389859795570374,
                      0.18389859795570374,
                      0.18389859795570374,
                      0.18389859795570374,
                      0.18389859795570374,
                      0.18389859795570374,
                      0.5605168342590332,
                      0.25147873163223267,
                      0.23561348021030426,
                      -0.2855115830898285,
                      0.2000780552625656,
                      0.09281483292579651,
                      0.09871645271778107,
                      0.26925212144851685,
                      0.5274379849433899,
                      0.6707451343536377,
                      1.427717924118042,
                      1.5553768873214722,
                      3.237046957015991
                    ],
                    [
                      0.18389859795570374,
                      0.18389859795570374,
                      0.18389859795570374,
                      0.18389859795570374,
                      0.18389859795570374,
                      0.18389859795570374,
                      -0.20688806474208832,
                      0.3760126233100891,
                      0.32148119807243347,
                      0.43265217542648315,
                      0.1593208909034729,
                      0.1642855703830719,
                      0.18263600766658783,
                      0.17752279341220856,
                      0.23473936319351196,
                      0.49327945709228516,
                      0.2603168487548828,
                      1.9475747346878052,
                      7.788333415985107
                    ],
                    [
                      0.18389859795570374,
                      0.18389859795570374,
                      0.18389859795570374,
                      0.18389859795570374,
                      0.18389859795570374,
                      0.18389859795570374,
                      2.0472793579101562,
                      0.23981830477714539,
                      0.20587684214115143,
                      0.5256898403167725,
                      0.2916817367076874,
                      0.2184627801179886,
                      0.15596731007099152,
                      0.1248195543885231,
                      0.18117345869541168,
                      0.24036677181720734,
                      0.22290755808353424,
                      0.16219457983970642,
                      7.280016899108887
                    ],
                    [
                      0.18389859795570374,
                      0.18389859795570374,
                      0.18389859795570374,
                      0.18389859795570374,
                      0.18389859795570374,
                      0.18389859795570374,
                      0.041734110563993454,
                      0.0747728943824768,
                      0.1831444650888443,
                      0.09164364635944366,
                      0.06350097805261612,
                      0.1956389993429184,
                      0.21482354402542114,
                      0.22051948308944702,
                      0.18766924738883972,
                      0.21612614393234253,
                      0.21768580377101898,
                      0.24683968722820282,
                      9.610566139221191
                    ],
                    [
                      0.18389859795570374,
                      0.18389859795570374,
                      0.18389859795570374,
                      0.18389859795570374,
                      0.18389859795570374,
                      0.18389859795570374,
                      0.18389859795570374,
                      0.18389859795570374,
                      0.18389859795570374,
                      0.18389859795570374,
                      0.18389859795570374,
                      0.18389859795570374,
                      0.18389859795570374,
                      0.18389859795570374,
                      0.18389859795570374,
                      0.18389859795570374,
                      0.18389859795570374,
                      0.18389859795570374,
                      -0.23587627708911896
                    ]
                  ]
                }
              ],
              "layout": {
                "annotations": [
                  {
                    "font": {},
                    "showarrow": false,
                    "text": "resid_pre",
                    "x": 0.15999999999999998,
                    "xanchor": "center",
                    "xref": "paper",
                    "y": 1,
                    "yanchor": "bottom",
                    "yref": "paper"
                  },
                  {
                    "font": {},
                    "showarrow": false,
                    "text": "attn_out",
                    "x": 0.49999999999999994,
                    "xanchor": "center",
                    "xref": "paper",
                    "y": 1,
                    "yanchor": "bottom",
                    "yref": "paper"
                  },
                  {
                    "font": {},
                    "showarrow": false,
                    "text": "mlp_out",
                    "x": 0.8399999999999999,
                    "xanchor": "center",
                    "xref": "paper",
                    "y": 1,
                    "yanchor": "bottom",
                    "yref": "paper"
                  }
                ],
                "coloraxis": {
                  "cmid": 0,
                  "colorbar": {
                    "ticksuffix": "%",
                    "title": {
                      "text": "Logit diff variation"
                    }
                  },
                  "colorscale": [
                    [
                      0,
                      "rgb(103,0,31)"
                    ],
                    [
                      0.1,
                      "rgb(178,24,43)"
                    ],
                    [
                      0.2,
                      "rgb(214,96,77)"
                    ],
                    [
                      0.3,
                      "rgb(244,165,130)"
                    ],
                    [
                      0.4,
                      "rgb(253,219,199)"
                    ],
                    [
                      0.5,
                      "rgb(247,247,247)"
                    ],
                    [
                      0.6,
                      "rgb(209,229,240)"
                    ],
                    [
                      0.7,
                      "rgb(146,197,222)"
                    ],
                    [
                      0.8,
                      "rgb(67,147,195)"
                    ],
                    [
                      0.9,
                      "rgb(33,102,172)"
                    ],
                    [
                      1,
                      "rgb(5,48,97)"
                    ]
                  ]
                },
                "margin": {
                  "l": 100,
                  "r": 100
                },
                "template": {
                  "data": {
                    "bar": [
                      {
                        "error_x": {
                          "color": "#2a3f5f"
                        },
                        "error_y": {
                          "color": "#2a3f5f"
                        },
                        "marker": {
                          "line": {
                            "color": "#E5ECF6",
                            "width": 0.5
                          },
                          "pattern": {
                            "fillmode": "overlay",
                            "size": 10,
                            "solidity": 0.2
                          }
                        },
                        "type": "bar"
                      }
                    ],
                    "barpolar": [
                      {
                        "marker": {
                          "line": {
                            "color": "#E5ECF6",
                            "width": 0.5
                          },
                          "pattern": {
                            "fillmode": "overlay",
                            "size": 10,
                            "solidity": 0.2
                          }
                        },
                        "type": "barpolar"
                      }
                    ],
                    "carpet": [
                      {
                        "aaxis": {
                          "endlinecolor": "#2a3f5f",
                          "gridcolor": "white",
                          "linecolor": "white",
                          "minorgridcolor": "white",
                          "startlinecolor": "#2a3f5f"
                        },
                        "baxis": {
                          "endlinecolor": "#2a3f5f",
                          "gridcolor": "white",
                          "linecolor": "white",
                          "minorgridcolor": "white",
                          "startlinecolor": "#2a3f5f"
                        },
                        "type": "carpet"
                      }
                    ],
                    "choropleth": [
                      {
                        "colorbar": {
                          "outlinewidth": 0,
                          "ticks": ""
                        },
                        "type": "choropleth"
                      }
                    ],
                    "contour": [
                      {
                        "colorbar": {
                          "outlinewidth": 0,
                          "ticks": ""
                        },
                        "colorscale": [
                          [
                            0,
                            "#0d0887"
                          ],
                          [
                            0.1111111111111111,
                            "#46039f"
                          ],
                          [
                            0.2222222222222222,
                            "#7201a8"
                          ],
                          [
                            0.3333333333333333,
                            "#9c179e"
                          ],
                          [
                            0.4444444444444444,
                            "#bd3786"
                          ],
                          [
                            0.5555555555555556,
                            "#d8576b"
                          ],
                          [
                            0.6666666666666666,
                            "#ed7953"
                          ],
                          [
                            0.7777777777777778,
                            "#fb9f3a"
                          ],
                          [
                            0.8888888888888888,
                            "#fdca26"
                          ],
                          [
                            1,
                            "#f0f921"
                          ]
                        ],
                        "type": "contour"
                      }
                    ],
                    "contourcarpet": [
                      {
                        "colorbar": {
                          "outlinewidth": 0,
                          "ticks": ""
                        },
                        "type": "contourcarpet"
                      }
                    ],
                    "heatmap": [
                      {
                        "colorbar": {
                          "outlinewidth": 0,
                          "ticks": ""
                        },
                        "colorscale": [
                          [
                            0,
                            "#0d0887"
                          ],
                          [
                            0.1111111111111111,
                            "#46039f"
                          ],
                          [
                            0.2222222222222222,
                            "#7201a8"
                          ],
                          [
                            0.3333333333333333,
                            "#9c179e"
                          ],
                          [
                            0.4444444444444444,
                            "#bd3786"
                          ],
                          [
                            0.5555555555555556,
                            "#d8576b"
                          ],
                          [
                            0.6666666666666666,
                            "#ed7953"
                          ],
                          [
                            0.7777777777777778,
                            "#fb9f3a"
                          ],
                          [
                            0.8888888888888888,
                            "#fdca26"
                          ],
                          [
                            1,
                            "#f0f921"
                          ]
                        ],
                        "type": "heatmap"
                      }
                    ],
                    "heatmapgl": [
                      {
                        "colorbar": {
                          "outlinewidth": 0,
                          "ticks": ""
                        },
                        "colorscale": [
                          [
                            0,
                            "#0d0887"
                          ],
                          [
                            0.1111111111111111,
                            "#46039f"
                          ],
                          [
                            0.2222222222222222,
                            "#7201a8"
                          ],
                          [
                            0.3333333333333333,
                            "#9c179e"
                          ],
                          [
                            0.4444444444444444,
                            "#bd3786"
                          ],
                          [
                            0.5555555555555556,
                            "#d8576b"
                          ],
                          [
                            0.6666666666666666,
                            "#ed7953"
                          ],
                          [
                            0.7777777777777778,
                            "#fb9f3a"
                          ],
                          [
                            0.8888888888888888,
                            "#fdca26"
                          ],
                          [
                            1,
                            "#f0f921"
                          ]
                        ],
                        "type": "heatmapgl"
                      }
                    ],
                    "histogram": [
                      {
                        "marker": {
                          "pattern": {
                            "fillmode": "overlay",
                            "size": 10,
                            "solidity": 0.2
                          }
                        },
                        "type": "histogram"
                      }
                    ],
                    "histogram2d": [
                      {
                        "colorbar": {
                          "outlinewidth": 0,
                          "ticks": ""
                        },
                        "colorscale": [
                          [
                            0,
                            "#0d0887"
                          ],
                          [
                            0.1111111111111111,
                            "#46039f"
                          ],
                          [
                            0.2222222222222222,
                            "#7201a8"
                          ],
                          [
                            0.3333333333333333,
                            "#9c179e"
                          ],
                          [
                            0.4444444444444444,
                            "#bd3786"
                          ],
                          [
                            0.5555555555555556,
                            "#d8576b"
                          ],
                          [
                            0.6666666666666666,
                            "#ed7953"
                          ],
                          [
                            0.7777777777777778,
                            "#fb9f3a"
                          ],
                          [
                            0.8888888888888888,
                            "#fdca26"
                          ],
                          [
                            1,
                            "#f0f921"
                          ]
                        ],
                        "type": "histogram2d"
                      }
                    ],
                    "histogram2dcontour": [
                      {
                        "colorbar": {
                          "outlinewidth": 0,
                          "ticks": ""
                        },
                        "colorscale": [
                          [
                            0,
                            "#0d0887"
                          ],
                          [
                            0.1111111111111111,
                            "#46039f"
                          ],
                          [
                            0.2222222222222222,
                            "#7201a8"
                          ],
                          [
                            0.3333333333333333,
                            "#9c179e"
                          ],
                          [
                            0.4444444444444444,
                            "#bd3786"
                          ],
                          [
                            0.5555555555555556,
                            "#d8576b"
                          ],
                          [
                            0.6666666666666666,
                            "#ed7953"
                          ],
                          [
                            0.7777777777777778,
                            "#fb9f3a"
                          ],
                          [
                            0.8888888888888888,
                            "#fdca26"
                          ],
                          [
                            1,
                            "#f0f921"
                          ]
                        ],
                        "type": "histogram2dcontour"
                      }
                    ],
                    "mesh3d": [
                      {
                        "colorbar": {
                          "outlinewidth": 0,
                          "ticks": ""
                        },
                        "type": "mesh3d"
                      }
                    ],
                    "parcoords": [
                      {
                        "line": {
                          "colorbar": {
                            "outlinewidth": 0,
                            "ticks": ""
                          }
                        },
                        "type": "parcoords"
                      }
                    ],
                    "pie": [
                      {
                        "automargin": true,
                        "type": "pie"
                      }
                    ],
                    "scatter": [
                      {
                        "fillpattern": {
                          "fillmode": "overlay",
                          "size": 10,
                          "solidity": 0.2
                        },
                        "type": "scatter"
                      }
                    ],
                    "scatter3d": [
                      {
                        "line": {
                          "colorbar": {
                            "outlinewidth": 0,
                            "ticks": ""
                          }
                        },
                        "marker": {
                          "colorbar": {
                            "outlinewidth": 0,
                            "ticks": ""
                          }
                        },
                        "type": "scatter3d"
                      }
                    ],
                    "scattercarpet": [
                      {
                        "marker": {
                          "colorbar": {
                            "outlinewidth": 0,
                            "ticks": ""
                          }
                        },
                        "type": "scattercarpet"
                      }
                    ],
                    "scattergeo": [
                      {
                        "marker": {
                          "colorbar": {
                            "outlinewidth": 0,
                            "ticks": ""
                          }
                        },
                        "type": "scattergeo"
                      }
                    ],
                    "scattergl": [
                      {
                        "marker": {
                          "colorbar": {
                            "outlinewidth": 0,
                            "ticks": ""
                          }
                        },
                        "type": "scattergl"
                      }
                    ],
                    "scattermapbox": [
                      {
                        "marker": {
                          "colorbar": {
                            "outlinewidth": 0,
                            "ticks": ""
                          }
                        },
                        "type": "scattermapbox"
                      }
                    ],
                    "scatterpolar": [
                      {
                        "marker": {
                          "colorbar": {
                            "outlinewidth": 0,
                            "ticks": ""
                          }
                        },
                        "type": "scatterpolar"
                      }
                    ],
                    "scatterpolargl": [
                      {
                        "marker": {
                          "colorbar": {
                            "outlinewidth": 0,
                            "ticks": ""
                          }
                        },
                        "type": "scatterpolargl"
                      }
                    ],
                    "scatterternary": [
                      {
                        "marker": {
                          "colorbar": {
                            "outlinewidth": 0,
                            "ticks": ""
                          }
                        },
                        "type": "scatterternary"
                      }
                    ],
                    "surface": [
                      {
                        "colorbar": {
                          "outlinewidth": 0,
                          "ticks": ""
                        },
                        "colorscale": [
                          [
                            0,
                            "#0d0887"
                          ],
                          [
                            0.1111111111111111,
                            "#46039f"
                          ],
                          [
                            0.2222222222222222,
                            "#7201a8"
                          ],
                          [
                            0.3333333333333333,
                            "#9c179e"
                          ],
                          [
                            0.4444444444444444,
                            "#bd3786"
                          ],
                          [
                            0.5555555555555556,
                            "#d8576b"
                          ],
                          [
                            0.6666666666666666,
                            "#ed7953"
                          ],
                          [
                            0.7777777777777778,
                            "#fb9f3a"
                          ],
                          [
                            0.8888888888888888,
                            "#fdca26"
                          ],
                          [
                            1,
                            "#f0f921"
                          ]
                        ],
                        "type": "surface"
                      }
                    ],
                    "table": [
                      {
                        "cells": {
                          "fill": {
                            "color": "#EBF0F8"
                          },
                          "line": {
                            "color": "white"
                          }
                        },
                        "header": {
                          "fill": {
                            "color": "#C8D4E3"
                          },
                          "line": {
                            "color": "white"
                          }
                        },
                        "type": "table"
                      }
                    ]
                  },
                  "layout": {
                    "annotationdefaults": {
                      "arrowcolor": "#2a3f5f",
                      "arrowhead": 0,
                      "arrowwidth": 1
                    },
                    "autotypenumbers": "strict",
                    "coloraxis": {
                      "colorbar": {
                        "outlinewidth": 0,
                        "ticks": ""
                      }
                    },
                    "colorscale": {
                      "diverging": [
                        [
                          0,
                          "#8e0152"
                        ],
                        [
                          0.1,
                          "#c51b7d"
                        ],
                        [
                          0.2,
                          "#de77ae"
                        ],
                        [
                          0.3,
                          "#f1b6da"
                        ],
                        [
                          0.4,
                          "#fde0ef"
                        ],
                        [
                          0.5,
                          "#f7f7f7"
                        ],
                        [
                          0.6,
                          "#e6f5d0"
                        ],
                        [
                          0.7,
                          "#b8e186"
                        ],
                        [
                          0.8,
                          "#7fbc41"
                        ],
                        [
                          0.9,
                          "#4d9221"
                        ],
                        [
                          1,
                          "#276419"
                        ]
                      ],
                      "sequential": [
                        [
                          0,
                          "#0d0887"
                        ],
                        [
                          0.1111111111111111,
                          "#46039f"
                        ],
                        [
                          0.2222222222222222,
                          "#7201a8"
                        ],
                        [
                          0.3333333333333333,
                          "#9c179e"
                        ],
                        [
                          0.4444444444444444,
                          "#bd3786"
                        ],
                        [
                          0.5555555555555556,
                          "#d8576b"
                        ],
                        [
                          0.6666666666666666,
                          "#ed7953"
                        ],
                        [
                          0.7777777777777778,
                          "#fb9f3a"
                        ],
                        [
                          0.8888888888888888,
                          "#fdca26"
                        ],
                        [
                          1,
                          "#f0f921"
                        ]
                      ],
                      "sequentialminus": [
                        [
                          0,
                          "#0d0887"
                        ],
                        [
                          0.1111111111111111,
                          "#46039f"
                        ],
                        [
                          0.2222222222222222,
                          "#7201a8"
                        ],
                        [
                          0.3333333333333333,
                          "#9c179e"
                        ],
                        [
                          0.4444444444444444,
                          "#bd3786"
                        ],
                        [
                          0.5555555555555556,
                          "#d8576b"
                        ],
                        [
                          0.6666666666666666,
                          "#ed7953"
                        ],
                        [
                          0.7777777777777778,
                          "#fb9f3a"
                        ],
                        [
                          0.8888888888888888,
                          "#fdca26"
                        ],
                        [
                          1,
                          "#f0f921"
                        ]
                      ]
                    },
                    "colorway": [
                      "#636efa",
                      "#EF553B",
                      "#00cc96",
                      "#ab63fa",
                      "#FFA15A",
                      "#19d3f3",
                      "#FF6692",
                      "#B6E880",
                      "#FF97FF",
                      "#FECB52"
                    ],
                    "font": {
                      "color": "#2a3f5f"
                    },
                    "geo": {
                      "bgcolor": "white",
                      "lakecolor": "white",
                      "landcolor": "#E5ECF6",
                      "showlakes": true,
                      "showland": true,
                      "subunitcolor": "white"
                    },
                    "hoverlabel": {
                      "align": "left"
                    },
                    "hovermode": "closest",
                    "mapbox": {
                      "style": "light"
                    },
                    "paper_bgcolor": "white",
                    "plot_bgcolor": "#E5ECF6",
                    "polar": {
                      "angularaxis": {
                        "gridcolor": "white",
                        "linecolor": "white",
                        "ticks": ""
                      },
                      "bgcolor": "#E5ECF6",
                      "radialaxis": {
                        "gridcolor": "white",
                        "linecolor": "white",
                        "ticks": ""
                      }
                    },
                    "scene": {
                      "xaxis": {
                        "backgroundcolor": "#E5ECF6",
                        "gridcolor": "white",
                        "gridwidth": 2,
                        "linecolor": "white",
                        "showbackground": true,
                        "ticks": "",
                        "zerolinecolor": "white"
                      },
                      "yaxis": {
                        "backgroundcolor": "#E5ECF6",
                        "gridcolor": "white",
                        "gridwidth": 2,
                        "linecolor": "white",
                        "showbackground": true,
                        "ticks": "",
                        "zerolinecolor": "white"
                      },
                      "zaxis": {
                        "backgroundcolor": "#E5ECF6",
                        "gridcolor": "white",
                        "gridwidth": 2,
                        "linecolor": "white",
                        "showbackground": true,
                        "ticks": "",
                        "zerolinecolor": "white"
                      }
                    },
                    "shapedefaults": {
                      "line": {
                        "color": "#2a3f5f"
                      }
                    },
                    "ternary": {
                      "aaxis": {
                        "gridcolor": "white",
                        "linecolor": "white",
                        "ticks": ""
                      },
                      "baxis": {
                        "gridcolor": "white",
                        "linecolor": "white",
                        "ticks": ""
                      },
                      "bgcolor": "#E5ECF6",
                      "caxis": {
                        "gridcolor": "white",
                        "linecolor": "white",
                        "ticks": ""
                      }
                    },
                    "title": {
                      "x": 0.05
                    },
                    "xaxis": {
                      "automargin": true,
                      "gridcolor": "white",
                      "linecolor": "white",
                      "ticks": "",
                      "title": {
                        "standoff": 15
                      },
                      "zerolinecolor": "white",
                      "zerolinewidth": 2
                    },
                    "yaxis": {
                      "automargin": true,
                      "gridcolor": "white",
                      "linecolor": "white",
                      "ticks": "",
                      "title": {
                        "standoff": 15
                      },
                      "zerolinecolor": "white",
                      "zerolinewidth": 2
                    }
                  }
                },
                "title": {
                  "text": "Patching at resid stream & layer outputs (corrupted -> clean)"
                },
                "width": 1300,
                "xaxis": {
                  "anchor": "y",
                  "constrain": "domain",
                  "domain": [
                    0,
                    0.31999999999999995
                  ],
                  "linecolor": "black",
                  "linewidth": 1,
                  "mirror": true,
                  "scaleanchor": "y",
                  "showline": true,
                  "tickangle": 45,
                  "title": {
                    "text": "Sequence position"
                  }
                },
                "xaxis2": {
                  "anchor": "y2",
                  "domain": [
                    0.33999999999999997,
                    0.6599999999999999
                  ],
                  "linecolor": "black",
                  "linewidth": 1,
                  "matches": "x",
                  "mirror": true,
                  "showline": true,
                  "tickangle": 45,
                  "title": {
                    "text": "Sequence position"
                  }
                },
                "xaxis3": {
                  "anchor": "y3",
                  "domain": [
                    0.6799999999999999,
                    0.9999999999999999
                  ],
                  "linecolor": "black",
                  "linewidth": 1,
                  "matches": "x",
                  "mirror": true,
                  "showline": true,
                  "tickangle": 45,
                  "title": {
                    "text": "Sequence position"
                  }
                },
                "yaxis": {
                  "anchor": "x",
                  "autorange": "reversed",
                  "constrain": "domain",
                  "domain": [
                    0,
                    1
                  ],
                  "linecolor": "black",
                  "linewidth": 1,
                  "mirror": true,
                  "showline": true,
                  "title": {
                    "text": "Layer"
                  }
                },
                "yaxis2": {
                  "anchor": "x2",
                  "domain": [
                    0,
                    1
                  ],
                  "linecolor": "black",
                  "linewidth": 1,
                  "matches": "y",
                  "mirror": true,
                  "showline": true,
                  "showticklabels": false
                },
                "yaxis3": {
                  "anchor": "x3",
                  "domain": [
                    0,
                    1
                  ],
                  "linecolor": "black",
                  "linewidth": 1,
                  "matches": "y",
                  "mirror": true,
                  "showline": true,
                  "showticklabels": false
                }
              }
            }
          },
          "metadata": {},
          "output_type": "display_data"
        }
      ],
      "source": [
        "assert results.keys() == {\"resid_pre\", \"attn_out\", \"mlp_out\"}\n",
        "labels = [f\"{tok} {i}\" for i, tok in enumerate(model.to_str_tokens(clean_tokens[0]))]\n",
        "imshow_p(\n",
        "    torch.stack([r.T for r in results.values()]) * 100, # we transpose so layer is on the y-axis\n",
        "    facet_col=0,\n",
        "    facet_labels=[\"resid_pre\", \"attn_out\", \"mlp_out\"],\n",
        "    title=\"Patching at resid stream & layer outputs (corrupted -> clean)\",\n",
        "    labels={\"x\": \"Sequence position\", \"y\": \"Layer\", \"color\": \"Logit diff variation\"},\n",
        "    x=labels,\n",
        "    xaxis_tickangle=45,\n",
        "    coloraxis=dict(colorbar_ticksuffix = \"%\"),\n",
        "    border=True,\n",
        "    width=1300,\n",
        "    margin={\"r\": 100, \"l\": 100}\n",
        ")"
      ]
    },
    {
      "attachments": {},
      "cell_type": "markdown",
      "metadata": {},
      "source": [
        "### Circuit Analysis With Patch Patching & Attn Visualization"
      ]
    },
    {
      "attachments": {},
      "cell_type": "markdown",
      "metadata": {},
      "source": [
        "#### Heads Influencing Logit Diff"
      ]
    },
    {
      "cell_type": "code",
      "execution_count": 53,
      "metadata": {},
      "outputs": [
        {
          "data": {
            "application/vnd.jupyter.widget-view+json": {
              "model_id": "dda636d5d0594ef896c7b1231dd9d9eb",
              "version_major": 2,
              "version_minor": 0
            },
            "text/plain": [
              "  0%|          | 0/144 [00:00<?, ?it/s]"
            ]
          },
          "metadata": {},
          "output_type": "display_data"
        },
        {
          "name": "stdout",
          "output_type": "stream",
          "text": [
            "results['z'].shape = (layer=12, head=12)\n"
          ]
        }
      ],
      "source": [
        "results = path_patch(\n",
        "    model,\n",
        "    orig_input=clean_tokens,\n",
        "    new_input=corrupted_tokens,\n",
        "    sender_nodes=IterNode('z'), # This means iterate over all heads in all layers\n",
        "    receiver_nodes=Node('resid_post', 11), # This is resid_post at layer 11\n",
        "    patching_metric=logit_diff_noising,\n",
        "    verbose=True\n",
        ")"
      ]
    },
    {
      "cell_type": "code",
      "execution_count": 54,
      "metadata": {},
      "outputs": [
        {
          "data": {
            "application/vnd.plotly.v1+json": {
              "config": {
                "plotlyServerURL": "https://plot.ly"
              },
              "data": [
                {
                  "coloraxis": "coloraxis",
                  "hovertemplate": "Head: %{x}<br>Layer: %{y}<br>Logit diff variation: %{z}<extra></extra>",
                  "name": "0",
                  "type": "heatmap",
                  "xaxis": "x",
                  "yaxis": "y",
                  "z": [
                    [
                      -0.0006219838978722692,
                      0.0000014282720712799346,
                      -0.0008837005007080734,
                      0.0000015996647562133148,
                      -0.00006204413512023166,
                      7.998323781066574e-7,
                      -0.002002323279157281,
                      -0.000025194718546117656,
                      -0.00014774045848753303,
                      -0.0006091865943744779,
                      -0.00005490277908393182,
                      -0.00026897218776866794
                    ],
                    [
                      0.000010397820915386546,
                      0.00013420043978840113,
                      0.00006752870103809983,
                      0.000046447406930383295,
                      -0.0005670239916071296,
                      -0.0016332577215507627,
                      -0.0013344631297513843,
                      -0.003578678471967578,
                      0.00018801772966980934,
                      0.0010411532130092382,
                      0.0003601530916057527,
                      0.001853897119872272
                    ],
                    [
                      -0.00014322712377179414,
                      -0.00968688353896141,
                      -0.00015191102284006774,
                      -0.000059530379076022655,
                      0.00015551026444882154,
                      0.0001479689817642793,
                      0.0005747366813011467,
                      -0.00047064421232789755,
                      -0.00015511034871451557,
                      0.00044030771823599935,
                      0.00009329472959507257,
                      0.0005605110782198608
                    ],
                    [
                      0.000001713926508273289,
                      0.00022903770150151104,
                      0.0002316657337360084,
                      -0.00015185389202088118,
                      -0.0019229684257879853,
                      -0.005050141364336014,
                      -0.0003135342849418521,
                      -0.000009826511814026162,
                      -0.0004671021015383303,
                      -0.0008855286869220436,
                      0.0015339070232585073,
                      -0.0007963473908603191
                    ],
                    [
                      -0.00011431889288360253,
                      -0.0005693663842976093,
                      -0.005592370871454477,
                      -0.0006798575050197542,
                      0.0010876005981117487,
                      0.00026428746059536934,
                      -0.000349469599314034,
                      0.0005030374159105122,
                      -0.005412065424025059,
                      -0.0010901143541559577,
                      -0.0006326673901639879,
                      -0.001129820360802114
                    ],
                    [
                      -0.00012094607518520206,
                      -0.0022878062445670366,
                      -0.00031433411641046405,
                      -0.0029354989528656006,
                      -0.0004273389931768179,
                      -0.005181599874049425,
                      -0.00006907124043209478,
                      -0.0009792804485186934,
                      -0.00022023955534677953,
                      -0.006785206496715546,
                      -0.008577973581850529,
                      0.006083410698920488
                    ],
                    [
                      -0.0021148710511624813,
                      -0.0007447010721080005,
                      0.000044276432163314894,
                      -0.004155186004936695,
                      -0.03430420905351639,
                      0.005892936140298843,
                      0.014068422839045525,
                      -0.012961454689502716,
                      -0.00009335186041425914,
                      -0.0025860865134745836,
                      -0.00691649317741394,
                      0.0010881148045882583
                    ],
                    [
                      -0.000037763515138067305,
                      -0.05034402012825012,
                      -0.0014637503772974014,
                      0.0027160020545125008,
                      -0.00005130353383719921,
                      -0.036773864179849625,
                      0.017801696434617043,
                      -0.0008206280181184411,
                      -0.0028399189468473196,
                      -0.01813625544309616,
                      -0.004022014327347279,
                      -0.000027137170036439784
                    ],
                    [
                      0.00016939306806307286,
                      -0.0001861324126366526,
                      -0.030465243384242058,
                      -0.007251794449985027,
                      -0.00883432012051344,
                      -0.07187159359455109,
                      -0.0028206089045852423,
                      -0.004109881352633238,
                      -0.0146702965721488,
                      -0.013081657700240612,
                      0.05216341093182564,
                      -0.008920416235923767
                    ],
                    [
                      -0.0025179293006658554,
                      -0.010377938859164715,
                      -0.1391192078590393,
                      -0.037426725029945374,
                      -0.00036278110928833485,
                      0.02483079582452774,
                      -0.026978088542819023,
                      0.02744384855031967,
                      -0.001890746527351439,
                      -0.01812637224793434,
                      -0.027933716773986816,
                      -0.00044373556738719344
                    ],
                    [
                      -0.04161824658513069,
                      -0.07025590538978577,
                      0.002107786713168025,
                      0.003740473184734583,
                      -0.2811737358570099,
                      -0.007091256324201822,
                      -0.000446306454250589,
                      0.06641362607479095,
                      0.00037826356128789485,
                      -0.009295937605202198,
                      -0.00705434987321496,
                      -0.02320973575115204
                    ],
                    [
                      0.0042453957721591,
                      -0.0015083124162629247,
                      -0.0013953075977042317,
                      -0.012923234142363071,
                      -0.001450038980692625,
                      -0.0031968727707862854,
                      0.0003154767327941954,
                      -0.005211079027503729,
                      -0.016898514702916145,
                      -0.03867252171039581,
                      0.0005253184936009347,
                      -0.027169162407517433
                    ]
                  ]
                }
              ],
              "layout": {
                "coloraxis": {
                  "cmid": 0,
                  "colorbar": {
                    "title": {
                      "text": "Logit diff variation"
                    }
                  },
                  "colorscale": [
                    [
                      0,
                      "rgb(103,0,31)"
                    ],
                    [
                      0.1,
                      "rgb(178,24,43)"
                    ],
                    [
                      0.2,
                      "rgb(214,96,77)"
                    ],
                    [
                      0.3,
                      "rgb(244,165,130)"
                    ],
                    [
                      0.4,
                      "rgb(253,219,199)"
                    ],
                    [
                      0.5,
                      "rgb(247,247,247)"
                    ],
                    [
                      0.6,
                      "rgb(209,229,240)"
                    ],
                    [
                      0.7,
                      "rgb(146,197,222)"
                    ],
                    [
                      0.8,
                      "rgb(67,147,195)"
                    ],
                    [
                      0.9,
                      "rgb(33,102,172)"
                    ],
                    [
                      1,
                      "rgb(5,48,97)"
                    ]
                  ]
                },
                "margin": {
                  "l": 100,
                  "r": 100
                },
                "template": {
                  "data": {
                    "bar": [
                      {
                        "error_x": {
                          "color": "#2a3f5f"
                        },
                        "error_y": {
                          "color": "#2a3f5f"
                        },
                        "marker": {
                          "line": {
                            "color": "#E5ECF6",
                            "width": 0.5
                          },
                          "pattern": {
                            "fillmode": "overlay",
                            "size": 10,
                            "solidity": 0.2
                          }
                        },
                        "type": "bar"
                      }
                    ],
                    "barpolar": [
                      {
                        "marker": {
                          "line": {
                            "color": "#E5ECF6",
                            "width": 0.5
                          },
                          "pattern": {
                            "fillmode": "overlay",
                            "size": 10,
                            "solidity": 0.2
                          }
                        },
                        "type": "barpolar"
                      }
                    ],
                    "carpet": [
                      {
                        "aaxis": {
                          "endlinecolor": "#2a3f5f",
                          "gridcolor": "white",
                          "linecolor": "white",
                          "minorgridcolor": "white",
                          "startlinecolor": "#2a3f5f"
                        },
                        "baxis": {
                          "endlinecolor": "#2a3f5f",
                          "gridcolor": "white",
                          "linecolor": "white",
                          "minorgridcolor": "white",
                          "startlinecolor": "#2a3f5f"
                        },
                        "type": "carpet"
                      }
                    ],
                    "choropleth": [
                      {
                        "colorbar": {
                          "outlinewidth": 0,
                          "ticks": ""
                        },
                        "type": "choropleth"
                      }
                    ],
                    "contour": [
                      {
                        "colorbar": {
                          "outlinewidth": 0,
                          "ticks": ""
                        },
                        "colorscale": [
                          [
                            0,
                            "#0d0887"
                          ],
                          [
                            0.1111111111111111,
                            "#46039f"
                          ],
                          [
                            0.2222222222222222,
                            "#7201a8"
                          ],
                          [
                            0.3333333333333333,
                            "#9c179e"
                          ],
                          [
                            0.4444444444444444,
                            "#bd3786"
                          ],
                          [
                            0.5555555555555556,
                            "#d8576b"
                          ],
                          [
                            0.6666666666666666,
                            "#ed7953"
                          ],
                          [
                            0.7777777777777778,
                            "#fb9f3a"
                          ],
                          [
                            0.8888888888888888,
                            "#fdca26"
                          ],
                          [
                            1,
                            "#f0f921"
                          ]
                        ],
                        "type": "contour"
                      }
                    ],
                    "contourcarpet": [
                      {
                        "colorbar": {
                          "outlinewidth": 0,
                          "ticks": ""
                        },
                        "type": "contourcarpet"
                      }
                    ],
                    "heatmap": [
                      {
                        "colorbar": {
                          "outlinewidth": 0,
                          "ticks": ""
                        },
                        "colorscale": [
                          [
                            0,
                            "#0d0887"
                          ],
                          [
                            0.1111111111111111,
                            "#46039f"
                          ],
                          [
                            0.2222222222222222,
                            "#7201a8"
                          ],
                          [
                            0.3333333333333333,
                            "#9c179e"
                          ],
                          [
                            0.4444444444444444,
                            "#bd3786"
                          ],
                          [
                            0.5555555555555556,
                            "#d8576b"
                          ],
                          [
                            0.6666666666666666,
                            "#ed7953"
                          ],
                          [
                            0.7777777777777778,
                            "#fb9f3a"
                          ],
                          [
                            0.8888888888888888,
                            "#fdca26"
                          ],
                          [
                            1,
                            "#f0f921"
                          ]
                        ],
                        "type": "heatmap"
                      }
                    ],
                    "heatmapgl": [
                      {
                        "colorbar": {
                          "outlinewidth": 0,
                          "ticks": ""
                        },
                        "colorscale": [
                          [
                            0,
                            "#0d0887"
                          ],
                          [
                            0.1111111111111111,
                            "#46039f"
                          ],
                          [
                            0.2222222222222222,
                            "#7201a8"
                          ],
                          [
                            0.3333333333333333,
                            "#9c179e"
                          ],
                          [
                            0.4444444444444444,
                            "#bd3786"
                          ],
                          [
                            0.5555555555555556,
                            "#d8576b"
                          ],
                          [
                            0.6666666666666666,
                            "#ed7953"
                          ],
                          [
                            0.7777777777777778,
                            "#fb9f3a"
                          ],
                          [
                            0.8888888888888888,
                            "#fdca26"
                          ],
                          [
                            1,
                            "#f0f921"
                          ]
                        ],
                        "type": "heatmapgl"
                      }
                    ],
                    "histogram": [
                      {
                        "marker": {
                          "pattern": {
                            "fillmode": "overlay",
                            "size": 10,
                            "solidity": 0.2
                          }
                        },
                        "type": "histogram"
                      }
                    ],
                    "histogram2d": [
                      {
                        "colorbar": {
                          "outlinewidth": 0,
                          "ticks": ""
                        },
                        "colorscale": [
                          [
                            0,
                            "#0d0887"
                          ],
                          [
                            0.1111111111111111,
                            "#46039f"
                          ],
                          [
                            0.2222222222222222,
                            "#7201a8"
                          ],
                          [
                            0.3333333333333333,
                            "#9c179e"
                          ],
                          [
                            0.4444444444444444,
                            "#bd3786"
                          ],
                          [
                            0.5555555555555556,
                            "#d8576b"
                          ],
                          [
                            0.6666666666666666,
                            "#ed7953"
                          ],
                          [
                            0.7777777777777778,
                            "#fb9f3a"
                          ],
                          [
                            0.8888888888888888,
                            "#fdca26"
                          ],
                          [
                            1,
                            "#f0f921"
                          ]
                        ],
                        "type": "histogram2d"
                      }
                    ],
                    "histogram2dcontour": [
                      {
                        "colorbar": {
                          "outlinewidth": 0,
                          "ticks": ""
                        },
                        "colorscale": [
                          [
                            0,
                            "#0d0887"
                          ],
                          [
                            0.1111111111111111,
                            "#46039f"
                          ],
                          [
                            0.2222222222222222,
                            "#7201a8"
                          ],
                          [
                            0.3333333333333333,
                            "#9c179e"
                          ],
                          [
                            0.4444444444444444,
                            "#bd3786"
                          ],
                          [
                            0.5555555555555556,
                            "#d8576b"
                          ],
                          [
                            0.6666666666666666,
                            "#ed7953"
                          ],
                          [
                            0.7777777777777778,
                            "#fb9f3a"
                          ],
                          [
                            0.8888888888888888,
                            "#fdca26"
                          ],
                          [
                            1,
                            "#f0f921"
                          ]
                        ],
                        "type": "histogram2dcontour"
                      }
                    ],
                    "mesh3d": [
                      {
                        "colorbar": {
                          "outlinewidth": 0,
                          "ticks": ""
                        },
                        "type": "mesh3d"
                      }
                    ],
                    "parcoords": [
                      {
                        "line": {
                          "colorbar": {
                            "outlinewidth": 0,
                            "ticks": ""
                          }
                        },
                        "type": "parcoords"
                      }
                    ],
                    "pie": [
                      {
                        "automargin": true,
                        "type": "pie"
                      }
                    ],
                    "scatter": [
                      {
                        "fillpattern": {
                          "fillmode": "overlay",
                          "size": 10,
                          "solidity": 0.2
                        },
                        "type": "scatter"
                      }
                    ],
                    "scatter3d": [
                      {
                        "line": {
                          "colorbar": {
                            "outlinewidth": 0,
                            "ticks": ""
                          }
                        },
                        "marker": {
                          "colorbar": {
                            "outlinewidth": 0,
                            "ticks": ""
                          }
                        },
                        "type": "scatter3d"
                      }
                    ],
                    "scattercarpet": [
                      {
                        "marker": {
                          "colorbar": {
                            "outlinewidth": 0,
                            "ticks": ""
                          }
                        },
                        "type": "scattercarpet"
                      }
                    ],
                    "scattergeo": [
                      {
                        "marker": {
                          "colorbar": {
                            "outlinewidth": 0,
                            "ticks": ""
                          }
                        },
                        "type": "scattergeo"
                      }
                    ],
                    "scattergl": [
                      {
                        "marker": {
                          "colorbar": {
                            "outlinewidth": 0,
                            "ticks": ""
                          }
                        },
                        "type": "scattergl"
                      }
                    ],
                    "scattermapbox": [
                      {
                        "marker": {
                          "colorbar": {
                            "outlinewidth": 0,
                            "ticks": ""
                          }
                        },
                        "type": "scattermapbox"
                      }
                    ],
                    "scatterpolar": [
                      {
                        "marker": {
                          "colorbar": {
                            "outlinewidth": 0,
                            "ticks": ""
                          }
                        },
                        "type": "scatterpolar"
                      }
                    ],
                    "scatterpolargl": [
                      {
                        "marker": {
                          "colorbar": {
                            "outlinewidth": 0,
                            "ticks": ""
                          }
                        },
                        "type": "scatterpolargl"
                      }
                    ],
                    "scatterternary": [
                      {
                        "marker": {
                          "colorbar": {
                            "outlinewidth": 0,
                            "ticks": ""
                          }
                        },
                        "type": "scatterternary"
                      }
                    ],
                    "surface": [
                      {
                        "colorbar": {
                          "outlinewidth": 0,
                          "ticks": ""
                        },
                        "colorscale": [
                          [
                            0,
                            "#0d0887"
                          ],
                          [
                            0.1111111111111111,
                            "#46039f"
                          ],
                          [
                            0.2222222222222222,
                            "#7201a8"
                          ],
                          [
                            0.3333333333333333,
                            "#9c179e"
                          ],
                          [
                            0.4444444444444444,
                            "#bd3786"
                          ],
                          [
                            0.5555555555555556,
                            "#d8576b"
                          ],
                          [
                            0.6666666666666666,
                            "#ed7953"
                          ],
                          [
                            0.7777777777777778,
                            "#fb9f3a"
                          ],
                          [
                            0.8888888888888888,
                            "#fdca26"
                          ],
                          [
                            1,
                            "#f0f921"
                          ]
                        ],
                        "type": "surface"
                      }
                    ],
                    "table": [
                      {
                        "cells": {
                          "fill": {
                            "color": "#EBF0F8"
                          },
                          "line": {
                            "color": "white"
                          }
                        },
                        "header": {
                          "fill": {
                            "color": "#C8D4E3"
                          },
                          "line": {
                            "color": "white"
                          }
                        },
                        "type": "table"
                      }
                    ]
                  },
                  "layout": {
                    "annotationdefaults": {
                      "arrowcolor": "#2a3f5f",
                      "arrowhead": 0,
                      "arrowwidth": 1
                    },
                    "autotypenumbers": "strict",
                    "coloraxis": {
                      "colorbar": {
                        "outlinewidth": 0,
                        "ticks": ""
                      }
                    },
                    "colorscale": {
                      "diverging": [
                        [
                          0,
                          "#8e0152"
                        ],
                        [
                          0.1,
                          "#c51b7d"
                        ],
                        [
                          0.2,
                          "#de77ae"
                        ],
                        [
                          0.3,
                          "#f1b6da"
                        ],
                        [
                          0.4,
                          "#fde0ef"
                        ],
                        [
                          0.5,
                          "#f7f7f7"
                        ],
                        [
                          0.6,
                          "#e6f5d0"
                        ],
                        [
                          0.7,
                          "#b8e186"
                        ],
                        [
                          0.8,
                          "#7fbc41"
                        ],
                        [
                          0.9,
                          "#4d9221"
                        ],
                        [
                          1,
                          "#276419"
                        ]
                      ],
                      "sequential": [
                        [
                          0,
                          "#0d0887"
                        ],
                        [
                          0.1111111111111111,
                          "#46039f"
                        ],
                        [
                          0.2222222222222222,
                          "#7201a8"
                        ],
                        [
                          0.3333333333333333,
                          "#9c179e"
                        ],
                        [
                          0.4444444444444444,
                          "#bd3786"
                        ],
                        [
                          0.5555555555555556,
                          "#d8576b"
                        ],
                        [
                          0.6666666666666666,
                          "#ed7953"
                        ],
                        [
                          0.7777777777777778,
                          "#fb9f3a"
                        ],
                        [
                          0.8888888888888888,
                          "#fdca26"
                        ],
                        [
                          1,
                          "#f0f921"
                        ]
                      ],
                      "sequentialminus": [
                        [
                          0,
                          "#0d0887"
                        ],
                        [
                          0.1111111111111111,
                          "#46039f"
                        ],
                        [
                          0.2222222222222222,
                          "#7201a8"
                        ],
                        [
                          0.3333333333333333,
                          "#9c179e"
                        ],
                        [
                          0.4444444444444444,
                          "#bd3786"
                        ],
                        [
                          0.5555555555555556,
                          "#d8576b"
                        ],
                        [
                          0.6666666666666666,
                          "#ed7953"
                        ],
                        [
                          0.7777777777777778,
                          "#fb9f3a"
                        ],
                        [
                          0.8888888888888888,
                          "#fdca26"
                        ],
                        [
                          1,
                          "#f0f921"
                        ]
                      ]
                    },
                    "colorway": [
                      "#636efa",
                      "#EF553B",
                      "#00cc96",
                      "#ab63fa",
                      "#FFA15A",
                      "#19d3f3",
                      "#FF6692",
                      "#B6E880",
                      "#FF97FF",
                      "#FECB52"
                    ],
                    "font": {
                      "color": "#2a3f5f"
                    },
                    "geo": {
                      "bgcolor": "white",
                      "lakecolor": "white",
                      "landcolor": "#E5ECF6",
                      "showlakes": true,
                      "showland": true,
                      "subunitcolor": "white"
                    },
                    "hoverlabel": {
                      "align": "left"
                    },
                    "hovermode": "closest",
                    "mapbox": {
                      "style": "light"
                    },
                    "paper_bgcolor": "white",
                    "plot_bgcolor": "#E5ECF6",
                    "polar": {
                      "angularaxis": {
                        "gridcolor": "white",
                        "linecolor": "white",
                        "ticks": ""
                      },
                      "bgcolor": "#E5ECF6",
                      "radialaxis": {
                        "gridcolor": "white",
                        "linecolor": "white",
                        "ticks": ""
                      }
                    },
                    "scene": {
                      "xaxis": {
                        "backgroundcolor": "#E5ECF6",
                        "gridcolor": "white",
                        "gridwidth": 2,
                        "linecolor": "white",
                        "showbackground": true,
                        "ticks": "",
                        "zerolinecolor": "white"
                      },
                      "yaxis": {
                        "backgroundcolor": "#E5ECF6",
                        "gridcolor": "white",
                        "gridwidth": 2,
                        "linecolor": "white",
                        "showbackground": true,
                        "ticks": "",
                        "zerolinecolor": "white"
                      },
                      "zaxis": {
                        "backgroundcolor": "#E5ECF6",
                        "gridcolor": "white",
                        "gridwidth": 2,
                        "linecolor": "white",
                        "showbackground": true,
                        "ticks": "",
                        "zerolinecolor": "white"
                      }
                    },
                    "shapedefaults": {
                      "line": {
                        "color": "#2a3f5f"
                      }
                    },
                    "ternary": {
                      "aaxis": {
                        "gridcolor": "white",
                        "linecolor": "white",
                        "ticks": ""
                      },
                      "baxis": {
                        "gridcolor": "white",
                        "linecolor": "white",
                        "ticks": ""
                      },
                      "bgcolor": "#E5ECF6",
                      "caxis": {
                        "gridcolor": "white",
                        "linecolor": "white",
                        "ticks": ""
                      }
                    },
                    "title": {
                      "x": 0.05
                    },
                    "xaxis": {
                      "automargin": true,
                      "gridcolor": "white",
                      "linecolor": "white",
                      "ticks": "",
                      "title": {
                        "standoff": 15
                      },
                      "zerolinecolor": "white",
                      "zerolinewidth": 2
                    },
                    "yaxis": {
                      "automargin": true,
                      "gridcolor": "white",
                      "linecolor": "white",
                      "ticks": "",
                      "title": {
                        "standoff": 15
                      },
                      "zerolinecolor": "white",
                      "zerolinewidth": 2
                    }
                  }
                },
                "title": {
                  "text": "Direct effect on logit diff (patch from head output -> final resid)"
                },
                "width": 600,
                "xaxis": {
                  "anchor": "y",
                  "constrain": "domain",
                  "domain": [
                    0,
                    1
                  ],
                  "linecolor": "black",
                  "linewidth": 1,
                  "mirror": true,
                  "scaleanchor": "y",
                  "showline": true,
                  "title": {
                    "text": "Head"
                  }
                },
                "yaxis": {
                  "anchor": "x",
                  "autorange": "reversed",
                  "constrain": "domain",
                  "domain": [
                    0,
                    1
                  ],
                  "linecolor": "black",
                  "linewidth": 1,
                  "mirror": true,
                  "showline": true,
                  "title": {
                    "text": "Layer"
                  }
                }
              }
            }
          },
          "metadata": {},
          "output_type": "display_data"
        }
      ],
      "source": [
        "imshow_p(\n",
        "    results['z'],\n",
        "    title=\"Direct effect on logit diff (patch from head output -> final resid)\",\n",
        "    labels={\"x\": \"Head\", \"y\": \"Layer\", \"color\": \"Logit diff variation\"},\n",
        "    border=True,\n",
        "    width=600,\n",
        "    margin={\"r\": 100, \"l\": 100}\n",
        ")"
      ]
    },
    {
      "cell_type": "code",
      "execution_count": 56,
      "metadata": {},
      "outputs": [
        {
          "data": {
            "text/html": [
              "<div id=\"circuits-vis-4ae4e52d-3579\" style=\"margin: 15px 0;\"/>\n",
              "    <script crossorigin type=\"module\">\n",
              "    import { render, Hello } from \"https://unpkg.com/circuitsvis@1.39.1/dist/cdn/esm.js\";\n",
              "    render(\n",
              "      \"circuits-vis-4ae4e52d-3579\",\n",
              "      Hello,\n",
              "      {\"name\": \"Reader!\"}\n",
              "    )\n",
              "    </script>"
            ],
            "text/plain": [
              "<circuitsvis.utils.render.RenderedHTML at 0x7f0b85b087c0>"
            ]
          },
          "execution_count": 56,
          "metadata": {},
          "output_type": "execute_result"
        }
      ],
      "source": [
        "from visualization_utils import (\n",
        "    plot_attention_heads,\n",
        "    scatter_attention_and_contribution\n",
        ")\n",
        "\n",
        "import circuitsvis as cv"
      ]
    },
    {
      "cell_type": "code",
      "execution_count": 65,
      "metadata": {},
      "outputs": [
        {
          "name": "stdout",
          "output_type": "stream",
          "text": [
            "Total logit diff contribution above threshold: 0.94\n"
          ]
        },
        {
          "data": {
            "application/vnd.plotly.v1+json": {
              "config": {
                "plotlyServerURL": "https://plot.ly"
              },
              "data": [
                {
                  "alignmentgroup": "True",
                  "hovertemplate": "Logit Diff=%{x}<br>Attention Head=%{y}<extra></extra>",
                  "legendgroup": "",
                  "marker": {
                    "color": "#636efa",
                    "pattern": {
                      "shape": ""
                    }
                  },
                  "name": "",
                  "offsetgroup": "",
                  "orientation": "h",
                  "showlegend": false,
                  "textposition": "auto",
                  "type": "bar",
                  "x": [
                    0.02320973575115204,
                    0.026978088542819023,
                    0.027169162407517433,
                    0.027933716773986816,
                    0.030465243384242058,
                    0.03430420905351639,
                    0.036773864179849625,
                    0.037426725029945374,
                    0.03867252171039581,
                    0.04161824658513069,
                    0.05034402012825012,
                    0.07025590538978577,
                    0.07187159359455109,
                    0.1391192078590393,
                    0.2811737358570099
                  ],
                  "xaxis": "x",
                  "y": [
                    "Layer 10, Head 11",
                    "Layer 9, Head 6",
                    "Layer 11, Head 11",
                    "Layer 9, Head 10",
                    "Layer 8, Head 2",
                    "Layer 6, Head 4",
                    "Layer 7, Head 5",
                    "Layer 9, Head 3",
                    "Layer 11, Head 9",
                    "Layer 10, Head 0",
                    "Layer 7, Head 1",
                    "Layer 10, Head 1",
                    "Layer 8, Head 5",
                    "Layer 9, Head 2",
                    "Layer 10, Head 4"
                  ],
                  "yaxis": "y"
                }
              ],
              "layout": {
                "barmode": "relative",
                "legend": {
                  "tracegroupgap": 0
                },
                "margin": {
                  "t": 60
                },
                "template": {
                  "data": {
                    "bar": [
                      {
                        "error_x": {
                          "color": "#2a3f5f"
                        },
                        "error_y": {
                          "color": "#2a3f5f"
                        },
                        "marker": {
                          "line": {
                            "color": "#E5ECF6",
                            "width": 0.5
                          },
                          "pattern": {
                            "fillmode": "overlay",
                            "size": 10,
                            "solidity": 0.2
                          }
                        },
                        "type": "bar"
                      }
                    ],
                    "barpolar": [
                      {
                        "marker": {
                          "line": {
                            "color": "#E5ECF6",
                            "width": 0.5
                          },
                          "pattern": {
                            "fillmode": "overlay",
                            "size": 10,
                            "solidity": 0.2
                          }
                        },
                        "type": "barpolar"
                      }
                    ],
                    "carpet": [
                      {
                        "aaxis": {
                          "endlinecolor": "#2a3f5f",
                          "gridcolor": "white",
                          "linecolor": "white",
                          "minorgridcolor": "white",
                          "startlinecolor": "#2a3f5f"
                        },
                        "baxis": {
                          "endlinecolor": "#2a3f5f",
                          "gridcolor": "white",
                          "linecolor": "white",
                          "minorgridcolor": "white",
                          "startlinecolor": "#2a3f5f"
                        },
                        "type": "carpet"
                      }
                    ],
                    "choropleth": [
                      {
                        "colorbar": {
                          "outlinewidth": 0,
                          "ticks": ""
                        },
                        "type": "choropleth"
                      }
                    ],
                    "contour": [
                      {
                        "colorbar": {
                          "outlinewidth": 0,
                          "ticks": ""
                        },
                        "colorscale": [
                          [
                            0,
                            "#0d0887"
                          ],
                          [
                            0.1111111111111111,
                            "#46039f"
                          ],
                          [
                            0.2222222222222222,
                            "#7201a8"
                          ],
                          [
                            0.3333333333333333,
                            "#9c179e"
                          ],
                          [
                            0.4444444444444444,
                            "#bd3786"
                          ],
                          [
                            0.5555555555555556,
                            "#d8576b"
                          ],
                          [
                            0.6666666666666666,
                            "#ed7953"
                          ],
                          [
                            0.7777777777777778,
                            "#fb9f3a"
                          ],
                          [
                            0.8888888888888888,
                            "#fdca26"
                          ],
                          [
                            1,
                            "#f0f921"
                          ]
                        ],
                        "type": "contour"
                      }
                    ],
                    "contourcarpet": [
                      {
                        "colorbar": {
                          "outlinewidth": 0,
                          "ticks": ""
                        },
                        "type": "contourcarpet"
                      }
                    ],
                    "heatmap": [
                      {
                        "colorbar": {
                          "outlinewidth": 0,
                          "ticks": ""
                        },
                        "colorscale": [
                          [
                            0,
                            "#0d0887"
                          ],
                          [
                            0.1111111111111111,
                            "#46039f"
                          ],
                          [
                            0.2222222222222222,
                            "#7201a8"
                          ],
                          [
                            0.3333333333333333,
                            "#9c179e"
                          ],
                          [
                            0.4444444444444444,
                            "#bd3786"
                          ],
                          [
                            0.5555555555555556,
                            "#d8576b"
                          ],
                          [
                            0.6666666666666666,
                            "#ed7953"
                          ],
                          [
                            0.7777777777777778,
                            "#fb9f3a"
                          ],
                          [
                            0.8888888888888888,
                            "#fdca26"
                          ],
                          [
                            1,
                            "#f0f921"
                          ]
                        ],
                        "type": "heatmap"
                      }
                    ],
                    "heatmapgl": [
                      {
                        "colorbar": {
                          "outlinewidth": 0,
                          "ticks": ""
                        },
                        "colorscale": [
                          [
                            0,
                            "#0d0887"
                          ],
                          [
                            0.1111111111111111,
                            "#46039f"
                          ],
                          [
                            0.2222222222222222,
                            "#7201a8"
                          ],
                          [
                            0.3333333333333333,
                            "#9c179e"
                          ],
                          [
                            0.4444444444444444,
                            "#bd3786"
                          ],
                          [
                            0.5555555555555556,
                            "#d8576b"
                          ],
                          [
                            0.6666666666666666,
                            "#ed7953"
                          ],
                          [
                            0.7777777777777778,
                            "#fb9f3a"
                          ],
                          [
                            0.8888888888888888,
                            "#fdca26"
                          ],
                          [
                            1,
                            "#f0f921"
                          ]
                        ],
                        "type": "heatmapgl"
                      }
                    ],
                    "histogram": [
                      {
                        "marker": {
                          "pattern": {
                            "fillmode": "overlay",
                            "size": 10,
                            "solidity": 0.2
                          }
                        },
                        "type": "histogram"
                      }
                    ],
                    "histogram2d": [
                      {
                        "colorbar": {
                          "outlinewidth": 0,
                          "ticks": ""
                        },
                        "colorscale": [
                          [
                            0,
                            "#0d0887"
                          ],
                          [
                            0.1111111111111111,
                            "#46039f"
                          ],
                          [
                            0.2222222222222222,
                            "#7201a8"
                          ],
                          [
                            0.3333333333333333,
                            "#9c179e"
                          ],
                          [
                            0.4444444444444444,
                            "#bd3786"
                          ],
                          [
                            0.5555555555555556,
                            "#d8576b"
                          ],
                          [
                            0.6666666666666666,
                            "#ed7953"
                          ],
                          [
                            0.7777777777777778,
                            "#fb9f3a"
                          ],
                          [
                            0.8888888888888888,
                            "#fdca26"
                          ],
                          [
                            1,
                            "#f0f921"
                          ]
                        ],
                        "type": "histogram2d"
                      }
                    ],
                    "histogram2dcontour": [
                      {
                        "colorbar": {
                          "outlinewidth": 0,
                          "ticks": ""
                        },
                        "colorscale": [
                          [
                            0,
                            "#0d0887"
                          ],
                          [
                            0.1111111111111111,
                            "#46039f"
                          ],
                          [
                            0.2222222222222222,
                            "#7201a8"
                          ],
                          [
                            0.3333333333333333,
                            "#9c179e"
                          ],
                          [
                            0.4444444444444444,
                            "#bd3786"
                          ],
                          [
                            0.5555555555555556,
                            "#d8576b"
                          ],
                          [
                            0.6666666666666666,
                            "#ed7953"
                          ],
                          [
                            0.7777777777777778,
                            "#fb9f3a"
                          ],
                          [
                            0.8888888888888888,
                            "#fdca26"
                          ],
                          [
                            1,
                            "#f0f921"
                          ]
                        ],
                        "type": "histogram2dcontour"
                      }
                    ],
                    "mesh3d": [
                      {
                        "colorbar": {
                          "outlinewidth": 0,
                          "ticks": ""
                        },
                        "type": "mesh3d"
                      }
                    ],
                    "parcoords": [
                      {
                        "line": {
                          "colorbar": {
                            "outlinewidth": 0,
                            "ticks": ""
                          }
                        },
                        "type": "parcoords"
                      }
                    ],
                    "pie": [
                      {
                        "automargin": true,
                        "type": "pie"
                      }
                    ],
                    "scatter": [
                      {
                        "fillpattern": {
                          "fillmode": "overlay",
                          "size": 10,
                          "solidity": 0.2
                        },
                        "type": "scatter"
                      }
                    ],
                    "scatter3d": [
                      {
                        "line": {
                          "colorbar": {
                            "outlinewidth": 0,
                            "ticks": ""
                          }
                        },
                        "marker": {
                          "colorbar": {
                            "outlinewidth": 0,
                            "ticks": ""
                          }
                        },
                        "type": "scatter3d"
                      }
                    ],
                    "scattercarpet": [
                      {
                        "marker": {
                          "colorbar": {
                            "outlinewidth": 0,
                            "ticks": ""
                          }
                        },
                        "type": "scattercarpet"
                      }
                    ],
                    "scattergeo": [
                      {
                        "marker": {
                          "colorbar": {
                            "outlinewidth": 0,
                            "ticks": ""
                          }
                        },
                        "type": "scattergeo"
                      }
                    ],
                    "scattergl": [
                      {
                        "marker": {
                          "colorbar": {
                            "outlinewidth": 0,
                            "ticks": ""
                          }
                        },
                        "type": "scattergl"
                      }
                    ],
                    "scattermapbox": [
                      {
                        "marker": {
                          "colorbar": {
                            "outlinewidth": 0,
                            "ticks": ""
                          }
                        },
                        "type": "scattermapbox"
                      }
                    ],
                    "scatterpolar": [
                      {
                        "marker": {
                          "colorbar": {
                            "outlinewidth": 0,
                            "ticks": ""
                          }
                        },
                        "type": "scatterpolar"
                      }
                    ],
                    "scatterpolargl": [
                      {
                        "marker": {
                          "colorbar": {
                            "outlinewidth": 0,
                            "ticks": ""
                          }
                        },
                        "type": "scatterpolargl"
                      }
                    ],
                    "scatterternary": [
                      {
                        "marker": {
                          "colorbar": {
                            "outlinewidth": 0,
                            "ticks": ""
                          }
                        },
                        "type": "scatterternary"
                      }
                    ],
                    "surface": [
                      {
                        "colorbar": {
                          "outlinewidth": 0,
                          "ticks": ""
                        },
                        "colorscale": [
                          [
                            0,
                            "#0d0887"
                          ],
                          [
                            0.1111111111111111,
                            "#46039f"
                          ],
                          [
                            0.2222222222222222,
                            "#7201a8"
                          ],
                          [
                            0.3333333333333333,
                            "#9c179e"
                          ],
                          [
                            0.4444444444444444,
                            "#bd3786"
                          ],
                          [
                            0.5555555555555556,
                            "#d8576b"
                          ],
                          [
                            0.6666666666666666,
                            "#ed7953"
                          ],
                          [
                            0.7777777777777778,
                            "#fb9f3a"
                          ],
                          [
                            0.8888888888888888,
                            "#fdca26"
                          ],
                          [
                            1,
                            "#f0f921"
                          ]
                        ],
                        "type": "surface"
                      }
                    ],
                    "table": [
                      {
                        "cells": {
                          "fill": {
                            "color": "#EBF0F8"
                          },
                          "line": {
                            "color": "white"
                          }
                        },
                        "header": {
                          "fill": {
                            "color": "#C8D4E3"
                          },
                          "line": {
                            "color": "white"
                          }
                        },
                        "type": "table"
                      }
                    ]
                  },
                  "layout": {
                    "annotationdefaults": {
                      "arrowcolor": "#2a3f5f",
                      "arrowhead": 0,
                      "arrowwidth": 1
                    },
                    "autotypenumbers": "strict",
                    "coloraxis": {
                      "colorbar": {
                        "outlinewidth": 0,
                        "ticks": ""
                      }
                    },
                    "colorscale": {
                      "diverging": [
                        [
                          0,
                          "#8e0152"
                        ],
                        [
                          0.1,
                          "#c51b7d"
                        ],
                        [
                          0.2,
                          "#de77ae"
                        ],
                        [
                          0.3,
                          "#f1b6da"
                        ],
                        [
                          0.4,
                          "#fde0ef"
                        ],
                        [
                          0.5,
                          "#f7f7f7"
                        ],
                        [
                          0.6,
                          "#e6f5d0"
                        ],
                        [
                          0.7,
                          "#b8e186"
                        ],
                        [
                          0.8,
                          "#7fbc41"
                        ],
                        [
                          0.9,
                          "#4d9221"
                        ],
                        [
                          1,
                          "#276419"
                        ]
                      ],
                      "sequential": [
                        [
                          0,
                          "#0d0887"
                        ],
                        [
                          0.1111111111111111,
                          "#46039f"
                        ],
                        [
                          0.2222222222222222,
                          "#7201a8"
                        ],
                        [
                          0.3333333333333333,
                          "#9c179e"
                        ],
                        [
                          0.4444444444444444,
                          "#bd3786"
                        ],
                        [
                          0.5555555555555556,
                          "#d8576b"
                        ],
                        [
                          0.6666666666666666,
                          "#ed7953"
                        ],
                        [
                          0.7777777777777778,
                          "#fb9f3a"
                        ],
                        [
                          0.8888888888888888,
                          "#fdca26"
                        ],
                        [
                          1,
                          "#f0f921"
                        ]
                      ],
                      "sequentialminus": [
                        [
                          0,
                          "#0d0887"
                        ],
                        [
                          0.1111111111111111,
                          "#46039f"
                        ],
                        [
                          0.2222222222222222,
                          "#7201a8"
                        ],
                        [
                          0.3333333333333333,
                          "#9c179e"
                        ],
                        [
                          0.4444444444444444,
                          "#bd3786"
                        ],
                        [
                          0.5555555555555556,
                          "#d8576b"
                        ],
                        [
                          0.6666666666666666,
                          "#ed7953"
                        ],
                        [
                          0.7777777777777778,
                          "#fb9f3a"
                        ],
                        [
                          0.8888888888888888,
                          "#fdca26"
                        ],
                        [
                          1,
                          "#f0f921"
                        ]
                      ]
                    },
                    "colorway": [
                      "#636efa",
                      "#EF553B",
                      "#00cc96",
                      "#ab63fa",
                      "#FFA15A",
                      "#19d3f3",
                      "#FF6692",
                      "#B6E880",
                      "#FF97FF",
                      "#FECB52"
                    ],
                    "font": {
                      "color": "#2a3f5f"
                    },
                    "geo": {
                      "bgcolor": "white",
                      "lakecolor": "white",
                      "landcolor": "#E5ECF6",
                      "showlakes": true,
                      "showland": true,
                      "subunitcolor": "white"
                    },
                    "hoverlabel": {
                      "align": "left"
                    },
                    "hovermode": "closest",
                    "mapbox": {
                      "style": "light"
                    },
                    "paper_bgcolor": "white",
                    "plot_bgcolor": "#E5ECF6",
                    "polar": {
                      "angularaxis": {
                        "gridcolor": "white",
                        "linecolor": "white",
                        "ticks": ""
                      },
                      "bgcolor": "#E5ECF6",
                      "radialaxis": {
                        "gridcolor": "white",
                        "linecolor": "white",
                        "ticks": ""
                      }
                    },
                    "scene": {
                      "xaxis": {
                        "backgroundcolor": "#E5ECF6",
                        "gridcolor": "white",
                        "gridwidth": 2,
                        "linecolor": "white",
                        "showbackground": true,
                        "ticks": "",
                        "zerolinecolor": "white"
                      },
                      "yaxis": {
                        "backgroundcolor": "#E5ECF6",
                        "gridcolor": "white",
                        "gridwidth": 2,
                        "linecolor": "white",
                        "showbackground": true,
                        "ticks": "",
                        "zerolinecolor": "white"
                      },
                      "zaxis": {
                        "backgroundcolor": "#E5ECF6",
                        "gridcolor": "white",
                        "gridwidth": 2,
                        "linecolor": "white",
                        "showbackground": true,
                        "ticks": "",
                        "zerolinecolor": "white"
                      }
                    },
                    "shapedefaults": {
                      "line": {
                        "color": "#2a3f5f"
                      }
                    },
                    "ternary": {
                      "aaxis": {
                        "gridcolor": "white",
                        "linecolor": "white",
                        "ticks": ""
                      },
                      "baxis": {
                        "gridcolor": "white",
                        "linecolor": "white",
                        "ticks": ""
                      },
                      "bgcolor": "#E5ECF6",
                      "caxis": {
                        "gridcolor": "white",
                        "linecolor": "white",
                        "ticks": ""
                      }
                    },
                    "title": {
                      "x": 0.05
                    },
                    "xaxis": {
                      "automargin": true,
                      "gridcolor": "white",
                      "linecolor": "white",
                      "ticks": "",
                      "title": {
                        "standoff": 15
                      },
                      "zerolinecolor": "white",
                      "zerolinewidth": 2
                    },
                    "yaxis": {
                      "automargin": true,
                      "gridcolor": "white",
                      "linecolor": "white",
                      "ticks": "",
                      "title": {
                        "standoff": 15
                      },
                      "zerolinecolor": "white",
                      "zerolinewidth": 2
                    }
                  }
                },
                "xaxis": {
                  "anchor": "y",
                  "domain": [
                    0,
                    1
                  ],
                  "range": [
                    0,
                    0.5
                  ],
                  "title": {
                    "text": "Logit Diff"
                  }
                },
                "yaxis": {
                  "anchor": "x",
                  "domain": [
                    0,
                    1
                  ],
                  "title": {
                    "text": "Attention Head"
                  }
                }
              }
            }
          },
          "metadata": {},
          "output_type": "display_data"
        }
      ],
      "source": [
        "plot_attention_heads(-results['z'].cuda(), top_n=15, range_x=[0, 0.5])"
      ]
    },
    {
      "cell_type": "code",
      "execution_count": 70,
      "metadata": {},
      "outputs": [
        {
          "data": {
            "text/html": [
              "<div id=\"circuits-vis-31d1bb43-6708\" style=\"margin: 15px 0;\"/>\n",
              "    <script crossorigin type=\"module\">\n",
              "    import { render, AttentionHeads } from \"https://unpkg.com/circuitsvis@1.39.1/dist/cdn/esm.js\";\n",
              "    render(\n",
              "      \"circuits-vis-31d1bb43-6708\",\n",
              "      AttentionHeads,\n",
              "      {\"attention\": [[[1.0, 0.0, 0.0, 0.0, 0.0, 0.0, 0.0, 0.0, 0.0, 0.0, 0.0, 0.0, 0.0, 0.0, 0.0, 0.0, 0.0, 0.0, 0.0], [0.9545679092407227, 0.04543216526508331, 0.0, 0.0, 0.0, 0.0, 0.0, 0.0, 0.0, 0.0, 0.0, 0.0, 0.0, 0.0, 0.0, 0.0, 0.0, 0.0, 0.0], [0.949978232383728, 0.04338586702942848, 0.006635934114456177, 0.0, 0.0, 0.0, 0.0, 0.0, 0.0, 0.0, 0.0, 0.0, 0.0, 0.0, 0.0, 0.0, 0.0, 0.0, 0.0], [0.8272727131843567, 0.0620134174823761, 0.04478607699275017, 0.06592783331871033, 0.0, 0.0, 0.0, 0.0, 0.0, 0.0, 0.0, 0.0, 0.0, 0.0, 0.0, 0.0, 0.0, 0.0, 0.0], [0.798288106918335, 0.025558803230524063, 0.061411187052726746, 0.030133793130517006, 0.08460813760757446, 0.0, 0.0, 0.0, 0.0, 0.0, 0.0, 0.0, 0.0, 0.0, 0.0, 0.0, 0.0, 0.0, 0.0], [0.5502420663833618, 0.03089275024831295, 0.08229267597198486, 0.06049206480383873, 0.13245351612567902, 0.14362692832946777, 0.0, 0.0, 0.0, 0.0, 0.0, 0.0, 0.0, 0.0, 0.0, 0.0, 0.0, 0.0, 0.0], [0.913528323173523, 0.025905562564730644, 0.0083731384947896, 0.008888127282261848, 0.021424708887934685, 0.013878513127565384, 0.008001542650163174, 0.0, 0.0, 0.0, 0.0, 0.0, 0.0, 0.0, 0.0, 0.0, 0.0, 0.0, 0.0], [0.6379017233848572, 0.016840364784002304, 0.016821444034576416, 0.01673976331949234, 0.07083489000797272, 0.02938888967037201, 0.1415780484676361, 0.06989484280347824, 0.0, 0.0, 0.0, 0.0, 0.0, 0.0, 0.0, 0.0, 0.0, 0.0, 0.0], [0.6470105648040771, 0.011112574487924576, 0.10038691014051437, 0.014972551725804806, 0.021273428574204445, 0.01825745776295662, 0.10503655672073364, 0.04559949040412903, 0.03635043278336525, 0.0, 0.0, 0.0, 0.0, 0.0, 0.0, 0.0, 0.0, 0.0, 0.0], [0.8537534475326538, 0.008524756878614426, 0.0018488686764612794, 0.0037109891418367624, 0.05369602143764496, 0.009458113461732864, 0.0193718783557415, 0.0320369191467762, 0.006451740395277739, 0.011147208511829376, 0.0, 0.0, 0.0, 0.0, 0.0, 0.0, 0.0, 0.0, 0.0], [0.7870046496391296, 0.008397197350859642, 0.009086335077881813, 0.00481033232063055, 0.004624905064702034, 0.004959449637681246, 0.011703516356647015, 0.1416143774986267, 0.009896931238472462, 0.010141722857952118, 0.007760682143270969, 0.0, 0.0, 0.0, 0.0, 0.0, 0.0, 0.0, 0.0], [0.7208207845687866, 0.010671271942555904, 0.008436786010861397, 0.01145025622099638, 0.029011951759457588, 0.004096476826816797, 0.022170832380652428, 0.045551516115665436, 0.004082087893038988, 0.011474109254777431, 0.012203722260892391, 0.12003020197153091, 0.0, 0.0, 0.0, 0.0, 0.0, 0.0, 0.0], [0.870316207408905, 0.010720397345721722, 0.008235163986682892, 0.004493681713938713, 0.005345230456441641, 0.002309567993506789, 0.010116474702954292, 0.014459485188126564, 0.0029233330860733986, 0.0034882482141256332, 0.002955377334728837, 0.04403400793671608, 0.020602749660611153, 0.0, 0.0, 0.0, 0.0, 0.0, 0.0], [0.7865299582481384, 0.010317018255591393, 0.001953942235559225, 0.008466947823762894, 0.0147449541836977, 0.0012806765735149384, 0.007537484634667635, 0.0181175097823143, 0.0017330890987068415, 0.0009786408627405763, 0.0025466429069638252, 0.06157131493091583, 0.012841176241636276, 0.07138065993785858, 0.0, 0.0, 0.0, 0.0, 0.0], [0.5287267565727234, 0.014742761850357056, 0.005373784806579351, 0.015779132023453712, 0.007795306388288736, 0.0028495287988334894, 0.016924381256103516, 0.01071113720536232, 0.0015800021355971694, 0.0015156958252191544, 0.0026936018839478493, 0.1227606013417244, 0.03419380635023117, 0.1383240669965744, 0.09602949023246765, 0.0, 0.0, 0.0, 0.0], [0.4816150963306427, 0.009783124551177025, 0.0028364916797727346, 0.008877121843397617, 0.017700983211398125, 0.006135221105068922, 0.09905155003070831, 0.03082198277115822, 0.0035195511300116777, 0.005667641293257475, 0.009111320599913597, 0.06385138630867004, 0.017059728503227234, 0.08359858393669128, 0.06556328386068344, 0.09480699151754379, 0.0, 0.0, 0.0], [0.5191523432731628, 0.008015744388103485, 0.022101184353232384, 0.010041622444987297, 0.12123453617095947, 0.016725856810808182, 0.11982546001672745, 0.020599307492375374, 0.0050546471029520035, 0.023555193096399307, 0.023122774437069893, 0.018750805407762527, 0.007115226238965988, 0.020862087607383728, 0.02040998451411724, 0.01695537380874157, 0.026477860286831856, 0.0, 0.0], [0.3218739926815033, 0.0062755076214671135, 0.036226678639650345, 0.013789712451398373, 0.03981905058026314, 0.0443931482732296, 0.19689708948135376, 0.02607414312660694, 0.009373183362185955, 0.0564885139465332, 0.03643001988530159, 0.016208911314606667, 0.0025270418263971806, 0.011279270052909851, 0.061749450862407684, 0.027347587049007416, 0.04283524677157402, 0.05041143298149109, 0.0], [0.16622231900691986, 0.005189504008740187, 0.01746329665184021, 0.010865408927202225, 0.027804266661405563, 0.03796423599123955, 0.352251261472702, 0.03034728206694126, 0.016073618084192276, 0.08748552948236465, 0.046174678951501846, 0.01268697902560234, 0.0016565111000090837, 0.005434742197394371, 0.020274024456739426, 0.012342584319412708, 0.04601394385099411, 0.03541400656104088, 0.06833580136299133]], [[1.0, 0.0, 0.0, 0.0, 0.0, 0.0, 0.0, 0.0, 0.0, 0.0, 0.0, 0.0, 0.0, 0.0, 0.0, 0.0, 0.0, 0.0, 0.0], [0.9410985708236694, 0.05890141800045967, 0.0, 0.0, 0.0, 0.0, 0.0, 0.0, 0.0, 0.0, 0.0, 0.0, 0.0, 0.0, 0.0, 0.0, 0.0, 0.0, 0.0], [0.9425778985023499, 0.05687396228313446, 0.0005481482367031276, 0.0, 0.0, 0.0, 0.0, 0.0, 0.0, 0.0, 0.0, 0.0, 0.0, 0.0, 0.0, 0.0, 0.0, 0.0, 0.0], [0.8860301971435547, 0.09114611148834229, 0.002263875911012292, 0.020559774711728096, 0.0, 0.0, 0.0, 0.0, 0.0, 0.0, 0.0, 0.0, 0.0, 0.0, 0.0, 0.0, 0.0, 0.0, 0.0], [0.9784236550331116, 0.006547891069203615, 0.0004391922557260841, 0.001506282133050263, 0.013083118945360184, 0.0, 0.0, 0.0, 0.0, 0.0, 0.0, 0.0, 0.0, 0.0, 0.0, 0.0, 0.0, 0.0, 0.0], [0.8574913144111633, 0.01279744878411293, 0.0006927315844222903, 0.009483624249696732, 0.09960982948541641, 0.019925039261579514, 0.0, 0.0, 0.0, 0.0, 0.0, 0.0, 0.0, 0.0, 0.0, 0.0, 0.0, 0.0, 0.0], [0.9056103229522705, 0.005848200060427189, 0.0004491485597100109, 0.0022432750556617975, 0.05776088312268257, 0.010071111842989922, 0.018017014488577843, 0.0, 0.0, 0.0, 0.0, 0.0, 0.0, 0.0, 0.0, 0.0, 0.0, 0.0, 0.0], [0.7564895153045654, 0.010319583117961884, 0.0016668435418978333, 0.004886467009782791, 0.09149803221225739, 0.010564462281763554, 0.08970300108194351, 0.034872010350227356, 0.0, 0.0, 0.0, 0.0, 0.0, 0.0, 0.0, 0.0, 0.0, 0.0, 0.0], [0.5203402638435364, 0.010031938552856445, 0.008584070950746536, 0.012312955223023891, 0.21570265293121338, 0.03392135351896286, 0.09821144491434097, 0.09078772366046906, 0.01010769885033369, 0.0, 0.0, 0.0, 0.0, 0.0, 0.0, 0.0, 0.0, 0.0, 0.0], [0.6950736045837402, 0.007384857162833214, 0.0001566491846460849, 0.0023873101454228163, 0.24666182696819305, 0.0027289744466543198, 0.014786104671657085, 0.0209784097969532, 0.00409344770014286, 0.005748826544731855, 0.0, 0.0, 0.0, 0.0, 0.0, 0.0, 0.0, 0.0, 0.0], [0.9162894487380981, 0.0027397475205361843, 0.0003237346245441586, 0.0009006218751892447, 0.038520704954862595, 0.0015934472903609276, 0.008271758444607258, 0.013782893307507038, 0.00237675872631371, 0.0033836059737950563, 0.011817364022135735, 0.0, 0.0, 0.0, 0.0, 0.0, 0.0, 0.0, 0.0], [0.8447822332382202, 0.017342226579785347, 0.0002503591531421989, 0.002042151289060712, 0.05115062743425369, 0.0016424405621364713, 0.010777398943901062, 0.009050493128597736, 0.005518901627510786, 0.004522006493061781, 0.012318510562181473, 0.0406026765704155, 0.0, 0.0, 0.0, 0.0, 0.0, 0.0, 0.0], [0.8933277130126953, 0.01955300383269787, 0.0009799815015867352, 0.002457192400470376, 0.027947064489126205, 0.003176887985318899, 0.0036389068700373173, 0.014425032772123814, 0.00403755996376276, 0.002106437459588051, 0.00415625749155879, 0.020825635641813278, 0.0033684121444821358, 0.0, 0.0, 0.0, 0.0, 0.0, 0.0], [0.8588677644729614, 0.024058230221271515, 7.452903810190037e-05, 0.0005066239391453564, 0.021708616986870766, 0.00038424768717959523, 0.003674587467685342, 0.006145536433905363, 0.003021631855517626, 0.0024602350313216448, 0.005175186321139336, 0.029943838715553284, 0.005438509862869978, 0.0385405570268631, 0.0, 0.0, 0.0, 0.0, 0.0], [0.82833331823349, 0.011356784962117672, 0.0002493775391485542, 0.0021383664570748806, 0.01757299341261387, 0.0014966506278142333, 0.009934290312230587, 0.004109331872314215, 0.0017460562521591783, 0.002509369747713208, 0.0026708547957241535, 0.022896477952599525, 0.002949190093204379, 0.05755068361759186, 0.034486331045627594, 0.0, 0.0, 0.0, 0.0], [0.6706713438034058, 0.027652649208903313, 0.00024100823793560266, 0.001996254315599799, 0.08222805708646774, 0.003187451045960188, 0.038349591195583344, 0.00737572368234396, 0.004291988909244537, 0.008926252834498882, 0.016695300117135048, 0.030546488240361214, 0.002231032121926546, 0.03378818929195404, 0.05603811517357826, 0.015780599787831306, 0.0, 0.0, 0.0], [0.8231674432754517, 0.01369823794811964, 0.0002196632995037362, 0.0007449130062013865, 0.06352156400680542, 0.00186557462438941, 0.009291361086070538, 0.003933039493858814, 0.0036945089232176542, 0.00417168065905571, 0.0054419199004769325, 0.016143402084708214, 0.0009190560085698962, 0.010031909681856632, 0.022333286702632904, 0.010708486661314964, 0.010113850235939026, 0.0, 0.0], [0.7829944491386414, 0.0043523842468857765, 0.00016395004058722407, 0.0005024627898819745, 0.011532378382980824, 0.001619183225557208, 0.015034840442240238, 0.0052861496806144714, 0.001967410556972027, 0.013970330357551575, 0.003849396016448736, 0.021993417292833328, 0.0008750687702558935, 0.02252817340195179, 0.055223580449819565, 0.027946870774030685, 0.011938259936869144, 0.01822180673480034, 0.0], [0.5857285261154175, 0.006687679328024387, 0.00014082527195569128, 0.0009629812557250261, 0.04784093424677849, 0.0014883996918797493, 0.050544772297143936, 0.010335070081055164, 0.003740402404218912, 0.023006819188594818, 0.015756847336888313, 0.031461045145988464, 0.0010980750666931272, 0.01742013543844223, 0.03105318732559681, 0.017540905624628067, 0.03459792584180832, 0.10819629579782486, 0.012399133294820786]], [[1.0, 0.0, 0.0, 0.0, 0.0, 0.0, 0.0, 0.0, 0.0, 0.0, 0.0, 0.0, 0.0, 0.0, 0.0, 0.0, 0.0, 0.0, 0.0], [0.9808017611503601, 0.019198263064026833, 0.0, 0.0, 0.0, 0.0, 0.0, 0.0, 0.0, 0.0, 0.0, 0.0, 0.0, 0.0, 0.0, 0.0, 0.0, 0.0, 0.0], [0.809370756149292, 0.12914429605007172, 0.06148495152592659, 0.0, 0.0, 0.0, 0.0, 0.0, 0.0, 0.0, 0.0, 0.0, 0.0, 0.0, 0.0, 0.0, 0.0, 0.0, 0.0], [0.7408996224403381, 0.03184487298130989, 0.18894842267036438, 0.03830710053443909, 0.0, 0.0, 0.0, 0.0, 0.0, 0.0, 0.0, 0.0, 0.0, 0.0, 0.0, 0.0, 0.0, 0.0, 0.0], [0.6571775078773499, 0.01959921419620514, 0.14520736038684845, 0.11942016333341599, 0.0585956908762455, 0.0, 0.0, 0.0, 0.0, 0.0, 0.0, 0.0, 0.0, 0.0, 0.0, 0.0, 0.0, 0.0, 0.0], [0.23901350796222687, 0.047397252172231674, 0.2775973677635193, 0.1185033842921257, 0.24430511891841888, 0.07318335026502609, 0.0, 0.0, 0.0, 0.0, 0.0, 0.0, 0.0, 0.0, 0.0, 0.0, 0.0, 0.0, 0.0], [0.4699900448322296, 0.02638682723045349, 0.16323526203632355, 0.08707796782255173, 0.08907650411128998, 0.12191172689199448, 0.04232171177864075, 0.0, 0.0, 0.0, 0.0, 0.0, 0.0, 0.0, 0.0, 0.0, 0.0, 0.0, 0.0], [0.6049939393997192, 0.058609385043382645, 0.07418928295373917, 0.05365496873855591, 0.07435835897922516, 0.026380278170108795, 0.08332927525043488, 0.024484530091285706, 0.0, 0.0, 0.0, 0.0, 0.0, 0.0, 0.0, 0.0, 0.0, 0.0, 0.0], [0.3183656930923462, 0.0066818841733038425, 0.01691354624927044, 0.009848350659012794, 0.0329006090760231, 0.01627940498292446, 0.042611103504896164, 0.4807147979736328, 0.07568460702896118, 0.0, 0.0, 0.0, 0.0, 0.0, 0.0, 0.0, 0.0, 0.0, 0.0], [0.5259436964988708, 0.011686773039400578, 0.006777651607990265, 0.007535933051258326, 0.030644608661532402, 0.011696740984916687, 0.008627304807305336, 0.16141052544116974, 0.20093940198421478, 0.03473737835884094, 0.0, 0.0, 0.0, 0.0, 0.0, 0.0, 0.0, 0.0, 0.0], [0.28086069226264954, 0.011143035255372524, 0.010436773300170898, 0.006659914273768663, 0.020501961931586266, 0.006858778651803732, 0.0098123075440526, 0.12712518870830536, 0.2667315900325775, 0.2145029753446579, 0.045366764068603516, 0.0, 0.0, 0.0, 0.0, 0.0, 0.0, 0.0, 0.0], [0.4463142156600952, 0.015021421015262604, 0.004906355403363705, 0.008098063059151173, 0.029502930119633675, 0.004549095407128334, 0.03464823588728905, 0.19726420938968658, 0.023725157603621483, 0.03380424901843071, 0.050244588404893875, 0.15192148089408875, 0.0, 0.0, 0.0, 0.0, 0.0, 0.0, 0.0], [0.609589159488678, 0.00547885661944747, 0.0018157173180952668, 0.002019471488893032, 0.010768177919089794, 0.0024207935202866793, 0.005541656166315079, 0.0371212475001812, 0.005590187385678291, 0.005082936026155949, 0.024472666904330254, 0.27892306447029114, 0.01117599755525589, 0.0, 0.0, 0.0, 0.0, 0.0, 0.0], [0.8359397053718567, 0.0013971432344987988, 0.001616865862160921, 0.0011886763386428356, 0.009694313630461693, 0.0013544076355174184, 0.008182071149349213, 0.03036365658044815, 0.00127256172709167, 0.005510636605322361, 0.009799298830330372, 0.05846169963479042, 0.011844894848763943, 0.023374050855636597, 0.0, 0.0, 0.0, 0.0, 0.0], [0.838234543800354, 0.0023695104755461216, 0.0014093386707827449, 0.003933530300855637, 0.00716083450242877, 0.0005060050752945244, 0.001752645242959261, 0.0012241867370903492, 0.0004950160509906709, 0.0005107317119836807, 0.0007384124910458922, 0.010051876306533813, 0.01169963926076889, 0.053976599127054214, 0.06593704223632812, 0.0, 0.0, 0.0, 0.0], [0.7591763138771057, 0.0019480076152831316, 0.0014995408710092306, 0.0013038328615948558, 0.006440317258238792, 0.0005218378501012921, 0.003700569737702608, 0.0008353670709766448, 0.00020999762637075037, 0.0006519360467791557, 0.0011312112910673022, 0.0046522729098796844, 0.005854303017258644, 0.05917716398835182, 0.09804057329893112, 0.05485687404870987, 0.0, 0.0, 0.0], [0.6895443797111511, 0.000895247096195817, 0.004243203438818455, 0.0013692936627194285, 0.008144021965563297, 0.001685593044385314, 0.00489764241501689, 0.003496849210932851, 0.0012826030142605305, 0.004679781384766102, 0.004012526944279671, 0.022008543834090233, 0.006756993476301432, 0.0243889968842268, 0.042701441794633865, 0.11183780431747437, 0.06805519759654999, 0.0, 0.0], [0.4998297095298767, 0.0017212936654686928, 0.005272745154798031, 0.0046732472255826, 0.006013887468725443, 0.0023078180383890867, 0.00514776399359107, 0.003303609322756529, 0.0036303990054875612, 0.009724026545882225, 0.0030113845132291317, 0.011139798909425735, 0.012073641642928123, 0.009235766716301441, 0.014553176239132881, 0.05625670775771141, 0.2675234079360962, 0.08458153158426285, 0.0], [0.29419001936912537, 0.001269093481823802, 0.004761032294481993, 0.0029577473178505898, 0.01718444749712944, 0.0016139475628733635, 0.003399119945243001, 0.0043893554247915745, 0.008065694943070412, 0.0064706080593168736, 0.00430167093873024, 0.016815507784485817, 0.0027470700442790985, 0.009491433389484882, 0.020026270300149918, 0.06607276201248169, 0.14341109991073608, 0.3281750977039337, 0.06465807557106018]], [[1.0, 0.0, 0.0, 0.0, 0.0, 0.0, 0.0, 0.0, 0.0, 0.0, 0.0, 0.0, 0.0, 0.0, 0.0, 0.0, 0.0, 0.0, 0.0], [0.985950767993927, 0.014049307443201542, 0.0, 0.0, 0.0, 0.0, 0.0, 0.0, 0.0, 0.0, 0.0, 0.0, 0.0, 0.0, 0.0, 0.0, 0.0, 0.0, 0.0], [0.9963570237159729, 0.0022372156381607056, 0.001405755989253521, 0.0, 0.0, 0.0, 0.0, 0.0, 0.0, 0.0, 0.0, 0.0, 0.0, 0.0, 0.0, 0.0, 0.0, 0.0, 0.0], [0.9846460223197937, 0.002192228101193905, 0.0013491578865796328, 0.011812569573521614, 0.0, 0.0, 0.0, 0.0, 0.0, 0.0, 0.0, 0.0, 0.0, 0.0, 0.0, 0.0, 0.0, 0.0, 0.0], [0.9733906984329224, 0.001758540514856577, 0.0016580465016886592, 0.0031692995689809322, 0.020023399963974953, 0.0, 0.0, 0.0, 0.0, 0.0, 0.0, 0.0, 0.0, 0.0, 0.0, 0.0, 0.0, 0.0, 0.0], [0.9677450656890869, 0.0005837390199303627, 0.0014137442922219634, 0.0020011221058666706, 0.01164926216006279, 0.0166070144623518, 0.0, 0.0, 0.0, 0.0, 0.0, 0.0, 0.0, 0.0, 0.0, 0.0, 0.0, 0.0, 0.0], [0.9658893346786499, 0.0007616386283189058, 0.0006238589994609356, 0.001263546640984714, 0.011579093523323536, 0.0017747818492352962, 0.018107740208506584, 0.0, 0.0, 0.0, 0.0, 0.0, 0.0, 0.0, 0.0, 0.0, 0.0, 0.0, 0.0], [0.9118506908416748, 0.0020818046759814024, 0.003348639700561762, 0.0016555055044591427, 0.004654895048588514, 0.003382602706551552, 0.062005218118429184, 0.011020622216165066, 0.0, 0.0, 0.0, 0.0, 0.0, 0.0, 0.0, 0.0, 0.0, 0.0, 0.0], [0.9214815497398376, 0.0033862364944070578, 0.02977186255156994, 0.0031045684590935707, 0.006790186744183302, 0.009790334850549698, 0.011773358099162579, 0.004871511831879616, 0.00903038214892149, 0.0, 0.0, 0.0, 0.0, 0.0, 0.0, 0.0, 0.0, 0.0, 0.0], [0.9833641052246094, 0.0013867549132555723, 0.0007843557395972311, 0.0012927297502756119, 0.004430477973073721, 0.0006264272378757596, 0.003357311012223363, 0.0008956636884249747, 0.0003308890445623547, 0.0035312524996697903, 0.0, 0.0, 0.0, 0.0, 0.0, 0.0, 0.0, 0.0, 0.0], [0.9092050790786743, 0.0021150577813386917, 0.004381659906357527, 0.0025686954613775015, 0.015272542834281921, 0.007064037024974823, 0.036146558821201324, 0.005498446058481932, 0.0017278279410675168, 0.012314824387431145, 0.003705371869727969, 0.0, 0.0, 0.0, 0.0, 0.0, 0.0, 0.0, 0.0], [0.9203022122383118, 0.005319926887750626, 0.0031949772965162992, 0.004221727605909109, 0.015516738407313824, 0.0016622123075649142, 0.026910459622740746, 0.004669561050832272, 0.002202802337706089, 0.006951586343348026, 0.003243191633373499, 0.0058045219630002975, 0.0, 0.0, 0.0, 0.0, 0.0, 0.0, 0.0], [0.9561699628829956, 0.004811190068721771, 0.0019311135401949286, 0.001945782802067697, 0.005052237305790186, 0.0022262984421104193, 0.013118785806000233, 0.0022201931569725275, 0.0007094658212736249, 0.0025470908731222153, 0.000727717881090939, 0.006793897598981857, 0.0017463620752096176, 0.0, 0.0, 0.0, 0.0, 0.0, 0.0], [0.9210792779922485, 0.01508749183267355, 0.0027417417149990797, 0.005514863412827253, 0.01551724225282669, 0.0026866686530411243, 0.024643005803227425, 0.0010757703566923738, 0.0005398479988798499, 0.0019084976520389318, 0.0009739698143675923, 0.0022558739874511957, 0.0030756269115954638, 0.002900151303038001, 0.0, 0.0, 0.0, 0.0, 0.0], [0.8514623641967773, 0.009809687733650208, 0.00320774526335299, 0.003419254207983613, 0.03143592178821564, 0.003980130888521671, 0.03329506516456604, 0.00120624341070652, 0.0003630653955042362, 0.002247726544737816, 0.0014083677669987082, 0.002392844296991825, 0.002094512339681387, 0.001680381828919053, 0.051996681839227676, 0.0, 0.0, 0.0, 0.0], [0.7283387184143066, 0.008947351016104221, 0.004454776179045439, 0.004395939409732819, 0.023847918957471848, 0.003193956334143877, 0.14444001019001007, 0.0034267310984432697, 0.001680300454609096, 0.009450795128941536, 0.0041923513635993, 0.003854320617392659, 0.003938576672226191, 0.005072849337011576, 0.045446086674928665, 0.005319302435964346, 0.0, 0.0, 0.0], [0.7786563634872437, 0.003307053819298744, 0.0014354682061821222, 0.0026999791152775288, 0.12700778245925903, 0.010302995331585407, 0.04316519945859909, 0.002552730729803443, 0.0004915752215310931, 0.002524017123505473, 0.001521840924397111, 0.001829190761782229, 0.0005002510733902454, 0.0021053936798125505, 0.01581076718866825, 0.002241418231278658, 0.003847994841635227, 0.0, 0.0], [0.7259160280227661, 0.002414497546851635, 0.0027139056473970413, 0.0017797771142795682, 0.02116725593805313, 0.026924921199679375, 0.15526118874549866, 0.0037055695429444313, 0.0010557493660598993, 0.013980275020003319, 0.002453441033139825, 0.002786950906738639, 0.0004048482805956155, 0.00094414729392156, 0.026093045249581337, 0.0033087057527154684, 0.00182254274841398, 0.007267111446708441, 0.0], [0.6245959997177124, 0.0008664389606565237, 0.0018861100543290377, 0.0011252386029809713, 0.007929056882858276, 0.007824844680726528, 0.3227957487106323, 0.002012901473790407, 0.00034534590668044984, 0.002248461591079831, 0.0014541242271661758, 0.0012961735483258963, 0.0005548790795728564, 0.0017653731629252434, 0.007531505078077316, 0.0023840279318392277, 0.0015509119257330894, 0.002248049946501851, 0.009584849700331688]]], \"attentionHeadNames\": [\"L10H4\", \"L9H2\", \"L8H5\", \"L10H1\"], \"tokens\": [\"<|endoftext|>\", \"I\", \" thought\", \" this\", \" movie\", \" was\", \" perfect\", \",\", \" I\", \" loved\", \" it\", \".\", \" \", \"\\n\", \"Conclusion\", \":\", \" This\", \" movie\", \" is\"]}\n",
              "    )\n",
              "    </script>"
            ],
            "text/plain": [
              "<circuitsvis.utils.render.RenderedHTML at 0x7f0b85b082e0>"
            ]
          },
          "execution_count": 70,
          "metadata": {},
          "output_type": "execute_result"
        }
      ],
      "source": [
        "from visualization_utils import get_attn_head_patterns\n",
        "\n",
        "top_k = 4\n",
        "top_heads = torch.topk(-results['z'].flatten(), k=top_k).indices.cpu().numpy()\n",
        "heads = [(head // model.cfg.n_heads, head % model.cfg.n_heads) for head in top_heads]\n",
        "tokens, attn, names = get_attn_head_patterns(model, all_prompts[0], heads)\n",
        "cv.attention.attention_heads(tokens=tokens, attention=attn, attention_head_names=names)"
      ]
    },
    {
      "attachments": {},
      "cell_type": "markdown",
      "metadata": {},
      "source": [
        "#### Heads Influencing Sentiment-Attenders"
      ]
    },
    {
      "cell_type": "code",
      "execution_count": 96,
      "metadata": {},
      "outputs": [
        {
          "data": {
            "application/vnd.jupyter.widget-view+json": {
              "model_id": "f5f8c586387a4e93b89805eb12dfc757",
              "version_major": 2,
              "version_minor": 0
            },
            "text/plain": [
              "  0%|          | 0/144 [00:00<?, ?it/s]"
            ]
          },
          "metadata": {},
          "output_type": "display_data"
        },
        {
          "name": "stdout",
          "output_type": "stream",
          "text": [
            "results['z'].shape = (layer=12, head=12)\n"
          ]
        }
      ],
      "source": [
        "SENTIMENT_ATTENDERS = [(10, 4), (10, 1), (9, 2)]\n",
        "\n",
        "results = path_patch(\n",
        "    model,\n",
        "    orig_input=clean_tokens,\n",
        "    new_input=corrupted_tokens,\n",
        "    sender_nodes=IterNode(\"z\"),\n",
        "    receiver_nodes=[Node(\"v\", layer, head=head) for layer, head in SENTIMENT_ATTENDERS],\n",
        "    patching_metric=logit_diff_noising,\n",
        "    verbose=True,\n",
        ")"
      ]
    },
    {
      "cell_type": "code",
      "execution_count": 97,
      "metadata": {},
      "outputs": [
        {
          "data": {
            "application/vnd.plotly.v1+json": {
              "config": {
                "plotlyServerURL": "https://plot.ly"
              },
              "data": [
                {
                  "coloraxis": "coloraxis",
                  "hovertemplate": "Head: %{x}<br>Layer: %{y}<br>Logit diff variation: %{z}<extra></extra>",
                  "name": "0",
                  "type": "heatmap",
                  "xaxis": "x",
                  "yaxis": "y",
                  "z": [
                    [
                      -0.061952728778123856,
                      -0.7286015748977661,
                      -0.04071146994829178,
                      -1.0785396099090576,
                      -2.1970937252044678,
                      -0.5868141651153564,
                      -0.2574889063835144,
                      -0.10400106012821198,
                      0.007661251351237297,
                      0.005838776472955942,
                      0.11808381974697113,
                      -0.052897486835718155
                    ],
                    [
                      -0.004804707132279873,
                      -0.02617737092077732,
                      0.011854657903313637,
                      0.01712212525308132,
                      0.06311248987913132,
                      0.442444384098053,
                      -0.14100472629070282,
                      -0.11647272855043411,
                      0.0029308144003152847,
                      0.040163010358810425,
                      -0.005290319677442312,
                      -0.23308256268501282
                    ],
                    [
                      0.061090052127838135,
                      -0.4646111726760864,
                      -0.03552969545125961,
                      -0.011866084299981594,
                      -0.04656738415360451,
                      0.02602311782538891,
                      0.05787358433008194,
                      -0.014545522630214691,
                      -0.002388071035966277,
                      -0.07337890565395355,
                      0.009917921386659145,
                      0.0403401143848896
                    ],
                    [
                      -0.10739463567733765,
                      0.0036335240583866835,
                      0.030005138367414474,
                      -0.04770999774336815,
                      -0.01540248654782772,
                      0.05576545372605324,
                      0.00522176269441843,
                      -0.025566071271896362,
                      -0.09374606609344482,
                      -0.012197443284094334,
                      0.08146864175796509,
                      -0.8178514242172241
                    ],
                    [
                      0.05359448119997978,
                      -0.047978512942790985,
                      -0.04630457982420921,
                      -0.03311877325177193,
                      0.24097806215286255,
                      -0.0389118455350399,
                      0.0201214961707592,
                      0.016533678397536278,
                      0.029285289347171783,
                      -0.05627962946891785,
                      -0.07192778587341309,
                      -0.06643179059028625
                    ],
                    [
                      0.003953456878662109,
                      -0.006650034803897142,
                      -0.07871492952108383,
                      -0.07426443696022034,
                      0.024326330050826073,
                      -0.22850066423416138,
                      0.0021995389834046364,
                      -0.5456227660179138,
                      0.1250537931919098,
                      0.16791337728500366,
                      -0.30636435747146606,
                      1.0248595476150513
                    ],
                    [
                      -0.0772123858332634,
                      0.09848793596029282,
                      0.07057949155569077,
                      0.26232215762138367,
                      -1.3121079206466675,
                      0.23900705575942993,
                      0.2184513509273529,
                      -0.6817428469657898,
                      -0.12013481557369232,
                      -0.05485707148909569,
                      -0.16810190677642822,
                      0.09211783856153488
                    ],
                    [
                      -0.04275675117969513,
                      -4.624836444854736,
                      -0.023138007149100304,
                      0.8089104890823364,
                      -0.05101216211915016,
                      -3.2084732055664062,
                      2.6962006092071533,
                      0.043208085000514984,
                      -0.4269047975540161,
                      -0.2752108871936798,
                      -0.023149434477090836,
                      0.004776142071932554
                    ],
                    [
                      0.11319342255592346,
                      -0.020652813836932182,
                      -0.884311854839325,
                      -0.03814058005809784,
                      -0.8054711818695068,
                      -1.8365694284439087,
                      -0.1572127640247345,
                      -0.06134142726659775,
                      0.48437848687171936,
                      -0.5679038166999817,
                      2.0284948348999023,
                      -0.3075926899909973
                    ],
                    [
                      0.30350780487060547,
                      -0.05466282740235329,
                      -1.082824468612671,
                      -0.5782273411750793,
                      -0.014328425750136375,
                      0.4738607108592987,
                      -0.08705032616853714,
                      0.6542057394981384,
                      -0.0035649670753628016,
                      -0.03083925135433674,
                      -0.31992724537849426,
                      -0.008661041967570782
                    ]
                  ]
                }
              ],
              "layout": {
                "coloraxis": {
                  "cmid": 0,
                  "colorbar": {
                    "ticksuffix": "%",
                    "title": {
                      "text": "Logit diff variation"
                    }
                  },
                  "colorscale": [
                    [
                      0,
                      "rgb(103,0,31)"
                    ],
                    [
                      0.1,
                      "rgb(178,24,43)"
                    ],
                    [
                      0.2,
                      "rgb(214,96,77)"
                    ],
                    [
                      0.3,
                      "rgb(244,165,130)"
                    ],
                    [
                      0.4,
                      "rgb(253,219,199)"
                    ],
                    [
                      0.5,
                      "rgb(247,247,247)"
                    ],
                    [
                      0.6,
                      "rgb(209,229,240)"
                    ],
                    [
                      0.7,
                      "rgb(146,197,222)"
                    ],
                    [
                      0.8,
                      "rgb(67,147,195)"
                    ],
                    [
                      0.9,
                      "rgb(33,102,172)"
                    ],
                    [
                      1,
                      "rgb(5,48,97)"
                    ]
                  ]
                },
                "margin": {
                  "l": 100,
                  "r": 100
                },
                "template": {
                  "data": {
                    "bar": [
                      {
                        "error_x": {
                          "color": "#2a3f5f"
                        },
                        "error_y": {
                          "color": "#2a3f5f"
                        },
                        "marker": {
                          "line": {
                            "color": "#E5ECF6",
                            "width": 0.5
                          },
                          "pattern": {
                            "fillmode": "overlay",
                            "size": 10,
                            "solidity": 0.2
                          }
                        },
                        "type": "bar"
                      }
                    ],
                    "barpolar": [
                      {
                        "marker": {
                          "line": {
                            "color": "#E5ECF6",
                            "width": 0.5
                          },
                          "pattern": {
                            "fillmode": "overlay",
                            "size": 10,
                            "solidity": 0.2
                          }
                        },
                        "type": "barpolar"
                      }
                    ],
                    "carpet": [
                      {
                        "aaxis": {
                          "endlinecolor": "#2a3f5f",
                          "gridcolor": "white",
                          "linecolor": "white",
                          "minorgridcolor": "white",
                          "startlinecolor": "#2a3f5f"
                        },
                        "baxis": {
                          "endlinecolor": "#2a3f5f",
                          "gridcolor": "white",
                          "linecolor": "white",
                          "minorgridcolor": "white",
                          "startlinecolor": "#2a3f5f"
                        },
                        "type": "carpet"
                      }
                    ],
                    "choropleth": [
                      {
                        "colorbar": {
                          "outlinewidth": 0,
                          "ticks": ""
                        },
                        "type": "choropleth"
                      }
                    ],
                    "contour": [
                      {
                        "colorbar": {
                          "outlinewidth": 0,
                          "ticks": ""
                        },
                        "colorscale": [
                          [
                            0,
                            "#0d0887"
                          ],
                          [
                            0.1111111111111111,
                            "#46039f"
                          ],
                          [
                            0.2222222222222222,
                            "#7201a8"
                          ],
                          [
                            0.3333333333333333,
                            "#9c179e"
                          ],
                          [
                            0.4444444444444444,
                            "#bd3786"
                          ],
                          [
                            0.5555555555555556,
                            "#d8576b"
                          ],
                          [
                            0.6666666666666666,
                            "#ed7953"
                          ],
                          [
                            0.7777777777777778,
                            "#fb9f3a"
                          ],
                          [
                            0.8888888888888888,
                            "#fdca26"
                          ],
                          [
                            1,
                            "#f0f921"
                          ]
                        ],
                        "type": "contour"
                      }
                    ],
                    "contourcarpet": [
                      {
                        "colorbar": {
                          "outlinewidth": 0,
                          "ticks": ""
                        },
                        "type": "contourcarpet"
                      }
                    ],
                    "heatmap": [
                      {
                        "colorbar": {
                          "outlinewidth": 0,
                          "ticks": ""
                        },
                        "colorscale": [
                          [
                            0,
                            "#0d0887"
                          ],
                          [
                            0.1111111111111111,
                            "#46039f"
                          ],
                          [
                            0.2222222222222222,
                            "#7201a8"
                          ],
                          [
                            0.3333333333333333,
                            "#9c179e"
                          ],
                          [
                            0.4444444444444444,
                            "#bd3786"
                          ],
                          [
                            0.5555555555555556,
                            "#d8576b"
                          ],
                          [
                            0.6666666666666666,
                            "#ed7953"
                          ],
                          [
                            0.7777777777777778,
                            "#fb9f3a"
                          ],
                          [
                            0.8888888888888888,
                            "#fdca26"
                          ],
                          [
                            1,
                            "#f0f921"
                          ]
                        ],
                        "type": "heatmap"
                      }
                    ],
                    "heatmapgl": [
                      {
                        "colorbar": {
                          "outlinewidth": 0,
                          "ticks": ""
                        },
                        "colorscale": [
                          [
                            0,
                            "#0d0887"
                          ],
                          [
                            0.1111111111111111,
                            "#46039f"
                          ],
                          [
                            0.2222222222222222,
                            "#7201a8"
                          ],
                          [
                            0.3333333333333333,
                            "#9c179e"
                          ],
                          [
                            0.4444444444444444,
                            "#bd3786"
                          ],
                          [
                            0.5555555555555556,
                            "#d8576b"
                          ],
                          [
                            0.6666666666666666,
                            "#ed7953"
                          ],
                          [
                            0.7777777777777778,
                            "#fb9f3a"
                          ],
                          [
                            0.8888888888888888,
                            "#fdca26"
                          ],
                          [
                            1,
                            "#f0f921"
                          ]
                        ],
                        "type": "heatmapgl"
                      }
                    ],
                    "histogram": [
                      {
                        "marker": {
                          "pattern": {
                            "fillmode": "overlay",
                            "size": 10,
                            "solidity": 0.2
                          }
                        },
                        "type": "histogram"
                      }
                    ],
                    "histogram2d": [
                      {
                        "colorbar": {
                          "outlinewidth": 0,
                          "ticks": ""
                        },
                        "colorscale": [
                          [
                            0,
                            "#0d0887"
                          ],
                          [
                            0.1111111111111111,
                            "#46039f"
                          ],
                          [
                            0.2222222222222222,
                            "#7201a8"
                          ],
                          [
                            0.3333333333333333,
                            "#9c179e"
                          ],
                          [
                            0.4444444444444444,
                            "#bd3786"
                          ],
                          [
                            0.5555555555555556,
                            "#d8576b"
                          ],
                          [
                            0.6666666666666666,
                            "#ed7953"
                          ],
                          [
                            0.7777777777777778,
                            "#fb9f3a"
                          ],
                          [
                            0.8888888888888888,
                            "#fdca26"
                          ],
                          [
                            1,
                            "#f0f921"
                          ]
                        ],
                        "type": "histogram2d"
                      }
                    ],
                    "histogram2dcontour": [
                      {
                        "colorbar": {
                          "outlinewidth": 0,
                          "ticks": ""
                        },
                        "colorscale": [
                          [
                            0,
                            "#0d0887"
                          ],
                          [
                            0.1111111111111111,
                            "#46039f"
                          ],
                          [
                            0.2222222222222222,
                            "#7201a8"
                          ],
                          [
                            0.3333333333333333,
                            "#9c179e"
                          ],
                          [
                            0.4444444444444444,
                            "#bd3786"
                          ],
                          [
                            0.5555555555555556,
                            "#d8576b"
                          ],
                          [
                            0.6666666666666666,
                            "#ed7953"
                          ],
                          [
                            0.7777777777777778,
                            "#fb9f3a"
                          ],
                          [
                            0.8888888888888888,
                            "#fdca26"
                          ],
                          [
                            1,
                            "#f0f921"
                          ]
                        ],
                        "type": "histogram2dcontour"
                      }
                    ],
                    "mesh3d": [
                      {
                        "colorbar": {
                          "outlinewidth": 0,
                          "ticks": ""
                        },
                        "type": "mesh3d"
                      }
                    ],
                    "parcoords": [
                      {
                        "line": {
                          "colorbar": {
                            "outlinewidth": 0,
                            "ticks": ""
                          }
                        },
                        "type": "parcoords"
                      }
                    ],
                    "pie": [
                      {
                        "automargin": true,
                        "type": "pie"
                      }
                    ],
                    "scatter": [
                      {
                        "fillpattern": {
                          "fillmode": "overlay",
                          "size": 10,
                          "solidity": 0.2
                        },
                        "type": "scatter"
                      }
                    ],
                    "scatter3d": [
                      {
                        "line": {
                          "colorbar": {
                            "outlinewidth": 0,
                            "ticks": ""
                          }
                        },
                        "marker": {
                          "colorbar": {
                            "outlinewidth": 0,
                            "ticks": ""
                          }
                        },
                        "type": "scatter3d"
                      }
                    ],
                    "scattercarpet": [
                      {
                        "marker": {
                          "colorbar": {
                            "outlinewidth": 0,
                            "ticks": ""
                          }
                        },
                        "type": "scattercarpet"
                      }
                    ],
                    "scattergeo": [
                      {
                        "marker": {
                          "colorbar": {
                            "outlinewidth": 0,
                            "ticks": ""
                          }
                        },
                        "type": "scattergeo"
                      }
                    ],
                    "scattergl": [
                      {
                        "marker": {
                          "colorbar": {
                            "outlinewidth": 0,
                            "ticks": ""
                          }
                        },
                        "type": "scattergl"
                      }
                    ],
                    "scattermapbox": [
                      {
                        "marker": {
                          "colorbar": {
                            "outlinewidth": 0,
                            "ticks": ""
                          }
                        },
                        "type": "scattermapbox"
                      }
                    ],
                    "scatterpolar": [
                      {
                        "marker": {
                          "colorbar": {
                            "outlinewidth": 0,
                            "ticks": ""
                          }
                        },
                        "type": "scatterpolar"
                      }
                    ],
                    "scatterpolargl": [
                      {
                        "marker": {
                          "colorbar": {
                            "outlinewidth": 0,
                            "ticks": ""
                          }
                        },
                        "type": "scatterpolargl"
                      }
                    ],
                    "scatterternary": [
                      {
                        "marker": {
                          "colorbar": {
                            "outlinewidth": 0,
                            "ticks": ""
                          }
                        },
                        "type": "scatterternary"
                      }
                    ],
                    "surface": [
                      {
                        "colorbar": {
                          "outlinewidth": 0,
                          "ticks": ""
                        },
                        "colorscale": [
                          [
                            0,
                            "#0d0887"
                          ],
                          [
                            0.1111111111111111,
                            "#46039f"
                          ],
                          [
                            0.2222222222222222,
                            "#7201a8"
                          ],
                          [
                            0.3333333333333333,
                            "#9c179e"
                          ],
                          [
                            0.4444444444444444,
                            "#bd3786"
                          ],
                          [
                            0.5555555555555556,
                            "#d8576b"
                          ],
                          [
                            0.6666666666666666,
                            "#ed7953"
                          ],
                          [
                            0.7777777777777778,
                            "#fb9f3a"
                          ],
                          [
                            0.8888888888888888,
                            "#fdca26"
                          ],
                          [
                            1,
                            "#f0f921"
                          ]
                        ],
                        "type": "surface"
                      }
                    ],
                    "table": [
                      {
                        "cells": {
                          "fill": {
                            "color": "#EBF0F8"
                          },
                          "line": {
                            "color": "white"
                          }
                        },
                        "header": {
                          "fill": {
                            "color": "#C8D4E3"
                          },
                          "line": {
                            "color": "white"
                          }
                        },
                        "type": "table"
                      }
                    ]
                  },
                  "layout": {
                    "annotationdefaults": {
                      "arrowcolor": "#2a3f5f",
                      "arrowhead": 0,
                      "arrowwidth": 1
                    },
                    "autotypenumbers": "strict",
                    "coloraxis": {
                      "colorbar": {
                        "outlinewidth": 0,
                        "ticks": ""
                      }
                    },
                    "colorscale": {
                      "diverging": [
                        [
                          0,
                          "#8e0152"
                        ],
                        [
                          0.1,
                          "#c51b7d"
                        ],
                        [
                          0.2,
                          "#de77ae"
                        ],
                        [
                          0.3,
                          "#f1b6da"
                        ],
                        [
                          0.4,
                          "#fde0ef"
                        ],
                        [
                          0.5,
                          "#f7f7f7"
                        ],
                        [
                          0.6,
                          "#e6f5d0"
                        ],
                        [
                          0.7,
                          "#b8e186"
                        ],
                        [
                          0.8,
                          "#7fbc41"
                        ],
                        [
                          0.9,
                          "#4d9221"
                        ],
                        [
                          1,
                          "#276419"
                        ]
                      ],
                      "sequential": [
                        [
                          0,
                          "#0d0887"
                        ],
                        [
                          0.1111111111111111,
                          "#46039f"
                        ],
                        [
                          0.2222222222222222,
                          "#7201a8"
                        ],
                        [
                          0.3333333333333333,
                          "#9c179e"
                        ],
                        [
                          0.4444444444444444,
                          "#bd3786"
                        ],
                        [
                          0.5555555555555556,
                          "#d8576b"
                        ],
                        [
                          0.6666666666666666,
                          "#ed7953"
                        ],
                        [
                          0.7777777777777778,
                          "#fb9f3a"
                        ],
                        [
                          0.8888888888888888,
                          "#fdca26"
                        ],
                        [
                          1,
                          "#f0f921"
                        ]
                      ],
                      "sequentialminus": [
                        [
                          0,
                          "#0d0887"
                        ],
                        [
                          0.1111111111111111,
                          "#46039f"
                        ],
                        [
                          0.2222222222222222,
                          "#7201a8"
                        ],
                        [
                          0.3333333333333333,
                          "#9c179e"
                        ],
                        [
                          0.4444444444444444,
                          "#bd3786"
                        ],
                        [
                          0.5555555555555556,
                          "#d8576b"
                        ],
                        [
                          0.6666666666666666,
                          "#ed7953"
                        ],
                        [
                          0.7777777777777778,
                          "#fb9f3a"
                        ],
                        [
                          0.8888888888888888,
                          "#fdca26"
                        ],
                        [
                          1,
                          "#f0f921"
                        ]
                      ]
                    },
                    "colorway": [
                      "#636efa",
                      "#EF553B",
                      "#00cc96",
                      "#ab63fa",
                      "#FFA15A",
                      "#19d3f3",
                      "#FF6692",
                      "#B6E880",
                      "#FF97FF",
                      "#FECB52"
                    ],
                    "font": {
                      "color": "#2a3f5f"
                    },
                    "geo": {
                      "bgcolor": "white",
                      "lakecolor": "white",
                      "landcolor": "#E5ECF6",
                      "showlakes": true,
                      "showland": true,
                      "subunitcolor": "white"
                    },
                    "hoverlabel": {
                      "align": "left"
                    },
                    "hovermode": "closest",
                    "mapbox": {
                      "style": "light"
                    },
                    "paper_bgcolor": "white",
                    "plot_bgcolor": "#E5ECF6",
                    "polar": {
                      "angularaxis": {
                        "gridcolor": "white",
                        "linecolor": "white",
                        "ticks": ""
                      },
                      "bgcolor": "#E5ECF6",
                      "radialaxis": {
                        "gridcolor": "white",
                        "linecolor": "white",
                        "ticks": ""
                      }
                    },
                    "scene": {
                      "xaxis": {
                        "backgroundcolor": "#E5ECF6",
                        "gridcolor": "white",
                        "gridwidth": 2,
                        "linecolor": "white",
                        "showbackground": true,
                        "ticks": "",
                        "zerolinecolor": "white"
                      },
                      "yaxis": {
                        "backgroundcolor": "#E5ECF6",
                        "gridcolor": "white",
                        "gridwidth": 2,
                        "linecolor": "white",
                        "showbackground": true,
                        "ticks": "",
                        "zerolinecolor": "white"
                      },
                      "zaxis": {
                        "backgroundcolor": "#E5ECF6",
                        "gridcolor": "white",
                        "gridwidth": 2,
                        "linecolor": "white",
                        "showbackground": true,
                        "ticks": "",
                        "zerolinecolor": "white"
                      }
                    },
                    "shapedefaults": {
                      "line": {
                        "color": "#2a3f5f"
                      }
                    },
                    "ternary": {
                      "aaxis": {
                        "gridcolor": "white",
                        "linecolor": "white",
                        "ticks": ""
                      },
                      "baxis": {
                        "gridcolor": "white",
                        "linecolor": "white",
                        "ticks": ""
                      },
                      "bgcolor": "#E5ECF6",
                      "caxis": {
                        "gridcolor": "white",
                        "linecolor": "white",
                        "ticks": ""
                      }
                    },
                    "title": {
                      "x": 0.05
                    },
                    "xaxis": {
                      "automargin": true,
                      "gridcolor": "white",
                      "linecolor": "white",
                      "ticks": "",
                      "title": {
                        "standoff": 15
                      },
                      "zerolinecolor": "white",
                      "zerolinewidth": 2
                    },
                    "yaxis": {
                      "automargin": true,
                      "gridcolor": "white",
                      "linecolor": "white",
                      "ticks": "",
                      "title": {
                        "standoff": 15
                      },
                      "zerolinecolor": "white",
                      "zerolinewidth": 2
                    }
                  }
                },
                "title": {
                  "text": "Direct effect on Sentiment Attenders' values"
                },
                "width": 700,
                "xaxis": {
                  "anchor": "y",
                  "constrain": "domain",
                  "domain": [
                    0,
                    1
                  ],
                  "linecolor": "black",
                  "linewidth": 1,
                  "mirror": true,
                  "scaleanchor": "y",
                  "showline": true,
                  "title": {
                    "text": "Head"
                  }
                },
                "yaxis": {
                  "anchor": "x",
                  "autorange": "reversed",
                  "constrain": "domain",
                  "domain": [
                    0,
                    1
                  ],
                  "linecolor": "black",
                  "linewidth": 1,
                  "mirror": true,
                  "showline": true,
                  "title": {
                    "text": "Layer"
                  }
                }
              }
            }
          },
          "metadata": {},
          "output_type": "display_data"
        }
      ],
      "source": [
        "imshow_p(\n",
        "    results[\"z\"][:10] * 100,\n",
        "    title=\"Direct effect on Sentiment Attenders' values\",\n",
        "    labels={\"x\": \"Head\", \"y\": \"Layer\", \"color\": \"Logit diff variation\"},\n",
        "    coloraxis=dict(colorbar_ticksuffix = \"%\"),\n",
        "    border=True,\n",
        "    width=700,\n",
        "    margin={\"r\": 100, \"l\": 100}\n",
        ")"
      ]
    },
    {
      "cell_type": "code",
      "execution_count": 98,
      "metadata": {},
      "outputs": [
        {
          "name": "stdout",
          "output_type": "stream",
          "text": [
            "Total logit diff contribution above threshold: 0.21\n"
          ]
        },
        {
          "data": {
            "application/vnd.plotly.v1+json": {
              "config": {
                "plotlyServerURL": "https://plot.ly"
              },
              "data": [
                {
                  "alignmentgroup": "True",
                  "hovertemplate": "Logit Diff=%{x}<br>Attention Head=%{y}<extra></extra>",
                  "legendgroup": "",
                  "marker": {
                    "color": "#636efa",
                    "pattern": {
                      "shape": ""
                    }
                  },
                  "name": "",
                  "offsetgroup": "",
                  "orientation": "h",
                  "showlegend": false,
                  "textposition": "auto",
                  "type": "bar",
                  "x": [
                    0.005679038353264332,
                    0.005782273598015308,
                    0.0058681415393948555,
                    0.006817428395152092,
                    0.007286015897989273,
                    0.008054711855947971,
                    0.008178514428436756,
                    0.008843118324875832,
                    0.010785396210849285,
                    0.010828244499862194,
                    0.013121078722178936,
                    0.01836569420993328,
                    0.02197093702852726,
                    0.03208473324775696,
                    0.04624836519360542
                  ],
                  "xaxis": "x",
                  "y": [
                    "Layer 8, Head 9",
                    "Layer 9, Head 3",
                    "Layer 0, Head 5",
                    "Layer 6, Head 7",
                    "Layer 0, Head 1",
                    "Layer 8, Head 4",
                    "Layer 3, Head 11",
                    "Layer 8, Head 2",
                    "Layer 0, Head 3",
                    "Layer 9, Head 2",
                    "Layer 6, Head 4",
                    "Layer 8, Head 5",
                    "Layer 0, Head 4",
                    "Layer 7, Head 5",
                    "Layer 7, Head 1"
                  ],
                  "yaxis": "y"
                }
              ],
              "layout": {
                "barmode": "relative",
                "legend": {
                  "tracegroupgap": 0
                },
                "margin": {
                  "t": 60
                },
                "template": {
                  "data": {
                    "bar": [
                      {
                        "error_x": {
                          "color": "#2a3f5f"
                        },
                        "error_y": {
                          "color": "#2a3f5f"
                        },
                        "marker": {
                          "line": {
                            "color": "#E5ECF6",
                            "width": 0.5
                          },
                          "pattern": {
                            "fillmode": "overlay",
                            "size": 10,
                            "solidity": 0.2
                          }
                        },
                        "type": "bar"
                      }
                    ],
                    "barpolar": [
                      {
                        "marker": {
                          "line": {
                            "color": "#E5ECF6",
                            "width": 0.5
                          },
                          "pattern": {
                            "fillmode": "overlay",
                            "size": 10,
                            "solidity": 0.2
                          }
                        },
                        "type": "barpolar"
                      }
                    ],
                    "carpet": [
                      {
                        "aaxis": {
                          "endlinecolor": "#2a3f5f",
                          "gridcolor": "white",
                          "linecolor": "white",
                          "minorgridcolor": "white",
                          "startlinecolor": "#2a3f5f"
                        },
                        "baxis": {
                          "endlinecolor": "#2a3f5f",
                          "gridcolor": "white",
                          "linecolor": "white",
                          "minorgridcolor": "white",
                          "startlinecolor": "#2a3f5f"
                        },
                        "type": "carpet"
                      }
                    ],
                    "choropleth": [
                      {
                        "colorbar": {
                          "outlinewidth": 0,
                          "ticks": ""
                        },
                        "type": "choropleth"
                      }
                    ],
                    "contour": [
                      {
                        "colorbar": {
                          "outlinewidth": 0,
                          "ticks": ""
                        },
                        "colorscale": [
                          [
                            0,
                            "#0d0887"
                          ],
                          [
                            0.1111111111111111,
                            "#46039f"
                          ],
                          [
                            0.2222222222222222,
                            "#7201a8"
                          ],
                          [
                            0.3333333333333333,
                            "#9c179e"
                          ],
                          [
                            0.4444444444444444,
                            "#bd3786"
                          ],
                          [
                            0.5555555555555556,
                            "#d8576b"
                          ],
                          [
                            0.6666666666666666,
                            "#ed7953"
                          ],
                          [
                            0.7777777777777778,
                            "#fb9f3a"
                          ],
                          [
                            0.8888888888888888,
                            "#fdca26"
                          ],
                          [
                            1,
                            "#f0f921"
                          ]
                        ],
                        "type": "contour"
                      }
                    ],
                    "contourcarpet": [
                      {
                        "colorbar": {
                          "outlinewidth": 0,
                          "ticks": ""
                        },
                        "type": "contourcarpet"
                      }
                    ],
                    "heatmap": [
                      {
                        "colorbar": {
                          "outlinewidth": 0,
                          "ticks": ""
                        },
                        "colorscale": [
                          [
                            0,
                            "#0d0887"
                          ],
                          [
                            0.1111111111111111,
                            "#46039f"
                          ],
                          [
                            0.2222222222222222,
                            "#7201a8"
                          ],
                          [
                            0.3333333333333333,
                            "#9c179e"
                          ],
                          [
                            0.4444444444444444,
                            "#bd3786"
                          ],
                          [
                            0.5555555555555556,
                            "#d8576b"
                          ],
                          [
                            0.6666666666666666,
                            "#ed7953"
                          ],
                          [
                            0.7777777777777778,
                            "#fb9f3a"
                          ],
                          [
                            0.8888888888888888,
                            "#fdca26"
                          ],
                          [
                            1,
                            "#f0f921"
                          ]
                        ],
                        "type": "heatmap"
                      }
                    ],
                    "heatmapgl": [
                      {
                        "colorbar": {
                          "outlinewidth": 0,
                          "ticks": ""
                        },
                        "colorscale": [
                          [
                            0,
                            "#0d0887"
                          ],
                          [
                            0.1111111111111111,
                            "#46039f"
                          ],
                          [
                            0.2222222222222222,
                            "#7201a8"
                          ],
                          [
                            0.3333333333333333,
                            "#9c179e"
                          ],
                          [
                            0.4444444444444444,
                            "#bd3786"
                          ],
                          [
                            0.5555555555555556,
                            "#d8576b"
                          ],
                          [
                            0.6666666666666666,
                            "#ed7953"
                          ],
                          [
                            0.7777777777777778,
                            "#fb9f3a"
                          ],
                          [
                            0.8888888888888888,
                            "#fdca26"
                          ],
                          [
                            1,
                            "#f0f921"
                          ]
                        ],
                        "type": "heatmapgl"
                      }
                    ],
                    "histogram": [
                      {
                        "marker": {
                          "pattern": {
                            "fillmode": "overlay",
                            "size": 10,
                            "solidity": 0.2
                          }
                        },
                        "type": "histogram"
                      }
                    ],
                    "histogram2d": [
                      {
                        "colorbar": {
                          "outlinewidth": 0,
                          "ticks": ""
                        },
                        "colorscale": [
                          [
                            0,
                            "#0d0887"
                          ],
                          [
                            0.1111111111111111,
                            "#46039f"
                          ],
                          [
                            0.2222222222222222,
                            "#7201a8"
                          ],
                          [
                            0.3333333333333333,
                            "#9c179e"
                          ],
                          [
                            0.4444444444444444,
                            "#bd3786"
                          ],
                          [
                            0.5555555555555556,
                            "#d8576b"
                          ],
                          [
                            0.6666666666666666,
                            "#ed7953"
                          ],
                          [
                            0.7777777777777778,
                            "#fb9f3a"
                          ],
                          [
                            0.8888888888888888,
                            "#fdca26"
                          ],
                          [
                            1,
                            "#f0f921"
                          ]
                        ],
                        "type": "histogram2d"
                      }
                    ],
                    "histogram2dcontour": [
                      {
                        "colorbar": {
                          "outlinewidth": 0,
                          "ticks": ""
                        },
                        "colorscale": [
                          [
                            0,
                            "#0d0887"
                          ],
                          [
                            0.1111111111111111,
                            "#46039f"
                          ],
                          [
                            0.2222222222222222,
                            "#7201a8"
                          ],
                          [
                            0.3333333333333333,
                            "#9c179e"
                          ],
                          [
                            0.4444444444444444,
                            "#bd3786"
                          ],
                          [
                            0.5555555555555556,
                            "#d8576b"
                          ],
                          [
                            0.6666666666666666,
                            "#ed7953"
                          ],
                          [
                            0.7777777777777778,
                            "#fb9f3a"
                          ],
                          [
                            0.8888888888888888,
                            "#fdca26"
                          ],
                          [
                            1,
                            "#f0f921"
                          ]
                        ],
                        "type": "histogram2dcontour"
                      }
                    ],
                    "mesh3d": [
                      {
                        "colorbar": {
                          "outlinewidth": 0,
                          "ticks": ""
                        },
                        "type": "mesh3d"
                      }
                    ],
                    "parcoords": [
                      {
                        "line": {
                          "colorbar": {
                            "outlinewidth": 0,
                            "ticks": ""
                          }
                        },
                        "type": "parcoords"
                      }
                    ],
                    "pie": [
                      {
                        "automargin": true,
                        "type": "pie"
                      }
                    ],
                    "scatter": [
                      {
                        "fillpattern": {
                          "fillmode": "overlay",
                          "size": 10,
                          "solidity": 0.2
                        },
                        "type": "scatter"
                      }
                    ],
                    "scatter3d": [
                      {
                        "line": {
                          "colorbar": {
                            "outlinewidth": 0,
                            "ticks": ""
                          }
                        },
                        "marker": {
                          "colorbar": {
                            "outlinewidth": 0,
                            "ticks": ""
                          }
                        },
                        "type": "scatter3d"
                      }
                    ],
                    "scattercarpet": [
                      {
                        "marker": {
                          "colorbar": {
                            "outlinewidth": 0,
                            "ticks": ""
                          }
                        },
                        "type": "scattercarpet"
                      }
                    ],
                    "scattergeo": [
                      {
                        "marker": {
                          "colorbar": {
                            "outlinewidth": 0,
                            "ticks": ""
                          }
                        },
                        "type": "scattergeo"
                      }
                    ],
                    "scattergl": [
                      {
                        "marker": {
                          "colorbar": {
                            "outlinewidth": 0,
                            "ticks": ""
                          }
                        },
                        "type": "scattergl"
                      }
                    ],
                    "scattermapbox": [
                      {
                        "marker": {
                          "colorbar": {
                            "outlinewidth": 0,
                            "ticks": ""
                          }
                        },
                        "type": "scattermapbox"
                      }
                    ],
                    "scatterpolar": [
                      {
                        "marker": {
                          "colorbar": {
                            "outlinewidth": 0,
                            "ticks": ""
                          }
                        },
                        "type": "scatterpolar"
                      }
                    ],
                    "scatterpolargl": [
                      {
                        "marker": {
                          "colorbar": {
                            "outlinewidth": 0,
                            "ticks": ""
                          }
                        },
                        "type": "scatterpolargl"
                      }
                    ],
                    "scatterternary": [
                      {
                        "marker": {
                          "colorbar": {
                            "outlinewidth": 0,
                            "ticks": ""
                          }
                        },
                        "type": "scatterternary"
                      }
                    ],
                    "surface": [
                      {
                        "colorbar": {
                          "outlinewidth": 0,
                          "ticks": ""
                        },
                        "colorscale": [
                          [
                            0,
                            "#0d0887"
                          ],
                          [
                            0.1111111111111111,
                            "#46039f"
                          ],
                          [
                            0.2222222222222222,
                            "#7201a8"
                          ],
                          [
                            0.3333333333333333,
                            "#9c179e"
                          ],
                          [
                            0.4444444444444444,
                            "#bd3786"
                          ],
                          [
                            0.5555555555555556,
                            "#d8576b"
                          ],
                          [
                            0.6666666666666666,
                            "#ed7953"
                          ],
                          [
                            0.7777777777777778,
                            "#fb9f3a"
                          ],
                          [
                            0.8888888888888888,
                            "#fdca26"
                          ],
                          [
                            1,
                            "#f0f921"
                          ]
                        ],
                        "type": "surface"
                      }
                    ],
                    "table": [
                      {
                        "cells": {
                          "fill": {
                            "color": "#EBF0F8"
                          },
                          "line": {
                            "color": "white"
                          }
                        },
                        "header": {
                          "fill": {
                            "color": "#C8D4E3"
                          },
                          "line": {
                            "color": "white"
                          }
                        },
                        "type": "table"
                      }
                    ]
                  },
                  "layout": {
                    "annotationdefaults": {
                      "arrowcolor": "#2a3f5f",
                      "arrowhead": 0,
                      "arrowwidth": 1
                    },
                    "autotypenumbers": "strict",
                    "coloraxis": {
                      "colorbar": {
                        "outlinewidth": 0,
                        "ticks": ""
                      }
                    },
                    "colorscale": {
                      "diverging": [
                        [
                          0,
                          "#8e0152"
                        ],
                        [
                          0.1,
                          "#c51b7d"
                        ],
                        [
                          0.2,
                          "#de77ae"
                        ],
                        [
                          0.3,
                          "#f1b6da"
                        ],
                        [
                          0.4,
                          "#fde0ef"
                        ],
                        [
                          0.5,
                          "#f7f7f7"
                        ],
                        [
                          0.6,
                          "#e6f5d0"
                        ],
                        [
                          0.7,
                          "#b8e186"
                        ],
                        [
                          0.8,
                          "#7fbc41"
                        ],
                        [
                          0.9,
                          "#4d9221"
                        ],
                        [
                          1,
                          "#276419"
                        ]
                      ],
                      "sequential": [
                        [
                          0,
                          "#0d0887"
                        ],
                        [
                          0.1111111111111111,
                          "#46039f"
                        ],
                        [
                          0.2222222222222222,
                          "#7201a8"
                        ],
                        [
                          0.3333333333333333,
                          "#9c179e"
                        ],
                        [
                          0.4444444444444444,
                          "#bd3786"
                        ],
                        [
                          0.5555555555555556,
                          "#d8576b"
                        ],
                        [
                          0.6666666666666666,
                          "#ed7953"
                        ],
                        [
                          0.7777777777777778,
                          "#fb9f3a"
                        ],
                        [
                          0.8888888888888888,
                          "#fdca26"
                        ],
                        [
                          1,
                          "#f0f921"
                        ]
                      ],
                      "sequentialminus": [
                        [
                          0,
                          "#0d0887"
                        ],
                        [
                          0.1111111111111111,
                          "#46039f"
                        ],
                        [
                          0.2222222222222222,
                          "#7201a8"
                        ],
                        [
                          0.3333333333333333,
                          "#9c179e"
                        ],
                        [
                          0.4444444444444444,
                          "#bd3786"
                        ],
                        [
                          0.5555555555555556,
                          "#d8576b"
                        ],
                        [
                          0.6666666666666666,
                          "#ed7953"
                        ],
                        [
                          0.7777777777777778,
                          "#fb9f3a"
                        ],
                        [
                          0.8888888888888888,
                          "#fdca26"
                        ],
                        [
                          1,
                          "#f0f921"
                        ]
                      ]
                    },
                    "colorway": [
                      "#636efa",
                      "#EF553B",
                      "#00cc96",
                      "#ab63fa",
                      "#FFA15A",
                      "#19d3f3",
                      "#FF6692",
                      "#B6E880",
                      "#FF97FF",
                      "#FECB52"
                    ],
                    "font": {
                      "color": "#2a3f5f"
                    },
                    "geo": {
                      "bgcolor": "white",
                      "lakecolor": "white",
                      "landcolor": "#E5ECF6",
                      "showlakes": true,
                      "showland": true,
                      "subunitcolor": "white"
                    },
                    "hoverlabel": {
                      "align": "left"
                    },
                    "hovermode": "closest",
                    "mapbox": {
                      "style": "light"
                    },
                    "paper_bgcolor": "white",
                    "plot_bgcolor": "#E5ECF6",
                    "polar": {
                      "angularaxis": {
                        "gridcolor": "white",
                        "linecolor": "white",
                        "ticks": ""
                      },
                      "bgcolor": "#E5ECF6",
                      "radialaxis": {
                        "gridcolor": "white",
                        "linecolor": "white",
                        "ticks": ""
                      }
                    },
                    "scene": {
                      "xaxis": {
                        "backgroundcolor": "#E5ECF6",
                        "gridcolor": "white",
                        "gridwidth": 2,
                        "linecolor": "white",
                        "showbackground": true,
                        "ticks": "",
                        "zerolinecolor": "white"
                      },
                      "yaxis": {
                        "backgroundcolor": "#E5ECF6",
                        "gridcolor": "white",
                        "gridwidth": 2,
                        "linecolor": "white",
                        "showbackground": true,
                        "ticks": "",
                        "zerolinecolor": "white"
                      },
                      "zaxis": {
                        "backgroundcolor": "#E5ECF6",
                        "gridcolor": "white",
                        "gridwidth": 2,
                        "linecolor": "white",
                        "showbackground": true,
                        "ticks": "",
                        "zerolinecolor": "white"
                      }
                    },
                    "shapedefaults": {
                      "line": {
                        "color": "#2a3f5f"
                      }
                    },
                    "ternary": {
                      "aaxis": {
                        "gridcolor": "white",
                        "linecolor": "white",
                        "ticks": ""
                      },
                      "baxis": {
                        "gridcolor": "white",
                        "linecolor": "white",
                        "ticks": ""
                      },
                      "bgcolor": "#E5ECF6",
                      "caxis": {
                        "gridcolor": "white",
                        "linecolor": "white",
                        "ticks": ""
                      }
                    },
                    "title": {
                      "x": 0.05
                    },
                    "xaxis": {
                      "automargin": true,
                      "gridcolor": "white",
                      "linecolor": "white",
                      "ticks": "",
                      "title": {
                        "standoff": 15
                      },
                      "zerolinecolor": "white",
                      "zerolinewidth": 2
                    },
                    "yaxis": {
                      "automargin": true,
                      "gridcolor": "white",
                      "linecolor": "white",
                      "ticks": "",
                      "title": {
                        "standoff": 15
                      },
                      "zerolinecolor": "white",
                      "zerolinewidth": 2
                    }
                  }
                },
                "xaxis": {
                  "anchor": "y",
                  "domain": [
                    0,
                    1
                  ],
                  "range": [
                    0,
                    0.1
                  ],
                  "title": {
                    "text": "Logit Diff"
                  }
                },
                "yaxis": {
                  "anchor": "x",
                  "domain": [
                    0,
                    1
                  ],
                  "title": {
                    "text": "Attention Head"
                  }
                }
              }
            }
          },
          "metadata": {},
          "output_type": "display_data"
        }
      ],
      "source": [
        "plot_attention_heads(-results['z'].cuda(), top_n=15, range_x=[0, 0.1])"
      ]
    },
    {
      "cell_type": "code",
      "execution_count": 101,
      "metadata": {},
      "outputs": [
        {
          "data": {
            "text/html": [
              "<div id=\"circuits-vis-6909d85b-4641\" style=\"margin: 15px 0;\"/>\n",
              "    <script crossorigin type=\"module\">\n",
              "    import { render, AttentionHeads } from \"https://unpkg.com/circuitsvis@1.39.1/dist/cdn/esm.js\";\n",
              "    render(\n",
              "      \"circuits-vis-6909d85b-4641\",\n",
              "      AttentionHeads,\n",
              "      {\"attention\": [[[1.0, 0.0, 0.0, 0.0, 0.0, 0.0, 0.0, 0.0, 0.0, 0.0, 0.0, 0.0, 0.0, 0.0, 0.0, 0.0, 0.0, 0.0, 0.0], [0.9855955839157104, 0.01440445613116026, 0.0, 0.0, 0.0, 0.0, 0.0, 0.0, 0.0, 0.0, 0.0, 0.0, 0.0, 0.0, 0.0, 0.0, 0.0, 0.0, 0.0], [0.9799342751502991, 0.011392544023692608, 0.008673204109072685, 0.0, 0.0, 0.0, 0.0, 0.0, 0.0, 0.0, 0.0, 0.0, 0.0, 0.0, 0.0, 0.0, 0.0, 0.0, 0.0], [0.8351650834083557, 0.04418480023741722, 0.0019223822746425867, 0.11872772872447968, 0.0, 0.0, 0.0, 0.0, 0.0, 0.0, 0.0, 0.0, 0.0, 0.0, 0.0, 0.0, 0.0, 0.0, 0.0], [0.9564628601074219, 0.0030157319270074368, 0.00012018374400213361, 0.0031036613509058952, 0.03729752078652382, 0.0, 0.0, 0.0, 0.0, 0.0, 0.0, 0.0, 0.0, 0.0, 0.0, 0.0, 0.0, 0.0, 0.0], [0.9321370720863342, 0.0045364610850811005, 0.0007338422001339495, 0.01720241643488407, 0.03230533003807068, 0.013084959238767624, 0.0, 0.0, 0.0, 0.0, 0.0, 0.0, 0.0, 0.0, 0.0, 0.0, 0.0, 0.0, 0.0], [0.9457419514656067, 0.0053009819239377975, 0.00030245358357205987, 0.005870021414011717, 0.027332980185747147, 0.005979133769869804, 0.009472538717091084, 0.0, 0.0, 0.0, 0.0, 0.0, 0.0, 0.0, 0.0, 0.0, 0.0, 0.0, 0.0], [0.9523491859436035, 0.003688475349918008, 0.0005118970875628293, 0.007597345858812332, 0.009073929861187935, 0.004848552867770195, 0.006045517511665821, 0.015885069966316223, 0.0, 0.0, 0.0, 0.0, 0.0, 0.0, 0.0, 0.0, 0.0, 0.0, 0.0], [0.9012313485145569, 0.01142026111483574, 0.018900251016020775, 0.03692763298749924, 0.0026307785883545876, 0.0008568226476199925, 0.0016719854902476072, 0.006391320843249559, 0.019969606772065163, 0.0, 0.0, 0.0, 0.0, 0.0, 0.0, 0.0, 0.0, 0.0, 0.0], [0.7798066735267639, 0.014271281659603119, 0.0015242652734741569, 0.00685486476868391, 0.07887457311153412, 0.004413157235831022, 0.010271809995174408, 0.06275039166212082, 0.03385283797979355, 0.0073800827376544476, 0.0, 0.0, 0.0, 0.0, 0.0, 0.0, 0.0, 0.0, 0.0], [0.909619152545929, 0.0016094779130071402, 6.729117740178481e-05, 0.002001699525862932, 0.030325468629598618, 0.0036532620433717966, 0.009110519662499428, 0.03359868377447128, 0.0023032212629914284, 0.0009455002145841718, 0.006765606347471476, 0.0, 0.0, 0.0, 0.0, 0.0, 0.0, 0.0, 0.0], [0.9469709992408752, 0.002327218884602189, 0.00010515163012314588, 0.0019559860229492188, 0.009936737827956676, 0.0011303549399599433, 0.0031515297014266253, 0.00569002702832222, 0.003211456350982189, 0.0007782717002555728, 0.0031480032484978437, 0.021594321355223656, 0.0, 0.0, 0.0, 0.0, 0.0, 0.0, 0.0], [0.9502388834953308, 0.007999597117304802, 0.000895115896128118, 0.006765710189938545, 0.010360795073211193, 0.0008398032514378428, 0.0013796547427773476, 0.0015870167408138514, 0.0032861961517482996, 0.0005797218182124197, 0.0015825822483748198, 0.005687210243195295, 0.008797836489975452, 0.0, 0.0, 0.0, 0.0, 0.0, 0.0], [0.935369074344635, 0.005012428853660822, 0.00010948573617497459, 0.002218351000919938, 0.014066307805478573, 0.00031844290788285434, 0.0012394291115924716, 0.0012303058756515384, 0.0016082958318293095, 0.0016470974078401923, 0.0029863561503589153, 0.01844712719321251, 0.0031028147786855698, 0.012644377537071705, 0.0, 0.0, 0.0, 0.0, 0.0], [0.898557186126709, 0.020602434873580933, 0.0005546680185943842, 0.0056954678148031235, 0.0048952484503388405, 0.0008092846837826073, 0.0013839142629876733, 0.005773137789219618, 0.01607467420399189, 0.001786042470484972, 0.0009687767014838755, 0.012992305681109428, 0.007651324383914471, 0.013105493038892746, 0.009150203317403793, 0.0, 0.0, 0.0, 0.0], [0.8699467778205872, 0.0032431017607450485, 0.0001246728206751868, 0.0029757057782262564, 0.028129370883107185, 0.0019990713335573673, 0.01328759640455246, 0.01327879261225462, 0.003987833857536316, 0.002359309932217002, 0.010941347107291222, 0.028810305520892143, 0.0030814388301223516, 0.009382481686770916, 0.0031015430577099323, 0.00535069452598691, 0.0, 0.0, 0.0], [0.42899930477142334, 0.027766212821006775, 0.00040962695493362844, 0.0045496136881411076, 0.2500546872615814, 0.01810530573129654, 0.02003825269639492, 0.019739467650651932, 0.005411902442574501, 0.0007245165179483593, 0.05085638538002968, 0.055631618946790695, 0.00618815328925848, 0.02833019569516182, 0.011070423759520054, 0.03555288538336754, 0.036571402102708817, 0.0, 0.0], [0.5851500630378723, 0.0026540448889136314, 0.00011678799637593329, 0.0021959601435810328, 0.04979022592306137, 0.019649803638458252, 0.0841808170080185, 0.03425757214426994, 0.003101062960922718, 0.0017009699949994683, 0.01800684630870819, 0.07172921299934387, 0.008216028101742268, 0.052374955266714096, 0.006471734493970871, 0.020827006548643112, 0.014364809729158878, 0.025212233886122704, 0.0], [0.8139667510986328, 0.005652654450386763, 0.00013392081018537283, 0.001417671563103795, 0.02430831640958786, 0.002760496223345399, 0.026420636102557182, 0.01395757682621479, 0.001960060792043805, 0.000551757519133389, 0.007802786771208048, 0.02753535658121109, 0.003791753202676773, 0.016554629430174828, 0.003870277898386121, 0.00849888101220131, 0.017327930778265, 0.01650100387632847, 0.0069874124601483345]], [[1.0, 0.0, 0.0, 0.0, 0.0, 0.0, 0.0, 0.0, 0.0, 0.0, 0.0, 0.0, 0.0, 0.0, 0.0, 0.0, 0.0, 0.0, 0.0], [0.9841890931129456, 0.015810858458280563, 0.0, 0.0, 0.0, 0.0, 0.0, 0.0, 0.0, 0.0, 0.0, 0.0, 0.0, 0.0, 0.0, 0.0, 0.0, 0.0, 0.0], [0.9498457908630371, 0.028766436502337456, 0.021387776359915733, 0.0, 0.0, 0.0, 0.0, 0.0, 0.0, 0.0, 0.0, 0.0, 0.0, 0.0, 0.0, 0.0, 0.0, 0.0, 0.0], [0.9274930357933044, 0.011755187064409256, 0.03025473840534687, 0.03049694374203682, 0.0, 0.0, 0.0, 0.0, 0.0, 0.0, 0.0, 0.0, 0.0, 0.0, 0.0, 0.0, 0.0, 0.0, 0.0], [0.8936209082603455, 0.005435401573777199, 0.021208764985203743, 0.040954940021038055, 0.03877999633550644, 0.0, 0.0, 0.0, 0.0, 0.0, 0.0, 0.0, 0.0, 0.0, 0.0, 0.0, 0.0, 0.0, 0.0], [0.9228829145431519, 0.013698924332857132, 0.024354327470064163, 0.022621002048254013, 0.01068986114114523, 0.005753044970333576, 0.0, 0.0, 0.0, 0.0, 0.0, 0.0, 0.0, 0.0, 0.0, 0.0, 0.0, 0.0, 0.0], [0.8390639424324036, 0.007342556491494179, 0.029422223567962646, 0.017604898661375046, 0.022446708753705025, 0.02825270965695381, 0.05586693063378334, 0.0, 0.0, 0.0, 0.0, 0.0, 0.0, 0.0, 0.0, 0.0, 0.0, 0.0, 0.0], [0.6568896770477295, 0.019823934882879257, 0.07955562323331833, 0.025347761809825897, 0.031839702278375626, 0.008589757606387138, 0.15499067306518555, 0.022962886840105057, 0.0, 0.0, 0.0, 0.0, 0.0, 0.0, 0.0, 0.0, 0.0, 0.0, 0.0], [0.6487944722175598, 0.019155263900756836, 0.1865195333957672, 0.038026344031095505, 0.005769310984760523, 0.008649763651192188, 0.053680382668972015, 0.028965210542082787, 0.010439836420118809, 0.0, 0.0, 0.0, 0.0, 0.0, 0.0, 0.0, 0.0, 0.0, 0.0], [0.6025384068489075, 0.00897733774036169, 0.019640440121293068, 0.010321869514882565, 0.03930501267313957, 0.014916942454874516, 0.13074171543121338, 0.13563598692417145, 0.019208045676350594, 0.01871420443058014, 0.0, 0.0, 0.0, 0.0, 0.0, 0.0, 0.0, 0.0, 0.0], [0.9002637267112732, 0.0029636400286108255, 0.005159549415111542, 0.0016609157901257277, 0.0036961338482797146, 0.0030238584149628878, 0.031888920813798904, 0.02427181787788868, 0.0033044994343072176, 0.019101744517683983, 0.004665231332182884, 0.0, 0.0, 0.0, 0.0, 0.0, 0.0, 0.0, 0.0], [0.7580291032791138, 0.021314578130841255, 0.01402074471116066, 0.01979287900030613, 0.030313313007354736, 0.007293583359569311, 0.0699809193611145, 0.01816965453326702, 0.008395791985094547, 0.019307337701320648, 0.013678672723472118, 0.019703403115272522, 0.0, 0.0, 0.0, 0.0, 0.0, 0.0, 0.0], [0.8696907162666321, 0.03075541742146015, 0.010281604714691639, 0.012005765922367573, 0.006929838564246893, 0.005769757088273764, 0.007398178335279226, 0.007294856011867523, 0.00827009417116642, 0.010943437926471233, 0.006381431128829718, 0.019941069185733795, 0.00433774059638381, 0.0, 0.0, 0.0, 0.0, 0.0, 0.0], [0.8089345097541809, 0.006280203815549612, 0.0005089394398964942, 0.003335143206641078, 0.046415090560913086, 0.0016974291065707803, 0.022701263427734375, 0.004042722750455141, 0.001565907383337617, 0.0020106113515794277, 0.002338764723390341, 0.02215476520359516, 0.005209171213209629, 0.07280553132295609, 0.0, 0.0, 0.0, 0.0, 0.0], [0.92009437084198, 0.008216449990868568, 0.0017071221955120564, 0.004892638884484768, 0.009462425485253334, 0.0018300937954336405, 0.006005979608744383, 0.002225237898528576, 0.0016452798154205084, 0.0016704498557373881, 0.001197906443849206, 0.007682442665100098, 0.004022823181003332, 0.015073377639055252, 0.014273400418460369, 0.0, 0.0, 0.0, 0.0], [0.8263077735900879, 0.012062512338161469, 0.0016778272110968828, 0.00430985726416111, 0.01569942943751812, 0.0016200297977775335, 0.010339653119444847, 0.0026699244044721127, 0.0017925408901646733, 0.0028414027765393257, 0.0017401976510882378, 0.0038748770020902157, 0.0023099826648831367, 0.019568320363759995, 0.0703618973493576, 0.022823739796876907, 0.0, 0.0, 0.0], [0.5393614768981934, 0.005890365224331617, 0.0027099959552288055, 0.00654992088675499, 0.14543145895004272, 0.010885819792747498, 0.06278255581855774, 0.01759365387260914, 0.002559491666033864, 0.005926288664340973, 0.02126683108508587, 0.021563546732068062, 0.0030394785571843386, 0.014541047625243664, 0.0603795126080513, 0.05837123841047287, 0.02114739641547203, 0.0, 0.0], [0.5216249227523804, 0.0034568298142403364, 0.0038990515749901533, 0.010894893668591976, 0.023437945172190666, 0.007517120335251093, 0.06502455472946167, 0.0225126501172781, 0.0010824137134477496, 0.009431086480617523, 0.01725156418979168, 0.02394842728972435, 0.003470740048214793, 0.010614793747663498, 0.10071299970149994, 0.08087211847305298, 0.0591634064912796, 0.03508448973298073, 0.0], [0.6063005328178406, 0.009229139424860477, 0.0028172784950584173, 0.0044129411689937115, 0.02211989462375641, 0.002833504928275943, 0.03374405577778816, 0.007063702680170536, 0.00236038607545197, 0.0064392429776489735, 0.006455546244978905, 0.010320814326405525, 0.001520868274383247, 0.017152009531855583, 0.0752745196223259, 0.07994569838047028, 0.050632525235414505, 0.048965707421302795, 0.012411634437739849]]], \"attentionHeadNames\": [\"L7H1\", \"L7H5\"], \"tokens\": [\"<|endoftext|>\", \"I\", \" thought\", \" this\", \" movie\", \" was\", \" perfect\", \",\", \" I\", \" loved\", \" it\", \".\", \" \", \"\\n\", \"Conclusion\", \":\", \" This\", \" movie\", \" is\"]}\n",
              "    )\n",
              "    </script>"
            ],
            "text/plain": [
              "<circuitsvis.utils.render.RenderedHTML at 0x7f0b86553c10>"
            ]
          },
          "execution_count": 101,
          "metadata": {},
          "output_type": "execute_result"
        }
      ],
      "source": [
        "from visualization_utils import get_attn_head_patterns\n",
        "\n",
        "top_k = 2\n",
        "top_heads = torch.topk(-results['z'].flatten(), k=top_k).indices.cpu().numpy()\n",
        "heads = [(head // model.cfg.n_heads, head % model.cfg.n_heads) for head in top_heads]\n",
        "tokens, attn, names = get_attn_head_patterns(model, all_prompts[0], heads)\n",
        "cv.attention.attention_heads(tokens=tokens, attention=attn, attention_head_names=names)"
      ]
    },
    {
      "cell_type": "code",
      "execution_count": null,
      "metadata": {},
      "outputs": [],
      "source": []
    }
  ],
  "metadata": {
    "accelerator": "GPU",
    "colab": {
      "gpuType": "V100",
      "provenance": []
    },
    "kernelspec": {
      "display_name": "Python 3",
      "name": "python3"
    },
    "language_info": {
      "codemirror_mode": {
        "name": "ipython",
        "version": 3
      },
      "file_extension": ".py",
      "mimetype": "text/x-python",
      "name": "python",
      "nbconvert_exporter": "python",
      "pygments_lexer": "ipython3",
      "version": "3.8.16"
    },
    "widgets": {
      "application/vnd.jupyter.widget-state+json": {
        "060d47cf5b6f41c88718bab7f8051605": {
          "model_module": "@jupyter-widgets/controls",
          "model_module_version": "1.5.0",
          "model_name": "HBoxModel",
          "state": {
            "_dom_classes": [],
            "_model_module": "@jupyter-widgets/controls",
            "_model_module_version": "1.5.0",
            "_model_name": "HBoxModel",
            "_view_count": null,
            "_view_module": "@jupyter-widgets/controls",
            "_view_module_version": "1.5.0",
            "_view_name": "HBoxView",
            "box_style": "",
            "children": [
              "IPY_MODEL_7af2d1ab4deb43fd92a42ed75ae25ad2",
              "IPY_MODEL_632337f6f66248b3b76e787240ccc7ef",
              "IPY_MODEL_2dbefb95b7654de7b2755da7c1984db4"
            ],
            "layout": "IPY_MODEL_9dfb85af3854401aaf9c78df8b7fcfcb"
          }
        },
        "1ba653baebb64ba7901e6ce126e78405": {
          "model_module": "@jupyter-widgets/controls",
          "model_module_version": "1.5.0",
          "model_name": "FloatProgressModel",
          "state": {
            "_dom_classes": [],
            "_model_module": "@jupyter-widgets/controls",
            "_model_module_version": "1.5.0",
            "_model_name": "FloatProgressModel",
            "_view_count": null,
            "_view_module": "@jupyter-widgets/controls",
            "_view_module_version": "1.5.0",
            "_view_name": "ProgressView",
            "bar_style": "success",
            "description": "",
            "description_tooltip": null,
            "layout": "IPY_MODEL_67b6c684fe184711b14f1a422db1df35",
            "max": 10,
            "min": 0,
            "orientation": "horizontal",
            "style": "IPY_MODEL_e12a19b2b89c431aa0626f31e03aa28c",
            "value": 10
          }
        },
        "271f12ce00b94e64b6b54b037f7b9fd6": {
          "model_module": "@jupyter-widgets/controls",
          "model_module_version": "1.5.0",
          "model_name": "DescriptionStyleModel",
          "state": {
            "_model_module": "@jupyter-widgets/controls",
            "_model_module_version": "1.5.0",
            "_model_name": "DescriptionStyleModel",
            "_view_count": null,
            "_view_module": "@jupyter-widgets/base",
            "_view_module_version": "1.2.0",
            "_view_name": "StyleView",
            "description_width": ""
          }
        },
        "2dbefb95b7654de7b2755da7c1984db4": {
          "model_module": "@jupyter-widgets/controls",
          "model_module_version": "1.5.0",
          "model_name": "HTMLModel",
          "state": {
            "_dom_classes": [],
            "_model_module": "@jupyter-widgets/controls",
            "_model_module_version": "1.5.0",
            "_model_name": "HTMLModel",
            "_view_count": null,
            "_view_module": "@jupyter-widgets/controls",
            "_view_module_version": "1.5.0",
            "_view_name": "HTMLView",
            "description": "",
            "description_tooltip": null,
            "layout": "IPY_MODEL_8c5f6ad2c9cc40d09bb9d486d1acf11b",
            "placeholder": "​",
            "style": "IPY_MODEL_f0d7566d7993456c9868129e75799a8f",
            "value": " 28/100 [00:01&lt;00:03, 20.32it/s]"
          }
        },
        "3f495fafbe764539be05a9fd5c507d36": {
          "model_module": "@jupyter-widgets/controls",
          "model_module_version": "1.5.0",
          "model_name": "ProgressStyleModel",
          "state": {
            "_model_module": "@jupyter-widgets/controls",
            "_model_module_version": "1.5.0",
            "_model_name": "ProgressStyleModel",
            "_view_count": null,
            "_view_module": "@jupyter-widgets/base",
            "_view_module_version": "1.2.0",
            "_view_name": "StyleView",
            "bar_color": null,
            "description_width": ""
          }
        },
        "4dc8be886a0c4676b31a464bdb2ab075": {
          "model_module": "@jupyter-widgets/base",
          "model_module_version": "1.2.0",
          "model_name": "LayoutModel",
          "state": {
            "_model_module": "@jupyter-widgets/base",
            "_model_module_version": "1.2.0",
            "_model_name": "LayoutModel",
            "_view_count": null,
            "_view_module": "@jupyter-widgets/base",
            "_view_module_version": "1.2.0",
            "_view_name": "LayoutView",
            "align_content": null,
            "align_items": null,
            "align_self": null,
            "border": null,
            "bottom": null,
            "display": null,
            "flex": null,
            "flex_flow": null,
            "grid_area": null,
            "grid_auto_columns": null,
            "grid_auto_flow": null,
            "grid_auto_rows": null,
            "grid_column": null,
            "grid_gap": null,
            "grid_row": null,
            "grid_template_areas": null,
            "grid_template_columns": null,
            "grid_template_rows": null,
            "height": null,
            "justify_content": null,
            "justify_items": null,
            "left": null,
            "margin": null,
            "max_height": null,
            "max_width": null,
            "min_height": null,
            "min_width": null,
            "object_fit": null,
            "object_position": null,
            "order": null,
            "overflow": null,
            "overflow_x": null,
            "overflow_y": null,
            "padding": null,
            "right": null,
            "top": null,
            "visibility": null,
            "width": null
          }
        },
        "5740798eedc348cba76f4fdf0f93e45f": {
          "model_module": "@jupyter-widgets/base",
          "model_module_version": "1.2.0",
          "model_name": "LayoutModel",
          "state": {
            "_model_module": "@jupyter-widgets/base",
            "_model_module_version": "1.2.0",
            "_model_name": "LayoutModel",
            "_view_count": null,
            "_view_module": "@jupyter-widgets/base",
            "_view_module_version": "1.2.0",
            "_view_name": "LayoutView",
            "align_content": null,
            "align_items": null,
            "align_self": null,
            "border": null,
            "bottom": null,
            "display": null,
            "flex": null,
            "flex_flow": null,
            "grid_area": null,
            "grid_auto_columns": null,
            "grid_auto_flow": null,
            "grid_auto_rows": null,
            "grid_column": null,
            "grid_gap": null,
            "grid_row": null,
            "grid_template_areas": null,
            "grid_template_columns": null,
            "grid_template_rows": null,
            "height": null,
            "justify_content": null,
            "justify_items": null,
            "left": null,
            "margin": null,
            "max_height": null,
            "max_width": null,
            "min_height": null,
            "min_width": null,
            "object_fit": null,
            "object_position": null,
            "order": null,
            "overflow": null,
            "overflow_x": null,
            "overflow_y": null,
            "padding": null,
            "right": null,
            "top": null,
            "visibility": null,
            "width": null
          }
        },
        "632337f6f66248b3b76e787240ccc7ef": {
          "model_module": "@jupyter-widgets/controls",
          "model_module_version": "1.5.0",
          "model_name": "FloatProgressModel",
          "state": {
            "_dom_classes": [],
            "_model_module": "@jupyter-widgets/controls",
            "_model_module_version": "1.5.0",
            "_model_name": "FloatProgressModel",
            "_view_count": null,
            "_view_module": "@jupyter-widgets/controls",
            "_view_module_version": "1.5.0",
            "_view_name": "ProgressView",
            "bar_style": "danger",
            "description": "",
            "description_tooltip": null,
            "layout": "IPY_MODEL_4dc8be886a0c4676b31a464bdb2ab075",
            "max": 100,
            "min": 0,
            "orientation": "horizontal",
            "style": "IPY_MODEL_3f495fafbe764539be05a9fd5c507d36",
            "value": 28
          }
        },
        "67b6c684fe184711b14f1a422db1df35": {
          "model_module": "@jupyter-widgets/base",
          "model_module_version": "1.2.0",
          "model_name": "LayoutModel",
          "state": {
            "_model_module": "@jupyter-widgets/base",
            "_model_module_version": "1.2.0",
            "_model_name": "LayoutModel",
            "_view_count": null,
            "_view_module": "@jupyter-widgets/base",
            "_view_module_version": "1.2.0",
            "_view_name": "LayoutView",
            "align_content": null,
            "align_items": null,
            "align_self": null,
            "border": null,
            "bottom": null,
            "display": null,
            "flex": null,
            "flex_flow": null,
            "grid_area": null,
            "grid_auto_columns": null,
            "grid_auto_flow": null,
            "grid_auto_rows": null,
            "grid_column": null,
            "grid_gap": null,
            "grid_row": null,
            "grid_template_areas": null,
            "grid_template_columns": null,
            "grid_template_rows": null,
            "height": null,
            "justify_content": null,
            "justify_items": null,
            "left": null,
            "margin": null,
            "max_height": null,
            "max_width": null,
            "min_height": null,
            "min_width": null,
            "object_fit": null,
            "object_position": null,
            "order": null,
            "overflow": null,
            "overflow_x": null,
            "overflow_y": null,
            "padding": null,
            "right": null,
            "top": null,
            "visibility": null,
            "width": null
          }
        },
        "70d4bd675181462dbe603b8a3f0d02ba": {
          "model_module": "@jupyter-widgets/controls",
          "model_module_version": "1.5.0",
          "model_name": "DescriptionStyleModel",
          "state": {
            "_model_module": "@jupyter-widgets/controls",
            "_model_module_version": "1.5.0",
            "_model_name": "DescriptionStyleModel",
            "_view_count": null,
            "_view_module": "@jupyter-widgets/base",
            "_view_module_version": "1.2.0",
            "_view_name": "StyleView",
            "description_width": ""
          }
        },
        "7af2d1ab4deb43fd92a42ed75ae25ad2": {
          "model_module": "@jupyter-widgets/controls",
          "model_module_version": "1.5.0",
          "model_name": "HTMLModel",
          "state": {
            "_dom_classes": [],
            "_model_module": "@jupyter-widgets/controls",
            "_model_module_version": "1.5.0",
            "_model_name": "HTMLModel",
            "_view_count": null,
            "_view_module": "@jupyter-widgets/controls",
            "_view_module_version": "1.5.0",
            "_view_name": "HTMLView",
            "description": "",
            "description_tooltip": null,
            "layout": "IPY_MODEL_5740798eedc348cba76f4fdf0f93e45f",
            "placeholder": "​",
            "style": "IPY_MODEL_70d4bd675181462dbe603b8a3f0d02ba",
            "value": " 28%"
          }
        },
        "84dd7e2b163241bdba11d66b1f952a8a": {
          "model_module": "@jupyter-widgets/base",
          "model_module_version": "1.2.0",
          "model_name": "LayoutModel",
          "state": {
            "_model_module": "@jupyter-widgets/base",
            "_model_module_version": "1.2.0",
            "_model_name": "LayoutModel",
            "_view_count": null,
            "_view_module": "@jupyter-widgets/base",
            "_view_module_version": "1.2.0",
            "_view_name": "LayoutView",
            "align_content": null,
            "align_items": null,
            "align_self": null,
            "border": null,
            "bottom": null,
            "display": null,
            "flex": null,
            "flex_flow": null,
            "grid_area": null,
            "grid_auto_columns": null,
            "grid_auto_flow": null,
            "grid_auto_rows": null,
            "grid_column": null,
            "grid_gap": null,
            "grid_row": null,
            "grid_template_areas": null,
            "grid_template_columns": null,
            "grid_template_rows": null,
            "height": null,
            "justify_content": null,
            "justify_items": null,
            "left": null,
            "margin": null,
            "max_height": null,
            "max_width": null,
            "min_height": null,
            "min_width": null,
            "object_fit": null,
            "object_position": null,
            "order": null,
            "overflow": null,
            "overflow_x": null,
            "overflow_y": null,
            "padding": null,
            "right": null,
            "top": null,
            "visibility": null,
            "width": null
          }
        },
        "8aea2b6f73fd45d981c07f551b5e09db": {
          "model_module": "@jupyter-widgets/controls",
          "model_module_version": "1.5.0",
          "model_name": "DescriptionStyleModel",
          "state": {
            "_model_module": "@jupyter-widgets/controls",
            "_model_module_version": "1.5.0",
            "_model_name": "DescriptionStyleModel",
            "_view_count": null,
            "_view_module": "@jupyter-widgets/base",
            "_view_module_version": "1.2.0",
            "_view_name": "StyleView",
            "description_width": ""
          }
        },
        "8c5f6ad2c9cc40d09bb9d486d1acf11b": {
          "model_module": "@jupyter-widgets/base",
          "model_module_version": "1.2.0",
          "model_name": "LayoutModel",
          "state": {
            "_model_module": "@jupyter-widgets/base",
            "_model_module_version": "1.2.0",
            "_model_name": "LayoutModel",
            "_view_count": null,
            "_view_module": "@jupyter-widgets/base",
            "_view_module_version": "1.2.0",
            "_view_name": "LayoutView",
            "align_content": null,
            "align_items": null,
            "align_self": null,
            "border": null,
            "bottom": null,
            "display": null,
            "flex": null,
            "flex_flow": null,
            "grid_area": null,
            "grid_auto_columns": null,
            "grid_auto_flow": null,
            "grid_auto_rows": null,
            "grid_column": null,
            "grid_gap": null,
            "grid_row": null,
            "grid_template_areas": null,
            "grid_template_columns": null,
            "grid_template_rows": null,
            "height": null,
            "justify_content": null,
            "justify_items": null,
            "left": null,
            "margin": null,
            "max_height": null,
            "max_width": null,
            "min_height": null,
            "min_width": null,
            "object_fit": null,
            "object_position": null,
            "order": null,
            "overflow": null,
            "overflow_x": null,
            "overflow_y": null,
            "padding": null,
            "right": null,
            "top": null,
            "visibility": null,
            "width": null
          }
        },
        "925217a8bd094ce2b75d04276ae6b0e2": {
          "model_module": "@jupyter-widgets/controls",
          "model_module_version": "1.5.0",
          "model_name": "HBoxModel",
          "state": {
            "_dom_classes": [],
            "_model_module": "@jupyter-widgets/controls",
            "_model_module_version": "1.5.0",
            "_model_name": "HBoxModel",
            "_view_count": null,
            "_view_module": "@jupyter-widgets/controls",
            "_view_module_version": "1.5.0",
            "_view_name": "HBoxView",
            "box_style": "",
            "children": [
              "IPY_MODEL_bc0f7801a05a4e64b9d2a471add3b8b0",
              "IPY_MODEL_1ba653baebb64ba7901e6ce126e78405",
              "IPY_MODEL_f5a0492c843244d28ba4af22735c5dc5"
            ],
            "layout": "IPY_MODEL_84dd7e2b163241bdba11d66b1f952a8a"
          }
        },
        "9dfb85af3854401aaf9c78df8b7fcfcb": {
          "model_module": "@jupyter-widgets/base",
          "model_module_version": "1.2.0",
          "model_name": "LayoutModel",
          "state": {
            "_model_module": "@jupyter-widgets/base",
            "_model_module_version": "1.2.0",
            "_model_name": "LayoutModel",
            "_view_count": null,
            "_view_module": "@jupyter-widgets/base",
            "_view_module_version": "1.2.0",
            "_view_name": "LayoutView",
            "align_content": null,
            "align_items": null,
            "align_self": null,
            "border": null,
            "bottom": null,
            "display": null,
            "flex": null,
            "flex_flow": null,
            "grid_area": null,
            "grid_auto_columns": null,
            "grid_auto_flow": null,
            "grid_auto_rows": null,
            "grid_column": null,
            "grid_gap": null,
            "grid_row": null,
            "grid_template_areas": null,
            "grid_template_columns": null,
            "grid_template_rows": null,
            "height": null,
            "justify_content": null,
            "justify_items": null,
            "left": null,
            "margin": null,
            "max_height": null,
            "max_width": null,
            "min_height": null,
            "min_width": null,
            "object_fit": null,
            "object_position": null,
            "order": null,
            "overflow": null,
            "overflow_x": null,
            "overflow_y": null,
            "padding": null,
            "right": null,
            "top": null,
            "visibility": null,
            "width": null
          }
        },
        "bc0f7801a05a4e64b9d2a471add3b8b0": {
          "model_module": "@jupyter-widgets/controls",
          "model_module_version": "1.5.0",
          "model_name": "HTMLModel",
          "state": {
            "_dom_classes": [],
            "_model_module": "@jupyter-widgets/controls",
            "_model_module_version": "1.5.0",
            "_model_name": "HTMLModel",
            "_view_count": null,
            "_view_module": "@jupyter-widgets/controls",
            "_view_module_version": "1.5.0",
            "_view_name": "HTMLView",
            "description": "",
            "description_tooltip": null,
            "layout": "IPY_MODEL_c147fa34e381483697aa1d664653fcfa",
            "placeholder": "​",
            "style": "IPY_MODEL_271f12ce00b94e64b6b54b037f7b9fd6",
            "value": "100%"
          }
        },
        "bd1a1d82f30e4c7b8ffa856daafa6f16": {
          "model_module": "@jupyter-widgets/base",
          "model_module_version": "1.2.0",
          "model_name": "LayoutModel",
          "state": {
            "_model_module": "@jupyter-widgets/base",
            "_model_module_version": "1.2.0",
            "_model_name": "LayoutModel",
            "_view_count": null,
            "_view_module": "@jupyter-widgets/base",
            "_view_module_version": "1.2.0",
            "_view_name": "LayoutView",
            "align_content": null,
            "align_items": null,
            "align_self": null,
            "border": null,
            "bottom": null,
            "display": null,
            "flex": null,
            "flex_flow": null,
            "grid_area": null,
            "grid_auto_columns": null,
            "grid_auto_flow": null,
            "grid_auto_rows": null,
            "grid_column": null,
            "grid_gap": null,
            "grid_row": null,
            "grid_template_areas": null,
            "grid_template_columns": null,
            "grid_template_rows": null,
            "height": null,
            "justify_content": null,
            "justify_items": null,
            "left": null,
            "margin": null,
            "max_height": null,
            "max_width": null,
            "min_height": null,
            "min_width": null,
            "object_fit": null,
            "object_position": null,
            "order": null,
            "overflow": null,
            "overflow_x": null,
            "overflow_y": null,
            "padding": null,
            "right": null,
            "top": null,
            "visibility": null,
            "width": null
          }
        },
        "c147fa34e381483697aa1d664653fcfa": {
          "model_module": "@jupyter-widgets/base",
          "model_module_version": "1.2.0",
          "model_name": "LayoutModel",
          "state": {
            "_model_module": "@jupyter-widgets/base",
            "_model_module_version": "1.2.0",
            "_model_name": "LayoutModel",
            "_view_count": null,
            "_view_module": "@jupyter-widgets/base",
            "_view_module_version": "1.2.0",
            "_view_name": "LayoutView",
            "align_content": null,
            "align_items": null,
            "align_self": null,
            "border": null,
            "bottom": null,
            "display": null,
            "flex": null,
            "flex_flow": null,
            "grid_area": null,
            "grid_auto_columns": null,
            "grid_auto_flow": null,
            "grid_auto_rows": null,
            "grid_column": null,
            "grid_gap": null,
            "grid_row": null,
            "grid_template_areas": null,
            "grid_template_columns": null,
            "grid_template_rows": null,
            "height": null,
            "justify_content": null,
            "justify_items": null,
            "left": null,
            "margin": null,
            "max_height": null,
            "max_width": null,
            "min_height": null,
            "min_width": null,
            "object_fit": null,
            "object_position": null,
            "order": null,
            "overflow": null,
            "overflow_x": null,
            "overflow_y": null,
            "padding": null,
            "right": null,
            "top": null,
            "visibility": null,
            "width": null
          }
        },
        "e12a19b2b89c431aa0626f31e03aa28c": {
          "model_module": "@jupyter-widgets/controls",
          "model_module_version": "1.5.0",
          "model_name": "ProgressStyleModel",
          "state": {
            "_model_module": "@jupyter-widgets/controls",
            "_model_module_version": "1.5.0",
            "_model_name": "ProgressStyleModel",
            "_view_count": null,
            "_view_module": "@jupyter-widgets/base",
            "_view_module_version": "1.2.0",
            "_view_name": "StyleView",
            "bar_color": null,
            "description_width": ""
          }
        },
        "f0d7566d7993456c9868129e75799a8f": {
          "model_module": "@jupyter-widgets/controls",
          "model_module_version": "1.5.0",
          "model_name": "DescriptionStyleModel",
          "state": {
            "_model_module": "@jupyter-widgets/controls",
            "_model_module_version": "1.5.0",
            "_model_name": "DescriptionStyleModel",
            "_view_count": null,
            "_view_module": "@jupyter-widgets/base",
            "_view_module_version": "1.2.0",
            "_view_name": "StyleView",
            "description_width": ""
          }
        },
        "f5a0492c843244d28ba4af22735c5dc5": {
          "model_module": "@jupyter-widgets/controls",
          "model_module_version": "1.5.0",
          "model_name": "HTMLModel",
          "state": {
            "_dom_classes": [],
            "_model_module": "@jupyter-widgets/controls",
            "_model_module_version": "1.5.0",
            "_model_name": "HTMLModel",
            "_view_count": null,
            "_view_module": "@jupyter-widgets/controls",
            "_view_module_version": "1.5.0",
            "_view_name": "HTMLView",
            "description": "",
            "description_tooltip": null,
            "layout": "IPY_MODEL_bd1a1d82f30e4c7b8ffa856daafa6f16",
            "placeholder": "​",
            "style": "IPY_MODEL_8aea2b6f73fd45d981c07f551b5e09db",
            "value": " 10/10 [00:00&lt;00:00, 20.09it/s]"
          }
        }
      }
    }
  },
  "nbformat": 4,
  "nbformat_minor": 0
}
