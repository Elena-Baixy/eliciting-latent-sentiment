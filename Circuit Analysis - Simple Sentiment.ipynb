{
  "cells": [
    {
      "attachments": {},
      "cell_type": "markdown",
      "metadata": {
        "id": "CbZUo-Tev4QM"
      },
      "source": [
        "# Initial Exploratory Analysis"
      ]
    },
    {
      "attachments": {},
      "cell_type": "markdown",
      "metadata": {
        "id": "5vLV3GuDd415"
      },
      "source": [
        "## Setup"
      ]
    },
    {
      "cell_type": "code",
      "execution_count": 1,
      "metadata": {},
      "outputs": [],
      "source": [
        "from IPython import get_ipython\n",
        "ipython = get_ipython()\n",
        "ipython.run_line_magic(\"load_ext\", \"autoreload\")\n",
        "ipython.run_line_magic(\"autoreload\", \"2\")"
      ]
    },
    {
      "cell_type": "code",
      "execution_count": 25,
      "metadata": {
        "id": "8QQvkqmWcB2v"
      },
      "outputs": [],
      "source": [
        "import os\n",
        "import pathlib\n",
        "from typing import List, Optional, Union\n",
        "\n",
        "import torch\n",
        "import numpy as np\n",
        "import yaml\n",
        "\n",
        "import einops\n",
        "from fancy_einsum import einsum\n",
        "\n",
        "from datasets import load_dataset\n",
        "#from transformers import pipeline\n",
        "\n",
        "import transformers\n",
        "import circuitsvis as cv\n",
        "from transformers import AutoConfig, AutoModel, AutoModelForCausalLM\n",
        "import transformer_lens\n",
        "import transformer_lens.utils as utils\n",
        "from transformer_lens.hook_points import (\n",
        "    HookedRootModule,\n",
        "    HookPoint,\n",
        ")  # Hooking utilities\n",
        "from transformer_lens import HookedTransformer, HookedTransformerConfig, FactoredMatrix, ActivationCache\n",
        "\n",
        "from torch import Tensor\n",
        "from tqdm.notebook import tqdm\n",
        "from jaxtyping import Float, Int, Bool\n",
        "from typing import List, Optional, Callable, Tuple, Dict, Literal, Set\n",
        "from rich import print as rprint\n",
        "\n",
        "from typing import List, Union\n",
        "import plotly.express as px\n",
        "import plotly.graph_objects as go\n",
        "from plotly.subplots import make_subplots\n",
        "import re\n",
        "\n",
        "from functools import partial\n",
        "\n",
        "from torchtyping import TensorType as TT\n",
        "\n",
        "from path_patching import Node, IterNode, path_patch, act_patch\n",
        "\n",
        "from visualization_utils import get_attn_head_patterns"
      ]
    },
    {
      "cell_type": "code",
      "execution_count": 3,
      "metadata": {},
      "outputs": [],
      "source": [
        "torch.set_grad_enabled(False)\n",
        "\n",
        "device = torch.device(\"cuda\") if torch.cuda.is_available() else torch.device(\"cpu\")"
      ]
    },
    {
      "cell_type": "code",
      "execution_count": 4,
      "metadata": {},
      "outputs": [],
      "source": [
        "update_layout_set = {\n",
        "    \"xaxis_range\", \"yaxis_range\", \"hovermode\", \"xaxis_title\", \"yaxis_title\", \"colorbar\", \"colorscale\", \"coloraxis\", \"title_x\", \"bargap\", \"bargroupgap\", \"xaxis_tickformat\",\n",
        "    \"yaxis_tickformat\", \"title_y\", \"legend_title_text\", \"xaxis_showgrid\", \"xaxis_gridwidth\", \"xaxis_gridcolor\", \"yaxis_showgrid\", \"yaxis_gridwidth\", \"yaxis_gridcolor\",\n",
        "    \"showlegend\", \"xaxis_tickmode\", \"yaxis_tickmode\", \"xaxis_tickangle\", \"yaxis_tickangle\", \"margin\", \"xaxis_visible\", \"yaxis_visible\", \"bargap\", \"bargroupgap\"\n",
        "}\n",
        "\n",
        "def imshow_p(tensor, renderer=None, **kwargs):\n",
        "    kwargs_post = {k: v for k, v in kwargs.items() if k in update_layout_set}\n",
        "    kwargs_pre = {k: v for k, v in kwargs.items() if k not in update_layout_set}\n",
        "    facet_labels = kwargs_pre.pop(\"facet_labels\", None)\n",
        "    border = kwargs_pre.pop(\"border\", False)\n",
        "    if \"color_continuous_scale\" not in kwargs_pre:\n",
        "        kwargs_pre[\"color_continuous_scale\"] = \"RdBu\"\n",
        "    if \"margin\" in kwargs_post and isinstance(kwargs_post[\"margin\"], int):\n",
        "        kwargs_post[\"margin\"] = dict.fromkeys(list(\"tblr\"), kwargs_post[\"margin\"])\n",
        "    fig = px.imshow(utils.to_numpy(tensor), color_continuous_midpoint=0.0, **kwargs_pre)\n",
        "    if facet_labels:\n",
        "        for i, label in enumerate(facet_labels):\n",
        "            fig.layout.annotations[i]['text'] = label\n",
        "    if border:\n",
        "        fig.update_xaxes(showline=True, linewidth=1, linecolor='black', mirror=True)\n",
        "        fig.update_yaxes(showline=True, linewidth=1, linecolor='black', mirror=True)\n",
        "    # things like `xaxis_tickmode` should be applied to all subplots. This is super janky lol but I'm under time pressure\n",
        "    for setting in [\"tickangle\"]:\n",
        "      if f\"xaxis_{setting}\" in kwargs_post:\n",
        "          i = 2\n",
        "          while f\"xaxis{i}\" in fig[\"layout\"]:\n",
        "            kwargs_post[f\"xaxis{i}_{setting}\"] = kwargs_post[f\"xaxis_{setting}\"]\n",
        "            i += 1\n",
        "    fig.update_layout(**kwargs_post)\n",
        "    fig.show(renderer=renderer)\n",
        "\n",
        "def hist_p(tensor, renderer=None, **kwargs):\n",
        "    kwargs_post = {k: v for k, v in kwargs.items() if k in update_layout_set}\n",
        "    kwargs_pre = {k: v for k, v in kwargs.items() if k not in update_layout_set}\n",
        "    names = kwargs_pre.pop(\"names\", None)\n",
        "    if \"barmode\" not in kwargs_post:\n",
        "        kwargs_post[\"barmode\"] = \"overlay\"\n",
        "    if \"bargap\" not in kwargs_post:\n",
        "        kwargs_post[\"bargap\"] = 0.0\n",
        "    if \"margin\" in kwargs_post and isinstance(kwargs_post[\"margin\"], int):\n",
        "        kwargs_post[\"margin\"] = dict.fromkeys(list(\"tblr\"), kwargs_post[\"margin\"])\n",
        "    fig = px.histogram(x=tensor, **kwargs_pre).update_layout(**kwargs_post)\n",
        "    if names is not None:\n",
        "        for i in range(len(fig.data)):\n",
        "            fig.data[i][\"name\"] = names[i // 2]\n",
        "    fig.show(renderer)"
      ]
    },
    {
      "cell_type": "code",
      "execution_count": 5,
      "metadata": {
        "id": "0c0JbzPpI0-D"
      },
      "outputs": [],
      "source": [
        "def imshow(tensor, renderer=None, xaxis=\"\", yaxis=\"\", **kwargs):\n",
        "    px.imshow(utils.to_numpy(tensor), color_continuous_midpoint=0.0, color_continuous_scale=\"RdBu\", labels={\"x\":xaxis, \"y\":yaxis}, **kwargs).show(renderer)\n",
        "\n",
        "def line(tensor, renderer=None, **kwargs):\n",
        "    px.line(y=utils.to_numpy(tensor), **kwargs).show(renderer)\n",
        "\n",
        "def two_lines(tensor1, tensor2, renderer=None, **kwargs):\n",
        "    px.line(y=[utils.to_numpy(tensor1), utils.to_numpy(tensor2)], **kwargs).show(renderer)\n",
        "\n",
        "def scatter(x, y, xaxis=\"\", yaxis=\"\", caxis=\"\", renderer=None, **kwargs):\n",
        "    x = utils.to_numpy(x)\n",
        "    y = utils.to_numpy(y)\n",
        "    px.scatter(y=y, x=x, labels={\"x\":xaxis, \"y\":yaxis, \"color\":caxis}, **kwargs).show(renderer)"
      ]
    },
    {
      "cell_type": "code",
      "execution_count": 6,
      "metadata": {},
      "outputs": [],
      "source": [
        "def get_logit_diff(logits, answer_token_indices, per_prompt=False):\n",
        "    \"\"\"Gets the difference between the logits of the provided tokens (e.g., the correct and incorrect tokens in IOI)\n",
        "\n",
        "    Args:\n",
        "        logits (torch.Tensor): Logits to use.\n",
        "        answer_token_indices (torch.Tensor): Indices of the tokens to compare.\n",
        "\n",
        "    Returns:\n",
        "        torch.Tensor: Difference between the logits of the provided tokens.\n",
        "    \"\"\"\n",
        "    if len(logits.shape) == 3:\n",
        "        # Get final logits only\n",
        "        logits = logits[:, -1, :]\n",
        "    left_logits = logits.gather(1, answer_token_indices[:, 0].unsqueeze(1))\n",
        "    right_logits = logits.gather(1, answer_token_indices[:, 1].unsqueeze(1))\n",
        "    if per_prompt:\n",
        "        print(left_logits - right_logits)\n",
        "\n",
        "    return (left_logits - right_logits).mean()\n",
        "\n"
      ]
    },
    {
      "attachments": {},
      "cell_type": "markdown",
      "metadata": {
        "id": "y5jV1EnY0dpf"
      },
      "source": [
        "## Exploratory Analysis\n"
      ]
    },
    {
      "cell_type": "code",
      "execution_count": 7,
      "metadata": {
        "colab": {
          "base_uri": "https://localhost:8080/"
        },
        "id": "bjeWvBNOn2VT",
        "outputId": "dff069ed-56d5-414d-d649-2c70f073b1fc"
      },
      "outputs": [
        {
          "name": "stderr",
          "output_type": "stream",
          "text": [
            "Using pad_token, but it is not set yet.\n"
          ]
        },
        {
          "name": "stdout",
          "output_type": "stream",
          "text": [
            "Loaded pretrained model gpt2-small into HookedTransformer\n"
          ]
        }
      ],
      "source": [
        "#source_model = AutoModelForCausalLM.from_pretrained(\"lvwerra/gpt2-imdb\")\n",
        "#rlhf_model = AutoModelForCausalLM.from_pretrained(\"curt-tigges/gpt2-negative-movie-reviews\")\n",
        "\n",
        "#hooked_source_model = HookedTransformer.from_pretrained(model_name=\"gpt2\", hf_model=source_model)\n",
        "#model = HookedTransformer.from_pretrained(model_name=\"EleutherAI/pythia-410m\")\n",
        "model = HookedTransformer.from_pretrained(\n",
        "    \"gpt2-small\",\n",
        "    center_unembed=True,\n",
        "    center_writing_weights=True,\n",
        "    fold_ln=True,\n",
        "    refactor_factored_attn_matrices=True,\n",
        ")"
      ]
    },
    {
      "attachments": {},
      "cell_type": "markdown",
      "metadata": {},
      "source": [
        "### Initial Examination"
      ]
    },
    {
      "cell_type": "code",
      "execution_count": 8,
      "metadata": {},
      "outputs": [],
      "source": [
        "example_prompt = \"I thought this movie was lousy, I hated it. \\nConclusion: This movie is\"\n",
        "example_answer = \" terrible\""
      ]
    },
    {
      "cell_type": "code",
      "execution_count": 9,
      "metadata": {},
      "outputs": [
        {
          "name": "stdout",
          "output_type": "stream",
          "text": [
            "Tokenized prompt: ['<|endoftext|>', 'I', ' thought', ' this', ' movie', ' was', ' lousy', ',', ' I', ' hated', ' it', '.', ' ', '\\n', 'Conclusion', ':', ' This', ' movie', ' is']\n",
            "Tokenized answer: [' terrible']\n"
          ]
        },
        {
          "data": {
            "text/html": [
              "<pre style=\"white-space:pre;overflow-x:auto;line-height:normal;font-family:Menlo,'DejaVu Sans Mono',consolas,'Courier New',monospace\">Performance on answer token:\n",
              "<span style=\"font-weight: bold\">Rank: </span><span style=\"color: #008080; text-decoration-color: #008080; font-weight: bold\">1</span><span style=\"font-weight: bold\">        Logit: </span><span style=\"color: #008080; text-decoration-color: #008080; font-weight: bold\">14.10</span><span style=\"font-weight: bold\"> Prob:  </span><span style=\"color: #008080; text-decoration-color: #008080; font-weight: bold\">4.47</span><span style=\"font-weight: bold\">% Token: | terrible|</span>\n",
              "</pre>\n"
            ],
            "text/plain": [
              "Performance on answer token:\n",
              "\u001b[1mRank: \u001b[0m\u001b[1;36m1\u001b[0m\u001b[1m        Logit: \u001b[0m\u001b[1;36m14.10\u001b[0m\u001b[1m Prob:  \u001b[0m\u001b[1;36m4.47\u001b[0m\u001b[1m% Token: | terrible|\u001b[0m\n"
            ]
          },
          "metadata": {},
          "output_type": "display_data"
        },
        {
          "name": "stdout",
          "output_type": "stream",
          "text": [
            "Top 0th token. Logit: 14.87 Prob:  9.68% Token: | a|\n",
            "Top 1th token. Logit: 14.10 Prob:  4.47% Token: | terrible|\n",
            "Top 2th token. Logit: 13.93 Prob:  3.77% Token: | bad|\n",
            "Top 3th token. Logit: 13.90 Prob:  3.67% Token: | so|\n",
            "Top 4th token. Logit: 13.87 Prob:  3.57% Token: | not|\n",
            "Top 5th token. Logit: 13.80 Prob:  3.30% Token: | awful|\n",
            "Top 6th token. Logit: 13.28 Prob:  1.98% Token: | pretty|\n",
            "Top 7th token. Logit: 13.25 Prob:  1.91% Token: | just|\n",
            "Top 8th token. Logit: 13.16 Prob:  1.75% Token: | really|\n",
            "Top 9th token. Logit: 13.13 Prob:  1.69% Token: | the|\n"
          ]
        },
        {
          "data": {
            "text/html": [
              "<pre style=\"white-space:pre;overflow-x:auto;line-height:normal;font-family:Menlo,'DejaVu Sans Mono',consolas,'Courier New',monospace\"><span style=\"font-weight: bold\">Ranks of the answer tokens:</span> <span style=\"font-weight: bold\">[(</span><span style=\"color: #008000; text-decoration-color: #008000\">' terrible'</span>, <span style=\"color: #008080; text-decoration-color: #008080; font-weight: bold\">1</span><span style=\"font-weight: bold\">)]</span>\n",
              "</pre>\n"
            ],
            "text/plain": [
              "\u001b[1mRanks of the answer tokens:\u001b[0m \u001b[1m[\u001b[0m\u001b[1m(\u001b[0m\u001b[32m' terrible'\u001b[0m, \u001b[1;36m1\u001b[0m\u001b[1m)\u001b[0m\u001b[1m]\u001b[0m\n"
            ]
          },
          "metadata": {},
          "output_type": "display_data"
        }
      ],
      "source": [
        "utils.test_prompt(example_prompt, example_answer, model, prepend_bos=True, top_k=10)"
      ]
    },
    {
      "cell_type": "code",
      "execution_count": 10,
      "metadata": {},
      "outputs": [
        {
          "name": "stdout",
          "output_type": "stream",
          "text": [
            "Tokenized prompt: ['<|endoftext|>', 'I', ' thought', ' this', ' movie', ' was', ' amazing', ',', ' I', ' loved', ' it', '.', ' ', '\\n', 'Conclusion', ':', ' This', ' movie', ' is']\n",
            "Tokenized answer: [' amazing']\n"
          ]
        },
        {
          "data": {
            "text/html": [
              "<pre style=\"white-space:pre;overflow-x:auto;line-height:normal;font-family:Menlo,'DejaVu Sans Mono',consolas,'Courier New',monospace\">Performance on answer token:\n",
              "<span style=\"font-weight: bold\">Rank: </span><span style=\"color: #008080; text-decoration-color: #008080; font-weight: bold\">1</span><span style=\"font-weight: bold\">        Logit: </span><span style=\"color: #008080; text-decoration-color: #008080; font-weight: bold\">14.65</span><span style=\"font-weight: bold\"> Prob:  </span><span style=\"color: #008080; text-decoration-color: #008080; font-weight: bold\">5.62</span><span style=\"font-weight: bold\">% Token: | amazing|</span>\n",
              "</pre>\n"
            ],
            "text/plain": [
              "Performance on answer token:\n",
              "\u001b[1mRank: \u001b[0m\u001b[1;36m1\u001b[0m\u001b[1m        Logit: \u001b[0m\u001b[1;36m14.65\u001b[0m\u001b[1m Prob:  \u001b[0m\u001b[1;36m5.62\u001b[0m\u001b[1m% Token: | amazing|\u001b[0m\n"
            ]
          },
          "metadata": {},
          "output_type": "display_data"
        },
        {
          "name": "stdout",
          "output_type": "stream",
          "text": [
            "Top 0th token. Logit: 15.37 Prob: 11.47% Token: | a|\n",
            "Top 1th token. Logit: 14.65 Prob:  5.62% Token: | amazing|\n",
            "Top 2th token. Logit: 14.58 Prob:  5.23% Token: | so|\n",
            "Top 3th token. Logit: 14.27 Prob:  3.82% Token: | awesome|\n",
            "Top 4th token. Logit: 14.25 Prob:  3.75% Token: | great|\n",
            "Top 5th token. Logit: 14.21 Prob:  3.58% Token: | one|\n",
            "Top 6th token. Logit: 14.06 Prob:  3.09% Token: | really|\n",
            "Top 7th token. Logit: 13.91 Prob:  2.67% Token: | the|\n",
            "Top 8th token. Logit: 13.82 Prob:  2.43% Token: | not|\n",
            "Top 9th token. Logit: 13.75 Prob:  2.27% Token: | just|\n"
          ]
        },
        {
          "data": {
            "text/html": [
              "<pre style=\"white-space:pre;overflow-x:auto;line-height:normal;font-family:Menlo,'DejaVu Sans Mono',consolas,'Courier New',monospace\"><span style=\"font-weight: bold\">Ranks of the answer tokens:</span> <span style=\"font-weight: bold\">[(</span><span style=\"color: #008000; text-decoration-color: #008000\">' amazing'</span>, <span style=\"color: #008080; text-decoration-color: #008080; font-weight: bold\">1</span><span style=\"font-weight: bold\">)]</span>\n",
              "</pre>\n"
            ],
            "text/plain": [
              "\u001b[1mRanks of the answer tokens:\u001b[0m \u001b[1m[\u001b[0m\u001b[1m(\u001b[0m\u001b[32m' amazing'\u001b[0m, \u001b[1;36m1\u001b[0m\u001b[1m)\u001b[0m\u001b[1m]\u001b[0m\n"
            ]
          },
          "metadata": {},
          "output_type": "display_data"
        }
      ],
      "source": [
        "example_prompt = \"I thought this movie was amazing, I loved it. \\nConclusion: This movie is\"\n",
        "example_answer = \" amazing\"\n",
        "utils.test_prompt(example_prompt, example_answer, model, prepend_bos=True, top_k=10)"
      ]
    },
    {
      "attachments": {},
      "cell_type": "markdown",
      "metadata": {},
      "source": [
        "### Dataset Construction"
      ]
    },
    {
      "cell_type": "code",
      "execution_count": 11,
      "metadata": {},
      "outputs": [
        {
          "data": {
            "text/plain": [
              "(27, 26)"
            ]
          },
          "execution_count": 11,
          "metadata": {},
          "output_type": "execute_result"
        }
      ],
      "source": [
        "positive_adjectives = [\n",
        "    ' perfect', ' fantastic',' delightful',' cheerful',' marvelous',' good',' remarkable',' wonderful',\n",
        "    ' fabulous',' outstanding',' awesome',' exceptional',' incredible',' extraordinary',\n",
        "    ' amazing',' lovely',' brilliant',' charming',' terrific',' superb',' spectacular',' great',' splendid',\n",
        "    ' beautiful',' joyful',' positive',' excellent'\n",
        "    ]\n",
        "\n",
        "negative_adjectives = [\n",
        "    ' dreadful',' bad',' dull',' depressing',' miserable',' tragic',' nasty',' inferior',' horrific',' terrible',\n",
        "    ' ugly',' disgusting',' disastrous',' horrendous',' annoying',' boring',' offensive',' frustrating',' wretched',' dire',\n",
        "    ' awful',' unpleasant',' horrible',' mediocre',' disappointing',' inadequate'\n",
        "    ]\n",
        "\n",
        "#negative_adjectives = [' lousy', ' dire', ' bad', ' nasty', ' miserable', ' wretched', ' disgusting', ' ugly', ' disastrous', ' tragic']\n",
        "\n",
        "len(positive_adjectives), len(negative_adjectives)\n"
      ]
    },
    {
      "cell_type": "code",
      "execution_count": 12,
      "metadata": {},
      "outputs": [],
      "source": [
        "all_prompts = []\n",
        "\n",
        "pos_prompts = [\n",
        "    f\"I thought this movie was{positive_adjectives[i]}, I loved it. \\nConclusion: This movie is\" for i in range(len(positive_adjectives)-1)\n",
        "]\n",
        "neg_prompts = [\n",
        "    f\"I thought this movie was{negative_adjectives[i]}, I hated it. \\nConclusion: This movie is\" for i in range(len(negative_adjectives)-1)\n",
        "]\n",
        "# List of the token (ie an integer) corresponding to each answer, in the format (correct_token, incorrect_token)\n",
        "answer_tokens = []\n",
        "for i in range(len(pos_prompts)-1):\n",
        "\n",
        "    all_prompts.append(pos_prompts[i])\n",
        "    all_prompts.append(neg_prompts[i])\n",
        "    \n",
        "    answer_tokens.append(\n",
        "        (\n",
        "            model.to_single_token(\" amazing\"),\n",
        "            model.to_single_token(\" terrible\"),\n",
        "        )\n",
        "    )\n",
        "\n",
        "    answer_tokens.append(\n",
        "        (\n",
        "            model.to_single_token(\" terrible\"),\n",
        "            model.to_single_token(\" amazing\"),\n",
        "        )\n",
        "    )\n",
        "\n",
        "answer_tokens = torch.tensor(answer_tokens).to(device)\n",
        "\n",
        "prompts_tokens = model.to_tokens(all_prompts, prepend_bos=True)\n",
        "clean_tokens = prompts_tokens.to(device)\n",
        "\n",
        "corrupted_tokens = model.to_tokens(all_prompts[1:] + [all_prompts[0]], prepend_bos=True)"
      ]
    },
    {
      "cell_type": "code",
      "execution_count": 13,
      "metadata": {},
      "outputs": [
        {
          "name": "stdout",
          "output_type": "stream",
          "text": [
            "I thought this movie was perfect, I loved it. \n",
            "Conclusion: This movie is\n",
            "tensor(2.3302, device='cuda:0')\n",
            "I thought this movie was dreadful, I hated it. \n",
            "Conclusion: This movie is\n",
            "tensor(2.4427, device='cuda:0')\n",
            "I thought this movie was fantastic, I loved it. \n",
            "Conclusion: This movie is\n",
            "tensor(2.3365, device='cuda:0')\n",
            "I thought this movie was bad, I hated it. \n",
            "Conclusion: This movie is\n",
            "tensor(2.0416, device='cuda:0')\n",
            "I thought this movie was delightful, I loved it. \n",
            "Conclusion: This movie is\n",
            "tensor(1.8997, device='cuda:0')\n",
            "I thought this movie was dull, I hated it. \n",
            "Conclusion: This movie is\n",
            "tensor(0.7407, device='cuda:0')\n",
            "I thought this movie was cheerful, I loved it. \n",
            "Conclusion: This movie is\n",
            "tensor(1.3165, device='cuda:0')\n",
            "I thought this movie was depressing, I hated it. \n",
            "Conclusion: This movie is\n",
            "tensor(1.5101, device='cuda:0')\n",
            "I thought this movie was marvelous, I loved it. \n",
            "Conclusion: This movie is\n",
            "tensor(2.5645, device='cuda:0')\n",
            "I thought this movie was miserable, I hated it. \n",
            "Conclusion: This movie is\n",
            "tensor(1.9590, device='cuda:0')\n",
            "I thought this movie was good, I loved it. \n",
            "Conclusion: This movie is\n",
            "tensor(1.1228, device='cuda:0')\n",
            "I thought this movie was tragic, I hated it. \n",
            "Conclusion: This movie is\n",
            "tensor(1.4198, device='cuda:0')\n",
            "I thought this movie was remarkable, I loved it. \n",
            "Conclusion: This movie is\n",
            "tensor(3.2916, device='cuda:0')\n",
            "I thought this movie was nasty, I hated it. \n",
            "Conclusion: This movie is\n",
            "tensor(2.1456, device='cuda:0')\n",
            "I thought this movie was wonderful, I loved it. \n",
            "Conclusion: This movie is\n",
            "tensor(2.3223, device='cuda:0')\n",
            "I thought this movie was inferior, I hated it. \n",
            "Conclusion: This movie is\n",
            "tensor(1.1128, device='cuda:0')\n",
            "I thought this movie was fabulous, I loved it. \n",
            "Conclusion: This movie is\n",
            "tensor(2.6412, device='cuda:0')\n",
            "I thought this movie was horrific, I hated it. \n",
            "Conclusion: This movie is\n",
            "tensor(2.2501, device='cuda:0')\n",
            "I thought this movie was outstanding, I loved it. \n",
            "Conclusion: This movie is\n",
            "tensor(2.7847, device='cuda:0')\n",
            "I thought this movie was terrible, I hated it. \n",
            "Conclusion: This movie is\n",
            "tensor(2.1066, device='cuda:0')\n",
            "I thought this movie was awesome, I loved it. \n",
            "Conclusion: This movie is\n",
            "tensor(2.5315, device='cuda:0')\n",
            "I thought this movie was ugly, I hated it. \n",
            "Conclusion: This movie is\n",
            "tensor(1.7390, device='cuda:0')\n",
            "I thought this movie was exceptional, I loved it. \n",
            "Conclusion: This movie is\n",
            "tensor(2.9622, device='cuda:0')\n",
            "I thought this movie was disgusting, I hated it. \n",
            "Conclusion: This movie is\n",
            "tensor(2.1057, device='cuda:0')\n",
            "I thought this movie was incredible, I loved it. \n",
            "Conclusion: This movie is\n",
            "tensor(3.1510, device='cuda:0')\n",
            "I thought this movie was disastrous, I hated it. \n",
            "Conclusion: This movie is\n",
            "tensor(2.5984, device='cuda:0')\n",
            "I thought this movie was extraordinary, I loved it. \n",
            "Conclusion: This movie is\n",
            "tensor(3.3466, device='cuda:0')\n",
            "I thought this movie was horrendous, I hated it. \n",
            "Conclusion: This movie is\n",
            "tensor(2.4620, device='cuda:0')\n",
            "I thought this movie was amazing, I loved it. \n",
            "Conclusion: This movie is\n",
            "tensor(3.1383, device='cuda:0')\n",
            "I thought this movie was annoying, I hated it. \n",
            "Conclusion: This movie is\n",
            "tensor(1.2401, device='cuda:0')\n",
            "I thought this movie was lovely, I loved it. \n",
            "Conclusion: This movie is\n",
            "tensor(2.0705, device='cuda:0')\n",
            "I thought this movie was boring, I hated it. \n",
            "Conclusion: This movie is\n",
            "tensor(0.6497, device='cuda:0')\n",
            "I thought this movie was brilliant, I loved it. \n",
            "Conclusion: This movie is\n",
            "tensor(2.0679, device='cuda:0')\n",
            "I thought this movie was offensive, I hated it. \n",
            "Conclusion: This movie is\n",
            "tensor(2.0038, device='cuda:0')\n",
            "I thought this movie was charming, I loved it. \n",
            "Conclusion: This movie is\n",
            "tensor(1.6090, device='cuda:0')\n",
            "I thought this movie was frustrating, I hated it. \n",
            "Conclusion: This movie is\n",
            "tensor(0.7509, device='cuda:0')\n",
            "I thought this movie was terrific, I loved it. \n",
            "Conclusion: This movie is\n",
            "tensor(1.6373, device='cuda:0')\n",
            "I thought this movie was wretched, I hated it. \n",
            "Conclusion: This movie is\n",
            "tensor(2.3785, device='cuda:0')\n",
            "I thought this movie was superb, I loved it. \n",
            "Conclusion: This movie is\n",
            "tensor(2.1710, device='cuda:0')\n",
            "I thought this movie was dire, I hated it. \n",
            "Conclusion: This movie is\n",
            "tensor(1.8087, device='cuda:0')\n",
            "I thought this movie was spectacular, I loved it. \n",
            "Conclusion: This movie is\n",
            "tensor(2.8305, device='cuda:0')\n",
            "I thought this movie was awful, I hated it. \n",
            "Conclusion: This movie is\n",
            "tensor(2.4388, device='cuda:0')\n",
            "I thought this movie was great, I loved it. \n",
            "Conclusion: This movie is\n",
            "tensor(1.8443, device='cuda:0')\n",
            "I thought this movie was unpleasant, I hated it. \n",
            "Conclusion: This movie is\n",
            "tensor(2.3623, device='cuda:0')\n",
            "I thought this movie was splendid, I loved it. \n",
            "Conclusion: This movie is\n",
            "tensor(2.1392, device='cuda:0')\n",
            "I thought this movie was horrible, I hated it. \n",
            "Conclusion: This movie is\n",
            "tensor(2.3529, device='cuda:0')\n",
            "I thought this movie was beautiful, I loved it. \n",
            "Conclusion: This movie is\n",
            "tensor(2.6621, device='cuda:0')\n",
            "I thought this movie was mediocre, I hated it. \n",
            "Conclusion: This movie is\n",
            "tensor(1.3268, device='cuda:0')\n",
            "I thought this movie was joyful, I loved it. \n",
            "Conclusion: This movie is\n",
            "tensor(2.1991, device='cuda:0')\n",
            "I thought this movie was disappointing, I hated it. \n",
            "Conclusion: This movie is\n",
            "tensor(1.2210, device='cuda:0')\n"
          ]
        }
      ],
      "source": [
        "for i in range(len(all_prompts)):\n",
        "    logits, _ = model.run_with_cache(all_prompts[i])\n",
        "    print(all_prompts[i])\n",
        "    print(get_logit_diff(logits, answer_tokens[i].unsqueeze(0)))"
      ]
    },
    {
      "cell_type": "code",
      "execution_count": 14,
      "metadata": {},
      "outputs": [
        {
          "data": {
            "text/plain": [
              "tensor(2.0828, device='cuda:0')"
            ]
          },
          "execution_count": 14,
          "metadata": {},
          "output_type": "execute_result"
        }
      ],
      "source": [
        "clean_logits, clean_cache = model.run_with_cache(clean_tokens)\n",
        "clean_logit_diff = get_logit_diff(clean_logits, answer_tokens, per_prompt=False)\n",
        "clean_logit_diff"
      ]
    },
    {
      "cell_type": "code",
      "execution_count": 15,
      "metadata": {},
      "outputs": [
        {
          "data": {
            "text/plain": [
              "tensor(-2.0828, device='cuda:0')"
            ]
          },
          "execution_count": 15,
          "metadata": {},
          "output_type": "execute_result"
        }
      ],
      "source": [
        "corrupted_logits, corrupted_cache = model.run_with_cache(corrupted_tokens)\n",
        "corrupted_logit_diff = get_logit_diff(corrupted_logits, answer_tokens, per_prompt=False)\n",
        "corrupted_logit_diff"
      ]
    },
    {
      "cell_type": "code",
      "execution_count": 16,
      "metadata": {},
      "outputs": [],
      "source": [
        "def logit_diff_denoising(\n",
        "    logits: Float[Tensor, \"batch seq d_vocab\"],\n",
        "    answer_tokens: Float[Tensor, \"batch 2\"] = answer_tokens,\n",
        "    flipped_logit_diff: float = corrupted_logit_diff,\n",
        "    clean_logit_diff: float = clean_logit_diff,\n",
        ") -> Float[Tensor, \"\"]:\n",
        "    '''\n",
        "    Linear function of logit diff, calibrated so that it equals 0 when performance is\n",
        "    same as on flipped input, and 1 when performance is same as on clean input.\n",
        "    '''\n",
        "    patched_logit_diff = get_logit_diff(logits, answer_tokens)\n",
        "    return ((patched_logit_diff - flipped_logit_diff) / (clean_logit_diff  - flipped_logit_diff)).item()\n",
        "\n",
        "def logit_diff_noising(\n",
        "        logits: Float[Tensor, \"batch seq d_vocab\"],\n",
        "        clean_logit_diff: float = clean_logit_diff,\n",
        "        corrupted_logit_diff: float = corrupted_logit_diff,\n",
        "        answer_tokens: Float[Tensor, \"batch 2\"] = answer_tokens,\n",
        "    ) -> float:\n",
        "        '''\n",
        "        We calibrate this so that the value is 0 when performance isn't harmed (i.e. same as IOI dataset),\n",
        "        and -1 when performance has been destroyed (i.e. is same as ABC dataset).\n",
        "        '''\n",
        "        patched_logit_diff = get_logit_diff(logits, answer_tokens)\n",
        "        return ((patched_logit_diff - clean_logit_diff) / (clean_logit_diff - corrupted_logit_diff)).item()"
      ]
    },
    {
      "attachments": {},
      "cell_type": "markdown",
      "metadata": {
        "id": "TfiWnZtelFMV"
      },
      "source": [
        "### Direct Logit Attribution"
      ]
    },
    {
      "cell_type": "code",
      "execution_count": 17,
      "metadata": {
        "colab": {
          "base_uri": "https://localhost:8080/"
        },
        "id": "bt_jzrazlMAK",
        "outputId": "39683745-1153-4a0f-bdbf-5f3be977abe3"
      },
      "outputs": [
        {
          "name": "stdout",
          "output_type": "stream",
          "text": [
            "Answer residual directions shape: torch.Size([50, 2, 768])\n",
            "Logit difference directions shape: torch.Size([50, 768])\n"
          ]
        }
      ],
      "source": [
        "answer_residual_directions = model.tokens_to_residual_directions(answer_tokens)\n",
        "print(\"Answer residual directions shape:\", answer_residual_directions.shape)\n",
        "logit_diff_directions = answer_residual_directions[:, 0] - answer_residual_directions[:, 1]\n",
        "print(\"Logit difference directions shape:\", logit_diff_directions.shape)"
      ]
    },
    {
      "cell_type": "code",
      "execution_count": 18,
      "metadata": {
        "colab": {
          "base_uri": "https://localhost:8080/"
        },
        "id": "LsDE7VUGIX8l",
        "outputId": "226c2ad4-fb5b-44f4-b872-1d06eee7cbd5"
      },
      "outputs": [
        {
          "name": "stdout",
          "output_type": "stream",
          "text": [
            "Final residual stream shape: torch.Size([50, 19, 768])\n",
            "Calculated average logit diff: 2.082763671875\n",
            "Original logit difference: 2.0827624797821045\n"
          ]
        }
      ],
      "source": [
        "# cache syntax - resid_post is the residual stream at the end of the layer, -1 gets the final layer. The general syntax is [activation_name, layer_index, sub_layer_type]. \n",
        "final_residual_stream = clean_cache[\"resid_post\", -1]\n",
        "print(\"Final residual stream shape:\", final_residual_stream.shape)\n",
        "final_token_residual_stream = final_residual_stream[:, -1, :]\n",
        "# Apply LayerNorm scaling\n",
        "# pos_slice is the subset of the positions we take - here the final token of each prompt\n",
        "scaled_final_token_residual_stream = clean_cache.apply_ln_to_stack(final_token_residual_stream, layer = -1, pos_slice=-1)\n",
        "\n",
        "average_logit_diff = einsum(\"batch d_model, batch d_model -> \", scaled_final_token_residual_stream, logit_diff_directions)/len(all_prompts)\n",
        "print(\"Calculated average logit diff:\", average_logit_diff.item())\n",
        "print(\"Original logit difference:\",clean_logit_diff.item())"
      ]
    },
    {
      "attachments": {},
      "cell_type": "markdown",
      "metadata": {
        "id": "Nb2nC45lIohT"
      },
      "source": [
        "#### Logit Lens"
      ]
    },
    {
      "cell_type": "code",
      "execution_count": 19,
      "metadata": {
        "id": "DvRDK2krIrid"
      },
      "outputs": [],
      "source": [
        "def residual_stack_to_logit_diff(residual_stack: TT[\"components\", \"batch\", \"d_model\"], cache: ActivationCache) -> float:\n",
        "    scaled_residual_stack = clean_cache.apply_ln_to_stack(residual_stack, layer = -1, pos_slice=-1)\n",
        "    return einsum(\"... batch d_model, batch d_model -> ...\", scaled_residual_stack, logit_diff_directions)/len(all_prompts)"
      ]
    },
    {
      "cell_type": "code",
      "execution_count": 20,
      "metadata": {
        "colab": {
          "base_uri": "https://localhost:8080/",
          "height": 542
        },
        "id": "7vxP1pNuPMhr",
        "outputId": "616ac0ef-ddd2-4b1e-bccd-8ee3a3ebce23"
      },
      "outputs": [
        {
          "data": {
            "application/vnd.plotly.v1+json": {
              "config": {
                "plotlyServerURL": "https://plot.ly"
              },
              "data": [
                {
                  "hovertemplate": "<b>%{hovertext}</b><br><br>x=%{x}<br>y=%{y}<extra></extra>",
                  "hovertext": [
                    "0_pre",
                    "0_mid",
                    "1_pre",
                    "1_mid",
                    "2_pre",
                    "2_mid",
                    "3_pre",
                    "3_mid",
                    "4_pre",
                    "4_mid",
                    "5_pre",
                    "5_mid",
                    "6_pre",
                    "6_mid",
                    "7_pre",
                    "7_mid",
                    "8_pre",
                    "8_mid",
                    "9_pre",
                    "9_mid",
                    "10_pre",
                    "10_mid",
                    "11_pre",
                    "11_mid",
                    "final_post"
                  ],
                  "legendgroup": "",
                  "line": {
                    "color": "#636efa",
                    "dash": "solid"
                  },
                  "marker": {
                    "symbol": "circle"
                  },
                  "mode": "lines",
                  "name": "",
                  "orientation": "v",
                  "showlegend": false,
                  "type": "scatter",
                  "x": [
                    0,
                    0.5,
                    1,
                    1.5,
                    2,
                    2.5,
                    3,
                    3.5,
                    4,
                    4.5,
                    5,
                    5.5,
                    6,
                    6.5,
                    7,
                    7.5,
                    8,
                    8.5,
                    9,
                    9.5,
                    10,
                    10.5,
                    11,
                    11.5,
                    12
                  ],
                  "xaxis": "x",
                  "y": [
                    0.000016859121387824416,
                    0.01996169239282608,
                    0.016354262828826904,
                    0.031095193699002266,
                    0.026855692267417908,
                    0.04335765913128853,
                    0.03144436702132225,
                    0.038970496505498886,
                    0.03830522298812866,
                    0.05148552730679512,
                    0.05248598754405975,
                    0.08326032757759094,
                    0.07462608069181442,
                    0.11274708807468414,
                    0.11095374077558517,
                    0.2105582058429718,
                    0.24722589552402496,
                    0.37699782848358154,
                    0.518980085849762,
                    0.8448799848556519,
                    1.00214421749115,
                    1.6909915208816528,
                    1.873942255973816,
                    2.090784788131714,
                    2.082763671875
                  ],
                  "yaxis": "y"
                }
              ],
              "layout": {
                "legend": {
                  "tracegroupgap": 0
                },
                "template": {
                  "data": {
                    "bar": [
                      {
                        "error_x": {
                          "color": "#2a3f5f"
                        },
                        "error_y": {
                          "color": "#2a3f5f"
                        },
                        "marker": {
                          "line": {
                            "color": "#E5ECF6",
                            "width": 0.5
                          },
                          "pattern": {
                            "fillmode": "overlay",
                            "size": 10,
                            "solidity": 0.2
                          }
                        },
                        "type": "bar"
                      }
                    ],
                    "barpolar": [
                      {
                        "marker": {
                          "line": {
                            "color": "#E5ECF6",
                            "width": 0.5
                          },
                          "pattern": {
                            "fillmode": "overlay",
                            "size": 10,
                            "solidity": 0.2
                          }
                        },
                        "type": "barpolar"
                      }
                    ],
                    "carpet": [
                      {
                        "aaxis": {
                          "endlinecolor": "#2a3f5f",
                          "gridcolor": "white",
                          "linecolor": "white",
                          "minorgridcolor": "white",
                          "startlinecolor": "#2a3f5f"
                        },
                        "baxis": {
                          "endlinecolor": "#2a3f5f",
                          "gridcolor": "white",
                          "linecolor": "white",
                          "minorgridcolor": "white",
                          "startlinecolor": "#2a3f5f"
                        },
                        "type": "carpet"
                      }
                    ],
                    "choropleth": [
                      {
                        "colorbar": {
                          "outlinewidth": 0,
                          "ticks": ""
                        },
                        "type": "choropleth"
                      }
                    ],
                    "contour": [
                      {
                        "colorbar": {
                          "outlinewidth": 0,
                          "ticks": ""
                        },
                        "colorscale": [
                          [
                            0,
                            "#0d0887"
                          ],
                          [
                            0.1111111111111111,
                            "#46039f"
                          ],
                          [
                            0.2222222222222222,
                            "#7201a8"
                          ],
                          [
                            0.3333333333333333,
                            "#9c179e"
                          ],
                          [
                            0.4444444444444444,
                            "#bd3786"
                          ],
                          [
                            0.5555555555555556,
                            "#d8576b"
                          ],
                          [
                            0.6666666666666666,
                            "#ed7953"
                          ],
                          [
                            0.7777777777777778,
                            "#fb9f3a"
                          ],
                          [
                            0.8888888888888888,
                            "#fdca26"
                          ],
                          [
                            1,
                            "#f0f921"
                          ]
                        ],
                        "type": "contour"
                      }
                    ],
                    "contourcarpet": [
                      {
                        "colorbar": {
                          "outlinewidth": 0,
                          "ticks": ""
                        },
                        "type": "contourcarpet"
                      }
                    ],
                    "heatmap": [
                      {
                        "colorbar": {
                          "outlinewidth": 0,
                          "ticks": ""
                        },
                        "colorscale": [
                          [
                            0,
                            "#0d0887"
                          ],
                          [
                            0.1111111111111111,
                            "#46039f"
                          ],
                          [
                            0.2222222222222222,
                            "#7201a8"
                          ],
                          [
                            0.3333333333333333,
                            "#9c179e"
                          ],
                          [
                            0.4444444444444444,
                            "#bd3786"
                          ],
                          [
                            0.5555555555555556,
                            "#d8576b"
                          ],
                          [
                            0.6666666666666666,
                            "#ed7953"
                          ],
                          [
                            0.7777777777777778,
                            "#fb9f3a"
                          ],
                          [
                            0.8888888888888888,
                            "#fdca26"
                          ],
                          [
                            1,
                            "#f0f921"
                          ]
                        ],
                        "type": "heatmap"
                      }
                    ],
                    "heatmapgl": [
                      {
                        "colorbar": {
                          "outlinewidth": 0,
                          "ticks": ""
                        },
                        "colorscale": [
                          [
                            0,
                            "#0d0887"
                          ],
                          [
                            0.1111111111111111,
                            "#46039f"
                          ],
                          [
                            0.2222222222222222,
                            "#7201a8"
                          ],
                          [
                            0.3333333333333333,
                            "#9c179e"
                          ],
                          [
                            0.4444444444444444,
                            "#bd3786"
                          ],
                          [
                            0.5555555555555556,
                            "#d8576b"
                          ],
                          [
                            0.6666666666666666,
                            "#ed7953"
                          ],
                          [
                            0.7777777777777778,
                            "#fb9f3a"
                          ],
                          [
                            0.8888888888888888,
                            "#fdca26"
                          ],
                          [
                            1,
                            "#f0f921"
                          ]
                        ],
                        "type": "heatmapgl"
                      }
                    ],
                    "histogram": [
                      {
                        "marker": {
                          "pattern": {
                            "fillmode": "overlay",
                            "size": 10,
                            "solidity": 0.2
                          }
                        },
                        "type": "histogram"
                      }
                    ],
                    "histogram2d": [
                      {
                        "colorbar": {
                          "outlinewidth": 0,
                          "ticks": ""
                        },
                        "colorscale": [
                          [
                            0,
                            "#0d0887"
                          ],
                          [
                            0.1111111111111111,
                            "#46039f"
                          ],
                          [
                            0.2222222222222222,
                            "#7201a8"
                          ],
                          [
                            0.3333333333333333,
                            "#9c179e"
                          ],
                          [
                            0.4444444444444444,
                            "#bd3786"
                          ],
                          [
                            0.5555555555555556,
                            "#d8576b"
                          ],
                          [
                            0.6666666666666666,
                            "#ed7953"
                          ],
                          [
                            0.7777777777777778,
                            "#fb9f3a"
                          ],
                          [
                            0.8888888888888888,
                            "#fdca26"
                          ],
                          [
                            1,
                            "#f0f921"
                          ]
                        ],
                        "type": "histogram2d"
                      }
                    ],
                    "histogram2dcontour": [
                      {
                        "colorbar": {
                          "outlinewidth": 0,
                          "ticks": ""
                        },
                        "colorscale": [
                          [
                            0,
                            "#0d0887"
                          ],
                          [
                            0.1111111111111111,
                            "#46039f"
                          ],
                          [
                            0.2222222222222222,
                            "#7201a8"
                          ],
                          [
                            0.3333333333333333,
                            "#9c179e"
                          ],
                          [
                            0.4444444444444444,
                            "#bd3786"
                          ],
                          [
                            0.5555555555555556,
                            "#d8576b"
                          ],
                          [
                            0.6666666666666666,
                            "#ed7953"
                          ],
                          [
                            0.7777777777777778,
                            "#fb9f3a"
                          ],
                          [
                            0.8888888888888888,
                            "#fdca26"
                          ],
                          [
                            1,
                            "#f0f921"
                          ]
                        ],
                        "type": "histogram2dcontour"
                      }
                    ],
                    "mesh3d": [
                      {
                        "colorbar": {
                          "outlinewidth": 0,
                          "ticks": ""
                        },
                        "type": "mesh3d"
                      }
                    ],
                    "parcoords": [
                      {
                        "line": {
                          "colorbar": {
                            "outlinewidth": 0,
                            "ticks": ""
                          }
                        },
                        "type": "parcoords"
                      }
                    ],
                    "pie": [
                      {
                        "automargin": true,
                        "type": "pie"
                      }
                    ],
                    "scatter": [
                      {
                        "fillpattern": {
                          "fillmode": "overlay",
                          "size": 10,
                          "solidity": 0.2
                        },
                        "type": "scatter"
                      }
                    ],
                    "scatter3d": [
                      {
                        "line": {
                          "colorbar": {
                            "outlinewidth": 0,
                            "ticks": ""
                          }
                        },
                        "marker": {
                          "colorbar": {
                            "outlinewidth": 0,
                            "ticks": ""
                          }
                        },
                        "type": "scatter3d"
                      }
                    ],
                    "scattercarpet": [
                      {
                        "marker": {
                          "colorbar": {
                            "outlinewidth": 0,
                            "ticks": ""
                          }
                        },
                        "type": "scattercarpet"
                      }
                    ],
                    "scattergeo": [
                      {
                        "marker": {
                          "colorbar": {
                            "outlinewidth": 0,
                            "ticks": ""
                          }
                        },
                        "type": "scattergeo"
                      }
                    ],
                    "scattergl": [
                      {
                        "marker": {
                          "colorbar": {
                            "outlinewidth": 0,
                            "ticks": ""
                          }
                        },
                        "type": "scattergl"
                      }
                    ],
                    "scattermapbox": [
                      {
                        "marker": {
                          "colorbar": {
                            "outlinewidth": 0,
                            "ticks": ""
                          }
                        },
                        "type": "scattermapbox"
                      }
                    ],
                    "scatterpolar": [
                      {
                        "marker": {
                          "colorbar": {
                            "outlinewidth": 0,
                            "ticks": ""
                          }
                        },
                        "type": "scatterpolar"
                      }
                    ],
                    "scatterpolargl": [
                      {
                        "marker": {
                          "colorbar": {
                            "outlinewidth": 0,
                            "ticks": ""
                          }
                        },
                        "type": "scatterpolargl"
                      }
                    ],
                    "scatterternary": [
                      {
                        "marker": {
                          "colorbar": {
                            "outlinewidth": 0,
                            "ticks": ""
                          }
                        },
                        "type": "scatterternary"
                      }
                    ],
                    "surface": [
                      {
                        "colorbar": {
                          "outlinewidth": 0,
                          "ticks": ""
                        },
                        "colorscale": [
                          [
                            0,
                            "#0d0887"
                          ],
                          [
                            0.1111111111111111,
                            "#46039f"
                          ],
                          [
                            0.2222222222222222,
                            "#7201a8"
                          ],
                          [
                            0.3333333333333333,
                            "#9c179e"
                          ],
                          [
                            0.4444444444444444,
                            "#bd3786"
                          ],
                          [
                            0.5555555555555556,
                            "#d8576b"
                          ],
                          [
                            0.6666666666666666,
                            "#ed7953"
                          ],
                          [
                            0.7777777777777778,
                            "#fb9f3a"
                          ],
                          [
                            0.8888888888888888,
                            "#fdca26"
                          ],
                          [
                            1,
                            "#f0f921"
                          ]
                        ],
                        "type": "surface"
                      }
                    ],
                    "table": [
                      {
                        "cells": {
                          "fill": {
                            "color": "#EBF0F8"
                          },
                          "line": {
                            "color": "white"
                          }
                        },
                        "header": {
                          "fill": {
                            "color": "#C8D4E3"
                          },
                          "line": {
                            "color": "white"
                          }
                        },
                        "type": "table"
                      }
                    ]
                  },
                  "layout": {
                    "annotationdefaults": {
                      "arrowcolor": "#2a3f5f",
                      "arrowhead": 0,
                      "arrowwidth": 1
                    },
                    "autotypenumbers": "strict",
                    "coloraxis": {
                      "colorbar": {
                        "outlinewidth": 0,
                        "ticks": ""
                      }
                    },
                    "colorscale": {
                      "diverging": [
                        [
                          0,
                          "#8e0152"
                        ],
                        [
                          0.1,
                          "#c51b7d"
                        ],
                        [
                          0.2,
                          "#de77ae"
                        ],
                        [
                          0.3,
                          "#f1b6da"
                        ],
                        [
                          0.4,
                          "#fde0ef"
                        ],
                        [
                          0.5,
                          "#f7f7f7"
                        ],
                        [
                          0.6,
                          "#e6f5d0"
                        ],
                        [
                          0.7,
                          "#b8e186"
                        ],
                        [
                          0.8,
                          "#7fbc41"
                        ],
                        [
                          0.9,
                          "#4d9221"
                        ],
                        [
                          1,
                          "#276419"
                        ]
                      ],
                      "sequential": [
                        [
                          0,
                          "#0d0887"
                        ],
                        [
                          0.1111111111111111,
                          "#46039f"
                        ],
                        [
                          0.2222222222222222,
                          "#7201a8"
                        ],
                        [
                          0.3333333333333333,
                          "#9c179e"
                        ],
                        [
                          0.4444444444444444,
                          "#bd3786"
                        ],
                        [
                          0.5555555555555556,
                          "#d8576b"
                        ],
                        [
                          0.6666666666666666,
                          "#ed7953"
                        ],
                        [
                          0.7777777777777778,
                          "#fb9f3a"
                        ],
                        [
                          0.8888888888888888,
                          "#fdca26"
                        ],
                        [
                          1,
                          "#f0f921"
                        ]
                      ],
                      "sequentialminus": [
                        [
                          0,
                          "#0d0887"
                        ],
                        [
                          0.1111111111111111,
                          "#46039f"
                        ],
                        [
                          0.2222222222222222,
                          "#7201a8"
                        ],
                        [
                          0.3333333333333333,
                          "#9c179e"
                        ],
                        [
                          0.4444444444444444,
                          "#bd3786"
                        ],
                        [
                          0.5555555555555556,
                          "#d8576b"
                        ],
                        [
                          0.6666666666666666,
                          "#ed7953"
                        ],
                        [
                          0.7777777777777778,
                          "#fb9f3a"
                        ],
                        [
                          0.8888888888888888,
                          "#fdca26"
                        ],
                        [
                          1,
                          "#f0f921"
                        ]
                      ]
                    },
                    "colorway": [
                      "#636efa",
                      "#EF553B",
                      "#00cc96",
                      "#ab63fa",
                      "#FFA15A",
                      "#19d3f3",
                      "#FF6692",
                      "#B6E880",
                      "#FF97FF",
                      "#FECB52"
                    ],
                    "font": {
                      "color": "#2a3f5f"
                    },
                    "geo": {
                      "bgcolor": "white",
                      "lakecolor": "white",
                      "landcolor": "#E5ECF6",
                      "showlakes": true,
                      "showland": true,
                      "subunitcolor": "white"
                    },
                    "hoverlabel": {
                      "align": "left"
                    },
                    "hovermode": "closest",
                    "mapbox": {
                      "style": "light"
                    },
                    "paper_bgcolor": "white",
                    "plot_bgcolor": "#E5ECF6",
                    "polar": {
                      "angularaxis": {
                        "gridcolor": "white",
                        "linecolor": "white",
                        "ticks": ""
                      },
                      "bgcolor": "#E5ECF6",
                      "radialaxis": {
                        "gridcolor": "white",
                        "linecolor": "white",
                        "ticks": ""
                      }
                    },
                    "scene": {
                      "xaxis": {
                        "backgroundcolor": "#E5ECF6",
                        "gridcolor": "white",
                        "gridwidth": 2,
                        "linecolor": "white",
                        "showbackground": true,
                        "ticks": "",
                        "zerolinecolor": "white"
                      },
                      "yaxis": {
                        "backgroundcolor": "#E5ECF6",
                        "gridcolor": "white",
                        "gridwidth": 2,
                        "linecolor": "white",
                        "showbackground": true,
                        "ticks": "",
                        "zerolinecolor": "white"
                      },
                      "zaxis": {
                        "backgroundcolor": "#E5ECF6",
                        "gridcolor": "white",
                        "gridwidth": 2,
                        "linecolor": "white",
                        "showbackground": true,
                        "ticks": "",
                        "zerolinecolor": "white"
                      }
                    },
                    "shapedefaults": {
                      "line": {
                        "color": "#2a3f5f"
                      }
                    },
                    "ternary": {
                      "aaxis": {
                        "gridcolor": "white",
                        "linecolor": "white",
                        "ticks": ""
                      },
                      "baxis": {
                        "gridcolor": "white",
                        "linecolor": "white",
                        "ticks": ""
                      },
                      "bgcolor": "#E5ECF6",
                      "caxis": {
                        "gridcolor": "white",
                        "linecolor": "white",
                        "ticks": ""
                      }
                    },
                    "title": {
                      "x": 0.05
                    },
                    "xaxis": {
                      "automargin": true,
                      "gridcolor": "white",
                      "linecolor": "white",
                      "ticks": "",
                      "title": {
                        "standoff": 15
                      },
                      "zerolinecolor": "white",
                      "zerolinewidth": 2
                    },
                    "yaxis": {
                      "automargin": true,
                      "gridcolor": "white",
                      "linecolor": "white",
                      "ticks": "",
                      "title": {
                        "standoff": 15
                      },
                      "zerolinecolor": "white",
                      "zerolinewidth": 2
                    }
                  }
                },
                "title": {
                  "text": "Logit Difference From Accumulate Residual Stream"
                },
                "xaxis": {
                  "anchor": "y",
                  "domain": [
                    0,
                    1
                  ],
                  "title": {
                    "text": "x"
                  }
                },
                "yaxis": {
                  "anchor": "x",
                  "domain": [
                    0,
                    1
                  ],
                  "title": {
                    "text": "y"
                  }
                }
              }
            }
          },
          "metadata": {},
          "output_type": "display_data"
        }
      ],
      "source": [
        "accumulated_residual, labels = clean_cache.accumulated_resid(layer=-1, incl_mid=True, pos_slice=-1, return_labels=True)\n",
        "logit_lens_logit_diffs = residual_stack_to_logit_diff(accumulated_residual, clean_cache)\n",
        "line(logit_lens_logit_diffs, x=np.arange(model.cfg.n_layers*2+1)/2, hover_name=labels, title=\"Logit Difference From Accumulate Residual Stream\")"
      ]
    },
    {
      "attachments": {},
      "cell_type": "markdown",
      "metadata": {
        "id": "s60emfYIbTuT"
      },
      "source": [
        "#### Layer Attribution"
      ]
    },
    {
      "cell_type": "code",
      "execution_count": 21,
      "metadata": {
        "colab": {
          "base_uri": "https://localhost:8080/",
          "height": 542
        },
        "id": "yGgAVYgIJi9Z",
        "outputId": "2d6b1ffe-b701-419d-a786-24f0d24d2b54"
      },
      "outputs": [
        {
          "data": {
            "application/vnd.plotly.v1+json": {
              "config": {
                "plotlyServerURL": "https://plot.ly"
              },
              "data": [
                {
                  "hovertemplate": "<b>%{hovertext}</b><br><br>x=%{x}<br>y=%{y}<extra></extra>",
                  "hovertext": [
                    "embed",
                    "pos_embed",
                    "0_attn_out",
                    "0_mlp_out",
                    "1_attn_out",
                    "1_mlp_out",
                    "2_attn_out",
                    "2_mlp_out",
                    "3_attn_out",
                    "3_mlp_out",
                    "4_attn_out",
                    "4_mlp_out",
                    "5_attn_out",
                    "5_mlp_out",
                    "6_attn_out",
                    "6_mlp_out",
                    "7_attn_out",
                    "7_mlp_out",
                    "8_attn_out",
                    "8_mlp_out",
                    "9_attn_out",
                    "9_mlp_out",
                    "10_attn_out",
                    "10_mlp_out",
                    "11_attn_out",
                    "11_mlp_out"
                  ],
                  "legendgroup": "",
                  "line": {
                    "color": "#636efa",
                    "dash": "solid"
                  },
                  "marker": {
                    "symbol": "circle"
                  },
                  "mode": "lines",
                  "name": "",
                  "orientation": "v",
                  "showlegend": false,
                  "type": "scatter",
                  "x": [
                    0,
                    1,
                    2,
                    3,
                    4,
                    5,
                    6,
                    7,
                    8,
                    9,
                    10,
                    11,
                    12,
                    13,
                    14,
                    15,
                    16,
                    17,
                    18,
                    19,
                    20,
                    21,
                    22,
                    23,
                    24,
                    25
                  ],
                  "xaxis": "x",
                  "y": [
                    0.000025243991331080906,
                    -0.000008384286957152653,
                    0.019944828003644943,
                    -0.0036074332892894745,
                    0.014740940183401108,
                    -0.00423950282856822,
                    0.016501963138580322,
                    -0.01191328652203083,
                    0.00752612529322505,
                    -0.0006652709562331438,
                    0.013180302456021309,
                    0.00100046512670815,
                    0.030774347484111786,
                    -0.008634253405034542,
                    0.03812101110816002,
                    -0.0017933612689375877,
                    0.09960447251796722,
                    0.03666770085692406,
                    0.12977197766304016,
                    0.14198224246501923,
                    0.3258998394012451,
                    0.15726415812969208,
                    0.6888471841812134,
                    0.1829509288072586,
                    0.21684248745441437,
                    -0.008021222427487373
                  ],
                  "yaxis": "y"
                }
              ],
              "layout": {
                "legend": {
                  "tracegroupgap": 0
                },
                "template": {
                  "data": {
                    "bar": [
                      {
                        "error_x": {
                          "color": "#2a3f5f"
                        },
                        "error_y": {
                          "color": "#2a3f5f"
                        },
                        "marker": {
                          "line": {
                            "color": "#E5ECF6",
                            "width": 0.5
                          },
                          "pattern": {
                            "fillmode": "overlay",
                            "size": 10,
                            "solidity": 0.2
                          }
                        },
                        "type": "bar"
                      }
                    ],
                    "barpolar": [
                      {
                        "marker": {
                          "line": {
                            "color": "#E5ECF6",
                            "width": 0.5
                          },
                          "pattern": {
                            "fillmode": "overlay",
                            "size": 10,
                            "solidity": 0.2
                          }
                        },
                        "type": "barpolar"
                      }
                    ],
                    "carpet": [
                      {
                        "aaxis": {
                          "endlinecolor": "#2a3f5f",
                          "gridcolor": "white",
                          "linecolor": "white",
                          "minorgridcolor": "white",
                          "startlinecolor": "#2a3f5f"
                        },
                        "baxis": {
                          "endlinecolor": "#2a3f5f",
                          "gridcolor": "white",
                          "linecolor": "white",
                          "minorgridcolor": "white",
                          "startlinecolor": "#2a3f5f"
                        },
                        "type": "carpet"
                      }
                    ],
                    "choropleth": [
                      {
                        "colorbar": {
                          "outlinewidth": 0,
                          "ticks": ""
                        },
                        "type": "choropleth"
                      }
                    ],
                    "contour": [
                      {
                        "colorbar": {
                          "outlinewidth": 0,
                          "ticks": ""
                        },
                        "colorscale": [
                          [
                            0,
                            "#0d0887"
                          ],
                          [
                            0.1111111111111111,
                            "#46039f"
                          ],
                          [
                            0.2222222222222222,
                            "#7201a8"
                          ],
                          [
                            0.3333333333333333,
                            "#9c179e"
                          ],
                          [
                            0.4444444444444444,
                            "#bd3786"
                          ],
                          [
                            0.5555555555555556,
                            "#d8576b"
                          ],
                          [
                            0.6666666666666666,
                            "#ed7953"
                          ],
                          [
                            0.7777777777777778,
                            "#fb9f3a"
                          ],
                          [
                            0.8888888888888888,
                            "#fdca26"
                          ],
                          [
                            1,
                            "#f0f921"
                          ]
                        ],
                        "type": "contour"
                      }
                    ],
                    "contourcarpet": [
                      {
                        "colorbar": {
                          "outlinewidth": 0,
                          "ticks": ""
                        },
                        "type": "contourcarpet"
                      }
                    ],
                    "heatmap": [
                      {
                        "colorbar": {
                          "outlinewidth": 0,
                          "ticks": ""
                        },
                        "colorscale": [
                          [
                            0,
                            "#0d0887"
                          ],
                          [
                            0.1111111111111111,
                            "#46039f"
                          ],
                          [
                            0.2222222222222222,
                            "#7201a8"
                          ],
                          [
                            0.3333333333333333,
                            "#9c179e"
                          ],
                          [
                            0.4444444444444444,
                            "#bd3786"
                          ],
                          [
                            0.5555555555555556,
                            "#d8576b"
                          ],
                          [
                            0.6666666666666666,
                            "#ed7953"
                          ],
                          [
                            0.7777777777777778,
                            "#fb9f3a"
                          ],
                          [
                            0.8888888888888888,
                            "#fdca26"
                          ],
                          [
                            1,
                            "#f0f921"
                          ]
                        ],
                        "type": "heatmap"
                      }
                    ],
                    "heatmapgl": [
                      {
                        "colorbar": {
                          "outlinewidth": 0,
                          "ticks": ""
                        },
                        "colorscale": [
                          [
                            0,
                            "#0d0887"
                          ],
                          [
                            0.1111111111111111,
                            "#46039f"
                          ],
                          [
                            0.2222222222222222,
                            "#7201a8"
                          ],
                          [
                            0.3333333333333333,
                            "#9c179e"
                          ],
                          [
                            0.4444444444444444,
                            "#bd3786"
                          ],
                          [
                            0.5555555555555556,
                            "#d8576b"
                          ],
                          [
                            0.6666666666666666,
                            "#ed7953"
                          ],
                          [
                            0.7777777777777778,
                            "#fb9f3a"
                          ],
                          [
                            0.8888888888888888,
                            "#fdca26"
                          ],
                          [
                            1,
                            "#f0f921"
                          ]
                        ],
                        "type": "heatmapgl"
                      }
                    ],
                    "histogram": [
                      {
                        "marker": {
                          "pattern": {
                            "fillmode": "overlay",
                            "size": 10,
                            "solidity": 0.2
                          }
                        },
                        "type": "histogram"
                      }
                    ],
                    "histogram2d": [
                      {
                        "colorbar": {
                          "outlinewidth": 0,
                          "ticks": ""
                        },
                        "colorscale": [
                          [
                            0,
                            "#0d0887"
                          ],
                          [
                            0.1111111111111111,
                            "#46039f"
                          ],
                          [
                            0.2222222222222222,
                            "#7201a8"
                          ],
                          [
                            0.3333333333333333,
                            "#9c179e"
                          ],
                          [
                            0.4444444444444444,
                            "#bd3786"
                          ],
                          [
                            0.5555555555555556,
                            "#d8576b"
                          ],
                          [
                            0.6666666666666666,
                            "#ed7953"
                          ],
                          [
                            0.7777777777777778,
                            "#fb9f3a"
                          ],
                          [
                            0.8888888888888888,
                            "#fdca26"
                          ],
                          [
                            1,
                            "#f0f921"
                          ]
                        ],
                        "type": "histogram2d"
                      }
                    ],
                    "histogram2dcontour": [
                      {
                        "colorbar": {
                          "outlinewidth": 0,
                          "ticks": ""
                        },
                        "colorscale": [
                          [
                            0,
                            "#0d0887"
                          ],
                          [
                            0.1111111111111111,
                            "#46039f"
                          ],
                          [
                            0.2222222222222222,
                            "#7201a8"
                          ],
                          [
                            0.3333333333333333,
                            "#9c179e"
                          ],
                          [
                            0.4444444444444444,
                            "#bd3786"
                          ],
                          [
                            0.5555555555555556,
                            "#d8576b"
                          ],
                          [
                            0.6666666666666666,
                            "#ed7953"
                          ],
                          [
                            0.7777777777777778,
                            "#fb9f3a"
                          ],
                          [
                            0.8888888888888888,
                            "#fdca26"
                          ],
                          [
                            1,
                            "#f0f921"
                          ]
                        ],
                        "type": "histogram2dcontour"
                      }
                    ],
                    "mesh3d": [
                      {
                        "colorbar": {
                          "outlinewidth": 0,
                          "ticks": ""
                        },
                        "type": "mesh3d"
                      }
                    ],
                    "parcoords": [
                      {
                        "line": {
                          "colorbar": {
                            "outlinewidth": 0,
                            "ticks": ""
                          }
                        },
                        "type": "parcoords"
                      }
                    ],
                    "pie": [
                      {
                        "automargin": true,
                        "type": "pie"
                      }
                    ],
                    "scatter": [
                      {
                        "fillpattern": {
                          "fillmode": "overlay",
                          "size": 10,
                          "solidity": 0.2
                        },
                        "type": "scatter"
                      }
                    ],
                    "scatter3d": [
                      {
                        "line": {
                          "colorbar": {
                            "outlinewidth": 0,
                            "ticks": ""
                          }
                        },
                        "marker": {
                          "colorbar": {
                            "outlinewidth": 0,
                            "ticks": ""
                          }
                        },
                        "type": "scatter3d"
                      }
                    ],
                    "scattercarpet": [
                      {
                        "marker": {
                          "colorbar": {
                            "outlinewidth": 0,
                            "ticks": ""
                          }
                        },
                        "type": "scattercarpet"
                      }
                    ],
                    "scattergeo": [
                      {
                        "marker": {
                          "colorbar": {
                            "outlinewidth": 0,
                            "ticks": ""
                          }
                        },
                        "type": "scattergeo"
                      }
                    ],
                    "scattergl": [
                      {
                        "marker": {
                          "colorbar": {
                            "outlinewidth": 0,
                            "ticks": ""
                          }
                        },
                        "type": "scattergl"
                      }
                    ],
                    "scattermapbox": [
                      {
                        "marker": {
                          "colorbar": {
                            "outlinewidth": 0,
                            "ticks": ""
                          }
                        },
                        "type": "scattermapbox"
                      }
                    ],
                    "scatterpolar": [
                      {
                        "marker": {
                          "colorbar": {
                            "outlinewidth": 0,
                            "ticks": ""
                          }
                        },
                        "type": "scatterpolar"
                      }
                    ],
                    "scatterpolargl": [
                      {
                        "marker": {
                          "colorbar": {
                            "outlinewidth": 0,
                            "ticks": ""
                          }
                        },
                        "type": "scatterpolargl"
                      }
                    ],
                    "scatterternary": [
                      {
                        "marker": {
                          "colorbar": {
                            "outlinewidth": 0,
                            "ticks": ""
                          }
                        },
                        "type": "scatterternary"
                      }
                    ],
                    "surface": [
                      {
                        "colorbar": {
                          "outlinewidth": 0,
                          "ticks": ""
                        },
                        "colorscale": [
                          [
                            0,
                            "#0d0887"
                          ],
                          [
                            0.1111111111111111,
                            "#46039f"
                          ],
                          [
                            0.2222222222222222,
                            "#7201a8"
                          ],
                          [
                            0.3333333333333333,
                            "#9c179e"
                          ],
                          [
                            0.4444444444444444,
                            "#bd3786"
                          ],
                          [
                            0.5555555555555556,
                            "#d8576b"
                          ],
                          [
                            0.6666666666666666,
                            "#ed7953"
                          ],
                          [
                            0.7777777777777778,
                            "#fb9f3a"
                          ],
                          [
                            0.8888888888888888,
                            "#fdca26"
                          ],
                          [
                            1,
                            "#f0f921"
                          ]
                        ],
                        "type": "surface"
                      }
                    ],
                    "table": [
                      {
                        "cells": {
                          "fill": {
                            "color": "#EBF0F8"
                          },
                          "line": {
                            "color": "white"
                          }
                        },
                        "header": {
                          "fill": {
                            "color": "#C8D4E3"
                          },
                          "line": {
                            "color": "white"
                          }
                        },
                        "type": "table"
                      }
                    ]
                  },
                  "layout": {
                    "annotationdefaults": {
                      "arrowcolor": "#2a3f5f",
                      "arrowhead": 0,
                      "arrowwidth": 1
                    },
                    "autotypenumbers": "strict",
                    "coloraxis": {
                      "colorbar": {
                        "outlinewidth": 0,
                        "ticks": ""
                      }
                    },
                    "colorscale": {
                      "diverging": [
                        [
                          0,
                          "#8e0152"
                        ],
                        [
                          0.1,
                          "#c51b7d"
                        ],
                        [
                          0.2,
                          "#de77ae"
                        ],
                        [
                          0.3,
                          "#f1b6da"
                        ],
                        [
                          0.4,
                          "#fde0ef"
                        ],
                        [
                          0.5,
                          "#f7f7f7"
                        ],
                        [
                          0.6,
                          "#e6f5d0"
                        ],
                        [
                          0.7,
                          "#b8e186"
                        ],
                        [
                          0.8,
                          "#7fbc41"
                        ],
                        [
                          0.9,
                          "#4d9221"
                        ],
                        [
                          1,
                          "#276419"
                        ]
                      ],
                      "sequential": [
                        [
                          0,
                          "#0d0887"
                        ],
                        [
                          0.1111111111111111,
                          "#46039f"
                        ],
                        [
                          0.2222222222222222,
                          "#7201a8"
                        ],
                        [
                          0.3333333333333333,
                          "#9c179e"
                        ],
                        [
                          0.4444444444444444,
                          "#bd3786"
                        ],
                        [
                          0.5555555555555556,
                          "#d8576b"
                        ],
                        [
                          0.6666666666666666,
                          "#ed7953"
                        ],
                        [
                          0.7777777777777778,
                          "#fb9f3a"
                        ],
                        [
                          0.8888888888888888,
                          "#fdca26"
                        ],
                        [
                          1,
                          "#f0f921"
                        ]
                      ],
                      "sequentialminus": [
                        [
                          0,
                          "#0d0887"
                        ],
                        [
                          0.1111111111111111,
                          "#46039f"
                        ],
                        [
                          0.2222222222222222,
                          "#7201a8"
                        ],
                        [
                          0.3333333333333333,
                          "#9c179e"
                        ],
                        [
                          0.4444444444444444,
                          "#bd3786"
                        ],
                        [
                          0.5555555555555556,
                          "#d8576b"
                        ],
                        [
                          0.6666666666666666,
                          "#ed7953"
                        ],
                        [
                          0.7777777777777778,
                          "#fb9f3a"
                        ],
                        [
                          0.8888888888888888,
                          "#fdca26"
                        ],
                        [
                          1,
                          "#f0f921"
                        ]
                      ]
                    },
                    "colorway": [
                      "#636efa",
                      "#EF553B",
                      "#00cc96",
                      "#ab63fa",
                      "#FFA15A",
                      "#19d3f3",
                      "#FF6692",
                      "#B6E880",
                      "#FF97FF",
                      "#FECB52"
                    ],
                    "font": {
                      "color": "#2a3f5f"
                    },
                    "geo": {
                      "bgcolor": "white",
                      "lakecolor": "white",
                      "landcolor": "#E5ECF6",
                      "showlakes": true,
                      "showland": true,
                      "subunitcolor": "white"
                    },
                    "hoverlabel": {
                      "align": "left"
                    },
                    "hovermode": "closest",
                    "mapbox": {
                      "style": "light"
                    },
                    "paper_bgcolor": "white",
                    "plot_bgcolor": "#E5ECF6",
                    "polar": {
                      "angularaxis": {
                        "gridcolor": "white",
                        "linecolor": "white",
                        "ticks": ""
                      },
                      "bgcolor": "#E5ECF6",
                      "radialaxis": {
                        "gridcolor": "white",
                        "linecolor": "white",
                        "ticks": ""
                      }
                    },
                    "scene": {
                      "xaxis": {
                        "backgroundcolor": "#E5ECF6",
                        "gridcolor": "white",
                        "gridwidth": 2,
                        "linecolor": "white",
                        "showbackground": true,
                        "ticks": "",
                        "zerolinecolor": "white"
                      },
                      "yaxis": {
                        "backgroundcolor": "#E5ECF6",
                        "gridcolor": "white",
                        "gridwidth": 2,
                        "linecolor": "white",
                        "showbackground": true,
                        "ticks": "",
                        "zerolinecolor": "white"
                      },
                      "zaxis": {
                        "backgroundcolor": "#E5ECF6",
                        "gridcolor": "white",
                        "gridwidth": 2,
                        "linecolor": "white",
                        "showbackground": true,
                        "ticks": "",
                        "zerolinecolor": "white"
                      }
                    },
                    "shapedefaults": {
                      "line": {
                        "color": "#2a3f5f"
                      }
                    },
                    "ternary": {
                      "aaxis": {
                        "gridcolor": "white",
                        "linecolor": "white",
                        "ticks": ""
                      },
                      "baxis": {
                        "gridcolor": "white",
                        "linecolor": "white",
                        "ticks": ""
                      },
                      "bgcolor": "#E5ECF6",
                      "caxis": {
                        "gridcolor": "white",
                        "linecolor": "white",
                        "ticks": ""
                      }
                    },
                    "title": {
                      "x": 0.05
                    },
                    "xaxis": {
                      "automargin": true,
                      "gridcolor": "white",
                      "linecolor": "white",
                      "ticks": "",
                      "title": {
                        "standoff": 15
                      },
                      "zerolinecolor": "white",
                      "zerolinewidth": 2
                    },
                    "yaxis": {
                      "automargin": true,
                      "gridcolor": "white",
                      "linecolor": "white",
                      "ticks": "",
                      "title": {
                        "standoff": 15
                      },
                      "zerolinecolor": "white",
                      "zerolinewidth": 2
                    }
                  }
                },
                "title": {
                  "text": "Logit Difference From Each Layer"
                },
                "xaxis": {
                  "anchor": "y",
                  "domain": [
                    0,
                    1
                  ],
                  "title": {
                    "text": "x"
                  }
                },
                "yaxis": {
                  "anchor": "x",
                  "domain": [
                    0,
                    1
                  ],
                  "title": {
                    "text": "y"
                  }
                }
              }
            }
          },
          "metadata": {},
          "output_type": "display_data"
        }
      ],
      "source": [
        "per_layer_residual, labels = clean_cache.decompose_resid(layer=-1, pos_slice=-1, return_labels=True)\n",
        "per_layer_logit_diffs = residual_stack_to_logit_diff(per_layer_residual, clean_cache)\n",
        "\n",
        "line(per_layer_logit_diffs, hover_name=labels, title=\"Logit Difference From Each Layer\")"
      ]
    },
    {
      "attachments": {},
      "cell_type": "markdown",
      "metadata": {},
      "source": [
        "#### Head Attribution"
      ]
    },
    {
      "cell_type": "code",
      "execution_count": 22,
      "metadata": {},
      "outputs": [
        {
          "name": "stdout",
          "output_type": "stream",
          "text": [
            "Tried to stack head results when they weren't cached. Computing head results now\n"
          ]
        },
        {
          "data": {
            "application/vnd.plotly.v1+json": {
              "config": {
                "plotlyServerURL": "https://plot.ly"
              },
              "data": [
                {
                  "coloraxis": "coloraxis",
                  "hovertemplate": "Head: %{x}<br>Layer: %{y}<br>color: %{z}<extra></extra>",
                  "name": "0",
                  "type": "heatmap",
                  "xaxis": "x",
                  "yaxis": "y",
                  "z": [
                    [
                      0.002566605806350708,
                      0.0008639392326585948,
                      0.004113761708140373,
                      -0.0005465852445922792,
                      0.0016463140491396189,
                      -0.000029493718102457933,
                      0.008906809613108635,
                      0.000740882009267807,
                      0.0008033185731619596,
                      -0.0005048953462392092,
                      0.00046516332076862454,
                      0.0000032651423680363223
                    ],
                    [
                      0.0011121355928480625,
                      0.0013879785547032952,
                      -0.000787202559877187,
                      -0.0012805219739675522,
                      0.001260902383364737,
                      0.003434364916756749,
                      0.006509116850793362,
                      0.014317859895527363,
                      -0.0015797957312315702,
                      -0.0027960112784057856,
                      -0.00022465549409389496,
                      -0.007067190948873758
                    ],
                    [
                      0.0013113964814692736,
                      0.017665386199951172,
                      0.0010552570456638932,
                      -0.00004905722744297236,
                      -0.00031652688630856574,
                      -0.000014740600818186067,
                      -0.00034334033261984587,
                      0.00007796313730068505,
                      -0.001566227525472641,
                      -0.0003623312513809651,
                      0.0008629125077277422,
                      -0.0009738237713463604
                    ],
                    [
                      0.0004557549546007067,
                      -0.001037681009620428,
                      0.00003547977757989429,
                      -0.000049316284275846556,
                      -0.000016176365534192882,
                      0.010442033410072327,
                      0.0007704408490099013,
                      0.0005034948117099702,
                      0.0006261162343434989,
                      -0.0003581724886316806,
                      -0.005080782808363438,
                      0.001372096361592412
                    ],
                    [
                      0.000025955008823075332,
                      0.001082373782992363,
                      0.0072575281374156475,
                      -0.00030393913039006293,
                      -0.002938471268862486,
                      -0.0001882160286186263,
                      -0.000292223587166518,
                      -0.003371091326698661,
                      0.005998791195452213,
                      0.0029705585911870003,
                      0.00025897330488078296,
                      0.0018576054135337472
                    ],
                    [
                      0.0017085066065192223,
                      0.0036198615562170744,
                      0.000701013021171093,
                      0.0033503163140267134,
                      0.0005788279231637716,
                      0.013745104894042015,
                      0.00004419203833094798,
                      0.002896388992667198,
                      -0.0008548274636268616,
                      0.0009550077957101166,
                      0.015509656630456448,
                      -0.01209713239222765
                    ],
                    [
                      0.0025908893439918756,
                      0.0004494994645938277,
                      0.00027269803103990853,
                      0.004932986572384834,
                      0.034593772143125534,
                      -0.00905732810497284,
                      -0.023944523185491562,
                      0.017996395006775856,
                      0.00018664071103557944,
                      0.006856705527752638,
                      0.005540586542338133,
                      -0.0027565723285079002
                    ],
                    [
                      0.00035701590240933,
                      0.06371551007032394,
                      0.0029821593780070543,
                      -0.0026296996511518955,
                      -0.0008226497448049486,
                      0.03805732727050781,
                      -0.03574620187282562,
                      0.001417013118043542,
                      0.002611141186207533,
                      0.016031473875045776,
                      0.011361140757799149,
                      0.0011518447427079082
                    ],
                    [
                      -0.002038208767771721,
                      0.000746395206078887,
                      0.044510405510663986,
                      0.01666979305446148,
                      0.01231772918254137,
                      0.0721982941031456,
                      0.002481222152709961,
                      0.005248711444437504,
                      0.020896246656775475,
                      0.02363322675228119,
                      -0.08029314130544662,
                      0.012689135037362576
                    ],
                    [
                      0.0038939672522246838,
                      0.017119403928518295,
                      0.21911881864070892,
                      0.05903343856334686,
                      0.00048192712711170316,
                      -0.04555477201938629,
                      0.03565235808491707,
                      -0.04379058629274368,
                      0.002182006137445569,
                      0.038164880126714706,
                      0.03926023468375206,
                      0.0005046072765253484
                    ],
                    [
                      0.06913863867521286,
                      0.13632692396640778,
                      -0.006238902453333139,
                      -0.005833973176777363,
                      0.5460651516914368,
                      0.011653212830424309,
                      0.0008471523178741336,
                      -0.13445813953876495,
                      -0.0010970220901072025,
                      0.014272378757596016,
                      0.007756057661026716,
                      0.050240084528923035
                    ],
                    [
                      -0.009251225739717484,
                      0.004315149504691362,
                      0.0022335550747811794,
                      0.026351938024163246,
                      0.005066738463938236,
                      0.003811387112364173,
                      -0.000734469504095614,
                      0.01232019905000925,
                      0.03529582545161247,
                      0.08351997286081314,
                      -0.000058502551837591454,
                      0.05274948850274086
                    ]
                  ]
                }
              ],
              "layout": {
                "coloraxis": {
                  "cmid": 0,
                  "colorscale": [
                    [
                      0,
                      "rgb(103,0,31)"
                    ],
                    [
                      0.1,
                      "rgb(178,24,43)"
                    ],
                    [
                      0.2,
                      "rgb(214,96,77)"
                    ],
                    [
                      0.3,
                      "rgb(244,165,130)"
                    ],
                    [
                      0.4,
                      "rgb(253,219,199)"
                    ],
                    [
                      0.5,
                      "rgb(247,247,247)"
                    ],
                    [
                      0.6,
                      "rgb(209,229,240)"
                    ],
                    [
                      0.7,
                      "rgb(146,197,222)"
                    ],
                    [
                      0.8,
                      "rgb(67,147,195)"
                    ],
                    [
                      0.9,
                      "rgb(33,102,172)"
                    ],
                    [
                      1,
                      "rgb(5,48,97)"
                    ]
                  ]
                },
                "template": {
                  "data": {
                    "bar": [
                      {
                        "error_x": {
                          "color": "#2a3f5f"
                        },
                        "error_y": {
                          "color": "#2a3f5f"
                        },
                        "marker": {
                          "line": {
                            "color": "#E5ECF6",
                            "width": 0.5
                          },
                          "pattern": {
                            "fillmode": "overlay",
                            "size": 10,
                            "solidity": 0.2
                          }
                        },
                        "type": "bar"
                      }
                    ],
                    "barpolar": [
                      {
                        "marker": {
                          "line": {
                            "color": "#E5ECF6",
                            "width": 0.5
                          },
                          "pattern": {
                            "fillmode": "overlay",
                            "size": 10,
                            "solidity": 0.2
                          }
                        },
                        "type": "barpolar"
                      }
                    ],
                    "carpet": [
                      {
                        "aaxis": {
                          "endlinecolor": "#2a3f5f",
                          "gridcolor": "white",
                          "linecolor": "white",
                          "minorgridcolor": "white",
                          "startlinecolor": "#2a3f5f"
                        },
                        "baxis": {
                          "endlinecolor": "#2a3f5f",
                          "gridcolor": "white",
                          "linecolor": "white",
                          "minorgridcolor": "white",
                          "startlinecolor": "#2a3f5f"
                        },
                        "type": "carpet"
                      }
                    ],
                    "choropleth": [
                      {
                        "colorbar": {
                          "outlinewidth": 0,
                          "ticks": ""
                        },
                        "type": "choropleth"
                      }
                    ],
                    "contour": [
                      {
                        "colorbar": {
                          "outlinewidth": 0,
                          "ticks": ""
                        },
                        "colorscale": [
                          [
                            0,
                            "#0d0887"
                          ],
                          [
                            0.1111111111111111,
                            "#46039f"
                          ],
                          [
                            0.2222222222222222,
                            "#7201a8"
                          ],
                          [
                            0.3333333333333333,
                            "#9c179e"
                          ],
                          [
                            0.4444444444444444,
                            "#bd3786"
                          ],
                          [
                            0.5555555555555556,
                            "#d8576b"
                          ],
                          [
                            0.6666666666666666,
                            "#ed7953"
                          ],
                          [
                            0.7777777777777778,
                            "#fb9f3a"
                          ],
                          [
                            0.8888888888888888,
                            "#fdca26"
                          ],
                          [
                            1,
                            "#f0f921"
                          ]
                        ],
                        "type": "contour"
                      }
                    ],
                    "contourcarpet": [
                      {
                        "colorbar": {
                          "outlinewidth": 0,
                          "ticks": ""
                        },
                        "type": "contourcarpet"
                      }
                    ],
                    "heatmap": [
                      {
                        "colorbar": {
                          "outlinewidth": 0,
                          "ticks": ""
                        },
                        "colorscale": [
                          [
                            0,
                            "#0d0887"
                          ],
                          [
                            0.1111111111111111,
                            "#46039f"
                          ],
                          [
                            0.2222222222222222,
                            "#7201a8"
                          ],
                          [
                            0.3333333333333333,
                            "#9c179e"
                          ],
                          [
                            0.4444444444444444,
                            "#bd3786"
                          ],
                          [
                            0.5555555555555556,
                            "#d8576b"
                          ],
                          [
                            0.6666666666666666,
                            "#ed7953"
                          ],
                          [
                            0.7777777777777778,
                            "#fb9f3a"
                          ],
                          [
                            0.8888888888888888,
                            "#fdca26"
                          ],
                          [
                            1,
                            "#f0f921"
                          ]
                        ],
                        "type": "heatmap"
                      }
                    ],
                    "heatmapgl": [
                      {
                        "colorbar": {
                          "outlinewidth": 0,
                          "ticks": ""
                        },
                        "colorscale": [
                          [
                            0,
                            "#0d0887"
                          ],
                          [
                            0.1111111111111111,
                            "#46039f"
                          ],
                          [
                            0.2222222222222222,
                            "#7201a8"
                          ],
                          [
                            0.3333333333333333,
                            "#9c179e"
                          ],
                          [
                            0.4444444444444444,
                            "#bd3786"
                          ],
                          [
                            0.5555555555555556,
                            "#d8576b"
                          ],
                          [
                            0.6666666666666666,
                            "#ed7953"
                          ],
                          [
                            0.7777777777777778,
                            "#fb9f3a"
                          ],
                          [
                            0.8888888888888888,
                            "#fdca26"
                          ],
                          [
                            1,
                            "#f0f921"
                          ]
                        ],
                        "type": "heatmapgl"
                      }
                    ],
                    "histogram": [
                      {
                        "marker": {
                          "pattern": {
                            "fillmode": "overlay",
                            "size": 10,
                            "solidity": 0.2
                          }
                        },
                        "type": "histogram"
                      }
                    ],
                    "histogram2d": [
                      {
                        "colorbar": {
                          "outlinewidth": 0,
                          "ticks": ""
                        },
                        "colorscale": [
                          [
                            0,
                            "#0d0887"
                          ],
                          [
                            0.1111111111111111,
                            "#46039f"
                          ],
                          [
                            0.2222222222222222,
                            "#7201a8"
                          ],
                          [
                            0.3333333333333333,
                            "#9c179e"
                          ],
                          [
                            0.4444444444444444,
                            "#bd3786"
                          ],
                          [
                            0.5555555555555556,
                            "#d8576b"
                          ],
                          [
                            0.6666666666666666,
                            "#ed7953"
                          ],
                          [
                            0.7777777777777778,
                            "#fb9f3a"
                          ],
                          [
                            0.8888888888888888,
                            "#fdca26"
                          ],
                          [
                            1,
                            "#f0f921"
                          ]
                        ],
                        "type": "histogram2d"
                      }
                    ],
                    "histogram2dcontour": [
                      {
                        "colorbar": {
                          "outlinewidth": 0,
                          "ticks": ""
                        },
                        "colorscale": [
                          [
                            0,
                            "#0d0887"
                          ],
                          [
                            0.1111111111111111,
                            "#46039f"
                          ],
                          [
                            0.2222222222222222,
                            "#7201a8"
                          ],
                          [
                            0.3333333333333333,
                            "#9c179e"
                          ],
                          [
                            0.4444444444444444,
                            "#bd3786"
                          ],
                          [
                            0.5555555555555556,
                            "#d8576b"
                          ],
                          [
                            0.6666666666666666,
                            "#ed7953"
                          ],
                          [
                            0.7777777777777778,
                            "#fb9f3a"
                          ],
                          [
                            0.8888888888888888,
                            "#fdca26"
                          ],
                          [
                            1,
                            "#f0f921"
                          ]
                        ],
                        "type": "histogram2dcontour"
                      }
                    ],
                    "mesh3d": [
                      {
                        "colorbar": {
                          "outlinewidth": 0,
                          "ticks": ""
                        },
                        "type": "mesh3d"
                      }
                    ],
                    "parcoords": [
                      {
                        "line": {
                          "colorbar": {
                            "outlinewidth": 0,
                            "ticks": ""
                          }
                        },
                        "type": "parcoords"
                      }
                    ],
                    "pie": [
                      {
                        "automargin": true,
                        "type": "pie"
                      }
                    ],
                    "scatter": [
                      {
                        "fillpattern": {
                          "fillmode": "overlay",
                          "size": 10,
                          "solidity": 0.2
                        },
                        "type": "scatter"
                      }
                    ],
                    "scatter3d": [
                      {
                        "line": {
                          "colorbar": {
                            "outlinewidth": 0,
                            "ticks": ""
                          }
                        },
                        "marker": {
                          "colorbar": {
                            "outlinewidth": 0,
                            "ticks": ""
                          }
                        },
                        "type": "scatter3d"
                      }
                    ],
                    "scattercarpet": [
                      {
                        "marker": {
                          "colorbar": {
                            "outlinewidth": 0,
                            "ticks": ""
                          }
                        },
                        "type": "scattercarpet"
                      }
                    ],
                    "scattergeo": [
                      {
                        "marker": {
                          "colorbar": {
                            "outlinewidth": 0,
                            "ticks": ""
                          }
                        },
                        "type": "scattergeo"
                      }
                    ],
                    "scattergl": [
                      {
                        "marker": {
                          "colorbar": {
                            "outlinewidth": 0,
                            "ticks": ""
                          }
                        },
                        "type": "scattergl"
                      }
                    ],
                    "scattermapbox": [
                      {
                        "marker": {
                          "colorbar": {
                            "outlinewidth": 0,
                            "ticks": ""
                          }
                        },
                        "type": "scattermapbox"
                      }
                    ],
                    "scatterpolar": [
                      {
                        "marker": {
                          "colorbar": {
                            "outlinewidth": 0,
                            "ticks": ""
                          }
                        },
                        "type": "scatterpolar"
                      }
                    ],
                    "scatterpolargl": [
                      {
                        "marker": {
                          "colorbar": {
                            "outlinewidth": 0,
                            "ticks": ""
                          }
                        },
                        "type": "scatterpolargl"
                      }
                    ],
                    "scatterternary": [
                      {
                        "marker": {
                          "colorbar": {
                            "outlinewidth": 0,
                            "ticks": ""
                          }
                        },
                        "type": "scatterternary"
                      }
                    ],
                    "surface": [
                      {
                        "colorbar": {
                          "outlinewidth": 0,
                          "ticks": ""
                        },
                        "colorscale": [
                          [
                            0,
                            "#0d0887"
                          ],
                          [
                            0.1111111111111111,
                            "#46039f"
                          ],
                          [
                            0.2222222222222222,
                            "#7201a8"
                          ],
                          [
                            0.3333333333333333,
                            "#9c179e"
                          ],
                          [
                            0.4444444444444444,
                            "#bd3786"
                          ],
                          [
                            0.5555555555555556,
                            "#d8576b"
                          ],
                          [
                            0.6666666666666666,
                            "#ed7953"
                          ],
                          [
                            0.7777777777777778,
                            "#fb9f3a"
                          ],
                          [
                            0.8888888888888888,
                            "#fdca26"
                          ],
                          [
                            1,
                            "#f0f921"
                          ]
                        ],
                        "type": "surface"
                      }
                    ],
                    "table": [
                      {
                        "cells": {
                          "fill": {
                            "color": "#EBF0F8"
                          },
                          "line": {
                            "color": "white"
                          }
                        },
                        "header": {
                          "fill": {
                            "color": "#C8D4E3"
                          },
                          "line": {
                            "color": "white"
                          }
                        },
                        "type": "table"
                      }
                    ]
                  },
                  "layout": {
                    "annotationdefaults": {
                      "arrowcolor": "#2a3f5f",
                      "arrowhead": 0,
                      "arrowwidth": 1
                    },
                    "autotypenumbers": "strict",
                    "coloraxis": {
                      "colorbar": {
                        "outlinewidth": 0,
                        "ticks": ""
                      }
                    },
                    "colorscale": {
                      "diverging": [
                        [
                          0,
                          "#8e0152"
                        ],
                        [
                          0.1,
                          "#c51b7d"
                        ],
                        [
                          0.2,
                          "#de77ae"
                        ],
                        [
                          0.3,
                          "#f1b6da"
                        ],
                        [
                          0.4,
                          "#fde0ef"
                        ],
                        [
                          0.5,
                          "#f7f7f7"
                        ],
                        [
                          0.6,
                          "#e6f5d0"
                        ],
                        [
                          0.7,
                          "#b8e186"
                        ],
                        [
                          0.8,
                          "#7fbc41"
                        ],
                        [
                          0.9,
                          "#4d9221"
                        ],
                        [
                          1,
                          "#276419"
                        ]
                      ],
                      "sequential": [
                        [
                          0,
                          "#0d0887"
                        ],
                        [
                          0.1111111111111111,
                          "#46039f"
                        ],
                        [
                          0.2222222222222222,
                          "#7201a8"
                        ],
                        [
                          0.3333333333333333,
                          "#9c179e"
                        ],
                        [
                          0.4444444444444444,
                          "#bd3786"
                        ],
                        [
                          0.5555555555555556,
                          "#d8576b"
                        ],
                        [
                          0.6666666666666666,
                          "#ed7953"
                        ],
                        [
                          0.7777777777777778,
                          "#fb9f3a"
                        ],
                        [
                          0.8888888888888888,
                          "#fdca26"
                        ],
                        [
                          1,
                          "#f0f921"
                        ]
                      ],
                      "sequentialminus": [
                        [
                          0,
                          "#0d0887"
                        ],
                        [
                          0.1111111111111111,
                          "#46039f"
                        ],
                        [
                          0.2222222222222222,
                          "#7201a8"
                        ],
                        [
                          0.3333333333333333,
                          "#9c179e"
                        ],
                        [
                          0.4444444444444444,
                          "#bd3786"
                        ],
                        [
                          0.5555555555555556,
                          "#d8576b"
                        ],
                        [
                          0.6666666666666666,
                          "#ed7953"
                        ],
                        [
                          0.7777777777777778,
                          "#fb9f3a"
                        ],
                        [
                          0.8888888888888888,
                          "#fdca26"
                        ],
                        [
                          1,
                          "#f0f921"
                        ]
                      ]
                    },
                    "colorway": [
                      "#636efa",
                      "#EF553B",
                      "#00cc96",
                      "#ab63fa",
                      "#FFA15A",
                      "#19d3f3",
                      "#FF6692",
                      "#B6E880",
                      "#FF97FF",
                      "#FECB52"
                    ],
                    "font": {
                      "color": "#2a3f5f"
                    },
                    "geo": {
                      "bgcolor": "white",
                      "lakecolor": "white",
                      "landcolor": "#E5ECF6",
                      "showlakes": true,
                      "showland": true,
                      "subunitcolor": "white"
                    },
                    "hoverlabel": {
                      "align": "left"
                    },
                    "hovermode": "closest",
                    "mapbox": {
                      "style": "light"
                    },
                    "paper_bgcolor": "white",
                    "plot_bgcolor": "#E5ECF6",
                    "polar": {
                      "angularaxis": {
                        "gridcolor": "white",
                        "linecolor": "white",
                        "ticks": ""
                      },
                      "bgcolor": "#E5ECF6",
                      "radialaxis": {
                        "gridcolor": "white",
                        "linecolor": "white",
                        "ticks": ""
                      }
                    },
                    "scene": {
                      "xaxis": {
                        "backgroundcolor": "#E5ECF6",
                        "gridcolor": "white",
                        "gridwidth": 2,
                        "linecolor": "white",
                        "showbackground": true,
                        "ticks": "",
                        "zerolinecolor": "white"
                      },
                      "yaxis": {
                        "backgroundcolor": "#E5ECF6",
                        "gridcolor": "white",
                        "gridwidth": 2,
                        "linecolor": "white",
                        "showbackground": true,
                        "ticks": "",
                        "zerolinecolor": "white"
                      },
                      "zaxis": {
                        "backgroundcolor": "#E5ECF6",
                        "gridcolor": "white",
                        "gridwidth": 2,
                        "linecolor": "white",
                        "showbackground": true,
                        "ticks": "",
                        "zerolinecolor": "white"
                      }
                    },
                    "shapedefaults": {
                      "line": {
                        "color": "#2a3f5f"
                      }
                    },
                    "ternary": {
                      "aaxis": {
                        "gridcolor": "white",
                        "linecolor": "white",
                        "ticks": ""
                      },
                      "baxis": {
                        "gridcolor": "white",
                        "linecolor": "white",
                        "ticks": ""
                      },
                      "bgcolor": "#E5ECF6",
                      "caxis": {
                        "gridcolor": "white",
                        "linecolor": "white",
                        "ticks": ""
                      }
                    },
                    "title": {
                      "x": 0.05
                    },
                    "xaxis": {
                      "automargin": true,
                      "gridcolor": "white",
                      "linecolor": "white",
                      "ticks": "",
                      "title": {
                        "standoff": 15
                      },
                      "zerolinecolor": "white",
                      "zerolinewidth": 2
                    },
                    "yaxis": {
                      "automargin": true,
                      "gridcolor": "white",
                      "linecolor": "white",
                      "ticks": "",
                      "title": {
                        "standoff": 15
                      },
                      "zerolinecolor": "white",
                      "zerolinewidth": 2
                    }
                  }
                },
                "title": {
                  "text": "Logit Difference From Each Head"
                },
                "xaxis": {
                  "anchor": "y",
                  "constrain": "domain",
                  "domain": [
                    0,
                    1
                  ],
                  "scaleanchor": "y",
                  "title": {
                    "text": "Head"
                  }
                },
                "yaxis": {
                  "anchor": "x",
                  "autorange": "reversed",
                  "constrain": "domain",
                  "domain": [
                    0,
                    1
                  ],
                  "title": {
                    "text": "Layer"
                  }
                }
              }
            }
          },
          "metadata": {},
          "output_type": "display_data"
        }
      ],
      "source": [
        "def imshow(tensor, renderer=None, **kwargs):\n",
        "    px.imshow(utils.to_numpy(tensor), color_continuous_midpoint=0.0, color_continuous_scale=\"RdBu\", **kwargs).show(renderer)\n",
        "\n",
        "per_head_residual, labels = clean_cache.stack_head_results(layer=-1, pos_slice=-1, return_labels=True)\n",
        "per_head_logit_diffs = residual_stack_to_logit_diff(per_head_residual, clean_cache)\n",
        "per_head_logit_diffs = einops.rearrange(per_head_logit_diffs, \"(layer head_index) -> layer head_index\", layer=model.cfg.n_layers, head_index=model.cfg.n_heads)\n",
        "imshow(per_head_logit_diffs, labels={\"x\":\"Head\", \"y\":\"Layer\"}, title=\"Logit Difference From Each Head\")"
      ]
    },
    {
      "attachments": {},
      "cell_type": "markdown",
      "metadata": {},
      "source": [
        "### Activation Patching"
      ]
    },
    {
      "attachments": {},
      "cell_type": "markdown",
      "metadata": {},
      "source": [
        "#### Attention Heads"
      ]
    },
    {
      "cell_type": "code",
      "execution_count": 23,
      "metadata": {},
      "outputs": [
        {
          "data": {
            "application/vnd.jupyter.widget-view+json": {
              "model_id": "ba96d03e8bde40fa901ad14e86cc64d5",
              "version_major": 2,
              "version_minor": 0
            },
            "text/plain": [
              "  0%|          | 0/144 [00:00<?, ?it/s]"
            ]
          },
          "metadata": {},
          "output_type": "display_data"
        },
        {
          "name": "stdout",
          "output_type": "stream",
          "text": [
            "results['z'].shape = (layer=12, head=12)\n"
          ]
        }
      ],
      "source": [
        "results = act_patch(\n",
        "    model=model,\n",
        "    orig_input=corrupted_tokens,\n",
        "    new_cache=clean_cache,\n",
        "    patching_nodes=IterNode(\"z\"), # iterating over all heads' output in all layers\n",
        "    patching_metric=logit_diff_denoising,\n",
        "    verbose=True,\n",
        ")"
      ]
    },
    {
      "cell_type": "code",
      "execution_count": 24,
      "metadata": {},
      "outputs": [
        {
          "data": {
            "application/vnd.plotly.v1+json": {
              "config": {
                "plotlyServerURL": "https://plot.ly"
              },
              "data": [
                {
                  "coloraxis": "coloraxis",
                  "hovertemplate": "Head: %{x}<br>Layer: %{y}<br>Logit diff variation: %{z}<extra></extra>",
                  "name": "0",
                  "type": "heatmap",
                  "xaxis": "x",
                  "yaxis": "y",
                  "z": [
                    [
                      0.20799612998962402,
                      0.6819056868553162,
                      -0.020032649859786034,
                      1.2557780742645264,
                      2.750720262527466,
                      0.47752684354782104,
                      1.3197280168533325,
                      0.16544678807258606,
                      0.006450513377785683,
                      0.10125645995140076,
                      0.09521231800317764,
                      0.038685910403728485
                    ],
                    [
                      0.017954977229237556,
                      -0.016031842678785324,
                      -0.033088214695453644,
                      0.016970517113804817,
                      -0.08717064559459686,
                      -0.6387439370155334,
                      0.48692500591278076,
                      0.5003411769866943,
                      -0.21345075964927673,
                      -0.09100546687841415,
                      -0.023043271154165268,
                      0.5695167779922485
                    ],
                    [
                      0.1983003467321396,
                      2.634021759033203,
                      0.017193736508488655,
                      0.06959915161132812,
                      0.03784453868865967,
                      0.05499248579144478,
                      0.005792297422885895,
                      -0.1737918257713318,
                      0.07516250759363174,
                      -0.06360652297735214,
                      -0.19957096874713898,
                      -0.19799698889255524
                    ],
                    [
                      0.13377803564071655,
                      -0.26527807116508484,
                      0.031084949150681496,
                      0.06132853031158447,
                      -0.03416997939348221,
                      0.7472063899040222,
                      0.12981157004833221,
                      -0.14112143218517303,
                      0.20534610748291016,
                      0.23968206346035004,
                      -0.26357242465019226,
                      2.131542682647705
                    ],
                    [
                      -0.0897863358259201,
                      0.19600516557693481,
                      0.5062078833580017,
                      -0.14078374207019806,
                      -0.4535735249519348,
                      -0.027524860575795174,
                      0.03509720414876938,
                      0.5422437787055969,
                      0.5256223678588867,
                      0.8603107333183289,
                      0.45106086134910583,
                      -0.007251818664371967
                    ],
                    [
                      -0.08745682239532471,
                      0.23888076841831207,
                      0.08179616928100586,
                      0.38117554783821106,
                      0.46365851163864136,
                      1.5359203815460205,
                      -0.027427559718489647,
                      1.4187923669815063,
                      -0.7811245322227478,
                      0.19242791831493378,
                      1.8102189302444458,
                      -4.2108917236328125
                    ],
                    [
                      0.4643511176109314,
                      -0.03354610130190849,
                      -0.09180104732513428,
                      -0.17305919528007507,
                      8.721657752990723,
                      -1.940860390663147,
                      -2.468634843826294,
                      4.554511547088623,
                      0.2857743203639984,
                      0.4930207133293152,
                      1.332749366760254,
                      -0.03474806249141693
                    ],
                    [
                      0.1152564212679863,
                      16.51614761352539,
                      0.19136331975460052,
                      -2.088346481323242,
                      0.12674371898174286,
                      12.58115291595459,
                      -9.100272178649902,
                      0.03484536334872246,
                      0.8818371891975403,
                      2.5509090423583984,
                      0.34391480684280396,
                      -0.006833995692431927
                    ],
                    [
                      -0.13829396665096283,
                      0.025344163179397583,
                      3.9144198894500732,
                      0.8810473680496216,
                      1.7252346277236938,
                      9.045376777648926,
                      0.38779202103614807,
                      0.46124890446662903,
                      0.736182689666748,
                      1.909289002418518,
                      -7.22983455657959,
                      1.2573120594024658
                    ],
                    [
                      -0.17044924199581146,
                      1.0325170755386353,
                      14.142606735229492,
                      4.243344306945801,
                      0.09007252007722855,
                      -2.7182016372680664,
                      2.289311170578003,
                      -3.74532151222229,
                      0.1406807154417038,
                      1.3647900819778442,
                      3.212470293045044,
                      0.0018601745832711458
                    ],
                    [
                      4.420925140380859,
                      7.525977611541748,
                      -0.18600600957870483,
                      -0.35464659333229065,
                      29.607751846313477,
                      0.8169657588005066,
                      -0.1649087816476822,
                      -7.168478012084961,
                      -0.0392468236386776,
                      1.0302906036376953,
                      0.6541404128074646,
                      2.5065882205963135
                    ],
                    [
                      -0.425613671541214,
                      0.15220235288143158,
                      0.14069215953350067,
                      1.296078085899353,
                      0.14382298290729523,
                      0.320064514875412,
                      -0.03163441643118858,
                      0.5161097049713135,
                      1.6974350214004517,
                      3.8841447830200195,
                      -0.04946347326040268,
                      2.728426933288574
                    ]
                  ]
                }
              ],
              "layout": {
                "coloraxis": {
                  "cmid": 0,
                  "colorbar": {
                    "ticksuffix": "%",
                    "title": {
                      "text": "Logit diff variation"
                    }
                  },
                  "colorscale": [
                    [
                      0,
                      "rgb(103,0,31)"
                    ],
                    [
                      0.1,
                      "rgb(178,24,43)"
                    ],
                    [
                      0.2,
                      "rgb(214,96,77)"
                    ],
                    [
                      0.3,
                      "rgb(244,165,130)"
                    ],
                    [
                      0.4,
                      "rgb(253,219,199)"
                    ],
                    [
                      0.5,
                      "rgb(247,247,247)"
                    ],
                    [
                      0.6,
                      "rgb(209,229,240)"
                    ],
                    [
                      0.7,
                      "rgb(146,197,222)"
                    ],
                    [
                      0.8,
                      "rgb(67,147,195)"
                    ],
                    [
                      0.9,
                      "rgb(33,102,172)"
                    ],
                    [
                      1,
                      "rgb(5,48,97)"
                    ]
                  ]
                },
                "margin": {
                  "l": 100,
                  "r": 100
                },
                "template": {
                  "data": {
                    "bar": [
                      {
                        "error_x": {
                          "color": "#2a3f5f"
                        },
                        "error_y": {
                          "color": "#2a3f5f"
                        },
                        "marker": {
                          "line": {
                            "color": "#E5ECF6",
                            "width": 0.5
                          },
                          "pattern": {
                            "fillmode": "overlay",
                            "size": 10,
                            "solidity": 0.2
                          }
                        },
                        "type": "bar"
                      }
                    ],
                    "barpolar": [
                      {
                        "marker": {
                          "line": {
                            "color": "#E5ECF6",
                            "width": 0.5
                          },
                          "pattern": {
                            "fillmode": "overlay",
                            "size": 10,
                            "solidity": 0.2
                          }
                        },
                        "type": "barpolar"
                      }
                    ],
                    "carpet": [
                      {
                        "aaxis": {
                          "endlinecolor": "#2a3f5f",
                          "gridcolor": "white",
                          "linecolor": "white",
                          "minorgridcolor": "white",
                          "startlinecolor": "#2a3f5f"
                        },
                        "baxis": {
                          "endlinecolor": "#2a3f5f",
                          "gridcolor": "white",
                          "linecolor": "white",
                          "minorgridcolor": "white",
                          "startlinecolor": "#2a3f5f"
                        },
                        "type": "carpet"
                      }
                    ],
                    "choropleth": [
                      {
                        "colorbar": {
                          "outlinewidth": 0,
                          "ticks": ""
                        },
                        "type": "choropleth"
                      }
                    ],
                    "contour": [
                      {
                        "colorbar": {
                          "outlinewidth": 0,
                          "ticks": ""
                        },
                        "colorscale": [
                          [
                            0,
                            "#0d0887"
                          ],
                          [
                            0.1111111111111111,
                            "#46039f"
                          ],
                          [
                            0.2222222222222222,
                            "#7201a8"
                          ],
                          [
                            0.3333333333333333,
                            "#9c179e"
                          ],
                          [
                            0.4444444444444444,
                            "#bd3786"
                          ],
                          [
                            0.5555555555555556,
                            "#d8576b"
                          ],
                          [
                            0.6666666666666666,
                            "#ed7953"
                          ],
                          [
                            0.7777777777777778,
                            "#fb9f3a"
                          ],
                          [
                            0.8888888888888888,
                            "#fdca26"
                          ],
                          [
                            1,
                            "#f0f921"
                          ]
                        ],
                        "type": "contour"
                      }
                    ],
                    "contourcarpet": [
                      {
                        "colorbar": {
                          "outlinewidth": 0,
                          "ticks": ""
                        },
                        "type": "contourcarpet"
                      }
                    ],
                    "heatmap": [
                      {
                        "colorbar": {
                          "outlinewidth": 0,
                          "ticks": ""
                        },
                        "colorscale": [
                          [
                            0,
                            "#0d0887"
                          ],
                          [
                            0.1111111111111111,
                            "#46039f"
                          ],
                          [
                            0.2222222222222222,
                            "#7201a8"
                          ],
                          [
                            0.3333333333333333,
                            "#9c179e"
                          ],
                          [
                            0.4444444444444444,
                            "#bd3786"
                          ],
                          [
                            0.5555555555555556,
                            "#d8576b"
                          ],
                          [
                            0.6666666666666666,
                            "#ed7953"
                          ],
                          [
                            0.7777777777777778,
                            "#fb9f3a"
                          ],
                          [
                            0.8888888888888888,
                            "#fdca26"
                          ],
                          [
                            1,
                            "#f0f921"
                          ]
                        ],
                        "type": "heatmap"
                      }
                    ],
                    "heatmapgl": [
                      {
                        "colorbar": {
                          "outlinewidth": 0,
                          "ticks": ""
                        },
                        "colorscale": [
                          [
                            0,
                            "#0d0887"
                          ],
                          [
                            0.1111111111111111,
                            "#46039f"
                          ],
                          [
                            0.2222222222222222,
                            "#7201a8"
                          ],
                          [
                            0.3333333333333333,
                            "#9c179e"
                          ],
                          [
                            0.4444444444444444,
                            "#bd3786"
                          ],
                          [
                            0.5555555555555556,
                            "#d8576b"
                          ],
                          [
                            0.6666666666666666,
                            "#ed7953"
                          ],
                          [
                            0.7777777777777778,
                            "#fb9f3a"
                          ],
                          [
                            0.8888888888888888,
                            "#fdca26"
                          ],
                          [
                            1,
                            "#f0f921"
                          ]
                        ],
                        "type": "heatmapgl"
                      }
                    ],
                    "histogram": [
                      {
                        "marker": {
                          "pattern": {
                            "fillmode": "overlay",
                            "size": 10,
                            "solidity": 0.2
                          }
                        },
                        "type": "histogram"
                      }
                    ],
                    "histogram2d": [
                      {
                        "colorbar": {
                          "outlinewidth": 0,
                          "ticks": ""
                        },
                        "colorscale": [
                          [
                            0,
                            "#0d0887"
                          ],
                          [
                            0.1111111111111111,
                            "#46039f"
                          ],
                          [
                            0.2222222222222222,
                            "#7201a8"
                          ],
                          [
                            0.3333333333333333,
                            "#9c179e"
                          ],
                          [
                            0.4444444444444444,
                            "#bd3786"
                          ],
                          [
                            0.5555555555555556,
                            "#d8576b"
                          ],
                          [
                            0.6666666666666666,
                            "#ed7953"
                          ],
                          [
                            0.7777777777777778,
                            "#fb9f3a"
                          ],
                          [
                            0.8888888888888888,
                            "#fdca26"
                          ],
                          [
                            1,
                            "#f0f921"
                          ]
                        ],
                        "type": "histogram2d"
                      }
                    ],
                    "histogram2dcontour": [
                      {
                        "colorbar": {
                          "outlinewidth": 0,
                          "ticks": ""
                        },
                        "colorscale": [
                          [
                            0,
                            "#0d0887"
                          ],
                          [
                            0.1111111111111111,
                            "#46039f"
                          ],
                          [
                            0.2222222222222222,
                            "#7201a8"
                          ],
                          [
                            0.3333333333333333,
                            "#9c179e"
                          ],
                          [
                            0.4444444444444444,
                            "#bd3786"
                          ],
                          [
                            0.5555555555555556,
                            "#d8576b"
                          ],
                          [
                            0.6666666666666666,
                            "#ed7953"
                          ],
                          [
                            0.7777777777777778,
                            "#fb9f3a"
                          ],
                          [
                            0.8888888888888888,
                            "#fdca26"
                          ],
                          [
                            1,
                            "#f0f921"
                          ]
                        ],
                        "type": "histogram2dcontour"
                      }
                    ],
                    "mesh3d": [
                      {
                        "colorbar": {
                          "outlinewidth": 0,
                          "ticks": ""
                        },
                        "type": "mesh3d"
                      }
                    ],
                    "parcoords": [
                      {
                        "line": {
                          "colorbar": {
                            "outlinewidth": 0,
                            "ticks": ""
                          }
                        },
                        "type": "parcoords"
                      }
                    ],
                    "pie": [
                      {
                        "automargin": true,
                        "type": "pie"
                      }
                    ],
                    "scatter": [
                      {
                        "fillpattern": {
                          "fillmode": "overlay",
                          "size": 10,
                          "solidity": 0.2
                        },
                        "type": "scatter"
                      }
                    ],
                    "scatter3d": [
                      {
                        "line": {
                          "colorbar": {
                            "outlinewidth": 0,
                            "ticks": ""
                          }
                        },
                        "marker": {
                          "colorbar": {
                            "outlinewidth": 0,
                            "ticks": ""
                          }
                        },
                        "type": "scatter3d"
                      }
                    ],
                    "scattercarpet": [
                      {
                        "marker": {
                          "colorbar": {
                            "outlinewidth": 0,
                            "ticks": ""
                          }
                        },
                        "type": "scattercarpet"
                      }
                    ],
                    "scattergeo": [
                      {
                        "marker": {
                          "colorbar": {
                            "outlinewidth": 0,
                            "ticks": ""
                          }
                        },
                        "type": "scattergeo"
                      }
                    ],
                    "scattergl": [
                      {
                        "marker": {
                          "colorbar": {
                            "outlinewidth": 0,
                            "ticks": ""
                          }
                        },
                        "type": "scattergl"
                      }
                    ],
                    "scattermapbox": [
                      {
                        "marker": {
                          "colorbar": {
                            "outlinewidth": 0,
                            "ticks": ""
                          }
                        },
                        "type": "scattermapbox"
                      }
                    ],
                    "scatterpolar": [
                      {
                        "marker": {
                          "colorbar": {
                            "outlinewidth": 0,
                            "ticks": ""
                          }
                        },
                        "type": "scatterpolar"
                      }
                    ],
                    "scatterpolargl": [
                      {
                        "marker": {
                          "colorbar": {
                            "outlinewidth": 0,
                            "ticks": ""
                          }
                        },
                        "type": "scatterpolargl"
                      }
                    ],
                    "scatterternary": [
                      {
                        "marker": {
                          "colorbar": {
                            "outlinewidth": 0,
                            "ticks": ""
                          }
                        },
                        "type": "scatterternary"
                      }
                    ],
                    "surface": [
                      {
                        "colorbar": {
                          "outlinewidth": 0,
                          "ticks": ""
                        },
                        "colorscale": [
                          [
                            0,
                            "#0d0887"
                          ],
                          [
                            0.1111111111111111,
                            "#46039f"
                          ],
                          [
                            0.2222222222222222,
                            "#7201a8"
                          ],
                          [
                            0.3333333333333333,
                            "#9c179e"
                          ],
                          [
                            0.4444444444444444,
                            "#bd3786"
                          ],
                          [
                            0.5555555555555556,
                            "#d8576b"
                          ],
                          [
                            0.6666666666666666,
                            "#ed7953"
                          ],
                          [
                            0.7777777777777778,
                            "#fb9f3a"
                          ],
                          [
                            0.8888888888888888,
                            "#fdca26"
                          ],
                          [
                            1,
                            "#f0f921"
                          ]
                        ],
                        "type": "surface"
                      }
                    ],
                    "table": [
                      {
                        "cells": {
                          "fill": {
                            "color": "#EBF0F8"
                          },
                          "line": {
                            "color": "white"
                          }
                        },
                        "header": {
                          "fill": {
                            "color": "#C8D4E3"
                          },
                          "line": {
                            "color": "white"
                          }
                        },
                        "type": "table"
                      }
                    ]
                  },
                  "layout": {
                    "annotationdefaults": {
                      "arrowcolor": "#2a3f5f",
                      "arrowhead": 0,
                      "arrowwidth": 1
                    },
                    "autotypenumbers": "strict",
                    "coloraxis": {
                      "colorbar": {
                        "outlinewidth": 0,
                        "ticks": ""
                      }
                    },
                    "colorscale": {
                      "diverging": [
                        [
                          0,
                          "#8e0152"
                        ],
                        [
                          0.1,
                          "#c51b7d"
                        ],
                        [
                          0.2,
                          "#de77ae"
                        ],
                        [
                          0.3,
                          "#f1b6da"
                        ],
                        [
                          0.4,
                          "#fde0ef"
                        ],
                        [
                          0.5,
                          "#f7f7f7"
                        ],
                        [
                          0.6,
                          "#e6f5d0"
                        ],
                        [
                          0.7,
                          "#b8e186"
                        ],
                        [
                          0.8,
                          "#7fbc41"
                        ],
                        [
                          0.9,
                          "#4d9221"
                        ],
                        [
                          1,
                          "#276419"
                        ]
                      ],
                      "sequential": [
                        [
                          0,
                          "#0d0887"
                        ],
                        [
                          0.1111111111111111,
                          "#46039f"
                        ],
                        [
                          0.2222222222222222,
                          "#7201a8"
                        ],
                        [
                          0.3333333333333333,
                          "#9c179e"
                        ],
                        [
                          0.4444444444444444,
                          "#bd3786"
                        ],
                        [
                          0.5555555555555556,
                          "#d8576b"
                        ],
                        [
                          0.6666666666666666,
                          "#ed7953"
                        ],
                        [
                          0.7777777777777778,
                          "#fb9f3a"
                        ],
                        [
                          0.8888888888888888,
                          "#fdca26"
                        ],
                        [
                          1,
                          "#f0f921"
                        ]
                      ],
                      "sequentialminus": [
                        [
                          0,
                          "#0d0887"
                        ],
                        [
                          0.1111111111111111,
                          "#46039f"
                        ],
                        [
                          0.2222222222222222,
                          "#7201a8"
                        ],
                        [
                          0.3333333333333333,
                          "#9c179e"
                        ],
                        [
                          0.4444444444444444,
                          "#bd3786"
                        ],
                        [
                          0.5555555555555556,
                          "#d8576b"
                        ],
                        [
                          0.6666666666666666,
                          "#ed7953"
                        ],
                        [
                          0.7777777777777778,
                          "#fb9f3a"
                        ],
                        [
                          0.8888888888888888,
                          "#fdca26"
                        ],
                        [
                          1,
                          "#f0f921"
                        ]
                      ]
                    },
                    "colorway": [
                      "#636efa",
                      "#EF553B",
                      "#00cc96",
                      "#ab63fa",
                      "#FFA15A",
                      "#19d3f3",
                      "#FF6692",
                      "#B6E880",
                      "#FF97FF",
                      "#FECB52"
                    ],
                    "font": {
                      "color": "#2a3f5f"
                    },
                    "geo": {
                      "bgcolor": "white",
                      "lakecolor": "white",
                      "landcolor": "#E5ECF6",
                      "showlakes": true,
                      "showland": true,
                      "subunitcolor": "white"
                    },
                    "hoverlabel": {
                      "align": "left"
                    },
                    "hovermode": "closest",
                    "mapbox": {
                      "style": "light"
                    },
                    "paper_bgcolor": "white",
                    "plot_bgcolor": "#E5ECF6",
                    "polar": {
                      "angularaxis": {
                        "gridcolor": "white",
                        "linecolor": "white",
                        "ticks": ""
                      },
                      "bgcolor": "#E5ECF6",
                      "radialaxis": {
                        "gridcolor": "white",
                        "linecolor": "white",
                        "ticks": ""
                      }
                    },
                    "scene": {
                      "xaxis": {
                        "backgroundcolor": "#E5ECF6",
                        "gridcolor": "white",
                        "gridwidth": 2,
                        "linecolor": "white",
                        "showbackground": true,
                        "ticks": "",
                        "zerolinecolor": "white"
                      },
                      "yaxis": {
                        "backgroundcolor": "#E5ECF6",
                        "gridcolor": "white",
                        "gridwidth": 2,
                        "linecolor": "white",
                        "showbackground": true,
                        "ticks": "",
                        "zerolinecolor": "white"
                      },
                      "zaxis": {
                        "backgroundcolor": "#E5ECF6",
                        "gridcolor": "white",
                        "gridwidth": 2,
                        "linecolor": "white",
                        "showbackground": true,
                        "ticks": "",
                        "zerolinecolor": "white"
                      }
                    },
                    "shapedefaults": {
                      "line": {
                        "color": "#2a3f5f"
                      }
                    },
                    "ternary": {
                      "aaxis": {
                        "gridcolor": "white",
                        "linecolor": "white",
                        "ticks": ""
                      },
                      "baxis": {
                        "gridcolor": "white",
                        "linecolor": "white",
                        "ticks": ""
                      },
                      "bgcolor": "#E5ECF6",
                      "caxis": {
                        "gridcolor": "white",
                        "linecolor": "white",
                        "ticks": ""
                      }
                    },
                    "title": {
                      "x": 0.05
                    },
                    "xaxis": {
                      "automargin": true,
                      "gridcolor": "white",
                      "linecolor": "white",
                      "ticks": "",
                      "title": {
                        "standoff": 15
                      },
                      "zerolinecolor": "white",
                      "zerolinewidth": 2
                    },
                    "yaxis": {
                      "automargin": true,
                      "gridcolor": "white",
                      "linecolor": "white",
                      "ticks": "",
                      "title": {
                        "standoff": 15
                      },
                      "zerolinecolor": "white",
                      "zerolinewidth": 2
                    }
                  }
                },
                "title": {
                  "text": "Patching output of attention heads (corrupted -> clean)"
                },
                "width": 600,
                "xaxis": {
                  "anchor": "y",
                  "constrain": "domain",
                  "domain": [
                    0,
                    1
                  ],
                  "linecolor": "black",
                  "linewidth": 1,
                  "mirror": true,
                  "scaleanchor": "y",
                  "showline": true,
                  "title": {
                    "text": "Head"
                  }
                },
                "yaxis": {
                  "anchor": "x",
                  "autorange": "reversed",
                  "constrain": "domain",
                  "domain": [
                    0,
                    1
                  ],
                  "linecolor": "black",
                  "linewidth": 1,
                  "mirror": true,
                  "showline": true,
                  "title": {
                    "text": "Layer"
                  }
                }
              }
            }
          },
          "metadata": {},
          "output_type": "display_data"
        }
      ],
      "source": [
        "imshow_p(\n",
        "    results['z'] * 100,\n",
        "    title=\"Patching output of attention heads (corrupted -> clean)\",\n",
        "    labels={\"x\": \"Head\", \"y\": \"Layer\", \"color\": \"Logit diff variation\"},\n",
        "    coloraxis=dict(colorbar_ticksuffix = \"%\"),\n",
        "    border=True,\n",
        "    width=600,\n",
        "    margin={\"r\": 100, \"l\": 100}\n",
        ")"
      ]
    },
    {
      "attachments": {},
      "cell_type": "markdown",
      "metadata": {},
      "source": [
        "#### Head Output by Component"
      ]
    },
    {
      "cell_type": "code",
      "execution_count": 25,
      "metadata": {},
      "outputs": [
        {
          "data": {
            "application/vnd.jupyter.widget-view+json": {
              "model_id": "9486bc24563d4ef7ba62a405d3d3bab1",
              "version_major": 2,
              "version_minor": 0
            },
            "text/plain": [
              "  0%|          | 0/720 [00:00<?, ?it/s]"
            ]
          },
          "metadata": {},
          "output_type": "display_data"
        },
        {
          "name": "stdout",
          "output_type": "stream",
          "text": [
            "results['z'].shape = (layer=12, head=12)\n",
            "results['q'].shape = (layer=12, head=12)\n",
            "results['k'].shape = (layer=12, head=12)\n",
            "results['v'].shape = (layer=12, head=12)\n",
            "results['pattern'].shape = (layer=12, head=12)\n"
          ]
        }
      ],
      "source": [
        "# iterating over all heads' output in all layers\n",
        "\n",
        "results = act_patch(\n",
        "    model=model,\n",
        "    orig_input=corrupted_tokens,\n",
        "    new_cache=clean_cache,\n",
        "    patching_nodes=IterNode([\"z\", \"q\", \"k\", \"v\", \"pattern\"]),\n",
        "    patching_metric=logit_diff_denoising,\n",
        "    verbose=True,\n",
        ")"
      ]
    },
    {
      "cell_type": "code",
      "execution_count": 26,
      "metadata": {},
      "outputs": [
        {
          "data": {
            "application/vnd.plotly.v1+json": {
              "config": {
                "plotlyServerURL": "https://plot.ly"
              },
              "data": [
                {
                  "coloraxis": "coloraxis",
                  "hovertemplate": "Head: %{x}<br>Layer: %{y}<br>Logit diff variation: %{z}<extra></extra>",
                  "name": "0",
                  "type": "heatmap",
                  "xaxis": "x",
                  "yaxis": "y",
                  "z": [
                    [
                      0.20799612998962402,
                      0.6819056868553162,
                      -0.020032649859786034,
                      1.2557780742645264,
                      2.750720262527466,
                      0.47752684354782104,
                      1.3197280168533325,
                      0.16544678807258606,
                      0.006450513377785683,
                      0.10125645995140076,
                      0.09521231800317764,
                      0.038685910403728485
                    ],
                    [
                      0.017954977229237556,
                      -0.016031842678785324,
                      -0.033088214695453644,
                      0.016970517113804817,
                      -0.08717064559459686,
                      -0.6387439370155334,
                      0.48692500591278076,
                      0.5003411769866943,
                      -0.21345075964927673,
                      -0.09100546687841415,
                      -0.023043271154165268,
                      0.5695167779922485
                    ],
                    [
                      0.1983003467321396,
                      2.634021759033203,
                      0.017193736508488655,
                      0.06959915161132812,
                      0.03784453868865967,
                      0.05499248579144478,
                      0.005792297422885895,
                      -0.1737918257713318,
                      0.07516250759363174,
                      -0.06360652297735214,
                      -0.19957096874713898,
                      -0.19799698889255524
                    ],
                    [
                      0.13377803564071655,
                      -0.26527807116508484,
                      0.031084949150681496,
                      0.06132853031158447,
                      -0.03416997939348221,
                      0.7472063899040222,
                      0.12981157004833221,
                      -0.14112143218517303,
                      0.20534610748291016,
                      0.23968206346035004,
                      -0.26357242465019226,
                      2.131542682647705
                    ],
                    [
                      -0.0897863358259201,
                      0.19600516557693481,
                      0.5062078833580017,
                      -0.14078374207019806,
                      -0.4535735249519348,
                      -0.027524860575795174,
                      0.03509720414876938,
                      0.5422437787055969,
                      0.5256223678588867,
                      0.8603107333183289,
                      0.45106086134910583,
                      -0.007251818664371967
                    ],
                    [
                      -0.08745682239532471,
                      0.23888076841831207,
                      0.08179616928100586,
                      0.38117554783821106,
                      0.46365851163864136,
                      1.5359203815460205,
                      -0.027427559718489647,
                      1.4187923669815063,
                      -0.7811245322227478,
                      0.19242791831493378,
                      1.8102189302444458,
                      -4.2108917236328125
                    ],
                    [
                      0.4643511176109314,
                      -0.03354610130190849,
                      -0.09180104732513428,
                      -0.17305919528007507,
                      8.721657752990723,
                      -1.940860390663147,
                      -2.468634843826294,
                      4.554511547088623,
                      0.2857743203639984,
                      0.4930207133293152,
                      1.332749366760254,
                      -0.03474806249141693
                    ],
                    [
                      0.1152564212679863,
                      16.51614761352539,
                      0.19136331975460052,
                      -2.088346481323242,
                      0.12674371898174286,
                      12.58115291595459,
                      -9.100272178649902,
                      0.03484536334872246,
                      0.8818371891975403,
                      2.5509090423583984,
                      0.34391480684280396,
                      -0.006833995692431927
                    ],
                    [
                      -0.13829396665096283,
                      0.025344163179397583,
                      3.9144198894500732,
                      0.8810473680496216,
                      1.7252346277236938,
                      9.045376777648926,
                      0.38779202103614807,
                      0.46124890446662903,
                      0.736182689666748,
                      1.909289002418518,
                      -7.22983455657959,
                      1.2573120594024658
                    ],
                    [
                      -0.17044924199581146,
                      1.0325170755386353,
                      14.142606735229492,
                      4.243344306945801,
                      0.09007252007722855,
                      -2.7182016372680664,
                      2.289311170578003,
                      -3.74532151222229,
                      0.1406807154417038,
                      1.3647900819778442,
                      3.212470293045044,
                      0.0018601745832711458
                    ],
                    [
                      4.420925140380859,
                      7.525977611541748,
                      -0.18600600957870483,
                      -0.35464659333229065,
                      29.607751846313477,
                      0.8169657588005066,
                      -0.1649087816476822,
                      -7.168478012084961,
                      -0.0392468236386776,
                      1.0302906036376953,
                      0.6541404128074646,
                      2.5065882205963135
                    ],
                    [
                      -0.425613671541214,
                      0.15220235288143158,
                      0.14069215953350067,
                      1.296078085899353,
                      0.14382298290729523,
                      0.320064514875412,
                      -0.03163441643118858,
                      0.5161097049713135,
                      1.6974350214004517,
                      3.8841447830200195,
                      -0.04946347326040268,
                      2.728426933288574
                    ]
                  ]
                },
                {
                  "coloraxis": "coloraxis",
                  "hovertemplate": "Head: %{x}<br>Layer: %{y}<br>Logit diff variation: %{z}<extra></extra>",
                  "name": "1",
                  "type": "heatmap",
                  "xaxis": "x2",
                  "yaxis": "y2",
                  "z": [
                    [
                      -0.10519430786371231,
                      0.38014528155326843,
                      0.026935327798128128,
                      0.010926379822194576,
                      0.14143623411655426,
                      0.4341418743133545,
                      0.0016598482616245747,
                      0.008201939053833485,
                      -0.11643548309803009,
                      -0.05349862203001976,
                      -0.7400404214859009,
                      -0.07085834443569183
                    ],
                    [
                      0.08634071797132492,
                      0.06312574446201324,
                      0.002277998486533761,
                      0.07717148959636688,
                      0.01449219137430191,
                      -0.07844213396310806,
                      -0.04489602893590927,
                      0.057030089199543,
                      0.07119603455066681,
                      -0.024159375578165054,
                      -0.0016827424988150597,
                      0.37071847915649414
                    ],
                    [
                      -0.09446252882480621,
                      0.2813499867916107,
                      0.1349799931049347,
                      0.10600706189870834,
                      -0.033872347325086594,
                      0.03702033683657646,
                      0.08533909171819687,
                      0.005008162464946508,
                      0.02113158442080021,
                      0.5536451935768127,
                      0.017737481743097305,
                      0.02278570830821991
                    ],
                    [
                      -0.2926369309425354,
                      -0.06435631960630417,
                      0.06840863823890686,
                      0.007406356744468212,
                      -0.12891869246959686,
                      -0.13775594532489777,
                      0.08718781918287277,
                      0.3305959403514862,
                      0.09709539264440536,
                      0.006261633709073067,
                      0.0880005732178688,
                      0.08568823337554932
                    ],
                    [
                      -0.056766804307699203,
                      0.048942625522613525,
                      -0.037798747420310974,
                      0.00235240557231009,
                      0.27091583609580994,
                      -0.05458610877394676,
                      0.1030021607875824,
                      -0.028738265857100487,
                      -0.08110933750867844,
                      0.05249698832631111,
                      0.11621225625276566,
                      0.013101352378726006
                    ],
                    [
                      -0.08225978165864944,
                      -0.0038233741652220488,
                      0.06326310336589813,
                      -0.15233398973941803,
                      0.019013846293091774,
                      -0.011641831137239933,
                      0.04295572638511658,
                      -0.022230517119169235,
                      -0.018870756030082703,
                      -0.4087061285972595,
                      -0.3735116124153137,
                      -0.17399786412715912
                    ],
                    [
                      0.1552015244960785,
                      0.028663858771324158,
                      -0.03087889961898327,
                      -0.0069084023125469685,
                      -0.0016770189395174384,
                      -0.154657781124115,
                      0.07757214456796646,
                      0.0012134062126278877,
                      0.02398766577243805,
                      -0.029722729697823524,
                      0.04876519367098808,
                      0.019849494099617004
                    ],
                    [
                      -0.014022854156792164,
                      0.08341022580862045,
                      -0.005185594782233238,
                      -0.026362968608736992,
                      0.09793103486299515,
                      -0.00945541076362133,
                      -0.583728551864624,
                      0.03709474578499794,
                      0.1162351593375206,
                      -0.10105613619089127,
                      -0.005752232391387224,
                      -0.002340958220884204
                    ],
                    [
                      0.04574884846806526,
                      -0.007532276678830385,
                      -0.0472770556807518,
                      0.03384372964501381,
                      0.011115258559584618,
                      -0.004762046970427036,
                      -0.012277152389287949,
                      0.016415325924754143,
                      -0.02958536148071289,
                      -0.012798001989722252,
                      -0.20637062191963196,
                      -0.05935388058423996
                    ],
                    [
                      -0.5196297764778137,
                      -0.040580425411462784,
                      0.025069430470466614,
                      0.08928266167640686,
                      -0.019408775493502617,
                      -0.10857123136520386,
                      0.04842749983072281,
                      -0.2767939865589142,
                      -0.05662371218204498,
                      0.012340112589299679,
                      -0.002816018182784319,
                      0.017262419685721397
                    ],
                    [
                      -0.10784433782100677,
                      0.6416686773300171,
                      -0.30813077092170715,
                      0.0542655885219574,
                      -0.39221638441085815,
                      0.013908382505178452,
                      -0.03971615806221962,
                      -2.705695390701294,
                      -0.022831495851278305,
                      -0.02955101989209652,
                      0.060492876917123795,
                      0.12582793831825256
                    ],
                    [
                      -0.037163425236940384,
                      0.04780362546443939,
                      -0.026591910049319267,
                      -0.498521089553833,
                      -0.04920591041445732,
                      -0.0393097810447216,
                      0.02522396668791771,
                      -0.1911744326353073,
                      -0.05057385563850403,
                      0.030380943790078163,
                      -0.2348627895116806,
                      0.08715347200632095
                    ]
                  ]
                },
                {
                  "coloraxis": "coloraxis",
                  "hovertemplate": "Head: %{x}<br>Layer: %{y}<br>Logit diff variation: %{z}<extra></extra>",
                  "name": "2",
                  "type": "heatmap",
                  "xaxis": "x3",
                  "yaxis": "y3",
                  "z": [
                    [
                      -0.09087954461574554,
                      0.37348300218582153,
                      -0.03562377393245697,
                      0.09366694837808609,
                      0.08682722598314285,
                      0.7300183773040771,
                      -0.025229692459106445,
                      0.042686715722084045,
                      -0.06725818663835526,
                      -0.03209230303764343,
                      -0.6717748641967773,
                      0.015241984277963638
                    ],
                    [
                      0.09939055889844894,
                      0.0409868024289608,
                      0.007686814293265343,
                      -0.036631133407354355,
                      -0.005265725310891867,
                      0.0015396522358059883,
                      -0.05045366287231445,
                      -0.09264814108610153,
                      -0.014188839122653008,
                      -0.005964005831629038,
                      -0.006977085955440998,
                      0.3707757294178009
                    ],
                    [
                      -0.08523034304380417,
                      -0.16500607132911682,
                      0.04853624850511551,
                      0.13251884281635284,
                      0.044466760009527206,
                      -0.0011389992432668805,
                      0.1533699631690979,
                      0.03063850663602352,
                      0.1399194747209549,
                      0.4244231581687927,
                      -0.0016484009101986885,
                      0.006931297015398741
                    ],
                    [
                      -0.2468995451927185,
                      0.027942683547735214,
                      -0.03164013847708702,
                      0.03798762708902359,
                      -0.08755412697792053,
                      0.030089039355516434,
                      0.15905924141407013,
                      0.48214584589004517,
                      0.18678443133831024,
                      -0.031542837619781494,
                      -0.010325400158762932,
                      -0.11359656602144241
                    ],
                    [
                      0.08935706317424774,
                      -0.03442181646823883,
                      0.1699741631746292,
                      0.0251839030534029,
                      0.022814325988292694,
                      0.05162127688527107,
                      -0.032029345631599426,
                      0.025035088881850243,
                      -0.0346965491771698,
                      -0.028755437582731247,
                      0.10511990636587143,
                      -0.01052000280469656
                    ],
                    [
                      0.01912831887602806,
                      0.012757936492562294,
                      0.023518331348896027,
                      0.16498318314552307,
                      0.0075494470074772835,
                      -0.0257505401968956,
                      -0.014400613494217396,
                      0.1752399057149887,
                      -0.0051569766364991665,
                      -0.430587500333786,
                      -0.24431820213794708,
                      -0.21965515613555908
                    ],
                    [
                      -0.0174570232629776,
                      0.05583957955241203,
                      0.044632744044065475,
                      0.00013736673281528056,
                      0.1902415007352829,
                      -0.06355500966310501,
                      0.13058997690677643,
                      0.22729043662548065,
                      -0.0067939297296106815,
                      -0.05324678495526314,
                      0.0631658062338829,
                      -0.034393198788166046
                    ],
                    [
                      0.03402116522192955,
                      -0.3339213728904724,
                      -0.00919212494045496,
                      -0.08187057822942734,
                      -0.013902658596634865,
                      -0.08724505454301834,
                      0.2136911302804947,
                      -0.0768624097108841,
                      -0.012769382447004318,
                      0.025155285373330116,
                      0.05651496350765228,
                      -0.003022068180143833
                    ],
                    [
                      0.03523457050323486,
                      -0.007852798327803612,
                      0.001528205000795424,
                      0.15734215080738068,
                      -0.02264261804521084,
                      -0.009941917844116688,
                      -0.01614631712436676,
                      0.008711340837180614,
                      -0.13285653293132782,
                      -0.005557629279792309,
                      -0.5247810482978821,
                      -0.007589512970298529
                    ],
                    [
                      -0.22237958014011383,
                      0.11137580871582031,
                      -0.3372754156589508,
                      -0.049074266105890274,
                      -0.02060501091182232,
                      -0.06973651796579361,
                      0.1666659265756607,
                      -0.07191721349954605,
                      0.08165880292654037,
                      0.017228079959750175,
                      -0.02651178278028965,
                      -0.026580464094877243
                    ],
                    [
                      0.44773542881011963,
                      0.6196842789649963,
                      -0.09631125628948212,
                      -0.04822717607021332,
                      -0.06566702574491501,
                      0.10414688289165497,
                      -0.14005111157894135,
                      -2.7065885066986084,
                      0.00654209079220891,
                      -0.014080091379582882,
                      0.26836881041526794,
                      0.04333920776844025
                    ],
                    [
                      0.005889599211513996,
                      0.09186400473117828,
                      0.1014796793460846,
                      0.19773943722248077,
                      0.038376834243535995,
                      0.03209802880883217,
                      0.03026074916124344,
                      -0.01447501964867115,
                      0.07302187383174896,
                      0.33755016326904297,
                      -0.2650376856327057,
                      0.08104638010263443
                    ]
                  ]
                },
                {
                  "coloraxis": "coloraxis",
                  "hovertemplate": "Head: %{x}<br>Layer: %{y}<br>Logit diff variation: %{z}<extra></extra>",
                  "name": "3",
                  "type": "heatmap",
                  "xaxis": "x4",
                  "yaxis": "y4",
                  "z": [
                    [
                      0.2863638699054718,
                      0.6823921799659729,
                      -0.01572849228978157,
                      1.2682327032089233,
                      2.6997084617614746,
                      0.47951868176460266,
                      1.262755274772644,
                      0.22401653230190277,
                      0.08319845795631409,
                      0.09411338716745377,
                      0.08415430039167404,
                      0.1066996157169342
                    ],
                    [
                      -0.005494669545441866,
                      -0.06416171789169312,
                      -0.04901130869984627,
                      0.0027988473884761333,
                      -0.08547073602676392,
                      -0.5581554174423218,
                      0.5295315980911255,
                      0.43497177958488464,
                      -0.24053488671779633,
                      -0.07724017649888992,
                      -0.01883641444146633,
                      0.5062193274497986
                    ],
                    [
                      0.27524861693382263,
                      2.260077714920044,
                      -0.009850339964032173,
                      0.03674560412764549,
                      0.06155174970626831,
                      0.08145275712013245,
                      -0.20135673880577087,
                      -0.18735679984092712,
                      0.036814287304878235,
                      -0.07289595156908035,
                      -0.25521597266197205,
                      -0.1718686819076538
                    ],
                    [
                      0.09985990077257156,
                      -0.2431563138961792,
                      0.08064572513103485,
                      0.029035896062850952,
                      -0.049904193729162216,
                      0.825471043586731,
                      0.12778541445732117,
                      -0.16724973917007446,
                      0.07387468963861465,
                      0.2576885521411896,
                      -0.4464419186115265,
                      2.1222445964813232
                    ],
                    [
                      -0.02638586238026619,
                      0.12440275400876999,
                      0.3770316541194916,
                      -0.18376807868480682,
                      -0.6112419366836548,
                      -0.014240352436900139,
                      -0.13133405148983002,
                      0.6326482892036438,
                      0.5836426615715027,
                      0.8328602910041809,
                      0.23748993873596191,
                      0.0005723614594899118
                    ],
                    [
                      -0.05115193873643875,
                      0.23131415247917175,
                      0.03705468028783798,
                      0.3820340931415558,
                      0.47884899377822876,
                      1.4765207767486572,
                      -0.018223987892270088,
                      1.214894413948059,
                      -0.7761449813842773,
                      -0.03584699705243111,
                      2.0158655643463135,
                      -4.443516731262207
                    ],
                    [
                      0.3018977642059326,
                      -0.13848857581615448,
                      -0.0073662917129695415,
                      -0.10662521421909332,
                      7.470232009887695,
                      -1.8129661083221436,
                      -2.4870190620422363,
                      4.0074944496154785,
                      0.27562636137008667,
                      0.5345969796180725,
                      1.2222319841384888,
                      -0.16412463784217834
                    ],
                    [
                      0.09625974297523499,
                      16.19683837890625,
                      0.20262165367603302,
                      -2.0209567546844482,
                      0.04019121825695038,
                      12.334732055664062,
                      -8.471132278442383,
                      0.07683952152729034,
                      0.7519283890724182,
                      2.5541257858276367,
                      0.2875601053237915,
                      -0.0007555170450359583
                    ],
                    [
                      -0.21679334342479706,
                      0.020742379128932953,
                      4.19101619720459,
                      0.7002670168876648,
                      1.734655737876892,
                      8.997956275939941,
                      0.41773226857185364,
                      0.4352923035621643,
                      0.873349130153656,
                      1.9480550289154053,
                      -7.186450004577637,
                      1.2549195289611816
                    ],
                    [
                      0.44358009099960327,
                      1.0316814184188843,
                      12.943381309509277,
                      4.231138706207275,
                      0.06951901316642761,
                      -2.6527578830718994,
                      1.8320258855819702,
                      -3.4628093242645264,
                      0.1085311770439148,
                      1.1847537755966187,
                      3.264277458190918,
                      0.026654871180653572
                    ],
                    [
                      3.8427345752716064,
                      6.173473358154297,
                      0.17409518361091614,
                      -0.3356727957725525,
                      29.181217193603516,
                      0.7078565359115601,
                      0.009077652357518673,
                      -6.137477397918701,
                      -0.024960681796073914,
                      1.0824899673461914,
                      0.3220563232898712,
                      2.4368374347686768
                    ],
                    [
                      -0.4178810715675354,
                      0.0387660413980484,
                      0.0432075634598732,
                      1.571704387664795,
                      0.15634624660015106,
                      0.3419458866119385,
                      -0.08780024200677872,
                      0.78941810131073,
                      1.7718706130981445,
                      3.4518401622772217,
                      0.028091497719287872,
                      2.6089978218078613
                    ]
                  ]
                },
                {
                  "coloraxis": "coloraxis",
                  "hovertemplate": "Head: %{x}<br>Layer: %{y}<br>Logit diff variation: %{z}<extra></extra>",
                  "name": "4",
                  "type": "heatmap",
                  "xaxis": "x5",
                  "yaxis": "y5",
                  "z": [
                    [
                      -0.1281631588935852,
                      -0.0009100546594709158,
                      -0.02042185515165329,
                      -0.017554324120283127,
                      -0.00682827178388834,
                      -0.00020605011377483606,
                      -0.026517504826188087,
                      -0.0395730696618557,
                      -0.08834970742464066,
                      0.018721941858530045,
                      0.055416032671928406,
                      -0.05417400971055031
                    ],
                    [
                      0.023775894194841385,
                      0.05146101489663124,
                      0.015138959512114525,
                      0.01153880637139082,
                      0.002003265079110861,
                      -0.11986392736434937,
                      -0.05197041854262352,
                      -0.0051569766364991665,
                      0.030552653595805168,
                      -0.03252729773521423,
                      -0.007206030655652285,
                      0.03711763769388199
                    ],
                    [
                      0.002209315076470375,
                      0.3298346996307373,
                      0.00945541076362133,
                      0.06722957640886307,
                      0.035612329840660095,
                      -0.03744960576295853,
                      0.23398134112358093,
                      0.03307104483246803,
                      0.021726839244365692,
                      0.03862294927239418,
                      0.04091239720582962,
                      -0.023815957829356194
                    ],
                    [
                      0.01685604453086853,
                      -0.028343338519334793,
                      -0.06353212147951126,
                      0.02544146589934826,
                      0.008442331105470657,
                      -0.10139381885528564,
                      0.006044136360287666,
                      -0.011012233793735504,
                      0.12233079969882965,
                      -0.02896721102297306,
                      0.11765460669994354,
                      -0.09925319254398346
                    ],
                    [
                      -0.05332119017839432,
                      0.04442096874117851,
                      0.12076253443956375,
                      0.025143837556242943,
                      0.1603127121925354,
                      -0.003205224173143506,
                      0.18760862946510315,
                      -0.032939400523900986,
                      -0.06958197802305222,
                      -0.015917370095849037,
                      0.22399364411830902,
                      -0.008018783293664455
                    ],
                    [
                      -0.0424005351960659,
                      0.0034799573477357626,
                      0.027902619913220406,
                      0.004281263332813978,
                      -0.03338584303855896,
                      0.05775699391961098,
                      -0.004802112467586994,
                      0.1048508882522583,
                      0.04916584491729736,
                      0.22460032999515533,
                      -0.4008418917655945,
                      -0.04213724657893181
                    ],
                    [
                      0.14668478071689606,
                      0.040872327983379364,
                      0.0001201958948513493,
                      -0.040088195353746414,
                      0.4362652897834778,
                      -0.1558254063129425,
                      0.02638586238026619,
                      0.10479365289211273,
                      0.023163465782999992,
                      -0.0689581036567688,
                      0.11452379077672958,
                      0.07067518681287766
                    ],
                    [
                      0.020398961380124092,
                      -0.33639970421791077,
                      -0.01620355248451233,
                      -0.03475378453731537,
                      0.08187057822942734,
                      0.20245566964149475,
                      -0.20351454615592957,
                      -0.015871582552790642,
                      0.11243467777967453,
                      -0.05716745927929878,
                      0.050001490861177444,
                      -0.004109554924070835
                    ],
                    [
                      0.06633668392896652,
                      -0.006553538143634796,
                      -0.006255910731852055,
                      0.22255700826644897,
                      0.002358129248023033,
                      0.034066952764987946,
                      -0.026248494163155556,
                      0.026654871180653572,
                      -0.18248598277568817,
                      -0.08712485432624817,
                      -0.023197809234261513,
                      -0.05895895138382912
                    ],
                    [
                      -0.65572589635849,
                      0.06283383816480637,
                      -0.31830161809921265,
                      0.04054608196020126,
                      0.008058848790824413,
                      -0.06298837065696716,
                      0.19296592473983765,
                      -0.11814112216234207,
                      0.019506076350808144,
                      0.10363748669624329,
                      -0.04875946789979935,
                      -0.01620355248451233
                    ],
                    [
                      0.294251024723053,
                      1.0604711771011353,
                      -0.40824249386787415,
                      0.020576393231749535,
                      0.15058256685733795,
                      0.11845019459724426,
                      -0.13322857022285461,
                      -0.5012340545654297,
                      -0.01705637015402317,
                      -0.0437513068318367,
                      0.3482819199562073,
                      -0.01151018775999546
                    ],
                    [
                      0.0007555170450359583,
                      0.1435367912054062,
                      0.09153204411268234,
                      -0.25989216566085815,
                      -0.014389166608452797,
                      -0.010462766513228416,
                      0.038394004106521606,
                      -0.2982174754142761,
                      -0.07173405587673187,
                      0.33835718035697937,
                      -0.0807773694396019,
                      0.075729139149189
                    ]
                  ]
                }
              ],
              "layout": {
                "annotations": [
                  {
                    "font": {},
                    "showarrow": false,
                    "text": "Output",
                    "x": 0.09200000000000001,
                    "xanchor": "center",
                    "xref": "paper",
                    "y": 1,
                    "yanchor": "bottom",
                    "yref": "paper"
                  },
                  {
                    "font": {},
                    "showarrow": false,
                    "text": "Query",
                    "x": 0.29600000000000004,
                    "xanchor": "center",
                    "xref": "paper",
                    "y": 1,
                    "yanchor": "bottom",
                    "yref": "paper"
                  },
                  {
                    "font": {},
                    "showarrow": false,
                    "text": "Key",
                    "x": 0.5,
                    "xanchor": "center",
                    "xref": "paper",
                    "y": 1,
                    "yanchor": "bottom",
                    "yref": "paper"
                  },
                  {
                    "font": {},
                    "showarrow": false,
                    "text": "Value",
                    "x": 0.7040000000000002,
                    "xanchor": "center",
                    "xref": "paper",
                    "y": 1,
                    "yanchor": "bottom",
                    "yref": "paper"
                  },
                  {
                    "font": {},
                    "showarrow": false,
                    "text": "Pattern",
                    "x": 0.908,
                    "xanchor": "center",
                    "xref": "paper",
                    "y": 1,
                    "yanchor": "bottom",
                    "yref": "paper"
                  }
                ],
                "coloraxis": {
                  "cmid": 0,
                  "colorbar": {
                    "ticksuffix": "%",
                    "title": {
                      "text": "Logit diff variation"
                    }
                  },
                  "colorscale": [
                    [
                      0,
                      "rgb(103,0,31)"
                    ],
                    [
                      0.1,
                      "rgb(178,24,43)"
                    ],
                    [
                      0.2,
                      "rgb(214,96,77)"
                    ],
                    [
                      0.3,
                      "rgb(244,165,130)"
                    ],
                    [
                      0.4,
                      "rgb(253,219,199)"
                    ],
                    [
                      0.5,
                      "rgb(247,247,247)"
                    ],
                    [
                      0.6,
                      "rgb(209,229,240)"
                    ],
                    [
                      0.7,
                      "rgb(146,197,222)"
                    ],
                    [
                      0.8,
                      "rgb(67,147,195)"
                    ],
                    [
                      0.9,
                      "rgb(33,102,172)"
                    ],
                    [
                      1,
                      "rgb(5,48,97)"
                    ]
                  ]
                },
                "margin": {
                  "l": 100,
                  "r": 100
                },
                "template": {
                  "data": {
                    "bar": [
                      {
                        "error_x": {
                          "color": "#2a3f5f"
                        },
                        "error_y": {
                          "color": "#2a3f5f"
                        },
                        "marker": {
                          "line": {
                            "color": "#E5ECF6",
                            "width": 0.5
                          },
                          "pattern": {
                            "fillmode": "overlay",
                            "size": 10,
                            "solidity": 0.2
                          }
                        },
                        "type": "bar"
                      }
                    ],
                    "barpolar": [
                      {
                        "marker": {
                          "line": {
                            "color": "#E5ECF6",
                            "width": 0.5
                          },
                          "pattern": {
                            "fillmode": "overlay",
                            "size": 10,
                            "solidity": 0.2
                          }
                        },
                        "type": "barpolar"
                      }
                    ],
                    "carpet": [
                      {
                        "aaxis": {
                          "endlinecolor": "#2a3f5f",
                          "gridcolor": "white",
                          "linecolor": "white",
                          "minorgridcolor": "white",
                          "startlinecolor": "#2a3f5f"
                        },
                        "baxis": {
                          "endlinecolor": "#2a3f5f",
                          "gridcolor": "white",
                          "linecolor": "white",
                          "minorgridcolor": "white",
                          "startlinecolor": "#2a3f5f"
                        },
                        "type": "carpet"
                      }
                    ],
                    "choropleth": [
                      {
                        "colorbar": {
                          "outlinewidth": 0,
                          "ticks": ""
                        },
                        "type": "choropleth"
                      }
                    ],
                    "contour": [
                      {
                        "colorbar": {
                          "outlinewidth": 0,
                          "ticks": ""
                        },
                        "colorscale": [
                          [
                            0,
                            "#0d0887"
                          ],
                          [
                            0.1111111111111111,
                            "#46039f"
                          ],
                          [
                            0.2222222222222222,
                            "#7201a8"
                          ],
                          [
                            0.3333333333333333,
                            "#9c179e"
                          ],
                          [
                            0.4444444444444444,
                            "#bd3786"
                          ],
                          [
                            0.5555555555555556,
                            "#d8576b"
                          ],
                          [
                            0.6666666666666666,
                            "#ed7953"
                          ],
                          [
                            0.7777777777777778,
                            "#fb9f3a"
                          ],
                          [
                            0.8888888888888888,
                            "#fdca26"
                          ],
                          [
                            1,
                            "#f0f921"
                          ]
                        ],
                        "type": "contour"
                      }
                    ],
                    "contourcarpet": [
                      {
                        "colorbar": {
                          "outlinewidth": 0,
                          "ticks": ""
                        },
                        "type": "contourcarpet"
                      }
                    ],
                    "heatmap": [
                      {
                        "colorbar": {
                          "outlinewidth": 0,
                          "ticks": ""
                        },
                        "colorscale": [
                          [
                            0,
                            "#0d0887"
                          ],
                          [
                            0.1111111111111111,
                            "#46039f"
                          ],
                          [
                            0.2222222222222222,
                            "#7201a8"
                          ],
                          [
                            0.3333333333333333,
                            "#9c179e"
                          ],
                          [
                            0.4444444444444444,
                            "#bd3786"
                          ],
                          [
                            0.5555555555555556,
                            "#d8576b"
                          ],
                          [
                            0.6666666666666666,
                            "#ed7953"
                          ],
                          [
                            0.7777777777777778,
                            "#fb9f3a"
                          ],
                          [
                            0.8888888888888888,
                            "#fdca26"
                          ],
                          [
                            1,
                            "#f0f921"
                          ]
                        ],
                        "type": "heatmap"
                      }
                    ],
                    "heatmapgl": [
                      {
                        "colorbar": {
                          "outlinewidth": 0,
                          "ticks": ""
                        },
                        "colorscale": [
                          [
                            0,
                            "#0d0887"
                          ],
                          [
                            0.1111111111111111,
                            "#46039f"
                          ],
                          [
                            0.2222222222222222,
                            "#7201a8"
                          ],
                          [
                            0.3333333333333333,
                            "#9c179e"
                          ],
                          [
                            0.4444444444444444,
                            "#bd3786"
                          ],
                          [
                            0.5555555555555556,
                            "#d8576b"
                          ],
                          [
                            0.6666666666666666,
                            "#ed7953"
                          ],
                          [
                            0.7777777777777778,
                            "#fb9f3a"
                          ],
                          [
                            0.8888888888888888,
                            "#fdca26"
                          ],
                          [
                            1,
                            "#f0f921"
                          ]
                        ],
                        "type": "heatmapgl"
                      }
                    ],
                    "histogram": [
                      {
                        "marker": {
                          "pattern": {
                            "fillmode": "overlay",
                            "size": 10,
                            "solidity": 0.2
                          }
                        },
                        "type": "histogram"
                      }
                    ],
                    "histogram2d": [
                      {
                        "colorbar": {
                          "outlinewidth": 0,
                          "ticks": ""
                        },
                        "colorscale": [
                          [
                            0,
                            "#0d0887"
                          ],
                          [
                            0.1111111111111111,
                            "#46039f"
                          ],
                          [
                            0.2222222222222222,
                            "#7201a8"
                          ],
                          [
                            0.3333333333333333,
                            "#9c179e"
                          ],
                          [
                            0.4444444444444444,
                            "#bd3786"
                          ],
                          [
                            0.5555555555555556,
                            "#d8576b"
                          ],
                          [
                            0.6666666666666666,
                            "#ed7953"
                          ],
                          [
                            0.7777777777777778,
                            "#fb9f3a"
                          ],
                          [
                            0.8888888888888888,
                            "#fdca26"
                          ],
                          [
                            1,
                            "#f0f921"
                          ]
                        ],
                        "type": "histogram2d"
                      }
                    ],
                    "histogram2dcontour": [
                      {
                        "colorbar": {
                          "outlinewidth": 0,
                          "ticks": ""
                        },
                        "colorscale": [
                          [
                            0,
                            "#0d0887"
                          ],
                          [
                            0.1111111111111111,
                            "#46039f"
                          ],
                          [
                            0.2222222222222222,
                            "#7201a8"
                          ],
                          [
                            0.3333333333333333,
                            "#9c179e"
                          ],
                          [
                            0.4444444444444444,
                            "#bd3786"
                          ],
                          [
                            0.5555555555555556,
                            "#d8576b"
                          ],
                          [
                            0.6666666666666666,
                            "#ed7953"
                          ],
                          [
                            0.7777777777777778,
                            "#fb9f3a"
                          ],
                          [
                            0.8888888888888888,
                            "#fdca26"
                          ],
                          [
                            1,
                            "#f0f921"
                          ]
                        ],
                        "type": "histogram2dcontour"
                      }
                    ],
                    "mesh3d": [
                      {
                        "colorbar": {
                          "outlinewidth": 0,
                          "ticks": ""
                        },
                        "type": "mesh3d"
                      }
                    ],
                    "parcoords": [
                      {
                        "line": {
                          "colorbar": {
                            "outlinewidth": 0,
                            "ticks": ""
                          }
                        },
                        "type": "parcoords"
                      }
                    ],
                    "pie": [
                      {
                        "automargin": true,
                        "type": "pie"
                      }
                    ],
                    "scatter": [
                      {
                        "fillpattern": {
                          "fillmode": "overlay",
                          "size": 10,
                          "solidity": 0.2
                        },
                        "type": "scatter"
                      }
                    ],
                    "scatter3d": [
                      {
                        "line": {
                          "colorbar": {
                            "outlinewidth": 0,
                            "ticks": ""
                          }
                        },
                        "marker": {
                          "colorbar": {
                            "outlinewidth": 0,
                            "ticks": ""
                          }
                        },
                        "type": "scatter3d"
                      }
                    ],
                    "scattercarpet": [
                      {
                        "marker": {
                          "colorbar": {
                            "outlinewidth": 0,
                            "ticks": ""
                          }
                        },
                        "type": "scattercarpet"
                      }
                    ],
                    "scattergeo": [
                      {
                        "marker": {
                          "colorbar": {
                            "outlinewidth": 0,
                            "ticks": ""
                          }
                        },
                        "type": "scattergeo"
                      }
                    ],
                    "scattergl": [
                      {
                        "marker": {
                          "colorbar": {
                            "outlinewidth": 0,
                            "ticks": ""
                          }
                        },
                        "type": "scattergl"
                      }
                    ],
                    "scattermapbox": [
                      {
                        "marker": {
                          "colorbar": {
                            "outlinewidth": 0,
                            "ticks": ""
                          }
                        },
                        "type": "scattermapbox"
                      }
                    ],
                    "scatterpolar": [
                      {
                        "marker": {
                          "colorbar": {
                            "outlinewidth": 0,
                            "ticks": ""
                          }
                        },
                        "type": "scatterpolar"
                      }
                    ],
                    "scatterpolargl": [
                      {
                        "marker": {
                          "colorbar": {
                            "outlinewidth": 0,
                            "ticks": ""
                          }
                        },
                        "type": "scatterpolargl"
                      }
                    ],
                    "scatterternary": [
                      {
                        "marker": {
                          "colorbar": {
                            "outlinewidth": 0,
                            "ticks": ""
                          }
                        },
                        "type": "scatterternary"
                      }
                    ],
                    "surface": [
                      {
                        "colorbar": {
                          "outlinewidth": 0,
                          "ticks": ""
                        },
                        "colorscale": [
                          [
                            0,
                            "#0d0887"
                          ],
                          [
                            0.1111111111111111,
                            "#46039f"
                          ],
                          [
                            0.2222222222222222,
                            "#7201a8"
                          ],
                          [
                            0.3333333333333333,
                            "#9c179e"
                          ],
                          [
                            0.4444444444444444,
                            "#bd3786"
                          ],
                          [
                            0.5555555555555556,
                            "#d8576b"
                          ],
                          [
                            0.6666666666666666,
                            "#ed7953"
                          ],
                          [
                            0.7777777777777778,
                            "#fb9f3a"
                          ],
                          [
                            0.8888888888888888,
                            "#fdca26"
                          ],
                          [
                            1,
                            "#f0f921"
                          ]
                        ],
                        "type": "surface"
                      }
                    ],
                    "table": [
                      {
                        "cells": {
                          "fill": {
                            "color": "#EBF0F8"
                          },
                          "line": {
                            "color": "white"
                          }
                        },
                        "header": {
                          "fill": {
                            "color": "#C8D4E3"
                          },
                          "line": {
                            "color": "white"
                          }
                        },
                        "type": "table"
                      }
                    ]
                  },
                  "layout": {
                    "annotationdefaults": {
                      "arrowcolor": "#2a3f5f",
                      "arrowhead": 0,
                      "arrowwidth": 1
                    },
                    "autotypenumbers": "strict",
                    "coloraxis": {
                      "colorbar": {
                        "outlinewidth": 0,
                        "ticks": ""
                      }
                    },
                    "colorscale": {
                      "diverging": [
                        [
                          0,
                          "#8e0152"
                        ],
                        [
                          0.1,
                          "#c51b7d"
                        ],
                        [
                          0.2,
                          "#de77ae"
                        ],
                        [
                          0.3,
                          "#f1b6da"
                        ],
                        [
                          0.4,
                          "#fde0ef"
                        ],
                        [
                          0.5,
                          "#f7f7f7"
                        ],
                        [
                          0.6,
                          "#e6f5d0"
                        ],
                        [
                          0.7,
                          "#b8e186"
                        ],
                        [
                          0.8,
                          "#7fbc41"
                        ],
                        [
                          0.9,
                          "#4d9221"
                        ],
                        [
                          1,
                          "#276419"
                        ]
                      ],
                      "sequential": [
                        [
                          0,
                          "#0d0887"
                        ],
                        [
                          0.1111111111111111,
                          "#46039f"
                        ],
                        [
                          0.2222222222222222,
                          "#7201a8"
                        ],
                        [
                          0.3333333333333333,
                          "#9c179e"
                        ],
                        [
                          0.4444444444444444,
                          "#bd3786"
                        ],
                        [
                          0.5555555555555556,
                          "#d8576b"
                        ],
                        [
                          0.6666666666666666,
                          "#ed7953"
                        ],
                        [
                          0.7777777777777778,
                          "#fb9f3a"
                        ],
                        [
                          0.8888888888888888,
                          "#fdca26"
                        ],
                        [
                          1,
                          "#f0f921"
                        ]
                      ],
                      "sequentialminus": [
                        [
                          0,
                          "#0d0887"
                        ],
                        [
                          0.1111111111111111,
                          "#46039f"
                        ],
                        [
                          0.2222222222222222,
                          "#7201a8"
                        ],
                        [
                          0.3333333333333333,
                          "#9c179e"
                        ],
                        [
                          0.4444444444444444,
                          "#bd3786"
                        ],
                        [
                          0.5555555555555556,
                          "#d8576b"
                        ],
                        [
                          0.6666666666666666,
                          "#ed7953"
                        ],
                        [
                          0.7777777777777778,
                          "#fb9f3a"
                        ],
                        [
                          0.8888888888888888,
                          "#fdca26"
                        ],
                        [
                          1,
                          "#f0f921"
                        ]
                      ]
                    },
                    "colorway": [
                      "#636efa",
                      "#EF553B",
                      "#00cc96",
                      "#ab63fa",
                      "#FFA15A",
                      "#19d3f3",
                      "#FF6692",
                      "#B6E880",
                      "#FF97FF",
                      "#FECB52"
                    ],
                    "font": {
                      "color": "#2a3f5f"
                    },
                    "geo": {
                      "bgcolor": "white",
                      "lakecolor": "white",
                      "landcolor": "#E5ECF6",
                      "showlakes": true,
                      "showland": true,
                      "subunitcolor": "white"
                    },
                    "hoverlabel": {
                      "align": "left"
                    },
                    "hovermode": "closest",
                    "mapbox": {
                      "style": "light"
                    },
                    "paper_bgcolor": "white",
                    "plot_bgcolor": "#E5ECF6",
                    "polar": {
                      "angularaxis": {
                        "gridcolor": "white",
                        "linecolor": "white",
                        "ticks": ""
                      },
                      "bgcolor": "#E5ECF6",
                      "radialaxis": {
                        "gridcolor": "white",
                        "linecolor": "white",
                        "ticks": ""
                      }
                    },
                    "scene": {
                      "xaxis": {
                        "backgroundcolor": "#E5ECF6",
                        "gridcolor": "white",
                        "gridwidth": 2,
                        "linecolor": "white",
                        "showbackground": true,
                        "ticks": "",
                        "zerolinecolor": "white"
                      },
                      "yaxis": {
                        "backgroundcolor": "#E5ECF6",
                        "gridcolor": "white",
                        "gridwidth": 2,
                        "linecolor": "white",
                        "showbackground": true,
                        "ticks": "",
                        "zerolinecolor": "white"
                      },
                      "zaxis": {
                        "backgroundcolor": "#E5ECF6",
                        "gridcolor": "white",
                        "gridwidth": 2,
                        "linecolor": "white",
                        "showbackground": true,
                        "ticks": "",
                        "zerolinecolor": "white"
                      }
                    },
                    "shapedefaults": {
                      "line": {
                        "color": "#2a3f5f"
                      }
                    },
                    "ternary": {
                      "aaxis": {
                        "gridcolor": "white",
                        "linecolor": "white",
                        "ticks": ""
                      },
                      "baxis": {
                        "gridcolor": "white",
                        "linecolor": "white",
                        "ticks": ""
                      },
                      "bgcolor": "#E5ECF6",
                      "caxis": {
                        "gridcolor": "white",
                        "linecolor": "white",
                        "ticks": ""
                      }
                    },
                    "title": {
                      "x": 0.05
                    },
                    "xaxis": {
                      "automargin": true,
                      "gridcolor": "white",
                      "linecolor": "white",
                      "ticks": "",
                      "title": {
                        "standoff": 15
                      },
                      "zerolinecolor": "white",
                      "zerolinewidth": 2
                    },
                    "yaxis": {
                      "automargin": true,
                      "gridcolor": "white",
                      "linecolor": "white",
                      "ticks": "",
                      "title": {
                        "standoff": 15
                      },
                      "zerolinecolor": "white",
                      "zerolinewidth": 2
                    }
                  }
                },
                "title": {
                  "text": "Patching output of attention heads (corrupted -> clean)"
                },
                "width": 1500,
                "xaxis": {
                  "anchor": "y",
                  "constrain": "domain",
                  "domain": [
                    0,
                    0.18400000000000002
                  ],
                  "linecolor": "black",
                  "linewidth": 1,
                  "mirror": true,
                  "scaleanchor": "y",
                  "showline": true,
                  "title": {
                    "text": "Head"
                  }
                },
                "xaxis2": {
                  "anchor": "y2",
                  "domain": [
                    0.20400000000000001,
                    0.388
                  ],
                  "linecolor": "black",
                  "linewidth": 1,
                  "matches": "x",
                  "mirror": true,
                  "showline": true,
                  "title": {
                    "text": "Head"
                  }
                },
                "xaxis3": {
                  "anchor": "y3",
                  "domain": [
                    0.40800000000000003,
                    0.5920000000000001
                  ],
                  "linecolor": "black",
                  "linewidth": 1,
                  "matches": "x",
                  "mirror": true,
                  "showline": true,
                  "title": {
                    "text": "Head"
                  }
                },
                "xaxis4": {
                  "anchor": "y4",
                  "domain": [
                    0.6120000000000001,
                    0.7960000000000002
                  ],
                  "linecolor": "black",
                  "linewidth": 1,
                  "matches": "x",
                  "mirror": true,
                  "showline": true,
                  "title": {
                    "text": "Head"
                  }
                },
                "xaxis5": {
                  "anchor": "y5",
                  "domain": [
                    0.8160000000000001,
                    1
                  ],
                  "linecolor": "black",
                  "linewidth": 1,
                  "matches": "x",
                  "mirror": true,
                  "showline": true,
                  "title": {
                    "text": "Head"
                  }
                },
                "yaxis": {
                  "anchor": "x",
                  "autorange": "reversed",
                  "constrain": "domain",
                  "domain": [
                    0,
                    1
                  ],
                  "linecolor": "black",
                  "linewidth": 1,
                  "mirror": true,
                  "showline": true,
                  "title": {
                    "text": "Layer"
                  }
                },
                "yaxis2": {
                  "anchor": "x2",
                  "domain": [
                    0,
                    1
                  ],
                  "linecolor": "black",
                  "linewidth": 1,
                  "matches": "y",
                  "mirror": true,
                  "showline": true,
                  "showticklabels": false
                },
                "yaxis3": {
                  "anchor": "x3",
                  "domain": [
                    0,
                    1
                  ],
                  "linecolor": "black",
                  "linewidth": 1,
                  "matches": "y",
                  "mirror": true,
                  "showline": true,
                  "showticklabels": false
                },
                "yaxis4": {
                  "anchor": "x4",
                  "domain": [
                    0,
                    1
                  ],
                  "linecolor": "black",
                  "linewidth": 1,
                  "matches": "y",
                  "mirror": true,
                  "showline": true,
                  "showticklabels": false
                },
                "yaxis5": {
                  "anchor": "x5",
                  "domain": [
                    0,
                    1
                  ],
                  "linecolor": "black",
                  "linewidth": 1,
                  "matches": "y",
                  "mirror": true,
                  "showline": true,
                  "showticklabels": false
                }
              }
            }
          },
          "metadata": {},
          "output_type": "display_data"
        }
      ],
      "source": [
        "assert results.keys() == {\"z\", \"q\", \"k\", \"v\", \"pattern\"}\n",
        "assert all([r.shape == (12, 12) for r in results.values()])\n",
        "\n",
        "imshow_p(\n",
        "    torch.stack(tuple(results.values())) * 100,\n",
        "    facet_col=0,\n",
        "    facet_labels=[\"Output\", \"Query\", \"Key\", \"Value\", \"Pattern\"],\n",
        "    title=\"Patching output of attention heads (corrupted -> clean)\",\n",
        "    labels={\"x\": \"Head\", \"y\": \"Layer\", \"color\": \"Logit diff variation\"},\n",
        "    coloraxis=dict(colorbar_ticksuffix = \"%\"),\n",
        "    border=True,\n",
        "    width=1500,\n",
        "    margin={\"r\": 100, \"l\": 100}\n",
        ")"
      ]
    },
    {
      "attachments": {},
      "cell_type": "markdown",
      "metadata": {},
      "source": [
        "#### Residual Stream & Layer Outputs"
      ]
    },
    {
      "cell_type": "code",
      "execution_count": 27,
      "metadata": {},
      "outputs": [
        {
          "data": {
            "application/vnd.jupyter.widget-view+json": {
              "model_id": "c355eee861ff4522a61c6084eacc237b",
              "version_major": 2,
              "version_minor": 0
            },
            "text/plain": [
              "  0%|          | 0/684 [00:00<?, ?it/s]"
            ]
          },
          "metadata": {},
          "output_type": "display_data"
        },
        {
          "name": "stdout",
          "output_type": "stream",
          "text": [
            "results['resid_pre'].shape = (seq_pos=19, layer=12)\n",
            "results['attn_out'].shape = (seq_pos=19, layer=12)\n",
            "results['mlp_out'].shape = (seq_pos=19, layer=12)\n"
          ]
        }
      ],
      "source": [
        "# patching at each (layer, sequence position) for each of (resid_pre, attn_out, mlp_out) in turn\n",
        "\n",
        "results = act_patch(\n",
        "    model=model,\n",
        "    orig_input=corrupted_tokens,\n",
        "    new_cache=clean_cache,\n",
        "    patching_nodes=IterNode([\"resid_pre\", \"attn_out\", \"mlp_out\"], seq_pos=\"each\"),\n",
        "    patching_metric=logit_diff_denoising,\n",
        "    verbose=True,\n",
        ")"
      ]
    },
    {
      "cell_type": "code",
      "execution_count": 28,
      "metadata": {},
      "outputs": [
        {
          "data": {
            "application/vnd.plotly.v1+json": {
              "config": {
                "plotlyServerURL": "https://plot.ly"
              },
              "data": [
                {
                  "coloraxis": "coloraxis",
                  "hovertemplate": "Sequence position: %{x}<br>Layer: %{y}<br>Logit diff variation: %{z}<extra></extra>",
                  "name": "0",
                  "type": "heatmap",
                  "x": [
                    "<|endoftext|> 0",
                    "I 1",
                    " thought 2",
                    " this 3",
                    " movie 4",
                    " was 5",
                    " perfect 6",
                    ", 7",
                    " I 8",
                    " loved 9",
                    " it 10",
                    ". 11",
                    "  12",
                    "\n 13",
                    "Conclusion 14",
                    ": 15",
                    " This 16",
                    " movie 17",
                    " is 18"
                  ],
                  "xaxis": "x",
                  "yaxis": "y",
                  "z": [
                    [
                      0,
                      0,
                      0,
                      0,
                      0,
                      0,
                      76.13369750976562,
                      0,
                      0,
                      23.86630630493164,
                      0,
                      0,
                      0,
                      0,
                      0,
                      0,
                      0,
                      0,
                      0
                    ],
                    [
                      0,
                      0,
                      0,
                      0,
                      0,
                      0,
                      75.29573822021484,
                      0.07049775123596191,
                      0.025029364973306656,
                      22.961626052856445,
                      0.07836200296878815,
                      0.24005410075187683,
                      -0.09062770754098892,
                      0.19295448064804077,
                      0.5466623902320862,
                      0.056492071598768234,
                      0.011704790405929089,
                      0.1813412606716156,
                      0.22767965495586395
                    ],
                    [
                      0,
                      0,
                      0,
                      0,
                      0,
                      0,
                      75.23794555664062,
                      0.058272115886211395,
                      0.0022493803407996893,
                      22.877941131591797,
                      0.05366460606455803,
                      0.2457033097743988,
                      -0.1607305407524109,
                      0.2427842766046524,
                      0.15834949910640717,
                      0.06937593221664429,
                      0.18955466151237488,
                      0.1158001571893692,
                      0.6841779947280884
                    ],
                    [
                      0,
                      0,
                      0,
                      0,
                      0,
                      0,
                      74.31094360351562,
                      0.13685160875320435,
                      0.01572849228978157,
                      20.398483276367188,
                      0.31918877363204956,
                      0.40821391344070435,
                      -0.21074919402599335,
                      0.3037407398223877,
                      0.025418570265173912,
                      0.52154141664505,
                      0.6235247850418091,
                      0.6323906779289246,
                      1.4964275360107422
                    ],
                    [
                      0,
                      0,
                      0,
                      0,
                      0,
                      0,
                      73.57280731201172,
                      0.3175690174102783,
                      0.012025313451886177,
                      15.66443920135498,
                      1.3165972232818604,
                      0.9076964855194092,
                      -0.17351707816123962,
                      0.6201421618461609,
                      0.033523209393024445,
                      0.5069519281387329,
                      0.5118857026100159,
                      0.6816538572311401,
                      2.2200496196746826
                    ],
                    [
                      0,
                      0,
                      0,
                      0,
                      0,
                      0,
                      72.50643157958984,
                      0.5400916934013367,
                      -0.004618956707417965,
                      12.527116775512695,
                      2.061136484146118,
                      2.120161294937134,
                      -0.12489499151706696,
                      0.4642080068588257,
                      -0.05633753538131714,
                      0.49162986874580383,
                      0.6524519324302673,
                      0.7137461304664612,
                      3.63883638381958
                    ],
                    [
                      0,
                      0,
                      0,
                      0,
                      0,
                      0,
                      70.7322998046875,
                      1.1265045404434204,
                      0.17015159130096436,
                      10.819276809692383,
                      3.0276575088500977,
                      2.7694337368011475,
                      -0.08212241530418396,
                      0.36020421981811523,
                      -0.3693734407424927,
                      0.08745682239532471,
                      0.5209690928459167,
                      0.8788209557533264,
                      6.0976152420043945
                    ],
                    [
                      0,
                      0,
                      0,
                      0,
                      0,
                      0,
                      61.728214263916016,
                      1.7178797721862793,
                      0.29778820276260376,
                      7.830576419830322,
                      3.3448572158813477,
                      3.78334641456604,
                      -0.14951226115226746,
                      0.555705726146698,
                      0.5575544238090515,
                      2.655276298522949,
                      1.4266222715377808,
                      2.917188882827759,
                      11.038637161254883
                    ],
                    [
                      0,
                      0,
                      0,
                      0,
                      0,
                      0,
                      47.69535827636719,
                      0.781273365020752,
                      0.4019922912120819,
                      7.804915428161621,
                      2.174584150314331,
                      1.7053451538085938,
                      0.021595196798443794,
                      0.3101111352443695,
                      0.21630683541297913,
                      1.021562099456787,
                      3.153353452682495,
                      12.779810905456543,
                      20.457653045654297
                    ],
                    [
                      0,
                      0,
                      0,
                      0,
                      0,
                      0,
                      47.460357666015625,
                      0.7476299405097961,
                      0.45027101039886475,
                      6.8165669441223145,
                      1.7476484775543213,
                      1.3496911525726318,
                      0.04661883786320686,
                      0.14916883409023285,
                      0.16553837060928345,
                      0.8023648262023926,
                      0.9191437363624573,
                      6.798483371734619,
                      31.62642478942871
                    ],
                    [
                      0,
                      0,
                      0,
                      0,
                      0,
                      0,
                      36.016380310058594,
                      0.7906715273857117,
                      0.4070577323436737,
                      5.803564548492432,
                      1.114685297012329,
                      0.5798249840736389,
                      0.02643737569451332,
                      0.028143011033535004,
                      0.04220593348145485,
                      0.3730766177177429,
                      0.5344939827919006,
                      1.725915789604187,
                      52.371192932128906
                    ],
                    [
                      0,
                      0,
                      0,
                      0,
                      0,
                      0,
                      4.896846771240234,
                      0.35481831431388855,
                      0.24091263115406036,
                      0.6257741451263428,
                      0.2952927052974701,
                      0.3941795825958252,
                      0.03387807309627533,
                      0.03548068180680275,
                      0.04468425735831261,
                      0.44862833619117737,
                      0.44090715050697327,
                      1.3429259061813354,
                      90.7972412109375
                    ]
                  ]
                },
                {
                  "coloraxis": "coloraxis",
                  "hovertemplate": "Sequence position: %{x}<br>Layer: %{y}<br>Logit diff variation: %{z}<extra></extra>",
                  "name": "1",
                  "type": "heatmap",
                  "x": [
                    "<|endoftext|> 0",
                    "I 1",
                    " thought 2",
                    " this 3",
                    " movie 4",
                    " was 5",
                    " perfect 6",
                    ", 7",
                    " I 8",
                    " loved 9",
                    " it 10",
                    ". 11",
                    "  12",
                    "\n 13",
                    "Conclusion 14",
                    ": 15",
                    " This 16",
                    " movie 17",
                    " is 18"
                  ],
                  "xaxis": "x2",
                  "yaxis": "y2",
                  "z": [
                    [
                      0,
                      0,
                      0,
                      0,
                      0,
                      0,
                      6.040464878082275,
                      0.07049775123596191,
                      0.025029364973306656,
                      2.7044849395751953,
                      0.07836200296878815,
                      0.24005410075187683,
                      -0.09062770754098892,
                      0.19295448064804077,
                      0.5466623902320862,
                      0.056492071598768234,
                      0.011704790405929089,
                      0.1813412606716156,
                      0.22767965495586395
                    ],
                    [
                      0,
                      0,
                      0,
                      0,
                      0,
                      0,
                      -0.09111421555280685,
                      0.03387807309627533,
                      0.03191487491130829,
                      0.04136456176638603,
                      0.013026946224272251,
                      0.07797279208898544,
                      -0.008230557665228844,
                      0.09208723157644272,
                      -0.23886358737945557,
                      0.04361966252326965,
                      0.16190961003303528,
                      -0.07804720103740692,
                      0.3063507378101349
                    ],
                    [
                      0,
                      0,
                      0,
                      0,
                      0,
                      0,
                      0.14975836873054504,
                      0.13618195056915283,
                      0.00159688841085881,
                      0.06048715487122536,
                      0.2347082644701004,
                      0.1552186906337738,
                      -0.11905117332935333,
                      0.1863895058631897,
                      -0.2913319766521454,
                      0.42981481552124023,
                      0.41651883721351624,
                      0.42677557468414307,
                      0.7965152859687805
                    ],
                    [
                      0,
                      0,
                      0,
                      0,
                      0,
                      0,
                      0.22108033299446106,
                      0.2048882246017456,
                      -0.029631150886416435,
                      0.10273315757513046,
                      0.7136545777320862,
                      0.16490304470062256,
                      -0.0002747334656305611,
                      0.25333288311958313,
                      0.03400399163365364,
                      -0.014377718791365623,
                      0.014801266603171825,
                      -0.03131961449980736,
                      0.7182163000106812
                    ],
                    [
                      0,
                      0,
                      0,
                      0,
                      0,
                      0,
                      0.19361841678619385,
                      0.038142163306474686,
                      -0.011882223188877106,
                      0.040832262486219406,
                      0.07628432661294937,
                      0.038525648415088654,
                      -0.0017399786738678813,
                      0.03412991017103195,
                      -0.1474517583847046,
                      0.09634560346603394,
                      0.09580185264348984,
                      0.10309945791959763,
                      1.2137324810028076
                    ],
                    [
                      0,
                      0,
                      0,
                      0,
                      0,
                      0,
                      -0.6226776838302612,
                      -0.12136352062225342,
                      0.02205880917608738,
                      -0.5154057145118713,
                      0.32400235533714294,
                      -0.21971237659454346,
                      -0.022304924204945564,
                      -0.12408795207738876,
                      -0.33046430349349976,
                      -0.16591040790081024,
                      -0.1666945368051529,
                      0.3505370318889618,
                      2.132535696029663
                    ],
                    [
                      0,
                      0,
                      0,
                      0,
                      0,
                      0,
                      -0.1753600835800171,
                      0.6386866569519043,
                      0.153696209192276,
                      -0.39257124066352844,
                      0.49090293049812317,
                      1.526339054107666,
                      -0.059817492961883545,
                      0.2539166808128357,
                      0.42245998978614807,
                      2.109503984451294,
                      0.7691450119018555,
                      1.838842749595642,
                      4.406312942504883
                    ],
                    [
                      0,
                      0,
                      0,
                      0,
                      0,
                      0,
                      0.10192611813545227,
                      0.05412249639630318,
                      0.040162600576877594,
                      -0.008035955019295216,
                      0.15237978100776672,
                      0.021228885278105736,
                      -0.008104637265205383,
                      0.0022264858707785606,
                      -0.10665955394506454,
                      -0.24069514870643616,
                      2.0144031047821045,
                      9.931440353393555,
                      8.80991268157959
                    ],
                    [
                      0,
                      0,
                      0,
                      0,
                      0,
                      0,
                      0.5715200901031494,
                      0.06385263800621033,
                      0.14493335783481598,
                      0.0059182168915867805,
                      0.2361505925655365,
                      0.24463298916816711,
                      0.0034799573477357626,
                      0.030993370339274406,
                      0.04431794583797455,
                      0.14327923953533173,
                      0.09661460667848587,
                      0.4643224775791168,
                      9.966418266296387
                    ],
                    [
                      0,
                      0,
                      0,
                      0,
                      0,
                      0,
                      -0.3603072464466095,
                      0.16757598519325256,
                      0.11028259992599487,
                      0.12061945348978043,
                      0.11219428479671478,
                      0.022316372022032738,
                      0.0016941898502409458,
                      0.018905097618699074,
                      0.01171051524579525,
                      0.150496706366539,
                      0.11618364602327347,
                      0.17071251571178436,
                      19.335784912109375
                    ],
                    [
                      0,
                      0,
                      0,
                      0,
                      0,
                      0,
                      0.09402181208133698,
                      0.12506669759750366,
                      0.019362986087799072,
                      0.0704805850982666,
                      0.07840779423713684,
                      0.08613467216491699,
                      0.011813539080321789,
                      0.019792258739471436,
                      0.010531450621783733,
                      0.1758294254541397,
                      0.17858821153640747,
                      0.6623194813728333,
                      36.95866012573242
                    ],
                    [
                      0,
                      0,
                      0,
                      0,
                      0,
                      0,
                      0,
                      0,
                      0,
                      0,
                      0,
                      0,
                      0,
                      0,
                      0,
                      0,
                      0,
                      0,
                      10.349645614624023
                    ]
                  ]
                },
                {
                  "coloraxis": "coloraxis",
                  "hovertemplate": "Sequence position: %{x}<br>Layer: %{y}<br>Logit diff variation: %{z}<extra></extra>",
                  "name": "2",
                  "type": "heatmap",
                  "x": [
                    "<|endoftext|> 0",
                    "I 1",
                    " thought 2",
                    " this 3",
                    " movie 4",
                    " was 5",
                    " perfect 6",
                    ", 7",
                    " I 8",
                    " loved 9",
                    " it 10",
                    ". 11",
                    "  12",
                    "\n 13",
                    "Conclusion 14",
                    ": 15",
                    " This 16",
                    " movie 17",
                    " is 18"
                  ],
                  "xaxis": "x3",
                  "yaxis": "y3",
                  "z": [
                    [
                      0,
                      0,
                      0,
                      0,
                      0,
                      0,
                      69.14400482177734,
                      0.022963140159845352,
                      0.0010302505688741803,
                      16.021549224853516,
                      0.03986497223377228,
                      0.20184326171875,
                      -0.10836519300937653,
                      0.14752614498138428,
                      0.5385806560516357,
                      0.0726555585861206,
                      -0.06536367535591125,
                      0.06351494789123535,
                      0.05487801507115364
                    ],
                    [
                      0,
                      0,
                      0,
                      0,
                      0,
                      0,
                      3.86885142326355,
                      0.01605473831295967,
                      -0.04182817414402962,
                      0.4747680723667145,
                      -0.0017628732603043318,
                      -0.09944207221269608,
                      0.0032681836746633053,
                      -0.06508322060108185,
                      0.04197126254439354,
                      -0.09389016777276993,
                      -0.16976812481880188,
                      -0.3139287829399109,
                      -0.47631344199180603
                    ],
                    [
                      0,
                      0,
                      0,
                      0,
                      0,
                      0,
                      -0.8394711017608643,
                      0.07216332852840424,
                      -0.04366545006632805,
                      -0.3516416847705841,
                      0.003062133677303791,
                      0.16558416187763214,
                      -0.13768154382705688,
                      -0.014772648923099041,
                      -0.26509490609169006,
                      -0.03938991203904152,
                      0.11169633269309998,
                      0.15908785164356232,
                      -0.4909372925758362
                    ],
                    [
                      0,
                      0,
                      0,
                      0,
                      0,
                      0,
                      4.184093475341797,
                      -0.04275539889931679,
                      -0.057997386902570724,
                      1.0497909784317017,
                      0.05822060629725456,
                      -0.5131449103355408,
                      -0.005231383256614208,
                      0.29264840483665466,
                      0.0938386544585228,
                      0.4461958110332489,
                      0.22117763757705688,
                      0.16715815663337708,
                      -0.026380136609077454
                    ],
                    [
                      0,
                      0,
                      0,
                      0,
                      0,
                      0,
                      0.8610776662826538,
                      0.2121686488389969,
                      0.0013851147377863526,
                      0.01980370655655861,
                      0.15721623599529266,
                      0.032630324363708496,
                      0.014217458665370941,
                      0.019374433904886246,
                      -0.24937787652015686,
                      0.04518793523311615,
                      0.1813240945339203,
                      -0.44912058115005493,
                      -0.20130524039268494
                    ],
                    [
                      0,
                      0,
                      0,
                      0,
                      0,
                      0,
                      6.192732810974121,
                      0.34600964188575745,
                      0.12231936305761337,
                      1.0304566621780396,
                      0.6887854337692261,
                      1.2311952114105225,
                      0.12467176467180252,
                      0.14960382878780365,
                      -0.17167408764362335,
                      -0.23984234035015106,
                      -0.41278135776519775,
                      -0.7914441823959351,
                      -0.5736263394355774
                    ],
                    [
                      0,
                      0,
                      0,
                      0,
                      0,
                      0,
                      2.133302688598633,
                      0.4408957362174988,
                      0.12207324802875519,
                      0.4965120851993561,
                      0.17541159689426422,
                      1.418884038925171,
                      0.03180040046572685,
                      0.18994958698749542,
                      0.2500246465206146,
                      1.9826027154922485,
                      0.3316033184528351,
                      -2.108213186264038,
                      0.5950326323509216
                    ],
                    [
                      0,
                      0,
                      0,
                      0,
                      0,
                      0,
                      0.3773120939731598,
                      0.06770463287830353,
                      0.05181015655398369,
                      -0.47027504444122314,
                      0.016209274530410767,
                      -0.09125158190727234,
                      -0.08533909171819687,
                      0.08551079779863358,
                      0.3441723883152008,
                      0.4877434968948364,
                      1.2461109161376953,
                      1.3740050792694092,
                      3.0587737560272217
                    ],
                    [
                      0,
                      0,
                      0,
                      0,
                      0,
                      0,
                      -0.3915066719055176,
                      0.19246797263622284,
                      0.13783608376979828,
                      0.2492118924856186,
                      -0.02462298795580864,
                      -0.019649166613817215,
                      -0.0012649188283830881,
                      -0.00638755364343524,
                      0.05093444511294365,
                      0.30995088815689087,
                      0.07655906677246094,
                      1.7669254541397095,
                      7.61844539642334
                    ],
                    [
                      0,
                      0,
                      0,
                      0,
                      0,
                      0,
                      1.8668138980865479,
                      0.05602273717522621,
                      0.02201874367892742,
                      0.3424209654331207,
                      0.10798170417547226,
                      0.03462786599993706,
                      -0.02798275090754032,
                      -0.05918789654970169,
                      -0.0027301639784127474,
                      0.05657219886779785,
                      0.03908083960413933,
                      -0.021744010969996452,
                      7.109192848205566
                    ],
                    [
                      0,
                      0,
                      0,
                      0,
                      0,
                      0,
                      -0.14242641627788544,
                      -0.10932675749063492,
                      -0.0007555170450359583,
                      -0.0924249216914177,
                      -0.12061945348978043,
                      0.011762026697397232,
                      0.030981924384832382,
                      0.036688368767499924,
                      0.003777585458010435,
                      0.032286908477544785,
                      0.033849455416202545,
                      0.0630570575594902,
                      9.444034576416016
                    ],
                    [
                      0,
                      0,
                      0,
                      0,
                      0,
                      0,
                      0,
                      0,
                      0,
                      0,
                      0,
                      0,
                      0,
                      0,
                      0,
                      0,
                      0,
                      0,
                      -0.42054829001426697
                    ]
                  ]
                }
              ],
              "layout": {
                "annotations": [
                  {
                    "font": {},
                    "showarrow": false,
                    "text": "resid_pre",
                    "x": 0.15999999999999998,
                    "xanchor": "center",
                    "xref": "paper",
                    "y": 1,
                    "yanchor": "bottom",
                    "yref": "paper"
                  },
                  {
                    "font": {},
                    "showarrow": false,
                    "text": "attn_out",
                    "x": 0.49999999999999994,
                    "xanchor": "center",
                    "xref": "paper",
                    "y": 1,
                    "yanchor": "bottom",
                    "yref": "paper"
                  },
                  {
                    "font": {},
                    "showarrow": false,
                    "text": "mlp_out",
                    "x": 0.8399999999999999,
                    "xanchor": "center",
                    "xref": "paper",
                    "y": 1,
                    "yanchor": "bottom",
                    "yref": "paper"
                  }
                ],
                "coloraxis": {
                  "cmid": 0,
                  "colorbar": {
                    "ticksuffix": "%",
                    "title": {
                      "text": "Logit diff variation"
                    }
                  },
                  "colorscale": [
                    [
                      0,
                      "rgb(103,0,31)"
                    ],
                    [
                      0.1,
                      "rgb(178,24,43)"
                    ],
                    [
                      0.2,
                      "rgb(214,96,77)"
                    ],
                    [
                      0.3,
                      "rgb(244,165,130)"
                    ],
                    [
                      0.4,
                      "rgb(253,219,199)"
                    ],
                    [
                      0.5,
                      "rgb(247,247,247)"
                    ],
                    [
                      0.6,
                      "rgb(209,229,240)"
                    ],
                    [
                      0.7,
                      "rgb(146,197,222)"
                    ],
                    [
                      0.8,
                      "rgb(67,147,195)"
                    ],
                    [
                      0.9,
                      "rgb(33,102,172)"
                    ],
                    [
                      1,
                      "rgb(5,48,97)"
                    ]
                  ]
                },
                "margin": {
                  "l": 100,
                  "r": 100
                },
                "template": {
                  "data": {
                    "bar": [
                      {
                        "error_x": {
                          "color": "#2a3f5f"
                        },
                        "error_y": {
                          "color": "#2a3f5f"
                        },
                        "marker": {
                          "line": {
                            "color": "#E5ECF6",
                            "width": 0.5
                          },
                          "pattern": {
                            "fillmode": "overlay",
                            "size": 10,
                            "solidity": 0.2
                          }
                        },
                        "type": "bar"
                      }
                    ],
                    "barpolar": [
                      {
                        "marker": {
                          "line": {
                            "color": "#E5ECF6",
                            "width": 0.5
                          },
                          "pattern": {
                            "fillmode": "overlay",
                            "size": 10,
                            "solidity": 0.2
                          }
                        },
                        "type": "barpolar"
                      }
                    ],
                    "carpet": [
                      {
                        "aaxis": {
                          "endlinecolor": "#2a3f5f",
                          "gridcolor": "white",
                          "linecolor": "white",
                          "minorgridcolor": "white",
                          "startlinecolor": "#2a3f5f"
                        },
                        "baxis": {
                          "endlinecolor": "#2a3f5f",
                          "gridcolor": "white",
                          "linecolor": "white",
                          "minorgridcolor": "white",
                          "startlinecolor": "#2a3f5f"
                        },
                        "type": "carpet"
                      }
                    ],
                    "choropleth": [
                      {
                        "colorbar": {
                          "outlinewidth": 0,
                          "ticks": ""
                        },
                        "type": "choropleth"
                      }
                    ],
                    "contour": [
                      {
                        "colorbar": {
                          "outlinewidth": 0,
                          "ticks": ""
                        },
                        "colorscale": [
                          [
                            0,
                            "#0d0887"
                          ],
                          [
                            0.1111111111111111,
                            "#46039f"
                          ],
                          [
                            0.2222222222222222,
                            "#7201a8"
                          ],
                          [
                            0.3333333333333333,
                            "#9c179e"
                          ],
                          [
                            0.4444444444444444,
                            "#bd3786"
                          ],
                          [
                            0.5555555555555556,
                            "#d8576b"
                          ],
                          [
                            0.6666666666666666,
                            "#ed7953"
                          ],
                          [
                            0.7777777777777778,
                            "#fb9f3a"
                          ],
                          [
                            0.8888888888888888,
                            "#fdca26"
                          ],
                          [
                            1,
                            "#f0f921"
                          ]
                        ],
                        "type": "contour"
                      }
                    ],
                    "contourcarpet": [
                      {
                        "colorbar": {
                          "outlinewidth": 0,
                          "ticks": ""
                        },
                        "type": "contourcarpet"
                      }
                    ],
                    "heatmap": [
                      {
                        "colorbar": {
                          "outlinewidth": 0,
                          "ticks": ""
                        },
                        "colorscale": [
                          [
                            0,
                            "#0d0887"
                          ],
                          [
                            0.1111111111111111,
                            "#46039f"
                          ],
                          [
                            0.2222222222222222,
                            "#7201a8"
                          ],
                          [
                            0.3333333333333333,
                            "#9c179e"
                          ],
                          [
                            0.4444444444444444,
                            "#bd3786"
                          ],
                          [
                            0.5555555555555556,
                            "#d8576b"
                          ],
                          [
                            0.6666666666666666,
                            "#ed7953"
                          ],
                          [
                            0.7777777777777778,
                            "#fb9f3a"
                          ],
                          [
                            0.8888888888888888,
                            "#fdca26"
                          ],
                          [
                            1,
                            "#f0f921"
                          ]
                        ],
                        "type": "heatmap"
                      }
                    ],
                    "heatmapgl": [
                      {
                        "colorbar": {
                          "outlinewidth": 0,
                          "ticks": ""
                        },
                        "colorscale": [
                          [
                            0,
                            "#0d0887"
                          ],
                          [
                            0.1111111111111111,
                            "#46039f"
                          ],
                          [
                            0.2222222222222222,
                            "#7201a8"
                          ],
                          [
                            0.3333333333333333,
                            "#9c179e"
                          ],
                          [
                            0.4444444444444444,
                            "#bd3786"
                          ],
                          [
                            0.5555555555555556,
                            "#d8576b"
                          ],
                          [
                            0.6666666666666666,
                            "#ed7953"
                          ],
                          [
                            0.7777777777777778,
                            "#fb9f3a"
                          ],
                          [
                            0.8888888888888888,
                            "#fdca26"
                          ],
                          [
                            1,
                            "#f0f921"
                          ]
                        ],
                        "type": "heatmapgl"
                      }
                    ],
                    "histogram": [
                      {
                        "marker": {
                          "pattern": {
                            "fillmode": "overlay",
                            "size": 10,
                            "solidity": 0.2
                          }
                        },
                        "type": "histogram"
                      }
                    ],
                    "histogram2d": [
                      {
                        "colorbar": {
                          "outlinewidth": 0,
                          "ticks": ""
                        },
                        "colorscale": [
                          [
                            0,
                            "#0d0887"
                          ],
                          [
                            0.1111111111111111,
                            "#46039f"
                          ],
                          [
                            0.2222222222222222,
                            "#7201a8"
                          ],
                          [
                            0.3333333333333333,
                            "#9c179e"
                          ],
                          [
                            0.4444444444444444,
                            "#bd3786"
                          ],
                          [
                            0.5555555555555556,
                            "#d8576b"
                          ],
                          [
                            0.6666666666666666,
                            "#ed7953"
                          ],
                          [
                            0.7777777777777778,
                            "#fb9f3a"
                          ],
                          [
                            0.8888888888888888,
                            "#fdca26"
                          ],
                          [
                            1,
                            "#f0f921"
                          ]
                        ],
                        "type": "histogram2d"
                      }
                    ],
                    "histogram2dcontour": [
                      {
                        "colorbar": {
                          "outlinewidth": 0,
                          "ticks": ""
                        },
                        "colorscale": [
                          [
                            0,
                            "#0d0887"
                          ],
                          [
                            0.1111111111111111,
                            "#46039f"
                          ],
                          [
                            0.2222222222222222,
                            "#7201a8"
                          ],
                          [
                            0.3333333333333333,
                            "#9c179e"
                          ],
                          [
                            0.4444444444444444,
                            "#bd3786"
                          ],
                          [
                            0.5555555555555556,
                            "#d8576b"
                          ],
                          [
                            0.6666666666666666,
                            "#ed7953"
                          ],
                          [
                            0.7777777777777778,
                            "#fb9f3a"
                          ],
                          [
                            0.8888888888888888,
                            "#fdca26"
                          ],
                          [
                            1,
                            "#f0f921"
                          ]
                        ],
                        "type": "histogram2dcontour"
                      }
                    ],
                    "mesh3d": [
                      {
                        "colorbar": {
                          "outlinewidth": 0,
                          "ticks": ""
                        },
                        "type": "mesh3d"
                      }
                    ],
                    "parcoords": [
                      {
                        "line": {
                          "colorbar": {
                            "outlinewidth": 0,
                            "ticks": ""
                          }
                        },
                        "type": "parcoords"
                      }
                    ],
                    "pie": [
                      {
                        "automargin": true,
                        "type": "pie"
                      }
                    ],
                    "scatter": [
                      {
                        "fillpattern": {
                          "fillmode": "overlay",
                          "size": 10,
                          "solidity": 0.2
                        },
                        "type": "scatter"
                      }
                    ],
                    "scatter3d": [
                      {
                        "line": {
                          "colorbar": {
                            "outlinewidth": 0,
                            "ticks": ""
                          }
                        },
                        "marker": {
                          "colorbar": {
                            "outlinewidth": 0,
                            "ticks": ""
                          }
                        },
                        "type": "scatter3d"
                      }
                    ],
                    "scattercarpet": [
                      {
                        "marker": {
                          "colorbar": {
                            "outlinewidth": 0,
                            "ticks": ""
                          }
                        },
                        "type": "scattercarpet"
                      }
                    ],
                    "scattergeo": [
                      {
                        "marker": {
                          "colorbar": {
                            "outlinewidth": 0,
                            "ticks": ""
                          }
                        },
                        "type": "scattergeo"
                      }
                    ],
                    "scattergl": [
                      {
                        "marker": {
                          "colorbar": {
                            "outlinewidth": 0,
                            "ticks": ""
                          }
                        },
                        "type": "scattergl"
                      }
                    ],
                    "scattermapbox": [
                      {
                        "marker": {
                          "colorbar": {
                            "outlinewidth": 0,
                            "ticks": ""
                          }
                        },
                        "type": "scattermapbox"
                      }
                    ],
                    "scatterpolar": [
                      {
                        "marker": {
                          "colorbar": {
                            "outlinewidth": 0,
                            "ticks": ""
                          }
                        },
                        "type": "scatterpolar"
                      }
                    ],
                    "scatterpolargl": [
                      {
                        "marker": {
                          "colorbar": {
                            "outlinewidth": 0,
                            "ticks": ""
                          }
                        },
                        "type": "scatterpolargl"
                      }
                    ],
                    "scatterternary": [
                      {
                        "marker": {
                          "colorbar": {
                            "outlinewidth": 0,
                            "ticks": ""
                          }
                        },
                        "type": "scatterternary"
                      }
                    ],
                    "surface": [
                      {
                        "colorbar": {
                          "outlinewidth": 0,
                          "ticks": ""
                        },
                        "colorscale": [
                          [
                            0,
                            "#0d0887"
                          ],
                          [
                            0.1111111111111111,
                            "#46039f"
                          ],
                          [
                            0.2222222222222222,
                            "#7201a8"
                          ],
                          [
                            0.3333333333333333,
                            "#9c179e"
                          ],
                          [
                            0.4444444444444444,
                            "#bd3786"
                          ],
                          [
                            0.5555555555555556,
                            "#d8576b"
                          ],
                          [
                            0.6666666666666666,
                            "#ed7953"
                          ],
                          [
                            0.7777777777777778,
                            "#fb9f3a"
                          ],
                          [
                            0.8888888888888888,
                            "#fdca26"
                          ],
                          [
                            1,
                            "#f0f921"
                          ]
                        ],
                        "type": "surface"
                      }
                    ],
                    "table": [
                      {
                        "cells": {
                          "fill": {
                            "color": "#EBF0F8"
                          },
                          "line": {
                            "color": "white"
                          }
                        },
                        "header": {
                          "fill": {
                            "color": "#C8D4E3"
                          },
                          "line": {
                            "color": "white"
                          }
                        },
                        "type": "table"
                      }
                    ]
                  },
                  "layout": {
                    "annotationdefaults": {
                      "arrowcolor": "#2a3f5f",
                      "arrowhead": 0,
                      "arrowwidth": 1
                    },
                    "autotypenumbers": "strict",
                    "coloraxis": {
                      "colorbar": {
                        "outlinewidth": 0,
                        "ticks": ""
                      }
                    },
                    "colorscale": {
                      "diverging": [
                        [
                          0,
                          "#8e0152"
                        ],
                        [
                          0.1,
                          "#c51b7d"
                        ],
                        [
                          0.2,
                          "#de77ae"
                        ],
                        [
                          0.3,
                          "#f1b6da"
                        ],
                        [
                          0.4,
                          "#fde0ef"
                        ],
                        [
                          0.5,
                          "#f7f7f7"
                        ],
                        [
                          0.6,
                          "#e6f5d0"
                        ],
                        [
                          0.7,
                          "#b8e186"
                        ],
                        [
                          0.8,
                          "#7fbc41"
                        ],
                        [
                          0.9,
                          "#4d9221"
                        ],
                        [
                          1,
                          "#276419"
                        ]
                      ],
                      "sequential": [
                        [
                          0,
                          "#0d0887"
                        ],
                        [
                          0.1111111111111111,
                          "#46039f"
                        ],
                        [
                          0.2222222222222222,
                          "#7201a8"
                        ],
                        [
                          0.3333333333333333,
                          "#9c179e"
                        ],
                        [
                          0.4444444444444444,
                          "#bd3786"
                        ],
                        [
                          0.5555555555555556,
                          "#d8576b"
                        ],
                        [
                          0.6666666666666666,
                          "#ed7953"
                        ],
                        [
                          0.7777777777777778,
                          "#fb9f3a"
                        ],
                        [
                          0.8888888888888888,
                          "#fdca26"
                        ],
                        [
                          1,
                          "#f0f921"
                        ]
                      ],
                      "sequentialminus": [
                        [
                          0,
                          "#0d0887"
                        ],
                        [
                          0.1111111111111111,
                          "#46039f"
                        ],
                        [
                          0.2222222222222222,
                          "#7201a8"
                        ],
                        [
                          0.3333333333333333,
                          "#9c179e"
                        ],
                        [
                          0.4444444444444444,
                          "#bd3786"
                        ],
                        [
                          0.5555555555555556,
                          "#d8576b"
                        ],
                        [
                          0.6666666666666666,
                          "#ed7953"
                        ],
                        [
                          0.7777777777777778,
                          "#fb9f3a"
                        ],
                        [
                          0.8888888888888888,
                          "#fdca26"
                        ],
                        [
                          1,
                          "#f0f921"
                        ]
                      ]
                    },
                    "colorway": [
                      "#636efa",
                      "#EF553B",
                      "#00cc96",
                      "#ab63fa",
                      "#FFA15A",
                      "#19d3f3",
                      "#FF6692",
                      "#B6E880",
                      "#FF97FF",
                      "#FECB52"
                    ],
                    "font": {
                      "color": "#2a3f5f"
                    },
                    "geo": {
                      "bgcolor": "white",
                      "lakecolor": "white",
                      "landcolor": "#E5ECF6",
                      "showlakes": true,
                      "showland": true,
                      "subunitcolor": "white"
                    },
                    "hoverlabel": {
                      "align": "left"
                    },
                    "hovermode": "closest",
                    "mapbox": {
                      "style": "light"
                    },
                    "paper_bgcolor": "white",
                    "plot_bgcolor": "#E5ECF6",
                    "polar": {
                      "angularaxis": {
                        "gridcolor": "white",
                        "linecolor": "white",
                        "ticks": ""
                      },
                      "bgcolor": "#E5ECF6",
                      "radialaxis": {
                        "gridcolor": "white",
                        "linecolor": "white",
                        "ticks": ""
                      }
                    },
                    "scene": {
                      "xaxis": {
                        "backgroundcolor": "#E5ECF6",
                        "gridcolor": "white",
                        "gridwidth": 2,
                        "linecolor": "white",
                        "showbackground": true,
                        "ticks": "",
                        "zerolinecolor": "white"
                      },
                      "yaxis": {
                        "backgroundcolor": "#E5ECF6",
                        "gridcolor": "white",
                        "gridwidth": 2,
                        "linecolor": "white",
                        "showbackground": true,
                        "ticks": "",
                        "zerolinecolor": "white"
                      },
                      "zaxis": {
                        "backgroundcolor": "#E5ECF6",
                        "gridcolor": "white",
                        "gridwidth": 2,
                        "linecolor": "white",
                        "showbackground": true,
                        "ticks": "",
                        "zerolinecolor": "white"
                      }
                    },
                    "shapedefaults": {
                      "line": {
                        "color": "#2a3f5f"
                      }
                    },
                    "ternary": {
                      "aaxis": {
                        "gridcolor": "white",
                        "linecolor": "white",
                        "ticks": ""
                      },
                      "baxis": {
                        "gridcolor": "white",
                        "linecolor": "white",
                        "ticks": ""
                      },
                      "bgcolor": "#E5ECF6",
                      "caxis": {
                        "gridcolor": "white",
                        "linecolor": "white",
                        "ticks": ""
                      }
                    },
                    "title": {
                      "x": 0.05
                    },
                    "xaxis": {
                      "automargin": true,
                      "gridcolor": "white",
                      "linecolor": "white",
                      "ticks": "",
                      "title": {
                        "standoff": 15
                      },
                      "zerolinecolor": "white",
                      "zerolinewidth": 2
                    },
                    "yaxis": {
                      "automargin": true,
                      "gridcolor": "white",
                      "linecolor": "white",
                      "ticks": "",
                      "title": {
                        "standoff": 15
                      },
                      "zerolinecolor": "white",
                      "zerolinewidth": 2
                    }
                  }
                },
                "title": {
                  "text": "Patching at resid stream & layer outputs (corrupted -> clean)"
                },
                "width": 1300,
                "xaxis": {
                  "anchor": "y",
                  "constrain": "domain",
                  "domain": [
                    0,
                    0.31999999999999995
                  ],
                  "linecolor": "black",
                  "linewidth": 1,
                  "mirror": true,
                  "scaleanchor": "y",
                  "showline": true,
                  "tickangle": 45,
                  "title": {
                    "text": "Sequence position"
                  }
                },
                "xaxis2": {
                  "anchor": "y2",
                  "domain": [
                    0.33999999999999997,
                    0.6599999999999999
                  ],
                  "linecolor": "black",
                  "linewidth": 1,
                  "matches": "x",
                  "mirror": true,
                  "showline": true,
                  "tickangle": 45,
                  "title": {
                    "text": "Sequence position"
                  }
                },
                "xaxis3": {
                  "anchor": "y3",
                  "domain": [
                    0.6799999999999999,
                    0.9999999999999999
                  ],
                  "linecolor": "black",
                  "linewidth": 1,
                  "matches": "x",
                  "mirror": true,
                  "showline": true,
                  "tickangle": 45,
                  "title": {
                    "text": "Sequence position"
                  }
                },
                "yaxis": {
                  "anchor": "x",
                  "autorange": "reversed",
                  "constrain": "domain",
                  "domain": [
                    0,
                    1
                  ],
                  "linecolor": "black",
                  "linewidth": 1,
                  "mirror": true,
                  "showline": true,
                  "title": {
                    "text": "Layer"
                  }
                },
                "yaxis2": {
                  "anchor": "x2",
                  "domain": [
                    0,
                    1
                  ],
                  "linecolor": "black",
                  "linewidth": 1,
                  "matches": "y",
                  "mirror": true,
                  "showline": true,
                  "showticklabels": false
                },
                "yaxis3": {
                  "anchor": "x3",
                  "domain": [
                    0,
                    1
                  ],
                  "linecolor": "black",
                  "linewidth": 1,
                  "matches": "y",
                  "mirror": true,
                  "showline": true,
                  "showticklabels": false
                }
              }
            }
          },
          "metadata": {},
          "output_type": "display_data"
        }
      ],
      "source": [
        "assert results.keys() == {\"resid_pre\", \"attn_out\", \"mlp_out\"}\n",
        "labels = [f\"{tok} {i}\" for i, tok in enumerate(model.to_str_tokens(clean_tokens[0]))]\n",
        "imshow_p(\n",
        "    torch.stack([r.T for r in results.values()]) * 100, # we transpose so layer is on the y-axis\n",
        "    facet_col=0,\n",
        "    facet_labels=[\"resid_pre\", \"attn_out\", \"mlp_out\"],\n",
        "    title=\"Patching at resid stream & layer outputs (corrupted -> clean)\",\n",
        "    labels={\"x\": \"Sequence position\", \"y\": \"Layer\", \"color\": \"Logit diff variation\"},\n",
        "    x=labels,\n",
        "    xaxis_tickangle=45,\n",
        "    coloraxis=dict(colorbar_ticksuffix = \"%\"),\n",
        "    border=True,\n",
        "    width=1300,\n",
        "    margin={\"r\": 100, \"l\": 100}\n",
        ")"
      ]
    },
    {
      "attachments": {},
      "cell_type": "markdown",
      "metadata": {},
      "source": [
        "### Circuit Analysis With Patch Patching & Attn Visualization"
      ]
    },
    {
      "attachments": {},
      "cell_type": "markdown",
      "metadata": {},
      "source": [
        "#### Heads Influencing Logit Diff"
      ]
    },
    {
      "cell_type": "code",
      "execution_count": 62,
      "metadata": {},
      "outputs": [
        {
          "data": {
            "application/vnd.jupyter.widget-view+json": {
              "model_id": "bf96df174cd14eb9a2329c4ae7a1b371",
              "version_major": 2,
              "version_minor": 0
            },
            "text/plain": [
              "  0%|          | 0/144 [00:00<?, ?it/s]"
            ]
          },
          "metadata": {},
          "output_type": "display_data"
        },
        {
          "name": "stdout",
          "output_type": "stream",
          "text": [
            "results['z'].shape = (layer=12, head=12)\n"
          ]
        }
      ],
      "source": [
        "results = path_patch(\n",
        "    model,\n",
        "    orig_input=clean_tokens,\n",
        "    new_input=corrupted_tokens,\n",
        "    sender_nodes=IterNode('z'), # This means iterate over all heads in all layers\n",
        "    receiver_nodes=Node('resid_post', 11), # This is resid_post at layer 11\n",
        "    patching_metric=logit_diff_noising,\n",
        "    verbose=True\n",
        ")"
      ]
    },
    {
      "cell_type": "code",
      "execution_count": 63,
      "metadata": {},
      "outputs": [
        {
          "data": {
            "application/vnd.plotly.v1+json": {
              "config": {
                "plotlyServerURL": "https://plot.ly"
              },
              "data": [
                {
                  "coloraxis": "coloraxis",
                  "hovertemplate": "Head: %{x}<br>Layer: %{y}<br>Logit diff variation: %{z}<extra></extra>",
                  "name": "0",
                  "type": "heatmap",
                  "xaxis": "x",
                  "yaxis": "y",
                  "z": [
                    [
                      -0.0006231298903003335,
                      0.0000014309035805126769,
                      -0.000885328627191484,
                      0.00000160261197379441,
                      -0.0000621584476903081,
                      8.01305986897205e-7,
                      -0.002006012247875333,
                      -0.000025241139155696146,
                      -0.00014801266661379486,
                      -0.0006103090126998723,
                      -0.000055003933084663004,
                      -0.0002694677677936852
                    ],
                    [
                      0.00001041697760228999,
                      0.0001344476913800463,
                      0.00006765311991330236,
                      0.00004653298310586251,
                      -0.0005680687027052045,
                      -0.0016362668247893453,
                      -0.0013369218213483691,
                      -0.003585272002965212,
                      0.00018836413801182061,
                      0.0010430715046823025,
                      0.0003608166298363358,
                      0.0018573128618299961
                    ],
                    [
                      -0.00014349100820254534,
                      -0.009704731404781342,
                      -0.00015219089982565492,
                      -0.00005964006049907766,
                      0.00015579677710775286,
                      0.00014824161189608276,
                      0.0005757955950684845,
                      -0.00047151133185252547,
                      -0.00015539611922577024,
                      0.00044111895840615034,
                      0.00009346661681775004,
                      0.0005615437985397875
                    ],
                    [
                      0.0000017170842738778447,
                      0.00022945969249121845,
                      0.00023209255596157163,
                      -0.00015213366714306176,
                      -0.0019265112932771444,
                      -0.005059446208178997,
                      -0.00031411193776875734,
                      -0.000009844616215559654,
                      -0.00046796270180493593,
                      -0.0008871601894497871,
                      0.0015367332380264997,
                      -0.000797814573161304
                    ],
                    [
                      -0.00011452951730461791,
                      -0.0005704154027625918,
                      -0.005602674093097448,
                      -0.0006811100756749511,
                      0.0010896044550463557,
                      0.00026477439678274095,
                      -0.00035011349245905876,
                      0.0005039642564952374,
                      -0.005422037094831467,
                      -0.0010921228677034378,
                      -0.000633833056781441,
                      -0.0011319019831717014
                    ],
                    [
                      -0.00012116891593905166,
                      -0.0022920214105397463,
                      -0.0003149132535327226,
                      -0.0029409073758870363,
                      -0.0004281263391021639,
                      -0.005191146396100521,
                      -0.00006919849693076685,
                      -0.0009810847695916891,
                      -0.00022064533550292253,
                      -0.006797707639634609,
                      -0.008593778125941753,
                      0.006094618700444698
                    ],
                    [
                      -0.002118767471984029,
                      -0.0007460731430910528,
                      0.00004435801020008512,
                      -0.004162841942161322,
                      -0.03436741232872009,
                      0.005903793498873711,
                      0.014094342477619648,
                      -0.012985335662961006,
                      -0.00009352385677630082,
                      -0.0025908511597663164,
                      -0.006929236464202404,
                      0.00109011959284544
                    ],
                    [
                      -0.000037833091482752934,
                      -0.050436776131391525,
                      -0.0014664472546428442,
                      0.0027210062835365534,
                      -0.00005139805580256507,
                      -0.03684161603450775,
                      0.01783449575304985,
                      -0.0008221399621106684,
                      -0.002845151349902153,
                      -0.018169671297073364,
                      -0.004029424395412207,
                      -0.000027187166779185645
                    ],
                    [
                      0.00016970516298897564,
                      -0.0001864753576228395,
                      -0.030521372333168983,
                      -0.007265155203640461,
                      -0.008850596845149994,
                      -0.07200401276350021,
                      -0.0028258056845515966,
                      -0.004117453470826149,
                      -0.01469732541590929,
                      -0.01310576032847166,
                      0.05225951597094536,
                      -0.008936851285398006
                    ],
                    [
                      -0.0025225684512406588,
                      -0.010397059842944145,
                      -0.13937552273273468,
                      -0.0374956838786602,
                      -0.0003634495078586042,
                      0.024876544252038002,
                      -0.02702779322862625,
                      0.027494411915540695,
                      -0.0018942301394417882,
                      -0.018159769475460052,
                      -0.027985181659460068,
                      -0.00044455312308855355
                    ],
                    [
                      -0.04169492796063423,
                      -0.07038534432649612,
                      0.0021116703283041716,
                      0.003747364738956094,
                      -0.2816917598247528,
                      -0.007104321848601103,
                      -0.00044712875387631357,
                      0.06653598695993423,
                      0.00037896051071584225,
                      -0.009313064627349377,
                      -0.007067346945405006,
                      -0.023252498358488083
                    ],
                    [
                      0.004253217950463295,
                      -0.0015110913664102554,
                      -0.0013978782808408141,
                      -0.01294704433530569,
                      -0.0014527104794979095,
                      -0.003202762920409441,
                      0.00031605796539224684,
                      -0.00522068003192544,
                      -0.01692964881658554,
                      -0.038743775337934494,
                      0.000526286312378943,
                      -0.027219219133257866
                    ]
                  ]
                }
              ],
              "layout": {
                "coloraxis": {
                  "cmid": 0,
                  "colorbar": {
                    "title": {
                      "text": "Logit diff variation"
                    }
                  },
                  "colorscale": [
                    [
                      0,
                      "rgb(103,0,31)"
                    ],
                    [
                      0.1,
                      "rgb(178,24,43)"
                    ],
                    [
                      0.2,
                      "rgb(214,96,77)"
                    ],
                    [
                      0.3,
                      "rgb(244,165,130)"
                    ],
                    [
                      0.4,
                      "rgb(253,219,199)"
                    ],
                    [
                      0.5,
                      "rgb(247,247,247)"
                    ],
                    [
                      0.6,
                      "rgb(209,229,240)"
                    ],
                    [
                      0.7,
                      "rgb(146,197,222)"
                    ],
                    [
                      0.8,
                      "rgb(67,147,195)"
                    ],
                    [
                      0.9,
                      "rgb(33,102,172)"
                    ],
                    [
                      1,
                      "rgb(5,48,97)"
                    ]
                  ]
                },
                "margin": {
                  "l": 100,
                  "r": 100
                },
                "template": {
                  "data": {
                    "bar": [
                      {
                        "error_x": {
                          "color": "#2a3f5f"
                        },
                        "error_y": {
                          "color": "#2a3f5f"
                        },
                        "marker": {
                          "line": {
                            "color": "#E5ECF6",
                            "width": 0.5
                          },
                          "pattern": {
                            "fillmode": "overlay",
                            "size": 10,
                            "solidity": 0.2
                          }
                        },
                        "type": "bar"
                      }
                    ],
                    "barpolar": [
                      {
                        "marker": {
                          "line": {
                            "color": "#E5ECF6",
                            "width": 0.5
                          },
                          "pattern": {
                            "fillmode": "overlay",
                            "size": 10,
                            "solidity": 0.2
                          }
                        },
                        "type": "barpolar"
                      }
                    ],
                    "carpet": [
                      {
                        "aaxis": {
                          "endlinecolor": "#2a3f5f",
                          "gridcolor": "white",
                          "linecolor": "white",
                          "minorgridcolor": "white",
                          "startlinecolor": "#2a3f5f"
                        },
                        "baxis": {
                          "endlinecolor": "#2a3f5f",
                          "gridcolor": "white",
                          "linecolor": "white",
                          "minorgridcolor": "white",
                          "startlinecolor": "#2a3f5f"
                        },
                        "type": "carpet"
                      }
                    ],
                    "choropleth": [
                      {
                        "colorbar": {
                          "outlinewidth": 0,
                          "ticks": ""
                        },
                        "type": "choropleth"
                      }
                    ],
                    "contour": [
                      {
                        "colorbar": {
                          "outlinewidth": 0,
                          "ticks": ""
                        },
                        "colorscale": [
                          [
                            0,
                            "#0d0887"
                          ],
                          [
                            0.1111111111111111,
                            "#46039f"
                          ],
                          [
                            0.2222222222222222,
                            "#7201a8"
                          ],
                          [
                            0.3333333333333333,
                            "#9c179e"
                          ],
                          [
                            0.4444444444444444,
                            "#bd3786"
                          ],
                          [
                            0.5555555555555556,
                            "#d8576b"
                          ],
                          [
                            0.6666666666666666,
                            "#ed7953"
                          ],
                          [
                            0.7777777777777778,
                            "#fb9f3a"
                          ],
                          [
                            0.8888888888888888,
                            "#fdca26"
                          ],
                          [
                            1,
                            "#f0f921"
                          ]
                        ],
                        "type": "contour"
                      }
                    ],
                    "contourcarpet": [
                      {
                        "colorbar": {
                          "outlinewidth": 0,
                          "ticks": ""
                        },
                        "type": "contourcarpet"
                      }
                    ],
                    "heatmap": [
                      {
                        "colorbar": {
                          "outlinewidth": 0,
                          "ticks": ""
                        },
                        "colorscale": [
                          [
                            0,
                            "#0d0887"
                          ],
                          [
                            0.1111111111111111,
                            "#46039f"
                          ],
                          [
                            0.2222222222222222,
                            "#7201a8"
                          ],
                          [
                            0.3333333333333333,
                            "#9c179e"
                          ],
                          [
                            0.4444444444444444,
                            "#bd3786"
                          ],
                          [
                            0.5555555555555556,
                            "#d8576b"
                          ],
                          [
                            0.6666666666666666,
                            "#ed7953"
                          ],
                          [
                            0.7777777777777778,
                            "#fb9f3a"
                          ],
                          [
                            0.8888888888888888,
                            "#fdca26"
                          ],
                          [
                            1,
                            "#f0f921"
                          ]
                        ],
                        "type": "heatmap"
                      }
                    ],
                    "heatmapgl": [
                      {
                        "colorbar": {
                          "outlinewidth": 0,
                          "ticks": ""
                        },
                        "colorscale": [
                          [
                            0,
                            "#0d0887"
                          ],
                          [
                            0.1111111111111111,
                            "#46039f"
                          ],
                          [
                            0.2222222222222222,
                            "#7201a8"
                          ],
                          [
                            0.3333333333333333,
                            "#9c179e"
                          ],
                          [
                            0.4444444444444444,
                            "#bd3786"
                          ],
                          [
                            0.5555555555555556,
                            "#d8576b"
                          ],
                          [
                            0.6666666666666666,
                            "#ed7953"
                          ],
                          [
                            0.7777777777777778,
                            "#fb9f3a"
                          ],
                          [
                            0.8888888888888888,
                            "#fdca26"
                          ],
                          [
                            1,
                            "#f0f921"
                          ]
                        ],
                        "type": "heatmapgl"
                      }
                    ],
                    "histogram": [
                      {
                        "marker": {
                          "pattern": {
                            "fillmode": "overlay",
                            "size": 10,
                            "solidity": 0.2
                          }
                        },
                        "type": "histogram"
                      }
                    ],
                    "histogram2d": [
                      {
                        "colorbar": {
                          "outlinewidth": 0,
                          "ticks": ""
                        },
                        "colorscale": [
                          [
                            0,
                            "#0d0887"
                          ],
                          [
                            0.1111111111111111,
                            "#46039f"
                          ],
                          [
                            0.2222222222222222,
                            "#7201a8"
                          ],
                          [
                            0.3333333333333333,
                            "#9c179e"
                          ],
                          [
                            0.4444444444444444,
                            "#bd3786"
                          ],
                          [
                            0.5555555555555556,
                            "#d8576b"
                          ],
                          [
                            0.6666666666666666,
                            "#ed7953"
                          ],
                          [
                            0.7777777777777778,
                            "#fb9f3a"
                          ],
                          [
                            0.8888888888888888,
                            "#fdca26"
                          ],
                          [
                            1,
                            "#f0f921"
                          ]
                        ],
                        "type": "histogram2d"
                      }
                    ],
                    "histogram2dcontour": [
                      {
                        "colorbar": {
                          "outlinewidth": 0,
                          "ticks": ""
                        },
                        "colorscale": [
                          [
                            0,
                            "#0d0887"
                          ],
                          [
                            0.1111111111111111,
                            "#46039f"
                          ],
                          [
                            0.2222222222222222,
                            "#7201a8"
                          ],
                          [
                            0.3333333333333333,
                            "#9c179e"
                          ],
                          [
                            0.4444444444444444,
                            "#bd3786"
                          ],
                          [
                            0.5555555555555556,
                            "#d8576b"
                          ],
                          [
                            0.6666666666666666,
                            "#ed7953"
                          ],
                          [
                            0.7777777777777778,
                            "#fb9f3a"
                          ],
                          [
                            0.8888888888888888,
                            "#fdca26"
                          ],
                          [
                            1,
                            "#f0f921"
                          ]
                        ],
                        "type": "histogram2dcontour"
                      }
                    ],
                    "mesh3d": [
                      {
                        "colorbar": {
                          "outlinewidth": 0,
                          "ticks": ""
                        },
                        "type": "mesh3d"
                      }
                    ],
                    "parcoords": [
                      {
                        "line": {
                          "colorbar": {
                            "outlinewidth": 0,
                            "ticks": ""
                          }
                        },
                        "type": "parcoords"
                      }
                    ],
                    "pie": [
                      {
                        "automargin": true,
                        "type": "pie"
                      }
                    ],
                    "scatter": [
                      {
                        "fillpattern": {
                          "fillmode": "overlay",
                          "size": 10,
                          "solidity": 0.2
                        },
                        "type": "scatter"
                      }
                    ],
                    "scatter3d": [
                      {
                        "line": {
                          "colorbar": {
                            "outlinewidth": 0,
                            "ticks": ""
                          }
                        },
                        "marker": {
                          "colorbar": {
                            "outlinewidth": 0,
                            "ticks": ""
                          }
                        },
                        "type": "scatter3d"
                      }
                    ],
                    "scattercarpet": [
                      {
                        "marker": {
                          "colorbar": {
                            "outlinewidth": 0,
                            "ticks": ""
                          }
                        },
                        "type": "scattercarpet"
                      }
                    ],
                    "scattergeo": [
                      {
                        "marker": {
                          "colorbar": {
                            "outlinewidth": 0,
                            "ticks": ""
                          }
                        },
                        "type": "scattergeo"
                      }
                    ],
                    "scattergl": [
                      {
                        "marker": {
                          "colorbar": {
                            "outlinewidth": 0,
                            "ticks": ""
                          }
                        },
                        "type": "scattergl"
                      }
                    ],
                    "scattermapbox": [
                      {
                        "marker": {
                          "colorbar": {
                            "outlinewidth": 0,
                            "ticks": ""
                          }
                        },
                        "type": "scattermapbox"
                      }
                    ],
                    "scatterpolar": [
                      {
                        "marker": {
                          "colorbar": {
                            "outlinewidth": 0,
                            "ticks": ""
                          }
                        },
                        "type": "scatterpolar"
                      }
                    ],
                    "scatterpolargl": [
                      {
                        "marker": {
                          "colorbar": {
                            "outlinewidth": 0,
                            "ticks": ""
                          }
                        },
                        "type": "scatterpolargl"
                      }
                    ],
                    "scatterternary": [
                      {
                        "marker": {
                          "colorbar": {
                            "outlinewidth": 0,
                            "ticks": ""
                          }
                        },
                        "type": "scatterternary"
                      }
                    ],
                    "surface": [
                      {
                        "colorbar": {
                          "outlinewidth": 0,
                          "ticks": ""
                        },
                        "colorscale": [
                          [
                            0,
                            "#0d0887"
                          ],
                          [
                            0.1111111111111111,
                            "#46039f"
                          ],
                          [
                            0.2222222222222222,
                            "#7201a8"
                          ],
                          [
                            0.3333333333333333,
                            "#9c179e"
                          ],
                          [
                            0.4444444444444444,
                            "#bd3786"
                          ],
                          [
                            0.5555555555555556,
                            "#d8576b"
                          ],
                          [
                            0.6666666666666666,
                            "#ed7953"
                          ],
                          [
                            0.7777777777777778,
                            "#fb9f3a"
                          ],
                          [
                            0.8888888888888888,
                            "#fdca26"
                          ],
                          [
                            1,
                            "#f0f921"
                          ]
                        ],
                        "type": "surface"
                      }
                    ],
                    "table": [
                      {
                        "cells": {
                          "fill": {
                            "color": "#EBF0F8"
                          },
                          "line": {
                            "color": "white"
                          }
                        },
                        "header": {
                          "fill": {
                            "color": "#C8D4E3"
                          },
                          "line": {
                            "color": "white"
                          }
                        },
                        "type": "table"
                      }
                    ]
                  },
                  "layout": {
                    "annotationdefaults": {
                      "arrowcolor": "#2a3f5f",
                      "arrowhead": 0,
                      "arrowwidth": 1
                    },
                    "autotypenumbers": "strict",
                    "coloraxis": {
                      "colorbar": {
                        "outlinewidth": 0,
                        "ticks": ""
                      }
                    },
                    "colorscale": {
                      "diverging": [
                        [
                          0,
                          "#8e0152"
                        ],
                        [
                          0.1,
                          "#c51b7d"
                        ],
                        [
                          0.2,
                          "#de77ae"
                        ],
                        [
                          0.3,
                          "#f1b6da"
                        ],
                        [
                          0.4,
                          "#fde0ef"
                        ],
                        [
                          0.5,
                          "#f7f7f7"
                        ],
                        [
                          0.6,
                          "#e6f5d0"
                        ],
                        [
                          0.7,
                          "#b8e186"
                        ],
                        [
                          0.8,
                          "#7fbc41"
                        ],
                        [
                          0.9,
                          "#4d9221"
                        ],
                        [
                          1,
                          "#276419"
                        ]
                      ],
                      "sequential": [
                        [
                          0,
                          "#0d0887"
                        ],
                        [
                          0.1111111111111111,
                          "#46039f"
                        ],
                        [
                          0.2222222222222222,
                          "#7201a8"
                        ],
                        [
                          0.3333333333333333,
                          "#9c179e"
                        ],
                        [
                          0.4444444444444444,
                          "#bd3786"
                        ],
                        [
                          0.5555555555555556,
                          "#d8576b"
                        ],
                        [
                          0.6666666666666666,
                          "#ed7953"
                        ],
                        [
                          0.7777777777777778,
                          "#fb9f3a"
                        ],
                        [
                          0.8888888888888888,
                          "#fdca26"
                        ],
                        [
                          1,
                          "#f0f921"
                        ]
                      ],
                      "sequentialminus": [
                        [
                          0,
                          "#0d0887"
                        ],
                        [
                          0.1111111111111111,
                          "#46039f"
                        ],
                        [
                          0.2222222222222222,
                          "#7201a8"
                        ],
                        [
                          0.3333333333333333,
                          "#9c179e"
                        ],
                        [
                          0.4444444444444444,
                          "#bd3786"
                        ],
                        [
                          0.5555555555555556,
                          "#d8576b"
                        ],
                        [
                          0.6666666666666666,
                          "#ed7953"
                        ],
                        [
                          0.7777777777777778,
                          "#fb9f3a"
                        ],
                        [
                          0.8888888888888888,
                          "#fdca26"
                        ],
                        [
                          1,
                          "#f0f921"
                        ]
                      ]
                    },
                    "colorway": [
                      "#636efa",
                      "#EF553B",
                      "#00cc96",
                      "#ab63fa",
                      "#FFA15A",
                      "#19d3f3",
                      "#FF6692",
                      "#B6E880",
                      "#FF97FF",
                      "#FECB52"
                    ],
                    "font": {
                      "color": "#2a3f5f"
                    },
                    "geo": {
                      "bgcolor": "white",
                      "lakecolor": "white",
                      "landcolor": "#E5ECF6",
                      "showlakes": true,
                      "showland": true,
                      "subunitcolor": "white"
                    },
                    "hoverlabel": {
                      "align": "left"
                    },
                    "hovermode": "closest",
                    "mapbox": {
                      "style": "light"
                    },
                    "paper_bgcolor": "white",
                    "plot_bgcolor": "#E5ECF6",
                    "polar": {
                      "angularaxis": {
                        "gridcolor": "white",
                        "linecolor": "white",
                        "ticks": ""
                      },
                      "bgcolor": "#E5ECF6",
                      "radialaxis": {
                        "gridcolor": "white",
                        "linecolor": "white",
                        "ticks": ""
                      }
                    },
                    "scene": {
                      "xaxis": {
                        "backgroundcolor": "#E5ECF6",
                        "gridcolor": "white",
                        "gridwidth": 2,
                        "linecolor": "white",
                        "showbackground": true,
                        "ticks": "",
                        "zerolinecolor": "white"
                      },
                      "yaxis": {
                        "backgroundcolor": "#E5ECF6",
                        "gridcolor": "white",
                        "gridwidth": 2,
                        "linecolor": "white",
                        "showbackground": true,
                        "ticks": "",
                        "zerolinecolor": "white"
                      },
                      "zaxis": {
                        "backgroundcolor": "#E5ECF6",
                        "gridcolor": "white",
                        "gridwidth": 2,
                        "linecolor": "white",
                        "showbackground": true,
                        "ticks": "",
                        "zerolinecolor": "white"
                      }
                    },
                    "shapedefaults": {
                      "line": {
                        "color": "#2a3f5f"
                      }
                    },
                    "ternary": {
                      "aaxis": {
                        "gridcolor": "white",
                        "linecolor": "white",
                        "ticks": ""
                      },
                      "baxis": {
                        "gridcolor": "white",
                        "linecolor": "white",
                        "ticks": ""
                      },
                      "bgcolor": "#E5ECF6",
                      "caxis": {
                        "gridcolor": "white",
                        "linecolor": "white",
                        "ticks": ""
                      }
                    },
                    "title": {
                      "x": 0.05
                    },
                    "xaxis": {
                      "automargin": true,
                      "gridcolor": "white",
                      "linecolor": "white",
                      "ticks": "",
                      "title": {
                        "standoff": 15
                      },
                      "zerolinecolor": "white",
                      "zerolinewidth": 2
                    },
                    "yaxis": {
                      "automargin": true,
                      "gridcolor": "white",
                      "linecolor": "white",
                      "ticks": "",
                      "title": {
                        "standoff": 15
                      },
                      "zerolinecolor": "white",
                      "zerolinewidth": 2
                    }
                  }
                },
                "title": {
                  "text": "Direct effect on logit diff (patch from head output -> final resid)"
                },
                "width": 600,
                "xaxis": {
                  "anchor": "y",
                  "constrain": "domain",
                  "domain": [
                    0,
                    1
                  ],
                  "linecolor": "black",
                  "linewidth": 1,
                  "mirror": true,
                  "scaleanchor": "y",
                  "showline": true,
                  "title": {
                    "text": "Head"
                  }
                },
                "yaxis": {
                  "anchor": "x",
                  "autorange": "reversed",
                  "constrain": "domain",
                  "domain": [
                    0,
                    1
                  ],
                  "linecolor": "black",
                  "linewidth": 1,
                  "mirror": true,
                  "showline": true,
                  "title": {
                    "text": "Layer"
                  }
                }
              }
            }
          },
          "metadata": {},
          "output_type": "display_data"
        }
      ],
      "source": [
        "imshow_p(\n",
        "    results['z'],\n",
        "    title=\"Direct effect on logit diff (patch from head output -> final resid)\",\n",
        "    labels={\"x\": \"Head\", \"y\": \"Layer\", \"color\": \"Logit diff variation\"},\n",
        "    border=True,\n",
        "    width=600,\n",
        "    margin={\"r\": 100, \"l\": 100}\n",
        ")"
      ]
    },
    {
      "cell_type": "code",
      "execution_count": 64,
      "metadata": {},
      "outputs": [],
      "source": [
        "from visualization_utils import (\n",
        "    plot_attention_heads,\n",
        "    scatter_attention_and_contribution\n",
        ")\n",
        "\n",
        "import circuitsvis as cv"
      ]
    },
    {
      "cell_type": "code",
      "execution_count": 65,
      "metadata": {},
      "outputs": [
        {
          "name": "stdout",
          "output_type": "stream",
          "text": [
            "Total logit diff contribution above threshold: 0.94\n"
          ]
        },
        {
          "data": {
            "application/vnd.plotly.v1+json": {
              "config": {
                "plotlyServerURL": "https://plot.ly"
              },
              "data": [
                {
                  "alignmentgroup": "True",
                  "hovertemplate": "Logit Diff=%{x}<br>Attention Head=%{y}<extra></extra>",
                  "legendgroup": "",
                  "marker": {
                    "color": "#636efa",
                    "pattern": {
                      "shape": ""
                    }
                  },
                  "name": "",
                  "offsetgroup": "",
                  "orientation": "h",
                  "showlegend": false,
                  "textposition": "auto",
                  "type": "bar",
                  "x": [
                    0.023252498358488083,
                    0.02702779322862625,
                    0.027219219133257866,
                    0.027985181659460068,
                    0.030521372333168983,
                    0.03436741232872009,
                    0.03684161603450775,
                    0.0374956838786602,
                    0.038743775337934494,
                    0.04169492796063423,
                    0.050436776131391525,
                    0.07038534432649612,
                    0.07200401276350021,
                    0.13937552273273468,
                    0.2816917598247528
                  ],
                  "xaxis": "x",
                  "y": [
                    "Layer 10, Head 11",
                    "Layer 9, Head 6",
                    "Layer 11, Head 11",
                    "Layer 9, Head 10",
                    "Layer 8, Head 2",
                    "Layer 6, Head 4",
                    "Layer 7, Head 5",
                    "Layer 9, Head 3",
                    "Layer 11, Head 9",
                    "Layer 10, Head 0",
                    "Layer 7, Head 1",
                    "Layer 10, Head 1",
                    "Layer 8, Head 5",
                    "Layer 9, Head 2",
                    "Layer 10, Head 4"
                  ],
                  "yaxis": "y"
                }
              ],
              "layout": {
                "barmode": "relative",
                "legend": {
                  "tracegroupgap": 0
                },
                "margin": {
                  "t": 60
                },
                "template": {
                  "data": {
                    "bar": [
                      {
                        "error_x": {
                          "color": "#2a3f5f"
                        },
                        "error_y": {
                          "color": "#2a3f5f"
                        },
                        "marker": {
                          "line": {
                            "color": "#E5ECF6",
                            "width": 0.5
                          },
                          "pattern": {
                            "fillmode": "overlay",
                            "size": 10,
                            "solidity": 0.2
                          }
                        },
                        "type": "bar"
                      }
                    ],
                    "barpolar": [
                      {
                        "marker": {
                          "line": {
                            "color": "#E5ECF6",
                            "width": 0.5
                          },
                          "pattern": {
                            "fillmode": "overlay",
                            "size": 10,
                            "solidity": 0.2
                          }
                        },
                        "type": "barpolar"
                      }
                    ],
                    "carpet": [
                      {
                        "aaxis": {
                          "endlinecolor": "#2a3f5f",
                          "gridcolor": "white",
                          "linecolor": "white",
                          "minorgridcolor": "white",
                          "startlinecolor": "#2a3f5f"
                        },
                        "baxis": {
                          "endlinecolor": "#2a3f5f",
                          "gridcolor": "white",
                          "linecolor": "white",
                          "minorgridcolor": "white",
                          "startlinecolor": "#2a3f5f"
                        },
                        "type": "carpet"
                      }
                    ],
                    "choropleth": [
                      {
                        "colorbar": {
                          "outlinewidth": 0,
                          "ticks": ""
                        },
                        "type": "choropleth"
                      }
                    ],
                    "contour": [
                      {
                        "colorbar": {
                          "outlinewidth": 0,
                          "ticks": ""
                        },
                        "colorscale": [
                          [
                            0,
                            "#0d0887"
                          ],
                          [
                            0.1111111111111111,
                            "#46039f"
                          ],
                          [
                            0.2222222222222222,
                            "#7201a8"
                          ],
                          [
                            0.3333333333333333,
                            "#9c179e"
                          ],
                          [
                            0.4444444444444444,
                            "#bd3786"
                          ],
                          [
                            0.5555555555555556,
                            "#d8576b"
                          ],
                          [
                            0.6666666666666666,
                            "#ed7953"
                          ],
                          [
                            0.7777777777777778,
                            "#fb9f3a"
                          ],
                          [
                            0.8888888888888888,
                            "#fdca26"
                          ],
                          [
                            1,
                            "#f0f921"
                          ]
                        ],
                        "type": "contour"
                      }
                    ],
                    "contourcarpet": [
                      {
                        "colorbar": {
                          "outlinewidth": 0,
                          "ticks": ""
                        },
                        "type": "contourcarpet"
                      }
                    ],
                    "heatmap": [
                      {
                        "colorbar": {
                          "outlinewidth": 0,
                          "ticks": ""
                        },
                        "colorscale": [
                          [
                            0,
                            "#0d0887"
                          ],
                          [
                            0.1111111111111111,
                            "#46039f"
                          ],
                          [
                            0.2222222222222222,
                            "#7201a8"
                          ],
                          [
                            0.3333333333333333,
                            "#9c179e"
                          ],
                          [
                            0.4444444444444444,
                            "#bd3786"
                          ],
                          [
                            0.5555555555555556,
                            "#d8576b"
                          ],
                          [
                            0.6666666666666666,
                            "#ed7953"
                          ],
                          [
                            0.7777777777777778,
                            "#fb9f3a"
                          ],
                          [
                            0.8888888888888888,
                            "#fdca26"
                          ],
                          [
                            1,
                            "#f0f921"
                          ]
                        ],
                        "type": "heatmap"
                      }
                    ],
                    "heatmapgl": [
                      {
                        "colorbar": {
                          "outlinewidth": 0,
                          "ticks": ""
                        },
                        "colorscale": [
                          [
                            0,
                            "#0d0887"
                          ],
                          [
                            0.1111111111111111,
                            "#46039f"
                          ],
                          [
                            0.2222222222222222,
                            "#7201a8"
                          ],
                          [
                            0.3333333333333333,
                            "#9c179e"
                          ],
                          [
                            0.4444444444444444,
                            "#bd3786"
                          ],
                          [
                            0.5555555555555556,
                            "#d8576b"
                          ],
                          [
                            0.6666666666666666,
                            "#ed7953"
                          ],
                          [
                            0.7777777777777778,
                            "#fb9f3a"
                          ],
                          [
                            0.8888888888888888,
                            "#fdca26"
                          ],
                          [
                            1,
                            "#f0f921"
                          ]
                        ],
                        "type": "heatmapgl"
                      }
                    ],
                    "histogram": [
                      {
                        "marker": {
                          "pattern": {
                            "fillmode": "overlay",
                            "size": 10,
                            "solidity": 0.2
                          }
                        },
                        "type": "histogram"
                      }
                    ],
                    "histogram2d": [
                      {
                        "colorbar": {
                          "outlinewidth": 0,
                          "ticks": ""
                        },
                        "colorscale": [
                          [
                            0,
                            "#0d0887"
                          ],
                          [
                            0.1111111111111111,
                            "#46039f"
                          ],
                          [
                            0.2222222222222222,
                            "#7201a8"
                          ],
                          [
                            0.3333333333333333,
                            "#9c179e"
                          ],
                          [
                            0.4444444444444444,
                            "#bd3786"
                          ],
                          [
                            0.5555555555555556,
                            "#d8576b"
                          ],
                          [
                            0.6666666666666666,
                            "#ed7953"
                          ],
                          [
                            0.7777777777777778,
                            "#fb9f3a"
                          ],
                          [
                            0.8888888888888888,
                            "#fdca26"
                          ],
                          [
                            1,
                            "#f0f921"
                          ]
                        ],
                        "type": "histogram2d"
                      }
                    ],
                    "histogram2dcontour": [
                      {
                        "colorbar": {
                          "outlinewidth": 0,
                          "ticks": ""
                        },
                        "colorscale": [
                          [
                            0,
                            "#0d0887"
                          ],
                          [
                            0.1111111111111111,
                            "#46039f"
                          ],
                          [
                            0.2222222222222222,
                            "#7201a8"
                          ],
                          [
                            0.3333333333333333,
                            "#9c179e"
                          ],
                          [
                            0.4444444444444444,
                            "#bd3786"
                          ],
                          [
                            0.5555555555555556,
                            "#d8576b"
                          ],
                          [
                            0.6666666666666666,
                            "#ed7953"
                          ],
                          [
                            0.7777777777777778,
                            "#fb9f3a"
                          ],
                          [
                            0.8888888888888888,
                            "#fdca26"
                          ],
                          [
                            1,
                            "#f0f921"
                          ]
                        ],
                        "type": "histogram2dcontour"
                      }
                    ],
                    "mesh3d": [
                      {
                        "colorbar": {
                          "outlinewidth": 0,
                          "ticks": ""
                        },
                        "type": "mesh3d"
                      }
                    ],
                    "parcoords": [
                      {
                        "line": {
                          "colorbar": {
                            "outlinewidth": 0,
                            "ticks": ""
                          }
                        },
                        "type": "parcoords"
                      }
                    ],
                    "pie": [
                      {
                        "automargin": true,
                        "type": "pie"
                      }
                    ],
                    "scatter": [
                      {
                        "fillpattern": {
                          "fillmode": "overlay",
                          "size": 10,
                          "solidity": 0.2
                        },
                        "type": "scatter"
                      }
                    ],
                    "scatter3d": [
                      {
                        "line": {
                          "colorbar": {
                            "outlinewidth": 0,
                            "ticks": ""
                          }
                        },
                        "marker": {
                          "colorbar": {
                            "outlinewidth": 0,
                            "ticks": ""
                          }
                        },
                        "type": "scatter3d"
                      }
                    ],
                    "scattercarpet": [
                      {
                        "marker": {
                          "colorbar": {
                            "outlinewidth": 0,
                            "ticks": ""
                          }
                        },
                        "type": "scattercarpet"
                      }
                    ],
                    "scattergeo": [
                      {
                        "marker": {
                          "colorbar": {
                            "outlinewidth": 0,
                            "ticks": ""
                          }
                        },
                        "type": "scattergeo"
                      }
                    ],
                    "scattergl": [
                      {
                        "marker": {
                          "colorbar": {
                            "outlinewidth": 0,
                            "ticks": ""
                          }
                        },
                        "type": "scattergl"
                      }
                    ],
                    "scattermapbox": [
                      {
                        "marker": {
                          "colorbar": {
                            "outlinewidth": 0,
                            "ticks": ""
                          }
                        },
                        "type": "scattermapbox"
                      }
                    ],
                    "scatterpolar": [
                      {
                        "marker": {
                          "colorbar": {
                            "outlinewidth": 0,
                            "ticks": ""
                          }
                        },
                        "type": "scatterpolar"
                      }
                    ],
                    "scatterpolargl": [
                      {
                        "marker": {
                          "colorbar": {
                            "outlinewidth": 0,
                            "ticks": ""
                          }
                        },
                        "type": "scatterpolargl"
                      }
                    ],
                    "scatterternary": [
                      {
                        "marker": {
                          "colorbar": {
                            "outlinewidth": 0,
                            "ticks": ""
                          }
                        },
                        "type": "scatterternary"
                      }
                    ],
                    "surface": [
                      {
                        "colorbar": {
                          "outlinewidth": 0,
                          "ticks": ""
                        },
                        "colorscale": [
                          [
                            0,
                            "#0d0887"
                          ],
                          [
                            0.1111111111111111,
                            "#46039f"
                          ],
                          [
                            0.2222222222222222,
                            "#7201a8"
                          ],
                          [
                            0.3333333333333333,
                            "#9c179e"
                          ],
                          [
                            0.4444444444444444,
                            "#bd3786"
                          ],
                          [
                            0.5555555555555556,
                            "#d8576b"
                          ],
                          [
                            0.6666666666666666,
                            "#ed7953"
                          ],
                          [
                            0.7777777777777778,
                            "#fb9f3a"
                          ],
                          [
                            0.8888888888888888,
                            "#fdca26"
                          ],
                          [
                            1,
                            "#f0f921"
                          ]
                        ],
                        "type": "surface"
                      }
                    ],
                    "table": [
                      {
                        "cells": {
                          "fill": {
                            "color": "#EBF0F8"
                          },
                          "line": {
                            "color": "white"
                          }
                        },
                        "header": {
                          "fill": {
                            "color": "#C8D4E3"
                          },
                          "line": {
                            "color": "white"
                          }
                        },
                        "type": "table"
                      }
                    ]
                  },
                  "layout": {
                    "annotationdefaults": {
                      "arrowcolor": "#2a3f5f",
                      "arrowhead": 0,
                      "arrowwidth": 1
                    },
                    "autotypenumbers": "strict",
                    "coloraxis": {
                      "colorbar": {
                        "outlinewidth": 0,
                        "ticks": ""
                      }
                    },
                    "colorscale": {
                      "diverging": [
                        [
                          0,
                          "#8e0152"
                        ],
                        [
                          0.1,
                          "#c51b7d"
                        ],
                        [
                          0.2,
                          "#de77ae"
                        ],
                        [
                          0.3,
                          "#f1b6da"
                        ],
                        [
                          0.4,
                          "#fde0ef"
                        ],
                        [
                          0.5,
                          "#f7f7f7"
                        ],
                        [
                          0.6,
                          "#e6f5d0"
                        ],
                        [
                          0.7,
                          "#b8e186"
                        ],
                        [
                          0.8,
                          "#7fbc41"
                        ],
                        [
                          0.9,
                          "#4d9221"
                        ],
                        [
                          1,
                          "#276419"
                        ]
                      ],
                      "sequential": [
                        [
                          0,
                          "#0d0887"
                        ],
                        [
                          0.1111111111111111,
                          "#46039f"
                        ],
                        [
                          0.2222222222222222,
                          "#7201a8"
                        ],
                        [
                          0.3333333333333333,
                          "#9c179e"
                        ],
                        [
                          0.4444444444444444,
                          "#bd3786"
                        ],
                        [
                          0.5555555555555556,
                          "#d8576b"
                        ],
                        [
                          0.6666666666666666,
                          "#ed7953"
                        ],
                        [
                          0.7777777777777778,
                          "#fb9f3a"
                        ],
                        [
                          0.8888888888888888,
                          "#fdca26"
                        ],
                        [
                          1,
                          "#f0f921"
                        ]
                      ],
                      "sequentialminus": [
                        [
                          0,
                          "#0d0887"
                        ],
                        [
                          0.1111111111111111,
                          "#46039f"
                        ],
                        [
                          0.2222222222222222,
                          "#7201a8"
                        ],
                        [
                          0.3333333333333333,
                          "#9c179e"
                        ],
                        [
                          0.4444444444444444,
                          "#bd3786"
                        ],
                        [
                          0.5555555555555556,
                          "#d8576b"
                        ],
                        [
                          0.6666666666666666,
                          "#ed7953"
                        ],
                        [
                          0.7777777777777778,
                          "#fb9f3a"
                        ],
                        [
                          0.8888888888888888,
                          "#fdca26"
                        ],
                        [
                          1,
                          "#f0f921"
                        ]
                      ]
                    },
                    "colorway": [
                      "#636efa",
                      "#EF553B",
                      "#00cc96",
                      "#ab63fa",
                      "#FFA15A",
                      "#19d3f3",
                      "#FF6692",
                      "#B6E880",
                      "#FF97FF",
                      "#FECB52"
                    ],
                    "font": {
                      "color": "#2a3f5f"
                    },
                    "geo": {
                      "bgcolor": "white",
                      "lakecolor": "white",
                      "landcolor": "#E5ECF6",
                      "showlakes": true,
                      "showland": true,
                      "subunitcolor": "white"
                    },
                    "hoverlabel": {
                      "align": "left"
                    },
                    "hovermode": "closest",
                    "mapbox": {
                      "style": "light"
                    },
                    "paper_bgcolor": "white",
                    "plot_bgcolor": "#E5ECF6",
                    "polar": {
                      "angularaxis": {
                        "gridcolor": "white",
                        "linecolor": "white",
                        "ticks": ""
                      },
                      "bgcolor": "#E5ECF6",
                      "radialaxis": {
                        "gridcolor": "white",
                        "linecolor": "white",
                        "ticks": ""
                      }
                    },
                    "scene": {
                      "xaxis": {
                        "backgroundcolor": "#E5ECF6",
                        "gridcolor": "white",
                        "gridwidth": 2,
                        "linecolor": "white",
                        "showbackground": true,
                        "ticks": "",
                        "zerolinecolor": "white"
                      },
                      "yaxis": {
                        "backgroundcolor": "#E5ECF6",
                        "gridcolor": "white",
                        "gridwidth": 2,
                        "linecolor": "white",
                        "showbackground": true,
                        "ticks": "",
                        "zerolinecolor": "white"
                      },
                      "zaxis": {
                        "backgroundcolor": "#E5ECF6",
                        "gridcolor": "white",
                        "gridwidth": 2,
                        "linecolor": "white",
                        "showbackground": true,
                        "ticks": "",
                        "zerolinecolor": "white"
                      }
                    },
                    "shapedefaults": {
                      "line": {
                        "color": "#2a3f5f"
                      }
                    },
                    "ternary": {
                      "aaxis": {
                        "gridcolor": "white",
                        "linecolor": "white",
                        "ticks": ""
                      },
                      "baxis": {
                        "gridcolor": "white",
                        "linecolor": "white",
                        "ticks": ""
                      },
                      "bgcolor": "#E5ECF6",
                      "caxis": {
                        "gridcolor": "white",
                        "linecolor": "white",
                        "ticks": ""
                      }
                    },
                    "title": {
                      "x": 0.05
                    },
                    "xaxis": {
                      "automargin": true,
                      "gridcolor": "white",
                      "linecolor": "white",
                      "ticks": "",
                      "title": {
                        "standoff": 15
                      },
                      "zerolinecolor": "white",
                      "zerolinewidth": 2
                    },
                    "yaxis": {
                      "automargin": true,
                      "gridcolor": "white",
                      "linecolor": "white",
                      "ticks": "",
                      "title": {
                        "standoff": 15
                      },
                      "zerolinecolor": "white",
                      "zerolinewidth": 2
                    }
                  }
                },
                "xaxis": {
                  "anchor": "y",
                  "domain": [
                    0,
                    1
                  ],
                  "range": [
                    0,
                    0.5
                  ],
                  "title": {
                    "text": "Logit Diff"
                  }
                },
                "yaxis": {
                  "anchor": "x",
                  "domain": [
                    0,
                    1
                  ],
                  "title": {
                    "text": "Attention Head"
                  }
                }
              }
            }
          },
          "metadata": {},
          "output_type": "display_data"
        }
      ],
      "source": [
        "plot_attention_heads(-results['z'].cuda(), top_n=15, range_x=[0, 0.5])"
      ]
    },
    {
      "cell_type": "code",
      "execution_count": 66,
      "metadata": {},
      "outputs": [
        {
          "data": {
            "text/html": [
              "<div id=\"circuits-vis-57c84672-5ff6\" style=\"margin: 15px 0;\"/>\n",
              "    <script crossorigin type=\"module\">\n",
              "    import { render, AttentionHeads } from \"https://unpkg.com/circuitsvis@1.39.1/dist/cdn/esm.js\";\n",
              "    render(\n",
              "      \"circuits-vis-57c84672-5ff6\",\n",
              "      AttentionHeads,\n",
              "      {\"attention\": [[[1.0, 0.0, 0.0, 0.0, 0.0, 0.0, 0.0, 0.0, 0.0, 0.0, 0.0, 0.0, 0.0, 0.0, 0.0, 0.0, 0.0, 0.0, 0.0], [0.9545679092407227, 0.04543216526508331, 0.0, 0.0, 0.0, 0.0, 0.0, 0.0, 0.0, 0.0, 0.0, 0.0, 0.0, 0.0, 0.0, 0.0, 0.0, 0.0, 0.0], [0.949978232383728, 0.04338586702942848, 0.006635934114456177, 0.0, 0.0, 0.0, 0.0, 0.0, 0.0, 0.0, 0.0, 0.0, 0.0, 0.0, 0.0, 0.0, 0.0, 0.0, 0.0], [0.8272727131843567, 0.0620134174823761, 0.04478607699275017, 0.06592783331871033, 0.0, 0.0, 0.0, 0.0, 0.0, 0.0, 0.0, 0.0, 0.0, 0.0, 0.0, 0.0, 0.0, 0.0, 0.0], [0.798288106918335, 0.025558803230524063, 0.061411187052726746, 0.030133793130517006, 0.08460813760757446, 0.0, 0.0, 0.0, 0.0, 0.0, 0.0, 0.0, 0.0, 0.0, 0.0, 0.0, 0.0, 0.0, 0.0], [0.5502420663833618, 0.03089275024831295, 0.08229267597198486, 0.06049206480383873, 0.13245351612567902, 0.14362692832946777, 0.0, 0.0, 0.0, 0.0, 0.0, 0.0, 0.0, 0.0, 0.0, 0.0, 0.0, 0.0, 0.0], [0.8233155608177185, 0.05958457663655281, 0.043199554085731506, 0.019723931327462196, 0.023157741874456406, 0.013609739951789379, 0.017408888787031174, 0.0, 0.0, 0.0, 0.0, 0.0, 0.0, 0.0, 0.0, 0.0, 0.0, 0.0, 0.0], [0.4291692078113556, 0.010206243954598904, 0.025867925956845284, 0.017364930361509323, 0.06976456195116043, 0.02604459412395954, 0.3625713884830475, 0.05901113152503967, 0.0, 0.0, 0.0, 0.0, 0.0, 0.0, 0.0, 0.0, 0.0, 0.0, 0.0], [0.30559492111206055, 0.0051740482449531555, 0.4561153054237366, 0.012703925371170044, 0.006367454770952463, 0.016294127330183983, 0.11744934320449829, 0.04996316134929657, 0.030337821692228317, 0.0, 0.0, 0.0, 0.0, 0.0, 0.0, 0.0, 0.0, 0.0, 0.0], [0.8418397903442383, 0.010418676771223545, 0.006673817988485098, 0.0057591283693909645, 0.03194044902920723, 0.005629184655845165, 0.058154646307229996, 0.023050345480442047, 0.005053780507296324, 0.011480115354061127, 0.0, 0.0, 0.0, 0.0, 0.0, 0.0, 0.0, 0.0, 0.0], [0.7870348691940308, 0.01250366773456335, 0.04334593564271927, 0.007927319034934044, 0.00403633713722229, 0.00803689006716013, 0.020247435197234154, 0.09543755650520325, 0.006249336060136557, 0.011533417738974094, 0.003647264325991273, 0.0, 0.0, 0.0, 0.0, 0.0, 0.0, 0.0, 0.0], [0.7931985855102539, 0.010191205888986588, 0.01878688856959343, 0.01125773973762989, 0.013983006589114666, 0.002289871219545603, 0.021532779559493065, 0.017102856189012527, 0.002071488182991743, 0.0043126256205141544, 0.0041246069595217705, 0.10114839673042297, 0.0, 0.0, 0.0, 0.0, 0.0, 0.0, 0.0], [0.8218004107475281, 0.011714447289705276, 0.012581911869347095, 0.005464585032314062, 0.005090947728604078, 0.002274070866405964, 0.017854362726211548, 0.023978203535079956, 0.0034481012262403965, 0.002932771807536483, 0.003391873324289918, 0.058456383645534515, 0.031011978164315224, 0.0, 0.0, 0.0, 0.0, 0.0, 0.0], [0.7765466570854187, 0.011860078200697899, 0.0028723760042339563, 0.008075992576777935, 0.013747786171734333, 0.0010939042549580336, 0.00952103827148676, 0.007637633942067623, 0.0008384712273254991, 0.00035992483026348054, 0.001565069891512394, 0.06145277991890907, 0.016689257696270943, 0.08773898333311081, 0.0, 0.0, 0.0, 0.0, 0.0], [0.5556311011314392, 0.017775150015950203, 0.007109784986823797, 0.016846299171447754, 0.009352082386612892, 0.0033878604881465435, 0.01913868449628353, 0.005956192500889301, 0.0014778710901737213, 0.0009951414540410042, 0.0019309248309582472, 0.09317559003829956, 0.037095505744218826, 0.12890194356441498, 0.10122588276863098, 0.0, 0.0, 0.0, 0.0], [0.5307023525238037, 0.012216052040457726, 0.00519002228975296, 0.010945461690425873, 0.018624726682901382, 0.006449700333178043, 0.1104457899928093, 0.015970779582858086, 0.0030007881578058004, 0.0050066988915205, 0.0063892537727952, 0.0418325774371624, 0.019742494449019432, 0.08016622811555862, 0.055094312876462936, 0.07822277396917343, 0.0, 0.0, 0.0], [0.4867786765098572, 0.007167992182075977, 0.027761541306972504, 0.009564588777720928, 0.08571963012218475, 0.013568242080509663, 0.1629347801208496, 0.021604517474770546, 0.00495518883690238, 0.04569190740585327, 0.021963296458125114, 0.022170858457684517, 0.007629414554685354, 0.018391672521829605, 0.01921052299439907, 0.018359387293457985, 0.026527803391218185, 0.0, 0.0], [0.33179059624671936, 0.005971094593405724, 0.052946630865335464, 0.01193754281848669, 0.02823585830628872, 0.035272859036922455, 0.20406828820705414, 0.022659029811620712, 0.007464263588190079, 0.1076636090874672, 0.024697009474039078, 0.017219435423612595, 0.0028612653259187937, 0.01035022921860218, 0.04074183478951454, 0.025558732450008392, 0.04005103185772896, 0.030510684475302696, 0.0], [0.21403303742408752, 0.005804889369755983, 0.03628583252429962, 0.013417522422969341, 0.027502482756972313, 0.035332463681697845, 0.3036018908023834, 0.022123035043478012, 0.012379368767142296, 0.13668859004974365, 0.031953006982803345, 0.01436709240078926, 0.0023979877587407827, 0.006070541217923164, 0.018997905775904655, 0.01196263637393713, 0.044407088309526443, 0.02259266935288906, 0.0400819294154644]], [[1.0, 0.0, 0.0, 0.0, 0.0, 0.0, 0.0, 0.0, 0.0, 0.0, 0.0, 0.0, 0.0, 0.0, 0.0, 0.0, 0.0, 0.0, 0.0], [0.9410985708236694, 0.05890141800045967, 0.0, 0.0, 0.0, 0.0, 0.0, 0.0, 0.0, 0.0, 0.0, 0.0, 0.0, 0.0, 0.0, 0.0, 0.0, 0.0, 0.0], [0.9425778985023499, 0.05687396228313446, 0.0005481482367031276, 0.0, 0.0, 0.0, 0.0, 0.0, 0.0, 0.0, 0.0, 0.0, 0.0, 0.0, 0.0, 0.0, 0.0, 0.0, 0.0], [0.8860301971435547, 0.09114611148834229, 0.002263875911012292, 0.020559774711728096, 0.0, 0.0, 0.0, 0.0, 0.0, 0.0, 0.0, 0.0, 0.0, 0.0, 0.0, 0.0, 0.0, 0.0, 0.0], [0.9784236550331116, 0.006547891069203615, 0.0004391922557260841, 0.001506282133050263, 0.013083118945360184, 0.0, 0.0, 0.0, 0.0, 0.0, 0.0, 0.0, 0.0, 0.0, 0.0, 0.0, 0.0, 0.0, 0.0], [0.8574913144111633, 0.01279744878411293, 0.0006927315844222903, 0.009483624249696732, 0.09960982948541641, 0.019925039261579514, 0.0, 0.0, 0.0, 0.0, 0.0, 0.0, 0.0, 0.0, 0.0, 0.0, 0.0, 0.0, 0.0], [0.9442508816719055, 0.009264325723052025, 0.0005073513020761311, 0.0012373196659609675, 0.013338472694158554, 0.002486195880919695, 0.02891554869711399, 0.0, 0.0, 0.0, 0.0, 0.0, 0.0, 0.0, 0.0, 0.0, 0.0, 0.0, 0.0], [0.6502306461334229, 0.009374265559017658, 0.001832725596614182, 0.005301622208207846, 0.06159931793808937, 0.009682612493634224, 0.22644418478012085, 0.03553465008735657, 0.0, 0.0, 0.0, 0.0, 0.0, 0.0, 0.0, 0.0, 0.0, 0.0, 0.0], [0.6479001641273499, 0.009899262338876724, 0.05160486325621605, 0.01308609452098608, 0.05244102329015732, 0.04339683800935745, 0.12414584308862686, 0.04819066449999809, 0.009335230104625225, 0.0, 0.0, 0.0, 0.0, 0.0, 0.0, 0.0, 0.0, 0.0, 0.0], [0.41798093914985657, 0.01657179556787014, 0.0015903309686109424, 0.006000576540827751, 0.229815274477005, 0.011300507932901382, 0.2765142321586609, 0.028467975556850433, 0.004665523301810026, 0.0070928893983364105, 0.0, 0.0, 0.0, 0.0, 0.0, 0.0, 0.0, 0.0, 0.0], [0.8739626407623291, 0.004621637053787708, 0.0026755535509437323, 0.001860131393186748, 0.026013724505901337, 0.005555347539484501, 0.05053497105836868, 0.013220267370343208, 0.0036430808249861, 0.0072568077594041824, 0.010655835270881653, 0.0, 0.0, 0.0, 0.0, 0.0, 0.0, 0.0, 0.0], [0.7699921131134033, 0.037399064749479294, 0.0026621215511113405, 0.004855547100305557, 0.04556034505367279, 0.0061069997027516365, 0.0716424211859703, 0.009633027948439121, 0.00853760540485382, 0.006051910109817982, 0.00970603059977293, 0.027852939441800117, 0.0, 0.0, 0.0, 0.0, 0.0, 0.0, 0.0], [0.8425195217132568, 0.02497817948460579, 0.002060781931504607, 0.0034032876137644053, 0.027935270220041275, 0.004818956833332777, 0.03822428733110428, 0.020547395572066307, 0.005403902847319841, 0.0034434080589562654, 0.006108527071774006, 0.017376825213432312, 0.003179707797244191, 0.0, 0.0, 0.0, 0.0, 0.0, 0.0], [0.8724931478500366, 0.027632372453808784, 0.00015536791761405766, 0.0006887026247568429, 0.024640481919050217, 0.0006930895615369081, 0.019748026505112648, 0.005311120301485062, 0.002133201342076063, 0.0012759276432916522, 0.004020637832581997, 0.012032484635710716, 0.004047100897878408, 0.025128230452537537, 0.0, 0.0, 0.0, 0.0, 0.0], [0.7926722764968872, 0.012557024136185646, 0.00036692924913950264, 0.0027666543610394, 0.02091979794204235, 0.0020866929553449154, 0.034745506942272186, 0.007945927791297436, 0.001895840629003942, 0.002234557643532753, 0.00373619282618165, 0.023432927206158638, 0.0033480110578238964, 0.05065205320715904, 0.04063965752720833, 0.0, 0.0, 0.0, 0.0], [0.5201655030250549, 0.03114342875778675, 0.000385135441320017, 0.0025994922034442425, 0.07243353128433228, 0.003940142225474119, 0.19439423084259033, 0.014463094063103199, 0.004331404808908701, 0.007834880612790585, 0.021484604105353355, 0.024987507611513138, 0.0019583411049097776, 0.02480481006205082, 0.05997729301452637, 0.015096548944711685, 0.0, 0.0, 0.0], [0.7046800851821899, 0.01575448177754879, 0.00040647279820404947, 0.0010001009795814753, 0.0714711844921112, 0.003119437489658594, 0.07885485887527466, 0.008766104467213154, 0.004918853752315044, 0.0062465849332511425, 0.012335050851106644, 0.019822601228952408, 0.0009649877902120352, 0.011341586709022522, 0.03228634223341942, 0.015125403180718422, 0.012905877083539963, 0.0, 0.0], [0.6668349504470825, 0.004944544285535812, 0.00021364189160522074, 0.0006110604736022651, 0.012921786867082119, 0.0022907177917659283, 0.11473124474287033, 0.01256401464343071, 0.0018493528477847576, 0.011883129365742207, 0.007439340930432081, 0.027445439249277115, 0.0006862538866698742, 0.019758716225624084, 0.05232948064804077, 0.028743958100676537, 0.014344264753162861, 0.02040807716548443, 0.0], [0.40240898728370667, 0.0067207096144557, 0.00020660486188717186, 0.0011583769228309393, 0.044457439333200455, 0.0020615423563867807, 0.24171015620231628, 0.01651618629693985, 0.002248323755338788, 0.021233946084976196, 0.02029913291335106, 0.031819943338632584, 0.0007458498585037887, 0.012859941460192204, 0.03408859297633171, 0.01819005236029625, 0.035486094653606415, 0.09359750896692276, 0.014190640300512314]], [[1.0, 0.0, 0.0, 0.0, 0.0, 0.0, 0.0, 0.0, 0.0, 0.0, 0.0, 0.0, 0.0, 0.0, 0.0, 0.0, 0.0, 0.0, 0.0], [0.9808017611503601, 0.019198263064026833, 0.0, 0.0, 0.0, 0.0, 0.0, 0.0, 0.0, 0.0, 0.0, 0.0, 0.0, 0.0, 0.0, 0.0, 0.0, 0.0, 0.0], [0.809370756149292, 0.12914429605007172, 0.06148495152592659, 0.0, 0.0, 0.0, 0.0, 0.0, 0.0, 0.0, 0.0, 0.0, 0.0, 0.0, 0.0, 0.0, 0.0, 0.0, 0.0], [0.7408996224403381, 0.03184487298130989, 0.18894842267036438, 0.03830710053443909, 0.0, 0.0, 0.0, 0.0, 0.0, 0.0, 0.0, 0.0, 0.0, 0.0, 0.0, 0.0, 0.0, 0.0, 0.0], [0.6571775078773499, 0.01959921419620514, 0.14520736038684845, 0.11942016333341599, 0.0585956908762455, 0.0, 0.0, 0.0, 0.0, 0.0, 0.0, 0.0, 0.0, 0.0, 0.0, 0.0, 0.0, 0.0, 0.0], [0.23901350796222687, 0.047397252172231674, 0.2775973677635193, 0.1185033842921257, 0.24430511891841888, 0.07318335026502609, 0.0, 0.0, 0.0, 0.0, 0.0, 0.0, 0.0, 0.0, 0.0, 0.0, 0.0, 0.0, 0.0], [0.36266955733299255, 0.024932071566581726, 0.27804893255233765, 0.0823998898267746, 0.07381399720907211, 0.13305087387561798, 0.045084644109010696, 0.0, 0.0, 0.0, 0.0, 0.0, 0.0, 0.0, 0.0, 0.0, 0.0, 0.0, 0.0], [0.44999873638153076, 0.05274583399295807, 0.11006879061460495, 0.05916377156972885, 0.06294196099042892, 0.04885128512978554, 0.20021332800388336, 0.016016334295272827, 0.0, 0.0, 0.0, 0.0, 0.0, 0.0, 0.0, 0.0, 0.0, 0.0, 0.0], [0.31217631697654724, 0.008346900343894958, 0.02166186459362507, 0.011952864937484264, 0.03678777813911438, 0.024250686168670654, 0.06261960417032242, 0.4466853439807892, 0.07551862299442291, 0.0, 0.0, 0.0, 0.0, 0.0, 0.0, 0.0, 0.0, 0.0, 0.0], [0.32280436158180237, 0.011951591819524765, 0.006673001684248447, 0.009327378123998642, 0.02935739792883396, 0.015718325972557068, 0.009125596843659878, 0.1760745495557785, 0.37907207012176514, 0.03989574313163757, 0.0, 0.0, 0.0, 0.0, 0.0, 0.0, 0.0, 0.0, 0.0], [0.2221415489912033, 0.011985047720372677, 0.014407914131879807, 0.006434977054595947, 0.02225012145936489, 0.011481712572276592, 0.018045783042907715, 0.11954154819250107, 0.22700272500514984, 0.2970374524593353, 0.049671150743961334, 0.0, 0.0, 0.0, 0.0, 0.0, 0.0, 0.0, 0.0], [0.3223709166049957, 0.02469228021800518, 0.006618271581828594, 0.01277404185384512, 0.038045819848775864, 0.007307331543415785, 0.08418380469083786, 0.1924293339252472, 0.03183900937438011, 0.05281083285808563, 0.04652854800224304, 0.1803997904062271, 0.0, 0.0, 0.0, 0.0, 0.0, 0.0, 0.0], [0.5648740530014038, 0.00715870875865221, 0.0026688689831644297, 0.002884050365537405, 0.014174936339259148, 0.003543832805007696, 0.015588128007948399, 0.028980979695916176, 0.005719063337892294, 0.010401440784335136, 0.01926293782889843, 0.313389390707016, 0.011353658512234688, 0.0, 0.0, 0.0, 0.0, 0.0, 0.0], [0.7898798584938049, 0.002128155902028084, 0.0026383432559669018, 0.0019439400639384985, 0.015711385756731033, 0.0022464070934802294, 0.021652989089488983, 0.031053412705659866, 0.0013461761409416795, 0.004914691671729088, 0.007755638565868139, 0.07525472342967987, 0.011521941050887108, 0.031952254474163055, 0.0, 0.0, 0.0, 0.0, 0.0], [0.8158022165298462, 0.0027439689729362726, 0.0018962920876219869, 0.004803490824997425, 0.008406015112996101, 0.0006846514879725873, 0.00245486362837255, 0.001515725627541542, 0.0005767463007941842, 0.0009554029675200582, 0.0010750103974714875, 0.016267528757452965, 0.013138383626937866, 0.055557724088430405, 0.07412201166152954, 0.0, 0.0, 0.0, 0.0], [0.7220050692558289, 0.0024874869268387556, 0.002077157609164715, 0.0017259296728298068, 0.008357691578567028, 0.0007219843682833016, 0.005620329175144434, 0.000803626433480531, 0.00024234862939920276, 0.0008953966316767037, 0.0013206881703808904, 0.006789654493331909, 0.006424386985599995, 0.061951763927936554, 0.11542339622974396, 0.06315309554338455, 0.0, 0.0, 0.0], [0.6833842992782593, 0.0009614042937755585, 0.005031070206314325, 0.0015297093195840716, 0.008873868733644485, 0.0018780267564579844, 0.007567387539893389, 0.003031573724001646, 0.0011083465069532394, 0.007313186302781105, 0.0037113982252776623, 0.02685845084488392, 0.006438105367124081, 0.021718895062804222, 0.04285512864589691, 0.10818915069103241, 0.06955000758171082, 0.0, 0.0], [0.4926622211933136, 0.0019492926076054573, 0.005913012195378542, 0.005151993129402399, 0.006497664377093315, 0.0025755497626960278, 0.006841366179287434, 0.0032083005644381046, 0.0030988911166787148, 0.008665366098284721, 0.0031468647066503763, 0.013040370307862759, 0.012108826078474522, 0.008023903705179691, 0.015718819573521614, 0.06006500869989395, 0.2671935260295868, 0.08413903415203094, 0.0], [0.28248709440231323, 0.0014023410622030497, 0.005555135663598776, 0.003175698919221759, 0.017793143168091774, 0.0018477258272469044, 0.00456364406272769, 0.002982018981128931, 0.005804050248116255, 0.00709689874202013, 0.0036199253518134356, 0.014105306938290596, 0.0026019776705652475, 0.008176597766578197, 0.02480114996433258, 0.07063911110162735, 0.14583304524421692, 0.32702288031578064, 0.07049217075109482]], [[1.0, 0.0, 0.0, 0.0, 0.0, 0.0, 0.0, 0.0, 0.0, 0.0, 0.0, 0.0, 0.0, 0.0, 0.0, 0.0, 0.0, 0.0, 0.0], [0.985950767993927, 0.014049307443201542, 0.0, 0.0, 0.0, 0.0, 0.0, 0.0, 0.0, 0.0, 0.0, 0.0, 0.0, 0.0, 0.0, 0.0, 0.0, 0.0, 0.0], [0.9963570237159729, 0.0022372156381607056, 0.001405755989253521, 0.0, 0.0, 0.0, 0.0, 0.0, 0.0, 0.0, 0.0, 0.0, 0.0, 0.0, 0.0, 0.0, 0.0, 0.0, 0.0], [0.9846460223197937, 0.002192228101193905, 0.0013491578865796328, 0.011812569573521614, 0.0, 0.0, 0.0, 0.0, 0.0, 0.0, 0.0, 0.0, 0.0, 0.0, 0.0, 0.0, 0.0, 0.0, 0.0], [0.9733906984329224, 0.001758540514856577, 0.0016580465016886592, 0.0031692995689809322, 0.020023399963974953, 0.0, 0.0, 0.0, 0.0, 0.0, 0.0, 0.0, 0.0, 0.0, 0.0, 0.0, 0.0, 0.0, 0.0], [0.9677450656890869, 0.0005837390199303627, 0.0014137442922219634, 0.0020011221058666706, 0.01164926216006279, 0.0166070144623518, 0.0, 0.0, 0.0, 0.0, 0.0, 0.0, 0.0, 0.0, 0.0, 0.0, 0.0, 0.0, 0.0], [0.8591257929801941, 0.0009057389688678086, 0.0033122547902166843, 0.0033448904287070036, 0.02282259240746498, 0.004403602797538042, 0.10608506202697754, 0.0, 0.0, 0.0, 0.0, 0.0, 0.0, 0.0, 0.0, 0.0, 0.0, 0.0, 0.0], [0.6653226017951965, 0.002560376189649105, 0.005389466881752014, 0.0034389980137348175, 0.0042343237437307835, 0.0080162538215518, 0.27255168557167053, 0.038486309349536896, 0.0, 0.0, 0.0, 0.0, 0.0, 0.0, 0.0, 0.0, 0.0, 0.0, 0.0], [0.6890536546707153, 0.006619255989789963, 0.21612896025180817, 0.006588717456907034, 0.007897632196545601, 0.027430027723312378, 0.023359932005405426, 0.006509876344352961, 0.016411881893873215, 0.0, 0.0, 0.0, 0.0, 0.0, 0.0, 0.0, 0.0, 0.0, 0.0], [0.8560376167297363, 0.0028024083003401756, 0.002993667498230934, 0.005626750644296408, 0.014546442776918411, 0.001988166244700551, 0.1013658344745636, 0.0018496981356292963, 0.0003706511633936316, 0.012418677099049091, 0.0, 0.0, 0.0, 0.0, 0.0, 0.0, 0.0, 0.0, 0.0], [0.6620399951934814, 0.0031178852077573538, 0.012768144719302654, 0.00621419120579958, 0.019809292629361153, 0.015453954227268696, 0.2263382077217102, 0.006980100180953741, 0.0019502363866195083, 0.03809306398034096, 0.007234961725771427, 0.0, 0.0, 0.0, 0.0, 0.0, 0.0, 0.0, 0.0], [0.7919125556945801, 0.008224411867558956, 0.006624012719839811, 0.007298953831195831, 0.02323245443403721, 0.002470555482432246, 0.12735070288181305, 0.005069288890808821, 0.0022660596296191216, 0.013307014480233192, 0.00482165114954114, 0.007422357331961393, 0.0, 0.0, 0.0, 0.0, 0.0, 0.0, 0.0], [0.9190811514854431, 0.005554242990911007, 0.002337153535336256, 0.0023178826086223125, 0.005601989105343819, 0.002559950342401862, 0.047435883432626724, 0.0018081450834870338, 0.0006303100381046534, 0.004079251084476709, 0.0008837477071210742, 0.005804902873933315, 0.0019053503638133407, 0.0, 0.0, 0.0, 0.0, 0.0, 0.0], [0.898840606212616, 0.017602136358618736, 0.003098543267697096, 0.004985040985047817, 0.014619936235249043, 0.002495597582310438, 0.0448109395802021, 0.0012068990617990494, 0.0005024944548495114, 0.002301399130374193, 0.001230146735906601, 0.0021234203595668077, 0.0035043805837631226, 0.002678372198715806, 0.0, 0.0, 0.0, 0.0, 0.0], [0.8149930238723755, 0.011118226684629917, 0.003555632196366787, 0.0034811999648809433, 0.032945215702056885, 0.003812834620475769, 0.06473352015018463, 0.000742714386433363, 0.0002133920497726649, 0.001581861055456102, 0.0008966235327534378, 0.0017178867710754275, 0.002100556856021285, 0.0016801970778033137, 0.056427277624607086, 0.0, 0.0, 0.0, 0.0], [0.5398682951927185, 0.007947986014187336, 0.0045368606224656105, 0.003919759299606085, 0.017775211483240128, 0.0023735533468425274, 0.3543471395969391, 0.002454181667417288, 0.0009492823737673461, 0.010930951684713364, 0.0032635019160807133, 0.002388118766248226, 0.0029574118088930845, 0.003666918957605958, 0.03847125545144081, 0.004149577580392361, 0.0, 0.0, 0.0], [0.732378363609314, 0.0030595401767641306, 0.001533217029646039, 0.002802546601742506, 0.12256769835948944, 0.009439446032047272, 0.0938480868935585, 0.0017950218170881271, 0.0003154191072098911, 0.003283683443441987, 0.001338205300271511, 0.0011837099445983768, 0.00043139804620295763, 0.0019118096679449081, 0.018327442929148674, 0.0021720852237194777, 0.003612200031057, 0.0, 0.0], [0.6500051617622375, 0.0021245067473500967, 0.003099677851423621, 0.0016277326503768563, 0.019733529537916183, 0.024768292903900146, 0.23628178238868713, 0.0024139198940247297, 0.0005747898248955607, 0.020680055022239685, 0.002124001272022724, 0.002057141624391079, 0.00031734613003209233, 0.0007272918592207134, 0.022999232634902, 0.0029675839468836784, 0.00147032062523067, 0.006027567200362682, 0.0], [0.3411310315132141, 0.0005026448052376509, 0.0013927750987932086, 0.0006770668551325798, 0.004726720042526722, 0.004782498348504305, 0.6221944689750671, 0.0020914352498948574, 0.00011217489372938871, 0.0028175576590001583, 0.0011680813040584326, 0.0008377376943826675, 0.00027846841840073466, 0.0010702889412641525, 0.006265145260840654, 0.0017072124173864722, 0.0008774707093834877, 0.0013471234124153852, 0.006020042579621077]], [[1.0, 0.0, 0.0, 0.0, 0.0, 0.0, 0.0, 0.0, 0.0, 0.0, 0.0, 0.0, 0.0, 0.0, 0.0, 0.0, 0.0, 0.0, 0.0], [0.9855955839157104, 0.01440445613116026, 0.0, 0.0, 0.0, 0.0, 0.0, 0.0, 0.0, 0.0, 0.0, 0.0, 0.0, 0.0, 0.0, 0.0, 0.0, 0.0, 0.0], [0.9799342751502991, 0.011392544023692608, 0.008673204109072685, 0.0, 0.0, 0.0, 0.0, 0.0, 0.0, 0.0, 0.0, 0.0, 0.0, 0.0, 0.0, 0.0, 0.0, 0.0, 0.0], [0.8351650834083557, 0.04418480023741722, 0.0019223822746425867, 0.11872772872447968, 0.0, 0.0, 0.0, 0.0, 0.0, 0.0, 0.0, 0.0, 0.0, 0.0, 0.0, 0.0, 0.0, 0.0, 0.0], [0.9564628601074219, 0.0030157319270074368, 0.00012018374400213361, 0.0031036613509058952, 0.03729752078652382, 0.0, 0.0, 0.0, 0.0, 0.0, 0.0, 0.0, 0.0, 0.0, 0.0, 0.0, 0.0, 0.0, 0.0], [0.9321370720863342, 0.0045364610850811005, 0.0007338422001339495, 0.01720241643488407, 0.03230533003807068, 0.013084959238767624, 0.0, 0.0, 0.0, 0.0, 0.0, 0.0, 0.0, 0.0, 0.0, 0.0, 0.0, 0.0, 0.0], [0.908980667591095, 0.005876148119568825, 0.0003151878190692514, 0.008080089464783669, 0.022834010422229767, 0.004768389742821455, 0.049145519733428955, 0.0, 0.0, 0.0, 0.0, 0.0, 0.0, 0.0, 0.0, 0.0, 0.0, 0.0, 0.0], [0.9475236535072327, 0.005443241447210312, 0.0009779378306120634, 0.009209982119500637, 0.004861467983573675, 0.002339162863790989, 0.01727200299501419, 0.012372525408864021, 0.0, 0.0, 0.0, 0.0, 0.0, 0.0, 0.0, 0.0, 0.0, 0.0, 0.0], [0.8661635518074036, 0.011410304345190525, 0.034923892468214035, 0.040650010108947754, 0.0020252123940736055, 0.0007373906555585563, 0.004573993384838104, 0.004127333872020245, 0.03538817539811134, 0.0, 0.0, 0.0, 0.0, 0.0, 0.0, 0.0, 0.0, 0.0, 0.0], [0.7543883919715881, 0.014904854819178581, 0.006315539591014385, 0.026722518727183342, 0.03709486499428749, 0.0036536119878292084, 0.024264555424451828, 0.05566029250621796, 0.03153865039348602, 0.045456625521183014, 0.0, 0.0, 0.0, 0.0, 0.0, 0.0, 0.0, 0.0, 0.0], [0.8054869771003723, 0.001989885000512004, 0.00027745962142944336, 0.003183386055752635, 0.042305782437324524, 0.009228534996509552, 0.08229661732912064, 0.039437804371118546, 0.0011993590742349625, 0.002663605846464634, 0.011930630542337894, 0.0, 0.0, 0.0, 0.0, 0.0, 0.0, 0.0, 0.0], [0.8458711504936218, 0.0029360316693782806, 0.000472753046778962, 0.005140277091413736, 0.012749545276165009, 0.0023758849129080772, 0.03367951139807701, 0.011136626824736595, 0.00632141251116991, 0.005549125373363495, 0.007792982738465071, 0.06597477197647095, 0.0, 0.0, 0.0, 0.0, 0.0, 0.0, 0.0], [0.9337999820709229, 0.006627160590142012, 0.0010219878749921918, 0.007356538437306881, 0.007630693260580301, 0.0006886397022753954, 0.005171912722289562, 0.001985501265153289, 0.004865949507802725, 0.003207431174814701, 0.0029766871593892574, 0.011647290550172329, 0.013020248152315617, 0.0, 0.0, 0.0, 0.0, 0.0, 0.0], [0.9370386600494385, 0.0054638502188026905, 0.00021710841974709183, 0.0033669814001768827, 0.014205795712769032, 0.00037851784145459533, 0.003706837072968483, 0.0008521029958501458, 0.0012533807894214988, 0.002791118109598756, 0.0027805520221590996, 0.012754770927131176, 0.0025087466929107904, 0.012681590393185616, 0.0, 0.0, 0.0, 0.0, 0.0], [0.9331551194190979, 0.019335148856043816, 0.0006190654239617288, 0.006512056104838848, 0.004907594993710518, 0.0008181033190339804, 0.001033080741763115, 0.0006502619944512844, 0.0037216206546872854, 0.0017696868162602186, 0.0006223795935511589, 0.003915697801858187, 0.005590969230979681, 0.008764303289353848, 0.008584924042224884, 0.0, 0.0, 0.0, 0.0], [0.8479766249656677, 0.00339381187222898, 0.00017727263912092894, 0.003634397406131029, 0.02447318844497204, 0.0018644119845703244, 0.04266256466507912, 0.012833680026233196, 0.002203176496550441, 0.004229290410876274, 0.013600556179881096, 0.020664667710661888, 0.0026993060018867254, 0.008489305153489113, 0.003962608519941568, 0.007135065738111734, 0.0, 0.0, 0.0], [0.4758417308330536, 0.02991708181798458, 0.0005678448360413313, 0.005578469950705767, 0.23725280165672302, 0.020281914621591568, 0.026340240612626076, 0.006605258211493492, 0.004183062352240086, 0.0008721103076823056, 0.033327944576740265, 0.025210939347743988, 0.006277307868003845, 0.02592257224023342, 0.015764396637678146, 0.042700737714767456, 0.04335561767220497, 0.0, 0.0], [0.5453507900238037, 0.002334740711376071, 0.00013117451453581452, 0.0022650861646980047, 0.05152468383312225, 0.02376236952841282, 0.18834123015403748, 0.014659672044217587, 0.0014022117247805, 0.0022054302971810102, 0.01723742112517357, 0.04126696288585663, 0.005514890421181917, 0.03803810849785805, 0.0069266133941709995, 0.020243220031261444, 0.014302666299045086, 0.024492768570780754, 0.0], [0.7890154123306274, 0.005721143446862698, 0.00016962012159638107, 0.0015607827808707952, 0.02360248751938343, 0.0027633223216980696, 0.07885728776454926, 0.00764806242659688, 0.00085682503413409, 0.000888017297256738, 0.006635316647589207, 0.01481774915009737, 0.002909960225224495, 0.012136977165937424, 0.0042315274477005005, 0.009320869110524654, 0.017529791221022606, 0.01466481201350689, 0.0066699860617518425]]], \"attentionHeadNames\": [\"L10H4\", \"L9H2\", \"L8H5\", \"L10H1\", \"L7H1\"], \"tokens\": [\"<|endoftext|>\", \"I\", \" thought\", \" this\", \" movie\", \" was\", \" ugly\", \",\", \" I\", \" hated\", \" it\", \".\", \" \", \"\\n\", \"Conclusion\", \":\", \" This\", \" movie\", \" is\"]}\n",
              "    )\n",
              "    </script>"
            ],
            "text/plain": [
              "<circuitsvis.utils.render.RenderedHTML at 0x7fd7b4515fa0>"
            ]
          },
          "execution_count": 66,
          "metadata": {},
          "output_type": "execute_result"
        }
      ],
      "source": [
        "from visualization_utils import get_attn_head_patterns\n",
        "\n",
        "top_k = 5\n",
        "top_heads = torch.topk(-results['z'].flatten(), k=top_k).indices.cpu().numpy()\n",
        "heads = [(head // model.cfg.n_heads, head % model.cfg.n_heads) for head in top_heads]\n",
        "tokens, attn, names = get_attn_head_patterns(model, all_prompts[21], heads)\n",
        "cv.attention.attention_heads(tokens=tokens, attention=attn, attention_head_names=names)"
      ]
    },
    {
      "cell_type": "code",
      "execution_count": 67,
      "metadata": {},
      "outputs": [
        {
          "data": {
            "text/plain": [
              "[(10, 4), (9, 2), (8, 5), (10, 1), (7, 1)]"
            ]
          },
          "execution_count": 67,
          "metadata": {},
          "output_type": "execute_result"
        }
      ],
      "source": [
        "heads"
      ]
    },
    {
      "cell_type": "code",
      "execution_count": 33,
      "metadata": {},
      "outputs": [
        {
          "name": "stdout",
          "output_type": "stream",
          "text": [
            "Tried to stack head results when they weren't cached. Computing head results now\n",
            "Tried to stack head results when they weren't cached. Computing head results now\n",
            "Tried to stack head results when they weren't cached. Computing head results now\n",
            "Tried to stack head results when they weren't cached. Computing head results now\n"
          ]
        },
        {
          "data": {
            "application/vnd.plotly.v1+json": {
              "config": {
                "plotlyServerURL": "https://plot.ly"
              },
              "data": [
                {
                  "customdata": [
                    [
                      "I thought this movie was perfect, I loved it. \nConclusion: This movie is"
                    ],
                    [
                      "I thought this movie was fantastic, I loved it. \nConclusion: This movie is"
                    ],
                    [
                      "I thought this movie was delightful, I loved it. \nConclusion: This movie is"
                    ],
                    [
                      "I thought this movie was cheerful, I loved it. \nConclusion: This movie is"
                    ],
                    [
                      "I thought this movie was marvelous, I loved it. \nConclusion: This movie is"
                    ],
                    [
                      "I thought this movie was good, I loved it. \nConclusion: This movie is"
                    ],
                    [
                      "I thought this movie was remarkable, I loved it. \nConclusion: This movie is"
                    ],
                    [
                      "I thought this movie was wonderful, I loved it. \nConclusion: This movie is"
                    ],
                    [
                      "I thought this movie was fabulous, I loved it. \nConclusion: This movie is"
                    ],
                    [
                      "I thought this movie was outstanding, I loved it. \nConclusion: This movie is"
                    ],
                    [
                      "I thought this movie was awesome, I loved it. \nConclusion: This movie is"
                    ],
                    [
                      "I thought this movie was exceptional, I loved it. \nConclusion: This movie is"
                    ],
                    [
                      "I thought this movie was incredible, I loved it. \nConclusion: This movie is"
                    ],
                    [
                      "I thought this movie was extraordinary, I loved it. \nConclusion: This movie is"
                    ],
                    [
                      "I thought this movie was amazing, I loved it. \nConclusion: This movie is"
                    ],
                    [
                      "I thought this movie was lovely, I loved it. \nConclusion: This movie is"
                    ],
                    [
                      "I thought this movie was brilliant, I loved it. \nConclusion: This movie is"
                    ],
                    [
                      "I thought this movie was charming, I loved it. \nConclusion: This movie is"
                    ],
                    [
                      "I thought this movie was terrific, I loved it. \nConclusion: This movie is"
                    ],
                    [
                      "I thought this movie was superb, I loved it. \nConclusion: This movie is"
                    ],
                    [
                      "I thought this movie was spectacular, I loved it. \nConclusion: This movie is"
                    ],
                    [
                      "I thought this movie was great, I loved it. \nConclusion: This movie is"
                    ],
                    [
                      "I thought this movie was splendid, I loved it. \nConclusion: This movie is"
                    ],
                    [
                      "I thought this movie was beautiful, I loved it. \nConclusion: This movie is"
                    ],
                    [
                      "I thought this movie was joyful, I loved it. \nConclusion: This movie is"
                    ]
                  ],
                  "hovertemplate": "Word Type=Positive Sentiment<br>Attn Prob on Word=%{x}<br>Dot w Sentiment Embed=%{y}<br>text=%{customdata[0]}<extra></extra>",
                  "legendgroup": "Positive Sentiment",
                  "marker": {
                    "color": "rgb(114,255,100)",
                    "symbol": "circle"
                  },
                  "mode": "markers",
                  "name": "Positive Sentiment",
                  "orientation": "v",
                  "showlegend": true,
                  "type": "scatter",
                  "x": [
                    0.026420636102557182,
                    0.045819491147994995,
                    0.04333571344614029,
                    0.06846467405557632,
                    0.04366998374462128,
                    0.036044683307409286,
                    0.05980570986866951,
                    0.039984725415706635,
                    0.04548965021967888,
                    0.042769018560647964,
                    0.06416335701942444,
                    0.05793251097202301,
                    0.05550343543291092,
                    0.06314225494861603,
                    0.05742990970611572,
                    0.04526675492525101,
                    0.046998996287584305,
                    0.05491438880562782,
                    0.035365983843803406,
                    0.03548282012343407,
                    0.03916941583156586,
                    0.04713909327983856,
                    0.038084421306848526,
                    0.047725219279527664,
                    0.07377965748310089
                  ],
                  "xaxis": "x",
                  "y": [
                    0.04659947007894516,
                    0.0796147882938385,
                    0.06008421257138252,
                    0.05991191416978836,
                    0.07570374011993408,
                    0.05289243906736374,
                    0.0874263197183609,
                    0.06929807364940643,
                    0.07802535593509674,
                    0.07999521493911743,
                    0.1070166677236557,
                    0.09757981449365616,
                    0.10059317201375961,
                    0.09613081812858582,
                    0.10539700835943222,
                    0.06596960872411728,
                    0.07660628855228424,
                    0.057750534266233444,
                    0.06354068219661713,
                    0.07549344003200531,
                    0.07969898730516434,
                    0.07746473699808121,
                    0.06634017825126648,
                    0.06775781512260437,
                    0.07030419260263443
                  ],
                  "yaxis": "y"
                },
                {
                  "customdata": [
                    [
                      "I thought this movie was dreadful, I hated it. \nConclusion: This movie is"
                    ],
                    [
                      "I thought this movie was bad, I hated it. \nConclusion: This movie is"
                    ],
                    [
                      "I thought this movie was dull, I hated it. \nConclusion: This movie is"
                    ],
                    [
                      "I thought this movie was depressing, I hated it. \nConclusion: This movie is"
                    ],
                    [
                      "I thought this movie was miserable, I hated it. \nConclusion: This movie is"
                    ],
                    [
                      "I thought this movie was tragic, I hated it. \nConclusion: This movie is"
                    ],
                    [
                      "I thought this movie was nasty, I hated it. \nConclusion: This movie is"
                    ],
                    [
                      "I thought this movie was inferior, I hated it. \nConclusion: This movie is"
                    ],
                    [
                      "I thought this movie was horrific, I hated it. \nConclusion: This movie is"
                    ],
                    [
                      "I thought this movie was terrible, I hated it. \nConclusion: This movie is"
                    ],
                    [
                      "I thought this movie was ugly, I hated it. \nConclusion: This movie is"
                    ],
                    [
                      "I thought this movie was disgusting, I hated it. \nConclusion: This movie is"
                    ],
                    [
                      "I thought this movie was disastrous, I hated it. \nConclusion: This movie is"
                    ],
                    [
                      "I thought this movie was horrendous, I hated it. \nConclusion: This movie is"
                    ],
                    [
                      "I thought this movie was annoying, I hated it. \nConclusion: This movie is"
                    ],
                    [
                      "I thought this movie was boring, I hated it. \nConclusion: This movie is"
                    ],
                    [
                      "I thought this movie was offensive, I hated it. \nConclusion: This movie is"
                    ],
                    [
                      "I thought this movie was frustrating, I hated it. \nConclusion: This movie is"
                    ],
                    [
                      "I thought this movie was wretched, I hated it. \nConclusion: This movie is"
                    ],
                    [
                      "I thought this movie was dire, I hated it. \nConclusion: This movie is"
                    ],
                    [
                      "I thought this movie was awful, I hated it. \nConclusion: This movie is"
                    ],
                    [
                      "I thought this movie was unpleasant, I hated it. \nConclusion: This movie is"
                    ],
                    [
                      "I thought this movie was horrible, I hated it. \nConclusion: This movie is"
                    ],
                    [
                      "I thought this movie was mediocre, I hated it. \nConclusion: This movie is"
                    ],
                    [
                      "I thought this movie was disappointing, I hated it. \nConclusion: This movie is"
                    ]
                  ],
                  "hovertemplate": "Word Type=Negative Sentiment<br>Attn Prob on Word=%{x}<br>Dot w Sentiment Embed=%{y}<br>text=%{customdata[0]}<extra></extra>",
                  "legendgroup": "Negative Sentiment",
                  "marker": {
                    "color": "rgb(201,165,247)",
                    "symbol": "circle"
                  },
                  "mode": "markers",
                  "name": "Negative Sentiment",
                  "orientation": "v",
                  "showlegend": true,
                  "type": "scatter",
                  "x": [
                    0.06239110976457596,
                    0.06211535632610321,
                    0.046823058277368546,
                    0.061429381370544434,
                    0.09655993431806564,
                    0.10699371993541718,
                    0.111676886677742,
                    0.0819874033331871,
                    0.07943058013916016,
                    0.05618574842810631,
                    0.07885728776454926,
                    0.10696340352296829,
                    0.09718509018421173,
                    0.07547223567962646,
                    0.07512558996677399,
                    0.05944420024752617,
                    0.08174219727516174,
                    0.058983296155929565,
                    0.08046980202198029,
                    0.05308007448911667,
                    0.056667767465114594,
                    0.07346709817647934,
                    0.0659094750881195,
                    0.0699361264705658,
                    0.06529355049133301
                  ],
                  "xaxis": "x",
                  "y": [
                    0.11144712567329407,
                    0.11183576285839081,
                    0.07473772019147873,
                    0.08589774370193481,
                    0.1308264583349228,
                    0.14074622094631195,
                    0.13244476914405823,
                    0.10440187156200409,
                    0.12364396452903748,
                    0.109172523021698,
                    0.08595447242259979,
                    0.1357206106185913,
                    0.13790643215179443,
                    0.13265350461006165,
                    0.10135503858327866,
                    0.061077650636434555,
                    0.09562358260154724,
                    0.0847531333565712,
                    0.11993034929037094,
                    0.0798005759716034,
                    0.10188091546297073,
                    0.10170450061559677,
                    0.12128086388111115,
                    0.1036190316081047,
                    0.09483836591243744
                  ],
                  "yaxis": "y"
                },
                {
                  "customdata": [
                    [
                      "I thought this movie was perfect, I loved it. \nConclusion: This movie is"
                    ],
                    [
                      "I thought this movie was fantastic, I loved it. \nConclusion: This movie is"
                    ],
                    [
                      "I thought this movie was delightful, I loved it. \nConclusion: This movie is"
                    ],
                    [
                      "I thought this movie was cheerful, I loved it. \nConclusion: This movie is"
                    ],
                    [
                      "I thought this movie was marvelous, I loved it. \nConclusion: This movie is"
                    ],
                    [
                      "I thought this movie was good, I loved it. \nConclusion: This movie is"
                    ],
                    [
                      "I thought this movie was remarkable, I loved it. \nConclusion: This movie is"
                    ],
                    [
                      "I thought this movie was wonderful, I loved it. \nConclusion: This movie is"
                    ],
                    [
                      "I thought this movie was fabulous, I loved it. \nConclusion: This movie is"
                    ],
                    [
                      "I thought this movie was outstanding, I loved it. \nConclusion: This movie is"
                    ],
                    [
                      "I thought this movie was awesome, I loved it. \nConclusion: This movie is"
                    ],
                    [
                      "I thought this movie was exceptional, I loved it. \nConclusion: This movie is"
                    ],
                    [
                      "I thought this movie was incredible, I loved it. \nConclusion: This movie is"
                    ],
                    [
                      "I thought this movie was extraordinary, I loved it. \nConclusion: This movie is"
                    ],
                    [
                      "I thought this movie was amazing, I loved it. \nConclusion: This movie is"
                    ],
                    [
                      "I thought this movie was lovely, I loved it. \nConclusion: This movie is"
                    ],
                    [
                      "I thought this movie was brilliant, I loved it. \nConclusion: This movie is"
                    ],
                    [
                      "I thought this movie was charming, I loved it. \nConclusion: This movie is"
                    ],
                    [
                      "I thought this movie was terrific, I loved it. \nConclusion: This movie is"
                    ],
                    [
                      "I thought this movie was superb, I loved it. \nConclusion: This movie is"
                    ],
                    [
                      "I thought this movie was spectacular, I loved it. \nConclusion: This movie is"
                    ],
                    [
                      "I thought this movie was great, I loved it. \nConclusion: This movie is"
                    ],
                    [
                      "I thought this movie was splendid, I loved it. \nConclusion: This movie is"
                    ],
                    [
                      "I thought this movie was beautiful, I loved it. \nConclusion: This movie is"
                    ],
                    [
                      "I thought this movie was joyful, I loved it. \nConclusion: This movie is"
                    ]
                  ],
                  "hovertemplate": "Word Type=Positive Sentiment<br>Attn Prob on Word=%{x}<br>Dot w Sentiment Embed=%{y}<br>text=%{customdata[0]}<extra></extra>",
                  "legendgroup": "Positive Sentiment",
                  "marker": {
                    "color": "rgb(114,255,100)",
                    "symbol": "circle"
                  },
                  "mode": "markers",
                  "name": "Positive Sentiment",
                  "orientation": "v",
                  "showlegend": false,
                  "type": "scatter",
                  "x": [
                    0.050544772297143936,
                    0.08211780339479446,
                    0.1046043187379837,
                    0.15455925464630127,
                    0.08861562609672546,
                    0.066921666264534,
                    0.07233452051877975,
                    0.07737885415554047,
                    0.0879322960972786,
                    0.0932302325963974,
                    0.09988689422607422,
                    0.07861731946468353,
                    0.10166113823652267,
                    0.09824223816394806,
                    0.09618004411458969,
                    0.08849895745515823,
                    0.08990325778722763,
                    0.12189434468746185,
                    0.0778750628232956,
                    0.09490089118480682,
                    0.13247549533843994,
                    0.05948549881577492,
                    0.08644865453243256,
                    0.13360479474067688,
                    0.1776307225227356
                  ],
                  "xaxis": "x2",
                  "y": [
                    0.19590316712856293,
                    0.23270966112613678,
                    0.22565841674804688,
                    0.22109702229499817,
                    0.2296869456768036,
                    0.19760186970233917,
                    0.21852236986160278,
                    0.2284642606973648,
                    0.25423532724380493,
                    0.23739346861839294,
                    0.25702545046806335,
                    0.22019314765930176,
                    0.26264306902885437,
                    0.24043726921081543,
                    0.2658941149711609,
                    0.22717417776584625,
                    0.23248517513275146,
                    0.21859315037727356,
                    0.2071905881166458,
                    0.21836620569229126,
                    0.28566908836364746,
                    0.20622743666172028,
                    0.20954129099845886,
                    0.2754925787448883,
                    0.273883193731308
                  ],
                  "yaxis": "y2"
                },
                {
                  "customdata": [
                    [
                      "I thought this movie was dreadful, I hated it. \nConclusion: This movie is"
                    ],
                    [
                      "I thought this movie was bad, I hated it. \nConclusion: This movie is"
                    ],
                    [
                      "I thought this movie was dull, I hated it. \nConclusion: This movie is"
                    ],
                    [
                      "I thought this movie was depressing, I hated it. \nConclusion: This movie is"
                    ],
                    [
                      "I thought this movie was miserable, I hated it. \nConclusion: This movie is"
                    ],
                    [
                      "I thought this movie was tragic, I hated it. \nConclusion: This movie is"
                    ],
                    [
                      "I thought this movie was nasty, I hated it. \nConclusion: This movie is"
                    ],
                    [
                      "I thought this movie was inferior, I hated it. \nConclusion: This movie is"
                    ],
                    [
                      "I thought this movie was horrific, I hated it. \nConclusion: This movie is"
                    ],
                    [
                      "I thought this movie was terrible, I hated it. \nConclusion: This movie is"
                    ],
                    [
                      "I thought this movie was ugly, I hated it. \nConclusion: This movie is"
                    ],
                    [
                      "I thought this movie was disgusting, I hated it. \nConclusion: This movie is"
                    ],
                    [
                      "I thought this movie was disastrous, I hated it. \nConclusion: This movie is"
                    ],
                    [
                      "I thought this movie was horrendous, I hated it. \nConclusion: This movie is"
                    ],
                    [
                      "I thought this movie was annoying, I hated it. \nConclusion: This movie is"
                    ],
                    [
                      "I thought this movie was boring, I hated it. \nConclusion: This movie is"
                    ],
                    [
                      "I thought this movie was offensive, I hated it. \nConclusion: This movie is"
                    ],
                    [
                      "I thought this movie was frustrating, I hated it. \nConclusion: This movie is"
                    ],
                    [
                      "I thought this movie was wretched, I hated it. \nConclusion: This movie is"
                    ],
                    [
                      "I thought this movie was dire, I hated it. \nConclusion: This movie is"
                    ],
                    [
                      "I thought this movie was awful, I hated it. \nConclusion: This movie is"
                    ],
                    [
                      "I thought this movie was unpleasant, I hated it. \nConclusion: This movie is"
                    ],
                    [
                      "I thought this movie was horrible, I hated it. \nConclusion: This movie is"
                    ],
                    [
                      "I thought this movie was mediocre, I hated it. \nConclusion: This movie is"
                    ],
                    [
                      "I thought this movie was disappointing, I hated it. \nConclusion: This movie is"
                    ]
                  ],
                  "hovertemplate": "Word Type=Negative Sentiment<br>Attn Prob on Word=%{x}<br>Dot w Sentiment Embed=%{y}<br>text=%{customdata[0]}<extra></extra>",
                  "legendgroup": "Negative Sentiment",
                  "marker": {
                    "color": "rgb(201,165,247)",
                    "symbol": "circle"
                  },
                  "mode": "markers",
                  "name": "Negative Sentiment",
                  "orientation": "v",
                  "showlegend": false,
                  "type": "scatter",
                  "x": [
                    0.22663120925426483,
                    0.14785513281822205,
                    0.16545893251895905,
                    0.21131692826747894,
                    0.1586727350950241,
                    0.2398359626531601,
                    0.24676106870174408,
                    0.1045512855052948,
                    0.35666248202323914,
                    0.20124934613704681,
                    0.24171015620231628,
                    0.325468510389328,
                    0.19872741401195526,
                    0.3040514588356018,
                    0.15437869727611542,
                    0.16668152809143066,
                    0.28042715787887573,
                    0.11268401145935059,
                    0.11944645643234253,
                    0.13604900240898132,
                    0.24499501287937164,
                    0.1742609590291977,
                    0.2605203688144684,
                    0.14420607686042786,
                    0.14272716641426086
                  ],
                  "xaxis": "x2",
                  "y": [
                    0.45072057843208313,
                    0.3565256595611572,
                    0.26855844259262085,
                    0.35236746072769165,
                    0.35838034749031067,
                    0.46059393882751465,
                    0.36889714002609253,
                    0.23665471374988556,
                    0.6006107330322266,
                    0.42444637417793274,
                    0.3464297950267792,
                    0.443705677986145,
                    0.4158569574356079,
                    0.5465186834335327,
                    0.26942694187164307,
                    0.22335654497146606,
                    0.2791112959384918,
                    0.27180784940719604,
                    0.314635694026947,
                    0.3153478503227234,
                    0.4659852087497711,
                    0.3051123321056366,
                    0.5122359991073608,
                    0.2830375134944916,
                    0.33901387453079224
                  ],
                  "yaxis": "y2"
                },
                {
                  "customdata": [
                    [
                      "I thought this movie was perfect, I loved it. \nConclusion: This movie is"
                    ],
                    [
                      "I thought this movie was fantastic, I loved it. \nConclusion: This movie is"
                    ],
                    [
                      "I thought this movie was delightful, I loved it. \nConclusion: This movie is"
                    ],
                    [
                      "I thought this movie was cheerful, I loved it. \nConclusion: This movie is"
                    ],
                    [
                      "I thought this movie was marvelous, I loved it. \nConclusion: This movie is"
                    ],
                    [
                      "I thought this movie was good, I loved it. \nConclusion: This movie is"
                    ],
                    [
                      "I thought this movie was remarkable, I loved it. \nConclusion: This movie is"
                    ],
                    [
                      "I thought this movie was wonderful, I loved it. \nConclusion: This movie is"
                    ],
                    [
                      "I thought this movie was fabulous, I loved it. \nConclusion: This movie is"
                    ],
                    [
                      "I thought this movie was outstanding, I loved it. \nConclusion: This movie is"
                    ],
                    [
                      "I thought this movie was awesome, I loved it. \nConclusion: This movie is"
                    ],
                    [
                      "I thought this movie was exceptional, I loved it. \nConclusion: This movie is"
                    ],
                    [
                      "I thought this movie was incredible, I loved it. \nConclusion: This movie is"
                    ],
                    [
                      "I thought this movie was extraordinary, I loved it. \nConclusion: This movie is"
                    ],
                    [
                      "I thought this movie was amazing, I loved it. \nConclusion: This movie is"
                    ],
                    [
                      "I thought this movie was lovely, I loved it. \nConclusion: This movie is"
                    ],
                    [
                      "I thought this movie was brilliant, I loved it. \nConclusion: This movie is"
                    ],
                    [
                      "I thought this movie was charming, I loved it. \nConclusion: This movie is"
                    ],
                    [
                      "I thought this movie was terrific, I loved it. \nConclusion: This movie is"
                    ],
                    [
                      "I thought this movie was superb, I loved it. \nConclusion: This movie is"
                    ],
                    [
                      "I thought this movie was spectacular, I loved it. \nConclusion: This movie is"
                    ],
                    [
                      "I thought this movie was great, I loved it. \nConclusion: This movie is"
                    ],
                    [
                      "I thought this movie was splendid, I loved it. \nConclusion: This movie is"
                    ],
                    [
                      "I thought this movie was beautiful, I loved it. \nConclusion: This movie is"
                    ],
                    [
                      "I thought this movie was joyful, I loved it. \nConclusion: This movie is"
                    ]
                  ],
                  "hovertemplate": "Word Type=Positive Sentiment<br>Attn Prob on Word=%{x}<br>Dot w Sentiment Embed=%{y}<br>text=%{customdata[0]}<extra></extra>",
                  "legendgroup": "Positive Sentiment",
                  "marker": {
                    "color": "rgb(114,255,100)",
                    "symbol": "circle"
                  },
                  "mode": "markers",
                  "name": "Positive Sentiment",
                  "orientation": "v",
                  "showlegend": false,
                  "type": "scatter",
                  "x": [
                    0.3227957487106323,
                    0.27978649735450745,
                    0.22275890409946442,
                    0.46354854106903076,
                    0.3090278208255768,
                    0.3345555365085602,
                    0.42394888401031494,
                    0.2690463662147522,
                    0.3037663996219635,
                    0.3263669013977051,
                    0.30166447162628174,
                    0.41045528650283813,
                    0.34220197796821594,
                    0.46609532833099365,
                    0.27735134959220886,
                    0.2706329822540283,
                    0.29563307762145996,
                    0.2883162796497345,
                    0.26946938037872314,
                    0.28655296564102173,
                    0.42015859484672546,
                    0.27322420477867126,
                    0.2910615801811218,
                    0.321706622838974,
                    0.43461957573890686
                  ],
                  "xaxis": "x3",
                  "y": [
                    0.2099476307630539,
                    0.17880454659461975,
                    0.06888874620199203,
                    0.040890783071517944,
                    0.22511136531829834,
                    0.158634752035141,
                    0.4168729782104492,
                    0.15784525871276855,
                    0.22343483567237854,
                    0.2596086263656616,
                    0.2143203616142273,
                    0.3980621099472046,
                    0.3292232155799866,
                    0.4695780873298645,
                    0.26187384128570557,
                    0.08776991814374924,
                    0.18492770195007324,
                    0.07230211794376373,
                    0.12754717469215393,
                    0.15295708179473877,
                    0.2869564890861511,
                    0.21485716104507446,
                    0.1685798168182373,
                    0.1662711352109909,
                    0.09930776804685593
                  ],
                  "yaxis": "y3"
                },
                {
                  "customdata": [
                    [
                      "I thought this movie was dreadful, I hated it. \nConclusion: This movie is"
                    ],
                    [
                      "I thought this movie was bad, I hated it. \nConclusion: This movie is"
                    ],
                    [
                      "I thought this movie was dull, I hated it. \nConclusion: This movie is"
                    ],
                    [
                      "I thought this movie was depressing, I hated it. \nConclusion: This movie is"
                    ],
                    [
                      "I thought this movie was miserable, I hated it. \nConclusion: This movie is"
                    ],
                    [
                      "I thought this movie was tragic, I hated it. \nConclusion: This movie is"
                    ],
                    [
                      "I thought this movie was nasty, I hated it. \nConclusion: This movie is"
                    ],
                    [
                      "I thought this movie was inferior, I hated it. \nConclusion: This movie is"
                    ],
                    [
                      "I thought this movie was horrific, I hated it. \nConclusion: This movie is"
                    ],
                    [
                      "I thought this movie was terrible, I hated it. \nConclusion: This movie is"
                    ],
                    [
                      "I thought this movie was ugly, I hated it. \nConclusion: This movie is"
                    ],
                    [
                      "I thought this movie was disgusting, I hated it. \nConclusion: This movie is"
                    ],
                    [
                      "I thought this movie was disastrous, I hated it. \nConclusion: This movie is"
                    ],
                    [
                      "I thought this movie was horrendous, I hated it. \nConclusion: This movie is"
                    ],
                    [
                      "I thought this movie was annoying, I hated it. \nConclusion: This movie is"
                    ],
                    [
                      "I thought this movie was boring, I hated it. \nConclusion: This movie is"
                    ],
                    [
                      "I thought this movie was offensive, I hated it. \nConclusion: This movie is"
                    ],
                    [
                      "I thought this movie was frustrating, I hated it. \nConclusion: This movie is"
                    ],
                    [
                      "I thought this movie was wretched, I hated it. \nConclusion: This movie is"
                    ],
                    [
                      "I thought this movie was dire, I hated it. \nConclusion: This movie is"
                    ],
                    [
                      "I thought this movie was awful, I hated it. \nConclusion: This movie is"
                    ],
                    [
                      "I thought this movie was unpleasant, I hated it. \nConclusion: This movie is"
                    ],
                    [
                      "I thought this movie was horrible, I hated it. \nConclusion: This movie is"
                    ],
                    [
                      "I thought this movie was mediocre, I hated it. \nConclusion: This movie is"
                    ],
                    [
                      "I thought this movie was disappointing, I hated it. \nConclusion: This movie is"
                    ]
                  ],
                  "hovertemplate": "Word Type=Negative Sentiment<br>Attn Prob on Word=%{x}<br>Dot w Sentiment Embed=%{y}<br>text=%{customdata[0]}<extra></extra>",
                  "legendgroup": "Negative Sentiment",
                  "marker": {
                    "color": "rgb(201,165,247)",
                    "symbol": "circle"
                  },
                  "mode": "markers",
                  "name": "Negative Sentiment",
                  "orientation": "v",
                  "showlegend": false,
                  "type": "scatter",
                  "x": [
                    0.43624091148376465,
                    0.44627344608306885,
                    0.4924536347389221,
                    0.42927086353302,
                    0.47835007309913635,
                    0.5251076221466064,
                    0.5543811321258545,
                    0.38929373025894165,
                    0.4470221996307373,
                    0.4356008470058441,
                    0.6221944689750671,
                    0.4040502905845642,
                    0.501466691493988,
                    0.503132700920105,
                    0.4374709129333496,
                    0.49554407596588135,
                    0.4881160855293274,
                    0.3987576365470886,
                    0.49277716875076294,
                    0.3815736472606659,
                    0.5052194595336914,
                    0.48863470554351807,
                    0.46432286500930786,
                    0.4392240345478058,
                    0.3656075894832611
                  ],
                  "xaxis": "x3",
                  "y": [
                    0.49810537695884705,
                    0.5431860685348511,
                    0.21846361458301544,
                    0.307465523481369,
                    0.3894893229007721,
                    0.29510462284088135,
                    0.35410401225090027,
                    0.313175767660141,
                    0.4333335757255554,
                    0.5417031049728394,
                    0.34056153893470764,
                    0.2687487304210663,
                    0.5056853890419006,
                    0.5401110649108887,
                    0.19427424669265747,
                    0.16767632961273193,
                    0.19970986247062683,
                    0.2983625829219818,
                    0.4508666396141052,
                    0.25829124450683594,
                    0.5852754712104797,
                    0.34378790855407715,
                    0.5105040669441223,
                    0.4067860245704651,
                    0.3400002121925354
                  ],
                  "yaxis": "y3"
                },
                {
                  "customdata": [
                    [
                      "I thought this movie was perfect, I loved it. \nConclusion: This movie is"
                    ],
                    [
                      "I thought this movie was fantastic, I loved it. \nConclusion: This movie is"
                    ],
                    [
                      "I thought this movie was delightful, I loved it. \nConclusion: This movie is"
                    ],
                    [
                      "I thought this movie was cheerful, I loved it. \nConclusion: This movie is"
                    ],
                    [
                      "I thought this movie was marvelous, I loved it. \nConclusion: This movie is"
                    ],
                    [
                      "I thought this movie was good, I loved it. \nConclusion: This movie is"
                    ],
                    [
                      "I thought this movie was remarkable, I loved it. \nConclusion: This movie is"
                    ],
                    [
                      "I thought this movie was wonderful, I loved it. \nConclusion: This movie is"
                    ],
                    [
                      "I thought this movie was fabulous, I loved it. \nConclusion: This movie is"
                    ],
                    [
                      "I thought this movie was outstanding, I loved it. \nConclusion: This movie is"
                    ],
                    [
                      "I thought this movie was awesome, I loved it. \nConclusion: This movie is"
                    ],
                    [
                      "I thought this movie was exceptional, I loved it. \nConclusion: This movie is"
                    ],
                    [
                      "I thought this movie was incredible, I loved it. \nConclusion: This movie is"
                    ],
                    [
                      "I thought this movie was extraordinary, I loved it. \nConclusion: This movie is"
                    ],
                    [
                      "I thought this movie was amazing, I loved it. \nConclusion: This movie is"
                    ],
                    [
                      "I thought this movie was lovely, I loved it. \nConclusion: This movie is"
                    ],
                    [
                      "I thought this movie was brilliant, I loved it. \nConclusion: This movie is"
                    ],
                    [
                      "I thought this movie was charming, I loved it. \nConclusion: This movie is"
                    ],
                    [
                      "I thought this movie was terrific, I loved it. \nConclusion: This movie is"
                    ],
                    [
                      "I thought this movie was superb, I loved it. \nConclusion: This movie is"
                    ],
                    [
                      "I thought this movie was spectacular, I loved it. \nConclusion: This movie is"
                    ],
                    [
                      "I thought this movie was great, I loved it. \nConclusion: This movie is"
                    ],
                    [
                      "I thought this movie was splendid, I loved it. \nConclusion: This movie is"
                    ],
                    [
                      "I thought this movie was beautiful, I loved it. \nConclusion: This movie is"
                    ],
                    [
                      "I thought this movie was joyful, I loved it. \nConclusion: This movie is"
                    ]
                  ],
                  "hovertemplate": "Word Type=Positive Sentiment<br>Attn Prob on Word=%{x}<br>Dot w Sentiment Embed=%{y}<br>text=%{customdata[0]}<extra></extra>",
                  "legendgroup": "Positive Sentiment",
                  "marker": {
                    "color": "rgb(114,255,100)",
                    "symbol": "circle"
                  },
                  "mode": "markers",
                  "name": "Positive Sentiment",
                  "orientation": "v",
                  "showlegend": false,
                  "type": "scatter",
                  "x": [
                    0.352251261472702,
                    0.41236042976379395,
                    0.5354207754135132,
                    0.35668277740478516,
                    0.5648881196975708,
                    0.22012589871883392,
                    0.541898787021637,
                    0.43177181482315063,
                    0.46644118428230286,
                    0.45559388399124146,
                    0.38678255677223206,
                    0.5250592827796936,
                    0.4486398696899414,
                    0.5065348148345947,
                    0.41415342688560486,
                    0.3892820477485657,
                    0.38043317198753357,
                    0.475359708070755,
                    0.4588495194911957,
                    0.49976885318756104,
                    0.5121974349021912,
                    0.288684606552124,
                    0.4727175831794739,
                    0.35084396600723267,
                    0.4098950922489166
                  ],
                  "xaxis": "x4",
                  "y": [
                    0.6057071685791016,
                    0.8624964952468872,
                    0.6555839776992798,
                    0.35027003288269043,
                    1.009947657585144,
                    0.3939948081970215,
                    1.0149743556976318,
                    0.8307796120643616,
                    0.9801149964332581,
                    0.7708320617675781,
                    0.8515682220458984,
                    0.968933641910553,
                    1.1246097087860107,
                    1.094221591949463,
                    1.035488486289978,
                    0.6214088201522827,
                    0.7948830127716064,
                    0.4463040828704834,
                    0.761164665222168,
                    0.7600229382514954,
                    1.0072729587554932,
                    0.6899186968803406,
                    0.7614532709121704,
                    0.7178690433502197,
                    0.5654693841934204
                  ],
                  "yaxis": "y4"
                },
                {
                  "customdata": [
                    [
                      "I thought this movie was dreadful, I hated it. \nConclusion: This movie is"
                    ],
                    [
                      "I thought this movie was bad, I hated it. \nConclusion: This movie is"
                    ],
                    [
                      "I thought this movie was dull, I hated it. \nConclusion: This movie is"
                    ],
                    [
                      "I thought this movie was depressing, I hated it. \nConclusion: This movie is"
                    ],
                    [
                      "I thought this movie was miserable, I hated it. \nConclusion: This movie is"
                    ],
                    [
                      "I thought this movie was tragic, I hated it. \nConclusion: This movie is"
                    ],
                    [
                      "I thought this movie was nasty, I hated it. \nConclusion: This movie is"
                    ],
                    [
                      "I thought this movie was inferior, I hated it. \nConclusion: This movie is"
                    ],
                    [
                      "I thought this movie was horrific, I hated it. \nConclusion: This movie is"
                    ],
                    [
                      "I thought this movie was terrible, I hated it. \nConclusion: This movie is"
                    ],
                    [
                      "I thought this movie was ugly, I hated it. \nConclusion: This movie is"
                    ],
                    [
                      "I thought this movie was disgusting, I hated it. \nConclusion: This movie is"
                    ],
                    [
                      "I thought this movie was disastrous, I hated it. \nConclusion: This movie is"
                    ],
                    [
                      "I thought this movie was horrendous, I hated it. \nConclusion: This movie is"
                    ],
                    [
                      "I thought this movie was annoying, I hated it. \nConclusion: This movie is"
                    ],
                    [
                      "I thought this movie was boring, I hated it. \nConclusion: This movie is"
                    ],
                    [
                      "I thought this movie was offensive, I hated it. \nConclusion: This movie is"
                    ],
                    [
                      "I thought this movie was frustrating, I hated it. \nConclusion: This movie is"
                    ],
                    [
                      "I thought this movie was wretched, I hated it. \nConclusion: This movie is"
                    ],
                    [
                      "I thought this movie was dire, I hated it. \nConclusion: This movie is"
                    ],
                    [
                      "I thought this movie was awful, I hated it. \nConclusion: This movie is"
                    ],
                    [
                      "I thought this movie was unpleasant, I hated it. \nConclusion: This movie is"
                    ],
                    [
                      "I thought this movie was horrible, I hated it. \nConclusion: This movie is"
                    ],
                    [
                      "I thought this movie was mediocre, I hated it. \nConclusion: This movie is"
                    ],
                    [
                      "I thought this movie was disappointing, I hated it. \nConclusion: This movie is"
                    ]
                  ],
                  "hovertemplate": "Word Type=Negative Sentiment<br>Attn Prob on Word=%{x}<br>Dot w Sentiment Embed=%{y}<br>text=%{customdata[0]}<extra></extra>",
                  "legendgroup": "Negative Sentiment",
                  "marker": {
                    "color": "rgb(201,165,247)",
                    "symbol": "circle"
                  },
                  "mode": "markers",
                  "name": "Negative Sentiment",
                  "orientation": "v",
                  "showlegend": false,
                  "type": "scatter",
                  "x": [
                    0.5531737208366394,
                    0.3321670591831207,
                    0.23230847716331482,
                    0.4148883819580078,
                    0.46009135246276855,
                    0.44015437364578247,
                    0.36806362867355347,
                    0.2710404694080353,
                    0.4716412127017975,
                    0.4547502100467682,
                    0.3036018908023834,
                    0.38393092155456543,
                    0.5084880590438843,
                    0.5215983986854553,
                    0.3821934759616852,
                    0.38073915243148804,
                    0.29918113350868225,
                    0.37042635679244995,
                    0.49772870540618896,
                    0.28029492497444153,
                    0.4929521381855011,
                    0.5066179633140564,
                    0.48152607679367065,
                    0.40498992800712585,
                    0.3756101131439209
                  ],
                  "xaxis": "x4",
                  "y": [
                    1.2380443811416626,
                    0.848854660987854,
                    0.46041184663772583,
                    0.712498664855957,
                    0.8700858950614929,
                    1.0488710403442383,
                    0.7295218110084534,
                    0.5008655786514282,
                    1.119688868522644,
                    1.060063362121582,
                    0.5855978727340698,
                    0.7814740538597107,
                    1.1322953701019287,
                    1.166043758392334,
                    0.5306344032287598,
                    0.4575882852077484,
                    0.46401166915893555,
                    0.48496925830841064,
                    1.2156994342803955,
                    0.9844710826873779,
                    1.0940349102020264,
                    0.5596073865890503,
                    1.0598329305648804,
                    0.6300004720687866,
                    0.5996366739273071
                  ],
                  "yaxis": "y4"
                }
              ],
              "layout": {
                "annotations": [
                  {
                    "font": {
                      "size": 16
                    },
                    "showarrow": false,
                    "text": "Head 7.1",
                    "x": 0.225,
                    "xanchor": "center",
                    "xref": "paper",
                    "y": 1,
                    "yanchor": "bottom",
                    "yref": "paper"
                  },
                  {
                    "font": {
                      "size": 16
                    },
                    "showarrow": false,
                    "text": "Head 9.2",
                    "x": 0.775,
                    "xanchor": "center",
                    "xref": "paper",
                    "y": 1,
                    "yanchor": "bottom",
                    "yref": "paper"
                  },
                  {
                    "font": {
                      "size": 16
                    },
                    "showarrow": false,
                    "text": "Head 10.1",
                    "x": 0.225,
                    "xanchor": "center",
                    "xref": "paper",
                    "y": 0.375,
                    "yanchor": "bottom",
                    "yref": "paper"
                  },
                  {
                    "font": {
                      "size": 16
                    },
                    "showarrow": false,
                    "text": "Head 10.4",
                    "x": 0.775,
                    "xanchor": "center",
                    "xref": "paper",
                    "y": 0.375,
                    "yanchor": "bottom",
                    "yref": "paper"
                  }
                ],
                "height": 600,
                "template": {
                  "data": {
                    "bar": [
                      {
                        "error_x": {
                          "color": "#2a3f5f"
                        },
                        "error_y": {
                          "color": "#2a3f5f"
                        },
                        "marker": {
                          "line": {
                            "color": "#E5ECF6",
                            "width": 0.5
                          },
                          "pattern": {
                            "fillmode": "overlay",
                            "size": 10,
                            "solidity": 0.2
                          }
                        },
                        "type": "bar"
                      }
                    ],
                    "barpolar": [
                      {
                        "marker": {
                          "line": {
                            "color": "#E5ECF6",
                            "width": 0.5
                          },
                          "pattern": {
                            "fillmode": "overlay",
                            "size": 10,
                            "solidity": 0.2
                          }
                        },
                        "type": "barpolar"
                      }
                    ],
                    "carpet": [
                      {
                        "aaxis": {
                          "endlinecolor": "#2a3f5f",
                          "gridcolor": "white",
                          "linecolor": "white",
                          "minorgridcolor": "white",
                          "startlinecolor": "#2a3f5f"
                        },
                        "baxis": {
                          "endlinecolor": "#2a3f5f",
                          "gridcolor": "white",
                          "linecolor": "white",
                          "minorgridcolor": "white",
                          "startlinecolor": "#2a3f5f"
                        },
                        "type": "carpet"
                      }
                    ],
                    "choropleth": [
                      {
                        "colorbar": {
                          "outlinewidth": 0,
                          "ticks": ""
                        },
                        "type": "choropleth"
                      }
                    ],
                    "contour": [
                      {
                        "colorbar": {
                          "outlinewidth": 0,
                          "ticks": ""
                        },
                        "colorscale": [
                          [
                            0,
                            "#0d0887"
                          ],
                          [
                            0.1111111111111111,
                            "#46039f"
                          ],
                          [
                            0.2222222222222222,
                            "#7201a8"
                          ],
                          [
                            0.3333333333333333,
                            "#9c179e"
                          ],
                          [
                            0.4444444444444444,
                            "#bd3786"
                          ],
                          [
                            0.5555555555555556,
                            "#d8576b"
                          ],
                          [
                            0.6666666666666666,
                            "#ed7953"
                          ],
                          [
                            0.7777777777777778,
                            "#fb9f3a"
                          ],
                          [
                            0.8888888888888888,
                            "#fdca26"
                          ],
                          [
                            1,
                            "#f0f921"
                          ]
                        ],
                        "type": "contour"
                      }
                    ],
                    "contourcarpet": [
                      {
                        "colorbar": {
                          "outlinewidth": 0,
                          "ticks": ""
                        },
                        "type": "contourcarpet"
                      }
                    ],
                    "heatmap": [
                      {
                        "colorbar": {
                          "outlinewidth": 0,
                          "ticks": ""
                        },
                        "colorscale": [
                          [
                            0,
                            "#0d0887"
                          ],
                          [
                            0.1111111111111111,
                            "#46039f"
                          ],
                          [
                            0.2222222222222222,
                            "#7201a8"
                          ],
                          [
                            0.3333333333333333,
                            "#9c179e"
                          ],
                          [
                            0.4444444444444444,
                            "#bd3786"
                          ],
                          [
                            0.5555555555555556,
                            "#d8576b"
                          ],
                          [
                            0.6666666666666666,
                            "#ed7953"
                          ],
                          [
                            0.7777777777777778,
                            "#fb9f3a"
                          ],
                          [
                            0.8888888888888888,
                            "#fdca26"
                          ],
                          [
                            1,
                            "#f0f921"
                          ]
                        ],
                        "type": "heatmap"
                      }
                    ],
                    "heatmapgl": [
                      {
                        "colorbar": {
                          "outlinewidth": 0,
                          "ticks": ""
                        },
                        "colorscale": [
                          [
                            0,
                            "#0d0887"
                          ],
                          [
                            0.1111111111111111,
                            "#46039f"
                          ],
                          [
                            0.2222222222222222,
                            "#7201a8"
                          ],
                          [
                            0.3333333333333333,
                            "#9c179e"
                          ],
                          [
                            0.4444444444444444,
                            "#bd3786"
                          ],
                          [
                            0.5555555555555556,
                            "#d8576b"
                          ],
                          [
                            0.6666666666666666,
                            "#ed7953"
                          ],
                          [
                            0.7777777777777778,
                            "#fb9f3a"
                          ],
                          [
                            0.8888888888888888,
                            "#fdca26"
                          ],
                          [
                            1,
                            "#f0f921"
                          ]
                        ],
                        "type": "heatmapgl"
                      }
                    ],
                    "histogram": [
                      {
                        "marker": {
                          "pattern": {
                            "fillmode": "overlay",
                            "size": 10,
                            "solidity": 0.2
                          }
                        },
                        "type": "histogram"
                      }
                    ],
                    "histogram2d": [
                      {
                        "colorbar": {
                          "outlinewidth": 0,
                          "ticks": ""
                        },
                        "colorscale": [
                          [
                            0,
                            "#0d0887"
                          ],
                          [
                            0.1111111111111111,
                            "#46039f"
                          ],
                          [
                            0.2222222222222222,
                            "#7201a8"
                          ],
                          [
                            0.3333333333333333,
                            "#9c179e"
                          ],
                          [
                            0.4444444444444444,
                            "#bd3786"
                          ],
                          [
                            0.5555555555555556,
                            "#d8576b"
                          ],
                          [
                            0.6666666666666666,
                            "#ed7953"
                          ],
                          [
                            0.7777777777777778,
                            "#fb9f3a"
                          ],
                          [
                            0.8888888888888888,
                            "#fdca26"
                          ],
                          [
                            1,
                            "#f0f921"
                          ]
                        ],
                        "type": "histogram2d"
                      }
                    ],
                    "histogram2dcontour": [
                      {
                        "colorbar": {
                          "outlinewidth": 0,
                          "ticks": ""
                        },
                        "colorscale": [
                          [
                            0,
                            "#0d0887"
                          ],
                          [
                            0.1111111111111111,
                            "#46039f"
                          ],
                          [
                            0.2222222222222222,
                            "#7201a8"
                          ],
                          [
                            0.3333333333333333,
                            "#9c179e"
                          ],
                          [
                            0.4444444444444444,
                            "#bd3786"
                          ],
                          [
                            0.5555555555555556,
                            "#d8576b"
                          ],
                          [
                            0.6666666666666666,
                            "#ed7953"
                          ],
                          [
                            0.7777777777777778,
                            "#fb9f3a"
                          ],
                          [
                            0.8888888888888888,
                            "#fdca26"
                          ],
                          [
                            1,
                            "#f0f921"
                          ]
                        ],
                        "type": "histogram2dcontour"
                      }
                    ],
                    "mesh3d": [
                      {
                        "colorbar": {
                          "outlinewidth": 0,
                          "ticks": ""
                        },
                        "type": "mesh3d"
                      }
                    ],
                    "parcoords": [
                      {
                        "line": {
                          "colorbar": {
                            "outlinewidth": 0,
                            "ticks": ""
                          }
                        },
                        "type": "parcoords"
                      }
                    ],
                    "pie": [
                      {
                        "automargin": true,
                        "type": "pie"
                      }
                    ],
                    "scatter": [
                      {
                        "fillpattern": {
                          "fillmode": "overlay",
                          "size": 10,
                          "solidity": 0.2
                        },
                        "type": "scatter"
                      }
                    ],
                    "scatter3d": [
                      {
                        "line": {
                          "colorbar": {
                            "outlinewidth": 0,
                            "ticks": ""
                          }
                        },
                        "marker": {
                          "colorbar": {
                            "outlinewidth": 0,
                            "ticks": ""
                          }
                        },
                        "type": "scatter3d"
                      }
                    ],
                    "scattercarpet": [
                      {
                        "marker": {
                          "colorbar": {
                            "outlinewidth": 0,
                            "ticks": ""
                          }
                        },
                        "type": "scattercarpet"
                      }
                    ],
                    "scattergeo": [
                      {
                        "marker": {
                          "colorbar": {
                            "outlinewidth": 0,
                            "ticks": ""
                          }
                        },
                        "type": "scattergeo"
                      }
                    ],
                    "scattergl": [
                      {
                        "marker": {
                          "colorbar": {
                            "outlinewidth": 0,
                            "ticks": ""
                          }
                        },
                        "type": "scattergl"
                      }
                    ],
                    "scattermapbox": [
                      {
                        "marker": {
                          "colorbar": {
                            "outlinewidth": 0,
                            "ticks": ""
                          }
                        },
                        "type": "scattermapbox"
                      }
                    ],
                    "scatterpolar": [
                      {
                        "marker": {
                          "colorbar": {
                            "outlinewidth": 0,
                            "ticks": ""
                          }
                        },
                        "type": "scatterpolar"
                      }
                    ],
                    "scatterpolargl": [
                      {
                        "marker": {
                          "colorbar": {
                            "outlinewidth": 0,
                            "ticks": ""
                          }
                        },
                        "type": "scatterpolargl"
                      }
                    ],
                    "scatterternary": [
                      {
                        "marker": {
                          "colorbar": {
                            "outlinewidth": 0,
                            "ticks": ""
                          }
                        },
                        "type": "scatterternary"
                      }
                    ],
                    "surface": [
                      {
                        "colorbar": {
                          "outlinewidth": 0,
                          "ticks": ""
                        },
                        "colorscale": [
                          [
                            0,
                            "#0d0887"
                          ],
                          [
                            0.1111111111111111,
                            "#46039f"
                          ],
                          [
                            0.2222222222222222,
                            "#7201a8"
                          ],
                          [
                            0.3333333333333333,
                            "#9c179e"
                          ],
                          [
                            0.4444444444444444,
                            "#bd3786"
                          ],
                          [
                            0.5555555555555556,
                            "#d8576b"
                          ],
                          [
                            0.6666666666666666,
                            "#ed7953"
                          ],
                          [
                            0.7777777777777778,
                            "#fb9f3a"
                          ],
                          [
                            0.8888888888888888,
                            "#fdca26"
                          ],
                          [
                            1,
                            "#f0f921"
                          ]
                        ],
                        "type": "surface"
                      }
                    ],
                    "table": [
                      {
                        "cells": {
                          "fill": {
                            "color": "#EBF0F8"
                          },
                          "line": {
                            "color": "white"
                          }
                        },
                        "header": {
                          "fill": {
                            "color": "#C8D4E3"
                          },
                          "line": {
                            "color": "white"
                          }
                        },
                        "type": "table"
                      }
                    ]
                  },
                  "layout": {
                    "annotationdefaults": {
                      "arrowcolor": "#2a3f5f",
                      "arrowhead": 0,
                      "arrowwidth": 1
                    },
                    "autotypenumbers": "strict",
                    "coloraxis": {
                      "colorbar": {
                        "outlinewidth": 0,
                        "ticks": ""
                      }
                    },
                    "colorscale": {
                      "diverging": [
                        [
                          0,
                          "#8e0152"
                        ],
                        [
                          0.1,
                          "#c51b7d"
                        ],
                        [
                          0.2,
                          "#de77ae"
                        ],
                        [
                          0.3,
                          "#f1b6da"
                        ],
                        [
                          0.4,
                          "#fde0ef"
                        ],
                        [
                          0.5,
                          "#f7f7f7"
                        ],
                        [
                          0.6,
                          "#e6f5d0"
                        ],
                        [
                          0.7,
                          "#b8e186"
                        ],
                        [
                          0.8,
                          "#7fbc41"
                        ],
                        [
                          0.9,
                          "#4d9221"
                        ],
                        [
                          1,
                          "#276419"
                        ]
                      ],
                      "sequential": [
                        [
                          0,
                          "#0d0887"
                        ],
                        [
                          0.1111111111111111,
                          "#46039f"
                        ],
                        [
                          0.2222222222222222,
                          "#7201a8"
                        ],
                        [
                          0.3333333333333333,
                          "#9c179e"
                        ],
                        [
                          0.4444444444444444,
                          "#bd3786"
                        ],
                        [
                          0.5555555555555556,
                          "#d8576b"
                        ],
                        [
                          0.6666666666666666,
                          "#ed7953"
                        ],
                        [
                          0.7777777777777778,
                          "#fb9f3a"
                        ],
                        [
                          0.8888888888888888,
                          "#fdca26"
                        ],
                        [
                          1,
                          "#f0f921"
                        ]
                      ],
                      "sequentialminus": [
                        [
                          0,
                          "#0d0887"
                        ],
                        [
                          0.1111111111111111,
                          "#46039f"
                        ],
                        [
                          0.2222222222222222,
                          "#7201a8"
                        ],
                        [
                          0.3333333333333333,
                          "#9c179e"
                        ],
                        [
                          0.4444444444444444,
                          "#bd3786"
                        ],
                        [
                          0.5555555555555556,
                          "#d8576b"
                        ],
                        [
                          0.6666666666666666,
                          "#ed7953"
                        ],
                        [
                          0.7777777777777778,
                          "#fb9f3a"
                        ],
                        [
                          0.8888888888888888,
                          "#fdca26"
                        ],
                        [
                          1,
                          "#f0f921"
                        ]
                      ]
                    },
                    "colorway": [
                      "#636efa",
                      "#EF553B",
                      "#00cc96",
                      "#ab63fa",
                      "#FFA15A",
                      "#19d3f3",
                      "#FF6692",
                      "#B6E880",
                      "#FF97FF",
                      "#FECB52"
                    ],
                    "font": {
                      "color": "#2a3f5f"
                    },
                    "geo": {
                      "bgcolor": "white",
                      "lakecolor": "white",
                      "landcolor": "#E5ECF6",
                      "showlakes": true,
                      "showland": true,
                      "subunitcolor": "white"
                    },
                    "hoverlabel": {
                      "align": "left"
                    },
                    "hovermode": "closest",
                    "mapbox": {
                      "style": "light"
                    },
                    "paper_bgcolor": "white",
                    "plot_bgcolor": "#E5ECF6",
                    "polar": {
                      "angularaxis": {
                        "gridcolor": "white",
                        "linecolor": "white",
                        "ticks": ""
                      },
                      "bgcolor": "#E5ECF6",
                      "radialaxis": {
                        "gridcolor": "white",
                        "linecolor": "white",
                        "ticks": ""
                      }
                    },
                    "scene": {
                      "xaxis": {
                        "backgroundcolor": "#E5ECF6",
                        "gridcolor": "white",
                        "gridwidth": 2,
                        "linecolor": "white",
                        "showbackground": true,
                        "ticks": "",
                        "zerolinecolor": "white"
                      },
                      "yaxis": {
                        "backgroundcolor": "#E5ECF6",
                        "gridcolor": "white",
                        "gridwidth": 2,
                        "linecolor": "white",
                        "showbackground": true,
                        "ticks": "",
                        "zerolinecolor": "white"
                      },
                      "zaxis": {
                        "backgroundcolor": "#E5ECF6",
                        "gridcolor": "white",
                        "gridwidth": 2,
                        "linecolor": "white",
                        "showbackground": true,
                        "ticks": "",
                        "zerolinecolor": "white"
                      }
                    },
                    "shapedefaults": {
                      "line": {
                        "color": "#2a3f5f"
                      }
                    },
                    "ternary": {
                      "aaxis": {
                        "gridcolor": "white",
                        "linecolor": "white",
                        "ticks": ""
                      },
                      "baxis": {
                        "gridcolor": "white",
                        "linecolor": "white",
                        "ticks": ""
                      },
                      "bgcolor": "#E5ECF6",
                      "caxis": {
                        "gridcolor": "white",
                        "linecolor": "white",
                        "ticks": ""
                      }
                    },
                    "title": {
                      "x": 0.05
                    },
                    "xaxis": {
                      "automargin": true,
                      "gridcolor": "white",
                      "linecolor": "white",
                      "ticks": "",
                      "title": {
                        "standoff": 15
                      },
                      "zerolinecolor": "white",
                      "zerolinewidth": 2
                    },
                    "yaxis": {
                      "automargin": true,
                      "gridcolor": "white",
                      "linecolor": "white",
                      "ticks": "",
                      "title": {
                        "standoff": 15
                      },
                      "zerolinecolor": "white",
                      "zerolinewidth": 2
                    }
                  }
                },
                "title": {
                  "text": "Sentiment-Attender Heads"
                },
                "xaxis": {
                  "anchor": "y",
                  "domain": [
                    0,
                    0.45
                  ],
                  "title": {
                    "text": "Attn Prob on Word"
                  }
                },
                "xaxis2": {
                  "anchor": "y2",
                  "domain": [
                    0.55,
                    1
                  ],
                  "title": {
                    "text": "Attn Prob on Word"
                  }
                },
                "xaxis3": {
                  "anchor": "y3",
                  "domain": [
                    0,
                    0.45
                  ],
                  "title": {
                    "text": "Attn Prob on Word"
                  }
                },
                "xaxis4": {
                  "anchor": "y4",
                  "domain": [
                    0.55,
                    1
                  ],
                  "title": {
                    "text": "Attn Prob on Word"
                  }
                },
                "yaxis": {
                  "anchor": "x",
                  "domain": [
                    0.625,
                    1
                  ],
                  "title": {
                    "text": "Dot w Sentiment Embed"
                  }
                },
                "yaxis2": {
                  "anchor": "x2",
                  "domain": [
                    0.625,
                    1
                  ],
                  "title": {
                    "text": "Dot w Sentiment Embed"
                  }
                },
                "yaxis3": {
                  "anchor": "x3",
                  "domain": [
                    0,
                    0.375
                  ],
                  "title": {
                    "text": "Dot w Sentiment Embed"
                  }
                },
                "yaxis4": {
                  "anchor": "x4",
                  "domain": [
                    0,
                    0.375
                  ],
                  "title": {
                    "text": "Dot w Sentiment Embed"
                  }
                }
              }
            }
          },
          "metadata": {},
          "output_type": "display_data"
        }
      ],
      "source": [
        "from visualization_utils import scatter_attention_and_contribution_sentiment\n",
        "\n",
        "from plotly.subplots import make_subplots\n",
        "\n",
        "# Get the figures\n",
        "fig1 = scatter_attention_and_contribution_sentiment(model, (7, 1), all_prompts, [6 for _ in range(len(all_prompts))], answer_residual_directions, return_fig=True)\n",
        "fig2 = scatter_attention_and_contribution_sentiment(model, (9, 2), all_prompts, [6 for _ in range(len(all_prompts))], answer_residual_directions, return_fig=True)\n",
        "fig3 = scatter_attention_and_contribution_sentiment(model, (10, 1), all_prompts, [6 for _ in range(len(all_prompts))], answer_residual_directions, return_fig=True)\n",
        "fig4 = scatter_attention_and_contribution_sentiment(model, (10, 4), all_prompts, [6 for _ in range(len(all_prompts))], answer_residual_directions, return_fig=True)\n",
        "\n",
        "# Create subplot\n",
        "fig = make_subplots(rows=2, cols=2, subplot_titles=(\"Head 7.1\", \"Head 9.2\", \"Head 10.1\", \"Head 10.4\"))\n",
        "\n",
        "# Add each figure's data to the subplot\n",
        "for i, subplot_fig in enumerate([fig1, fig2, fig3, fig4], start=1):\n",
        "    row = (i-1)//2 + 1\n",
        "    col = (i-1)%2 + 1\n",
        "    for trace in subplot_fig['data']:\n",
        "        # Only show legend for the first subplot\n",
        "        trace.showlegend = (i == 1)\n",
        "        fig.add_trace(trace, row=row, col=col)\n",
        "\n",
        "# Update layout\n",
        "fig.update_layout(height=600, title_text=\"Sentiment-Attender Heads\")\n",
        "\n",
        "# Update axes labels\n",
        "for i in range(1, 3):\n",
        "    for j in range(1, 3):\n",
        "        fig.update_xaxes(title_text=\"Attn Prob on Word\", row=i, col=j)\n",
        "        fig.update_yaxes(title_text=\"Dot w Sentiment Embed\", row=i, col=j)\n",
        "\n",
        "fig.show()\n"
      ]
    },
    {
      "attachments": {},
      "cell_type": "markdown",
      "metadata": {},
      "source": [
        "Observations: There appear to be at least three types of heads contributing to the final logit difference: \n",
        "- UNIVERSAL SENTIMENT ATTENDERS: One type attends to the sentiment word--\"perfect\" in this case--and writes out in the direction of the positive or negative class, regardless of whether the word is positive or negative. L10H4 is the biggest example of this.\n",
        "- NEGATIVE SENTIMENT ATTENDERS: Another type seems to focus mostly on negative-sentiment words, and then writes out in the direction of the correct class when the answer is negative (but not in the positive case). L9H2 is the primary example. L10H1 seems to be midway between L10H4 and L9H2 in its behavior. L7H1 seems to do this in a weaker way.\n",
        "- POSITIVITY BOOSTERS: L8H5 displays interestingly different behavior. It does not attend to the sentiment word, but writes out in the positive or negative class direction--but much more when the sentiment word is positive."
      ]
    },
    {
      "attachments": {},
      "cell_type": "markdown",
      "metadata": {},
      "source": [
        "#### Heads Influencing Sentiment-Attenders"
      ]
    },
    {
      "attachments": {},
      "cell_type": "markdown",
      "metadata": {},
      "source": [
        "##### Overall"
      ]
    },
    {
      "cell_type": "code",
      "execution_count": 49,
      "metadata": {},
      "outputs": [
        {
          "data": {
            "application/vnd.jupyter.widget-view+json": {
              "model_id": "b236c0cd35b24c22b340442d329cc6b7",
              "version_major": 2,
              "version_minor": 0
            },
            "text/plain": [
              "  0%|          | 0/144 [00:00<?, ?it/s]"
            ]
          },
          "metadata": {},
          "output_type": "display_data"
        },
        {
          "name": "stdout",
          "output_type": "stream",
          "text": [
            "results['z'].shape = (layer=12, head=12)\n"
          ]
        }
      ],
      "source": [
        "SENTIMENT_ATTENDERS = [(10, 4), (10, 1), (9, 2), (7, 1)]\n",
        "\n",
        "results = path_patch(\n",
        "    model,\n",
        "    orig_input=clean_tokens,\n",
        "    new_input=corrupted_tokens,\n",
        "    sender_nodes=IterNode(\"z\"),\n",
        "    receiver_nodes=[Node(\"v\", layer, head=head) for layer, head in SENTIMENT_ATTENDERS],\n",
        "    patching_metric=logit_diff_noising,\n",
        "    verbose=True,\n",
        ")"
      ]
    },
    {
      "cell_type": "code",
      "execution_count": 50,
      "metadata": {},
      "outputs": [
        {
          "data": {
            "application/vnd.plotly.v1+json": {
              "config": {
                "plotlyServerURL": "https://plot.ly"
              },
              "data": [
                {
                  "coloraxis": "coloraxis",
                  "hovertemplate": "Head: %{x}<br>Layer: %{y}<br>Logit diff variation: %{z}<extra></extra>",
                  "name": "0",
                  "type": "heatmap",
                  "xaxis": "x",
                  "yaxis": "y",
                  "z": [
                    [
                      -0.10254427045583725,
                      -0.7596724033355713,
                      -0.03011193498969078,
                      -1.2019990682601929,
                      -2.3882665634155273,
                      -0.6176409125328064,
                      -0.3436915874481201,
                      -0.077967070043087,
                      0.017142225056886673,
                      0.033162619918584824,
                      0.0710243284702301,
                      -0.09271682798862457
                    ],
                    [
                      0.07449856400489807,
                      0.004281263332813978,
                      0.01096644438803196,
                      0.019597655162215233,
                      0.05619444325566292,
                      0.5497874617576599,
                      -0.17556041479110718,
                      -0.26607364416122437,
                      0.030735807493329048,
                      0.031794678419828415,
                      0.004498760681599379,
                      -0.36242496967315674
                    ],
                    [
                      -0.00452737882733345,
                      -0.6257054805755615,
                      -0.03364340588450432,
                      -0.03327709436416626,
                      -0.0392468236386776,
                      0.04600068926811218,
                      0.042085736989974976,
                      0.018407143652439117,
                      -0.008213385939598083,
                      -0.003909228835254908,
                      0.10291630029678345,
                      0.046870678663253784
                    ],
                    [
                      -0.10712316632270813,
                      0.03155428543686867,
                      -0.04474721476435661,
                      -0.019775087013840675,
                      -0.02900155447423458,
                      0.08193354308605194,
                      -0.01555678341537714,
                      -0.018447209149599075,
                      -0.06866047531366348,
                      -0.06257627159357071,
                      0.13078458607196808,
                      -1.1852803230285645
                    ],
                    [
                      0.027278747409582138,
                      -0.06643971800804138,
                      -0.028085775673389435,
                      0.021452106535434723,
                      0.40103650093078613,
                      -0.04023700952529907,
                      0.059869006276130676,
                      -0.21863633394241333,
                      0.008963179774582386,
                      -0.40036681294441223,
                      -0.1742897778749466,
                      -0.046670351177453995
                    ],
                    [
                      0.032212499529123306,
                      -0.004355670418590307,
                      -0.14528250694274902,
                      -0.04431222006678581,
                      -0.15222524106502533,
                      -0.4043046236038208,
                      -0.011990971863269806,
                      -0.7396912574768066,
                      0.2811267375946045,
                      0.2164556384086609,
                      -0.3868018388748169,
                      1.738633632659912
                    ],
                    [
                      -0.13947875797748566,
                      0.08199077844619751,
                      0.014520809054374695,
                      0.3912319540977478,
                      -3.1096854209899902,
                      0.9068494439125061,
                      0.7148164510726929,
                      -1.9749274253845215,
                      -0.23785051703453064,
                      -0.08704472333192825,
                      -0.37915509939193726,
                      -0.19330362975597382
                    ],
                    [
                      -0.042835529893636703,
                      -4.633357524871826,
                      -0.023180637508630753,
                      0.8104007840156555,
                      -0.051106151193380356,
                      -3.2143845558166504,
                      2.7011680603027344,
                      0.043287694454193115,
                      -0.42769137024879456,
                      -0.27571794390678406,
                      -0.023192083463072777,
                      0.004784941673278809
                    ],
                    [
                      0.11340197175741196,
                      -0.020690863952040672,
                      -0.8859410881996155,
                      -0.038210850208997726,
                      -0.8069551587104797,
                      -1.839953064918518,
                      -0.1575024276971817,
                      -0.061454445123672485,
                      0.4852708876132965,
                      -0.5689501166343689,
                      2.0322320461273193,
                      -0.30815938115119934
                    ],
                    [
                      0.3040669858455658,
                      -0.0547635443508625,
                      -1.0848195552825928,
                      -0.5792927145957947,
                      -0.014354824088513851,
                      0.47473371028900146,
                      -0.08721070736646652,
                      0.6554110646247864,
                      -0.003571535227820277,
                      -0.03089607134461403,
                      -0.3205166757106781,
                      -0.008676999248564243
                    ]
                  ]
                }
              ],
              "layout": {
                "coloraxis": {
                  "cmid": 0,
                  "colorbar": {
                    "ticksuffix": "%",
                    "title": {
                      "text": "Logit diff variation"
                    }
                  },
                  "colorscale": [
                    [
                      0,
                      "rgb(103,0,31)"
                    ],
                    [
                      0.1,
                      "rgb(178,24,43)"
                    ],
                    [
                      0.2,
                      "rgb(214,96,77)"
                    ],
                    [
                      0.3,
                      "rgb(244,165,130)"
                    ],
                    [
                      0.4,
                      "rgb(253,219,199)"
                    ],
                    [
                      0.5,
                      "rgb(247,247,247)"
                    ],
                    [
                      0.6,
                      "rgb(209,229,240)"
                    ],
                    [
                      0.7,
                      "rgb(146,197,222)"
                    ],
                    [
                      0.8,
                      "rgb(67,147,195)"
                    ],
                    [
                      0.9,
                      "rgb(33,102,172)"
                    ],
                    [
                      1,
                      "rgb(5,48,97)"
                    ]
                  ]
                },
                "margin": {
                  "l": 100,
                  "r": 100
                },
                "template": {
                  "data": {
                    "bar": [
                      {
                        "error_x": {
                          "color": "#2a3f5f"
                        },
                        "error_y": {
                          "color": "#2a3f5f"
                        },
                        "marker": {
                          "line": {
                            "color": "#E5ECF6",
                            "width": 0.5
                          },
                          "pattern": {
                            "fillmode": "overlay",
                            "size": 10,
                            "solidity": 0.2
                          }
                        },
                        "type": "bar"
                      }
                    ],
                    "barpolar": [
                      {
                        "marker": {
                          "line": {
                            "color": "#E5ECF6",
                            "width": 0.5
                          },
                          "pattern": {
                            "fillmode": "overlay",
                            "size": 10,
                            "solidity": 0.2
                          }
                        },
                        "type": "barpolar"
                      }
                    ],
                    "carpet": [
                      {
                        "aaxis": {
                          "endlinecolor": "#2a3f5f",
                          "gridcolor": "white",
                          "linecolor": "white",
                          "minorgridcolor": "white",
                          "startlinecolor": "#2a3f5f"
                        },
                        "baxis": {
                          "endlinecolor": "#2a3f5f",
                          "gridcolor": "white",
                          "linecolor": "white",
                          "minorgridcolor": "white",
                          "startlinecolor": "#2a3f5f"
                        },
                        "type": "carpet"
                      }
                    ],
                    "choropleth": [
                      {
                        "colorbar": {
                          "outlinewidth": 0,
                          "ticks": ""
                        },
                        "type": "choropleth"
                      }
                    ],
                    "contour": [
                      {
                        "colorbar": {
                          "outlinewidth": 0,
                          "ticks": ""
                        },
                        "colorscale": [
                          [
                            0,
                            "#0d0887"
                          ],
                          [
                            0.1111111111111111,
                            "#46039f"
                          ],
                          [
                            0.2222222222222222,
                            "#7201a8"
                          ],
                          [
                            0.3333333333333333,
                            "#9c179e"
                          ],
                          [
                            0.4444444444444444,
                            "#bd3786"
                          ],
                          [
                            0.5555555555555556,
                            "#d8576b"
                          ],
                          [
                            0.6666666666666666,
                            "#ed7953"
                          ],
                          [
                            0.7777777777777778,
                            "#fb9f3a"
                          ],
                          [
                            0.8888888888888888,
                            "#fdca26"
                          ],
                          [
                            1,
                            "#f0f921"
                          ]
                        ],
                        "type": "contour"
                      }
                    ],
                    "contourcarpet": [
                      {
                        "colorbar": {
                          "outlinewidth": 0,
                          "ticks": ""
                        },
                        "type": "contourcarpet"
                      }
                    ],
                    "heatmap": [
                      {
                        "colorbar": {
                          "outlinewidth": 0,
                          "ticks": ""
                        },
                        "colorscale": [
                          [
                            0,
                            "#0d0887"
                          ],
                          [
                            0.1111111111111111,
                            "#46039f"
                          ],
                          [
                            0.2222222222222222,
                            "#7201a8"
                          ],
                          [
                            0.3333333333333333,
                            "#9c179e"
                          ],
                          [
                            0.4444444444444444,
                            "#bd3786"
                          ],
                          [
                            0.5555555555555556,
                            "#d8576b"
                          ],
                          [
                            0.6666666666666666,
                            "#ed7953"
                          ],
                          [
                            0.7777777777777778,
                            "#fb9f3a"
                          ],
                          [
                            0.8888888888888888,
                            "#fdca26"
                          ],
                          [
                            1,
                            "#f0f921"
                          ]
                        ],
                        "type": "heatmap"
                      }
                    ],
                    "heatmapgl": [
                      {
                        "colorbar": {
                          "outlinewidth": 0,
                          "ticks": ""
                        },
                        "colorscale": [
                          [
                            0,
                            "#0d0887"
                          ],
                          [
                            0.1111111111111111,
                            "#46039f"
                          ],
                          [
                            0.2222222222222222,
                            "#7201a8"
                          ],
                          [
                            0.3333333333333333,
                            "#9c179e"
                          ],
                          [
                            0.4444444444444444,
                            "#bd3786"
                          ],
                          [
                            0.5555555555555556,
                            "#d8576b"
                          ],
                          [
                            0.6666666666666666,
                            "#ed7953"
                          ],
                          [
                            0.7777777777777778,
                            "#fb9f3a"
                          ],
                          [
                            0.8888888888888888,
                            "#fdca26"
                          ],
                          [
                            1,
                            "#f0f921"
                          ]
                        ],
                        "type": "heatmapgl"
                      }
                    ],
                    "histogram": [
                      {
                        "marker": {
                          "pattern": {
                            "fillmode": "overlay",
                            "size": 10,
                            "solidity": 0.2
                          }
                        },
                        "type": "histogram"
                      }
                    ],
                    "histogram2d": [
                      {
                        "colorbar": {
                          "outlinewidth": 0,
                          "ticks": ""
                        },
                        "colorscale": [
                          [
                            0,
                            "#0d0887"
                          ],
                          [
                            0.1111111111111111,
                            "#46039f"
                          ],
                          [
                            0.2222222222222222,
                            "#7201a8"
                          ],
                          [
                            0.3333333333333333,
                            "#9c179e"
                          ],
                          [
                            0.4444444444444444,
                            "#bd3786"
                          ],
                          [
                            0.5555555555555556,
                            "#d8576b"
                          ],
                          [
                            0.6666666666666666,
                            "#ed7953"
                          ],
                          [
                            0.7777777777777778,
                            "#fb9f3a"
                          ],
                          [
                            0.8888888888888888,
                            "#fdca26"
                          ],
                          [
                            1,
                            "#f0f921"
                          ]
                        ],
                        "type": "histogram2d"
                      }
                    ],
                    "histogram2dcontour": [
                      {
                        "colorbar": {
                          "outlinewidth": 0,
                          "ticks": ""
                        },
                        "colorscale": [
                          [
                            0,
                            "#0d0887"
                          ],
                          [
                            0.1111111111111111,
                            "#46039f"
                          ],
                          [
                            0.2222222222222222,
                            "#7201a8"
                          ],
                          [
                            0.3333333333333333,
                            "#9c179e"
                          ],
                          [
                            0.4444444444444444,
                            "#bd3786"
                          ],
                          [
                            0.5555555555555556,
                            "#d8576b"
                          ],
                          [
                            0.6666666666666666,
                            "#ed7953"
                          ],
                          [
                            0.7777777777777778,
                            "#fb9f3a"
                          ],
                          [
                            0.8888888888888888,
                            "#fdca26"
                          ],
                          [
                            1,
                            "#f0f921"
                          ]
                        ],
                        "type": "histogram2dcontour"
                      }
                    ],
                    "mesh3d": [
                      {
                        "colorbar": {
                          "outlinewidth": 0,
                          "ticks": ""
                        },
                        "type": "mesh3d"
                      }
                    ],
                    "parcoords": [
                      {
                        "line": {
                          "colorbar": {
                            "outlinewidth": 0,
                            "ticks": ""
                          }
                        },
                        "type": "parcoords"
                      }
                    ],
                    "pie": [
                      {
                        "automargin": true,
                        "type": "pie"
                      }
                    ],
                    "scatter": [
                      {
                        "fillpattern": {
                          "fillmode": "overlay",
                          "size": 10,
                          "solidity": 0.2
                        },
                        "type": "scatter"
                      }
                    ],
                    "scatter3d": [
                      {
                        "line": {
                          "colorbar": {
                            "outlinewidth": 0,
                            "ticks": ""
                          }
                        },
                        "marker": {
                          "colorbar": {
                            "outlinewidth": 0,
                            "ticks": ""
                          }
                        },
                        "type": "scatter3d"
                      }
                    ],
                    "scattercarpet": [
                      {
                        "marker": {
                          "colorbar": {
                            "outlinewidth": 0,
                            "ticks": ""
                          }
                        },
                        "type": "scattercarpet"
                      }
                    ],
                    "scattergeo": [
                      {
                        "marker": {
                          "colorbar": {
                            "outlinewidth": 0,
                            "ticks": ""
                          }
                        },
                        "type": "scattergeo"
                      }
                    ],
                    "scattergl": [
                      {
                        "marker": {
                          "colorbar": {
                            "outlinewidth": 0,
                            "ticks": ""
                          }
                        },
                        "type": "scattergl"
                      }
                    ],
                    "scattermapbox": [
                      {
                        "marker": {
                          "colorbar": {
                            "outlinewidth": 0,
                            "ticks": ""
                          }
                        },
                        "type": "scattermapbox"
                      }
                    ],
                    "scatterpolar": [
                      {
                        "marker": {
                          "colorbar": {
                            "outlinewidth": 0,
                            "ticks": ""
                          }
                        },
                        "type": "scatterpolar"
                      }
                    ],
                    "scatterpolargl": [
                      {
                        "marker": {
                          "colorbar": {
                            "outlinewidth": 0,
                            "ticks": ""
                          }
                        },
                        "type": "scatterpolargl"
                      }
                    ],
                    "scatterternary": [
                      {
                        "marker": {
                          "colorbar": {
                            "outlinewidth": 0,
                            "ticks": ""
                          }
                        },
                        "type": "scatterternary"
                      }
                    ],
                    "surface": [
                      {
                        "colorbar": {
                          "outlinewidth": 0,
                          "ticks": ""
                        },
                        "colorscale": [
                          [
                            0,
                            "#0d0887"
                          ],
                          [
                            0.1111111111111111,
                            "#46039f"
                          ],
                          [
                            0.2222222222222222,
                            "#7201a8"
                          ],
                          [
                            0.3333333333333333,
                            "#9c179e"
                          ],
                          [
                            0.4444444444444444,
                            "#bd3786"
                          ],
                          [
                            0.5555555555555556,
                            "#d8576b"
                          ],
                          [
                            0.6666666666666666,
                            "#ed7953"
                          ],
                          [
                            0.7777777777777778,
                            "#fb9f3a"
                          ],
                          [
                            0.8888888888888888,
                            "#fdca26"
                          ],
                          [
                            1,
                            "#f0f921"
                          ]
                        ],
                        "type": "surface"
                      }
                    ],
                    "table": [
                      {
                        "cells": {
                          "fill": {
                            "color": "#EBF0F8"
                          },
                          "line": {
                            "color": "white"
                          }
                        },
                        "header": {
                          "fill": {
                            "color": "#C8D4E3"
                          },
                          "line": {
                            "color": "white"
                          }
                        },
                        "type": "table"
                      }
                    ]
                  },
                  "layout": {
                    "annotationdefaults": {
                      "arrowcolor": "#2a3f5f",
                      "arrowhead": 0,
                      "arrowwidth": 1
                    },
                    "autotypenumbers": "strict",
                    "coloraxis": {
                      "colorbar": {
                        "outlinewidth": 0,
                        "ticks": ""
                      }
                    },
                    "colorscale": {
                      "diverging": [
                        [
                          0,
                          "#8e0152"
                        ],
                        [
                          0.1,
                          "#c51b7d"
                        ],
                        [
                          0.2,
                          "#de77ae"
                        ],
                        [
                          0.3,
                          "#f1b6da"
                        ],
                        [
                          0.4,
                          "#fde0ef"
                        ],
                        [
                          0.5,
                          "#f7f7f7"
                        ],
                        [
                          0.6,
                          "#e6f5d0"
                        ],
                        [
                          0.7,
                          "#b8e186"
                        ],
                        [
                          0.8,
                          "#7fbc41"
                        ],
                        [
                          0.9,
                          "#4d9221"
                        ],
                        [
                          1,
                          "#276419"
                        ]
                      ],
                      "sequential": [
                        [
                          0,
                          "#0d0887"
                        ],
                        [
                          0.1111111111111111,
                          "#46039f"
                        ],
                        [
                          0.2222222222222222,
                          "#7201a8"
                        ],
                        [
                          0.3333333333333333,
                          "#9c179e"
                        ],
                        [
                          0.4444444444444444,
                          "#bd3786"
                        ],
                        [
                          0.5555555555555556,
                          "#d8576b"
                        ],
                        [
                          0.6666666666666666,
                          "#ed7953"
                        ],
                        [
                          0.7777777777777778,
                          "#fb9f3a"
                        ],
                        [
                          0.8888888888888888,
                          "#fdca26"
                        ],
                        [
                          1,
                          "#f0f921"
                        ]
                      ],
                      "sequentialminus": [
                        [
                          0,
                          "#0d0887"
                        ],
                        [
                          0.1111111111111111,
                          "#46039f"
                        ],
                        [
                          0.2222222222222222,
                          "#7201a8"
                        ],
                        [
                          0.3333333333333333,
                          "#9c179e"
                        ],
                        [
                          0.4444444444444444,
                          "#bd3786"
                        ],
                        [
                          0.5555555555555556,
                          "#d8576b"
                        ],
                        [
                          0.6666666666666666,
                          "#ed7953"
                        ],
                        [
                          0.7777777777777778,
                          "#fb9f3a"
                        ],
                        [
                          0.8888888888888888,
                          "#fdca26"
                        ],
                        [
                          1,
                          "#f0f921"
                        ]
                      ]
                    },
                    "colorway": [
                      "#636efa",
                      "#EF553B",
                      "#00cc96",
                      "#ab63fa",
                      "#FFA15A",
                      "#19d3f3",
                      "#FF6692",
                      "#B6E880",
                      "#FF97FF",
                      "#FECB52"
                    ],
                    "font": {
                      "color": "#2a3f5f"
                    },
                    "geo": {
                      "bgcolor": "white",
                      "lakecolor": "white",
                      "landcolor": "#E5ECF6",
                      "showlakes": true,
                      "showland": true,
                      "subunitcolor": "white"
                    },
                    "hoverlabel": {
                      "align": "left"
                    },
                    "hovermode": "closest",
                    "mapbox": {
                      "style": "light"
                    },
                    "paper_bgcolor": "white",
                    "plot_bgcolor": "#E5ECF6",
                    "polar": {
                      "angularaxis": {
                        "gridcolor": "white",
                        "linecolor": "white",
                        "ticks": ""
                      },
                      "bgcolor": "#E5ECF6",
                      "radialaxis": {
                        "gridcolor": "white",
                        "linecolor": "white",
                        "ticks": ""
                      }
                    },
                    "scene": {
                      "xaxis": {
                        "backgroundcolor": "#E5ECF6",
                        "gridcolor": "white",
                        "gridwidth": 2,
                        "linecolor": "white",
                        "showbackground": true,
                        "ticks": "",
                        "zerolinecolor": "white"
                      },
                      "yaxis": {
                        "backgroundcolor": "#E5ECF6",
                        "gridcolor": "white",
                        "gridwidth": 2,
                        "linecolor": "white",
                        "showbackground": true,
                        "ticks": "",
                        "zerolinecolor": "white"
                      },
                      "zaxis": {
                        "backgroundcolor": "#E5ECF6",
                        "gridcolor": "white",
                        "gridwidth": 2,
                        "linecolor": "white",
                        "showbackground": true,
                        "ticks": "",
                        "zerolinecolor": "white"
                      }
                    },
                    "shapedefaults": {
                      "line": {
                        "color": "#2a3f5f"
                      }
                    },
                    "ternary": {
                      "aaxis": {
                        "gridcolor": "white",
                        "linecolor": "white",
                        "ticks": ""
                      },
                      "baxis": {
                        "gridcolor": "white",
                        "linecolor": "white",
                        "ticks": ""
                      },
                      "bgcolor": "#E5ECF6",
                      "caxis": {
                        "gridcolor": "white",
                        "linecolor": "white",
                        "ticks": ""
                      }
                    },
                    "title": {
                      "x": 0.05
                    },
                    "xaxis": {
                      "automargin": true,
                      "gridcolor": "white",
                      "linecolor": "white",
                      "ticks": "",
                      "title": {
                        "standoff": 15
                      },
                      "zerolinecolor": "white",
                      "zerolinewidth": 2
                    },
                    "yaxis": {
                      "automargin": true,
                      "gridcolor": "white",
                      "linecolor": "white",
                      "ticks": "",
                      "title": {
                        "standoff": 15
                      },
                      "zerolinecolor": "white",
                      "zerolinewidth": 2
                    }
                  }
                },
                "title": {
                  "text": "Direct effect on Sentiment Attenders' values from position 17 ( movie)"
                },
                "width": 700,
                "xaxis": {
                  "anchor": "y",
                  "constrain": "domain",
                  "domain": [
                    0,
                    1
                  ],
                  "linecolor": "black",
                  "linewidth": 1,
                  "mirror": true,
                  "scaleanchor": "y",
                  "showline": true,
                  "title": {
                    "text": "Head"
                  }
                },
                "yaxis": {
                  "anchor": "x",
                  "autorange": "reversed",
                  "constrain": "domain",
                  "domain": [
                    0,
                    1
                  ],
                  "linecolor": "black",
                  "linewidth": 1,
                  "mirror": true,
                  "showline": true,
                  "title": {
                    "text": "Layer"
                  }
                }
              }
            }
          },
          "metadata": {},
          "output_type": "display_data"
        }
      ],
      "source": [
        "imshow_p(\n",
        "        results[\"z\"][:10] * 100,\n",
        "        title=f\"Direct effect on Sentiment Attenders' values)\",\n",
        "        labels={\"x\": \"Head\", \"y\": \"Layer\", \"color\": \"Logit diff variation\"},\n",
        "        coloraxis=dict(colorbar_ticksuffix = \"%\"),\n",
        "        border=True,\n",
        "        width=700,\n",
        "        margin={\"r\": 100, \"l\": 100}\n",
        "    )"
      ]
    },
    {
      "attachments": {},
      "cell_type": "markdown",
      "metadata": {},
      "source": [
        "##### Key Positions"
      ]
    },
    {
      "cell_type": "code",
      "execution_count": 42,
      "metadata": {},
      "outputs": [
        {
          "data": {
            "application/vnd.jupyter.widget-view+json": {
              "model_id": "04d8d5ed63654e048908044853aa2f31",
              "version_major": 2,
              "version_minor": 0
            },
            "text/plain": [
              "  0%|          | 0/2736 [00:00<?, ?it/s]"
            ]
          },
          "metadata": {},
          "output_type": "display_data"
        },
        {
          "name": "stdout",
          "output_type": "stream",
          "text": [
            "results['z'].shape = (seq_pos=19, layer=12, head=12)\n"
          ]
        }
      ],
      "source": [
        "results = path_patch(\n",
        "    model,\n",
        "    orig_input=clean_tokens,\n",
        "    new_input=corrupted_tokens,\n",
        "    sender_nodes=IterNode(\"z\", seq_pos=\"each\"),\n",
        "    receiver_nodes=[Node(\"v\", layer, head=head) for layer, head in SENTIMENT_ATTENDERS],\n",
        "    patching_metric=logit_diff_noising,\n",
        "    verbose=True,\n",
        ")"
      ]
    },
    {
      "cell_type": "code",
      "execution_count": 43,
      "metadata": {},
      "outputs": [
        {
          "data": {
            "text/plain": [
              "torch.Size([19, 12, 12])"
            ]
          },
          "execution_count": 43,
          "metadata": {},
          "output_type": "execute_result"
        }
      ],
      "source": [
        "results[\"z\"].shape"
      ]
    },
    {
      "cell_type": "code",
      "execution_count": 48,
      "metadata": {},
      "outputs": [
        {
          "data": {
            "application/vnd.plotly.v1+json": {
              "config": {
                "plotlyServerURL": "https://plot.ly"
              },
              "data": [
                {
                  "coloraxis": "coloraxis",
                  "hovertemplate": "Head: %{x}<br>Layer: %{y}<br>Logit diff variation: %{z}<extra></extra>",
                  "name": "0",
                  "type": "heatmap",
                  "xaxis": "x",
                  "yaxis": "y",
                  "z": [
                    [
                      -0.10217796266078949,
                      -0.7574287056922913,
                      -0.029671218246221542,
                      -1.2013007402420044,
                      -2.3817646503448486,
                      -0.6172860264778137,
                      -0.34298187494277954,
                      -0.07756643742322922,
                      0.017674520611763,
                      0.03349459171295166,
                      0.07155662775039673,
                      -0.09240203350782394
                    ],
                    [
                      0.07505948096513748,
                      0.0046590231359004974,
                      0.011452952399849892,
                      0.020078439265489578,
                      0.056509219110012054,
                      0.5504628419876099,
                      -0.1751597672700882,
                      -0.2655985653400421,
                      0.03107922337949276,
                      0.03220105543732643,
                      0.004779217764735222,
                      -0.3612860441207886
                    ],
                    [
                      -0.004298432730138302,
                      -0.6250415444374084,
                      -0.03335149586200714,
                      -0.03284209966659546,
                      -0.03888051584362984,
                      0.04631549119949341,
                      0.042526453733444214,
                      0.01884213648736477,
                      -0.007789839059114456,
                      -0.0031079223845154047,
                      0.10348865389823914,
                      0.04715685173869133
                    ],
                    [
                      -0.10667099058628082,
                      0.032029345631599426,
                      -0.04442097246646881,
                      -0.019362984225153923,
                      -0.028515048325061798,
                      0.08229412883520126,
                      -0.015053103677928448,
                      -0.017989318817853928,
                      -0.06829989701509476,
                      -0.06216989830136299,
                      0.13117951154708862,
                      -1.1799345016479492
                    ],
                    [
                      0.02754775620996952,
                      -0.06604478508234024,
                      -0.027679402381181717,
                      0.021967235952615738,
                      0.40212398767471313,
                      -0.040111083537340164,
                      0.06060734763741493,
                      -0.21663308143615723,
                      0.009312324225902557,
                      -0.398123174905777,
                      -0.1738090068101883,
                      -0.046361278742551804
                    ],
                    [
                      0.03240137919783592,
                      -0.004098108038306236,
                      -0.14492765069007874,
                      -0.043974533677101135,
                      -0.1518932729959488,
                      -0.40378379821777344,
                      -0.011618937365710735,
                      -0.7383577227592468,
                      0.2817334234714508,
                      0.21756602823734283,
                      -0.387253999710083,
                      1.7460687160491943
                    ],
                    [
                      -0.13922691345214844,
                      0.08250590413808823,
                      0.01600322127342224,
                      0.39373886585235596,
                      -3.0541434288024902,
                      0.9127734303474426,
                      0.7159268260002136,
                      -1.9625184535980225,
                      -0.23713505268096924,
                      -0.08658111095428467,
                      -0.37873154878616333,
                      -0.19101987779140472
                    ],
                    [
                      -0.042652372270822525,
                      -4.616055011749268,
                      -0.022751368582248688,
                      0.812117874622345,
                      -0.05094016715884209,
                      -3.207928419113159,
                      2.7222139835357666,
                      0.04352236166596413,
                      -0.4272277057170868,
                      -0.2755576968193054,
                      -0.022837219759821892,
                      0.00514552928507328
                    ],
                    [
                      0.11361373960971832,
                      -0.020192909985780716,
                      -0.8846074342727661,
                      -0.03773578628897667,
                      -0.8058276176452637,
                      -1.8381158113479614,
                      -0.15714755654335022,
                      -0.0610995814204216,
                      0.4885734021663666,
                      -0.5682975649833679,
                      2.0397472381591797,
                      -0.3077072203159332
                    ],
                    [
                      0.30462226271629333,
                      -0.0544830821454525,
                      -1.0842758417129517,
                      -0.5786287784576416,
                      -0.014005681499838829,
                      0.47524887323379517,
                      -0.08676426857709885,
                      0.65590900182724,
                      -0.0032624604646116495,
                      -0.03056981973350048,
                      -0.3200931251049042,
                      -0.008121808990836143
                    ]
                  ]
                }
              ],
              "layout": {
                "coloraxis": {
                  "cmid": 0,
                  "colorbar": {
                    "ticksuffix": "%",
                    "title": {
                      "text": "Logit diff variation"
                    }
                  },
                  "colorscale": [
                    [
                      0,
                      "rgb(103,0,31)"
                    ],
                    [
                      0.1,
                      "rgb(178,24,43)"
                    ],
                    [
                      0.2,
                      "rgb(214,96,77)"
                    ],
                    [
                      0.3,
                      "rgb(244,165,130)"
                    ],
                    [
                      0.4,
                      "rgb(253,219,199)"
                    ],
                    [
                      0.5,
                      "rgb(247,247,247)"
                    ],
                    [
                      0.6,
                      "rgb(209,229,240)"
                    ],
                    [
                      0.7,
                      "rgb(146,197,222)"
                    ],
                    [
                      0.8,
                      "rgb(67,147,195)"
                    ],
                    [
                      0.9,
                      "rgb(33,102,172)"
                    ],
                    [
                      1,
                      "rgb(5,48,97)"
                    ]
                  ]
                },
                "margin": {
                  "l": 100,
                  "r": 100
                },
                "template": {
                  "data": {
                    "bar": [
                      {
                        "error_x": {
                          "color": "#2a3f5f"
                        },
                        "error_y": {
                          "color": "#2a3f5f"
                        },
                        "marker": {
                          "line": {
                            "color": "#E5ECF6",
                            "width": 0.5
                          },
                          "pattern": {
                            "fillmode": "overlay",
                            "size": 10,
                            "solidity": 0.2
                          }
                        },
                        "type": "bar"
                      }
                    ],
                    "barpolar": [
                      {
                        "marker": {
                          "line": {
                            "color": "#E5ECF6",
                            "width": 0.5
                          },
                          "pattern": {
                            "fillmode": "overlay",
                            "size": 10,
                            "solidity": 0.2
                          }
                        },
                        "type": "barpolar"
                      }
                    ],
                    "carpet": [
                      {
                        "aaxis": {
                          "endlinecolor": "#2a3f5f",
                          "gridcolor": "white",
                          "linecolor": "white",
                          "minorgridcolor": "white",
                          "startlinecolor": "#2a3f5f"
                        },
                        "baxis": {
                          "endlinecolor": "#2a3f5f",
                          "gridcolor": "white",
                          "linecolor": "white",
                          "minorgridcolor": "white",
                          "startlinecolor": "#2a3f5f"
                        },
                        "type": "carpet"
                      }
                    ],
                    "choropleth": [
                      {
                        "colorbar": {
                          "outlinewidth": 0,
                          "ticks": ""
                        },
                        "type": "choropleth"
                      }
                    ],
                    "contour": [
                      {
                        "colorbar": {
                          "outlinewidth": 0,
                          "ticks": ""
                        },
                        "colorscale": [
                          [
                            0,
                            "#0d0887"
                          ],
                          [
                            0.1111111111111111,
                            "#46039f"
                          ],
                          [
                            0.2222222222222222,
                            "#7201a8"
                          ],
                          [
                            0.3333333333333333,
                            "#9c179e"
                          ],
                          [
                            0.4444444444444444,
                            "#bd3786"
                          ],
                          [
                            0.5555555555555556,
                            "#d8576b"
                          ],
                          [
                            0.6666666666666666,
                            "#ed7953"
                          ],
                          [
                            0.7777777777777778,
                            "#fb9f3a"
                          ],
                          [
                            0.8888888888888888,
                            "#fdca26"
                          ],
                          [
                            1,
                            "#f0f921"
                          ]
                        ],
                        "type": "contour"
                      }
                    ],
                    "contourcarpet": [
                      {
                        "colorbar": {
                          "outlinewidth": 0,
                          "ticks": ""
                        },
                        "type": "contourcarpet"
                      }
                    ],
                    "heatmap": [
                      {
                        "colorbar": {
                          "outlinewidth": 0,
                          "ticks": ""
                        },
                        "colorscale": [
                          [
                            0,
                            "#0d0887"
                          ],
                          [
                            0.1111111111111111,
                            "#46039f"
                          ],
                          [
                            0.2222222222222222,
                            "#7201a8"
                          ],
                          [
                            0.3333333333333333,
                            "#9c179e"
                          ],
                          [
                            0.4444444444444444,
                            "#bd3786"
                          ],
                          [
                            0.5555555555555556,
                            "#d8576b"
                          ],
                          [
                            0.6666666666666666,
                            "#ed7953"
                          ],
                          [
                            0.7777777777777778,
                            "#fb9f3a"
                          ],
                          [
                            0.8888888888888888,
                            "#fdca26"
                          ],
                          [
                            1,
                            "#f0f921"
                          ]
                        ],
                        "type": "heatmap"
                      }
                    ],
                    "heatmapgl": [
                      {
                        "colorbar": {
                          "outlinewidth": 0,
                          "ticks": ""
                        },
                        "colorscale": [
                          [
                            0,
                            "#0d0887"
                          ],
                          [
                            0.1111111111111111,
                            "#46039f"
                          ],
                          [
                            0.2222222222222222,
                            "#7201a8"
                          ],
                          [
                            0.3333333333333333,
                            "#9c179e"
                          ],
                          [
                            0.4444444444444444,
                            "#bd3786"
                          ],
                          [
                            0.5555555555555556,
                            "#d8576b"
                          ],
                          [
                            0.6666666666666666,
                            "#ed7953"
                          ],
                          [
                            0.7777777777777778,
                            "#fb9f3a"
                          ],
                          [
                            0.8888888888888888,
                            "#fdca26"
                          ],
                          [
                            1,
                            "#f0f921"
                          ]
                        ],
                        "type": "heatmapgl"
                      }
                    ],
                    "histogram": [
                      {
                        "marker": {
                          "pattern": {
                            "fillmode": "overlay",
                            "size": 10,
                            "solidity": 0.2
                          }
                        },
                        "type": "histogram"
                      }
                    ],
                    "histogram2d": [
                      {
                        "colorbar": {
                          "outlinewidth": 0,
                          "ticks": ""
                        },
                        "colorscale": [
                          [
                            0,
                            "#0d0887"
                          ],
                          [
                            0.1111111111111111,
                            "#46039f"
                          ],
                          [
                            0.2222222222222222,
                            "#7201a8"
                          ],
                          [
                            0.3333333333333333,
                            "#9c179e"
                          ],
                          [
                            0.4444444444444444,
                            "#bd3786"
                          ],
                          [
                            0.5555555555555556,
                            "#d8576b"
                          ],
                          [
                            0.6666666666666666,
                            "#ed7953"
                          ],
                          [
                            0.7777777777777778,
                            "#fb9f3a"
                          ],
                          [
                            0.8888888888888888,
                            "#fdca26"
                          ],
                          [
                            1,
                            "#f0f921"
                          ]
                        ],
                        "type": "histogram2d"
                      }
                    ],
                    "histogram2dcontour": [
                      {
                        "colorbar": {
                          "outlinewidth": 0,
                          "ticks": ""
                        },
                        "colorscale": [
                          [
                            0,
                            "#0d0887"
                          ],
                          [
                            0.1111111111111111,
                            "#46039f"
                          ],
                          [
                            0.2222222222222222,
                            "#7201a8"
                          ],
                          [
                            0.3333333333333333,
                            "#9c179e"
                          ],
                          [
                            0.4444444444444444,
                            "#bd3786"
                          ],
                          [
                            0.5555555555555556,
                            "#d8576b"
                          ],
                          [
                            0.6666666666666666,
                            "#ed7953"
                          ],
                          [
                            0.7777777777777778,
                            "#fb9f3a"
                          ],
                          [
                            0.8888888888888888,
                            "#fdca26"
                          ],
                          [
                            1,
                            "#f0f921"
                          ]
                        ],
                        "type": "histogram2dcontour"
                      }
                    ],
                    "mesh3d": [
                      {
                        "colorbar": {
                          "outlinewidth": 0,
                          "ticks": ""
                        },
                        "type": "mesh3d"
                      }
                    ],
                    "parcoords": [
                      {
                        "line": {
                          "colorbar": {
                            "outlinewidth": 0,
                            "ticks": ""
                          }
                        },
                        "type": "parcoords"
                      }
                    ],
                    "pie": [
                      {
                        "automargin": true,
                        "type": "pie"
                      }
                    ],
                    "scatter": [
                      {
                        "fillpattern": {
                          "fillmode": "overlay",
                          "size": 10,
                          "solidity": 0.2
                        },
                        "type": "scatter"
                      }
                    ],
                    "scatter3d": [
                      {
                        "line": {
                          "colorbar": {
                            "outlinewidth": 0,
                            "ticks": ""
                          }
                        },
                        "marker": {
                          "colorbar": {
                            "outlinewidth": 0,
                            "ticks": ""
                          }
                        },
                        "type": "scatter3d"
                      }
                    ],
                    "scattercarpet": [
                      {
                        "marker": {
                          "colorbar": {
                            "outlinewidth": 0,
                            "ticks": ""
                          }
                        },
                        "type": "scattercarpet"
                      }
                    ],
                    "scattergeo": [
                      {
                        "marker": {
                          "colorbar": {
                            "outlinewidth": 0,
                            "ticks": ""
                          }
                        },
                        "type": "scattergeo"
                      }
                    ],
                    "scattergl": [
                      {
                        "marker": {
                          "colorbar": {
                            "outlinewidth": 0,
                            "ticks": ""
                          }
                        },
                        "type": "scattergl"
                      }
                    ],
                    "scattermapbox": [
                      {
                        "marker": {
                          "colorbar": {
                            "outlinewidth": 0,
                            "ticks": ""
                          }
                        },
                        "type": "scattermapbox"
                      }
                    ],
                    "scatterpolar": [
                      {
                        "marker": {
                          "colorbar": {
                            "outlinewidth": 0,
                            "ticks": ""
                          }
                        },
                        "type": "scatterpolar"
                      }
                    ],
                    "scatterpolargl": [
                      {
                        "marker": {
                          "colorbar": {
                            "outlinewidth": 0,
                            "ticks": ""
                          }
                        },
                        "type": "scatterpolargl"
                      }
                    ],
                    "scatterternary": [
                      {
                        "marker": {
                          "colorbar": {
                            "outlinewidth": 0,
                            "ticks": ""
                          }
                        },
                        "type": "scatterternary"
                      }
                    ],
                    "surface": [
                      {
                        "colorbar": {
                          "outlinewidth": 0,
                          "ticks": ""
                        },
                        "colorscale": [
                          [
                            0,
                            "#0d0887"
                          ],
                          [
                            0.1111111111111111,
                            "#46039f"
                          ],
                          [
                            0.2222222222222222,
                            "#7201a8"
                          ],
                          [
                            0.3333333333333333,
                            "#9c179e"
                          ],
                          [
                            0.4444444444444444,
                            "#bd3786"
                          ],
                          [
                            0.5555555555555556,
                            "#d8576b"
                          ],
                          [
                            0.6666666666666666,
                            "#ed7953"
                          ],
                          [
                            0.7777777777777778,
                            "#fb9f3a"
                          ],
                          [
                            0.8888888888888888,
                            "#fdca26"
                          ],
                          [
                            1,
                            "#f0f921"
                          ]
                        ],
                        "type": "surface"
                      }
                    ],
                    "table": [
                      {
                        "cells": {
                          "fill": {
                            "color": "#EBF0F8"
                          },
                          "line": {
                            "color": "white"
                          }
                        },
                        "header": {
                          "fill": {
                            "color": "#C8D4E3"
                          },
                          "line": {
                            "color": "white"
                          }
                        },
                        "type": "table"
                      }
                    ]
                  },
                  "layout": {
                    "annotationdefaults": {
                      "arrowcolor": "#2a3f5f",
                      "arrowhead": 0,
                      "arrowwidth": 1
                    },
                    "autotypenumbers": "strict",
                    "coloraxis": {
                      "colorbar": {
                        "outlinewidth": 0,
                        "ticks": ""
                      }
                    },
                    "colorscale": {
                      "diverging": [
                        [
                          0,
                          "#8e0152"
                        ],
                        [
                          0.1,
                          "#c51b7d"
                        ],
                        [
                          0.2,
                          "#de77ae"
                        ],
                        [
                          0.3,
                          "#f1b6da"
                        ],
                        [
                          0.4,
                          "#fde0ef"
                        ],
                        [
                          0.5,
                          "#f7f7f7"
                        ],
                        [
                          0.6,
                          "#e6f5d0"
                        ],
                        [
                          0.7,
                          "#b8e186"
                        ],
                        [
                          0.8,
                          "#7fbc41"
                        ],
                        [
                          0.9,
                          "#4d9221"
                        ],
                        [
                          1,
                          "#276419"
                        ]
                      ],
                      "sequential": [
                        [
                          0,
                          "#0d0887"
                        ],
                        [
                          0.1111111111111111,
                          "#46039f"
                        ],
                        [
                          0.2222222222222222,
                          "#7201a8"
                        ],
                        [
                          0.3333333333333333,
                          "#9c179e"
                        ],
                        [
                          0.4444444444444444,
                          "#bd3786"
                        ],
                        [
                          0.5555555555555556,
                          "#d8576b"
                        ],
                        [
                          0.6666666666666666,
                          "#ed7953"
                        ],
                        [
                          0.7777777777777778,
                          "#fb9f3a"
                        ],
                        [
                          0.8888888888888888,
                          "#fdca26"
                        ],
                        [
                          1,
                          "#f0f921"
                        ]
                      ],
                      "sequentialminus": [
                        [
                          0,
                          "#0d0887"
                        ],
                        [
                          0.1111111111111111,
                          "#46039f"
                        ],
                        [
                          0.2222222222222222,
                          "#7201a8"
                        ],
                        [
                          0.3333333333333333,
                          "#9c179e"
                        ],
                        [
                          0.4444444444444444,
                          "#bd3786"
                        ],
                        [
                          0.5555555555555556,
                          "#d8576b"
                        ],
                        [
                          0.6666666666666666,
                          "#ed7953"
                        ],
                        [
                          0.7777777777777778,
                          "#fb9f3a"
                        ],
                        [
                          0.8888888888888888,
                          "#fdca26"
                        ],
                        [
                          1,
                          "#f0f921"
                        ]
                      ]
                    },
                    "colorway": [
                      "#636efa",
                      "#EF553B",
                      "#00cc96",
                      "#ab63fa",
                      "#FFA15A",
                      "#19d3f3",
                      "#FF6692",
                      "#B6E880",
                      "#FF97FF",
                      "#FECB52"
                    ],
                    "font": {
                      "color": "#2a3f5f"
                    },
                    "geo": {
                      "bgcolor": "white",
                      "lakecolor": "white",
                      "landcolor": "#E5ECF6",
                      "showlakes": true,
                      "showland": true,
                      "subunitcolor": "white"
                    },
                    "hoverlabel": {
                      "align": "left"
                    },
                    "hovermode": "closest",
                    "mapbox": {
                      "style": "light"
                    },
                    "paper_bgcolor": "white",
                    "plot_bgcolor": "#E5ECF6",
                    "polar": {
                      "angularaxis": {
                        "gridcolor": "white",
                        "linecolor": "white",
                        "ticks": ""
                      },
                      "bgcolor": "#E5ECF6",
                      "radialaxis": {
                        "gridcolor": "white",
                        "linecolor": "white",
                        "ticks": ""
                      }
                    },
                    "scene": {
                      "xaxis": {
                        "backgroundcolor": "#E5ECF6",
                        "gridcolor": "white",
                        "gridwidth": 2,
                        "linecolor": "white",
                        "showbackground": true,
                        "ticks": "",
                        "zerolinecolor": "white"
                      },
                      "yaxis": {
                        "backgroundcolor": "#E5ECF6",
                        "gridcolor": "white",
                        "gridwidth": 2,
                        "linecolor": "white",
                        "showbackground": true,
                        "ticks": "",
                        "zerolinecolor": "white"
                      },
                      "zaxis": {
                        "backgroundcolor": "#E5ECF6",
                        "gridcolor": "white",
                        "gridwidth": 2,
                        "linecolor": "white",
                        "showbackground": true,
                        "ticks": "",
                        "zerolinecolor": "white"
                      }
                    },
                    "shapedefaults": {
                      "line": {
                        "color": "#2a3f5f"
                      }
                    },
                    "ternary": {
                      "aaxis": {
                        "gridcolor": "white",
                        "linecolor": "white",
                        "ticks": ""
                      },
                      "baxis": {
                        "gridcolor": "white",
                        "linecolor": "white",
                        "ticks": ""
                      },
                      "bgcolor": "#E5ECF6",
                      "caxis": {
                        "gridcolor": "white",
                        "linecolor": "white",
                        "ticks": ""
                      }
                    },
                    "title": {
                      "x": 0.05
                    },
                    "xaxis": {
                      "automargin": true,
                      "gridcolor": "white",
                      "linecolor": "white",
                      "ticks": "",
                      "title": {
                        "standoff": 15
                      },
                      "zerolinecolor": "white",
                      "zerolinewidth": 2
                    },
                    "yaxis": {
                      "automargin": true,
                      "gridcolor": "white",
                      "linecolor": "white",
                      "ticks": "",
                      "title": {
                        "standoff": 15
                      },
                      "zerolinecolor": "white",
                      "zerolinewidth": 2
                    }
                  }
                },
                "title": {
                  "text": "Direct effect on Sentiment Attenders' values from position 17 ( movie)"
                },
                "width": 700,
                "xaxis": {
                  "anchor": "y",
                  "constrain": "domain",
                  "domain": [
                    0,
                    1
                  ],
                  "linecolor": "black",
                  "linewidth": 1,
                  "mirror": true,
                  "scaleanchor": "y",
                  "showline": true,
                  "title": {
                    "text": "Head"
                  }
                },
                "yaxis": {
                  "anchor": "x",
                  "autorange": "reversed",
                  "constrain": "domain",
                  "domain": [
                    0,
                    1
                  ],
                  "linecolor": "black",
                  "linewidth": 1,
                  "mirror": true,
                  "showline": true,
                  "title": {
                    "text": "Layer"
                  }
                }
              }
            }
          },
          "metadata": {},
          "output_type": "display_data"
        },
        {
          "data": {
            "application/vnd.plotly.v1+json": {
              "config": {
                "plotlyServerURL": "https://plot.ly"
              },
              "data": [
                {
                  "coloraxis": "coloraxis",
                  "hovertemplate": "Head: %{x}<br>Layer: %{y}<br>Logit diff variation: %{z}<extra></extra>",
                  "name": "0",
                  "type": "heatmap",
                  "xaxis": "x",
                  "yaxis": "y",
                  "z": [
                    [
                      -0.017216632142663002,
                      -0.5550245642662048,
                      -0.020290212705731392,
                      -1.180426836013794,
                      -2.0201754570007324,
                      -0.5167336463928223,
                      -0.07886568456888199,
                      -0.06708648055791855,
                      0.009970535524189472,
                      0.014423507265746593,
                      0.1242024227976799,
                      -0.05941111594438553
                    ],
                    [
                      0.03268183767795563,
                      -0.023924708366394043,
                      0.011699067428708076,
                      0.012431689538061619,
                      0.08710195869207382,
                      0.5070148706436157,
                      -0.08988936245441437,
                      0.013954171910881996,
                      -0.010600133799016476,
                      0.004933755379170179,
                      -0.004017977509647608,
                      -0.43135449290275574
                    ],
                    [
                      0.07081828266382217,
                      -0.14014269411563873,
                      -0.020616458728909492,
                      -0.009375279769301414,
                      -0.018246881663799286,
                      0.04452971741557121,
                      0.04890256002545357,
                      -0.020078439265489578,
                      0.01433765422552824,
                      -0.011699067428708076,
                      0.017502812668681145,
                      0.030375219881534576
                    ],
                    [
                      -0.0990872010588646,
                      -0.008316411636769772,
                      0.04182244837284088,
                      0.030924689024686813,
                      -0.005517564248293638,
                      0.1065279096364975,
                      0.0018887927290052176,
                      -0.031245209276676178,
                      -0.03477095812559128,
                      0.0066508399322628975,
                      -0.017651626840233803,
                      -0.48521938920021057
                    ],
                    [
                      0.03184046596288681,
                      -0.05442584678530693,
                      0.01925996132194996,
                      0.0007955824257805943,
                      0.1487739086151123,
                      -0.04458695650100708,
                      0.0012420242419466376,
                      -0.05444301664829254,
                      0.04394591227173805,
                      0.09664894640445709,
                      -0.02505798265337944,
                      -0.00003434168320382014
                    ],
                    [
                      0.014595216140151024,
                      -0.0006982809281907976,
                      -0.06824837625026703,
                      0.026139745488762856,
                      0.027667952701449394,
                      -0.00843660719692707,
                      -0.001087486743927002,
                      -0.3182043433189392,
                      0.05736778303980827,
                      0.054179731756448746,
                      -0.0013336021220311522,
                      0.5900645852088928
                    ],
                    [
                      -0.039721883833408356,
                      0.06891804188489914,
                      0.06246752291917801,
                      0.28814390301704407,
                      -0.15687282383441925,
                      -0.019809428602457047,
                      0.018103791400790215,
                      -0.03516588360071182,
                      -0.07715431600809097,
                      0.00037203493411652744,
                      -0.007320502307265997,
                      0.015871582552790642
                    ],
                    [
                      0.004166791215538979,
                      -0.3043818175792694,
                      -0.0034112741705030203,
                      0.23735256493091583,
                      -0.04198271036148071,
                      -0.0583350770175457,
                      0.1334575116634369,
                      0.01874483749270439,
                      -0.21672464907169342,
                      0.1216554194688797,
                      0.0028331889770925045,
                      0.00419540936127305
                    ],
                    [
                      0.05603418126702309,
                      -0.00038348216912709177,
                      -0.10708309710025787,
                      0.004143896978348494,
                      -0.2246117889881134,
                      -0.11486721783876419,
                      0.01830984279513359,
                      -0.00268437503837049,
                      0.14038881659507751,
                      -0.25585129857063293,
                      0.002369576133787632,
                      -0.02129184454679489
                    ],
                    [
                      0.27910059690475464,
                      0.004006530158221722,
                      -0.18094633519649506,
                      -0.1264689862728119,
                      -0.008951732888817787,
                      0.1294681578874588,
                      -0.022253410890698433,
                      0.22223077714443207,
                      0.008734235540032387,
                      -0.0007268990157172084,
                      -0.07653617113828659,
                      0.0034227215219289064
                    ]
                  ]
                }
              ],
              "layout": {
                "coloraxis": {
                  "cmid": 0,
                  "colorbar": {
                    "ticksuffix": "%",
                    "title": {
                      "text": "Logit diff variation"
                    }
                  },
                  "colorscale": [
                    [
                      0,
                      "rgb(103,0,31)"
                    ],
                    [
                      0.1,
                      "rgb(178,24,43)"
                    ],
                    [
                      0.2,
                      "rgb(214,96,77)"
                    ],
                    [
                      0.3,
                      "rgb(244,165,130)"
                    ],
                    [
                      0.4,
                      "rgb(253,219,199)"
                    ],
                    [
                      0.5,
                      "rgb(247,247,247)"
                    ],
                    [
                      0.6,
                      "rgb(209,229,240)"
                    ],
                    [
                      0.7,
                      "rgb(146,197,222)"
                    ],
                    [
                      0.8,
                      "rgb(67,147,195)"
                    ],
                    [
                      0.9,
                      "rgb(33,102,172)"
                    ],
                    [
                      1,
                      "rgb(5,48,97)"
                    ]
                  ]
                },
                "margin": {
                  "l": 100,
                  "r": 100
                },
                "template": {
                  "data": {
                    "bar": [
                      {
                        "error_x": {
                          "color": "#2a3f5f"
                        },
                        "error_y": {
                          "color": "#2a3f5f"
                        },
                        "marker": {
                          "line": {
                            "color": "#E5ECF6",
                            "width": 0.5
                          },
                          "pattern": {
                            "fillmode": "overlay",
                            "size": 10,
                            "solidity": 0.2
                          }
                        },
                        "type": "bar"
                      }
                    ],
                    "barpolar": [
                      {
                        "marker": {
                          "line": {
                            "color": "#E5ECF6",
                            "width": 0.5
                          },
                          "pattern": {
                            "fillmode": "overlay",
                            "size": 10,
                            "solidity": 0.2
                          }
                        },
                        "type": "barpolar"
                      }
                    ],
                    "carpet": [
                      {
                        "aaxis": {
                          "endlinecolor": "#2a3f5f",
                          "gridcolor": "white",
                          "linecolor": "white",
                          "minorgridcolor": "white",
                          "startlinecolor": "#2a3f5f"
                        },
                        "baxis": {
                          "endlinecolor": "#2a3f5f",
                          "gridcolor": "white",
                          "linecolor": "white",
                          "minorgridcolor": "white",
                          "startlinecolor": "#2a3f5f"
                        },
                        "type": "carpet"
                      }
                    ],
                    "choropleth": [
                      {
                        "colorbar": {
                          "outlinewidth": 0,
                          "ticks": ""
                        },
                        "type": "choropleth"
                      }
                    ],
                    "contour": [
                      {
                        "colorbar": {
                          "outlinewidth": 0,
                          "ticks": ""
                        },
                        "colorscale": [
                          [
                            0,
                            "#0d0887"
                          ],
                          [
                            0.1111111111111111,
                            "#46039f"
                          ],
                          [
                            0.2222222222222222,
                            "#7201a8"
                          ],
                          [
                            0.3333333333333333,
                            "#9c179e"
                          ],
                          [
                            0.4444444444444444,
                            "#bd3786"
                          ],
                          [
                            0.5555555555555556,
                            "#d8576b"
                          ],
                          [
                            0.6666666666666666,
                            "#ed7953"
                          ],
                          [
                            0.7777777777777778,
                            "#fb9f3a"
                          ],
                          [
                            0.8888888888888888,
                            "#fdca26"
                          ],
                          [
                            1,
                            "#f0f921"
                          ]
                        ],
                        "type": "contour"
                      }
                    ],
                    "contourcarpet": [
                      {
                        "colorbar": {
                          "outlinewidth": 0,
                          "ticks": ""
                        },
                        "type": "contourcarpet"
                      }
                    ],
                    "heatmap": [
                      {
                        "colorbar": {
                          "outlinewidth": 0,
                          "ticks": ""
                        },
                        "colorscale": [
                          [
                            0,
                            "#0d0887"
                          ],
                          [
                            0.1111111111111111,
                            "#46039f"
                          ],
                          [
                            0.2222222222222222,
                            "#7201a8"
                          ],
                          [
                            0.3333333333333333,
                            "#9c179e"
                          ],
                          [
                            0.4444444444444444,
                            "#bd3786"
                          ],
                          [
                            0.5555555555555556,
                            "#d8576b"
                          ],
                          [
                            0.6666666666666666,
                            "#ed7953"
                          ],
                          [
                            0.7777777777777778,
                            "#fb9f3a"
                          ],
                          [
                            0.8888888888888888,
                            "#fdca26"
                          ],
                          [
                            1,
                            "#f0f921"
                          ]
                        ],
                        "type": "heatmap"
                      }
                    ],
                    "heatmapgl": [
                      {
                        "colorbar": {
                          "outlinewidth": 0,
                          "ticks": ""
                        },
                        "colorscale": [
                          [
                            0,
                            "#0d0887"
                          ],
                          [
                            0.1111111111111111,
                            "#46039f"
                          ],
                          [
                            0.2222222222222222,
                            "#7201a8"
                          ],
                          [
                            0.3333333333333333,
                            "#9c179e"
                          ],
                          [
                            0.4444444444444444,
                            "#bd3786"
                          ],
                          [
                            0.5555555555555556,
                            "#d8576b"
                          ],
                          [
                            0.6666666666666666,
                            "#ed7953"
                          ],
                          [
                            0.7777777777777778,
                            "#fb9f3a"
                          ],
                          [
                            0.8888888888888888,
                            "#fdca26"
                          ],
                          [
                            1,
                            "#f0f921"
                          ]
                        ],
                        "type": "heatmapgl"
                      }
                    ],
                    "histogram": [
                      {
                        "marker": {
                          "pattern": {
                            "fillmode": "overlay",
                            "size": 10,
                            "solidity": 0.2
                          }
                        },
                        "type": "histogram"
                      }
                    ],
                    "histogram2d": [
                      {
                        "colorbar": {
                          "outlinewidth": 0,
                          "ticks": ""
                        },
                        "colorscale": [
                          [
                            0,
                            "#0d0887"
                          ],
                          [
                            0.1111111111111111,
                            "#46039f"
                          ],
                          [
                            0.2222222222222222,
                            "#7201a8"
                          ],
                          [
                            0.3333333333333333,
                            "#9c179e"
                          ],
                          [
                            0.4444444444444444,
                            "#bd3786"
                          ],
                          [
                            0.5555555555555556,
                            "#d8576b"
                          ],
                          [
                            0.6666666666666666,
                            "#ed7953"
                          ],
                          [
                            0.7777777777777778,
                            "#fb9f3a"
                          ],
                          [
                            0.8888888888888888,
                            "#fdca26"
                          ],
                          [
                            1,
                            "#f0f921"
                          ]
                        ],
                        "type": "histogram2d"
                      }
                    ],
                    "histogram2dcontour": [
                      {
                        "colorbar": {
                          "outlinewidth": 0,
                          "ticks": ""
                        },
                        "colorscale": [
                          [
                            0,
                            "#0d0887"
                          ],
                          [
                            0.1111111111111111,
                            "#46039f"
                          ],
                          [
                            0.2222222222222222,
                            "#7201a8"
                          ],
                          [
                            0.3333333333333333,
                            "#9c179e"
                          ],
                          [
                            0.4444444444444444,
                            "#bd3786"
                          ],
                          [
                            0.5555555555555556,
                            "#d8576b"
                          ],
                          [
                            0.6666666666666666,
                            "#ed7953"
                          ],
                          [
                            0.7777777777777778,
                            "#fb9f3a"
                          ],
                          [
                            0.8888888888888888,
                            "#fdca26"
                          ],
                          [
                            1,
                            "#f0f921"
                          ]
                        ],
                        "type": "histogram2dcontour"
                      }
                    ],
                    "mesh3d": [
                      {
                        "colorbar": {
                          "outlinewidth": 0,
                          "ticks": ""
                        },
                        "type": "mesh3d"
                      }
                    ],
                    "parcoords": [
                      {
                        "line": {
                          "colorbar": {
                            "outlinewidth": 0,
                            "ticks": ""
                          }
                        },
                        "type": "parcoords"
                      }
                    ],
                    "pie": [
                      {
                        "automargin": true,
                        "type": "pie"
                      }
                    ],
                    "scatter": [
                      {
                        "fillpattern": {
                          "fillmode": "overlay",
                          "size": 10,
                          "solidity": 0.2
                        },
                        "type": "scatter"
                      }
                    ],
                    "scatter3d": [
                      {
                        "line": {
                          "colorbar": {
                            "outlinewidth": 0,
                            "ticks": ""
                          }
                        },
                        "marker": {
                          "colorbar": {
                            "outlinewidth": 0,
                            "ticks": ""
                          }
                        },
                        "type": "scatter3d"
                      }
                    ],
                    "scattercarpet": [
                      {
                        "marker": {
                          "colorbar": {
                            "outlinewidth": 0,
                            "ticks": ""
                          }
                        },
                        "type": "scattercarpet"
                      }
                    ],
                    "scattergeo": [
                      {
                        "marker": {
                          "colorbar": {
                            "outlinewidth": 0,
                            "ticks": ""
                          }
                        },
                        "type": "scattergeo"
                      }
                    ],
                    "scattergl": [
                      {
                        "marker": {
                          "colorbar": {
                            "outlinewidth": 0,
                            "ticks": ""
                          }
                        },
                        "type": "scattergl"
                      }
                    ],
                    "scattermapbox": [
                      {
                        "marker": {
                          "colorbar": {
                            "outlinewidth": 0,
                            "ticks": ""
                          }
                        },
                        "type": "scattermapbox"
                      }
                    ],
                    "scatterpolar": [
                      {
                        "marker": {
                          "colorbar": {
                            "outlinewidth": 0,
                            "ticks": ""
                          }
                        },
                        "type": "scatterpolar"
                      }
                    ],
                    "scatterpolargl": [
                      {
                        "marker": {
                          "colorbar": {
                            "outlinewidth": 0,
                            "ticks": ""
                          }
                        },
                        "type": "scatterpolargl"
                      }
                    ],
                    "scatterternary": [
                      {
                        "marker": {
                          "colorbar": {
                            "outlinewidth": 0,
                            "ticks": ""
                          }
                        },
                        "type": "scatterternary"
                      }
                    ],
                    "surface": [
                      {
                        "colorbar": {
                          "outlinewidth": 0,
                          "ticks": ""
                        },
                        "colorscale": [
                          [
                            0,
                            "#0d0887"
                          ],
                          [
                            0.1111111111111111,
                            "#46039f"
                          ],
                          [
                            0.2222222222222222,
                            "#7201a8"
                          ],
                          [
                            0.3333333333333333,
                            "#9c179e"
                          ],
                          [
                            0.4444444444444444,
                            "#bd3786"
                          ],
                          [
                            0.5555555555555556,
                            "#d8576b"
                          ],
                          [
                            0.6666666666666666,
                            "#ed7953"
                          ],
                          [
                            0.7777777777777778,
                            "#fb9f3a"
                          ],
                          [
                            0.8888888888888888,
                            "#fdca26"
                          ],
                          [
                            1,
                            "#f0f921"
                          ]
                        ],
                        "type": "surface"
                      }
                    ],
                    "table": [
                      {
                        "cells": {
                          "fill": {
                            "color": "#EBF0F8"
                          },
                          "line": {
                            "color": "white"
                          }
                        },
                        "header": {
                          "fill": {
                            "color": "#C8D4E3"
                          },
                          "line": {
                            "color": "white"
                          }
                        },
                        "type": "table"
                      }
                    ]
                  },
                  "layout": {
                    "annotationdefaults": {
                      "arrowcolor": "#2a3f5f",
                      "arrowhead": 0,
                      "arrowwidth": 1
                    },
                    "autotypenumbers": "strict",
                    "coloraxis": {
                      "colorbar": {
                        "outlinewidth": 0,
                        "ticks": ""
                      }
                    },
                    "colorscale": {
                      "diverging": [
                        [
                          0,
                          "#8e0152"
                        ],
                        [
                          0.1,
                          "#c51b7d"
                        ],
                        [
                          0.2,
                          "#de77ae"
                        ],
                        [
                          0.3,
                          "#f1b6da"
                        ],
                        [
                          0.4,
                          "#fde0ef"
                        ],
                        [
                          0.5,
                          "#f7f7f7"
                        ],
                        [
                          0.6,
                          "#e6f5d0"
                        ],
                        [
                          0.7,
                          "#b8e186"
                        ],
                        [
                          0.8,
                          "#7fbc41"
                        ],
                        [
                          0.9,
                          "#4d9221"
                        ],
                        [
                          1,
                          "#276419"
                        ]
                      ],
                      "sequential": [
                        [
                          0,
                          "#0d0887"
                        ],
                        [
                          0.1111111111111111,
                          "#46039f"
                        ],
                        [
                          0.2222222222222222,
                          "#7201a8"
                        ],
                        [
                          0.3333333333333333,
                          "#9c179e"
                        ],
                        [
                          0.4444444444444444,
                          "#bd3786"
                        ],
                        [
                          0.5555555555555556,
                          "#d8576b"
                        ],
                        [
                          0.6666666666666666,
                          "#ed7953"
                        ],
                        [
                          0.7777777777777778,
                          "#fb9f3a"
                        ],
                        [
                          0.8888888888888888,
                          "#fdca26"
                        ],
                        [
                          1,
                          "#f0f921"
                        ]
                      ],
                      "sequentialminus": [
                        [
                          0,
                          "#0d0887"
                        ],
                        [
                          0.1111111111111111,
                          "#46039f"
                        ],
                        [
                          0.2222222222222222,
                          "#7201a8"
                        ],
                        [
                          0.3333333333333333,
                          "#9c179e"
                        ],
                        [
                          0.4444444444444444,
                          "#bd3786"
                        ],
                        [
                          0.5555555555555556,
                          "#d8576b"
                        ],
                        [
                          0.6666666666666666,
                          "#ed7953"
                        ],
                        [
                          0.7777777777777778,
                          "#fb9f3a"
                        ],
                        [
                          0.8888888888888888,
                          "#fdca26"
                        ],
                        [
                          1,
                          "#f0f921"
                        ]
                      ]
                    },
                    "colorway": [
                      "#636efa",
                      "#EF553B",
                      "#00cc96",
                      "#ab63fa",
                      "#FFA15A",
                      "#19d3f3",
                      "#FF6692",
                      "#B6E880",
                      "#FF97FF",
                      "#FECB52"
                    ],
                    "font": {
                      "color": "#2a3f5f"
                    },
                    "geo": {
                      "bgcolor": "white",
                      "lakecolor": "white",
                      "landcolor": "#E5ECF6",
                      "showlakes": true,
                      "showland": true,
                      "subunitcolor": "white"
                    },
                    "hoverlabel": {
                      "align": "left"
                    },
                    "hovermode": "closest",
                    "mapbox": {
                      "style": "light"
                    },
                    "paper_bgcolor": "white",
                    "plot_bgcolor": "#E5ECF6",
                    "polar": {
                      "angularaxis": {
                        "gridcolor": "white",
                        "linecolor": "white",
                        "ticks": ""
                      },
                      "bgcolor": "#E5ECF6",
                      "radialaxis": {
                        "gridcolor": "white",
                        "linecolor": "white",
                        "ticks": ""
                      }
                    },
                    "scene": {
                      "xaxis": {
                        "backgroundcolor": "#E5ECF6",
                        "gridcolor": "white",
                        "gridwidth": 2,
                        "linecolor": "white",
                        "showbackground": true,
                        "ticks": "",
                        "zerolinecolor": "white"
                      },
                      "yaxis": {
                        "backgroundcolor": "#E5ECF6",
                        "gridcolor": "white",
                        "gridwidth": 2,
                        "linecolor": "white",
                        "showbackground": true,
                        "ticks": "",
                        "zerolinecolor": "white"
                      },
                      "zaxis": {
                        "backgroundcolor": "#E5ECF6",
                        "gridcolor": "white",
                        "gridwidth": 2,
                        "linecolor": "white",
                        "showbackground": true,
                        "ticks": "",
                        "zerolinecolor": "white"
                      }
                    },
                    "shapedefaults": {
                      "line": {
                        "color": "#2a3f5f"
                      }
                    },
                    "ternary": {
                      "aaxis": {
                        "gridcolor": "white",
                        "linecolor": "white",
                        "ticks": ""
                      },
                      "baxis": {
                        "gridcolor": "white",
                        "linecolor": "white",
                        "ticks": ""
                      },
                      "bgcolor": "#E5ECF6",
                      "caxis": {
                        "gridcolor": "white",
                        "linecolor": "white",
                        "ticks": ""
                      }
                    },
                    "title": {
                      "x": 0.05
                    },
                    "xaxis": {
                      "automargin": true,
                      "gridcolor": "white",
                      "linecolor": "white",
                      "ticks": "",
                      "title": {
                        "standoff": 15
                      },
                      "zerolinecolor": "white",
                      "zerolinewidth": 2
                    },
                    "yaxis": {
                      "automargin": true,
                      "gridcolor": "white",
                      "linecolor": "white",
                      "ticks": "",
                      "title": {
                        "standoff": 15
                      },
                      "zerolinecolor": "white",
                      "zerolinewidth": 2
                    }
                  }
                },
                "title": {
                  "text": "Direct effect on Sentiment Attenders' values from position 6 ( perfect)"
                },
                "width": 700,
                "xaxis": {
                  "anchor": "y",
                  "constrain": "domain",
                  "domain": [
                    0,
                    1
                  ],
                  "linecolor": "black",
                  "linewidth": 1,
                  "mirror": true,
                  "scaleanchor": "y",
                  "showline": true,
                  "title": {
                    "text": "Head"
                  }
                },
                "yaxis": {
                  "anchor": "x",
                  "autorange": "reversed",
                  "constrain": "domain",
                  "domain": [
                    0,
                    1
                  ],
                  "linecolor": "black",
                  "linewidth": 1,
                  "mirror": true,
                  "showline": true,
                  "title": {
                    "text": "Layer"
                  }
                }
              }
            }
          },
          "metadata": {},
          "output_type": "display_data"
        },
        {
          "data": {
            "application/vnd.plotly.v1+json": {
              "config": {
                "plotlyServerURL": "https://plot.ly"
              },
              "data": [
                {
                  "coloraxis": "coloraxis",
                  "hovertemplate": "Head: %{x}<br>Layer: %{y}<br>Logit diff variation: %{z}<extra></extra>",
                  "name": "0",
                  "type": "heatmap",
                  "xaxis": "x",
                  "yaxis": "y",
                  "z": [
                    [
                      -0.007595235947519541,
                      0.00037775852251797915,
                      -0.006507749669253826,
                      0.000051512528443709016,
                      -0.005511840805411339,
                      0.000011447228644101415,
                      -0.03280775621533394,
                      0.0015797175001353025,
                      0.004212580155581236,
                      0.01711360737681389,
                      -0.021303292363882065,
                      -0.011286967433989048
                    ],
                    [
                      0.01700485683977604,
                      0.001047421363182366,
                      -0.0007154517807066441,
                      -0.0015911648515611887,
                      -0.0007268990157172084,
                      0.008848707191646099,
                      -0.032412827014923096,
                      -0.05655503645539284,
                      0.007652472238987684,
                      0.014343377202749252,
                      -0.0031079223845154047,
                      0.021429210901260376
                    ],
                    [
                      0.004510208033025265,
                      -0.15760543942451477,
                      0.0015797175001353025,
                      0.010125073604285717,
                      0.0040408712811768055,
                      -0.0082820700481534,
                      0.0010016325395554304,
                      0.0006009794888086617,
                      0.00508256908506155,
                      0.008179044350981712,
                      0.008442331105470657,
                      0.0017628732603043318
                    ],
                    [
                      -0.006839718669652939,
                      0.01191084086894989,
                      0.006399000994861126,
                      -0.0012305771233513951,
                      0.0002747334656305611,
                      0.002209315076470375,
                      -0.013914106413722038,
                      0.00682827178388834,
                      0.00013736673281528056,
                      -0.016163485124707222,
                      0.011928011663258076,
                      -0.017279591411352158
                    ],
                    [
                      -0.0013736673863604665,
                      0.0060097952373325825,
                      -0.04386577755212784,
                      -0.011790645308792591,
                      0.01966061443090439,
                      0.009111993946135044,
                      -0.005191318225115538,
                      -0.009358108974993229,
                      0.015631189569830894,
                      -0.040506020188331604,
                      -0.0060326894745230675,
                      0.009352385997772217
                    ],
                    [
                      -0.009037586860358715,
                      0.003022068180143833,
                      -0.0004636127268895507,
                      -0.02042185515165329,
                      0.00031479878816753626,
                      -0.28148162364959717,
                      0.009546988643705845,
                      -0.029379311949014664,
                      0.054271310567855835,
                      0.17044924199581146,
                      -0.21093806624412537,
                      0.1712791472673416
                    ],
                    [
                      -0.007755497004836798,
                      -0.012248534709215164,
                      0.0290816817432642,
                      0.008190491236746311,
                      -1.0795422792434692,
                      0.1536675989627838,
                      0.1230691522359848,
                      -0.10920083522796631,
                      -0.0026042445097118616,
                      -0.06460243463516235,
                      -0.1045246347784996,
                      0.027833936735987663
                    ],
                    [
                      -0.010829078033566475,
                      -3.337141990661621,
                      -0.007852798327803612,
                      0.22095438838005066,
                      -0.0017914911732077599,
                      -2.1131441593170166,
                      1.3069987297058105,
                      -0.001974646933376789,
                      -0.016644269227981567,
                      -0.22342701256275177,
                      -0.008625486865639687,
                      -0.00095011992380023
                    ],
                    [
                      0.004149619955569506,
                      -0.0095011992380023,
                      -0.2788659334182739,
                      -0.01220274530351162,
                      -0.27310797572135925,
                      -0.9548018574714661,
                      -0.17076975107192993,
                      -0.02696394734084606,
                      0.16572724282741547,
                      -0.032962292432785034,
                      1.2166630029678345,
                      -0.10062114149332047
                    ],
                    [
                      -0.000612426723819226,
                      -0.006879784632474184,
                      -0.12390479445457458,
                      -0.051855940371751785,
                      0.003119369735941291,
                      0.06515762954950333,
                      -0.0025527318939566612,
                      0.10982470959424973,
                      0.0011389992432668805,
                      -0.0011389992432668805,
                      -0.030054699629545212,
                      -0.004699087236076593
                    ]
                  ]
                }
              ],
              "layout": {
                "coloraxis": {
                  "cmid": 0,
                  "colorbar": {
                    "ticksuffix": "%",
                    "title": {
                      "text": "Logit diff variation"
                    }
                  },
                  "colorscale": [
                    [
                      0,
                      "rgb(103,0,31)"
                    ],
                    [
                      0.1,
                      "rgb(178,24,43)"
                    ],
                    [
                      0.2,
                      "rgb(214,96,77)"
                    ],
                    [
                      0.3,
                      "rgb(244,165,130)"
                    ],
                    [
                      0.4,
                      "rgb(253,219,199)"
                    ],
                    [
                      0.5,
                      "rgb(247,247,247)"
                    ],
                    [
                      0.6,
                      "rgb(209,229,240)"
                    ],
                    [
                      0.7,
                      "rgb(146,197,222)"
                    ],
                    [
                      0.8,
                      "rgb(67,147,195)"
                    ],
                    [
                      0.9,
                      "rgb(33,102,172)"
                    ],
                    [
                      1,
                      "rgb(5,48,97)"
                    ]
                  ]
                },
                "margin": {
                  "l": 100,
                  "r": 100
                },
                "template": {
                  "data": {
                    "bar": [
                      {
                        "error_x": {
                          "color": "#2a3f5f"
                        },
                        "error_y": {
                          "color": "#2a3f5f"
                        },
                        "marker": {
                          "line": {
                            "color": "#E5ECF6",
                            "width": 0.5
                          },
                          "pattern": {
                            "fillmode": "overlay",
                            "size": 10,
                            "solidity": 0.2
                          }
                        },
                        "type": "bar"
                      }
                    ],
                    "barpolar": [
                      {
                        "marker": {
                          "line": {
                            "color": "#E5ECF6",
                            "width": 0.5
                          },
                          "pattern": {
                            "fillmode": "overlay",
                            "size": 10,
                            "solidity": 0.2
                          }
                        },
                        "type": "barpolar"
                      }
                    ],
                    "carpet": [
                      {
                        "aaxis": {
                          "endlinecolor": "#2a3f5f",
                          "gridcolor": "white",
                          "linecolor": "white",
                          "minorgridcolor": "white",
                          "startlinecolor": "#2a3f5f"
                        },
                        "baxis": {
                          "endlinecolor": "#2a3f5f",
                          "gridcolor": "white",
                          "linecolor": "white",
                          "minorgridcolor": "white",
                          "startlinecolor": "#2a3f5f"
                        },
                        "type": "carpet"
                      }
                    ],
                    "choropleth": [
                      {
                        "colorbar": {
                          "outlinewidth": 0,
                          "ticks": ""
                        },
                        "type": "choropleth"
                      }
                    ],
                    "contour": [
                      {
                        "colorbar": {
                          "outlinewidth": 0,
                          "ticks": ""
                        },
                        "colorscale": [
                          [
                            0,
                            "#0d0887"
                          ],
                          [
                            0.1111111111111111,
                            "#46039f"
                          ],
                          [
                            0.2222222222222222,
                            "#7201a8"
                          ],
                          [
                            0.3333333333333333,
                            "#9c179e"
                          ],
                          [
                            0.4444444444444444,
                            "#bd3786"
                          ],
                          [
                            0.5555555555555556,
                            "#d8576b"
                          ],
                          [
                            0.6666666666666666,
                            "#ed7953"
                          ],
                          [
                            0.7777777777777778,
                            "#fb9f3a"
                          ],
                          [
                            0.8888888888888888,
                            "#fdca26"
                          ],
                          [
                            1,
                            "#f0f921"
                          ]
                        ],
                        "type": "contour"
                      }
                    ],
                    "contourcarpet": [
                      {
                        "colorbar": {
                          "outlinewidth": 0,
                          "ticks": ""
                        },
                        "type": "contourcarpet"
                      }
                    ],
                    "heatmap": [
                      {
                        "colorbar": {
                          "outlinewidth": 0,
                          "ticks": ""
                        },
                        "colorscale": [
                          [
                            0,
                            "#0d0887"
                          ],
                          [
                            0.1111111111111111,
                            "#46039f"
                          ],
                          [
                            0.2222222222222222,
                            "#7201a8"
                          ],
                          [
                            0.3333333333333333,
                            "#9c179e"
                          ],
                          [
                            0.4444444444444444,
                            "#bd3786"
                          ],
                          [
                            0.5555555555555556,
                            "#d8576b"
                          ],
                          [
                            0.6666666666666666,
                            "#ed7953"
                          ],
                          [
                            0.7777777777777778,
                            "#fb9f3a"
                          ],
                          [
                            0.8888888888888888,
                            "#fdca26"
                          ],
                          [
                            1,
                            "#f0f921"
                          ]
                        ],
                        "type": "heatmap"
                      }
                    ],
                    "heatmapgl": [
                      {
                        "colorbar": {
                          "outlinewidth": 0,
                          "ticks": ""
                        },
                        "colorscale": [
                          [
                            0,
                            "#0d0887"
                          ],
                          [
                            0.1111111111111111,
                            "#46039f"
                          ],
                          [
                            0.2222222222222222,
                            "#7201a8"
                          ],
                          [
                            0.3333333333333333,
                            "#9c179e"
                          ],
                          [
                            0.4444444444444444,
                            "#bd3786"
                          ],
                          [
                            0.5555555555555556,
                            "#d8576b"
                          ],
                          [
                            0.6666666666666666,
                            "#ed7953"
                          ],
                          [
                            0.7777777777777778,
                            "#fb9f3a"
                          ],
                          [
                            0.8888888888888888,
                            "#fdca26"
                          ],
                          [
                            1,
                            "#f0f921"
                          ]
                        ],
                        "type": "heatmapgl"
                      }
                    ],
                    "histogram": [
                      {
                        "marker": {
                          "pattern": {
                            "fillmode": "overlay",
                            "size": 10,
                            "solidity": 0.2
                          }
                        },
                        "type": "histogram"
                      }
                    ],
                    "histogram2d": [
                      {
                        "colorbar": {
                          "outlinewidth": 0,
                          "ticks": ""
                        },
                        "colorscale": [
                          [
                            0,
                            "#0d0887"
                          ],
                          [
                            0.1111111111111111,
                            "#46039f"
                          ],
                          [
                            0.2222222222222222,
                            "#7201a8"
                          ],
                          [
                            0.3333333333333333,
                            "#9c179e"
                          ],
                          [
                            0.4444444444444444,
                            "#bd3786"
                          ],
                          [
                            0.5555555555555556,
                            "#d8576b"
                          ],
                          [
                            0.6666666666666666,
                            "#ed7953"
                          ],
                          [
                            0.7777777777777778,
                            "#fb9f3a"
                          ],
                          [
                            0.8888888888888888,
                            "#fdca26"
                          ],
                          [
                            1,
                            "#f0f921"
                          ]
                        ],
                        "type": "histogram2d"
                      }
                    ],
                    "histogram2dcontour": [
                      {
                        "colorbar": {
                          "outlinewidth": 0,
                          "ticks": ""
                        },
                        "colorscale": [
                          [
                            0,
                            "#0d0887"
                          ],
                          [
                            0.1111111111111111,
                            "#46039f"
                          ],
                          [
                            0.2222222222222222,
                            "#7201a8"
                          ],
                          [
                            0.3333333333333333,
                            "#9c179e"
                          ],
                          [
                            0.4444444444444444,
                            "#bd3786"
                          ],
                          [
                            0.5555555555555556,
                            "#d8576b"
                          ],
                          [
                            0.6666666666666666,
                            "#ed7953"
                          ],
                          [
                            0.7777777777777778,
                            "#fb9f3a"
                          ],
                          [
                            0.8888888888888888,
                            "#fdca26"
                          ],
                          [
                            1,
                            "#f0f921"
                          ]
                        ],
                        "type": "histogram2dcontour"
                      }
                    ],
                    "mesh3d": [
                      {
                        "colorbar": {
                          "outlinewidth": 0,
                          "ticks": ""
                        },
                        "type": "mesh3d"
                      }
                    ],
                    "parcoords": [
                      {
                        "line": {
                          "colorbar": {
                            "outlinewidth": 0,
                            "ticks": ""
                          }
                        },
                        "type": "parcoords"
                      }
                    ],
                    "pie": [
                      {
                        "automargin": true,
                        "type": "pie"
                      }
                    ],
                    "scatter": [
                      {
                        "fillpattern": {
                          "fillmode": "overlay",
                          "size": 10,
                          "solidity": 0.2
                        },
                        "type": "scatter"
                      }
                    ],
                    "scatter3d": [
                      {
                        "line": {
                          "colorbar": {
                            "outlinewidth": 0,
                            "ticks": ""
                          }
                        },
                        "marker": {
                          "colorbar": {
                            "outlinewidth": 0,
                            "ticks": ""
                          }
                        },
                        "type": "scatter3d"
                      }
                    ],
                    "scattercarpet": [
                      {
                        "marker": {
                          "colorbar": {
                            "outlinewidth": 0,
                            "ticks": ""
                          }
                        },
                        "type": "scattercarpet"
                      }
                    ],
                    "scattergeo": [
                      {
                        "marker": {
                          "colorbar": {
                            "outlinewidth": 0,
                            "ticks": ""
                          }
                        },
                        "type": "scattergeo"
                      }
                    ],
                    "scattergl": [
                      {
                        "marker": {
                          "colorbar": {
                            "outlinewidth": 0,
                            "ticks": ""
                          }
                        },
                        "type": "scattergl"
                      }
                    ],
                    "scattermapbox": [
                      {
                        "marker": {
                          "colorbar": {
                            "outlinewidth": 0,
                            "ticks": ""
                          }
                        },
                        "type": "scattermapbox"
                      }
                    ],
                    "scatterpolar": [
                      {
                        "marker": {
                          "colorbar": {
                            "outlinewidth": 0,
                            "ticks": ""
                          }
                        },
                        "type": "scatterpolar"
                      }
                    ],
                    "scatterpolargl": [
                      {
                        "marker": {
                          "colorbar": {
                            "outlinewidth": 0,
                            "ticks": ""
                          }
                        },
                        "type": "scatterpolargl"
                      }
                    ],
                    "scatterternary": [
                      {
                        "marker": {
                          "colorbar": {
                            "outlinewidth": 0,
                            "ticks": ""
                          }
                        },
                        "type": "scatterternary"
                      }
                    ],
                    "surface": [
                      {
                        "colorbar": {
                          "outlinewidth": 0,
                          "ticks": ""
                        },
                        "colorscale": [
                          [
                            0,
                            "#0d0887"
                          ],
                          [
                            0.1111111111111111,
                            "#46039f"
                          ],
                          [
                            0.2222222222222222,
                            "#7201a8"
                          ],
                          [
                            0.3333333333333333,
                            "#9c179e"
                          ],
                          [
                            0.4444444444444444,
                            "#bd3786"
                          ],
                          [
                            0.5555555555555556,
                            "#d8576b"
                          ],
                          [
                            0.6666666666666666,
                            "#ed7953"
                          ],
                          [
                            0.7777777777777778,
                            "#fb9f3a"
                          ],
                          [
                            0.8888888888888888,
                            "#fdca26"
                          ],
                          [
                            1,
                            "#f0f921"
                          ]
                        ],
                        "type": "surface"
                      }
                    ],
                    "table": [
                      {
                        "cells": {
                          "fill": {
                            "color": "#EBF0F8"
                          },
                          "line": {
                            "color": "white"
                          }
                        },
                        "header": {
                          "fill": {
                            "color": "#C8D4E3"
                          },
                          "line": {
                            "color": "white"
                          }
                        },
                        "type": "table"
                      }
                    ]
                  },
                  "layout": {
                    "annotationdefaults": {
                      "arrowcolor": "#2a3f5f",
                      "arrowhead": 0,
                      "arrowwidth": 1
                    },
                    "autotypenumbers": "strict",
                    "coloraxis": {
                      "colorbar": {
                        "outlinewidth": 0,
                        "ticks": ""
                      }
                    },
                    "colorscale": {
                      "diverging": [
                        [
                          0,
                          "#8e0152"
                        ],
                        [
                          0.1,
                          "#c51b7d"
                        ],
                        [
                          0.2,
                          "#de77ae"
                        ],
                        [
                          0.3,
                          "#f1b6da"
                        ],
                        [
                          0.4,
                          "#fde0ef"
                        ],
                        [
                          0.5,
                          "#f7f7f7"
                        ],
                        [
                          0.6,
                          "#e6f5d0"
                        ],
                        [
                          0.7,
                          "#b8e186"
                        ],
                        [
                          0.8,
                          "#7fbc41"
                        ],
                        [
                          0.9,
                          "#4d9221"
                        ],
                        [
                          1,
                          "#276419"
                        ]
                      ],
                      "sequential": [
                        [
                          0,
                          "#0d0887"
                        ],
                        [
                          0.1111111111111111,
                          "#46039f"
                        ],
                        [
                          0.2222222222222222,
                          "#7201a8"
                        ],
                        [
                          0.3333333333333333,
                          "#9c179e"
                        ],
                        [
                          0.4444444444444444,
                          "#bd3786"
                        ],
                        [
                          0.5555555555555556,
                          "#d8576b"
                        ],
                        [
                          0.6666666666666666,
                          "#ed7953"
                        ],
                        [
                          0.7777777777777778,
                          "#fb9f3a"
                        ],
                        [
                          0.8888888888888888,
                          "#fdca26"
                        ],
                        [
                          1,
                          "#f0f921"
                        ]
                      ],
                      "sequentialminus": [
                        [
                          0,
                          "#0d0887"
                        ],
                        [
                          0.1111111111111111,
                          "#46039f"
                        ],
                        [
                          0.2222222222222222,
                          "#7201a8"
                        ],
                        [
                          0.3333333333333333,
                          "#9c179e"
                        ],
                        [
                          0.4444444444444444,
                          "#bd3786"
                        ],
                        [
                          0.5555555555555556,
                          "#d8576b"
                        ],
                        [
                          0.6666666666666666,
                          "#ed7953"
                        ],
                        [
                          0.7777777777777778,
                          "#fb9f3a"
                        ],
                        [
                          0.8888888888888888,
                          "#fdca26"
                        ],
                        [
                          1,
                          "#f0f921"
                        ]
                      ]
                    },
                    "colorway": [
                      "#636efa",
                      "#EF553B",
                      "#00cc96",
                      "#ab63fa",
                      "#FFA15A",
                      "#19d3f3",
                      "#FF6692",
                      "#B6E880",
                      "#FF97FF",
                      "#FECB52"
                    ],
                    "font": {
                      "color": "#2a3f5f"
                    },
                    "geo": {
                      "bgcolor": "white",
                      "lakecolor": "white",
                      "landcolor": "#E5ECF6",
                      "showlakes": true,
                      "showland": true,
                      "subunitcolor": "white"
                    },
                    "hoverlabel": {
                      "align": "left"
                    },
                    "hovermode": "closest",
                    "mapbox": {
                      "style": "light"
                    },
                    "paper_bgcolor": "white",
                    "plot_bgcolor": "#E5ECF6",
                    "polar": {
                      "angularaxis": {
                        "gridcolor": "white",
                        "linecolor": "white",
                        "ticks": ""
                      },
                      "bgcolor": "#E5ECF6",
                      "radialaxis": {
                        "gridcolor": "white",
                        "linecolor": "white",
                        "ticks": ""
                      }
                    },
                    "scene": {
                      "xaxis": {
                        "backgroundcolor": "#E5ECF6",
                        "gridcolor": "white",
                        "gridwidth": 2,
                        "linecolor": "white",
                        "showbackground": true,
                        "ticks": "",
                        "zerolinecolor": "white"
                      },
                      "yaxis": {
                        "backgroundcolor": "#E5ECF6",
                        "gridcolor": "white",
                        "gridwidth": 2,
                        "linecolor": "white",
                        "showbackground": true,
                        "ticks": "",
                        "zerolinecolor": "white"
                      },
                      "zaxis": {
                        "backgroundcolor": "#E5ECF6",
                        "gridcolor": "white",
                        "gridwidth": 2,
                        "linecolor": "white",
                        "showbackground": true,
                        "ticks": "",
                        "zerolinecolor": "white"
                      }
                    },
                    "shapedefaults": {
                      "line": {
                        "color": "#2a3f5f"
                      }
                    },
                    "ternary": {
                      "aaxis": {
                        "gridcolor": "white",
                        "linecolor": "white",
                        "ticks": ""
                      },
                      "baxis": {
                        "gridcolor": "white",
                        "linecolor": "white",
                        "ticks": ""
                      },
                      "bgcolor": "#E5ECF6",
                      "caxis": {
                        "gridcolor": "white",
                        "linecolor": "white",
                        "ticks": ""
                      }
                    },
                    "title": {
                      "x": 0.05
                    },
                    "xaxis": {
                      "automargin": true,
                      "gridcolor": "white",
                      "linecolor": "white",
                      "ticks": "",
                      "title": {
                        "standoff": 15
                      },
                      "zerolinecolor": "white",
                      "zerolinewidth": 2
                    },
                    "yaxis": {
                      "automargin": true,
                      "gridcolor": "white",
                      "linecolor": "white",
                      "ticks": "",
                      "title": {
                        "standoff": 15
                      },
                      "zerolinecolor": "white",
                      "zerolinewidth": 2
                    }
                  }
                },
                "title": {
                  "text": "Direct effect on Sentiment Attenders' values from position 17 ( movie)"
                },
                "width": 700,
                "xaxis": {
                  "anchor": "y",
                  "constrain": "domain",
                  "domain": [
                    0,
                    1
                  ],
                  "linecolor": "black",
                  "linewidth": 1,
                  "mirror": true,
                  "scaleanchor": "y",
                  "showline": true,
                  "title": {
                    "text": "Head"
                  }
                },
                "yaxis": {
                  "anchor": "x",
                  "autorange": "reversed",
                  "constrain": "domain",
                  "domain": [
                    0,
                    1
                  ],
                  "linecolor": "black",
                  "linewidth": 1,
                  "mirror": true,
                  "showline": true,
                  "title": {
                    "text": "Layer"
                  }
                }
              }
            }
          },
          "metadata": {},
          "output_type": "display_data"
        }
      ],
      "source": [
        "\n",
        "\n",
        "for i in [6, 17]:\n",
        "    imshow_p(\n",
        "        results[\"z\"][i][:10] * 100,\n",
        "        title=f\"Direct effect on Sentiment Attenders' values from position {i} ({tokens[i]})\",\n",
        "        labels={\"x\": \"Head\", \"y\": \"Layer\", \"color\": \"Logit diff variation\"},\n",
        "        coloraxis=dict(colorbar_ticksuffix = \"%\"),\n",
        "        border=True,\n",
        "        width=700,\n",
        "        margin={\"r\": 100, \"l\": 100}\n",
        "    )"
      ]
    },
    {
      "cell_type": "code",
      "execution_count": 37,
      "metadata": {},
      "outputs": [
        {
          "name": "stdout",
          "output_type": "stream",
          "text": [
            "Total logit diff contribution above threshold: 0.25\n"
          ]
        },
        {
          "data": {
            "application/vnd.plotly.v1+json": {
              "config": {
                "plotlyServerURL": "https://plot.ly"
              },
              "data": [
                {
                  "alignmentgroup": "True",
                  "hovertemplate": "Logit Diff=%{x}<br>Attention Head=%{y}<extra></extra>",
                  "legendgroup": "",
                  "marker": {
                    "color": "#636efa",
                    "pattern": {
                      "shape": ""
                    }
                  },
                  "name": "",
                  "offsetgroup": "",
                  "orientation": "h",
                  "showlegend": false,
                  "textposition": "auto",
                  "type": "bar",
                  "x": [
                    0.006176409311592579,
                    0.00625705486163497,
                    0.007396912667900324,
                    0.007596724200993776,
                    0.008069551549851894,
                    0.008859410881996155,
                    0.010848195292055607,
                    0.011852803640067577,
                    0.01201999094337225,
                    0.01839953102171421,
                    0.019749274477362633,
                    0.02388266660273075,
                    0.03109685331583023,
                    0.03214384615421295,
                    0.04633357375860214
                  ],
                  "xaxis": "x",
                  "y": [
                    "Layer 0, Head 5",
                    "Layer 2, Head 1",
                    "Layer 5, Head 7",
                    "Layer 0, Head 1",
                    "Layer 8, Head 4",
                    "Layer 8, Head 2",
                    "Layer 9, Head 2",
                    "Layer 3, Head 11",
                    "Layer 0, Head 3",
                    "Layer 8, Head 5",
                    "Layer 6, Head 7",
                    "Layer 0, Head 4",
                    "Layer 6, Head 4",
                    "Layer 7, Head 5",
                    "Layer 7, Head 1"
                  ],
                  "yaxis": "y"
                }
              ],
              "layout": {
                "barmode": "relative",
                "legend": {
                  "tracegroupgap": 0
                },
                "margin": {
                  "t": 60
                },
                "template": {
                  "data": {
                    "bar": [
                      {
                        "error_x": {
                          "color": "#2a3f5f"
                        },
                        "error_y": {
                          "color": "#2a3f5f"
                        },
                        "marker": {
                          "line": {
                            "color": "#E5ECF6",
                            "width": 0.5
                          },
                          "pattern": {
                            "fillmode": "overlay",
                            "size": 10,
                            "solidity": 0.2
                          }
                        },
                        "type": "bar"
                      }
                    ],
                    "barpolar": [
                      {
                        "marker": {
                          "line": {
                            "color": "#E5ECF6",
                            "width": 0.5
                          },
                          "pattern": {
                            "fillmode": "overlay",
                            "size": 10,
                            "solidity": 0.2
                          }
                        },
                        "type": "barpolar"
                      }
                    ],
                    "carpet": [
                      {
                        "aaxis": {
                          "endlinecolor": "#2a3f5f",
                          "gridcolor": "white",
                          "linecolor": "white",
                          "minorgridcolor": "white",
                          "startlinecolor": "#2a3f5f"
                        },
                        "baxis": {
                          "endlinecolor": "#2a3f5f",
                          "gridcolor": "white",
                          "linecolor": "white",
                          "minorgridcolor": "white",
                          "startlinecolor": "#2a3f5f"
                        },
                        "type": "carpet"
                      }
                    ],
                    "choropleth": [
                      {
                        "colorbar": {
                          "outlinewidth": 0,
                          "ticks": ""
                        },
                        "type": "choropleth"
                      }
                    ],
                    "contour": [
                      {
                        "colorbar": {
                          "outlinewidth": 0,
                          "ticks": ""
                        },
                        "colorscale": [
                          [
                            0,
                            "#0d0887"
                          ],
                          [
                            0.1111111111111111,
                            "#46039f"
                          ],
                          [
                            0.2222222222222222,
                            "#7201a8"
                          ],
                          [
                            0.3333333333333333,
                            "#9c179e"
                          ],
                          [
                            0.4444444444444444,
                            "#bd3786"
                          ],
                          [
                            0.5555555555555556,
                            "#d8576b"
                          ],
                          [
                            0.6666666666666666,
                            "#ed7953"
                          ],
                          [
                            0.7777777777777778,
                            "#fb9f3a"
                          ],
                          [
                            0.8888888888888888,
                            "#fdca26"
                          ],
                          [
                            1,
                            "#f0f921"
                          ]
                        ],
                        "type": "contour"
                      }
                    ],
                    "contourcarpet": [
                      {
                        "colorbar": {
                          "outlinewidth": 0,
                          "ticks": ""
                        },
                        "type": "contourcarpet"
                      }
                    ],
                    "heatmap": [
                      {
                        "colorbar": {
                          "outlinewidth": 0,
                          "ticks": ""
                        },
                        "colorscale": [
                          [
                            0,
                            "#0d0887"
                          ],
                          [
                            0.1111111111111111,
                            "#46039f"
                          ],
                          [
                            0.2222222222222222,
                            "#7201a8"
                          ],
                          [
                            0.3333333333333333,
                            "#9c179e"
                          ],
                          [
                            0.4444444444444444,
                            "#bd3786"
                          ],
                          [
                            0.5555555555555556,
                            "#d8576b"
                          ],
                          [
                            0.6666666666666666,
                            "#ed7953"
                          ],
                          [
                            0.7777777777777778,
                            "#fb9f3a"
                          ],
                          [
                            0.8888888888888888,
                            "#fdca26"
                          ],
                          [
                            1,
                            "#f0f921"
                          ]
                        ],
                        "type": "heatmap"
                      }
                    ],
                    "heatmapgl": [
                      {
                        "colorbar": {
                          "outlinewidth": 0,
                          "ticks": ""
                        },
                        "colorscale": [
                          [
                            0,
                            "#0d0887"
                          ],
                          [
                            0.1111111111111111,
                            "#46039f"
                          ],
                          [
                            0.2222222222222222,
                            "#7201a8"
                          ],
                          [
                            0.3333333333333333,
                            "#9c179e"
                          ],
                          [
                            0.4444444444444444,
                            "#bd3786"
                          ],
                          [
                            0.5555555555555556,
                            "#d8576b"
                          ],
                          [
                            0.6666666666666666,
                            "#ed7953"
                          ],
                          [
                            0.7777777777777778,
                            "#fb9f3a"
                          ],
                          [
                            0.8888888888888888,
                            "#fdca26"
                          ],
                          [
                            1,
                            "#f0f921"
                          ]
                        ],
                        "type": "heatmapgl"
                      }
                    ],
                    "histogram": [
                      {
                        "marker": {
                          "pattern": {
                            "fillmode": "overlay",
                            "size": 10,
                            "solidity": 0.2
                          }
                        },
                        "type": "histogram"
                      }
                    ],
                    "histogram2d": [
                      {
                        "colorbar": {
                          "outlinewidth": 0,
                          "ticks": ""
                        },
                        "colorscale": [
                          [
                            0,
                            "#0d0887"
                          ],
                          [
                            0.1111111111111111,
                            "#46039f"
                          ],
                          [
                            0.2222222222222222,
                            "#7201a8"
                          ],
                          [
                            0.3333333333333333,
                            "#9c179e"
                          ],
                          [
                            0.4444444444444444,
                            "#bd3786"
                          ],
                          [
                            0.5555555555555556,
                            "#d8576b"
                          ],
                          [
                            0.6666666666666666,
                            "#ed7953"
                          ],
                          [
                            0.7777777777777778,
                            "#fb9f3a"
                          ],
                          [
                            0.8888888888888888,
                            "#fdca26"
                          ],
                          [
                            1,
                            "#f0f921"
                          ]
                        ],
                        "type": "histogram2d"
                      }
                    ],
                    "histogram2dcontour": [
                      {
                        "colorbar": {
                          "outlinewidth": 0,
                          "ticks": ""
                        },
                        "colorscale": [
                          [
                            0,
                            "#0d0887"
                          ],
                          [
                            0.1111111111111111,
                            "#46039f"
                          ],
                          [
                            0.2222222222222222,
                            "#7201a8"
                          ],
                          [
                            0.3333333333333333,
                            "#9c179e"
                          ],
                          [
                            0.4444444444444444,
                            "#bd3786"
                          ],
                          [
                            0.5555555555555556,
                            "#d8576b"
                          ],
                          [
                            0.6666666666666666,
                            "#ed7953"
                          ],
                          [
                            0.7777777777777778,
                            "#fb9f3a"
                          ],
                          [
                            0.8888888888888888,
                            "#fdca26"
                          ],
                          [
                            1,
                            "#f0f921"
                          ]
                        ],
                        "type": "histogram2dcontour"
                      }
                    ],
                    "mesh3d": [
                      {
                        "colorbar": {
                          "outlinewidth": 0,
                          "ticks": ""
                        },
                        "type": "mesh3d"
                      }
                    ],
                    "parcoords": [
                      {
                        "line": {
                          "colorbar": {
                            "outlinewidth": 0,
                            "ticks": ""
                          }
                        },
                        "type": "parcoords"
                      }
                    ],
                    "pie": [
                      {
                        "automargin": true,
                        "type": "pie"
                      }
                    ],
                    "scatter": [
                      {
                        "fillpattern": {
                          "fillmode": "overlay",
                          "size": 10,
                          "solidity": 0.2
                        },
                        "type": "scatter"
                      }
                    ],
                    "scatter3d": [
                      {
                        "line": {
                          "colorbar": {
                            "outlinewidth": 0,
                            "ticks": ""
                          }
                        },
                        "marker": {
                          "colorbar": {
                            "outlinewidth": 0,
                            "ticks": ""
                          }
                        },
                        "type": "scatter3d"
                      }
                    ],
                    "scattercarpet": [
                      {
                        "marker": {
                          "colorbar": {
                            "outlinewidth": 0,
                            "ticks": ""
                          }
                        },
                        "type": "scattercarpet"
                      }
                    ],
                    "scattergeo": [
                      {
                        "marker": {
                          "colorbar": {
                            "outlinewidth": 0,
                            "ticks": ""
                          }
                        },
                        "type": "scattergeo"
                      }
                    ],
                    "scattergl": [
                      {
                        "marker": {
                          "colorbar": {
                            "outlinewidth": 0,
                            "ticks": ""
                          }
                        },
                        "type": "scattergl"
                      }
                    ],
                    "scattermapbox": [
                      {
                        "marker": {
                          "colorbar": {
                            "outlinewidth": 0,
                            "ticks": ""
                          }
                        },
                        "type": "scattermapbox"
                      }
                    ],
                    "scatterpolar": [
                      {
                        "marker": {
                          "colorbar": {
                            "outlinewidth": 0,
                            "ticks": ""
                          }
                        },
                        "type": "scatterpolar"
                      }
                    ],
                    "scatterpolargl": [
                      {
                        "marker": {
                          "colorbar": {
                            "outlinewidth": 0,
                            "ticks": ""
                          }
                        },
                        "type": "scatterpolargl"
                      }
                    ],
                    "scatterternary": [
                      {
                        "marker": {
                          "colorbar": {
                            "outlinewidth": 0,
                            "ticks": ""
                          }
                        },
                        "type": "scatterternary"
                      }
                    ],
                    "surface": [
                      {
                        "colorbar": {
                          "outlinewidth": 0,
                          "ticks": ""
                        },
                        "colorscale": [
                          [
                            0,
                            "#0d0887"
                          ],
                          [
                            0.1111111111111111,
                            "#46039f"
                          ],
                          [
                            0.2222222222222222,
                            "#7201a8"
                          ],
                          [
                            0.3333333333333333,
                            "#9c179e"
                          ],
                          [
                            0.4444444444444444,
                            "#bd3786"
                          ],
                          [
                            0.5555555555555556,
                            "#d8576b"
                          ],
                          [
                            0.6666666666666666,
                            "#ed7953"
                          ],
                          [
                            0.7777777777777778,
                            "#fb9f3a"
                          ],
                          [
                            0.8888888888888888,
                            "#fdca26"
                          ],
                          [
                            1,
                            "#f0f921"
                          ]
                        ],
                        "type": "surface"
                      }
                    ],
                    "table": [
                      {
                        "cells": {
                          "fill": {
                            "color": "#EBF0F8"
                          },
                          "line": {
                            "color": "white"
                          }
                        },
                        "header": {
                          "fill": {
                            "color": "#C8D4E3"
                          },
                          "line": {
                            "color": "white"
                          }
                        },
                        "type": "table"
                      }
                    ]
                  },
                  "layout": {
                    "annotationdefaults": {
                      "arrowcolor": "#2a3f5f",
                      "arrowhead": 0,
                      "arrowwidth": 1
                    },
                    "autotypenumbers": "strict",
                    "coloraxis": {
                      "colorbar": {
                        "outlinewidth": 0,
                        "ticks": ""
                      }
                    },
                    "colorscale": {
                      "diverging": [
                        [
                          0,
                          "#8e0152"
                        ],
                        [
                          0.1,
                          "#c51b7d"
                        ],
                        [
                          0.2,
                          "#de77ae"
                        ],
                        [
                          0.3,
                          "#f1b6da"
                        ],
                        [
                          0.4,
                          "#fde0ef"
                        ],
                        [
                          0.5,
                          "#f7f7f7"
                        ],
                        [
                          0.6,
                          "#e6f5d0"
                        ],
                        [
                          0.7,
                          "#b8e186"
                        ],
                        [
                          0.8,
                          "#7fbc41"
                        ],
                        [
                          0.9,
                          "#4d9221"
                        ],
                        [
                          1,
                          "#276419"
                        ]
                      ],
                      "sequential": [
                        [
                          0,
                          "#0d0887"
                        ],
                        [
                          0.1111111111111111,
                          "#46039f"
                        ],
                        [
                          0.2222222222222222,
                          "#7201a8"
                        ],
                        [
                          0.3333333333333333,
                          "#9c179e"
                        ],
                        [
                          0.4444444444444444,
                          "#bd3786"
                        ],
                        [
                          0.5555555555555556,
                          "#d8576b"
                        ],
                        [
                          0.6666666666666666,
                          "#ed7953"
                        ],
                        [
                          0.7777777777777778,
                          "#fb9f3a"
                        ],
                        [
                          0.8888888888888888,
                          "#fdca26"
                        ],
                        [
                          1,
                          "#f0f921"
                        ]
                      ],
                      "sequentialminus": [
                        [
                          0,
                          "#0d0887"
                        ],
                        [
                          0.1111111111111111,
                          "#46039f"
                        ],
                        [
                          0.2222222222222222,
                          "#7201a8"
                        ],
                        [
                          0.3333333333333333,
                          "#9c179e"
                        ],
                        [
                          0.4444444444444444,
                          "#bd3786"
                        ],
                        [
                          0.5555555555555556,
                          "#d8576b"
                        ],
                        [
                          0.6666666666666666,
                          "#ed7953"
                        ],
                        [
                          0.7777777777777778,
                          "#fb9f3a"
                        ],
                        [
                          0.8888888888888888,
                          "#fdca26"
                        ],
                        [
                          1,
                          "#f0f921"
                        ]
                      ]
                    },
                    "colorway": [
                      "#636efa",
                      "#EF553B",
                      "#00cc96",
                      "#ab63fa",
                      "#FFA15A",
                      "#19d3f3",
                      "#FF6692",
                      "#B6E880",
                      "#FF97FF",
                      "#FECB52"
                    ],
                    "font": {
                      "color": "#2a3f5f"
                    },
                    "geo": {
                      "bgcolor": "white",
                      "lakecolor": "white",
                      "landcolor": "#E5ECF6",
                      "showlakes": true,
                      "showland": true,
                      "subunitcolor": "white"
                    },
                    "hoverlabel": {
                      "align": "left"
                    },
                    "hovermode": "closest",
                    "mapbox": {
                      "style": "light"
                    },
                    "paper_bgcolor": "white",
                    "plot_bgcolor": "#E5ECF6",
                    "polar": {
                      "angularaxis": {
                        "gridcolor": "white",
                        "linecolor": "white",
                        "ticks": ""
                      },
                      "bgcolor": "#E5ECF6",
                      "radialaxis": {
                        "gridcolor": "white",
                        "linecolor": "white",
                        "ticks": ""
                      }
                    },
                    "scene": {
                      "xaxis": {
                        "backgroundcolor": "#E5ECF6",
                        "gridcolor": "white",
                        "gridwidth": 2,
                        "linecolor": "white",
                        "showbackground": true,
                        "ticks": "",
                        "zerolinecolor": "white"
                      },
                      "yaxis": {
                        "backgroundcolor": "#E5ECF6",
                        "gridcolor": "white",
                        "gridwidth": 2,
                        "linecolor": "white",
                        "showbackground": true,
                        "ticks": "",
                        "zerolinecolor": "white"
                      },
                      "zaxis": {
                        "backgroundcolor": "#E5ECF6",
                        "gridcolor": "white",
                        "gridwidth": 2,
                        "linecolor": "white",
                        "showbackground": true,
                        "ticks": "",
                        "zerolinecolor": "white"
                      }
                    },
                    "shapedefaults": {
                      "line": {
                        "color": "#2a3f5f"
                      }
                    },
                    "ternary": {
                      "aaxis": {
                        "gridcolor": "white",
                        "linecolor": "white",
                        "ticks": ""
                      },
                      "baxis": {
                        "gridcolor": "white",
                        "linecolor": "white",
                        "ticks": ""
                      },
                      "bgcolor": "#E5ECF6",
                      "caxis": {
                        "gridcolor": "white",
                        "linecolor": "white",
                        "ticks": ""
                      }
                    },
                    "title": {
                      "x": 0.05
                    },
                    "xaxis": {
                      "automargin": true,
                      "gridcolor": "white",
                      "linecolor": "white",
                      "ticks": "",
                      "title": {
                        "standoff": 15
                      },
                      "zerolinecolor": "white",
                      "zerolinewidth": 2
                    },
                    "yaxis": {
                      "automargin": true,
                      "gridcolor": "white",
                      "linecolor": "white",
                      "ticks": "",
                      "title": {
                        "standoff": 15
                      },
                      "zerolinecolor": "white",
                      "zerolinewidth": 2
                    }
                  }
                },
                "xaxis": {
                  "anchor": "y",
                  "domain": [
                    0,
                    1
                  ],
                  "range": [
                    0,
                    0.1
                  ],
                  "title": {
                    "text": "Logit Diff"
                  }
                },
                "yaxis": {
                  "anchor": "x",
                  "domain": [
                    0,
                    1
                  ],
                  "title": {
                    "text": "Attention Head"
                  }
                }
              }
            }
          },
          "metadata": {},
          "output_type": "display_data"
        }
      ],
      "source": [
        "plot_attention_heads(-results['z'].cuda(), top_n=15, range_x=[0, 0.1])"
      ]
    },
    {
      "cell_type": "code",
      "execution_count": 24,
      "metadata": {},
      "outputs": [
        {
          "data": {
            "text/html": [
              "<pre style=\"white-space:pre;overflow-x:auto;line-height:normal;font-family:Menlo,'DejaVu Sans Mono',consolas,'Courier New',monospace\"><span style=\"color: #800000; text-decoration-color: #800000\">╭─────────────────────────────── </span><span style=\"color: #800000; text-decoration-color: #800000; font-weight: bold\">Traceback </span><span style=\"color: #bf7f7f; text-decoration-color: #bf7f7f; font-weight: bold\">(most recent call last)</span><span style=\"color: #800000; text-decoration-color: #800000\"> ────────────────────────────────╮</span>\n",
              "<span style=\"color: #800000; text-decoration-color: #800000\">│</span> <span style=\"color: #bfbf7f; text-decoration-color: #bfbf7f\">/tmp/ipykernel_679362/</span><span style=\"color: #808000; text-decoration-color: #808000; font-weight: bold\">3472935268.py</span>:<span style=\"color: #0000ff; text-decoration-color: #0000ff\">4</span> in <span style=\"color: #00ff00; text-decoration-color: #00ff00\">&lt;module&gt;</span>                                                <span style=\"color: #800000; text-decoration-color: #800000\">│</span>\n",
              "<span style=\"color: #800000; text-decoration-color: #800000\">│</span>                                                                                                  <span style=\"color: #800000; text-decoration-color: #800000\">│</span>\n",
              "<span style=\"color: #800000; text-decoration-color: #800000\">│</span> <span style=\"color: #800000; text-decoration-color: #800000; font-style: italic\">[Errno 2] No such file or directory: '/tmp/ipykernel_679362/3472935268.py'</span>                       <span style=\"color: #800000; text-decoration-color: #800000\">│</span>\n",
              "<span style=\"color: #800000; text-decoration-color: #800000\">╰──────────────────────────────────────────────────────────────────────────────────────────────────╯</span>\n",
              "<span style=\"color: #ff0000; text-decoration-color: #ff0000; font-weight: bold\">NameError: </span>name <span style=\"color: #008000; text-decoration-color: #008000\">'results'</span> is not defined\n",
              "</pre>\n"
            ],
            "text/plain": [
              "\u001b[31m╭─\u001b[0m\u001b[31m──────────────────────────────\u001b[0m\u001b[31m \u001b[0m\u001b[1;31mTraceback \u001b[0m\u001b[1;2;31m(most recent call last)\u001b[0m\u001b[31m \u001b[0m\u001b[31m───────────────────────────────\u001b[0m\u001b[31m─╮\u001b[0m\n",
              "\u001b[31m│\u001b[0m \u001b[2;33m/tmp/ipykernel_679362/\u001b[0m\u001b[1;33m3472935268.py\u001b[0m:\u001b[94m4\u001b[0m in \u001b[92m<module>\u001b[0m                                                \u001b[31m│\u001b[0m\n",
              "\u001b[31m│\u001b[0m                                                                                                  \u001b[31m│\u001b[0m\n",
              "\u001b[31m│\u001b[0m \u001b[3;31m[Errno 2] No such file or directory: '/tmp/ipykernel_679362/3472935268.py'\u001b[0m                       \u001b[31m│\u001b[0m\n",
              "\u001b[31m╰──────────────────────────────────────────────────────────────────────────────────────────────────╯\u001b[0m\n",
              "\u001b[1;91mNameError: \u001b[0mname \u001b[32m'results'\u001b[0m is not defined\n"
            ]
          },
          "metadata": {},
          "output_type": "display_data"
        }
      ],
      "source": [
        "\n",
        "\n",
        "top_k = 4\n",
        "top_heads = torch.topk(-results['z'].flatten(), k=top_k).indices.cpu().numpy()\n",
        "heads = [(head // model.cfg.n_heads, head % model.cfg.n_heads) for head in top_heads]\n",
        "tokens, attn, names = get_attn_head_patterns(model, all_prompts[0], heads)\n",
        "cv.attention.attention_heads(tokens=tokens, attention=attn, attention_head_names=names)"
      ]
    },
    {
      "attachments": {},
      "cell_type": "markdown",
      "metadata": {},
      "source": [
        "#### SJB1-Attenders"
      ]
    },
    {
      "cell_type": "code",
      "execution_count": 54,
      "metadata": {},
      "outputs": [
        {
          "data": {
            "application/vnd.jupyter.widget-view+json": {
              "model_id": "37e779e335a840ec96e360702ae376f0",
              "version_major": 2,
              "version_minor": 0
            },
            "text/plain": [
              "  0%|          | 0/144 [00:00<?, ?it/s]"
            ]
          },
          "metadata": {},
          "output_type": "display_data"
        },
        {
          "name": "stdout",
          "output_type": "stream",
          "text": [
            "results['z'].shape = (layer=12, head=12)\n"
          ]
        }
      ],
      "source": [
        "MOVIE_ATTENDERS = [(7, 1), (7, 5), (9, 2)]\n",
        "\n",
        "results = path_patch(\n",
        "    model,\n",
        "    orig_input=clean_tokens,\n",
        "    new_input=corrupted_tokens,\n",
        "    sender_nodes=IterNode(\"z\"),\n",
        "    receiver_nodes=[Node(\"v\", layer, head=head) for layer, head in MOVIE_ATTENDERS],\n",
        "    patching_metric=logit_diff_noising,\n",
        "    verbose=True,\n",
        ")"
      ]
    },
    {
      "cell_type": "code",
      "execution_count": 58,
      "metadata": {},
      "outputs": [
        {
          "data": {
            "application/vnd.plotly.v1+json": {
              "config": {
                "plotlyServerURL": "https://plot.ly"
              },
              "data": [
                {
                  "coloraxis": "coloraxis",
                  "hovertemplate": "Head: %{x}<br>Layer: %{y}<br>Logit diff variation: %{z}<extra></extra>",
                  "name": "0",
                  "type": "heatmap",
                  "xaxis": "x",
                  "yaxis": "y",
                  "z": [
                    [
                      -0.04883959889411926,
                      -0.049125783145427704,
                      0.014772648923099041,
                      -0.16699789464473724,
                      -0.2698397934436798,
                      -0.05213067680597305,
                      -0.11966932564973831,
                      0.019368711858987808,
                      0.014641004614531994,
                      0.03459352254867554,
                      -0.05053951218724251,
                      -0.0506310909986496
                    ],
                    [
                      0.10246986150741577,
                      0.038708802312612534,
                      -0.0004292710800655186,
                      0.00369173102080822,
                      -0.009667184203863144,
                      0.13993091881275177,
                      -0.04445531219244003,
                      -0.17958983778953552,
                      0.0339982695877552,
                      -0.01237445417791605,
                      0.011790645308792591,
                      -0.18148435652256012
                    ],
                    [
                      -0.08973482251167297,
                      -0.22132070362567902,
                      -0.0018086620839312673,
                      -0.026597635820508003,
                      0.002856083447113633,
                      0.02573336847126484,
                      -0.015316391363739967,
                      0.04999005049467087,
                      -0.00448731379583478,
                      0.07979290932416916,
                      0.10737501084804535,
                      0.01084624882787466
                    ],
                    [
                      -0.0006009794888086617,
                      0.02893286943435669,
                      -0.089397132396698,
                      0.039418529719114304,
                      -0.02215038612484932,
                      0.036470867693424225,
                      -0.0280800499022007,
                      0.006215844769030809,
                      0.044689979404211044,
                      -0.05464334413409233,
                      0.0741150826215744,
                      -0.5658937096595764
                    ],
                    [
                      -0.03303670138120651,
                      -0.0293850339949131,
                      0.018103791400790215,
                      0.07290167361497879,
                      0.19886699318885803,
                      -0.006192950066179037,
                      0.04962373524904251,
                      -0.29422810673713684,
                      -0.054855119436979294,
                      -0.4561491906642914,
                      -0.12628582119941711,
                      0.014572321437299252
                    ],
                    [
                      0.038869064301252365,
                      0.002146355342119932,
                      -0.09056475013494492,
                      0.018017936497926712,
                      -0.2310394048690796,
                      -0.18950314819812775,
                      -0.02534988708794117,
                      -0.28276944160461426,
                      0.20342296361923218,
                      0.03592712804675102,
                      -0.050070177763700485,
                      0.9203857779502869
                    ],
                    [
                      -0.09107987582683563,
                      -0.014600939117372036,
                      -0.059416837990283966,
                      0.16549259424209595,
                      -2.298088312149048,
                      0.8650842308998108,
                      0.6104463934898376,
                      -1.5916168689727783,
                      -0.1541312038898468,
                      -0.0350227952003479,
                      -0.2576885521411896,
                      -0.3990675210952759
                    ],
                    [
                      0,
                      0,
                      0,
                      0,
                      0,
                      0,
                      0,
                      0,
                      0,
                      0,
                      0,
                      0
                    ],
                    [
                      0,
                      0,
                      0,
                      0,
                      0,
                      0,
                      0,
                      0,
                      0,
                      0,
                      0,
                      0
                    ],
                    [
                      0,
                      0,
                      0,
                      0,
                      0,
                      0,
                      0,
                      0,
                      0,
                      0,
                      0,
                      0
                    ]
                  ]
                }
              ],
              "layout": {
                "coloraxis": {
                  "cmid": 0,
                  "colorbar": {
                    "ticksuffix": "%",
                    "title": {
                      "text": "Logit diff variation"
                    }
                  },
                  "colorscale": [
                    [
                      0,
                      "rgb(103,0,31)"
                    ],
                    [
                      0.1,
                      "rgb(178,24,43)"
                    ],
                    [
                      0.2,
                      "rgb(214,96,77)"
                    ],
                    [
                      0.3,
                      "rgb(244,165,130)"
                    ],
                    [
                      0.4,
                      "rgb(253,219,199)"
                    ],
                    [
                      0.5,
                      "rgb(247,247,247)"
                    ],
                    [
                      0.6,
                      "rgb(209,229,240)"
                    ],
                    [
                      0.7,
                      "rgb(146,197,222)"
                    ],
                    [
                      0.8,
                      "rgb(67,147,195)"
                    ],
                    [
                      0.9,
                      "rgb(33,102,172)"
                    ],
                    [
                      1,
                      "rgb(5,48,97)"
                    ]
                  ]
                },
                "margin": {
                  "l": 100,
                  "r": 100
                },
                "template": {
                  "data": {
                    "bar": [
                      {
                        "error_x": {
                          "color": "#2a3f5f"
                        },
                        "error_y": {
                          "color": "#2a3f5f"
                        },
                        "marker": {
                          "line": {
                            "color": "#E5ECF6",
                            "width": 0.5
                          },
                          "pattern": {
                            "fillmode": "overlay",
                            "size": 10,
                            "solidity": 0.2
                          }
                        },
                        "type": "bar"
                      }
                    ],
                    "barpolar": [
                      {
                        "marker": {
                          "line": {
                            "color": "#E5ECF6",
                            "width": 0.5
                          },
                          "pattern": {
                            "fillmode": "overlay",
                            "size": 10,
                            "solidity": 0.2
                          }
                        },
                        "type": "barpolar"
                      }
                    ],
                    "carpet": [
                      {
                        "aaxis": {
                          "endlinecolor": "#2a3f5f",
                          "gridcolor": "white",
                          "linecolor": "white",
                          "minorgridcolor": "white",
                          "startlinecolor": "#2a3f5f"
                        },
                        "baxis": {
                          "endlinecolor": "#2a3f5f",
                          "gridcolor": "white",
                          "linecolor": "white",
                          "minorgridcolor": "white",
                          "startlinecolor": "#2a3f5f"
                        },
                        "type": "carpet"
                      }
                    ],
                    "choropleth": [
                      {
                        "colorbar": {
                          "outlinewidth": 0,
                          "ticks": ""
                        },
                        "type": "choropleth"
                      }
                    ],
                    "contour": [
                      {
                        "colorbar": {
                          "outlinewidth": 0,
                          "ticks": ""
                        },
                        "colorscale": [
                          [
                            0,
                            "#0d0887"
                          ],
                          [
                            0.1111111111111111,
                            "#46039f"
                          ],
                          [
                            0.2222222222222222,
                            "#7201a8"
                          ],
                          [
                            0.3333333333333333,
                            "#9c179e"
                          ],
                          [
                            0.4444444444444444,
                            "#bd3786"
                          ],
                          [
                            0.5555555555555556,
                            "#d8576b"
                          ],
                          [
                            0.6666666666666666,
                            "#ed7953"
                          ],
                          [
                            0.7777777777777778,
                            "#fb9f3a"
                          ],
                          [
                            0.8888888888888888,
                            "#fdca26"
                          ],
                          [
                            1,
                            "#f0f921"
                          ]
                        ],
                        "type": "contour"
                      }
                    ],
                    "contourcarpet": [
                      {
                        "colorbar": {
                          "outlinewidth": 0,
                          "ticks": ""
                        },
                        "type": "contourcarpet"
                      }
                    ],
                    "heatmap": [
                      {
                        "colorbar": {
                          "outlinewidth": 0,
                          "ticks": ""
                        },
                        "colorscale": [
                          [
                            0,
                            "#0d0887"
                          ],
                          [
                            0.1111111111111111,
                            "#46039f"
                          ],
                          [
                            0.2222222222222222,
                            "#7201a8"
                          ],
                          [
                            0.3333333333333333,
                            "#9c179e"
                          ],
                          [
                            0.4444444444444444,
                            "#bd3786"
                          ],
                          [
                            0.5555555555555556,
                            "#d8576b"
                          ],
                          [
                            0.6666666666666666,
                            "#ed7953"
                          ],
                          [
                            0.7777777777777778,
                            "#fb9f3a"
                          ],
                          [
                            0.8888888888888888,
                            "#fdca26"
                          ],
                          [
                            1,
                            "#f0f921"
                          ]
                        ],
                        "type": "heatmap"
                      }
                    ],
                    "heatmapgl": [
                      {
                        "colorbar": {
                          "outlinewidth": 0,
                          "ticks": ""
                        },
                        "colorscale": [
                          [
                            0,
                            "#0d0887"
                          ],
                          [
                            0.1111111111111111,
                            "#46039f"
                          ],
                          [
                            0.2222222222222222,
                            "#7201a8"
                          ],
                          [
                            0.3333333333333333,
                            "#9c179e"
                          ],
                          [
                            0.4444444444444444,
                            "#bd3786"
                          ],
                          [
                            0.5555555555555556,
                            "#d8576b"
                          ],
                          [
                            0.6666666666666666,
                            "#ed7953"
                          ],
                          [
                            0.7777777777777778,
                            "#fb9f3a"
                          ],
                          [
                            0.8888888888888888,
                            "#fdca26"
                          ],
                          [
                            1,
                            "#f0f921"
                          ]
                        ],
                        "type": "heatmapgl"
                      }
                    ],
                    "histogram": [
                      {
                        "marker": {
                          "pattern": {
                            "fillmode": "overlay",
                            "size": 10,
                            "solidity": 0.2
                          }
                        },
                        "type": "histogram"
                      }
                    ],
                    "histogram2d": [
                      {
                        "colorbar": {
                          "outlinewidth": 0,
                          "ticks": ""
                        },
                        "colorscale": [
                          [
                            0,
                            "#0d0887"
                          ],
                          [
                            0.1111111111111111,
                            "#46039f"
                          ],
                          [
                            0.2222222222222222,
                            "#7201a8"
                          ],
                          [
                            0.3333333333333333,
                            "#9c179e"
                          ],
                          [
                            0.4444444444444444,
                            "#bd3786"
                          ],
                          [
                            0.5555555555555556,
                            "#d8576b"
                          ],
                          [
                            0.6666666666666666,
                            "#ed7953"
                          ],
                          [
                            0.7777777777777778,
                            "#fb9f3a"
                          ],
                          [
                            0.8888888888888888,
                            "#fdca26"
                          ],
                          [
                            1,
                            "#f0f921"
                          ]
                        ],
                        "type": "histogram2d"
                      }
                    ],
                    "histogram2dcontour": [
                      {
                        "colorbar": {
                          "outlinewidth": 0,
                          "ticks": ""
                        },
                        "colorscale": [
                          [
                            0,
                            "#0d0887"
                          ],
                          [
                            0.1111111111111111,
                            "#46039f"
                          ],
                          [
                            0.2222222222222222,
                            "#7201a8"
                          ],
                          [
                            0.3333333333333333,
                            "#9c179e"
                          ],
                          [
                            0.4444444444444444,
                            "#bd3786"
                          ],
                          [
                            0.5555555555555556,
                            "#d8576b"
                          ],
                          [
                            0.6666666666666666,
                            "#ed7953"
                          ],
                          [
                            0.7777777777777778,
                            "#fb9f3a"
                          ],
                          [
                            0.8888888888888888,
                            "#fdca26"
                          ],
                          [
                            1,
                            "#f0f921"
                          ]
                        ],
                        "type": "histogram2dcontour"
                      }
                    ],
                    "mesh3d": [
                      {
                        "colorbar": {
                          "outlinewidth": 0,
                          "ticks": ""
                        },
                        "type": "mesh3d"
                      }
                    ],
                    "parcoords": [
                      {
                        "line": {
                          "colorbar": {
                            "outlinewidth": 0,
                            "ticks": ""
                          }
                        },
                        "type": "parcoords"
                      }
                    ],
                    "pie": [
                      {
                        "automargin": true,
                        "type": "pie"
                      }
                    ],
                    "scatter": [
                      {
                        "fillpattern": {
                          "fillmode": "overlay",
                          "size": 10,
                          "solidity": 0.2
                        },
                        "type": "scatter"
                      }
                    ],
                    "scatter3d": [
                      {
                        "line": {
                          "colorbar": {
                            "outlinewidth": 0,
                            "ticks": ""
                          }
                        },
                        "marker": {
                          "colorbar": {
                            "outlinewidth": 0,
                            "ticks": ""
                          }
                        },
                        "type": "scatter3d"
                      }
                    ],
                    "scattercarpet": [
                      {
                        "marker": {
                          "colorbar": {
                            "outlinewidth": 0,
                            "ticks": ""
                          }
                        },
                        "type": "scattercarpet"
                      }
                    ],
                    "scattergeo": [
                      {
                        "marker": {
                          "colorbar": {
                            "outlinewidth": 0,
                            "ticks": ""
                          }
                        },
                        "type": "scattergeo"
                      }
                    ],
                    "scattergl": [
                      {
                        "marker": {
                          "colorbar": {
                            "outlinewidth": 0,
                            "ticks": ""
                          }
                        },
                        "type": "scattergl"
                      }
                    ],
                    "scattermapbox": [
                      {
                        "marker": {
                          "colorbar": {
                            "outlinewidth": 0,
                            "ticks": ""
                          }
                        },
                        "type": "scattermapbox"
                      }
                    ],
                    "scatterpolar": [
                      {
                        "marker": {
                          "colorbar": {
                            "outlinewidth": 0,
                            "ticks": ""
                          }
                        },
                        "type": "scatterpolar"
                      }
                    ],
                    "scatterpolargl": [
                      {
                        "marker": {
                          "colorbar": {
                            "outlinewidth": 0,
                            "ticks": ""
                          }
                        },
                        "type": "scatterpolargl"
                      }
                    ],
                    "scatterternary": [
                      {
                        "marker": {
                          "colorbar": {
                            "outlinewidth": 0,
                            "ticks": ""
                          }
                        },
                        "type": "scatterternary"
                      }
                    ],
                    "surface": [
                      {
                        "colorbar": {
                          "outlinewidth": 0,
                          "ticks": ""
                        },
                        "colorscale": [
                          [
                            0,
                            "#0d0887"
                          ],
                          [
                            0.1111111111111111,
                            "#46039f"
                          ],
                          [
                            0.2222222222222222,
                            "#7201a8"
                          ],
                          [
                            0.3333333333333333,
                            "#9c179e"
                          ],
                          [
                            0.4444444444444444,
                            "#bd3786"
                          ],
                          [
                            0.5555555555555556,
                            "#d8576b"
                          ],
                          [
                            0.6666666666666666,
                            "#ed7953"
                          ],
                          [
                            0.7777777777777778,
                            "#fb9f3a"
                          ],
                          [
                            0.8888888888888888,
                            "#fdca26"
                          ],
                          [
                            1,
                            "#f0f921"
                          ]
                        ],
                        "type": "surface"
                      }
                    ],
                    "table": [
                      {
                        "cells": {
                          "fill": {
                            "color": "#EBF0F8"
                          },
                          "line": {
                            "color": "white"
                          }
                        },
                        "header": {
                          "fill": {
                            "color": "#C8D4E3"
                          },
                          "line": {
                            "color": "white"
                          }
                        },
                        "type": "table"
                      }
                    ]
                  },
                  "layout": {
                    "annotationdefaults": {
                      "arrowcolor": "#2a3f5f",
                      "arrowhead": 0,
                      "arrowwidth": 1
                    },
                    "autotypenumbers": "strict",
                    "coloraxis": {
                      "colorbar": {
                        "outlinewidth": 0,
                        "ticks": ""
                      }
                    },
                    "colorscale": {
                      "diverging": [
                        [
                          0,
                          "#8e0152"
                        ],
                        [
                          0.1,
                          "#c51b7d"
                        ],
                        [
                          0.2,
                          "#de77ae"
                        ],
                        [
                          0.3,
                          "#f1b6da"
                        ],
                        [
                          0.4,
                          "#fde0ef"
                        ],
                        [
                          0.5,
                          "#f7f7f7"
                        ],
                        [
                          0.6,
                          "#e6f5d0"
                        ],
                        [
                          0.7,
                          "#b8e186"
                        ],
                        [
                          0.8,
                          "#7fbc41"
                        ],
                        [
                          0.9,
                          "#4d9221"
                        ],
                        [
                          1,
                          "#276419"
                        ]
                      ],
                      "sequential": [
                        [
                          0,
                          "#0d0887"
                        ],
                        [
                          0.1111111111111111,
                          "#46039f"
                        ],
                        [
                          0.2222222222222222,
                          "#7201a8"
                        ],
                        [
                          0.3333333333333333,
                          "#9c179e"
                        ],
                        [
                          0.4444444444444444,
                          "#bd3786"
                        ],
                        [
                          0.5555555555555556,
                          "#d8576b"
                        ],
                        [
                          0.6666666666666666,
                          "#ed7953"
                        ],
                        [
                          0.7777777777777778,
                          "#fb9f3a"
                        ],
                        [
                          0.8888888888888888,
                          "#fdca26"
                        ],
                        [
                          1,
                          "#f0f921"
                        ]
                      ],
                      "sequentialminus": [
                        [
                          0,
                          "#0d0887"
                        ],
                        [
                          0.1111111111111111,
                          "#46039f"
                        ],
                        [
                          0.2222222222222222,
                          "#7201a8"
                        ],
                        [
                          0.3333333333333333,
                          "#9c179e"
                        ],
                        [
                          0.4444444444444444,
                          "#bd3786"
                        ],
                        [
                          0.5555555555555556,
                          "#d8576b"
                        ],
                        [
                          0.6666666666666666,
                          "#ed7953"
                        ],
                        [
                          0.7777777777777778,
                          "#fb9f3a"
                        ],
                        [
                          0.8888888888888888,
                          "#fdca26"
                        ],
                        [
                          1,
                          "#f0f921"
                        ]
                      ]
                    },
                    "colorway": [
                      "#636efa",
                      "#EF553B",
                      "#00cc96",
                      "#ab63fa",
                      "#FFA15A",
                      "#19d3f3",
                      "#FF6692",
                      "#B6E880",
                      "#FF97FF",
                      "#FECB52"
                    ],
                    "font": {
                      "color": "#2a3f5f"
                    },
                    "geo": {
                      "bgcolor": "white",
                      "lakecolor": "white",
                      "landcolor": "#E5ECF6",
                      "showlakes": true,
                      "showland": true,
                      "subunitcolor": "white"
                    },
                    "hoverlabel": {
                      "align": "left"
                    },
                    "hovermode": "closest",
                    "mapbox": {
                      "style": "light"
                    },
                    "paper_bgcolor": "white",
                    "plot_bgcolor": "#E5ECF6",
                    "polar": {
                      "angularaxis": {
                        "gridcolor": "white",
                        "linecolor": "white",
                        "ticks": ""
                      },
                      "bgcolor": "#E5ECF6",
                      "radialaxis": {
                        "gridcolor": "white",
                        "linecolor": "white",
                        "ticks": ""
                      }
                    },
                    "scene": {
                      "xaxis": {
                        "backgroundcolor": "#E5ECF6",
                        "gridcolor": "white",
                        "gridwidth": 2,
                        "linecolor": "white",
                        "showbackground": true,
                        "ticks": "",
                        "zerolinecolor": "white"
                      },
                      "yaxis": {
                        "backgroundcolor": "#E5ECF6",
                        "gridcolor": "white",
                        "gridwidth": 2,
                        "linecolor": "white",
                        "showbackground": true,
                        "ticks": "",
                        "zerolinecolor": "white"
                      },
                      "zaxis": {
                        "backgroundcolor": "#E5ECF6",
                        "gridcolor": "white",
                        "gridwidth": 2,
                        "linecolor": "white",
                        "showbackground": true,
                        "ticks": "",
                        "zerolinecolor": "white"
                      }
                    },
                    "shapedefaults": {
                      "line": {
                        "color": "#2a3f5f"
                      }
                    },
                    "ternary": {
                      "aaxis": {
                        "gridcolor": "white",
                        "linecolor": "white",
                        "ticks": ""
                      },
                      "baxis": {
                        "gridcolor": "white",
                        "linecolor": "white",
                        "ticks": ""
                      },
                      "bgcolor": "#E5ECF6",
                      "caxis": {
                        "gridcolor": "white",
                        "linecolor": "white",
                        "ticks": ""
                      }
                    },
                    "title": {
                      "x": 0.05
                    },
                    "xaxis": {
                      "automargin": true,
                      "gridcolor": "white",
                      "linecolor": "white",
                      "ticks": "",
                      "title": {
                        "standoff": 15
                      },
                      "zerolinecolor": "white",
                      "zerolinewidth": 2
                    },
                    "yaxis": {
                      "automargin": true,
                      "gridcolor": "white",
                      "linecolor": "white",
                      "ticks": "",
                      "title": {
                        "standoff": 15
                      },
                      "zerolinecolor": "white",
                      "zerolinewidth": 2
                    }
                  }
                },
                "title": {
                  "text": "Direct effect on Movie Attenders' values"
                },
                "width": 700,
                "xaxis": {
                  "anchor": "y",
                  "constrain": "domain",
                  "domain": [
                    0,
                    1
                  ],
                  "linecolor": "black",
                  "linewidth": 1,
                  "mirror": true,
                  "scaleanchor": "y",
                  "showline": true,
                  "title": {
                    "text": "Head"
                  }
                },
                "yaxis": {
                  "anchor": "x",
                  "autorange": "reversed",
                  "constrain": "domain",
                  "domain": [
                    0,
                    1
                  ],
                  "linecolor": "black",
                  "linewidth": 1,
                  "mirror": true,
                  "showline": true,
                  "title": {
                    "text": "Layer"
                  }
                }
              }
            }
          },
          "metadata": {},
          "output_type": "display_data"
        }
      ],
      "source": [
        "imshow_p(\n",
        "        results[\"z\"][:10] * 100,\n",
        "        title=f\"Direct effect on Movie Attenders' values\",\n",
        "        labels={\"x\": \"Head\", \"y\": \"Layer\", \"color\": \"Logit diff variation\"},\n",
        "        coloraxis=dict(colorbar_ticksuffix = \"%\"),\n",
        "        border=True,\n",
        "        width=700,\n",
        "        margin={\"r\": 100, \"l\": 100}\n",
        "    )"
      ]
    },
    {
      "cell_type": "code",
      "execution_count": 60,
      "metadata": {},
      "outputs": [
        {
          "data": {
            "text/html": [
              "<div id=\"circuits-vis-5a2d44bc-f745\" style=\"margin: 15px 0;\"/>\n",
              "    <script crossorigin type=\"module\">\n",
              "    import { render, AttentionHeads } from \"https://unpkg.com/circuitsvis@1.39.1/dist/cdn/esm.js\";\n",
              "    render(\n",
              "      \"circuits-vis-5a2d44bc-f745\",\n",
              "      AttentionHeads,\n",
              "      {\"attention\": [[[1.0, 0.0, 0.0, 0.0, 0.0, 0.0, 0.0, 0.0, 0.0, 0.0, 0.0, 0.0, 0.0, 0.0, 0.0, 0.0, 0.0, 0.0, 0.0], [0.9287919402122498, 0.07120807468891144, 0.0, 0.0, 0.0, 0.0, 0.0, 0.0, 0.0, 0.0, 0.0, 0.0, 0.0, 0.0, 0.0, 0.0, 0.0, 0.0, 0.0], [0.7899476885795593, 0.10029218345880508, 0.1097600981593132, 0.0, 0.0, 0.0, 0.0, 0.0, 0.0, 0.0, 0.0, 0.0, 0.0, 0.0, 0.0, 0.0, 0.0, 0.0, 0.0], [0.7418538928031921, 0.06614411622285843, 0.04533183202147484, 0.14667007327079773, 0.0, 0.0, 0.0, 0.0, 0.0, 0.0, 0.0, 0.0, 0.0, 0.0, 0.0, 0.0, 0.0, 0.0, 0.0], [0.8582246899604797, 0.012160418555140495, 0.008871546946465969, 0.01817123033106327, 0.10257214307785034, 0.0, 0.0, 0.0, 0.0, 0.0, 0.0, 0.0, 0.0, 0.0, 0.0, 0.0, 0.0, 0.0, 0.0], [0.922569215297699, 0.03347327187657356, 0.016144802793860435, 0.015707893297076225, 0.0051919142715632915, 0.006913005840033293, 0.0, 0.0, 0.0, 0.0, 0.0, 0.0, 0.0, 0.0, 0.0, 0.0, 0.0, 0.0, 0.0], [0.6326375007629395, 0.06486338376998901, 0.10324377566576004, 0.055584002286195755, 0.033249400556087494, 0.07564010471105576, 0.034781888127326965, 0.0, 0.0, 0.0, 0.0, 0.0, 0.0, 0.0, 0.0, 0.0, 0.0, 0.0, 0.0], [0.5875692963600159, 0.04894020035862923, 0.05182357504963875, 0.09087006002664566, 0.024248642846941948, 0.02387080155313015, 0.07951396703720093, 0.09316352009773254, 0.0, 0.0, 0.0, 0.0, 0.0, 0.0, 0.0, 0.0, 0.0, 0.0, 0.0], [0.4931093156337738, 0.03278883546590805, 0.0461096316576004, 0.08196929097175598, 0.04058486595749855, 0.03206881880760193, 0.08967158943414688, 0.15393880009651184, 0.02975880168378353, 0.0, 0.0, 0.0, 0.0, 0.0, 0.0, 0.0, 0.0, 0.0, 0.0], [0.3460395634174347, 0.023786351084709167, 0.021952902898192406, 0.028113264590501785, 0.07443784922361374, 0.04705538600683212, 0.1287640482187271, 0.2700810134410858, 0.01954975724220276, 0.040219806134700775, 0.0, 0.0, 0.0, 0.0, 0.0, 0.0, 0.0, 0.0, 0.0], [0.6931581497192383, 0.012560602277517319, 0.013298614881932735, 0.007940005511045456, 0.01704670488834381, 0.018085869029164314, 0.04700673371553421, 0.11096623539924622, 0.018241822719573975, 0.05110187083482742, 0.010593431070446968, 0.0, 0.0, 0.0, 0.0, 0.0, 0.0, 0.0, 0.0], [0.3694671392440796, 0.05268330127000809, 0.021781930699944496, 0.05036189407110214, 0.12397482246160507, 0.04260367900133133, 0.09039383381605148, 0.09261796623468399, 0.022696485742926598, 0.03749561309814453, 0.022232146933674812, 0.07369124889373779, 0.0, 0.0, 0.0, 0.0, 0.0, 0.0, 0.0], [0.6657552719116211, 0.06149163842201233, 0.026287393644452095, 0.06260717660188675, 0.018588224425911903, 0.008122282102704048, 0.00967172347009182, 0.016774658113718033, 0.02084667980670929, 0.0046358308754861355, 0.0027959756553173065, 0.012821336276829243, 0.08960175514221191, 0.0, 0.0, 0.0, 0.0, 0.0, 0.0], [0.49211567640304565, 0.011950986459851265, 0.002043777843937278, 0.021436570212244987, 0.15142123401165009, 0.017229469493031502, 0.029179448261857033, 0.03918183967471123, 0.0023944114800542593, 0.004202296957373619, 0.014770188368856907, 0.02453351579606533, 0.05109165981411934, 0.13844898343086243, 0.0, 0.0, 0.0, 0.0, 0.0], [0.7946848273277283, 0.009776356630027294, 0.0026245976332575083, 0.009070592001080513, 0.04009000584483147, 0.017558535560965538, 0.023149754852056503, 0.018822425976395607, 0.005756951868534088, 0.002311499323695898, 0.01462069246917963, 0.03269766643643379, 0.0056595588102936745, 0.012270673178136349, 0.010905762203037739, 0.0, 0.0, 0.0, 0.0], [0.6690800786018372, 0.011183811351656914, 0.0032022667583078146, 0.011886782944202423, 0.05898793786764145, 0.02429850585758686, 0.03585271164774895, 0.025346707552671432, 0.00794854573905468, 0.004150444641709328, 0.014839236624538898, 0.03486836329102516, 0.010098188184201717, 0.03920894116163254, 0.024756034836173058, 0.02429148741066456, 0.0, 0.0, 0.0], [0.6810724139213562, 0.029075192287564278, 0.005424107424914837, 0.008200549520552158, 0.04911951720714569, 0.01553838886320591, 0.01197776012122631, 0.020662503316998482, 0.008795456029474735, 0.004375835414975882, 0.013202390633523464, 0.024685973301529884, 0.003534587100148201, 0.019748525694012642, 0.03756598383188248, 0.0592157207429409, 0.007805034518241882, 0.0, 0.0], [0.592979371547699, 0.007713906466960907, 0.002018536673858762, 0.002868009265512228, 0.06011870875954628, 0.016758978366851807, 0.09689503163099289, 0.04098159074783325, 0.004637107253074646, 0.011835138313472271, 0.02148846909403801, 0.0356881208717823, 0.0018034918466582894, 0.008408713154494762, 0.022957419976592064, 0.03533521294593811, 0.005908078048378229, 0.03160404786467552, 0.0], [0.6033661365509033, 0.030207768082618713, 0.0036517702974379063, 0.005219473037868738, 0.050279732793569565, 0.008138730190694332, 0.01940617337822914, 0.022808626294136047, 0.00780828669667244, 0.00900412816554308, 0.007853265851736069, 0.03416978195309639, 0.004554863087832928, 0.0322391614317894, 0.045452218502759933, 0.054877784103155136, 0.010233432054519653, 0.035705603659152985, 0.015023003332316875]], [[1.0, 0.0, 0.0, 0.0, 0.0, 0.0, 0.0, 0.0, 0.0, 0.0, 0.0, 0.0, 0.0, 0.0, 0.0, 0.0, 0.0, 0.0, 0.0], [0.9893207550048828, 0.010679289698600769, 0.0, 0.0, 0.0, 0.0, 0.0, 0.0, 0.0, 0.0, 0.0, 0.0, 0.0, 0.0, 0.0, 0.0, 0.0, 0.0, 0.0], [0.9606646299362183, 0.019729914143681526, 0.01960545778274536, 0.0, 0.0, 0.0, 0.0, 0.0, 0.0, 0.0, 0.0, 0.0, 0.0, 0.0, 0.0, 0.0, 0.0, 0.0, 0.0], [0.8863978981971741, 0.025140000507235527, 0.04600144177675247, 0.042460665106773376, 0.0, 0.0, 0.0, 0.0, 0.0, 0.0, 0.0, 0.0, 0.0, 0.0, 0.0, 0.0, 0.0, 0.0, 0.0], [0.845082700252533, 0.02177264727652073, 0.014122270978987217, 0.026169754564762115, 0.09285266697406769, 0.0, 0.0, 0.0, 0.0, 0.0, 0.0, 0.0, 0.0, 0.0, 0.0, 0.0, 0.0, 0.0, 0.0], [0.736104428768158, 0.01090735662728548, 0.02458284981548786, 0.04671084135770798, 0.1362198442220688, 0.045474711805582047, 0.0, 0.0, 0.0, 0.0, 0.0, 0.0, 0.0, 0.0, 0.0, 0.0, 0.0, 0.0, 0.0], [0.4938262104988098, 0.02228347212076187, 0.00995942484587431, 0.023010650649666786, 0.2811409533023834, 0.08795322477817535, 0.08182614296674728, 0.0, 0.0, 0.0, 0.0, 0.0, 0.0, 0.0, 0.0, 0.0, 0.0, 0.0, 0.0], [0.2891230881214142, 0.01276553887873888, 0.025590278208255768, 0.05014178901910782, 0.129922017455101, 0.10681497305631638, 0.34548118710517883, 0.040161218494176865, 0.0, 0.0, 0.0, 0.0, 0.0, 0.0, 0.0, 0.0, 0.0, 0.0, 0.0], [0.13935363292694092, 0.0030677744653075933, 0.02142912894487381, 0.0794842541217804, 0.14054089784622192, 0.11986279487609863, 0.3922443389892578, 0.09340851753950119, 0.010608721524477005, 0.0, 0.0, 0.0, 0.0, 0.0, 0.0, 0.0, 0.0, 0.0, 0.0], [0.40672144293785095, 0.023666847497224808, 0.01521138846874237, 0.04761102795600891, 0.22487476468086243, 0.07076391577720642, 0.08856288343667984, 0.06520151346921921, 0.013112823478877544, 0.04427335411310196, 0.0, 0.0, 0.0, 0.0, 0.0, 0.0, 0.0, 0.0, 0.0], [0.5970430374145508, 0.00804012082517147, 0.004589600954204798, 0.015638334676623344, 0.12843437492847443, 0.02762572653591633, 0.07085641473531723, 0.04696584865450859, 0.006751304026693106, 0.05575418099761009, 0.0383010134100914, 0.0, 0.0, 0.0, 0.0, 0.0, 0.0, 0.0, 0.0], [0.4619486629962921, 0.016926487907767296, 0.009783160872757435, 0.02256828360259533, 0.1538752317428589, 0.04407321661710739, 0.08327657729387283, 0.025362113490700722, 0.014987139031291008, 0.08565665781497955, 0.05565197765827179, 0.025890516117215157, 0.0, 0.0, 0.0, 0.0, 0.0, 0.0, 0.0], [0.6484653949737549, 0.02373834140598774, 0.010620043613016605, 0.018464278429746628, 0.05782993510365486, 0.015593198128044605, 0.023408938199281693, 0.028105242177844048, 0.029550960287451744, 0.02776460349559784, 0.025654207915067673, 0.07500656694173813, 0.015798335894942284, 0.0, 0.0, 0.0, 0.0, 0.0, 0.0], [0.45552822947502136, 0.015696469694375992, 0.022510742768645287, 0.03295890986919403, 0.07192094624042511, 0.02142421156167984, 0.05090421065688133, 0.05688094720244408, 0.018424397334456444, 0.06476158648729324, 0.04199277609586716, 0.08806554973125458, 0.013619915582239628, 0.045311130583286285, 0.0, 0.0, 0.0, 0.0, 0.0], [0.7192779779434204, 0.016019191592931747, 0.005893723573535681, 0.003778164740651846, 0.04991837218403816, 0.005991099402308464, 0.01486194971948862, 0.008423940278589725, 0.014455690048635006, 0.012363155372440815, 0.010643618181347847, 0.043610189110040665, 0.014936994761228561, 0.04732270538806915, 0.03250324726104736, 0.0, 0.0, 0.0, 0.0], [0.6961289048194885, 0.009669005870819092, 0.003558629658073187, 0.0031834361143410206, 0.04636538028717041, 0.01114849653095007, 0.013645363971590996, 0.009731040336191654, 0.009131401777267456, 0.008992902003228664, 0.013160446658730507, 0.0485636331140995, 0.004696365911513567, 0.03703068941831589, 0.06620267033576965, 0.01879158616065979, 0.0, 0.0, 0.0], [0.8250105381011963, 0.005472451914101839, 0.001657219254411757, 0.0009614326991140842, 0.015933452174067497, 0.003829335095360875, 0.0035746570210903883, 0.0035575588699430227, 0.0022021750919520855, 0.005314624402672052, 0.003939691931009293, 0.013487032614648342, 0.004250173456966877, 0.010148451663553715, 0.05612559616565704, 0.03160339966416359, 0.012932173907756805, 0.0, 0.0], [0.8103902339935303, 0.007784703280776739, 0.0013109692372381687, 0.0020422013476490974, 0.014012773521244526, 0.003502744249999523, 0.010490594431757927, 0.004366831388324499, 0.0014478572411462665, 0.004093927796930075, 0.0040404172614216805, 0.00927726924419403, 0.0035227972548455, 0.006637633312493563, 0.025507396087050438, 0.016103673726320267, 0.029820650815963745, 0.045647356659173965, 0.0], [0.6638169884681702, 0.0016971862642094493, 0.0012792519992217422, 0.001278150244615972, 0.01579165831208229, 0.0018998542800545692, 0.009664187207818031, 0.003861919976770878, 0.0013414419954642653, 0.012662199325859547, 0.004918063059449196, 0.009702211245894432, 0.0019740001298487186, 0.0094974460080266, 0.03965331241488457, 0.026379171758890152, 0.029729217290878296, 0.1365625560283661, 0.028291182592511177]]], \"attentionHeadNames\": [\"L6H4\", \"L6H7\"], \"tokens\": [\"<|endoftext|>\", \"I\", \" thought\", \" this\", \" movie\", \" was\", \" perfect\", \",\", \" I\", \" loved\", \" it\", \".\", \" \", \"\\n\", \"Conclusion\", \":\", \" This\", \" movie\", \" is\"]}\n",
              "    )\n",
              "    </script>"
            ],
            "text/plain": [
              "<circuitsvis.utils.render.RenderedHTML at 0x7fd75fe62c70>"
            ]
          },
          "execution_count": 60,
          "metadata": {},
          "output_type": "execute_result"
        }
      ],
      "source": [
        "top_k = 2\n",
        "top_heads = torch.topk(-results['z'].flatten(), k=top_k).indices.cpu().numpy()\n",
        "heads = [(head // model.cfg.n_heads, head % model.cfg.n_heads) for head in top_heads]\n",
        "tokens, attn, names = get_attn_head_patterns(model, all_prompts[0], heads)\n",
        "cv.attention.attention_heads(tokens=tokens, attention=attn, attention_head_names=names)"
      ]
    },
    {
      "cell_type": "code",
      "execution_count": null,
      "metadata": {},
      "outputs": [],
      "source": []
    },
    {
      "attachments": {},
      "cell_type": "markdown",
      "metadata": {},
      "source": [
        "#### SJB2-Attenders"
      ]
    },
    {
      "cell_type": "code",
      "execution_count": 38,
      "metadata": {},
      "outputs": [
        {
          "data": {
            "application/vnd.jupyter.widget-view+json": {
              "model_id": "5af4ea1e219b4f8a9616fc67fb49c36e",
              "version_major": 2,
              "version_minor": 0
            },
            "text/plain": [
              "  0%|          | 0/144 [00:00<?, ?it/s]"
            ]
          },
          "metadata": {},
          "output_type": "display_data"
        },
        {
          "name": "stdout",
          "output_type": "stream",
          "text": [
            "results['z'].shape = (layer=12, head=12)\n"
          ]
        }
      ],
      "source": [
        "SBJ2_ATTENDERS = [(8, 5), (9, 2), (9, 10)]\n",
        "\n",
        "results = path_patch(\n",
        "    model,\n",
        "    orig_input=clean_tokens,\n",
        "    new_input=corrupted_tokens,\n",
        "    sender_nodes=IterNode(\"z\", seq_pos=17),\n",
        "    receiver_nodes=[Node(\"v\", layer, head=head) for layer, head in SBJ2_ATTENDERS],\n",
        "    patching_metric=logit_diff_noising,\n",
        "    verbose=True,\n",
        ")"
      ]
    },
    {
      "cell_type": "code",
      "execution_count": 39,
      "metadata": {},
      "outputs": [
        {
          "data": {
            "application/vnd.plotly.v1+json": {
              "config": {
                "plotlyServerURL": "https://plot.ly"
              },
              "data": [
                {
                  "coloraxis": "coloraxis",
                  "hovertemplate": "Head: %{x}<br>Layer: %{y}<br>Logit diff variation: %{z}<extra></extra>",
                  "name": "0",
                  "type": "heatmap",
                  "xaxis": "x",
                  "yaxis": "y",
                  "z": [
                    [
                      -0.010777565650641918,
                      0.0005895323120057583,
                      -0.0016884661745280027,
                      0.000051512528443709016,
                      -0.0058724284172058105,
                      0,
                      -0.040471676737070084,
                      0.0009730144520290196,
                      -0.00014881396782584488,
                      0.008121808990836143,
                      -0.022539593279361725,
                      -0.013450494036078453
                    ],
                    [
                      0.01041125413030386,
                      0.001253471476957202,
                      -0.0012706422712653875,
                      -0.003188053146004677,
                      -0.008631209842860699,
                      0.005025333259254694,
                      -0.042560797184705734,
                      -0.04214869439601898,
                      -0.0004979544319212437,
                      0.017176564782857895,
                      -0.001356496592052281,
                      0.02900727465748787
                    ],
                    [
                      0.002753058448433876,
                      -0.21334199607372284,
                      0.0023008929565548897,
                      0.0098274452611804,
                      0.0032338418532162905,
                      -0.01565980724990368,
                      -0.0010645922739058733,
                      -0.0018544509075582027,
                      0.009644289501011372,
                      0.009770209901034832,
                      0.017972148954868317,
                      0.0013164313277229667
                    ],
                    [
                      -0.00886587891727686,
                      0.019300026819109917,
                      0.01070315856486559,
                      -0.0022264858707785606,
                      0.01520191878080368,
                      0.0009272254537791014,
                      -0.030363773927092552,
                      0.0084022656083107,
                      -0.0008470949251204729,
                      -0.022362161427736282,
                      0.029945949092507362,
                      -0.017743203788995743
                    ],
                    [
                      -0.00032624599407427013,
                      0.004035147838294506,
                      -0.06775614619255066,
                      -0.012963985092937946,
                      0.015631189569830894,
                      0.002878977917134762,
                      0.0036173241678625345,
                      0.00022894458379596472,
                      -0.02122316136956215,
                      -0.05108325928449631,
                      -0.013450494036078453,
                      0.00863693468272686
                    ],
                    [
                      -0.006839718669652939,
                      0.0030964750330895185,
                      -0.0005723614594899118,
                      -0.020507710054516792,
                      -0.005168423522263765,
                      -0.345162570476532,
                      0.012443137355148792,
                      -0.026162641122937202,
                      0.04860493168234825,
                      0.2575054168701172,
                      -0.2842461168766022,
                      0.20971322059631348
                    ],
                    [
                      -0.016449667513370514,
                      -0.011990971863269806,
                      0.04857631400227547,
                      -0.01140143908560276,
                      -1.5385017395019531,
                      0.208368182182312,
                      0.22905904054641724,
                      -0.17984740436077118,
                      -0.00028045711223967373,
                      -0.09860070049762726,
                      -0.14675919711589813,
                      0.036470867693424225
                    ],
                    [
                      -0.0262942835688591,
                      -6.855493068695068,
                      -0.01528205070644617,
                      0.5291709899902344,
                      -0.007486487273126841,
                      -4.349680423736572,
                      2.9421324729919434,
                      -0.04021983593702316,
                      -0.03835393860936165,
                      -0.3772491216659546,
                      -0.011332755908370018,
                      -0.004332776181399822
                    ],
                    [
                      -0.01270070020109415,
                      -0.007206030655652285,
                      -0.22501817345619202,
                      -0.00963856652379036,
                      -0.24881695210933685,
                      -0.8762338161468506,
                      -0.15724484622478485,
                      -0.026122577488422394,
                      0.1593053638935089,
                      -0.021062901243567467,
                      1.1342945098876953,
                      -0.09456555545330048
                    ],
                    [
                      0,
                      0,
                      0,
                      0,
                      0,
                      0,
                      0,
                      0,
                      0,
                      0,
                      0,
                      0
                    ]
                  ]
                }
              ],
              "layout": {
                "coloraxis": {
                  "cmid": 0,
                  "colorbar": {
                    "ticksuffix": "%",
                    "title": {
                      "text": "Logit diff variation"
                    }
                  },
                  "colorscale": [
                    [
                      0,
                      "rgb(103,0,31)"
                    ],
                    [
                      0.1,
                      "rgb(178,24,43)"
                    ],
                    [
                      0.2,
                      "rgb(214,96,77)"
                    ],
                    [
                      0.3,
                      "rgb(244,165,130)"
                    ],
                    [
                      0.4,
                      "rgb(253,219,199)"
                    ],
                    [
                      0.5,
                      "rgb(247,247,247)"
                    ],
                    [
                      0.6,
                      "rgb(209,229,240)"
                    ],
                    [
                      0.7,
                      "rgb(146,197,222)"
                    ],
                    [
                      0.8,
                      "rgb(67,147,195)"
                    ],
                    [
                      0.9,
                      "rgb(33,102,172)"
                    ],
                    [
                      1,
                      "rgb(5,48,97)"
                    ]
                  ]
                },
                "margin": {
                  "l": 100,
                  "r": 100
                },
                "template": {
                  "data": {
                    "bar": [
                      {
                        "error_x": {
                          "color": "#2a3f5f"
                        },
                        "error_y": {
                          "color": "#2a3f5f"
                        },
                        "marker": {
                          "line": {
                            "color": "#E5ECF6",
                            "width": 0.5
                          },
                          "pattern": {
                            "fillmode": "overlay",
                            "size": 10,
                            "solidity": 0.2
                          }
                        },
                        "type": "bar"
                      }
                    ],
                    "barpolar": [
                      {
                        "marker": {
                          "line": {
                            "color": "#E5ECF6",
                            "width": 0.5
                          },
                          "pattern": {
                            "fillmode": "overlay",
                            "size": 10,
                            "solidity": 0.2
                          }
                        },
                        "type": "barpolar"
                      }
                    ],
                    "carpet": [
                      {
                        "aaxis": {
                          "endlinecolor": "#2a3f5f",
                          "gridcolor": "white",
                          "linecolor": "white",
                          "minorgridcolor": "white",
                          "startlinecolor": "#2a3f5f"
                        },
                        "baxis": {
                          "endlinecolor": "#2a3f5f",
                          "gridcolor": "white",
                          "linecolor": "white",
                          "minorgridcolor": "white",
                          "startlinecolor": "#2a3f5f"
                        },
                        "type": "carpet"
                      }
                    ],
                    "choropleth": [
                      {
                        "colorbar": {
                          "outlinewidth": 0,
                          "ticks": ""
                        },
                        "type": "choropleth"
                      }
                    ],
                    "contour": [
                      {
                        "colorbar": {
                          "outlinewidth": 0,
                          "ticks": ""
                        },
                        "colorscale": [
                          [
                            0,
                            "#0d0887"
                          ],
                          [
                            0.1111111111111111,
                            "#46039f"
                          ],
                          [
                            0.2222222222222222,
                            "#7201a8"
                          ],
                          [
                            0.3333333333333333,
                            "#9c179e"
                          ],
                          [
                            0.4444444444444444,
                            "#bd3786"
                          ],
                          [
                            0.5555555555555556,
                            "#d8576b"
                          ],
                          [
                            0.6666666666666666,
                            "#ed7953"
                          ],
                          [
                            0.7777777777777778,
                            "#fb9f3a"
                          ],
                          [
                            0.8888888888888888,
                            "#fdca26"
                          ],
                          [
                            1,
                            "#f0f921"
                          ]
                        ],
                        "type": "contour"
                      }
                    ],
                    "contourcarpet": [
                      {
                        "colorbar": {
                          "outlinewidth": 0,
                          "ticks": ""
                        },
                        "type": "contourcarpet"
                      }
                    ],
                    "heatmap": [
                      {
                        "colorbar": {
                          "outlinewidth": 0,
                          "ticks": ""
                        },
                        "colorscale": [
                          [
                            0,
                            "#0d0887"
                          ],
                          [
                            0.1111111111111111,
                            "#46039f"
                          ],
                          [
                            0.2222222222222222,
                            "#7201a8"
                          ],
                          [
                            0.3333333333333333,
                            "#9c179e"
                          ],
                          [
                            0.4444444444444444,
                            "#bd3786"
                          ],
                          [
                            0.5555555555555556,
                            "#d8576b"
                          ],
                          [
                            0.6666666666666666,
                            "#ed7953"
                          ],
                          [
                            0.7777777777777778,
                            "#fb9f3a"
                          ],
                          [
                            0.8888888888888888,
                            "#fdca26"
                          ],
                          [
                            1,
                            "#f0f921"
                          ]
                        ],
                        "type": "heatmap"
                      }
                    ],
                    "heatmapgl": [
                      {
                        "colorbar": {
                          "outlinewidth": 0,
                          "ticks": ""
                        },
                        "colorscale": [
                          [
                            0,
                            "#0d0887"
                          ],
                          [
                            0.1111111111111111,
                            "#46039f"
                          ],
                          [
                            0.2222222222222222,
                            "#7201a8"
                          ],
                          [
                            0.3333333333333333,
                            "#9c179e"
                          ],
                          [
                            0.4444444444444444,
                            "#bd3786"
                          ],
                          [
                            0.5555555555555556,
                            "#d8576b"
                          ],
                          [
                            0.6666666666666666,
                            "#ed7953"
                          ],
                          [
                            0.7777777777777778,
                            "#fb9f3a"
                          ],
                          [
                            0.8888888888888888,
                            "#fdca26"
                          ],
                          [
                            1,
                            "#f0f921"
                          ]
                        ],
                        "type": "heatmapgl"
                      }
                    ],
                    "histogram": [
                      {
                        "marker": {
                          "pattern": {
                            "fillmode": "overlay",
                            "size": 10,
                            "solidity": 0.2
                          }
                        },
                        "type": "histogram"
                      }
                    ],
                    "histogram2d": [
                      {
                        "colorbar": {
                          "outlinewidth": 0,
                          "ticks": ""
                        },
                        "colorscale": [
                          [
                            0,
                            "#0d0887"
                          ],
                          [
                            0.1111111111111111,
                            "#46039f"
                          ],
                          [
                            0.2222222222222222,
                            "#7201a8"
                          ],
                          [
                            0.3333333333333333,
                            "#9c179e"
                          ],
                          [
                            0.4444444444444444,
                            "#bd3786"
                          ],
                          [
                            0.5555555555555556,
                            "#d8576b"
                          ],
                          [
                            0.6666666666666666,
                            "#ed7953"
                          ],
                          [
                            0.7777777777777778,
                            "#fb9f3a"
                          ],
                          [
                            0.8888888888888888,
                            "#fdca26"
                          ],
                          [
                            1,
                            "#f0f921"
                          ]
                        ],
                        "type": "histogram2d"
                      }
                    ],
                    "histogram2dcontour": [
                      {
                        "colorbar": {
                          "outlinewidth": 0,
                          "ticks": ""
                        },
                        "colorscale": [
                          [
                            0,
                            "#0d0887"
                          ],
                          [
                            0.1111111111111111,
                            "#46039f"
                          ],
                          [
                            0.2222222222222222,
                            "#7201a8"
                          ],
                          [
                            0.3333333333333333,
                            "#9c179e"
                          ],
                          [
                            0.4444444444444444,
                            "#bd3786"
                          ],
                          [
                            0.5555555555555556,
                            "#d8576b"
                          ],
                          [
                            0.6666666666666666,
                            "#ed7953"
                          ],
                          [
                            0.7777777777777778,
                            "#fb9f3a"
                          ],
                          [
                            0.8888888888888888,
                            "#fdca26"
                          ],
                          [
                            1,
                            "#f0f921"
                          ]
                        ],
                        "type": "histogram2dcontour"
                      }
                    ],
                    "mesh3d": [
                      {
                        "colorbar": {
                          "outlinewidth": 0,
                          "ticks": ""
                        },
                        "type": "mesh3d"
                      }
                    ],
                    "parcoords": [
                      {
                        "line": {
                          "colorbar": {
                            "outlinewidth": 0,
                            "ticks": ""
                          }
                        },
                        "type": "parcoords"
                      }
                    ],
                    "pie": [
                      {
                        "automargin": true,
                        "type": "pie"
                      }
                    ],
                    "scatter": [
                      {
                        "fillpattern": {
                          "fillmode": "overlay",
                          "size": 10,
                          "solidity": 0.2
                        },
                        "type": "scatter"
                      }
                    ],
                    "scatter3d": [
                      {
                        "line": {
                          "colorbar": {
                            "outlinewidth": 0,
                            "ticks": ""
                          }
                        },
                        "marker": {
                          "colorbar": {
                            "outlinewidth": 0,
                            "ticks": ""
                          }
                        },
                        "type": "scatter3d"
                      }
                    ],
                    "scattercarpet": [
                      {
                        "marker": {
                          "colorbar": {
                            "outlinewidth": 0,
                            "ticks": ""
                          }
                        },
                        "type": "scattercarpet"
                      }
                    ],
                    "scattergeo": [
                      {
                        "marker": {
                          "colorbar": {
                            "outlinewidth": 0,
                            "ticks": ""
                          }
                        },
                        "type": "scattergeo"
                      }
                    ],
                    "scattergl": [
                      {
                        "marker": {
                          "colorbar": {
                            "outlinewidth": 0,
                            "ticks": ""
                          }
                        },
                        "type": "scattergl"
                      }
                    ],
                    "scattermapbox": [
                      {
                        "marker": {
                          "colorbar": {
                            "outlinewidth": 0,
                            "ticks": ""
                          }
                        },
                        "type": "scattermapbox"
                      }
                    ],
                    "scatterpolar": [
                      {
                        "marker": {
                          "colorbar": {
                            "outlinewidth": 0,
                            "ticks": ""
                          }
                        },
                        "type": "scatterpolar"
                      }
                    ],
                    "scatterpolargl": [
                      {
                        "marker": {
                          "colorbar": {
                            "outlinewidth": 0,
                            "ticks": ""
                          }
                        },
                        "type": "scatterpolargl"
                      }
                    ],
                    "scatterternary": [
                      {
                        "marker": {
                          "colorbar": {
                            "outlinewidth": 0,
                            "ticks": ""
                          }
                        },
                        "type": "scatterternary"
                      }
                    ],
                    "surface": [
                      {
                        "colorbar": {
                          "outlinewidth": 0,
                          "ticks": ""
                        },
                        "colorscale": [
                          [
                            0,
                            "#0d0887"
                          ],
                          [
                            0.1111111111111111,
                            "#46039f"
                          ],
                          [
                            0.2222222222222222,
                            "#7201a8"
                          ],
                          [
                            0.3333333333333333,
                            "#9c179e"
                          ],
                          [
                            0.4444444444444444,
                            "#bd3786"
                          ],
                          [
                            0.5555555555555556,
                            "#d8576b"
                          ],
                          [
                            0.6666666666666666,
                            "#ed7953"
                          ],
                          [
                            0.7777777777777778,
                            "#fb9f3a"
                          ],
                          [
                            0.8888888888888888,
                            "#fdca26"
                          ],
                          [
                            1,
                            "#f0f921"
                          ]
                        ],
                        "type": "surface"
                      }
                    ],
                    "table": [
                      {
                        "cells": {
                          "fill": {
                            "color": "#EBF0F8"
                          },
                          "line": {
                            "color": "white"
                          }
                        },
                        "header": {
                          "fill": {
                            "color": "#C8D4E3"
                          },
                          "line": {
                            "color": "white"
                          }
                        },
                        "type": "table"
                      }
                    ]
                  },
                  "layout": {
                    "annotationdefaults": {
                      "arrowcolor": "#2a3f5f",
                      "arrowhead": 0,
                      "arrowwidth": 1
                    },
                    "autotypenumbers": "strict",
                    "coloraxis": {
                      "colorbar": {
                        "outlinewidth": 0,
                        "ticks": ""
                      }
                    },
                    "colorscale": {
                      "diverging": [
                        [
                          0,
                          "#8e0152"
                        ],
                        [
                          0.1,
                          "#c51b7d"
                        ],
                        [
                          0.2,
                          "#de77ae"
                        ],
                        [
                          0.3,
                          "#f1b6da"
                        ],
                        [
                          0.4,
                          "#fde0ef"
                        ],
                        [
                          0.5,
                          "#f7f7f7"
                        ],
                        [
                          0.6,
                          "#e6f5d0"
                        ],
                        [
                          0.7,
                          "#b8e186"
                        ],
                        [
                          0.8,
                          "#7fbc41"
                        ],
                        [
                          0.9,
                          "#4d9221"
                        ],
                        [
                          1,
                          "#276419"
                        ]
                      ],
                      "sequential": [
                        [
                          0,
                          "#0d0887"
                        ],
                        [
                          0.1111111111111111,
                          "#46039f"
                        ],
                        [
                          0.2222222222222222,
                          "#7201a8"
                        ],
                        [
                          0.3333333333333333,
                          "#9c179e"
                        ],
                        [
                          0.4444444444444444,
                          "#bd3786"
                        ],
                        [
                          0.5555555555555556,
                          "#d8576b"
                        ],
                        [
                          0.6666666666666666,
                          "#ed7953"
                        ],
                        [
                          0.7777777777777778,
                          "#fb9f3a"
                        ],
                        [
                          0.8888888888888888,
                          "#fdca26"
                        ],
                        [
                          1,
                          "#f0f921"
                        ]
                      ],
                      "sequentialminus": [
                        [
                          0,
                          "#0d0887"
                        ],
                        [
                          0.1111111111111111,
                          "#46039f"
                        ],
                        [
                          0.2222222222222222,
                          "#7201a8"
                        ],
                        [
                          0.3333333333333333,
                          "#9c179e"
                        ],
                        [
                          0.4444444444444444,
                          "#bd3786"
                        ],
                        [
                          0.5555555555555556,
                          "#d8576b"
                        ],
                        [
                          0.6666666666666666,
                          "#ed7953"
                        ],
                        [
                          0.7777777777777778,
                          "#fb9f3a"
                        ],
                        [
                          0.8888888888888888,
                          "#fdca26"
                        ],
                        [
                          1,
                          "#f0f921"
                        ]
                      ]
                    },
                    "colorway": [
                      "#636efa",
                      "#EF553B",
                      "#00cc96",
                      "#ab63fa",
                      "#FFA15A",
                      "#19d3f3",
                      "#FF6692",
                      "#B6E880",
                      "#FF97FF",
                      "#FECB52"
                    ],
                    "font": {
                      "color": "#2a3f5f"
                    },
                    "geo": {
                      "bgcolor": "white",
                      "lakecolor": "white",
                      "landcolor": "#E5ECF6",
                      "showlakes": true,
                      "showland": true,
                      "subunitcolor": "white"
                    },
                    "hoverlabel": {
                      "align": "left"
                    },
                    "hovermode": "closest",
                    "mapbox": {
                      "style": "light"
                    },
                    "paper_bgcolor": "white",
                    "plot_bgcolor": "#E5ECF6",
                    "polar": {
                      "angularaxis": {
                        "gridcolor": "white",
                        "linecolor": "white",
                        "ticks": ""
                      },
                      "bgcolor": "#E5ECF6",
                      "radialaxis": {
                        "gridcolor": "white",
                        "linecolor": "white",
                        "ticks": ""
                      }
                    },
                    "scene": {
                      "xaxis": {
                        "backgroundcolor": "#E5ECF6",
                        "gridcolor": "white",
                        "gridwidth": 2,
                        "linecolor": "white",
                        "showbackground": true,
                        "ticks": "",
                        "zerolinecolor": "white"
                      },
                      "yaxis": {
                        "backgroundcolor": "#E5ECF6",
                        "gridcolor": "white",
                        "gridwidth": 2,
                        "linecolor": "white",
                        "showbackground": true,
                        "ticks": "",
                        "zerolinecolor": "white"
                      },
                      "zaxis": {
                        "backgroundcolor": "#E5ECF6",
                        "gridcolor": "white",
                        "gridwidth": 2,
                        "linecolor": "white",
                        "showbackground": true,
                        "ticks": "",
                        "zerolinecolor": "white"
                      }
                    },
                    "shapedefaults": {
                      "line": {
                        "color": "#2a3f5f"
                      }
                    },
                    "ternary": {
                      "aaxis": {
                        "gridcolor": "white",
                        "linecolor": "white",
                        "ticks": ""
                      },
                      "baxis": {
                        "gridcolor": "white",
                        "linecolor": "white",
                        "ticks": ""
                      },
                      "bgcolor": "#E5ECF6",
                      "caxis": {
                        "gridcolor": "white",
                        "linecolor": "white",
                        "ticks": ""
                      }
                    },
                    "title": {
                      "x": 0.05
                    },
                    "xaxis": {
                      "automargin": true,
                      "gridcolor": "white",
                      "linecolor": "white",
                      "ticks": "",
                      "title": {
                        "standoff": 15
                      },
                      "zerolinecolor": "white",
                      "zerolinewidth": 2
                    },
                    "yaxis": {
                      "automargin": true,
                      "gridcolor": "white",
                      "linecolor": "white",
                      "ticks": "",
                      "title": {
                        "standoff": 15
                      },
                      "zerolinecolor": "white",
                      "zerolinewidth": 2
                    }
                  }
                },
                "title": {
                  "text": "Direct effect on SBJ2 Attenders' values"
                },
                "width": 700,
                "xaxis": {
                  "anchor": "y",
                  "constrain": "domain",
                  "domain": [
                    0,
                    1
                  ],
                  "linecolor": "black",
                  "linewidth": 1,
                  "mirror": true,
                  "scaleanchor": "y",
                  "showline": true,
                  "title": {
                    "text": "Head"
                  }
                },
                "yaxis": {
                  "anchor": "x",
                  "autorange": "reversed",
                  "constrain": "domain",
                  "domain": [
                    0,
                    1
                  ],
                  "linecolor": "black",
                  "linewidth": 1,
                  "mirror": true,
                  "showline": true,
                  "title": {
                    "text": "Layer"
                  }
                }
              }
            }
          },
          "metadata": {},
          "output_type": "display_data"
        }
      ],
      "source": [
        "imshow_p(\n",
        "        results[\"z\"][:10] * 100,\n",
        "        title=f\"Direct effect on SBJ2 Attenders' values\",\n",
        "        labels={\"x\": \"Head\", \"y\": \"Layer\", \"color\": \"Logit diff variation\"},\n",
        "        coloraxis=dict(colorbar_ticksuffix = \"%\"),\n",
        "        border=True,\n",
        "        width=700,\n",
        "        margin={\"r\": 100, \"l\": 100}\n",
        "    )"
      ]
    },
    {
      "attachments": {},
      "cell_type": "markdown",
      "metadata": {},
      "source": [
        "#### ADJ-Attenders"
      ]
    },
    {
      "cell_type": "code",
      "execution_count": null,
      "metadata": {},
      "outputs": [],
      "source": [
        "SBJ2_ATTENDERS = [(8, 5), (9, 2), (9, 10)]\n",
        "\n",
        "results = path_patch(\n",
        "    model,\n",
        "    orig_input=clean_tokens,\n",
        "    new_input=corrupted_tokens,\n",
        "    sender_nodes=IterNode(\"z\", seq_pos=17),\n",
        "    receiver_nodes=[Node(\"v\", layer, head=head) for layer, head in SBJ2_ATTENDERS],\n",
        "    patching_metric=logit_diff_noising,\n",
        "    verbose=True,\n",
        ")"
      ]
    },
    {
      "cell_type": "code",
      "execution_count": null,
      "metadata": {},
      "outputs": [],
      "source": [
        "imshow_p(\n",
        "        results[\"z\"][:10] * 100,\n",
        "        title=f\"Direct effect on SBJ2 Attenders' values\",\n",
        "        labels={\"x\": \"Head\", \"y\": \"Layer\", \"color\": \"Logit diff variation\"},\n",
        "        coloraxis=dict(colorbar_ticksuffix = \"%\"),\n",
        "        border=True,\n",
        "        width=700,\n",
        "        margin={\"r\": 100, \"l\": 100}\n",
        "    )"
      ]
    },
    {
      "attachments": {},
      "cell_type": "markdown",
      "metadata": {},
      "source": [
        "#### Various Attention Patterns"
      ]
    },
    {
      "cell_type": "code",
      "execution_count": null,
      "metadata": {},
      "outputs": [
        {
          "data": {
            "text/html": [
              "<div id=\"circuits-vis-9a344517-e692\" style=\"margin: 15px 0;\"/>\n",
              "    <script crossorigin type=\"module\">\n",
              "    import { render, AttentionHeads } from \"https://unpkg.com/circuitsvis@1.39.1/dist/cdn/esm.js\";\n",
              "    render(\n",
              "      \"circuits-vis-9a344517-e692\",\n",
              "      AttentionHeads,\n",
              "      {\"attention\": [[[1.0, 0.0, 0.0, 0.0, 0.0, 0.0, 0.0, 0.0, 0.0, 0.0, 0.0, 0.0, 0.0, 0.0, 0.0, 0.0, 0.0, 0.0, 0.0], [0.9238148331642151, 0.07618515938520432, 0.0, 0.0, 0.0, 0.0, 0.0, 0.0, 0.0, 0.0, 0.0, 0.0, 0.0, 0.0, 0.0, 0.0, 0.0, 0.0, 0.0], [0.3385191261768341, 0.09169633686542511, 0.5697842836380005, 0.0, 0.0, 0.0, 0.0, 0.0, 0.0, 0.0, 0.0, 0.0, 0.0, 0.0, 0.0, 0.0, 0.0, 0.0, 0.0], [0.45730385184288025, 0.08605091273784637, 0.2232198864221573, 0.23342537879943848, 0.0, 0.0, 0.0, 0.0, 0.0, 0.0, 0.0, 0.0, 0.0, 0.0, 0.0, 0.0, 0.0, 0.0, 0.0], [0.15025675296783447, 0.025463750585913658, 0.07340176403522491, 0.045449260622262955, 0.7054283022880554, 0.0, 0.0, 0.0, 0.0, 0.0, 0.0, 0.0, 0.0, 0.0, 0.0, 0.0, 0.0, 0.0, 0.0], [0.266569584608078, 0.054487764835357666, 0.16568920016288757, 0.0989152118563652, 0.14743207395076752, 0.2669062614440918, 0.0, 0.0, 0.0, 0.0, 0.0, 0.0, 0.0, 0.0, 0.0, 0.0, 0.0, 0.0, 0.0], [0.04309064894914627, 0.003298112191259861, 0.02258692868053913, 0.017178863286972046, 0.021649440750479698, 0.02092585526406765, 0.8712701201438904, 0.0, 0.0, 0.0, 0.0, 0.0, 0.0, 0.0, 0.0, 0.0, 0.0, 0.0, 0.0], [0.13267679512500763, 0.07531894743442535, 0.02781781181693077, 0.026220785453915596, 0.041538264602422714, 0.28491541743278503, 0.14609991014003754, 0.26541203260421753, 0.0, 0.0, 0.0, 0.0, 0.0, 0.0, 0.0, 0.0, 0.0, 0.0, 0.0], [0.1515582650899887, 0.06337118148803711, 0.03686344623565674, 0.026700496673583984, 0.10544440150260925, 0.1525467485189438, 0.1571909785270691, 0.0941542237997055, 0.21217025816440582, 0.0, 0.0, 0.0, 0.0, 0.0, 0.0, 0.0, 0.0, 0.0, 0.0], [0.012125169858336449, 0.0014033090556040406, 0.005755139980465174, 0.002497940557077527, 0.005846100393682718, 0.008255244232714176, 0.03557854890823364, 0.005223208572715521, 0.0055839610286056995, 0.9177314043045044, 0.0, 0.0, 0.0, 0.0, 0.0, 0.0, 0.0, 0.0, 0.0], [0.09128135442733765, 0.014552566222846508, 0.04828270152211189, 0.01711765117943287, 0.02213953249156475, 0.08975537866353989, 0.061286669224500656, 0.05713056027889252, 0.06157868355512619, 0.21070463955402374, 0.3261702358722687, 0.0, 0.0, 0.0, 0.0, 0.0, 0.0, 0.0, 0.0], [0.0301227867603302, 0.013330768793821335, 0.016748584806919098, 0.018274297937750816, 0.024762224406003952, 0.040588557720184326, 0.04820684343576431, 0.06258327513933182, 0.056610748171806335, 0.14969708025455475, 0.198176309466362, 0.3408985137939453, 0.0, 0.0, 0.0, 0.0, 0.0, 0.0, 0.0], [0.009262426756322384, 0.006582265254110098, 0.005974725354462862, 0.003777756355702877, 0.011298703029751778, 0.004730065353214741, 0.009292702190577984, 0.007100770249962807, 0.014676091261208057, 0.009662911295890808, 0.02975275367498398, 0.04595998674631119, 0.8419288396835327, 0.0, 0.0, 0.0, 0.0, 0.0, 0.0], [0.12042476236820221, 0.021740267053246498, 0.013623056001961231, 0.023117057979106903, 0.02536066249012947, 0.029509786516427994, 0.03054908663034439, 0.019572149962186813, 0.06718865782022476, 0.0790175348520279, 0.09968984127044678, 0.058675527572631836, 0.10035264492034912, 0.31117892265319824, 0.0, 0.0, 0.0, 0.0, 0.0], [0.09006106108427048, 0.003161273431032896, 0.004079732112586498, 0.003332272171974182, 0.0038804267533123493, 0.002593595301732421, 0.010342981666326523, 0.0031130113638937473, 0.0037867252249270678, 0.010554822161793709, 0.011786652728915215, 0.01308361068367958, 0.017012683674693108, 0.03609657660126686, 0.7871145606040955, 0.0, 0.0, 0.0, 0.0], [0.027981597930192947, 0.002946864813566208, 0.006956299766898155, 0.01057162880897522, 0.002957375254482031, 0.004423007369041443, 0.010062098503112793, 0.0035733189433813095, 0.004152321722358465, 0.017651621252298355, 0.01776953600347042, 0.007437158841639757, 0.014000451192259789, 0.03550410643219948, 0.7671411037445068, 0.06687156111001968, 0.0, 0.0, 0.0], [0.03668823093175888, 0.005247428081929684, 0.005551488138735294, 0.01011661533266306, 0.011440802365541458, 0.009804219007492065, 0.005887623876333237, 0.005746395327150822, 0.009621144272387028, 0.012929722666740417, 0.023412376642227173, 0.011461123824119568, 0.0339655764400959, 0.05952804535627365, 0.2153741717338562, 0.04905468225479126, 0.4941703677177429, 0.0, 0.0], [0.03529816120862961, 0.0026324677746742964, 0.0065730842761695385, 0.002994029549881816, 0.03762264549732208, 0.0034749966580420732, 0.01310731377452612, 0.0019487119279801846, 0.003097170265391469, 0.009291997179389, 0.003969166893512011, 0.0055246842093765736, 0.0023332780692726374, 0.006408873479813337, 0.06763909757137299, 0.017999906092882156, 0.0562313050031662, 0.7238531112670898, 0.0], [0.02914801985025406, 0.0027919774875044823, 0.0069861337542533875, 0.0037598125636577606, 0.0035560696851462126, 0.007979735732078552, 0.008367389440536499, 0.004416423849761486, 0.004624511115252972, 0.015594684518873692, 0.01058921404182911, 0.008851803839206696, 0.007483882363885641, 0.02757912501692772, 0.12503793835639954, 0.03999585658311844, 0.20947033166885376, 0.10275299102067947, 0.3810140788555145]], [[1.0, 0.0, 0.0, 0.0, 0.0, 0.0, 0.0, 0.0, 0.0, 0.0, 0.0, 0.0, 0.0, 0.0, 0.0, 0.0, 0.0, 0.0, 0.0], [0.9609460234642029, 0.03905404359102249, 0.0, 0.0, 0.0, 0.0, 0.0, 0.0, 0.0, 0.0, 0.0, 0.0, 0.0, 0.0, 0.0, 0.0, 0.0, 0.0, 0.0], [0.6534585952758789, 0.1797768920660019, 0.16676440834999084, 0.0, 0.0, 0.0, 0.0, 0.0, 0.0, 0.0, 0.0, 0.0, 0.0, 0.0, 0.0, 0.0, 0.0, 0.0, 0.0], [0.3978555500507355, 0.03076080232858658, 0.43103834986686707, 0.14034521579742432, 0.0, 0.0, 0.0, 0.0, 0.0, 0.0, 0.0, 0.0, 0.0, 0.0, 0.0, 0.0, 0.0, 0.0, 0.0], [0.35224634408950806, 0.020280126482248306, 0.2353629469871521, 0.28542032837867737, 0.10669025033712387, 0.0, 0.0, 0.0, 0.0, 0.0, 0.0, 0.0, 0.0, 0.0, 0.0, 0.0, 0.0, 0.0, 0.0], [0.33547472953796387, 0.014312222599983215, 0.38866686820983887, 0.15249371528625488, 0.026801377534866333, 0.08225107192993164, 0.0, 0.0, 0.0, 0.0, 0.0, 0.0, 0.0, 0.0, 0.0, 0.0, 0.0, 0.0, 0.0], [0.25363847613334656, 0.014790826477110386, 0.17610383033752441, 0.06427983939647675, 0.02356984093785286, 0.14011038839817047, 0.32750678062438965, 0.0, 0.0, 0.0, 0.0, 0.0, 0.0, 0.0, 0.0, 0.0, 0.0, 0.0, 0.0], [0.1402466595172882, 0.0033866786397993565, 0.03615596517920494, 0.02414149045944214, 0.006644105538725853, 0.04842662066221237, 0.6445800065994263, 0.09641849249601364, 0.0, 0.0, 0.0, 0.0, 0.0, 0.0, 0.0, 0.0, 0.0, 0.0, 0.0], [0.32987552881240845, 0.006241579074412584, 0.10306165367364883, 0.06180313974618912, 0.030525479465723038, 0.045560017228126526, 0.19500911235809326, 0.12406229972839355, 0.10386118292808533, 0.0, 0.0, 0.0, 0.0, 0.0, 0.0, 0.0, 0.0, 0.0, 0.0], [0.46003931760787964, 0.004114747978746891, 0.01348195131868124, 0.010921028442680836, 0.01277866680175066, 0.006838319357484579, 0.02007622830569744, 0.08345939218997955, 0.040481600910425186, 0.34780874848365784, 0.0, 0.0, 0.0, 0.0, 0.0, 0.0, 0.0, 0.0, 0.0], [0.1493215262889862, 0.00025612153694964945, 0.001570877735503018, 0.0007551676826551557, 0.0012171226553618908, 0.002332045929506421, 0.02591130882501602, 0.024064652621746063, 0.008306209929287434, 0.7649043202400208, 0.0213606096804142, 0.0, 0.0, 0.0, 0.0, 0.0, 0.0, 0.0, 0.0], [0.10368173569440842, 0.0013730699429288507, 0.01892055943608284, 0.022158298641443253, 0.004198533017188311, 0.008308078162372112, 0.08888088166713715, 0.009127779863774776, 0.011871627531945705, 0.6020298004150391, 0.052906058728694916, 0.07654362171888351, 0.0, 0.0, 0.0, 0.0, 0.0, 0.0, 0.0], [0.5934970378875732, 0.0024903370067477226, 0.01037065964192152, 0.008568488992750645, 0.007741090375930071, 0.006054584868252277, 0.010141930542886257, 0.006028673145920038, 0.007330452091991901, 0.058982621878385544, 0.009109222330152988, 0.15971089899539948, 0.11997396498918533, 0.0, 0.0, 0.0, 0.0, 0.0, 0.0], [0.2426125407218933, 0.0040086740627884865, 0.010736457072198391, 0.10516702383756638, 0.01612936705350876, 0.011081547476351261, 0.018178671598434448, 0.010426554828882217, 0.008104094304144382, 0.061351411044597626, 0.03524371609091759, 0.0837099626660347, 0.09180808812379837, 0.30144187808036804, 0.0, 0.0, 0.0, 0.0, 0.0], [0.4096333086490631, 0.0014501371188089252, 0.00777404522523284, 0.006368617061525583, 0.0028683491982519627, 0.0026295797433704138, 0.016056053340435028, 0.0038966217543929815, 0.0010595327476039529, 0.025792302563786507, 0.0019785945769399405, 0.06646254658699036, 0.05940063297748566, 0.2326434701681137, 0.16198615729808807, 0.0, 0.0, 0.0, 0.0], [0.04841942340135574, 0.00015291596355382353, 0.0018852732609957457, 0.0028349028434604406, 0.001351860468275845, 0.0008672445546835661, 0.004887592513114214, 0.0009256837074644864, 0.00021161347103770822, 0.010412409901618958, 0.0008403934189118445, 0.023991622030735016, 0.016490092501044273, 0.07846269756555557, 0.759928286075592, 0.04833796247839928, 0.0, 0.0, 0.0], [0.25902286171913147, 0.00010160315287066624, 0.001436420250684023, 0.00017474961350671947, 0.0022230520844459534, 0.000768042984418571, 0.0066360365599393845, 0.0004748206411022693, 0.00025242267292924225, 0.01443540770560503, 0.0010665742447599769, 0.014156452380120754, 0.009214607067406178, 0.05338749662041664, 0.414305180311203, 0.07200316339731216, 0.15034109354019165, 0.0, 0.0], [0.2578553557395935, 0.00014384124369826168, 0.0011360540520399809, 0.0008397377096116543, 0.0005058158421888947, 0.00130567979067564, 0.006365825887769461, 0.0023483368568122387, 0.0006690608570352197, 0.023716066032648087, 0.0006402081344276667, 0.016440104693174362, 0.01742417924106121, 0.027982307597994804, 0.18441301584243774, 0.039690904319286346, 0.3623223900794983, 0.05620114132761955, 0.0], [0.32194381952285767, 5.498943573911674e-05, 0.0006409389316104352, 8.39488857309334e-05, 0.00014562693831976503, 9.847357432590798e-05, 0.00169446284417063, 0.0005272515118122101, 0.00018288131104782224, 0.008058533072471619, 0.00010459624172654003, 0.017933983355760574, 0.014913167804479599, 0.04020716995000839, 0.18137873709201813, 0.1344703584909439, 0.1619367152452469, 0.04390871897339821, 0.0717155858874321]], [[1.0, 0.0, 0.0, 0.0, 0.0, 0.0, 0.0, 0.0, 0.0, 0.0, 0.0, 0.0, 0.0, 0.0, 0.0, 0.0, 0.0, 0.0, 0.0], [0.9923269152641296, 0.007672940380871296, 0.0, 0.0, 0.0, 0.0, 0.0, 0.0, 0.0, 0.0, 0.0, 0.0, 0.0, 0.0, 0.0, 0.0, 0.0, 0.0, 0.0], [0.8758706450462341, 0.044699911028146744, 0.07942944765090942, 0.0, 0.0, 0.0, 0.0, 0.0, 0.0, 0.0, 0.0, 0.0, 0.0, 0.0, 0.0, 0.0, 0.0, 0.0, 0.0], [0.8504657745361328, 0.012697026133537292, 0.13295891880989075, 0.0038782444316893816, 0.0, 0.0, 0.0, 0.0, 0.0, 0.0, 0.0, 0.0, 0.0, 0.0, 0.0, 0.0, 0.0, 0.0, 0.0], [0.9216082692146301, 0.012007206678390503, 0.026879843324422836, 0.006622962187975645, 0.03288162499666214, 0.0, 0.0, 0.0, 0.0, 0.0, 0.0, 0.0, 0.0, 0.0, 0.0, 0.0, 0.0, 0.0, 0.0], [0.8276768326759338, 0.004315141588449478, 0.11654459685087204, 0.007122583221644163, 0.016741853207349777, 0.027598828077316284, 0.0, 0.0, 0.0, 0.0, 0.0, 0.0, 0.0, 0.0, 0.0, 0.0, 0.0, 0.0, 0.0], [0.8749420046806335, 0.002411535708233714, 0.019552964717149734, 0.003449223004281521, 0.013695884495973587, 0.01567632332444191, 0.07027210295200348, 0.0, 0.0, 0.0, 0.0, 0.0, 0.0, 0.0, 0.0, 0.0, 0.0, 0.0, 0.0], [0.7152506709098816, 0.003571044187992811, 0.026644280180335045, 0.030889902263879776, 0.0647483840584755, 0.01895054057240486, 0.12443665415048599, 0.015508482232689857, 0.0, 0.0, 0.0, 0.0, 0.0, 0.0, 0.0, 0.0, 0.0, 0.0, 0.0], [0.7718533277511597, 0.003630317747592926, 0.10153099149465561, 0.02557511255145073, 0.01485525257885456, 0.005307900719344616, 0.05110020935535431, 0.020849056541919708, 0.00529772974550724, 0.0, 0.0, 0.0, 0.0, 0.0, 0.0, 0.0, 0.0, 0.0, 0.0], [0.9169157147407532, 0.0018766599241644144, 0.005176719278097153, 0.0007411555852741003, 0.004041783045977354, 0.0009797440143302083, 0.008920686319470406, 0.00389533000998199, 0.0036734945606440306, 0.05377870425581932, 0.0, 0.0, 0.0, 0.0, 0.0, 0.0, 0.0, 0.0, 0.0], [0.4516275227069855, 0.0009778471430763602, 0.0024157746229320765, 0.00027563321054913104, 0.0021091175731271505, 0.001294194720685482, 0.014135776087641716, 0.006676938384771347, 0.006228451617062092, 0.5026830434799194, 0.011575696989893913, 0.0, 0.0, 0.0, 0.0, 0.0, 0.0, 0.0, 0.0], [0.7894969582557678, 0.012562896125018597, 0.012067586183547974, 0.013902227394282818, 0.019205424934625626, 0.0028826326597481966, 0.029174353927373886, 0.009766037575900555, 0.004364475142210722, 0.060650017112493515, 0.02832711674273014, 0.017600268125534058, 0.0, 0.0, 0.0, 0.0, 0.0, 0.0, 0.0], [0.8804360628128052, 0.0014070007018744946, 0.0038676289841532707, 0.006052558310329914, 0.01433503907173872, 0.0029442524537444115, 0.016409365460276604, 0.006245442666113377, 0.0016208484303206205, 0.023786958307027817, 0.02672196552157402, 0.011182360351085663, 0.004990546498447657, 0.0, 0.0, 0.0, 0.0, 0.0, 0.0], [0.9142031073570251, 0.012883882038295269, 0.002513627288863063, 0.0022376454435288906, 0.011871395632624626, 0.0003184130764566362, 0.006026092451065779, 0.004816005006432533, 0.0016700036358088255, 0.005900053773075342, 0.0027550095692276955, 0.0050744120962917805, 0.001666826312430203, 0.02806343324482441, 0.0, 0.0, 0.0, 0.0, 0.0], [0.8117930293083191, 0.002150463405996561, 0.0016140477964654565, 0.0014776944881305099, 0.0033022137358784676, 0.00019217017688788474, 0.003056685905903578, 0.0003398568369448185, 0.00035514592309482396, 0.0035751962568610907, 0.0064547257497906685, 0.0019430031534284353, 0.001166489440947771, 0.0022500341292470694, 0.16032926738262177, 0.0, 0.0, 0.0, 0.0], [0.5301522016525269, 0.002757543930783868, 0.0023795156739652157, 0.0012425986351445317, 0.0019034099532291293, 0.0010657977545633912, 0.0020069663878530264, 0.0008441029931418598, 0.0007736702100373805, 0.003913326188921928, 0.0021689683198928833, 0.015840481966733932, 0.0030666785314679146, 0.009156905114650726, 0.36641064286231995, 0.056317202746868134, 0.0, 0.0, 0.0], [0.7769618034362793, 0.0006685228436253965, 0.0008953413926064968, 0.000330084003508091, 0.003305719466879964, 0.0007790910312905908, 0.0028214275371283293, 0.00040549872210249305, 0.00018707355775404721, 0.0033526145853102207, 0.0021851700730621815, 0.003303586272522807, 0.0011440286180004478, 0.0019040365004912019, 0.14585518836975098, 0.03509281203150749, 0.02080790512263775, 0.0, 0.0], [0.7939913868904114, 0.0014935591025277972, 0.0008668859372846782, 0.00034235737985000014, 0.0017260754248127341, 0.0006163169164210558, 0.0038167356979101896, 0.0004984178813174367, 0.0003363659488968551, 0.009314035065472126, 0.0007891678833402693, 0.0010822294279932976, 0.0008836938068270683, 0.002135778544470668, 0.12559962272644043, 0.017369935289025307, 0.027865907177329063, 0.01127145066857338, 0.0], [0.8729068040847778, 0.00021763132826890796, 0.001117587904445827, 9.720922389533371e-05, 0.0005451520555652678, 0.0003094049752689898, 0.004067235626280308, 0.0008290205150842667, 0.00014715289580635726, 0.008341318927705288, 0.0009584531071595848, 0.004585315939038992, 0.0014304115902632475, 0.0004829060926567763, 0.05431949347257614, 0.012749850749969482, 0.013369929045438766, 0.011064177379012108, 0.012460927478969097]], [[1.0, 0.0, 0.0, 0.0, 0.0, 0.0, 0.0, 0.0, 0.0, 0.0, 0.0, 0.0, 0.0, 0.0, 0.0, 0.0, 0.0, 0.0, 0.0], [0.9287919402122498, 0.07120805978775024, 0.0, 0.0, 0.0, 0.0, 0.0, 0.0, 0.0, 0.0, 0.0, 0.0, 0.0, 0.0, 0.0, 0.0, 0.0, 0.0, 0.0], [0.7899475693702698, 0.10029219090938568, 0.10976008325815201, 0.0, 0.0, 0.0, 0.0, 0.0, 0.0, 0.0, 0.0, 0.0, 0.0, 0.0, 0.0, 0.0, 0.0, 0.0, 0.0], [0.7418537735939026, 0.06614410877227783, 0.04533182829618454, 0.14667008817195892, 0.0, 0.0, 0.0, 0.0, 0.0, 0.0, 0.0, 0.0, 0.0, 0.0, 0.0, 0.0, 0.0, 0.0, 0.0], [0.8582247495651245, 0.012160418555140495, 0.008871546946465969, 0.01817123219370842, 0.10257214307785034, 0.0, 0.0, 0.0, 0.0, 0.0, 0.0, 0.0, 0.0, 0.0, 0.0, 0.0, 0.0, 0.0, 0.0], [0.9225691556930542, 0.03347327560186386, 0.016144800931215286, 0.015707893297076225, 0.0051919142715632915, 0.0069130053743720055, 0.0, 0.0, 0.0, 0.0, 0.0, 0.0, 0.0, 0.0, 0.0, 0.0, 0.0, 0.0, 0.0], [0.7072920203208923, 0.04038604348897934, 0.039662785828113556, 0.03564372658729553, 0.04286191985011101, 0.04432410001754761, 0.08982938528060913, 0.0, 0.0, 0.0, 0.0, 0.0, 0.0, 0.0, 0.0, 0.0, 0.0, 0.0, 0.0], [0.578577995300293, 0.04529031738638878, 0.06186608970165253, 0.08858933299779892, 0.027468867599964142, 0.024184707552194595, 0.08397918194532394, 0.09004350751638412, 0.0, 0.0, 0.0, 0.0, 0.0, 0.0, 0.0, 0.0, 0.0, 0.0, 0.0], [0.5080776214599609, 0.03284861892461777, 0.05544718727469444, 0.0925353392958641, 0.0436636283993721, 0.03199722245335579, 0.08349599689245224, 0.12452191114425659, 0.027412451803684235, 0.0, 0.0, 0.0, 0.0, 0.0, 0.0, 0.0, 0.0, 0.0, 0.0], [0.36945030093193054, 0.028475575149059296, 0.02687227912247181, 0.033131346106529236, 0.07135889679193497, 0.055544447153806686, 0.13840939104557037, 0.21432985365390778, 0.02585699036717415, 0.03657093271613121, 0.0, 0.0, 0.0, 0.0, 0.0, 0.0, 0.0, 0.0, 0.0], [0.6903764009475708, 0.011980628594756126, 0.016302717849612236, 0.00953640416264534, 0.02193719893693924, 0.023439407348632812, 0.042002368718385696, 0.09941192716360092, 0.017575176432728767, 0.05203981697559357, 0.015397966839373112, 0.0, 0.0, 0.0, 0.0, 0.0, 0.0, 0.0, 0.0], [0.37043455243110657, 0.050512198358774185, 0.02802184596657753, 0.06013360992074013, 0.13079127669334412, 0.04373212531208992, 0.0933467298746109, 0.06996273994445801, 0.02265913039445877, 0.03434867411851883, 0.025472691282629967, 0.07058440893888474, 0.0, 0.0, 0.0, 0.0, 0.0, 0.0, 0.0], [0.6574928164482117, 0.061556048691272736, 0.027979735285043716, 0.06396642327308655, 0.016326969489455223, 0.0075814672745764256, 0.012590219266712666, 0.022610243409872055, 0.021135596558451653, 0.004644765052944422, 0.0027701908256858587, 0.01504239160567522, 0.08630309998989105, 0.0, 0.0, 0.0, 0.0, 0.0, 0.0], [0.45570108294487, 0.011931506916880608, 0.002117086900398135, 0.024454059079289436, 0.17229348421096802, 0.017351575195789337, 0.020885366946458817, 0.03418658301234245, 0.002357311313971877, 0.0027274424210190773, 0.012211543507874012, 0.022574862465262413, 0.04967860132455826, 0.17152945697307587, 0.0, 0.0, 0.0, 0.0, 0.0], [0.7962124347686768, 0.009677013382315636, 0.002846135525032878, 0.009243509732186794, 0.04041869193315506, 0.01794803887605667, 0.018643347546458244, 0.01927475444972515, 0.005378148052841425, 0.0022056850139051676, 0.014476773329079151, 0.034027982503175735, 0.004948276560753584, 0.012980806641280651, 0.01171839889138937, 0.0, 0.0, 0.0, 0.0], [0.6373515725135803, 0.011205649934709072, 0.0035862340591847897, 0.013387007638812065, 0.06577550619840622, 0.026679733768105507, 0.03223935142159462, 0.029138809069991112, 0.00785033218562603, 0.005104564130306244, 0.019753433763980865, 0.04124245420098305, 0.00901070423424244, 0.04259727895259857, 0.028632763773202896, 0.026444554328918457, 0.0, 0.0, 0.0], [0.6344415545463562, 0.028187530115246773, 0.006382104009389877, 0.00906261708587408, 0.052244722843170166, 0.017762232571840286, 0.026257984340190887, 0.023080749437212944, 0.008673306554555893, 0.005184195004403591, 0.016797486692667007, 0.030466856434941292, 0.0031779606360942125, 0.01956085115671158, 0.042105816304683685, 0.06816408783197403, 0.008449957706034184, 0.0, 0.0], [0.5484387874603271, 0.008382325991988182, 0.0023764576762914658, 0.003415948012843728, 0.06250470131635666, 0.01966743730008602, 0.11883518099784851, 0.04005492106080055, 0.004180717281997204, 0.01337275467813015, 0.027583278715610504, 0.04215165227651596, 0.0017854993930086493, 0.00852936040610075, 0.025070304051041603, 0.036387670785188675, 0.006568743847310543, 0.03069424256682396, 0.0], [0.5623725056648254, 0.03102879226207733, 0.0041968850418925285, 0.00574301416054368, 0.049331143498420715, 0.008393230848014355, 0.04135695472359657, 0.024066884070634842, 0.007179825566709042, 0.01384216733276844, 0.009418676607310772, 0.04018738493323326, 0.004298693034797907, 0.031376276165246964, 0.047895416617393494, 0.05848383158445358, 0.010943828150629997, 0.03406505286693573, 0.015819406136870384]], [[1.0, 0.0, 0.0, 0.0, 0.0, 0.0, 0.0, 0.0, 0.0, 0.0, 0.0, 0.0, 0.0, 0.0, 0.0, 0.0, 0.0, 0.0, 0.0], [0.9893207550048828, 0.010679289698600769, 0.0, 0.0, 0.0, 0.0, 0.0, 0.0, 0.0, 0.0, 0.0, 0.0, 0.0, 0.0, 0.0, 0.0, 0.0, 0.0, 0.0], [0.9606646299362183, 0.019729912281036377, 0.01960545778274536, 0.0, 0.0, 0.0, 0.0, 0.0, 0.0, 0.0, 0.0, 0.0, 0.0, 0.0, 0.0, 0.0, 0.0, 0.0, 0.0], [0.8863980174064636, 0.02513999678194523, 0.04600143805146217, 0.042460668832063675, 0.0, 0.0, 0.0, 0.0, 0.0, 0.0, 0.0, 0.0, 0.0, 0.0, 0.0, 0.0, 0.0, 0.0, 0.0], [0.8450825214385986, 0.021772651001811028, 0.014122272841632366, 0.02616974711418152, 0.09285266697406769, 0.0, 0.0, 0.0, 0.0, 0.0, 0.0, 0.0, 0.0, 0.0, 0.0, 0.0, 0.0, 0.0, 0.0], [0.7361043095588684, 0.010907357558608055, 0.02458284981548786, 0.04671084135770798, 0.1362198442220688, 0.04547470808029175, 0.0, 0.0, 0.0, 0.0, 0.0, 0.0, 0.0, 0.0, 0.0, 0.0, 0.0, 0.0, 0.0], [0.6328489780426025, 0.016446344554424286, 0.01132794376462698, 0.021335648372769356, 0.1613818258047104, 0.05235636234283447, 0.10430292040109634, 0.0, 0.0, 0.0, 0.0, 0.0, 0.0, 0.0, 0.0, 0.0, 0.0, 0.0, 0.0], [0.2834344208240509, 0.00977883767336607, 0.020218167454004288, 0.04722313955426216, 0.10749944299459457, 0.10726560652256012, 0.3778775632381439, 0.04670276492834091, 0.0, 0.0, 0.0, 0.0, 0.0, 0.0, 0.0, 0.0, 0.0, 0.0, 0.0], [0.1347833126783371, 0.0030816085636615753, 0.022724950686097145, 0.08668079972267151, 0.12069151550531387, 0.1297733187675476, 0.36359235644340515, 0.12585227191448212, 0.01281979400664568, 0.0, 0.0, 0.0, 0.0, 0.0, 0.0, 0.0, 0.0, 0.0, 0.0], [0.36496278643608093, 0.019376013427972794, 0.01635495387017727, 0.05205782875418663, 0.19526900351047516, 0.0820881798863411, 0.12970776855945587, 0.0819377526640892, 0.012865365482866764, 0.045380305498838425, 0.0, 0.0, 0.0, 0.0, 0.0, 0.0, 0.0, 0.0, 0.0], [0.5413035154342651, 0.0062048183754086494, 0.003736287821084261, 0.014949876815080643, 0.12630809843540192, 0.031222853809595108, 0.10010730475187302, 0.055407073348760605, 0.005350358784198761, 0.0683806985616684, 0.04702911153435707, 0.0, 0.0, 0.0, 0.0, 0.0, 0.0, 0.0, 0.0], [0.3842250108718872, 0.013820692896842957, 0.00839181523770094, 0.024807581678032875, 0.1472361534833908, 0.05075143650174141, 0.12325172871351242, 0.032033346593379974, 0.015415217727422714, 0.09853659570217133, 0.07303997129201889, 0.028490440919995308, 0.0, 0.0, 0.0, 0.0, 0.0, 0.0, 0.0], [0.6015311479568481, 0.022927572950720787, 0.010156997479498386, 0.018674258142709732, 0.057690128684043884, 0.01597469486296177, 0.040083322674036026, 0.0370229035615921, 0.03140906244516373, 0.03691733628511429, 0.030874332413077354, 0.08221273869276047, 0.014525503851473331, 0.0, 0.0, 0.0, 0.0, 0.0, 0.0], [0.44109970331192017, 0.015018867328763008, 0.0215604230761528, 0.03336873650550842, 0.07045220583677292, 0.02217327617108822, 0.07160421460866928, 0.056538358330726624, 0.018887674435973167, 0.0660429447889328, 0.04128572344779968, 0.0875912681221962, 0.01279320940375328, 0.041583351790905, 0.0, 0.0, 0.0, 0.0, 0.0], [0.7035964131355286, 0.01630261540412903, 0.005774310324341059, 0.003696455853059888, 0.04709379002451897, 0.0060413917526602745, 0.021408837288618088, 0.008613092824816704, 0.014911690726876259, 0.020718617364764214, 0.012112368829548359, 0.0462125800549984, 0.0148757454007864, 0.046353600919246674, 0.03228841722011566, 0.0, 0.0, 0.0, 0.0], [0.6741302609443665, 0.009950513951480389, 0.0037006763741374016, 0.0032022413797676563, 0.046806078404188156, 0.011636750772595406, 0.024015013128519058, 0.010042240843176842, 0.009873788803815842, 0.014713006094098091, 0.015050740912556648, 0.05139167979359627, 0.004629586823284626, 0.03476822376251221, 0.06825890392065048, 0.017830345779657364, 0.0, 0.0, 0.0], [0.8085060119628906, 0.005562894977629185, 0.0016906572273001075, 0.0009968274971470237, 0.01664520613849163, 0.004219958558678627, 0.009488554671406746, 0.004329949151724577, 0.002425229409709573, 0.009111635386943817, 0.004999122582376003, 0.016254369169473648, 0.0043608141131699085, 0.009767222218215466, 0.05667528137564659, 0.032081689685583115, 0.012884552590548992, 0.0, 0.0], [0.7893309593200684, 0.008273604325950146, 0.001360886381007731, 0.0022131118457764387, 0.015429098159074783, 0.004041983280330896, 0.022860556840896606, 0.005109294317662716, 0.0015394843649119139, 0.006529997568577528, 0.005372996442019939, 0.010641010478138924, 0.003858048003166914, 0.006217833608388901, 0.024865809828042984, 0.015748750418424606, 0.030471811071038246, 0.046134695410728455, 0.0], [0.6570290327072144, 0.0018078937428072095, 0.0013230860931798816, 0.0013443371281027794, 0.015992922708392143, 0.001975802704691887, 0.0193414818495512, 0.004228582140058279, 0.0012693475000560284, 0.015229566022753716, 0.005415834486484528, 0.009628980420529842, 0.0020358848851174116, 0.008526836521923542, 0.041070304811000824, 0.025045352056622505, 0.030459370464086533, 0.1305335909128189, 0.02774181216955185]], [[1.0, 0.0, 0.0, 0.0, 0.0, 0.0, 0.0, 0.0, 0.0, 0.0, 0.0, 0.0, 0.0, 0.0, 0.0, 0.0, 0.0, 0.0, 0.0], [0.9773499369621277, 0.022650152444839478, 0.0, 0.0, 0.0, 0.0, 0.0, 0.0, 0.0, 0.0, 0.0, 0.0, 0.0, 0.0, 0.0, 0.0, 0.0, 0.0, 0.0], [0.806199312210083, 0.08321545273065567, 0.110585056245327, 0.0, 0.0, 0.0, 0.0, 0.0, 0.0, 0.0, 0.0, 0.0, 0.0, 0.0, 0.0, 0.0, 0.0, 0.0, 0.0], [0.44097375869750977, 0.04509148374199867, 0.44368407130241394, 0.07025061547756195, 0.0, 0.0, 0.0, 0.0, 0.0, 0.0, 0.0, 0.0, 0.0, 0.0, 0.0, 0.0, 0.0, 0.0, 0.0], [0.2818600535392761, 0.052309874445199966, 0.47936102747917175, 0.1567615270614624, 0.029707612469792366, 0.0, 0.0, 0.0, 0.0, 0.0, 0.0, 0.0, 0.0, 0.0, 0.0, 0.0, 0.0, 0.0, 0.0], [0.12671220302581787, 0.017193902283906937, 0.7205994725227356, 0.09170333296060562, 0.01521773636341095, 0.02857326529920101, 0.0, 0.0, 0.0, 0.0, 0.0, 0.0, 0.0, 0.0, 0.0, 0.0, 0.0, 0.0, 0.0], [0.25217169523239136, 0.020457694306969643, 0.3685404062271118, 0.1043875515460968, 0.028521914035081863, 0.12915106117725372, 0.09676968306303024, 0.0, 0.0, 0.0, 0.0, 0.0, 0.0, 0.0, 0.0, 0.0, 0.0, 0.0, 0.0], [0.353657066822052, 0.06309111416339874, 0.35581403970718384, 0.07728261500597, 0.007813910022377968, 0.03974442929029465, 0.06844054907560349, 0.034156255424022675, 0.0, 0.0, 0.0, 0.0, 0.0, 0.0, 0.0, 0.0, 0.0, 0.0, 0.0], [0.5993896126747131, 0.01301170326769352, 0.1250419020652771, 0.016461921855807304, 0.004080686718225479, 0.0058261435478925705, 0.012866451404988766, 0.09961606562137604, 0.12370550632476807, 0.0, 0.0, 0.0, 0.0, 0.0, 0.0, 0.0, 0.0, 0.0, 0.0], [0.576445996761322, 0.009365977719426155, 0.029668767005205154, 0.007293148897588253, 0.010278101079165936, 0.006180885247886181, 0.006641062442213297, 0.06604356318712234, 0.18916179239749908, 0.09892068803310394, 0.0, 0.0, 0.0, 0.0, 0.0, 0.0, 0.0, 0.0, 0.0], [0.25579512119293213, 0.006928435992449522, 0.021080544218420982, 0.0024607100058346987, 0.002778528491035104, 0.014728435315191746, 0.011608047410845757, 0.05047649145126343, 0.18505211174488068, 0.43247440457344055, 0.016617150977253914, 0.0, 0.0, 0.0, 0.0, 0.0, 0.0, 0.0, 0.0], [0.8174816966056824, 0.014221048913896084, 0.023912128061056137, 0.008275827392935753, 0.005442291498184204, 0.00722792511805892, 0.027778228744864464, 0.007023187354207039, 0.010554446838796139, 0.043485064059495926, 0.019437789916992188, 0.015160438604652882, 0.0, 0.0, 0.0, 0.0, 0.0, 0.0, 0.0], [0.9417471289634705, 0.0025403068866580725, 0.003383396891877055, 0.0015271042939275503, 0.0015081856399774551, 0.0004275392275303602, 0.00250421604141593, 0.001577109331265092, 0.0005232322146184742, 0.0030156525317579508, 0.0033570851664990187, 0.03255043178796768, 0.005338650196790695, 0.0, 0.0, 0.0, 0.0, 0.0, 0.0], [0.9216142892837524, 0.003559243632480502, 0.0025198927614837885, 0.0022562809754163027, 0.002132981549948454, 0.0005088665056973696, 0.0028738572727888823, 0.0012183531653136015, 0.00040131888817995787, 0.0025372845120728016, 0.0011173068778589368, 0.0036280800122767687, 0.017922932282090187, 0.03770929574966431, 0.0, 0.0, 0.0, 0.0, 0.0], [0.8168405890464783, 0.00795135647058487, 0.001470776740461588, 0.0015676491893827915, 0.0010125200496986508, 0.0016482719220221043, 0.001743467291817069, 0.001902894233353436, 0.0007674279040656984, 0.002875878941267729, 0.00264779687859118, 0.011775366961956024, 0.023722119629383087, 0.07919815927743912, 0.044875673949718475, 0.0, 0.0, 0.0, 0.0], [0.580095112323761, 0.0041686189360916615, 0.0024585353676229715, 0.0016128929564729333, 0.00133932800963521, 0.001052243635058403, 0.001808351487852633, 0.0001542913814773783, 0.0003633661544881761, 0.0026533242780715227, 0.001083686132915318, 0.0029129504691809416, 0.004996678791940212, 0.041562288999557495, 0.28034016489982605, 0.0733981505036354, 0.0, 0.0, 0.0], [0.3718891143798828, 0.0007892362773418427, 0.003008491825312376, 0.0005486182635650039, 0.001877741189673543, 0.0011418155627325177, 0.003263407852500677, 0.001547330874018371, 0.0006829282501712441, 0.0075027006678283215, 0.003403749316930771, 0.009067094884812832, 0.005136243999004364, 0.015933819115161896, 0.23160423338413239, 0.2747530937194824, 0.06785038858652115, 0.0, 0.0], [0.36455243825912476, 0.002449894091114402, 0.010706407949328423, 0.00222827959805727, 0.0019894500728696585, 0.001891384250484407, 0.004473310429602861, 0.0032349983230233192, 0.0019913024734705687, 0.014387177303433418, 0.002841153647750616, 0.009076775051653385, 0.004535627085715532, 0.009869156405329704, 0.1769270896911621, 0.1767190545797348, 0.15390995144844055, 0.05821652337908745, 0.0], [0.34936851263046265, 0.00042773238965310156, 0.005379935260862112, 0.00040283420821651816, 0.0008907670271582901, 0.00017139242845587432, 0.001853821100667119, 0.0015728769358247519, 0.001141223474405706, 0.004345830995589495, 0.003531243186444044, 0.010209819301962852, 0.0021516329143196344, 0.004452071152627468, 0.25815349817276, 0.20478922128677368, 0.06954764574766159, 0.06219935417175293, 0.019410574808716774]], [[1.0, 0.0, 0.0, 0.0, 0.0, 0.0, 0.0, 0.0, 0.0, 0.0, 0.0, 0.0, 0.0, 0.0, 0.0, 0.0, 0.0, 0.0, 0.0], [0.9855955839157104, 0.01440445613116026, 0.0, 0.0, 0.0, 0.0, 0.0, 0.0, 0.0, 0.0, 0.0, 0.0, 0.0, 0.0, 0.0, 0.0, 0.0, 0.0, 0.0], [0.9799343943595886, 0.011392543092370033, 0.00867320504039526, 0.0, 0.0, 0.0, 0.0, 0.0, 0.0, 0.0, 0.0, 0.0, 0.0, 0.0, 0.0, 0.0, 0.0, 0.0, 0.0], [0.8351650834083557, 0.04418479651212692, 0.001922382041811943, 0.11872772127389908, 0.0, 0.0, 0.0, 0.0, 0.0, 0.0, 0.0, 0.0, 0.0, 0.0, 0.0, 0.0, 0.0, 0.0, 0.0], [0.9564628601074219, 0.003015731694176793, 0.00012018372217426077, 0.003103661583736539, 0.03729751706123352, 0.0, 0.0, 0.0, 0.0, 0.0, 0.0, 0.0, 0.0, 0.0, 0.0, 0.0, 0.0, 0.0, 0.0], [0.932137131690979, 0.004536460619419813, 0.0007338421419262886, 0.01720241829752922, 0.03230532631278038, 0.013084962032735348, 0.0, 0.0, 0.0, 0.0, 0.0, 0.0, 0.0, 0.0, 0.0, 0.0, 0.0, 0.0, 0.0], [0.8732132315635681, 0.00663482490926981, 0.0003862910671159625, 0.006935397163033485, 0.04412407428026199, 0.010442144237458706, 0.05826406180858612, 0.0, 0.0, 0.0, 0.0, 0.0, 0.0, 0.0, 0.0, 0.0, 0.0, 0.0, 0.0], [0.9431867003440857, 0.004346392583101988, 0.0005792379379272461, 0.007963122799992561, 0.007263494655489922, 0.0035474111791700125, 0.016312217339873314, 0.016801325604319572, 0.0, 0.0, 0.0, 0.0, 0.0, 0.0, 0.0, 0.0, 0.0, 0.0, 0.0], [0.8926752805709839, 0.009976241737604141, 0.021553512662649155, 0.03978387638926506, 0.002250251593068242, 0.0006979848258197308, 0.003008113941177726, 0.00608039228245616, 0.023974275216460228, 0.0, 0.0, 0.0, 0.0, 0.0, 0.0, 0.0, 0.0, 0.0, 0.0], [0.7885497808456421, 0.014205333776772022, 0.0028741678688675165, 0.015471973456442356, 0.057630863040685654, 0.0036407767329365015, 0.01328496914356947, 0.06100635975599289, 0.02690720558166504, 0.016428524628281593, 0.0, 0.0, 0.0, 0.0, 0.0, 0.0, 0.0, 0.0, 0.0], [0.844866931438446, 0.001903317403048277, 0.00016851801774464548, 0.002863652305677533, 0.04080866649746895, 0.007239179220050573, 0.04303406551480293, 0.04491426423192024, 0.001755827572196722, 0.001558181014843285, 0.010887385345995426, 0.0, 0.0, 0.0, 0.0, 0.0, 0.0, 0.0, 0.0], [0.8990457653999329, 0.0024155867286026478, 0.00023175866226665676, 0.003212967421859503, 0.011387316510081291, 0.0017016022466123104, 0.020121509209275246, 0.01064164936542511, 0.0038972587790340185, 0.0022964284289628267, 0.005448529962450266, 0.03959955647587776, 0.0, 0.0, 0.0, 0.0, 0.0, 0.0, 0.0], [0.9431076645851135, 0.007258237339556217, 0.0009121248731389642, 0.0068864962086081505, 0.009097165428102016, 0.000784279138315469, 0.003584430320188403, 0.0020209148060530424, 0.0037882321048527956, 0.0016231808112934232, 0.0022775798570364714, 0.008136569522321224, 0.0105231162160635, 0.0, 0.0, 0.0, 0.0, 0.0, 0.0], [0.938532292842865, 0.0050855944864451885, 0.00013959132775198668, 0.002559592016041279, 0.013716034591197968, 0.0003323077398817986, 0.0034463992342352867, 0.0014602738665416837, 0.0013334602117538452, 0.0016857292503118515, 0.00277133216150105, 0.014310000464320183, 0.0027341993991285563, 0.011893150396645069, 0.0, 0.0, 0.0, 0.0, 0.0], [0.9173151850700378, 0.019355187192559242, 0.0005165142938494682, 0.005718371365219355, 0.004633122123777866, 0.0007485452224500477, 0.0022384407930076122, 0.0036530462093651295, 0.00852884165942669, 0.0015966747887432575, 0.000817755120806396, 0.008731624111533165, 0.006640974897891283, 0.011001842096447945, 0.00850385520607233, 0.0, 0.0, 0.0, 0.0], [0.8478154540061951, 0.003296349197626114, 0.0001395672297803685, 0.003135352861136198, 0.024692634120583534, 0.001787981833331287, 0.03912505879998207, 0.01766354963183403, 0.0028006257489323616, 0.0029453798197209835, 0.011732727289199829, 0.023609919473528862, 0.0029019182547926903, 0.009052046574652195, 0.0034507857635617256, 0.005850667599588633, 0.0, 0.0, 0.0], [0.461578369140625, 0.028770817443728447, 0.0004615367215592414, 0.00492453295737505, 0.23725280165672302, 0.018171578645706177, 0.03279910609126091, 0.013249782845377922, 0.004003824666142464, 0.000649149005766958, 0.03906213492155075, 0.037665657699108124, 0.006294755265116692, 0.026898955926299095, 0.013373051770031452, 0.03554512932896614, 0.03929878771305084, 0.0, 0.0], [0.490918904542923, 0.002397834090515971, 0.00011626240302575752, 0.002047055633738637, 0.04688328504562378, 0.01975257508456707, 0.2106868475675583, 0.03477241098880768, 0.0021206745877861977, 0.001635228400118649, 0.01772792637348175, 0.05754835158586502, 0.006911674980074167, 0.0433310829102993, 0.006725848652422428, 0.01847134158015251, 0.013505852781236172, 0.0244467593729496, 0.0], [0.78709876537323, 0.005661045201122761, 0.0001398978929501027, 0.0014767167158424854, 0.024083087220788002, 0.0026749917306005955, 0.06156184896826744, 0.014441337436437607, 0.0013451820705085993, 0.0006371423369273543, 0.007798486854881048, 0.022648073732852936, 0.003737884107977152, 0.015268511138856411, 0.003986551892012358, 0.008256704546511173, 0.0169532373547554, 0.015723062679171562, 0.006507432088255882]], [[1.0, 0.0, 0.0, 0.0, 0.0, 0.0, 0.0, 0.0, 0.0, 0.0, 0.0, 0.0, 0.0, 0.0, 0.0, 0.0, 0.0, 0.0, 0.0], [0.9841890335083008, 0.015810860320925713, 0.0, 0.0, 0.0, 0.0, 0.0, 0.0, 0.0, 0.0, 0.0, 0.0, 0.0, 0.0, 0.0, 0.0, 0.0, 0.0, 0.0], [0.9498459696769714, 0.028766430914402008, 0.021387774497270584, 0.0, 0.0, 0.0, 0.0, 0.0, 0.0, 0.0, 0.0, 0.0, 0.0, 0.0, 0.0, 0.0, 0.0, 0.0, 0.0], [0.9274930357933044, 0.011755185201764107, 0.03025474026799202, 0.03049694560468197, 0.0, 0.0, 0.0, 0.0, 0.0, 0.0, 0.0, 0.0, 0.0, 0.0, 0.0, 0.0, 0.0, 0.0, 0.0], [0.8936207294464111, 0.0054354011081159115, 0.021208764985203743, 0.040954940021038055, 0.03878000006079674, 0.0, 0.0, 0.0, 0.0, 0.0, 0.0, 0.0, 0.0, 0.0, 0.0, 0.0, 0.0, 0.0, 0.0], [0.9228829741477966, 0.013698920607566833, 0.024354325607419014, 0.022621003910899162, 0.010689860209822655, 0.005753044970333576, 0.0, 0.0, 0.0, 0.0, 0.0, 0.0, 0.0, 0.0, 0.0, 0.0, 0.0, 0.0, 0.0], [0.7879396677017212, 0.007563783787190914, 0.01922362484037876, 0.016536178067326546, 0.06107363477349281, 0.044091880321502686, 0.06357117742300034, 0.0, 0.0, 0.0, 0.0, 0.0, 0.0, 0.0, 0.0, 0.0, 0.0, 0.0, 0.0], [0.7264089584350586, 0.020310353487730026, 0.08133392035961151, 0.023563262075185776, 0.030757397413253784, 0.011358254589140415, 0.08575720340013504, 0.020510604605078697, 0.0, 0.0, 0.0, 0.0, 0.0, 0.0, 0.0, 0.0, 0.0, 0.0, 0.0], [0.7324778437614441, 0.019857360050082207, 0.155638188123703, 0.03130282834172249, 0.003933945670723915, 0.007284033112227917, 0.021777212619781494, 0.018318936228752136, 0.00940950307995081, 0.0, 0.0, 0.0, 0.0, 0.0, 0.0, 0.0, 0.0, 0.0, 0.0], [0.657538652420044, 0.00931887049227953, 0.022044844925403595, 0.011689899489283562, 0.0265350304543972, 0.014000446535646915, 0.08821181952953339, 0.12606488168239594, 0.01917004957795143, 0.02542548067867756, 0.0, 0.0, 0.0, 0.0, 0.0, 0.0, 0.0, 0.0, 0.0], [0.9174110889434814, 0.002558311680331826, 0.004752368666231632, 0.0017524657305330038, 0.0029293762054294348, 0.0029015138279646635, 0.024374818429350853, 0.016648445278406143, 0.0023304293863475323, 0.020132670179009438, 0.004208466038107872, 0.0, 0.0, 0.0, 0.0, 0.0, 0.0, 0.0, 0.0], [0.7924928069114685, 0.022162461653351784, 0.01980055682361126, 0.028653478249907494, 0.02452711947262287, 0.007440158631652594, 0.026605142280459404, 0.011906792409718037, 0.007701901253312826, 0.025799201801419258, 0.013675136491656303, 0.01923520676791668, 0.0, 0.0, 0.0, 0.0, 0.0, 0.0, 0.0], [0.8707262873649597, 0.028405943885445595, 0.010548495687544346, 0.011543967761099339, 0.005913958884775639, 0.0055607096292078495, 0.0067461454309523106, 0.006264915224164724, 0.00673797819763422, 0.01719452068209648, 0.006133413873612881, 0.019652096554636955, 0.004571505356580019, 0.0, 0.0, 0.0, 0.0, 0.0, 0.0], [0.7938233017921448, 0.005897923372685909, 0.0006264235125854611, 0.003906990401446819, 0.0557042695581913, 0.0023389148991554976, 0.01598246395587921, 0.0038639402482658625, 0.0013597061624750495, 0.0026313932612538338, 0.0027508484199643135, 0.024255575612187386, 0.005834698677062988, 0.08102357387542725, 0.0, 0.0, 0.0, 0.0, 0.0], [0.9116364121437073, 0.007422568742185831, 0.0018609582912176847, 0.004811884835362434, 0.009457048028707504, 0.0020013905595988035, 0.009127206169068813, 0.0026489209849387407, 0.0015226055402308702, 0.0024753843899816275, 0.0015267464332282543, 0.012098906561732292, 0.004250361118465662, 0.01625761203467846, 0.012901985086500645, 0.0, 0.0, 0.0, 0.0], [0.8243082165718079, 0.011033422313630581, 0.0017719637835398316, 0.00430197874084115, 0.015463938005268574, 0.0016902672359719872, 0.012726380489766598, 0.002691464964300394, 0.0015621846541762352, 0.003960978239774704, 0.002172197448089719, 0.006004737690091133, 0.0024404977448284626, 0.019981766119599342, 0.06636501103639603, 0.023524969816207886, 0.0, 0.0, 0.0], [0.5486274361610413, 0.005519600585103035, 0.0027670294512063265, 0.006389616057276726, 0.14252369105815887, 0.011510123498737812, 0.06019899621605873, 0.014243405312299728, 0.00218667509034276, 0.00692407600581646, 0.023546768352389336, 0.02309325337409973, 0.0029583703726530075, 0.01503739319741726, 0.05769152194261551, 0.05562954768538475, 0.021152447909116745, 0.0, 0.0], [0.5302588939666748, 0.003587064566090703, 0.003432496218010783, 0.010579957626760006, 0.02466462552547455, 0.0077367136254906654, 0.06091621145606041, 0.019725613296031952, 0.0009369620238430798, 0.00934656523168087, 0.021256236359477043, 0.028113802894949913, 0.003330997657030821, 0.011161593720316887, 0.09164927154779434, 0.07729952782392502, 0.06003853678703308, 0.035964883863925934, 0.0], [0.6429362297058105, 0.009267772547900677, 0.0025976470205932856, 0.004198592621833086, 0.02196873165667057, 0.0027574007399380207, 0.02376789040863514, 0.004494151566177607, 0.0018770063761621714, 0.00661404337733984, 0.007245989982038736, 0.010897185653448105, 0.0015351426554843783, 0.016917729750275612, 0.06275315582752228, 0.07527290284633636, 0.04784104600548744, 0.04532807320356369, 0.011729276739060879]], [[1.0, 0.0, 0.0, 0.0, 0.0, 0.0, 0.0, 0.0, 0.0, 0.0, 0.0, 0.0, 0.0, 0.0, 0.0, 0.0, 0.0, 0.0, 0.0], [0.9824873208999634, 0.01751275174319744, 0.0, 0.0, 0.0, 0.0, 0.0, 0.0, 0.0, 0.0, 0.0, 0.0, 0.0, 0.0, 0.0, 0.0, 0.0, 0.0, 0.0], [0.9568212032318115, 0.01669771783053875, 0.02648111991584301, 0.0, 0.0, 0.0, 0.0, 0.0, 0.0, 0.0, 0.0, 0.0, 0.0, 0.0, 0.0, 0.0, 0.0, 0.0, 0.0], [0.5934481024742126, 0.0085991770029068, 0.3740082383155823, 0.023944498971104622, 0.0, 0.0, 0.0, 0.0, 0.0, 0.0, 0.0, 0.0, 0.0, 0.0, 0.0, 0.0, 0.0, 0.0, 0.0], [0.3045355975627899, 0.01969514787197113, 0.5788043737411499, 0.07585882395505905, 0.021106120198965073, 0.0, 0.0, 0.0, 0.0, 0.0, 0.0, 0.0, 0.0, 0.0, 0.0, 0.0, 0.0, 0.0, 0.0], [0.5233663320541382, 0.022073211148381233, 0.2315836101770401, 0.06358255445957184, 0.10466587543487549, 0.05472844839096069, 0.0, 0.0, 0.0, 0.0, 0.0, 0.0, 0.0, 0.0, 0.0, 0.0, 0.0, 0.0, 0.0], [0.8914975523948669, 0.004505280405282974, 0.009969031438231468, 0.010893273167312145, 0.012585927732288837, 0.018606223165988922, 0.051942646503448486, 0.0, 0.0, 0.0, 0.0, 0.0, 0.0, 0.0, 0.0, 0.0, 0.0, 0.0, 0.0], [0.8118922710418701, 0.009376474656164646, 0.014789199456572533, 0.016739534214138985, 0.015997080132365227, 0.008665080182254314, 0.10517680644989014, 0.017363516613841057, 0.0, 0.0, 0.0, 0.0, 0.0, 0.0, 0.0, 0.0, 0.0, 0.0, 0.0], [0.7957396507263184, 0.0063966065645217896, 0.012760268524289131, 0.011830816976726055, 0.030440744012594223, 0.006418910343199968, 0.039743438363075256, 0.07935997098684311, 0.017309464514255524, 0.0, 0.0, 0.0, 0.0, 0.0, 0.0, 0.0, 0.0, 0.0, 0.0], [0.9563645124435425, 0.001387910102494061, 0.0009590418194420636, 0.0005961707211099565, 0.005642300006002188, 0.0011926500592380762, 0.006428327411413193, 0.006199309136718512, 0.007692719344049692, 0.013537026010453701, 0.0, 0.0, 0.0, 0.0, 0.0, 0.0, 0.0, 0.0, 0.0], [0.646308183670044, 0.00343738729134202, 0.00648178905248642, 0.0023151428904384375, 0.0015822283457964659, 0.0019265174632892013, 0.011337783187627792, 0.011016063392162323, 0.023801974952220917, 0.26791587471961975, 0.023876991122961044, 0.0, 0.0, 0.0, 0.0, 0.0, 0.0, 0.0, 0.0], [0.9258184432983398, 0.006006163079291582, 0.0017009798903018236, 0.005728809628635645, 0.009876715950667858, 0.0012000453425571322, 0.012011991813778877, 0.005760391242802143, 0.0013858985621482134, 0.00748838298022747, 0.01303309015929699, 0.009989074431359768, 0.0, 0.0, 0.0, 0.0, 0.0, 0.0, 0.0], [0.9644356966018677, 0.0014158354606479406, 0.0019397760042920709, 0.0011528900358825922, 0.0024449052289128304, 0.0013345193583518267, 0.001603140844963491, 0.0026006679981946945, 0.00120359449647367, 0.0023045670241117477, 0.003725192276760936, 0.014805879443883896, 0.0010332801612094045, 0.0, 0.0, 0.0, 0.0, 0.0, 0.0], [0.9532058238983154, 0.0009440661524422467, 0.00014241521421354264, 0.0009804113069549203, 0.017531530931591988, 0.0003292712790425867, 0.002247653901576996, 0.0015259881038218737, 0.00019580939260777086, 0.00041353583219461143, 0.0033387374132871628, 0.009646863676607609, 0.001472625881433487, 0.008025162853300571, 0.0, 0.0, 0.0, 0.0, 0.0], [0.9221222400665283, 0.0010209559695795178, 0.000354528718162328, 0.00042374475742690265, 0.0007367808721028268, 0.00023158859403338283, 0.0016265322919934988, 0.000578700564801693, 0.0004692509537562728, 0.002493468578904867, 0.001422563218511641, 0.013894686475396156, 0.00030425935983657837, 0.01583685725927353, 0.03848377615213394, 0.0, 0.0, 0.0, 0.0], [0.8747128248214722, 0.0008455321658402681, 0.001553747453726828, 0.0015157388988882303, 0.0022902179043740034, 0.00018292400636710227, 0.004906623624265194, 0.0002771086001303047, 0.0005737380706705153, 0.0016835402930155396, 0.0033002072013914585, 0.008442592807114124, 0.0004883282235823572, 0.012679402716457844, 0.06149417161941528, 0.02505323849618435, 0.0, 0.0, 0.0], [0.8230093121528625, 0.0003057454014196992, 0.0022633662447333336, 0.0006069776136428118, 0.006185745354741812, 0.0010377531871199608, 0.007927319034934044, 0.0029222050216048956, 0.00046423583989962935, 0.0032256918493658304, 0.00466408533975482, 0.00981297716498375, 9.905257320497185e-05, 0.0016967025585472584, 0.03240171819925308, 0.07609520852565765, 0.027281858026981354, 0.0, 0.0], [0.6316231489181519, 0.002261050045490265, 0.011629974469542503, 0.002233457285910845, 0.004024073015898466, 0.0012988252565264702, 0.009144525043666363, 0.002582902554422617, 0.0023441866505891085, 0.006203643977642059, 0.0027721524238586426, 0.009397134184837341, 0.0005283175851218402, 0.004614265635609627, 0.05912541598081589, 0.09565620124340057, 0.11091260612010956, 0.043648071587085724, 0.0], [0.5852125287055969, 0.0009768554009497166, 0.0059992847964167595, 0.001749709714204073, 0.004275077022612095, 0.0007381743052974343, 0.0058985380455851555, 0.004346674773842096, 0.002292153425514698, 0.003495724406093359, 0.0070096408016979694, 0.01521625742316246, 0.0003823889419436455, 0.004694020375609398, 0.04584791511297226, 0.09374330937862396, 0.10685605555772781, 0.08623678237199783, 0.025028862059116364]], [[1.0, 0.0, 0.0, 0.0, 0.0, 0.0, 0.0, 0.0, 0.0, 0.0, 0.0, 0.0, 0.0, 0.0, 0.0, 0.0, 0.0, 0.0, 0.0], [0.9808015823364258, 0.019198264926671982, 0.0, 0.0, 0.0, 0.0, 0.0, 0.0, 0.0, 0.0, 0.0, 0.0, 0.0, 0.0, 0.0, 0.0, 0.0, 0.0, 0.0], [0.8093709349632263, 0.12914429605007172, 0.06148494407534599, 0.0, 0.0, 0.0, 0.0, 0.0, 0.0, 0.0, 0.0, 0.0, 0.0, 0.0, 0.0, 0.0, 0.0, 0.0, 0.0], [0.7408996224403381, 0.03184487670660019, 0.188948392868042, 0.03830710053443909, 0.0, 0.0, 0.0, 0.0, 0.0, 0.0, 0.0, 0.0, 0.0, 0.0, 0.0, 0.0, 0.0, 0.0, 0.0], [0.6571775078773499, 0.01959921233355999, 0.14520737528800964, 0.11942016333341599, 0.0585956946015358, 0.0, 0.0, 0.0, 0.0, 0.0, 0.0, 0.0, 0.0, 0.0, 0.0, 0.0, 0.0, 0.0, 0.0], [0.23901349306106567, 0.047397248446941376, 0.2775973975658417, 0.11850336939096451, 0.2443051040172577, 0.07318335026502609, 0.0, 0.0, 0.0, 0.0, 0.0, 0.0, 0.0, 0.0, 0.0, 0.0, 0.0, 0.0, 0.0], [0.41941213607788086, 0.02291749231517315, 0.229150652885437, 0.08552756905555725, 0.08179625123739243, 0.11994366347789764, 0.04125218465924263, 0.0, 0.0, 0.0, 0.0, 0.0, 0.0, 0.0, 0.0, 0.0, 0.0, 0.0, 0.0], [0.5040897727012634, 0.06068044528365135, 0.10256752371788025, 0.062219101935625076, 0.0672440454363823, 0.03611193224787712, 0.1477154642343521, 0.019371692091226578, 0.0, 0.0, 0.0, 0.0, 0.0, 0.0, 0.0, 0.0, 0.0, 0.0, 0.0], [0.33430564403533936, 0.008143892511725426, 0.02106027491390705, 0.01159001886844635, 0.03412294387817383, 0.020621249452233315, 0.06482880562543869, 0.4257502257823944, 0.07957690209150314, 0.0, 0.0, 0.0, 0.0, 0.0, 0.0, 0.0, 0.0, 0.0, 0.0], [0.42117053270339966, 0.012422902509570122, 0.007310073357075453, 0.008768811821937561, 0.029659871011972427, 0.014791703782975674, 0.01123571116477251, 0.14931544661521912, 0.30955129861831665, 0.03577364981174469, 0.0, 0.0, 0.0, 0.0, 0.0, 0.0, 0.0, 0.0, 0.0], [0.2591201066970825, 0.012452183291316032, 0.012949441559612751, 0.006971707567572594, 0.022155966609716415, 0.00952313281595707, 0.015680741518735886, 0.11331844329833984, 0.244682177901268, 0.25655457377433777, 0.046591535210609436, 0.0, 0.0, 0.0, 0.0, 0.0, 0.0, 0.0, 0.0], [0.371011883020401, 0.018634459003806114, 0.005547638982534409, 0.010327877476811409, 0.03219982609152794, 0.005790108349174261, 0.08373770862817764, 0.19991524517536163, 0.026409516111016273, 0.042131636291742325, 0.04766733944416046, 0.15662674605846405, 0.0, 0.0, 0.0, 0.0, 0.0, 0.0, 0.0], [0.5922300815582275, 0.00623418390750885, 0.0022032468114048243, 0.002418819349259138, 0.012458942830562592, 0.0029305017087608576, 0.012982383370399475, 0.033388521522283554, 0.00537769915536046, 0.007358030881732702, 0.0210258886218071, 0.29026833176612854, 0.01112336479127407, 0.0, 0.0, 0.0, 0.0, 0.0, 0.0], [0.8147529363632202, 0.0017281973268836737, 0.0021298241335898638, 0.0015413934597745538, 0.012512210756540298, 0.0017937642987817526, 0.01559719443321228, 0.030293192714452744, 0.00129610241856426, 0.005766411777585745, 0.008986073546111584, 0.0644509419798851, 0.011800737120211124, 0.02735096588730812, 0.0, 0.0, 0.0, 0.0, 0.0], [0.8266637325286865, 0.002518163062632084, 0.0016461205668747425, 0.0042894743382930756, 0.007708578370511532, 0.0005949119804427028, 0.0017571398057043552, 0.0014451296301558614, 0.0005392595776356757, 0.0007662372081540525, 0.0009309348533861339, 0.013519742526113987, 0.013094945810735226, 0.056513309478759766, 0.06801223754882812, 0.0, 0.0, 0.0, 0.0], [0.7348403930664062, 0.0022652088664472103, 0.0018480921862646937, 0.001528481487184763, 0.007587498985230923, 0.0006377556710503995, 0.004875600337982178, 0.0010039227781817317, 0.00026626366889104247, 0.0009029622306115925, 0.001344221644103527, 0.0060245683416724205, 0.006311025470495224, 0.06334185600280762, 0.10744579136371613, 0.05977637320756912, 0.0, 0.0, 0.0], [0.6844885945320129, 0.0009260132792405784, 0.004724273458123207, 0.0014565562596544623, 0.00858316756784916, 0.0017955601215362549, 0.005731117445975542, 0.003484042827039957, 0.0012945374473929405, 0.006366364657878876, 0.004121353849768639, 0.02618747390806675, 0.006666860543191433, 0.0238396804779768, 0.04328639805316925, 0.10914456844329834, 0.06790342181921005, 0.0, 0.0], [0.49522003531455994, 0.001895556808449328, 0.005906166508793831, 0.005092100240290165, 0.006301292218267918, 0.002498708665370941, 0.005330889020115137, 0.0034132313448935747, 0.0038033181335777044, 0.010367093607783318, 0.0033666312228888273, 0.012908267788589, 0.012743213213980198, 0.008654429577291012, 0.016175493597984314, 0.059538766741752625, 0.2629282474517822, 0.08385658264160156, 0.0], [0.287319153547287, 0.0013063785154372454, 0.005160430446267128, 0.0030456159729510546, 0.01761808432638645, 0.0017189551144838333, 0.004571516066789627, 0.0037020999006927013, 0.007153764832764864, 0.007011506240814924, 0.004145835060626268, 0.01607879064977169, 0.0027273392770439386, 0.009117127396166325, 0.022509967908263206, 0.06825395673513412, 0.1415911763906479, 0.3307954967021942, 0.06617282330989838]], [[1.0, 0.0, 0.0, 0.0, 0.0, 0.0, 0.0, 0.0, 0.0, 0.0, 0.0, 0.0, 0.0, 0.0, 0.0, 0.0, 0.0, 0.0, 0.0], [0.9410984516143799, 0.05890142172574997, 0.0, 0.0, 0.0, 0.0, 0.0, 0.0, 0.0, 0.0, 0.0, 0.0, 0.0, 0.0, 0.0, 0.0, 0.0, 0.0, 0.0], [0.9425779581069946, 0.056873973459005356, 0.0005481481784954667, 0.0, 0.0, 0.0, 0.0, 0.0, 0.0, 0.0, 0.0, 0.0, 0.0, 0.0, 0.0, 0.0, 0.0, 0.0, 0.0], [0.8860301971435547, 0.09114610403776169, 0.0022638756781816483, 0.020559772849082947, 0.0, 0.0, 0.0, 0.0, 0.0, 0.0, 0.0, 0.0, 0.0, 0.0, 0.0, 0.0, 0.0, 0.0, 0.0], [0.9784237742424011, 0.006547890603542328, 0.0004391921975184232, 0.001506282016634941, 0.013083115220069885, 0.0, 0.0, 0.0, 0.0, 0.0, 0.0, 0.0, 0.0, 0.0, 0.0, 0.0, 0.0, 0.0, 0.0], [0.8574914336204529, 0.012797445990145206, 0.0006927316426299512, 0.009483622387051582, 0.09960983693599701, 0.019925041124224663, 0.0, 0.0, 0.0, 0.0, 0.0, 0.0, 0.0, 0.0, 0.0, 0.0, 0.0, 0.0, 0.0], [0.9430624842643738, 0.007149598561227322, 0.00045648045488633215, 0.0012300816597416997, 0.024629918858408928, 0.003584737190976739, 0.01988661102950573, 0.0, 0.0, 0.0, 0.0, 0.0, 0.0, 0.0, 0.0, 0.0, 0.0, 0.0, 0.0], [0.7185783982276917, 0.009759793058037758, 0.0021881533320993185, 0.004402053076773882, 0.06385848671197891, 0.009171885438263416, 0.1588890254497528, 0.03315213322639465, 0.0, 0.0, 0.0, 0.0, 0.0, 0.0, 0.0, 0.0, 0.0, 0.0, 0.0], [0.5355017781257629, 0.009781455621123314, 0.024712542071938515, 0.01260109432041645, 0.12182816863059998, 0.03617971017956734, 0.16332025825977325, 0.08531152456998825, 0.010763496160507202, 0.0, 0.0, 0.0, 0.0, 0.0, 0.0, 0.0, 0.0, 0.0, 0.0], [0.5834489464759827, 0.012137033976614475, 0.0007476825849153101, 0.004001805558800697, 0.25778836011886597, 0.007171916775405407, 0.10065575689077377, 0.023470913991332054, 0.004004721995443106, 0.006572851445525885, 0.0, 0.0, 0.0, 0.0, 0.0, 0.0, 0.0, 0.0, 0.0], [0.9027999639511108, 0.00343123241327703, 0.0013583445688709617, 0.0012836375972256064, 0.031026266515254974, 0.0034652065951377153, 0.023933695629239082, 0.012669537216424942, 0.002583887428045273, 0.005972603335976601, 0.011475611478090286, 0.0, 0.0, 0.0, 0.0, 0.0, 0.0, 0.0, 0.0], [0.8094208836555481, 0.025364190340042114, 0.0012073151301592588, 0.0031085109803825617, 0.04902072623372078, 0.003650782397016883, 0.04084594547748566, 0.009195935912430286, 0.006437154486775398, 0.005993326660245657, 0.011426880955696106, 0.03432825952768326, 0.0, 0.0, 0.0, 0.0, 0.0, 0.0, 0.0], [0.879584789276123, 0.021765192970633507, 0.0014468029839918017, 0.0027544402983039618, 0.026960164308547974, 0.003767759073525667, 0.01428213994950056, 0.015120452269911766, 0.004316731356084347, 0.0026223636232316494, 0.004801960662007332, 0.0192252267152071, 0.0033518890850245953, 0.0, 0.0, 0.0, 0.0, 0.0, 0.0], [0.8709074854850769, 0.025173813104629517, 0.00010234079672954977, 0.0005507921450771391, 0.022448118776082993, 0.0004945229738950729, 0.012099857442080975, 0.005058993585407734, 0.002146904356777668, 0.0017230870435014367, 0.004219295922666788, 0.0205019973218441, 0.004570982418954372, 0.030001772567629814, 0.0, 0.0, 0.0, 0.0, 0.0], [0.8138964772224426, 0.011553934775292873, 0.00029777668532915413, 0.002367675304412842, 0.019110288470983505, 0.001738987979479134, 0.018509823828935623, 0.006384863052517176, 0.0017799044726416469, 0.0024904748424887657, 0.0033468371257185936, 0.02432524599134922, 0.0032436102628707886, 0.05275348573923111, 0.038200657814741135, 0.0, 0.0, 0.0, 0.0], [0.6215291619300842, 0.028723597526550293, 0.0002918212558142841, 0.0022249610628932714, 0.0781913474202156, 0.003436534432694316, 0.09166528284549713, 0.009461434558033943, 0.003956922795623541, 0.007660293951630592, 0.018981974571943283, 0.02723688818514347, 0.0021504212636500597, 0.02898332104086876, 0.060761984437704086, 0.014744064770638943, 0.0, 0.0, 0.0], [0.7776862978935242, 0.013841306790709496, 0.0002829188306350261, 0.0008156684343703091, 0.06565461307764053, 0.0023573364596813917, 0.036053288727998734, 0.005718270316720009, 0.0035482761450111866, 0.004960410762578249, 0.008767510764300823, 0.018015319481492043, 0.0009149987599812448, 0.009998119436204433, 0.0275326706469059, 0.012410623021423817, 0.011442361399531364, 0.0, 0.0], [0.7356137037277222, 0.004307252820581198, 0.00017894119082484394, 0.0005121756694279611, 0.010865157470107079, 0.0017272933619096875, 0.05587209761142731, 0.00791925098747015, 0.0017893724143505096, 0.013061230070888996, 0.005441988352686167, 0.02548373118042946, 0.000823036883957684, 0.02023985981941223, 0.05910264700651169, 0.028477370738983154, 0.012389042414724827, 0.016195833683013916, 0.0], [0.5209857821464539, 0.006415477953851223, 0.00017127275350503623, 0.000971373578067869, 0.04272535815834999, 0.001596355577930808, 0.14961747825145721, 0.012504876591265202, 0.0026781675405800343, 0.02054912969470024, 0.017334386706352234, 0.030214309692382812, 0.0009526134235784411, 0.013970554806292057, 0.033733706921339035, 0.016771655529737473, 0.03177361562848091, 0.0851578414440155, 0.011876036413013935]], [[1.0, 0.0, 0.0, 0.0, 0.0, 0.0, 0.0, 0.0, 0.0, 0.0, 0.0, 0.0, 0.0, 0.0, 0.0, 0.0, 0.0, 0.0, 0.0], [0.9726885557174683, 0.02731158211827278, 0.0, 0.0, 0.0, 0.0, 0.0, 0.0, 0.0, 0.0, 0.0, 0.0, 0.0, 0.0, 0.0, 0.0, 0.0, 0.0, 0.0], [0.8998831510543823, 0.0533628836274147, 0.04675382375717163, 0.0, 0.0, 0.0, 0.0, 0.0, 0.0, 0.0, 0.0, 0.0, 0.0, 0.0, 0.0, 0.0, 0.0, 0.0, 0.0], [0.4993111193180084, 0.012845126911997795, 0.3862411379814148, 0.10160256177186966, 0.0, 0.0, 0.0, 0.0, 0.0, 0.0, 0.0, 0.0, 0.0, 0.0, 0.0, 0.0, 0.0, 0.0, 0.0], [0.3703598976135254, 0.013491789810359478, 0.32798075675964355, 0.23102448880672455, 0.05714297294616699, 0.0, 0.0, 0.0, 0.0, 0.0, 0.0, 0.0, 0.0, 0.0, 0.0, 0.0, 0.0, 0.0, 0.0], [0.3724658787250519, 0.010804519057273865, 0.17517079412937164, 0.13553428649902344, 0.2079807072877884, 0.09804368764162064, 0.0, 0.0, 0.0, 0.0, 0.0, 0.0, 0.0, 0.0, 0.0, 0.0, 0.0, 0.0, 0.0], [0.4732024371623993, 0.004449041560292244, 0.17996297776699066, 0.03492205590009689, 0.054781097918748856, 0.17661914229393005, 0.07606323063373566, 0.0, 0.0, 0.0, 0.0, 0.0, 0.0, 0.0, 0.0, 0.0, 0.0, 0.0, 0.0], [0.5005916357040405, 0.008822591975331306, 0.13477206230163574, 0.02751331217586994, 0.02756362408399582, 0.03701891750097275, 0.24018794298171997, 0.02352984808385372, 0.0, 0.0, 0.0, 0.0, 0.0, 0.0, 0.0, 0.0, 0.0, 0.0, 0.0], [0.7490763664245605, 0.009872080758213997, 0.0273445975035429, 0.0032693748362362385, 0.011208182200789452, 0.010729584842920303, 0.0330340713262558, 0.10470165312290192, 0.05076410993933678, 0.0, 0.0, 0.0, 0.0, 0.0, 0.0, 0.0, 0.0, 0.0, 0.0], [0.9462504982948303, 0.0011817587073892355, 0.0013035167939960957, 0.0003883607860188931, 0.0014523040736094117, 0.0016221442492678761, 0.005182632710784674, 0.011810370720922947, 0.01874370686709881, 0.012064631097018719, 0.0, 0.0, 0.0, 0.0, 0.0, 0.0, 0.0, 0.0, 0.0], [0.2381567358970642, 0.0034411875531077385, 0.01756269484758377, 0.0014774472219869494, 0.00561106950044632, 0.0025399411097168922, 0.009455186314880848, 0.008379100821912289, 0.0493268184363842, 0.6365547180175781, 0.02749510481953621, 0.0, 0.0, 0.0, 0.0, 0.0, 0.0, 0.0, 0.0], [0.8162512183189392, 0.004717259667813778, 0.02000928856432438, 0.0031245003920048475, 0.006673605181276798, 0.004609853029251099, 0.054457154124975204, 0.02455046772956848, 0.009275461547076702, 0.01874517649412155, 0.008757890202105045, 0.028828129172325134, 0.0, 0.0, 0.0, 0.0, 0.0, 0.0, 0.0], [0.90965336561203, 0.0007971465238370001, 0.0006249649450182915, 0.00026722796610556543, 0.001360544702038169, 0.000707453116774559, 0.01241907849907875, 0.016802387312054634, 0.0030518961139023304, 0.0021912860684096813, 0.005655977409332991, 0.03976377099752426, 0.0067048040218651295, 0.0, 0.0, 0.0, 0.0, 0.0, 0.0], [0.7941818237304688, 0.002147556282579899, 0.00467876298353076, 0.0005415357300080359, 0.004969221074134111, 0.0024719126522541046, 0.017390167340636253, 0.019905684515833855, 0.002656295197084546, 0.0027172197587788105, 0.004432528745383024, 0.08611945062875748, 0.024475250393152237, 0.033312611281871796, 0.0, 0.0, 0.0, 0.0, 0.0], [0.8744755387306213, 0.0010254144435748458, 0.0003374484949745238, 0.0010988182621076703, 0.0038827776443213224, 0.0007722961017861962, 0.0019195022759959102, 0.0018964644987136126, 0.00030209467513486743, 0.0014593997038900852, 0.0007845591753721237, 0.019638581201434135, 0.014916133135557175, 0.028687700629234314, 0.04880327731370926, 0.0, 0.0, 0.0, 0.0], [0.8798428177833557, 0.0003145077789667994, 0.0006464326870627701, 0.00013320150901563466, 0.0016684652073308825, 0.000528475153259933, 0.005339060910046101, 0.0009854185627773404, 0.00016968986892607063, 0.00038994732312858105, 0.0005669846432283521, 0.012094328179955482, 0.0022375965490937233, 0.008826209232211113, 0.059613049030303955, 0.02664380520582199, 0.0, 0.0, 0.0], [0.8341414332389832, 0.00026950996834784746, 0.0011640985030680895, 0.0001467765832785517, 0.0025443672202527523, 0.0010179970413446426, 0.0017682462930679321, 0.0013567470014095306, 0.000192188163055107, 0.002472851425409317, 0.0012746320571750402, 0.02965417318046093, 0.0015178993344306946, 0.010891458950936794, 0.02365870028734207, 0.06601078063249588, 0.02191803604364395, 0.0, 0.0], [0.5052722096443176, 0.001451446209102869, 0.003882811637595296, 0.0017507504671812057, 0.004720664117485285, 0.001715643797069788, 0.0027617665473371744, 0.0021680444478988647, 0.0011339293560013175, 0.007645139936357737, 0.0010620882967486978, 0.0074973199516534805, 0.0033406212460249662, 0.0037162175867706537, 0.036917805671691895, 0.058384206146001816, 0.2641271650791168, 0.09245212376117706, 0.0], [0.3545054495334625, 0.0011135704116895795, 0.0018569345120340586, 0.001410182099789381, 0.0155673548579216, 0.0011972840875387192, 0.002654315670952201, 0.0025410614907741547, 0.0019909103866666555, 0.0020128944888710976, 0.001641357783228159, 0.011220171116292477, 0.0012560253962874413, 0.0056065903045237064, 0.03486136719584465, 0.03815324231982231, 0.12475833296775818, 0.36259594559669495, 0.03505700081586838]], [[1.0, 0.0, 0.0, 0.0, 0.0, 0.0, 0.0, 0.0, 0.0, 0.0, 0.0, 0.0, 0.0, 0.0, 0.0, 0.0, 0.0, 0.0, 0.0], [0.9859506487846375, 0.014049306511878967, 0.0, 0.0, 0.0, 0.0, 0.0, 0.0, 0.0, 0.0, 0.0, 0.0, 0.0, 0.0, 0.0, 0.0, 0.0, 0.0, 0.0], [0.9963570237159729, 0.0022372156381607056, 0.001405755989253521, 0.0, 0.0, 0.0, 0.0, 0.0, 0.0, 0.0, 0.0, 0.0, 0.0, 0.0, 0.0, 0.0, 0.0, 0.0, 0.0], [0.9846459031105042, 0.0021922283340245485, 0.001349157770164311, 0.01181256864219904, 0.0, 0.0, 0.0, 0.0, 0.0, 0.0, 0.0, 0.0, 0.0, 0.0, 0.0, 0.0, 0.0, 0.0, 0.0], [0.9733906388282776, 0.0017585400491952896, 0.0016580465016886592, 0.0031692993361502886, 0.020023399963974953, 0.0, 0.0, 0.0, 0.0, 0.0, 0.0, 0.0, 0.0, 0.0, 0.0, 0.0, 0.0, 0.0, 0.0], [0.9677448868751526, 0.0005837390199303627, 0.0014137440593913198, 0.0020011216402053833, 0.011649263091385365, 0.0166070144623518, 0.0, 0.0, 0.0, 0.0, 0.0, 0.0, 0.0, 0.0, 0.0, 0.0, 0.0, 0.0, 0.0], [0.9079414010047913, 0.0011506504379212856, 0.001970138633623719, 0.0019255612278357148, 0.01752523146569729, 0.00393264414742589, 0.06555434316396713, 0.0, 0.0, 0.0, 0.0, 0.0, 0.0, 0.0, 0.0, 0.0, 0.0, 0.0, 0.0], [0.7921683192253113, 0.0024276396725326777, 0.005711777601391077, 0.00231927540153265, 0.005534760188311338, 0.005887764040380716, 0.16513851284980774, 0.020811907947063446, 0.0, 0.0, 0.0, 0.0, 0.0, 0.0, 0.0, 0.0, 0.0, 0.0, 0.0], [0.8297945261001587, 0.004706723149865866, 0.10885538905858994, 0.004314392805099487, 0.007244546432048082, 0.016227317973971367, 0.010818233713507652, 0.005581304896622896, 0.012457504868507385, 0.0, 0.0, 0.0, 0.0, 0.0, 0.0, 0.0, 0.0, 0.0, 0.0], [0.9442467093467712, 0.0020008517894893885, 0.001553417881950736, 0.002953092334792018, 0.0108440350741148, 0.0012488599168136716, 0.029193749651312828, 0.0012337487423792481, 0.0002896564838010818, 0.006435867864638567, 0.0, 0.0, 0.0, 0.0, 0.0, 0.0, 0.0, 0.0, 0.0], [0.8137626647949219, 0.0025231586769223213, 0.008382176049053669, 0.003996443469077349, 0.017501944676041603, 0.010826775804162025, 0.10499382019042969, 0.005416127387434244, 0.0016783627215772867, 0.02515331655740738, 0.005765215028077364, 0.0, 0.0, 0.0, 0.0, 0.0, 0.0, 0.0, 0.0], [0.8789103031158447, 0.006862116511911154, 0.0051123881712555885, 0.005596674047410488, 0.021075017750263214, 0.0021658719051629305, 0.05130010098218918, 0.004752147477120161, 0.0022210772149264812, 0.010924463160336018, 0.004562691319733858, 0.0065171560272574425, 0.0, 0.0, 0.0, 0.0, 0.0, 0.0, 0.0], [0.9497268199920654, 0.0053175948560237885, 0.002180337207391858, 0.002125378232449293, 0.005446644499897957, 0.002441450022161007, 0.01758175529539585, 0.0018692922312766314, 0.0006816472159698606, 0.0035346567165106535, 0.0008617385756224394, 0.006327525246888399, 0.0019050959963351488, 0.0, 0.0, 0.0, 0.0, 0.0, 0.0], [0.9244516491889954, 0.016351522877812386, 0.0029214131645858288, 0.005238174460828304, 0.015658950433135033, 0.002663767198100686, 0.01987106166779995, 0.000997181166894734, 0.0005146536277607083, 0.0020897239446640015, 0.001146192429587245, 0.002131714252755046, 0.0032706421334296465, 0.0026933352928608656, 0.0, 0.0, 0.0, 0.0, 0.0], [0.8436672687530518, 0.010494513437151909, 0.0034090413246303797, 0.003452819539234042, 0.03273085504770279, 0.003929261118173599, 0.035597026348114014, 0.00101940066087991, 0.00030633455025963485, 0.002227424643933773, 0.001265476574189961, 0.0021153485868126154, 0.002169782994315028, 0.0017054533818736672, 0.05591004341840744, 0.0, 0.0, 0.0, 0.0], [0.6919659376144409, 0.009246757254004478, 0.004904553294181824, 0.004424442537128925, 0.02270633354783058, 0.0029511230532079935, 0.1792791187763214, 0.002854649443179369, 0.0013757370179519057, 0.0116200540214777, 0.004350598901510239, 0.003360884729772806, 0.003976953215897083, 0.004769512917846441, 0.047133464366197586, 0.005079912953078747, 0.0, 0.0, 0.0], [0.7797258496284485, 0.0031405133195221424, 0.0014262335607782006, 0.002690016757696867, 0.12423618137836456, 0.009712329134345055, 0.044161174446344376, 0.002076043514534831, 0.00041647476609796286, 0.0033535556867718697, 0.001634596148505807, 0.0015669750282540917, 0.00047367039951495826, 0.001975063933059573, 0.01753164455294609, 0.0021638080943375826, 0.0037158390041440725, 0.0, 0.0], [0.742499828338623, 0.002377426950260997, 0.002919010119512677, 0.0016455071745440364, 0.01981985941529274, 0.02430632710456848, 0.14104938507080078, 0.0027915670070797205, 0.0008145729079842567, 0.019243214279413223, 0.002428520703688264, 0.002471757587045431, 0.000379951176000759, 0.0008610234945081174, 0.02525760605931282, 0.0030207731761038303, 0.0016028220998123288, 0.006510898936539888, 0.0], [0.5555903315544128, 0.0007489041890949011, 0.0018025945173576474, 0.0008998943376354873, 0.007043611723929644, 0.006521864794194698, 0.39653661847114563, 0.0020512836053967476, 0.000228380537009798, 0.0030998061411082745, 0.0015863921726122499, 0.0011373473098501563, 0.000496987602673471, 0.0015311489114537835, 0.007734907791018486, 0.002149002393707633, 0.0012895743129774928, 0.0020134225487709045, 0.00753792142495513]], [[1.0, 0.0, 0.0, 0.0, 0.0, 0.0, 0.0, 0.0, 0.0, 0.0, 0.0, 0.0, 0.0, 0.0, 0.0, 0.0, 0.0, 0.0, 0.0], [0.9545679092407227, 0.045432157814502716, 0.0, 0.0, 0.0, 0.0, 0.0, 0.0, 0.0, 0.0, 0.0, 0.0, 0.0, 0.0, 0.0, 0.0, 0.0, 0.0, 0.0], [0.9499781727790833, 0.04338586702942848, 0.006635934114456177, 0.0, 0.0, 0.0, 0.0, 0.0, 0.0, 0.0, 0.0, 0.0, 0.0, 0.0, 0.0, 0.0, 0.0, 0.0, 0.0], [0.8272727131843567, 0.0620134063065052, 0.04478606954216957, 0.06592784076929092, 0.0, 0.0, 0.0, 0.0, 0.0, 0.0, 0.0, 0.0, 0.0, 0.0, 0.0, 0.0, 0.0, 0.0, 0.0], [0.7982881665229797, 0.025558799505233765, 0.06141119822859764, 0.030133789405226707, 0.08460813015699387, 0.0, 0.0, 0.0, 0.0, 0.0, 0.0, 0.0, 0.0, 0.0, 0.0, 0.0, 0.0, 0.0, 0.0], [0.5502419471740723, 0.03089275024831295, 0.08229266852140427, 0.06049205735325813, 0.1324535310268402, 0.14362692832946777, 0.0, 0.0, 0.0, 0.0, 0.0, 0.0, 0.0, 0.0, 0.0, 0.0, 0.0, 0.0, 0.0], [0.8550538420677185, 0.04203592613339424, 0.020817536860704422, 0.014068295247852802, 0.029142683371901512, 0.017464693635702133, 0.02141694538295269, 0.0, 0.0, 0.0, 0.0, 0.0, 0.0, 0.0, 0.0, 0.0, 0.0, 0.0, 0.0], [0.5323464870452881, 0.0118201719596982, 0.020541340112686157, 0.015700774267315865, 0.05729498714208603, 0.022968769073486328, 0.2843281030654907, 0.05499930679798126, 0.0, 0.0, 0.0, 0.0, 0.0, 0.0, 0.0, 0.0, 0.0, 0.0, 0.0], [0.48078471422195435, 0.008476514369249344, 0.24136890470981598, 0.014124689623713493, 0.012567308731377125, 0.016005685552954674, 0.14867377281188965, 0.04612495377659798, 0.031873419880867004, 0.0, 0.0, 0.0, 0.0, 0.0, 0.0, 0.0, 0.0, 0.0, 0.0], [0.8425016403198242, 0.008758640848100185, 0.0036663415376096964, 0.004561013076454401, 0.043869130313396454, 0.00751869659870863, 0.04381142929196358, 0.027117567136883736, 0.0049333698116242886, 0.013262156397104263, 0.0, 0.0, 0.0, 0.0, 0.0, 0.0, 0.0, 0.0, 0.0], [0.7702891230583191, 0.010872798040509224, 0.024624213576316833, 0.0062416354194283485, 0.004443666897714138, 0.0065671163611114025, 0.0243496373295784, 0.12300761789083481, 0.007947095669806004, 0.015758706256747246, 0.005898307543247938, 0.0, 0.0, 0.0, 0.0, 0.0, 0.0, 0.0, 0.0], [0.7451181411743164, 0.00980382040143013, 0.012998773716390133, 0.01122327521443367, 0.021109743043780327, 0.00312047335319221, 0.032598838210105896, 0.03187359869480133, 0.0029154482763260603, 0.009490003809332848, 0.00837063230574131, 0.11137717217206955, 0.0, 0.0, 0.0, 0.0, 0.0, 0.0, 0.0], [0.8488075733184814, 0.011136380024254322, 0.010488254949450493, 0.005052439868450165, 0.005390622653067112, 0.002367726294323802, 0.01565823145210743, 0.016710691154003143, 0.0031056718435138464, 0.003471827832981944, 0.00339035177603364, 0.048286352306604385, 0.02613379806280136, 0.0, 0.0, 0.0, 0.0, 0.0, 0.0], [0.7848283052444458, 0.01099820714443922, 0.0023182511795312166, 0.00807635672390461, 0.013878390192985535, 0.00115145742893219, 0.00899355299770832, 0.011542253196239471, 0.0013098508352413774, 0.000654008355922997, 0.0022029781248420477, 0.05987580120563507, 0.014700370840728283, 0.0794702023267746, 0.0, 0.0, 0.0, 0.0, 0.0], [0.5428179502487183, 0.01595514453947544, 0.0062264334410429, 0.016025656834244728, 0.00855210144072771, 0.003078900743275881, 0.019747018814086914, 0.00922101829200983, 0.0015042799059301615, 0.001394006423652172, 0.002496598055586219, 0.1054907888174057, 0.03602741286158562, 0.1355428844690323, 0.09591978043317795, 0.0, 0.0, 0.0, 0.0], [0.4750998616218567, 0.00997717585414648, 0.003633420914411545, 0.008947576396167278, 0.01703883893787861, 0.005865431856364012, 0.14249706268310547, 0.023840460926294327, 0.003055812092497945, 0.00579851632937789, 0.008087053894996643, 0.051014192402362823, 0.018633486703038216, 0.08360205590724945, 0.05830000713467598, 0.08460903912782669, 0.0, 0.0, 0.0], [0.5000312328338623, 0.00724491523578763, 0.02364341914653778, 0.009388613514602184, 0.09901376813650131, 0.014891018159687519, 0.15221433341503143, 0.019075270742177963, 0.004186447709798813, 0.037493638694286346, 0.023539256304502487, 0.020339174196124077, 0.007603447884321213, 0.020002512261271477, 0.018942730501294136, 0.017232855781912804, 0.02515736036002636, 0.0, 0.0], [0.30853375792503357, 0.005424892995506525, 0.03953792527318001, 0.01154856663197279, 0.031923238188028336, 0.03717569634318352, 0.23780862987041473, 0.02203058823943138, 0.007401380222290754, 0.08834365755319595, 0.030839882791042328, 0.015831829980015755, 0.002581257140263915, 0.010374288074672222, 0.048550453037023544, 0.024853365495800972, 0.03780146688222885, 0.03943908214569092, 0.0], [0.1606021225452423, 0.003983950708061457, 0.020249471068382263, 0.009470365941524506, 0.021701373159885406, 0.030304351821541786, 0.42089590430259705, 0.022709455341100693, 0.010379640385508537, 0.11233924329280853, 0.03360738605260849, 0.010600661858916283, 0.0017067893641069531, 0.004686127416789532, 0.016387619078159332, 0.010325607843697071, 0.036249369382858276, 0.024120843037962914, 0.04967968910932541]], [[1.0, 0.0, 0.0, 0.0, 0.0, 0.0, 0.0, 0.0, 0.0, 0.0, 0.0, 0.0, 0.0, 0.0, 0.0, 0.0, 0.0, 0.0, 0.0], [0.987251341342926, 0.012748460285365582, 0.0, 0.0, 0.0, 0.0, 0.0, 0.0, 0.0, 0.0, 0.0, 0.0, 0.0, 0.0, 0.0, 0.0, 0.0, 0.0, 0.0], [0.9895448684692383, 0.0061018215492367744, 0.00435309112071991, 0.0, 0.0, 0.0, 0.0, 0.0, 0.0, 0.0, 0.0, 0.0, 0.0, 0.0, 0.0, 0.0, 0.0, 0.0, 0.0], [0.9584852457046509, 0.006117374170571566, 0.0155580323189497, 0.019839391112327576, 0.0, 0.0, 0.0, 0.0, 0.0, 0.0, 0.0, 0.0, 0.0, 0.0, 0.0, 0.0, 0.0, 0.0, 0.0], [0.9709615707397461, 0.003238155273720622, 0.009607119485735893, 0.005385744851082563, 0.010807124897837639, 0.0, 0.0, 0.0, 0.0, 0.0, 0.0, 0.0, 0.0, 0.0, 0.0, 0.0, 0.0, 0.0, 0.0], [0.9807748794555664, 0.0015738066285848618, 0.002289895433932543, 0.0013858318561688066, 0.003606327110901475, 0.010368948802351952, 0.0, 0.0, 0.0, 0.0, 0.0, 0.0, 0.0, 0.0, 0.0, 0.0, 0.0, 0.0, 0.0], [0.9397927522659302, 0.0032357010059058666, 0.0065866876393556595, 0.002912746276706457, 0.006829379126429558, 0.005148609634488821, 0.0354941226541996, 0.0, 0.0, 0.0, 0.0, 0.0, 0.0, 0.0, 0.0, 0.0, 0.0, 0.0, 0.0], [0.8755658268928528, 0.007233946118503809, 0.013672024942934513, 0.003660226706415415, 0.005033350083976984, 0.00713454419746995, 0.07526595890522003, 0.012434027157723904, 0.0, 0.0, 0.0, 0.0, 0.0, 0.0, 0.0, 0.0, 0.0, 0.0, 0.0], [0.8245531916618347, 0.006895813625305891, 0.1394709348678589, 0.0042859287932515144, 0.001661531045101583, 0.003039959818124771, 0.007973384112119675, 0.006990975700318813, 0.005128223914653063, 0.0, 0.0, 0.0, 0.0, 0.0, 0.0, 0.0, 0.0, 0.0, 0.0], [0.9304642081260681, 0.002628603018820286, 0.003056989284232259, 0.0024266086984425783, 0.007172842044383287, 0.0011572554940357804, 0.0409742072224617, 0.0026619641575962305, 0.0003960873873438686, 0.009061180986464024, 0.0, 0.0, 0.0, 0.0, 0.0, 0.0, 0.0, 0.0, 0.0], [0.8721174597740173, 0.0033583934418857098, 0.013574429787695408, 0.001877167378552258, 0.007812561467289925, 0.00857568345963955, 0.05215952917933464, 0.007570196874439716, 0.0018044051248580217, 0.022269822657108307, 0.008880292996764183, 0.0, 0.0, 0.0, 0.0, 0.0, 0.0, 0.0, 0.0], [0.889392614364624, 0.010066446848213673, 0.014888748526573181, 0.0037022759206593037, 0.009004950523376465, 0.0024802188854664564, 0.030871860682964325, 0.006243783049285412, 0.0025448044762015343, 0.01240437850356102, 0.004127060063183308, 0.0142728416249156, 0.0, 0.0, 0.0, 0.0, 0.0, 0.0, 0.0], [0.8883237838745117, 0.013216186314821243, 0.02174602635204792, 0.0029180364217609167, 0.0012475602561607957, 0.0012102504260838032, 0.007751205004751682, 0.00399773707613349, 0.002377700060606003, 0.01727263256907463, 0.0022308079060167074, 0.02263410948216915, 0.015073956921696663, 0.0, 0.0, 0.0, 0.0, 0.0, 0.0], [0.9063943028450012, 0.01216249167919159, 0.009471681900322437, 0.00385677139274776, 0.009158284403383732, 0.001665436546318233, 0.03286251798272133, 0.0013727082405239344, 0.0005257611628621817, 0.005001817364245653, 0.0011223159963265061, 0.00623095640912652, 0.0043547977693378925, 0.005820048972964287, 0.0, 0.0, 0.0, 0.0, 0.0], [0.7779032588005066, 0.012639139778912067, 0.011371307075023651, 0.00587095133960247, 0.027088960632681847, 0.003713960526511073, 0.028479255735874176, 0.002468396909534931, 0.0020641011651605368, 0.005383734591305256, 0.0017175426473841071, 0.010552613064646721, 0.013153712265193462, 0.008515973575413227, 0.08907701075077057, 0.0, 0.0, 0.0, 0.0], [0.7293699979782104, 0.007627648767083883, 0.008790240623056889, 0.0033275659661740065, 0.012482781894505024, 0.0028377349954098463, 0.11183183640241623, 0.0036432710476219654, 0.0010673279175534844, 0.01570107415318489, 0.004211138933897018, 0.006841717287898064, 0.008578245528042316, 0.006424408871680498, 0.06950921565294266, 0.007755729835480452, 0.0, 0.0, 0.0], [0.8496267795562744, 0.001719244639389217, 0.006329873111099005, 0.0029064826667308807, 0.04091951251029968, 0.005760050844401121, 0.0451446957886219, 0.002155228750780225, 0.00038205221062526107, 0.007651033345609903, 0.00472294120118022, 0.003186578629538417, 0.0006721007521264255, 0.0027117710560560226, 0.020041750743985176, 0.002951038768514991, 0.0031188749708235264, 0.0, 0.0], [0.8360958099365234, 0.002455399138852954, 0.011318697594106197, 0.0038685142062604427, 0.006329877767711878, 0.019718531519174576, 0.0454912893474102, 0.0059843966737389565, 0.0006569740944541991, 0.020125484094023705, 0.007010310888290405, 0.004017980769276619, 0.00021514191757887602, 0.002021316671743989, 0.019490884616971016, 0.006215911824256182, 0.004413282498717308, 0.00457020103931427, 0.0], [0.8006911873817444, 0.0016050759004428983, 0.0019841305911540985, 0.0010774818947538733, 0.003638223046436906, 0.005950220860540867, 0.13572059571743011, 0.00310027739033103, 0.0005948073812760413, 0.006682201288640499, 0.0031917255837470293, 0.003590427339076996, 0.0006261336384341121, 0.001207272638566792, 0.011444617994129658, 0.0051140738651156425, 0.003288352396339178, 0.003081626258790493, 0.007411548867821693]]], \"attentionHeadNames\": [\"L0H4\", \"L3H11\", \"L5H7\", \"L6H4\", \"L6H7\", \"L6H11\", \"L7H1\", \"L7H5\", \"L8H4\", \"L8H5\", \"L9H2\", \"L9H10\", \"L10H1\", \"L10H4\", \"L11H9\"], \"tokens\": [\"<|endoftext|>\", \"I\", \" thought\", \" this\", \" movie\", \" was\", \" perfect\", \",\", \" I\", \" loved\", \" it\", \".\", \" \", \"\\n\", \"Conclusion\", \":\", \" This\", \" movie\", \" is\"]}\n",
              "    )\n",
              "    </script>"
            ],
            "text/plain": [
              "<circuitsvis.utils.render.RenderedHTML at 0x7f5483984970>"
            ]
          },
          "metadata": {},
          "output_type": "display_data"
        }
      ],
      "source": [
        "heads = [(0, 4), (3, 11), (5, 7), (6, 4), (6, 7), (6,11), (7, 1), (7, 5), (8, 4), (8, 5), (9, 2), (9, 10), (10, 1), (10, 4), (11, 9)]\n",
        "attn_list = []\n",
        "for i in range(len(all_prompts)):\n",
        "    tokens, attn, names = get_attn_head_patterns(model, all_prompts[i], heads)\n",
        "    attn_list.append(attn)\n",
        "tokens, _, names = get_attn_head_patterns(model, all_prompts[0], heads)\n",
        "attn = torch.stack(attn_list, dim=0).mean(dim=0)\n",
        "cv.attention.attention_heads(tokens=tokens, attention=attn, attention_head_names=names)"
      ]
    }
  ],
  "metadata": {
    "accelerator": "GPU",
    "colab": {
      "gpuType": "V100",
      "provenance": []
    },
    "kernelspec": {
      "display_name": "Python 3",
      "name": "python3"
    },
    "language_info": {
      "codemirror_mode": {
        "name": "ipython",
        "version": 3
      },
      "file_extension": ".py",
      "mimetype": "text/x-python",
      "name": "python",
      "nbconvert_exporter": "python",
      "pygments_lexer": "ipython3",
      "version": "3.8.16"
    },
    "widgets": {
      "application/vnd.jupyter.widget-state+json": {
        "060d47cf5b6f41c88718bab7f8051605": {
          "model_module": "@jupyter-widgets/controls",
          "model_module_version": "1.5.0",
          "model_name": "HBoxModel",
          "state": {
            "_dom_classes": [],
            "_model_module": "@jupyter-widgets/controls",
            "_model_module_version": "1.5.0",
            "_model_name": "HBoxModel",
            "_view_count": null,
            "_view_module": "@jupyter-widgets/controls",
            "_view_module_version": "1.5.0",
            "_view_name": "HBoxView",
            "box_style": "",
            "children": [
              "IPY_MODEL_7af2d1ab4deb43fd92a42ed75ae25ad2",
              "IPY_MODEL_632337f6f66248b3b76e787240ccc7ef",
              "IPY_MODEL_2dbefb95b7654de7b2755da7c1984db4"
            ],
            "layout": "IPY_MODEL_9dfb85af3854401aaf9c78df8b7fcfcb"
          }
        },
        "1ba653baebb64ba7901e6ce126e78405": {
          "model_module": "@jupyter-widgets/controls",
          "model_module_version": "1.5.0",
          "model_name": "FloatProgressModel",
          "state": {
            "_dom_classes": [],
            "_model_module": "@jupyter-widgets/controls",
            "_model_module_version": "1.5.0",
            "_model_name": "FloatProgressModel",
            "_view_count": null,
            "_view_module": "@jupyter-widgets/controls",
            "_view_module_version": "1.5.0",
            "_view_name": "ProgressView",
            "bar_style": "success",
            "description": "",
            "description_tooltip": null,
            "layout": "IPY_MODEL_67b6c684fe184711b14f1a422db1df35",
            "max": 10,
            "min": 0,
            "orientation": "horizontal",
            "style": "IPY_MODEL_e12a19b2b89c431aa0626f31e03aa28c",
            "value": 10
          }
        },
        "271f12ce00b94e64b6b54b037f7b9fd6": {
          "model_module": "@jupyter-widgets/controls",
          "model_module_version": "1.5.0",
          "model_name": "DescriptionStyleModel",
          "state": {
            "_model_module": "@jupyter-widgets/controls",
            "_model_module_version": "1.5.0",
            "_model_name": "DescriptionStyleModel",
            "_view_count": null,
            "_view_module": "@jupyter-widgets/base",
            "_view_module_version": "1.2.0",
            "_view_name": "StyleView",
            "description_width": ""
          }
        },
        "2dbefb95b7654de7b2755da7c1984db4": {
          "model_module": "@jupyter-widgets/controls",
          "model_module_version": "1.5.0",
          "model_name": "HTMLModel",
          "state": {
            "_dom_classes": [],
            "_model_module": "@jupyter-widgets/controls",
            "_model_module_version": "1.5.0",
            "_model_name": "HTMLModel",
            "_view_count": null,
            "_view_module": "@jupyter-widgets/controls",
            "_view_module_version": "1.5.0",
            "_view_name": "HTMLView",
            "description": "",
            "description_tooltip": null,
            "layout": "IPY_MODEL_8c5f6ad2c9cc40d09bb9d486d1acf11b",
            "placeholder": "​",
            "style": "IPY_MODEL_f0d7566d7993456c9868129e75799a8f",
            "value": " 28/100 [00:01&lt;00:03, 20.32it/s]"
          }
        },
        "3f495fafbe764539be05a9fd5c507d36": {
          "model_module": "@jupyter-widgets/controls",
          "model_module_version": "1.5.0",
          "model_name": "ProgressStyleModel",
          "state": {
            "_model_module": "@jupyter-widgets/controls",
            "_model_module_version": "1.5.0",
            "_model_name": "ProgressStyleModel",
            "_view_count": null,
            "_view_module": "@jupyter-widgets/base",
            "_view_module_version": "1.2.0",
            "_view_name": "StyleView",
            "bar_color": null,
            "description_width": ""
          }
        },
        "4dc8be886a0c4676b31a464bdb2ab075": {
          "model_module": "@jupyter-widgets/base",
          "model_module_version": "1.2.0",
          "model_name": "LayoutModel",
          "state": {
            "_model_module": "@jupyter-widgets/base",
            "_model_module_version": "1.2.0",
            "_model_name": "LayoutModel",
            "_view_count": null,
            "_view_module": "@jupyter-widgets/base",
            "_view_module_version": "1.2.0",
            "_view_name": "LayoutView",
            "align_content": null,
            "align_items": null,
            "align_self": null,
            "border": null,
            "bottom": null,
            "display": null,
            "flex": null,
            "flex_flow": null,
            "grid_area": null,
            "grid_auto_columns": null,
            "grid_auto_flow": null,
            "grid_auto_rows": null,
            "grid_column": null,
            "grid_gap": null,
            "grid_row": null,
            "grid_template_areas": null,
            "grid_template_columns": null,
            "grid_template_rows": null,
            "height": null,
            "justify_content": null,
            "justify_items": null,
            "left": null,
            "margin": null,
            "max_height": null,
            "max_width": null,
            "min_height": null,
            "min_width": null,
            "object_fit": null,
            "object_position": null,
            "order": null,
            "overflow": null,
            "overflow_x": null,
            "overflow_y": null,
            "padding": null,
            "right": null,
            "top": null,
            "visibility": null,
            "width": null
          }
        },
        "5740798eedc348cba76f4fdf0f93e45f": {
          "model_module": "@jupyter-widgets/base",
          "model_module_version": "1.2.0",
          "model_name": "LayoutModel",
          "state": {
            "_model_module": "@jupyter-widgets/base",
            "_model_module_version": "1.2.0",
            "_model_name": "LayoutModel",
            "_view_count": null,
            "_view_module": "@jupyter-widgets/base",
            "_view_module_version": "1.2.0",
            "_view_name": "LayoutView",
            "align_content": null,
            "align_items": null,
            "align_self": null,
            "border": null,
            "bottom": null,
            "display": null,
            "flex": null,
            "flex_flow": null,
            "grid_area": null,
            "grid_auto_columns": null,
            "grid_auto_flow": null,
            "grid_auto_rows": null,
            "grid_column": null,
            "grid_gap": null,
            "grid_row": null,
            "grid_template_areas": null,
            "grid_template_columns": null,
            "grid_template_rows": null,
            "height": null,
            "justify_content": null,
            "justify_items": null,
            "left": null,
            "margin": null,
            "max_height": null,
            "max_width": null,
            "min_height": null,
            "min_width": null,
            "object_fit": null,
            "object_position": null,
            "order": null,
            "overflow": null,
            "overflow_x": null,
            "overflow_y": null,
            "padding": null,
            "right": null,
            "top": null,
            "visibility": null,
            "width": null
          }
        },
        "632337f6f66248b3b76e787240ccc7ef": {
          "model_module": "@jupyter-widgets/controls",
          "model_module_version": "1.5.0",
          "model_name": "FloatProgressModel",
          "state": {
            "_dom_classes": [],
            "_model_module": "@jupyter-widgets/controls",
            "_model_module_version": "1.5.0",
            "_model_name": "FloatProgressModel",
            "_view_count": null,
            "_view_module": "@jupyter-widgets/controls",
            "_view_module_version": "1.5.0",
            "_view_name": "ProgressView",
            "bar_style": "danger",
            "description": "",
            "description_tooltip": null,
            "layout": "IPY_MODEL_4dc8be886a0c4676b31a464bdb2ab075",
            "max": 100,
            "min": 0,
            "orientation": "horizontal",
            "style": "IPY_MODEL_3f495fafbe764539be05a9fd5c507d36",
            "value": 28
          }
        },
        "67b6c684fe184711b14f1a422db1df35": {
          "model_module": "@jupyter-widgets/base",
          "model_module_version": "1.2.0",
          "model_name": "LayoutModel",
          "state": {
            "_model_module": "@jupyter-widgets/base",
            "_model_module_version": "1.2.0",
            "_model_name": "LayoutModel",
            "_view_count": null,
            "_view_module": "@jupyter-widgets/base",
            "_view_module_version": "1.2.0",
            "_view_name": "LayoutView",
            "align_content": null,
            "align_items": null,
            "align_self": null,
            "border": null,
            "bottom": null,
            "display": null,
            "flex": null,
            "flex_flow": null,
            "grid_area": null,
            "grid_auto_columns": null,
            "grid_auto_flow": null,
            "grid_auto_rows": null,
            "grid_column": null,
            "grid_gap": null,
            "grid_row": null,
            "grid_template_areas": null,
            "grid_template_columns": null,
            "grid_template_rows": null,
            "height": null,
            "justify_content": null,
            "justify_items": null,
            "left": null,
            "margin": null,
            "max_height": null,
            "max_width": null,
            "min_height": null,
            "min_width": null,
            "object_fit": null,
            "object_position": null,
            "order": null,
            "overflow": null,
            "overflow_x": null,
            "overflow_y": null,
            "padding": null,
            "right": null,
            "top": null,
            "visibility": null,
            "width": null
          }
        },
        "70d4bd675181462dbe603b8a3f0d02ba": {
          "model_module": "@jupyter-widgets/controls",
          "model_module_version": "1.5.0",
          "model_name": "DescriptionStyleModel",
          "state": {
            "_model_module": "@jupyter-widgets/controls",
            "_model_module_version": "1.5.0",
            "_model_name": "DescriptionStyleModel",
            "_view_count": null,
            "_view_module": "@jupyter-widgets/base",
            "_view_module_version": "1.2.0",
            "_view_name": "StyleView",
            "description_width": ""
          }
        },
        "7af2d1ab4deb43fd92a42ed75ae25ad2": {
          "model_module": "@jupyter-widgets/controls",
          "model_module_version": "1.5.0",
          "model_name": "HTMLModel",
          "state": {
            "_dom_classes": [],
            "_model_module": "@jupyter-widgets/controls",
            "_model_module_version": "1.5.0",
            "_model_name": "HTMLModel",
            "_view_count": null,
            "_view_module": "@jupyter-widgets/controls",
            "_view_module_version": "1.5.0",
            "_view_name": "HTMLView",
            "description": "",
            "description_tooltip": null,
            "layout": "IPY_MODEL_5740798eedc348cba76f4fdf0f93e45f",
            "placeholder": "​",
            "style": "IPY_MODEL_70d4bd675181462dbe603b8a3f0d02ba",
            "value": " 28%"
          }
        },
        "84dd7e2b163241bdba11d66b1f952a8a": {
          "model_module": "@jupyter-widgets/base",
          "model_module_version": "1.2.0",
          "model_name": "LayoutModel",
          "state": {
            "_model_module": "@jupyter-widgets/base",
            "_model_module_version": "1.2.0",
            "_model_name": "LayoutModel",
            "_view_count": null,
            "_view_module": "@jupyter-widgets/base",
            "_view_module_version": "1.2.0",
            "_view_name": "LayoutView",
            "align_content": null,
            "align_items": null,
            "align_self": null,
            "border": null,
            "bottom": null,
            "display": null,
            "flex": null,
            "flex_flow": null,
            "grid_area": null,
            "grid_auto_columns": null,
            "grid_auto_flow": null,
            "grid_auto_rows": null,
            "grid_column": null,
            "grid_gap": null,
            "grid_row": null,
            "grid_template_areas": null,
            "grid_template_columns": null,
            "grid_template_rows": null,
            "height": null,
            "justify_content": null,
            "justify_items": null,
            "left": null,
            "margin": null,
            "max_height": null,
            "max_width": null,
            "min_height": null,
            "min_width": null,
            "object_fit": null,
            "object_position": null,
            "order": null,
            "overflow": null,
            "overflow_x": null,
            "overflow_y": null,
            "padding": null,
            "right": null,
            "top": null,
            "visibility": null,
            "width": null
          }
        },
        "8aea2b6f73fd45d981c07f551b5e09db": {
          "model_module": "@jupyter-widgets/controls",
          "model_module_version": "1.5.0",
          "model_name": "DescriptionStyleModel",
          "state": {
            "_model_module": "@jupyter-widgets/controls",
            "_model_module_version": "1.5.0",
            "_model_name": "DescriptionStyleModel",
            "_view_count": null,
            "_view_module": "@jupyter-widgets/base",
            "_view_module_version": "1.2.0",
            "_view_name": "StyleView",
            "description_width": ""
          }
        },
        "8c5f6ad2c9cc40d09bb9d486d1acf11b": {
          "model_module": "@jupyter-widgets/base",
          "model_module_version": "1.2.0",
          "model_name": "LayoutModel",
          "state": {
            "_model_module": "@jupyter-widgets/base",
            "_model_module_version": "1.2.0",
            "_model_name": "LayoutModel",
            "_view_count": null,
            "_view_module": "@jupyter-widgets/base",
            "_view_module_version": "1.2.0",
            "_view_name": "LayoutView",
            "align_content": null,
            "align_items": null,
            "align_self": null,
            "border": null,
            "bottom": null,
            "display": null,
            "flex": null,
            "flex_flow": null,
            "grid_area": null,
            "grid_auto_columns": null,
            "grid_auto_flow": null,
            "grid_auto_rows": null,
            "grid_column": null,
            "grid_gap": null,
            "grid_row": null,
            "grid_template_areas": null,
            "grid_template_columns": null,
            "grid_template_rows": null,
            "height": null,
            "justify_content": null,
            "justify_items": null,
            "left": null,
            "margin": null,
            "max_height": null,
            "max_width": null,
            "min_height": null,
            "min_width": null,
            "object_fit": null,
            "object_position": null,
            "order": null,
            "overflow": null,
            "overflow_x": null,
            "overflow_y": null,
            "padding": null,
            "right": null,
            "top": null,
            "visibility": null,
            "width": null
          }
        },
        "925217a8bd094ce2b75d04276ae6b0e2": {
          "model_module": "@jupyter-widgets/controls",
          "model_module_version": "1.5.0",
          "model_name": "HBoxModel",
          "state": {
            "_dom_classes": [],
            "_model_module": "@jupyter-widgets/controls",
            "_model_module_version": "1.5.0",
            "_model_name": "HBoxModel",
            "_view_count": null,
            "_view_module": "@jupyter-widgets/controls",
            "_view_module_version": "1.5.0",
            "_view_name": "HBoxView",
            "box_style": "",
            "children": [
              "IPY_MODEL_bc0f7801a05a4e64b9d2a471add3b8b0",
              "IPY_MODEL_1ba653baebb64ba7901e6ce126e78405",
              "IPY_MODEL_f5a0492c843244d28ba4af22735c5dc5"
            ],
            "layout": "IPY_MODEL_84dd7e2b163241bdba11d66b1f952a8a"
          }
        },
        "9dfb85af3854401aaf9c78df8b7fcfcb": {
          "model_module": "@jupyter-widgets/base",
          "model_module_version": "1.2.0",
          "model_name": "LayoutModel",
          "state": {
            "_model_module": "@jupyter-widgets/base",
            "_model_module_version": "1.2.0",
            "_model_name": "LayoutModel",
            "_view_count": null,
            "_view_module": "@jupyter-widgets/base",
            "_view_module_version": "1.2.0",
            "_view_name": "LayoutView",
            "align_content": null,
            "align_items": null,
            "align_self": null,
            "border": null,
            "bottom": null,
            "display": null,
            "flex": null,
            "flex_flow": null,
            "grid_area": null,
            "grid_auto_columns": null,
            "grid_auto_flow": null,
            "grid_auto_rows": null,
            "grid_column": null,
            "grid_gap": null,
            "grid_row": null,
            "grid_template_areas": null,
            "grid_template_columns": null,
            "grid_template_rows": null,
            "height": null,
            "justify_content": null,
            "justify_items": null,
            "left": null,
            "margin": null,
            "max_height": null,
            "max_width": null,
            "min_height": null,
            "min_width": null,
            "object_fit": null,
            "object_position": null,
            "order": null,
            "overflow": null,
            "overflow_x": null,
            "overflow_y": null,
            "padding": null,
            "right": null,
            "top": null,
            "visibility": null,
            "width": null
          }
        },
        "bc0f7801a05a4e64b9d2a471add3b8b0": {
          "model_module": "@jupyter-widgets/controls",
          "model_module_version": "1.5.0",
          "model_name": "HTMLModel",
          "state": {
            "_dom_classes": [],
            "_model_module": "@jupyter-widgets/controls",
            "_model_module_version": "1.5.0",
            "_model_name": "HTMLModel",
            "_view_count": null,
            "_view_module": "@jupyter-widgets/controls",
            "_view_module_version": "1.5.0",
            "_view_name": "HTMLView",
            "description": "",
            "description_tooltip": null,
            "layout": "IPY_MODEL_c147fa34e381483697aa1d664653fcfa",
            "placeholder": "​",
            "style": "IPY_MODEL_271f12ce00b94e64b6b54b037f7b9fd6",
            "value": "100%"
          }
        },
        "bd1a1d82f30e4c7b8ffa856daafa6f16": {
          "model_module": "@jupyter-widgets/base",
          "model_module_version": "1.2.0",
          "model_name": "LayoutModel",
          "state": {
            "_model_module": "@jupyter-widgets/base",
            "_model_module_version": "1.2.0",
            "_model_name": "LayoutModel",
            "_view_count": null,
            "_view_module": "@jupyter-widgets/base",
            "_view_module_version": "1.2.0",
            "_view_name": "LayoutView",
            "align_content": null,
            "align_items": null,
            "align_self": null,
            "border": null,
            "bottom": null,
            "display": null,
            "flex": null,
            "flex_flow": null,
            "grid_area": null,
            "grid_auto_columns": null,
            "grid_auto_flow": null,
            "grid_auto_rows": null,
            "grid_column": null,
            "grid_gap": null,
            "grid_row": null,
            "grid_template_areas": null,
            "grid_template_columns": null,
            "grid_template_rows": null,
            "height": null,
            "justify_content": null,
            "justify_items": null,
            "left": null,
            "margin": null,
            "max_height": null,
            "max_width": null,
            "min_height": null,
            "min_width": null,
            "object_fit": null,
            "object_position": null,
            "order": null,
            "overflow": null,
            "overflow_x": null,
            "overflow_y": null,
            "padding": null,
            "right": null,
            "top": null,
            "visibility": null,
            "width": null
          }
        },
        "c147fa34e381483697aa1d664653fcfa": {
          "model_module": "@jupyter-widgets/base",
          "model_module_version": "1.2.0",
          "model_name": "LayoutModel",
          "state": {
            "_model_module": "@jupyter-widgets/base",
            "_model_module_version": "1.2.0",
            "_model_name": "LayoutModel",
            "_view_count": null,
            "_view_module": "@jupyter-widgets/base",
            "_view_module_version": "1.2.0",
            "_view_name": "LayoutView",
            "align_content": null,
            "align_items": null,
            "align_self": null,
            "border": null,
            "bottom": null,
            "display": null,
            "flex": null,
            "flex_flow": null,
            "grid_area": null,
            "grid_auto_columns": null,
            "grid_auto_flow": null,
            "grid_auto_rows": null,
            "grid_column": null,
            "grid_gap": null,
            "grid_row": null,
            "grid_template_areas": null,
            "grid_template_columns": null,
            "grid_template_rows": null,
            "height": null,
            "justify_content": null,
            "justify_items": null,
            "left": null,
            "margin": null,
            "max_height": null,
            "max_width": null,
            "min_height": null,
            "min_width": null,
            "object_fit": null,
            "object_position": null,
            "order": null,
            "overflow": null,
            "overflow_x": null,
            "overflow_y": null,
            "padding": null,
            "right": null,
            "top": null,
            "visibility": null,
            "width": null
          }
        },
        "e12a19b2b89c431aa0626f31e03aa28c": {
          "model_module": "@jupyter-widgets/controls",
          "model_module_version": "1.5.0",
          "model_name": "ProgressStyleModel",
          "state": {
            "_model_module": "@jupyter-widgets/controls",
            "_model_module_version": "1.5.0",
            "_model_name": "ProgressStyleModel",
            "_view_count": null,
            "_view_module": "@jupyter-widgets/base",
            "_view_module_version": "1.2.0",
            "_view_name": "StyleView",
            "bar_color": null,
            "description_width": ""
          }
        },
        "f0d7566d7993456c9868129e75799a8f": {
          "model_module": "@jupyter-widgets/controls",
          "model_module_version": "1.5.0",
          "model_name": "DescriptionStyleModel",
          "state": {
            "_model_module": "@jupyter-widgets/controls",
            "_model_module_version": "1.5.0",
            "_model_name": "DescriptionStyleModel",
            "_view_count": null,
            "_view_module": "@jupyter-widgets/base",
            "_view_module_version": "1.2.0",
            "_view_name": "StyleView",
            "description_width": ""
          }
        },
        "f5a0492c843244d28ba4af22735c5dc5": {
          "model_module": "@jupyter-widgets/controls",
          "model_module_version": "1.5.0",
          "model_name": "HTMLModel",
          "state": {
            "_dom_classes": [],
            "_model_module": "@jupyter-widgets/controls",
            "_model_module_version": "1.5.0",
            "_model_name": "HTMLModel",
            "_view_count": null,
            "_view_module": "@jupyter-widgets/controls",
            "_view_module_version": "1.5.0",
            "_view_name": "HTMLView",
            "description": "",
            "description_tooltip": null,
            "layout": "IPY_MODEL_bd1a1d82f30e4c7b8ffa856daafa6f16",
            "placeholder": "​",
            "style": "IPY_MODEL_8aea2b6f73fd45d981c07f551b5e09db",
            "value": " 10/10 [00:00&lt;00:00, 20.09it/s]"
          }
        }
      }
    }
  },
  "nbformat": 4,
  "nbformat_minor": 0
}
